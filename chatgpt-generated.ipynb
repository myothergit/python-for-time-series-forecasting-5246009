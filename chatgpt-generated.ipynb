{
 "cells": [
  {
   "cell_type": "markdown",
   "id": "0611d04e",
   "metadata": {},
   "source": [
    "# Import Required Libraries\n",
    "Import pandas, matplotlib.pyplot, and seaborn for data manipulation and visualization."
   ]
  },
  {
   "cell_type": "code",
   "execution_count": null,
   "id": "bcc66236",
   "metadata": {},
   "outputs": [],
   "source": [
    "# Import Required Libraries\n",
    "import pandas as pd\n",
    "import matplotlib.pyplot as plt\n",
    "import seaborn as sns"
   ]
  },
  {
   "cell_type": "markdown",
   "id": "603c16a1",
   "metadata": {},
   "source": [
    "# Load the Dataset\n",
    "Load the energy demand dataset from the specified path and set the index as datetime."
   ]
  },
  {
   "cell_type": "code",
   "execution_count": null,
   "id": "1cfc6da2",
   "metadata": {},
   "outputs": [],
   "source": [
    "# Load the Dataset\n",
    "file_path = \"path/to/energy_demand.csv\"\n",
    "data = pd.read_csv(file_path, parse_dates=[\"datetime\"], index_col=\"datetime\")\n",
    "data.head()"
   ]
  },
  {
   "cell_type": "markdown",
   "id": "a9aecc12",
   "metadata": {},
   "source": [
    "# Create Time-based Features\n",
    "Extract features such as hour, day, weekday, month, season, year, week, and date from the datetime index."
   ]
  },
  {
   "cell_type": "code",
   "execution_count": null,
   "id": "7f20ea25",
   "metadata": {},
   "outputs": [],
   "source": [
    "# Create Time-based Features\n",
    "data[\"hour\"] = data.index.hour\n",
    "data[\"day\"] = data.index.day\n",
    "data[\"weekday\"] = data.index.weekday\n",
    "data[\"month\"] = data.index.month\n",
    "data[\"year\"] = data.index.year\n",
    "data[\"week\"] = data.index.isocalendar().week\n",
    "data[\"date\"] = data.index.date\n",
    "\n",
    "# Define seasons\n",
    "def get_season(month):\n",
    "    if month in [12, 1, 2]:\n",
    "        return \"Winter\"\n",
    "    elif month in [3, 4, 5]:\n",
    "        return \"Spring\"\n",
    "    elif month in [6, 7, 8]:\n",
    "        return \"Summer\"\n",
    "    else:\n",
    "        return \"Autumn\"\n",
    "\n",
    "data[\"season\"] = data[\"month\"].apply(get_season)\n",
    "data.head()"
   ]
  },
  {
   "cell_type": "markdown",
   "id": "fff37a51",
   "metadata": {},
   "source": [
    "# Visualize Average Daily Load Curve\n",
    "Group data by hour and plot the average energy demand for each hour of the day."
   ]
  },
  {
   "cell_type": "code",
   "execution_count": null,
   "id": "2da3574a",
   "metadata": {},
   "outputs": [],
   "source": [
    "# Visualize Average Daily Load Curve\n",
    "avg_hourly_demand = data.groupby(\"hour\")[\"energy_demand\"].mean()\n",
    "plt.figure(figsize=(10, 6))\n",
    "avg_hourly_demand.plot(kind=\"line\", marker=\"o\")\n",
    "plt.title(\"Average Daily Load Curve\")\n",
    "plt.xlabel(\"Hour of Day\")\n",
    "plt.ylabel(\"Energy Demand\")\n",
    "plt.grid()\n",
    "plt.show()"
   ]
  },
  {
   "cell_type": "markdown",
   "id": "c7f333ec",
   "metadata": {},
   "source": [
    "# Analyze Average Demand by Weekday\n",
    "Group data by weekday and plot the average energy demand for each day of the week as a bar chart."
   ]
  },
  {
   "cell_type": "code",
   "execution_count": null,
   "id": "41b9ecb4",
   "metadata": {},
   "outputs": [],
   "source": [
    "# Analyze Average Demand by Weekday\n",
    "avg_weekday_demand = data.groupby(\"weekday\")[\"energy_demand\"].mean()\n",
    "plt.figure(figsize=(10, 6))\n",
    "avg_weekday_demand.plot(kind=\"bar\", color=\"skyblue\")\n",
    "plt.title(\"Average Energy Demand by Weekday\")\n",
    "plt.xlabel(\"Weekday (0=Monday, 6=Sunday)\")\n",
    "plt.ylabel(\"Energy Demand\")\n",
    "plt.grid(axis=\"y\")\n",
    "plt.show()"
   ]
  },
  {
   "cell_type": "markdown",
   "id": "bf13d7fe",
   "metadata": {},
   "source": [
    "# Plot Seasonal Daily Load Curves\n",
    "Group data by season and hour, then plot the seasonal daily load curves."
   ]
  },
  {
   "cell_type": "code",
   "execution_count": null,
   "id": "2f8f6890",
   "metadata": {},
   "outputs": [],
   "source": [
    "# Plot Seasonal Daily Load Curves\n",
    "plt.figure(figsize=(12, 8))\n",
    "for season, group in data.groupby(\"season\"):\n",
    "    avg_seasonal_demand = group.groupby(\"hour\")[\"energy_demand\"].mean()\n",
    "    plt.plot(avg_seasonal_demand, label=season)\n",
    "\n",
    "plt.title(\"Seasonal Daily Load Curves\")\n",
    "plt.xlabel(\"Hour of Day\")\n",
    "plt.ylabel(\"Energy Demand\")\n",
    "plt.legend()\n",
    "plt.grid()\n",
    "plt.show()"
   ]
  },
  {
   "cell_type": "markdown",
   "id": "0b732896",
   "metadata": {},
   "source": [
    "# Generate Hour vs Day of Week Heatmap\n",
    "Create a pivot table of energy demand by hour and weekday, and visualize it as a heatmap using seaborn."
   ]
  },
  {
   "cell_type": "code",
   "execution_count": null,
   "id": "57ab4bf2",
   "metadata": {},
   "outputs": [],
   "source": [
    "# Generate Hour vs Day of Week Heatmap\n",
    "heatmap_data = data.pivot_table(values=\"energy_demand\", index=\"weekday\", columns=\"hour\", aggfunc=\"mean\")\n",
    "plt.figure(figsize=(12, 6))\n",
    "sns.heatmap(heatmap_data, cmap=\"coolwarm\", annot=False)\n",
    "plt.title(\"Energy Demand Heatmap (Hour vs Weekday)\")\n",
    "plt.xlabel(\"Hour of Day\")\n",
    "plt.ylabel(\"Weekday (0=Monday, 6=Sunday)\")\n",
    "plt.show()"
   ]
  },
  {
   "cell_type": "markdown",
   "id": "a5bed0a4",
   "metadata": {},
   "source": [
    "# Visualize Weekly Resampled Series\n",
    "Resample the data to weekly frequency and plot the average energy demand."
   ]
  },
  {
   "cell_type": "code",
   "execution_count": null,
   "id": "31000f28",
   "metadata": {},
   "outputs": [],
   "source": [
    "# Visualize Weekly Resampled Series\n",
    "weekly_data = data[\"energy_demand\"].resample(\"W\").mean()\n",
    "plt.figure(figsize=(12, 6))\n",
    "weekly_data.plot()\n",
    "plt.title(\"Weekly Resampled Energy Demand\")\n",
    "plt.xlabel(\"Week\")\n",
    "plt.ylabel(\"Energy Demand\")\n",
    "plt.grid()\n",
    "plt.show()"
   ]
  },
  {
   "cell_type": "markdown",
   "id": "345421a2",
   "metadata": {},
   "source": [
    "# Analyze Rolling Mean (30 Days)\n",
    "Calculate a 30-day rolling mean of energy demand and plot it alongside the raw data."
   ]
  },
  {
   "cell_type": "code",
   "execution_count": null,
   "id": "45ef96b6",
   "metadata": {},
   "outputs": [],
   "source": [
    "# Analyze Rolling Mean (30 Days)\n",
    "data[\"rolling_mean_30d\"] = data[\"energy_demand\"].rolling(window=30).mean()\n",
    "plt.figure(figsize=(12, 6))\n",
    "data[\"energy_demand\"].plot(label=\"Raw Data\", alpha=0.5)\n",
    "data[\"rolling_mean_30d\"].plot(label=\"30-Day Rolling Mean\", color=\"red\")\n",
    "plt.title(\"Energy Demand with 30-Day Rolling Mean\")\n",
    "plt.xlabel(\"Date\")\n",
    "plt.ylabel(\"Energy Demand\")\n",
    "plt.legend()\n",
    "plt.grid()\n",
    "plt.show()"
   ]
  },
  {
   "cell_type": "markdown",
   "id": "a81db1e6",
   "metadata": {},
   "source": [
    "# Energy Demand During 2020\n",
    "Filter the data for the year 2020 and plot the energy demand for that year."
   ]
  },
  {
   "cell_type": "code",
   "execution_count": null,
   "id": "3c3d4843",
   "metadata": {},
   "outputs": [],
   "source": [
    "# Energy Demand During 2020\n",
    "data_2020 = data[\"2020\"]\n",
    "plt.figure(figsize=(12, 6))\n",
    "data_2020[\"energy_demand\"].plot()\n",
    "plt.title(\"Energy Demand During 2020\")\n",
    "plt.xlabel(\"Date\")\n",
    "plt.ylabel(\"Energy Demand\")\n",
    "plt.grid()\n",
    "plt.show()"
   ]
  },
  {
   "cell_type": "markdown",
   "id": "8ed53689",
   "metadata": {},
   "source": [
    "# Peak vs Non-Peak Analysis\n",
    "Classify hours as peak or non-peak and compare the average energy demand for these periods using a bar chart."
   ]
  },
  {
   "cell_type": "code",
   "execution_count": null,
   "id": "43d25d61",
   "metadata": {},
   "outputs": [],
   "source": [
    "# Peak vs Non-Peak Analysis\n",
    "def classify_peak(hour):\n",
    "    return \"Peak\" if 7 <= hour <= 19 else \"Non-Peak\"\n",
    "\n",
    "data[\"peak_status\"] = data[\"hour\"].apply(classify_peak)\n",
    "avg_peak_demand = data.groupby(\"peak_status\")[\"energy_demand\"].mean()\n",
    "\n",
    "plt.figure(figsize=(8, 6))\n",
    "avg_peak_demand.plot(kind=\"bar\", color=[\"orange\", \"blue\"])\n",
    "plt.title(\"Average Energy Demand: Peak vs Non-Peak\")\n",
    "plt.xlabel(\"Time Period\")\n",
    "plt.ylabel(\"Energy Demand\")\n",
    "plt.grid(axis=\"y\")\n",
    "plt.show()"
   ]
  }
 ],
 "metadata": {
  "language_info": {
   "name": "python"
  }
 },
 "nbformat": 4,
 "nbformat_minor": 5
}
