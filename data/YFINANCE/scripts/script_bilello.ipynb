{
 "cells": [
  {
   "cell_type": "code",
   "execution_count": 1,
   "metadata": {},
   "outputs": [
    {
     "name": "stdout",
     "output_type": "stream",
     "text": [
      "download: s3://datons.articles/articles/procesando-reportes-anuales-sobre-activos-financieros-en-python/exports/article/script_processed_en.md to article/exports/article/script_processed_en.md\n",
      "download: s3://datons.articles/articles/procesando-reportes-anuales-sobre-activos-financieros-en-python/exports/article/script.md to article/exports/article/script.md\n",
      "download: s3://datons.articles/articles/procesando-reportes-anuales-sobre-activos-financieros-en-python/data/etf_list.csv to article/data/etf_list.csv\n",
      "download: s3://datons.articles/articles/procesando-reportes-anuales-sobre-activos-financieros-en-python/exports/article/script_processed_en_medium.html to article/exports/article/script_processed_en_medium.html\n",
      "download: s3://datons.articles/articles/procesando-reportes-anuales-sobre-activos-financieros-en-python/exports/article/script_processed.md to article/exports/article/script_processed.md\n",
      "download: s3://datons.articles/articles/procesando-reportes-anuales-sobre-activos-financieros-en-python/.DS_Store to article/.DS_Store\n",
      "download: s3://datons.articles/articles/procesando-reportes-anuales-sobre-activos-financieros-en-python/exports/article/script_processed_es.md to article/exports/article/script_processed_es.md\n",
      "download: s3://datons.articles/articles/procesando-reportes-anuales-sobre-activos-financieros-en-python/exports/article/script_processed_es_medium.html to article/exports/article/script_processed_es_medium.html\n",
      "download: s3://datons.articles/articles/procesando-reportes-anuales-sobre-activos-financieros-en-python/exports/src/16_9/D_etf_summary_rows.png to article/exports/src/16_9/D_etf_summary_rows.png\n",
      "download: s3://datons.articles/articles/procesando-reportes-anuales-sobre-activos-financieros-en-python/exports/src/16_9/D_hist.png to article/exports/src/16_9/D_hist.png\n",
      "download: s3://datons.articles/articles/procesando-reportes-anuales-sobre-activos-financieros-en-python/exports/src/16_9/D_asset_performance.png to article/exports/src/16_9/D_asset_performance.png\n",
      "download: s3://datons.articles/articles/procesando-reportes-anuales-sobre-activos-financieros-en-python/exports/src/16_9/D_etf_summary.png to article/exports/src/16_9/D_etf_summary.png\n",
      "download: s3://datons.articles/articles/procesando-reportes-anuales-sobre-activos-financieros-en-python/exports/src/1_1/D_etf_summary_rows.png to article/exports/src/1_1/D_etf_summary_rows.png\n",
      "download: s3://datons.articles/articles/procesando-reportes-anuales-sobre-activos-financieros-en-python/exports/src/16_9/D_etf_returns.png to article/exports/src/16_9/D_etf_returns.png\n",
      "download: s3://datons.articles/articles/procesando-reportes-anuales-sobre-activos-financieros-en-python/exports/src/1_1/D_asset_performance.png to article/exports/src/1_1/D_asset_performance.png\n",
      "download: s3://datons.articles/articles/procesando-reportes-anuales-sobre-activos-financieros-en-python/exports/src/16_9/mosaic.png to article/exports/src/16_9/mosaic.png\n",
      "download: s3://datons.articles/articles/procesando-reportes-anuales-sobre-activos-financieros-en-python/exports/src/1_1/D_etf_summary.png to article/exports/src/1_1/D_etf_summary.png\n",
      "download: s3://datons.articles/articles/procesando-reportes-anuales-sobre-activos-financieros-en-python/exports/src/1_1/D_etf_returns.png to article/exports/src/1_1/D_etf_returns.png\n",
      "download: s3://datons.articles/articles/procesando-reportes-anuales-sobre-activos-financieros-en-python/exports/src/3_2/D_etf_returns.png to article/exports/src/3_2/D_etf_returns.png\n",
      "download: s3://datons.articles/articles/procesando-reportes-anuales-sobre-activos-financieros-en-python/exports/src/16_9/cover.gif to article/exports/src/16_9/cover.gif\n",
      "download: s3://datons.articles/articles/procesando-reportes-anuales-sobre-activos-financieros-en-python/exports/src/3_2/D_hist.png to article/exports/src/3_2/D_hist.png\n",
      "download: s3://datons.articles/articles/procesando-reportes-anuales-sobre-activos-financieros-en-python/exports/src/1_1/D_hist.png to article/exports/src/1_1/D_hist.png\n",
      "download: s3://datons.articles/articles/procesando-reportes-anuales-sobre-activos-financieros-en-python/exports/src/3_2/D_etf_summary_rows.png to article/exports/src/3_2/D_etf_summary_rows.png\n",
      "download: s3://datons.articles/articles/procesando-reportes-anuales-sobre-activos-financieros-en-python/exports/src/3_2/D_etf_summary.png to article/exports/src/3_2/D_etf_summary.png\n",
      "download: s3://datons.articles/articles/procesando-reportes-anuales-sobre-activos-financieros-en-python/exports/src/9_16/D_etf_summary.png to article/exports/src/9_16/D_etf_summary.png\n",
      "download: s3://datons.articles/articles/procesando-reportes-anuales-sobre-activos-financieros-en-python/exports/src/9_16/D_etf_returns.png to article/exports/src/9_16/D_etf_returns.png\n",
      "download: s3://datons.articles/articles/procesando-reportes-anuales-sobre-activos-financieros-en-python/exports/src/9_16/D_asset_performance.png to article/exports/src/9_16/D_asset_performance.png\n",
      "download: s3://datons.articles/articles/procesando-reportes-anuales-sobre-activos-financieros-en-python/exports/src/3_2/D_asset_performance.png to article/exports/src/3_2/D_asset_performance.png\n",
      "download: s3://datons.articles/articles/procesando-reportes-anuales-sobre-activos-financieros-en-python/exports/src/1_1/cover.gif to article/exports/src/1_1/cover.gif\n",
      "download: s3://datons.articles/articles/procesando-reportes-anuales-sobre-activos-financieros-en-python/exports/src/9_16/D_etf_summary_rows.png to article/exports/src/9_16/D_etf_summary_rows.png\n",
      "download: s3://datons.articles/articles/procesando-reportes-anuales-sobre-activos-financieros-en-python/exports/src/9_16/D_hist.png to article/exports/src/9_16/D_hist.png\n",
      "download: s3://datons.articles/articles/procesando-reportes-anuales-sobre-activos-financieros-en-python/exports/src/MARGIN/D_etf_returns.png to article/exports/src/MARGIN/D_etf_returns.png\n",
      "download: s3://datons.articles/articles/procesando-reportes-anuales-sobre-activos-financieros-en-python/exports/src/MARGIN/D_etf_summary_rows.png to article/exports/src/MARGIN/D_etf_summary_rows.png\n",
      "download: s3://datons.articles/articles/procesando-reportes-anuales-sobre-activos-financieros-en-python/exports/src/MARGIN/D_etf_summary.png to article/exports/src/MARGIN/D_etf_summary.png\n",
      "download: s3://datons.articles/articles/procesando-reportes-anuales-sobre-activos-financieros-en-python/exports/src/9_16/cover.gif to article/exports/src/9_16/cover.gif\n",
      "download: s3://datons.articles/articles/procesando-reportes-anuales-sobre-activos-financieros-en-python/exports/src/MARGIN/cover.gif to article/exports/src/MARGIN/cover.gif\n",
      "download: s3://datons.articles/articles/procesando-reportes-anuales-sobre-activos-financieros-en-python/exports/src/3_2/cover.gif to article/exports/src/3_2/cover.gif\n",
      "download: s3://datons.articles/articles/procesando-reportes-anuales-sobre-activos-financieros-en-python/exports/src/ORIGINAL/D_etf_summary.png to article/exports/src/ORIGINAL/D_etf_summary.png\n",
      "download: s3://datons.articles/articles/procesando-reportes-anuales-sobre-activos-financieros-en-python/exports/src/MARGIN/D_hist.png to article/exports/src/MARGIN/D_hist.png\n",
      "download: s3://datons.articles/articles/procesando-reportes-anuales-sobre-activos-financieros-en-python/exports/src/ORIGINAL/D_etf_returns.png to article/exports/src/ORIGINAL/D_etf_returns.png\n",
      "download: s3://datons.articles/articles/procesando-reportes-anuales-sobre-activos-financieros-en-python/exports/src/MARGIN/D_asset_performance.png to article/exports/src/MARGIN/D_asset_performance.png\n",
      "download: s3://datons.articles/articles/procesando-reportes-anuales-sobre-activos-financieros-en-python/exports/src/ORIGINAL/D_asset_performance.png to article/exports/src/ORIGINAL/D_asset_performance.png\n",
      "download: s3://datons.articles/articles/procesando-reportes-anuales-sobre-activos-financieros-en-python/exports/src/ORIGINAL/D_hist.png to article/exports/src/ORIGINAL/D_hist.png\n",
      "download: s3://datons.articles/articles/procesando-reportes-anuales-sobre-activos-financieros-en-python/exports/src/ORIGINAL/D_etf_summary_rows.png to article/exports/src/ORIGINAL/D_etf_summary_rows.png\n",
      "download: s3://datons.articles/articles/procesando-reportes-anuales-sobre-activos-financieros-en-python/exports/src/ORIGINAL/cover.gif to article/exports/src/ORIGINAL/cover.gif\n",
      "download: s3://datons.articles/articles/procesando-reportes-anuales-sobre-activos-financieros-en-python/scripts/02_Script.ipynb to article/scripts/02_Script.ipynb\n",
      "download: s3://datons.articles/articles/procesando-reportes-anuales-sobre-activos-financieros-en-python/scripts/01_Sketch.ipynb to article/scripts/01_Sketch.ipynb\n",
      "download: s3://datons.articles/articles/procesando-reportes-anuales-sobre-activos-financieros-en-python/data/etf_data.csv to article/data/etf_data.csv\n"
     ]
    }
   ],
   "source": [
    "!aws s3 cp s3://datons.articles/articles/procesando-reportes-anuales-sobre-activos-financieros-en-python/ article --recursive --endpoint-url https://fra1.digitaloceanspaces.com"
   ]
  }
 ],
 "metadata": {
  "kernelspec": {
   "display_name": "work",
   "language": "python",
   "name": "python3"
  },
  "language_info": {
   "codemirror_mode": {
    "name": "ipython",
    "version": 3
   },
   "file_extension": ".py",
   "mimetype": "text/x-python",
   "name": "python",
   "nbconvert_exporter": "python",
   "pygments_lexer": "ipython3",
   "version": "3.13.1"
  }
 },
 "nbformat": 4,
 "nbformat_minor": 2
}
