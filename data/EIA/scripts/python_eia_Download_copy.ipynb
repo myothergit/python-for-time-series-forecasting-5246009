{
 "cells": [
  {
   "cell_type": "markdown",
   "metadata": {},
   "source": [
    "## Esta es una versión modificada del ejemplo descargado de github, para adaptarlo a mi necesidad (electricity/rto/fuel-type-data)"
   ]
  },
  {
   "cell_type": "markdown",
   "metadata": {},
   "source": [
    "## Get desired data endpoint"
   ]
  },
  {
   "cell_type": "markdown",
   "metadata": {},
   "source": [
    "https://www.eia.gov/opendata/browser/electricity/rto/fuel-type-data"
   ]
  },
  {
   "cell_type": "markdown",
   "metadata": {},
   "source": [
    "## Initialize route in Python"
   ]
  },
  {
   "cell_type": "code",
   "execution_count": null,
   "metadata": {},
   "outputs": [
    {
     "name": "stderr",
     "output_type": "stream",
     "text": [
      "2025-08-04 22:42:58,610 - INFO - EIAClient initialized.\n",
      "2025-08-04 22:42:58,612 - INFO - Directly accessing data endpoint metadata for: electricity/rto/fuel-type-data\n",
      "2025-08-04 22:42:58,613 - INFO - Fetching metadata for route: electricity/rto/fuel-type-data\n"
     ]
    }
   ],
   "source": [
    "from eia import EIAClient\n",
    "\n",
    "client = EIAClient() \n",
    "route = client.get_data_endpoint('electricity/rto/fuel-type-data') # línea modificada respecto al modelo de ejemplo descargado"
   ]
  },
  {
   "cell_type": "markdown",
   "metadata": {},
   "source": [
    "https://api.eia.gov/v2/electricity/rto/fuel-type-data/data/?frequency=hourly&data[0]=value&sort[0][column]=period&sort[0][direction]=desc&offset=0&length=5000"
   ]
  },
  {
   "cell_type": "markdown",
   "metadata": {},
   "source": [
    "## List filtering options\n",
    "\n",
    "### Facets: column values"
   ]
  },
  {
   "cell_type": "code",
   "execution_count": null,
   "metadata": {},
   "outputs": [
    {
     "data": {
      "text/plain": [
       "FacetContainer(facets=[respondent, fueltype])"
      ]
     },
     "execution_count": 2,
     "metadata": {},
     "output_type": "execute_result"
    }
   ],
   "source": [
    "route.facets\n"
   ]
  },
  {
   "cell_type": "code",
   "execution_count": null,
   "metadata": {},
   "outputs": [
    {
     "name": "stderr",
     "output_type": "stream",
     "text": [
      "2025-08-04 22:45:37,435 - INFO - Fetching facet values for facet 'respondent' in route: electricity/rto/fuel-type-data\n"
     ]
    },
    {
     "data": {
      "text/plain": [
       "[FacetValue(id='NY', name='New York', description=None),\n",
       " FacetValue(id='NWMT', name='NorthWestern Corporation', description=None),\n",
       " FacetValue(id='SCEG', name='Dominion Energy South Carolina, Inc.', description=None),\n",
       " FacetValue(id='TEPC', name='Tucson Electric Power', description=None),\n",
       " FacetValue(id='MIDA', name='Mid-Atlantic', description=None),\n",
       " FacetValue(id='FMPP', name='Florida Municipal Power Pool', description=None),\n",
       " FacetValue(id='NYIS', name='New York Independent System Operator', description=None),\n",
       " FacetValue(id='LDWP', name='Los Angeles Department of Water and Power', description=None),\n",
       " FacetValue(id='CAL', name='California', description=None),\n",
       " FacetValue(id='CISO', name='California Independent System Operator', description=None),\n",
       " FacetValue(id='PSEI', name='Puget Sound Energy, Inc.', description=None),\n",
       " FacetValue(id='CAR', name='Carolinas', description=None),\n",
       " FacetValue(id='GVL', name='Gainesville Regional Utilities', description=None),\n",
       " FacetValue(id='NEVP', name='Nevada Power Company', description=None),\n",
       " FacetValue(id='SC', name='South Carolina Public Service Authority', description=None),\n",
       " FacetValue(id='DUK', name='Duke Energy Carolinas', description=None),\n",
       " FacetValue(id='GCPD', name='Public Utility District No. 2 of Grant County, Washington', description=None),\n",
       " FacetValue(id='WAUW', name='Western Area Power Administration - Upper Great Plains West', description=None),\n",
       " FacetValue(id='IID', name='Imperial Irrigation District', description=None),\n",
       " FacetValue(id='SW', name='Southwest', description=None),\n",
       " FacetValue(id='PSCO', name='Public Service Company of Colorado', description=None),\n",
       " FacetValue(id='PACE', name='PacifiCorp East', description=None),\n",
       " FacetValue(id='PNM', name='Public Service Company of New Mexico', description=None),\n",
       " FacetValue(id='JEA', name='JEA', description=None),\n",
       " FacetValue(id='TVA', name='Tennessee Valley Authority', description=None),\n",
       " FacetValue(id='FPL', name='Florida Power & Light Co.', description=None),\n",
       " FacetValue(id='US48', name='United States Lower 48', description=None),\n",
       " FacetValue(id='ERCO', name='Electric Reliability Council of Texas, Inc.', description=None),\n",
       " FacetValue(id='MISO', name='Midcontinent Independent System Operator, Inc.', description=None),\n",
       " FacetValue(id='CENT', name='Central', description=None),\n",
       " FacetValue(id='TIDC', name='Turlock Irrigation District', description=None),\n",
       " FacetValue(id='NE', name='New England', description=None),\n",
       " FacetValue(id='BANC', name='Balancing Authority of Northern California', description=None),\n",
       " FacetValue(id='PGE', name='Portland General Electric Company', description=None),\n",
       " FacetValue(id='SEC', name='Seminole Electric Cooperative', description=None),\n",
       " FacetValue(id='PJM', name='PJM Interconnection, LLC', description=None),\n",
       " FacetValue(id='PACW', name='PacifiCorp West', description=None),\n",
       " FacetValue(id='YAD', name='Alcoa Power Generating, Inc. - Yadkin Division', description=None),\n",
       " FacetValue(id='CHPD', name='Public Utility District No. 1 of Chelan County', description=None),\n",
       " FacetValue(id='TEC', name='Tampa Electric Company', description=None),\n",
       " FacetValue(id='WALC', name='Western Area Power Administration - Desert Southwest Region', description=None),\n",
       " FacetValue(id='EPE', name='El Paso Electric Company', description=None),\n",
       " FacetValue(id='TPWR', name='City of Tacoma, Department of Public Utilities, Light Division', description=None),\n",
       " FacetValue(id='HST', name='City of Homestead', description=None),\n",
       " FacetValue(id='DEAA', name='Arlington Valley, LLC', description=None),\n",
       " FacetValue(id='AVRN', name='Avangrid Renewables, LLC', description=None),\n",
       " FacetValue(id='FLA', name='Florida', description=None),\n",
       " FacetValue(id='FPC', name='Duke Energy Florida, Inc.', description=None),\n",
       " FacetValue(id='ISNE', name='ISO New England', description=None),\n",
       " FacetValue(id='MIDW', name='Midwest', description=None),\n",
       " FacetValue(id='WACM', name='Western Area Power Administration - Rocky Mountain Region', description=None),\n",
       " FacetValue(id='CPLE', name='Duke Energy Progress East', description=None),\n",
       " FacetValue(id='AECI', name='Associated Electric Cooperative, Inc.', description=None),\n",
       " FacetValue(id='NW', name='Northwest', description=None),\n",
       " FacetValue(id='SWPP', name='Southwest Power Pool', description=None),\n",
       " FacetValue(id='GRID', name='Gridforce Energy Management, LLC', description=None),\n",
       " FacetValue(id='SEPA', name='Southeastern Power Administration', description=None),\n",
       " FacetValue(id='WWA', name='NaturEner Wind Watch, LLC', description=None),\n",
       " FacetValue(id='TEN', name='Tennessee', description=None),\n",
       " FacetValue(id='TEX', name='Texas', description=None),\n",
       " FacetValue(id='SE', name='Southeast', description=None),\n",
       " FacetValue(id='AVA', name='Avista Corporation', description=None),\n",
       " FacetValue(id='AZPS', name='Arizona Public Service Company', description=None),\n",
       " FacetValue(id='TAL', name='City of Tallahassee', description=None),\n",
       " FacetValue(id='CPLW', name='Duke Energy Progress West', description=None),\n",
       " FacetValue(id='IPCO', name='Idaho Power Company', description=None),\n",
       " FacetValue(id='SPA', name='Southwestern Power Administration', description=None),\n",
       " FacetValue(id='SCL', name='Seattle City Light', description=None),\n",
       " FacetValue(id='GRIF', name='Griffith Energy, LLC', description=None),\n",
       " FacetValue(id='HGMA', name='New Harquahala Generating Company, LLC', description=None),\n",
       " FacetValue(id='AEC', name='PowerSouth Energy Cooperative', description=None),\n",
       " FacetValue(id='EEI', name='Electric Energy, Inc.', description=None),\n",
       " FacetValue(id='GLHB', name='GridLiance', description=None),\n",
       " FacetValue(id='LGEE', name='LG&E and KU Services Company as agent for Louisville Gas and Electric Company and Kentucky Utilities Company', description=None),\n",
       " FacetValue(id='SRP', name='Salt River Project Agricultural Improvement and Power District', description=None),\n",
       " FacetValue(id='SOCO', name='Southern Company Services, Inc. - Trans', description=None),\n",
       " FacetValue(id='BPAT', name='Bonneville Power Administration', description=None),\n",
       " FacetValue(id='GWA', name='NaturEner Power Watch, LLC', description=None),\n",
       " FacetValue(id='DOPD', name='PUD No. 1 of Douglas County', description=None),\n",
       " FacetValue(id='NSB', name='Utilities Commission of New Smyrna Beach', description=None)]"
      ]
     },
     "execution_count": 3,
     "metadata": {},
     "output_type": "execute_result"
    }
   ],
   "source": [
    "facet_options = route.facets.respondent.get_values() # línea modificada respecto al modelo de ejemplo descargado\n",
    "facet_options\n",
    "\n",
    "# Acá voy a ver que CISO es California (CISO lo uso en las celdas siguientes)\n"
   ]
  },
  {
   "cell_type": "markdown",
   "metadata": {},
   "source": [
    "### Frequencies: datetime intervals"
   ]
  },
  {
   "cell_type": "code",
   "execution_count": 4,
   "metadata": {},
   "outputs": [
    {
     "data": {
      "text/plain": [
       "[FrequencyInfo(id='hourly', description='One data point for each hour in UTC time.', query='H', format='YYYY-MM-DD\"T\"HH24'),\n",
       " FrequencyInfo(id='local-hourly', description='One data point for each hour in local time.', query='LH', format='YYYY-MM-DD\"T\"HH24TZH')]"
      ]
     },
     "execution_count": 4,
     "metadata": {},
     "output_type": "execute_result"
    }
   ],
   "source": [
    "route.frequencies"
   ]
  },
  {
   "cell_type": "markdown",
   "metadata": {},
   "source": [
    "## Query data"
   ]
  },
  {
   "cell_type": "code",
   "execution_count": 5,
   "metadata": {},
   "outputs": [
    {
     "name": "stderr",
     "output_type": "stream",
     "text": [
      "2025-08-04 22:49:46,833 - INFO - Fetching data for route: electricity/rto/fuel-type-data - Offset: 0, Length: All (Pagination)\n",
      "2025-08-04 22:49:46,834 - INFO - Fetching data for route: electricity/rto/fuel-type-data/data\n",
      "2025-08-04 22:49:48,744 - INFO - Received 5000 rows.\n",
      "2025-08-04 22:49:48,745 - INFO - Fetching data for route: electricity/rto/fuel-type-data - Offset: 5000, Length: All (Pagination)\n",
      "2025-08-04 22:49:48,745 - INFO - Fetching data for route: electricity/rto/fuel-type-data/data\n",
      "2025-08-04 22:49:50,487 - INFO - Received 5000 rows.\n",
      "2025-08-04 22:49:50,488 - INFO - Fetching data for route: electricity/rto/fuel-type-data - Offset: 10000, Length: All (Pagination)\n",
      "2025-08-04 22:49:50,489 - INFO - Fetching data for route: electricity/rto/fuel-type-data/data\n",
      "2025-08-04 22:49:51,980 - INFO - Received 5000 rows.\n",
      "2025-08-04 22:49:51,981 - INFO - Fetching data for route: electricity/rto/fuel-type-data - Offset: 15000, Length: All (Pagination)\n",
      "2025-08-04 22:49:51,982 - INFO - Fetching data for route: electricity/rto/fuel-type-data/data\n",
      "2025-08-04 22:49:53,489 - INFO - Received 5000 rows.\n",
      "2025-08-04 22:49:53,490 - INFO - Fetching data for route: electricity/rto/fuel-type-data - Offset: 20000, Length: All (Pagination)\n",
      "2025-08-04 22:49:53,492 - INFO - Fetching data for route: electricity/rto/fuel-type-data/data\n",
      "2025-08-04 22:49:54,959 - INFO - Received 5000 rows.\n",
      "2025-08-04 22:49:54,959 - INFO - Fetching data for route: electricity/rto/fuel-type-data - Offset: 25000, Length: All (Pagination)\n",
      "2025-08-04 22:49:54,960 - INFO - Fetching data for route: electricity/rto/fuel-type-data/data\n",
      "2025-08-04 22:49:57,090 - INFO - Received 5000 rows.\n",
      "2025-08-04 22:49:57,091 - INFO - Fetching data for route: electricity/rto/fuel-type-data - Offset: 30000, Length: All (Pagination)\n",
      "2025-08-04 22:49:57,092 - INFO - Fetching data for route: electricity/rto/fuel-type-data/data\n",
      "2025-08-04 22:49:58,825 - INFO - Received 5000 rows.\n",
      "2025-08-04 22:49:58,826 - INFO - Fetching data for route: electricity/rto/fuel-type-data - Offset: 35000, Length: All (Pagination)\n",
      "2025-08-04 22:49:58,826 - INFO - Fetching data for route: electricity/rto/fuel-type-data/data\n",
      "2025-08-04 22:50:02,627 - INFO - Received 5000 rows.\n",
      "2025-08-04 22:50:02,628 - INFO - Fetching data for route: electricity/rto/fuel-type-data - Offset: 40000, Length: All (Pagination)\n",
      "2025-08-04 22:50:02,629 - INFO - Fetching data for route: electricity/rto/fuel-type-data/data\n",
      "2025-08-04 22:50:04,262 - INFO - Received 5000 rows.\n",
      "2025-08-04 22:50:04,262 - INFO - Fetching data for route: electricity/rto/fuel-type-data - Offset: 45000, Length: All (Pagination)\n",
      "2025-08-04 22:50:04,263 - INFO - Fetching data for route: electricity/rto/fuel-type-data/data\n",
      "2025-08-04 22:50:05,811 - INFO - Received 5000 rows.\n",
      "2025-08-04 22:50:05,812 - INFO - Fetching data for route: electricity/rto/fuel-type-data - Offset: 50000, Length: All (Pagination)\n",
      "2025-08-04 22:50:05,813 - INFO - Fetching data for route: electricity/rto/fuel-type-data/data\n",
      "2025-08-04 22:50:07,309 - INFO - Received 5000 rows.\n",
      "2025-08-04 22:50:07,309 - INFO - Fetching data for route: electricity/rto/fuel-type-data - Offset: 55000, Length: All (Pagination)\n",
      "2025-08-04 22:50:07,310 - INFO - Fetching data for route: electricity/rto/fuel-type-data/data\n",
      "2025-08-04 22:50:09,206 - INFO - Received 5000 rows.\n",
      "2025-08-04 22:50:09,206 - INFO - Fetching data for route: electricity/rto/fuel-type-data - Offset: 60000, Length: All (Pagination)\n",
      "2025-08-04 22:50:09,207 - INFO - Fetching data for route: electricity/rto/fuel-type-data/data\n",
      "2025-08-04 22:50:11,013 - INFO - Received 5000 rows.\n",
      "2025-08-04 22:50:11,013 - INFO - Fetching data for route: electricity/rto/fuel-type-data - Offset: 65000, Length: All (Pagination)\n",
      "2025-08-04 22:50:11,014 - INFO - Fetching data for route: electricity/rto/fuel-type-data/data\n",
      "2025-08-04 22:50:12,738 - INFO - Received 5000 rows.\n",
      "2025-08-04 22:50:12,739 - INFO - Fetching data for route: electricity/rto/fuel-type-data - Offset: 70000, Length: All (Pagination)\n",
      "2025-08-04 22:50:12,740 - INFO - Fetching data for route: electricity/rto/fuel-type-data/data\n",
      "2025-08-04 22:50:14,389 - INFO - Received 5000 rows.\n",
      "2025-08-04 22:50:14,390 - INFO - Fetching data for route: electricity/rto/fuel-type-data - Offset: 75000, Length: All (Pagination)\n",
      "2025-08-04 22:50:14,391 - INFO - Fetching data for route: electricity/rto/fuel-type-data/data\n",
      "2025-08-04 22:50:16,591 - INFO - Received 5000 rows.\n",
      "2025-08-04 22:50:16,592 - INFO - Fetching data for route: electricity/rto/fuel-type-data - Offset: 80000, Length: All (Pagination)\n",
      "2025-08-04 22:50:16,593 - INFO - Fetching data for route: electricity/rto/fuel-type-data/data\n",
      "2025-08-04 22:50:18,361 - INFO - Received 5000 rows.\n",
      "2025-08-04 22:50:18,362 - INFO - Fetching data for route: electricity/rto/fuel-type-data - Offset: 85000, Length: All (Pagination)\n",
      "2025-08-04 22:50:18,363 - INFO - Fetching data for route: electricity/rto/fuel-type-data/data\n",
      "2025-08-04 22:50:20,344 - INFO - Received 5000 rows.\n",
      "2025-08-04 22:50:20,345 - INFO - Fetching data for route: electricity/rto/fuel-type-data - Offset: 90000, Length: All (Pagination)\n",
      "2025-08-04 22:50:20,346 - INFO - Fetching data for route: electricity/rto/fuel-type-data/data\n",
      "2025-08-04 22:50:22,071 - INFO - Received 5000 rows.\n",
      "2025-08-04 22:50:22,072 - INFO - Fetching data for route: electricity/rto/fuel-type-data - Offset: 95000, Length: All (Pagination)\n",
      "2025-08-04 22:50:22,073 - INFO - Fetching data for route: electricity/rto/fuel-type-data/data\n",
      "2025-08-04 22:50:23,966 - INFO - Received 5000 rows.\n",
      "2025-08-04 22:50:23,967 - INFO - Fetching data for route: electricity/rto/fuel-type-data - Offset: 100000, Length: All (Pagination)\n",
      "2025-08-04 22:50:23,968 - INFO - Fetching data for route: electricity/rto/fuel-type-data/data\n",
      "2025-08-04 22:50:25,763 - INFO - Received 5000 rows.\n",
      "2025-08-04 22:50:25,764 - INFO - Fetching data for route: electricity/rto/fuel-type-data - Offset: 105000, Length: All (Pagination)\n",
      "2025-08-04 22:50:25,765 - INFO - Fetching data for route: electricity/rto/fuel-type-data/data\n",
      "2025-08-04 22:50:27,556 - INFO - Received 5000 rows.\n",
      "2025-08-04 22:50:27,557 - INFO - Fetching data for route: electricity/rto/fuel-type-data - Offset: 110000, Length: All (Pagination)\n",
      "2025-08-04 22:50:27,558 - INFO - Fetching data for route: electricity/rto/fuel-type-data/data\n",
      "2025-08-04 22:50:29,973 - INFO - Received 5000 rows.\n",
      "2025-08-04 22:50:29,974 - INFO - Fetching data for route: electricity/rto/fuel-type-data - Offset: 115000, Length: All (Pagination)\n",
      "2025-08-04 22:50:29,975 - INFO - Fetching data for route: electricity/rto/fuel-type-data/data\n",
      "2025-08-04 22:50:31,949 - INFO - Received 5000 rows.\n",
      "2025-08-04 22:50:31,949 - INFO - Fetching data for route: electricity/rto/fuel-type-data - Offset: 120000, Length: All (Pagination)\n",
      "2025-08-04 22:50:31,950 - INFO - Fetching data for route: electricity/rto/fuel-type-data/data\n",
      "2025-08-04 22:50:33,669 - INFO - Received 5000 rows.\n",
      "2025-08-04 22:50:33,669 - INFO - Fetching data for route: electricity/rto/fuel-type-data - Offset: 125000, Length: All (Pagination)\n",
      "2025-08-04 22:50:33,670 - INFO - Fetching data for route: electricity/rto/fuel-type-data/data\n",
      "2025-08-04 22:50:35,364 - INFO - Received 5000 rows.\n",
      "2025-08-04 22:50:35,364 - INFO - Fetching data for route: electricity/rto/fuel-type-data - Offset: 130000, Length: All (Pagination)\n",
      "2025-08-04 22:50:35,365 - INFO - Fetching data for route: electricity/rto/fuel-type-data/data\n",
      "2025-08-04 22:50:37,464 - INFO - Received 5000 rows.\n",
      "2025-08-04 22:50:37,465 - INFO - Fetching data for route: electricity/rto/fuel-type-data - Offset: 135000, Length: All (Pagination)\n",
      "2025-08-04 22:50:37,466 - INFO - Fetching data for route: electricity/rto/fuel-type-data/data\n",
      "2025-08-04 22:50:39,284 - INFO - Received 5000 rows.\n",
      "2025-08-04 22:50:39,285 - INFO - Fetching data for route: electricity/rto/fuel-type-data - Offset: 140000, Length: All (Pagination)\n",
      "2025-08-04 22:50:39,286 - INFO - Fetching data for route: electricity/rto/fuel-type-data/data\n",
      "2025-08-04 22:50:40,762 - INFO - Received 5000 rows.\n",
      "2025-08-04 22:50:40,763 - INFO - Fetching data for route: electricity/rto/fuel-type-data - Offset: 145000, Length: All (Pagination)\n",
      "2025-08-04 22:50:40,764 - INFO - Fetching data for route: electricity/rto/fuel-type-data/data\n",
      "2025-08-04 22:50:42,623 - INFO - Received 5000 rows.\n",
      "2025-08-04 22:50:42,623 - INFO - Fetching data for route: electricity/rto/fuel-type-data - Offset: 150000, Length: All (Pagination)\n",
      "2025-08-04 22:50:42,624 - INFO - Fetching data for route: electricity/rto/fuel-type-data/data\n",
      "2025-08-04 22:50:44,538 - INFO - Received 5000 rows.\n",
      "2025-08-04 22:50:44,538 - INFO - Fetching data for route: electricity/rto/fuel-type-data - Offset: 155000, Length: All (Pagination)\n",
      "2025-08-04 22:50:44,539 - INFO - Fetching data for route: electricity/rto/fuel-type-data/data\n",
      "2025-08-04 22:50:46,499 - INFO - Received 5000 rows.\n",
      "2025-08-04 22:50:46,500 - INFO - Fetching data for route: electricity/rto/fuel-type-data - Offset: 160000, Length: All (Pagination)\n",
      "2025-08-04 22:50:46,501 - INFO - Fetching data for route: electricity/rto/fuel-type-data/data\n",
      "2025-08-04 22:50:49,247 - INFO - Received 5000 rows.\n",
      "2025-08-04 22:50:49,248 - INFO - Fetching data for route: electricity/rto/fuel-type-data - Offset: 165000, Length: All (Pagination)\n",
      "2025-08-04 22:50:49,248 - INFO - Fetching data for route: electricity/rto/fuel-type-data/data\n",
      "2025-08-04 22:50:51,219 - INFO - Received 5000 rows.\n",
      "2025-08-04 22:50:51,222 - INFO - Fetching data for route: electricity/rto/fuel-type-data - Offset: 170000, Length: All (Pagination)\n",
      "2025-08-04 22:50:51,225 - INFO - Fetching data for route: electricity/rto/fuel-type-data/data\n",
      "2025-08-04 22:50:52,988 - INFO - Received 5000 rows.\n",
      "2025-08-04 22:50:52,988 - INFO - Fetching data for route: electricity/rto/fuel-type-data - Offset: 175000, Length: All (Pagination)\n",
      "2025-08-04 22:50:52,989 - INFO - Fetching data for route: electricity/rto/fuel-type-data/data\n",
      "2025-08-04 22:50:54,690 - INFO - Received 5000 rows.\n",
      "2025-08-04 22:50:54,691 - INFO - Fetching data for route: electricity/rto/fuel-type-data - Offset: 180000, Length: All (Pagination)\n",
      "2025-08-04 22:50:54,692 - INFO - Fetching data for route: electricity/rto/fuel-type-data/data\n",
      "2025-08-04 22:50:56,503 - INFO - Received 5000 rows.\n",
      "2025-08-04 22:50:56,504 - INFO - Fetching data for route: electricity/rto/fuel-type-data - Offset: 185000, Length: All (Pagination)\n",
      "2025-08-04 22:50:56,505 - INFO - Fetching data for route: electricity/rto/fuel-type-data/data\n",
      "2025-08-04 22:50:58,357 - INFO - Received 5000 rows.\n",
      "2025-08-04 22:50:58,358 - INFO - Fetching data for route: electricity/rto/fuel-type-data - Offset: 190000, Length: All (Pagination)\n",
      "2025-08-04 22:50:58,359 - INFO - Fetching data for route: electricity/rto/fuel-type-data/data\n",
      "2025-08-04 22:51:01,300 - INFO - Received 5000 rows.\n",
      "2025-08-04 22:51:01,301 - INFO - Fetching data for route: electricity/rto/fuel-type-data - Offset: 195000, Length: All (Pagination)\n",
      "2025-08-04 22:51:01,301 - INFO - Fetching data for route: electricity/rto/fuel-type-data/data\n",
      "2025-08-04 22:51:03,220 - INFO - Received 5000 rows.\n",
      "2025-08-04 22:51:03,223 - INFO - Fetching data for route: electricity/rto/fuel-type-data - Offset: 200000, Length: All (Pagination)\n",
      "2025-08-04 22:51:03,224 - INFO - Fetching data for route: electricity/rto/fuel-type-data/data\n",
      "2025-08-04 22:51:05,406 - INFO - Received 5000 rows.\n",
      "2025-08-04 22:51:05,407 - INFO - Fetching data for route: electricity/rto/fuel-type-data - Offset: 205000, Length: All (Pagination)\n",
      "2025-08-04 22:51:05,408 - INFO - Fetching data for route: electricity/rto/fuel-type-data/data\n",
      "2025-08-04 22:51:08,807 - INFO - Received 5000 rows.\n",
      "2025-08-04 22:51:08,808 - INFO - Fetching data for route: electricity/rto/fuel-type-data - Offset: 210000, Length: All (Pagination)\n",
      "2025-08-04 22:51:08,809 - INFO - Fetching data for route: electricity/rto/fuel-type-data/data\n",
      "2025-08-04 22:51:11,195 - INFO - Received 5000 rows.\n",
      "2025-08-04 22:51:11,195 - INFO - Fetching data for route: electricity/rto/fuel-type-data - Offset: 215000, Length: All (Pagination)\n",
      "2025-08-04 22:51:11,196 - INFO - Fetching data for route: electricity/rto/fuel-type-data/data\n",
      "2025-08-04 22:51:13,078 - INFO - Received 5000 rows.\n",
      "2025-08-04 22:51:13,079 - INFO - Fetching data for route: electricity/rto/fuel-type-data - Offset: 220000, Length: All (Pagination)\n",
      "2025-08-04 22:51:13,080 - INFO - Fetching data for route: electricity/rto/fuel-type-data/data\n",
      "2025-08-04 22:51:15,002 - INFO - Received 5000 rows.\n",
      "2025-08-04 22:51:15,003 - INFO - Fetching data for route: electricity/rto/fuel-type-data - Offset: 225000, Length: All (Pagination)\n",
      "2025-08-04 22:51:15,004 - INFO - Fetching data for route: electricity/rto/fuel-type-data/data\n",
      "2025-08-04 22:51:16,636 - INFO - Received 5000 rows.\n",
      "2025-08-04 22:51:16,636 - INFO - Fetching data for route: electricity/rto/fuel-type-data - Offset: 230000, Length: All (Pagination)\n",
      "2025-08-04 22:51:16,637 - INFO - Fetching data for route: electricity/rto/fuel-type-data/data\n",
      "2025-08-04 22:51:19,236 - INFO - Received 5000 rows.\n",
      "2025-08-04 22:51:19,236 - INFO - Fetching data for route: electricity/rto/fuel-type-data - Offset: 235000, Length: All (Pagination)\n",
      "2025-08-04 22:51:19,237 - INFO - Fetching data for route: electricity/rto/fuel-type-data/data\n",
      "2025-08-04 22:51:20,992 - INFO - Received 5000 rows.\n",
      "2025-08-04 22:51:20,992 - INFO - Fetching data for route: electricity/rto/fuel-type-data - Offset: 240000, Length: All (Pagination)\n",
      "2025-08-04 22:51:20,993 - INFO - Fetching data for route: electricity/rto/fuel-type-data/data\n",
      "2025-08-04 22:51:23,272 - INFO - Received 5000 rows.\n",
      "2025-08-04 22:51:23,273 - INFO - Fetching data for route: electricity/rto/fuel-type-data - Offset: 245000, Length: All (Pagination)\n",
      "2025-08-04 22:51:23,274 - INFO - Fetching data for route: electricity/rto/fuel-type-data/data\n",
      "2025-08-04 22:51:25,518 - INFO - Received 5000 rows.\n",
      "2025-08-04 22:51:25,519 - INFO - Fetching data for route: electricity/rto/fuel-type-data - Offset: 250000, Length: All (Pagination)\n",
      "2025-08-04 22:51:25,520 - INFO - Fetching data for route: electricity/rto/fuel-type-data/data\n",
      "2025-08-04 22:51:27,390 - INFO - Received 5000 rows.\n",
      "2025-08-04 22:51:27,391 - INFO - Fetching data for route: electricity/rto/fuel-type-data - Offset: 255000, Length: All (Pagination)\n",
      "2025-08-04 22:51:27,392 - INFO - Fetching data for route: electricity/rto/fuel-type-data/data\n",
      "2025-08-04 22:51:29,420 - INFO - Received 5000 rows.\n",
      "2025-08-04 22:51:29,421 - INFO - Fetching data for route: electricity/rto/fuel-type-data - Offset: 260000, Length: All (Pagination)\n",
      "2025-08-04 22:51:29,422 - INFO - Fetching data for route: electricity/rto/fuel-type-data/data\n",
      "2025-08-04 22:51:31,447 - INFO - Received 5000 rows.\n",
      "2025-08-04 22:51:31,448 - INFO - Fetching data for route: electricity/rto/fuel-type-data - Offset: 265000, Length: All (Pagination)\n",
      "2025-08-04 22:51:31,449 - INFO - Fetching data for route: electricity/rto/fuel-type-data/data\n",
      "2025-08-04 22:51:33,428 - INFO - Received 5000 rows.\n",
      "2025-08-04 22:51:33,429 - INFO - Fetching data for route: electricity/rto/fuel-type-data - Offset: 270000, Length: All (Pagination)\n",
      "2025-08-04 22:51:33,430 - INFO - Fetching data for route: electricity/rto/fuel-type-data/data\n",
      "2025-08-04 22:51:35,166 - INFO - Received 5000 rows.\n",
      "2025-08-04 22:51:35,166 - INFO - Fetching data for route: electricity/rto/fuel-type-data - Offset: 275000, Length: All (Pagination)\n",
      "2025-08-04 22:51:35,167 - INFO - Fetching data for route: electricity/rto/fuel-type-data/data\n",
      "2025-08-04 22:51:36,871 - INFO - Received 5000 rows.\n",
      "2025-08-04 22:51:36,873 - INFO - Fetching data for route: electricity/rto/fuel-type-data - Offset: 280000, Length: All (Pagination)\n",
      "2025-08-04 22:51:36,874 - INFO - Fetching data for route: electricity/rto/fuel-type-data/data\n",
      "2025-08-04 22:51:38,849 - INFO - Received 5000 rows.\n",
      "2025-08-04 22:51:38,850 - INFO - Fetching data for route: electricity/rto/fuel-type-data - Offset: 285000, Length: All (Pagination)\n",
      "2025-08-04 22:51:38,852 - INFO - Fetching data for route: electricity/rto/fuel-type-data/data\n",
      "2025-08-04 22:51:41,281 - INFO - Received 5000 rows.\n",
      "2025-08-04 22:51:41,282 - INFO - Fetching data for route: electricity/rto/fuel-type-data - Offset: 290000, Length: All (Pagination)\n",
      "2025-08-04 22:51:41,283 - INFO - Fetching data for route: electricity/rto/fuel-type-data/data\n",
      "2025-08-04 22:51:43,400 - INFO - Received 5000 rows.\n",
      "2025-08-04 22:51:43,401 - INFO - Fetching data for route: electricity/rto/fuel-type-data - Offset: 295000, Length: All (Pagination)\n",
      "2025-08-04 22:51:43,401 - INFO - Fetching data for route: electricity/rto/fuel-type-data/data\n",
      "2025-08-04 22:51:45,408 - INFO - Received 5000 rows.\n",
      "2025-08-04 22:51:45,408 - INFO - Fetching data for route: electricity/rto/fuel-type-data - Offset: 300000, Length: All (Pagination)\n",
      "2025-08-04 22:51:45,409 - INFO - Fetching data for route: electricity/rto/fuel-type-data/data\n",
      "2025-08-04 22:51:47,408 - INFO - Received 5000 rows.\n",
      "2025-08-04 22:51:47,409 - INFO - Fetching data for route: electricity/rto/fuel-type-data - Offset: 305000, Length: All (Pagination)\n",
      "2025-08-04 22:51:47,410 - INFO - Fetching data for route: electricity/rto/fuel-type-data/data\n",
      "2025-08-04 22:51:49,036 - INFO - Received 5000 rows.\n",
      "2025-08-04 22:51:49,037 - INFO - Fetching data for route: electricity/rto/fuel-type-data - Offset: 310000, Length: All (Pagination)\n",
      "2025-08-04 22:51:49,038 - INFO - Fetching data for route: electricity/rto/fuel-type-data/data\n",
      "2025-08-04 22:51:51,237 - INFO - Received 5000 rows.\n",
      "2025-08-04 22:51:51,238 - INFO - Fetching data for route: electricity/rto/fuel-type-data - Offset: 315000, Length: All (Pagination)\n",
      "2025-08-04 22:51:51,238 - INFO - Fetching data for route: electricity/rto/fuel-type-data/data\n",
      "2025-08-04 22:51:53,554 - INFO - Received 5000 rows.\n",
      "2025-08-04 22:51:53,554 - INFO - Fetching data for route: electricity/rto/fuel-type-data - Offset: 320000, Length: All (Pagination)\n",
      "2025-08-04 22:51:53,555 - INFO - Fetching data for route: electricity/rto/fuel-type-data/data\n",
      "2025-08-04 22:51:58,430 - INFO - Received 5000 rows.\n",
      "2025-08-04 22:51:58,430 - INFO - Fetching data for route: electricity/rto/fuel-type-data - Offset: 325000, Length: All (Pagination)\n",
      "2025-08-04 22:51:58,431 - INFO - Fetching data for route: electricity/rto/fuel-type-data/data\n",
      "2025-08-04 22:52:00,598 - INFO - Received 5000 rows.\n",
      "2025-08-04 22:52:00,598 - INFO - Fetching data for route: electricity/rto/fuel-type-data - Offset: 330000, Length: All (Pagination)\n",
      "2025-08-04 22:52:00,599 - INFO - Fetching data for route: electricity/rto/fuel-type-data/data\n",
      "2025-08-04 22:52:02,828 - INFO - Received 5000 rows.\n",
      "2025-08-04 22:52:02,829 - INFO - Fetching data for route: electricity/rto/fuel-type-data - Offset: 335000, Length: All (Pagination)\n",
      "2025-08-04 22:52:02,830 - INFO - Fetching data for route: electricity/rto/fuel-type-data/data\n",
      "2025-08-04 22:52:04,996 - INFO - Received 5000 rows.\n",
      "2025-08-04 22:52:04,997 - INFO - Fetching data for route: electricity/rto/fuel-type-data - Offset: 340000, Length: All (Pagination)\n",
      "2025-08-04 22:52:04,998 - INFO - Fetching data for route: electricity/rto/fuel-type-data/data\n",
      "2025-08-04 22:52:07,033 - INFO - Received 5000 rows.\n",
      "2025-08-04 22:52:07,033 - INFO - Fetching data for route: electricity/rto/fuel-type-data - Offset: 345000, Length: All (Pagination)\n",
      "2025-08-04 22:52:07,034 - INFO - Fetching data for route: electricity/rto/fuel-type-data/data\n",
      "2025-08-04 22:52:08,817 - INFO - Received 5000 rows.\n",
      "2025-08-04 22:52:08,818 - INFO - Fetching data for route: electricity/rto/fuel-type-data - Offset: 350000, Length: All (Pagination)\n",
      "2025-08-04 22:52:08,819 - INFO - Fetching data for route: electricity/rto/fuel-type-data/data\n",
      "2025-08-04 22:52:10,572 - INFO - Received 5000 rows.\n",
      "2025-08-04 22:52:10,573 - INFO - Fetching data for route: electricity/rto/fuel-type-data - Offset: 355000, Length: All (Pagination)\n",
      "2025-08-04 22:52:10,574 - INFO - Fetching data for route: electricity/rto/fuel-type-data/data\n",
      "2025-08-04 22:52:12,819 - INFO - Received 5000 rows.\n",
      "2025-08-04 22:52:12,820 - INFO - Fetching data for route: electricity/rto/fuel-type-data - Offset: 360000, Length: All (Pagination)\n",
      "2025-08-04 22:52:12,821 - INFO - Fetching data for route: electricity/rto/fuel-type-data/data\n",
      "2025-08-04 22:52:15,060 - INFO - Received 5000 rows.\n",
      "2025-08-04 22:52:15,060 - INFO - Fetching data for route: electricity/rto/fuel-type-data - Offset: 365000, Length: All (Pagination)\n",
      "2025-08-04 22:52:15,061 - INFO - Fetching data for route: electricity/rto/fuel-type-data/data\n",
      "2025-08-04 22:52:17,145 - INFO - Received 5000 rows.\n",
      "2025-08-04 22:52:17,145 - INFO - Fetching data for route: electricity/rto/fuel-type-data - Offset: 370000, Length: All (Pagination)\n",
      "2025-08-04 22:52:17,146 - INFO - Fetching data for route: electricity/rto/fuel-type-data/data\n",
      "2025-08-04 22:52:19,195 - INFO - Received 5000 rows.\n",
      "2025-08-04 22:52:19,206 - INFO - Fetching data for route: electricity/rto/fuel-type-data - Offset: 375000, Length: All (Pagination)\n",
      "2025-08-04 22:52:19,209 - INFO - Fetching data for route: electricity/rto/fuel-type-data/data\n",
      "2025-08-04 22:52:21,267 - INFO - Received 5000 rows.\n",
      "2025-08-04 22:52:21,268 - INFO - Fetching data for route: electricity/rto/fuel-type-data - Offset: 380000, Length: All (Pagination)\n",
      "2025-08-04 22:52:21,268 - INFO - Fetching data for route: electricity/rto/fuel-type-data/data\n",
      "2025-08-04 22:52:33,376 - INFO - Received 5000 rows.\n",
      "2025-08-04 22:52:33,376 - INFO - Fetching data for route: electricity/rto/fuel-type-data - Offset: 385000, Length: All (Pagination)\n",
      "2025-08-04 22:52:33,377 - INFO - Fetching data for route: electricity/rto/fuel-type-data/data\n",
      "2025-08-04 22:52:35,387 - INFO - Received 5000 rows.\n",
      "2025-08-04 22:52:35,388 - INFO - Fetching data for route: electricity/rto/fuel-type-data - Offset: 390000, Length: All (Pagination)\n",
      "2025-08-04 22:52:35,389 - INFO - Fetching data for route: electricity/rto/fuel-type-data/data\n",
      "2025-08-04 22:52:37,751 - INFO - Received 5000 rows.\n",
      "2025-08-04 22:52:37,751 - INFO - Fetching data for route: electricity/rto/fuel-type-data - Offset: 395000, Length: All (Pagination)\n",
      "2025-08-04 22:52:37,752 - INFO - Fetching data for route: electricity/rto/fuel-type-data/data\n",
      "2025-08-04 22:52:39,573 - INFO - Received 5000 rows.\n",
      "2025-08-04 22:52:39,573 - INFO - Fetching data for route: electricity/rto/fuel-type-data - Offset: 400000, Length: All (Pagination)\n",
      "2025-08-04 22:52:39,574 - INFO - Fetching data for route: electricity/rto/fuel-type-data/data\n",
      "2025-08-04 22:52:41,887 - INFO - Received 5000 rows.\n",
      "2025-08-04 22:52:41,888 - INFO - Fetching data for route: electricity/rto/fuel-type-data - Offset: 405000, Length: All (Pagination)\n",
      "2025-08-04 22:52:41,889 - INFO - Fetching data for route: electricity/rto/fuel-type-data/data\n",
      "2025-08-04 22:52:43,961 - INFO - Received 5000 rows.\n",
      "2025-08-04 22:52:43,962 - INFO - Fetching data for route: electricity/rto/fuel-type-data - Offset: 410000, Length: All (Pagination)\n",
      "2025-08-04 22:52:43,963 - INFO - Fetching data for route: electricity/rto/fuel-type-data/data\n",
      "2025-08-04 22:52:46,005 - INFO - Received 5000 rows.\n",
      "2025-08-04 22:52:46,006 - INFO - Fetching data for route: electricity/rto/fuel-type-data - Offset: 415000, Length: All (Pagination)\n",
      "2025-08-04 22:52:46,007 - INFO - Fetching data for route: electricity/rto/fuel-type-data/data\n",
      "2025-08-04 22:52:48,216 - INFO - Received 5000 rows.\n",
      "2025-08-04 22:52:48,217 - INFO - Fetching data for route: electricity/rto/fuel-type-data - Offset: 420000, Length: All (Pagination)\n",
      "2025-08-04 22:52:48,218 - INFO - Fetching data for route: electricity/rto/fuel-type-data/data\n",
      "2025-08-04 22:52:49,924 - INFO - Received 5000 rows.\n",
      "2025-08-04 22:52:49,925 - INFO - Fetching data for route: electricity/rto/fuel-type-data - Offset: 425000, Length: All (Pagination)\n",
      "2025-08-04 22:52:49,926 - INFO - Fetching data for route: electricity/rto/fuel-type-data/data\n",
      "2025-08-04 22:52:51,987 - INFO - Received 5000 rows.\n",
      "2025-08-04 22:52:51,988 - INFO - Fetching data for route: electricity/rto/fuel-type-data - Offset: 430000, Length: All (Pagination)\n",
      "2025-08-04 22:52:51,988 - INFO - Fetching data for route: electricity/rto/fuel-type-data/data\n",
      "2025-08-04 22:52:54,119 - INFO - Received 5000 rows.\n",
      "2025-08-04 22:52:54,120 - INFO - Fetching data for route: electricity/rto/fuel-type-data - Offset: 435000, Length: All (Pagination)\n",
      "2025-08-04 22:52:54,121 - INFO - Fetching data for route: electricity/rto/fuel-type-data/data\n",
      "2025-08-04 22:52:56,263 - INFO - Received 5000 rows.\n",
      "2025-08-04 22:52:56,263 - INFO - Fetching data for route: electricity/rto/fuel-type-data - Offset: 440000, Length: All (Pagination)\n",
      "2025-08-04 22:52:56,264 - INFO - Fetching data for route: electricity/rto/fuel-type-data/data\n",
      "2025-08-04 22:52:58,369 - INFO - Received 5000 rows.\n",
      "2025-08-04 22:52:58,369 - INFO - Fetching data for route: electricity/rto/fuel-type-data - Offset: 445000, Length: All (Pagination)\n",
      "2025-08-04 22:52:58,370 - INFO - Fetching data for route: electricity/rto/fuel-type-data/data\n",
      "2025-08-04 22:53:00,086 - INFO - Received 1166 rows.\n",
      "2025-08-04 22:53:00,087 - INFO - Received less than page limit, assuming end of data.\n",
      "2025-08-04 22:53:00,700 - INFO - Automatically converted 'period' column to datetime with UTC.\n",
      "2025-08-04 22:53:01,072 - INFO - Automatically converted 'value' column to numeric.\n"
     ]
    },
    {
     "data": {
      "text/html": [
       "<div>\n",
       "<style scoped>\n",
       "    .dataframe tbody tr th:only-of-type {\n",
       "        vertical-align: middle;\n",
       "    }\n",
       "\n",
       "    .dataframe tbody tr th {\n",
       "        vertical-align: top;\n",
       "    }\n",
       "\n",
       "    .dataframe thead th {\n",
       "        text-align: right;\n",
       "    }\n",
       "</style>\n",
       "<table border=\"1\" class=\"dataframe\">\n",
       "  <thead>\n",
       "    <tr style=\"text-align: right;\">\n",
       "      <th></th>\n",
       "      <th>period</th>\n",
       "      <th>respondent</th>\n",
       "      <th>respondent-name</th>\n",
       "      <th>fueltype</th>\n",
       "      <th>type-name</th>\n",
       "      <th>value</th>\n",
       "      <th>value-units</th>\n",
       "    </tr>\n",
       "  </thead>\n",
       "  <tbody>\n",
       "    <tr>\n",
       "      <th>0</th>\n",
       "      <td>2025-08-04 06:00:00+00:00</td>\n",
       "      <td>CISO</td>\n",
       "      <td>California Independent System Operator</td>\n",
       "      <td>COL</td>\n",
       "      <td>Coal</td>\n",
       "      <td>0.0</td>\n",
       "      <td>megawatthours</td>\n",
       "    </tr>\n",
       "    <tr>\n",
       "      <th>1</th>\n",
       "      <td>2025-08-04 06:00:00+00:00</td>\n",
       "      <td>CISO</td>\n",
       "      <td>California Independent System Operator</td>\n",
       "      <td>NG</td>\n",
       "      <td>Natural Gas</td>\n",
       "      <td>7925.0</td>\n",
       "      <td>megawatthours</td>\n",
       "    </tr>\n",
       "    <tr>\n",
       "      <th>...</th>\n",
       "      <td>...</td>\n",
       "      <td>...</td>\n",
       "      <td>...</td>\n",
       "      <td>...</td>\n",
       "      <td>...</td>\n",
       "      <td>...</td>\n",
       "      <td>...</td>\n",
       "    </tr>\n",
       "    <tr>\n",
       "      <th>446164</th>\n",
       "      <td>2019-01-01 00:00:00+00:00</td>\n",
       "      <td>CISO</td>\n",
       "      <td>California Independent System Operator</td>\n",
       "      <td>WAT</td>\n",
       "      <td>Hydro</td>\n",
       "      <td>2403.0</td>\n",
       "      <td>megawatthours</td>\n",
       "    </tr>\n",
       "    <tr>\n",
       "      <th>446165</th>\n",
       "      <td>2019-01-01 00:00:00+00:00</td>\n",
       "      <td>CISO</td>\n",
       "      <td>California Independent System Operator</td>\n",
       "      <td>WND</td>\n",
       "      <td>Wind</td>\n",
       "      <td>2497.0</td>\n",
       "      <td>megawatthours</td>\n",
       "    </tr>\n",
       "  </tbody>\n",
       "</table>\n",
       "<p>446166 rows × 7 columns</p>\n",
       "</div>"
      ],
      "text/plain": [
       "                          period respondent  \\\n",
       "0      2025-08-04 06:00:00+00:00       CISO   \n",
       "1      2025-08-04 06:00:00+00:00       CISO   \n",
       "...                          ...        ...   \n",
       "446164 2019-01-01 00:00:00+00:00       CISO   \n",
       "446165 2019-01-01 00:00:00+00:00       CISO   \n",
       "\n",
       "                               respondent-name fueltype    type-name   value  \\\n",
       "0       California Independent System Operator      COL         Coal     0.0   \n",
       "1       California Independent System Operator       NG  Natural Gas  7925.0   \n",
       "...                                        ...      ...          ...     ...   \n",
       "446164  California Independent System Operator      WAT        Hydro  2403.0   \n",
       "446165  California Independent System Operator      WND         Wind  2497.0   \n",
       "\n",
       "          value-units  \n",
       "0       megawatthours  \n",
       "1       megawatthours  \n",
       "...               ...  \n",
       "446164  megawatthours  \n",
       "446165  megawatthours  \n",
       "\n",
       "[446166 rows x 7 columns]"
      ]
     },
     "execution_count": 5,
     "metadata": {},
     "output_type": "execute_result"
    }
   ],
   "source": [
    "# Hago la consulta para CISO, que es California (ver celdas más arriba)\n",
    "\n",
    "df_ciso = route.get(\n",
    "    data_columns=['value'],\n",
    "    facets={'respondent': 'CISO'},      # línea modificada respecto al modelo de ejemplo descargado\n",
    "    frequency='hourly',\n",
    "    sort=[\n",
    "        {'column': 'period','direction': 'desc'},\n",
    "        {'column': 'fueltype', 'direction': 'asc'}     # línea modificada respecto al modelo de ejemplo descargado\n",
    "    ]\n",
    ")\n",
    "\n",
    "df_ciso\n"
   ]
  },
  {
   "cell_type": "markdown",
   "metadata": {},
   "source": [
    "Esta librería gestiona automáticamente los límites de 5.000 registros, haciendo múltiples descargas hasta llegar al total del dataset."
   ]
  },
  {
   "cell_type": "markdown",
   "metadata": {},
   "source": [
    "## Export data"
   ]
  },
  {
   "cell_type": "code",
   "execution_count": 6,
   "metadata": {},
   "outputs": [
    {
     "data": {
      "text/plain": [
       "0        2025-08-04 06:00:00+00:00\n",
       "1        2025-08-04 06:00:00+00:00\n",
       "                    ...           \n",
       "446164   2019-01-01 00:00:00+00:00\n",
       "446165   2019-01-01 00:00:00+00:00\n",
       "Name: period, Length: 446166, dtype: datetime64[ns, UTC]"
      ]
     },
     "execution_count": 6,
     "metadata": {},
     "output_type": "execute_result"
    }
   ],
   "source": [
    "df_ciso.period"
   ]
  },
  {
   "cell_type": "code",
   "execution_count": 7,
   "metadata": {},
   "outputs": [
    {
     "data": {
      "text/plain": [
       "0        2025-08-03 23:00:00-07:00\n",
       "1        2025-08-03 23:00:00-07:00\n",
       "                    ...           \n",
       "446164   2018-12-31 16:00:00-08:00\n",
       "446165   2018-12-31 16:00:00-08:00\n",
       "Name: period, Length: 446166, dtype: datetime64[ns, America/Los_Angeles]"
      ]
     },
     "execution_count": 7,
     "metadata": {},
     "output_type": "execute_result"
    }
   ],
   "source": [
    "df_ciso.period.dt.tz_convert('America/Los_Angeles')"
   ]
  },
  {
   "cell_type": "code",
   "execution_count": 8,
   "metadata": {},
   "outputs": [],
   "source": [
    "df_ciso.period = df_ciso.period.dt.tz_convert('America/Los_Angeles')"
   ]
  },
  {
   "cell_type": "code",
   "execution_count": 9,
   "metadata": {},
   "outputs": [],
   "source": [
    "df_ciso.to_csv('../../../data/EIA/energy_by_fueltype_ciso.csv', index=False)\n"
   ]
  }
 ],
 "metadata": {
  "kernelspec": {
   "display_name": "Python 3",
   "language": "python",
   "name": "python3"
  },
  "language_info": {
   "codemirror_mode": {
    "name": "ipython",
    "version": 3
   },
   "file_extension": ".py",
   "mimetype": "text/x-python",
   "name": "python",
   "nbconvert_exporter": "python",
   "pygments_lexer": "ipython3",
   "version": "3.10.12"
  }
 },
 "nbformat": 4,
 "nbformat_minor": 2
}
