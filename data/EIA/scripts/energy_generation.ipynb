{
 "cells": [
  {
   "cell_type": "markdown",
   "id": "b450a0bc",
   "metadata": {},
   "source": [
    "### Script para consumir datos a través de la API de www.eia.gov.ar (U.S. Energy Information Administration)"
   ]
  },
  {
   "cell_type": "markdown",
   "id": "324e6dd2",
   "metadata": {},
   "source": [
    "#### Web Browser URL:\n",
    "\n",
    "https://www.eia.gov/opendata/browser/electricity/rto/fuel-type-data?frequency=hourly&data=value;&sortColumn=period;&sortDirection=desc;\n"
   ]
  },
  {
   "cell_type": "markdown",
   "id": "22408dc7",
   "metadata": {},
   "source": [
    "#### API URL:\n",
    "\n",
    "https://api.eia.gov/v2/electricity/rto/fuel-type-data/data/?frequency=hourly&data[0]=value&sort[0][column]=period&sort[0][direction]=desc&offset=0&length=5000\n"
   ]
  },
  {
   "cell_type": "markdown",
   "id": "04a2ff30",
   "metadata": {},
   "source": [
    "#### Series description:\n",
    "\n",
    "Hourly net generation by balancing authority and energy source. Source: Form EIA-930 Product: Hourly Electric Grid Monitor"
   ]
  },
  {
   "cell_type": "markdown",
   "id": "9bc1088f",
   "metadata": {},
   "source": [
    "#### My API key\n",
    "\n",
    "FJKiNhLijl33jXWHFDgCBvrS5hfYgTcrkrcTov1N\n",
    "\n",
    "Pero no la uso directamente, sino que está dentro del archivo .env"
   ]
  },
  {
   "cell_type": "markdown",
   "id": "e84434f4",
   "metadata": {},
   "source": [
    "#### Librería para consultar la API del eia:\n",
    "\n",
    "https://github.com/datons/python-eia"
   ]
  },
  {
   "cell_type": "markdown",
   "id": "cde781b2",
   "metadata": {},
   "source": [
    "#### Installation"
   ]
  },
  {
   "cell_type": "code",
   "execution_count": 1,
   "id": "e6cad087",
   "metadata": {},
   "outputs": [
    {
     "name": "stdout",
     "output_type": "stream",
     "text": [
      "Defaulting to user installation because normal site-packages is not writeable\n",
      "Collecting python-eia\n",
      "  Downloading python_eia-0.1.0-py3-none-any.whl (10 kB)\n",
      "Requirement already satisfied: urllib3>=2.0.0 in /home/vscode/.local/lib/python3.10/site-packages (from python-eia) (2.5.0)\n",
      "Requirement already satisfied: requests>=2.31.0 in /home/vscode/.local/lib/python3.10/site-packages (from python-eia) (2.32.4)\n",
      "Requirement already satisfied: certifi>=2017.4.17 in /home/vscode/.local/lib/python3.10/site-packages (from requests>=2.31.0->python-eia) (2025.7.14)\n",
      "Requirement already satisfied: charset_normalizer<4,>=2 in /home/vscode/.local/lib/python3.10/site-packages (from requests>=2.31.0->python-eia) (3.4.2)\n",
      "Requirement already satisfied: idna<4,>=2.5 in /home/vscode/.local/lib/python3.10/site-packages (from requests>=2.31.0->python-eia) (3.10)\n",
      "Installing collected packages: python-eia\n",
      "Successfully installed python-eia-0.1.0\n",
      "\n",
      "\u001b[1m[\u001b[0m\u001b[34;49mnotice\u001b[0m\u001b[1;39;49m]\u001b[0m\u001b[39;49m A new release of pip is available: \u001b[0m\u001b[31;49m23.0.1\u001b[0m\u001b[39;49m -> \u001b[0m\u001b[32;49m25.2\u001b[0m\n",
      "\u001b[1m[\u001b[0m\u001b[34;49mnotice\u001b[0m\u001b[1;39;49m]\u001b[0m\u001b[39;49m To update, run: \u001b[0m\u001b[32;49mpip install --upgrade pip\u001b[0m\n",
      "Note: you may need to restart the kernel to use updated packages.\n"
     ]
    }
   ],
   "source": [
    "pip install python-eia"
   ]
  },
  {
   "cell_type": "markdown",
   "id": "7cc0d439",
   "metadata": {},
   "source": [
    "### A partir de acá voy a seguir en la notebook que bajé como ejemplo de la web de la librería mencionada anteriormente.\n",
    "\n",
    "python_eia_Download_copy.ipynb"
   ]
  },
  {
   "cell_type": "code",
   "execution_count": null,
   "id": "10395e99",
   "metadata": {},
   "outputs": [],
   "source": []
  },
  {
   "cell_type": "code",
   "execution_count": null,
   "id": "afc6ae84",
   "metadata": {},
   "outputs": [],
   "source": []
  },
  {
   "cell_type": "code",
   "execution_count": null,
   "id": "2a81ee8a",
   "metadata": {},
   "outputs": [],
   "source": []
  }
 ],
 "metadata": {
  "kernelspec": {
   "display_name": "Python 3",
   "language": "python",
   "name": "python3"
  },
  "language_info": {
   "codemirror_mode": {
    "name": "ipython",
    "version": 3
   },
   "file_extension": ".py",
   "mimetype": "text/x-python",
   "name": "python",
   "nbconvert_exporter": "python",
   "pygments_lexer": "ipython3",
   "version": "3.10.12"
  }
 },
 "nbformat": 4,
 "nbformat_minor": 5
}
