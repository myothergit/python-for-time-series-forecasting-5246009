{
 "cells": [
  {
   "cell_type": "code",
   "execution_count": 1,
   "metadata": {},
   "outputs": [],
   "source": [
    "import pandas as pd"
   ]
  },
  {
   "cell_type": "code",
   "execution_count": 2,
   "metadata": {},
   "outputs": [
    {
     "data": {
      "text/html": [
       "<div>\n",
       "<style scoped>\n",
       "    .dataframe tbody tr th:only-of-type {\n",
       "        vertical-align: middle;\n",
       "    }\n",
       "\n",
       "    .dataframe tbody tr th {\n",
       "        vertical-align: top;\n",
       "    }\n",
       "\n",
       "    .dataframe thead th {\n",
       "        text-align: right;\n",
       "    }\n",
       "</style>\n",
       "<table border=\"1\" class=\"dataframe\">\n",
       "  <thead>\n",
       "    <tr style=\"text-align: right;\">\n",
       "      <th></th>\n",
       "      <th>CPI</th>\n",
       "      <th>MR</th>\n",
       "    </tr>\n",
       "    <tr>\n",
       "      <th>date</th>\n",
       "      <th></th>\n",
       "      <th></th>\n",
       "    </tr>\n",
       "  </thead>\n",
       "  <tbody>\n",
       "    <tr>\n",
       "      <th>2007-06-01</th>\n",
       "      <td>2.630579</td>\n",
       "      <td>6.475</td>\n",
       "    </tr>\n",
       "    <tr>\n",
       "      <th>2007-06-07</th>\n",
       "      <td>2.611391</td>\n",
       "      <td>6.530</td>\n",
       "    </tr>\n",
       "    <tr>\n",
       "      <th>...</th>\n",
       "      <td>...</td>\n",
       "      <td>...</td>\n",
       "    </tr>\n",
       "    <tr>\n",
       "      <th>2009-05-28</th>\n",
       "      <td>2.129682</td>\n",
       "      <td>4.910</td>\n",
       "    </tr>\n",
       "    <tr>\n",
       "      <th>2009-06-01</th>\n",
       "      <td>2.089895</td>\n",
       "      <td>5.100</td>\n",
       "    </tr>\n",
       "  </tbody>\n",
       "</table>\n",
       "<p>127 rows × 2 columns</p>\n",
       "</div>"
      ],
      "text/plain": [
       "                 CPI     MR\n",
       "date                       \n",
       "2007-06-01  2.630579  6.475\n",
       "2007-06-07  2.611391  6.530\n",
       "...              ...    ...\n",
       "2009-05-28  2.129682  4.910\n",
       "2009-06-01  2.089895  5.100\n",
       "\n",
       "[127 rows x 2 columns]"
      ]
     },
     "execution_count": 2,
     "metadata": {},
     "output_type": "execute_result"
    }
   ],
   "source": [
    "path = '../CPI_MR_2008.xlsx'    \n",
    "\n",
    "df = pd.read_excel(path, index_col=0, parse_dates=True)\n",
    "df"
   ]
  },
  {
   "cell_type": "code",
   "execution_count": 3,
   "metadata": {},
   "outputs": [
    {
     "data": {
      "text/html": [
       "<div>\n",
       "<style scoped>\n",
       "    .dataframe tbody tr th:only-of-type {\n",
       "        vertical-align: middle;\n",
       "    }\n",
       "\n",
       "    .dataframe tbody tr th {\n",
       "        vertical-align: top;\n",
       "    }\n",
       "\n",
       "    .dataframe thead th {\n",
       "        text-align: right;\n",
       "    }\n",
       "</style>\n",
       "<table border=\"1\" class=\"dataframe\">\n",
       "  <thead>\n",
       "    <tr style=\"text-align: right;\">\n",
       "      <th></th>\n",
       "      <th>CPI</th>\n",
       "      <th>MR</th>\n",
       "      <th>period</th>\n",
       "    </tr>\n",
       "    <tr>\n",
       "      <th>date</th>\n",
       "      <th></th>\n",
       "      <th></th>\n",
       "      <th></th>\n",
       "    </tr>\n",
       "  </thead>\n",
       "  <tbody>\n",
       "    <tr>\n",
       "      <th>2007-06-01</th>\n",
       "      <td>2.630579</td>\n",
       "      <td>6.475</td>\n",
       "      <td>Before</td>\n",
       "    </tr>\n",
       "    <tr>\n",
       "      <th>2007-06-07</th>\n",
       "      <td>2.611391</td>\n",
       "      <td>6.530</td>\n",
       "      <td>Before</td>\n",
       "    </tr>\n",
       "    <tr>\n",
       "      <th>...</th>\n",
       "      <td>...</td>\n",
       "      <td>...</td>\n",
       "      <td>...</td>\n",
       "    </tr>\n",
       "    <tr>\n",
       "      <th>2009-05-28</th>\n",
       "      <td>2.129682</td>\n",
       "      <td>4.910</td>\n",
       "      <td>After</td>\n",
       "    </tr>\n",
       "    <tr>\n",
       "      <th>2009-06-01</th>\n",
       "      <td>2.089895</td>\n",
       "      <td>5.100</td>\n",
       "      <td>After</td>\n",
       "    </tr>\n",
       "  </tbody>\n",
       "</table>\n",
       "<p>127 rows × 3 columns</p>\n",
       "</div>"
      ],
      "text/plain": [
       "                 CPI     MR  period\n",
       "date                               \n",
       "2007-06-01  2.630579  6.475  Before\n",
       "2007-06-07  2.611391  6.530  Before\n",
       "...              ...    ...     ...\n",
       "2009-05-28  2.129682  4.910   After\n",
       "2009-06-01  2.089895  5.100   After\n",
       "\n",
       "[127 rows x 3 columns]"
      ]
     },
     "execution_count": 3,
     "metadata": {},
     "output_type": "execute_result"
    }
   ],
   "source": [
    "dates = [\"2007-06-01\", \"2008-01-01\", \"2008-09-01\", \"2010-01-01\"]\n",
    "dates = pd.to_datetime(dates)\n",
    "\n",
    "periods = pd.cut(\n",
    "    df.index, bins=dates, labels=[\"Before\", \"During\", \"After\"], right=False\n",
    ")\n",
    "\n",
    "df[\"period\"] = periods\n",
    "df"
   ]
  },
  {
   "cell_type": "code",
   "execution_count": 4,
   "metadata": {},
   "outputs": [],
   "source": [
    "df.to_parquet(path.replace('.xlsx', '.parquet'))"
   ]
  },
  {
   "cell_type": "code",
   "execution_count": null,
   "metadata": {},
   "outputs": [],
   "source": [
    "df.query('period == \"After\"').drop(columns=['period']).to_parquet(path.replace('.xlsx', '_after.parquet'))"
   ]
  },
  {
   "cell_type": "code",
   "execution_count": 4,
   "metadata": {},
   "outputs": [],
   "source": [
    "import numpy as np\n",
    "import ruptures as rpt\n",
    "\n",
    "X = df[['CPI']]\n",
    "y = df['MR']\n",
    "\n",
    "signal = np.column_stack([X, y])  # shape: (n_samples, 2)"
   ]
  },
  {
   "cell_type": "code",
   "execution_count": 5,
   "metadata": {},
   "outputs": [],
   "source": [
    "algo = rpt.Pelt(model=\"linear\").fit(signal)"
   ]
  },
  {
   "cell_type": "code",
   "execution_count": 6,
   "metadata": {},
   "outputs": [],
   "source": [
    "dfs = {}"
   ]
  },
  {
   "cell_type": "code",
   "execution_count": 7,
   "metadata": {},
   "outputs": [
    {
     "data": {
      "image/png": "[encoded data removed]",
      "text/plain": [
       "<Figure size 1000x400 with 2 Axes>"
      ]
     },
     "metadata": {},
     "output_type": "display_data"
    }
   ],
   "source": [
    "def detect_and_display_breakpoints(algo, signal, pen=1):\n",
    "    breakpoints = algo.predict(pen=pen)\n",
    "    rpt.display(signal, breakpoints)\n",
    "\n",
    "detect_and_display_breakpoints(algo, signal)"
   ]
  },
  {
   "cell_type": "code",
   "execution_count": 8,
   "metadata": {},
   "outputs": [
    {
     "data": {
      "image/png": "[encoded data removed]",
      "text/plain": [
       "<Figure size 1000x400 with 2 Axes>"
      ]
     },
     "metadata": {},
     "output_type": "display_data"
    }
   ],
   "source": [
    "detect_and_display_breakpoints(algo, signal, pen=0.2)"
   ]
  },
  {
   "cell_type": "code",
   "execution_count": 9,
   "metadata": {},
   "outputs": [
    {
     "data": {
      "image/png": "[encoded data removed]",
      "text/plain": [
       "<Figure size 1000x400 with 2 Axes>"
      ]
     },
     "metadata": {},
     "output_type": "display_data"
    }
   ],
   "source": [
    "import ruptures as rpt\n",
    "import numpy as np\n",
    "import matplotlib.pyplot as plt\n",
    "\n",
    "signal = df[[\"MR\", \"CPI\"]].dropna().values\n",
    "penalties = np.linspace(0.01, 2, 40)  # adjust as needed\n",
    "n_bkps = []\n",
    "costs = []\n",
    "\n",
    "for pen in penalties:\n",
    "    algo = rpt.Pelt(model=\"linear\").fit(signal)\n",
    "    bkps = algo.predict(pen=pen)\n",
    "    n_bkps.append(len(bkps))\n",
    "    costs.append(algo.cost.sum_of_costs(bkps))\n",
    "\n",
    "plt.figure(figsize=(10, 4))\n",
    "plt.subplot(1, 2, 1)\n",
    "plt.plot(penalties, n_bkps, marker=\"o\")\n",
    "plt.title(\"Penalty vs Number of Breakpoints\")\n",
    "\n",
    "plt.subplot(1, 2, 2)\n",
    "plt.plot(penalties, costs, marker=\"o\")\n",
    "plt.title(\"Penalty vs Sum of Costs\")\n",
    "plt.tight_layout()\n",
    "plt.show()"
   ]
  },
  {
   "cell_type": "code",
   "execution_count": 10,
   "metadata": {},
   "outputs": [
    {
     "data": {
      "text/plain": [
       "(<Figure size 1000x400 with 2 Axes>, array([<Axes: >, <Axes: >], dtype=object))"
      ]
     },
     "execution_count": 10,
     "metadata": {},
     "output_type": "execute_result"
    },
    {
     "data": {
      "image/png": "[encoded data removed]",
      "text/plain": [
       "<Figure size 1000x400 with 2 Axes>"
      ]
     },
     "metadata": {},
     "output_type": "display_data"
    }
   ],
   "source": [
    "breakpoints = algo.predict(pen=0.72)\n",
    "rpt.display(signal, breakpoints)"
   ]
  },
  {
   "cell_type": "code",
   "execution_count": 11,
   "metadata": {},
   "outputs": [],
   "source": [
    "df[\"Period\"] = None\n",
    "\n",
    "start = 0\n",
    "for label, bp in enumerate(breakpoints):\n",
    "    df.iloc[start:bp, df.columns.get_loc(\"Period\")] = label\n",
    "    start = bp\n"
   ]
  },
  {
   "cell_type": "code",
   "execution_count": 12,
   "metadata": {},
   "outputs": [],
   "source": [
    "r = df.reset_index().groupby(\"Period\").date.agg([\"min\", \"max\"])\n"
   ]
  },
  {
   "cell_type": "code",
   "execution_count": 13,
   "metadata": {},
   "outputs": [],
   "source": [
    "dfs['algo'] = r"
   ]
  },
  {
   "cell_type": "code",
   "execution_count": 14,
   "metadata": {},
   "outputs": [
    {
     "data": {
      "application/vnd.plotly.v1+json": {
       "config": {
        "plotlyServerURL": "https://plot.ly"
       },
       "data": [
        {
         "hovertemplate": "Period=0<br>MR=%{x}<br>CPI=%{y}<extra></extra>",
         "legendgroup": "0",
         "marker": {
          "color": "#636efa",
          "symbol": "circle"
         },
         "mode": "markers",
         "name": "0",
         "orientation": "v",
         "showlegend": true,
         "type": "scatter",
         "x": [
          6.475,
          6.53,
          6.74,
          6.69,
          6.67,
          6.65,
          6.63,
          6.73,
          6.73,
          6.69,
          6.685,
          6.68,
          6.59,
          6.62,
          6.52,
          6.45,
          6.455,
          6.46,
          6.31,
          6.34,
          6.42,
          6.395,
          6.37,
          6.4,
          6.4
         ],
         "xaxis": "x",
         "y": [
          2.6305791,
          2.6113915,
          2.5922039,
          2.5730163,
          2.5538287,
          2.5346411,
          2.52142092,
          2.50820074,
          2.49498056,
          2.48176038,
          2.4685402,
          2.471097216666667,
          2.473654233333333,
          2.47621125,
          2.478768266666667,
          2.481325283333333,
          2.4838823,
          2.4877708,
          2.4916593,
          2.4955478,
          2.4994363,
          2.5033248,
          2.53393378,
          2.56454276,
          2.59515174
         ],
         "yaxis": "y"
        },
        {
         "hovertemplate": "<b>OLS trendline</b><br>CPI = -0.0114711 * MR + 2.59536<br>R<sup>2</sup>=0.001080<br><br>Period=0<br>MR=%{x}<br>CPI=%{y} <b>(trend)</b><extra></extra>",
         "legendgroup": "0",
         "marker": {
          "color": "#636efa",
          "symbol": "circle"
         },
         "mode": "lines",
         "name": "0",
         "showlegend": false,
         "type": "scatter",
         "x": [
          6.31,
          6.34,
          6.37,
          6.395,
          6.4,
          6.4,
          6.42,
          6.45,
          6.455,
          6.46,
          6.475,
          6.52,
          6.53,
          6.59,
          6.62,
          6.63,
          6.65,
          6.67,
          6.68,
          6.685,
          6.69,
          6.69,
          6.73,
          6.73,
          6.74
         ],
         "xaxis": "x",
         "y": [
          2.5229727606768715,
          2.522628629110944,
          2.522284497545016,
          2.521997721240076,
          2.521940365979088,
          2.521940365979088,
          2.521710944935136,
          2.5213668133692084,
          2.5213094581082203,
          2.521252102847232,
          2.5210800370642685,
          2.5205638397153765,
          2.5204491291934006,
          2.519760866061545,
          2.5194167344956173,
          2.519302023973641,
          2.5190726029296893,
          2.5188431818857375,
          2.5187284713637617,
          2.5186711161027735,
          2.5186137608417853,
          2.5186137608417853,
          2.518154918753882,
          2.518154918753882,
          2.518040208231906
         ],
         "yaxis": "y"
        },
        {
         "hovertemplate": "Period=1<br>MR=%{x}<br>CPI=%{y}<extra></extra>",
         "legendgroup": "1",
         "marker": {
          "color": "#EF553B",
          "symbol": "circle"
         },
         "mode": "markers",
         "name": "1",
         "orientation": "v",
         "showlegend": true,
         "type": "scatter",
         "x": [
          6.33,
          6.26,
          6.24,
          6.24,
          6.2,
          6.1,
          6.029999999999999,
          5.96,
          6.11,
          6.14,
          6.17,
          6.12,
          6.07,
          5.87,
          5.69,
          5.48,
          5.68,
          5.675,
          5.67,
          5.72,
          6.04,
          6.24,
          6.135,
          6.03,
          6.13
         ],
         "xaxis": "x2",
         "y": [
          2.62576072,
          2.6563697,
          2.66764248,
          2.67891526,
          2.69018804,
          2.70146082,
          2.7127336,
          2.71959496,
          2.72645632,
          2.73331768,
          2.74017904,
          2.7470404,
          2.72529455,
          2.7035487,
          2.68180285,
          2.660057,
          2.63831115,
          2.6165653,
          2.63100552,
          2.64544574,
          2.65988596,
          2.67432618,
          2.6887664,
          2.69603518,
          2.70330396
         ],
         "yaxis": "y2"
        },
        {
         "hovertemplate": "<b>OLS trendline</b><br>CPI = 0.0601182 * MR + 2.32346<br>R<sup>2</sup>=0.141529<br><br>Period=1<br>MR=%{x}<br>CPI=%{y} <b>(trend)</b><extra></extra>",
         "legendgroup": "1",
         "marker": {
          "color": "#EF553B",
          "symbol": "circle"
         },
         "mode": "lines",
         "name": "1",
         "showlegend": false,
         "type": "scatter",
         "x": [
          5.48,
          5.67,
          5.675,
          5.68,
          5.69,
          5.72,
          5.87,
          5.96,
          6.029999999999999,
          6.03,
          6.04,
          6.07,
          6.1,
          6.11,
          6.12,
          6.13,
          6.135,
          6.14,
          6.17,
          6.2,
          6.24,
          6.24,
          6.24,
          6.26,
          6.33
         ],
         "xaxis": "x2",
         "y": [
          2.6529052684374013,
          2.6643277291892637,
          2.664628320261681,
          2.6649289113340986,
          2.6655300934789334,
          2.667333639913438,
          2.676351372085961,
          2.681762011389475,
          2.685970286403319,
          2.685970286403319,
          2.686571468548154,
          2.688375014982659,
          2.6901785614171634,
          2.6907797435619982,
          2.691380925706833,
          2.691982107851668,
          2.6922826989240853,
          2.6925832899965028,
          2.6943868364310073,
          2.696190382865512,
          2.6985951114448516,
          2.6985951114448516,
          2.6985951114448516,
          2.6997974757345213,
          2.7040057507483652
         ],
         "yaxis": "y2"
        },
        {
         "hovertemplate": "Period=2<br>MR=%{x}<br>CPI=%{y}<extra></extra>",
         "legendgroup": "2",
         "marker": {
          "color": "#00cc96",
          "symbol": "circle"
         },
         "mode": "markers",
         "name": "2",
         "orientation": "v",
         "showlegend": true,
         "type": "scatter",
         "x": [
          5.87,
          5.85,
          5.865,
          5.88,
          5.88,
          5.88,
          6.03,
          6.06,
          6.05,
          6.01,
          5.98,
          6.08,
          6.085,
          6.09,
          6.32,
          6.42,
          6.45,
          6.4,
          6.35,
          6.37,
          6.26,
          6.63,
          6.52,
          6.52,
          6.52,
          6.52,
          6.47,
          6.4,
          6.375,
          6.35,
          5.93,
          5.78,
          6.09,
          6.095,
          6.1,
          5.94,
          6.46,
          6.04,
          6.46,
          6.33,
          6.2,
          6.14,
          6.04,
          5.97,
          5.75,
          5.53,
          5.47,
          5.19,
          5.14,
          5.1,
          5.055,
          5.01,
          4.96,
          5.12,
          5.1,
          5.175,
          5.25,
          5.16,
          5.04,
          5.07,
          5.11,
          5.15,
          5.03,
          4.98,
          4.85,
          4.815,
          4.78,
          4.87,
          4.82,
          4.8,
          4.78,
          4.81,
          4.84,
          4.86,
          4.82,
          4.91,
          5.1
         ],
         "xaxis": "x3",
         "y": [
          2.71057274,
          2.71784152,
          2.7251103,
          2.73883662,
          2.75256294,
          2.76628926,
          2.78001558,
          2.7937419,
          2.82253276,
          2.85132362,
          2.88011448,
          2.90890534,
          2.9376962,
          2.9530078,
          2.9683194,
          2.983631,
          2.9989426,
          3.0142542,
          3.025962816666667,
          3.037671433333333,
          3.04938005,
          3.061088666666667,
          3.072797283333333,
          3.0845059,
          3.08294042,
          3.08137494,
          3.07980946,
          3.07824398,
          3.0766785,
          3.04718178,
          3.01768506,
          2.98818834,
          2.95869162,
          2.9291949,
          2.90540615,
          2.8816174,
          2.85782865,
          2.8340399,
          2.81025115,
          2.7864624,
          2.75525602,
          2.72404964,
          2.69284326,
          2.66163688,
          2.6304305,
          2.6174001,
          2.6043697,
          2.5913393,
          2.5783089,
          2.5652785,
          2.5522481,
          2.55369746,
          2.55514682,
          2.55659618,
          2.55804554,
          2.5594949,
          2.5383123,
          2.5171297,
          2.4959471,
          2.4747645,
          2.4535819,
          2.43809466,
          2.42260742,
          2.40712018,
          2.39163294,
          2.3761457,
          2.361592883333334,
          2.347040066666667,
          2.33248725,
          2.317934433333333,
          2.303381616666667,
          2.2888288,
          2.249042,
          2.2092552,
          2.1694684,
          2.1296816,
          2.0898948
         ],
         "yaxis": "y3"
        },
        {
         "hovertemplate": "<b>OLS trendline</b><br>CPI = 0.416 * MR + 0.333803<br>R<sup>2</sup>=0.858724<br><br>Period=2<br>MR=%{x}<br>CPI=%{y} <b>(trend)</b><extra></extra>",
         "legendgroup": "2",
         "marker": {
          "color": "#00cc96",
          "symbol": "circle"
         },
         "mode": "lines",
         "name": "2",
         "showlegend": false,
         "type": "scatter",
         "x": [
          4.78,
          4.78,
          4.8,
          4.81,
          4.815,
          4.82,
          4.82,
          4.84,
          4.85,
          4.86,
          4.87,
          4.91,
          4.96,
          4.98,
          5.01,
          5.03,
          5.04,
          5.055,
          5.07,
          5.1,
          5.1,
          5.1,
          5.11,
          5.12,
          5.14,
          5.15,
          5.16,
          5.175,
          5.19,
          5.25,
          5.47,
          5.53,
          5.75,
          5.78,
          5.85,
          5.865,
          5.87,
          5.88,
          5.88,
          5.88,
          5.93,
          5.94,
          5.97,
          5.98,
          6.01,
          6.03,
          6.04,
          6.04,
          6.05,
          6.06,
          6.08,
          6.085,
          6.09,
          6.09,
          6.095,
          6.1,
          6.14,
          6.2,
          6.26,
          6.32,
          6.33,
          6.35,
          6.35,
          6.37,
          6.375,
          6.4,
          6.4,
          6.42,
          6.45,
          6.46,
          6.46,
          6.47,
          6.52,
          6.52,
          6.52,
          6.52,
          6.63
         ],
         "xaxis": "x3",
         "y": [
          2.322281543376056,
          2.322281543376056,
          2.3306015392508646,
          2.3347615371882684,
          2.336841536156971,
          2.338921535125673,
          2.338921535125673,
          2.3472415310004813,
          2.351401528937885,
          2.35556152687529,
          2.3597215248126937,
          2.3763615165623104,
          2.3971615062493314,
          2.40548150212414,
          2.4179614959363525,
          2.426281491811161,
          2.430441489748565,
          2.4366814866546713,
          2.4429214835607778,
          2.45540147737299,
          2.45540147737299,
          2.45540147737299,
          2.4595614753103945,
          2.4637214732477988,
          2.472041469122607,
          2.476201467060011,
          2.4803614649974155,
          2.4866014619035215,
          2.492841458809628,
          2.5178014464340532,
          2.609321401056945,
          2.6342813886813703,
          2.7258013433042625,
          2.7382813371164754,
          2.7674013226783045,
          2.773641319584411,
          2.775721318553113,
          2.779881316490517,
          2.779881316490517,
          2.779881316490517,
          2.800681306177538,
          2.8048413041149423,
          2.8173212979271547,
          2.821481295864559,
          2.8339612896767714,
          2.84228128555158,
          2.8464412834889843,
          2.8464412834889843,
          2.850601281426388,
          2.8547612793637924,
          2.863081275238601,
          2.865161274207303,
          2.867241273176005,
          2.867241273176005,
          2.869321272144707,
          2.871401271113409,
          2.888041262863026,
          2.913001250487451,
          2.9379612381118765,
          2.962921225736302,
          2.9670812236737056,
          2.9754012195485138,
          2.9754012195485138,
          2.9837212154233224,
          2.9858012143920245,
          2.9962012092355352,
          2.9962012092355352,
          3.0045212051103434,
          3.0170011989225562,
          3.02116119685996,
          3.02116119685996,
          3.0253211947973644,
          3.046121184484385,
          3.046121184484385,
          3.046121184484385,
          3.046121184484385,
          3.0918811617958313
         ],
         "yaxis": "y3"
        }
       ],
       "layout": {
        "annotations": [
         {
          "font": {},
          "showarrow": false,
          "text": "Period=0",
          "x": 0.15999999999999998,
          "xanchor": "center",
          "xref": "paper",
          "y": 1,
          "yanchor": "bottom",
          "yref": "paper"
         },
         {
          "font": {},
          "showarrow": false,
          "text": "Period=1",
          "x": 0.49999999999999994,
          "xanchor": "center",
          "xref": "paper",
          "y": 1,
          "yanchor": "bottom",
          "yref": "paper"
         },
         {
          "font": {},
          "showarrow": false,
          "text": "Period=2",
          "x": 0.8399999999999999,
          "xanchor": "center",
          "xref": "paper",
          "y": 1,
          "yanchor": "bottom",
          "yref": "paper"
         }
        ],
        "legend": {
         "title": {
          "text": "Period"
         },
         "tracegroupgap": 0
        },
        "margin": {
         "t": 60
        },
        "template": {
         "data": {
          "bar": [
           {
            "error_x": {
             "color": "#2a3f5f"
            },
            "error_y": {
             "color": "#2a3f5f"
            },
            "marker": {
             "line": {
              "color": "#E5ECF6",
              "width": 0.5
             },
             "pattern": {
              "fillmode": "overlay",
              "size": 10,
              "solidity": 0.2
             }
            },
            "type": "bar"
           }
          ],
          "barpolar": [
           {
            "marker": {
             "line": {
              "color": "#E5ECF6",
              "width": 0.5
             },
             "pattern": {
              "fillmode": "overlay",
              "size": 10,
              "solidity": 0.2
             }
            },
            "type": "barpolar"
           }
          ],
          "carpet": [
           {
            "aaxis": {
             "endlinecolor": "#2a3f5f",
             "gridcolor": "white",
             "linecolor": "white",
             "minorgridcolor": "white",
             "startlinecolor": "#2a3f5f"
            },
            "baxis": {
             "endlinecolor": "#2a3f5f",
             "gridcolor": "white",
             "linecolor": "white",
             "minorgridcolor": "white",
             "startlinecolor": "#2a3f5f"
            },
            "type": "carpet"
           }
          ],
          "choropleth": [
           {
            "colorbar": {
             "outlinewidth": 0,
             "ticks": ""
            },
            "type": "choropleth"
           }
          ],
          "contour": [
           {
            "colorbar": {
             "outlinewidth": 0,
             "ticks": ""
            },
            "colorscale": [
             [
              0,
              "#0d0887"
             ],
             [
              0.1111111111111111,
              "#46039f"
             ],
             [
              0.2222222222222222,
              "#7201a8"
             ],
             [
              0.3333333333333333,
              "#9c179e"
             ],
             [
              0.4444444444444444,
              "#bd3786"
             ],
             [
              0.5555555555555556,
              "#d8576b"
             ],
             [
              0.6666666666666666,
              "#ed7953"
             ],
             [
              0.7777777777777778,
              "#fb9f3a"
             ],
             [
              0.8888888888888888,
              "#fdca26"
             ],
             [
              1,
              "#f0f921"
             ]
            ],
            "type": "contour"
           }
          ],
          "contourcarpet": [
           {
            "colorbar": {
             "outlinewidth": 0,
             "ticks": ""
            },
            "type": "contourcarpet"
           }
          ],
          "heatmap": [
           {
            "colorbar": {
             "outlinewidth": 0,
             "ticks": ""
            },
            "colorscale": [
             [
              0,
              "#0d0887"
             ],
             [
              0.1111111111111111,
              "#46039f"
             ],
             [
              0.2222222222222222,
              "#7201a8"
             ],
             [
              0.3333333333333333,
              "#9c179e"
             ],
             [
              0.4444444444444444,
              "#bd3786"
             ],
             [
              0.5555555555555556,
              "#d8576b"
             ],
             [
              0.6666666666666666,
              "#ed7953"
             ],
             [
              0.7777777777777778,
              "#fb9f3a"
             ],
             [
              0.8888888888888888,
              "#fdca26"
             ],
             [
              1,
              "#f0f921"
             ]
            ],
            "type": "heatmap"
           }
          ],
          "heatmapgl": [
           {
            "colorbar": {
             "outlinewidth": 0,
             "ticks": ""
            },
            "colorscale": [
             [
              0,
              "#0d0887"
             ],
             [
              0.1111111111111111,
              "#46039f"
             ],
             [
              0.2222222222222222,
              "#7201a8"
             ],
             [
              0.3333333333333333,
              "#9c179e"
             ],
             [
              0.4444444444444444,
              "#bd3786"
             ],
             [
              0.5555555555555556,
              "#d8576b"
             ],
             [
              0.6666666666666666,
              "#ed7953"
             ],
             [
              0.7777777777777778,
              "#fb9f3a"
             ],
             [
              0.8888888888888888,
              "#fdca26"
             ],
             [
              1,
              "#f0f921"
             ]
            ],
            "type": "heatmapgl"
           }
          ],
          "histogram": [
           {
            "marker": {
             "pattern": {
              "fillmode": "overlay",
              "size": 10,
              "solidity": 0.2
             }
            },
            "type": "histogram"
           }
          ],
          "histogram2d": [
           {
            "colorbar": {
             "outlinewidth": 0,
             "ticks": ""
            },
            "colorscale": [
             [
              0,
              "#0d0887"
             ],
             [
              0.1111111111111111,
              "#46039f"
             ],
             [
              0.2222222222222222,
              "#7201a8"
             ],
             [
              0.3333333333333333,
              "#9c179e"
             ],
             [
              0.4444444444444444,
              "#bd3786"
             ],
             [
              0.5555555555555556,
              "#d8576b"
             ],
             [
              0.6666666666666666,
              "#ed7953"
             ],
             [
              0.7777777777777778,
              "#fb9f3a"
             ],
             [
              0.8888888888888888,
              "#fdca26"
             ],
             [
              1,
              "#f0f921"
             ]
            ],
            "type": "histogram2d"
           }
          ],
          "histogram2dcontour": [
           {
            "colorbar": {
             "outlinewidth": 0,
             "ticks": ""
            },
            "colorscale": [
             [
              0,
              "#0d0887"
             ],
             [
              0.1111111111111111,
              "#46039f"
             ],
             [
              0.2222222222222222,
              "#7201a8"
             ],
             [
              0.3333333333333333,
              "#9c179e"
             ],
             [
              0.4444444444444444,
              "#bd3786"
             ],
             [
              0.5555555555555556,
              "#d8576b"
             ],
             [
              0.6666666666666666,
              "#ed7953"
             ],
             [
              0.7777777777777778,
              "#fb9f3a"
             ],
             [
              0.8888888888888888,
              "#fdca26"
             ],
             [
              1,
              "#f0f921"
             ]
            ],
            "type": "histogram2dcontour"
           }
          ],
          "mesh3d": [
           {
            "colorbar": {
             "outlinewidth": 0,
             "ticks": ""
            },
            "type": "mesh3d"
           }
          ],
          "parcoords": [
           {
            "line": {
             "colorbar": {
              "outlinewidth": 0,
              "ticks": ""
             }
            },
            "type": "parcoords"
           }
          ],
          "pie": [
           {
            "automargin": true,
            "type": "pie"
           }
          ],
          "scatter": [
           {
            "fillpattern": {
             "fillmode": "overlay",
             "size": 10,
             "solidity": 0.2
            },
            "type": "scatter"
           }
          ],
          "scatter3d": [
           {
            "line": {
             "colorbar": {
              "outlinewidth": 0,
              "ticks": ""
             }
            },
            "marker": {
             "colorbar": {
              "outlinewidth": 0,
              "ticks": ""
             }
            },
            "type": "scatter3d"
           }
          ],
          "scattercarpet": [
           {
            "marker": {
             "colorbar": {
              "outlinewidth": 0,
              "ticks": ""
             }
            },
            "type": "scattercarpet"
           }
          ],
          "scattergeo": [
           {
            "marker": {
             "colorbar": {
              "outlinewidth": 0,
              "ticks": ""
             }
            },
            "type": "scattergeo"
           }
          ],
          "scattergl": [
           {
            "marker": {
             "colorbar": {
              "outlinewidth": 0,
              "ticks": ""
             }
            },
            "type": "scattergl"
           }
          ],
          "scattermapbox": [
           {
            "marker": {
             "colorbar": {
              "outlinewidth": 0,
              "ticks": ""
             }
            },
            "type": "scattermapbox"
           }
          ],
          "scatterpolar": [
           {
            "marker": {
             "colorbar": {
              "outlinewidth": 0,
              "ticks": ""
             }
            },
            "type": "scatterpolar"
           }
          ],
          "scatterpolargl": [
           {
            "marker": {
             "colorbar": {
              "outlinewidth": 0,
              "ticks": ""
             }
            },
            "type": "scatterpolargl"
           }
          ],
          "scatterternary": [
           {
            "marker": {
             "colorbar": {
              "outlinewidth": 0,
              "ticks": ""
             }
            },
            "type": "scatterternary"
           }
          ],
          "surface": [
           {
            "colorbar": {
             "outlinewidth": 0,
             "ticks": ""
            },
            "colorscale": [
             [
              0,
              "#0d0887"
             ],
             [
              0.1111111111111111,
              "#46039f"
             ],
             [
              0.2222222222222222,
              "#7201a8"
             ],
             [
              0.3333333333333333,
              "#9c179e"
             ],
             [
              0.4444444444444444,
              "#bd3786"
             ],
             [
              0.5555555555555556,
              "#d8576b"
             ],
             [
              0.6666666666666666,
              "#ed7953"
             ],
             [
              0.7777777777777778,
              "#fb9f3a"
             ],
             [
              0.8888888888888888,
              "#fdca26"
             ],
             [
              1,
              "#f0f921"
             ]
            ],
            "type": "surface"
           }
          ],
          "table": [
           {
            "cells": {
             "fill": {
              "color": "#EBF0F8"
             },
             "line": {
              "color": "white"
             }
            },
            "header": {
             "fill": {
              "color": "#C8D4E3"
             },
             "line": {
              "color": "white"
             }
            },
            "type": "table"
           }
          ]
         },
         "layout": {
          "annotationdefaults": {
           "arrowcolor": "#2a3f5f",
           "arrowhead": 0,
           "arrowwidth": 1
          },
          "autotypenumbers": "strict",
          "coloraxis": {
           "colorbar": {
            "outlinewidth": 0,
            "ticks": ""
           }
          },
          "colorscale": {
           "diverging": [
            [
             0,
             "#8e0152"
            ],
            [
             0.1,
             "#c51b7d"
            ],
            [
             0.2,
             "#de77ae"
            ],
            [
             0.3,
             "#f1b6da"
            ],
            [
             0.4,
             "#fde0ef"
            ],
            [
             0.5,
             "#f7f7f7"
            ],
            [
             0.6,
             "#e6f5d0"
            ],
            [
             0.7,
             "#b8e186"
            ],
            [
             0.8,
             "#7fbc41"
            ],
            [
             0.9,
             "#4d9221"
            ],
            [
             1,
             "#276419"
            ]
           ],
           "sequential": [
            [
             0,
             "#0d0887"
            ],
            [
             0.1111111111111111,
             "#46039f"
            ],
            [
             0.2222222222222222,
             "#7201a8"
            ],
            [
             0.3333333333333333,
             "#9c179e"
            ],
            [
             0.4444444444444444,
             "#bd3786"
            ],
            [
             0.5555555555555556,
             "#d8576b"
            ],
            [
             0.6666666666666666,
             "#ed7953"
            ],
            [
             0.7777777777777778,
             "#fb9f3a"
            ],
            [
             0.8888888888888888,
             "#fdca26"
            ],
            [
             1,
             "#f0f921"
            ]
           ],
           "sequentialminus": [
            [
             0,
             "#0d0887"
            ],
            [
             0.1111111111111111,
             "#46039f"
            ],
            [
             0.2222222222222222,
             "#7201a8"
            ],
            [
             0.3333333333333333,
             "#9c179e"
            ],
            [
             0.4444444444444444,
             "#bd3786"
            ],
            [
             0.5555555555555556,
             "#d8576b"
            ],
            [
             0.6666666666666666,
             "#ed7953"
            ],
            [
             0.7777777777777778,
             "#fb9f3a"
            ],
            [
             0.8888888888888888,
             "#fdca26"
            ],
            [
             1,
             "#f0f921"
            ]
           ]
          },
          "colorway": [
           "#636efa",
           "#EF553B",
           "#00cc96",
           "#ab63fa",
           "#FFA15A",
           "#19d3f3",
           "#FF6692",
           "#B6E880",
           "#FF97FF",
           "#FECB52"
          ],
          "font": {
           "color": "#2a3f5f"
          },
          "geo": {
           "bgcolor": "white",
           "lakecolor": "white",
           "landcolor": "#E5ECF6",
           "showlakes": true,
           "showland": true,
           "subunitcolor": "white"
          },
          "hoverlabel": {
           "align": "left"
          },
          "hovermode": "closest",
          "mapbox": {
           "style": "light"
          },
          "paper_bgcolor": "white",
          "plot_bgcolor": "#E5ECF6",
          "polar": {
           "angularaxis": {
            "gridcolor": "white",
            "linecolor": "white",
            "ticks": ""
           },
           "bgcolor": "#E5ECF6",
           "radialaxis": {
            "gridcolor": "white",
            "linecolor": "white",
            "ticks": ""
           }
          },
          "scene": {
           "xaxis": {
            "backgroundcolor": "#E5ECF6",
            "gridcolor": "white",
            "gridwidth": 2,
            "linecolor": "white",
            "showbackground": true,
            "ticks": "",
            "zerolinecolor": "white"
           },
           "yaxis": {
            "backgroundcolor": "#E5ECF6",
            "gridcolor": "white",
            "gridwidth": 2,
            "linecolor": "white",
            "showbackground": true,
            "ticks": "",
            "zerolinecolor": "white"
           },
           "zaxis": {
            "backgroundcolor": "#E5ECF6",
            "gridcolor": "white",
            "gridwidth": 2,
            "linecolor": "white",
            "showbackground": true,
            "ticks": "",
            "zerolinecolor": "white"
           }
          },
          "shapedefaults": {
           "line": {
            "color": "#2a3f5f"
           }
          },
          "ternary": {
           "aaxis": {
            "gridcolor": "white",
            "linecolor": "white",
            "ticks": ""
           },
           "baxis": {
            "gridcolor": "white",
            "linecolor": "white",
            "ticks": ""
           },
           "bgcolor": "#E5ECF6",
           "caxis": {
            "gridcolor": "white",
            "linecolor": "white",
            "ticks": ""
           }
          },
          "title": {
           "x": 0.05
          },
          "xaxis": {
           "automargin": true,
           "gridcolor": "white",
           "linecolor": "white",
           "ticks": "",
           "title": {
            "standoff": 15
           },
           "zerolinecolor": "white",
           "zerolinewidth": 2
          },
          "yaxis": {
           "automargin": true,
           "gridcolor": "white",
           "linecolor": "white",
           "ticks": "",
           "title": {
            "standoff": 15
           },
           "zerolinecolor": "white",
           "zerolinewidth": 2
          }
         }
        },
        "xaxis": {
         "anchor": "y",
         "domain": [
          0,
          0.31999999999999995
         ],
         "title": {
          "text": "MR"
         }
        },
        "xaxis2": {
         "anchor": "y2",
         "domain": [
          0.33999999999999997,
          0.6599999999999999
         ],
         "title": {
          "text": "MR"
         }
        },
        "xaxis3": {
         "anchor": "y3",
         "domain": [
          0.6799999999999999,
          0.9999999999999999
         ],
         "title": {
          "text": "MR"
         }
        },
        "yaxis": {
         "anchor": "x",
         "domain": [
          0,
          1
         ],
         "title": {
          "text": "CPI"
         }
        },
        "yaxis2": {
         "anchor": "x2",
         "domain": [
          0,
          1
         ],
         "showticklabels": false
        },
        "yaxis3": {
         "anchor": "x3",
         "domain": [
          0,
          1
         ],
         "showticklabels": false
        }
       }
      }
     },
     "metadata": {},
     "output_type": "display_data"
    }
   ],
   "source": [
    "import plotly.express as px\n",
    "\n",
    "fig = px.scatter(\n",
    "    df.reset_index(),\n",
    "    x=\"MR\",\n",
    "    y=\"CPI\",\n",
    "    color=\"Period\",\n",
    "    trendline=\"ols\",\n",
    "    facet_col=\"Period\",\n",
    ")\n",
    "fig.update_xaxes(matches=None)\n",
    "fig.update_yaxes(matches=None)\n"
   ]
  },
  {
   "cell_type": "code",
   "execution_count": 18,
   "metadata": {},
   "outputs": [],
   "source": [
    "df.query('Period == 2').drop(columns=['Period']).to_parquet('../../FRED/cpi_mr_2008_after.parquet')"
   ]
  },
  {
   "cell_type": "code",
   "execution_count": 15,
   "metadata": {},
   "outputs": [
    {
     "data": {
      "text/html": [
       "<div>\n",
       "<style scoped>\n",
       "    .dataframe tbody tr th:only-of-type {\n",
       "        vertical-align: middle;\n",
       "    }\n",
       "\n",
       "    .dataframe tbody tr th {\n",
       "        vertical-align: top;\n",
       "    }\n",
       "\n",
       "    .dataframe thead th {\n",
       "        text-align: right;\n",
       "    }\n",
       "</style>\n",
       "<table border=\"1\" class=\"dataframe\">\n",
       "  <thead>\n",
       "    <tr style=\"text-align: right;\">\n",
       "      <th></th>\n",
       "      <th>min</th>\n",
       "      <th>max</th>\n",
       "    </tr>\n",
       "    <tr>\n",
       "      <th>Period</th>\n",
       "      <th></th>\n",
       "      <th></th>\n",
       "    </tr>\n",
       "  </thead>\n",
       "  <tbody>\n",
       "    <tr>\n",
       "      <th>0</th>\n",
       "      <td>2007-06-01</td>\n",
       "      <td>2007-10-18</td>\n",
       "    </tr>\n",
       "    <tr>\n",
       "      <th>1</th>\n",
       "      <td>2007-10-25</td>\n",
       "      <td>2008-03-13</td>\n",
       "    </tr>\n",
       "    <tr>\n",
       "      <th>2</th>\n",
       "      <td>2008-03-20</td>\n",
       "      <td>2009-06-01</td>\n",
       "    </tr>\n",
       "  </tbody>\n",
       "</table>\n",
       "</div>"
      ],
      "text/plain": [
       "              min        max\n",
       "Period                      \n",
       "0      2007-06-01 2007-10-18\n",
       "1      2007-10-25 2008-03-13\n",
       "2      2008-03-20 2009-06-01"
      ]
     },
     "execution_count": 15,
     "metadata": {},
     "output_type": "execute_result"
    }
   ],
   "source": [
    "df"
   ]
  },
  {
   "cell_type": "code",
   "execution_count": 16,
   "metadata": {},
   "outputs": [],
   "source": [
    "df = pd.read_excel('../CPI_MR_2008.xlsx', index_col=0, parse_dates=True)"
   ]
  },
  {
   "cell_type": "code",
   "execution_count": 17,
   "metadata": {},
   "outputs": [
    {
     "data": {
      "text/html": [
       "<div>\n",
       "<style scoped>\n",
       "    .dataframe tbody tr th:only-of-type {\n",
       "        vertical-align: middle;\n",
       "    }\n",
       "\n",
       "    .dataframe tbody tr th {\n",
       "        vertical-align: top;\n",
       "    }\n",
       "\n",
       "    .dataframe thead th {\n",
       "        text-align: right;\n",
       "    }\n",
       "</style>\n",
       "<table border=\"1\" class=\"dataframe\">\n",
       "  <thead>\n",
       "    <tr style=\"text-align: right;\">\n",
       "      <th></th>\n",
       "      <th>CPI</th>\n",
       "      <th>MR</th>\n",
       "      <th>Period</th>\n",
       "    </tr>\n",
       "    <tr>\n",
       "      <th>date</th>\n",
       "      <th></th>\n",
       "      <th></th>\n",
       "      <th></th>\n",
       "    </tr>\n",
       "  </thead>\n",
       "  <tbody>\n",
       "    <tr>\n",
       "      <th>2007-06-01</th>\n",
       "      <td>2.630579</td>\n",
       "      <td>6.475</td>\n",
       "      <td>Before</td>\n",
       "    </tr>\n",
       "    <tr>\n",
       "      <th>2007-06-07</th>\n",
       "      <td>2.611391</td>\n",
       "      <td>6.530</td>\n",
       "      <td>Before</td>\n",
       "    </tr>\n",
       "    <tr>\n",
       "      <th>...</th>\n",
       "      <td>...</td>\n",
       "      <td>...</td>\n",
       "      <td>...</td>\n",
       "    </tr>\n",
       "    <tr>\n",
       "      <th>2009-05-28</th>\n",
       "      <td>2.129682</td>\n",
       "      <td>4.910</td>\n",
       "      <td>After</td>\n",
       "    </tr>\n",
       "    <tr>\n",
       "      <th>2009-06-01</th>\n",
       "      <td>2.089895</td>\n",
       "      <td>5.100</td>\n",
       "      <td>After</td>\n",
       "    </tr>\n",
       "  </tbody>\n",
       "</table>\n",
       "<p>127 rows × 3 columns</p>\n",
       "</div>"
      ],
      "text/plain": [
       "                 CPI     MR  Period\n",
       "date                               \n",
       "2007-06-01  2.630579  6.475  Before\n",
       "2007-06-07  2.611391  6.530  Before\n",
       "...              ...    ...     ...\n",
       "2009-05-28  2.129682  4.910   After\n",
       "2009-06-01  2.089895  5.100   After\n",
       "\n",
       "[127 rows x 3 columns]"
      ]
     },
     "execution_count": 17,
     "metadata": {},
     "output_type": "execute_result"
    }
   ],
   "source": [
    "dates = [\"2007-06-01\", \"2008-01-01\", \"2008-09-01\", \"2010-01-01\"]\n",
    "dates = pd.to_datetime(dates)\n",
    "\n",
    "periods = pd.cut(\n",
    "    df.index, bins=dates, labels=[\"Before\", \"During\", \"After\"], right=False\n",
    ")\n",
    "\n",
    "df[\"Period\"] = periods\n",
    "df\n"
   ]
  },
  {
   "cell_type": "code",
   "execution_count": 18,
   "metadata": {},
   "outputs": [
    {
     "name": "stderr",
     "output_type": "stream",
     "text": [
      "/var/folders/89/hqh4vvhn24q2xc8ph93krqz80000gn/T/ipykernel_41705/2248642362.py:1: FutureWarning: The default of observed=False is deprecated and will be changed to True in a future version of pandas. Pass observed=False to retain current behavior or observed=True to adopt the future default and silence this warning.\n",
      "  dfr = df.reset_index().groupby('Period').date.agg(['min', 'max'])\n"
     ]
    }
   ],
   "source": [
    "dfr = df.reset_index().groupby('Period').date.agg(['min', 'max'])"
   ]
  },
  {
   "cell_type": "code",
   "execution_count": 19,
   "metadata": {},
   "outputs": [],
   "source": [
    "dfs['eye'] = dfr"
   ]
  },
  {
   "cell_type": "code",
   "execution_count": 22,
   "metadata": {},
   "outputs": [],
   "source": [
    "dfs['eye'].index = [0,1,2]"
   ]
  },
  {
   "cell_type": "code",
   "execution_count": 23,
   "metadata": {},
   "outputs": [
    {
     "data": {
      "text/html": [
       "<div>\n",
       "<style scoped>\n",
       "    .dataframe tbody tr th:only-of-type {\n",
       "        vertical-align: middle;\n",
       "    }\n",
       "\n",
       "    .dataframe tbody tr th {\n",
       "        vertical-align: top;\n",
       "    }\n",
       "\n",
       "    .dataframe thead tr th {\n",
       "        text-align: left;\n",
       "    }\n",
       "</style>\n",
       "<table border=\"1\" class=\"dataframe\">\n",
       "  <thead>\n",
       "    <tr>\n",
       "      <th></th>\n",
       "      <th colspan=\"2\" halign=\"left\">algo</th>\n",
       "      <th colspan=\"2\" halign=\"left\">eye</th>\n",
       "    </tr>\n",
       "    <tr>\n",
       "      <th></th>\n",
       "      <th>min</th>\n",
       "      <th>max</th>\n",
       "      <th>min</th>\n",
       "      <th>max</th>\n",
       "    </tr>\n",
       "  </thead>\n",
       "  <tbody>\n",
       "    <tr>\n",
       "      <th>0</th>\n",
       "      <td>2007-06-01</td>\n",
       "      <td>2007-10-18</td>\n",
       "      <td>2007-06-01</td>\n",
       "      <td>2007-12-27</td>\n",
       "    </tr>\n",
       "    <tr>\n",
       "      <th>1</th>\n",
       "      <td>2007-10-25</td>\n",
       "      <td>2008-03-13</td>\n",
       "      <td>2008-01-01</td>\n",
       "      <td>2008-08-28</td>\n",
       "    </tr>\n",
       "    <tr>\n",
       "      <th>2</th>\n",
       "      <td>2008-03-20</td>\n",
       "      <td>2009-06-01</td>\n",
       "      <td>2008-09-01</td>\n",
       "      <td>2009-06-01</td>\n",
       "    </tr>\n",
       "  </tbody>\n",
       "</table>\n",
       "</div>"
      ],
      "text/plain": [
       "        algo                   eye           \n",
       "         min        max        min        max\n",
       "0 2007-06-01 2007-10-18 2007-06-01 2007-12-27\n",
       "1 2007-10-25 2008-03-13 2008-01-01 2008-08-28\n",
       "2 2008-03-20 2009-06-01 2008-09-01 2009-06-01"
      ]
     },
     "execution_count": 23,
     "metadata": {},
     "output_type": "execute_result"
    }
   ],
   "source": [
    "pd.concat(dfs, axis=1)"
   ]
  },
  {
   "cell_type": "code",
   "execution_count": null,
   "metadata": {},
   "outputs": [],
   "source": [
    "1. Use"
   ]
  },
  {
   "cell_type": "code",
   "execution_count": 65,
   "metadata": {},
   "outputs": [],
   "source": [
    "from sklearn.linear_model import LinearRegression\n",
    "from sklearn.metrics import r2_score, mean_squared_error\n",
    "\n",
    "\n",
    "def segment_cost(df, breakpoints, x_col, y_col, metric=\"r2\"):\n",
    "    start = 0\n",
    "    scores = []\n",
    "\n",
    "    for bp in breakpoints:\n",
    "        segment = df.iloc[start:bp]\n",
    "        x = segment[[x_col]].values\n",
    "        y = segment[y_col].values\n",
    "        model = LinearRegression().fit(x, y)\n",
    "        y_pred = model.predict(x)\n",
    "\n",
    "        if metric == \"r2\":\n",
    "            score = r2_score(y, y_pred)\n",
    "        elif metric == \"mse\":\n",
    "            score = mean_squared_error(y, y_pred)\n",
    "        else:\n",
    "            raise ValueError(\"Unsupported metric\")\n",
    "\n",
    "        scores.append(score)\n",
    "        start = bp\n",
    "\n",
    "    return scores\n"
   ]
  },
  {
   "cell_type": "code",
   "execution_count": null,
   "metadata": {},
   "outputs": [],
   "source": []
  },
  {
   "cell_type": "code",
   "execution_count": 66,
   "metadata": {},
   "outputs": [
    {
     "data": {
      "text/plain": [
       "[0.001080319963378762,\n",
       " 0.1415287687288289,\n",
       " 0.6821591358652321,\n",
       " 0.2829007020647454,\n",
       " 0.6581888305328909,\n",
       " 1.0]"
      ]
     },
     "execution_count": 66,
     "metadata": {},
     "output_type": "execute_result"
    }
   ],
   "source": [
    "# assume breakpoints = [50, 100, len(df)]\n",
    "segment_cost(df, breakpoints, x_col=\"MR\", y_col=\"CPI\", metric=\"r2\")"
   ]
  },
  {
   "cell_type": "code",
   "execution_count": 67,
   "metadata": {},
   "outputs": [],
   "source": [
    "import numpy as np\n",
    "from sklearn.linear_model import LinearRegression\n",
    "from sklearn.metrics import r2_score\n",
    "import ruptures as rpt\n",
    "\n",
    "\n",
    "def evaluate_penalty(signal, df, penalties, x_col, y_col):\n",
    "    best_pen = None\n",
    "    best_score = -np.inf\n",
    "    score_by_penalty = []\n",
    "\n",
    "    for pen in penalties:\n",
    "        algo = rpt.Pelt(model=\"linear\").fit(signal)\n",
    "        breakpoints = algo.predict(pen=pen)\n",
    "        start = 0\n",
    "        r2s = []\n",
    "\n",
    "        for bp in breakpoints:\n",
    "            segment = df.iloc[start:bp]\n",
    "            x = segment[[x_col]].values\n",
    "            y = segment[y_col].values\n",
    "\n",
    "            if len(segment) < 3:\n",
    "                r2s.append(-np.inf)  # penalize too-small segments\n",
    "            else:\n",
    "                model = LinearRegression().fit(x, y)\n",
    "                y_pred = model.predict(x)\n",
    "                r2 = r2_score(y, y_pred)\n",
    "                r2s.append(r2)\n",
    "\n",
    "            start = bp\n",
    "\n",
    "        avg_r2 = np.mean(r2s)\n",
    "        score_by_penalty.append((pen, avg_r2))\n",
    "\n",
    "        if avg_r2 > best_score:\n",
    "            best_score = avg_r2\n",
    "            best_pen = pen\n",
    "\n",
    "    return best_pen, score_by_penalty\n"
   ]
  },
  {
   "cell_type": "code",
   "execution_count": 71,
   "metadata": {},
   "outputs": [],
   "source": [
    "signal = df[[\"MR\", \"CPI\"]].dropna().values\n",
    "penalties = np.linspace(0.01, 2.0, 40)\n",
    "\n",
    "best_penalty, all_scores = evaluate_penalty(\n",
    "    signal, df, penalties, \"MR\", \"CPI\"\n",
    ")\n"
   ]
  },
  {
   "cell_type": "code",
   "execution_count": 72,
   "metadata": {},
   "outputs": [
    {
     "data": {
      "text/plain": [
       "np.float64(0.7243589743589745)"
      ]
     },
     "execution_count": 72,
     "metadata": {},
     "output_type": "execute_result"
    }
   ],
   "source": [
    "best_penalty"
   ]
  },
  {
   "cell_type": "code",
   "execution_count": 73,
   "metadata": {},
   "outputs": [
    {
     "data": {
      "text/plain": [
       "[(np.float64(0.01), np.float64(-inf)),\n",
       " (np.float64(0.06102564102564103), np.float64(-inf)),\n",
       " (np.float64(0.11205128205128205), np.float64(-inf)),\n",
       " (np.float64(0.1630769230769231), np.float64(-inf)),\n",
       " (np.float64(0.21410256410256412), np.float64(-inf)),\n",
       " (np.float64(0.2651282051282051), np.float64(-inf)),\n",
       " (np.float64(0.3161538461538462), np.float64(-inf)),\n",
       " (np.float64(0.36717948717948723), np.float64(-inf)),\n",
       " (np.float64(0.41820512820512823), np.float64(-inf)),\n",
       " (np.float64(0.46923076923076923), np.float64(-inf)),\n",
       " (np.float64(0.5202564102564102), np.float64(-inf)),\n",
       " (np.float64(0.5712820512820513), np.float64(-inf)),\n",
       " (np.float64(0.6223076923076923), np.float64(-inf)),\n",
       " (np.float64(0.6733333333333333), np.float64(-inf)),\n",
       " (np.float64(0.7243589743589745), np.float64(0.33377768286879245)),\n",
       " (np.float64(0.7753846153846154), np.float64(0.33377768286879245)),\n",
       " (np.float64(0.8264102564102564), np.float64(0.33377768286879245)),\n",
       " (np.float64(0.8774358974358974), np.float64(0.33377768286879245)),\n",
       " (np.float64(0.9284615384615384), np.float64(0.33377768286879245)),\n",
       " (np.float64(0.9794871794871796), np.float64(0.33377768286879245)),\n",
       " (np.float64(1.0305128205128204), np.float64(0.33377768286879245)),\n",
       " (np.float64(1.0815384615384616), np.float64(0.33377768286879245)),\n",
       " (np.float64(1.1325641025641027), np.float64(0.33377768286879245)),\n",
       " (np.float64(1.1835897435897436), np.float64(0.33377768286879245)),\n",
       " (np.float64(1.2346153846153847), np.float64(0.33377768286879245)),\n",
       " (np.float64(1.2856410256410258), np.float64(0.33377768286879245)),\n",
       " (np.float64(1.3366666666666667), np.float64(0.33377768286879245)),\n",
       " (np.float64(1.3876923076923078), np.float64(0.33377768286879245)),\n",
       " (np.float64(1.438717948717949), np.float64(0.33377768286879245)),\n",
       " (np.float64(1.4897435897435898), np.float64(0.33377768286879245)),\n",
       " (np.float64(1.540769230769231), np.float64(0.33377768286879245)),\n",
       " (np.float64(1.5917948717948718), np.float64(0.33377768286879245)),\n",
       " (np.float64(1.642820512820513), np.float64(0.33377768286879245)),\n",
       " (np.float64(1.693846153846154), np.float64(0.33377768286879245)),\n",
       " (np.float64(1.744871794871795), np.float64(0.33377768286879245)),\n",
       " (np.float64(1.795897435897436), np.float64(0.33377768286879245)),\n",
       " (np.float64(1.846923076923077), np.float64(0.33377768286879245)),\n",
       " (np.float64(1.897948717948718), np.float64(0.33377768286879245)),\n",
       " (np.float64(1.9489743589743591), np.float64(0.33377768286879245)),\n",
       " (np.float64(2.0), np.float64(0.33377768286879245))]"
      ]
     },
     "execution_count": 73,
     "metadata": {},
     "output_type": "execute_result"
    }
   ],
   "source": [
    "all_scores"
   ]
  },
  {
   "cell_type": "code",
   "execution_count": 43,
   "metadata": {},
   "outputs": [],
   "source": [
    "algo = rpt.Binseg(model=\"linear\").fit(signal)\n",
    "breakpoints = algo.predict(n_bkps=4)  # specify number of breakpoints"
   ]
  },
  {
   "cell_type": "code",
   "execution_count": 44,
   "metadata": {},
   "outputs": [
    {
     "data": {
      "text/plain": [
       "(<Figure size 1000x400 with 2 Axes>, array([<Axes: >, <Axes: >], dtype=object))"
      ]
     },
     "execution_count": 44,
     "metadata": {},
     "output_type": "execute_result"
    },
    {
     "data": {
      "image/png": "[encoded data removed]",
      "text/plain": [
       "<Figure size 1000x400 with 2 Axes>"
      ]
     },
     "metadata": {},
     "output_type": "display_data"
    }
   ],
   "source": [
    "rpt.display(signal, breakpoints)"
   ]
  },
  {
   "cell_type": "code",
   "execution_count": 36,
   "metadata": {},
   "outputs": [
    {
     "data": {
      "text/plain": [
       "[25, 30, 50, 95, 120, 127]"
      ]
     },
     "execution_count": 36,
     "metadata": {},
     "output_type": "execute_result"
    }
   ],
   "source": [
    "breakpoints"
   ]
  },
  {
   "cell_type": "code",
   "execution_count": 10,
   "metadata": {},
   "outputs": [
    {
     "name": "stdout",
     "output_type": "stream",
     "text": [
      "\n",
      "Looking for: ['ruptures']\n",
      "\n",
      "\u001b[?25l\u001b[2K\u001b[0G[+] 0.0s\n",
      "\u001b[2K\u001b[1A\u001b[2K\u001b[0G[+] 0.1s\n",
      "conda-forge/osx-arm64 \u001b[90m━━━━━╸\u001b[0m\u001b[33m━━━━━━━━━━━━━━━━\u001b[0m   0.0 B /  ??.?MB @  ??.?MB/s  0.1s\n",
      "conda-forge/noarch    \u001b[33m━━━━━━━━╸\u001b[0m\u001b[90m━━━━━━━━━━━━━\u001b[0m   0.0 B /  ??.?MB @  ??.?MB/s  0.1s\u001b[2K\u001b[1A\u001b[2K\u001b[1A\u001b[2K\u001b[0G[+] 0.2s\n",
      "conda-forge/osx-arm64 \u001b[90m━━━━━━━╸\u001b[0m\u001b[33m━━━━━━━━━━━━━━\u001b[0m   0.0 B /  ??.?MB @  ??.?MB/s  0.2s\n",
      "conda-forge/noarch    \u001b[90m━━━━━━━━━━━━━━━━━━━━━━\u001b[0m  12.9kB /  20.0MB @  67.4kB/s  0.2s\u001b[2K\u001b[1A\u001b[2K\u001b[1A\u001b[2K\u001b[0G[+] 0.3s\n",
      "conda-forge/osx-arm64 \u001b[90m━━━━━━━━━╸\u001b[0m\u001b[33m━━━━━━━━━━━━\u001b[0m   0.0 B /  ??.?MB @  ??.?MB/s  0.3s\n",
      "conda-forge/noarch    ━╸\u001b[90m━━━━━━━━━━━━━━━━━━━━\u001b[0m   2.2MB /  20.0MB @   7.3MB/s  0.3s\u001b[2K\u001b[1A\u001b[2K\u001b[1A\u001b[2K\u001b[0G[+] 0.4s\n",
      "conda-forge/osx-arm64 \u001b[90m━━━━━━━━━━╸\u001b[0m\u001b[33m━━━━━━━━━━━\u001b[0m   0.0 B /  ??.?MB @  ??.?MB/s  0.4s\n",
      "conda-forge/noarch    ━━━╸\u001b[90m━━━━━━━━━━━━━━━━━━\u001b[0m   4.2MB /  20.0MB @  11.1MB/s  0.4s\u001b[2K\u001b[1A\u001b[2K\u001b[1A\u001b[2K\u001b[0G[+] 0.5s\n",
      "conda-forge/osx-arm64 \u001b[90m━━━━━━━━━━━━━━━━━━━━━━\u001b[0m  44.6kB /  15.4MB @  94.1kB/s  0.5s\n",
      "conda-forge/noarch    ━━━━━━━━╸\u001b[90m━━━━━━━━━━━━━\u001b[0m   8.3MB /  20.0MB @  17.4MB/s  0.5s\u001b[2K\u001b[1A\u001b[2K\u001b[1A\u001b[2K\u001b[0G[+] 0.6s\n",
      "conda-forge/osx-arm64 \u001b[90m━━━━━━━━━━━━━━━━━━━━━━\u001b[0m 193.3kB /  15.4MB @ 326.6kB/s  0.6s\n",
      "conda-forge/noarch    ━━━━━━━━━━━━╸\u001b[90m━━━━━━━━━\u001b[0m  12.4MB /  20.0MB @  20.9MB/s  0.6s\u001b[2K\u001b[1A\u001b[2K\u001b[1A\u001b[2K\u001b[0G[+] 0.7s\n",
      "conda-forge/osx-arm64 \u001b[90m━━━━━━━━━━━━━━━━━━━━━━\u001b[0m 455.5kB /  15.4MB @ 656.7kB/s  0.7s\n",
      "conda-forge/noarch    ━━━━━━━━━━━━━━━━━╸\u001b[90m━━━━\u001b[0m  17.1MB /  20.0MB @  24.7MB/s  0.7s\u001b[2K\u001b[1A\u001b[2K\u001b[1A\u001b[2K\u001b[0Gconda-forge/noarch                                  20.0MB @  26.7MB/s  0.8s\n",
      "[+] 0.8s\n",
      "conda-forge/osx-arm64 \u001b[90m━━━━━━━━━━━━━━━━━━━━━━\u001b[0m 750.4kB /  15.4MB @ 939.1kB/s  0.8s\u001b[2K\u001b[1A\u001b[2K\u001b[0G[+] 0.9s\n",
      "conda-forge/osx-arm64 ╸\u001b[90m━━━━━━━━━━━━━━━━━━━━━\u001b[0m 914.2kB /  15.4MB @   1.1MB/s  0.9s\u001b[2K\u001b[1A\u001b[2K\u001b[0G[+] 1.0s\n",
      "conda-forge/osx-arm64 ╸\u001b[90m━━━━━━━━━━━━━━━━━━━━━\u001b[0m   1.3MB /  15.4MB @   1.3MB/s  1.0s\u001b[2K\u001b[1A\u001b[2K\u001b[0G[+] 1.1s\n",
      "conda-forge/osx-arm64 ━╸\u001b[90m━━━━━━━━━━━━━━━━━━━━\u001b[0m   1.6MB /  15.4MB @   1.4MB/s  1.1s\u001b[2K\u001b[1A\u001b[2K\u001b[0G[+] 1.2s\n",
      "conda-forge/osx-arm64 ━╸\u001b[90m━━━━━━━━━━━━━━━━━━━━\u001b[0m   1.8MB /  15.4MB @   1.5MB/s  1.2s\u001b[2K\u001b[1A\u001b[2K\u001b[0G[+] 1.3s\n",
      "conda-forge/osx-arm64 ━╸\u001b[90m━━━━━━━━━━━━━━━━━━━━\u001b[0m   1.9MB /  15.4MB @   1.5MB/s  1.3s\u001b[2K\u001b[1A\u001b[2K\u001b[0G[+] 1.4s\n",
      "conda-forge/osx-arm64 ━━╸\u001b[90m━━━━━━━━━━━━━━━━━━━\u001b[0m   2.5MB /  15.4MB @   1.8MB/s  1.4s\u001b[2K\u001b[1A\u001b[2K\u001b[0G[+] 1.5s\n",
      "conda-forge/osx-arm64 ━━╸\u001b[90m━━━━━━━━━━━━━━━━━━━\u001b[0m   2.8MB /  15.4MB @   1.9MB/s  1.5s\u001b[2K\u001b[1A\u001b[2K\u001b[0G[+] 1.6s\n",
      "conda-forge/osx-arm64 ━━━╸\u001b[90m━━━━━━━━━━━━━━━━━━\u001b[0m   3.4MB /  15.4MB @   2.1MB/s  1.6s\u001b[2K\u001b[1A\u001b[2K\u001b[0G[+] 1.7s\n",
      "conda-forge/osx-arm64 ━━━━╸\u001b[90m━━━━━━━━━━━━━━━━━\u001b[0m   3.6MB /  15.4MB @   2.2MB/s  1.7s\u001b[2K\u001b[1A\u001b[2K\u001b[0G[+] 1.8s\n",
      "conda-forge/osx-arm64 ━━━━╸\u001b[90m━━━━━━━━━━━━━━━━━\u001b[0m   4.2MB /  15.4MB @   2.4MB/s  1.8s\u001b[2K\u001b[1A\u001b[2K\u001b[0G[+] 1.9s\n",
      "conda-forge/osx-arm64 ━━━━━╸\u001b[90m━━━━━━━━━━━━━━━━\u001b[0m   4.5MB /  15.4MB @   2.4MB/s  1.9s\u001b[2K\u001b[1A\u001b[2K\u001b[0G[+] 2.0s\n",
      "conda-forge/osx-arm64 ━━━━━━╸\u001b[90m━━━━━━━━━━━━━━━\u001b[0m   5.3MB /  15.4MB @   2.7MB/s  2.0s\u001b[2K\u001b[1A\u001b[2K\u001b[0G[+] 2.1s\n",
      "conda-forge/osx-arm64 ━━━━━━━╸\u001b[90m━━━━━━━━━━━━━━\u001b[0m   5.9MB /  15.4MB @   2.8MB/s  2.1s\u001b[2K\u001b[1A\u001b[2K\u001b[0G[+] 2.2s\n",
      "conda-forge/osx-arm64 ━━━━━━━╸\u001b[90m━━━━━━━━━━━━━━\u001b[0m   6.2MB /  15.4MB @   2.9MB/s  2.2s\u001b[2K\u001b[1A\u001b[2K\u001b[0G[+] 2.3s\n",
      "conda-forge/osx-arm64 ━━━━━━━━━╸\u001b[90m━━━━━━━━━━━━\u001b[0m   7.3MB /  15.4MB @   3.2MB/s  2.3s\u001b[2K\u001b[1A\u001b[2K\u001b[0G[+] 2.4s\n",
      "conda-forge/osx-arm64 ━━━━━━━━━━╸\u001b[90m━━━━━━━━━━━\u001b[0m   8.1MB /  15.4MB @   3.4MB/s  2.4s\u001b[2K\u001b[1A\u001b[2K\u001b[0G[+] 2.5s\n",
      "conda-forge/osx-arm64 ━━━━━━━━━━━╸\u001b[90m━━━━━━━━━━\u001b[0m   8.9MB /  15.4MB @   3.6MB/s  2.5s\u001b[2K\u001b[1A\u001b[2K\u001b[0G[+] 2.6s\n",
      "conda-forge/osx-arm64 ━━━━━━━━━━━━╸\u001b[90m━━━━━━━━━\u001b[0m   9.5MB /  15.4MB @   3.7MB/s  2.6s\u001b[2K\u001b[1A\u001b[2K\u001b[0G[+] 2.7s\n",
      "conda-forge/osx-arm64 ━━━━━━━━━━━━╸\u001b[90m━━━━━━━━━\u001b[0m   9.5MB /  15.4MB @   3.7MB/s  2.7s\u001b[2K\u001b[1A\u001b[2K\u001b[0G[+] 2.8s\n",
      "conda-forge/osx-arm64 ━━━━━━━━━━━━╸\u001b[90m━━━━━━━━━\u001b[0m   9.5MB /  15.4MB @   3.7MB/s  2.8s\u001b[2K\u001b[1A\u001b[2K\u001b[0G[+] 2.9s\n",
      "conda-forge/osx-arm64 ━━━━━━━━━━━━╸\u001b[90m━━━━━━━━━\u001b[0m   9.5MB /  15.4MB @   3.7MB/s  2.9s\u001b[2K\u001b[1A\u001b[2K\u001b[0G[+] 3.0s\n",
      "conda-forge/osx-arm64 ━━━━━━━━━━━━╸\u001b[90m━━━━━━━━━\u001b[0m   9.7MB /  15.4MB @   3.3MB/s  3.0s\u001b[2K\u001b[1A\u001b[2K\u001b[0G[+] 3.1s\n",
      "conda-forge/osx-arm64 ━━━━━━━━━━━━━━━━━╸\u001b[90m━━━━\u001b[0m  12.7MB /  15.4MB @   4.1MB/s  3.1s\u001b[2K\u001b[1A\u001b[2K\u001b[0Gconda-forge/osx-arm64                               15.4MB @   4.8MB/s  3.2s\n",
      "\u001b[?25h\n",
      "Pinned packages:\n",
      "  - python 3.13.*\n",
      "\n",
      "\n",
      "Transaction\n",
      "\n",
      "  Prefix: /Users/sota/miniforge3/envs/work\n",
      "\n",
      "  Updating specs:\n",
      "\n",
      "   - ruptures\n",
      "   - ca-certificates\n",
      "   - certifi\n",
      "   - openssl\n",
      "\n",
      "\n",
      "  Package              Version  Build         Channel           Size\n",
      "──────────────────────────────────────────────────────────────────────\n",
      "  Install:\n",
      "──────────────────────────────────────────────────────────────────────\n",
      "\n",
      "  \u001b[32m+ ruptures       \u001b[0m      1.0.6  pyhd8ed1ab_0  conda-forge       26kB\n",
      "\n",
      "  Change:\n",
      "──────────────────────────────────────────────────────────────────────\n",
      "\n",
      "  \u001b[31m- ca-certificates\u001b[0m  2025.1.31  hf0a4a13_0    conda-forge\u001b[32m     Cached\u001b[0m\n",
      "  \u001b[32m+ ca-certificates\u001b[0m  2025.1.31  hbd8a1cb_1    conda-forge      159kB\n",
      "\n",
      "  Upgrade:\n",
      "──────────────────────────────────────────────────────────────────────\n",
      "\n",
      "  \u001b[31m- openssl        \u001b[0m      3.4.1  h81ee809_0    conda-forge\u001b[32m     Cached\u001b[0m\n",
      "  \u001b[32m+ openssl        \u001b[0m      3.5.0  h81ee809_0    conda-forge        3MB\n",
      "\n",
      "  Summary:\n",
      "\n",
      "  Install: 1 packages\n",
      "  Change: 1 packages\n",
      "  Upgrade: 1 packages\n",
      "\n",
      "  Total download: 3MB\n",
      "\n",
      "──────────────────────────────────────────────────────────────────────\n",
      "\n",
      "\n",
      "\u001b[?25l\u001b[2K\u001b[0G[+] 0.0s\n",
      "Downloading      \u001b[90m━━━━━━━━━━━━━━━━━━━━━━━\u001b[0m   0.0 B                            0.0s\n",
      "Extracting       \u001b[90m━━━━━━━━━━━━━━━━━━━━━━━\u001b[0m       0                            0.0s\u001b[2K\u001b[1A\u001b[2K\u001b[1A\u001b[2K\u001b[0Gca-certificates                                    158.8kB @   1.6MB/s  0.1s\n",
      "[+] 0.1s\n",
      "Downloading  (2) \u001b[33m━━━━━━━━━━━━━━━━━━━━━━━\u001b[0m 158.8kB openssl                    0.0s\n",
      "Extracting   (1) \u001b[33m━━━━━━━━━━━━━━━╸\u001b[0m\u001b[90m━━━━━━━\u001b[0m       0 ca-certificates            0.0s\u001b[2K\u001b[1A\u001b[2K\u001b[1A\u001b[2K\u001b[0G[+] 0.2s\n",
      "Downloading  (2) ━━━━━╸\u001b[33m━━━━━━━━━━━━━━━━━\u001b[0m 932.2kB openssl                    0.1s\n",
      "Extracting       ━━━━━━╸\u001b[90m━━━━━━━━━━━━━━━━\u001b[0m       1                            0.1s\u001b[2K\u001b[1A\u001b[2K\u001b[1A\u001b[2K\u001b[0Gruptures                                            26.0kB @  93.6kB/s  0.3s\n",
      "openssl                                              3.1MB @  10.7MB/s  0.3s\n",
      "[+] 0.3s\n",
      "Downloading      ━━━━━━━━━━━━━━━━━━━━━━━   3.3MB                            0.2s\n",
      "Extracting   (2) ━━━━━━╸\u001b[33m━━━━━━━━━━━━━━━━\u001b[0m       1 openssl                    0.1s\u001b[2K\u001b[1A\u001b[2K\u001b[1A\u001b[2K\u001b[0G\u001b[?25h\n",
      "Downloading and Extracting Packages:\n",
      "\n",
      "Preparing transaction: done\n",
      "Verifying transaction: done\n",
      "Executing transaction: done\n",
      "\n",
      "Note: you may need to restart the kernel to use updated packages.\n"
     ]
    }
   ],
   "source": [
    "mamba install ruptures"
   ]
  },
  {
   "cell_type": "code",
   "execution_count": null,
   "metadata": {},
   "outputs": [],
   "source": [
    "import ruptures as rpt\n",
    "\n",
    "X = df.reset_index()[[\"date\", \"mortgage_rate\", \"CPI\"]].copy()\n",
    "X[\"date\"] = X[\"date\"].astype(\"int64\") // 1e9  # convert to seconds\n",
    "\n",
    "signal = X.values  # multivariate signal\n",
    "algo = rpt.Pelt(model=\"linear\").fit(signal)\n",
    "breakpoints = algo.predict(pen=10)"
   ]
  },
  {
   "cell_type": "code",
   "execution_count": 45,
   "metadata": {},
   "outputs": [
    {
     "data": {
      "application/vnd.plotly.v1+json": {
       "config": {
        "plotlyServerURL": "https://plot.ly"
       },
       "data": [
        {
         "hovertemplate": "Period=Before<br>MR=%{x}<br>CPI=%{y}<extra></extra>",
         "legendgroup": "Before",
         "marker": {
          "color": "#636efa",
          "symbol": "circle"
         },
         "mode": "markers",
         "name": "Before",
         "orientation": "v",
         "showlegend": true,
         "type": "scatter",
         "x": [
          6.475,
          6.53,
          6.74,
          6.69,
          6.67,
          6.65,
          6.63,
          6.73,
          6.73,
          6.69,
          6.685,
          6.68,
          6.59,
          6.62,
          6.52,
          6.45,
          6.455,
          6.46,
          6.31,
          6.34,
          6.42,
          6.395,
          6.37,
          6.4,
          6.4,
          6.33,
          6.26,
          6.24,
          6.24,
          6.2,
          6.1,
          6.029999999999999,
          5.96,
          6.11,
          6.14,
          6.17
         ],
         "xaxis": "x",
         "y": [
          2.6305791,
          2.6113915,
          2.5922039,
          2.5730163,
          2.5538287,
          2.5346411,
          2.52142092,
          2.50820074,
          2.49498056,
          2.48176038,
          2.4685402,
          2.471097216666667,
          2.473654233333333,
          2.47621125,
          2.478768266666667,
          2.481325283333333,
          2.4838823,
          2.4877708,
          2.4916593,
          2.4955478,
          2.4994363,
          2.5033248,
          2.53393378,
          2.56454276,
          2.59515174,
          2.62576072,
          2.6563697,
          2.66764248,
          2.67891526,
          2.69018804,
          2.70146082,
          2.7127336,
          2.71959496,
          2.72645632,
          2.73331768,
          2.74017904
         ],
         "yaxis": "y"
        },
        {
         "hovertemplate": "<b>OLS trendline</b><br>CPI = -0.321238 * MR + 4.63881<br>R<sup>2</sup>=0.577830<br><br>Period=Before<br>MR=%{x}<br>CPI=%{y} <b>(trend)</b><extra></extra>",
         "legendgroup": "Before",
         "marker": {
          "color": "#636efa",
          "symbol": "circle"
         },
         "mode": "lines",
         "name": "Before",
         "showlegend": false,
         "type": "scatter",
         "x": [
          5.96,
          6.029999999999999,
          6.1,
          6.11,
          6.14,
          6.17,
          6.2,
          6.24,
          6.24,
          6.26,
          6.31,
          6.33,
          6.34,
          6.37,
          6.395,
          6.4,
          6.4,
          6.42,
          6.45,
          6.455,
          6.46,
          6.475,
          6.52,
          6.53,
          6.59,
          6.62,
          6.63,
          6.65,
          6.67,
          6.68,
          6.685,
          6.69,
          6.69,
          6.73,
          6.73,
          6.74
         ],
         "xaxis": "x",
         "y": [
          2.7242316938257143,
          2.7017450636215132,
          2.6792584334173126,
          2.676046057673855,
          2.6664089304434833,
          2.6567718032131116,
          2.6471346759827394,
          2.6342851730089105,
          2.6342851730089105,
          2.627860421521996,
          2.61179854280471,
          2.605373791317795,
          2.6021614155743378,
          2.592524288343966,
          2.584493348985323,
          2.582887161113594,
          2.582887161113594,
          2.5764624096266795,
          2.566825282396308,
          2.565219094524579,
          2.5636129066528506,
          2.5587943430376647,
          2.544338652192107,
          2.5411262764486495,
          2.521852021987906,
          2.512214894757534,
          2.509002519014077,
          2.5025777675271623,
          2.496153016040248,
          2.4929406402967906,
          2.491334452425062,
          2.489728264553333,
          2.489728264553333,
          2.476878761579504,
          2.476878761579504,
          2.473666385836047
         ],
         "yaxis": "y"
        },
        {
         "hovertemplate": "Period=During<br>MR=%{x}<br>CPI=%{y}<extra></extra>",
         "legendgroup": "During",
         "marker": {
          "color": "#EF553B",
          "symbol": "circle"
         },
         "mode": "markers",
         "name": "During",
         "orientation": "v",
         "showlegend": true,
         "type": "scatter",
         "x": [
          6.12,
          6.07,
          5.87,
          5.69,
          5.48,
          5.68,
          5.675,
          5.67,
          5.72,
          6.04,
          6.24,
          6.135,
          6.03,
          6.13,
          5.87,
          5.85,
          5.865,
          5.88,
          5.88,
          5.88,
          6.03,
          6.06,
          6.05,
          6.01,
          5.98,
          6.08,
          6.085,
          6.09,
          6.32,
          6.42,
          6.45,
          6.4,
          6.35,
          6.37,
          6.26,
          6.63,
          6.52,
          6.52,
          6.52,
          6.52,
          6.47,
          6.4
         ],
         "xaxis": "x2",
         "y": [
          2.7470404,
          2.72529455,
          2.7035487,
          2.68180285,
          2.660057,
          2.63831115,
          2.6165653,
          2.63100552,
          2.64544574,
          2.65988596,
          2.67432618,
          2.6887664,
          2.69603518,
          2.70330396,
          2.71057274,
          2.71784152,
          2.7251103,
          2.73883662,
          2.75256294,
          2.76628926,
          2.78001558,
          2.7937419,
          2.82253276,
          2.85132362,
          2.88011448,
          2.90890534,
          2.9376962,
          2.9530078,
          2.9683194,
          2.983631,
          2.9989426,
          3.0142542,
          3.025962816666667,
          3.037671433333333,
          3.04938005,
          3.061088666666667,
          3.072797283333333,
          3.0845059,
          3.08294042,
          3.08137494,
          3.07980946,
          3.07824398
         ],
         "yaxis": "y2"
        },
        {
         "hovertemplate": "<b>OLS trendline</b><br>CPI = 0.492742 * MR + -0.163475<br>R<sup>2</sup>=0.752889<br><br>Period=During<br>MR=%{x}<br>CPI=%{y} <b>(trend)</b><extra></extra>",
         "legendgroup": "During",
         "marker": {
          "color": "#EF553B",
          "symbol": "circle"
         },
         "mode": "lines",
         "name": "During",
         "showlegend": false,
         "type": "scatter",
         "x": [
          5.48,
          5.67,
          5.675,
          5.68,
          5.69,
          5.72,
          5.85,
          5.865,
          5.87,
          5.87,
          5.88,
          5.88,
          5.88,
          5.98,
          6.01,
          6.03,
          6.03,
          6.04,
          6.05,
          6.06,
          6.07,
          6.08,
          6.085,
          6.09,
          6.12,
          6.13,
          6.135,
          6.24,
          6.26,
          6.32,
          6.35,
          6.37,
          6.4,
          6.4,
          6.42,
          6.45,
          6.47,
          6.52,
          6.52,
          6.52,
          6.52,
          6.63
         ],
         "xaxis": "x2",
         "y": [
          2.536753538533234,
          2.630374592510473,
          2.632838304457242,
          2.6353020164040117,
          2.640229440297551,
          2.655011711978167,
          2.719068222594173,
          2.7264593584344814,
          2.7289230703812506,
          2.7289230703812506,
          2.7338504942747894,
          2.7338504942747894,
          2.7338504942747894,
          2.7831247332101787,
          2.7979070048907952,
          2.807761852677873,
          2.807761852677873,
          2.8126892765714118,
          2.8176167004649506,
          2.8225441243584894,
          2.8274715482520287,
          2.8323989721455676,
          2.8348626840923368,
          2.8373263960391064,
          2.852108667719723,
          2.8570360916132618,
          2.859499803560031,
          2.91123775444219,
          2.921092602229267,
          2.950657145590501,
          2.965439417271117,
          2.9752942650581953,
          2.9900765367388122,
          2.9900765367388122,
          2.9999313845258895,
          3.0147136562065064,
          3.024568503993584,
          3.0492056234612783,
          3.0492056234612783,
          3.0492056234612783,
          3.0492056234612783,
          3.1034072862902065
         ],
         "yaxis": "y2"
        },
        {
         "hovertemplate": "Period=After<br>MR=%{x}<br>CPI=%{y}<extra></extra>",
         "legendgroup": "After",
         "marker": {
          "color": "#00cc96",
          "symbol": "circle"
         },
         "mode": "markers",
         "name": "After",
         "orientation": "v",
         "showlegend": true,
         "type": "scatter",
         "x": [
          6.375,
          6.35,
          5.93,
          5.78,
          6.09,
          6.095,
          6.1,
          5.94,
          6.46,
          6.04,
          6.46,
          6.33,
          6.2,
          6.14,
          6.04,
          5.97,
          5.75,
          5.53,
          5.47,
          5.19,
          5.14,
          5.1,
          5.055,
          5.01,
          4.96,
          5.12,
          5.1,
          5.175,
          5.25,
          5.16,
          5.04,
          5.07,
          5.11,
          5.15,
          5.03,
          4.98,
          4.85,
          4.815,
          4.78,
          4.87,
          4.82,
          4.8,
          4.78,
          4.81,
          4.84,
          4.86,
          4.82,
          4.91,
          5.1
         ],
         "xaxis": "x3",
         "y": [
          3.0766785,
          3.04718178,
          3.01768506,
          2.98818834,
          2.95869162,
          2.9291949,
          2.90540615,
          2.8816174,
          2.85782865,
          2.8340399,
          2.81025115,
          2.7864624,
          2.75525602,
          2.72404964,
          2.69284326,
          2.66163688,
          2.6304305,
          2.6174001,
          2.6043697,
          2.5913393,
          2.5783089,
          2.5652785,
          2.5522481,
          2.55369746,
          2.55514682,
          2.55659618,
          2.55804554,
          2.5594949,
          2.5383123,
          2.5171297,
          2.4959471,
          2.4747645,
          2.4535819,
          2.43809466,
          2.42260742,
          2.40712018,
          2.39163294,
          2.3761457,
          2.361592883333334,
          2.347040066666667,
          2.33248725,
          2.317934433333333,
          2.303381616666667,
          2.2888288,
          2.249042,
          2.2092552,
          2.1694684,
          2.1296816,
          2.0898948
         ],
         "yaxis": "y3"
        },
        {
         "hovertemplate": "<b>OLS trendline</b><br>CPI = 0.389426 * MR + 0.470707<br>R<sup>2</sup>=0.761320<br><br>Period=After<br>MR=%{x}<br>CPI=%{y} <b>(trend)</b><extra></extra>",
         "legendgroup": "After",
         "marker": {
          "color": "#00cc96",
          "symbol": "circle"
         },
         "mode": "lines",
         "name": "After",
         "showlegend": false,
         "type": "scatter",
         "x": [
          4.78,
          4.78,
          4.8,
          4.81,
          4.815,
          4.82,
          4.82,
          4.84,
          4.85,
          4.86,
          4.87,
          4.91,
          4.96,
          4.98,
          5.01,
          5.03,
          5.04,
          5.055,
          5.07,
          5.1,
          5.1,
          5.1,
          5.11,
          5.12,
          5.14,
          5.15,
          5.16,
          5.175,
          5.19,
          5.25,
          5.47,
          5.53,
          5.75,
          5.78,
          5.93,
          5.94,
          5.97,
          6.04,
          6.04,
          6.09,
          6.095,
          6.1,
          6.14,
          6.2,
          6.33,
          6.35,
          6.375,
          6.46,
          6.46
         ],
         "xaxis": "x3",
         "y": [
          2.332164770152276,
          2.332164770152276,
          2.3399532958607367,
          2.343847558714967,
          2.3457946901420828,
          2.3477418215691976,
          2.3477418215691976,
          2.3555303472776585,
          2.3594246101318888,
          2.3633188729861194,
          2.36721313584035,
          2.382790187257272,
          2.4022615015284243,
          2.410050027236885,
          2.4217328157995763,
          2.4295213415080377,
          2.433415604362268,
          2.4392569986436134,
          2.4450983929249595,
          2.4567811814876506,
          2.4567811814876506,
          2.4567811814876506,
          2.4606754443418812,
          2.464569707196112,
          2.4723582329045724,
          2.476252495758803,
          2.4801467586130337,
          2.4859881528943792,
          2.4918295471757252,
          2.515195124301108,
          2.600868907094178,
          2.624234484219561,
          2.709908267012631,
          2.7215910555753227,
          2.7800049983887796,
          2.7838992612430102,
          2.7955820498057014,
          2.8228418897853147,
          2.8228418897853147,
          2.842313204056467,
          2.844260335483582,
          2.8462074669106974,
          2.861784518327619,
          2.8851500954530023,
          2.9357755125579983,
          2.943564038266459,
          2.9532996954020354,
          2.9864009296629943,
          2.9864009296629943
         ],
         "yaxis": "y3"
        }
       ],
       "layout": {
        "annotations": [
         {
          "font": {},
          "showarrow": false,
          "text": "Period=Before",
          "x": 0.15999999999999998,
          "xanchor": "center",
          "xref": "paper",
          "y": 1,
          "yanchor": "bottom",
          "yref": "paper"
         },
         {
          "font": {},
          "showarrow": false,
          "text": "Period=During",
          "x": 0.49999999999999994,
          "xanchor": "center",
          "xref": "paper",
          "y": 1,
          "yanchor": "bottom",
          "yref": "paper"
         },
         {
          "font": {},
          "showarrow": false,
          "text": "Period=After",
          "x": 0.8399999999999999,
          "xanchor": "center",
          "xref": "paper",
          "y": 1,
          "yanchor": "bottom",
          "yref": "paper"
         }
        ],
        "legend": {
         "title": {
          "text": "Period"
         },
         "tracegroupgap": 0
        },
        "margin": {
         "t": 60
        },
        "template": {
         "data": {
          "bar": [
           {
            "error_x": {
             "color": "#2a3f5f"
            },
            "error_y": {
             "color": "#2a3f5f"
            },
            "marker": {
             "line": {
              "color": "#E5ECF6",
              "width": 0.5
             },
             "pattern": {
              "fillmode": "overlay",
              "size": 10,
              "solidity": 0.2
             }
            },
            "type": "bar"
           }
          ],
          "barpolar": [
           {
            "marker": {
             "line": {
              "color": "#E5ECF6",
              "width": 0.5
             },
             "pattern": {
              "fillmode": "overlay",
              "size": 10,
              "solidity": 0.2
             }
            },
            "type": "barpolar"
           }
          ],
          "carpet": [
           {
            "aaxis": {
             "endlinecolor": "#2a3f5f",
             "gridcolor": "white",
             "linecolor": "white",
             "minorgridcolor": "white",
             "startlinecolor": "#2a3f5f"
            },
            "baxis": {
             "endlinecolor": "#2a3f5f",
             "gridcolor": "white",
             "linecolor": "white",
             "minorgridcolor": "white",
             "startlinecolor": "#2a3f5f"
            },
            "type": "carpet"
           }
          ],
          "choropleth": [
           {
            "colorbar": {
             "outlinewidth": 0,
             "ticks": ""
            },
            "type": "choropleth"
           }
          ],
          "contour": [
           {
            "colorbar": {
             "outlinewidth": 0,
             "ticks": ""
            },
            "colorscale": [
             [
              0,
              "#0d0887"
             ],
             [
              0.1111111111111111,
              "#46039f"
             ],
             [
              0.2222222222222222,
              "#7201a8"
             ],
             [
              0.3333333333333333,
              "#9c179e"
             ],
             [
              0.4444444444444444,
              "#bd3786"
             ],
             [
              0.5555555555555556,
              "#d8576b"
             ],
             [
              0.6666666666666666,
              "#ed7953"
             ],
             [
              0.7777777777777778,
              "#fb9f3a"
             ],
             [
              0.8888888888888888,
              "#fdca26"
             ],
             [
              1,
              "#f0f921"
             ]
            ],
            "type": "contour"
           }
          ],
          "contourcarpet": [
           {
            "colorbar": {
             "outlinewidth": 0,
             "ticks": ""
            },
            "type": "contourcarpet"
           }
          ],
          "heatmap": [
           {
            "colorbar": {
             "outlinewidth": 0,
             "ticks": ""
            },
            "colorscale": [
             [
              0,
              "#0d0887"
             ],
             [
              0.1111111111111111,
              "#46039f"
             ],
             [
              0.2222222222222222,
              "#7201a8"
             ],
             [
              0.3333333333333333,
              "#9c179e"
             ],
             [
              0.4444444444444444,
              "#bd3786"
             ],
             [
              0.5555555555555556,
              "#d8576b"
             ],
             [
              0.6666666666666666,
              "#ed7953"
             ],
             [
              0.7777777777777778,
              "#fb9f3a"
             ],
             [
              0.8888888888888888,
              "#fdca26"
             ],
             [
              1,
              "#f0f921"
             ]
            ],
            "type": "heatmap"
           }
          ],
          "heatmapgl": [
           {
            "colorbar": {
             "outlinewidth": 0,
             "ticks": ""
            },
            "colorscale": [
             [
              0,
              "#0d0887"
             ],
             [
              0.1111111111111111,
              "#46039f"
             ],
             [
              0.2222222222222222,
              "#7201a8"
             ],
             [
              0.3333333333333333,
              "#9c179e"
             ],
             [
              0.4444444444444444,
              "#bd3786"
             ],
             [
              0.5555555555555556,
              "#d8576b"
             ],
             [
              0.6666666666666666,
              "#ed7953"
             ],
             [
              0.7777777777777778,
              "#fb9f3a"
             ],
             [
              0.8888888888888888,
              "#fdca26"
             ],
             [
              1,
              "#f0f921"
             ]
            ],
            "type": "heatmapgl"
           }
          ],
          "histogram": [
           {
            "marker": {
             "pattern": {
              "fillmode": "overlay",
              "size": 10,
              "solidity": 0.2
             }
            },
            "type": "histogram"
           }
          ],
          "histogram2d": [
           {
            "colorbar": {
             "outlinewidth": 0,
             "ticks": ""
            },
            "colorscale": [
             [
              0,
              "#0d0887"
             ],
             [
              0.1111111111111111,
              "#46039f"
             ],
             [
              0.2222222222222222,
              "#7201a8"
             ],
             [
              0.3333333333333333,
              "#9c179e"
             ],
             [
              0.4444444444444444,
              "#bd3786"
             ],
             [
              0.5555555555555556,
              "#d8576b"
             ],
             [
              0.6666666666666666,
              "#ed7953"
             ],
             [
              0.7777777777777778,
              "#fb9f3a"
             ],
             [
              0.8888888888888888,
              "#fdca26"
             ],
             [
              1,
              "#f0f921"
             ]
            ],
            "type": "histogram2d"
           }
          ],
          "histogram2dcontour": [
           {
            "colorbar": {
             "outlinewidth": 0,
             "ticks": ""
            },
            "colorscale": [
             [
              0,
              "#0d0887"
             ],
             [
              0.1111111111111111,
              "#46039f"
             ],
             [
              0.2222222222222222,
              "#7201a8"
             ],
             [
              0.3333333333333333,
              "#9c179e"
             ],
             [
              0.4444444444444444,
              "#bd3786"
             ],
             [
              0.5555555555555556,
              "#d8576b"
             ],
             [
              0.6666666666666666,
              "#ed7953"
             ],
             [
              0.7777777777777778,
              "#fb9f3a"
             ],
             [
              0.8888888888888888,
              "#fdca26"
             ],
             [
              1,
              "#f0f921"
             ]
            ],
            "type": "histogram2dcontour"
           }
          ],
          "mesh3d": [
           {
            "colorbar": {
             "outlinewidth": 0,
             "ticks": ""
            },
            "type": "mesh3d"
           }
          ],
          "parcoords": [
           {
            "line": {
             "colorbar": {
              "outlinewidth": 0,
              "ticks": ""
             }
            },
            "type": "parcoords"
           }
          ],
          "pie": [
           {
            "automargin": true,
            "type": "pie"
           }
          ],
          "scatter": [
           {
            "fillpattern": {
             "fillmode": "overlay",
             "size": 10,
             "solidity": 0.2
            },
            "type": "scatter"
           }
          ],
          "scatter3d": [
           {
            "line": {
             "colorbar": {
              "outlinewidth": 0,
              "ticks": ""
             }
            },
            "marker": {
             "colorbar": {
              "outlinewidth": 0,
              "ticks": ""
             }
            },
            "type": "scatter3d"
           }
          ],
          "scattercarpet": [
           {
            "marker": {
             "colorbar": {
              "outlinewidth": 0,
              "ticks": ""
             }
            },
            "type": "scattercarpet"
           }
          ],
          "scattergeo": [
           {
            "marker": {
             "colorbar": {
              "outlinewidth": 0,
              "ticks": ""
             }
            },
            "type": "scattergeo"
           }
          ],
          "scattergl": [
           {
            "marker": {
             "colorbar": {
              "outlinewidth": 0,
              "ticks": ""
             }
            },
            "type": "scattergl"
           }
          ],
          "scattermapbox": [
           {
            "marker": {
             "colorbar": {
              "outlinewidth": 0,
              "ticks": ""
             }
            },
            "type": "scattermapbox"
           }
          ],
          "scatterpolar": [
           {
            "marker": {
             "colorbar": {
              "outlinewidth": 0,
              "ticks": ""
             }
            },
            "type": "scatterpolar"
           }
          ],
          "scatterpolargl": [
           {
            "marker": {
             "colorbar": {
              "outlinewidth": 0,
              "ticks": ""
             }
            },
            "type": "scatterpolargl"
           }
          ],
          "scatterternary": [
           {
            "marker": {
             "colorbar": {
              "outlinewidth": 0,
              "ticks": ""
             }
            },
            "type": "scatterternary"
           }
          ],
          "surface": [
           {
            "colorbar": {
             "outlinewidth": 0,
             "ticks": ""
            },
            "colorscale": [
             [
              0,
              "#0d0887"
             ],
             [
              0.1111111111111111,
              "#46039f"
             ],
             [
              0.2222222222222222,
              "#7201a8"
             ],
             [
              0.3333333333333333,
              "#9c179e"
             ],
             [
              0.4444444444444444,
              "#bd3786"
             ],
             [
              0.5555555555555556,
              "#d8576b"
             ],
             [
              0.6666666666666666,
              "#ed7953"
             ],
             [
              0.7777777777777778,
              "#fb9f3a"
             ],
             [
              0.8888888888888888,
              "#fdca26"
             ],
             [
              1,
              "#f0f921"
             ]
            ],
            "type": "surface"
           }
          ],
          "table": [
           {
            "cells": {
             "fill": {
              "color": "#EBF0F8"
             },
             "line": {
              "color": "white"
             }
            },
            "header": {
             "fill": {
              "color": "#C8D4E3"
             },
             "line": {
              "color": "white"
             }
            },
            "type": "table"
           }
          ]
         },
         "layout": {
          "annotationdefaults": {
           "arrowcolor": "#2a3f5f",
           "arrowhead": 0,
           "arrowwidth": 1
          },
          "autotypenumbers": "strict",
          "coloraxis": {
           "colorbar": {
            "outlinewidth": 0,
            "ticks": ""
           }
          },
          "colorscale": {
           "diverging": [
            [
             0,
             "#8e0152"
            ],
            [
             0.1,
             "#c51b7d"
            ],
            [
             0.2,
             "#de77ae"
            ],
            [
             0.3,
             "#f1b6da"
            ],
            [
             0.4,
             "#fde0ef"
            ],
            [
             0.5,
             "#f7f7f7"
            ],
            [
             0.6,
             "#e6f5d0"
            ],
            [
             0.7,
             "#b8e186"
            ],
            [
             0.8,
             "#7fbc41"
            ],
            [
             0.9,
             "#4d9221"
            ],
            [
             1,
             "#276419"
            ]
           ],
           "sequential": [
            [
             0,
             "#0d0887"
            ],
            [
             0.1111111111111111,
             "#46039f"
            ],
            [
             0.2222222222222222,
             "#7201a8"
            ],
            [
             0.3333333333333333,
             "#9c179e"
            ],
            [
             0.4444444444444444,
             "#bd3786"
            ],
            [
             0.5555555555555556,
             "#d8576b"
            ],
            [
             0.6666666666666666,
             "#ed7953"
            ],
            [
             0.7777777777777778,
             "#fb9f3a"
            ],
            [
             0.8888888888888888,
             "#fdca26"
            ],
            [
             1,
             "#f0f921"
            ]
           ],
           "sequentialminus": [
            [
             0,
             "#0d0887"
            ],
            [
             0.1111111111111111,
             "#46039f"
            ],
            [
             0.2222222222222222,
             "#7201a8"
            ],
            [
             0.3333333333333333,
             "#9c179e"
            ],
            [
             0.4444444444444444,
             "#bd3786"
            ],
            [
             0.5555555555555556,
             "#d8576b"
            ],
            [
             0.6666666666666666,
             "#ed7953"
            ],
            [
             0.7777777777777778,
             "#fb9f3a"
            ],
            [
             0.8888888888888888,
             "#fdca26"
            ],
            [
             1,
             "#f0f921"
            ]
           ]
          },
          "colorway": [
           "#636efa",
           "#EF553B",
           "#00cc96",
           "#ab63fa",
           "#FFA15A",
           "#19d3f3",
           "#FF6692",
           "#B6E880",
           "#FF97FF",
           "#FECB52"
          ],
          "font": {
           "color": "#2a3f5f"
          },
          "geo": {
           "bgcolor": "white",
           "lakecolor": "white",
           "landcolor": "#E5ECF6",
           "showlakes": true,
           "showland": true,
           "subunitcolor": "white"
          },
          "hoverlabel": {
           "align": "left"
          },
          "hovermode": "closest",
          "mapbox": {
           "style": "light"
          },
          "paper_bgcolor": "white",
          "plot_bgcolor": "#E5ECF6",
          "polar": {
           "angularaxis": {
            "gridcolor": "white",
            "linecolor": "white",
            "ticks": ""
           },
           "bgcolor": "#E5ECF6",
           "radialaxis": {
            "gridcolor": "white",
            "linecolor": "white",
            "ticks": ""
           }
          },
          "scene": {
           "xaxis": {
            "backgroundcolor": "#E5ECF6",
            "gridcolor": "white",
            "gridwidth": 2,
            "linecolor": "white",
            "showbackground": true,
            "ticks": "",
            "zerolinecolor": "white"
           },
           "yaxis": {
            "backgroundcolor": "#E5ECF6",
            "gridcolor": "white",
            "gridwidth": 2,
            "linecolor": "white",
            "showbackground": true,
            "ticks": "",
            "zerolinecolor": "white"
           },
           "zaxis": {
            "backgroundcolor": "#E5ECF6",
            "gridcolor": "white",
            "gridwidth": 2,
            "linecolor": "white",
            "showbackground": true,
            "ticks": "",
            "zerolinecolor": "white"
           }
          },
          "shapedefaults": {
           "line": {
            "color": "#2a3f5f"
           }
          },
          "ternary": {
           "aaxis": {
            "gridcolor": "white",
            "linecolor": "white",
            "ticks": ""
           },
           "baxis": {
            "gridcolor": "white",
            "linecolor": "white",
            "ticks": ""
           },
           "bgcolor": "#E5ECF6",
           "caxis": {
            "gridcolor": "white",
            "linecolor": "white",
            "ticks": ""
           }
          },
          "title": {
           "x": 0.05
          },
          "xaxis": {
           "automargin": true,
           "gridcolor": "white",
           "linecolor": "white",
           "ticks": "",
           "title": {
            "standoff": 15
           },
           "zerolinecolor": "white",
           "zerolinewidth": 2
          },
          "yaxis": {
           "automargin": true,
           "gridcolor": "white",
           "linecolor": "white",
           "ticks": "",
           "title": {
            "standoff": 15
           },
           "zerolinecolor": "white",
           "zerolinewidth": 2
          }
         }
        },
        "xaxis": {
         "anchor": "y",
         "domain": [
          0,
          0.31999999999999995
         ],
         "title": {
          "text": "MR"
         }
        },
        "xaxis2": {
         "anchor": "y2",
         "domain": [
          0.33999999999999997,
          0.6599999999999999
         ],
         "title": {
          "text": "MR"
         }
        },
        "xaxis3": {
         "anchor": "y3",
         "domain": [
          0.6799999999999999,
          0.9999999999999999
         ],
         "title": {
          "text": "MR"
         }
        },
        "yaxis": {
         "anchor": "x",
         "domain": [
          0,
          1
         ],
         "title": {
          "text": "CPI"
         }
        },
        "yaxis2": {
         "anchor": "x2",
         "domain": [
          0,
          1
         ],
         "showticklabels": false
        },
        "yaxis3": {
         "anchor": "x3",
         "domain": [
          0,
          1
         ],
         "showticklabels": false
        }
       }
      }
     },
     "metadata": {},
     "output_type": "display_data"
    }
   ],
   "source": [
    "import plotly.express as px\n",
    "\n",
    "fig = px.scatter(df.reset_index(), x=\"MR\", y=\"CPI\", color=\"Period\", trendline=\"ols\", facet_col=\"Period\")\n",
    "fig.update_xaxes(matches=None)\n",
    "fig.update_yaxes(matches=None)"
   ]
  }
 ],
 "metadata": {
  "kernelspec": {
   "display_name": "work",
   "language": "python",
   "name": "python3"
  },
  "language_info": {
   "codemirror_mode": {
    "name": "ipython",
    "version": 3
   },
   "file_extension": ".py",
   "mimetype": "text/x-python",
   "name": "python",
   "nbconvert_exporter": "python",
   "pygments_lexer": "ipython3",
   "version": "3.13.1"
  }
 },
 "nbformat": 4,
 "nbformat_minor": 2
}
