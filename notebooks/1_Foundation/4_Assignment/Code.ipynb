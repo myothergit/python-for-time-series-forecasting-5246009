{
 "cells": [
  {
   "cell_type": "markdown",
   "id": "be80b463",
   "metadata": {
    "papermill": {
     "duration": 0.006455,
     "end_time": "2024-05-29T22:25:21.629458",
     "exception": false,
     "start_time": "2024-05-29T22:25:21.623003",
     "status": "completed"
    },
    "tags": []
   },
   "source": [
    "# Time series components"
   ]
  },
  {
   "cell_type": "markdown",
   "id": "b1423734",
   "metadata": {},
   "source": [
    "Delete and annotate after reading. In this assignment, which is the first one, not only you will explain what they must do, but you will also mentally prepare them to grab data from other sources and apply what they learn on each lesson. I'll leave some examples in another folder that compares the points of different models on different datasets, as practical cases, and published on Medium."
   ]
  },
  {
   "cell_type": "markdown",
   "id": "fa904135",
   "metadata": {
    "papermill": {
     "duration": 0.00172,
     "end_time": "2024-05-29T22:25:21.642221",
     "exception": false,
     "start_time": "2024-05-29T22:25:21.640501",
     "status": "completed"
    },
    "tags": []
   },
   "source": [
    "## Data"
   ]
  },
  {
   "cell_type": "code",
   "execution_count": 1,
   "id": "d8d1756d",
   "metadata": {},
   "outputs": [
    {
     "data": {
      "text/html": [
       "<div>\n",
       "<style scoped>\n",
       "    .dataframe tbody tr th:only-of-type {\n",
       "        vertical-align: middle;\n",
       "    }\n",
       "\n",
       "    .dataframe tbody tr th {\n",
       "        vertical-align: top;\n",
       "    }\n",
       "\n",
       "    .dataframe thead th {\n",
       "        text-align: right;\n",
       "    }\n",
       "</style>\n",
       "<table border=\"1\" class=\"dataframe\">\n",
       "  <thead>\n",
       "    <tr style=\"text-align: right;\">\n",
       "      <th></th>\n",
       "      <th>period</th>\n",
       "      <th>respondent</th>\n",
       "      <th>respondent-name</th>\n",
       "      <th>fueltype</th>\n",
       "      <th>type-name</th>\n",
       "      <th>value</th>\n",
       "      <th>value-units</th>\n",
       "    </tr>\n",
       "  </thead>\n",
       "  <tbody>\n",
       "    <tr>\n",
       "      <th>0</th>\n",
       "      <td>2025-04-22 20:00:00-07:00</td>\n",
       "      <td>CAL</td>\n",
       "      <td>California</td>\n",
       "      <td>BAT</td>\n",
       "      <td>Battery storage</td>\n",
       "      <td>179</td>\n",
       "      <td>megawatthours</td>\n",
       "    </tr>\n",
       "    <tr>\n",
       "      <th>1</th>\n",
       "      <td>2025-04-22 20:00:00-07:00</td>\n",
       "      <td>CAL</td>\n",
       "      <td>California</td>\n",
       "      <td>COL</td>\n",
       "      <td>Coal</td>\n",
       "      <td>216</td>\n",
       "      <td>megawatthours</td>\n",
       "    </tr>\n",
       "    <tr>\n",
       "      <th>...</th>\n",
       "      <td>...</td>\n",
       "      <td>...</td>\n",
       "      <td>...</td>\n",
       "      <td>...</td>\n",
       "      <td>...</td>\n",
       "      <td>...</td>\n",
       "      <td>...</td>\n",
       "    </tr>\n",
       "    <tr>\n",
       "      <th>452546</th>\n",
       "      <td>2018-12-31 17:00:00-07:00</td>\n",
       "      <td>CAL</td>\n",
       "      <td>California</td>\n",
       "      <td>WAT</td>\n",
       "      <td>Hydro</td>\n",
       "      <td>2880</td>\n",
       "      <td>megawatthours</td>\n",
       "    </tr>\n",
       "    <tr>\n",
       "      <th>452547</th>\n",
       "      <td>2018-12-31 17:00:00-07:00</td>\n",
       "      <td>CAL</td>\n",
       "      <td>California</td>\n",
       "      <td>WND</td>\n",
       "      <td>Wind</td>\n",
       "      <td>2628</td>\n",
       "      <td>megawatthours</td>\n",
       "    </tr>\n",
       "  </tbody>\n",
       "</table>\n",
       "<p>452548 rows × 7 columns</p>\n",
       "</div>"
      ],
      "text/plain": [
       "                          period respondent respondent-name fueltype  \\\n",
       "0      2025-04-22 20:00:00-07:00        CAL      California      BAT   \n",
       "1      2025-04-22 20:00:00-07:00        CAL      California      COL   \n",
       "...                          ...        ...             ...      ...   \n",
       "452546 2018-12-31 17:00:00-07:00        CAL      California      WAT   \n",
       "452547 2018-12-31 17:00:00-07:00        CAL      California      WND   \n",
       "\n",
       "              type-name  value    value-units  \n",
       "0       Battery storage    179  megawatthours  \n",
       "1                  Coal    216  megawatthours  \n",
       "...                 ...    ...            ...  \n",
       "452546            Hydro   2880  megawatthours  \n",
       "452547             Wind   2628  megawatthours  \n",
       "\n",
       "[452548 rows x 7 columns]"
      ]
     },
     "execution_count": 1,
     "metadata": {},
     "output_type": "execute_result"
    }
   ],
   "source": [
    "import pandas as pd\n",
    "\n",
    "df = pd.read_parquet(\"../../../data/EIA/fuel_type_data_california.parquet\")\n",
    "df"
   ]
  },
  {
   "cell_type": "code",
   "execution_count": 4,
   "id": "e67e3354",
   "metadata": {},
   "outputs": [
    {
     "data": {
      "text/html": [
       "<style type=\"text/css\">\n",
       "</style>\n",
       "<table id=\"T_dffce\">\n",
       "  <thead>\n",
       "    <tr>\n",
       "      <th class=\"blank level0\" >&nbsp;</th>\n",
       "      <th id=\"T_dffce_level0_col0\" class=\"col_heading level0 col0\" >fueltype</th>\n",
       "      <th id=\"T_dffce_level0_col1\" class=\"col_heading level0 col1\" >type-name</th>\n",
       "    </tr>\n",
       "  </thead>\n",
       "  <tbody>\n",
       "    <tr>\n",
       "      <th id=\"T_dffce_level0_row0\" class=\"row_heading level0 row0\" >0</th>\n",
       "      <td id=\"T_dffce_row0_col0\" class=\"data row0 col0\" >BAT</td>\n",
       "      <td id=\"T_dffce_row0_col1\" class=\"data row0 col1\" >Battery storage</td>\n",
       "    </tr>\n",
       "    <tr>\n",
       "      <th id=\"T_dffce_level0_row1\" class=\"row_heading level0 row1\" >1</th>\n",
       "      <td id=\"T_dffce_row1_col0\" class=\"data row1 col0\" >COL</td>\n",
       "      <td id=\"T_dffce_row1_col1\" class=\"data row1 col1\" >Coal</td>\n",
       "    </tr>\n",
       "    <tr>\n",
       "      <th id=\"T_dffce_level0_row2\" class=\"row_heading level0 row2\" >2</th>\n",
       "      <td id=\"T_dffce_row2_col0\" class=\"data row2 col0\" >GEO</td>\n",
       "      <td id=\"T_dffce_row2_col1\" class=\"data row2 col1\" >Geothermal</td>\n",
       "    </tr>\n",
       "    <tr>\n",
       "      <th id=\"T_dffce_level0_row3\" class=\"row_heading level0 row3\" >3</th>\n",
       "      <td id=\"T_dffce_row3_col0\" class=\"data row3 col0\" >NG</td>\n",
       "      <td id=\"T_dffce_row3_col1\" class=\"data row3 col1\" >Natural Gas</td>\n",
       "    </tr>\n",
       "    <tr>\n",
       "      <th id=\"T_dffce_level0_row4\" class=\"row_heading level0 row4\" >4</th>\n",
       "      <td id=\"T_dffce_row4_col0\" class=\"data row4 col0\" >NUC</td>\n",
       "      <td id=\"T_dffce_row4_col1\" class=\"data row4 col1\" >Nuclear</td>\n",
       "    </tr>\n",
       "    <tr>\n",
       "      <th id=\"T_dffce_level0_row5\" class=\"row_heading level0 row5\" >5</th>\n",
       "      <td id=\"T_dffce_row5_col0\" class=\"data row5 col0\" >OIL</td>\n",
       "      <td id=\"T_dffce_row5_col1\" class=\"data row5 col1\" >Petroleum</td>\n",
       "    </tr>\n",
       "    <tr>\n",
       "      <th id=\"T_dffce_level0_row6\" class=\"row_heading level0 row6\" >6</th>\n",
       "      <td id=\"T_dffce_row6_col0\" class=\"data row6 col0\" >OTH</td>\n",
       "      <td id=\"T_dffce_row6_col1\" class=\"data row6 col1\" >Other</td>\n",
       "    </tr>\n",
       "    <tr>\n",
       "      <th id=\"T_dffce_level0_row7\" class=\"row_heading level0 row7\" >7</th>\n",
       "      <td id=\"T_dffce_row7_col0\" class=\"data row7 col0\" >PS</td>\n",
       "      <td id=\"T_dffce_row7_col1\" class=\"data row7 col1\" >Pumped storage</td>\n",
       "    </tr>\n",
       "    <tr>\n",
       "      <th id=\"T_dffce_level0_row8\" class=\"row_heading level0 row8\" >8</th>\n",
       "      <td id=\"T_dffce_row8_col0\" class=\"data row8 col0\" >SNB</td>\n",
       "      <td id=\"T_dffce_row8_col1\" class=\"data row8 col1\" >Solar with integrated battery storage</td>\n",
       "    </tr>\n",
       "    <tr>\n",
       "      <th id=\"T_dffce_level0_row9\" class=\"row_heading level0 row9\" >9</th>\n",
       "      <td id=\"T_dffce_row9_col0\" class=\"data row9 col0\" >SUN</td>\n",
       "      <td id=\"T_dffce_row9_col1\" class=\"data row9 col1\" >Solar</td>\n",
       "    </tr>\n",
       "    <tr>\n",
       "      <th id=\"T_dffce_level0_row10\" class=\"row_heading level0 row10\" >10</th>\n",
       "      <td id=\"T_dffce_row10_col0\" class=\"data row10 col0\" >WAT</td>\n",
       "      <td id=\"T_dffce_row10_col1\" class=\"data row10 col1\" >Hydro</td>\n",
       "    </tr>\n",
       "    <tr>\n",
       "      <th id=\"T_dffce_level0_row11\" class=\"row_heading level0 row11\" >11</th>\n",
       "      <td id=\"T_dffce_row11_col0\" class=\"data row11 col0\" >WND</td>\n",
       "      <td id=\"T_dffce_row11_col1\" class=\"data row11 col1\" >Wind</td>\n",
       "    </tr>\n",
       "  </tbody>\n",
       "</table>\n"
      ],
      "text/plain": [
       "<pandas.io.formats.style.Styler at 0x13aabf0e0>"
      ]
     },
     "execution_count": 4,
     "metadata": {},
     "output_type": "execute_result"
    }
   ],
   "source": [
    "df[['fueltype', 'type-name']].drop_duplicates().style"
   ]
  },
  {
   "cell_type": "code",
   "execution_count": 5,
   "id": "1b1a40e6",
   "metadata": {},
   "outputs": [],
   "source": [
    "FUELTYPE = 'WAT'"
   ]
  },
  {
   "cell_type": "code",
   "execution_count": 6,
   "id": "d0284c02",
   "metadata": {},
   "outputs": [
    {
     "data": {
      "text/html": [
       "<div>\n",
       "<style scoped>\n",
       "    .dataframe tbody tr th:only-of-type {\n",
       "        vertical-align: middle;\n",
       "    }\n",
       "\n",
       "    .dataframe tbody tr th {\n",
       "        vertical-align: top;\n",
       "    }\n",
       "\n",
       "    .dataframe thead th {\n",
       "        text-align: right;\n",
       "    }\n",
       "</style>\n",
       "<table border=\"1\" class=\"dataframe\">\n",
       "  <thead>\n",
       "    <tr style=\"text-align: right;\">\n",
       "      <th></th>\n",
       "      <th>value</th>\n",
       "    </tr>\n",
       "    <tr>\n",
       "      <th>period</th>\n",
       "      <th></th>\n",
       "    </tr>\n",
       "  </thead>\n",
       "  <tbody>\n",
       "    <tr>\n",
       "      <th>2019-01-06 00:00:00-07:00</th>\n",
       "      <td>2314.680556</td>\n",
       "    </tr>\n",
       "    <tr>\n",
       "      <th>2019-02-03 00:00:00-07:00</th>\n",
       "      <td>2194.462798</td>\n",
       "    </tr>\n",
       "    <tr>\n",
       "      <th>...</th>\n",
       "      <td>...</td>\n",
       "    </tr>\n",
       "    <tr>\n",
       "      <th>2024-12-29 00:00:00-07:00</th>\n",
       "      <td>1960.949405</td>\n",
       "    </tr>\n",
       "    <tr>\n",
       "      <th>2025-01-26 00:00:00-07:00</th>\n",
       "      <td>2760.562500</td>\n",
       "    </tr>\n",
       "  </tbody>\n",
       "</table>\n",
       "<p>80 rows × 1 columns</p>\n",
       "</div>"
      ],
      "text/plain": [
       "                                 value\n",
       "period                                \n",
       "2019-01-06 00:00:00-07:00  2314.680556\n",
       "2019-02-03 00:00:00-07:00  2194.462798\n",
       "...                                ...\n",
       "2024-12-29 00:00:00-07:00  1960.949405\n",
       "2025-01-26 00:00:00-07:00  2760.562500\n",
       "\n",
       "[80 rows x 1 columns]"
      ]
     },
     "execution_count": 6,
     "metadata": {},
     "output_type": "execute_result"
    }
   ],
   "source": [
    "df = (df\n",
    " .query('fueltype == @FUELTYPE')\n",
    " .set_index('period')['value'].to_frame()\n",
    " .sort_index()\n",
    " .loc['2019':'2024']\n",
    " .resample('4W')\n",
    " .mean()\n",
    ")\n",
    "\n",
    "df"
   ]
  },
  {
   "cell_type": "code",
   "execution_count": 7,
   "id": "19946f43",
   "metadata": {},
   "outputs": [
    {
     "data": {
      "text/html": [
       "<div>\n",
       "<style scoped>\n",
       "    .dataframe tbody tr th:only-of-type {\n",
       "        vertical-align: middle;\n",
       "    }\n",
       "\n",
       "    .dataframe tbody tr th {\n",
       "        vertical-align: top;\n",
       "    }\n",
       "\n",
       "    .dataframe thead th {\n",
       "        text-align: right;\n",
       "    }\n",
       "</style>\n",
       "<table border=\"1\" class=\"dataframe\">\n",
       "  <thead>\n",
       "    <tr style=\"text-align: right;\">\n",
       "      <th></th>\n",
       "      <th>values</th>\n",
       "    </tr>\n",
       "    <tr>\n",
       "      <th>period</th>\n",
       "      <th></th>\n",
       "    </tr>\n",
       "  </thead>\n",
       "  <tbody>\n",
       "    <tr>\n",
       "      <th>2019-01-06 00:00:00-07:00</th>\n",
       "      <td>2314.680556</td>\n",
       "    </tr>\n",
       "    <tr>\n",
       "      <th>2019-02-03 00:00:00-07:00</th>\n",
       "      <td>2194.462798</td>\n",
       "    </tr>\n",
       "    <tr>\n",
       "      <th>...</th>\n",
       "      <td>...</td>\n",
       "    </tr>\n",
       "    <tr>\n",
       "      <th>2024-12-29 00:00:00-07:00</th>\n",
       "      <td>1960.949405</td>\n",
       "    </tr>\n",
       "    <tr>\n",
       "      <th>2025-01-26 00:00:00-07:00</th>\n",
       "      <td>2760.562500</td>\n",
       "    </tr>\n",
       "  </tbody>\n",
       "</table>\n",
       "<p>80 rows × 1 columns</p>\n",
       "</div>"
      ],
      "text/plain": [
       "                                values\n",
       "period                                \n",
       "2019-01-06 00:00:00-07:00  2314.680556\n",
       "2019-02-03 00:00:00-07:00  2194.462798\n",
       "...                                ...\n",
       "2024-12-29 00:00:00-07:00  1960.949405\n",
       "2025-01-26 00:00:00-07:00  2760.562500\n",
       "\n",
       "[80 rows x 1 columns]"
      ]
     },
     "execution_count": 7,
     "metadata": {},
     "output_type": "execute_result"
    }
   ],
   "source": [
    "df.columns = ['values']\n",
    "df"
   ]
  },
  {
   "cell_type": "markdown",
   "id": "bea624c8",
   "metadata": {
    "papermill": {
     "duration": 0.001133,
     "end_time": "2024-05-29T22:25:22.373020",
     "exception": false,
     "start_time": "2024-05-29T22:25:22.371887",
     "status": "completed"
    },
    "tags": []
   },
   "source": [
    "## Individual component behaviour based on model\n",
    "\n",
    "Components:\n",
    "\n",
    "- Trend (T)\n",
    "- Seasonality (S)\n",
    "- Residual or Irregular Component (I)\n",
    "\n",
    "Models:\n",
    "\n",
    "- Additive model: $y_t = T_t + S_t + e_t$\n",
    "- Multiplicative model: $y_t = T_t \\times S_t \\times e_t$"
   ]
  },
  {
   "cell_type": "markdown",
   "id": "60a97d81",
   "metadata": {},
   "source": [
    "### Additive model"
   ]
  },
  {
   "cell_type": "code",
   "execution_count": 8,
   "id": "e58d5c74",
   "metadata": {},
   "outputs": [],
   "source": [
    "import statsmodels.api as sm"
   ]
  },
  {
   "cell_type": "code",
   "execution_count": 9,
   "id": "b2326a07",
   "metadata": {
    "execution": {
     "iopub.execute_input": "2024-05-29T22:25:22.375991Z",
     "iopub.status.busy": "2024-05-29T22:25:22.375694Z",
     "iopub.status.idle": "2024-05-29T22:25:22.734211Z",
     "shell.execute_reply": "2024-05-29T22:25:22.733934Z"
    },
    "papermill": {
     "duration": 0.360948,
     "end_time": "2024-05-29T22:25:22.735089",
     "exception": false,
     "start_time": "2024-05-29T22:25:22.374141",
     "status": "completed"
    },
    "tags": []
   },
   "outputs": [
    {
     "data": {
      "text/html": [
       "<div>\n",
       "<style scoped>\n",
       "    .dataframe tbody tr th:only-of-type {\n",
       "        vertical-align: middle;\n",
       "    }\n",
       "\n",
       "    .dataframe tbody tr th {\n",
       "        vertical-align: top;\n",
       "    }\n",
       "\n",
       "    .dataframe thead th {\n",
       "        text-align: right;\n",
       "    }\n",
       "</style>\n",
       "<table border=\"1\" class=\"dataframe\">\n",
       "  <thead>\n",
       "    <tr style=\"text-align: right;\">\n",
       "      <th></th>\n",
       "      <th>values</th>\n",
       "      <th>trend</th>\n",
       "      <th>seasonal</th>\n",
       "      <th>residual</th>\n",
       "    </tr>\n",
       "    <tr>\n",
       "      <th>period</th>\n",
       "      <th></th>\n",
       "      <th></th>\n",
       "      <th></th>\n",
       "      <th></th>\n",
       "    </tr>\n",
       "  </thead>\n",
       "  <tbody>\n",
       "    <tr>\n",
       "      <th>2019-06-23 00:00:00-07:00</th>\n",
       "      <td>6355.355655</td>\n",
       "      <td>4173.747417</td>\n",
       "      <td>5.387638</td>\n",
       "      <td>2176.220600</td>\n",
       "    </tr>\n",
       "    <tr>\n",
       "      <th>2019-07-21 00:00:00-07:00</th>\n",
       "      <td>5712.997024</td>\n",
       "      <td>4020.196801</td>\n",
       "      <td>301.981092</td>\n",
       "      <td>1390.819131</td>\n",
       "    </tr>\n",
       "    <tr>\n",
       "      <th>...</th>\n",
       "      <td>...</td>\n",
       "      <td>...</td>\n",
       "      <td>...</td>\n",
       "      <td>...</td>\n",
       "    </tr>\n",
       "    <tr>\n",
       "      <th>2024-07-14 00:00:00-07:00</th>\n",
       "      <td>4051.985119</td>\n",
       "      <td>3554.221788</td>\n",
       "      <td>116.758756</td>\n",
       "      <td>381.004575</td>\n",
       "    </tr>\n",
       "    <tr>\n",
       "      <th>2024-08-11 00:00:00-07:00</th>\n",
       "      <td>4402.200893</td>\n",
       "      <td>3513.772817</td>\n",
       "      <td>-50.922905</td>\n",
       "      <td>939.350980</td>\n",
       "    </tr>\n",
       "  </tbody>\n",
       "</table>\n",
       "<p>68 rows × 4 columns</p>\n",
       "</div>"
      ],
      "text/plain": [
       "                                values        trend    seasonal     residual\n",
       "period                                                                      \n",
       "2019-06-23 00:00:00-07:00  6355.355655  4173.747417    5.387638  2176.220600\n",
       "2019-07-21 00:00:00-07:00  5712.997024  4020.196801  301.981092  1390.819131\n",
       "...                                ...          ...         ...          ...\n",
       "2024-07-14 00:00:00-07:00  4051.985119  3554.221788  116.758756   381.004575\n",
       "2024-08-11 00:00:00-07:00  4402.200893  3513.772817  -50.922905   939.350980\n",
       "\n",
       "[68 rows x 4 columns]"
      ]
     },
     "execution_count": 9,
     "metadata": {},
     "output_type": "execute_result"
    }
   ],
   "source": [
    "data = df['values'].values\n",
    "result = sm.tsa.seasonal_decompose(data, model='additive', period=12)\n",
    "\n",
    "r = (df\n",
    " .assign(\n",
    "    trend = result.trend,\n",
    "    seasonal = result.seasonal,\n",
    "    residual = result.resid)\n",
    " .dropna())\n",
    "\n",
    "r"
   ]
  },
  {
   "cell_type": "code",
   "execution_count": 10,
   "id": "daa75522",
   "metadata": {
    "execution": {
     "iopub.execute_input": "2024-05-29T22:25:22.739246Z",
     "iopub.status.busy": "2024-05-29T22:25:22.738925Z",
     "iopub.status.idle": "2024-05-29T22:25:22.743687Z",
     "shell.execute_reply": "2024-05-29T22:25:22.743439Z"
    },
    "papermill": {
     "duration": 0.007789,
     "end_time": "2024-05-29T22:25:22.744468",
     "exception": false,
     "start_time": "2024-05-29T22:25:22.736679",
     "status": "completed"
    },
    "tags": []
   },
   "outputs": [
    {
     "data": {
      "text/html": [
       "<div>\n",
       "<style scoped>\n",
       "    .dataframe tbody tr th:only-of-type {\n",
       "        vertical-align: middle;\n",
       "    }\n",
       "\n",
       "    .dataframe tbody tr th {\n",
       "        vertical-align: top;\n",
       "    }\n",
       "\n",
       "    .dataframe thead th {\n",
       "        text-align: right;\n",
       "    }\n",
       "</style>\n",
       "<table border=\"1\" class=\"dataframe\">\n",
       "  <thead>\n",
       "    <tr style=\"text-align: right;\">\n",
       "      <th></th>\n",
       "      <th>values</th>\n",
       "      <th>trend</th>\n",
       "      <th>seasonal</th>\n",
       "      <th>residual</th>\n",
       "      <th>model_result</th>\n",
       "    </tr>\n",
       "    <tr>\n",
       "      <th>period</th>\n",
       "      <th></th>\n",
       "      <th></th>\n",
       "      <th></th>\n",
       "      <th></th>\n",
       "      <th></th>\n",
       "    </tr>\n",
       "  </thead>\n",
       "  <tbody>\n",
       "    <tr>\n",
       "      <th>2019-06-23 00:00:00-07:00</th>\n",
       "      <td>6355.355655</td>\n",
       "      <td>4173.747417</td>\n",
       "      <td>5.387638</td>\n",
       "      <td>2176.220600</td>\n",
       "      <td>6355.355655</td>\n",
       "    </tr>\n",
       "    <tr>\n",
       "      <th>2019-07-21 00:00:00-07:00</th>\n",
       "      <td>5712.997024</td>\n",
       "      <td>4020.196801</td>\n",
       "      <td>301.981092</td>\n",
       "      <td>1390.819131</td>\n",
       "      <td>5712.997024</td>\n",
       "    </tr>\n",
       "    <tr>\n",
       "      <th>...</th>\n",
       "      <td>...</td>\n",
       "      <td>...</td>\n",
       "      <td>...</td>\n",
       "      <td>...</td>\n",
       "      <td>...</td>\n",
       "    </tr>\n",
       "    <tr>\n",
       "      <th>2024-07-14 00:00:00-07:00</th>\n",
       "      <td>4051.985119</td>\n",
       "      <td>3554.221788</td>\n",
       "      <td>116.758756</td>\n",
       "      <td>381.004575</td>\n",
       "      <td>4051.985119</td>\n",
       "    </tr>\n",
       "    <tr>\n",
       "      <th>2024-08-11 00:00:00-07:00</th>\n",
       "      <td>4402.200893</td>\n",
       "      <td>3513.772817</td>\n",
       "      <td>-50.922905</td>\n",
       "      <td>939.350980</td>\n",
       "      <td>4402.200893</td>\n",
       "    </tr>\n",
       "  </tbody>\n",
       "</table>\n",
       "<p>68 rows × 5 columns</p>\n",
       "</div>"
      ],
      "text/plain": [
       "                                values        trend    seasonal     residual  \\\n",
       "period                                                                         \n",
       "2019-06-23 00:00:00-07:00  6355.355655  4173.747417    5.387638  2176.220600   \n",
       "2019-07-21 00:00:00-07:00  5712.997024  4020.196801  301.981092  1390.819131   \n",
       "...                                ...          ...         ...          ...   \n",
       "2024-07-14 00:00:00-07:00  4051.985119  3554.221788  116.758756   381.004575   \n",
       "2024-08-11 00:00:00-07:00  4402.200893  3513.772817  -50.922905   939.350980   \n",
       "\n",
       "                           model_result  \n",
       "period                                   \n",
       "2019-06-23 00:00:00-07:00   6355.355655  \n",
       "2019-07-21 00:00:00-07:00   5712.997024  \n",
       "...                                 ...  \n",
       "2024-07-14 00:00:00-07:00   4051.985119  \n",
       "2024-08-11 00:00:00-07:00   4402.200893  \n",
       "\n",
       "[68 rows x 5 columns]"
      ]
     },
     "execution_count": 10,
     "metadata": {},
     "output_type": "execute_result"
    }
   ],
   "source": [
    "r['model_result'] = r.trend + r.seasonal + r.residual\n",
    "r"
   ]
  },
  {
   "cell_type": "code",
   "execution_count": 11,
   "id": "8742c8c7",
   "metadata": {},
   "outputs": [],
   "source": [
    "dfs = {}\n",
    "dfs['additive'] = r"
   ]
  },
  {
   "cell_type": "markdown",
   "id": "80aa1c5b",
   "metadata": {
    "papermill": {
     "duration": 0.001849,
     "end_time": "2024-05-29T22:25:23.221029",
     "exception": false,
     "start_time": "2024-05-29T22:25:23.219180",
     "status": "completed"
    },
    "tags": []
   },
   "source": [
    "### Multiplicative model"
   ]
  },
  {
   "cell_type": "code",
   "execution_count": 12,
   "id": "d7bb3526",
   "metadata": {
    "execution": {
     "iopub.execute_input": "2024-05-29T22:25:23.224109Z",
     "iopub.status.busy": "2024-05-29T22:25:23.223893Z",
     "iopub.status.idle": "2024-05-29T22:25:23.229647Z",
     "shell.execute_reply": "2024-05-29T22:25:23.229472Z"
    },
    "papermill": {
     "duration": 0.008039,
     "end_time": "2024-05-29T22:25:23.230257",
     "exception": false,
     "start_time": "2024-05-29T22:25:23.222218",
     "status": "completed"
    },
    "tags": [
     "Fixed"
    ]
   },
   "outputs": [
    {
     "data": {
      "text/html": [
       "<div>\n",
       "<style scoped>\n",
       "    .dataframe tbody tr th:only-of-type {\n",
       "        vertical-align: middle;\n",
       "    }\n",
       "\n",
       "    .dataframe tbody tr th {\n",
       "        vertical-align: top;\n",
       "    }\n",
       "\n",
       "    .dataframe thead th {\n",
       "        text-align: right;\n",
       "    }\n",
       "</style>\n",
       "<table border=\"1\" class=\"dataframe\">\n",
       "  <thead>\n",
       "    <tr style=\"text-align: right;\">\n",
       "      <th></th>\n",
       "      <th>values</th>\n",
       "      <th>trend</th>\n",
       "      <th>seasonal</th>\n",
       "      <th>residual</th>\n",
       "    </tr>\n",
       "    <tr>\n",
       "      <th>period</th>\n",
       "      <th></th>\n",
       "      <th></th>\n",
       "      <th></th>\n",
       "      <th></th>\n",
       "    </tr>\n",
       "  </thead>\n",
       "  <tbody>\n",
       "    <tr>\n",
       "      <th>2019-06-23 00:00:00-07:00</th>\n",
       "      <td>6355.355655</td>\n",
       "      <td>4173.747417</td>\n",
       "      <td>1.005914</td>\n",
       "      <td>1.513746</td>\n",
       "    </tr>\n",
       "    <tr>\n",
       "      <th>2019-07-21 00:00:00-07:00</th>\n",
       "      <td>5712.997024</td>\n",
       "      <td>4020.196801</td>\n",
       "      <td>1.116047</td>\n",
       "      <td>1.273310</td>\n",
       "    </tr>\n",
       "    <tr>\n",
       "      <th>...</th>\n",
       "      <td>...</td>\n",
       "      <td>...</td>\n",
       "      <td>...</td>\n",
       "      <td>...</td>\n",
       "    </tr>\n",
       "    <tr>\n",
       "      <th>2024-07-14 00:00:00-07:00</th>\n",
       "      <td>4051.985119</td>\n",
       "      <td>3554.221788</td>\n",
       "      <td>1.059509</td>\n",
       "      <td>1.076016</td>\n",
       "    </tr>\n",
       "    <tr>\n",
       "      <th>2024-08-11 00:00:00-07:00</th>\n",
       "      <td>4402.200893</td>\n",
       "      <td>3513.772817</td>\n",
       "      <td>0.939411</td>\n",
       "      <td>1.333646</td>\n",
       "    </tr>\n",
       "  </tbody>\n",
       "</table>\n",
       "<p>68 rows × 4 columns</p>\n",
       "</div>"
      ],
      "text/plain": [
       "                                values        trend  seasonal  residual\n",
       "period                                                                 \n",
       "2019-06-23 00:00:00-07:00  6355.355655  4173.747417  1.005914  1.513746\n",
       "2019-07-21 00:00:00-07:00  5712.997024  4020.196801  1.116047  1.273310\n",
       "...                                ...          ...       ...       ...\n",
       "2024-07-14 00:00:00-07:00  4051.985119  3554.221788  1.059509  1.076016\n",
       "2024-08-11 00:00:00-07:00  4402.200893  3513.772817  0.939411  1.333646\n",
       "\n",
       "[68 rows x 4 columns]"
      ]
     },
     "execution_count": 12,
     "metadata": {},
     "output_type": "execute_result"
    }
   ],
   "source": [
    "r = df['values'].values\n",
    "result = sm.tsa.seasonal_decompose(data, model='multiplicative', period=12)\n",
    "\n",
    "r = (df\n",
    " .assign(\n",
    "    trend = result.trend,\n",
    "    seasonal = result.seasonal,\n",
    "    residual = result.resid)\n",
    " .dropna())\n",
    "\n",
    "r"
   ]
  },
  {
   "cell_type": "code",
   "execution_count": 13,
   "id": "2e70082d",
   "metadata": {
    "execution": {
     "iopub.execute_input": "2024-05-29T22:25:23.232686Z",
     "iopub.status.busy": "2024-05-29T22:25:23.232591Z",
     "iopub.status.idle": "2024-05-29T22:25:23.236523Z",
     "shell.execute_reply": "2024-05-29T22:25:23.236281Z"
    },
    "papermill": {
     "duration": 0.005887,
     "end_time": "2024-05-29T22:25:23.237202",
     "exception": false,
     "start_time": "2024-05-29T22:25:23.231315",
     "status": "completed"
    },
    "tags": [
     "Fixed"
    ]
   },
   "outputs": [
    {
     "data": {
      "text/html": [
       "<div>\n",
       "<style scoped>\n",
       "    .dataframe tbody tr th:only-of-type {\n",
       "        vertical-align: middle;\n",
       "    }\n",
       "\n",
       "    .dataframe tbody tr th {\n",
       "        vertical-align: top;\n",
       "    }\n",
       "\n",
       "    .dataframe thead th {\n",
       "        text-align: right;\n",
       "    }\n",
       "</style>\n",
       "<table border=\"1\" class=\"dataframe\">\n",
       "  <thead>\n",
       "    <tr style=\"text-align: right;\">\n",
       "      <th></th>\n",
       "      <th>values</th>\n",
       "      <th>trend</th>\n",
       "      <th>seasonal</th>\n",
       "      <th>residual</th>\n",
       "      <th>model_result</th>\n",
       "    </tr>\n",
       "    <tr>\n",
       "      <th>period</th>\n",
       "      <th></th>\n",
       "      <th></th>\n",
       "      <th></th>\n",
       "      <th></th>\n",
       "      <th></th>\n",
       "    </tr>\n",
       "  </thead>\n",
       "  <tbody>\n",
       "    <tr>\n",
       "      <th>2019-06-23 00:00:00-07:00</th>\n",
       "      <td>6355.355655</td>\n",
       "      <td>4173.747417</td>\n",
       "      <td>1.005914</td>\n",
       "      <td>1.513746</td>\n",
       "      <td>6355.355655</td>\n",
       "    </tr>\n",
       "    <tr>\n",
       "      <th>2019-07-21 00:00:00-07:00</th>\n",
       "      <td>5712.997024</td>\n",
       "      <td>4020.196801</td>\n",
       "      <td>1.116047</td>\n",
       "      <td>1.273310</td>\n",
       "      <td>5712.997024</td>\n",
       "    </tr>\n",
       "    <tr>\n",
       "      <th>...</th>\n",
       "      <td>...</td>\n",
       "      <td>...</td>\n",
       "      <td>...</td>\n",
       "      <td>...</td>\n",
       "      <td>...</td>\n",
       "    </tr>\n",
       "    <tr>\n",
       "      <th>2024-07-14 00:00:00-07:00</th>\n",
       "      <td>4051.985119</td>\n",
       "      <td>3554.221788</td>\n",
       "      <td>1.059509</td>\n",
       "      <td>1.076016</td>\n",
       "      <td>4051.985119</td>\n",
       "    </tr>\n",
       "    <tr>\n",
       "      <th>2024-08-11 00:00:00-07:00</th>\n",
       "      <td>4402.200893</td>\n",
       "      <td>3513.772817</td>\n",
       "      <td>0.939411</td>\n",
       "      <td>1.333646</td>\n",
       "      <td>4402.200893</td>\n",
       "    </tr>\n",
       "  </tbody>\n",
       "</table>\n",
       "<p>68 rows × 5 columns</p>\n",
       "</div>"
      ],
      "text/plain": [
       "                                values        trend  seasonal  residual  \\\n",
       "period                                                                    \n",
       "2019-06-23 00:00:00-07:00  6355.355655  4173.747417  1.005914  1.513746   \n",
       "2019-07-21 00:00:00-07:00  5712.997024  4020.196801  1.116047  1.273310   \n",
       "...                                ...          ...       ...       ...   \n",
       "2024-07-14 00:00:00-07:00  4051.985119  3554.221788  1.059509  1.076016   \n",
       "2024-08-11 00:00:00-07:00  4402.200893  3513.772817  0.939411  1.333646   \n",
       "\n",
       "                           model_result  \n",
       "period                                   \n",
       "2019-06-23 00:00:00-07:00   6355.355655  \n",
       "2019-07-21 00:00:00-07:00   5712.997024  \n",
       "...                                 ...  \n",
       "2024-07-14 00:00:00-07:00   4051.985119  \n",
       "2024-08-11 00:00:00-07:00   4402.200893  \n",
       "\n",
       "[68 rows x 5 columns]"
      ]
     },
     "execution_count": 13,
     "metadata": {},
     "output_type": "execute_result"
    }
   ],
   "source": [
    "r['model_result'] = r.trend * r.seasonal * r.residual\n",
    "r"
   ]
  },
  {
   "cell_type": "code",
   "execution_count": 14,
   "id": "506ebf86",
   "metadata": {},
   "outputs": [],
   "source": [
    "dfs['multiplicative'] = r"
   ]
  },
  {
   "cell_type": "markdown",
   "id": "de79bb31",
   "metadata": {},
   "source": [
    "## Model comparison\n",
    "\n",
    "### Numerical"
   ]
  },
  {
   "cell_type": "code",
   "execution_count": 15,
   "id": "d1097cc3",
   "metadata": {},
   "outputs": [],
   "source": [
    "df = pd.concat(dfs, axis=1).melt(ignore_index=False).reset_index()\n",
    "df.columns = [\"month\", \"model\", \"component\", \"value\"]"
   ]
  },
  {
   "cell_type": "code",
   "execution_count": 16,
   "id": "b5324374",
   "metadata": {},
   "outputs": [
    {
     "data": {
      "text/html": [
       "<div>\n",
       "<style scoped>\n",
       "    .dataframe tbody tr th:only-of-type {\n",
       "        vertical-align: middle;\n",
       "    }\n",
       "\n",
       "    .dataframe tbody tr th {\n",
       "        vertical-align: top;\n",
       "    }\n",
       "\n",
       "    .dataframe thead th {\n",
       "        text-align: right;\n",
       "    }\n",
       "</style>\n",
       "<table border=\"1\" class=\"dataframe\">\n",
       "  <thead>\n",
       "    <tr style=\"text-align: right;\">\n",
       "      <th></th>\n",
       "      <th>month</th>\n",
       "      <th>model</th>\n",
       "      <th>component</th>\n",
       "      <th>value</th>\n",
       "    </tr>\n",
       "  </thead>\n",
       "  <tbody>\n",
       "    <tr>\n",
       "      <th>0</th>\n",
       "      <td>2019-06-23 00:00:00-07:00</td>\n",
       "      <td>additive</td>\n",
       "      <td>values</td>\n",
       "      <td>6355.355655</td>\n",
       "    </tr>\n",
       "    <tr>\n",
       "      <th>1</th>\n",
       "      <td>2019-07-21 00:00:00-07:00</td>\n",
       "      <td>additive</td>\n",
       "      <td>values</td>\n",
       "      <td>5712.997024</td>\n",
       "    </tr>\n",
       "    <tr>\n",
       "      <th>...</th>\n",
       "      <td>...</td>\n",
       "      <td>...</td>\n",
       "      <td>...</td>\n",
       "      <td>...</td>\n",
       "    </tr>\n",
       "    <tr>\n",
       "      <th>678</th>\n",
       "      <td>2024-07-14 00:00:00-07:00</td>\n",
       "      <td>multiplicative</td>\n",
       "      <td>model_result</td>\n",
       "      <td>4051.985119</td>\n",
       "    </tr>\n",
       "    <tr>\n",
       "      <th>679</th>\n",
       "      <td>2024-08-11 00:00:00-07:00</td>\n",
       "      <td>multiplicative</td>\n",
       "      <td>model_result</td>\n",
       "      <td>4402.200893</td>\n",
       "    </tr>\n",
       "  </tbody>\n",
       "</table>\n",
       "<p>680 rows × 4 columns</p>\n",
       "</div>"
      ],
      "text/plain": [
       "                        month           model     component        value\n",
       "0   2019-06-23 00:00:00-07:00        additive        values  6355.355655\n",
       "1   2019-07-21 00:00:00-07:00        additive        values  5712.997024\n",
       "..                        ...             ...           ...          ...\n",
       "678 2024-07-14 00:00:00-07:00  multiplicative  model_result  4051.985119\n",
       "679 2024-08-11 00:00:00-07:00  multiplicative  model_result  4402.200893\n",
       "\n",
       "[680 rows x 4 columns]"
      ]
     },
     "execution_count": 16,
     "metadata": {},
     "output_type": "execute_result"
    }
   ],
   "source": [
    "df"
   ]
  },
  {
   "cell_type": "markdown",
   "id": "278284b3",
   "metadata": {},
   "source": [
    "## Visual comparison"
   ]
  },
  {
   "cell_type": "code",
   "execution_count": 17,
   "id": "cfe93d42",
   "metadata": {},
   "outputs": [],
   "source": [
    "\n",
    "from modules import utils\n",
    "utils.configure_plotly_template(showlegend=True)"
   ]
  },
  {
   "cell_type": "code",
   "execution_count": 18,
   "id": "7f799e4a",
   "metadata": {},
   "outputs": [
    {
     "data": {
      "application/vnd.plotly.v1+json": {
       "config": {
        "plotlyServerURL": "https://plot.ly"
       },
       "data": [
        {
         "hovertemplate": "component=values<br>model=additive<br>month=%{x}<br>value=%{y}<extra></extra>",
         "legendgroup": "values",
         "line": {
          "color": "#636efa",
          "dash": "solid"
         },
         "marker": {
          "symbol": "circle"
         },
         "mode": "lines",
         "name": "values",
         "orientation": "v",
         "showlegend": true,
         "type": "scatter",
         "x": [
          "2019-06-23T00:00:00-07:00",
          "2019-07-21T00:00:00-07:00",
          "2019-08-18T00:00:00-07:00",
          "2019-09-15T00:00:00-07:00",
          "2019-10-13T00:00:00-07:00",
          "2019-11-10T00:00:00-07:00",
          "2019-12-08T00:00:00-07:00",
          "2020-01-05T00:00:00-07:00",
          "2020-02-02T00:00:00-07:00",
          "2020-03-01T00:00:00-07:00",
          "2020-03-29T00:00:00-07:00",
          "2020-04-26T00:00:00-07:00",
          "2020-05-24T00:00:00-07:00",
          "2020-06-21T00:00:00-07:00",
          "2020-07-19T00:00:00-07:00",
          "2020-08-16T00:00:00-07:00",
          "2020-09-13T00:00:00-07:00",
          "2020-10-11T00:00:00-07:00",
          "2020-11-08T00:00:00-07:00",
          "2020-12-06T00:00:00-07:00",
          "2021-01-03T00:00:00-07:00",
          "2021-01-31T00:00:00-07:00",
          "2021-02-28T00:00:00-07:00",
          "2021-03-28T00:00:00-07:00",
          "2021-04-25T00:00:00-07:00",
          "2021-05-23T00:00:00-07:00",
          "2021-06-20T00:00:00-07:00",
          "2021-07-18T00:00:00-07:00",
          "2021-08-15T00:00:00-07:00",
          "2021-09-12T00:00:00-07:00",
          "2021-10-10T00:00:00-07:00",
          "2021-11-07T00:00:00-07:00",
          "2021-12-05T00:00:00-07:00",
          "2022-01-02T00:00:00-07:00",
          "2022-01-30T00:00:00-07:00",
          "2022-02-27T00:00:00-07:00",
          "2022-03-27T00:00:00-07:00",
          "2022-04-24T00:00:00-07:00",
          "2022-05-22T00:00:00-07:00",
          "2022-06-19T00:00:00-07:00",
          "2022-07-17T00:00:00-07:00",
          "2022-08-14T00:00:00-07:00",
          "2022-09-11T00:00:00-07:00",
          "2022-10-09T00:00:00-07:00",
          "2022-11-06T00:00:00-07:00",
          "2022-12-04T00:00:00-07:00",
          "2023-01-01T00:00:00-07:00",
          "2023-01-29T00:00:00-07:00",
          "2023-02-26T00:00:00-07:00",
          "2023-03-26T00:00:00-07:00",
          "2023-04-23T00:00:00-07:00",
          "2023-05-21T00:00:00-07:00",
          "2023-06-18T00:00:00-07:00",
          "2023-07-16T00:00:00-07:00",
          "2023-08-13T00:00:00-07:00",
          "2023-09-10T00:00:00-07:00",
          "2023-10-08T00:00:00-07:00",
          "2023-11-05T00:00:00-07:00",
          "2023-12-03T00:00:00-07:00",
          "2023-12-31T00:00:00-07:00",
          "2024-01-28T00:00:00-07:00",
          "2024-02-25T00:00:00-07:00",
          "2024-03-24T00:00:00-07:00",
          "2024-04-21T00:00:00-07:00",
          "2024-05-19T00:00:00-07:00",
          "2024-06-16T00:00:00-07:00",
          "2024-07-14T00:00:00-07:00",
          "2024-08-11T00:00:00-07:00"
         ],
         "xaxis": "x9",
         "y": {
          "bdata": "DMMwDFvTuEA9z/M8/1C2QJ7neZ6PIbVAwzAMw9DUsUD0PM/zfDmiQAzDMAzDxIdAVVVVVdVGekAYhmEYBjh5QD3P8zxPb3VADMMwDENBd0CSJEmS5PCAQHqe53leoYZAJUmSJImcjEAlSZIkyTOPQMMwDMPwD5BAYhiGYbhtkEDP8zzPQ1CiQOh5nuf5EKFAnud5nkfkm0AYhmEYppiZQAzDMAzDbJdAq6qqqmpGkkAMwzAM43yUQAAAAAAgUJdAz/M8z/M/m0AAAAAAIJCdQJ7neZ5n8p9APc/zPN/RoUAxDMMwzOGhQKuqqqqKcqFAhmEYhgGJoECGYRiGYV+YQM/zPM9TTJZAhmEYhqGAmkBVVVVVtVKbQD3P8zyPbZxADMMwDANUn0Ce53meJxOiQFVVVVXVRqNAt23btj0po0DP8zzPo96kQIZhGIYRSKVAPc/zPD9ZpkDP8zzPY/KgQOh5nucZ9JRAkiRJksT5lEDbtm3bdnufQAAAAAAgV6ZASZIkSSKSo0Ce53meN02sQM/zPM8bObJAhmEYhqGZs0C3bdu2vcizQIZhGIbxgLJAGIZhGL7csUD0PM/zPOKwQM/zPM8jTqxAkiRJkpQBpECSJEmSZOOhQMMwDMMwMaNAep7neQ6bokCSJEmShN2pQNu2bdumQrBAz/M8z9MWr0AYhmEYdlyyQBiGYRje3LFAYhiGYfinr0Bu27ZtMzKxQA==",
          "dtype": "f8"
         },
         "yaxis": "y9"
        },
        {
         "hovertemplate": "component=values<br>model=multiplicative<br>month=%{x}<br>value=%{y}<extra></extra>",
         "legendgroup": "values",
         "line": {
          "color": "#636efa",
          "dash": "solid"
         },
         "marker": {
          "symbol": "circle"
         },
         "mode": "lines",
         "name": "values",
         "orientation": "v",
         "showlegend": false,
         "type": "scatter",
         "x": [
          "2019-06-23T00:00:00-07:00",
          "2019-07-21T00:00:00-07:00",
          "2019-08-18T00:00:00-07:00",
          "2019-09-15T00:00:00-07:00",
          "2019-10-13T00:00:00-07:00",
          "2019-11-10T00:00:00-07:00",
          "2019-12-08T00:00:00-07:00",
          "2020-01-05T00:00:00-07:00",
          "2020-02-02T00:00:00-07:00",
          "2020-03-01T00:00:00-07:00",
          "2020-03-29T00:00:00-07:00",
          "2020-04-26T00:00:00-07:00",
          "2020-05-24T00:00:00-07:00",
          "2020-06-21T00:00:00-07:00",
          "2020-07-19T00:00:00-07:00",
          "2020-08-16T00:00:00-07:00",
          "2020-09-13T00:00:00-07:00",
          "2020-10-11T00:00:00-07:00",
          "2020-11-08T00:00:00-07:00",
          "2020-12-06T00:00:00-07:00",
          "2021-01-03T00:00:00-07:00",
          "2021-01-31T00:00:00-07:00",
          "2021-02-28T00:00:00-07:00",
          "2021-03-28T00:00:00-07:00",
          "2021-04-25T00:00:00-07:00",
          "2021-05-23T00:00:00-07:00",
          "2021-06-20T00:00:00-07:00",
          "2021-07-18T00:00:00-07:00",
          "2021-08-15T00:00:00-07:00",
          "2021-09-12T00:00:00-07:00",
          "2021-10-10T00:00:00-07:00",
          "2021-11-07T00:00:00-07:00",
          "2021-12-05T00:00:00-07:00",
          "2022-01-02T00:00:00-07:00",
          "2022-01-30T00:00:00-07:00",
          "2022-02-27T00:00:00-07:00",
          "2022-03-27T00:00:00-07:00",
          "2022-04-24T00:00:00-07:00",
          "2022-05-22T00:00:00-07:00",
          "2022-06-19T00:00:00-07:00",
          "2022-07-17T00:00:00-07:00",
          "2022-08-14T00:00:00-07:00",
          "2022-09-11T00:00:00-07:00",
          "2022-10-09T00:00:00-07:00",
          "2022-11-06T00:00:00-07:00",
          "2022-12-04T00:00:00-07:00",
          "2023-01-01T00:00:00-07:00",
          "2023-01-29T00:00:00-07:00",
          "2023-02-26T00:00:00-07:00",
          "2023-03-26T00:00:00-07:00",
          "2023-04-23T00:00:00-07:00",
          "2023-05-21T00:00:00-07:00",
          "2023-06-18T00:00:00-07:00",
          "2023-07-16T00:00:00-07:00",
          "2023-08-13T00:00:00-07:00",
          "2023-09-10T00:00:00-07:00",
          "2023-10-08T00:00:00-07:00",
          "2023-11-05T00:00:00-07:00",
          "2023-12-03T00:00:00-07:00",
          "2023-12-31T00:00:00-07:00",
          "2024-01-28T00:00:00-07:00",
          "2024-02-25T00:00:00-07:00",
          "2024-03-24T00:00:00-07:00",
          "2024-04-21T00:00:00-07:00",
          "2024-05-19T00:00:00-07:00",
          "2024-06-16T00:00:00-07:00",
          "2024-07-14T00:00:00-07:00",
          "2024-08-11T00:00:00-07:00"
         ],
         "xaxis": "x10",
         "y": {
          "bdata": "DMMwDFvTuEA9z/M8/1C2QJ7neZ6PIbVAwzAMw9DUsUD0PM/zfDmiQAzDMAzDxIdAVVVVVdVGekAYhmEYBjh5QD3P8zxPb3VADMMwDENBd0CSJEmS5PCAQHqe53leoYZAJUmSJImcjEAlSZIkyTOPQMMwDMPwD5BAYhiGYbhtkEDP8zzPQ1CiQOh5nuf5EKFAnud5nkfkm0AYhmEYppiZQAzDMAzDbJdAq6qqqmpGkkAMwzAM43yUQAAAAAAgUJdAz/M8z/M/m0AAAAAAIJCdQJ7neZ5n8p9APc/zPN/RoUAxDMMwzOGhQKuqqqqKcqFAhmEYhgGJoECGYRiGYV+YQM/zPM9TTJZAhmEYhqGAmkBVVVVVtVKbQD3P8zyPbZxADMMwDANUn0Ce53meJxOiQFVVVVXVRqNAt23btj0po0DP8zzPo96kQIZhGIYRSKVAPc/zPD9ZpkDP8zzPY/KgQOh5nucZ9JRAkiRJksT5lEDbtm3bdnufQAAAAAAgV6ZASZIkSSKSo0Ce53meN02sQM/zPM8bObJAhmEYhqGZs0C3bdu2vcizQIZhGIbxgLJAGIZhGL7csUD0PM/zPOKwQM/zPM8jTqxAkiRJkpQBpECSJEmSZOOhQMMwDMMwMaNAep7neQ6bokCSJEmShN2pQNu2bdumQrBAz/M8z9MWr0AYhmEYdlyyQBiGYRje3LFAYhiGYfinr0Bu27ZtMzKxQA==",
          "dtype": "f8"
         },
         "yaxis": "y10"
        },
        {
         "hovertemplate": "component=trend<br>model=additive<br>month=%{x}<br>value=%{y}<extra></extra>",
         "legendgroup": "trend",
         "line": {
          "color": "#EF553B",
          "dash": "solid"
         },
         "marker": {
          "symbol": "circle"
         },
         "mode": "lines",
         "name": "trend",
         "orientation": "v",
         "showlegend": true,
         "type": "scatter",
         "x": [
          "2019-06-23T00:00:00-07:00",
          "2019-07-21T00:00:00-07:00",
          "2019-08-18T00:00:00-07:00",
          "2019-09-15T00:00:00-07:00",
          "2019-10-13T00:00:00-07:00",
          "2019-11-10T00:00:00-07:00",
          "2019-12-08T00:00:00-07:00",
          "2020-01-05T00:00:00-07:00",
          "2020-02-02T00:00:00-07:00",
          "2020-03-01T00:00:00-07:00",
          "2020-03-29T00:00:00-07:00",
          "2020-04-26T00:00:00-07:00",
          "2020-05-24T00:00:00-07:00",
          "2020-06-21T00:00:00-07:00",
          "2020-07-19T00:00:00-07:00",
          "2020-08-16T00:00:00-07:00",
          "2020-09-13T00:00:00-07:00",
          "2020-10-11T00:00:00-07:00",
          "2020-11-08T00:00:00-07:00",
          "2020-12-06T00:00:00-07:00",
          "2021-01-03T00:00:00-07:00",
          "2021-01-31T00:00:00-07:00",
          "2021-02-28T00:00:00-07:00",
          "2021-03-28T00:00:00-07:00",
          "2021-04-25T00:00:00-07:00",
          "2021-05-23T00:00:00-07:00",
          "2021-06-20T00:00:00-07:00",
          "2021-07-18T00:00:00-07:00",
          "2021-08-15T00:00:00-07:00",
          "2021-09-12T00:00:00-07:00",
          "2021-10-10T00:00:00-07:00",
          "2021-11-07T00:00:00-07:00",
          "2021-12-05T00:00:00-07:00",
          "2022-01-02T00:00:00-07:00",
          "2022-01-30T00:00:00-07:00",
          "2022-02-27T00:00:00-07:00",
          "2022-03-27T00:00:00-07:00",
          "2022-04-24T00:00:00-07:00",
          "2022-05-22T00:00:00-07:00",
          "2022-06-19T00:00:00-07:00",
          "2022-07-17T00:00:00-07:00",
          "2022-08-14T00:00:00-07:00",
          "2022-09-11T00:00:00-07:00",
          "2022-10-09T00:00:00-07:00",
          "2022-11-06T00:00:00-07:00",
          "2022-12-04T00:00:00-07:00",
          "2023-01-01T00:00:00-07:00",
          "2023-01-29T00:00:00-07:00",
          "2023-02-26T00:00:00-07:00",
          "2023-03-26T00:00:00-07:00",
          "2023-04-23T00:00:00-07:00",
          "2023-05-21T00:00:00-07:00",
          "2023-06-18T00:00:00-07:00",
          "2023-07-16T00:00:00-07:00",
          "2023-08-13T00:00:00-07:00",
          "2023-09-10T00:00:00-07:00",
          "2023-10-08T00:00:00-07:00",
          "2023-11-05T00:00:00-07:00",
          "2023-12-03T00:00:00-07:00",
          "2023-12-31T00:00:00-07:00",
          "2024-01-28T00:00:00-07:00",
          "2024-02-25T00:00:00-07:00",
          "2024-03-24T00:00:00-07:00",
          "2024-04-21T00:00:00-07:00",
          "2024-05-19T00:00:00-07:00",
          "2024-06-16T00:00:00-07:00",
          "2024-07-14T00:00:00-07:00",
          "2024-08-11T00:00:00-07:00"
         ],
         "xaxis": "x7",
         "y": {
          "bdata": "rBWwVr9NsEDDMAzDZGivQJ/neZ79tK1Av+/7vsflqkD3fd/3C2enQHAcx3Eg5aNA933f95FroEBFURRFwTqaQAVBEAS9TpRAqKqqqtJVjkCVZVmWfcaJQOy6ruvqpItA+H3f921Gj0CapmmablSRQBiGYRjq4pJAep7neYoolECXZVmWpS2VQP2+7/vOLZZA/b7v+9o3l0AZhmEY2laYQNq2bds2lZlAZVmWZZELm0Ct67quR8+bQHAcx3E0zptA+r7v+5INnECapmmawjecQHEcx3GwHpxAGYZhGG5qnEAkSZIkGQudQDVN0zSRip1AJEmSJKHsnUC+7/u+Y16eQNd1Xdcd655ALMuyLDNOn0ACQRAEjaqfQHEcx3EKHqBAoiiKovKEoECrqqqqvPWgQEAQBEFYIaFAcRzHcbL8oEA0TdM0Z/WgQEAQBEFEYqFAoiiKop7ioUCqqqqqYHmiQMIwDMOanaNAE0VRFH8qpUDzPM/zssemQKmqqqrkNqhA7vu+709tqUC7ruu6aK+qQPD7vu//IKxA/L7v+7JErUB0Xdd1IcGtQN73fd9ztq1Av+/7vpOKrUB1Xdd1S2atQJVlWZZvIq1A3/d93wuirEDu+77vKy2sQFmWZVkkAaxAkSRJkhLIq0DzPM/zVqOrQBiGYRi01KtAGIZhGPIyrEAcx3Ec81WsQKVpmqZzFqxAjeM4jnHEq0Cu67qui3OrQA==",
          "dtype": "f8"
         },
         "yaxis": "y7"
        },
        {
         "hovertemplate": "component=trend<br>model=multiplicative<br>month=%{x}<br>value=%{y}<extra></extra>",
         "legendgroup": "trend",
         "line": {
          "color": "#EF553B",
          "dash": "solid"
         },
         "marker": {
          "symbol": "circle"
         },
         "mode": "lines",
         "name": "trend",
         "orientation": "v",
         "showlegend": false,
         "type": "scatter",
         "x": [
          "2019-06-23T00:00:00-07:00",
          "2019-07-21T00:00:00-07:00",
          "2019-08-18T00:00:00-07:00",
          "2019-09-15T00:00:00-07:00",
          "2019-10-13T00:00:00-07:00",
          "2019-11-10T00:00:00-07:00",
          "2019-12-08T00:00:00-07:00",
          "2020-01-05T00:00:00-07:00",
          "2020-02-02T00:00:00-07:00",
          "2020-03-01T00:00:00-07:00",
          "2020-03-29T00:00:00-07:00",
          "2020-04-26T00:00:00-07:00",
          "2020-05-24T00:00:00-07:00",
          "2020-06-21T00:00:00-07:00",
          "2020-07-19T00:00:00-07:00",
          "2020-08-16T00:00:00-07:00",
          "2020-09-13T00:00:00-07:00",
          "2020-10-11T00:00:00-07:00",
          "2020-11-08T00:00:00-07:00",
          "2020-12-06T00:00:00-07:00",
          "2021-01-03T00:00:00-07:00",
          "2021-01-31T00:00:00-07:00",
          "2021-02-28T00:00:00-07:00",
          "2021-03-28T00:00:00-07:00",
          "2021-04-25T00:00:00-07:00",
          "2021-05-23T00:00:00-07:00",
          "2021-06-20T00:00:00-07:00",
          "2021-07-18T00:00:00-07:00",
          "2021-08-15T00:00:00-07:00",
          "2021-09-12T00:00:00-07:00",
          "2021-10-10T00:00:00-07:00",
          "2021-11-07T00:00:00-07:00",
          "2021-12-05T00:00:00-07:00",
          "2022-01-02T00:00:00-07:00",
          "2022-01-30T00:00:00-07:00",
          "2022-02-27T00:00:00-07:00",
          "2022-03-27T00:00:00-07:00",
          "2022-04-24T00:00:00-07:00",
          "2022-05-22T00:00:00-07:00",
          "2022-06-19T00:00:00-07:00",
          "2022-07-17T00:00:00-07:00",
          "2022-08-14T00:00:00-07:00",
          "2022-09-11T00:00:00-07:00",
          "2022-10-09T00:00:00-07:00",
          "2022-11-06T00:00:00-07:00",
          "2022-12-04T00:00:00-07:00",
          "2023-01-01T00:00:00-07:00",
          "2023-01-29T00:00:00-07:00",
          "2023-02-26T00:00:00-07:00",
          "2023-03-26T00:00:00-07:00",
          "2023-04-23T00:00:00-07:00",
          "2023-05-21T00:00:00-07:00",
          "2023-06-18T00:00:00-07:00",
          "2023-07-16T00:00:00-07:00",
          "2023-08-13T00:00:00-07:00",
          "2023-09-10T00:00:00-07:00",
          "2023-10-08T00:00:00-07:00",
          "2023-11-05T00:00:00-07:00",
          "2023-12-03T00:00:00-07:00",
          "2023-12-31T00:00:00-07:00",
          "2024-01-28T00:00:00-07:00",
          "2024-02-25T00:00:00-07:00",
          "2024-03-24T00:00:00-07:00",
          "2024-04-21T00:00:00-07:00",
          "2024-05-19T00:00:00-07:00",
          "2024-06-16T00:00:00-07:00",
          "2024-07-14T00:00:00-07:00",
          "2024-08-11T00:00:00-07:00"
         ],
         "xaxis": "x8",
         "y": {
          "bdata": "rBWwVr9NsEDDMAzDZGivQJ/neZ79tK1Av+/7vsflqkD3fd/3C2enQHAcx3Eg5aNA933f95FroEBFURRFwTqaQAVBEAS9TpRAqKqqqtJVjkCVZVmWfcaJQOy6ruvqpItA+H3f921Gj0CapmmablSRQBiGYRjq4pJAep7neYoolECXZVmWpS2VQP2+7/vOLZZA/b7v+9o3l0AZhmEY2laYQNq2bds2lZlAZVmWZZELm0Ct67quR8+bQHAcx3E0zptA+r7v+5INnECapmmawjecQHEcx3GwHpxAGYZhGG5qnEAkSZIkGQudQDVN0zSRip1AJEmSJKHsnUC+7/u+Y16eQNd1Xdcd655ALMuyLDNOn0ACQRAEjaqfQHEcx3EKHqBAoiiKovKEoECrqqqqvPWgQEAQBEFYIaFAcRzHcbL8oEA0TdM0Z/WgQEAQBEFEYqFAoiiKop7ioUCqqqqqYHmiQMIwDMOanaNAE0VRFH8qpUDzPM/zssemQKmqqqrkNqhA7vu+709tqUC7ruu6aK+qQPD7vu//IKxA/L7v+7JErUB0Xdd1IcGtQN73fd9ztq1Av+/7vpOKrUB1Xdd1S2atQJVlWZZvIq1A3/d93wuirEDu+77vKy2sQFmWZVkkAaxAkSRJkhLIq0DzPM/zVqOrQBiGYRi01KtAGIZhGPIyrEAcx3Ec81WsQKVpmqZzFqxAjeM4jnHEq0Cu67qui3OrQA==",
          "dtype": "f8"
         },
         "yaxis": "y8"
        },
        {
         "hovertemplate": "component=seasonal<br>model=additive<br>month=%{x}<br>value=%{y}<extra></extra>",
         "legendgroup": "seasonal",
         "line": {
          "color": "#00cc96",
          "dash": "solid"
         },
         "marker": {
          "symbol": "circle"
         },
         "mode": "lines",
         "name": "seasonal",
         "orientation": "v",
         "showlegend": true,
         "type": "scatter",
         "x": [
          "2019-06-23T00:00:00-07:00",
          "2019-07-21T00:00:00-07:00",
          "2019-08-18T00:00:00-07:00",
          "2019-09-15T00:00:00-07:00",
          "2019-10-13T00:00:00-07:00",
          "2019-11-10T00:00:00-07:00",
          "2019-12-08T00:00:00-07:00",
          "2020-01-05T00:00:00-07:00",
          "2020-02-02T00:00:00-07:00",
          "2020-03-01T00:00:00-07:00",
          "2020-03-29T00:00:00-07:00",
          "2020-04-26T00:00:00-07:00",
          "2020-05-24T00:00:00-07:00",
          "2020-06-21T00:00:00-07:00",
          "2020-07-19T00:00:00-07:00",
          "2020-08-16T00:00:00-07:00",
          "2020-09-13T00:00:00-07:00",
          "2020-10-11T00:00:00-07:00",
          "2020-11-08T00:00:00-07:00",
          "2020-12-06T00:00:00-07:00",
          "2021-01-03T00:00:00-07:00",
          "2021-01-31T00:00:00-07:00",
          "2021-02-28T00:00:00-07:00",
          "2021-03-28T00:00:00-07:00",
          "2021-04-25T00:00:00-07:00",
          "2021-05-23T00:00:00-07:00",
          "2021-06-20T00:00:00-07:00",
          "2021-07-18T00:00:00-07:00",
          "2021-08-15T00:00:00-07:00",
          "2021-09-12T00:00:00-07:00",
          "2021-10-10T00:00:00-07:00",
          "2021-11-07T00:00:00-07:00",
          "2021-12-05T00:00:00-07:00",
          "2022-01-02T00:00:00-07:00",
          "2022-01-30T00:00:00-07:00",
          "2022-02-27T00:00:00-07:00",
          "2022-03-27T00:00:00-07:00",
          "2022-04-24T00:00:00-07:00",
          "2022-05-22T00:00:00-07:00",
          "2022-06-19T00:00:00-07:00",
          "2022-07-17T00:00:00-07:00",
          "2022-08-14T00:00:00-07:00",
          "2022-09-11T00:00:00-07:00",
          "2022-10-09T00:00:00-07:00",
          "2022-11-06T00:00:00-07:00",
          "2022-12-04T00:00:00-07:00",
          "2023-01-01T00:00:00-07:00",
          "2023-01-29T00:00:00-07:00",
          "2023-02-26T00:00:00-07:00",
          "2023-03-26T00:00:00-07:00",
          "2023-04-23T00:00:00-07:00",
          "2023-05-21T00:00:00-07:00",
          "2023-06-18T00:00:00-07:00",
          "2023-07-16T00:00:00-07:00",
          "2023-08-13T00:00:00-07:00",
          "2023-09-10T00:00:00-07:00",
          "2023-10-08T00:00:00-07:00",
          "2023-11-05T00:00:00-07:00",
          "2023-12-03T00:00:00-07:00",
          "2023-12-31T00:00:00-07:00",
          "2024-01-28T00:00:00-07:00",
          "2024-02-25T00:00:00-07:00",
          "2024-03-24T00:00:00-07:00",
          "2024-04-21T00:00:00-07:00",
          "2024-05-19T00:00:00-07:00",
          "2024-06-16T00:00:00-07:00",
          "2024-07-14T00:00:00-07:00",
          "2024-08-11T00:00:00-07:00"
         ],
         "xaxis": "x5",
         "y": {
          "bdata": "MPbhFfGMFUDW5LWNst9yQB/1sFFx6oJAKXfRWUsdgUBeWZ/issmCQGwz9MdbQnJAS+OAdo8wXUC1ZF7AIXZJwF/AUYQJKILAIwv+SHyBiMCFMFSrgS+EwJyfkepxhnnAMPbhFfGMFUDW5LWNst9yQB/1sFFx6oJAKXfRWUsdgUBeWZ/issmCQGwz9MdbQnJAS+OAdo8wXUC1ZF7AIXZJwF/AUYQJKILAIwv+SHyBiMCFMFSrgS+EwJyfkepxhnnAMPbhFfGMFUDW5LWNst9yQB/1sFFx6oJAKXfRWUsdgUBeWZ/issmCQGwz9MdbQnJAS+OAdo8wXUC1ZF7AIXZJwF/AUYQJKILAIwv+SHyBiMCFMFSrgS+EwJyfkepxhnnAMPbhFfGMFUDW5LWNst9yQB/1sFFx6oJAKXfRWUsdgUBeWZ/issmCQGwz9MdbQnJAS+OAdo8wXUC1ZF7AIXZJwF/AUYQJKILAIwv+SHyBiMCFMFSrgS+EwJyfkepxhnnAMPbhFfGMFUDW5LWNst9yQB/1sFFx6oJAKXfRWUsdgUBeWZ/issmCQGwz9MdbQnJAS+OAdo8wXUC1ZF7AIXZJwF/AUYQJKILAIwv+SHyBiMCFMFSrgS+EwJyfkepxhnnAMPbhFfGMFUDW5LWNst9yQB/1sFFx6oJAKXfRWUsdgUBeWZ/issmCQGwz9MdbQnJAS+OAdo8wXUC1ZF7AIXZJwA==",
          "dtype": "f8"
         },
         "yaxis": "y5"
        },
        {
         "hovertemplate": "component=seasonal<br>model=multiplicative<br>month=%{x}<br>value=%{y}<extra></extra>",
         "legendgroup": "seasonal",
         "line": {
          "color": "#00cc96",
          "dash": "solid"
         },
         "marker": {
          "symbol": "circle"
         },
         "mode": "lines",
         "name": "seasonal",
         "orientation": "v",
         "showlegend": false,
         "type": "scatter",
         "x": [
          "2019-06-23T00:00:00-07:00",
          "2019-07-21T00:00:00-07:00",
          "2019-08-18T00:00:00-07:00",
          "2019-09-15T00:00:00-07:00",
          "2019-10-13T00:00:00-07:00",
          "2019-11-10T00:00:00-07:00",
          "2019-12-08T00:00:00-07:00",
          "2020-01-05T00:00:00-07:00",
          "2020-02-02T00:00:00-07:00",
          "2020-03-01T00:00:00-07:00",
          "2020-03-29T00:00:00-07:00",
          "2020-04-26T00:00:00-07:00",
          "2020-05-24T00:00:00-07:00",
          "2020-06-21T00:00:00-07:00",
          "2020-07-19T00:00:00-07:00",
          "2020-08-16T00:00:00-07:00",
          "2020-09-13T00:00:00-07:00",
          "2020-10-11T00:00:00-07:00",
          "2020-11-08T00:00:00-07:00",
          "2020-12-06T00:00:00-07:00",
          "2021-01-03T00:00:00-07:00",
          "2021-01-31T00:00:00-07:00",
          "2021-02-28T00:00:00-07:00",
          "2021-03-28T00:00:00-07:00",
          "2021-04-25T00:00:00-07:00",
          "2021-05-23T00:00:00-07:00",
          "2021-06-20T00:00:00-07:00",
          "2021-07-18T00:00:00-07:00",
          "2021-08-15T00:00:00-07:00",
          "2021-09-12T00:00:00-07:00",
          "2021-10-10T00:00:00-07:00",
          "2021-11-07T00:00:00-07:00",
          "2021-12-05T00:00:00-07:00",
          "2022-01-02T00:00:00-07:00",
          "2022-01-30T00:00:00-07:00",
          "2022-02-27T00:00:00-07:00",
          "2022-03-27T00:00:00-07:00",
          "2022-04-24T00:00:00-07:00",
          "2022-05-22T00:00:00-07:00",
          "2022-06-19T00:00:00-07:00",
          "2022-07-17T00:00:00-07:00",
          "2022-08-14T00:00:00-07:00",
          "2022-09-11T00:00:00-07:00",
          "2022-10-09T00:00:00-07:00",
          "2022-11-06T00:00:00-07:00",
          "2022-12-04T00:00:00-07:00",
          "2023-01-01T00:00:00-07:00",
          "2023-01-29T00:00:00-07:00",
          "2023-02-26T00:00:00-07:00",
          "2023-03-26T00:00:00-07:00",
          "2023-04-23T00:00:00-07:00",
          "2023-05-21T00:00:00-07:00",
          "2023-06-18T00:00:00-07:00",
          "2023-07-16T00:00:00-07:00",
          "2023-08-13T00:00:00-07:00",
          "2023-09-10T00:00:00-07:00",
          "2023-10-08T00:00:00-07:00",
          "2023-11-05T00:00:00-07:00",
          "2023-12-03T00:00:00-07:00",
          "2023-12-31T00:00:00-07:00",
          "2024-01-28T00:00:00-07:00",
          "2024-02-25T00:00:00-07:00",
          "2024-03-24T00:00:00-07:00",
          "2024-04-21T00:00:00-07:00",
          "2024-05-19T00:00:00-07:00",
          "2024-06-16T00:00:00-07:00",
          "2024-07-14T00:00:00-07:00",
          "2024-08-11T00:00:00-07:00"
         ],
         "xaxis": "x6",
         "y": {
          "bdata": "XUxRIDkY8D8+JRdpVNvxP3qK6Vi8bvM/BoBuCLJW8z9p7ENBVBf1P0tHOHBuxfI/xyzV67/z8D+ACGnTpw/uP6Pvj50Ks+Y/KJBGPRmo5D+frgsT29/nP+IPkS5cous/XUxRIDkY8D8+JRdpVNvxP3qK6Vi8bvM/BoBuCLJW8z9p7ENBVBf1P0tHOHBuxfI/xyzV67/z8D+ACGnTpw/uP6Pvj50Ks+Y/KJBGPRmo5D+frgsT29/nP+IPkS5cous/XUxRIDkY8D8+JRdpVNvxP3qK6Vi8bvM/BoBuCLJW8z9p7ENBVBf1P0tHOHBuxfI/xyzV67/z8D+ACGnTpw/uP6Pvj50Ks+Y/KJBGPRmo5D+frgsT29/nP+IPkS5cous/XUxRIDkY8D8+JRdpVNvxP3qK6Vi8bvM/BoBuCLJW8z9p7ENBVBf1P0tHOHBuxfI/xyzV67/z8D+ACGnTpw/uP6Pvj50Ks+Y/KJBGPRmo5D+frgsT29/nP+IPkS5cous/XUxRIDkY8D8+JRdpVNvxP3qK6Vi8bvM/BoBuCLJW8z9p7ENBVBf1P0tHOHBuxfI/xyzV67/z8D+ACGnTpw/uP6Pvj50Ks+Y/KJBGPRmo5D+frgsT29/nP+IPkS5cous/XUxRIDkY8D8+JRdpVNvxP3qK6Vi8bvM/BoBuCLJW8z9p7ENBVBf1P0tHOHBuxfI/xyzV67/z8D+ACGnTpw/uPw==",
          "dtype": "f8"
         },
         "yaxis": "y6"
        },
        {
         "hovertemplate": "component=residual<br>model=additive<br>month=%{x}<br>value=%{y}<extra></extra>",
         "legendgroup": "residual",
         "line": {
          "color": "#ab63fa",
          "dash": "solid"
         },
         "marker": {
          "symbol": "circle"
         },
         "mode": "lines",
         "name": "residual",
         "orientation": "v",
         "showlegend": true,
         "type": "scatter",
         "x": [
          "2019-06-23T00:00:00-07:00",
          "2019-07-21T00:00:00-07:00",
          "2019-08-18T00:00:00-07:00",
          "2019-09-15T00:00:00-07:00",
          "2019-10-13T00:00:00-07:00",
          "2019-11-10T00:00:00-07:00",
          "2019-12-08T00:00:00-07:00",
          "2020-01-05T00:00:00-07:00",
          "2020-02-02T00:00:00-07:00",
          "2020-03-01T00:00:00-07:00",
          "2020-03-29T00:00:00-07:00",
          "2020-04-26T00:00:00-07:00",
          "2020-05-24T00:00:00-07:00",
          "2020-06-21T00:00:00-07:00",
          "2020-07-19T00:00:00-07:00",
          "2020-08-16T00:00:00-07:00",
          "2020-09-13T00:00:00-07:00",
          "2020-10-11T00:00:00-07:00",
          "2020-11-08T00:00:00-07:00",
          "2020-12-06T00:00:00-07:00",
          "2021-01-03T00:00:00-07:00",
          "2021-01-31T00:00:00-07:00",
          "2021-02-28T00:00:00-07:00",
          "2021-03-28T00:00:00-07:00",
          "2021-04-25T00:00:00-07:00",
          "2021-05-23T00:00:00-07:00",
          "2021-06-20T00:00:00-07:00",
          "2021-07-18T00:00:00-07:00",
          "2021-08-15T00:00:00-07:00",
          "2021-09-12T00:00:00-07:00",
          "2021-10-10T00:00:00-07:00",
          "2021-11-07T00:00:00-07:00",
          "2021-12-05T00:00:00-07:00",
          "2022-01-02T00:00:00-07:00",
          "2022-01-30T00:00:00-07:00",
          "2022-02-27T00:00:00-07:00",
          "2022-03-27T00:00:00-07:00",
          "2022-04-24T00:00:00-07:00",
          "2022-05-22T00:00:00-07:00",
          "2022-06-19T00:00:00-07:00",
          "2022-07-17T00:00:00-07:00",
          "2022-08-14T00:00:00-07:00",
          "2022-09-11T00:00:00-07:00",
          "2022-10-09T00:00:00-07:00",
          "2022-11-06T00:00:00-07:00",
          "2022-12-04T00:00:00-07:00",
          "2023-01-01T00:00:00-07:00",
          "2023-01-29T00:00:00-07:00",
          "2023-02-26T00:00:00-07:00",
          "2023-03-26T00:00:00-07:00",
          "2023-04-23T00:00:00-07:00",
          "2023-05-21T00:00:00-07:00",
          "2023-06-18T00:00:00-07:00",
          "2023-07-16T00:00:00-07:00",
          "2023-08-13T00:00:00-07:00",
          "2023-09-10T00:00:00-07:00",
          "2023-10-08T00:00:00-07:00",
          "2023-11-05T00:00:00-07:00",
          "2023-12-03T00:00:00-07:00",
          "2023-12-31T00:00:00-07:00",
          "2024-01-28T00:00:00-07:00",
          "2024-02-25T00:00:00-07:00",
          "2024-03-24T00:00:00-07:00",
          "2024-04-21T00:00:00-07:00",
          "2024-05-19T00:00:00-07:00",
          "2024-06-16T00:00:00-07:00",
          "2024-07-14T00:00:00-07:00",
          "2024-08-11T00:00:00-07:00"
         ],
         "xaxis": "x3",
         "y": {
          "bdata": "xWl28nAAoUA4YknKRruVQFWpNigVTo9A80+gwhvygUC1LnB597+TwBpyuSc7PKDAzrTRkXcYnMCZ/PiwDiGTwBq0qcqRe3fABAivkSwxZ0AE34dO0bN2QHDNBg6y/m5A+8XHq/WnVsD07Deu2sl5wMmfW/xjkIjAWYOUiu+SiMBgVUNbIjh4QOCfQIU3jn1AYtMQWR3LZkAlmRdw6GtgQIaxr8tDrntAvLaaTLvca0AMff+Y4SpmQHC31I2AOF5AJqQVuYNlTMB8/rjuefxqwIq9lvAFhnbAODMqtlRVVcCI696i0WJlwMBon9ClPUlANbtmA48lVUBJbIKrRM10wOCJF4KuTj1Arm+S97HMfUBWsrybpP92QBDyT6C2mGRA4wKXn/K2XMB8+nfetehjwJbB1wD6qHTAImQAizzWcMCQ98XHAyZZwIitXMEc2GlABfys9eBofECD1MNGRRJiwNkOorgtZoLABcC04/Y0gsBEVjW0ceFvwKiUeCqZEGVAgGqVfNCXh8D4dhDF7cRXwDJzddLatHxAF5ky5/SchkCKnt78tHeEQAIT0c6ODIRAW1VM2I8VhUAXWCLjGxCDQI7yv8+0rX1AIoSq18EAdMDrLIPKm/eEwIrGHGSVfIbAJO7YIZVvksDvU/PMIoeAwIBTq+RrBRTANAGP+RE3ZsDkdUvdYoR9QHZwqET0a4VA1W3JvBLQd0ADE9HOzlqNQA==",
          "dtype": "f8"
         },
         "yaxis": "y3"
        },
        {
         "hovertemplate": "component=residual<br>model=multiplicative<br>month=%{x}<br>value=%{y}<extra></extra>",
         "legendgroup": "residual",
         "line": {
          "color": "#ab63fa",
          "dash": "solid"
         },
         "marker": {
          "symbol": "circle"
         },
         "mode": "lines",
         "name": "residual",
         "orientation": "v",
         "showlegend": false,
         "type": "scatter",
         "x": [
          "2019-06-23T00:00:00-07:00",
          "2019-07-21T00:00:00-07:00",
          "2019-08-18T00:00:00-07:00",
          "2019-09-15T00:00:00-07:00",
          "2019-10-13T00:00:00-07:00",
          "2019-11-10T00:00:00-07:00",
          "2019-12-08T00:00:00-07:00",
          "2020-01-05T00:00:00-07:00",
          "2020-02-02T00:00:00-07:00",
          "2020-03-01T00:00:00-07:00",
          "2020-03-29T00:00:00-07:00",
          "2020-04-26T00:00:00-07:00",
          "2020-05-24T00:00:00-07:00",
          "2020-06-21T00:00:00-07:00",
          "2020-07-19T00:00:00-07:00",
          "2020-08-16T00:00:00-07:00",
          "2020-09-13T00:00:00-07:00",
          "2020-10-11T00:00:00-07:00",
          "2020-11-08T00:00:00-07:00",
          "2020-12-06T00:00:00-07:00",
          "2021-01-03T00:00:00-07:00",
          "2021-01-31T00:00:00-07:00",
          "2021-02-28T00:00:00-07:00",
          "2021-03-28T00:00:00-07:00",
          "2021-04-25T00:00:00-07:00",
          "2021-05-23T00:00:00-07:00",
          "2021-06-20T00:00:00-07:00",
          "2021-07-18T00:00:00-07:00",
          "2021-08-15T00:00:00-07:00",
          "2021-09-12T00:00:00-07:00",
          "2021-10-10T00:00:00-07:00",
          "2021-11-07T00:00:00-07:00",
          "2021-12-05T00:00:00-07:00",
          "2022-01-02T00:00:00-07:00",
          "2022-01-30T00:00:00-07:00",
          "2022-02-27T00:00:00-07:00",
          "2022-03-27T00:00:00-07:00",
          "2022-04-24T00:00:00-07:00",
          "2022-05-22T00:00:00-07:00",
          "2022-06-19T00:00:00-07:00",
          "2022-07-17T00:00:00-07:00",
          "2022-08-14T00:00:00-07:00",
          "2022-09-11T00:00:00-07:00",
          "2022-10-09T00:00:00-07:00",
          "2022-11-06T00:00:00-07:00",
          "2022-12-04T00:00:00-07:00",
          "2023-01-01T00:00:00-07:00",
          "2023-01-29T00:00:00-07:00",
          "2023-02-26T00:00:00-07:00",
          "2023-03-26T00:00:00-07:00",
          "2023-04-23T00:00:00-07:00",
          "2023-05-21T00:00:00-07:00",
          "2023-06-18T00:00:00-07:00",
          "2023-07-16T00:00:00-07:00",
          "2023-08-13T00:00:00-07:00",
          "2023-09-10T00:00:00-07:00",
          "2023-10-08T00:00:00-07:00",
          "2023-11-05T00:00:00-07:00",
          "2023-12-03T00:00:00-07:00",
          "2023-12-31T00:00:00-07:00",
          "2024-01-28T00:00:00-07:00",
          "2024-02-25T00:00:00-07:00",
          "2024-03-24T00:00:00-07:00",
          "2024-04-21T00:00:00-07:00",
          "2024-05-19T00:00:00-07:00",
          "2024-06-16T00:00:00-07:00",
          "2024-07-14T00:00:00-07:00",
          "2024-08-11T00:00:00-07:00"
         ],
         "xaxis": "x4",
         "y": {
          "bdata": "ka3+WU04+D9609Yael/0P1CsTdXPvfI/EwBc5i2N8T8p6a5Vi+fiP7wXPM8PS9A/FFqdV4kqyD/ukEhbLGDQP8zkrnXFztc/f+Vto0UA4z9BcC+xvDDsP47Q8WSvVe4/UBHE5T0a7T9sQTaO/8/pP6NgOD9haOY/euUQI6+T5T/r7rfr6v30P6Pw+77+/PQ/K28iXRsk8j8nBJvzXOnxP3ce8kosp/Q/gIKdTKa/8D/c/d9COZnvP/unEsKIEe8/VkBNU6rm7j80lkwdGwruPyDD1fPu7u0/fZrvZWGa8D98YurkneTtP4vwc2sCHPA/YfzYrGCw8D9b9d+OklbrP15VYjdaRPA/RV2n8cH79D/4CjNLE4HyPzxUyeT4VvA/Ofiu2TYq7j+EkcynuI7uP0yWCqYepu0/Nlc9UiHd7T/4c0jiyd/tP1if9fwXsvA/m1t41rbe8j/nTzMwbT/vP8gHDtYVGOg/yRaF4TWQ6D+IKSWJT6PtP99a3zACGPE//APoMDV86D/53FZn0WjuP9VYFAqsEfE/any1+dS68T95zQUKJiTwP5jLQs1w/PA/4RqfBB1D8j8DjIVZ+I/zP4jerpLl6fU/i7G3XIJR8T9dcVGn5DrrPydIlmgiZek/HnxCggtO5T8JOJSJYdXqP8JgC+KTye4/eLqXeGEw7T+27Ipx5XXvP4HAfFSvWPE/PoXtLFw38T+Gu3f5nFb1Pw==",
          "dtype": "f8"
         },
         "yaxis": "y4"
        },
        {
         "hovertemplate": "component=model_result<br>model=additive<br>month=%{x}<br>value=%{y}<extra></extra>",
         "legendgroup": "model_result",
         "line": {
          "color": "#FFA15A",
          "dash": "solid"
         },
         "marker": {
          "symbol": "circle"
         },
         "mode": "lines",
         "name": "model_result",
         "orientation": "v",
         "showlegend": true,
         "type": "scatter",
         "x": [
          "2019-06-23T00:00:00-07:00",
          "2019-07-21T00:00:00-07:00",
          "2019-08-18T00:00:00-07:00",
          "2019-09-15T00:00:00-07:00",
          "2019-10-13T00:00:00-07:00",
          "2019-11-10T00:00:00-07:00",
          "2019-12-08T00:00:00-07:00",
          "2020-01-05T00:00:00-07:00",
          "2020-02-02T00:00:00-07:00",
          "2020-03-01T00:00:00-07:00",
          "2020-03-29T00:00:00-07:00",
          "2020-04-26T00:00:00-07:00",
          "2020-05-24T00:00:00-07:00",
          "2020-06-21T00:00:00-07:00",
          "2020-07-19T00:00:00-07:00",
          "2020-08-16T00:00:00-07:00",
          "2020-09-13T00:00:00-07:00",
          "2020-10-11T00:00:00-07:00",
          "2020-11-08T00:00:00-07:00",
          "2020-12-06T00:00:00-07:00",
          "2021-01-03T00:00:00-07:00",
          "2021-01-31T00:00:00-07:00",
          "2021-02-28T00:00:00-07:00",
          "2021-03-28T00:00:00-07:00",
          "2021-04-25T00:00:00-07:00",
          "2021-05-23T00:00:00-07:00",
          "2021-06-20T00:00:00-07:00",
          "2021-07-18T00:00:00-07:00",
          "2021-08-15T00:00:00-07:00",
          "2021-09-12T00:00:00-07:00",
          "2021-10-10T00:00:00-07:00",
          "2021-11-07T00:00:00-07:00",
          "2021-12-05T00:00:00-07:00",
          "2022-01-02T00:00:00-07:00",
          "2022-01-30T00:00:00-07:00",
          "2022-02-27T00:00:00-07:00",
          "2022-03-27T00:00:00-07:00",
          "2022-04-24T00:00:00-07:00",
          "2022-05-22T00:00:00-07:00",
          "2022-06-19T00:00:00-07:00",
          "2022-07-17T00:00:00-07:00",
          "2022-08-14T00:00:00-07:00",
          "2022-09-11T00:00:00-07:00",
          "2022-10-09T00:00:00-07:00",
          "2022-11-06T00:00:00-07:00",
          "2022-12-04T00:00:00-07:00",
          "2023-01-01T00:00:00-07:00",
          "2023-01-29T00:00:00-07:00",
          "2023-02-26T00:00:00-07:00",
          "2023-03-26T00:00:00-07:00",
          "2023-04-23T00:00:00-07:00",
          "2023-05-21T00:00:00-07:00",
          "2023-06-18T00:00:00-07:00",
          "2023-07-16T00:00:00-07:00",
          "2023-08-13T00:00:00-07:00",
          "2023-09-10T00:00:00-07:00",
          "2023-10-08T00:00:00-07:00",
          "2023-11-05T00:00:00-07:00",
          "2023-12-03T00:00:00-07:00",
          "2023-12-31T00:00:00-07:00",
          "2024-01-28T00:00:00-07:00",
          "2024-02-25T00:00:00-07:00",
          "2024-03-24T00:00:00-07:00",
          "2024-04-21T00:00:00-07:00",
          "2024-05-19T00:00:00-07:00",
          "2024-06-16T00:00:00-07:00",
          "2024-07-14T00:00:00-07:00",
          "2024-08-11T00:00:00-07:00"
         ],
         "xaxis": "x",
         "y": {
          "bdata": "DMMwDFvTuEA9z/M8/1C2QJ7neZ6PIbVAwzAMw9DUsUD0PM/zfDmiQBDDMAzDxIdAUFVVVdVGekAYhmEYBjh5QDzP8zxPb3VADMMwDENBd0CSJEmS5PCAQHqe53leoYZAJUmSJImcjEAmSZIkyTOPQMQwDMPwD5BAYhiGYbhtkEDP8zzPQ1CiQOh5nuf5EKFAnud5nkfkm0AYhmEYppiZQAzDMAzDbJdAq6qqqmpGkkAMwzAM43yUQAAAAAAgUJdAz/M8z/M/m0AAAAAAIJCdQJ7neZ5n8p9APc/zPN/RoUAyDMMwzOGhQKuqqqqKcqFAhmEYhgGJoECGYRiGYV+YQNDzPM9TTJZAhmEYhqGAmkBWVVVVtVKbQD3P8zyPbZxADMMwDANUn0Ce53meJxOiQFVVVVXVRqNAt23btj0po0DQ8zzPo96kQIZhGIYRSKVAPc/zPD9ZpkDP8zzPY/KgQOh5nucZ9JRAkiRJksT5lEDctm3bdnufQAAAAAAgV6ZASZIkSSKSo0Ce53meN02sQM/zPM8bObJAhmEYhqGZs0C3bdu2vcizQIZhGIbxgLJAGIZhGL7csUD0PM/zPOKwQM/zPM8jTqxAkiRJkpQBpECSJEmSZOOhQMQwDMMwMaNAep7neQ6bokCSJEmShN2pQNu2bdumQrBAz/M8z9MWr0AYhmEYdlyyQBiGYRje3LFAYhiGYfinr0Bu27ZtMzKxQA==",
          "dtype": "f8"
         },
         "yaxis": "y"
        },
        {
         "hovertemplate": "component=model_result<br>model=multiplicative<br>month=%{x}<br>value=%{y}<extra></extra>",
         "legendgroup": "model_result",
         "line": {
          "color": "#FFA15A",
          "dash": "solid"
         },
         "marker": {
          "symbol": "circle"
         },
         "mode": "lines",
         "name": "model_result",
         "orientation": "v",
         "showlegend": false,
         "type": "scatter",
         "x": [
          "2019-06-23T00:00:00-07:00",
          "2019-07-21T00:00:00-07:00",
          "2019-08-18T00:00:00-07:00",
          "2019-09-15T00:00:00-07:00",
          "2019-10-13T00:00:00-07:00",
          "2019-11-10T00:00:00-07:00",
          "2019-12-08T00:00:00-07:00",
          "2020-01-05T00:00:00-07:00",
          "2020-02-02T00:00:00-07:00",
          "2020-03-01T00:00:00-07:00",
          "2020-03-29T00:00:00-07:00",
          "2020-04-26T00:00:00-07:00",
          "2020-05-24T00:00:00-07:00",
          "2020-06-21T00:00:00-07:00",
          "2020-07-19T00:00:00-07:00",
          "2020-08-16T00:00:00-07:00",
          "2020-09-13T00:00:00-07:00",
          "2020-10-11T00:00:00-07:00",
          "2020-11-08T00:00:00-07:00",
          "2020-12-06T00:00:00-07:00",
          "2021-01-03T00:00:00-07:00",
          "2021-01-31T00:00:00-07:00",
          "2021-02-28T00:00:00-07:00",
          "2021-03-28T00:00:00-07:00",
          "2021-04-25T00:00:00-07:00",
          "2021-05-23T00:00:00-07:00",
          "2021-06-20T00:00:00-07:00",
          "2021-07-18T00:00:00-07:00",
          "2021-08-15T00:00:00-07:00",
          "2021-09-12T00:00:00-07:00",
          "2021-10-10T00:00:00-07:00",
          "2021-11-07T00:00:00-07:00",
          "2021-12-05T00:00:00-07:00",
          "2022-01-02T00:00:00-07:00",
          "2022-01-30T00:00:00-07:00",
          "2022-02-27T00:00:00-07:00",
          "2022-03-27T00:00:00-07:00",
          "2022-04-24T00:00:00-07:00",
          "2022-05-22T00:00:00-07:00",
          "2022-06-19T00:00:00-07:00",
          "2022-07-17T00:00:00-07:00",
          "2022-08-14T00:00:00-07:00",
          "2022-09-11T00:00:00-07:00",
          "2022-10-09T00:00:00-07:00",
          "2022-11-06T00:00:00-07:00",
          "2022-12-04T00:00:00-07:00",
          "2023-01-01T00:00:00-07:00",
          "2023-01-29T00:00:00-07:00",
          "2023-02-26T00:00:00-07:00",
          "2023-03-26T00:00:00-07:00",
          "2023-04-23T00:00:00-07:00",
          "2023-05-21T00:00:00-07:00",
          "2023-06-18T00:00:00-07:00",
          "2023-07-16T00:00:00-07:00",
          "2023-08-13T00:00:00-07:00",
          "2023-09-10T00:00:00-07:00",
          "2023-10-08T00:00:00-07:00",
          "2023-11-05T00:00:00-07:00",
          "2023-12-03T00:00:00-07:00",
          "2023-12-31T00:00:00-07:00",
          "2024-01-28T00:00:00-07:00",
          "2024-02-25T00:00:00-07:00",
          "2024-03-24T00:00:00-07:00",
          "2024-04-21T00:00:00-07:00",
          "2024-05-19T00:00:00-07:00",
          "2024-06-16T00:00:00-07:00",
          "2024-07-14T00:00:00-07:00",
          "2024-08-11T00:00:00-07:00"
         ],
         "xaxis": "x2",
         "y": {
          "bdata": "DcMwDFvTuEA8z/M8/1C2QJ7neZ6PIbVAxDAMw9DUsUD0PM/zfDmiQAzDMAzDxIdAVFVVVdVGekAYhmEYBjh5QD3P8zxPb3VADMMwDENBd0CTJEmS5PCAQHue53leoYZAJUmSJImcjEAkSZIkyTOPQMQwDMPwD5BAYhiGYbhtkEDP8zzPQ1CiQOh5nuf5EKFAnud5nkfkm0AYhmEYppiZQArDMAzDbJdAqqqqqmpGkkANwzAM43yUQAAAAAAgUJdAz/M8z/M/m0AAAAAAIJCdQJ7neZ5n8p9APc/zPN/RoUAxDMMwzOGhQKuqqqqKcqFAhmEYhgGJoECGYRiGYV+YQNDzPM9TTJZAhmEYhqGAmkBUVVVVtVKbQDzP8zyPbZxADMMwDANUn0Ce53meJxOiQFVVVVXVRqNAt23btj0po0DP8zzPo96kQIZhGIYRSKVAPc/zPD9ZpkDP8zzPY/KgQOh5nucZ9JRAkyRJksT5lEDbtm3bdnufQP////8fV6ZASJIkSSKSo0Ce53meN02sQM/zPM8bObJAhmEYhqGZs0C3bdu2vcizQIZhGIbxgLJAGIZhGL7csUD0PM/zPOKwQM/zPM8jTqxAkyRJkpQBpECSJEmSZOOhQMMwDMMwMaNAe57neQ6bokCSJEmShN2pQNu2bdumQrBAzvM8z9MWr0AYhmEYdlyyQBiGYRje3LFAYRiGYfinr0Bu27ZtMzKxQA==",
          "dtype": "f8"
         },
         "yaxis": "y2"
        }
       ],
       "layout": {
        "annotations": [
         {
          "font": {},
          "showarrow": false,
          "text": "model=additive",
          "x": 0.22,
          "xanchor": "center",
          "xref": "paper",
          "y": 1,
          "yanchor": "bottom",
          "yref": "paper"
         },
         {
          "font": {},
          "showarrow": false,
          "text": "model=multiplicative",
          "x": 0.76,
          "xanchor": "center",
          "xref": "paper",
          "y": 1,
          "yanchor": "bottom",
          "yref": "paper"
         },
         {
          "font": {},
          "showarrow": false,
          "text": "component=model_result",
          "textangle": 90,
          "x": 0.98,
          "xanchor": "left",
          "xref": "paper",
          "y": 0.08800000000000001,
          "yanchor": "middle",
          "yref": "paper"
         },
         {
          "font": {},
          "showarrow": false,
          "text": "component=residual",
          "textangle": 90,
          "x": 0.98,
          "xanchor": "left",
          "xref": "paper",
          "y": 0.29400000000000004,
          "yanchor": "middle",
          "yref": "paper"
         },
         {
          "font": {},
          "showarrow": false,
          "text": "component=seasonal",
          "textangle": 90,
          "x": 0.98,
          "xanchor": "left",
          "xref": "paper",
          "y": 0.5,
          "yanchor": "middle",
          "yref": "paper"
         },
         {
          "font": {},
          "showarrow": false,
          "text": "component=trend",
          "textangle": 90,
          "x": 0.98,
          "xanchor": "left",
          "xref": "paper",
          "y": 0.706,
          "yanchor": "middle",
          "yref": "paper"
         },
         {
          "font": {},
          "showarrow": false,
          "text": "component=values",
          "textangle": 90,
          "x": 0.98,
          "xanchor": "left",
          "xref": "paper",
          "y": 0.912,
          "yanchor": "middle",
          "yref": "paper"
         }
        ],
        "height": 1000,
        "legend": {
         "title": {
          "text": "component"
         },
         "tracegroupgap": 0
        },
        "margin": {
         "t": 60
        },
        "template": {
         "data": {
          "bar": [
           {
            "error_x": {
             "color": "#f2f5fa"
            },
            "error_y": {
             "color": "#f2f5fa"
            },
            "marker": {
             "line": {
              "color": "rgb(17,17,17)",
              "width": 0.5
             },
             "pattern": {
              "fillmode": "overlay",
              "size": 10,
              "solidity": 0.2
             }
            },
            "type": "bar"
           }
          ],
          "barpolar": [
           {
            "marker": {
             "line": {
              "color": "rgb(17,17,17)",
              "width": 0.5
             },
             "pattern": {
              "fillmode": "overlay",
              "size": 10,
              "solidity": 0.2
             }
            },
            "type": "barpolar"
           }
          ],
          "carpet": [
           {
            "aaxis": {
             "endlinecolor": "#A2B1C6",
             "gridcolor": "#506784",
             "linecolor": "#506784",
             "minorgridcolor": "#506784",
             "startlinecolor": "#A2B1C6"
            },
            "baxis": {
             "endlinecolor": "#A2B1C6",
             "gridcolor": "#506784",
             "linecolor": "#506784",
             "minorgridcolor": "#506784",
             "startlinecolor": "#A2B1C6"
            },
            "type": "carpet"
           }
          ],
          "choropleth": [
           {
            "colorbar": {
             "outlinewidth": 0,
             "ticks": ""
            },
            "type": "choropleth"
           }
          ],
          "contour": [
           {
            "colorbar": {
             "outlinewidth": 0,
             "ticks": ""
            },
            "colorscale": [
             [
              0,
              "#0d0887"
             ],
             [
              0.1111111111111111,
              "#46039f"
             ],
             [
              0.2222222222222222,
              "#7201a8"
             ],
             [
              0.3333333333333333,
              "#9c179e"
             ],
             [
              0.4444444444444444,
              "#bd3786"
             ],
             [
              0.5555555555555556,
              "#d8576b"
             ],
             [
              0.6666666666666666,
              "#ed7953"
             ],
             [
              0.7777777777777778,
              "#fb9f3a"
             ],
             [
              0.8888888888888888,
              "#fdca26"
             ],
             [
              1,
              "#f0f921"
             ]
            ],
            "type": "contour"
           }
          ],
          "contourcarpet": [
           {
            "colorbar": {
             "outlinewidth": 0,
             "ticks": ""
            },
            "type": "contourcarpet"
           }
          ],
          "heatmap": [
           {
            "colorbar": {
             "outlinewidth": 0,
             "ticks": ""
            },
            "colorscale": [
             [
              0,
              "#0d0887"
             ],
             [
              0.1111111111111111,
              "#46039f"
             ],
             [
              0.2222222222222222,
              "#7201a8"
             ],
             [
              0.3333333333333333,
              "#9c179e"
             ],
             [
              0.4444444444444444,
              "#bd3786"
             ],
             [
              0.5555555555555556,
              "#d8576b"
             ],
             [
              0.6666666666666666,
              "#ed7953"
             ],
             [
              0.7777777777777778,
              "#fb9f3a"
             ],
             [
              0.8888888888888888,
              "#fdca26"
             ],
             [
              1,
              "#f0f921"
             ]
            ],
            "type": "heatmap"
           }
          ],
          "histogram": [
           {
            "marker": {
             "pattern": {
              "fillmode": "overlay",
              "size": 10,
              "solidity": 0.2
             }
            },
            "type": "histogram"
           }
          ],
          "histogram2d": [
           {
            "colorbar": {
             "outlinewidth": 0,
             "ticks": ""
            },
            "colorscale": [
             [
              0,
              "#0d0887"
             ],
             [
              0.1111111111111111,
              "#46039f"
             ],
             [
              0.2222222222222222,
              "#7201a8"
             ],
             [
              0.3333333333333333,
              "#9c179e"
             ],
             [
              0.4444444444444444,
              "#bd3786"
             ],
             [
              0.5555555555555556,
              "#d8576b"
             ],
             [
              0.6666666666666666,
              "#ed7953"
             ],
             [
              0.7777777777777778,
              "#fb9f3a"
             ],
             [
              0.8888888888888888,
              "#fdca26"
             ],
             [
              1,
              "#f0f921"
             ]
            ],
            "type": "histogram2d"
           }
          ],
          "histogram2dcontour": [
           {
            "colorbar": {
             "outlinewidth": 0,
             "ticks": ""
            },
            "colorscale": [
             [
              0,
              "#0d0887"
             ],
             [
              0.1111111111111111,
              "#46039f"
             ],
             [
              0.2222222222222222,
              "#7201a8"
             ],
             [
              0.3333333333333333,
              "#9c179e"
             ],
             [
              0.4444444444444444,
              "#bd3786"
             ],
             [
              0.5555555555555556,
              "#d8576b"
             ],
             [
              0.6666666666666666,
              "#ed7953"
             ],
             [
              0.7777777777777778,
              "#fb9f3a"
             ],
             [
              0.8888888888888888,
              "#fdca26"
             ],
             [
              1,
              "#f0f921"
             ]
            ],
            "type": "histogram2dcontour"
           }
          ],
          "mesh3d": [
           {
            "colorbar": {
             "outlinewidth": 0,
             "ticks": ""
            },
            "type": "mesh3d"
           }
          ],
          "parcoords": [
           {
            "line": {
             "colorbar": {
              "outlinewidth": 0,
              "ticks": ""
             }
            },
            "type": "parcoords"
           }
          ],
          "pie": [
           {
            "automargin": true,
            "type": "pie"
           }
          ],
          "scatter": [
           {
            "marker": {
             "line": {
              "color": "#283442"
             }
            },
            "type": "scatter"
           }
          ],
          "scatter3d": [
           {
            "line": {
             "colorbar": {
              "outlinewidth": 0,
              "ticks": ""
             }
            },
            "marker": {
             "colorbar": {
              "outlinewidth": 0,
              "ticks": ""
             }
            },
            "type": "scatter3d"
           }
          ],
          "scattercarpet": [
           {
            "marker": {
             "colorbar": {
              "outlinewidth": 0,
              "ticks": ""
             }
            },
            "type": "scattercarpet"
           }
          ],
          "scattergeo": [
           {
            "marker": {
             "colorbar": {
              "outlinewidth": 0,
              "ticks": ""
             }
            },
            "type": "scattergeo"
           }
          ],
          "scattergl": [
           {
            "marker": {
             "line": {
              "color": "#283442"
             }
            },
            "type": "scattergl"
           }
          ],
          "scattermap": [
           {
            "marker": {
             "colorbar": {
              "outlinewidth": 0,
              "ticks": ""
             }
            },
            "type": "scattermap"
           }
          ],
          "scattermapbox": [
           {
            "marker": {
             "colorbar": {
              "outlinewidth": 0,
              "ticks": ""
             }
            },
            "type": "scattermapbox"
           }
          ],
          "scatterpolar": [
           {
            "marker": {
             "colorbar": {
              "outlinewidth": 0,
              "ticks": ""
             }
            },
            "type": "scatterpolar"
           }
          ],
          "scatterpolargl": [
           {
            "marker": {
             "colorbar": {
              "outlinewidth": 0,
              "ticks": ""
             }
            },
            "type": "scatterpolargl"
           }
          ],
          "scatterternary": [
           {
            "marker": {
             "colorbar": {
              "outlinewidth": 0,
              "ticks": ""
             }
            },
            "type": "scatterternary"
           }
          ],
          "surface": [
           {
            "colorbar": {
             "outlinewidth": 0,
             "ticks": ""
            },
            "colorscale": [
             [
              0,
              "#0d0887"
             ],
             [
              0.1111111111111111,
              "#46039f"
             ],
             [
              0.2222222222222222,
              "#7201a8"
             ],
             [
              0.3333333333333333,
              "#9c179e"
             ],
             [
              0.4444444444444444,
              "#bd3786"
             ],
             [
              0.5555555555555556,
              "#d8576b"
             ],
             [
              0.6666666666666666,
              "#ed7953"
             ],
             [
              0.7777777777777778,
              "#fb9f3a"
             ],
             [
              0.8888888888888888,
              "#fdca26"
             ],
             [
              1,
              "#f0f921"
             ]
            ],
            "type": "surface"
           }
          ],
          "table": [
           {
            "cells": {
             "fill": {
              "color": "#506784"
             },
             "line": {
              "color": "rgb(17,17,17)"
             }
            },
            "header": {
             "fill": {
              "color": "#2a3f5f"
             },
             "line": {
              "color": "rgb(17,17,17)"
             }
            },
            "type": "table"
           }
          ]
         },
         "layout": {
          "annotationdefaults": {
           "arrowcolor": "#f2f5fa",
           "arrowhead": 0,
           "arrowwidth": 1
          },
          "autosize": false,
          "autotypenumbers": "strict",
          "coloraxis": {
           "colorbar": {
            "outlinewidth": 0,
            "ticks": ""
           }
          },
          "colorscale": {
           "diverging": [
            [
             0,
             "#8e0152"
            ],
            [
             0.1,
             "#c51b7d"
            ],
            [
             0.2,
             "#de77ae"
            ],
            [
             0.3,
             "#f1b6da"
            ],
            [
             0.4,
             "#fde0ef"
            ],
            [
             0.5,
             "#f7f7f7"
            ],
            [
             0.6,
             "#e6f5d0"
            ],
            [
             0.7,
             "#b8e186"
            ],
            [
             0.8,
             "#7fbc41"
            ],
            [
             0.9,
             "#4d9221"
            ],
            [
             1,
             "#276419"
            ]
           ],
           "sequential": [
            [
             0,
             "#0d0887"
            ],
            [
             0.1111111111111111,
             "#46039f"
            ],
            [
             0.2222222222222222,
             "#7201a8"
            ],
            [
             0.3333333333333333,
             "#9c179e"
            ],
            [
             0.4444444444444444,
             "#bd3786"
            ],
            [
             0.5555555555555556,
             "#d8576b"
            ],
            [
             0.6666666666666666,
             "#ed7953"
            ],
            [
             0.7777777777777778,
             "#fb9f3a"
            ],
            [
             0.8888888888888888,
             "#fdca26"
            ],
            [
             1,
             "#f0f921"
            ]
           ],
           "sequentialminus": [
            [
             0,
             "#0d0887"
            ],
            [
             0.1111111111111111,
             "#46039f"
            ],
            [
             0.2222222222222222,
             "#7201a8"
            ],
            [
             0.3333333333333333,
             "#9c179e"
            ],
            [
             0.4444444444444444,
             "#bd3786"
            ],
            [
             0.5555555555555556,
             "#d8576b"
            ],
            [
             0.6666666666666666,
             "#ed7953"
            ],
            [
             0.7777777777777778,
             "#fb9f3a"
            ],
            [
             0.8888888888888888,
             "#fdca26"
            ],
            [
             1,
             "#f0f921"
            ]
           ]
          },
          "colorway": [
           "#636efa",
           "#EF553B",
           "#00cc96",
           "#ab63fa",
           "#FFA15A",
           "#19d3f3",
           "#FF6692",
           "#B6E880",
           "#FF97FF",
           "#FECB52"
          ],
          "font": {
           "color": "#f2f5fa"
          },
          "geo": {
           "bgcolor": "rgb(17,17,17)",
           "lakecolor": "rgb(17,17,17)",
           "landcolor": "rgb(17,17,17)",
           "showlakes": true,
           "showland": true,
           "subunitcolor": "#506784"
          },
          "height": 500,
          "hoverlabel": {
           "align": "left"
          },
          "hovermode": "closest",
          "mapbox": {
           "style": "dark"
          },
          "paper_bgcolor": "rgb(17,17,17)",
          "plot_bgcolor": "rgb(17,17,17)",
          "polar": {
           "angularaxis": {
            "gridcolor": "#506784",
            "linecolor": "#506784",
            "ticks": ""
           },
           "bgcolor": "rgb(17,17,17)",
           "radialaxis": {
            "gridcolor": "#506784",
            "linecolor": "#506784",
            "ticks": ""
           }
          },
          "scene": {
           "xaxis": {
            "backgroundcolor": "rgb(17,17,17)",
            "gridcolor": "#506784",
            "gridwidth": 2,
            "linecolor": "#506784",
            "showbackground": true,
            "ticks": "",
            "zerolinecolor": "#C8D4E3"
           },
           "yaxis": {
            "backgroundcolor": "rgb(17,17,17)",
            "gridcolor": "#506784",
            "gridwidth": 2,
            "linecolor": "#506784",
            "showbackground": true,
            "ticks": "",
            "zerolinecolor": "#C8D4E3"
           },
           "zaxis": {
            "backgroundcolor": "rgb(17,17,17)",
            "gridcolor": "#506784",
            "gridwidth": 2,
            "linecolor": "#506784",
            "showbackground": true,
            "ticks": "",
            "zerolinecolor": "#C8D4E3"
           }
          },
          "shapedefaults": {
           "line": {
            "color": "#f2f5fa"
           }
          },
          "showlegend": true,
          "sliderdefaults": {
           "bgcolor": "#C8D4E3",
           "bordercolor": "rgb(17,17,17)",
           "borderwidth": 1,
           "tickwidth": 0
          },
          "ternary": {
           "aaxis": {
            "gridcolor": "#506784",
            "linecolor": "#506784",
            "ticks": ""
           },
           "baxis": {
            "gridcolor": "#506784",
            "linecolor": "#506784",
            "ticks": ""
           },
           "bgcolor": "rgb(17,17,17)",
           "caxis": {
            "gridcolor": "#506784",
            "linecolor": "#506784",
            "ticks": ""
           }
          },
          "title": {
           "x": 0.05
          },
          "updatemenudefaults": {
           "bgcolor": "#506784",
           "borderwidth": 0
          },
          "width": 1000,
          "xaxis": {
           "automargin": true,
           "gridcolor": "#283442",
           "linecolor": "#506784",
           "ticks": "",
           "title": {
            "standoff": 15
           },
           "zerolinecolor": "#283442",
           "zerolinewidth": 2
          },
          "yaxis": {
           "automargin": true,
           "gridcolor": "#283442",
           "linecolor": "#506784",
           "ticks": "",
           "title": {
            "standoff": 15
           },
           "zerolinecolor": "#283442",
           "zerolinewidth": 2
          }
         }
        },
        "width": 1500,
        "xaxis": {
         "anchor": "y",
         "domain": [
          0,
          0.44
         ],
         "title": {
          "text": "month"
         }
        },
        "xaxis10": {
         "anchor": "y10",
         "domain": [
          0.54,
          0.98
         ],
         "matches": "x",
         "showticklabels": false
        },
        "xaxis2": {
         "anchor": "y2",
         "domain": [
          0.54,
          0.98
         ],
         "matches": "x",
         "title": {
          "text": "month"
         }
        },
        "xaxis3": {
         "anchor": "y3",
         "domain": [
          0,
          0.44
         ],
         "matches": "x",
         "showticklabels": false
        },
        "xaxis4": {
         "anchor": "y4",
         "domain": [
          0.54,
          0.98
         ],
         "matches": "x",
         "showticklabels": false
        },
        "xaxis5": {
         "anchor": "y5",
         "domain": [
          0,
          0.44
         ],
         "matches": "x",
         "showticklabels": false
        },
        "xaxis6": {
         "anchor": "y6",
         "domain": [
          0.54,
          0.98
         ],
         "matches": "x",
         "showticklabels": false
        },
        "xaxis7": {
         "anchor": "y7",
         "domain": [
          0,
          0.44
         ],
         "matches": "x",
         "showticklabels": false
        },
        "xaxis8": {
         "anchor": "y8",
         "domain": [
          0.54,
          0.98
         ],
         "matches": "x",
         "showticklabels": false
        },
        "xaxis9": {
         "anchor": "y9",
         "domain": [
          0,
          0.44
         ],
         "matches": "x",
         "showticklabels": false
        },
        "yaxis": {
         "anchor": "x",
         "domain": [
          0,
          0.17600000000000002
         ],
         "showticklabels": true,
         "title": {
          "text": "value"
         }
        },
        "yaxis10": {
         "anchor": "x10",
         "domain": [
          0.8240000000000001,
          1
         ],
         "showticklabels": true
        },
        "yaxis2": {
         "anchor": "x2",
         "domain": [
          0,
          0.17600000000000002
         ],
         "showticklabels": true
        },
        "yaxis3": {
         "anchor": "x3",
         "domain": [
          0.20600000000000002,
          0.382
         ],
         "showticklabels": true,
         "title": {
          "text": "value"
         }
        },
        "yaxis4": {
         "anchor": "x4",
         "domain": [
          0.20600000000000002,
          0.382
         ],
         "showticklabels": true
        },
        "yaxis5": {
         "anchor": "x5",
         "domain": [
          0.41200000000000003,
          0.5880000000000001
         ],
         "showticklabels": true,
         "title": {
          "text": "value"
         }
        },
        "yaxis6": {
         "anchor": "x6",
         "domain": [
          0.41200000000000003,
          0.5880000000000001
         ],
         "showticklabels": true
        },
        "yaxis7": {
         "anchor": "x7",
         "domain": [
          0.618,
          0.794
         ],
         "showticklabels": true,
         "title": {
          "text": "value"
         }
        },
        "yaxis8": {
         "anchor": "x8",
         "domain": [
          0.618,
          0.794
         ],
         "showticklabels": true
        },
        "yaxis9": {
         "anchor": "x9",
         "domain": [
          0.8240000000000001,
          1
         ],
         "showticklabels": true,
         "title": {
          "text": "value"
         }
        }
       }
      }
     },
     "metadata": {},
     "output_type": "display_data"
    }
   ],
   "source": [
    "import plotly.express as px\n",
    "\n",
    "fig = px.line(\n",
    "    data_frame=df,\n",
    "    x='month',\n",
    "    y='value',\n",
    "    color='component',\n",
    "    facet_col='model',\n",
    "    facet_row='component',\n",
    "    width=1500,\n",
    "    height=1000,\n",
    "    facet_col_spacing=0.1,\n",
    ")\n",
    "\n",
    "fig.update_yaxes(matches=None)\n",
    "\n",
    "for attr in dir(fig.layout):\n",
    "    if attr.startswith(\"yaxis\"):\n",
    "        axis = getattr(fig.layout, attr)\n",
    "        if axis:\n",
    "            axis.showticklabels = True\n",
    "        \n",
    "fig"
   ]
  },
  {
   "cell_type": "markdown",
   "id": "9e0ac198",
   "metadata": {},
   "source": [
    "## Interpretation \n",
    "\n",
    "https://chatgpt.com/c/680a1854-fe68-800c-9642-8544ba7e471b"
   ]
  },
  {
   "cell_type": "markdown",
   "id": "66b4d5a3",
   "metadata": {},
   "source": [
    "Use **additive** or **multiplicative** decomposition based on how the seasonal fluctuations behave relative to the trend:\n",
    "\n",
    "---\n",
    "\n",
    "### ✅ Use **additive** when:\n",
    "- The **magnitude** of seasonal changes stays **constant** over time.\n",
    "- The seasonal pattern does **not scale** with the trend.\n",
    "- Example: sales increase over time, but holiday peaks remain around +20 units consistently.\n",
    "\n",
    "### ✅ Use **multiplicative** when:\n",
    "- The **magnitude** of seasonality **grows or shrinks** with the trend.\n",
    "- The seasonal pattern **scales proportionally** to the level of the series.\n",
    "- Example: if overall sales double, holiday peaks also double.\n",
    "\n",
    "---\n",
    "\n",
    "### Quick visual test:\n",
    "- If your seasonal component has **roughly equal amplitude** throughout → **additive**.\n",
    "- If your seasonal component’s **amplitude increases or decreases with the trend** → **multiplicative**.\n",
    "\n",
    "---\n",
    "\n",
    "Looking at your plot:\n",
    "- The **seasonal amplitude** for the `values` series seems to **increase** over time (especially right side).\n",
    "- So, the **multiplicative model** is likely the better fit.\n",
    "\n",
    "Let me know if you want to formally test this or visualize diagnostics."
   ]
  },
  {
   "cell_type": "markdown",
   "id": "d93db69e",
   "metadata": {},
   "source": [
    "Based on the decomposition plots and assuming this is airline passenger data (which it looks like), here are the **key insights** and **meaningful conclusions** you can derive:\n",
    "\n",
    "---\n",
    "\n",
    "### 📈 **1. Strong Upward Trend**\n",
    "- Both additive and multiplicative models show a **clear long-term increase** in passengers over time.\n",
    "- This suggests **growing demand** for air travel during the period (likely 1949–1960).\n",
    "\n",
    "---\n",
    "\n",
    "### 🔁 **2. Clear Seasonality**\n",
    "- There is a **repeating seasonal pattern** every 12 months:\n",
    "  - Peaks in mid-year (e.g., summer travel).\n",
    "  - Troughs in early year (e.g., January).\n",
    "- This regular pattern can be used for **forecasting** future seasonality.\n",
    "\n",
    "---\n",
    "\n",
    "### 📊 **3. Additive vs. Multiplicative**\n",
    "- In the **additive model**, seasonal effects are **constant in magnitude**.\n",
    "- In the **multiplicative model**, seasonal effects **grow with the trend**.\n",
    "- Visually, the **multiplicative model better fits** the growing amplitude of the original data, especially toward the end of the series.\n",
    "\n",
    "---\n",
    "\n",
    "### 📉 **4. Residuals Show Model Fit**\n",
    "- Residuals in the **multiplicative model are tighter** and more stable, especially in later years where the additive model leaves large unexplained spikes.\n",
    "- This suggests the **multiplicative model better captures the structure** of the data.\n",
    "\n",
    "---\n",
    "\n",
    "### 🎯 **5. Model Result Approximates the Original**\n",
    "- The final row (`model_result`) in the multiplicative model more closely follows the original `values` series — especially where the amplitude is higher.\n",
    "\n",
    "---\n",
    "\n",
    "### 🧠 Strategic conclusions:\n",
    "- **Forecasting models** (like Holt-Winters or SARIMA) should likely use a **multiplicative seasonal component** for this dataset.\n",
    "- This time series is driven by **long-term growth** and **scaling seasonal effects**, not just fixed monthly deviations.\n",
    "- **Residual diagnostics** (e.g., randomness, ACF) would help confirm this statistically.\n",
    "\n",
    "---\n",
    "\n",
    "Let me know if you want to formalize these conclusions into bullet points for a report or class presentation."
   ]
  }
 ],
 "metadata": {
  "kernelspec": {
   "display_name": "time-series",
   "language": "python",
   "name": "python3"
  },
  "language_info": {
   "codemirror_mode": {
    "name": "ipython",
    "version": 3
   },
   "file_extension": ".py",
   "mimetype": "text/x-python",
   "name": "python",
   "nbconvert_exporter": "python",
   "pygments_lexer": "ipython3",
   "version": "3.12.10"
  },
  "papermill": {
   "default_parameters": {},
   "duration": 3.406328,
   "end_time": "2024-05-29T22:25:24.014054",
   "environment_variables": {},
   "exception": null,
   "input_path": "/Users/sota/Library/CloudStorage/Dropbox/2 Business/1 Datons/2 Areas/Courses/22 TS/solutions-new/notebooks/20_Components/1_Components/1.ipynb",
   "output_path": "/Users/sota/Library/CloudStorage/Dropbox/2 Business/1 Datons/2 Areas/Courses/22 TS/solutions-new/notebooks/20_Components/1_Components/1.ipynb",
   "parameters": {},
   "start_time": "2024-05-29T22:25:20.607726",
   "version": "2.5.0"
  }
 },
 "nbformat": 4,
 "nbformat_minor": 5
}
