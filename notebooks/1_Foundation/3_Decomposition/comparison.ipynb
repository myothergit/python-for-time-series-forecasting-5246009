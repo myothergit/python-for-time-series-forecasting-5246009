{
 "cells": [
  {
   "cell_type": "markdown",
   "id": "be80b463",
   "metadata": {
    "papermill": {
     "duration": 0.006455,
     "end_time": "2024-05-29T22:25:21.629458",
     "exception": false,
     "start_time": "2024-05-29T22:25:21.623003",
     "status": "completed"
    },
    "tags": []
   },
   "source": [
    "# Time series components"
   ]
  },
  {
   "cell_type": "markdown",
   "id": "fa904135",
   "metadata": {
    "papermill": {
     "duration": 0.00172,
     "end_time": "2024-05-29T22:25:21.642221",
     "exception": false,
     "start_time": "2024-05-29T22:25:21.640501",
     "status": "completed"
    },
    "tags": []
   },
   "source": [
    "## Data"
   ]
  },
  {
   "cell_type": "code",
   "execution_count": 15,
   "id": "d8d1756d",
   "metadata": {},
   "outputs": [
    {
     "data": {
      "text/html": [
       "<div>\n",
       "<style scoped>\n",
       "    .dataframe tbody tr th:only-of-type {\n",
       "        vertical-align: middle;\n",
       "    }\n",
       "\n",
       "    .dataframe tbody tr th {\n",
       "        vertical-align: top;\n",
       "    }\n",
       "\n",
       "    .dataframe thead th {\n",
       "        text-align: right;\n",
       "    }\n",
       "</style>\n",
       "<table border=\"1\" class=\"dataframe\">\n",
       "  <thead>\n",
       "    <tr style=\"text-align: right;\">\n",
       "      <th></th>\n",
       "      <th>period</th>\n",
       "      <th>respondent</th>\n",
       "      <th>respondent-name</th>\n",
       "      <th>fueltype</th>\n",
       "      <th>type-name</th>\n",
       "      <th>value</th>\n",
       "      <th>value-units</th>\n",
       "    </tr>\n",
       "  </thead>\n",
       "  <tbody>\n",
       "    <tr>\n",
       "      <th>0</th>\n",
       "      <td>2025-04-22 20:00:00-07:00</td>\n",
       "      <td>CAL</td>\n",
       "      <td>California</td>\n",
       "      <td>BAT</td>\n",
       "      <td>Battery storage</td>\n",
       "      <td>179</td>\n",
       "      <td>megawatthours</td>\n",
       "    </tr>\n",
       "    <tr>\n",
       "      <th>1</th>\n",
       "      <td>2025-04-22 20:00:00-07:00</td>\n",
       "      <td>CAL</td>\n",
       "      <td>California</td>\n",
       "      <td>COL</td>\n",
       "      <td>Coal</td>\n",
       "      <td>216</td>\n",
       "      <td>megawatthours</td>\n",
       "    </tr>\n",
       "    <tr>\n",
       "      <th>...</th>\n",
       "      <td>...</td>\n",
       "      <td>...</td>\n",
       "      <td>...</td>\n",
       "      <td>...</td>\n",
       "      <td>...</td>\n",
       "      <td>...</td>\n",
       "      <td>...</td>\n",
       "    </tr>\n",
       "    <tr>\n",
       "      <th>452546</th>\n",
       "      <td>2018-12-31 17:00:00-07:00</td>\n",
       "      <td>CAL</td>\n",
       "      <td>California</td>\n",
       "      <td>WAT</td>\n",
       "      <td>Hydro</td>\n",
       "      <td>2880</td>\n",
       "      <td>megawatthours</td>\n",
       "    </tr>\n",
       "    <tr>\n",
       "      <th>452547</th>\n",
       "      <td>2018-12-31 17:00:00-07:00</td>\n",
       "      <td>CAL</td>\n",
       "      <td>California</td>\n",
       "      <td>WND</td>\n",
       "      <td>Wind</td>\n",
       "      <td>2628</td>\n",
       "      <td>megawatthours</td>\n",
       "    </tr>\n",
       "  </tbody>\n",
       "</table>\n",
       "<p>452548 rows × 7 columns</p>\n",
       "</div>"
      ],
      "text/plain": [
       "                          period respondent respondent-name fueltype  \\\n",
       "0      2025-04-22 20:00:00-07:00        CAL      California      BAT   \n",
       "1      2025-04-22 20:00:00-07:00        CAL      California      COL   \n",
       "...                          ...        ...             ...      ...   \n",
       "452546 2018-12-31 17:00:00-07:00        CAL      California      WAT   \n",
       "452547 2018-12-31 17:00:00-07:00        CAL      California      WND   \n",
       "\n",
       "              type-name  value    value-units  \n",
       "0       Battery storage    179  megawatthours  \n",
       "1                  Coal    216  megawatthours  \n",
       "...                 ...    ...            ...  \n",
       "452546            Hydro   2880  megawatthours  \n",
       "452547             Wind   2628  megawatthours  \n",
       "\n",
       "[452548 rows x 7 columns]"
      ]
     },
     "execution_count": 15,
     "metadata": {},
     "output_type": "execute_result"
    }
   ],
   "source": [
    "import pandas as pd\n",
    "\n",
    "df = pd.read_parquet(\"../../../data/EIA/fuel_type_data_california.parquet\")\n",
    "df"
   ]
  },
  {
   "cell_type": "code",
   "execution_count": 16,
   "id": "d0284c02",
   "metadata": {},
   "outputs": [
    {
     "data": {
      "text/html": [
       "<div>\n",
       "<style scoped>\n",
       "    .dataframe tbody tr th:only-of-type {\n",
       "        vertical-align: middle;\n",
       "    }\n",
       "\n",
       "    .dataframe tbody tr th {\n",
       "        vertical-align: top;\n",
       "    }\n",
       "\n",
       "    .dataframe thead th {\n",
       "        text-align: right;\n",
       "    }\n",
       "</style>\n",
       "<table border=\"1\" class=\"dataframe\">\n",
       "  <thead>\n",
       "    <tr style=\"text-align: right;\">\n",
       "      <th></th>\n",
       "      <th>value</th>\n",
       "    </tr>\n",
       "    <tr>\n",
       "      <th>period</th>\n",
       "      <th></th>\n",
       "    </tr>\n",
       "  </thead>\n",
       "  <tbody>\n",
       "    <tr>\n",
       "      <th>2019-01-06 00:00:00-07:00</th>\n",
       "      <td>2201.500000</td>\n",
       "    </tr>\n",
       "    <tr>\n",
       "      <th>2019-02-03 00:00:00-07:00</th>\n",
       "      <td>2000.586310</td>\n",
       "    </tr>\n",
       "    <tr>\n",
       "      <th>...</th>\n",
       "      <td>...</td>\n",
       "    </tr>\n",
       "    <tr>\n",
       "      <th>2024-12-29 00:00:00-07:00</th>\n",
       "      <td>3531.580357</td>\n",
       "    </tr>\n",
       "    <tr>\n",
       "      <th>2025-01-26 00:00:00-07:00</th>\n",
       "      <td>4222.479167</td>\n",
       "    </tr>\n",
       "  </tbody>\n",
       "</table>\n",
       "<p>80 rows × 1 columns</p>\n",
       "</div>"
      ],
      "text/plain": [
       "                                 value\n",
       "period                                \n",
       "2019-01-06 00:00:00-07:00  2201.500000\n",
       "2019-02-03 00:00:00-07:00  2000.586310\n",
       "...                                ...\n",
       "2024-12-29 00:00:00-07:00  3531.580357\n",
       "2025-01-26 00:00:00-07:00  4222.479167\n",
       "\n",
       "[80 rows x 1 columns]"
      ]
     },
     "execution_count": 16,
     "metadata": {},
     "output_type": "execute_result"
    }
   ],
   "source": [
    "df = (df\n",
    " .query('fueltype == \"SUN\"')\n",
    " .set_index('period')['value'].to_frame()\n",
    " .sort_index()\n",
    " .loc['2019':'2024']\n",
    " .resample('4W')\n",
    " .mean()\n",
    ")\n",
    "\n",
    "df"
   ]
  },
  {
   "cell_type": "code",
   "execution_count": 17,
   "id": "19946f43",
   "metadata": {},
   "outputs": [
    {
     "data": {
      "text/html": [
       "<div>\n",
       "<style scoped>\n",
       "    .dataframe tbody tr th:only-of-type {\n",
       "        vertical-align: middle;\n",
       "    }\n",
       "\n",
       "    .dataframe tbody tr th {\n",
       "        vertical-align: top;\n",
       "    }\n",
       "\n",
       "    .dataframe thead th {\n",
       "        text-align: right;\n",
       "    }\n",
       "</style>\n",
       "<table border=\"1\" class=\"dataframe\">\n",
       "  <thead>\n",
       "    <tr style=\"text-align: right;\">\n",
       "      <th></th>\n",
       "      <th>values</th>\n",
       "    </tr>\n",
       "    <tr>\n",
       "      <th>period</th>\n",
       "      <th></th>\n",
       "    </tr>\n",
       "  </thead>\n",
       "  <tbody>\n",
       "    <tr>\n",
       "      <th>2019-01-06 00:00:00-07:00</th>\n",
       "      <td>2201.500000</td>\n",
       "    </tr>\n",
       "    <tr>\n",
       "      <th>2019-02-03 00:00:00-07:00</th>\n",
       "      <td>2000.586310</td>\n",
       "    </tr>\n",
       "    <tr>\n",
       "      <th>...</th>\n",
       "      <td>...</td>\n",
       "    </tr>\n",
       "    <tr>\n",
       "      <th>2024-12-29 00:00:00-07:00</th>\n",
       "      <td>3531.580357</td>\n",
       "    </tr>\n",
       "    <tr>\n",
       "      <th>2025-01-26 00:00:00-07:00</th>\n",
       "      <td>4222.479167</td>\n",
       "    </tr>\n",
       "  </tbody>\n",
       "</table>\n",
       "<p>80 rows × 1 columns</p>\n",
       "</div>"
      ],
      "text/plain": [
       "                                values\n",
       "period                                \n",
       "2019-01-06 00:00:00-07:00  2201.500000\n",
       "2019-02-03 00:00:00-07:00  2000.586310\n",
       "...                                ...\n",
       "2024-12-29 00:00:00-07:00  3531.580357\n",
       "2025-01-26 00:00:00-07:00  4222.479167\n",
       "\n",
       "[80 rows x 1 columns]"
      ]
     },
     "execution_count": 17,
     "metadata": {},
     "output_type": "execute_result"
    }
   ],
   "source": [
    "df.columns = ['values']\n",
    "df"
   ]
  },
  {
   "cell_type": "markdown",
   "id": "bea624c8",
   "metadata": {
    "papermill": {
     "duration": 0.001133,
     "end_time": "2024-05-29T22:25:22.373020",
     "exception": false,
     "start_time": "2024-05-29T22:25:22.371887",
     "status": "completed"
    },
    "tags": []
   },
   "source": [
    "## Individual component behaviour based on model\n",
    "\n",
    "Components:\n",
    "\n",
    "- Trend (T)\n",
    "- Seasonality (S)\n",
    "- Residual or Irregular Component (I)\n",
    "\n",
    "Models:\n",
    "\n",
    "- Additive model: $y_t = T_t + S_t + e_t$\n",
    "- Multiplicative model: $y_t = T_t \\times S_t \\times e_t$"
   ]
  },
  {
   "cell_type": "markdown",
   "id": "60a97d81",
   "metadata": {},
   "source": [
    "### Additive model"
   ]
  },
  {
   "cell_type": "code",
   "execution_count": 18,
   "id": "e58d5c74",
   "metadata": {},
   "outputs": [],
   "source": [
    "import statsmodels.api as sm"
   ]
  },
  {
   "cell_type": "code",
   "execution_count": 19,
   "id": "b2326a07",
   "metadata": {
    "execution": {
     "iopub.execute_input": "2024-05-29T22:25:22.375991Z",
     "iopub.status.busy": "2024-05-29T22:25:22.375694Z",
     "iopub.status.idle": "2024-05-29T22:25:22.734211Z",
     "shell.execute_reply": "2024-05-29T22:25:22.733934Z"
    },
    "papermill": {
     "duration": 0.360948,
     "end_time": "2024-05-29T22:25:22.735089",
     "exception": false,
     "start_time": "2024-05-29T22:25:22.374141",
     "status": "completed"
    },
    "tags": []
   },
   "outputs": [
    {
     "data": {
      "text/html": [
       "<div>\n",
       "<style scoped>\n",
       "    .dataframe tbody tr th:only-of-type {\n",
       "        vertical-align: middle;\n",
       "    }\n",
       "\n",
       "    .dataframe tbody tr th {\n",
       "        vertical-align: top;\n",
       "    }\n",
       "\n",
       "    .dataframe thead th {\n",
       "        text-align: right;\n",
       "    }\n",
       "</style>\n",
       "<table border=\"1\" class=\"dataframe\">\n",
       "  <thead>\n",
       "    <tr style=\"text-align: right;\">\n",
       "      <th></th>\n",
       "      <th>values</th>\n",
       "      <th>trend</th>\n",
       "      <th>seasonal</th>\n",
       "      <th>residual</th>\n",
       "    </tr>\n",
       "    <tr>\n",
       "      <th>period</th>\n",
       "      <th></th>\n",
       "      <th></th>\n",
       "      <th></th>\n",
       "      <th></th>\n",
       "    </tr>\n",
       "  </thead>\n",
       "  <tbody>\n",
       "    <tr>\n",
       "      <th>2019-06-23 00:00:00-07:00</th>\n",
       "      <td>4854.479167</td>\n",
       "      <td>3746.314298</td>\n",
       "      <td>8.142827</td>\n",
       "      <td>1100.022041</td>\n",
       "    </tr>\n",
       "    <tr>\n",
       "      <th>2019-07-21 00:00:00-07:00</th>\n",
       "      <td>5131.361607</td>\n",
       "      <td>3729.616815</td>\n",
       "      <td>222.545419</td>\n",
       "      <td>1179.199373</td>\n",
       "    </tr>\n",
       "    <tr>\n",
       "      <th>...</th>\n",
       "      <td>...</td>\n",
       "      <td>...</td>\n",
       "      <td>...</td>\n",
       "      <td>...</td>\n",
       "    </tr>\n",
       "    <tr>\n",
       "      <th>2024-07-14 00:00:00-07:00</th>\n",
       "      <td>7498.229167</td>\n",
       "      <td>5862.769655</td>\n",
       "      <td>163.530373</td>\n",
       "      <td>1471.929139</td>\n",
       "    </tr>\n",
       "    <tr>\n",
       "      <th>2024-08-11 00:00:00-07:00</th>\n",
       "      <td>7324.133929</td>\n",
       "      <td>5902.322359</td>\n",
       "      <td>-91.339450</td>\n",
       "      <td>1513.151020</td>\n",
       "    </tr>\n",
       "  </tbody>\n",
       "</table>\n",
       "<p>68 rows × 4 columns</p>\n",
       "</div>"
      ],
      "text/plain": [
       "                                values        trend    seasonal     residual\n",
       "period                                                                      \n",
       "2019-06-23 00:00:00-07:00  4854.479167  3746.314298    8.142827  1100.022041\n",
       "2019-07-21 00:00:00-07:00  5131.361607  3729.616815  222.545419  1179.199373\n",
       "...                                ...          ...         ...          ...\n",
       "2024-07-14 00:00:00-07:00  7498.229167  5862.769655  163.530373  1471.929139\n",
       "2024-08-11 00:00:00-07:00  7324.133929  5902.322359  -91.339450  1513.151020\n",
       "\n",
       "[68 rows x 4 columns]"
      ]
     },
     "execution_count": 19,
     "metadata": {},
     "output_type": "execute_result"
    }
   ],
   "source": [
    "data = df['values'].values\n",
    "result = sm.tsa.seasonal_decompose(data, model='additive', period=12)\n",
    "\n",
    "r = (df\n",
    " .assign(\n",
    "    trend = result.trend,\n",
    "    seasonal = result.seasonal,\n",
    "    residual = result.resid)\n",
    " .dropna())\n",
    "\n",
    "r"
   ]
  },
  {
   "cell_type": "code",
   "execution_count": 20,
   "id": "daa75522",
   "metadata": {
    "execution": {
     "iopub.execute_input": "2024-05-29T22:25:22.739246Z",
     "iopub.status.busy": "2024-05-29T22:25:22.738925Z",
     "iopub.status.idle": "2024-05-29T22:25:22.743687Z",
     "shell.execute_reply": "2024-05-29T22:25:22.743439Z"
    },
    "papermill": {
     "duration": 0.007789,
     "end_time": "2024-05-29T22:25:22.744468",
     "exception": false,
     "start_time": "2024-05-29T22:25:22.736679",
     "status": "completed"
    },
    "tags": []
   },
   "outputs": [
    {
     "data": {
      "text/html": [
       "<div>\n",
       "<style scoped>\n",
       "    .dataframe tbody tr th:only-of-type {\n",
       "        vertical-align: middle;\n",
       "    }\n",
       "\n",
       "    .dataframe tbody tr th {\n",
       "        vertical-align: top;\n",
       "    }\n",
       "\n",
       "    .dataframe thead th {\n",
       "        text-align: right;\n",
       "    }\n",
       "</style>\n",
       "<table border=\"1\" class=\"dataframe\">\n",
       "  <thead>\n",
       "    <tr style=\"text-align: right;\">\n",
       "      <th></th>\n",
       "      <th>values</th>\n",
       "      <th>trend</th>\n",
       "      <th>seasonal</th>\n",
       "      <th>residual</th>\n",
       "      <th>model_result</th>\n",
       "    </tr>\n",
       "    <tr>\n",
       "      <th>period</th>\n",
       "      <th></th>\n",
       "      <th></th>\n",
       "      <th></th>\n",
       "      <th></th>\n",
       "      <th></th>\n",
       "    </tr>\n",
       "  </thead>\n",
       "  <tbody>\n",
       "    <tr>\n",
       "      <th>2019-06-23 00:00:00-07:00</th>\n",
       "      <td>4854.479167</td>\n",
       "      <td>3746.314298</td>\n",
       "      <td>8.142827</td>\n",
       "      <td>1100.022041</td>\n",
       "      <td>4854.479167</td>\n",
       "    </tr>\n",
       "    <tr>\n",
       "      <th>2019-07-21 00:00:00-07:00</th>\n",
       "      <td>5131.361607</td>\n",
       "      <td>3729.616815</td>\n",
       "      <td>222.545419</td>\n",
       "      <td>1179.199373</td>\n",
       "      <td>5131.361607</td>\n",
       "    </tr>\n",
       "    <tr>\n",
       "      <th>...</th>\n",
       "      <td>...</td>\n",
       "      <td>...</td>\n",
       "      <td>...</td>\n",
       "      <td>...</td>\n",
       "      <td>...</td>\n",
       "    </tr>\n",
       "    <tr>\n",
       "      <th>2024-07-14 00:00:00-07:00</th>\n",
       "      <td>7498.229167</td>\n",
       "      <td>5862.769655</td>\n",
       "      <td>163.530373</td>\n",
       "      <td>1471.929139</td>\n",
       "      <td>7498.229167</td>\n",
       "    </tr>\n",
       "    <tr>\n",
       "      <th>2024-08-11 00:00:00-07:00</th>\n",
       "      <td>7324.133929</td>\n",
       "      <td>5902.322359</td>\n",
       "      <td>-91.339450</td>\n",
       "      <td>1513.151020</td>\n",
       "      <td>7324.133929</td>\n",
       "    </tr>\n",
       "  </tbody>\n",
       "</table>\n",
       "<p>68 rows × 5 columns</p>\n",
       "</div>"
      ],
      "text/plain": [
       "                                values        trend    seasonal     residual  \\\n",
       "period                                                                         \n",
       "2019-06-23 00:00:00-07:00  4854.479167  3746.314298    8.142827  1100.022041   \n",
       "2019-07-21 00:00:00-07:00  5131.361607  3729.616815  222.545419  1179.199373   \n",
       "...                                ...          ...         ...          ...   \n",
       "2024-07-14 00:00:00-07:00  7498.229167  5862.769655  163.530373  1471.929139   \n",
       "2024-08-11 00:00:00-07:00  7324.133929  5902.322359  -91.339450  1513.151020   \n",
       "\n",
       "                           model_result  \n",
       "period                                   \n",
       "2019-06-23 00:00:00-07:00   4854.479167  \n",
       "2019-07-21 00:00:00-07:00   5131.361607  \n",
       "...                                 ...  \n",
       "2024-07-14 00:00:00-07:00   7498.229167  \n",
       "2024-08-11 00:00:00-07:00   7324.133929  \n",
       "\n",
       "[68 rows x 5 columns]"
      ]
     },
     "execution_count": 20,
     "metadata": {},
     "output_type": "execute_result"
    }
   ],
   "source": [
    "r['model_result'] = r.trend + r.seasonal + r.residual\n",
    "r"
   ]
  },
  {
   "cell_type": "code",
   "execution_count": 21,
   "id": "8742c8c7",
   "metadata": {},
   "outputs": [],
   "source": [
    "dfs = {}\n",
    "dfs['additive'] = r"
   ]
  },
  {
   "cell_type": "markdown",
   "id": "80aa1c5b",
   "metadata": {
    "papermill": {
     "duration": 0.001849,
     "end_time": "2024-05-29T22:25:23.221029",
     "exception": false,
     "start_time": "2024-05-29T22:25:23.219180",
     "status": "completed"
    },
    "tags": []
   },
   "source": [
    "### Multiplicative model"
   ]
  },
  {
   "cell_type": "code",
   "execution_count": 8,
   "id": "d7bb3526",
   "metadata": {
    "execution": {
     "iopub.execute_input": "2024-05-29T22:25:23.224109Z",
     "iopub.status.busy": "2024-05-29T22:25:23.223893Z",
     "iopub.status.idle": "2024-05-29T22:25:23.229647Z",
     "shell.execute_reply": "2024-05-29T22:25:23.229472Z"
    },
    "papermill": {
     "duration": 0.008039,
     "end_time": "2024-05-29T22:25:23.230257",
     "exception": false,
     "start_time": "2024-05-29T22:25:23.222218",
     "status": "completed"
    },
    "tags": [
     "Fixed"
    ]
   },
   "outputs": [
    {
     "data": {
      "text/html": [
       "<div>\n",
       "<style scoped>\n",
       "    .dataframe tbody tr th:only-of-type {\n",
       "        vertical-align: middle;\n",
       "    }\n",
       "\n",
       "    .dataframe tbody tr th {\n",
       "        vertical-align: top;\n",
       "    }\n",
       "\n",
       "    .dataframe thead th {\n",
       "        text-align: right;\n",
       "    }\n",
       "</style>\n",
       "<table border=\"1\" class=\"dataframe\">\n",
       "  <thead>\n",
       "    <tr style=\"text-align: right;\">\n",
       "      <th></th>\n",
       "      <th>values</th>\n",
       "      <th>trend</th>\n",
       "      <th>seasonal</th>\n",
       "      <th>residual</th>\n",
       "    </tr>\n",
       "    <tr>\n",
       "      <th>period</th>\n",
       "      <th></th>\n",
       "      <th></th>\n",
       "      <th></th>\n",
       "      <th></th>\n",
       "    </tr>\n",
       "  </thead>\n",
       "  <tbody>\n",
       "    <tr>\n",
       "      <th>2019-06-23 00:00:00-07:00</th>\n",
       "      <td>4854.479167</td>\n",
       "      <td>3746.314298</td>\n",
       "      <td>1.036189</td>\n",
       "      <td>1.250546</td>\n",
       "    </tr>\n",
       "    <tr>\n",
       "      <th>2019-07-21 00:00:00-07:00</th>\n",
       "      <td>5131.361607</td>\n",
       "      <td>3729.616815</td>\n",
       "      <td>1.083876</td>\n",
       "      <td>1.269372</td>\n",
       "    </tr>\n",
       "    <tr>\n",
       "      <th>...</th>\n",
       "      <td>...</td>\n",
       "      <td>...</td>\n",
       "      <td>...</td>\n",
       "      <td>...</td>\n",
       "    </tr>\n",
       "    <tr>\n",
       "      <th>2024-07-14 00:00:00-07:00</th>\n",
       "      <td>7498.229167</td>\n",
       "      <td>5862.769655</td>\n",
       "      <td>1.002435</td>\n",
       "      <td>1.275850</td>\n",
       "    </tr>\n",
       "    <tr>\n",
       "      <th>2024-08-11 00:00:00-07:00</th>\n",
       "      <td>7324.133929</td>\n",
       "      <td>5902.322359</td>\n",
       "      <td>0.948840</td>\n",
       "      <td>1.307796</td>\n",
       "    </tr>\n",
       "  </tbody>\n",
       "</table>\n",
       "<p>68 rows × 4 columns</p>\n",
       "</div>"
      ],
      "text/plain": [
       "                                values        trend  seasonal  residual\n",
       "period                                                                 \n",
       "2019-06-23 00:00:00-07:00  4854.479167  3746.314298  1.036189  1.250546\n",
       "2019-07-21 00:00:00-07:00  5131.361607  3729.616815  1.083876  1.269372\n",
       "...                                ...          ...       ...       ...\n",
       "2024-07-14 00:00:00-07:00  7498.229167  5862.769655  1.002435  1.275850\n",
       "2024-08-11 00:00:00-07:00  7324.133929  5902.322359  0.948840  1.307796\n",
       "\n",
       "[68 rows x 4 columns]"
      ]
     },
     "execution_count": 8,
     "metadata": {},
     "output_type": "execute_result"
    }
   ],
   "source": [
    "r = df['values'].values\n",
    "result = sm.tsa.seasonal_decompose(data, model='multiplicative', period=12)\n",
    "\n",
    "r = (df\n",
    " .assign(\n",
    "    trend = result.trend,\n",
    "    seasonal = result.seasonal,\n",
    "    residual = result.resid)\n",
    " .dropna())\n",
    "\n",
    "r"
   ]
  },
  {
   "cell_type": "code",
   "execution_count": 9,
   "id": "2e70082d",
   "metadata": {
    "execution": {
     "iopub.execute_input": "2024-05-29T22:25:23.232686Z",
     "iopub.status.busy": "2024-05-29T22:25:23.232591Z",
     "iopub.status.idle": "2024-05-29T22:25:23.236523Z",
     "shell.execute_reply": "2024-05-29T22:25:23.236281Z"
    },
    "papermill": {
     "duration": 0.005887,
     "end_time": "2024-05-29T22:25:23.237202",
     "exception": false,
     "start_time": "2024-05-29T22:25:23.231315",
     "status": "completed"
    },
    "tags": [
     "Fixed"
    ]
   },
   "outputs": [
    {
     "data": {
      "text/html": [
       "<div>\n",
       "<style scoped>\n",
       "    .dataframe tbody tr th:only-of-type {\n",
       "        vertical-align: middle;\n",
       "    }\n",
       "\n",
       "    .dataframe tbody tr th {\n",
       "        vertical-align: top;\n",
       "    }\n",
       "\n",
       "    .dataframe thead th {\n",
       "        text-align: right;\n",
       "    }\n",
       "</style>\n",
       "<table border=\"1\" class=\"dataframe\">\n",
       "  <thead>\n",
       "    <tr style=\"text-align: right;\">\n",
       "      <th></th>\n",
       "      <th>values</th>\n",
       "      <th>trend</th>\n",
       "      <th>seasonal</th>\n",
       "      <th>residual</th>\n",
       "      <th>model_result</th>\n",
       "    </tr>\n",
       "    <tr>\n",
       "      <th>period</th>\n",
       "      <th></th>\n",
       "      <th></th>\n",
       "      <th></th>\n",
       "      <th></th>\n",
       "      <th></th>\n",
       "    </tr>\n",
       "  </thead>\n",
       "  <tbody>\n",
       "    <tr>\n",
       "      <th>2019-06-23 00:00:00-07:00</th>\n",
       "      <td>4854.479167</td>\n",
       "      <td>3746.314298</td>\n",
       "      <td>1.036189</td>\n",
       "      <td>1.250546</td>\n",
       "      <td>4854.479167</td>\n",
       "    </tr>\n",
       "    <tr>\n",
       "      <th>2019-07-21 00:00:00-07:00</th>\n",
       "      <td>5131.361607</td>\n",
       "      <td>3729.616815</td>\n",
       "      <td>1.083876</td>\n",
       "      <td>1.269372</td>\n",
       "      <td>5131.361607</td>\n",
       "    </tr>\n",
       "    <tr>\n",
       "      <th>...</th>\n",
       "      <td>...</td>\n",
       "      <td>...</td>\n",
       "      <td>...</td>\n",
       "      <td>...</td>\n",
       "      <td>...</td>\n",
       "    </tr>\n",
       "    <tr>\n",
       "      <th>2024-07-14 00:00:00-07:00</th>\n",
       "      <td>7498.229167</td>\n",
       "      <td>5862.769655</td>\n",
       "      <td>1.002435</td>\n",
       "      <td>1.275850</td>\n",
       "      <td>7498.229167</td>\n",
       "    </tr>\n",
       "    <tr>\n",
       "      <th>2024-08-11 00:00:00-07:00</th>\n",
       "      <td>7324.133929</td>\n",
       "      <td>5902.322359</td>\n",
       "      <td>0.948840</td>\n",
       "      <td>1.307796</td>\n",
       "      <td>7324.133929</td>\n",
       "    </tr>\n",
       "  </tbody>\n",
       "</table>\n",
       "<p>68 rows × 5 columns</p>\n",
       "</div>"
      ],
      "text/plain": [
       "                                values        trend  seasonal  residual  \\\n",
       "period                                                                    \n",
       "2019-06-23 00:00:00-07:00  4854.479167  3746.314298  1.036189  1.250546   \n",
       "2019-07-21 00:00:00-07:00  5131.361607  3729.616815  1.083876  1.269372   \n",
       "...                                ...          ...       ...       ...   \n",
       "2024-07-14 00:00:00-07:00  7498.229167  5862.769655  1.002435  1.275850   \n",
       "2024-08-11 00:00:00-07:00  7324.133929  5902.322359  0.948840  1.307796   \n",
       "\n",
       "                           model_result  \n",
       "period                                   \n",
       "2019-06-23 00:00:00-07:00   4854.479167  \n",
       "2019-07-21 00:00:00-07:00   5131.361607  \n",
       "...                                 ...  \n",
       "2024-07-14 00:00:00-07:00   7498.229167  \n",
       "2024-08-11 00:00:00-07:00   7324.133929  \n",
       "\n",
       "[68 rows x 5 columns]"
      ]
     },
     "execution_count": 9,
     "metadata": {},
     "output_type": "execute_result"
    }
   ],
   "source": [
    "r['model_result'] = r.trend * r.seasonal * r.residual\n",
    "r"
   ]
  },
  {
   "cell_type": "code",
   "execution_count": 10,
   "id": "506ebf86",
   "metadata": {},
   "outputs": [],
   "source": [
    "dfs['multiplicative'] = r"
   ]
  },
  {
   "cell_type": "markdown",
   "id": "de79bb31",
   "metadata": {},
   "source": [
    "## Model comparison\n",
    "\n",
    "### Numerical"
   ]
  },
  {
   "cell_type": "code",
   "execution_count": 11,
   "id": "d1097cc3",
   "metadata": {},
   "outputs": [],
   "source": [
    "df = pd.concat(dfs, axis=1).melt(ignore_index=False).reset_index()\n",
    "df.columns = [\"month\", \"model\", \"component\", \"value\"]"
   ]
  },
  {
   "cell_type": "code",
   "execution_count": 12,
   "id": "b5324374",
   "metadata": {},
   "outputs": [
    {
     "data": {
      "text/html": [
       "<div>\n",
       "<style scoped>\n",
       "    .dataframe tbody tr th:only-of-type {\n",
       "        vertical-align: middle;\n",
       "    }\n",
       "\n",
       "    .dataframe tbody tr th {\n",
       "        vertical-align: top;\n",
       "    }\n",
       "\n",
       "    .dataframe thead th {\n",
       "        text-align: right;\n",
       "    }\n",
       "</style>\n",
       "<table border=\"1\" class=\"dataframe\">\n",
       "  <thead>\n",
       "    <tr style=\"text-align: right;\">\n",
       "      <th></th>\n",
       "      <th>month</th>\n",
       "      <th>model</th>\n",
       "      <th>component</th>\n",
       "      <th>value</th>\n",
       "    </tr>\n",
       "  </thead>\n",
       "  <tbody>\n",
       "    <tr>\n",
       "      <th>0</th>\n",
       "      <td>2019-06-23 00:00:00-07:00</td>\n",
       "      <td>additive</td>\n",
       "      <td>values</td>\n",
       "      <td>4854.479167</td>\n",
       "    </tr>\n",
       "    <tr>\n",
       "      <th>1</th>\n",
       "      <td>2019-07-21 00:00:00-07:00</td>\n",
       "      <td>additive</td>\n",
       "      <td>values</td>\n",
       "      <td>5131.361607</td>\n",
       "    </tr>\n",
       "    <tr>\n",
       "      <th>...</th>\n",
       "      <td>...</td>\n",
       "      <td>...</td>\n",
       "      <td>...</td>\n",
       "      <td>...</td>\n",
       "    </tr>\n",
       "    <tr>\n",
       "      <th>678</th>\n",
       "      <td>2024-07-14 00:00:00-07:00</td>\n",
       "      <td>multiplicative</td>\n",
       "      <td>model_result</td>\n",
       "      <td>7498.229167</td>\n",
       "    </tr>\n",
       "    <tr>\n",
       "      <th>679</th>\n",
       "      <td>2024-08-11 00:00:00-07:00</td>\n",
       "      <td>multiplicative</td>\n",
       "      <td>model_result</td>\n",
       "      <td>7324.133929</td>\n",
       "    </tr>\n",
       "  </tbody>\n",
       "</table>\n",
       "<p>680 rows × 4 columns</p>\n",
       "</div>"
      ],
      "text/plain": [
       "                        month           model     component        value\n",
       "0   2019-06-23 00:00:00-07:00        additive        values  4854.479167\n",
       "1   2019-07-21 00:00:00-07:00        additive        values  5131.361607\n",
       "..                        ...             ...           ...          ...\n",
       "678 2024-07-14 00:00:00-07:00  multiplicative  model_result  7498.229167\n",
       "679 2024-08-11 00:00:00-07:00  multiplicative  model_result  7324.133929\n",
       "\n",
       "[680 rows x 4 columns]"
      ]
     },
     "execution_count": 12,
     "metadata": {},
     "output_type": "execute_result"
    }
   ],
   "source": [
    "df"
   ]
  },
  {
   "cell_type": "markdown",
   "id": "278284b3",
   "metadata": {},
   "source": [
    "## Visual comparison"
   ]
  },
  {
   "cell_type": "code",
   "execution_count": 13,
   "id": "cfe93d42",
   "metadata": {},
   "outputs": [],
   "source": [
    "\n",
    "from modules import utils\n",
    "utils.configure_plotly_template(showlegend=True)"
   ]
  },
  {
   "cell_type": "code",
   "execution_count": 14,
   "id": "7f799e4a",
   "metadata": {},
   "outputs": [
    {
     "data": {
      "application/vnd.plotly.v1+json": {
       "config": {
        "plotlyServerURL": "https://plot.ly"
       },
       "data": [
        {
         "hovertemplate": "component=values<br>model=additive<br>month=%{x}<br>value=%{y}<extra></extra>",
         "legendgroup": "values",
         "line": {
          "color": "#636efa",
          "dash": "solid"
         },
         "marker": {
          "symbol": "circle"
         },
         "mode": "lines",
         "name": "values",
         "orientation": "v",
         "showlegend": true,
         "type": "scatter",
         "x": [
          "2019-06-23T00:00:00-07:00",
          "2019-07-21T00:00:00-07:00",
          "2019-08-18T00:00:00-07:00",
          "2019-09-15T00:00:00-07:00",
          "2019-10-13T00:00:00-07:00",
          "2019-11-10T00:00:00-07:00",
          "2019-12-08T00:00:00-07:00",
          "2020-01-05T00:00:00-07:00",
          "2020-02-02T00:00:00-07:00",
          "2020-03-01T00:00:00-07:00",
          "2020-03-29T00:00:00-07:00",
          "2020-04-26T00:00:00-07:00",
          "2020-05-24T00:00:00-07:00",
          "2020-06-21T00:00:00-07:00",
          "2020-07-19T00:00:00-07:00",
          "2020-08-16T00:00:00-07:00",
          "2020-09-13T00:00:00-07:00",
          "2020-10-11T00:00:00-07:00",
          "2020-11-08T00:00:00-07:00",
          "2020-12-06T00:00:00-07:00",
          "2021-01-03T00:00:00-07:00",
          "2021-01-31T00:00:00-07:00",
          "2021-02-28T00:00:00-07:00",
          "2021-03-28T00:00:00-07:00",
          "2021-04-25T00:00:00-07:00",
          "2021-05-23T00:00:00-07:00",
          "2021-06-20T00:00:00-07:00",
          "2021-07-18T00:00:00-07:00",
          "2021-08-15T00:00:00-07:00",
          "2021-09-12T00:00:00-07:00",
          "2021-10-10T00:00:00-07:00",
          "2021-11-07T00:00:00-07:00",
          "2021-12-05T00:00:00-07:00",
          "2022-01-02T00:00:00-07:00",
          "2022-01-30T00:00:00-07:00",
          "2022-02-27T00:00:00-07:00",
          "2022-03-27T00:00:00-07:00",
          "2022-04-24T00:00:00-07:00",
          "2022-05-22T00:00:00-07:00",
          "2022-06-19T00:00:00-07:00",
          "2022-07-17T00:00:00-07:00",
          "2022-08-14T00:00:00-07:00",
          "2022-09-11T00:00:00-07:00",
          "2022-10-09T00:00:00-07:00",
          "2022-11-06T00:00:00-07:00",
          "2022-12-04T00:00:00-07:00",
          "2023-01-01T00:00:00-07:00",
          "2023-01-29T00:00:00-07:00",
          "2023-02-26T00:00:00-07:00",
          "2023-03-26T00:00:00-07:00",
          "2023-04-23T00:00:00-07:00",
          "2023-05-21T00:00:00-07:00",
          "2023-06-18T00:00:00-07:00",
          "2023-07-16T00:00:00-07:00",
          "2023-08-13T00:00:00-07:00",
          "2023-09-10T00:00:00-07:00",
          "2023-10-08T00:00:00-07:00",
          "2023-11-05T00:00:00-07:00",
          "2023-12-03T00:00:00-07:00",
          "2023-12-31T00:00:00-07:00",
          "2024-01-28T00:00:00-07:00",
          "2024-02-25T00:00:00-07:00",
          "2024-03-24T00:00:00-07:00",
          "2024-04-21T00:00:00-07:00",
          "2024-05-19T00:00:00-07:00",
          "2024-06-16T00:00:00-07:00",
          "2024-07-14T00:00:00-07:00",
          "2024-08-11T00:00:00-07:00"
         ],
         "xaxis": "x9",
         "y": {
          "bdata": "q6qqqnr2skCSJEmSXAu0QM/zPM/T6rFAAAAAALBxsUDDMAzDsMKxQPQ8z/NsxalAq6qqqgotnUBiGIZhWDieQFVVVVV1WKJAwzAMwyCeqECGYRiGce6nQHqe53lOWq1AMQzDMPQ2skCSJEmSFPGyQJIkSZJE4LRAkiRJkgSvs0A9z/M8n9auQKuqqqrKM61AhmEYhtG9qEAAAAAAQK2nQMMwDMNAGKJAbtu2besepEBiGIZhmF6sQLdt27a9bq9Abtu2bcOCtECrqqqqwuy0QM/zPM8TKrZAt23btuX+tEA9z/M8r5+zQJIkSZI0irNAhmEYhkE3sEAMwzAMg0atQBiGYRjWNahADMMwDANxoECrqqqqKvOnQMMwDMMgUK5AYhiGYRC0sUCrqqqqOqWzQGIYhmFYFrdAkiRJkkyPuEBiGIZhOAi5QBiGYRjOP7VAt23bts3PtEAYhmEYHoSzQAAAAADA3a9At23btn1nqkBVVVVVJfWjQJIkSZJE5KRAPc/zPC/vq0Dbtm3bFi+rQMMwDMNAf7JAnud5nuc/tkC3bdu25X+4QLdt27bV+rpAbtu2bQtLuEAMwzAME8i1QKuqqqoS67VAt23btr3nskCrqqqqWs+tQJ7neZ5XGKhAt23btv2dp0AlSZIkmYutQBiGYRhW3rFAMQzDMLSytUDP8zzPe727QIZhGIa5Kr5Aq6qqqjpKvUBJkiRJIpy8QA==",
          "dtype": "f8"
         },
         "yaxis": "y9"
        },
        {
         "hovertemplate": "component=values<br>model=multiplicative<br>month=%{x}<br>value=%{y}<extra></extra>",
         "legendgroup": "values",
         "line": {
          "color": "#636efa",
          "dash": "solid"
         },
         "marker": {
          "symbol": "circle"
         },
         "mode": "lines",
         "name": "values",
         "orientation": "v",
         "showlegend": false,
         "type": "scatter",
         "x": [
          "2019-06-23T00:00:00-07:00",
          "2019-07-21T00:00:00-07:00",
          "2019-08-18T00:00:00-07:00",
          "2019-09-15T00:00:00-07:00",
          "2019-10-13T00:00:00-07:00",
          "2019-11-10T00:00:00-07:00",
          "2019-12-08T00:00:00-07:00",
          "2020-01-05T00:00:00-07:00",
          "2020-02-02T00:00:00-07:00",
          "2020-03-01T00:00:00-07:00",
          "2020-03-29T00:00:00-07:00",
          "2020-04-26T00:00:00-07:00",
          "2020-05-24T00:00:00-07:00",
          "2020-06-21T00:00:00-07:00",
          "2020-07-19T00:00:00-07:00",
          "2020-08-16T00:00:00-07:00",
          "2020-09-13T00:00:00-07:00",
          "2020-10-11T00:00:00-07:00",
          "2020-11-08T00:00:00-07:00",
          "2020-12-06T00:00:00-07:00",
          "2021-01-03T00:00:00-07:00",
          "2021-01-31T00:00:00-07:00",
          "2021-02-28T00:00:00-07:00",
          "2021-03-28T00:00:00-07:00",
          "2021-04-25T00:00:00-07:00",
          "2021-05-23T00:00:00-07:00",
          "2021-06-20T00:00:00-07:00",
          "2021-07-18T00:00:00-07:00",
          "2021-08-15T00:00:00-07:00",
          "2021-09-12T00:00:00-07:00",
          "2021-10-10T00:00:00-07:00",
          "2021-11-07T00:00:00-07:00",
          "2021-12-05T00:00:00-07:00",
          "2022-01-02T00:00:00-07:00",
          "2022-01-30T00:00:00-07:00",
          "2022-02-27T00:00:00-07:00",
          "2022-03-27T00:00:00-07:00",
          "2022-04-24T00:00:00-07:00",
          "2022-05-22T00:00:00-07:00",
          "2022-06-19T00:00:00-07:00",
          "2022-07-17T00:00:00-07:00",
          "2022-08-14T00:00:00-07:00",
          "2022-09-11T00:00:00-07:00",
          "2022-10-09T00:00:00-07:00",
          "2022-11-06T00:00:00-07:00",
          "2022-12-04T00:00:00-07:00",
          "2023-01-01T00:00:00-07:00",
          "2023-01-29T00:00:00-07:00",
          "2023-02-26T00:00:00-07:00",
          "2023-03-26T00:00:00-07:00",
          "2023-04-23T00:00:00-07:00",
          "2023-05-21T00:00:00-07:00",
          "2023-06-18T00:00:00-07:00",
          "2023-07-16T00:00:00-07:00",
          "2023-08-13T00:00:00-07:00",
          "2023-09-10T00:00:00-07:00",
          "2023-10-08T00:00:00-07:00",
          "2023-11-05T00:00:00-07:00",
          "2023-12-03T00:00:00-07:00",
          "2023-12-31T00:00:00-07:00",
          "2024-01-28T00:00:00-07:00",
          "2024-02-25T00:00:00-07:00",
          "2024-03-24T00:00:00-07:00",
          "2024-04-21T00:00:00-07:00",
          "2024-05-19T00:00:00-07:00",
          "2024-06-16T00:00:00-07:00",
          "2024-07-14T00:00:00-07:00",
          "2024-08-11T00:00:00-07:00"
         ],
         "xaxis": "x10",
         "y": {
          "bdata": "q6qqqnr2skCSJEmSXAu0QM/zPM/T6rFAAAAAALBxsUDDMAzDsMKxQPQ8z/NsxalAq6qqqgotnUBiGIZhWDieQFVVVVV1WKJAwzAMwyCeqECGYRiGce6nQHqe53lOWq1AMQzDMPQ2skCSJEmSFPGyQJIkSZJE4LRAkiRJkgSvs0A9z/M8n9auQKuqqqrKM61AhmEYhtG9qEAAAAAAQK2nQMMwDMNAGKJAbtu2besepEBiGIZhmF6sQLdt27a9bq9Abtu2bcOCtECrqqqqwuy0QM/zPM8TKrZAt23btuX+tEA9z/M8r5+zQJIkSZI0irNAhmEYhkE3sEAMwzAMg0atQBiGYRjWNahADMMwDANxoECrqqqqKvOnQMMwDMMgUK5AYhiGYRC0sUCrqqqqOqWzQGIYhmFYFrdAkiRJkkyPuEBiGIZhOAi5QBiGYRjOP7VAt23bts3PtEAYhmEYHoSzQAAAAADA3a9At23btn1nqkBVVVVVJfWjQJIkSZJE5KRAPc/zPC/vq0Dbtm3bFi+rQMMwDMNAf7JAnud5nuc/tkC3bdu25X+4QLdt27bV+rpAbtu2bQtLuEAMwzAME8i1QKuqqqoS67VAt23btr3nskCrqqqqWs+tQJ7neZ5XGKhAt23btv2dp0AlSZIkmYutQBiGYRhW3rFAMQzDMLSytUDP8zzPe727QIZhGIa5Kr5Aq6qqqjpKvUBJkiRJIpy8QA==",
          "dtype": "f8"
         },
         "yaxis": "y10"
        },
        {
         "hovertemplate": "component=trend<br>model=additive<br>month=%{x}<br>value=%{y}<extra></extra>",
         "legendgroup": "trend",
         "line": {
          "color": "#EF553B",
          "dash": "solid"
         },
         "marker": {
          "symbol": "circle"
         },
         "mode": "lines",
         "name": "trend",
         "orientation": "v",
         "showlegend": true,
         "type": "scatter",
         "x": [
          "2019-06-23T00:00:00-07:00",
          "2019-07-21T00:00:00-07:00",
          "2019-08-18T00:00:00-07:00",
          "2019-09-15T00:00:00-07:00",
          "2019-10-13T00:00:00-07:00",
          "2019-11-10T00:00:00-07:00",
          "2019-12-08T00:00:00-07:00",
          "2020-01-05T00:00:00-07:00",
          "2020-02-02T00:00:00-07:00",
          "2020-03-01T00:00:00-07:00",
          "2020-03-29T00:00:00-07:00",
          "2020-04-26T00:00:00-07:00",
          "2020-05-24T00:00:00-07:00",
          "2020-06-21T00:00:00-07:00",
          "2020-07-19T00:00:00-07:00",
          "2020-08-16T00:00:00-07:00",
          "2020-09-13T00:00:00-07:00",
          "2020-10-11T00:00:00-07:00",
          "2020-11-08T00:00:00-07:00",
          "2020-12-06T00:00:00-07:00",
          "2021-01-03T00:00:00-07:00",
          "2021-01-31T00:00:00-07:00",
          "2021-02-28T00:00:00-07:00",
          "2021-03-28T00:00:00-07:00",
          "2021-04-25T00:00:00-07:00",
          "2021-05-23T00:00:00-07:00",
          "2021-06-20T00:00:00-07:00",
          "2021-07-18T00:00:00-07:00",
          "2021-08-15T00:00:00-07:00",
          "2021-09-12T00:00:00-07:00",
          "2021-10-10T00:00:00-07:00",
          "2021-11-07T00:00:00-07:00",
          "2021-12-05T00:00:00-07:00",
          "2022-01-02T00:00:00-07:00",
          "2022-01-30T00:00:00-07:00",
          "2022-02-27T00:00:00-07:00",
          "2022-03-27T00:00:00-07:00",
          "2022-04-24T00:00:00-07:00",
          "2022-05-22T00:00:00-07:00",
          "2022-06-19T00:00:00-07:00",
          "2022-07-17T00:00:00-07:00",
          "2022-08-14T00:00:00-07:00",
          "2022-09-11T00:00:00-07:00",
          "2022-10-09T00:00:00-07:00",
          "2022-11-06T00:00:00-07:00",
          "2022-12-04T00:00:00-07:00",
          "2023-01-01T00:00:00-07:00",
          "2023-01-29T00:00:00-07:00",
          "2023-02-26T00:00:00-07:00",
          "2023-03-26T00:00:00-07:00",
          "2023-04-23T00:00:00-07:00",
          "2023-05-21T00:00:00-07:00",
          "2023-06-18T00:00:00-07:00",
          "2023-07-16T00:00:00-07:00",
          "2023-08-13T00:00:00-07:00",
          "2023-09-10T00:00:00-07:00",
          "2023-10-08T00:00:00-07:00",
          "2023-11-05T00:00:00-07:00",
          "2023-12-03T00:00:00-07:00",
          "2023-12-31T00:00:00-07:00",
          "2024-01-28T00:00:00-07:00",
          "2024-02-25T00:00:00-07:00",
          "2024-03-24T00:00:00-07:00",
          "2024-04-21T00:00:00-07:00",
          "2024-05-19T00:00:00-07:00",
          "2024-06-16T00:00:00-07:00",
          "2024-07-14T00:00:00-07:00",
          "2024-08-11T00:00:00-07:00"
         ],
         "xaxis": "x7",
         "y": {
          "bdata": "6rqu66BErUDO8zzPOyOtQEzTNE1PC61A5nme513jrEClaZqmTXysQKVpmqYhFaxAep7neYDvq0CbpmmaBMirQFVVVVWd76tAHMdxHINerEBkWZZlV1ysQN73fd/9TqxA8jzP8+TfrECd53mek6etQJZlWZZHAK5ALcuyLKPNrUCTJEmSAs2tQNQ0TdOIEq5AEARBELRZrkCBIAiC/rSuQPI8z/PI+q5AUBRFUUIyr0BhGIZh8qevQHme53mANbBAJEmSJDKTsEDneZ7nEdqwQL7v+76LGLFABEEQBIolsUA4juM4WPqwQFVVVVXN3LBAm6ZpmuK4sEDP8zzPSo2wQFVVVVV9ibBAz/M8z1m5sEB6nud5DhmxQJZlWZb6ZLFAKYqiKDyosUAxDMMwSw2yQEEQBEEparJAruu6riDIskB1Xdd1+OeyQG3btm1uoLJA0PM8z1RGskB6nud56N2xQDAMwzBgbLFAqaqqqsUisUBYlmVZcwSxQI7jOI7lO7FAchzHcSiesUA4juM4dduxQN/3fd92M7JAm6ZpmiOwskCqqqqqhCGzQCzLsiwmZ7NAiqIoijVhs0A5juM4x1azQNQ0TdOqXLNAPc/zPBRQs0AEQRAEw2yzQMMwDMNSsbNAOY7jOJ4ItEDTNE3TwIa0QAiCIAiPG7VAMAzDMEO1tUAxDMMwRjy2QLMsy7KQo7ZACIIgCMXmtkCGYRiGUg63QA==",
          "dtype": "f8"
         },
         "yaxis": "y7"
        },
        {
         "hovertemplate": "component=trend<br>model=multiplicative<br>month=%{x}<br>value=%{y}<extra></extra>",
         "legendgroup": "trend",
         "line": {
          "color": "#EF553B",
          "dash": "solid"
         },
         "marker": {
          "symbol": "circle"
         },
         "mode": "lines",
         "name": "trend",
         "orientation": "v",
         "showlegend": false,
         "type": "scatter",
         "x": [
          "2019-06-23T00:00:00-07:00",
          "2019-07-21T00:00:00-07:00",
          "2019-08-18T00:00:00-07:00",
          "2019-09-15T00:00:00-07:00",
          "2019-10-13T00:00:00-07:00",
          "2019-11-10T00:00:00-07:00",
          "2019-12-08T00:00:00-07:00",
          "2020-01-05T00:00:00-07:00",
          "2020-02-02T00:00:00-07:00",
          "2020-03-01T00:00:00-07:00",
          "2020-03-29T00:00:00-07:00",
          "2020-04-26T00:00:00-07:00",
          "2020-05-24T00:00:00-07:00",
          "2020-06-21T00:00:00-07:00",
          "2020-07-19T00:00:00-07:00",
          "2020-08-16T00:00:00-07:00",
          "2020-09-13T00:00:00-07:00",
          "2020-10-11T00:00:00-07:00",
          "2020-11-08T00:00:00-07:00",
          "2020-12-06T00:00:00-07:00",
          "2021-01-03T00:00:00-07:00",
          "2021-01-31T00:00:00-07:00",
          "2021-02-28T00:00:00-07:00",
          "2021-03-28T00:00:00-07:00",
          "2021-04-25T00:00:00-07:00",
          "2021-05-23T00:00:00-07:00",
          "2021-06-20T00:00:00-07:00",
          "2021-07-18T00:00:00-07:00",
          "2021-08-15T00:00:00-07:00",
          "2021-09-12T00:00:00-07:00",
          "2021-10-10T00:00:00-07:00",
          "2021-11-07T00:00:00-07:00",
          "2021-12-05T00:00:00-07:00",
          "2022-01-02T00:00:00-07:00",
          "2022-01-30T00:00:00-07:00",
          "2022-02-27T00:00:00-07:00",
          "2022-03-27T00:00:00-07:00",
          "2022-04-24T00:00:00-07:00",
          "2022-05-22T00:00:00-07:00",
          "2022-06-19T00:00:00-07:00",
          "2022-07-17T00:00:00-07:00",
          "2022-08-14T00:00:00-07:00",
          "2022-09-11T00:00:00-07:00",
          "2022-10-09T00:00:00-07:00",
          "2022-11-06T00:00:00-07:00",
          "2022-12-04T00:00:00-07:00",
          "2023-01-01T00:00:00-07:00",
          "2023-01-29T00:00:00-07:00",
          "2023-02-26T00:00:00-07:00",
          "2023-03-26T00:00:00-07:00",
          "2023-04-23T00:00:00-07:00",
          "2023-05-21T00:00:00-07:00",
          "2023-06-18T00:00:00-07:00",
          "2023-07-16T00:00:00-07:00",
          "2023-08-13T00:00:00-07:00",
          "2023-09-10T00:00:00-07:00",
          "2023-10-08T00:00:00-07:00",
          "2023-11-05T00:00:00-07:00",
          "2023-12-03T00:00:00-07:00",
          "2023-12-31T00:00:00-07:00",
          "2024-01-28T00:00:00-07:00",
          "2024-02-25T00:00:00-07:00",
          "2024-03-24T00:00:00-07:00",
          "2024-04-21T00:00:00-07:00",
          "2024-05-19T00:00:00-07:00",
          "2024-06-16T00:00:00-07:00",
          "2024-07-14T00:00:00-07:00",
          "2024-08-11T00:00:00-07:00"
         ],
         "xaxis": "x8",
         "y": {
          "bdata": "6rqu66BErUDO8zzPOyOtQEzTNE1PC61A5nme513jrEClaZqmTXysQKVpmqYhFaxAep7neYDvq0CbpmmaBMirQFVVVVWd76tAHMdxHINerEBkWZZlV1ysQN73fd/9TqxA8jzP8+TfrECd53mek6etQJZlWZZHAK5ALcuyLKPNrUCTJEmSAs2tQNQ0TdOIEq5AEARBELRZrkCBIAiC/rSuQPI8z/PI+q5AUBRFUUIyr0BhGIZh8qevQHme53mANbBAJEmSJDKTsEDneZ7nEdqwQL7v+76LGLFABEEQBIolsUA4juM4WPqwQFVVVVXN3LBAm6ZpmuK4sEDP8zzPSo2wQFVVVVV9ibBAz/M8z1m5sEB6nud5DhmxQJZlWZb6ZLFAKYqiKDyosUAxDMMwSw2yQEEQBEEparJAruu6riDIskB1Xdd1+OeyQG3btm1uoLJA0PM8z1RGskB6nud56N2xQDAMwzBgbLFAqaqqqsUisUBYlmVZcwSxQI7jOI7lO7FAchzHcSiesUA4juM4dduxQN/3fd92M7JAm6ZpmiOwskCqqqqqhCGzQCzLsiwmZ7NAiqIoijVhs0A5juM4x1azQNQ0TdOqXLNAPc/zPBRQs0AEQRAEw2yzQMMwDMNSsbNAOY7jOJ4ItEDTNE3TwIa0QAiCIAiPG7VAMAzDMEO1tUAxDMMwRjy2QLMsy7KQo7ZACIIgCMXmtkCGYRiGUg63QA==",
          "dtype": "f8"
         },
         "yaxis": "y8"
        },
        {
         "hovertemplate": "component=seasonal<br>model=additive<br>month=%{x}<br>value=%{y}<extra></extra>",
         "legendgroup": "seasonal",
         "line": {
          "color": "#00cc96",
          "dash": "solid"
         },
         "marker": {
          "symbol": "circle"
         },
         "mode": "lines",
         "name": "seasonal",
         "orientation": "v",
         "showlegend": true,
         "type": "scatter",
         "x": [
          "2019-06-23T00:00:00-07:00",
          "2019-07-21T00:00:00-07:00",
          "2019-08-18T00:00:00-07:00",
          "2019-09-15T00:00:00-07:00",
          "2019-10-13T00:00:00-07:00",
          "2019-11-10T00:00:00-07:00",
          "2019-12-08T00:00:00-07:00",
          "2020-01-05T00:00:00-07:00",
          "2020-02-02T00:00:00-07:00",
          "2020-03-01T00:00:00-07:00",
          "2020-03-29T00:00:00-07:00",
          "2020-04-26T00:00:00-07:00",
          "2020-05-24T00:00:00-07:00",
          "2020-06-21T00:00:00-07:00",
          "2020-07-19T00:00:00-07:00",
          "2020-08-16T00:00:00-07:00",
          "2020-09-13T00:00:00-07:00",
          "2020-10-11T00:00:00-07:00",
          "2020-11-08T00:00:00-07:00",
          "2020-12-06T00:00:00-07:00",
          "2021-01-03T00:00:00-07:00",
          "2021-01-31T00:00:00-07:00",
          "2021-02-28T00:00:00-07:00",
          "2021-03-28T00:00:00-07:00",
          "2021-04-25T00:00:00-07:00",
          "2021-05-23T00:00:00-07:00",
          "2021-06-20T00:00:00-07:00",
          "2021-07-18T00:00:00-07:00",
          "2021-08-15T00:00:00-07:00",
          "2021-09-12T00:00:00-07:00",
          "2021-10-10T00:00:00-07:00",
          "2021-11-07T00:00:00-07:00",
          "2021-12-05T00:00:00-07:00",
          "2022-01-02T00:00:00-07:00",
          "2022-01-30T00:00:00-07:00",
          "2022-02-27T00:00:00-07:00",
          "2022-03-27T00:00:00-07:00",
          "2022-04-24T00:00:00-07:00",
          "2022-05-22T00:00:00-07:00",
          "2022-06-19T00:00:00-07:00",
          "2022-07-17T00:00:00-07:00",
          "2022-08-14T00:00:00-07:00",
          "2022-09-11T00:00:00-07:00",
          "2022-10-09T00:00:00-07:00",
          "2022-11-06T00:00:00-07:00",
          "2022-12-04T00:00:00-07:00",
          "2023-01-01T00:00:00-07:00",
          "2023-01-29T00:00:00-07:00",
          "2023-02-26T00:00:00-07:00",
          "2023-03-26T00:00:00-07:00",
          "2023-04-23T00:00:00-07:00",
          "2023-05-21T00:00:00-07:00",
          "2023-06-18T00:00:00-07:00",
          "2023-07-16T00:00:00-07:00",
          "2023-08-13T00:00:00-07:00",
          "2023-09-10T00:00:00-07:00",
          "2023-10-08T00:00:00-07:00",
          "2023-11-05T00:00:00-07:00",
          "2023-12-03T00:00:00-07:00",
          "2023-12-31T00:00:00-07:00",
          "2024-01-28T00:00:00-07:00",
          "2024-02-25T00:00:00-07:00",
          "2024-03-24T00:00:00-07:00",
          "2024-04-21T00:00:00-07:00",
          "2024-05-19T00:00:00-07:00",
          "2024-06-16T00:00:00-07:00",
          "2024-07-14T00:00:00-07:00",
          "2024-08-11T00:00:00-07:00"
         ],
         "xaxis": "x5",
         "y": {
          "bdata": "MG98qiBJIED7SMgSdNFrQIU50aFpZYVAlxMdCjnri0CV0gwGAIyPQN7PNvt/DolAU3hp0PhwZECK2t+LudVWwOP1zxv7ZIfAWXvu9Yk4kMC1UmRTIXKQwFDEtojZp4rAMG98qiBJIED7SMgSdNFrQIU50aFpZYVAlxMdCjnri0CV0gwGAIyPQN7PNvt/DolAU3hp0PhwZECK2t+LudVWwOP1zxv7ZIfAWXvu9Yk4kMC1UmRTIXKQwFDEtojZp4rAMG98qiBJIED7SMgSdNFrQIU50aFpZYVAlxMdCjnri0CV0gwGAIyPQN7PNvt/DolAU3hp0PhwZECK2t+LudVWwOP1zxv7ZIfAWXvu9Yk4kMC1UmRTIXKQwFDEtojZp4rAMG98qiBJIED7SMgSdNFrQIU50aFpZYVAlxMdCjnri0CV0gwGAIyPQN7PNvt/DolAU3hp0PhwZECK2t+LudVWwOP1zxv7ZIfAWXvu9Yk4kMC1UmRTIXKQwFDEtojZp4rAMG98qiBJIED7SMgSdNFrQIU50aFpZYVAlxMdCjnri0CV0gwGAIyPQN7PNvt/DolAU3hp0PhwZECK2t+LudVWwOP1zxv7ZIfAWXvu9Yk4kMC1UmRTIXKQwFDEtojZp4rAMG98qiBJIED7SMgSdNFrQIU50aFpZYVAlxMdCjnri0CV0gwGAIyPQN7PNvt/DolAU3hp0PhwZECK2t+LudVWwA==",
          "dtype": "f8"
         },
         "yaxis": "y5"
        },
        {
         "hovertemplate": "component=seasonal<br>model=multiplicative<br>month=%{x}<br>value=%{y}<extra></extra>",
         "legendgroup": "seasonal",
         "line": {
          "color": "#00cc96",
          "dash": "solid"
         },
         "marker": {
          "symbol": "circle"
         },
         "mode": "lines",
         "name": "seasonal",
         "orientation": "v",
         "showlegend": false,
         "type": "scatter",
         "x": [
          "2019-06-23T00:00:00-07:00",
          "2019-07-21T00:00:00-07:00",
          "2019-08-18T00:00:00-07:00",
          "2019-09-15T00:00:00-07:00",
          "2019-10-13T00:00:00-07:00",
          "2019-11-10T00:00:00-07:00",
          "2019-12-08T00:00:00-07:00",
          "2020-01-05T00:00:00-07:00",
          "2020-02-02T00:00:00-07:00",
          "2020-03-01T00:00:00-07:00",
          "2020-03-29T00:00:00-07:00",
          "2020-04-26T00:00:00-07:00",
          "2020-05-24T00:00:00-07:00",
          "2020-06-21T00:00:00-07:00",
          "2020-07-19T00:00:00-07:00",
          "2020-08-16T00:00:00-07:00",
          "2020-09-13T00:00:00-07:00",
          "2020-10-11T00:00:00-07:00",
          "2020-11-08T00:00:00-07:00",
          "2020-12-06T00:00:00-07:00",
          "2021-01-03T00:00:00-07:00",
          "2021-01-31T00:00:00-07:00",
          "2021-02-28T00:00:00-07:00",
          "2021-03-28T00:00:00-07:00",
          "2021-04-25T00:00:00-07:00",
          "2021-05-23T00:00:00-07:00",
          "2021-06-20T00:00:00-07:00",
          "2021-07-18T00:00:00-07:00",
          "2021-08-15T00:00:00-07:00",
          "2021-09-12T00:00:00-07:00",
          "2021-10-10T00:00:00-07:00",
          "2021-11-07T00:00:00-07:00",
          "2021-12-05T00:00:00-07:00",
          "2022-01-02T00:00:00-07:00",
          "2022-01-30T00:00:00-07:00",
          "2022-02-27T00:00:00-07:00",
          "2022-03-27T00:00:00-07:00",
          "2022-04-24T00:00:00-07:00",
          "2022-05-22T00:00:00-07:00",
          "2022-06-19T00:00:00-07:00",
          "2022-07-17T00:00:00-07:00",
          "2022-08-14T00:00:00-07:00",
          "2022-09-11T00:00:00-07:00",
          "2022-10-09T00:00:00-07:00",
          "2022-11-06T00:00:00-07:00",
          "2022-12-04T00:00:00-07:00",
          "2023-01-01T00:00:00-07:00",
          "2023-01-29T00:00:00-07:00",
          "2023-02-26T00:00:00-07:00",
          "2023-03-26T00:00:00-07:00",
          "2023-04-23T00:00:00-07:00",
          "2023-05-21T00:00:00-07:00",
          "2023-06-18T00:00:00-07:00",
          "2023-07-16T00:00:00-07:00",
          "2023-08-13T00:00:00-07:00",
          "2023-09-10T00:00:00-07:00",
          "2023-10-08T00:00:00-07:00",
          "2023-11-05T00:00:00-07:00",
          "2023-12-03T00:00:00-07:00",
          "2023-12-31T00:00:00-07:00",
          "2024-01-28T00:00:00-07:00",
          "2024-02-25T00:00:00-07:00",
          "2024-03-24T00:00:00-07:00",
          "2024-04-21T00:00:00-07:00",
          "2024-05-19T00:00:00-07:00",
          "2024-06-16T00:00:00-07:00",
          "2024-07-14T00:00:00-07:00",
          "2024-08-11T00:00:00-07:00"
         ],
         "xaxis": "x6",
         "y": {
          "bdata": "trrXmjqU8D/dgIHjjVfxP1tiMJkH4vI/YThSD91z8z+fJpDTp47zP7s28p20ivI/4vs+FfkJ8D/QH6Si5lzuP4seqW0J4ek/C7sBsyYr6D+x0QuS123oP9HVak8MX+o/trrXmjqU8D/dgIHjjVfxP1tiMJkH4vI/YThSD91z8z+fJpDTp47zP7s28p20ivI/4vs+FfkJ8D/QH6Si5lzuP4seqW0J4ek/C7sBsyYr6D+x0QuS123oP9HVak8MX+o/trrXmjqU8D/dgIHjjVfxP1tiMJkH4vI/YThSD91z8z+fJpDTp47zP7s28p20ivI/4vs+FfkJ8D/QH6Si5lzuP4seqW0J4ek/C7sBsyYr6D+x0QuS123oP9HVak8MX+o/trrXmjqU8D/dgIHjjVfxP1tiMJkH4vI/YThSD91z8z+fJpDTp47zP7s28p20ivI/4vs+FfkJ8D/QH6Si5lzuP4seqW0J4ek/C7sBsyYr6D+x0QuS123oP9HVak8MX+o/trrXmjqU8D/dgIHjjVfxP1tiMJkH4vI/YThSD91z8z+fJpDTp47zP7s28p20ivI/4vs+FfkJ8D/QH6Si5lzuP4seqW0J4ek/C7sBsyYr6D+x0QuS123oP9HVak8MX+o/trrXmjqU8D/dgIHjjVfxP1tiMJkH4vI/YThSD91z8z+fJpDTp47zP7s28p20ivI/4vs+FfkJ8D/QH6Si5lzuPw==",
          "dtype": "f8"
         },
         "yaxis": "y6"
        },
        {
         "hovertemplate": "component=residual<br>model=additive<br>month=%{x}<br>value=%{y}<extra></extra>",
         "legendgroup": "residual",
         "line": {
          "color": "#ab63fa",
          "dash": "solid"
         },
         "marker": {
          "symbol": "circle"
         },
         "mode": "lines",
         "name": "residual",
         "orientation": "v",
         "showlegend": true,
         "type": "scatter",
         "x": [
          "2019-06-23T00:00:00-07:00",
          "2019-07-21T00:00:00-07:00",
          "2019-08-18T00:00:00-07:00",
          "2019-09-15T00:00:00-07:00",
          "2019-10-13T00:00:00-07:00",
          "2019-11-10T00:00:00-07:00",
          "2019-12-08T00:00:00-07:00",
          "2020-01-05T00:00:00-07:00",
          "2020-02-02T00:00:00-07:00",
          "2020-03-01T00:00:00-07:00",
          "2020-03-29T00:00:00-07:00",
          "2020-04-26T00:00:00-07:00",
          "2020-05-24T00:00:00-07:00",
          "2020-06-21T00:00:00-07:00",
          "2020-07-19T00:00:00-07:00",
          "2020-08-16T00:00:00-07:00",
          "2020-09-13T00:00:00-07:00",
          "2020-10-11T00:00:00-07:00",
          "2020-11-08T00:00:00-07:00",
          "2020-12-06T00:00:00-07:00",
          "2021-01-03T00:00:00-07:00",
          "2021-01-31T00:00:00-07:00",
          "2021-02-28T00:00:00-07:00",
          "2021-03-28T00:00:00-07:00",
          "2021-04-25T00:00:00-07:00",
          "2021-05-23T00:00:00-07:00",
          "2021-06-20T00:00:00-07:00",
          "2021-07-18T00:00:00-07:00",
          "2021-08-15T00:00:00-07:00",
          "2021-09-12T00:00:00-07:00",
          "2021-10-10T00:00:00-07:00",
          "2021-11-07T00:00:00-07:00",
          "2021-12-05T00:00:00-07:00",
          "2022-01-02T00:00:00-07:00",
          "2022-01-30T00:00:00-07:00",
          "2022-02-27T00:00:00-07:00",
          "2022-03-27T00:00:00-07:00",
          "2022-04-24T00:00:00-07:00",
          "2022-05-22T00:00:00-07:00",
          "2022-06-19T00:00:00-07:00",
          "2022-07-17T00:00:00-07:00",
          "2022-08-14T00:00:00-07:00",
          "2022-09-11T00:00:00-07:00",
          "2022-10-09T00:00:00-07:00",
          "2022-11-06T00:00:00-07:00",
          "2022-12-04T00:00:00-07:00",
          "2023-01-01T00:00:00-07:00",
          "2023-01-29T00:00:00-07:00",
          "2023-02-26T00:00:00-07:00",
          "2023-03-26T00:00:00-07:00",
          "2023-04-23T00:00:00-07:00",
          "2023-05-21T00:00:00-07:00",
          "2023-06-18T00:00:00-07:00",
          "2023-07-16T00:00:00-07:00",
          "2023-08-13T00:00:00-07:00",
          "2023-09-10T00:00:00-07:00",
          "2023-10-08T00:00:00-07:00",
          "2023-11-05T00:00:00-07:00",
          "2023-12-03T00:00:00-07:00",
          "2023-12-31T00:00:00-07:00",
          "2024-01-28T00:00:00-07:00",
          "2024-02-25T00:00:00-07:00",
          "2024-03-24T00:00:00-07:00",
          "2024-04-21T00:00:00-07:00",
          "2024-05-19T00:00:00-07:00",
          "2024-06-16T00:00:00-07:00",
          "2024-07-14T00:00:00-07:00",
          "2024-08-11T00:00:00-07:00"
         ],
         "xaxis": "x3",
         "y": {
          "bdata": "+jv4kRYwkUCNoVEozGySQAxfDI3eD2dAeNm3RIVZX8CImKdAhD1bwFHBMWOpJpHAU8ExYxVAncArN486VeqXwDoUYMhJ733ATp1GhopvgUDki6FRVll+QMBeXfIb1Y5AA3wxNOn2jUDdc68T+fWJQLNUEpecm4lAisjBqr2sdEDtJ2JbjWWLwIL4wJ14iYzAPei8XMiLi8CzhqTWQkSJwNk6PKclJYzArNm3RI+4d8Bupcim2r6DQGSH55TMtoZAk6B6xmU7j0Dhc68TKaGJQAPnNuDWJoNACJDiYST9VkDalBXLj8J0wLCvwpwwGl3Aeg1JrY1ScsDuLVEvJut4wMo4qVouH3jAy82jLtfKkcB0R5P7DC9wwFi1OMQPgXFAQAuAckR9DUBFhisqeyxnQAYPfsQe+H9AibNUEiZOgkDTBGlX/3WBQBjqhZcKTmDARuKyERJffkBBOEslZAyAQMYobyvz8XZAwAirPq4bP0ACuA7PwmqHwNjF659ApovAWZgTHat1jcBJ1Auv1YmUwGVyX4UaB4PAIJCezOJcMkCmi/K2EM52QD0iByt+x5FAhrQrdDgZkUDpoeXLFWWGQE7SXesc7JVAguoZu18ujUBQwHV4ViNawKiR4QqvQJHAKiuW24eDoMAhSmmG/32awIKM5I+Yp5fAjxMdCrH/i8C21ITbWft4QF1rmU9jlZFAgnMbcLf/lkC1wO6kmqSXQA==",
          "dtype": "f8"
         },
         "yaxis": "y3"
        },
        {
         "hovertemplate": "component=residual<br>model=multiplicative<br>month=%{x}<br>value=%{y}<extra></extra>",
         "legendgroup": "residual",
         "line": {
          "color": "#ab63fa",
          "dash": "solid"
         },
         "marker": {
          "symbol": "circle"
         },
         "mode": "lines",
         "name": "residual",
         "orientation": "v",
         "showlegend": false,
         "type": "scatter",
         "x": [
          "2019-06-23T00:00:00-07:00",
          "2019-07-21T00:00:00-07:00",
          "2019-08-18T00:00:00-07:00",
          "2019-09-15T00:00:00-07:00",
          "2019-10-13T00:00:00-07:00",
          "2019-11-10T00:00:00-07:00",
          "2019-12-08T00:00:00-07:00",
          "2020-01-05T00:00:00-07:00",
          "2020-02-02T00:00:00-07:00",
          "2020-03-01T00:00:00-07:00",
          "2020-03-29T00:00:00-07:00",
          "2020-04-26T00:00:00-07:00",
          "2020-05-24T00:00:00-07:00",
          "2020-06-21T00:00:00-07:00",
          "2020-07-19T00:00:00-07:00",
          "2020-08-16T00:00:00-07:00",
          "2020-09-13T00:00:00-07:00",
          "2020-10-11T00:00:00-07:00",
          "2020-11-08T00:00:00-07:00",
          "2020-12-06T00:00:00-07:00",
          "2021-01-03T00:00:00-07:00",
          "2021-01-31T00:00:00-07:00",
          "2021-02-28T00:00:00-07:00",
          "2021-03-28T00:00:00-07:00",
          "2021-04-25T00:00:00-07:00",
          "2021-05-23T00:00:00-07:00",
          "2021-06-20T00:00:00-07:00",
          "2021-07-18T00:00:00-07:00",
          "2021-08-15T00:00:00-07:00",
          "2021-09-12T00:00:00-07:00",
          "2021-10-10T00:00:00-07:00",
          "2021-11-07T00:00:00-07:00",
          "2021-12-05T00:00:00-07:00",
          "2022-01-02T00:00:00-07:00",
          "2022-01-30T00:00:00-07:00",
          "2022-02-27T00:00:00-07:00",
          "2022-03-27T00:00:00-07:00",
          "2022-04-24T00:00:00-07:00",
          "2022-05-22T00:00:00-07:00",
          "2022-06-19T00:00:00-07:00",
          "2022-07-17T00:00:00-07:00",
          "2022-08-14T00:00:00-07:00",
          "2022-09-11T00:00:00-07:00",
          "2022-10-09T00:00:00-07:00",
          "2022-11-06T00:00:00-07:00",
          "2022-12-04T00:00:00-07:00",
          "2023-01-01T00:00:00-07:00",
          "2023-01-29T00:00:00-07:00",
          "2023-02-26T00:00:00-07:00",
          "2023-03-26T00:00:00-07:00",
          "2023-04-23T00:00:00-07:00",
          "2023-05-21T00:00:00-07:00",
          "2023-06-18T00:00:00-07:00",
          "2023-07-16T00:00:00-07:00",
          "2023-08-13T00:00:00-07:00",
          "2023-09-10T00:00:00-07:00",
          "2023-10-08T00:00:00-07:00",
          "2023-11-05T00:00:00-07:00",
          "2023-12-03T00:00:00-07:00",
          "2023-12-31T00:00:00-07:00",
          "2024-01-28T00:00:00-07:00",
          "2024-02-25T00:00:00-07:00",
          "2024-03-24T00:00:00-07:00",
          "2024-04-21T00:00:00-07:00",
          "2024-05-19T00:00:00-07:00",
          "2024-06-16T00:00:00-07:00",
          "2024-07-14T00:00:00-07:00",
          "2024-08-11T00:00:00-07:00"
         ],
         "xaxis": "x4",
         "y": {
          "bdata": "SBFEPjwC9D9amFo8WU/0PwByv0kSuvA/FY+HQoDJ7z/o1KmgnlLwPx34CgstV+k/k5MKu3qr4D8oc1BBzVfiP5OB728W/Ok/JitRDBVi8j8ddGkVda/xPzBhE/OWIfQ/IZLmPTJ78z+XuTGDrNvyP00cTzAN3vI/eLZv4CVi8T9xkpMfTRfrP5TXgjB30Oo/wSX/GNoF6j+ICKt2CwHqP/aa1tGJHOc/IhoRlLBT6z9FFgi/X8jyP7MDxfgs0/I/GKEOPZgb8z9KgCjnZ1TyPyYGvsaak/E/gTS3V0gd8D8Il519aELuP1hTb9Rg/+8/ZqVrwKT07j/9ub71ONPtP48JwDvd9uw/juqikJzT5D9QtOngmlvtP68flMfJ6vA/cHz3tZX27j8T6Kg7nhDwPznqCMFM//A/wFuHAXQ18T83J/cNxVTxP8mOrL5GgO8/bvzCxEwt8j8d32AmVGvyP4aFUzyYF/I/4CGkCUlS8D99z59vbpToPwiG85Ihiec/1Hok9q976D/HX7oxyXjmP39raDYzjus/pys6OClW7z+sVFVwXMPwP5M0aFa6MvM/gzUJIQEC9D8NtW/CE/7yP9VhQ/p4ZfY/BKsKTcu89D8erqN49hTwP5hl5/Biwec/hqV8YQY04j9eUZWJeD/lP+G890UY9OY/iN3sketO6j9crXbSkVTwP2KFSILMZfI/k7H+D+Jp9D/c41cAvOz0Pw==",
          "dtype": "f8"
         },
         "yaxis": "y4"
        },
        {
         "hovertemplate": "component=model_result<br>model=additive<br>month=%{x}<br>value=%{y}<extra></extra>",
         "legendgroup": "model_result",
         "line": {
          "color": "#FFA15A",
          "dash": "solid"
         },
         "marker": {
          "symbol": "circle"
         },
         "mode": "lines",
         "name": "model_result",
         "orientation": "v",
         "showlegend": true,
         "type": "scatter",
         "x": [
          "2019-06-23T00:00:00-07:00",
          "2019-07-21T00:00:00-07:00",
          "2019-08-18T00:00:00-07:00",
          "2019-09-15T00:00:00-07:00",
          "2019-10-13T00:00:00-07:00",
          "2019-11-10T00:00:00-07:00",
          "2019-12-08T00:00:00-07:00",
          "2020-01-05T00:00:00-07:00",
          "2020-02-02T00:00:00-07:00",
          "2020-03-01T00:00:00-07:00",
          "2020-03-29T00:00:00-07:00",
          "2020-04-26T00:00:00-07:00",
          "2020-05-24T00:00:00-07:00",
          "2020-06-21T00:00:00-07:00",
          "2020-07-19T00:00:00-07:00",
          "2020-08-16T00:00:00-07:00",
          "2020-09-13T00:00:00-07:00",
          "2020-10-11T00:00:00-07:00",
          "2020-11-08T00:00:00-07:00",
          "2020-12-06T00:00:00-07:00",
          "2021-01-03T00:00:00-07:00",
          "2021-01-31T00:00:00-07:00",
          "2021-02-28T00:00:00-07:00",
          "2021-03-28T00:00:00-07:00",
          "2021-04-25T00:00:00-07:00",
          "2021-05-23T00:00:00-07:00",
          "2021-06-20T00:00:00-07:00",
          "2021-07-18T00:00:00-07:00",
          "2021-08-15T00:00:00-07:00",
          "2021-09-12T00:00:00-07:00",
          "2021-10-10T00:00:00-07:00",
          "2021-11-07T00:00:00-07:00",
          "2021-12-05T00:00:00-07:00",
          "2022-01-02T00:00:00-07:00",
          "2022-01-30T00:00:00-07:00",
          "2022-02-27T00:00:00-07:00",
          "2022-03-27T00:00:00-07:00",
          "2022-04-24T00:00:00-07:00",
          "2022-05-22T00:00:00-07:00",
          "2022-06-19T00:00:00-07:00",
          "2022-07-17T00:00:00-07:00",
          "2022-08-14T00:00:00-07:00",
          "2022-09-11T00:00:00-07:00",
          "2022-10-09T00:00:00-07:00",
          "2022-11-06T00:00:00-07:00",
          "2022-12-04T00:00:00-07:00",
          "2023-01-01T00:00:00-07:00",
          "2023-01-29T00:00:00-07:00",
          "2023-02-26T00:00:00-07:00",
          "2023-03-26T00:00:00-07:00",
          "2023-04-23T00:00:00-07:00",
          "2023-05-21T00:00:00-07:00",
          "2023-06-18T00:00:00-07:00",
          "2023-07-16T00:00:00-07:00",
          "2023-08-13T00:00:00-07:00",
          "2023-09-10T00:00:00-07:00",
          "2023-10-08T00:00:00-07:00",
          "2023-11-05T00:00:00-07:00",
          "2023-12-03T00:00:00-07:00",
          "2023-12-31T00:00:00-07:00",
          "2024-01-28T00:00:00-07:00",
          "2024-02-25T00:00:00-07:00",
          "2024-03-24T00:00:00-07:00",
          "2024-04-21T00:00:00-07:00",
          "2024-05-19T00:00:00-07:00",
          "2024-06-16T00:00:00-07:00",
          "2024-07-14T00:00:00-07:00",
          "2024-08-11T00:00:00-07:00"
         ],
         "xaxis": "x",
         "y": {
          "bdata": "q6qqqnr2skCSJEmSXAu0QM/zPM/T6rFAAAAAALBxsUDDMAzDsMKxQPQ8z/NsxalAq6qqqgotnUBjGIZhWDieQFVVVVV1WKJAxDAMwyCeqECGYRiGce6nQHqe53lOWq1AMQzDMPQ2skCSJEmSFPGyQJIkSZJE4LRAkiRJkgSvs0A9z/M8n9auQKyqqqrKM61AhmEYhtG9qEAAAAAAQK2nQMMwDMNAGKJAbtu2besepEBiGIZhmF6sQLdt27a9bq9Abtu2bcOCtECrqqqqwuy0QM/zPM8TKrZAt23btuX+tEA9z/M8r5+zQJIkSZI0irNAhmEYhkE3sEAMwzAMg0atQBiGYRjWNahADMMwDANxoECsqqqqKvOnQMMwDMMgUK5AYhiGYRC0sUCrqqqqOqWzQGIYhmFYFrdAkiRJkkyPuEBiGIZhOAi5QBiGYRjOP7VAt23bts3PtEAYhmEYHoSzQAAAAADA3a9AuG3btn1nqkBWVVVVJfWjQJIkSZJE5KRAPs/zPC/vq0Dctm3bFi+rQMMwDMNAf7JAnud5nuc/tkC3bdu25X+4QLdt27bV+rpAbtu2bQtLuEAMwzAME8i1QKyqqqoS67VAt23btr3nskCsqqqqWs+tQJ7neZ5XGKhAuG3btv2dp0AmSZIkmYutQBiGYRhW3rFAMQzDMLSytUDP8zzPe727QIZhGIa5Kr5ArKqqqjpKvUBJkiRJIpy8QA==",
          "dtype": "f8"
         },
         "yaxis": "y"
        },
        {
         "hovertemplate": "component=model_result<br>model=multiplicative<br>month=%{x}<br>value=%{y}<extra></extra>",
         "legendgroup": "model_result",
         "line": {
          "color": "#FFA15A",
          "dash": "solid"
         },
         "marker": {
          "symbol": "circle"
         },
         "mode": "lines",
         "name": "model_result",
         "orientation": "v",
         "showlegend": false,
         "type": "scatter",
         "x": [
          "2019-06-23T00:00:00-07:00",
          "2019-07-21T00:00:00-07:00",
          "2019-08-18T00:00:00-07:00",
          "2019-09-15T00:00:00-07:00",
          "2019-10-13T00:00:00-07:00",
          "2019-11-10T00:00:00-07:00",
          "2019-12-08T00:00:00-07:00",
          "2020-01-05T00:00:00-07:00",
          "2020-02-02T00:00:00-07:00",
          "2020-03-01T00:00:00-07:00",
          "2020-03-29T00:00:00-07:00",
          "2020-04-26T00:00:00-07:00",
          "2020-05-24T00:00:00-07:00",
          "2020-06-21T00:00:00-07:00",
          "2020-07-19T00:00:00-07:00",
          "2020-08-16T00:00:00-07:00",
          "2020-09-13T00:00:00-07:00",
          "2020-10-11T00:00:00-07:00",
          "2020-11-08T00:00:00-07:00",
          "2020-12-06T00:00:00-07:00",
          "2021-01-03T00:00:00-07:00",
          "2021-01-31T00:00:00-07:00",
          "2021-02-28T00:00:00-07:00",
          "2021-03-28T00:00:00-07:00",
          "2021-04-25T00:00:00-07:00",
          "2021-05-23T00:00:00-07:00",
          "2021-06-20T00:00:00-07:00",
          "2021-07-18T00:00:00-07:00",
          "2021-08-15T00:00:00-07:00",
          "2021-09-12T00:00:00-07:00",
          "2021-10-10T00:00:00-07:00",
          "2021-11-07T00:00:00-07:00",
          "2021-12-05T00:00:00-07:00",
          "2022-01-02T00:00:00-07:00",
          "2022-01-30T00:00:00-07:00",
          "2022-02-27T00:00:00-07:00",
          "2022-03-27T00:00:00-07:00",
          "2022-04-24T00:00:00-07:00",
          "2022-05-22T00:00:00-07:00",
          "2022-06-19T00:00:00-07:00",
          "2022-07-17T00:00:00-07:00",
          "2022-08-14T00:00:00-07:00",
          "2022-09-11T00:00:00-07:00",
          "2022-10-09T00:00:00-07:00",
          "2022-11-06T00:00:00-07:00",
          "2022-12-04T00:00:00-07:00",
          "2023-01-01T00:00:00-07:00",
          "2023-01-29T00:00:00-07:00",
          "2023-02-26T00:00:00-07:00",
          "2023-03-26T00:00:00-07:00",
          "2023-04-23T00:00:00-07:00",
          "2023-05-21T00:00:00-07:00",
          "2023-06-18T00:00:00-07:00",
          "2023-07-16T00:00:00-07:00",
          "2023-08-13T00:00:00-07:00",
          "2023-09-10T00:00:00-07:00",
          "2023-10-08T00:00:00-07:00",
          "2023-11-05T00:00:00-07:00",
          "2023-12-03T00:00:00-07:00",
          "2023-12-31T00:00:00-07:00",
          "2024-01-28T00:00:00-07:00",
          "2024-02-25T00:00:00-07:00",
          "2024-03-24T00:00:00-07:00",
          "2024-04-21T00:00:00-07:00",
          "2024-05-19T00:00:00-07:00",
          "2024-06-16T00:00:00-07:00",
          "2024-07-14T00:00:00-07:00",
          "2024-08-11T00:00:00-07:00"
         ],
         "xaxis": "x2",
         "y": {
          "bdata": "rKqqqnr2skCSJEmSXAu0QM7zPM/T6rFAAAAAALBxsUDDMAzDsMKxQPQ8z/NsxalAq6qqqgotnUBiGIZhWDieQFZVVVV1WKJAwzAMwyCeqECGYRiGce6nQHqe53lOWq1AMQzDMPQ2skCTJEmSFPGyQJIkSZJE4LRAkiRJkgSvs0A+z/M8n9auQKyqqqrKM61AhmEYhtG9qEAAAAAAQK2nQMIwDMNAGKJAbtu2besepEBjGIZhmF6sQLZt27a9bq9Abtu2bcOCtECrqqqqwuy0QM7zPM8TKrZAt23btuX+tEA8z/M8r5+zQJMkSZI0irNAhWEYhkE3sEALwzAMg0atQBiGYRjWNahADMMwDANxoECrqqqqKvOnQMMwDMMgUK5AYhiGYRC0sUCrqqqqOqWzQGEYhmFYFrdAkiRJkkyPuEBjGIZhOAi5QBiGYRjOP7VAt23bts3PtEAXhmEYHoSzQAEAAADA3a9Atm3btn1nqkBVVVVVJfWjQJMkSZJE5KRAPM/zPC/vq0Dctm3bFi+rQMMwDMNAf7JAn+d5nuc/tkC3bdu25X+4QLht27bV+rpAbdu2bQtLuEANwzAME8i1QKyqqqoS67VAuG3btr3nskCsqqqqWs+tQJ7neZ5XGKhAtm3btv2dp0AlSZIkmYutQBiGYRhW3rFAMQzDMLSytUDP8zzPe727QIZhGIa5Kr5Aq6qqqjpKvUBKkiRJIpy8QA==",
          "dtype": "f8"
         },
         "yaxis": "y2"
        }
       ],
       "layout": {
        "annotations": [
         {
          "font": {},
          "showarrow": false,
          "text": "model=additive",
          "x": 0.22,
          "xanchor": "center",
          "xref": "paper",
          "y": 1,
          "yanchor": "bottom",
          "yref": "paper"
         },
         {
          "font": {},
          "showarrow": false,
          "text": "model=multiplicative",
          "x": 0.76,
          "xanchor": "center",
          "xref": "paper",
          "y": 1,
          "yanchor": "bottom",
          "yref": "paper"
         },
         {
          "font": {},
          "showarrow": false,
          "text": "component=model_result",
          "textangle": 90,
          "x": 0.98,
          "xanchor": "left",
          "xref": "paper",
          "y": 0.08800000000000001,
          "yanchor": "middle",
          "yref": "paper"
         },
         {
          "font": {},
          "showarrow": false,
          "text": "component=residual",
          "textangle": 90,
          "x": 0.98,
          "xanchor": "left",
          "xref": "paper",
          "y": 0.29400000000000004,
          "yanchor": "middle",
          "yref": "paper"
         },
         {
          "font": {},
          "showarrow": false,
          "text": "component=seasonal",
          "textangle": 90,
          "x": 0.98,
          "xanchor": "left",
          "xref": "paper",
          "y": 0.5,
          "yanchor": "middle",
          "yref": "paper"
         },
         {
          "font": {},
          "showarrow": false,
          "text": "component=trend",
          "textangle": 90,
          "x": 0.98,
          "xanchor": "left",
          "xref": "paper",
          "y": 0.706,
          "yanchor": "middle",
          "yref": "paper"
         },
         {
          "font": {},
          "showarrow": false,
          "text": "component=values",
          "textangle": 90,
          "x": 0.98,
          "xanchor": "left",
          "xref": "paper",
          "y": 0.912,
          "yanchor": "middle",
          "yref": "paper"
         }
        ],
        "height": 1000,
        "legend": {
         "title": {
          "text": "component"
         },
         "tracegroupgap": 0
        },
        "margin": {
         "t": 60
        },
        "template": {
         "data": {
          "bar": [
           {
            "error_x": {
             "color": "#f2f5fa"
            },
            "error_y": {
             "color": "#f2f5fa"
            },
            "marker": {
             "line": {
              "color": "rgb(17,17,17)",
              "width": 0.5
             },
             "pattern": {
              "fillmode": "overlay",
              "size": 10,
              "solidity": 0.2
             }
            },
            "type": "bar"
           }
          ],
          "barpolar": [
           {
            "marker": {
             "line": {
              "color": "rgb(17,17,17)",
              "width": 0.5
             },
             "pattern": {
              "fillmode": "overlay",
              "size": 10,
              "solidity": 0.2
             }
            },
            "type": "barpolar"
           }
          ],
          "carpet": [
           {
            "aaxis": {
             "endlinecolor": "#A2B1C6",
             "gridcolor": "#506784",
             "linecolor": "#506784",
             "minorgridcolor": "#506784",
             "startlinecolor": "#A2B1C6"
            },
            "baxis": {
             "endlinecolor": "#A2B1C6",
             "gridcolor": "#506784",
             "linecolor": "#506784",
             "minorgridcolor": "#506784",
             "startlinecolor": "#A2B1C6"
            },
            "type": "carpet"
           }
          ],
          "choropleth": [
           {
            "colorbar": {
             "outlinewidth": 0,
             "ticks": ""
            },
            "type": "choropleth"
           }
          ],
          "contour": [
           {
            "colorbar": {
             "outlinewidth": 0,
             "ticks": ""
            },
            "colorscale": [
             [
              0,
              "#0d0887"
             ],
             [
              0.1111111111111111,
              "#46039f"
             ],
             [
              0.2222222222222222,
              "#7201a8"
             ],
             [
              0.3333333333333333,
              "#9c179e"
             ],
             [
              0.4444444444444444,
              "#bd3786"
             ],
             [
              0.5555555555555556,
              "#d8576b"
             ],
             [
              0.6666666666666666,
              "#ed7953"
             ],
             [
              0.7777777777777778,
              "#fb9f3a"
             ],
             [
              0.8888888888888888,
              "#fdca26"
             ],
             [
              1,
              "#f0f921"
             ]
            ],
            "type": "contour"
           }
          ],
          "contourcarpet": [
           {
            "colorbar": {
             "outlinewidth": 0,
             "ticks": ""
            },
            "type": "contourcarpet"
           }
          ],
          "heatmap": [
           {
            "colorbar": {
             "outlinewidth": 0,
             "ticks": ""
            },
            "colorscale": [
             [
              0,
              "#0d0887"
             ],
             [
              0.1111111111111111,
              "#46039f"
             ],
             [
              0.2222222222222222,
              "#7201a8"
             ],
             [
              0.3333333333333333,
              "#9c179e"
             ],
             [
              0.4444444444444444,
              "#bd3786"
             ],
             [
              0.5555555555555556,
              "#d8576b"
             ],
             [
              0.6666666666666666,
              "#ed7953"
             ],
             [
              0.7777777777777778,
              "#fb9f3a"
             ],
             [
              0.8888888888888888,
              "#fdca26"
             ],
             [
              1,
              "#f0f921"
             ]
            ],
            "type": "heatmap"
           }
          ],
          "histogram": [
           {
            "marker": {
             "pattern": {
              "fillmode": "overlay",
              "size": 10,
              "solidity": 0.2
             }
            },
            "type": "histogram"
           }
          ],
          "histogram2d": [
           {
            "colorbar": {
             "outlinewidth": 0,
             "ticks": ""
            },
            "colorscale": [
             [
              0,
              "#0d0887"
             ],
             [
              0.1111111111111111,
              "#46039f"
             ],
             [
              0.2222222222222222,
              "#7201a8"
             ],
             [
              0.3333333333333333,
              "#9c179e"
             ],
             [
              0.4444444444444444,
              "#bd3786"
             ],
             [
              0.5555555555555556,
              "#d8576b"
             ],
             [
              0.6666666666666666,
              "#ed7953"
             ],
             [
              0.7777777777777778,
              "#fb9f3a"
             ],
             [
              0.8888888888888888,
              "#fdca26"
             ],
             [
              1,
              "#f0f921"
             ]
            ],
            "type": "histogram2d"
           }
          ],
          "histogram2dcontour": [
           {
            "colorbar": {
             "outlinewidth": 0,
             "ticks": ""
            },
            "colorscale": [
             [
              0,
              "#0d0887"
             ],
             [
              0.1111111111111111,
              "#46039f"
             ],
             [
              0.2222222222222222,
              "#7201a8"
             ],
             [
              0.3333333333333333,
              "#9c179e"
             ],
             [
              0.4444444444444444,
              "#bd3786"
             ],
             [
              0.5555555555555556,
              "#d8576b"
             ],
             [
              0.6666666666666666,
              "#ed7953"
             ],
             [
              0.7777777777777778,
              "#fb9f3a"
             ],
             [
              0.8888888888888888,
              "#fdca26"
             ],
             [
              1,
              "#f0f921"
             ]
            ],
            "type": "histogram2dcontour"
           }
          ],
          "mesh3d": [
           {
            "colorbar": {
             "outlinewidth": 0,
             "ticks": ""
            },
            "type": "mesh3d"
           }
          ],
          "parcoords": [
           {
            "line": {
             "colorbar": {
              "outlinewidth": 0,
              "ticks": ""
             }
            },
            "type": "parcoords"
           }
          ],
          "pie": [
           {
            "automargin": true,
            "type": "pie"
           }
          ],
          "scatter": [
           {
            "marker": {
             "line": {
              "color": "#283442"
             }
            },
            "type": "scatter"
           }
          ],
          "scatter3d": [
           {
            "line": {
             "colorbar": {
              "outlinewidth": 0,
              "ticks": ""
             }
            },
            "marker": {
             "colorbar": {
              "outlinewidth": 0,
              "ticks": ""
             }
            },
            "type": "scatter3d"
           }
          ],
          "scattercarpet": [
           {
            "marker": {
             "colorbar": {
              "outlinewidth": 0,
              "ticks": ""
             }
            },
            "type": "scattercarpet"
           }
          ],
          "scattergeo": [
           {
            "marker": {
             "colorbar": {
              "outlinewidth": 0,
              "ticks": ""
             }
            },
            "type": "scattergeo"
           }
          ],
          "scattergl": [
           {
            "marker": {
             "line": {
              "color": "#283442"
             }
            },
            "type": "scattergl"
           }
          ],
          "scattermap": [
           {
            "marker": {
             "colorbar": {
              "outlinewidth": 0,
              "ticks": ""
             }
            },
            "type": "scattermap"
           }
          ],
          "scattermapbox": [
           {
            "marker": {
             "colorbar": {
              "outlinewidth": 0,
              "ticks": ""
             }
            },
            "type": "scattermapbox"
           }
          ],
          "scatterpolar": [
           {
            "marker": {
             "colorbar": {
              "outlinewidth": 0,
              "ticks": ""
             }
            },
            "type": "scatterpolar"
           }
          ],
          "scatterpolargl": [
           {
            "marker": {
             "colorbar": {
              "outlinewidth": 0,
              "ticks": ""
             }
            },
            "type": "scatterpolargl"
           }
          ],
          "scatterternary": [
           {
            "marker": {
             "colorbar": {
              "outlinewidth": 0,
              "ticks": ""
             }
            },
            "type": "scatterternary"
           }
          ],
          "surface": [
           {
            "colorbar": {
             "outlinewidth": 0,
             "ticks": ""
            },
            "colorscale": [
             [
              0,
              "#0d0887"
             ],
             [
              0.1111111111111111,
              "#46039f"
             ],
             [
              0.2222222222222222,
              "#7201a8"
             ],
             [
              0.3333333333333333,
              "#9c179e"
             ],
             [
              0.4444444444444444,
              "#bd3786"
             ],
             [
              0.5555555555555556,
              "#d8576b"
             ],
             [
              0.6666666666666666,
              "#ed7953"
             ],
             [
              0.7777777777777778,
              "#fb9f3a"
             ],
             [
              0.8888888888888888,
              "#fdca26"
             ],
             [
              1,
              "#f0f921"
             ]
            ],
            "type": "surface"
           }
          ],
          "table": [
           {
            "cells": {
             "fill": {
              "color": "#506784"
             },
             "line": {
              "color": "rgb(17,17,17)"
             }
            },
            "header": {
             "fill": {
              "color": "#2a3f5f"
             },
             "line": {
              "color": "rgb(17,17,17)"
             }
            },
            "type": "table"
           }
          ]
         },
         "layout": {
          "annotationdefaults": {
           "arrowcolor": "#f2f5fa",
           "arrowhead": 0,
           "arrowwidth": 1
          },
          "autosize": false,
          "autotypenumbers": "strict",
          "coloraxis": {
           "colorbar": {
            "outlinewidth": 0,
            "ticks": ""
           }
          },
          "colorscale": {
           "diverging": [
            [
             0,
             "#8e0152"
            ],
            [
             0.1,
             "#c51b7d"
            ],
            [
             0.2,
             "#de77ae"
            ],
            [
             0.3,
             "#f1b6da"
            ],
            [
             0.4,
             "#fde0ef"
            ],
            [
             0.5,
             "#f7f7f7"
            ],
            [
             0.6,
             "#e6f5d0"
            ],
            [
             0.7,
             "#b8e186"
            ],
            [
             0.8,
             "#7fbc41"
            ],
            [
             0.9,
             "#4d9221"
            ],
            [
             1,
             "#276419"
            ]
           ],
           "sequential": [
            [
             0,
             "#0d0887"
            ],
            [
             0.1111111111111111,
             "#46039f"
            ],
            [
             0.2222222222222222,
             "#7201a8"
            ],
            [
             0.3333333333333333,
             "#9c179e"
            ],
            [
             0.4444444444444444,
             "#bd3786"
            ],
            [
             0.5555555555555556,
             "#d8576b"
            ],
            [
             0.6666666666666666,
             "#ed7953"
            ],
            [
             0.7777777777777778,
             "#fb9f3a"
            ],
            [
             0.8888888888888888,
             "#fdca26"
            ],
            [
             1,
             "#f0f921"
            ]
           ],
           "sequentialminus": [
            [
             0,
             "#0d0887"
            ],
            [
             0.1111111111111111,
             "#46039f"
            ],
            [
             0.2222222222222222,
             "#7201a8"
            ],
            [
             0.3333333333333333,
             "#9c179e"
            ],
            [
             0.4444444444444444,
             "#bd3786"
            ],
            [
             0.5555555555555556,
             "#d8576b"
            ],
            [
             0.6666666666666666,
             "#ed7953"
            ],
            [
             0.7777777777777778,
             "#fb9f3a"
            ],
            [
             0.8888888888888888,
             "#fdca26"
            ],
            [
             1,
             "#f0f921"
            ]
           ]
          },
          "colorway": [
           "#636efa",
           "#EF553B",
           "#00cc96",
           "#ab63fa",
           "#FFA15A",
           "#19d3f3",
           "#FF6692",
           "#B6E880",
           "#FF97FF",
           "#FECB52"
          ],
          "font": {
           "color": "#f2f5fa"
          },
          "geo": {
           "bgcolor": "rgb(17,17,17)",
           "lakecolor": "rgb(17,17,17)",
           "landcolor": "rgb(17,17,17)",
           "showlakes": true,
           "showland": true,
           "subunitcolor": "#506784"
          },
          "height": 500,
          "hoverlabel": {
           "align": "left"
          },
          "hovermode": "closest",
          "mapbox": {
           "style": "dark"
          },
          "paper_bgcolor": "rgb(17,17,17)",
          "plot_bgcolor": "rgb(17,17,17)",
          "polar": {
           "angularaxis": {
            "gridcolor": "#506784",
            "linecolor": "#506784",
            "ticks": ""
           },
           "bgcolor": "rgb(17,17,17)",
           "radialaxis": {
            "gridcolor": "#506784",
            "linecolor": "#506784",
            "ticks": ""
           }
          },
          "scene": {
           "xaxis": {
            "backgroundcolor": "rgb(17,17,17)",
            "gridcolor": "#506784",
            "gridwidth": 2,
            "linecolor": "#506784",
            "showbackground": true,
            "ticks": "",
            "zerolinecolor": "#C8D4E3"
           },
           "yaxis": {
            "backgroundcolor": "rgb(17,17,17)",
            "gridcolor": "#506784",
            "gridwidth": 2,
            "linecolor": "#506784",
            "showbackground": true,
            "ticks": "",
            "zerolinecolor": "#C8D4E3"
           },
           "zaxis": {
            "backgroundcolor": "rgb(17,17,17)",
            "gridcolor": "#506784",
            "gridwidth": 2,
            "linecolor": "#506784",
            "showbackground": true,
            "ticks": "",
            "zerolinecolor": "#C8D4E3"
           }
          },
          "shapedefaults": {
           "line": {
            "color": "#f2f5fa"
           }
          },
          "showlegend": true,
          "sliderdefaults": {
           "bgcolor": "#C8D4E3",
           "bordercolor": "rgb(17,17,17)",
           "borderwidth": 1,
           "tickwidth": 0
          },
          "ternary": {
           "aaxis": {
            "gridcolor": "#506784",
            "linecolor": "#506784",
            "ticks": ""
           },
           "baxis": {
            "gridcolor": "#506784",
            "linecolor": "#506784",
            "ticks": ""
           },
           "bgcolor": "rgb(17,17,17)",
           "caxis": {
            "gridcolor": "#506784",
            "linecolor": "#506784",
            "ticks": ""
           }
          },
          "title": {
           "x": 0.05
          },
          "updatemenudefaults": {
           "bgcolor": "#506784",
           "borderwidth": 0
          },
          "width": 1000,
          "xaxis": {
           "automargin": true,
           "gridcolor": "#283442",
           "linecolor": "#506784",
           "ticks": "",
           "title": {
            "standoff": 15
           },
           "zerolinecolor": "#283442",
           "zerolinewidth": 2
          },
          "yaxis": {
           "automargin": true,
           "gridcolor": "#283442",
           "linecolor": "#506784",
           "ticks": "",
           "title": {
            "standoff": 15
           },
           "zerolinecolor": "#283442",
           "zerolinewidth": 2
          }
         }
        },
        "width": 1500,
        "xaxis": {
         "anchor": "y",
         "domain": [
          0,
          0.44
         ],
         "title": {
          "text": "month"
         }
        },
        "xaxis10": {
         "anchor": "y10",
         "domain": [
          0.54,
          0.98
         ],
         "matches": "x",
         "showticklabels": false
        },
        "xaxis2": {
         "anchor": "y2",
         "domain": [
          0.54,
          0.98
         ],
         "matches": "x",
         "title": {
          "text": "month"
         }
        },
        "xaxis3": {
         "anchor": "y3",
         "domain": [
          0,
          0.44
         ],
         "matches": "x",
         "showticklabels": false
        },
        "xaxis4": {
         "anchor": "y4",
         "domain": [
          0.54,
          0.98
         ],
         "matches": "x",
         "showticklabels": false
        },
        "xaxis5": {
         "anchor": "y5",
         "domain": [
          0,
          0.44
         ],
         "matches": "x",
         "showticklabels": false
        },
        "xaxis6": {
         "anchor": "y6",
         "domain": [
          0.54,
          0.98
         ],
         "matches": "x",
         "showticklabels": false
        },
        "xaxis7": {
         "anchor": "y7",
         "domain": [
          0,
          0.44
         ],
         "matches": "x",
         "showticklabels": false
        },
        "xaxis8": {
         "anchor": "y8",
         "domain": [
          0.54,
          0.98
         ],
         "matches": "x",
         "showticklabels": false
        },
        "xaxis9": {
         "anchor": "y9",
         "domain": [
          0,
          0.44
         ],
         "matches": "x",
         "showticklabels": false
        },
        "yaxis": {
         "anchor": "x",
         "domain": [
          0,
          0.17600000000000002
         ],
         "showticklabels": true,
         "title": {
          "text": "value"
         }
        },
        "yaxis10": {
         "anchor": "x10",
         "domain": [
          0.8240000000000001,
          1
         ],
         "showticklabels": true
        },
        "yaxis2": {
         "anchor": "x2",
         "domain": [
          0,
          0.17600000000000002
         ],
         "showticklabels": true
        },
        "yaxis3": {
         "anchor": "x3",
         "domain": [
          0.20600000000000002,
          0.382
         ],
         "showticklabels": true,
         "title": {
          "text": "value"
         }
        },
        "yaxis4": {
         "anchor": "x4",
         "domain": [
          0.20600000000000002,
          0.382
         ],
         "showticklabels": true
        },
        "yaxis5": {
         "anchor": "x5",
         "domain": [
          0.41200000000000003,
          0.5880000000000001
         ],
         "showticklabels": true,
         "title": {
          "text": "value"
         }
        },
        "yaxis6": {
         "anchor": "x6",
         "domain": [
          0.41200000000000003,
          0.5880000000000001
         ],
         "showticklabels": true
        },
        "yaxis7": {
         "anchor": "x7",
         "domain": [
          0.618,
          0.794
         ],
         "showticklabels": true,
         "title": {
          "text": "value"
         }
        },
        "yaxis8": {
         "anchor": "x8",
         "domain": [
          0.618,
          0.794
         ],
         "showticklabels": true
        },
        "yaxis9": {
         "anchor": "x9",
         "domain": [
          0.8240000000000001,
          1
         ],
         "showticklabels": true,
         "title": {
          "text": "value"
         }
        }
       }
      }
     },
     "metadata": {},
     "output_type": "display_data"
    }
   ],
   "source": [
    "import plotly.express as px\n",
    "\n",
    "fig = px.line(\n",
    "    data_frame=df,\n",
    "    x='month',\n",
    "    y='value',\n",
    "    color='component',\n",
    "    facet_col='model',\n",
    "    facet_row='component',\n",
    "    width=1500,\n",
    "    height=1000,\n",
    "    facet_col_spacing=0.1,\n",
    ")\n",
    "\n",
    "fig.update_yaxes(matches=None)\n",
    "\n",
    "for attr in dir(fig.layout):\n",
    "    if attr.startswith(\"yaxis\"):\n",
    "        axis = getattr(fig.layout, attr)\n",
    "        if axis:\n",
    "            axis.showticklabels = True\n",
    "        \n",
    "fig"
   ]
  },
  {
   "cell_type": "markdown",
   "id": "9e0ac198",
   "metadata": {},
   "source": [
    "## Interpretation \n",
    "\n",
    "https://chatgpt.com/c/680a1854-fe68-800c-9642-8544ba7e471b"
   ]
  },
  {
   "cell_type": "markdown",
   "id": "66b4d5a3",
   "metadata": {},
   "source": [
    "Use **additive** or **multiplicative** decomposition based on how the seasonal fluctuations behave relative to the trend:\n",
    "\n",
    "---\n",
    "\n",
    "### ✅ Use **additive** when:\n",
    "- The **magnitude** of seasonal changes stays **constant** over time.\n",
    "- The seasonal pattern does **not scale** with the trend.\n",
    "- Example: sales increase over time, but holiday peaks remain around +20 units consistently.\n",
    "\n",
    "### ✅ Use **multiplicative** when:\n",
    "- The **magnitude** of seasonality **grows or shrinks** with the trend.\n",
    "- The seasonal pattern **scales proportionally** to the level of the series.\n",
    "- Example: if overall sales double, holiday peaks also double.\n",
    "\n",
    "---\n",
    "\n",
    "### Quick visual test:\n",
    "- If your seasonal component has **roughly equal amplitude** throughout → **additive**.\n",
    "- If your seasonal component’s **amplitude increases or decreases with the trend** → **multiplicative**.\n",
    "\n",
    "---\n",
    "\n",
    "Looking at your plot:\n",
    "- The **seasonal amplitude** for the `values` series seems to **increase** over time (especially right side).\n",
    "- So, the **multiplicative model** is likely the better fit.\n",
    "\n",
    "Let me know if you want to formally test this or visualize diagnostics."
   ]
  },
  {
   "cell_type": "markdown",
   "id": "d93db69e",
   "metadata": {},
   "source": [
    "Based on the decomposition plots and assuming this is airline passenger data (which it looks like), here are the **key insights** and **meaningful conclusions** you can derive:\n",
    "\n",
    "---\n",
    "\n",
    "### 📈 **1. Strong Upward Trend**\n",
    "- Both additive and multiplicative models show a **clear long-term increase** in passengers over time.\n",
    "- This suggests **growing demand** for air travel during the period (likely 1949–1960).\n",
    "\n",
    "---\n",
    "\n",
    "### 🔁 **2. Clear Seasonality**\n",
    "- There is a **repeating seasonal pattern** every 12 months:\n",
    "  - Peaks in mid-year (e.g., summer travel).\n",
    "  - Troughs in early year (e.g., January).\n",
    "- This regular pattern can be used for **forecasting** future seasonality.\n",
    "\n",
    "---\n",
    "\n",
    "### 📊 **3. Additive vs. Multiplicative**\n",
    "- In the **additive model**, seasonal effects are **constant in magnitude**.\n",
    "- In the **multiplicative model**, seasonal effects **grow with the trend**.\n",
    "- Visually, the **multiplicative model better fits** the growing amplitude of the original data, especially toward the end of the series.\n",
    "\n",
    "---\n",
    "\n",
    "### 📉 **4. Residuals Show Model Fit**\n",
    "- Residuals in the **multiplicative model are tighter** and more stable, especially in later years where the additive model leaves large unexplained spikes.\n",
    "- This suggests the **multiplicative model better captures the structure** of the data.\n",
    "\n",
    "---\n",
    "\n",
    "### 🎯 **5. Model Result Approximates the Original**\n",
    "- The final row (`model_result`) in the multiplicative model more closely follows the original `values` series — especially where the amplitude is higher.\n",
    "\n",
    "---\n",
    "\n",
    "### 🧠 Strategic conclusions:\n",
    "- **Forecasting models** (like Holt-Winters or SARIMA) should likely use a **multiplicative seasonal component** for this dataset.\n",
    "- This time series is driven by **long-term growth** and **scaling seasonal effects**, not just fixed monthly deviations.\n",
    "- **Residual diagnostics** (e.g., randomness, ACF) would help confirm this statistically.\n",
    "\n",
    "---\n",
    "\n",
    "Let me know if you want to formalize these conclusions into bullet points for a report or class presentation."
   ]
  }
 ],
 "metadata": {
  "kernelspec": {
   "display_name": "time-series",
   "language": "python",
   "name": "python3"
  },
  "language_info": {
   "codemirror_mode": {
    "name": "ipython",
    "version": 3
   },
   "file_extension": ".py",
   "mimetype": "text/x-python",
   "name": "python",
   "nbconvert_exporter": "python",
   "pygments_lexer": "ipython3",
   "version": "3.12.10"
  },
  "papermill": {
   "default_parameters": {},
   "duration": 3.406328,
   "end_time": "2024-05-29T22:25:24.014054",
   "environment_variables": {},
   "exception": null,
   "input_path": "/Users/sota/Library/CloudStorage/Dropbox/2 Business/1 Datons/2 Areas/Courses/22 TS/solutions-new/notebooks/20_Components/1_Components/1.ipynb",
   "output_path": "/Users/sota/Library/CloudStorage/Dropbox/2 Business/1 Datons/2 Areas/Courses/22 TS/solutions-new/notebooks/20_Components/1_Components/1.ipynb",
   "parameters": {},
   "start_time": "2024-05-29T22:25:20.607726",
   "version": "2.5.0"
  }
 },
 "nbformat": 4,
 "nbformat_minor": 5
}
