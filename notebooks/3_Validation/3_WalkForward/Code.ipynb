{
 "cells": [
  {
   "cell_type": "markdown",
   "metadata": {},
   "source": [
    "# Walk forward validation"
   ]
  },
  {
   "cell_type": "code",
   "execution_count": 1,
   "metadata": {},
   "outputs": [],
   "source": [
    "\n",
    "from modules import utils\n",
    "utils.configure_plotly_template(showlegend=True)"
   ]
  },
  {
   "cell_type": "markdown",
   "metadata": {},
   "source": [
    "## Load data"
   ]
  },
  {
   "cell_type": "code",
   "execution_count": null,
   "metadata": {},
   "outputs": [],
   "source": [
    "import pandas as pd\n",
    "\n",
    "df = pd.read_parquet('../../../data/UCIrvine/ElectricityLoadDiagrams20112014.parquet').asfreq('h').div(1_000)\n",
    "df.columns = ['values']\n",
    "\n",
    "df"
   ]
  },
  {
   "cell_type": "code",
   "execution_count": 3,
   "metadata": {},
   "outputs": [],
   "source": [
    "series = df['values'].copy()"
   ]
  },
  {
   "cell_type": "markdown",
   "metadata": {},
   "source": [
    "## Data stationarity"
   ]
  },
  {
   "cell_type": "markdown",
   "metadata": {},
   "source": [
    "#### Constant variance"
   ]
  },
  {
   "cell_type": "code",
   "execution_count": null,
   "metadata": {},
   "outputs": [],
   "source": [
    "from statsmodels.tsa.stattools import adfuller\n",
    "adfuller(df[\"values\"], maxlag=24)"
   ]
  },
  {
   "cell_type": "code",
   "execution_count": null,
   "metadata": {},
   "outputs": [],
   "source": [
    "import numpy as np\n",
    "\n",
    "df[\"values_log\"] = np.log(df[\"values\"])\n",
    "df = df.dropna()\n",
    "df"
   ]
  },
  {
   "cell_type": "code",
   "execution_count": null,
   "metadata": {},
   "outputs": [],
   "source": [
    "adfuller(df[\"values_log\"])"
   ]
  },
  {
   "cell_type": "code",
   "execution_count": null,
   "metadata": {},
   "outputs": [],
   "source": [
    "fig = df.plot(facet_col=\"variable\")\n",
    "fig.update_yaxes(matches=None)\n",
    "fig.update_layout()"
   ]
  },
  {
   "cell_type": "code",
   "execution_count": null,
   "metadata": {},
   "outputs": [],
   "source": [
    "PERIODS = 24\n",
    "\n",
    "utils.plot_decomposition_comparison(df[\"values_log\"], period=PERIODS)"
   ]
  },
  {
   "cell_type": "markdown",
   "metadata": {},
   "source": [
    "#### Constant mean"
   ]
  },
  {
   "cell_type": "code",
   "execution_count": null,
   "metadata": {},
   "outputs": [],
   "source": [
    "df['values_log_diff'] = df['values_log'].diff().dropna()\n",
    "df"
   ]
  },
  {
   "cell_type": "code",
   "execution_count": null,
   "metadata": {},
   "outputs": [],
   "source": [
    "df = df.dropna()\n",
    "df"
   ]
  },
  {
   "cell_type": "code",
   "execution_count": null,
   "metadata": {},
   "outputs": [],
   "source": [
    "fig = df.plot(facet_col=\"variable\")\n",
    "fig.update_yaxes(matches=None)\n",
    "fig.update_layout()"
   ]
  },
  {
   "cell_type": "code",
   "execution_count": null,
   "metadata": {},
   "outputs": [],
   "source": [
    "adfuller(df[\"values_log_diff\"], maxlag=24)"
   ]
  },
  {
   "cell_type": "markdown",
   "metadata": {},
   "source": [
    "## ACF & PACF\n"
   ]
  },
  {
   "cell_type": "code",
   "execution_count": 13,
   "metadata": {},
   "outputs": [],
   "source": [
    "COLUMN_VALUES = \"values\""
   ]
  },
  {
   "cell_type": "code",
   "execution_count": null,
   "metadata": {},
   "outputs": [],
   "source": [
    "x = df[COLUMN_VALUES]\n",
    "x"
   ]
  },
  {
   "cell_type": "code",
   "execution_count": 15,
   "metadata": {},
   "outputs": [],
   "source": [
    "from statsmodels.graphics.tsaplots import plot_acf, plot_pacf\n",
    "import matplotlib.pyplot as plt"
   ]
  },
  {
   "cell_type": "code",
   "execution_count": null,
   "metadata": {},
   "outputs": [],
   "source": [
    "LAGS = 2.1 * PERIODS\n",
    "\n",
    "fig, axes = plt.subplots(2, 1, figsize=(10, 6))\n",
    "\n",
    "plot_acf(x, ax=axes[0], lags=LAGS)\n",
    "axes[0].set_title(\"ACF of log-differenced series\")\n",
    "\n",
    "plot_pacf(x, ax=axes[1], lags=LAGS)\n",
    "axes[1].set_title(\"PACF of log-differenced series\")\n",
    "\n",
    "plt.tight_layout()\n",
    "plt.show()"
   ]
  },
  {
   "cell_type": "markdown",
   "metadata": {},
   "source": [
    "## Model comparison: SARIMA vs ETS vs Prophet"
   ]
  },
  {
   "cell_type": "code",
   "execution_count": 17,
   "metadata": {},
   "outputs": [],
   "source": [
    "from sklearn.model_selection import TimeSeriesSplit"
   ]
  },
  {
   "cell_type": "markdown",
   "metadata": {},
   "source": [
    "### Experiment configuration"
   ]
  },
  {
   "cell_type": "code",
   "execution_count": 18,
   "metadata": {},
   "outputs": [],
   "source": [
    "horizon = 24\n",
    "tsv = TimeSeriesSplit(test_size=horizon, max_train_size=horizon*365*3)"
   ]
  },
  {
   "cell_type": "code",
   "execution_count": null,
   "metadata": {},
   "outputs": [],
   "source": [
    "configs = {\n",
    "    'sarima': {\n",
    "        'model_params': {\n",
    "            'order': (1, 0, 1),\n",
    "            'seasonal_order': (1, 1, 0, 24),\n",
    "            'enforce_stationarity': False,\n",
    "            'enforce_invertibility': False,\n",
    "        },\n",
    "        'log_transform': False,\n",
    "    },\n",
    "    'ets': {\n",
    "        'model_params': {\n",
    "            'trend': 'add',\n",
    "            'seasonal': 'add',\n",
    "            'seasonal_periods': 24,\n",
    "        },\n",
    "        'log_transform': False,\n",
    "    },\n",
    "    'prophet': {\n",
    "        'model_params': {\n",
    "            'seasonality_mode': 'additive',\n",
    "            'daily_seasonality': True,\n",
    "        },\n",
    "        'log_transform': False,\n",
    "    },\n",
    "}\n",
    "\n",
    "configs"
   ]
  },
  {
   "cell_type": "code",
   "execution_count": 20,
   "metadata": {},
   "outputs": [],
   "source": [
    "from sklearn.metrics import root_mean_squared_error, mean_absolute_error, mean_absolute_percentage_error\n",
    "\n",
    "metrics = {\n",
    "    'rmse': root_mean_squared_error,\n",
    "    'mae': mean_absolute_error,\n",
    "    'mape': mean_absolute_percentage_error\n",
    "}"
   ]
  },
  {
   "cell_type": "markdown",
   "metadata": {},
   "source": [
    "### Run experiment with all models"
   ]
  },
  {
   "cell_type": "code",
   "execution_count": null,
   "metadata": {},
   "outputs": [],
   "source": [
    "p, d, q = order = (1, 0, 1)\n",
    "P, D, Q, s = seasonal_order = (1, 1, 0, 24)\n",
    "\n",
    "idx_offset = max(p + d + q, s * (P + D + Q))  # conservative offset\n",
    "idx_offset"
   ]
  },
  {
   "cell_type": "code",
   "execution_count": null,
   "metadata": {},
   "outputs": [],
   "source": [
    "from sklearn.metrics import root_mean_squared_error\n",
    "from modules.utils import TimeSeriesForecaster\n",
    "\n",
    "d_metrics = []\n",
    "d_forecasts = []\n",
    "\n",
    "x = series.copy()\n",
    "for fold, (train_idx, test_idx) in enumerate(tsv.split(series)):\n",
    "    \n",
    "    print(f\"Fold {fold + 1}\")\n",
    "    \n",
    "    x = x.tz_localize(None)\n",
    "    \n",
    "    data = {\n",
    "        'train': x.iloc[train_idx],\n",
    "        'test': x.iloc[test_idx],\n",
    "    }\n",
    "    \n",
    "    tf = TimeSeriesForecaster(train=data['train'], test=data['test'], freq=\"h\", idx_offset=idx_offset)\n",
    "    \n",
    "    df_forecast = tf.bulk_forecast(configs, metrics=metrics)\n",
    "    df_forecast['fold'] = fold\n",
    "    d_metrics.append(df_forecast)\n",
    "    \n",
    "    df_forecast = tf.combine_with_historical(df_forecast=df_forecast)\n",
    "    df_forecast['fold'] = fold\n",
    "    \n",
    "    d_forecasts.append(df_forecast)"
   ]
  },
  {
   "cell_type": "code",
   "execution_count": null,
   "metadata": {},
   "outputs": [],
   "source": [
    "d_metrics[0]"
   ]
  },
  {
   "cell_type": "code",
   "execution_count": null,
   "metadata": {},
   "outputs": [],
   "source": [
    "d_forecasts[0]"
   ]
  },
  {
   "cell_type": "markdown",
   "metadata": {},
   "source": [
    "### Visualize results"
   ]
  },
  {
   "cell_type": "markdown",
   "metadata": {},
   "source": [
    "#### Forecasts plot"
   ]
  },
  {
   "cell_type": "code",
   "execution_count": null,
   "metadata": {},
   "outputs": [],
   "source": [
    "df = pd.concat(d_forecasts)\n",
    "df"
   ]
  },
  {
   "cell_type": "code",
   "execution_count": null,
   "metadata": {},
   "outputs": [],
   "source": [
    "import plotly.express as px\n",
    "\n",
    "fig = px.line(\n",
    "    df,\n",
    "    x=\"datetime\",\n",
    "    y=\"values\",\n",
    "    color=\"model\",\n",
    "    facet_col=\"fold\",\n",
    "    facet_row=\"split\",\n",
    "    category_orders={\"split\": [\"train\", \"test\"]},\n",
    "    height=600,\n",
    "    width=1200,\n",
    ")\n",
    "\n",
    "fig.update_yaxes(matches=None)\n",
    "fig.update_xaxes(matches=None, tickangle=45)"
   ]
  },
  {
   "cell_type": "markdown",
   "metadata": {},
   "source": [
    "#### Metrics"
   ]
  },
  {
   "cell_type": "code",
   "execution_count": null,
   "metadata": {},
   "outputs": [],
   "source": [
    "dfs = []\n",
    "for df in d_metrics:\n",
    "    for i, x in df.iterrows():\n",
    "        start, end = x.datetime[[0, -1]]\n",
    "        dfs.append({\n",
    "            'fold': x.fold,\n",
    "            'split': x.split,\n",
    "            'start': start,\n",
    "            'end': end,\n",
    "            'model': x.model,\n",
    "            'rmse': x.rmse,\n",
    "        })\n",
    "\n",
    "df = pd.DataFrame(dfs)\n",
    "df"
   ]
  },
  {
   "cell_type": "code",
   "execution_count": null,
   "metadata": {},
   "outputs": [],
   "source": [
    "x = df.set_index(['fold', 'split', 'start', 'end', 'model']).unstack(level='model')\n",
    "x.style.background_gradient(cmap='Greens_r', axis=None).format(precision=2)"
   ]
  },
  {
   "cell_type": "code",
   "execution_count": null,
   "metadata": {},
   "outputs": [],
   "source": [
    "x.loc[:, 'test', :]['rmse'].mean()"
   ]
  },
  {
   "cell_type": "markdown",
   "metadata": {},
   "source": [
    "## How `TimeSeriesSplit` works"
   ]
  },
  {
   "cell_type": "code",
   "execution_count": null,
   "metadata": {},
   "outputs": [],
   "source": [
    "N_SPLITS = 5\n",
    "TEST_SIZE = PERIODS * 1\n",
    "TOTAL_SIZE = len(series)\n",
    "\n",
    "MAX_TRAIN_SIZE = TOTAL_SIZE - TEST_SIZE * N_SPLITS\n",
    "MAX_TRAIN_SIZE"
   ]
  },
  {
   "cell_type": "markdown",
   "metadata": {},
   "source": [
    "### Configure the instance"
   ]
  },
  {
   "cell_type": "code",
   "execution_count": null,
   "metadata": {},
   "outputs": [],
   "source": [
    "from sklearn.model_selection import TimeSeriesSplit\n",
    "ts = TimeSeriesSplit(n_splits=N_SPLITS, test_size=TEST_SIZE, max_train_size=MAX_TRAIN_SIZE)\n",
    "\n",
    "ts"
   ]
  },
  {
   "cell_type": "markdown",
   "metadata": {},
   "source": [
    "### Generate splits"
   ]
  },
  {
   "cell_type": "code",
   "execution_count": null,
   "metadata": {},
   "outputs": [],
   "source": [
    "splits = ts.split(X=series)\n",
    "splits"
   ]
  },
  {
   "cell_type": "code",
   "execution_count": 83,
   "metadata": {},
   "outputs": [],
   "source": [
    "train, test = next(splits)"
   ]
  },
  {
   "cell_type": "code",
   "execution_count": null,
   "metadata": {},
   "outputs": [],
   "source": [
    "train"
   ]
  },
  {
   "cell_type": "code",
   "execution_count": null,
   "metadata": {},
   "outputs": [],
   "source": [
    "test"
   ]
  },
  {
   "cell_type": "code",
   "execution_count": null,
   "metadata": {},
   "outputs": [],
   "source": [
    "len(test)"
   ]
  },
  {
   "cell_type": "code",
   "execution_count": null,
   "metadata": {},
   "outputs": [],
   "source": [
    "series.iloc[train]"
   ]
  },
  {
   "cell_type": "code",
   "execution_count": null,
   "metadata": {},
   "outputs": [],
   "source": [
    "series.iloc[test]"
   ]
  },
  {
   "cell_type": "code",
   "execution_count": null,
   "metadata": {},
   "outputs": [],
   "source": [
    "series.iloc[train]"
   ]
  },
  {
   "cell_type": "code",
   "execution_count": null,
   "metadata": {},
   "outputs": [],
   "source": [
    "series.iloc[test]"
   ]
  },
  {
   "cell_type": "markdown",
   "metadata": {},
   "source": [
    "### Iterate over splits to train and test models"
   ]
  },
  {
   "cell_type": "code",
   "execution_count": 37,
   "metadata": {},
   "outputs": [],
   "source": [
    "from statsmodels.tsa.holtwinters import ExponentialSmoothing"
   ]
  },
  {
   "cell_type": "code",
   "execution_count": null,
   "metadata": {},
   "outputs": [],
   "source": [
    "from sklearn.metrics import root_mean_squared_error\n",
    "\n",
    "x = []\n",
    "for fold, (train_idx, test_idx) in enumerate(tsv.split(series)):\n",
    "\n",
    "    train = series.iloc[train_idx]\n",
    "    test = series.iloc[test_idx]\n",
    "\n",
    "    model = ExponentialSmoothing(\n",
    "        train,\n",
    "        trend=\"add\",\n",
    "        seasonal=\"mul\",\n",
    "        seasonal_periods=24,\n",
    "    ).fit()\n",
    "    \n",
    "    y_pred = model.forecast(len(test))\n",
    "    \n",
    "    rmse = root_mean_squared_error(test, y_pred)\n",
    "    x.append({\n",
    "        'fold': fold,\n",
    "        'train_start': train.index[0],\n",
    "        'train_end': train.index[-1],\n",
    "        'test_start': test.index[0],\n",
    "        'test_end': test.index[-1],\n",
    "        'rmse': rmse,\n",
    "    })"
   ]
  },
  {
   "cell_type": "code",
   "execution_count": null,
   "metadata": {},
   "outputs": [],
   "source": [
    "x = pd.DataFrame(x)\n",
    "x.style"
   ]
  },
  {
   "cell_type": "code",
   "execution_count": null,
   "metadata": {},
   "outputs": [],
   "source": [
    "x.rmse.mean()"
   ]
  }
 ],
 "metadata": {
  "kernelspec": {
   "display_name": "Python 3",
   "language": "python",
   "name": "python3"
  },
  "language_info": {
   "codemirror_mode": {
    "name": "ipython",
    "version": 3
   },
   "file_extension": ".py",
   "mimetype": "text/x-python",
   "name": "python",
   "nbconvert_exporter": "python",
   "pygments_lexer": "ipython3",
   "version": "3.10.12"
  }
 },
 "nbformat": 4,
 "nbformat_minor": 2
}
