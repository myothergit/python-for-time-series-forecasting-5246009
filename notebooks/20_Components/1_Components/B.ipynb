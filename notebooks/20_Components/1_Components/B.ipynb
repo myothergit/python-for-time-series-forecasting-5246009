{
 "cells": [
  {
   "cell_type": "markdown",
   "id": "be80b463",
   "metadata": {
    "papermill": {
     "duration": 0.006455,
     "end_time": "2024-05-29T22:25:21.629458",
     "exception": false,
     "start_time": "2024-05-29T22:25:21.623003",
     "status": "completed"
    },
    "tags": []
   },
   "source": [
    "# Time Series Components"
   ]
  },
  {
   "cell_type": "markdown",
   "id": "c1597d4f",
   "metadata": {
    "papermill": {
     "duration": 0.002207,
     "end_time": "2024-05-29T22:25:21.635439",
     "exception": false,
     "start_time": "2024-05-29T22:25:21.633232",
     "status": "completed"
    },
    "tags": []
   },
   "source": [
    "## Overview"
   ]
  },
  {
   "cell_type": "markdown",
   "id": "4737d599",
   "metadata": {
    "papermill": {
     "duration": 0.001627,
     "end_time": "2024-05-29T22:25:21.638841",
     "exception": false,
     "start_time": "2024-05-29T22:25:21.637214",
     "status": "completed"
    },
    "tags": []
   },
   "source": [
    "<style>\n",
    "    table.custom-table {\n",
    "        max-width: 1000px;\n",
    "        width: 100%;\n",
    "        margin: 0 auto; /* centers the table on the page */\n",
    "    }\n",
    "\n",
    "    table.custom-table td {\n",
    "        background-color: #fff;\n",
    "    }\n",
    "    \n",
    "    table.custom-table th, table.custom-table td {\n",
    "        text-align: center;\n",
    "        vertical-align: middle;\n",
    "        padding: 5px;\n",
    "        width: 333px; /* distribute the total width equally among three columns */\n",
    "    }\n",
    "\n",
    "    table.custom-table img {\n",
    "        width: 100%;\n",
    "        display: block; /* removes any gap under the image */\n",
    "    }\n",
    "</style>\n",
    "\n",
    "\n",
    "<table class=\"custom-table\">\n",
    "    <thead>\n",
    "        <tr>\n",
    "            <th>Output: Accumulated Generation</th>\n",
    "            <th>Output: Technology Relationship</th>\n",
    "            <th>Input: Hourly Energy Generation</th>\n",
    "        </tr>\n",
    "    </thead>\n",
    "    <tbody>\n",
    "        <tr>\n",
    "            <td>\n",
    "                <img src=\"src/01_output_2.png\" alt=\"Solar Image 1\">\n",
    "            </td>\n",
    "            <td>\n",
    "                <img src=\"src/01_output_1.png\" alt=\"Solar Image 2\">\n",
    "            </td>\n",
    "            <td>\n",
    "                <img src=\"src/01_input.png\" alt=\"Solar Image 3\">\n",
    "            </td>\n",
    "        </tr>\n",
    "    </tbody>\n",
    "</table>"
   ]
  },
  {
   "cell_type": "markdown",
   "id": "fa904135",
   "metadata": {
    "papermill": {
     "duration": 0.00172,
     "end_time": "2024-05-29T22:25:21.642221",
     "exception": false,
     "start_time": "2024-05-29T22:25:21.640501",
     "status": "completed"
    },
    "tags": []
   },
   "source": [
    "## Data"
   ]
  },
  {
   "cell_type": "code",
   "execution_count": 1,
   "id": "a5367e4e",
   "metadata": {
    "execution": {
     "iopub.execute_input": "2024-05-29T22:25:21.646850Z",
     "iopub.status.busy": "2024-05-29T22:25:21.646446Z",
     "iopub.status.idle": "2024-05-29T22:25:21.661303Z",
     "shell.execute_reply": "2024-05-29T22:25:21.660928Z"
    },
    "papermill": {
     "duration": 0.018576,
     "end_time": "2024-05-29T22:25:21.662228",
     "exception": false,
     "start_time": "2024-05-29T22:25:21.643652",
     "status": "completed"
    },
    "tags": [
     "Fixed"
    ]
   },
   "outputs": [
    {
     "data": {
      "text/html": [
       "<div>\n",
       "<style scoped>\n",
       "    .dataframe tbody tr th:only-of-type {\n",
       "        vertical-align: middle;\n",
       "    }\n",
       "\n",
       "    .dataframe tbody tr th {\n",
       "        vertical-align: top;\n",
       "    }\n",
       "\n",
       "    .dataframe thead th {\n",
       "        text-align: right;\n",
       "    }\n",
       "</style>\n",
       "<table border=\"1\" class=\"dataframe\">\n",
       "  <thead>\n",
       "    <tr style=\"text-align: right;\">\n",
       "      <th></th>\n",
       "      <th>Passengers</th>\n",
       "    </tr>\n",
       "    <tr>\n",
       "      <th>Month</th>\n",
       "      <th></th>\n",
       "    </tr>\n",
       "  </thead>\n",
       "  <tbody>\n",
       "    <tr>\n",
       "      <th>1949-01-01</th>\n",
       "      <td>112</td>\n",
       "    </tr>\n",
       "    <tr>\n",
       "      <th>1949-02-01</th>\n",
       "      <td>118</td>\n",
       "    </tr>\n",
       "    <tr>\n",
       "      <th>...</th>\n",
       "      <td>...</td>\n",
       "    </tr>\n",
       "    <tr>\n",
       "      <th>1960-11-01</th>\n",
       "      <td>390</td>\n",
       "    </tr>\n",
       "    <tr>\n",
       "      <th>1960-12-01</th>\n",
       "      <td>432</td>\n",
       "    </tr>\n",
       "  </tbody>\n",
       "</table>\n",
       "<p>144 rows × 1 columns</p>\n",
       "</div>"
      ],
      "text/plain": [
       "            Passengers\n",
       "Month                 \n",
       "1949-01-01         112\n",
       "1949-02-01         118\n",
       "...                ...\n",
       "1960-11-01         390\n",
       "1960-12-01         432\n",
       "\n",
       "[144 rows x 1 columns]"
      ]
     },
     "execution_count": 1,
     "metadata": {},
     "output_type": "execute_result"
    }
   ],
   "source": [
    "import pandas as pd\n",
    "\n",
    "df_passenger = pd.read_csv('../data/airline-passengers.csv', parse_dates=['Month'], index_col='Month')\n",
    "df_passenger = df_passenger.asfreq('MS')\n",
    "df_passenger"
   ]
  },
  {
   "cell_type": "markdown",
   "id": "bea624c8",
   "metadata": {
    "papermill": {
     "duration": 0.001133,
     "end_time": "2024-05-29T22:25:22.373020",
     "exception": false,
     "start_time": "2024-05-29T22:25:22.371887",
     "status": "completed"
    },
    "tags": []
   },
   "source": [
    "## Individual Components\n",
    "\n",
    "- Trend (T)\n",
    "- Seasonality (S)\n",
    "- Residual or Irregular Component (I)"
   ]
  },
  {
   "cell_type": "code",
   "execution_count": 3,
   "id": "b2326a07",
   "metadata": {
    "execution": {
     "iopub.execute_input": "2024-05-29T22:25:22.375991Z",
     "iopub.status.busy": "2024-05-29T22:25:22.375694Z",
     "iopub.status.idle": "2024-05-29T22:25:22.734211Z",
     "shell.execute_reply": "2024-05-29T22:25:22.733934Z"
    },
    "papermill": {
     "duration": 0.360948,
     "end_time": "2024-05-29T22:25:22.735089",
     "exception": false,
     "start_time": "2024-05-29T22:25:22.374141",
     "status": "completed"
    },
    "tags": []
   },
   "outputs": [
    {
     "data": {
      "text/html": [
       "<div>\n",
       "<style scoped>\n",
       "    .dataframe tbody tr th:only-of-type {\n",
       "        vertical-align: middle;\n",
       "    }\n",
       "\n",
       "    .dataframe tbody tr th {\n",
       "        vertical-align: top;\n",
       "    }\n",
       "\n",
       "    .dataframe thead th {\n",
       "        text-align: right;\n",
       "    }\n",
       "</style>\n",
       "<table border=\"1\" class=\"dataframe\">\n",
       "  <thead>\n",
       "    <tr style=\"text-align: right;\">\n",
       "      <th></th>\n",
       "      <th>Passengers</th>\n",
       "      <th>trend</th>\n",
       "      <th>seasonal</th>\n",
       "      <th>residual</th>\n",
       "    </tr>\n",
       "    <tr>\n",
       "      <th>Month</th>\n",
       "      <th></th>\n",
       "      <th></th>\n",
       "      <th></th>\n",
       "      <th></th>\n",
       "    </tr>\n",
       "  </thead>\n",
       "  <tbody>\n",
       "    <tr>\n",
       "      <th>1949-07-01</th>\n",
       "      <td>148</td>\n",
       "      <td>126.791667</td>\n",
       "      <td>63.830808</td>\n",
       "      <td>-42.622475</td>\n",
       "    </tr>\n",
       "    <tr>\n",
       "      <th>1949-08-01</th>\n",
       "      <td>148</td>\n",
       "      <td>127.250000</td>\n",
       "      <td>62.823232</td>\n",
       "      <td>-42.073232</td>\n",
       "    </tr>\n",
       "    <tr>\n",
       "      <th>...</th>\n",
       "      <td>...</td>\n",
       "      <td>...</td>\n",
       "      <td>...</td>\n",
       "      <td>...</td>\n",
       "    </tr>\n",
       "    <tr>\n",
       "      <th>1960-05-01</th>\n",
       "      <td>472</td>\n",
       "      <td>472.750000</td>\n",
       "      <td>-4.506313</td>\n",
       "      <td>3.756313</td>\n",
       "    </tr>\n",
       "    <tr>\n",
       "      <th>1960-06-01</th>\n",
       "      <td>535</td>\n",
       "      <td>475.041667</td>\n",
       "      <td>35.402778</td>\n",
       "      <td>24.555556</td>\n",
       "    </tr>\n",
       "  </tbody>\n",
       "</table>\n",
       "<p>132 rows × 4 columns</p>\n",
       "</div>"
      ],
      "text/plain": [
       "            Passengers       trend   seasonal   residual\n",
       "Month                                                   \n",
       "1949-07-01         148  126.791667  63.830808 -42.622475\n",
       "1949-08-01         148  127.250000  62.823232 -42.073232\n",
       "...                ...         ...        ...        ...\n",
       "1960-05-01         472  472.750000  -4.506313   3.756313\n",
       "1960-06-01         535  475.041667  35.402778  24.555556\n",
       "\n",
       "[132 rows x 4 columns]"
      ]
     },
     "execution_count": 3,
     "metadata": {},
     "output_type": "execute_result"
    }
   ],
   "source": [
    "import statsmodels.api as sm\n",
    "\n",
    "data = df_passenger['Passengers'].values\n",
    "result = sm.tsa.seasonal_decompose(data, model='additive', period=12)\n",
    "\n",
    "df_component = (df_passenger\n",
    " .assign(\n",
    "    trend = result.trend,\n",
    "    seasonal = result.seasonal,\n",
    "    residual = result.resid)\n",
    " .dropna())\n",
    "\n",
    "df_component"
   ]
  },
  {
   "cell_type": "code",
   "execution_count": 4,
   "id": "daa75522",
   "metadata": {
    "execution": {
     "iopub.execute_input": "2024-05-29T22:25:22.739246Z",
     "iopub.status.busy": "2024-05-29T22:25:22.738925Z",
     "iopub.status.idle": "2024-05-29T22:25:22.743687Z",
     "shell.execute_reply": "2024-05-29T22:25:22.743439Z"
    },
    "papermill": {
     "duration": 0.007789,
     "end_time": "2024-05-29T22:25:22.744468",
     "exception": false,
     "start_time": "2024-05-29T22:25:22.736679",
     "status": "completed"
    },
    "tags": []
   },
   "outputs": [
    {
     "data": {
      "text/html": [
       "<div>\n",
       "<style scoped>\n",
       "    .dataframe tbody tr th:only-of-type {\n",
       "        vertical-align: middle;\n",
       "    }\n",
       "\n",
       "    .dataframe tbody tr th {\n",
       "        vertical-align: top;\n",
       "    }\n",
       "\n",
       "    .dataframe thead th {\n",
       "        text-align: right;\n",
       "    }\n",
       "</style>\n",
       "<table border=\"1\" class=\"dataframe\">\n",
       "  <thead>\n",
       "    <tr style=\"text-align: right;\">\n",
       "      <th></th>\n",
       "      <th>Passengers</th>\n",
       "      <th>trend</th>\n",
       "      <th>seasonal</th>\n",
       "      <th>residual</th>\n",
       "      <th>component_sum</th>\n",
       "    </tr>\n",
       "    <tr>\n",
       "      <th>Month</th>\n",
       "      <th></th>\n",
       "      <th></th>\n",
       "      <th></th>\n",
       "      <th></th>\n",
       "      <th></th>\n",
       "    </tr>\n",
       "  </thead>\n",
       "  <tbody>\n",
       "    <tr>\n",
       "      <th>1949-07-01</th>\n",
       "      <td>148</td>\n",
       "      <td>126.791667</td>\n",
       "      <td>63.830808</td>\n",
       "      <td>-42.622475</td>\n",
       "      <td>148.0</td>\n",
       "    </tr>\n",
       "    <tr>\n",
       "      <th>1949-08-01</th>\n",
       "      <td>148</td>\n",
       "      <td>127.250000</td>\n",
       "      <td>62.823232</td>\n",
       "      <td>-42.073232</td>\n",
       "      <td>148.0</td>\n",
       "    </tr>\n",
       "    <tr>\n",
       "      <th>...</th>\n",
       "      <td>...</td>\n",
       "      <td>...</td>\n",
       "      <td>...</td>\n",
       "      <td>...</td>\n",
       "      <td>...</td>\n",
       "    </tr>\n",
       "    <tr>\n",
       "      <th>1960-05-01</th>\n",
       "      <td>472</td>\n",
       "      <td>472.750000</td>\n",
       "      <td>-4.506313</td>\n",
       "      <td>3.756313</td>\n",
       "      <td>472.0</td>\n",
       "    </tr>\n",
       "    <tr>\n",
       "      <th>1960-06-01</th>\n",
       "      <td>535</td>\n",
       "      <td>475.041667</td>\n",
       "      <td>35.402778</td>\n",
       "      <td>24.555556</td>\n",
       "      <td>535.0</td>\n",
       "    </tr>\n",
       "  </tbody>\n",
       "</table>\n",
       "<p>132 rows × 5 columns</p>\n",
       "</div>"
      ],
      "text/plain": [
       "            Passengers       trend   seasonal   residual  component_sum\n",
       "Month                                                                  \n",
       "1949-07-01         148  126.791667  63.830808 -42.622475          148.0\n",
       "1949-08-01         148  127.250000  62.823232 -42.073232          148.0\n",
       "...                ...         ...        ...        ...            ...\n",
       "1960-05-01         472  472.750000  -4.506313   3.756313          472.0\n",
       "1960-06-01         535  475.041667  35.402778  24.555556          535.0\n",
       "\n",
       "[132 rows x 5 columns]"
      ]
     },
     "execution_count": 4,
     "metadata": {},
     "output_type": "execute_result"
    }
   ],
   "source": [
    "df_component_sum = df_component.copy()\n",
    "df_component_sum['component_sum'] = df_component.trend + df_component.seasonal + df_component.residual\n",
    "df_component_sum"
   ]
  },
  {
   "cell_type": "markdown",
   "id": "80aa1c5b",
   "metadata": {
    "papermill": {
     "duration": 0.001849,
     "end_time": "2024-05-29T22:25:23.221029",
     "exception": false,
     "start_time": "2024-05-29T22:25:23.219180",
     "status": "completed"
    },
    "tags": []
   },
   "source": [
    "## Decomposition by Model\n",
    "\n",
    "- Additive Model $y_t = T_t + S_t + e_t$\n",
    "- Multiplicative Model $y_t = T_t \\times S_t \\times e_t$"
   ]
  },
  {
   "cell_type": "code",
   "execution_count": 6,
   "id": "d7bb3526",
   "metadata": {
    "execution": {
     "iopub.execute_input": "2024-05-29T22:25:23.224109Z",
     "iopub.status.busy": "2024-05-29T22:25:23.223893Z",
     "iopub.status.idle": "2024-05-29T22:25:23.229647Z",
     "shell.execute_reply": "2024-05-29T22:25:23.229472Z"
    },
    "papermill": {
     "duration": 0.008039,
     "end_time": "2024-05-29T22:25:23.230257",
     "exception": false,
     "start_time": "2024-05-29T22:25:23.222218",
     "status": "completed"
    },
    "tags": [
     "Fixed"
    ]
   },
   "outputs": [
    {
     "data": {
      "text/html": [
       "<div>\n",
       "<style scoped>\n",
       "    .dataframe tbody tr th:only-of-type {\n",
       "        vertical-align: middle;\n",
       "    }\n",
       "\n",
       "    .dataframe tbody tr th {\n",
       "        vertical-align: top;\n",
       "    }\n",
       "\n",
       "    .dataframe thead th {\n",
       "        text-align: right;\n",
       "    }\n",
       "</style>\n",
       "<table border=\"1\" class=\"dataframe\">\n",
       "  <thead>\n",
       "    <tr style=\"text-align: right;\">\n",
       "      <th></th>\n",
       "      <th>Passengers</th>\n",
       "      <th>trend</th>\n",
       "      <th>seasonal</th>\n",
       "      <th>residual</th>\n",
       "    </tr>\n",
       "    <tr>\n",
       "      <th>Month</th>\n",
       "      <th></th>\n",
       "      <th></th>\n",
       "      <th></th>\n",
       "      <th></th>\n",
       "    </tr>\n",
       "  </thead>\n",
       "  <tbody>\n",
       "    <tr>\n",
       "      <th>1949-07-01</th>\n",
       "      <td>148</td>\n",
       "      <td>126.791667</td>\n",
       "      <td>1.226556</td>\n",
       "      <td>0.951664</td>\n",
       "    </tr>\n",
       "    <tr>\n",
       "      <th>1949-08-01</th>\n",
       "      <td>148</td>\n",
       "      <td>127.250000</td>\n",
       "      <td>1.219911</td>\n",
       "      <td>0.953401</td>\n",
       "    </tr>\n",
       "    <tr>\n",
       "      <th>...</th>\n",
       "      <td>...</td>\n",
       "      <td>...</td>\n",
       "      <td>...</td>\n",
       "      <td>...</td>\n",
       "    </tr>\n",
       "    <tr>\n",
       "      <th>1960-05-01</th>\n",
       "      <td>472</td>\n",
       "      <td>472.750000</td>\n",
       "      <td>0.981378</td>\n",
       "      <td>1.017359</td>\n",
       "    </tr>\n",
       "    <tr>\n",
       "      <th>1960-06-01</th>\n",
       "      <td>535</td>\n",
       "      <td>475.041667</td>\n",
       "      <td>1.112776</td>\n",
       "      <td>1.012079</td>\n",
       "    </tr>\n",
       "  </tbody>\n",
       "</table>\n",
       "<p>132 rows × 4 columns</p>\n",
       "</div>"
      ],
      "text/plain": [
       "            Passengers       trend  seasonal  residual\n",
       "Month                                                 \n",
       "1949-07-01         148  126.791667  1.226556  0.951664\n",
       "1949-08-01         148  127.250000  1.219911  0.953401\n",
       "...                ...         ...       ...       ...\n",
       "1960-05-01         472  472.750000  0.981378  1.017359\n",
       "1960-06-01         535  475.041667  1.112776  1.012079\n",
       "\n",
       "[132 rows x 4 columns]"
      ]
     },
     "execution_count": 6,
     "metadata": {},
     "output_type": "execute_result"
    }
   ],
   "source": [
    "import statsmodels.api as sm \n",
    "\n",
    "data = df_passenger['Passengers'].values\n",
    "result = sm.tsa.seasonal_decompose(data, model='multiplicative', period=12)\n",
    "\n",
    "df_component = (df_passenger\n",
    " .assign(\n",
    "    trend = result.trend,\n",
    "    seasonal = result.seasonal,\n",
    "    residual = result.resid)\n",
    " .dropna())\n",
    "\n",
    "df_component"
   ]
  },
  {
   "cell_type": "code",
   "execution_count": 7,
   "id": "2e70082d",
   "metadata": {
    "execution": {
     "iopub.execute_input": "2024-05-29T22:25:23.232686Z",
     "iopub.status.busy": "2024-05-29T22:25:23.232591Z",
     "iopub.status.idle": "2024-05-29T22:25:23.236523Z",
     "shell.execute_reply": "2024-05-29T22:25:23.236281Z"
    },
    "papermill": {
     "duration": 0.005887,
     "end_time": "2024-05-29T22:25:23.237202",
     "exception": false,
     "start_time": "2024-05-29T22:25:23.231315",
     "status": "completed"
    },
    "tags": [
     "Fixed"
    ]
   },
   "outputs": [
    {
     "data": {
      "text/html": [
       "<div>\n",
       "<style scoped>\n",
       "    .dataframe tbody tr th:only-of-type {\n",
       "        vertical-align: middle;\n",
       "    }\n",
       "\n",
       "    .dataframe tbody tr th {\n",
       "        vertical-align: top;\n",
       "    }\n",
       "\n",
       "    .dataframe thead th {\n",
       "        text-align: right;\n",
       "    }\n",
       "</style>\n",
       "<table border=\"1\" class=\"dataframe\">\n",
       "  <thead>\n",
       "    <tr style=\"text-align: right;\">\n",
       "      <th></th>\n",
       "      <th>Passengers</th>\n",
       "      <th>trend</th>\n",
       "      <th>seasonal</th>\n",
       "      <th>residual</th>\n",
       "      <th>component_mul</th>\n",
       "    </tr>\n",
       "    <tr>\n",
       "      <th>Month</th>\n",
       "      <th></th>\n",
       "      <th></th>\n",
       "      <th></th>\n",
       "      <th></th>\n",
       "      <th></th>\n",
       "    </tr>\n",
       "  </thead>\n",
       "  <tbody>\n",
       "    <tr>\n",
       "      <th>1949-07-01</th>\n",
       "      <td>148</td>\n",
       "      <td>126.791667</td>\n",
       "      <td>1.226556</td>\n",
       "      <td>0.951664</td>\n",
       "      <td>148.0</td>\n",
       "    </tr>\n",
       "    <tr>\n",
       "      <th>1949-08-01</th>\n",
       "      <td>148</td>\n",
       "      <td>127.250000</td>\n",
       "      <td>1.219911</td>\n",
       "      <td>0.953401</td>\n",
       "      <td>148.0</td>\n",
       "    </tr>\n",
       "    <tr>\n",
       "      <th>...</th>\n",
       "      <td>...</td>\n",
       "      <td>...</td>\n",
       "      <td>...</td>\n",
       "      <td>...</td>\n",
       "      <td>...</td>\n",
       "    </tr>\n",
       "    <tr>\n",
       "      <th>1960-05-01</th>\n",
       "      <td>472</td>\n",
       "      <td>472.750000</td>\n",
       "      <td>0.981378</td>\n",
       "      <td>1.017359</td>\n",
       "      <td>472.0</td>\n",
       "    </tr>\n",
       "    <tr>\n",
       "      <th>1960-06-01</th>\n",
       "      <td>535</td>\n",
       "      <td>475.041667</td>\n",
       "      <td>1.112776</td>\n",
       "      <td>1.012079</td>\n",
       "      <td>535.0</td>\n",
       "    </tr>\n",
       "  </tbody>\n",
       "</table>\n",
       "<p>132 rows × 5 columns</p>\n",
       "</div>"
      ],
      "text/plain": [
       "            Passengers       trend  seasonal  residual  component_mul\n",
       "Month                                                                \n",
       "1949-07-01         148  126.791667  1.226556  0.951664          148.0\n",
       "1949-08-01         148  127.250000  1.219911  0.953401          148.0\n",
       "...                ...         ...       ...       ...            ...\n",
       "1960-05-01         472  472.750000  0.981378  1.017359          472.0\n",
       "1960-06-01         535  475.041667  1.112776  1.012079          535.0\n",
       "\n",
       "[132 rows x 5 columns]"
      ]
     },
     "execution_count": 7,
     "metadata": {},
     "output_type": "execute_result"
    }
   ],
   "source": [
    "df_component_mul = df_component.copy()\n",
    "df_component_mul['component_mul'] = df_component.trend * df_component.seasonal * df_component.residual\n",
    "df_component_mul"
   ]
  },
  {
   "cell_type": "code",
   "execution_count": 8,
   "id": "8dd921da",
   "metadata": {
    "execution": {
     "iopub.execute_input": "2024-05-29T22:25:23.239992Z",
     "iopub.status.busy": "2024-05-29T22:25:23.239821Z",
     "iopub.status.idle": "2024-05-29T22:25:23.243247Z",
     "shell.execute_reply": "2024-05-29T22:25:23.243060Z"
    },
    "papermill": {
     "duration": 0.005534,
     "end_time": "2024-05-29T22:25:23.243909",
     "exception": false,
     "start_time": "2024-05-29T22:25:23.238375",
     "status": "completed"
    },
    "tags": []
   },
   "outputs": [
    {
     "data": {
      "text/html": [
       "<div>\n",
       "<style scoped>\n",
       "    .dataframe tbody tr th:only-of-type {\n",
       "        vertical-align: middle;\n",
       "    }\n",
       "\n",
       "    .dataframe tbody tr th {\n",
       "        vertical-align: top;\n",
       "    }\n",
       "\n",
       "    .dataframe thead th {\n",
       "        text-align: right;\n",
       "    }\n",
       "</style>\n",
       "<table border=\"1\" class=\"dataframe\">\n",
       "  <thead>\n",
       "    <tr style=\"text-align: right;\">\n",
       "      <th></th>\n",
       "      <th>Passengers</th>\n",
       "      <th>trend</th>\n",
       "      <th>seasonal</th>\n",
       "      <th>residual</th>\n",
       "      <th>component_sum</th>\n",
       "    </tr>\n",
       "    <tr>\n",
       "      <th>Month</th>\n",
       "      <th></th>\n",
       "      <th></th>\n",
       "      <th></th>\n",
       "      <th></th>\n",
       "      <th></th>\n",
       "    </tr>\n",
       "  </thead>\n",
       "  <tbody>\n",
       "    <tr>\n",
       "      <th>1949-07-01</th>\n",
       "      <td>148</td>\n",
       "      <td>126.791667</td>\n",
       "      <td>63.830808</td>\n",
       "      <td>-42.622475</td>\n",
       "      <td>148.0</td>\n",
       "    </tr>\n",
       "    <tr>\n",
       "      <th>1949-08-01</th>\n",
       "      <td>148</td>\n",
       "      <td>127.250000</td>\n",
       "      <td>62.823232</td>\n",
       "      <td>-42.073232</td>\n",
       "      <td>148.0</td>\n",
       "    </tr>\n",
       "    <tr>\n",
       "      <th>...</th>\n",
       "      <td>...</td>\n",
       "      <td>...</td>\n",
       "      <td>...</td>\n",
       "      <td>...</td>\n",
       "      <td>...</td>\n",
       "    </tr>\n",
       "    <tr>\n",
       "      <th>1960-05-01</th>\n",
       "      <td>472</td>\n",
       "      <td>472.750000</td>\n",
       "      <td>-4.506313</td>\n",
       "      <td>3.756313</td>\n",
       "      <td>472.0</td>\n",
       "    </tr>\n",
       "    <tr>\n",
       "      <th>1960-06-01</th>\n",
       "      <td>535</td>\n",
       "      <td>475.041667</td>\n",
       "      <td>35.402778</td>\n",
       "      <td>24.555556</td>\n",
       "      <td>535.0</td>\n",
       "    </tr>\n",
       "  </tbody>\n",
       "</table>\n",
       "<p>132 rows × 5 columns</p>\n",
       "</div>"
      ],
      "text/plain": [
       "            Passengers       trend   seasonal   residual  component_sum\n",
       "Month                                                                  \n",
       "1949-07-01         148  126.791667  63.830808 -42.622475          148.0\n",
       "1949-08-01         148  127.250000  62.823232 -42.073232          148.0\n",
       "...                ...         ...        ...        ...            ...\n",
       "1960-05-01         472  472.750000  -4.506313   3.756313          472.0\n",
       "1960-06-01         535  475.041667  35.402778  24.555556          535.0\n",
       "\n",
       "[132 rows x 5 columns]"
      ]
     },
     "execution_count": 8,
     "metadata": {},
     "output_type": "execute_result"
    }
   ],
   "source": [
    "df_component_sum"
   ]
  }
 ],
 "metadata": {
  "kernelspec": {
   "display_name": "Python 3 (ipykernel)",
   "language": "python",
   "name": "python3"
  },
  "language_info": {
   "codemirror_mode": {
    "name": "ipython",
    "version": 3
   },
   "file_extension": ".py",
   "mimetype": "text/x-python",
   "name": "python",
   "nbconvert_exporter": "python",
   "pygments_lexer": "ipython3",
   "version": "3.12.2"
  },
  "papermill": {
   "default_parameters": {},
   "duration": 3.406328,
   "end_time": "2024-05-29T22:25:24.014054",
   "environment_variables": {},
   "exception": null,
   "input_path": "/Users/sota/Library/CloudStorage/Dropbox/2 Business/1 Datons/2 Areas/Courses/22 TS/solutions-new/notebooks/20_Components/1_Components/1.ipynb",
   "output_path": "/Users/sota/Library/CloudStorage/Dropbox/2 Business/1 Datons/2 Areas/Courses/22 TS/solutions-new/notebooks/20_Components/1_Components/1.ipynb",
   "parameters": {},
   "start_time": "2024-05-29T22:25:20.607726",
   "version": "2.5.0"
  }
 },
 "nbformat": 4,
 "nbformat_minor": 5
}
