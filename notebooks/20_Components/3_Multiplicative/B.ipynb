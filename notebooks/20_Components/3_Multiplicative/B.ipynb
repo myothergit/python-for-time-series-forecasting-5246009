{
 "cells": [
  {
   "cell_type": "markdown",
   "id": "cb633e84",
   "metadata": {
    "papermill": {
     "duration": 0.006113,
     "end_time": "2024-05-29T22:25:28.398874",
     "exception": false,
     "start_time": "2024-05-29T22:25:28.392761",
     "status": "completed"
    },
    "tags": []
   },
   "source": [
    "# Multiplicative Decomposition"
   ]
  },
  {
   "cell_type": "markdown",
   "id": "43d3c864",
   "metadata": {
    "papermill": {
     "duration": 0.003297,
     "end_time": "2024-05-29T22:25:28.406536",
     "exception": false,
     "start_time": "2024-05-29T22:25:28.403239",
     "status": "completed"
    },
    "tags": []
   },
   "source": [
    "## Overview"
   ]
  },
  {
   "cell_type": "markdown",
   "id": "034f1836",
   "metadata": {
    "papermill": {
     "duration": 0.001837,
     "end_time": "2024-05-29T22:25:28.410431",
     "exception": false,
     "start_time": "2024-05-29T22:25:28.408594",
     "status": "completed"
    },
    "tags": []
   },
   "source": [
    "<style>\n",
    "    table.custom-table {\n",
    "        max-width: 600px;\n",
    "        width: 100%;\n",
    "        margin: 0 auto; /* centers the table on the page */\n",
    "    }\n",
    "\n",
    "    table.custom-table td {\n",
    "        background-color: #fff;\n",
    "    }\n",
    "    \n",
    "    table.custom-table th, table.custom-table td {\n",
    "        text-align: center;\n",
    "        vertical-align: middle;\n",
    "        padding: 5px;\n",
    "        width: 600px; /* distribute the total width equally among three columns */\n",
    "    }\n",
    "\n",
    "    table.custom-table img {\n",
    "        width: 100%;\n",
    "        display: block; /* removes any gap under the image */\n",
    "    }\n",
    "</style>\n",
    "\n",
    "\n",
    "<table class=\"custom-table\">\n",
    "    <thead>\n",
    "        <tr>\n",
    "            <th>Additive vs Multiplicative Model</th>\n",
    "        </tr>\n",
    "    </thead>\n",
    "    <tbody>\n",
    "        <tr>\n",
    "            <td>\n",
    "                <img src=\"src/02_output.png\">\n",
    "            </td>\n",
    "        </tr>\n",
    "        <tr>\n",
    "            <td>\n",
    "                <img src=\"src/03_output.png\">\n",
    "            </td>\n",
    "        </tr>\n",
    "    </tbody>\n",
    "</table>"
   ]
  },
  {
   "cell_type": "markdown",
   "id": "29fd7598",
   "metadata": {
    "papermill": {
     "duration": 0.001541,
     "end_time": "2024-05-29T22:25:28.414150",
     "exception": false,
     "start_time": "2024-05-29T22:25:28.412609",
     "status": "completed"
    },
    "tags": []
   },
   "source": [
    "## Data"
   ]
  },
  {
   "cell_type": "code",
   "execution_count": 1,
   "id": "fe31863b",
   "metadata": {
    "execution": {
     "iopub.execute_input": "2024-05-29T22:25:28.417808Z",
     "iopub.status.busy": "2024-05-29T22:25:28.417585Z",
     "iopub.status.idle": "2024-05-29T22:25:28.429537Z",
     "shell.execute_reply": "2024-05-29T22:25:28.429278Z"
    },
    "papermill": {
     "duration": 0.01502,
     "end_time": "2024-05-29T22:25:28.430524",
     "exception": false,
     "start_time": "2024-05-29T22:25:28.415504",
     "status": "completed"
    },
    "tags": [
     "Fixed"
    ]
   },
   "outputs": [
    {
     "data": {
      "text/html": [
       "<div>\n",
       "<style scoped>\n",
       "    .dataframe tbody tr th:only-of-type {\n",
       "        vertical-align: middle;\n",
       "    }\n",
       "\n",
       "    .dataframe tbody tr th {\n",
       "        vertical-align: top;\n",
       "    }\n",
       "\n",
       "    .dataframe thead th {\n",
       "        text-align: right;\n",
       "    }\n",
       "</style>\n",
       "<table border=\"1\" class=\"dataframe\">\n",
       "  <thead>\n",
       "    <tr style=\"text-align: right;\">\n",
       "      <th></th>\n",
       "      <th>Passengers</th>\n",
       "    </tr>\n",
       "    <tr>\n",
       "      <th>Month</th>\n",
       "      <th></th>\n",
       "    </tr>\n",
       "  </thead>\n",
       "  <tbody>\n",
       "    <tr>\n",
       "      <th>1949-01-01</th>\n",
       "      <td>112</td>\n",
       "    </tr>\n",
       "    <tr>\n",
       "      <th>1949-02-01</th>\n",
       "      <td>118</td>\n",
       "    </tr>\n",
       "    <tr>\n",
       "      <th>...</th>\n",
       "      <td>...</td>\n",
       "    </tr>\n",
       "    <tr>\n",
       "      <th>1960-11-01</th>\n",
       "      <td>390</td>\n",
       "    </tr>\n",
       "    <tr>\n",
       "      <th>1960-12-01</th>\n",
       "      <td>432</td>\n",
       "    </tr>\n",
       "  </tbody>\n",
       "</table>\n",
       "<p>144 rows × 1 columns</p>\n",
       "</div>"
      ],
      "text/plain": [
       "            Passengers\n",
       "Month                 \n",
       "1949-01-01         112\n",
       "1949-02-01         118\n",
       "...                ...\n",
       "1960-11-01         390\n",
       "1960-12-01         432\n",
       "\n",
       "[144 rows x 1 columns]"
      ]
     },
     "execution_count": 1,
     "metadata": {},
     "output_type": "execute_result"
    }
   ],
   "source": [
    "import pandas as pd\n",
    "\n",
    "df_passenger = pd.read_csv('../data/airline-passengers.csv', parse_dates=['Month'], index_col='Month')\n",
    "df_passenger = df_passenger.asfreq('MS')\n",
    "df_passenger"
   ]
  },
  {
   "cell_type": "markdown",
   "id": "dffa9d4b",
   "metadata": {
    "papermill": {
     "duration": 0.00111,
     "end_time": "2024-05-29T22:25:28.433070",
     "exception": false,
     "start_time": "2024-05-29T22:25:28.431960",
     "status": "completed"
    },
    "tags": []
   },
   "source": [
    "## Individual Components\n",
    "\n",
    "- Trend (S)\n",
    "- Seasonality (S)\n",
    "- Residual or Irregular Component (I)"
   ]
  },
  {
   "cell_type": "code",
   "execution_count": 2,
   "id": "fb8fe88e",
   "metadata": {
    "execution": {
     "iopub.execute_input": "2024-05-29T22:25:28.435682Z",
     "iopub.status.busy": "2024-05-29T22:25:28.435556Z",
     "iopub.status.idle": "2024-05-29T22:25:28.762882Z",
     "shell.execute_reply": "2024-05-29T22:25:28.762609Z"
    },
    "papermill": {
     "duration": 0.329578,
     "end_time": "2024-05-29T22:25:28.763676",
     "exception": false,
     "start_time": "2024-05-29T22:25:28.434098",
     "status": "completed"
    },
    "tags": [
     "Fixed"
    ]
   },
   "outputs": [
    {
     "data": {
      "text/html": [
       "<div>\n",
       "<style scoped>\n",
       "    .dataframe tbody tr th:only-of-type {\n",
       "        vertical-align: middle;\n",
       "    }\n",
       "\n",
       "    .dataframe tbody tr th {\n",
       "        vertical-align: top;\n",
       "    }\n",
       "\n",
       "    .dataframe thead th {\n",
       "        text-align: right;\n",
       "    }\n",
       "</style>\n",
       "<table border=\"1\" class=\"dataframe\">\n",
       "  <thead>\n",
       "    <tr style=\"text-align: right;\">\n",
       "      <th></th>\n",
       "      <th>Passengers</th>\n",
       "      <th>trend</th>\n",
       "      <th>seasonal</th>\n",
       "      <th>residual</th>\n",
       "    </tr>\n",
       "    <tr>\n",
       "      <th>Month</th>\n",
       "      <th></th>\n",
       "      <th></th>\n",
       "      <th></th>\n",
       "      <th></th>\n",
       "    </tr>\n",
       "  </thead>\n",
       "  <tbody>\n",
       "    <tr>\n",
       "      <th>1949-07-01</th>\n",
       "      <td>148</td>\n",
       "      <td>126.791667</td>\n",
       "      <td>1.226556</td>\n",
       "      <td>0.951664</td>\n",
       "    </tr>\n",
       "    <tr>\n",
       "      <th>1949-08-01</th>\n",
       "      <td>148</td>\n",
       "      <td>127.250000</td>\n",
       "      <td>1.219911</td>\n",
       "      <td>0.953401</td>\n",
       "    </tr>\n",
       "    <tr>\n",
       "      <th>...</th>\n",
       "      <td>...</td>\n",
       "      <td>...</td>\n",
       "      <td>...</td>\n",
       "      <td>...</td>\n",
       "    </tr>\n",
       "    <tr>\n",
       "      <th>1960-05-01</th>\n",
       "      <td>472</td>\n",
       "      <td>472.750000</td>\n",
       "      <td>0.981378</td>\n",
       "      <td>1.017359</td>\n",
       "    </tr>\n",
       "    <tr>\n",
       "      <th>1960-06-01</th>\n",
       "      <td>535</td>\n",
       "      <td>475.041667</td>\n",
       "      <td>1.112776</td>\n",
       "      <td>1.012079</td>\n",
       "    </tr>\n",
       "  </tbody>\n",
       "</table>\n",
       "<p>132 rows × 4 columns</p>\n",
       "</div>"
      ],
      "text/plain": [
       "            Passengers       trend  seasonal  residual\n",
       "Month                                                 \n",
       "1949-07-01         148  126.791667  1.226556  0.951664\n",
       "1949-08-01         148  127.250000  1.219911  0.953401\n",
       "...                ...         ...       ...       ...\n",
       "1960-05-01         472  472.750000  0.981378  1.017359\n",
       "1960-06-01         535  475.041667  1.112776  1.012079\n",
       "\n",
       "[132 rows x 4 columns]"
      ]
     },
     "execution_count": 2,
     "metadata": {},
     "output_type": "execute_result"
    }
   ],
   "source": [
    "import statsmodels.api as sm \n",
    "\n",
    "data = df_passenger['Passengers'].values\n",
    "result = sm.tsa.seasonal_decompose(data, model='multiplicative', period=12)\n",
    "\n",
    "df_component = (df_passenger\n",
    " .assign(\n",
    "    trend = result.trend,\n",
    "    seasonal = result.seasonal,\n",
    "    residual = result.resid)\n",
    " .dropna())\n",
    "\n",
    "df_component"
   ]
  },
  {
   "cell_type": "code",
   "execution_count": 3,
   "id": "2e2eb6f8",
   "metadata": {
    "execution": {
     "iopub.execute_input": "2024-05-29T22:25:28.766804Z",
     "iopub.status.busy": "2024-05-29T22:25:28.766506Z",
     "iopub.status.idle": "2024-05-29T22:25:28.770629Z",
     "shell.execute_reply": "2024-05-29T22:25:28.770421Z"
    },
    "papermill": {
     "duration": 0.006422,
     "end_time": "2024-05-29T22:25:28.771418",
     "exception": false,
     "start_time": "2024-05-29T22:25:28.764996",
     "status": "completed"
    },
    "tags": []
   },
   "outputs": [
    {
     "data": {
      "text/html": [
       "<div>\n",
       "<style scoped>\n",
       "    .dataframe tbody tr th:only-of-type {\n",
       "        vertical-align: middle;\n",
       "    }\n",
       "\n",
       "    .dataframe tbody tr th {\n",
       "        vertical-align: top;\n",
       "    }\n",
       "\n",
       "    .dataframe thead th {\n",
       "        text-align: right;\n",
       "    }\n",
       "</style>\n",
       "<table border=\"1\" class=\"dataframe\">\n",
       "  <thead>\n",
       "    <tr style=\"text-align: right;\">\n",
       "      <th></th>\n",
       "      <th>Passengers</th>\n",
       "      <th>trend</th>\n",
       "      <th>seasonal</th>\n",
       "      <th>residual</th>\n",
       "      <th>component_all</th>\n",
       "    </tr>\n",
       "    <tr>\n",
       "      <th>Month</th>\n",
       "      <th></th>\n",
       "      <th></th>\n",
       "      <th></th>\n",
       "      <th></th>\n",
       "      <th></th>\n",
       "    </tr>\n",
       "  </thead>\n",
       "  <tbody>\n",
       "    <tr>\n",
       "      <th>1949-07-01</th>\n",
       "      <td>148</td>\n",
       "      <td>126.791667</td>\n",
       "      <td>1.226556</td>\n",
       "      <td>0.951664</td>\n",
       "      <td>148.0</td>\n",
       "    </tr>\n",
       "    <tr>\n",
       "      <th>1949-08-01</th>\n",
       "      <td>148</td>\n",
       "      <td>127.250000</td>\n",
       "      <td>1.219911</td>\n",
       "      <td>0.953401</td>\n",
       "      <td>148.0</td>\n",
       "    </tr>\n",
       "    <tr>\n",
       "      <th>...</th>\n",
       "      <td>...</td>\n",
       "      <td>...</td>\n",
       "      <td>...</td>\n",
       "      <td>...</td>\n",
       "      <td>...</td>\n",
       "    </tr>\n",
       "    <tr>\n",
       "      <th>1960-05-01</th>\n",
       "      <td>472</td>\n",
       "      <td>472.750000</td>\n",
       "      <td>0.981378</td>\n",
       "      <td>1.017359</td>\n",
       "      <td>472.0</td>\n",
       "    </tr>\n",
       "    <tr>\n",
       "      <th>1960-06-01</th>\n",
       "      <td>535</td>\n",
       "      <td>475.041667</td>\n",
       "      <td>1.112776</td>\n",
       "      <td>1.012079</td>\n",
       "      <td>535.0</td>\n",
       "    </tr>\n",
       "  </tbody>\n",
       "</table>\n",
       "<p>132 rows × 5 columns</p>\n",
       "</div>"
      ],
      "text/plain": [
       "            Passengers       trend  seasonal  residual  component_all\n",
       "Month                                                                \n",
       "1949-07-01         148  126.791667  1.226556  0.951664          148.0\n",
       "1949-08-01         148  127.250000  1.219911  0.953401          148.0\n",
       "...                ...         ...       ...       ...            ...\n",
       "1960-05-01         472  472.750000  0.981378  1.017359          472.0\n",
       "1960-06-01         535  475.041667  1.112776  1.012079          535.0\n",
       "\n",
       "[132 rows x 5 columns]"
      ]
     },
     "execution_count": 3,
     "metadata": {},
     "output_type": "execute_result"
    }
   ],
   "source": [
    "df_component['component_all'] = df_component.trend * df_component.seasonal * df_component.residual\n",
    "df_component"
   ]
  },
  {
   "cell_type": "markdown",
   "id": "5cbc0745",
   "metadata": {
    "papermill": {
     "duration": 0.000854,
     "end_time": "2024-05-29T22:25:28.773236",
     "exception": false,
     "start_time": "2024-05-29T22:25:28.772382",
     "status": "completed"
    },
    "tags": []
   },
   "source": [
    "### Multiplicative Model\n",
    "\n",
    "$y_t = T_t \\times S_t \\times e_t$"
   ]
  },
  {
   "cell_type": "code",
   "execution_count": 4,
   "id": "cb4ac0a5",
   "metadata": {
    "execution": {
     "iopub.execute_input": "2024-05-29T22:25:28.775371Z",
     "iopub.status.busy": "2024-05-29T22:25:28.775287Z",
     "iopub.status.idle": "2024-05-29T22:25:29.264907Z",
     "shell.execute_reply": "2024-05-29T22:25:29.264589Z"
    },
    "papermill": {
     "duration": 0.491796,
     "end_time": "2024-05-29T22:25:29.265886",
     "exception": false,
     "start_time": "2024-05-29T22:25:28.774090",
     "status": "completed"
    },
    "tags": []
   },
   "outputs": [
    {
     "data": {
      "image/svg+xml": [
       "<svg class=\"main-svg\" xmlns=\"http://www.w3.org/2000/svg\" xmlns:xlink=\"http://www.w3.org/1999/xlink\" width=\"700\" height=\"500\" style=\"\" viewBox=\"0 0 700 500\"><rect x=\"0\" y=\"0\" width=\"700\" height=\"500\" style=\"fill: rgb(255, 255, 255); fill-opacity: 1;\"/><defs id=\"defs-dc5a27\"><g class=\"clips\"><clipPath id=\"clipdc5a27xyplot\" class=\"plotclip\"><rect width=\"540\" height=\"320\"/></clipPath><clipPath class=\"axesclip\" id=\"clipdc5a27x\"><rect x=\"80\" y=\"0\" width=\"540\" height=\"500\"/></clipPath><clipPath class=\"axesclip\" id=\"clipdc5a27y\"><rect x=\"0\" y=\"100\" width=\"700\" height=\"320\"/></clipPath><clipPath class=\"axesclip\" id=\"clipdc5a27xy\"><rect x=\"80\" y=\"100\" width=\"540\" height=\"320\"/></clipPath></g><g class=\"gradients\"/><g class=\"patterns\"/></defs><g class=\"bglayer\"><rect class=\"bg\" x=\"80\" y=\"100\" width=\"540\" height=\"320\" style=\"fill: rgb(229, 236, 246); fill-opacity: 1; stroke-width: 0;\"/></g><g class=\"layer-below\"><g class=\"imagelayer\"/><g class=\"shapelayer\"/></g><g class=\"cartesianlayer\"><g class=\"subplot xy\"><g class=\"layer-subplot\"><g class=\"shapelayer\"/><g class=\"imagelayer\"/></g><g class=\"minor-gridlayer\"><g class=\"x\"/><g class=\"y\"/></g><g class=\"gridlayer\"><g class=\"x\"><path class=\"xgrid crisp\" transform=\"translate(125.28999999999999,0)\" d=\"M0,100v320\" style=\"stroke: rgb(255, 255, 255); stroke-opacity: 1; stroke-width: 1px;\"/><path class=\"xgrid crisp\" transform=\"translate(215.87,0)\" d=\"M0,100v320\" style=\"stroke: rgb(255, 255, 255); stroke-opacity: 1; stroke-width: 1px;\"/><path class=\"xgrid crisp\" transform=\"translate(306.57,0)\" d=\"M0,100v320\" style=\"stroke: rgb(255, 255, 255); stroke-opacity: 1; stroke-width: 1px;\"/><path class=\"xgrid crisp\" transform=\"translate(397.15,0)\" d=\"M0,100v320\" style=\"stroke: rgb(255, 255, 255); stroke-opacity: 1; stroke-width: 1px;\"/><path class=\"xgrid crisp\" transform=\"translate(487.85,0)\" d=\"M0,100v320\" style=\"stroke: rgb(255, 255, 255); stroke-opacity: 1; stroke-width: 1px;\"/><path class=\"xgrid crisp\" transform=\"translate(578.4300000000001,0)\" d=\"M0,100v320\" style=\"stroke: rgb(255, 255, 255); stroke-opacity: 1; stroke-width: 1px;\"/></g><g class=\"y\"><path class=\"ygrid crisp\" transform=\"translate(0,371.13)\" d=\"M80,0h540\" style=\"stroke: rgb(255, 255, 255); stroke-opacity: 1; stroke-width: 1px;\"/><path class=\"ygrid crisp\" transform=\"translate(0,322.25)\" d=\"M80,0h540\" style=\"stroke: rgb(255, 255, 255); stroke-opacity: 1; stroke-width: 1px;\"/><path class=\"ygrid crisp\" transform=\"translate(0,273.38)\" d=\"M80,0h540\" style=\"stroke: rgb(255, 255, 255); stroke-opacity: 1; stroke-width: 1px;\"/><path class=\"ygrid crisp\" transform=\"translate(0,224.5)\" d=\"M80,0h540\" style=\"stroke: rgb(255, 255, 255); stroke-opacity: 1; stroke-width: 1px;\"/><path class=\"ygrid crisp\" transform=\"translate(0,175.63)\" d=\"M80,0h540\" style=\"stroke: rgb(255, 255, 255); stroke-opacity: 1; stroke-width: 1px;\"/><path class=\"ygrid crisp\" transform=\"translate(0,126.75)\" d=\"M80,0h540\" style=\"stroke: rgb(255, 255, 255); stroke-opacity: 1; stroke-width: 1px;\"/></g></g><g class=\"zerolinelayer\"><path class=\"yzl zl crisp\" transform=\"translate(0,420)\" d=\"M80,0h540\" style=\"stroke: rgb(255, 255, 255); stroke-opacity: 1; stroke-width: 2px;\"/></g><path class=\"xlines-below\"/><path class=\"ylines-below\"/><g class=\"overlines-below\"/><g class=\"xaxislayer-below\"/><g class=\"yaxislayer-below\"/><g class=\"overaxes-below\"/><g class=\"plot\" transform=\"translate(80,100)\" clip-path=\"url(#clipdc5a27xyplot)\"><g class=\"scatterlayer mlayer\"><g class=\"trace scatter trace0f0ec3\" style=\"stroke-miterlimit: 2;\"><g class=\"fills\"><g><path class=\"js-fill\" d=\"M540,320L0,320L0,265.26L3.85,262.33L7.32,255.49L11.17,256.95L14.89,260.86L22.46,247.67L26.31,247.67L30.15,253.53L33.87,261.84L37.72,269.17L41.44,262.33L45.29,263.79L49.14,258.42L52.61,251.09L56.46,254.02L60.18,258.91L64.03,247.18L67.75,236.91L71.59,236.91L75.44,242.78L79.16,255L83.01,264.28L86.73,251.58L94.43,246.69L97.9,233L101.75,240.33L105.47,235.94L109.32,233L113.04,222.74L116.88,222.74L120.73,230.07L124.45,240.82L128.3,248.64L132.02,238.87L135.87,236.42L139.72,232.03L143.31,225.67L147.16,231.54L150.88,230.56L154.73,213.45L158.45,207.59L162.3,201.72L166.14,217.85L173.71,235.94L177.44,225.18L181.28,224.21L185.13,224.21L188.6,204.66L192.45,205.14L196.17,208.08L200.02,201.23L203.74,190.97L207.59,187.06L211.43,204.17L215.16,216.87L219,232.03L222.73,221.76L226.57,220.3L230.42,228.12L233.89,205.14L237.74,209.05L241.46,205.63L245.31,190.97L249.03,172.4L252.88,176.8L260.45,208.08L264.29,220.78L268.01,208.08L271.86,201.72L275.71,206.12L279.18,189.5L286.75,188.04L290.6,166.05L294.32,142.1L298.17,150.41L309.58,204.17L313.3,184.13L317.15,181.2L321,184.62L324.6,165.07L328.44,167.02L332.16,164.58L336.01,137.21L339.73,118.15L343.58,122.06L351.15,170.44L355,187.55L358.72,170.44L362.56,166.05L366.41,172.89L369.89,146.01L373.73,149.92L377.45,146.5L381.3,113.75L385.02,92.73L388.87,91.76L392.72,122.55L396.44,150.41L400.28,170.93L404.01,155.78L407.85,153.83L411.7,164.58L415.17,143.07L419.02,149.92L422.74,142.59L430.31,80.03L434.16,73.18L438.01,122.55L441.73,144.54L445.57,168.49L449.3,155.29L453.14,144.05L456.99,152.85L460.46,121.57L464.31,126.46L468.03,114.73L471.88,89.31L475.6,52.17L479.45,46.79L483.3,93.71L487.02,121.08L490.86,143.07L494.59,122.06L498.43,116.19L502.28,128.9L505.88,115.22L509.72,94.69L513.45,89.31L517.29,58.52L521.02,16L524.86,23.82L528.71,71.72L532.43,94.69L536.28,129.39L540,108.86\" style=\"fill: rgb(99, 110, 250); fill-opacity: 0.5; stroke-width: 0;\"/></g></g><g class=\"errorbars\"/><g class=\"lines\"><path class=\"js-line\" d=\"M0,265.26L3.85,262.33L7.32,255.49L11.17,256.95L14.89,260.86L22.46,247.67L26.31,247.67L30.15,253.53L33.87,261.84L37.72,269.17L41.44,262.33L45.29,263.79L49.14,258.42L52.61,251.09L56.46,254.02L60.18,258.91L64.03,247.18L67.75,236.91L71.59,236.91L75.44,242.78L79.16,255L83.01,264.28L86.73,251.58L94.43,246.69L97.9,233L101.75,240.33L105.47,235.94L109.32,233L113.04,222.74L116.88,222.74L120.73,230.07L124.45,240.82L128.3,248.64L132.02,238.87L135.87,236.42L139.72,232.03L143.31,225.67L147.16,231.54L150.88,230.56L154.73,213.45L158.45,207.59L162.3,201.72L166.14,217.85L173.71,235.94L177.44,225.18L181.28,224.21L185.13,224.21L188.6,204.66L192.45,205.14L196.17,208.08L200.02,201.23L203.74,190.97L207.59,187.06L211.43,204.17L215.16,216.87L219,232.03L222.73,221.76L226.57,220.3L230.42,228.12L233.89,205.14L237.74,209.05L241.46,205.63L245.31,190.97L249.03,172.4L252.88,176.8L260.45,208.08L264.29,220.78L268.01,208.08L271.86,201.72L275.71,206.12L279.18,189.5L286.75,188.04L290.6,166.05L294.32,142.1L298.17,150.41L309.58,204.17L313.3,184.13L317.15,181.2L321,184.62L324.6,165.07L328.44,167.02L332.16,164.58L336.01,137.21L339.73,118.15L343.58,122.06L351.15,170.44L355,187.55L358.72,170.44L362.56,166.05L366.41,172.89L369.89,146.01L373.73,149.92L377.45,146.5L381.3,113.75L385.02,92.73L388.87,91.76L392.72,122.55L396.44,150.41L400.28,170.93L404.01,155.78L407.85,153.83L411.7,164.58L415.17,143.07L419.02,149.92L422.74,142.59L430.31,80.03L434.16,73.18L438.01,122.55L441.73,144.54L445.57,168.49L449.3,155.29L453.14,144.05L456.99,152.85L460.46,121.57L464.31,126.46L468.03,114.73L471.88,89.31L475.6,52.17L479.45,46.79L483.3,93.71L487.02,121.08L490.86,143.07L494.59,122.06L498.43,116.19L502.28,128.9L505.88,115.22L509.72,94.69L513.45,89.31L517.29,58.52L521.02,16L524.86,23.82L528.71,71.72L532.43,94.69L536.28,129.39L540,108.86\" style=\"vector-effect: none; fill: none; stroke: rgb(99, 110, 250); stroke-opacity: 1; stroke-width: 2px; opacity: 1;\"/></g><g class=\"points\"/><g class=\"text\"/></g></g></g><g class=\"overplot\"/><path class=\"xlines-above crisp\" d=\"M0,0\" style=\"fill: none;\"/><path class=\"ylines-above crisp\" d=\"M0,0\" style=\"fill: none;\"/><g class=\"overlines-above\"/><g class=\"xaxislayer-above\"><g class=\"xtick\"><text text-anchor=\"middle\" x=\"0\" y=\"433\" transform=\"translate(125.28999999999999,0)\" style=\"font-family: 'Open Sans', verdana, arial, sans-serif; font-size: 12px; fill: rgb(42, 63, 95); fill-opacity: 1; white-space: pre; opacity: 1;\">1950</text></g><g class=\"xtick\"><text text-anchor=\"middle\" x=\"0\" y=\"433\" style=\"font-family: 'Open Sans', verdana, arial, sans-serif; font-size: 12px; fill: rgb(42, 63, 95); fill-opacity: 1; white-space: pre; opacity: 1;\" transform=\"translate(215.87,0)\">1952</text></g><g class=\"xtick\"><text text-anchor=\"middle\" x=\"0\" y=\"433\" style=\"font-family: 'Open Sans', verdana, arial, sans-serif; font-size: 12px; fill: rgb(42, 63, 95); fill-opacity: 1; white-space: pre; opacity: 1;\" transform=\"translate(306.57,0)\">1954</text></g><g class=\"xtick\"><text text-anchor=\"middle\" x=\"0\" y=\"433\" style=\"font-family: 'Open Sans', verdana, arial, sans-serif; font-size: 12px; fill: rgb(42, 63, 95); fill-opacity: 1; white-space: pre; opacity: 1;\" transform=\"translate(397.15,0)\">1956</text></g><g class=\"xtick\"><text text-anchor=\"middle\" x=\"0\" y=\"433\" style=\"font-family: 'Open Sans', verdana, arial, sans-serif; font-size: 12px; fill: rgb(42, 63, 95); fill-opacity: 1; white-space: pre; opacity: 1;\" transform=\"translate(487.85,0)\">1958</text></g><g class=\"xtick\"><text text-anchor=\"middle\" x=\"0\" y=\"433\" style=\"font-family: 'Open Sans', verdana, arial, sans-serif; font-size: 12px; fill: rgb(42, 63, 95); fill-opacity: 1; white-space: pre; opacity: 1;\" transform=\"translate(578.4300000000001,0)\">1960</text></g></g><g class=\"yaxislayer-above\"><g class=\"ytick\"><text text-anchor=\"end\" x=\"79\" y=\"4.199999999999999\" transform=\"translate(0,420)\" style=\"font-family: 'Open Sans', verdana, arial, sans-serif; font-size: 12px; fill: rgb(42, 63, 95); fill-opacity: 1; white-space: pre; opacity: 1;\">0</text></g><g class=\"ytick\"><text text-anchor=\"end\" x=\"79\" y=\"4.199999999999999\" style=\"font-family: 'Open Sans', verdana, arial, sans-serif; font-size: 12px; fill: rgb(42, 63, 95); fill-opacity: 1; white-space: pre; opacity: 1;\" transform=\"translate(0,371.13)\">100</text></g><g class=\"ytick\"><text text-anchor=\"end\" x=\"79\" y=\"4.199999999999999\" style=\"font-family: 'Open Sans', verdana, arial, sans-serif; font-size: 12px; fill: rgb(42, 63, 95); fill-opacity: 1; white-space: pre; opacity: 1;\" transform=\"translate(0,322.25)\">200</text></g><g class=\"ytick\"><text text-anchor=\"end\" x=\"79\" y=\"4.199999999999999\" style=\"font-family: 'Open Sans', verdana, arial, sans-serif; font-size: 12px; fill: rgb(42, 63, 95); fill-opacity: 1; white-space: pre; opacity: 1;\" transform=\"translate(0,273.38)\">300</text></g><g class=\"ytick\"><text text-anchor=\"end\" x=\"79\" y=\"4.199999999999999\" style=\"font-family: 'Open Sans', verdana, arial, sans-serif; font-size: 12px; fill: rgb(42, 63, 95); fill-opacity: 1; white-space: pre; opacity: 1;\" transform=\"translate(0,224.5)\">400</text></g><g class=\"ytick\"><text text-anchor=\"end\" x=\"79\" y=\"4.199999999999999\" style=\"font-family: 'Open Sans', verdana, arial, sans-serif; font-size: 12px; fill: rgb(42, 63, 95); fill-opacity: 1; white-space: pre; opacity: 1;\" transform=\"translate(0,175.63)\">500</text></g><g class=\"ytick\"><text text-anchor=\"end\" x=\"79\" y=\"4.199999999999999\" style=\"font-family: 'Open Sans', verdana, arial, sans-serif; font-size: 12px; fill: rgb(42, 63, 95); fill-opacity: 1; white-space: pre; opacity: 1;\" transform=\"translate(0,126.75)\">600</text></g></g><g class=\"overaxes-above\"/></g></g><g class=\"polarlayer\"/><g class=\"smithlayer\"/><g class=\"ternarylayer\"/><g class=\"geolayer\"/><g class=\"funnelarealayer\"/><g class=\"pielayer\"/><g class=\"iciclelayer\"/><g class=\"treemaplayer\"/><g class=\"sunburstlayer\"/><g class=\"glimages\"/><defs id=\"topdefs-dc5a27\"><g class=\"clips\"/></defs><g class=\"layer-above\"><g class=\"imagelayer\"/><g class=\"shapelayer\"/></g><g class=\"infolayer\"><g class=\"g-gtitle\"><text class=\"gtitle\" x=\"35\" y=\"50\" text-anchor=\"start\" dy=\"0em\" style=\"font-family: 'Open Sans', verdana, arial, sans-serif; font-size: 17px; fill: rgb(42, 63, 95); opacity: 1; font-weight: normal; white-space: pre;\">Original Time Series</text></g><g class=\"g-xtitle\"><text class=\"xtitle\" x=\"350\" y=\"460.3\" text-anchor=\"middle\" style=\"font-family: 'Open Sans', verdana, arial, sans-serif; font-size: 14px; fill: rgb(42, 63, 95); opacity: 1; font-weight: normal; white-space: pre;\">x</text></g><g class=\"g-ytitle\"><text class=\"ytitle\" transform=\"rotate(-90,31.809375000000003,260)\" x=\"31.809375000000003\" y=\"260\" text-anchor=\"middle\" style=\"font-family: 'Open Sans', verdana, arial, sans-serif; font-size: 14px; fill: rgb(42, 63, 95); opacity: 1; font-weight: normal; white-space: pre;\">y</text></g></g></svg>"
      ]
     },
     "metadata": {},
     "output_type": "display_data"
    }
   ],
   "source": [
    "import plotly.express as px\n",
    "\n",
    "px.area(x=df_passenger.index, y=df_passenger['Passengers'], title='Original Time Series')"
   ]
  },
  {
   "cell_type": "code",
   "execution_count": 5,
   "id": "90030c3d",
   "metadata": {
    "execution": {
     "iopub.execute_input": "2024-05-29T22:25:29.269227Z",
     "iopub.status.busy": "2024-05-29T22:25:29.269037Z",
     "iopub.status.idle": "2024-05-29T22:25:29.373387Z",
     "shell.execute_reply": "2024-05-29T22:25:29.373140Z"
    },
    "papermill": {
     "duration": 0.106814,
     "end_time": "2024-05-29T22:25:29.374180",
     "exception": false,
     "start_time": "2024-05-29T22:25:29.267366",
     "status": "completed"
    },
    "tags": []
   },
   "outputs": [
    {
     "data": {
      "image/svg+xml": [
       "<svg class=\"main-svg\" xmlns=\"http://www.w3.org/2000/svg\" xmlns:xlink=\"http://www.w3.org/1999/xlink\" width=\"700\" height=\"500\" style=\"\" viewBox=\"0 0 700 500\"><rect x=\"0\" y=\"0\" width=\"700\" height=\"500\" style=\"fill: rgb(255, 255, 255); fill-opacity: 1;\"/><defs id=\"defs-c02d19\"><g class=\"clips\"><clipPath id=\"clipc02d19xyplot\" class=\"plotclip\"><rect width=\"162\" height=\"320\"/></clipPath><clipPath id=\"clipc02d19x2y2plot\" class=\"plotclip\"><rect width=\"161.99999999999997\" height=\"320\"/></clipPath><clipPath id=\"clipc02d19x3y3plot\" class=\"plotclip\"><rect width=\"162.00000000000003\" height=\"320\"/></clipPath><clipPath class=\"axesclip\" id=\"clipc02d19x\"><rect x=\"80\" y=\"0\" width=\"162\" height=\"500\"/></clipPath><clipPath class=\"axesclip\" id=\"clipc02d19y\"><rect x=\"0\" y=\"100\" width=\"700\" height=\"320\"/></clipPath><clipPath class=\"axesclip\" id=\"clipc02d19xy\"><rect x=\"80\" y=\"100\" width=\"162\" height=\"320\"/></clipPath><clipPath class=\"axesclip\" id=\"clipc02d19y2\"><rect x=\"0\" y=\"100\" width=\"700\" height=\"320\"/></clipPath><clipPath class=\"axesclip\" id=\"clipc02d19xy2\"><rect x=\"80\" y=\"100\" width=\"162\" height=\"320\"/></clipPath><clipPath class=\"axesclip\" id=\"clipc02d19y3\"><rect x=\"0\" y=\"100\" width=\"700\" height=\"320\"/></clipPath><clipPath class=\"axesclip\" id=\"clipc02d19xy3\"><rect x=\"80\" y=\"100\" width=\"162\" height=\"320\"/></clipPath><clipPath class=\"axesclip\" id=\"clipc02d19x2\"><rect x=\"269\" y=\"0\" width=\"161.99999999999997\" height=\"500\"/></clipPath><clipPath class=\"axesclip\" id=\"clipc02d19x2y\"><rect x=\"269\" y=\"100\" width=\"161.99999999999997\" height=\"320\"/></clipPath><clipPath class=\"axesclip\" id=\"clipc02d19x2y2\"><rect x=\"269\" y=\"100\" width=\"161.99999999999997\" height=\"320\"/></clipPath><clipPath class=\"axesclip\" id=\"clipc02d19x2y3\"><rect x=\"269\" y=\"100\" width=\"161.99999999999997\" height=\"320\"/></clipPath><clipPath class=\"axesclip\" id=\"clipc02d19x3\"><rect x=\"458\" y=\"0\" width=\"162.00000000000003\" height=\"500\"/></clipPath><clipPath class=\"axesclip\" id=\"clipc02d19x3y\"><rect x=\"458\" y=\"100\" width=\"162.00000000000003\" height=\"320\"/></clipPath><clipPath class=\"axesclip\" id=\"clipc02d19x3y2\"><rect x=\"458\" y=\"100\" width=\"162.00000000000003\" height=\"320\"/></clipPath><clipPath class=\"axesclip\" id=\"clipc02d19x3y3\"><rect x=\"458\" y=\"100\" width=\"162.00000000000003\" height=\"320\"/></clipPath></g><g class=\"gradients\"/><g class=\"patterns\"/></defs><g class=\"bglayer\"><rect class=\"bg\" x=\"80\" y=\"100\" width=\"162\" height=\"320\" style=\"fill: rgb(229, 236, 246); fill-opacity: 1; stroke-width: 0;\"/><rect class=\"bg\" x=\"269\" y=\"100\" width=\"161.99999999999997\" height=\"320\" style=\"fill: rgb(229, 236, 246); fill-opacity: 1; stroke-width: 0;\"/><rect class=\"bg\" x=\"458\" y=\"100\" width=\"162.00000000000003\" height=\"320\" style=\"fill: rgb(229, 236, 246); fill-opacity: 1; stroke-width: 0;\"/></g><g class=\"layer-below\"><g class=\"imagelayer\"/><g class=\"shapelayer\"/></g><g class=\"cartesianlayer\"><g class=\"subplot xy\"><g class=\"layer-subplot\"><g class=\"shapelayer\"/><g class=\"imagelayer\"/></g><g class=\"minor-gridlayer\"><g class=\"x\"/><g class=\"y\"/></g><g class=\"gridlayer\"><g class=\"x\"><path class=\"xgrid crisp\" transform=\"translate(87.47,0)\" d=\"M0,100v320\" style=\"stroke: rgb(255, 255, 255); stroke-opacity: 1; stroke-width: 1px;\"/><path class=\"xgrid crisp\" transform=\"translate(161.65,0)\" d=\"M0,100v320\" style=\"stroke: rgb(255, 255, 255); stroke-opacity: 1; stroke-width: 1px;\"/><path class=\"xgrid crisp\" transform=\"translate(235.83,0)\" d=\"M0,100v320\" style=\"stroke: rgb(255, 255, 255); stroke-opacity: 1; stroke-width: 1px;\"/></g><g class=\"y\"><path class=\"ygrid crisp\" transform=\"translate(0,356.01)\" d=\"M80,0h162\" style=\"stroke: rgb(255, 255, 255); stroke-opacity: 1; stroke-width: 1px;\"/><path class=\"ygrid crisp\" transform=\"translate(0,292.01)\" d=\"M80,0h162\" style=\"stroke: rgb(255, 255, 255); stroke-opacity: 1; stroke-width: 1px;\"/><path class=\"ygrid crisp\" transform=\"translate(0,228.02)\" d=\"M80,0h162\" style=\"stroke: rgb(255, 255, 255); stroke-opacity: 1; stroke-width: 1px;\"/><path class=\"ygrid crisp\" transform=\"translate(0,164.01999999999998)\" d=\"M80,0h162\" style=\"stroke: rgb(255, 255, 255); stroke-opacity: 1; stroke-width: 1px;\"/></g></g><g class=\"zerolinelayer\"><path class=\"yzl zl crisp\" transform=\"translate(0,420)\" d=\"M80,0h162\" style=\"stroke: rgb(255, 255, 255); stroke-opacity: 1; stroke-width: 2px;\"/></g><path class=\"xlines-below\"/><path class=\"ylines-below\"/><g class=\"overlines-below\"/><g class=\"xaxislayer-below\"/><g class=\"yaxislayer-below\"/><g class=\"overaxes-below\"/><g class=\"plot\" transform=\"translate(80,100)\" clip-path=\"url(#clipc02d19xyplot)\"><g class=\"scatterlayer mlayer\"><g class=\"trace scatter trace824d15\" style=\"stroke-miterlimit: 2;\"><g class=\"fills\"><g><path class=\"js-fill\" d=\"M162,320L0,320L0,238.86L6.22,236.97L7.47,236.01L12.35,232.06L13.61,231.21L19.82,223.02L21.04,221L33.39,206.84L34.65,206.06L38.39,200.84L39.57,199.02L47.04,190.6L48.26,188.01L50.74,183.45L52,181.88L55.65,177.35L56.87,176.6L60.61,175.8L61.87,176.04L64.35,176.36L65.56,175.67L70.48,170.31L71.7,169.21L74.18,166.09L75.43,163.88L81.65,152.44L82.91,149.35L86.52,141.78L87.78,139.56L101.39,112.34L102.65,110.69L108.87,102.07L110.09,99.81L116.22,86.74L117.48,85.03L119.96,82.45L121.22,81.83L124.91,80.9L126.17,79.86L128.57,77.14L129.83,76.82L133.52,75.65L134.78,74.47L137.26,70.21L138.52,67.41L145.87,50.9L147.13,47.7L149.61,41.54L150.87,39.89L153.35,34.69L154.57,31.63L158.26,22.29L159.52,19.65L162,16\" style=\"fill: rgb(99, 110, 250); fill-opacity: 0.5; stroke-width: 0;\"/></g></g><g class=\"errorbars\"/><g class=\"lines\"><path class=\"js-line\" d=\"M0,238.86L6.22,236.97L7.47,236.01L12.35,232.06L13.61,231.21L19.82,223.02L21.04,221L33.39,206.84L34.65,206.06L38.39,200.84L39.57,199.02L47.04,190.6L48.26,188.01L50.74,183.45L52,181.88L55.65,177.35L56.87,176.6L60.61,175.8L61.87,176.04L64.35,176.36L65.56,175.67L70.48,170.31L71.7,169.21L74.18,166.09L75.43,163.88L81.65,152.44L82.91,149.35L86.52,141.78L87.78,139.56L101.39,112.34L102.65,110.69L108.87,102.07L110.09,99.81L116.22,86.74L117.48,85.03L119.96,82.45L121.22,81.83L124.91,80.9L126.17,79.86L128.57,77.14L129.83,76.82L133.52,75.65L134.78,74.47L137.26,70.21L138.52,67.41L145.87,50.9L147.13,47.7L149.61,41.54L150.87,39.89L153.35,34.69L154.57,31.63L158.26,22.29L159.52,19.65L162,16\" style=\"vector-effect: none; fill: none; stroke: rgb(99, 110, 250); stroke-opacity: 1; stroke-width: 2px; opacity: 1;\"/></g><g class=\"points\"/><g class=\"text\"/></g></g></g><g class=\"overplot\"/><path class=\"xlines-above crisp\" d=\"M0,0\" style=\"fill: none;\"/><path class=\"ylines-above crisp\" d=\"M0,0\" style=\"fill: none;\"/><g class=\"overlines-above\"/><g class=\"xaxislayer-above\"><g class=\"xtick\"><text text-anchor=\"middle\" x=\"0\" y=\"433\" transform=\"translate(87.47,0)\" style=\"font-family: 'Open Sans', verdana, arial, sans-serif; font-size: 12px; fill: rgb(42, 63, 95); fill-opacity: 1; white-space: pre; opacity: 1;\">1950</text></g><g class=\"xtick\"><text text-anchor=\"middle\" x=\"0\" y=\"433\" style=\"font-family: 'Open Sans', verdana, arial, sans-serif; font-size: 12px; fill: rgb(42, 63, 95); fill-opacity: 1; white-space: pre; opacity: 1;\" transform=\"translate(161.65,0)\">1955</text></g><g class=\"xtick\"><text text-anchor=\"middle\" x=\"0\" y=\"433\" style=\"font-family: 'Open Sans', verdana, arial, sans-serif; font-size: 12px; fill: rgb(42, 63, 95); fill-opacity: 1; white-space: pre; opacity: 1;\" transform=\"translate(235.83,0)\">1960</text></g></g><g class=\"yaxislayer-above\"><g class=\"ytick\"><text text-anchor=\"end\" x=\"79\" y=\"4.199999999999999\" transform=\"translate(0,420)\" style=\"font-family: 'Open Sans', verdana, arial, sans-serif; font-size: 12px; fill: rgb(42, 63, 95); fill-opacity: 1; white-space: pre; opacity: 1;\">0</text></g><g class=\"ytick\"><text text-anchor=\"end\" x=\"79\" y=\"4.199999999999999\" style=\"font-family: 'Open Sans', verdana, arial, sans-serif; font-size: 12px; fill: rgb(42, 63, 95); fill-opacity: 1; white-space: pre; opacity: 1;\" transform=\"translate(0,356.01)\">100</text></g><g class=\"ytick\"><text text-anchor=\"end\" x=\"79\" y=\"4.199999999999999\" style=\"font-family: 'Open Sans', verdana, arial, sans-serif; font-size: 12px; fill: rgb(42, 63, 95); fill-opacity: 1; white-space: pre; opacity: 1;\" transform=\"translate(0,292.01)\">200</text></g><g class=\"ytick\"><text text-anchor=\"end\" x=\"79\" y=\"4.199999999999999\" style=\"font-family: 'Open Sans', verdana, arial, sans-serif; font-size: 12px; fill: rgb(42, 63, 95); fill-opacity: 1; white-space: pre; opacity: 1;\" transform=\"translate(0,228.02)\">300</text></g><g class=\"ytick\"><text text-anchor=\"end\" x=\"79\" y=\"4.199999999999999\" style=\"font-family: 'Open Sans', verdana, arial, sans-serif; font-size: 12px; fill: rgb(42, 63, 95); fill-opacity: 1; white-space: pre; opacity: 1;\" transform=\"translate(0,164.01999999999998)\">400</text></g><g class=\"ytick\"><text text-anchor=\"end\" x=\"79\" y=\"4.199999999999999\" style=\"font-family: 'Open Sans', verdana, arial, sans-serif; font-size: 12px; fill: rgb(42, 63, 95); fill-opacity: 1; white-space: pre; opacity: 1;\" transform=\"translate(0,100.03)\">500</text></g></g><g class=\"overaxes-above\"/></g><g class=\"subplot x2y2\"><g class=\"layer-subplot\"><g class=\"shapelayer\"/><g class=\"imagelayer\"/></g><g class=\"minor-gridlayer\"><g class=\"x2\"/><g class=\"y2\"/></g><g class=\"gridlayer\"><g class=\"x2\"><path class=\"x2grid crisp\" transform=\"translate(276.47,0)\" d=\"M0,100v320\" style=\"stroke: rgb(255, 255, 255); stroke-opacity: 1; stroke-width: 1px;\"/><path class=\"x2grid crisp\" transform=\"translate(350.65,0)\" d=\"M0,100v320\" style=\"stroke: rgb(255, 255, 255); stroke-opacity: 1; stroke-width: 1px;\"/><path class=\"x2grid crisp\" transform=\"translate(424.83000000000004,0)\" d=\"M0,100v320\" style=\"stroke: rgb(255, 255, 255); stroke-opacity: 1; stroke-width: 1px;\"/></g><g class=\"y2\"><path class=\"y2grid crisp\" transform=\"translate(0,370.43)\" d=\"M269,0h161.99999999999997\" style=\"stroke: rgb(255, 255, 255); stroke-opacity: 1; stroke-width: 1px;\"/><path class=\"y2grid crisp\" transform=\"translate(0,320.86)\" d=\"M269,0h161.99999999999997\" style=\"stroke: rgb(255, 255, 255); stroke-opacity: 1; stroke-width: 1px;\"/><path class=\"y2grid crisp\" transform=\"translate(0,271.28999999999996)\" d=\"M269,0h161.99999999999997\" style=\"stroke: rgb(255, 255, 255); stroke-opacity: 1; stroke-width: 1px;\"/><path class=\"y2grid crisp\" transform=\"translate(0,221.72)\" d=\"M269,0h161.99999999999997\" style=\"stroke: rgb(255, 255, 255); stroke-opacity: 1; stroke-width: 1px;\"/><path class=\"y2grid crisp\" transform=\"translate(0,172.15)\" d=\"M269,0h161.99999999999997\" style=\"stroke: rgb(255, 255, 255); stroke-opacity: 1; stroke-width: 1px;\"/><path class=\"y2grid crisp\" transform=\"translate(0,122.58)\" d=\"M269,0h161.99999999999997\" style=\"stroke: rgb(255, 255, 255); stroke-opacity: 1; stroke-width: 1px;\"/></g></g><g class=\"zerolinelayer\"><path class=\"y2zl zl crisp\" transform=\"translate(0,420)\" d=\"M269,0h161.99999999999997\" style=\"stroke: rgb(255, 255, 255); stroke-opacity: 1; stroke-width: 2px;\"/></g><path class=\"xlines-below\"/><path class=\"ylines-below\"/><g class=\"overlines-below\"/><g class=\"xaxislayer-below\"/><g class=\"yaxislayer-below\"/><g class=\"overaxes-below\"/><g class=\"plot\" transform=\"translate(269,100)\" clip-path=\"url(#clipc02d19x2y2plot)\"><g class=\"scatterlayer mlayer\"><g class=\"trace scatter traced81368\" style=\"stroke-miterlimit: 2;\"><g class=\"fills\"><g><path class=\"js-fill\" d=\"M162,320L0,320L0,16L1.26,17.65L2.52,57.16L5,121.43L6.22,97.23L7.47,94.4L8.73,100.99L9.87,70.33L11.13,78.12L12.35,76.77L13.61,44.2L14.83,16L16.09,17.65L19.82,121.43L21.04,97.23L22.3,94.4L23.56,100.99L24.7,70.33L25.96,78.12L27.18,76.77L28.44,44.2L29.65,16L30.91,17.65L34.65,121.43L35.87,97.23L37.13,94.4L38.39,100.99L39.57,70.33L40.82,78.12L42.04,76.77L43.3,44.2L44.52,16L45.78,17.65L49.52,121.43L50.74,97.23L52,94.4L53.26,100.99L54.39,70.33L55.65,78.12L56.87,76.77L58.13,44.2L59.35,16L60.61,17.65L64.35,121.43L65.56,97.23L66.82,94.4L68.08,100.99L69.22,70.33L70.48,78.12L71.7,76.77L72.96,44.2L74.18,16L75.43,17.65L79.17,121.43L80.39,97.23L81.65,94.4L82.91,100.99L84.05,70.33L85.31,78.12L86.52,76.77L87.78,44.2L89,16L90.26,17.65L94,121.43L95.22,97.23L96.48,94.4L97.74,100.99L98.91,70.33L100.17,78.12L101.39,76.77L102.65,44.2L103.87,16L105.13,17.65L108.87,121.43L110.09,97.23L111.34,94.4L112.6,100.99L113.74,70.33L115,78.12L116.22,76.77L117.48,44.2L118.7,16L119.96,17.65L123.69,121.43L124.91,97.23L126.17,94.4L127.43,100.99L128.57,70.33L129.83,78.12L131.05,76.77L132.31,44.2L133.52,16L134.78,17.65L138.52,121.43L139.74,97.23L141,94.4L142.26,100.99L143.4,70.33L144.65,78.12L145.87,76.77L147.13,44.2L148.35,16L149.61,17.65L153.35,121.43L154.57,97.23L155.83,94.4L157.08,100.99L158.26,70.33L159.52,78.12L160.74,76.77L162,44.2\" style=\"fill: rgb(99, 110, 250); fill-opacity: 0.5; stroke-width: 0;\"/></g></g><g class=\"errorbars\"/><g class=\"lines\"><path class=\"js-line\" d=\"M0,16L1.26,17.65L2.52,57.16L5,121.43L6.22,97.23L7.47,94.4L8.73,100.99L9.87,70.33L11.13,78.12L12.35,76.77L13.61,44.2L14.83,16L16.09,17.65L19.82,121.43L21.04,97.23L22.3,94.4L23.56,100.99L24.7,70.33L25.96,78.12L27.18,76.77L28.44,44.2L29.65,16L30.91,17.65L34.65,121.43L35.87,97.23L37.13,94.4L38.39,100.99L39.57,70.33L40.82,78.12L42.04,76.77L43.3,44.2L44.52,16L45.78,17.65L49.52,121.43L50.74,97.23L52,94.4L53.26,100.99L54.39,70.33L55.65,78.12L56.87,76.77L58.13,44.2L59.35,16L60.61,17.65L64.35,121.43L65.56,97.23L66.82,94.4L68.08,100.99L69.22,70.33L70.48,78.12L71.7,76.77L72.96,44.2L74.18,16L75.43,17.65L79.17,121.43L80.39,97.23L81.65,94.4L82.91,100.99L84.05,70.33L85.31,78.12L86.52,76.77L87.78,44.2L89,16L90.26,17.65L94,121.43L95.22,97.23L96.48,94.4L97.74,100.99L98.91,70.33L100.17,78.12L101.39,76.77L102.65,44.2L103.87,16L105.13,17.65L108.87,121.43L110.09,97.23L111.34,94.4L112.6,100.99L113.74,70.33L115,78.12L116.22,76.77L117.48,44.2L118.7,16L119.96,17.65L123.69,121.43L124.91,97.23L126.17,94.4L127.43,100.99L128.57,70.33L129.83,78.12L131.05,76.77L132.31,44.2L133.52,16L134.78,17.65L138.52,121.43L139.74,97.23L141,94.4L142.26,100.99L143.4,70.33L144.65,78.12L145.87,76.77L147.13,44.2L148.35,16L149.61,17.65L153.35,121.43L154.57,97.23L155.83,94.4L157.08,100.99L158.26,70.33L159.52,78.12L160.74,76.77L162,44.2\" style=\"vector-effect: none; fill: none; stroke: rgb(99, 110, 250); stroke-opacity: 1; stroke-width: 2px; opacity: 1;\"/></g><g class=\"points\"/><g class=\"text\"/></g></g></g><g class=\"overplot\"/><path class=\"xlines-above crisp\" d=\"M0,0\" style=\"fill: none;\"/><path class=\"ylines-above crisp\" d=\"M0,0\" style=\"fill: none;\"/><g class=\"overlines-above\"/><g class=\"xaxislayer-above\"><g class=\"x2tick\"><text text-anchor=\"middle\" x=\"0\" y=\"433\" transform=\"translate(276.47,0)\" style=\"font-family: 'Open Sans', verdana, arial, sans-serif; font-size: 12px; fill: rgb(42, 63, 95); fill-opacity: 1; white-space: pre; opacity: 1;\">1950</text></g><g class=\"x2tick\"><text text-anchor=\"middle\" x=\"0\" y=\"433\" style=\"font-family: 'Open Sans', verdana, arial, sans-serif; font-size: 12px; fill: rgb(42, 63, 95); fill-opacity: 1; white-space: pre; opacity: 1;\" transform=\"translate(350.65,0)\">1955</text></g><g class=\"x2tick\"><text text-anchor=\"middle\" x=\"0\" y=\"433\" style=\"font-family: 'Open Sans', verdana, arial, sans-serif; font-size: 12px; fill: rgb(42, 63, 95); fill-opacity: 1; white-space: pre; opacity: 1;\" transform=\"translate(424.83000000000004,0)\">1960</text></g></g><g class=\"yaxislayer-above\"><g class=\"y2tick\"><text text-anchor=\"end\" x=\"268\" y=\"4.199999999999999\" transform=\"translate(0,420)\" style=\"font-family: 'Open Sans', verdana, arial, sans-serif; font-size: 12px; fill: rgb(42, 63, 95); fill-opacity: 1; white-space: pre; opacity: 1;\">0</text></g><g class=\"y2tick\"><text text-anchor=\"end\" x=\"268\" y=\"4.199999999999999\" style=\"font-family: 'Open Sans', verdana, arial, sans-serif; font-size: 12px; fill: rgb(42, 63, 95); fill-opacity: 1; white-space: pre; opacity: 1;\" transform=\"translate(0,370.43)\">0.2</text></g><g class=\"y2tick\"><text text-anchor=\"end\" x=\"268\" y=\"4.199999999999999\" style=\"font-family: 'Open Sans', verdana, arial, sans-serif; font-size: 12px; fill: rgb(42, 63, 95); fill-opacity: 1; white-space: pre; opacity: 1;\" transform=\"translate(0,320.86)\">0.4</text></g><g class=\"y2tick\"><text text-anchor=\"end\" x=\"268\" y=\"4.199999999999999\" style=\"font-family: 'Open Sans', verdana, arial, sans-serif; font-size: 12px; fill: rgb(42, 63, 95); fill-opacity: 1; white-space: pre; opacity: 1;\" transform=\"translate(0,271.28999999999996)\">0.6</text></g><g class=\"y2tick\"><text text-anchor=\"end\" x=\"268\" y=\"4.199999999999999\" style=\"font-family: 'Open Sans', verdana, arial, sans-serif; font-size: 12px; fill: rgb(42, 63, 95); fill-opacity: 1; white-space: pre; opacity: 1;\" transform=\"translate(0,221.72)\">0.8</text></g><g class=\"y2tick\"><text text-anchor=\"end\" x=\"268\" y=\"4.199999999999999\" style=\"font-family: 'Open Sans', verdana, arial, sans-serif; font-size: 12px; fill: rgb(42, 63, 95); fill-opacity: 1; white-space: pre; opacity: 1;\" transform=\"translate(0,172.15)\">1</text></g><g class=\"y2tick\"><text text-anchor=\"end\" x=\"268\" y=\"4.199999999999999\" style=\"font-family: 'Open Sans', verdana, arial, sans-serif; font-size: 12px; fill: rgb(42, 63, 95); fill-opacity: 1; white-space: pre; opacity: 1;\" transform=\"translate(0,122.58)\">1.2</text></g></g><g class=\"overaxes-above\"/></g><g class=\"subplot x3y3\"><g class=\"layer-subplot\"><g class=\"shapelayer\"/><g class=\"imagelayer\"/></g><g class=\"minor-gridlayer\"><g class=\"x3\"/><g class=\"y3\"/></g><g class=\"gridlayer\"><g class=\"x3\"><path class=\"x3grid crisp\" transform=\"translate(465.47,0)\" d=\"M0,100v320\" style=\"stroke: rgb(255, 255, 255); stroke-opacity: 1; stroke-width: 1px;\"/><path class=\"x3grid crisp\" transform=\"translate(539.65,0)\" d=\"M0,100v320\" style=\"stroke: rgb(255, 255, 255); stroke-opacity: 1; stroke-width: 1px;\"/><path class=\"x3grid crisp\" transform=\"translate(613.83,0)\" d=\"M0,100v320\" style=\"stroke: rgb(255, 255, 255); stroke-opacity: 1; stroke-width: 1px;\"/></g><g class=\"y3\"><path class=\"y3grid crisp\" transform=\"translate(0,364.42)\" d=\"M458,0h162.00000000000003\" style=\"stroke: rgb(255, 255, 255); stroke-opacity: 1; stroke-width: 1px;\"/><path class=\"y3grid crisp\" transform=\"translate(0,308.85)\" d=\"M458,0h162.00000000000003\" style=\"stroke: rgb(255, 255, 255); stroke-opacity: 1; stroke-width: 1px;\"/><path class=\"y3grid crisp\" transform=\"translate(0,253.27)\" d=\"M458,0h162.00000000000003\" style=\"stroke: rgb(255, 255, 255); stroke-opacity: 1; stroke-width: 1px;\"/><path class=\"y3grid crisp\" transform=\"translate(0,197.69)\" d=\"M458,0h162.00000000000003\" style=\"stroke: rgb(255, 255, 255); stroke-opacity: 1; stroke-width: 1px;\"/><path class=\"y3grid crisp\" transform=\"translate(0,142.11)\" d=\"M458,0h162.00000000000003\" style=\"stroke: rgb(255, 255, 255); stroke-opacity: 1; stroke-width: 1px;\"/></g></g><g class=\"zerolinelayer\"><path class=\"y3zl zl crisp\" transform=\"translate(0,420)\" d=\"M458,0h162.00000000000003\" style=\"stroke: rgb(255, 255, 255); stroke-opacity: 1; stroke-width: 2px;\"/></g><path class=\"xlines-below\"/><path class=\"ylines-below\"/><g class=\"overlines-below\"/><g class=\"xaxislayer-below\"/><g class=\"yaxislayer-below\"/><g class=\"overaxes-below\"/><g class=\"plot\" transform=\"translate(458,100)\" clip-path=\"url(#clipc02d19x3y3plot)\"><g class=\"scatterlayer mlayer\"><g class=\"trace scatter trace961f8c\" style=\"stroke-miterlimit: 2;\"><g class=\"fills\"><g><path class=\"js-fill\" d=\"M162,320L0,320L0,55.54L1.26,55.06L2.52,41.5L5,40.37L6.22,38.83L7.47,52.51L8.73,22.25L11.13,38.21L12.35,62.43L14.83,46.68L16.09,49.51L17.35,35.86L18.56,49.84L19.82,59.08L21.04,40.23L22.3,38.27L23.56,24.32L24.7,16.59L25.96,37.2L27.18,27.78L28.44,57.11L29.65,56.73L30.91,58.85L32.17,45.21L33.39,43.81L34.65,35.57L35.87,35.14L37.13,34.92L38.39,16L40.82,50.57L42.04,52.32L43.3,42.01L44.52,56.88L45.78,44.03L47.04,49.16L49.52,36.48L50.74,38.91L52,42.76L53.26,37.9L54.39,25.31L55.65,19.82L56.87,30.63L58.13,49.95L59.35,54.56L60.61,45.03L61.87,43.94L63.09,36.76L65.56,44.47L66.82,46.84L68.08,63.45L69.22,40.88L70.48,43.67L71.7,38.79L72.96,42.7L74.18,35.51L75.43,46.42L76.69,45.42L79.17,42.25L80.39,44.65L81.65,37.83L82.91,45.22L84.05,48.34L85.31,41.68L86.52,45.48L87.78,41.01L89,31.4L90.26,46.81L91.52,41.21L92.74,42.03L94,46.9L95.22,38.62L97.74,42.94L98.91,45.55L100.17,43L101.39,42.51L102.65,34.46L103.87,36.06L105.13,41.98L106.39,41.87L107.61,46.7L108.87,43.98L110.09,45.05L111.34,43.86L112.6,51.84L113.74,45.4L115,45.79L116.22,44.22L117.48,32.98L118.7,34.85L119.96,33.42L121.22,35.55L122.43,39.1L123.69,36.19L124.91,41.97L126.17,43.39L127.43,55.37L128.57,56.87L129.83,59.23L131.05,50.01L133.52,28.67L134.78,20.17L136.04,46.1L137.26,42.73L138.52,47.59L139.74,58.63L141,46.97L142.26,55.85L143.4,48.08L144.65,49.16L145.87,37.18L147.13,42.99L148.35,31.74L149.61,27.36L150.87,42.82L152.09,41.74L153.35,38.37L154.57,42.14L155.83,41.02L157.08,53.48L158.26,71.55L159.52,40.31L160.74,37.29L162,38.76\" style=\"fill: rgb(99, 110, 250); fill-opacity: 0.5; stroke-width: 0;\"/></g></g><g class=\"errorbars\"/><g class=\"lines\"><path class=\"js-line\" d=\"M0,55.54L1.26,55.06L2.52,41.5L5,40.37L6.22,38.83L7.47,52.51L8.73,22.25L11.13,38.21L12.35,62.43L14.83,46.68L16.09,49.51L17.35,35.86L18.56,49.84L19.82,59.08L21.04,40.23L22.3,38.27L23.56,24.32L24.7,16.59L25.96,37.2L27.18,27.78L28.44,57.11L29.65,56.73L30.91,58.85L32.17,45.21L33.39,43.81L34.65,35.57L35.87,35.14L37.13,34.92L38.39,16L40.82,50.57L42.04,52.32L43.3,42.01L44.52,56.88L45.78,44.03L47.04,49.16L49.52,36.48L50.74,38.91L52,42.76L53.26,37.9L54.39,25.31L55.65,19.82L56.87,30.63L58.13,49.95L59.35,54.56L60.61,45.03L61.87,43.94L63.09,36.76L65.56,44.47L66.82,46.84L68.08,63.45L69.22,40.88L70.48,43.67L71.7,38.79L72.96,42.7L74.18,35.51L75.43,46.42L76.69,45.42L79.17,42.25L80.39,44.65L81.65,37.83L82.91,45.22L84.05,48.34L85.31,41.68L86.52,45.48L87.78,41.01L89,31.4L90.26,46.81L91.52,41.21L92.74,42.03L94,46.9L95.22,38.62L97.74,42.94L98.91,45.55L100.17,43L101.39,42.51L102.65,34.46L103.87,36.06L105.13,41.98L106.39,41.87L107.61,46.7L108.87,43.98L110.09,45.05L111.34,43.86L112.6,51.84L113.74,45.4L115,45.79L116.22,44.22L117.48,32.98L118.7,34.85L119.96,33.42L121.22,35.55L122.43,39.1L123.69,36.19L124.91,41.97L126.17,43.39L127.43,55.37L128.57,56.87L129.83,59.23L131.05,50.01L133.52,28.67L134.78,20.17L136.04,46.1L137.26,42.73L138.52,47.59L139.74,58.63L141,46.97L142.26,55.85L143.4,48.08L144.65,49.16L145.87,37.18L147.13,42.99L148.35,31.74L149.61,27.36L150.87,42.82L152.09,41.74L153.35,38.37L154.57,42.14L155.83,41.02L157.08,53.48L158.26,71.55L159.52,40.31L160.74,37.29L162,38.76\" style=\"vector-effect: none; fill: none; stroke: rgb(99, 110, 250); stroke-opacity: 1; stroke-width: 2px; opacity: 1;\"/></g><g class=\"points\"/><g class=\"text\"/></g></g></g><g class=\"overplot\"/><path class=\"xlines-above crisp\" d=\"M0,0\" style=\"fill: none;\"/><path class=\"ylines-above crisp\" d=\"M0,0\" style=\"fill: none;\"/><g class=\"overlines-above\"/><g class=\"xaxislayer-above\"><g class=\"x3tick\"><text text-anchor=\"middle\" x=\"0\" y=\"433\" transform=\"translate(465.47,0)\" style=\"font-family: 'Open Sans', verdana, arial, sans-serif; font-size: 12px; fill: rgb(42, 63, 95); fill-opacity: 1; white-space: pre; opacity: 1;\">1950</text></g><g class=\"x3tick\"><text text-anchor=\"middle\" x=\"0\" y=\"433\" style=\"font-family: 'Open Sans', verdana, arial, sans-serif; font-size: 12px; fill: rgb(42, 63, 95); fill-opacity: 1; white-space: pre; opacity: 1;\" transform=\"translate(539.65,0)\">1955</text></g><g class=\"x3tick\"><text text-anchor=\"middle\" x=\"0\" y=\"433\" style=\"font-family: 'Open Sans', verdana, arial, sans-serif; font-size: 12px; fill: rgb(42, 63, 95); fill-opacity: 1; white-space: pre; opacity: 1;\" transform=\"translate(613.83,0)\">1960</text></g></g><g class=\"yaxislayer-above\"><g class=\"y3tick\"><text text-anchor=\"end\" x=\"457\" y=\"4.199999999999999\" transform=\"translate(0,420)\" style=\"font-family: 'Open Sans', verdana, arial, sans-serif; font-size: 12px; fill: rgb(42, 63, 95); fill-opacity: 1; white-space: pre; opacity: 1;\">0</text></g><g class=\"y3tick\"><text text-anchor=\"end\" x=\"457\" y=\"4.199999999999999\" style=\"font-family: 'Open Sans', verdana, arial, sans-serif; font-size: 12px; fill: rgb(42, 63, 95); fill-opacity: 1; white-space: pre; opacity: 1;\" transform=\"translate(0,364.42)\">0.2</text></g><g class=\"y3tick\"><text text-anchor=\"end\" x=\"457\" y=\"4.199999999999999\" style=\"font-family: 'Open Sans', verdana, arial, sans-serif; font-size: 12px; fill: rgb(42, 63, 95); fill-opacity: 1; white-space: pre; opacity: 1;\" transform=\"translate(0,308.85)\">0.4</text></g><g class=\"y3tick\"><text text-anchor=\"end\" x=\"457\" y=\"4.199999999999999\" style=\"font-family: 'Open Sans', verdana, arial, sans-serif; font-size: 12px; fill: rgb(42, 63, 95); fill-opacity: 1; white-space: pre; opacity: 1;\" transform=\"translate(0,253.27)\">0.6</text></g><g class=\"y3tick\"><text text-anchor=\"end\" x=\"457\" y=\"4.199999999999999\" style=\"font-family: 'Open Sans', verdana, arial, sans-serif; font-size: 12px; fill: rgb(42, 63, 95); fill-opacity: 1; white-space: pre; opacity: 1;\" transform=\"translate(0,197.69)\">0.8</text></g><g class=\"y3tick\"><text text-anchor=\"end\" x=\"457\" y=\"4.199999999999999\" style=\"font-family: 'Open Sans', verdana, arial, sans-serif; font-size: 12px; fill: rgb(42, 63, 95); fill-opacity: 1; white-space: pre; opacity: 1;\" transform=\"translate(0,142.11)\">1</text></g></g><g class=\"overaxes-above\"/></g></g><g class=\"polarlayer\"/><g class=\"smithlayer\"/><g class=\"ternarylayer\"/><g class=\"geolayer\"/><g class=\"funnelarealayer\"/><g class=\"pielayer\"/><g class=\"iciclelayer\"/><g class=\"treemaplayer\"/><g class=\"sunburstlayer\"/><g class=\"glimages\"/><defs id=\"topdefs-c02d19\"><g class=\"clips\"/></defs><g class=\"layer-above\"><g class=\"imagelayer\"/><g class=\"shapelayer\"/></g><g class=\"infolayer\"><g class=\"g-gtitle\"><text class=\"gtitle\" x=\"35\" y=\"50\" text-anchor=\"start\" dy=\"0em\" style=\"font-family: 'Open Sans', verdana, arial, sans-serif; font-size: 17px; fill: rgb(42, 63, 95); opacity: 1; font-weight: normal; white-space: pre;\">Multiplicative Model: Components of Time Series</text></g><g class=\"g-xtitle\"><text class=\"xtitle\" x=\"161\" y=\"460.3\" text-anchor=\"middle\" style=\"font-family: 'Open Sans', verdana, arial, sans-serif; font-size: 14px; fill: rgb(42, 63, 95); opacity: 1; font-weight: normal; white-space: pre;\">Month</text></g><g class=\"g-x2title\"><text class=\"x2title\" x=\"350\" y=\"460.3\" text-anchor=\"middle\" style=\"font-family: 'Open Sans', verdana, arial, sans-serif; font-size: 14px; fill: rgb(42, 63, 95); opacity: 1; font-weight: normal; white-space: pre;\">Month</text></g><g class=\"g-x3title\"><text class=\"x3title\" x=\"539\" y=\"460.3\" text-anchor=\"middle\" style=\"font-family: 'Open Sans', verdana, arial, sans-serif; font-size: 14px; fill: rgb(42, 63, 95); opacity: 1; font-weight: normal; white-space: pre;\">Month</text></g><g class=\"g-ytitle\"><text class=\"ytitle\" transform=\"rotate(-90,31.809375000000003,260)\" x=\"31.809375000000003\" y=\"260\" text-anchor=\"middle\" style=\"font-family: 'Open Sans', verdana, arial, sans-serif; font-size: 14px; fill: rgb(42, 63, 95); opacity: 1; font-weight: normal; white-space: pre;\">value</text></g><g class=\"g-y2title\"/><g class=\"g-y3title\"/><g class=\"annotation\" data-index=\"0\" style=\"opacity: 1;\"><g class=\"annotation-text-g\" transform=\"rotate(0,161,90.5)\"><g class=\"cursor-pointer\" transform=\"translate(114,81)\"><rect class=\"bg\" x=\"0.5\" y=\"0.5\" width=\"93\" height=\"18\" style=\"stroke-width: 1px; stroke: rgb(0, 0, 0); stroke-opacity: 0; fill: rgb(0, 0, 0); fill-opacity: 0;\"/><text class=\"annotation-text\" text-anchor=\"middle\" x=\"46.875\" y=\"14\" style=\"font-family: 'Open Sans', verdana, arial, sans-serif; font-size: 12px; fill: rgb(42, 63, 95); fill-opacity: 1; white-space: pre;\">variable=trend</text></g></g></g><g class=\"annotation\" data-index=\"1\" style=\"opacity: 1;\"><g class=\"annotation-text-g\" transform=\"rotate(0,349.99999999999994,90.5)\"><g class=\"cursor-pointer\" transform=\"translate(293,81)\"><rect class=\"bg\" x=\"0.5\" y=\"0.5\" width=\"113\" height=\"18\" style=\"stroke-width: 1px; stroke: rgb(0, 0, 0); stroke-opacity: 0; fill: rgb(0, 0, 0); fill-opacity: 0;\"/><text class=\"annotation-text\" text-anchor=\"middle\" x=\"56.953125\" y=\"14\" style=\"font-family: 'Open Sans', verdana, arial, sans-serif; font-size: 12px; fill: rgb(42, 63, 95); fill-opacity: 1; white-space: pre;\">variable=seasonal</text></g></g></g><g class=\"annotation\" data-index=\"2\" style=\"opacity: 1;\"><g class=\"annotation-text-g\" transform=\"rotate(0,539,90.5)\"><g class=\"cursor-pointer\" transform=\"translate(485,81)\"><rect class=\"bg\" x=\"0.5\" y=\"0.5\" width=\"108\" height=\"18\" style=\"stroke-width: 1px; stroke: rgb(0, 0, 0); stroke-opacity: 0; fill: rgb(0, 0, 0); fill-opacity: 0;\"/><text class=\"annotation-text\" text-anchor=\"middle\" x=\"54.53125\" y=\"14\" style=\"font-family: 'Open Sans', verdana, arial, sans-serif; font-size: 12px; fill: rgb(42, 63, 95); fill-opacity: 1; white-space: pre;\">variable=residual</text></g></g></g></g></svg>"
      ]
     },
     "metadata": {},
     "output_type": "display_data"
    }
   ],
   "source": [
    "dff = df_component.melt(ignore_index=False)\n",
    "dff = dff.query('~variable.isin([\"Passengers\", \"component_all\"])')\n",
    "\n",
    "fig = px.area(dff, x=dff.index, y='value', facet_col='variable', title='Multiplicative Model: Components of Time Series', facet_col_spacing=0.05)\n",
    "fig = fig.update_yaxes(matches=None)\n",
    "\n",
    "for axis in fig.layout:\n",
    "    if 'yaxis' in axis:\n",
    "        fig.layout[axis].showticklabels = True\n",
    "\n",
    "fig"
   ]
  }
 ],
 "metadata": {
  "kernelspec": {
   "display_name": "Python 3 (ipykernel)",
   "language": "python",
   "name": "python3"
  },
  "language_info": {
   "codemirror_mode": {
    "name": "ipython",
    "version": 3
   },
   "file_extension": ".py",
   "mimetype": "text/x-python",
   "name": "python",
   "nbconvert_exporter": "python",
   "pygments_lexer": "ipython3",
   "version": "3.12.2"
  },
  "papermill": {
   "default_parameters": {},
   "duration": 2.236072,
   "end_time": "2024-05-29T22:25:29.731565",
   "environment_variables": {},
   "exception": null,
   "input_path": "/Users/sota/Library/CloudStorage/Dropbox/2 Business/1 Datons/2 Areas/Courses/22 TS/solutions-new/notebooks/20_Components/3_Multiplicative/1.ipynb",
   "output_path": "/Users/sota/Library/CloudStorage/Dropbox/2 Business/1 Datons/2 Areas/Courses/22 TS/solutions-new/notebooks/20_Components/3_Multiplicative/1.ipynb",
   "parameters": {},
   "start_time": "2024-05-29T22:25:27.495493",
   "version": "2.5.0"
  }
 },
 "nbformat": 4,
 "nbformat_minor": 5
}
