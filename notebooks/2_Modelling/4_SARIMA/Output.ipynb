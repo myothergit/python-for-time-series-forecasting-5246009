{
 "cells": [
  {
   "cell_type": "markdown",
   "metadata": {},
   "source": [
    "# Statistical forecasting with SARIMA"
   ]
  },
  {
   "cell_type": "code",
   "execution_count": 1,
   "metadata": {},
   "outputs": [],
   "source": [
    "\n",
    "from modules import utils\n",
    "utils.configure_plotly_template(showlegend=True)"
   ]
  },
  {
   "cell_type": "markdown",
   "metadata": {},
   "source": [
    "## Load data"
   ]
  },
  {
   "cell_type": "code",
   "execution_count": 2,
   "metadata": {},
   "outputs": [],
   "source": [
    "path = '../../../data/statsmodels/AirPassengers_log.parquet'"
   ]
  },
  {
   "cell_type": "code",
   "execution_count": 3,
   "metadata": {},
   "outputs": [
    {
     "data": {
      "text/plain": [
       "1949-01-31    4.718499\n",
       "1949-02-28    4.770685\n",
       "                ...   \n",
       "1960-11-30    5.966147\n",
       "1960-12-31    6.068426\n",
       "Freq: ME, Name: values, Length: 144, dtype: float64"
      ]
     },
     "execution_count": 3,
     "metadata": {},
     "output_type": "execute_result"
    }
   ],
   "source": [
    "import pandas as pd\n",
    "\n",
    "df = pd.read_parquet(path).asfreq('ME')\n",
    "df.columns = [\"values\"]\n",
    "series = df[\"values\"]\n",
    "series"
   ]
  },
  {
   "cell_type": "code",
   "execution_count": 4,
   "metadata": {},
   "outputs": [
    {
     "data": {
      "application/vnd.plotly.v1+json": {
       "config": {
        "plotlyServerURL": "https://plot.ly"
       },
       "data": [
        {
         "hovertemplate": "variable=values<br>index=%{x}<br>value=%{y}<extra></extra>",
         "legendgroup": "values",
         "line": {
          "color": "#636efa",
          "dash": "solid"
         },
         "marker": {
          "symbol": "circle"
         },
         "mode": "lines",
         "name": "values",
         "orientation": "v",
         "showlegend": true,
         "type": "scatter",
         "x": [
          "1949-01-31T00:00:00",
          "1949-02-28T00:00:00",
          "1949-03-31T00:00:00",
          "1949-04-30T00:00:00",
          "1949-05-31T00:00:00",
          "1949-06-30T00:00:00",
          "1949-07-31T00:00:00",
          "1949-08-31T00:00:00",
          "1949-09-30T00:00:00",
          "1949-10-31T00:00:00",
          "1949-11-30T00:00:00",
          "1949-12-31T00:00:00",
          "1950-01-31T00:00:00",
          "1950-02-28T00:00:00",
          "1950-03-31T00:00:00",
          "1950-04-30T00:00:00",
          "1950-05-31T00:00:00",
          "1950-06-30T00:00:00",
          "1950-07-31T00:00:00",
          "1950-08-31T00:00:00",
          "1950-09-30T00:00:00",
          "1950-10-31T00:00:00",
          "1950-11-30T00:00:00",
          "1950-12-31T00:00:00",
          "1951-01-31T00:00:00",
          "1951-02-28T00:00:00",
          "1951-03-31T00:00:00",
          "1951-04-30T00:00:00",
          "1951-05-31T00:00:00",
          "1951-06-30T00:00:00",
          "1951-07-31T00:00:00",
          "1951-08-31T00:00:00",
          "1951-09-30T00:00:00",
          "1951-10-31T00:00:00",
          "1951-11-30T00:00:00",
          "1951-12-31T00:00:00",
          "1952-01-31T00:00:00",
          "1952-02-29T00:00:00",
          "1952-03-31T00:00:00",
          "1952-04-30T00:00:00",
          "1952-05-31T00:00:00",
          "1952-06-30T00:00:00",
          "1952-07-31T00:00:00",
          "1952-08-31T00:00:00",
          "1952-09-30T00:00:00",
          "1952-10-31T00:00:00",
          "1952-11-30T00:00:00",
          "1952-12-31T00:00:00",
          "1953-01-31T00:00:00",
          "1953-02-28T00:00:00",
          "1953-03-31T00:00:00",
          "1953-04-30T00:00:00",
          "1953-05-31T00:00:00",
          "1953-06-30T00:00:00",
          "1953-07-31T00:00:00",
          "1953-08-31T00:00:00",
          "1953-09-30T00:00:00",
          "1953-10-31T00:00:00",
          "1953-11-30T00:00:00",
          "1953-12-31T00:00:00",
          "1954-01-31T00:00:00",
          "1954-02-28T00:00:00",
          "1954-03-31T00:00:00",
          "1954-04-30T00:00:00",
          "1954-05-31T00:00:00",
          "1954-06-30T00:00:00",
          "1954-07-31T00:00:00",
          "1954-08-31T00:00:00",
          "1954-09-30T00:00:00",
          "1954-10-31T00:00:00",
          "1954-11-30T00:00:00",
          "1954-12-31T00:00:00",
          "1955-01-31T00:00:00",
          "1955-02-28T00:00:00",
          "1955-03-31T00:00:00",
          "1955-04-30T00:00:00",
          "1955-05-31T00:00:00",
          "1955-06-30T00:00:00",
          "1955-07-31T00:00:00",
          "1955-08-31T00:00:00",
          "1955-09-30T00:00:00",
          "1955-10-31T00:00:00",
          "1955-11-30T00:00:00",
          "1955-12-31T00:00:00",
          "1956-01-31T00:00:00",
          "1956-02-29T00:00:00",
          "1956-03-31T00:00:00",
          "1956-04-30T00:00:00",
          "1956-05-31T00:00:00",
          "1956-06-30T00:00:00",
          "1956-07-31T00:00:00",
          "1956-08-31T00:00:00",
          "1956-09-30T00:00:00",
          "1956-10-31T00:00:00",
          "1956-11-30T00:00:00",
          "1956-12-31T00:00:00",
          "1957-01-31T00:00:00",
          "1957-02-28T00:00:00",
          "1957-03-31T00:00:00",
          "1957-04-30T00:00:00",
          "1957-05-31T00:00:00",
          "1957-06-30T00:00:00",
          "1957-07-31T00:00:00",
          "1957-08-31T00:00:00",
          "1957-09-30T00:00:00",
          "1957-10-31T00:00:00",
          "1957-11-30T00:00:00",
          "1957-12-31T00:00:00",
          "1958-01-31T00:00:00",
          "1958-02-28T00:00:00",
          "1958-03-31T00:00:00",
          "1958-04-30T00:00:00",
          "1958-05-31T00:00:00",
          "1958-06-30T00:00:00",
          "1958-07-31T00:00:00",
          "1958-08-31T00:00:00",
          "1958-09-30T00:00:00",
          "1958-10-31T00:00:00",
          "1958-11-30T00:00:00",
          "1958-12-31T00:00:00",
          "1959-01-31T00:00:00",
          "1959-02-28T00:00:00",
          "1959-03-31T00:00:00",
          "1959-04-30T00:00:00",
          "1959-05-31T00:00:00",
          "1959-06-30T00:00:00",
          "1959-07-31T00:00:00",
          "1959-08-31T00:00:00",
          "1959-09-30T00:00:00",
          "1959-10-31T00:00:00",
          "1959-11-30T00:00:00",
          "1959-12-31T00:00:00",
          "1960-01-31T00:00:00",
          "1960-02-29T00:00:00",
          "1960-03-31T00:00:00",
          "1960-04-30T00:00:00",
          "1960-05-31T00:00:00",
          "1960-06-30T00:00:00",
          "1960-07-31T00:00:00",
          "1960-08-31T00:00:00",
          "1960-09-30T00:00:00",
          "1960-10-31T00:00:00",
          "1960-11-30T00:00:00",
          "1960-12-31T00:00:00"
         ],
         "xaxis": "x",
         "y": [
          4.718498871295094,
          4.770684624465665,
          4.882801922586371,
          4.859812404361672,
          4.795790545596741,
          4.90527477843843,
          4.997212273764115,
          4.997212273764115,
          4.912654885736052,
          4.77912349311153,
          4.6443908991413725,
          4.770684624465665,
          4.74493212836325,
          4.836281906951478,
          4.948759890378168,
          4.90527477843843,
          4.8283137373023015,
          5.003946305945459,
          5.135798437050262,
          5.135798437050262,
          5.062595033026967,
          4.890349128221754,
          4.736198448394496,
          4.941642422609304,
          4.976733742420574,
          5.0106352940962555,
          5.181783550292085,
          5.093750200806762,
          5.147494476813453,
          5.181783550292085,
          5.293304824724492,
          5.293304824724492,
          5.214935757608986,
          5.087596335232384,
          4.983606621708336,
          5.111987788356544,
          5.14166355650266,
          5.19295685089021,
          5.262690188904886,
          5.198497031265826,
          5.209486152841421,
          5.384495062789089,
          5.438079308923196,
          5.488937726156687,
          5.342334251964811,
          5.25227342804663,
          5.147494476813453,
          5.267858159063328,
          5.278114659230517,
          5.278114659230517,
          5.4638318050256105,
          5.459585514144159,
          5.43372200355424,
          5.493061443340548,
          5.575949103146316,
          5.605802066295998,
          5.4680601411351315,
          5.351858133476067,
          5.19295685089021,
          5.303304908059076,
          5.318119993844216,
          5.236441962829949,
          5.459585514144159,
          5.424950017481403,
          5.455321115357702,
          5.575949103146316,
          5.71042701737487,
          5.680172609017068,
          5.556828061699537,
          5.43372200355424,
          5.313205979041787,
          5.43372200355424,
          5.488937726156687,
          5.4510384535657,
          5.58724865840025,
          5.594711379601839,
          5.598421958998375,
          5.752572638825633,
          5.8971538676367405,
          5.849324779946859,
          5.7430031878094825,
          5.6131281063880705,
          5.4680601411351315,
          5.627621113690637,
          5.648974238161206,
          5.6240175061873385,
          5.75890177387728,
          5.746203190540153,
          5.762051382780177,
          5.924255797414532,
          6.023447592961033,
          6.003887067106539,
          5.872117789475416,
          5.723585101952381,
          5.602118820879701,
          5.723585101952381,
          5.752572638825633,
          5.707110264748875,
          5.87493073085203,
          5.8522024797744745,
          5.872117789475416,
          6.045005314036012,
          6.142037405587356,
          6.1463292576688975,
          6.0014148779611505,
          5.849324779946859,
          5.720311776607412,
          5.817111159963204,
          5.8289456176102075,
          5.762051382780177,
          5.8916442118257715,
          5.8522024797744745,
          5.8944028342648505,
          6.075346031088684,
          6.19644412779452,
          6.22455842927536,
          6.0014148779611505,
          5.883322388488279,
          5.736572297479192,
          5.820082930352362,
          5.886104031450156,
          5.834810737062605,
          6.0063531596017325,
          5.981414211254481,
          6.040254711277414,
          6.156978985585555,
          6.306275286948016,
          6.326149473155099,
          6.137727054086234,
          6.008813185442595,
          5.8916442118257715,
          6.003887067106539,
          6.0330862217988015,
          5.968707559985366,
          6.037870919922137,
          6.133398042996649,
          6.156978985585555,
          6.282266746896006,
          6.432940092739179,
          6.406879986069314,
          6.230481447578482,
          6.133398042996649,
          5.966146739123692,
          6.068425588244111
         ],
         "yaxis": "y"
        }
       ],
       "layout": {
        "legend": {
         "title": {
          "text": "variable"
         },
         "tracegroupgap": 0
        },
        "margin": {
         "t": 60
        },
        "template": {
         "data": {
          "bar": [
           {
            "error_x": {
             "color": "#f2f5fa"
            },
            "error_y": {
             "color": "#f2f5fa"
            },
            "marker": {
             "line": {
              "color": "rgb(17,17,17)",
              "width": 0.5
             },
             "pattern": {
              "fillmode": "overlay",
              "size": 10,
              "solidity": 0.2
             }
            },
            "type": "bar"
           }
          ],
          "barpolar": [
           {
            "marker": {
             "line": {
              "color": "rgb(17,17,17)",
              "width": 0.5
             },
             "pattern": {
              "fillmode": "overlay",
              "size": 10,
              "solidity": 0.2
             }
            },
            "type": "barpolar"
           }
          ],
          "carpet": [
           {
            "aaxis": {
             "endlinecolor": "#A2B1C6",
             "gridcolor": "#506784",
             "linecolor": "#506784",
             "minorgridcolor": "#506784",
             "startlinecolor": "#A2B1C6"
            },
            "baxis": {
             "endlinecolor": "#A2B1C6",
             "gridcolor": "#506784",
             "linecolor": "#506784",
             "minorgridcolor": "#506784",
             "startlinecolor": "#A2B1C6"
            },
            "type": "carpet"
           }
          ],
          "choropleth": [
           {
            "colorbar": {
             "outlinewidth": 0,
             "ticks": ""
            },
            "type": "choropleth"
           }
          ],
          "contour": [
           {
            "colorbar": {
             "outlinewidth": 0,
             "ticks": ""
            },
            "colorscale": [
             [
              0,
              "#0d0887"
             ],
             [
              0.1111111111111111,
              "#46039f"
             ],
             [
              0.2222222222222222,
              "#7201a8"
             ],
             [
              0.3333333333333333,
              "#9c179e"
             ],
             [
              0.4444444444444444,
              "#bd3786"
             ],
             [
              0.5555555555555556,
              "#d8576b"
             ],
             [
              0.6666666666666666,
              "#ed7953"
             ],
             [
              0.7777777777777778,
              "#fb9f3a"
             ],
             [
              0.8888888888888888,
              "#fdca26"
             ],
             [
              1,
              "#f0f921"
             ]
            ],
            "type": "contour"
           }
          ],
          "contourcarpet": [
           {
            "colorbar": {
             "outlinewidth": 0,
             "ticks": ""
            },
            "type": "contourcarpet"
           }
          ],
          "heatmap": [
           {
            "colorbar": {
             "outlinewidth": 0,
             "ticks": ""
            },
            "colorscale": [
             [
              0,
              "#0d0887"
             ],
             [
              0.1111111111111111,
              "#46039f"
             ],
             [
              0.2222222222222222,
              "#7201a8"
             ],
             [
              0.3333333333333333,
              "#9c179e"
             ],
             [
              0.4444444444444444,
              "#bd3786"
             ],
             [
              0.5555555555555556,
              "#d8576b"
             ],
             [
              0.6666666666666666,
              "#ed7953"
             ],
             [
              0.7777777777777778,
              "#fb9f3a"
             ],
             [
              0.8888888888888888,
              "#fdca26"
             ],
             [
              1,
              "#f0f921"
             ]
            ],
            "type": "heatmap"
           }
          ],
          "heatmapgl": [
           {
            "colorbar": {
             "outlinewidth": 0,
             "ticks": ""
            },
            "colorscale": [
             [
              0,
              "#0d0887"
             ],
             [
              0.1111111111111111,
              "#46039f"
             ],
             [
              0.2222222222222222,
              "#7201a8"
             ],
             [
              0.3333333333333333,
              "#9c179e"
             ],
             [
              0.4444444444444444,
              "#bd3786"
             ],
             [
              0.5555555555555556,
              "#d8576b"
             ],
             [
              0.6666666666666666,
              "#ed7953"
             ],
             [
              0.7777777777777778,
              "#fb9f3a"
             ],
             [
              0.8888888888888888,
              "#fdca26"
             ],
             [
              1,
              "#f0f921"
             ]
            ],
            "type": "heatmapgl"
           }
          ],
          "histogram": [
           {
            "marker": {
             "pattern": {
              "fillmode": "overlay",
              "size": 10,
              "solidity": 0.2
             }
            },
            "type": "histogram"
           }
          ],
          "histogram2d": [
           {
            "colorbar": {
             "outlinewidth": 0,
             "ticks": ""
            },
            "colorscale": [
             [
              0,
              "#0d0887"
             ],
             [
              0.1111111111111111,
              "#46039f"
             ],
             [
              0.2222222222222222,
              "#7201a8"
             ],
             [
              0.3333333333333333,
              "#9c179e"
             ],
             [
              0.4444444444444444,
              "#bd3786"
             ],
             [
              0.5555555555555556,
              "#d8576b"
             ],
             [
              0.6666666666666666,
              "#ed7953"
             ],
             [
              0.7777777777777778,
              "#fb9f3a"
             ],
             [
              0.8888888888888888,
              "#fdca26"
             ],
             [
              1,
              "#f0f921"
             ]
            ],
            "type": "histogram2d"
           }
          ],
          "histogram2dcontour": [
           {
            "colorbar": {
             "outlinewidth": 0,
             "ticks": ""
            },
            "colorscale": [
             [
              0,
              "#0d0887"
             ],
             [
              0.1111111111111111,
              "#46039f"
             ],
             [
              0.2222222222222222,
              "#7201a8"
             ],
             [
              0.3333333333333333,
              "#9c179e"
             ],
             [
              0.4444444444444444,
              "#bd3786"
             ],
             [
              0.5555555555555556,
              "#d8576b"
             ],
             [
              0.6666666666666666,
              "#ed7953"
             ],
             [
              0.7777777777777778,
              "#fb9f3a"
             ],
             [
              0.8888888888888888,
              "#fdca26"
             ],
             [
              1,
              "#f0f921"
             ]
            ],
            "type": "histogram2dcontour"
           }
          ],
          "mesh3d": [
           {
            "colorbar": {
             "outlinewidth": 0,
             "ticks": ""
            },
            "type": "mesh3d"
           }
          ],
          "parcoords": [
           {
            "line": {
             "colorbar": {
              "outlinewidth": 0,
              "ticks": ""
             }
            },
            "type": "parcoords"
           }
          ],
          "pie": [
           {
            "automargin": true,
            "type": "pie"
           }
          ],
          "scatter": [
           {
            "marker": {
             "line": {
              "color": "#283442"
             }
            },
            "type": "scatter"
           }
          ],
          "scatter3d": [
           {
            "line": {
             "colorbar": {
              "outlinewidth": 0,
              "ticks": ""
             }
            },
            "marker": {
             "colorbar": {
              "outlinewidth": 0,
              "ticks": ""
             }
            },
            "type": "scatter3d"
           }
          ],
          "scattercarpet": [
           {
            "marker": {
             "colorbar": {
              "outlinewidth": 0,
              "ticks": ""
             }
            },
            "type": "scattercarpet"
           }
          ],
          "scattergeo": [
           {
            "marker": {
             "colorbar": {
              "outlinewidth": 0,
              "ticks": ""
             }
            },
            "type": "scattergeo"
           }
          ],
          "scattergl": [
           {
            "marker": {
             "line": {
              "color": "#283442"
             }
            },
            "type": "scattergl"
           }
          ],
          "scattermapbox": [
           {
            "marker": {
             "colorbar": {
              "outlinewidth": 0,
              "ticks": ""
             }
            },
            "type": "scattermapbox"
           }
          ],
          "scatterpolar": [
           {
            "marker": {
             "colorbar": {
              "outlinewidth": 0,
              "ticks": ""
             }
            },
            "type": "scatterpolar"
           }
          ],
          "scatterpolargl": [
           {
            "marker": {
             "colorbar": {
              "outlinewidth": 0,
              "ticks": ""
             }
            },
            "type": "scatterpolargl"
           }
          ],
          "scatterternary": [
           {
            "marker": {
             "colorbar": {
              "outlinewidth": 0,
              "ticks": ""
             }
            },
            "type": "scatterternary"
           }
          ],
          "surface": [
           {
            "colorbar": {
             "outlinewidth": 0,
             "ticks": ""
            },
            "colorscale": [
             [
              0,
              "#0d0887"
             ],
             [
              0.1111111111111111,
              "#46039f"
             ],
             [
              0.2222222222222222,
              "#7201a8"
             ],
             [
              0.3333333333333333,
              "#9c179e"
             ],
             [
              0.4444444444444444,
              "#bd3786"
             ],
             [
              0.5555555555555556,
              "#d8576b"
             ],
             [
              0.6666666666666666,
              "#ed7953"
             ],
             [
              0.7777777777777778,
              "#fb9f3a"
             ],
             [
              0.8888888888888888,
              "#fdca26"
             ],
             [
              1,
              "#f0f921"
             ]
            ],
            "type": "surface"
           }
          ],
          "table": [
           {
            "cells": {
             "fill": {
              "color": "#506784"
             },
             "line": {
              "color": "rgb(17,17,17)"
             }
            },
            "header": {
             "fill": {
              "color": "#2a3f5f"
             },
             "line": {
              "color": "rgb(17,17,17)"
             }
            },
            "type": "table"
           }
          ]
         },
         "layout": {
          "annotationdefaults": {
           "arrowcolor": "#f2f5fa",
           "arrowhead": 0,
           "arrowwidth": 1
          },
          "autosize": false,
          "autotypenumbers": "strict",
          "coloraxis": {
           "colorbar": {
            "outlinewidth": 0,
            "ticks": ""
           }
          },
          "colorscale": {
           "diverging": [
            [
             0,
             "#8e0152"
            ],
            [
             0.1,
             "#c51b7d"
            ],
            [
             0.2,
             "#de77ae"
            ],
            [
             0.3,
             "#f1b6da"
            ],
            [
             0.4,
             "#fde0ef"
            ],
            [
             0.5,
             "#f7f7f7"
            ],
            [
             0.6,
             "#e6f5d0"
            ],
            [
             0.7,
             "#b8e186"
            ],
            [
             0.8,
             "#7fbc41"
            ],
            [
             0.9,
             "#4d9221"
            ],
            [
             1,
             "#276419"
            ]
           ],
           "sequential": [
            [
             0,
             "#0d0887"
            ],
            [
             0.1111111111111111,
             "#46039f"
            ],
            [
             0.2222222222222222,
             "#7201a8"
            ],
            [
             0.3333333333333333,
             "#9c179e"
            ],
            [
             0.4444444444444444,
             "#bd3786"
            ],
            [
             0.5555555555555556,
             "#d8576b"
            ],
            [
             0.6666666666666666,
             "#ed7953"
            ],
            [
             0.7777777777777778,
             "#fb9f3a"
            ],
            [
             0.8888888888888888,
             "#fdca26"
            ],
            [
             1,
             "#f0f921"
            ]
           ],
           "sequentialminus": [
            [
             0,
             "#0d0887"
            ],
            [
             0.1111111111111111,
             "#46039f"
            ],
            [
             0.2222222222222222,
             "#7201a8"
            ],
            [
             0.3333333333333333,
             "#9c179e"
            ],
            [
             0.4444444444444444,
             "#bd3786"
            ],
            [
             0.5555555555555556,
             "#d8576b"
            ],
            [
             0.6666666666666666,
             "#ed7953"
            ],
            [
             0.7777777777777778,
             "#fb9f3a"
            ],
            [
             0.8888888888888888,
             "#fdca26"
            ],
            [
             1,
             "#f0f921"
            ]
           ]
          },
          "colorway": [
           "#636efa",
           "#EF553B",
           "#00cc96",
           "#ab63fa",
           "#FFA15A",
           "#19d3f3",
           "#FF6692",
           "#B6E880",
           "#FF97FF",
           "#FECB52"
          ],
          "font": {
           "color": "#f2f5fa"
          },
          "geo": {
           "bgcolor": "rgb(17,17,17)",
           "lakecolor": "rgb(17,17,17)",
           "landcolor": "rgb(17,17,17)",
           "showlakes": true,
           "showland": true,
           "subunitcolor": "#506784"
          },
          "height": 500,
          "hoverlabel": {
           "align": "left"
          },
          "hovermode": "closest",
          "mapbox": {
           "style": "dark"
          },
          "paper_bgcolor": "rgb(17,17,17)",
          "plot_bgcolor": "rgb(17,17,17)",
          "polar": {
           "angularaxis": {
            "gridcolor": "#506784",
            "linecolor": "#506784",
            "ticks": ""
           },
           "bgcolor": "rgb(17,17,17)",
           "radialaxis": {
            "gridcolor": "#506784",
            "linecolor": "#506784",
            "ticks": ""
           }
          },
          "scene": {
           "xaxis": {
            "backgroundcolor": "rgb(17,17,17)",
            "gridcolor": "#506784",
            "gridwidth": 2,
            "linecolor": "#506784",
            "showbackground": true,
            "ticks": "",
            "zerolinecolor": "#C8D4E3"
           },
           "yaxis": {
            "backgroundcolor": "rgb(17,17,17)",
            "gridcolor": "#506784",
            "gridwidth": 2,
            "linecolor": "#506784",
            "showbackground": true,
            "ticks": "",
            "zerolinecolor": "#C8D4E3"
           },
           "zaxis": {
            "backgroundcolor": "rgb(17,17,17)",
            "gridcolor": "#506784",
            "gridwidth": 2,
            "linecolor": "#506784",
            "showbackground": true,
            "ticks": "",
            "zerolinecolor": "#C8D4E3"
           }
          },
          "shapedefaults": {
           "line": {
            "color": "#f2f5fa"
           }
          },
          "showlegend": true,
          "sliderdefaults": {
           "bgcolor": "#C8D4E3",
           "bordercolor": "rgb(17,17,17)",
           "borderwidth": 1,
           "tickwidth": 0
          },
          "ternary": {
           "aaxis": {
            "gridcolor": "#506784",
            "linecolor": "#506784",
            "ticks": ""
           },
           "baxis": {
            "gridcolor": "#506784",
            "linecolor": "#506784",
            "ticks": ""
           },
           "bgcolor": "rgb(17,17,17)",
           "caxis": {
            "gridcolor": "#506784",
            "linecolor": "#506784",
            "ticks": ""
           }
          },
          "title": {
           "x": 0.05
          },
          "updatemenudefaults": {
           "bgcolor": "#506784",
           "borderwidth": 0
          },
          "width": 1000,
          "xaxis": {
           "automargin": true,
           "gridcolor": "#283442",
           "linecolor": "#506784",
           "ticks": "",
           "title": {
            "standoff": 15
           },
           "zerolinecolor": "#283442",
           "zerolinewidth": 2
          },
          "yaxis": {
           "automargin": true,
           "gridcolor": "#283442",
           "linecolor": "#506784",
           "ticks": "",
           "title": {
            "standoff": 15
           },
           "zerolinecolor": "#283442",
           "zerolinewidth": 2
          }
         }
        },
        "xaxis": {
         "anchor": "y",
         "domain": [
          0,
          1
         ],
         "title": {
          "text": "index"
         }
        },
        "yaxis": {
         "anchor": "x",
         "domain": [
          0,
          1
         ],
         "title": {
          "text": "value"
         }
        }
       }
      }
     },
     "metadata": {},
     "output_type": "display_data"
    }
   ],
   "source": [
    "series.plot()"
   ]
  },
  {
   "cell_type": "markdown",
   "metadata": {},
   "source": [
    "## Forecast"
   ]
  },
  {
   "cell_type": "code",
   "execution_count": 5,
   "metadata": {},
   "outputs": [
    {
     "data": {
      "text/html": [
       "<table class=\"simpletable\">\n",
       "<caption>SARIMAX Results</caption>\n",
       "<tr>\n",
       "  <th>Dep. Variable:</th>               <td>values</td>             <th>  No. Observations:  </th>    <td>144</td>  \n",
       "</tr>\n",
       "<tr>\n",
       "  <th>Model:</th>           <td>SARIMAX(0, 1, 1)x(0, 1, 1, 12)</td> <th>  Log Likelihood     </th>  <td>244.696</td>\n",
       "</tr>\n",
       "<tr>\n",
       "  <th>Date:</th>                   <td>Sat, 10 May 2025</td>        <th>  AIC                </th> <td>-483.393</td>\n",
       "</tr>\n",
       "<tr>\n",
       "  <th>Time:</th>                       <td>19:57:18</td>            <th>  BIC                </th> <td>-474.767</td>\n",
       "</tr>\n",
       "<tr>\n",
       "  <th>Sample:</th>                    <td>01-31-1949</td>           <th>  HQIC               </th> <td>-479.888</td>\n",
       "</tr>\n",
       "<tr>\n",
       "  <th></th>                          <td>- 12-31-1960</td>          <th>                     </th>     <td> </td>   \n",
       "</tr>\n",
       "<tr>\n",
       "  <th>Covariance Type:</th>               <td>opg</td>              <th>                     </th>     <td> </td>   \n",
       "</tr>\n",
       "</table>\n",
       "<table class=\"simpletable\">\n",
       "<tr>\n",
       "      <td></td>        <th>coef</th>     <th>std err</th>      <th>z</th>      <th>P>|z|</th>  <th>[0.025</th>    <th>0.975]</th>  \n",
       "</tr>\n",
       "<tr>\n",
       "  <th>ma.L1</th>    <td>   -0.4018</td> <td>    0.073</td> <td>   -5.503</td> <td> 0.000</td> <td>   -0.545</td> <td>   -0.259</td>\n",
       "</tr>\n",
       "<tr>\n",
       "  <th>ma.S.L12</th> <td>   -0.5570</td> <td>    0.096</td> <td>   -5.785</td> <td> 0.000</td> <td>   -0.746</td> <td>   -0.368</td>\n",
       "</tr>\n",
       "<tr>\n",
       "  <th>sigma2</th>   <td>    0.0013</td> <td>    0.000</td> <td>    9.121</td> <td> 0.000</td> <td>    0.001</td> <td>    0.002</td>\n",
       "</tr>\n",
       "</table>\n",
       "<table class=\"simpletable\">\n",
       "<tr>\n",
       "  <th>Ljung-Box (L1) (Q):</th>     <td>0.04</td> <th>  Jarque-Bera (JB):  </th> <td>1.90</td>\n",
       "</tr>\n",
       "<tr>\n",
       "  <th>Prob(Q):</th>                <td>0.84</td> <th>  Prob(JB):          </th> <td>0.39</td>\n",
       "</tr>\n",
       "<tr>\n",
       "  <th>Heteroskedasticity (H):</th> <td>0.58</td> <th>  Skew:              </th> <td>0.02</td>\n",
       "</tr>\n",
       "<tr>\n",
       "  <th>Prob(H) (two-sided):</th>    <td>0.08</td> <th>  Kurtosis:          </th> <td>3.59</td>\n",
       "</tr>\n",
       "</table><br/><br/>Warnings:<br/>[1] Covariance matrix calculated using the outer product of gradients (complex-step)."
      ],
      "text/latex": [
       "\\begin{center}\n",
       "\\begin{tabular}{lclc}\n",
       "\\toprule\n",
       "\\textbf{Dep. Variable:}          &             values             & \\textbf{  No. Observations:  } &    144      \\\\\n",
       "\\textbf{Model:}                  & SARIMAX(0, 1, 1)x(0, 1, 1, 12) & \\textbf{  Log Likelihood     } &  244.696    \\\\\n",
       "\\textbf{Date:}                   &        Sat, 10 May 2025        & \\textbf{  AIC                } &  -483.393   \\\\\n",
       "\\textbf{Time:}                   &            19:57:18            & \\textbf{  BIC                } &  -474.767   \\\\\n",
       "\\textbf{Sample:}                 &           01-31-1949           & \\textbf{  HQIC               } &  -479.888   \\\\\n",
       "\\textbf{}                        &          - 12-31-1960          & \\textbf{                     } &             \\\\\n",
       "\\textbf{Covariance Type:}        &              opg               & \\textbf{                     } &             \\\\\n",
       "\\bottomrule\n",
       "\\end{tabular}\n",
       "\\begin{tabular}{lcccccc}\n",
       "                  & \\textbf{coef} & \\textbf{std err} & \\textbf{z} & \\textbf{P$> |$z$|$} & \\textbf{[0.025} & \\textbf{0.975]}  \\\\\n",
       "\\midrule\n",
       "\\textbf{ma.L1}    &      -0.4018  &        0.073     &    -5.503  &         0.000        &       -0.545    &       -0.259     \\\\\n",
       "\\textbf{ma.S.L12} &      -0.5570  &        0.096     &    -5.785  &         0.000        &       -0.746    &       -0.368     \\\\\n",
       "\\textbf{sigma2}   &       0.0013  &        0.000     &     9.121  &         0.000        &        0.001    &        0.002     \\\\\n",
       "\\bottomrule\n",
       "\\end{tabular}\n",
       "\\begin{tabular}{lclc}\n",
       "\\textbf{Ljung-Box (L1) (Q):}     & 0.04 & \\textbf{  Jarque-Bera (JB):  } & 1.90  \\\\\n",
       "\\textbf{Prob(Q):}                & 0.84 & \\textbf{  Prob(JB):          } & 0.39  \\\\\n",
       "\\textbf{Heteroskedasticity (H):} & 0.58 & \\textbf{  Skew:              } & 0.02  \\\\\n",
       "\\textbf{Prob(H) (two-sided):}    & 0.08 & \\textbf{  Kurtosis:          } & 3.59  \\\\\n",
       "\\bottomrule\n",
       "\\end{tabular}\n",
       "%\\caption{SARIMAX Results}\n",
       "\\end{center}\n",
       "\n",
       "Warnings: \\newline\n",
       " [1] Covariance matrix calculated using the outer product of gradients (complex-step)."
      ],
      "text/plain": [
       "<class 'statsmodels.iolib.summary.Summary'>\n",
       "\"\"\"\n",
       "                                     SARIMAX Results                                      \n",
       "==========================================================================================\n",
       "Dep. Variable:                             values   No. Observations:                  144\n",
       "Model:             SARIMAX(0, 1, 1)x(0, 1, 1, 12)   Log Likelihood                 244.696\n",
       "Date:                            Sat, 10 May 2025   AIC                           -483.393\n",
       "Time:                                    19:57:18   BIC                           -474.767\n",
       "Sample:                                01-31-1949   HQIC                          -479.888\n",
       "                                     - 12-31-1960                                         \n",
       "Covariance Type:                              opg                                         \n",
       "==============================================================================\n",
       "                 coef    std err          z      P>|z|      [0.025      0.975]\n",
       "------------------------------------------------------------------------------\n",
       "ma.L1         -0.4018      0.073     -5.503      0.000      -0.545      -0.259\n",
       "ma.S.L12      -0.5570      0.096     -5.785      0.000      -0.746      -0.368\n",
       "sigma2         0.0013      0.000      9.121      0.000       0.001       0.002\n",
       "===================================================================================\n",
       "Ljung-Box (L1) (Q):                   0.04   Jarque-Bera (JB):                 1.90\n",
       "Prob(Q):                              0.84   Prob(JB):                         0.39\n",
       "Heteroskedasticity (H):               0.58   Skew:                             0.02\n",
       "Prob(H) (two-sided):                  0.08   Kurtosis:                         3.59\n",
       "===================================================================================\n",
       "\n",
       "Warnings:\n",
       "[1] Covariance matrix calculated using the outer product of gradients (complex-step).\n",
       "\"\"\""
      ]
     },
     "execution_count": 5,
     "metadata": {},
     "output_type": "execute_result"
    }
   ],
   "source": [
    "from statsmodels.tsa.statespace.sarimax import SARIMAX\n",
    "\n",
    "model = SARIMAX(series, order=(0, 1, 1), seasonal_order=(0, 1, 1, 12)) # Attention to p-values for significance\n",
    "model_fit = model.fit()\n",
    "model_fit.summary()"
   ]
  },
  {
   "cell_type": "code",
   "execution_count": 16,
   "metadata": {},
   "outputs": [
    {
     "name": "stderr",
     "output_type": "stream",
     "text": [
      "/Users/sota/miniforge3/envs/work/lib/python3.13/site-packages/statsmodels/base/model.py:607: ConvergenceWarning:\n",
      "\n",
      "Maximum Likelihood optimization failed to converge. Check mle_retvals\n",
      "\n"
     ]
    },
    {
     "data": {
      "application/vnd.plotly.v1+json": {
       "config": {
        "plotlyServerURL": "https://plot.ly"
       },
       "data": [
        {
         "hovertemplate": "variable=values<br>index=%{x}<br>value=%{y}<extra></extra>",
         "legendgroup": "values",
         "line": {
          "color": "#636efa",
          "dash": "solid"
         },
         "marker": {
          "symbol": "circle"
         },
         "mode": "lines",
         "name": "values",
         "orientation": "v",
         "showlegend": true,
         "type": "scatter",
         "x": [
          "1949-01-31T00:00:00",
          "1949-02-28T00:00:00",
          "1949-03-31T00:00:00",
          "1949-04-30T00:00:00",
          "1949-05-31T00:00:00",
          "1949-06-30T00:00:00",
          "1949-07-31T00:00:00",
          "1949-08-31T00:00:00",
          "1949-09-30T00:00:00",
          "1949-10-31T00:00:00",
          "1949-11-30T00:00:00",
          "1949-12-31T00:00:00",
          "1950-01-31T00:00:00",
          "1950-02-28T00:00:00",
          "1950-03-31T00:00:00",
          "1950-04-30T00:00:00",
          "1950-05-31T00:00:00",
          "1950-06-30T00:00:00",
          "1950-07-31T00:00:00",
          "1950-08-31T00:00:00",
          "1950-09-30T00:00:00",
          "1950-10-31T00:00:00",
          "1950-11-30T00:00:00",
          "1950-12-31T00:00:00",
          "1951-01-31T00:00:00",
          "1951-02-28T00:00:00",
          "1951-03-31T00:00:00",
          "1951-04-30T00:00:00",
          "1951-05-31T00:00:00",
          "1951-06-30T00:00:00",
          "1951-07-31T00:00:00",
          "1951-08-31T00:00:00",
          "1951-09-30T00:00:00",
          "1951-10-31T00:00:00",
          "1951-11-30T00:00:00",
          "1951-12-31T00:00:00",
          "1952-01-31T00:00:00",
          "1952-02-29T00:00:00",
          "1952-03-31T00:00:00",
          "1952-04-30T00:00:00",
          "1952-05-31T00:00:00",
          "1952-06-30T00:00:00",
          "1952-07-31T00:00:00",
          "1952-08-31T00:00:00",
          "1952-09-30T00:00:00",
          "1952-10-31T00:00:00",
          "1952-11-30T00:00:00",
          "1952-12-31T00:00:00",
          "1953-01-31T00:00:00",
          "1953-02-28T00:00:00",
          "1953-03-31T00:00:00",
          "1953-04-30T00:00:00",
          "1953-05-31T00:00:00",
          "1953-06-30T00:00:00",
          "1953-07-31T00:00:00",
          "1953-08-31T00:00:00",
          "1953-09-30T00:00:00",
          "1953-10-31T00:00:00",
          "1953-11-30T00:00:00",
          "1953-12-31T00:00:00",
          "1954-01-31T00:00:00",
          "1954-02-28T00:00:00",
          "1954-03-31T00:00:00",
          "1954-04-30T00:00:00",
          "1954-05-31T00:00:00",
          "1954-06-30T00:00:00",
          "1954-07-31T00:00:00",
          "1954-08-31T00:00:00",
          "1954-09-30T00:00:00",
          "1954-10-31T00:00:00",
          "1954-11-30T00:00:00",
          "1954-12-31T00:00:00",
          "1955-01-31T00:00:00",
          "1955-02-28T00:00:00",
          "1955-03-31T00:00:00",
          "1955-04-30T00:00:00",
          "1955-05-31T00:00:00",
          "1955-06-30T00:00:00",
          "1955-07-31T00:00:00",
          "1955-08-31T00:00:00",
          "1955-09-30T00:00:00",
          "1955-10-31T00:00:00",
          "1955-11-30T00:00:00",
          "1955-12-31T00:00:00",
          "1956-01-31T00:00:00",
          "1956-02-29T00:00:00",
          "1956-03-31T00:00:00",
          "1956-04-30T00:00:00",
          "1956-05-31T00:00:00",
          "1956-06-30T00:00:00",
          "1956-07-31T00:00:00",
          "1956-08-31T00:00:00",
          "1956-09-30T00:00:00",
          "1956-10-31T00:00:00",
          "1956-11-30T00:00:00",
          "1956-12-31T00:00:00",
          "1957-01-31T00:00:00",
          "1957-02-28T00:00:00",
          "1957-03-31T00:00:00",
          "1957-04-30T00:00:00",
          "1957-05-31T00:00:00",
          "1957-06-30T00:00:00",
          "1957-07-31T00:00:00",
          "1957-08-31T00:00:00",
          "1957-09-30T00:00:00",
          "1957-10-31T00:00:00",
          "1957-11-30T00:00:00",
          "1957-12-31T00:00:00",
          "1958-01-31T00:00:00",
          "1958-02-28T00:00:00",
          "1958-03-31T00:00:00",
          "1958-04-30T00:00:00",
          "1958-05-31T00:00:00",
          "1958-06-30T00:00:00",
          "1958-07-31T00:00:00",
          "1958-08-31T00:00:00",
          "1958-09-30T00:00:00",
          "1958-10-31T00:00:00",
          "1958-11-30T00:00:00",
          "1958-12-31T00:00:00",
          "1959-01-31T00:00:00",
          "1959-02-28T00:00:00",
          "1959-03-31T00:00:00",
          "1959-04-30T00:00:00",
          "1959-05-31T00:00:00",
          "1959-06-30T00:00:00",
          "1959-07-31T00:00:00",
          "1959-08-31T00:00:00",
          "1959-09-30T00:00:00",
          "1959-10-31T00:00:00",
          "1959-11-30T00:00:00",
          "1959-12-31T00:00:00",
          "1960-01-31T00:00:00",
          "1960-02-29T00:00:00",
          "1960-03-31T00:00:00",
          "1960-04-30T00:00:00",
          "1960-05-31T00:00:00",
          "1960-06-30T00:00:00",
          "1960-07-31T00:00:00",
          "1960-08-31T00:00:00",
          "1960-09-30T00:00:00",
          "1960-10-31T00:00:00",
          "1960-11-30T00:00:00",
          "1960-12-31T00:00:00",
          "1961-01-31T00:00:00",
          "1961-02-28T00:00:00",
          "1961-03-31T00:00:00",
          "1961-04-30T00:00:00",
          "1961-05-31T00:00:00",
          "1961-06-30T00:00:00",
          "1961-07-31T00:00:00",
          "1961-08-31T00:00:00",
          "1961-09-30T00:00:00",
          "1961-10-31T00:00:00",
          "1961-11-30T00:00:00",
          "1961-12-31T00:00:00",
          "1962-01-31T00:00:00",
          "1962-02-28T00:00:00",
          "1962-03-31T00:00:00",
          "1962-04-30T00:00:00",
          "1962-05-31T00:00:00",
          "1962-06-30T00:00:00",
          "1962-07-31T00:00:00",
          "1962-08-31T00:00:00",
          "1962-09-30T00:00:00",
          "1962-10-31T00:00:00",
          "1962-11-30T00:00:00",
          "1962-12-31T00:00:00",
          "1963-01-31T00:00:00",
          "1963-02-28T00:00:00",
          "1963-03-31T00:00:00",
          "1963-04-30T00:00:00",
          "1963-05-31T00:00:00",
          "1963-06-30T00:00:00",
          "1963-07-31T00:00:00",
          "1963-08-31T00:00:00",
          "1963-09-30T00:00:00",
          "1963-10-31T00:00:00",
          "1963-11-30T00:00:00",
          "1963-12-31T00:00:00",
          "1964-01-31T00:00:00",
          "1964-02-29T00:00:00",
          "1964-03-31T00:00:00",
          "1964-04-30T00:00:00",
          "1964-05-31T00:00:00",
          "1964-06-30T00:00:00",
          "1964-07-31T00:00:00",
          "1964-08-31T00:00:00",
          "1964-09-30T00:00:00",
          "1964-10-31T00:00:00",
          "1964-11-30T00:00:00",
          "1964-12-31T00:00:00"
         ],
         "xaxis": "x",
         "y": [
          4.718498871295094,
          4.770684624465665,
          4.882801922586371,
          4.859812404361672,
          4.795790545596741,
          4.90527477843843,
          4.997212273764115,
          4.997212273764115,
          4.912654885736052,
          4.77912349311153,
          4.6443908991413725,
          4.770684624465665,
          4.74493212836325,
          4.836281906951478,
          4.948759890378168,
          4.90527477843843,
          4.8283137373023015,
          5.003946305945459,
          5.135798437050262,
          5.135798437050262,
          5.062595033026967,
          4.890349128221754,
          4.736198448394496,
          4.941642422609304,
          4.976733742420574,
          5.0106352940962555,
          5.181783550292085,
          5.093750200806762,
          5.147494476813453,
          5.181783550292085,
          5.293304824724492,
          5.293304824724492,
          5.214935757608986,
          5.087596335232384,
          4.983606621708336,
          5.111987788356544,
          5.14166355650266,
          5.19295685089021,
          5.262690188904886,
          5.198497031265826,
          5.209486152841421,
          5.384495062789089,
          5.438079308923196,
          5.488937726156687,
          5.342334251964811,
          5.25227342804663,
          5.147494476813453,
          5.267858159063328,
          5.278114659230517,
          5.278114659230517,
          5.4638318050256105,
          5.459585514144159,
          5.43372200355424,
          5.493061443340548,
          5.575949103146316,
          5.605802066295998,
          5.4680601411351315,
          5.351858133476067,
          5.19295685089021,
          5.303304908059076,
          5.318119993844216,
          5.236441962829949,
          5.459585514144159,
          5.424950017481403,
          5.455321115357702,
          5.575949103146316,
          5.71042701737487,
          5.680172609017068,
          5.556828061699537,
          5.43372200355424,
          5.313205979041787,
          5.43372200355424,
          5.488937726156687,
          5.4510384535657,
          5.58724865840025,
          5.594711379601839,
          5.598421958998375,
          5.752572638825633,
          5.8971538676367405,
          5.849324779946859,
          5.7430031878094825,
          5.6131281063880705,
          5.4680601411351315,
          5.627621113690637,
          5.648974238161206,
          5.6240175061873385,
          5.75890177387728,
          5.746203190540153,
          5.762051382780177,
          5.924255797414532,
          6.023447592961033,
          6.003887067106539,
          5.872117789475416,
          5.723585101952381,
          5.602118820879701,
          5.723585101952381,
          5.752572638825633,
          5.707110264748875,
          5.87493073085203,
          5.8522024797744745,
          5.872117789475416,
          6.045005314036012,
          6.142037405587356,
          6.1463292576688975,
          6.0014148779611505,
          5.849324779946859,
          5.720311776607412,
          5.817111159963204,
          5.8289456176102075,
          5.762051382780177,
          5.8916442118257715,
          5.8522024797744745,
          5.8944028342648505,
          6.075346031088684,
          6.19644412779452,
          6.22455842927536,
          6.0014148779611505,
          5.883322388488279,
          5.736572297479192,
          5.820082930352362,
          5.886104031450156,
          5.834810737062605,
          6.0063531596017325,
          5.981414211254481,
          6.040254711277414,
          6.156978985585555,
          6.306275286948016,
          6.326149473155099,
          6.137727054086234,
          6.008813185442595,
          5.8916442118257715,
          6.003887067106539,
          6.0330862217988015,
          5.968707559985366,
          6.037870919922137,
          6.133398042996649,
          6.156978985585555,
          6.282266746896006,
          6.432940092739179,
          6.406879986069314,
          6.230481447578482,
          6.133398042996649,
          5.966146739123692,
          6.068425588244111,
          null,
          null,
          null,
          null,
          null,
          null,
          null,
          null,
          null,
          null,
          null,
          null,
          null,
          null,
          null,
          null,
          null,
          null,
          null,
          null,
          null,
          null,
          null,
          null,
          null,
          null,
          null,
          null,
          null,
          null,
          null,
          null,
          null,
          null,
          null,
          null,
          null,
          null,
          null,
          null,
          null,
          null,
          null,
          null,
          null,
          null,
          null,
          null
         ],
         "yaxis": "y"
        },
        {
         "hovertemplate": "variable=ARIMA(12,1,2)<br>index=%{x}<br>value=%{y}<extra></extra>",
         "legendgroup": "ARIMA(12,1,2)",
         "line": {
          "color": "#EF553B",
          "dash": "solid"
         },
         "marker": {
          "symbol": "circle"
         },
         "mode": "lines",
         "name": "ARIMA(12,1,2)",
         "orientation": "v",
         "showlegend": true,
         "type": "scatter",
         "x": [
          "1949-01-31T00:00:00",
          "1949-02-28T00:00:00",
          "1949-03-31T00:00:00",
          "1949-04-30T00:00:00",
          "1949-05-31T00:00:00",
          "1949-06-30T00:00:00",
          "1949-07-31T00:00:00",
          "1949-08-31T00:00:00",
          "1949-09-30T00:00:00",
          "1949-10-31T00:00:00",
          "1949-11-30T00:00:00",
          "1949-12-31T00:00:00",
          "1950-01-31T00:00:00",
          "1950-02-28T00:00:00",
          "1950-03-31T00:00:00",
          "1950-04-30T00:00:00",
          "1950-05-31T00:00:00",
          "1950-06-30T00:00:00",
          "1950-07-31T00:00:00",
          "1950-08-31T00:00:00",
          "1950-09-30T00:00:00",
          "1950-10-31T00:00:00",
          "1950-11-30T00:00:00",
          "1950-12-31T00:00:00",
          "1951-01-31T00:00:00",
          "1951-02-28T00:00:00",
          "1951-03-31T00:00:00",
          "1951-04-30T00:00:00",
          "1951-05-31T00:00:00",
          "1951-06-30T00:00:00",
          "1951-07-31T00:00:00",
          "1951-08-31T00:00:00",
          "1951-09-30T00:00:00",
          "1951-10-31T00:00:00",
          "1951-11-30T00:00:00",
          "1951-12-31T00:00:00",
          "1952-01-31T00:00:00",
          "1952-02-29T00:00:00",
          "1952-03-31T00:00:00",
          "1952-04-30T00:00:00",
          "1952-05-31T00:00:00",
          "1952-06-30T00:00:00",
          "1952-07-31T00:00:00",
          "1952-08-31T00:00:00",
          "1952-09-30T00:00:00",
          "1952-10-31T00:00:00",
          "1952-11-30T00:00:00",
          "1952-12-31T00:00:00",
          "1953-01-31T00:00:00",
          "1953-02-28T00:00:00",
          "1953-03-31T00:00:00",
          "1953-04-30T00:00:00",
          "1953-05-31T00:00:00",
          "1953-06-30T00:00:00",
          "1953-07-31T00:00:00",
          "1953-08-31T00:00:00",
          "1953-09-30T00:00:00",
          "1953-10-31T00:00:00",
          "1953-11-30T00:00:00",
          "1953-12-31T00:00:00",
          "1954-01-31T00:00:00",
          "1954-02-28T00:00:00",
          "1954-03-31T00:00:00",
          "1954-04-30T00:00:00",
          "1954-05-31T00:00:00",
          "1954-06-30T00:00:00",
          "1954-07-31T00:00:00",
          "1954-08-31T00:00:00",
          "1954-09-30T00:00:00",
          "1954-10-31T00:00:00",
          "1954-11-30T00:00:00",
          "1954-12-31T00:00:00",
          "1955-01-31T00:00:00",
          "1955-02-28T00:00:00",
          "1955-03-31T00:00:00",
          "1955-04-30T00:00:00",
          "1955-05-31T00:00:00",
          "1955-06-30T00:00:00",
          "1955-07-31T00:00:00",
          "1955-08-31T00:00:00",
          "1955-09-30T00:00:00",
          "1955-10-31T00:00:00",
          "1955-11-30T00:00:00",
          "1955-12-31T00:00:00",
          "1956-01-31T00:00:00",
          "1956-02-29T00:00:00",
          "1956-03-31T00:00:00",
          "1956-04-30T00:00:00",
          "1956-05-31T00:00:00",
          "1956-06-30T00:00:00",
          "1956-07-31T00:00:00",
          "1956-08-31T00:00:00",
          "1956-09-30T00:00:00",
          "1956-10-31T00:00:00",
          "1956-11-30T00:00:00",
          "1956-12-31T00:00:00",
          "1957-01-31T00:00:00",
          "1957-02-28T00:00:00",
          "1957-03-31T00:00:00",
          "1957-04-30T00:00:00",
          "1957-05-31T00:00:00",
          "1957-06-30T00:00:00",
          "1957-07-31T00:00:00",
          "1957-08-31T00:00:00",
          "1957-09-30T00:00:00",
          "1957-10-31T00:00:00",
          "1957-11-30T00:00:00",
          "1957-12-31T00:00:00",
          "1958-01-31T00:00:00",
          "1958-02-28T00:00:00",
          "1958-03-31T00:00:00",
          "1958-04-30T00:00:00",
          "1958-05-31T00:00:00",
          "1958-06-30T00:00:00",
          "1958-07-31T00:00:00",
          "1958-08-31T00:00:00",
          "1958-09-30T00:00:00",
          "1958-10-31T00:00:00",
          "1958-11-30T00:00:00",
          "1958-12-31T00:00:00",
          "1959-01-31T00:00:00",
          "1959-02-28T00:00:00",
          "1959-03-31T00:00:00",
          "1959-04-30T00:00:00",
          "1959-05-31T00:00:00",
          "1959-06-30T00:00:00",
          "1959-07-31T00:00:00",
          "1959-08-31T00:00:00",
          "1959-09-30T00:00:00",
          "1959-10-31T00:00:00",
          "1959-11-30T00:00:00",
          "1959-12-31T00:00:00",
          "1960-01-31T00:00:00",
          "1960-02-29T00:00:00",
          "1960-03-31T00:00:00",
          "1960-04-30T00:00:00",
          "1960-05-31T00:00:00",
          "1960-06-30T00:00:00",
          "1960-07-31T00:00:00",
          "1960-08-31T00:00:00",
          "1960-09-30T00:00:00",
          "1960-10-31T00:00:00",
          "1960-11-30T00:00:00",
          "1960-12-31T00:00:00",
          "1961-01-31T00:00:00",
          "1961-02-28T00:00:00",
          "1961-03-31T00:00:00",
          "1961-04-30T00:00:00",
          "1961-05-31T00:00:00",
          "1961-06-30T00:00:00",
          "1961-07-31T00:00:00",
          "1961-08-31T00:00:00",
          "1961-09-30T00:00:00",
          "1961-10-31T00:00:00",
          "1961-11-30T00:00:00",
          "1961-12-31T00:00:00",
          "1962-01-31T00:00:00",
          "1962-02-28T00:00:00",
          "1962-03-31T00:00:00",
          "1962-04-30T00:00:00",
          "1962-05-31T00:00:00",
          "1962-06-30T00:00:00",
          "1962-07-31T00:00:00",
          "1962-08-31T00:00:00",
          "1962-09-30T00:00:00",
          "1962-10-31T00:00:00",
          "1962-11-30T00:00:00",
          "1962-12-31T00:00:00",
          "1963-01-31T00:00:00",
          "1963-02-28T00:00:00",
          "1963-03-31T00:00:00",
          "1963-04-30T00:00:00",
          "1963-05-31T00:00:00",
          "1963-06-30T00:00:00",
          "1963-07-31T00:00:00",
          "1963-08-31T00:00:00",
          "1963-09-30T00:00:00",
          "1963-10-31T00:00:00",
          "1963-11-30T00:00:00",
          "1963-12-31T00:00:00",
          "1964-01-31T00:00:00",
          "1964-02-29T00:00:00",
          "1964-03-31T00:00:00",
          "1964-04-30T00:00:00",
          "1964-05-31T00:00:00",
          "1964-06-30T00:00:00",
          "1964-07-31T00:00:00",
          "1964-08-31T00:00:00",
          "1964-09-30T00:00:00",
          "1964-10-31T00:00:00",
          "1964-11-30T00:00:00",
          "1964-12-31T00:00:00"
         ],
         "xaxis": "x",
         "y": [
          null,
          null,
          null,
          null,
          null,
          null,
          null,
          null,
          null,
          null,
          null,
          null,
          null,
          null,
          null,
          null,
          null,
          null,
          null,
          null,
          null,
          null,
          null,
          null,
          null,
          null,
          null,
          null,
          null,
          null,
          null,
          null,
          null,
          null,
          null,
          null,
          null,
          null,
          null,
          null,
          null,
          null,
          null,
          null,
          null,
          null,
          null,
          null,
          null,
          null,
          null,
          null,
          null,
          null,
          null,
          null,
          null,
          null,
          null,
          null,
          null,
          null,
          null,
          null,
          null,
          null,
          null,
          null,
          null,
          null,
          null,
          null,
          null,
          null,
          null,
          null,
          null,
          null,
          null,
          null,
          null,
          null,
          null,
          null,
          null,
          null,
          null,
          null,
          null,
          null,
          null,
          null,
          null,
          null,
          null,
          null,
          null,
          null,
          null,
          null,
          null,
          null,
          null,
          null,
          null,
          null,
          null,
          null,
          null,
          null,
          null,
          null,
          null,
          null,
          null,
          null,
          null,
          null,
          null,
          null,
          null,
          null,
          null,
          null,
          null,
          null,
          null,
          null,
          null,
          null,
          null,
          null,
          null,
          null,
          null,
          null,
          null,
          null,
          null,
          null,
          null,
          null,
          null,
          null,
          6.112831140862673,
          6.0380829021896645,
          6.095607107224041,
          6.18447160143924,
          6.232497294562656,
          6.346377687381961,
          6.49051946593274,
          6.451934519002079,
          6.29886789204095,
          6.190531331989133,
          6.036916485278572,
          6.119515765190368,
          6.169302357864361,
          6.093581399462452,
          6.136309944745111,
          6.223208191709611,
          6.287303493201852,
          6.397836815080356,
          6.531388787491158,
          6.4858277003809235,
          6.3484593820269986,
          6.236742495756024,
          6.092586177352495,
          6.159578506433474,
          6.209886285032997,
          6.136875664169435,
          6.1656957167794015,
          6.251749453468804,
          6.327473045366275,
          6.438289833307766,
          6.560695603336085,
          6.510637856641208,
          6.384650748083845,
          6.273738814029469,
          6.1374841619906135,
          6.190883419497761,
          6.239052604994879,
          6.17009063665068,
          6.187245113982449,
          6.2723902244472,
          6.356995757790982,
          6.46963241842116,
          6.581704421053438,
          6.528431083897635,
          6.411088083597968,
          6.303284674224368,
          6.174415739218288,
          6.215497387137386
         ],
         "yaxis": "y"
        },
        {
         "hovertemplate": "variable=SARIMA(0,1,1)(0,1,1,12)<br>index=%{x}<br>value=%{y}<extra></extra>",
         "legendgroup": "SARIMA(0,1,1)(0,1,1,12)",
         "line": {
          "color": "#00cc96",
          "dash": "solid"
         },
         "marker": {
          "symbol": "circle"
         },
         "mode": "lines",
         "name": "SARIMA(0,1,1)(0,1,1,12)",
         "orientation": "v",
         "showlegend": true,
         "type": "scatter",
         "x": [
          "1949-01-31T00:00:00",
          "1949-02-28T00:00:00",
          "1949-03-31T00:00:00",
          "1949-04-30T00:00:00",
          "1949-05-31T00:00:00",
          "1949-06-30T00:00:00",
          "1949-07-31T00:00:00",
          "1949-08-31T00:00:00",
          "1949-09-30T00:00:00",
          "1949-10-31T00:00:00",
          "1949-11-30T00:00:00",
          "1949-12-31T00:00:00",
          "1950-01-31T00:00:00",
          "1950-02-28T00:00:00",
          "1950-03-31T00:00:00",
          "1950-04-30T00:00:00",
          "1950-05-31T00:00:00",
          "1950-06-30T00:00:00",
          "1950-07-31T00:00:00",
          "1950-08-31T00:00:00",
          "1950-09-30T00:00:00",
          "1950-10-31T00:00:00",
          "1950-11-30T00:00:00",
          "1950-12-31T00:00:00",
          "1951-01-31T00:00:00",
          "1951-02-28T00:00:00",
          "1951-03-31T00:00:00",
          "1951-04-30T00:00:00",
          "1951-05-31T00:00:00",
          "1951-06-30T00:00:00",
          "1951-07-31T00:00:00",
          "1951-08-31T00:00:00",
          "1951-09-30T00:00:00",
          "1951-10-31T00:00:00",
          "1951-11-30T00:00:00",
          "1951-12-31T00:00:00",
          "1952-01-31T00:00:00",
          "1952-02-29T00:00:00",
          "1952-03-31T00:00:00",
          "1952-04-30T00:00:00",
          "1952-05-31T00:00:00",
          "1952-06-30T00:00:00",
          "1952-07-31T00:00:00",
          "1952-08-31T00:00:00",
          "1952-09-30T00:00:00",
          "1952-10-31T00:00:00",
          "1952-11-30T00:00:00",
          "1952-12-31T00:00:00",
          "1953-01-31T00:00:00",
          "1953-02-28T00:00:00",
          "1953-03-31T00:00:00",
          "1953-04-30T00:00:00",
          "1953-05-31T00:00:00",
          "1953-06-30T00:00:00",
          "1953-07-31T00:00:00",
          "1953-08-31T00:00:00",
          "1953-09-30T00:00:00",
          "1953-10-31T00:00:00",
          "1953-11-30T00:00:00",
          "1953-12-31T00:00:00",
          "1954-01-31T00:00:00",
          "1954-02-28T00:00:00",
          "1954-03-31T00:00:00",
          "1954-04-30T00:00:00",
          "1954-05-31T00:00:00",
          "1954-06-30T00:00:00",
          "1954-07-31T00:00:00",
          "1954-08-31T00:00:00",
          "1954-09-30T00:00:00",
          "1954-10-31T00:00:00",
          "1954-11-30T00:00:00",
          "1954-12-31T00:00:00",
          "1955-01-31T00:00:00",
          "1955-02-28T00:00:00",
          "1955-03-31T00:00:00",
          "1955-04-30T00:00:00",
          "1955-05-31T00:00:00",
          "1955-06-30T00:00:00",
          "1955-07-31T00:00:00",
          "1955-08-31T00:00:00",
          "1955-09-30T00:00:00",
          "1955-10-31T00:00:00",
          "1955-11-30T00:00:00",
          "1955-12-31T00:00:00",
          "1956-01-31T00:00:00",
          "1956-02-29T00:00:00",
          "1956-03-31T00:00:00",
          "1956-04-30T00:00:00",
          "1956-05-31T00:00:00",
          "1956-06-30T00:00:00",
          "1956-07-31T00:00:00",
          "1956-08-31T00:00:00",
          "1956-09-30T00:00:00",
          "1956-10-31T00:00:00",
          "1956-11-30T00:00:00",
          "1956-12-31T00:00:00",
          "1957-01-31T00:00:00",
          "1957-02-28T00:00:00",
          "1957-03-31T00:00:00",
          "1957-04-30T00:00:00",
          "1957-05-31T00:00:00",
          "1957-06-30T00:00:00",
          "1957-07-31T00:00:00",
          "1957-08-31T00:00:00",
          "1957-09-30T00:00:00",
          "1957-10-31T00:00:00",
          "1957-11-30T00:00:00",
          "1957-12-31T00:00:00",
          "1958-01-31T00:00:00",
          "1958-02-28T00:00:00",
          "1958-03-31T00:00:00",
          "1958-04-30T00:00:00",
          "1958-05-31T00:00:00",
          "1958-06-30T00:00:00",
          "1958-07-31T00:00:00",
          "1958-08-31T00:00:00",
          "1958-09-30T00:00:00",
          "1958-10-31T00:00:00",
          "1958-11-30T00:00:00",
          "1958-12-31T00:00:00",
          "1959-01-31T00:00:00",
          "1959-02-28T00:00:00",
          "1959-03-31T00:00:00",
          "1959-04-30T00:00:00",
          "1959-05-31T00:00:00",
          "1959-06-30T00:00:00",
          "1959-07-31T00:00:00",
          "1959-08-31T00:00:00",
          "1959-09-30T00:00:00",
          "1959-10-31T00:00:00",
          "1959-11-30T00:00:00",
          "1959-12-31T00:00:00",
          "1960-01-31T00:00:00",
          "1960-02-29T00:00:00",
          "1960-03-31T00:00:00",
          "1960-04-30T00:00:00",
          "1960-05-31T00:00:00",
          "1960-06-30T00:00:00",
          "1960-07-31T00:00:00",
          "1960-08-31T00:00:00",
          "1960-09-30T00:00:00",
          "1960-10-31T00:00:00",
          "1960-11-30T00:00:00",
          "1960-12-31T00:00:00",
          "1961-01-31T00:00:00",
          "1961-02-28T00:00:00",
          "1961-03-31T00:00:00",
          "1961-04-30T00:00:00",
          "1961-05-31T00:00:00",
          "1961-06-30T00:00:00",
          "1961-07-31T00:00:00",
          "1961-08-31T00:00:00",
          "1961-09-30T00:00:00",
          "1961-10-31T00:00:00",
          "1961-11-30T00:00:00",
          "1961-12-31T00:00:00",
          "1962-01-31T00:00:00",
          "1962-02-28T00:00:00",
          "1962-03-31T00:00:00",
          "1962-04-30T00:00:00",
          "1962-05-31T00:00:00",
          "1962-06-30T00:00:00",
          "1962-07-31T00:00:00",
          "1962-08-31T00:00:00",
          "1962-09-30T00:00:00",
          "1962-10-31T00:00:00",
          "1962-11-30T00:00:00",
          "1962-12-31T00:00:00",
          "1963-01-31T00:00:00",
          "1963-02-28T00:00:00",
          "1963-03-31T00:00:00",
          "1963-04-30T00:00:00",
          "1963-05-31T00:00:00",
          "1963-06-30T00:00:00",
          "1963-07-31T00:00:00",
          "1963-08-31T00:00:00",
          "1963-09-30T00:00:00",
          "1963-10-31T00:00:00",
          "1963-11-30T00:00:00",
          "1963-12-31T00:00:00",
          "1964-01-31T00:00:00",
          "1964-02-29T00:00:00",
          "1964-03-31T00:00:00",
          "1964-04-30T00:00:00",
          "1964-05-31T00:00:00",
          "1964-06-30T00:00:00",
          "1964-07-31T00:00:00",
          "1964-08-31T00:00:00",
          "1964-09-30T00:00:00",
          "1964-10-31T00:00:00",
          "1964-11-30T00:00:00",
          "1964-12-31T00:00:00"
         ],
         "xaxis": "x",
         "y": [
          null,
          null,
          null,
          null,
          null,
          null,
          null,
          null,
          null,
          null,
          null,
          null,
          null,
          null,
          null,
          null,
          null,
          null,
          null,
          null,
          null,
          null,
          null,
          null,
          null,
          null,
          null,
          null,
          null,
          null,
          null,
          null,
          null,
          null,
          null,
          null,
          null,
          null,
          null,
          null,
          null,
          null,
          null,
          null,
          null,
          null,
          null,
          null,
          null,
          null,
          null,
          null,
          null,
          null,
          null,
          null,
          null,
          null,
          null,
          null,
          null,
          null,
          null,
          null,
          null,
          null,
          null,
          null,
          null,
          null,
          null,
          null,
          null,
          null,
          null,
          null,
          null,
          null,
          null,
          null,
          null,
          null,
          null,
          null,
          null,
          null,
          null,
          null,
          null,
          null,
          null,
          null,
          null,
          null,
          null,
          null,
          null,
          null,
          null,
          null,
          null,
          null,
          null,
          null,
          null,
          null,
          null,
          null,
          null,
          null,
          null,
          null,
          null,
          null,
          null,
          null,
          null,
          null,
          null,
          null,
          null,
          null,
          null,
          null,
          null,
          null,
          null,
          null,
          null,
          null,
          null,
          null,
          null,
          null,
          null,
          null,
          null,
          null,
          null,
          null,
          null,
          null,
          null,
          null,
          6.1101855853768265,
          6.0537775055034375,
          6.171722750167855,
          6.19929986303059,
          6.232554451904829,
          6.368779257419676,
          6.5072911549041645,
          6.502905184596606,
          6.324699797497424,
          6.2090069275646735,
          6.063488646957164,
          6.1680271408689995,
          6.20643634751229,
          6.150028267638901,
          6.2679735123033185,
          6.295550625166054,
          6.328805214040291,
          6.4650300195551385,
          6.603541917039627,
          6.599155946732068,
          6.420950559632887,
          6.305257689700136,
          6.159739409092626,
          6.26427790300446,
          6.302687109647751,
          6.246279029774362,
          6.364224274438779,
          6.3918013873015145,
          6.425055976175752,
          6.561280781690599,
          6.699792679175088,
          6.695406708867529,
          6.517201321768348,
          6.401508451835597,
          6.2559901712280865,
          6.360528665139921,
          6.398937871783212,
          6.342529791909823,
          6.46047503657424,
          6.488052149436975,
          6.521306738311213,
          6.65753154382606,
          6.796043441310549,
          6.79165747100299,
          6.613452083903809,
          6.497759213971058,
          6.3522409333635474,
          6.456779427275382
         ],
         "yaxis": "y"
        },
        {
         "hovertemplate": "variable=SARIMA(1,1,1)(1,1,1,12)<br>index=%{x}<br>value=%{y}<extra></extra>",
         "legendgroup": "SARIMA(1,1,1)(1,1,1,12)",
         "line": {
          "color": "#ab63fa",
          "dash": "solid"
         },
         "marker": {
          "symbol": "circle"
         },
         "mode": "lines",
         "name": "SARIMA(1,1,1)(1,1,1,12)",
         "orientation": "v",
         "showlegend": true,
         "type": "scatter",
         "x": [
          "1949-01-31T00:00:00",
          "1949-02-28T00:00:00",
          "1949-03-31T00:00:00",
          "1949-04-30T00:00:00",
          "1949-05-31T00:00:00",
          "1949-06-30T00:00:00",
          "1949-07-31T00:00:00",
          "1949-08-31T00:00:00",
          "1949-09-30T00:00:00",
          "1949-10-31T00:00:00",
          "1949-11-30T00:00:00",
          "1949-12-31T00:00:00",
          "1950-01-31T00:00:00",
          "1950-02-28T00:00:00",
          "1950-03-31T00:00:00",
          "1950-04-30T00:00:00",
          "1950-05-31T00:00:00",
          "1950-06-30T00:00:00",
          "1950-07-31T00:00:00",
          "1950-08-31T00:00:00",
          "1950-09-30T00:00:00",
          "1950-10-31T00:00:00",
          "1950-11-30T00:00:00",
          "1950-12-31T00:00:00",
          "1951-01-31T00:00:00",
          "1951-02-28T00:00:00",
          "1951-03-31T00:00:00",
          "1951-04-30T00:00:00",
          "1951-05-31T00:00:00",
          "1951-06-30T00:00:00",
          "1951-07-31T00:00:00",
          "1951-08-31T00:00:00",
          "1951-09-30T00:00:00",
          "1951-10-31T00:00:00",
          "1951-11-30T00:00:00",
          "1951-12-31T00:00:00",
          "1952-01-31T00:00:00",
          "1952-02-29T00:00:00",
          "1952-03-31T00:00:00",
          "1952-04-30T00:00:00",
          "1952-05-31T00:00:00",
          "1952-06-30T00:00:00",
          "1952-07-31T00:00:00",
          "1952-08-31T00:00:00",
          "1952-09-30T00:00:00",
          "1952-10-31T00:00:00",
          "1952-11-30T00:00:00",
          "1952-12-31T00:00:00",
          "1953-01-31T00:00:00",
          "1953-02-28T00:00:00",
          "1953-03-31T00:00:00",
          "1953-04-30T00:00:00",
          "1953-05-31T00:00:00",
          "1953-06-30T00:00:00",
          "1953-07-31T00:00:00",
          "1953-08-31T00:00:00",
          "1953-09-30T00:00:00",
          "1953-10-31T00:00:00",
          "1953-11-30T00:00:00",
          "1953-12-31T00:00:00",
          "1954-01-31T00:00:00",
          "1954-02-28T00:00:00",
          "1954-03-31T00:00:00",
          "1954-04-30T00:00:00",
          "1954-05-31T00:00:00",
          "1954-06-30T00:00:00",
          "1954-07-31T00:00:00",
          "1954-08-31T00:00:00",
          "1954-09-30T00:00:00",
          "1954-10-31T00:00:00",
          "1954-11-30T00:00:00",
          "1954-12-31T00:00:00",
          "1955-01-31T00:00:00",
          "1955-02-28T00:00:00",
          "1955-03-31T00:00:00",
          "1955-04-30T00:00:00",
          "1955-05-31T00:00:00",
          "1955-06-30T00:00:00",
          "1955-07-31T00:00:00",
          "1955-08-31T00:00:00",
          "1955-09-30T00:00:00",
          "1955-10-31T00:00:00",
          "1955-11-30T00:00:00",
          "1955-12-31T00:00:00",
          "1956-01-31T00:00:00",
          "1956-02-29T00:00:00",
          "1956-03-31T00:00:00",
          "1956-04-30T00:00:00",
          "1956-05-31T00:00:00",
          "1956-06-30T00:00:00",
          "1956-07-31T00:00:00",
          "1956-08-31T00:00:00",
          "1956-09-30T00:00:00",
          "1956-10-31T00:00:00",
          "1956-11-30T00:00:00",
          "1956-12-31T00:00:00",
          "1957-01-31T00:00:00",
          "1957-02-28T00:00:00",
          "1957-03-31T00:00:00",
          "1957-04-30T00:00:00",
          "1957-05-31T00:00:00",
          "1957-06-30T00:00:00",
          "1957-07-31T00:00:00",
          "1957-08-31T00:00:00",
          "1957-09-30T00:00:00",
          "1957-10-31T00:00:00",
          "1957-11-30T00:00:00",
          "1957-12-31T00:00:00",
          "1958-01-31T00:00:00",
          "1958-02-28T00:00:00",
          "1958-03-31T00:00:00",
          "1958-04-30T00:00:00",
          "1958-05-31T00:00:00",
          "1958-06-30T00:00:00",
          "1958-07-31T00:00:00",
          "1958-08-31T00:00:00",
          "1958-09-30T00:00:00",
          "1958-10-31T00:00:00",
          "1958-11-30T00:00:00",
          "1958-12-31T00:00:00",
          "1959-01-31T00:00:00",
          "1959-02-28T00:00:00",
          "1959-03-31T00:00:00",
          "1959-04-30T00:00:00",
          "1959-05-31T00:00:00",
          "1959-06-30T00:00:00",
          "1959-07-31T00:00:00",
          "1959-08-31T00:00:00",
          "1959-09-30T00:00:00",
          "1959-10-31T00:00:00",
          "1959-11-30T00:00:00",
          "1959-12-31T00:00:00",
          "1960-01-31T00:00:00",
          "1960-02-29T00:00:00",
          "1960-03-31T00:00:00",
          "1960-04-30T00:00:00",
          "1960-05-31T00:00:00",
          "1960-06-30T00:00:00",
          "1960-07-31T00:00:00",
          "1960-08-31T00:00:00",
          "1960-09-30T00:00:00",
          "1960-10-31T00:00:00",
          "1960-11-30T00:00:00",
          "1960-12-31T00:00:00",
          "1961-01-31T00:00:00",
          "1961-02-28T00:00:00",
          "1961-03-31T00:00:00",
          "1961-04-30T00:00:00",
          "1961-05-31T00:00:00",
          "1961-06-30T00:00:00",
          "1961-07-31T00:00:00",
          "1961-08-31T00:00:00",
          "1961-09-30T00:00:00",
          "1961-10-31T00:00:00",
          "1961-11-30T00:00:00",
          "1961-12-31T00:00:00",
          "1962-01-31T00:00:00",
          "1962-02-28T00:00:00",
          "1962-03-31T00:00:00",
          "1962-04-30T00:00:00",
          "1962-05-31T00:00:00",
          "1962-06-30T00:00:00",
          "1962-07-31T00:00:00",
          "1962-08-31T00:00:00",
          "1962-09-30T00:00:00",
          "1962-10-31T00:00:00",
          "1962-11-30T00:00:00",
          "1962-12-31T00:00:00",
          "1963-01-31T00:00:00",
          "1963-02-28T00:00:00",
          "1963-03-31T00:00:00",
          "1963-04-30T00:00:00",
          "1963-05-31T00:00:00",
          "1963-06-30T00:00:00",
          "1963-07-31T00:00:00",
          "1963-08-31T00:00:00",
          "1963-09-30T00:00:00",
          "1963-10-31T00:00:00",
          "1963-11-30T00:00:00",
          "1963-12-31T00:00:00",
          "1964-01-31T00:00:00",
          "1964-02-29T00:00:00",
          "1964-03-31T00:00:00",
          "1964-04-30T00:00:00",
          "1964-05-31T00:00:00",
          "1964-06-30T00:00:00",
          "1964-07-31T00:00:00",
          "1964-08-31T00:00:00",
          "1964-09-30T00:00:00",
          "1964-10-31T00:00:00",
          "1964-11-30T00:00:00",
          "1964-12-31T00:00:00"
         ],
         "xaxis": "x",
         "y": [
          null,
          null,
          null,
          null,
          null,
          null,
          null,
          null,
          null,
          null,
          null,
          null,
          null,
          null,
          null,
          null,
          null,
          null,
          null,
          null,
          null,
          null,
          null,
          null,
          null,
          null,
          null,
          null,
          null,
          null,
          null,
          null,
          null,
          null,
          null,
          null,
          null,
          null,
          null,
          null,
          null,
          null,
          null,
          null,
          null,
          null,
          null,
          null,
          null,
          null,
          null,
          null,
          null,
          null,
          null,
          null,
          null,
          null,
          null,
          null,
          null,
          null,
          null,
          null,
          null,
          null,
          null,
          null,
          null,
          null,
          null,
          null,
          null,
          null,
          null,
          null,
          null,
          null,
          null,
          null,
          null,
          null,
          null,
          null,
          null,
          null,
          null,
          null,
          null,
          null,
          null,
          null,
          null,
          null,
          null,
          null,
          null,
          null,
          null,
          null,
          null,
          null,
          null,
          null,
          null,
          null,
          null,
          null,
          null,
          null,
          null,
          null,
          null,
          null,
          null,
          null,
          null,
          null,
          null,
          null,
          null,
          null,
          null,
          null,
          null,
          null,
          null,
          null,
          null,
          null,
          null,
          null,
          null,
          null,
          null,
          null,
          null,
          null,
          null,
          null,
          null,
          null,
          null,
          null,
          6.111689733386692,
          6.055865596580135,
          6.1779619671659445,
          6.20055031324276,
          6.236268848666856,
          6.372425151101109,
          6.511497018687673,
          6.509800426814424,
          6.329086236801594,
          6.212336101244741,
          6.0687793566403245,
          6.172957851200416,
          6.211992203389267,
          6.154838734167581,
          6.2716754178406005,
          6.301379266895774,
          6.3359087379779595,
          6.471002135280662,
          6.611208042548481,
          6.607129754991485,
          6.426837444051831,
          6.312009851352515,
          6.1661368185800525,
          6.27012961116724,
          6.30957745148761,
          6.25255393264026,
          6.369904782880783,
          6.398913047996534,
          6.433558757391269,
          6.568756060172033,
          6.708851108124448,
          6.705005645888616,
          6.524672093689059,
          6.409656560665834,
          6.2640099592297975,
          6.368020905320717,
          6.4074283246470545,
          6.350392102355748,
          6.467692689669304,
          6.4967689523698,
          6.531403298758492,
          6.666590444143219,
          6.806696329271807,
          6.802828106936713,
          6.622498586322571,
          6.50750142561558,
          6.3618326891314,
          6.4658418606062895
         ],
         "yaxis": "y"
        }
       ],
       "layout": {
        "legend": {
         "title": {
          "text": "variable"
         },
         "tracegroupgap": 0
        },
        "margin": {
         "t": 60
        },
        "template": {
         "data": {
          "bar": [
           {
            "error_x": {
             "color": "#f2f5fa"
            },
            "error_y": {
             "color": "#f2f5fa"
            },
            "marker": {
             "line": {
              "color": "rgb(17,17,17)",
              "width": 0.5
             },
             "pattern": {
              "fillmode": "overlay",
              "size": 10,
              "solidity": 0.2
             }
            },
            "type": "bar"
           }
          ],
          "barpolar": [
           {
            "marker": {
             "line": {
              "color": "rgb(17,17,17)",
              "width": 0.5
             },
             "pattern": {
              "fillmode": "overlay",
              "size": 10,
              "solidity": 0.2
             }
            },
            "type": "barpolar"
           }
          ],
          "carpet": [
           {
            "aaxis": {
             "endlinecolor": "#A2B1C6",
             "gridcolor": "#506784",
             "linecolor": "#506784",
             "minorgridcolor": "#506784",
             "startlinecolor": "#A2B1C6"
            },
            "baxis": {
             "endlinecolor": "#A2B1C6",
             "gridcolor": "#506784",
             "linecolor": "#506784",
             "minorgridcolor": "#506784",
             "startlinecolor": "#A2B1C6"
            },
            "type": "carpet"
           }
          ],
          "choropleth": [
           {
            "colorbar": {
             "outlinewidth": 0,
             "ticks": ""
            },
            "type": "choropleth"
           }
          ],
          "contour": [
           {
            "colorbar": {
             "outlinewidth": 0,
             "ticks": ""
            },
            "colorscale": [
             [
              0,
              "#0d0887"
             ],
             [
              0.1111111111111111,
              "#46039f"
             ],
             [
              0.2222222222222222,
              "#7201a8"
             ],
             [
              0.3333333333333333,
              "#9c179e"
             ],
             [
              0.4444444444444444,
              "#bd3786"
             ],
             [
              0.5555555555555556,
              "#d8576b"
             ],
             [
              0.6666666666666666,
              "#ed7953"
             ],
             [
              0.7777777777777778,
              "#fb9f3a"
             ],
             [
              0.8888888888888888,
              "#fdca26"
             ],
             [
              1,
              "#f0f921"
             ]
            ],
            "type": "contour"
           }
          ],
          "contourcarpet": [
           {
            "colorbar": {
             "outlinewidth": 0,
             "ticks": ""
            },
            "type": "contourcarpet"
           }
          ],
          "heatmap": [
           {
            "colorbar": {
             "outlinewidth": 0,
             "ticks": ""
            },
            "colorscale": [
             [
              0,
              "#0d0887"
             ],
             [
              0.1111111111111111,
              "#46039f"
             ],
             [
              0.2222222222222222,
              "#7201a8"
             ],
             [
              0.3333333333333333,
              "#9c179e"
             ],
             [
              0.4444444444444444,
              "#bd3786"
             ],
             [
              0.5555555555555556,
              "#d8576b"
             ],
             [
              0.6666666666666666,
              "#ed7953"
             ],
             [
              0.7777777777777778,
              "#fb9f3a"
             ],
             [
              0.8888888888888888,
              "#fdca26"
             ],
             [
              1,
              "#f0f921"
             ]
            ],
            "type": "heatmap"
           }
          ],
          "heatmapgl": [
           {
            "colorbar": {
             "outlinewidth": 0,
             "ticks": ""
            },
            "colorscale": [
             [
              0,
              "#0d0887"
             ],
             [
              0.1111111111111111,
              "#46039f"
             ],
             [
              0.2222222222222222,
              "#7201a8"
             ],
             [
              0.3333333333333333,
              "#9c179e"
             ],
             [
              0.4444444444444444,
              "#bd3786"
             ],
             [
              0.5555555555555556,
              "#d8576b"
             ],
             [
              0.6666666666666666,
              "#ed7953"
             ],
             [
              0.7777777777777778,
              "#fb9f3a"
             ],
             [
              0.8888888888888888,
              "#fdca26"
             ],
             [
              1,
              "#f0f921"
             ]
            ],
            "type": "heatmapgl"
           }
          ],
          "histogram": [
           {
            "marker": {
             "pattern": {
              "fillmode": "overlay",
              "size": 10,
              "solidity": 0.2
             }
            },
            "type": "histogram"
           }
          ],
          "histogram2d": [
           {
            "colorbar": {
             "outlinewidth": 0,
             "ticks": ""
            },
            "colorscale": [
             [
              0,
              "#0d0887"
             ],
             [
              0.1111111111111111,
              "#46039f"
             ],
             [
              0.2222222222222222,
              "#7201a8"
             ],
             [
              0.3333333333333333,
              "#9c179e"
             ],
             [
              0.4444444444444444,
              "#bd3786"
             ],
             [
              0.5555555555555556,
              "#d8576b"
             ],
             [
              0.6666666666666666,
              "#ed7953"
             ],
             [
              0.7777777777777778,
              "#fb9f3a"
             ],
             [
              0.8888888888888888,
              "#fdca26"
             ],
             [
              1,
              "#f0f921"
             ]
            ],
            "type": "histogram2d"
           }
          ],
          "histogram2dcontour": [
           {
            "colorbar": {
             "outlinewidth": 0,
             "ticks": ""
            },
            "colorscale": [
             [
              0,
              "#0d0887"
             ],
             [
              0.1111111111111111,
              "#46039f"
             ],
             [
              0.2222222222222222,
              "#7201a8"
             ],
             [
              0.3333333333333333,
              "#9c179e"
             ],
             [
              0.4444444444444444,
              "#bd3786"
             ],
             [
              0.5555555555555556,
              "#d8576b"
             ],
             [
              0.6666666666666666,
              "#ed7953"
             ],
             [
              0.7777777777777778,
              "#fb9f3a"
             ],
             [
              0.8888888888888888,
              "#fdca26"
             ],
             [
              1,
              "#f0f921"
             ]
            ],
            "type": "histogram2dcontour"
           }
          ],
          "mesh3d": [
           {
            "colorbar": {
             "outlinewidth": 0,
             "ticks": ""
            },
            "type": "mesh3d"
           }
          ],
          "parcoords": [
           {
            "line": {
             "colorbar": {
              "outlinewidth": 0,
              "ticks": ""
             }
            },
            "type": "parcoords"
           }
          ],
          "pie": [
           {
            "automargin": true,
            "type": "pie"
           }
          ],
          "scatter": [
           {
            "marker": {
             "line": {
              "color": "#283442"
             }
            },
            "type": "scatter"
           }
          ],
          "scatter3d": [
           {
            "line": {
             "colorbar": {
              "outlinewidth": 0,
              "ticks": ""
             }
            },
            "marker": {
             "colorbar": {
              "outlinewidth": 0,
              "ticks": ""
             }
            },
            "type": "scatter3d"
           }
          ],
          "scattercarpet": [
           {
            "marker": {
             "colorbar": {
              "outlinewidth": 0,
              "ticks": ""
             }
            },
            "type": "scattercarpet"
           }
          ],
          "scattergeo": [
           {
            "marker": {
             "colorbar": {
              "outlinewidth": 0,
              "ticks": ""
             }
            },
            "type": "scattergeo"
           }
          ],
          "scattergl": [
           {
            "marker": {
             "line": {
              "color": "#283442"
             }
            },
            "type": "scattergl"
           }
          ],
          "scattermapbox": [
           {
            "marker": {
             "colorbar": {
              "outlinewidth": 0,
              "ticks": ""
             }
            },
            "type": "scattermapbox"
           }
          ],
          "scatterpolar": [
           {
            "marker": {
             "colorbar": {
              "outlinewidth": 0,
              "ticks": ""
             }
            },
            "type": "scatterpolar"
           }
          ],
          "scatterpolargl": [
           {
            "marker": {
             "colorbar": {
              "outlinewidth": 0,
              "ticks": ""
             }
            },
            "type": "scatterpolargl"
           }
          ],
          "scatterternary": [
           {
            "marker": {
             "colorbar": {
              "outlinewidth": 0,
              "ticks": ""
             }
            },
            "type": "scatterternary"
           }
          ],
          "surface": [
           {
            "colorbar": {
             "outlinewidth": 0,
             "ticks": ""
            },
            "colorscale": [
             [
              0,
              "#0d0887"
             ],
             [
              0.1111111111111111,
              "#46039f"
             ],
             [
              0.2222222222222222,
              "#7201a8"
             ],
             [
              0.3333333333333333,
              "#9c179e"
             ],
             [
              0.4444444444444444,
              "#bd3786"
             ],
             [
              0.5555555555555556,
              "#d8576b"
             ],
             [
              0.6666666666666666,
              "#ed7953"
             ],
             [
              0.7777777777777778,
              "#fb9f3a"
             ],
             [
              0.8888888888888888,
              "#fdca26"
             ],
             [
              1,
              "#f0f921"
             ]
            ],
            "type": "surface"
           }
          ],
          "table": [
           {
            "cells": {
             "fill": {
              "color": "#506784"
             },
             "line": {
              "color": "rgb(17,17,17)"
             }
            },
            "header": {
             "fill": {
              "color": "#2a3f5f"
             },
             "line": {
              "color": "rgb(17,17,17)"
             }
            },
            "type": "table"
           }
          ]
         },
         "layout": {
          "annotationdefaults": {
           "arrowcolor": "#f2f5fa",
           "arrowhead": 0,
           "arrowwidth": 1
          },
          "autosize": false,
          "autotypenumbers": "strict",
          "coloraxis": {
           "colorbar": {
            "outlinewidth": 0,
            "ticks": ""
           }
          },
          "colorscale": {
           "diverging": [
            [
             0,
             "#8e0152"
            ],
            [
             0.1,
             "#c51b7d"
            ],
            [
             0.2,
             "#de77ae"
            ],
            [
             0.3,
             "#f1b6da"
            ],
            [
             0.4,
             "#fde0ef"
            ],
            [
             0.5,
             "#f7f7f7"
            ],
            [
             0.6,
             "#e6f5d0"
            ],
            [
             0.7,
             "#b8e186"
            ],
            [
             0.8,
             "#7fbc41"
            ],
            [
             0.9,
             "#4d9221"
            ],
            [
             1,
             "#276419"
            ]
           ],
           "sequential": [
            [
             0,
             "#0d0887"
            ],
            [
             0.1111111111111111,
             "#46039f"
            ],
            [
             0.2222222222222222,
             "#7201a8"
            ],
            [
             0.3333333333333333,
             "#9c179e"
            ],
            [
             0.4444444444444444,
             "#bd3786"
            ],
            [
             0.5555555555555556,
             "#d8576b"
            ],
            [
             0.6666666666666666,
             "#ed7953"
            ],
            [
             0.7777777777777778,
             "#fb9f3a"
            ],
            [
             0.8888888888888888,
             "#fdca26"
            ],
            [
             1,
             "#f0f921"
            ]
           ],
           "sequentialminus": [
            [
             0,
             "#0d0887"
            ],
            [
             0.1111111111111111,
             "#46039f"
            ],
            [
             0.2222222222222222,
             "#7201a8"
            ],
            [
             0.3333333333333333,
             "#9c179e"
            ],
            [
             0.4444444444444444,
             "#bd3786"
            ],
            [
             0.5555555555555556,
             "#d8576b"
            ],
            [
             0.6666666666666666,
             "#ed7953"
            ],
            [
             0.7777777777777778,
             "#fb9f3a"
            ],
            [
             0.8888888888888888,
             "#fdca26"
            ],
            [
             1,
             "#f0f921"
            ]
           ]
          },
          "colorway": [
           "#636efa",
           "#EF553B",
           "#00cc96",
           "#ab63fa",
           "#FFA15A",
           "#19d3f3",
           "#FF6692",
           "#B6E880",
           "#FF97FF",
           "#FECB52"
          ],
          "font": {
           "color": "#f2f5fa"
          },
          "geo": {
           "bgcolor": "rgb(17,17,17)",
           "lakecolor": "rgb(17,17,17)",
           "landcolor": "rgb(17,17,17)",
           "showlakes": true,
           "showland": true,
           "subunitcolor": "#506784"
          },
          "height": 500,
          "hoverlabel": {
           "align": "left"
          },
          "hovermode": "closest",
          "mapbox": {
           "style": "dark"
          },
          "paper_bgcolor": "rgb(17,17,17)",
          "plot_bgcolor": "rgb(17,17,17)",
          "polar": {
           "angularaxis": {
            "gridcolor": "#506784",
            "linecolor": "#506784",
            "ticks": ""
           },
           "bgcolor": "rgb(17,17,17)",
           "radialaxis": {
            "gridcolor": "#506784",
            "linecolor": "#506784",
            "ticks": ""
           }
          },
          "scene": {
           "xaxis": {
            "backgroundcolor": "rgb(17,17,17)",
            "gridcolor": "#506784",
            "gridwidth": 2,
            "linecolor": "#506784",
            "showbackground": true,
            "ticks": "",
            "zerolinecolor": "#C8D4E3"
           },
           "yaxis": {
            "backgroundcolor": "rgb(17,17,17)",
            "gridcolor": "#506784",
            "gridwidth": 2,
            "linecolor": "#506784",
            "showbackground": true,
            "ticks": "",
            "zerolinecolor": "#C8D4E3"
           },
           "zaxis": {
            "backgroundcolor": "rgb(17,17,17)",
            "gridcolor": "#506784",
            "gridwidth": 2,
            "linecolor": "#506784",
            "showbackground": true,
            "ticks": "",
            "zerolinecolor": "#C8D4E3"
           }
          },
          "shapedefaults": {
           "line": {
            "color": "#f2f5fa"
           }
          },
          "showlegend": true,
          "sliderdefaults": {
           "bgcolor": "#C8D4E3",
           "bordercolor": "rgb(17,17,17)",
           "borderwidth": 1,
           "tickwidth": 0
          },
          "ternary": {
           "aaxis": {
            "gridcolor": "#506784",
            "linecolor": "#506784",
            "ticks": ""
           },
           "baxis": {
            "gridcolor": "#506784",
            "linecolor": "#506784",
            "ticks": ""
           },
           "bgcolor": "rgb(17,17,17)",
           "caxis": {
            "gridcolor": "#506784",
            "linecolor": "#506784",
            "ticks": ""
           }
          },
          "title": {
           "x": 0.05
          },
          "updatemenudefaults": {
           "bgcolor": "#506784",
           "borderwidth": 0
          },
          "width": 1000,
          "xaxis": {
           "automargin": true,
           "gridcolor": "#283442",
           "linecolor": "#506784",
           "ticks": "",
           "title": {
            "standoff": 15
           },
           "zerolinecolor": "#283442",
           "zerolinewidth": 2
          },
          "yaxis": {
           "automargin": true,
           "gridcolor": "#283442",
           "linecolor": "#506784",
           "ticks": "",
           "title": {
            "standoff": 15
           },
           "zerolinecolor": "#283442",
           "zerolinewidth": 2
          }
         }
        },
        "xaxis": {
         "anchor": "y",
         "domain": [
          0,
          1
         ],
         "title": {
          "text": "index"
         }
        },
        "yaxis": {
         "anchor": "x",
         "domain": [
          0,
          1
         ],
         "title": {
          "text": "value"
         }
        }
       }
      }
     },
     "metadata": {},
     "output_type": "display_data"
    }
   ],
   "source": [
    "from modules import utils\n",
    "\n",
    "df_forecast = utils.get_model_forecast(df, 'values', order=(12, 1, 2))\n",
    "df_forecast = utils.get_model_forecast(df_forecast, 'values', order=(0, 1, 1), seasonal_order=(0, 1, 1, 12))\n",
    "df_forecast = utils.get_model_forecast(df_forecast, 'values', order=(1, 1, 1), seasonal_order=(1, 1, 1, 12))\n",
    "\n",
    "df_forecast.plot(color=\"variable\")"
   ]
  },
  {
   "cell_type": "markdown",
   "metadata": {},
   "source": [
    "## Diagnostics and assumptions"
   ]
  },
  {
   "cell_type": "code",
   "execution_count": 17,
   "metadata": {},
   "outputs": [],
   "source": [
    "model = SARIMAX(series, order=(0, 1, 1), seasonal_order=(0, 1, 1, 12))\n",
    "model_fit = model.fit()"
   ]
  },
  {
   "cell_type": "code",
   "execution_count": 18,
   "metadata": {},
   "outputs": [
    {
     "data": {
      "text/plain": [
       "1950-02-28    0.039164\n",
       "1950-03-31    0.013910\n",
       "                ...   \n",
       "1960-11-30   -0.027160\n",
       "1960-12-31   -0.014970\n",
       "Freq: ME, Length: 131, dtype: float64"
      ]
     },
     "execution_count": 18,
     "metadata": {},
     "output_type": "execute_result"
    }
   ],
   "source": [
    "residuals = model_fit.resid[12+1:]\n",
    "residuals"
   ]
  },
  {
   "cell_type": "markdown",
   "metadata": {},
   "source": [
    "### Autocorrelation"
   ]
  },
  {
   "cell_type": "markdown",
   "metadata": {},
   "source": [
    "#### Plot"
   ]
  },
  {
   "cell_type": "code",
   "execution_count": 19,
   "metadata": {},
   "outputs": [
    {
     "data": {
      "image/png": "[encoded data removed]",
      "text/plain": [
       "<Figure size 1200x400 with 1 Axes>"
      ]
     },
     "metadata": {},
     "output_type": "display_data"
    }
   ],
   "source": [
    "from statsmodels.tsa.stattools import acf\n",
    "import matplotlib.pyplot as plt\n",
    "\n",
    "lags = 40\n",
    "acf = acf(residuals, nlags=lags)\n",
    "\n",
    "fig, ax = plt.subplots(1, 1, figsize=(12, 4))\n",
    "ax.stem(range(lags + 1), acf)\n",
    "ax.set_title(\"ACF\")\n",
    "plt.show()\n"
   ]
  },
  {
   "cell_type": "markdown",
   "metadata": {},
   "source": [
    "#### Test"
   ]
  },
  {
   "cell_type": "code",
   "execution_count": 20,
   "metadata": {},
   "outputs": [
    {
     "name": "stdout",
     "output_type": "stream",
     "text": [
      "Ljung-Box Test:\n",
      "       lb_stat  lb_pvalue\n",
      "10   8.039552   0.624973\n",
      "20  15.689355   0.735699\n",
      "30  26.225622   0.663567\n"
     ]
    }
   ],
   "source": [
    "from statsmodels.stats.diagnostic import acorr_ljungbox\n",
    "\n",
    "lb = acorr_ljungbox(residuals, lags=[10, 20, 30], return_df=True)\n",
    "print(\"Ljung-Box Test:\\n\", lb)"
   ]
  },
  {
   "cell_type": "markdown",
   "metadata": {},
   "source": [
    "### Normality"
   ]
  },
  {
   "cell_type": "markdown",
   "metadata": {},
   "source": [
    "#### Plot"
   ]
  },
  {
   "cell_type": "code",
   "execution_count": 21,
   "metadata": {},
   "outputs": [
    {
     "data": {
      "image/png": "[encoded data removed]",
      "text/plain": [
       "<Figure size 1200x400 with 1 Axes>"
      ]
     },
     "metadata": {},
     "output_type": "display_data"
    }
   ],
   "source": [
    "from scipy import stats\n",
    "\n",
    "fig, ax = plt.subplots(1, 1, figsize=(12, 4))\n",
    "stats.probplot(residuals, dist=\"norm\", plot=ax)\n",
    "ax.set_title(\"QQ Plot\")\n",
    "plt.show()"
   ]
  },
  {
   "cell_type": "markdown",
   "metadata": {},
   "source": [
    "#### Test"
   ]
  },
  {
   "cell_type": "code",
   "execution_count": 22,
   "metadata": {},
   "outputs": [
    {
     "name": "stdout",
     "output_type": "stream",
     "text": [
      "Jarque-Bera (Good): Statistic=1.763, p-value=0.414\n"
     ]
    }
   ],
   "source": [
    "from scipy.stats import jarque_bera\n",
    "\n",
    "jb = jarque_bera(residuals)\n",
    "\n",
    "print(\n",
    "    f\"Jarque-Bera (Good): Statistic={jb.statistic:.3f}, p-value={jb.pvalue:.3f}\"\n",
    ")"
   ]
  },
  {
   "cell_type": "markdown",
   "metadata": {},
   "source": [
    "### Homoscedasticity"
   ]
  },
  {
   "cell_type": "markdown",
   "metadata": {},
   "source": [
    "#### Plot"
   ]
  },
  {
   "cell_type": "code",
   "execution_count": 23,
   "metadata": {},
   "outputs": [
    {
     "data": {
      "image/png": "[encoded data removed]",
      "text/plain": [
       "<Figure size 1200x400 with 1 Axes>"
      ]
     },
     "metadata": {},
     "output_type": "display_data"
    }
   ],
   "source": [
    "fig, ax = plt.subplots(1, 1, figsize=(12, 4))\n",
    "ax.plot(residuals)\n",
    "ax.set_title(\"Residuals (Homoscedastic)\")\n",
    "plt.show()"
   ]
  },
  {
   "cell_type": "markdown",
   "metadata": {},
   "source": [
    "#### Test"
   ]
  },
  {
   "cell_type": "code",
   "execution_count": 15,
   "metadata": {},
   "outputs": [
    {
     "name": "stdout",
     "output_type": "stream",
     "text": [
      "ARCH Test: LM Stat=13.665, p-value=0.189\n"
     ]
    }
   ],
   "source": [
    "from statsmodels.stats.diagnostic import het_arch\n",
    "arch = het_arch(residuals)\n",
    "\n",
    "print(f\"ARCH Test: LM Stat={arch[0]:.3f}, p-value={arch[1]:.3f}\")"
   ]
  }
 ],
 "metadata": {
  "kernelspec": {
   "display_name": "work",
   "language": "python",
   "name": "python3"
  },
  "language_info": {
   "codemirror_mode": {
    "name": "ipython",
    "version": 3
   },
   "file_extension": ".py",
   "mimetype": "text/x-python",
   "name": "python",
   "nbconvert_exporter": "python",
   "pygments_lexer": "ipython3",
   "version": "3.13.1"
  }
 },
 "nbformat": 4,
 "nbformat_minor": 2
}
