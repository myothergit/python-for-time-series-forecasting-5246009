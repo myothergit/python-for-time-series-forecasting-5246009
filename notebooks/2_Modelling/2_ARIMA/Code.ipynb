{
 "cells": [
  {
   "cell_type": "markdown",
   "id": "1f841409",
   "metadata": {},
   "source": [
    "# Statistical forecasting with ARIMA"
   ]
  },
  {
   "cell_type": "code",
   "execution_count": 1,
   "id": "dd688f5d",
   "metadata": {},
   "outputs": [],
   "source": [
    "\n",
    "from modules import utils\n",
    "utils.configure_plotly_template(showlegend=True)"
   ]
  },
  {
   "cell_type": "markdown",
   "id": "c494990a",
   "metadata": {},
   "source": [
    "## Load data"
   ]
  },
  {
   "cell_type": "code",
   "execution_count": 2,
   "id": "c372c89d",
   "metadata": {},
   "outputs": [],
   "source": [
    "path = '../../../data/statsmodels/AirPassengers_log.parquet'"
   ]
  },
  {
   "cell_type": "code",
   "execution_count": 3,
   "id": "ec15cd86",
   "metadata": {},
   "outputs": [
    {
     "data": {
      "text/plain": [
       "1949-01-31    4.718499\n",
       "1949-02-28    4.770685\n",
       "                ...   \n",
       "1960-11-30    5.966147\n",
       "1960-12-31    6.068426\n",
       "Freq: ME, Name: values, Length: 144, dtype: float64"
      ]
     },
     "execution_count": 3,
     "metadata": {},
     "output_type": "execute_result"
    }
   ],
   "source": [
    "import pandas as pd\n",
    "\n",
    "df = pd.read_parquet(path).asfreq('ME')\n",
    "df.columns = [\"values\"]\n",
    "series = df[\"values\"]\n",
    "series"
   ]
  },
  {
   "cell_type": "code",
   "execution_count": 4,
   "id": "39a1f20b",
   "metadata": {},
   "outputs": [
    {
     "data": {
      "application/vnd.plotly.v1+json": {
       "config": {
        "plotlyServerURL": "https://plot.ly"
       },
       "data": [
        {
         "hovertemplate": "variable=values<br>index=%{x}<br>value=%{y}<extra></extra>",
         "legendgroup": "values",
         "line": {
          "color": "#636efa",
          "dash": "solid"
         },
         "marker": {
          "symbol": "circle"
         },
         "mode": "lines",
         "name": "values",
         "orientation": "v",
         "showlegend": true,
         "type": "scatter",
         "x": [
          "1949-01-31T00:00:00",
          "1949-02-28T00:00:00",
          "1949-03-31T00:00:00",
          "1949-04-30T00:00:00",
          "1949-05-31T00:00:00",
          "1949-06-30T00:00:00",
          "1949-07-31T00:00:00",
          "1949-08-31T00:00:00",
          "1949-09-30T00:00:00",
          "1949-10-31T00:00:00",
          "1949-11-30T00:00:00",
          "1949-12-31T00:00:00",
          "1950-01-31T00:00:00",
          "1950-02-28T00:00:00",
          "1950-03-31T00:00:00",
          "1950-04-30T00:00:00",
          "1950-05-31T00:00:00",
          "1950-06-30T00:00:00",
          "1950-07-31T00:00:00",
          "1950-08-31T00:00:00",
          "1950-09-30T00:00:00",
          "1950-10-31T00:00:00",
          "1950-11-30T00:00:00",
          "1950-12-31T00:00:00",
          "1951-01-31T00:00:00",
          "1951-02-28T00:00:00",
          "1951-03-31T00:00:00",
          "1951-04-30T00:00:00",
          "1951-05-31T00:00:00",
          "1951-06-30T00:00:00",
          "1951-07-31T00:00:00",
          "1951-08-31T00:00:00",
          "1951-09-30T00:00:00",
          "1951-10-31T00:00:00",
          "1951-11-30T00:00:00",
          "1951-12-31T00:00:00",
          "1952-01-31T00:00:00",
          "1952-02-29T00:00:00",
          "1952-03-31T00:00:00",
          "1952-04-30T00:00:00",
          "1952-05-31T00:00:00",
          "1952-06-30T00:00:00",
          "1952-07-31T00:00:00",
          "1952-08-31T00:00:00",
          "1952-09-30T00:00:00",
          "1952-10-31T00:00:00",
          "1952-11-30T00:00:00",
          "1952-12-31T00:00:00",
          "1953-01-31T00:00:00",
          "1953-02-28T00:00:00",
          "1953-03-31T00:00:00",
          "1953-04-30T00:00:00",
          "1953-05-31T00:00:00",
          "1953-06-30T00:00:00",
          "1953-07-31T00:00:00",
          "1953-08-31T00:00:00",
          "1953-09-30T00:00:00",
          "1953-10-31T00:00:00",
          "1953-11-30T00:00:00",
          "1953-12-31T00:00:00",
          "1954-01-31T00:00:00",
          "1954-02-28T00:00:00",
          "1954-03-31T00:00:00",
          "1954-04-30T00:00:00",
          "1954-05-31T00:00:00",
          "1954-06-30T00:00:00",
          "1954-07-31T00:00:00",
          "1954-08-31T00:00:00",
          "1954-09-30T00:00:00",
          "1954-10-31T00:00:00",
          "1954-11-30T00:00:00",
          "1954-12-31T00:00:00",
          "1955-01-31T00:00:00",
          "1955-02-28T00:00:00",
          "1955-03-31T00:00:00",
          "1955-04-30T00:00:00",
          "1955-05-31T00:00:00",
          "1955-06-30T00:00:00",
          "1955-07-31T00:00:00",
          "1955-08-31T00:00:00",
          "1955-09-30T00:00:00",
          "1955-10-31T00:00:00",
          "1955-11-30T00:00:00",
          "1955-12-31T00:00:00",
          "1956-01-31T00:00:00",
          "1956-02-29T00:00:00",
          "1956-03-31T00:00:00",
          "1956-04-30T00:00:00",
          "1956-05-31T00:00:00",
          "1956-06-30T00:00:00",
          "1956-07-31T00:00:00",
          "1956-08-31T00:00:00",
          "1956-09-30T00:00:00",
          "1956-10-31T00:00:00",
          "1956-11-30T00:00:00",
          "1956-12-31T00:00:00",
          "1957-01-31T00:00:00",
          "1957-02-28T00:00:00",
          "1957-03-31T00:00:00",
          "1957-04-30T00:00:00",
          "1957-05-31T00:00:00",
          "1957-06-30T00:00:00",
          "1957-07-31T00:00:00",
          "1957-08-31T00:00:00",
          "1957-09-30T00:00:00",
          "1957-10-31T00:00:00",
          "1957-11-30T00:00:00",
          "1957-12-31T00:00:00",
          "1958-01-31T00:00:00",
          "1958-02-28T00:00:00",
          "1958-03-31T00:00:00",
          "1958-04-30T00:00:00",
          "1958-05-31T00:00:00",
          "1958-06-30T00:00:00",
          "1958-07-31T00:00:00",
          "1958-08-31T00:00:00",
          "1958-09-30T00:00:00",
          "1958-10-31T00:00:00",
          "1958-11-30T00:00:00",
          "1958-12-31T00:00:00",
          "1959-01-31T00:00:00",
          "1959-02-28T00:00:00",
          "1959-03-31T00:00:00",
          "1959-04-30T00:00:00",
          "1959-05-31T00:00:00",
          "1959-06-30T00:00:00",
          "1959-07-31T00:00:00",
          "1959-08-31T00:00:00",
          "1959-09-30T00:00:00",
          "1959-10-31T00:00:00",
          "1959-11-30T00:00:00",
          "1959-12-31T00:00:00",
          "1960-01-31T00:00:00",
          "1960-02-29T00:00:00",
          "1960-03-31T00:00:00",
          "1960-04-30T00:00:00",
          "1960-05-31T00:00:00",
          "1960-06-30T00:00:00",
          "1960-07-31T00:00:00",
          "1960-08-31T00:00:00",
          "1960-09-30T00:00:00",
          "1960-10-31T00:00:00",
          "1960-11-30T00:00:00",
          "1960-12-31T00:00:00"
         ],
         "xaxis": "x",
         "y": [
          4.718498871295094,
          4.770684624465665,
          4.882801922586371,
          4.859812404361672,
          4.795790545596741,
          4.90527477843843,
          4.997212273764115,
          4.997212273764115,
          4.912654885736052,
          4.77912349311153,
          4.6443908991413725,
          4.770684624465665,
          4.74493212836325,
          4.836281906951478,
          4.948759890378168,
          4.90527477843843,
          4.8283137373023015,
          5.003946305945459,
          5.135798437050262,
          5.135798437050262,
          5.062595033026967,
          4.890349128221754,
          4.736198448394496,
          4.941642422609304,
          4.976733742420574,
          5.0106352940962555,
          5.181783550292085,
          5.093750200806762,
          5.147494476813453,
          5.181783550292085,
          5.293304824724492,
          5.293304824724492,
          5.214935757608986,
          5.087596335232384,
          4.983606621708336,
          5.111987788356544,
          5.14166355650266,
          5.19295685089021,
          5.262690188904886,
          5.198497031265826,
          5.209486152841421,
          5.384495062789089,
          5.438079308923196,
          5.488937726156687,
          5.342334251964811,
          5.25227342804663,
          5.147494476813453,
          5.267858159063328,
          5.278114659230517,
          5.278114659230517,
          5.4638318050256105,
          5.459585514144159,
          5.43372200355424,
          5.493061443340548,
          5.575949103146316,
          5.605802066295998,
          5.4680601411351315,
          5.351858133476067,
          5.19295685089021,
          5.303304908059076,
          5.318119993844216,
          5.236441962829949,
          5.459585514144159,
          5.424950017481403,
          5.455321115357702,
          5.575949103146316,
          5.71042701737487,
          5.680172609017068,
          5.556828061699537,
          5.43372200355424,
          5.313205979041787,
          5.43372200355424,
          5.488937726156687,
          5.4510384535657,
          5.58724865840025,
          5.594711379601839,
          5.598421958998375,
          5.752572638825633,
          5.8971538676367405,
          5.849324779946859,
          5.7430031878094825,
          5.6131281063880705,
          5.4680601411351315,
          5.627621113690637,
          5.648974238161206,
          5.6240175061873385,
          5.75890177387728,
          5.746203190540153,
          5.762051382780177,
          5.924255797414532,
          6.023447592961033,
          6.003887067106539,
          5.872117789475416,
          5.723585101952381,
          5.602118820879701,
          5.723585101952381,
          5.752572638825633,
          5.707110264748875,
          5.87493073085203,
          5.8522024797744745,
          5.872117789475416,
          6.045005314036012,
          6.142037405587356,
          6.1463292576688975,
          6.0014148779611505,
          5.849324779946859,
          5.720311776607412,
          5.817111159963204,
          5.8289456176102075,
          5.762051382780177,
          5.8916442118257715,
          5.8522024797744745,
          5.8944028342648505,
          6.075346031088684,
          6.19644412779452,
          6.22455842927536,
          6.0014148779611505,
          5.883322388488279,
          5.736572297479192,
          5.820082930352362,
          5.886104031450156,
          5.834810737062605,
          6.0063531596017325,
          5.981414211254481,
          6.040254711277414,
          6.156978985585555,
          6.306275286948016,
          6.326149473155099,
          6.137727054086234,
          6.008813185442595,
          5.8916442118257715,
          6.003887067106539,
          6.0330862217988015,
          5.968707559985366,
          6.037870919922137,
          6.133398042996649,
          6.156978985585555,
          6.282266746896006,
          6.432940092739179,
          6.406879986069314,
          6.230481447578482,
          6.133398042996649,
          5.966146739123692,
          6.068425588244111
         ],
         "yaxis": "y"
        }
       ],
       "layout": {
        "legend": {
         "title": {
          "text": "variable"
         },
         "tracegroupgap": 0
        },
        "margin": {
         "t": 60
        },
        "template": {
         "data": {
          "bar": [
           {
            "error_x": {
             "color": "#f2f5fa"
            },
            "error_y": {
             "color": "#f2f5fa"
            },
            "marker": {
             "line": {
              "color": "rgb(17,17,17)",
              "width": 0.5
             },
             "pattern": {
              "fillmode": "overlay",
              "size": 10,
              "solidity": 0.2
             }
            },
            "type": "bar"
           }
          ],
          "barpolar": [
           {
            "marker": {
             "line": {
              "color": "rgb(17,17,17)",
              "width": 0.5
             },
             "pattern": {
              "fillmode": "overlay",
              "size": 10,
              "solidity": 0.2
             }
            },
            "type": "barpolar"
           }
          ],
          "carpet": [
           {
            "aaxis": {
             "endlinecolor": "#A2B1C6",
             "gridcolor": "#506784",
             "linecolor": "#506784",
             "minorgridcolor": "#506784",
             "startlinecolor": "#A2B1C6"
            },
            "baxis": {
             "endlinecolor": "#A2B1C6",
             "gridcolor": "#506784",
             "linecolor": "#506784",
             "minorgridcolor": "#506784",
             "startlinecolor": "#A2B1C6"
            },
            "type": "carpet"
           }
          ],
          "choropleth": [
           {
            "colorbar": {
             "outlinewidth": 0,
             "ticks": ""
            },
            "type": "choropleth"
           }
          ],
          "contour": [
           {
            "colorbar": {
             "outlinewidth": 0,
             "ticks": ""
            },
            "colorscale": [
             [
              0,
              "#0d0887"
             ],
             [
              0.1111111111111111,
              "#46039f"
             ],
             [
              0.2222222222222222,
              "#7201a8"
             ],
             [
              0.3333333333333333,
              "#9c179e"
             ],
             [
              0.4444444444444444,
              "#bd3786"
             ],
             [
              0.5555555555555556,
              "#d8576b"
             ],
             [
              0.6666666666666666,
              "#ed7953"
             ],
             [
              0.7777777777777778,
              "#fb9f3a"
             ],
             [
              0.8888888888888888,
              "#fdca26"
             ],
             [
              1,
              "#f0f921"
             ]
            ],
            "type": "contour"
           }
          ],
          "contourcarpet": [
           {
            "colorbar": {
             "outlinewidth": 0,
             "ticks": ""
            },
            "type": "contourcarpet"
           }
          ],
          "heatmap": [
           {
            "colorbar": {
             "outlinewidth": 0,
             "ticks": ""
            },
            "colorscale": [
             [
              0,
              "#0d0887"
             ],
             [
              0.1111111111111111,
              "#46039f"
             ],
             [
              0.2222222222222222,
              "#7201a8"
             ],
             [
              0.3333333333333333,
              "#9c179e"
             ],
             [
              0.4444444444444444,
              "#bd3786"
             ],
             [
              0.5555555555555556,
              "#d8576b"
             ],
             [
              0.6666666666666666,
              "#ed7953"
             ],
             [
              0.7777777777777778,
              "#fb9f3a"
             ],
             [
              0.8888888888888888,
              "#fdca26"
             ],
             [
              1,
              "#f0f921"
             ]
            ],
            "type": "heatmap"
           }
          ],
          "heatmapgl": [
           {
            "colorbar": {
             "outlinewidth": 0,
             "ticks": ""
            },
            "colorscale": [
             [
              0,
              "#0d0887"
             ],
             [
              0.1111111111111111,
              "#46039f"
             ],
             [
              0.2222222222222222,
              "#7201a8"
             ],
             [
              0.3333333333333333,
              "#9c179e"
             ],
             [
              0.4444444444444444,
              "#bd3786"
             ],
             [
              0.5555555555555556,
              "#d8576b"
             ],
             [
              0.6666666666666666,
              "#ed7953"
             ],
             [
              0.7777777777777778,
              "#fb9f3a"
             ],
             [
              0.8888888888888888,
              "#fdca26"
             ],
             [
              1,
              "#f0f921"
             ]
            ],
            "type": "heatmapgl"
           }
          ],
          "histogram": [
           {
            "marker": {
             "pattern": {
              "fillmode": "overlay",
              "size": 10,
              "solidity": 0.2
             }
            },
            "type": "histogram"
           }
          ],
          "histogram2d": [
           {
            "colorbar": {
             "outlinewidth": 0,
             "ticks": ""
            },
            "colorscale": [
             [
              0,
              "#0d0887"
             ],
             [
              0.1111111111111111,
              "#46039f"
             ],
             [
              0.2222222222222222,
              "#7201a8"
             ],
             [
              0.3333333333333333,
              "#9c179e"
             ],
             [
              0.4444444444444444,
              "#bd3786"
             ],
             [
              0.5555555555555556,
              "#d8576b"
             ],
             [
              0.6666666666666666,
              "#ed7953"
             ],
             [
              0.7777777777777778,
              "#fb9f3a"
             ],
             [
              0.8888888888888888,
              "#fdca26"
             ],
             [
              1,
              "#f0f921"
             ]
            ],
            "type": "histogram2d"
           }
          ],
          "histogram2dcontour": [
           {
            "colorbar": {
             "outlinewidth": 0,
             "ticks": ""
            },
            "colorscale": [
             [
              0,
              "#0d0887"
             ],
             [
              0.1111111111111111,
              "#46039f"
             ],
             [
              0.2222222222222222,
              "#7201a8"
             ],
             [
              0.3333333333333333,
              "#9c179e"
             ],
             [
              0.4444444444444444,
              "#bd3786"
             ],
             [
              0.5555555555555556,
              "#d8576b"
             ],
             [
              0.6666666666666666,
              "#ed7953"
             ],
             [
              0.7777777777777778,
              "#fb9f3a"
             ],
             [
              0.8888888888888888,
              "#fdca26"
             ],
             [
              1,
              "#f0f921"
             ]
            ],
            "type": "histogram2dcontour"
           }
          ],
          "mesh3d": [
           {
            "colorbar": {
             "outlinewidth": 0,
             "ticks": ""
            },
            "type": "mesh3d"
           }
          ],
          "parcoords": [
           {
            "line": {
             "colorbar": {
              "outlinewidth": 0,
              "ticks": ""
             }
            },
            "type": "parcoords"
           }
          ],
          "pie": [
           {
            "automargin": true,
            "type": "pie"
           }
          ],
          "scatter": [
           {
            "marker": {
             "line": {
              "color": "#283442"
             }
            },
            "type": "scatter"
           }
          ],
          "scatter3d": [
           {
            "line": {
             "colorbar": {
              "outlinewidth": 0,
              "ticks": ""
             }
            },
            "marker": {
             "colorbar": {
              "outlinewidth": 0,
              "ticks": ""
             }
            },
            "type": "scatter3d"
           }
          ],
          "scattercarpet": [
           {
            "marker": {
             "colorbar": {
              "outlinewidth": 0,
              "ticks": ""
             }
            },
            "type": "scattercarpet"
           }
          ],
          "scattergeo": [
           {
            "marker": {
             "colorbar": {
              "outlinewidth": 0,
              "ticks": ""
             }
            },
            "type": "scattergeo"
           }
          ],
          "scattergl": [
           {
            "marker": {
             "line": {
              "color": "#283442"
             }
            },
            "type": "scattergl"
           }
          ],
          "scattermapbox": [
           {
            "marker": {
             "colorbar": {
              "outlinewidth": 0,
              "ticks": ""
             }
            },
            "type": "scattermapbox"
           }
          ],
          "scatterpolar": [
           {
            "marker": {
             "colorbar": {
              "outlinewidth": 0,
              "ticks": ""
             }
            },
            "type": "scatterpolar"
           }
          ],
          "scatterpolargl": [
           {
            "marker": {
             "colorbar": {
              "outlinewidth": 0,
              "ticks": ""
             }
            },
            "type": "scatterpolargl"
           }
          ],
          "scatterternary": [
           {
            "marker": {
             "colorbar": {
              "outlinewidth": 0,
              "ticks": ""
             }
            },
            "type": "scatterternary"
           }
          ],
          "surface": [
           {
            "colorbar": {
             "outlinewidth": 0,
             "ticks": ""
            },
            "colorscale": [
             [
              0,
              "#0d0887"
             ],
             [
              0.1111111111111111,
              "#46039f"
             ],
             [
              0.2222222222222222,
              "#7201a8"
             ],
             [
              0.3333333333333333,
              "#9c179e"
             ],
             [
              0.4444444444444444,
              "#bd3786"
             ],
             [
              0.5555555555555556,
              "#d8576b"
             ],
             [
              0.6666666666666666,
              "#ed7953"
             ],
             [
              0.7777777777777778,
              "#fb9f3a"
             ],
             [
              0.8888888888888888,
              "#fdca26"
             ],
             [
              1,
              "#f0f921"
             ]
            ],
            "type": "surface"
           }
          ],
          "table": [
           {
            "cells": {
             "fill": {
              "color": "#506784"
             },
             "line": {
              "color": "rgb(17,17,17)"
             }
            },
            "header": {
             "fill": {
              "color": "#2a3f5f"
             },
             "line": {
              "color": "rgb(17,17,17)"
             }
            },
            "type": "table"
           }
          ]
         },
         "layout": {
          "annotationdefaults": {
           "arrowcolor": "#f2f5fa",
           "arrowhead": 0,
           "arrowwidth": 1
          },
          "autosize": false,
          "autotypenumbers": "strict",
          "coloraxis": {
           "colorbar": {
            "outlinewidth": 0,
            "ticks": ""
           }
          },
          "colorscale": {
           "diverging": [
            [
             0,
             "#8e0152"
            ],
            [
             0.1,
             "#c51b7d"
            ],
            [
             0.2,
             "#de77ae"
            ],
            [
             0.3,
             "#f1b6da"
            ],
            [
             0.4,
             "#fde0ef"
            ],
            [
             0.5,
             "#f7f7f7"
            ],
            [
             0.6,
             "#e6f5d0"
            ],
            [
             0.7,
             "#b8e186"
            ],
            [
             0.8,
             "#7fbc41"
            ],
            [
             0.9,
             "#4d9221"
            ],
            [
             1,
             "#276419"
            ]
           ],
           "sequential": [
            [
             0,
             "#0d0887"
            ],
            [
             0.1111111111111111,
             "#46039f"
            ],
            [
             0.2222222222222222,
             "#7201a8"
            ],
            [
             0.3333333333333333,
             "#9c179e"
            ],
            [
             0.4444444444444444,
             "#bd3786"
            ],
            [
             0.5555555555555556,
             "#d8576b"
            ],
            [
             0.6666666666666666,
             "#ed7953"
            ],
            [
             0.7777777777777778,
             "#fb9f3a"
            ],
            [
             0.8888888888888888,
             "#fdca26"
            ],
            [
             1,
             "#f0f921"
            ]
           ],
           "sequentialminus": [
            [
             0,
             "#0d0887"
            ],
            [
             0.1111111111111111,
             "#46039f"
            ],
            [
             0.2222222222222222,
             "#7201a8"
            ],
            [
             0.3333333333333333,
             "#9c179e"
            ],
            [
             0.4444444444444444,
             "#bd3786"
            ],
            [
             0.5555555555555556,
             "#d8576b"
            ],
            [
             0.6666666666666666,
             "#ed7953"
            ],
            [
             0.7777777777777778,
             "#fb9f3a"
            ],
            [
             0.8888888888888888,
             "#fdca26"
            ],
            [
             1,
             "#f0f921"
            ]
           ]
          },
          "colorway": [
           "#636efa",
           "#EF553B",
           "#00cc96",
           "#ab63fa",
           "#FFA15A",
           "#19d3f3",
           "#FF6692",
           "#B6E880",
           "#FF97FF",
           "#FECB52"
          ],
          "font": {
           "color": "#f2f5fa"
          },
          "geo": {
           "bgcolor": "rgb(17,17,17)",
           "lakecolor": "rgb(17,17,17)",
           "landcolor": "rgb(17,17,17)",
           "showlakes": true,
           "showland": true,
           "subunitcolor": "#506784"
          },
          "height": 500,
          "hoverlabel": {
           "align": "left"
          },
          "hovermode": "closest",
          "mapbox": {
           "style": "dark"
          },
          "paper_bgcolor": "rgb(17,17,17)",
          "plot_bgcolor": "rgb(17,17,17)",
          "polar": {
           "angularaxis": {
            "gridcolor": "#506784",
            "linecolor": "#506784",
            "ticks": ""
           },
           "bgcolor": "rgb(17,17,17)",
           "radialaxis": {
            "gridcolor": "#506784",
            "linecolor": "#506784",
            "ticks": ""
           }
          },
          "scene": {
           "xaxis": {
            "backgroundcolor": "rgb(17,17,17)",
            "gridcolor": "#506784",
            "gridwidth": 2,
            "linecolor": "#506784",
            "showbackground": true,
            "ticks": "",
            "zerolinecolor": "#C8D4E3"
           },
           "yaxis": {
            "backgroundcolor": "rgb(17,17,17)",
            "gridcolor": "#506784",
            "gridwidth": 2,
            "linecolor": "#506784",
            "showbackground": true,
            "ticks": "",
            "zerolinecolor": "#C8D4E3"
           },
           "zaxis": {
            "backgroundcolor": "rgb(17,17,17)",
            "gridcolor": "#506784",
            "gridwidth": 2,
            "linecolor": "#506784",
            "showbackground": true,
            "ticks": "",
            "zerolinecolor": "#C8D4E3"
           }
          },
          "shapedefaults": {
           "line": {
            "color": "#f2f5fa"
           }
          },
          "showlegend": true,
          "sliderdefaults": {
           "bgcolor": "#C8D4E3",
           "bordercolor": "rgb(17,17,17)",
           "borderwidth": 1,
           "tickwidth": 0
          },
          "ternary": {
           "aaxis": {
            "gridcolor": "#506784",
            "linecolor": "#506784",
            "ticks": ""
           },
           "baxis": {
            "gridcolor": "#506784",
            "linecolor": "#506784",
            "ticks": ""
           },
           "bgcolor": "rgb(17,17,17)",
           "caxis": {
            "gridcolor": "#506784",
            "linecolor": "#506784",
            "ticks": ""
           }
          },
          "title": {
           "x": 0.05
          },
          "updatemenudefaults": {
           "bgcolor": "#506784",
           "borderwidth": 0
          },
          "width": 1000,
          "xaxis": {
           "automargin": true,
           "gridcolor": "#283442",
           "linecolor": "#506784",
           "ticks": "",
           "title": {
            "standoff": 15
           },
           "zerolinecolor": "#283442",
           "zerolinewidth": 2
          },
          "yaxis": {
           "automargin": true,
           "gridcolor": "#283442",
           "linecolor": "#506784",
           "ticks": "",
           "title": {
            "standoff": 15
           },
           "zerolinecolor": "#283442",
           "zerolinewidth": 2
          }
         }
        },
        "xaxis": {
         "anchor": "y",
         "domain": [
          0,
          1
         ],
         "title": {
          "text": "index"
         }
        },
        "yaxis": {
         "anchor": "x",
         "domain": [
          0,
          1
         ],
         "title": {
          "text": "value"
         }
        }
       }
      }
     },
     "metadata": {},
     "output_type": "display_data"
    }
   ],
   "source": [
    "series.plot()"
   ]
  },
  {
   "cell_type": "markdown",
   "id": "7ca7cc47",
   "metadata": {},
   "source": [
    "## Model fit"
   ]
  },
  {
   "cell_type": "code",
   "execution_count": 5,
   "id": "2a8ee833",
   "metadata": {},
   "outputs": [],
   "source": [
    "from statsmodels.tsa.arima.model import ARIMA"
   ]
  },
  {
   "cell_type": "code",
   "execution_count": 6,
   "id": "aa20b6a2",
   "metadata": {},
   "outputs": [
    {
     "name": "stderr",
     "output_type": "stream",
     "text": [
      "/Users/sota/miniforge3/envs/work/lib/python3.13/site-packages/statsmodels/base/model.py:607: ConvergenceWarning:\n",
      "\n",
      "Maximum Likelihood optimization failed to converge. Check mle_retvals\n",
      "\n"
     ]
    },
    {
     "data": {
      "text/html": [
       "<table class=\"simpletable\">\n",
       "<caption>SARIMAX Results</caption>\n",
       "<tr>\n",
       "  <th>Dep. Variable:</th>        <td>values</td>      <th>  No. Observations:  </th>    <td>144</td>  \n",
       "</tr>\n",
       "<tr>\n",
       "  <th>Model:</th>            <td>ARIMA(12, 1, 2)</td> <th>  Log Likelihood     </th>  <td>246.818</td>\n",
       "</tr>\n",
       "<tr>\n",
       "  <th>Date:</th>            <td>Tue, 20 May 2025</td> <th>  AIC                </th> <td>-463.636</td>\n",
       "</tr>\n",
       "<tr>\n",
       "  <th>Time:</th>                <td>11:25:18</td>     <th>  BIC                </th> <td>-419.194</td>\n",
       "</tr>\n",
       "<tr>\n",
       "  <th>Sample:</th>             <td>01-31-1949</td>    <th>  HQIC               </th> <td>-445.577</td>\n",
       "</tr>\n",
       "<tr>\n",
       "  <th></th>                   <td>- 12-31-1960</td>   <th>                     </th>     <td> </td>   \n",
       "</tr>\n",
       "<tr>\n",
       "  <th>Covariance Type:</th>        <td>opg</td>       <th>                     </th>     <td> </td>   \n",
       "</tr>\n",
       "</table>\n",
       "<table class=\"simpletable\">\n",
       "<tr>\n",
       "     <td></td>       <th>coef</th>     <th>std err</th>      <th>z</th>      <th>P>|z|</th>  <th>[0.025</th>    <th>0.975]</th>  \n",
       "</tr>\n",
       "<tr>\n",
       "  <th>ar.L1</th>  <td>    0.1066</td> <td>    0.065</td> <td>    1.651</td> <td> 0.099</td> <td>   -0.020</td> <td>    0.233</td>\n",
       "</tr>\n",
       "<tr>\n",
       "  <th>ar.L2</th>  <td>   -0.0773</td> <td>    0.069</td> <td>   -1.117</td> <td> 0.264</td> <td>   -0.213</td> <td>    0.058</td>\n",
       "</tr>\n",
       "<tr>\n",
       "  <th>ar.L3</th>  <td>    0.0039</td> <td>    0.051</td> <td>    0.076</td> <td> 0.939</td> <td>   -0.095</td> <td>    0.103</td>\n",
       "</tr>\n",
       "<tr>\n",
       "  <th>ar.L4</th>  <td>   -0.0613</td> <td>    0.053</td> <td>   -1.156</td> <td> 0.248</td> <td>   -0.165</td> <td>    0.043</td>\n",
       "</tr>\n",
       "<tr>\n",
       "  <th>ar.L5</th>  <td>    0.0506</td> <td>    0.052</td> <td>    0.967</td> <td> 0.334</td> <td>   -0.052</td> <td>    0.153</td>\n",
       "</tr>\n",
       "<tr>\n",
       "  <th>ar.L6</th>  <td>   -0.0479</td> <td>    0.047</td> <td>   -1.019</td> <td> 0.308</td> <td>   -0.140</td> <td>    0.044</td>\n",
       "</tr>\n",
       "<tr>\n",
       "  <th>ar.L7</th>  <td>   -0.0111</td> <td>    0.051</td> <td>   -0.216</td> <td> 0.829</td> <td>   -0.111</td> <td>    0.089</td>\n",
       "</tr>\n",
       "<tr>\n",
       "  <th>ar.L8</th>  <td>   -0.0994</td> <td>    0.053</td> <td>   -1.892</td> <td> 0.059</td> <td>   -0.202</td> <td>    0.004</td>\n",
       "</tr>\n",
       "<tr>\n",
       "  <th>ar.L9</th>  <td>    0.0677</td> <td>    0.059</td> <td>    1.155</td> <td> 0.248</td> <td>   -0.047</td> <td>    0.182</td>\n",
       "</tr>\n",
       "<tr>\n",
       "  <th>ar.L10</th> <td>   -0.0681</td> <td>    0.057</td> <td>   -1.204</td> <td> 0.229</td> <td>   -0.179</td> <td>    0.043</td>\n",
       "</tr>\n",
       "<tr>\n",
       "  <th>ar.L11</th> <td>    0.0531</td> <td>    0.052</td> <td>    1.025</td> <td> 0.306</td> <td>   -0.048</td> <td>    0.155</td>\n",
       "</tr>\n",
       "<tr>\n",
       "  <th>ar.L12</th> <td>    0.8312</td> <td>    0.054</td> <td>   15.258</td> <td> 0.000</td> <td>    0.724</td> <td>    0.938</td>\n",
       "</tr>\n",
       "<tr>\n",
       "  <th>ma.L1</th>  <td>   -0.4404</td> <td>    0.100</td> <td>   -4.398</td> <td> 0.000</td> <td>   -0.637</td> <td>   -0.244</td>\n",
       "</tr>\n",
       "<tr>\n",
       "  <th>ma.L2</th>  <td>    0.0601</td> <td>    0.107</td> <td>    0.563</td> <td> 0.574</td> <td>   -0.149</td> <td>    0.269</td>\n",
       "</tr>\n",
       "<tr>\n",
       "  <th>sigma2</th> <td>    0.0016</td> <td>    0.000</td> <td>    7.774</td> <td> 0.000</td> <td>    0.001</td> <td>    0.002</td>\n",
       "</tr>\n",
       "</table>\n",
       "<table class=\"simpletable\">\n",
       "<tr>\n",
       "  <th>Ljung-Box (L1) (Q):</th>     <td>0.03</td> <th>  Jarque-Bera (JB):  </th> <td>3.11</td>\n",
       "</tr>\n",
       "<tr>\n",
       "  <th>Prob(Q):</th>                <td>0.87</td> <th>  Prob(JB):          </th> <td>0.21</td>\n",
       "</tr>\n",
       "<tr>\n",
       "  <th>Heteroskedasticity (H):</th> <td>0.50</td> <th>  Skew:              </th> <td>0.35</td>\n",
       "</tr>\n",
       "<tr>\n",
       "  <th>Prob(H) (two-sided):</th>    <td>0.02</td> <th>  Kurtosis:          </th> <td>3.19</td>\n",
       "</tr>\n",
       "</table><br/><br/>Warnings:<br/>[1] Covariance matrix calculated using the outer product of gradients (complex-step)."
      ],
      "text/latex": [
       "\\begin{center}\n",
       "\\begin{tabular}{lclc}\n",
       "\\toprule\n",
       "\\textbf{Dep. Variable:}          &      values      & \\textbf{  No. Observations:  } &    144      \\\\\n",
       "\\textbf{Model:}                  & ARIMA(12, 1, 2)  & \\textbf{  Log Likelihood     } &  246.818    \\\\\n",
       "\\textbf{Date:}                   & Tue, 20 May 2025 & \\textbf{  AIC                } &  -463.636   \\\\\n",
       "\\textbf{Time:}                   &     11:25:18     & \\textbf{  BIC                } &  -419.194   \\\\\n",
       "\\textbf{Sample:}                 &    01-31-1949    & \\textbf{  HQIC               } &  -445.577   \\\\\n",
       "\\textbf{}                        &   - 12-31-1960   & \\textbf{                     } &             \\\\\n",
       "\\textbf{Covariance Type:}        &       opg        & \\textbf{                     } &             \\\\\n",
       "\\bottomrule\n",
       "\\end{tabular}\n",
       "\\begin{tabular}{lcccccc}\n",
       "                & \\textbf{coef} & \\textbf{std err} & \\textbf{z} & \\textbf{P$> |$z$|$} & \\textbf{[0.025} & \\textbf{0.975]}  \\\\\n",
       "\\midrule\n",
       "\\textbf{ar.L1}  &       0.1066  &        0.065     &     1.651  &         0.099        &       -0.020    &        0.233     \\\\\n",
       "\\textbf{ar.L2}  &      -0.0773  &        0.069     &    -1.117  &         0.264        &       -0.213    &        0.058     \\\\\n",
       "\\textbf{ar.L3}  &       0.0039  &        0.051     &     0.076  &         0.939        &       -0.095    &        0.103     \\\\\n",
       "\\textbf{ar.L4}  &      -0.0613  &        0.053     &    -1.156  &         0.248        &       -0.165    &        0.043     \\\\\n",
       "\\textbf{ar.L5}  &       0.0506  &        0.052     &     0.967  &         0.334        &       -0.052    &        0.153     \\\\\n",
       "\\textbf{ar.L6}  &      -0.0479  &        0.047     &    -1.019  &         0.308        &       -0.140    &        0.044     \\\\\n",
       "\\textbf{ar.L7}  &      -0.0111  &        0.051     &    -0.216  &         0.829        &       -0.111    &        0.089     \\\\\n",
       "\\textbf{ar.L8}  &      -0.0994  &        0.053     &    -1.892  &         0.059        &       -0.202    &        0.004     \\\\\n",
       "\\textbf{ar.L9}  &       0.0677  &        0.059     &     1.155  &         0.248        &       -0.047    &        0.182     \\\\\n",
       "\\textbf{ar.L10} &      -0.0681  &        0.057     &    -1.204  &         0.229        &       -0.179    &        0.043     \\\\\n",
       "\\textbf{ar.L11} &       0.0531  &        0.052     &     1.025  &         0.306        &       -0.048    &        0.155     \\\\\n",
       "\\textbf{ar.L12} &       0.8312  &        0.054     &    15.258  &         0.000        &        0.724    &        0.938     \\\\\n",
       "\\textbf{ma.L1}  &      -0.4404  &        0.100     &    -4.398  &         0.000        &       -0.637    &       -0.244     \\\\\n",
       "\\textbf{ma.L2}  &       0.0601  &        0.107     &     0.563  &         0.574        &       -0.149    &        0.269     \\\\\n",
       "\\textbf{sigma2} &       0.0016  &        0.000     &     7.774  &         0.000        &        0.001    &        0.002     \\\\\n",
       "\\bottomrule\n",
       "\\end{tabular}\n",
       "\\begin{tabular}{lclc}\n",
       "\\textbf{Ljung-Box (L1) (Q):}     & 0.03 & \\textbf{  Jarque-Bera (JB):  } & 3.11  \\\\\n",
       "\\textbf{Prob(Q):}                & 0.87 & \\textbf{  Prob(JB):          } & 0.21  \\\\\n",
       "\\textbf{Heteroskedasticity (H):} & 0.50 & \\textbf{  Skew:              } & 0.35  \\\\\n",
       "\\textbf{Prob(H) (two-sided):}    & 0.02 & \\textbf{  Kurtosis:          } & 3.19  \\\\\n",
       "\\bottomrule\n",
       "\\end{tabular}\n",
       "%\\caption{SARIMAX Results}\n",
       "\\end{center}\n",
       "\n",
       "Warnings: \\newline\n",
       " [1] Covariance matrix calculated using the outer product of gradients (complex-step)."
      ],
      "text/plain": [
       "<class 'statsmodels.iolib.summary.Summary'>\n",
       "\"\"\"\n",
       "                               SARIMAX Results                                \n",
       "==============================================================================\n",
       "Dep. Variable:                 values   No. Observations:                  144\n",
       "Model:                ARIMA(12, 1, 2)   Log Likelihood                 246.818\n",
       "Date:                Tue, 20 May 2025   AIC                           -463.636\n",
       "Time:                        11:25:18   BIC                           -419.194\n",
       "Sample:                    01-31-1949   HQIC                          -445.577\n",
       "                         - 12-31-1960                                         \n",
       "Covariance Type:                  opg                                         \n",
       "==============================================================================\n",
       "                 coef    std err          z      P>|z|      [0.025      0.975]\n",
       "------------------------------------------------------------------------------\n",
       "ar.L1          0.1066      0.065      1.651      0.099      -0.020       0.233\n",
       "ar.L2         -0.0773      0.069     -1.117      0.264      -0.213       0.058\n",
       "ar.L3          0.0039      0.051      0.076      0.939      -0.095       0.103\n",
       "ar.L4         -0.0613      0.053     -1.156      0.248      -0.165       0.043\n",
       "ar.L5          0.0506      0.052      0.967      0.334      -0.052       0.153\n",
       "ar.L6         -0.0479      0.047     -1.019      0.308      -0.140       0.044\n",
       "ar.L7         -0.0111      0.051     -0.216      0.829      -0.111       0.089\n",
       "ar.L8         -0.0994      0.053     -1.892      0.059      -0.202       0.004\n",
       "ar.L9          0.0677      0.059      1.155      0.248      -0.047       0.182\n",
       "ar.L10        -0.0681      0.057     -1.204      0.229      -0.179       0.043\n",
       "ar.L11         0.0531      0.052      1.025      0.306      -0.048       0.155\n",
       "ar.L12         0.8312      0.054     15.258      0.000       0.724       0.938\n",
       "ma.L1         -0.4404      0.100     -4.398      0.000      -0.637      -0.244\n",
       "ma.L2          0.0601      0.107      0.563      0.574      -0.149       0.269\n",
       "sigma2         0.0016      0.000      7.774      0.000       0.001       0.002\n",
       "===================================================================================\n",
       "Ljung-Box (L1) (Q):                   0.03   Jarque-Bera (JB):                 3.11\n",
       "Prob(Q):                              0.87   Prob(JB):                         0.21\n",
       "Heteroskedasticity (H):               0.50   Skew:                             0.35\n",
       "Prob(H) (two-sided):                  0.02   Kurtosis:                         3.19\n",
       "===================================================================================\n",
       "\n",
       "Warnings:\n",
       "[1] Covariance matrix calculated using the outer product of gradients (complex-step).\n",
       "\"\"\""
      ]
     },
     "execution_count": 6,
     "metadata": {},
     "output_type": "execute_result"
    }
   ],
   "source": [
    "p = 12\n",
    "d = 1\n",
    "q = 2\n",
    "\n",
    "model = ARIMA(series, order=(p, d, q))\n",
    "model_fit = model.fit()\n",
    "\n",
    "model_fit.summary()"
   ]
  },
  {
   "cell_type": "markdown",
   "id": "c6c76c07",
   "metadata": {},
   "source": [
    "## Forecast"
   ]
  },
  {
   "cell_type": "code",
   "execution_count": 7,
   "id": "6bdee5db",
   "metadata": {},
   "outputs": [
    {
     "data": {
      "text/plain": [
       "1961-01-31    6.112831\n",
       "1961-02-28    6.038083\n",
       "                ...   \n",
       "1964-11-30    6.174416\n",
       "1964-12-31    6.215497\n",
       "Freq: ME, Name: predicted_mean, Length: 48, dtype: float64"
      ]
     },
     "execution_count": 7,
     "metadata": {},
     "output_type": "execute_result"
    }
   ],
   "source": [
    "HORIZON = 48\n",
    "\n",
    "forecast = model_fit.forecast(steps=HORIZON)\n",
    "forecast"
   ]
  },
  {
   "cell_type": "code",
   "execution_count": 8,
   "id": "f165261d",
   "metadata": {},
   "outputs": [
    {
     "data": {
      "text/html": [
       "<div>\n",
       "<style scoped>\n",
       "    .dataframe tbody tr th:only-of-type {\n",
       "        vertical-align: middle;\n",
       "    }\n",
       "\n",
       "    .dataframe tbody tr th {\n",
       "        vertical-align: top;\n",
       "    }\n",
       "\n",
       "    .dataframe thead th {\n",
       "        text-align: right;\n",
       "    }\n",
       "</style>\n",
       "<table border=\"1\" class=\"dataframe\">\n",
       "  <thead>\n",
       "    <tr style=\"text-align: right;\">\n",
       "      <th></th>\n",
       "      <th>values</th>\n",
       "    </tr>\n",
       "  </thead>\n",
       "  <tbody>\n",
       "    <tr>\n",
       "      <th>1949-01-31</th>\n",
       "      <td>4.718499</td>\n",
       "    </tr>\n",
       "    <tr>\n",
       "      <th>1949-02-28</th>\n",
       "      <td>4.770685</td>\n",
       "    </tr>\n",
       "    <tr>\n",
       "      <th>...</th>\n",
       "      <td>...</td>\n",
       "    </tr>\n",
       "    <tr>\n",
       "      <th>1960-11-30</th>\n",
       "      <td>5.966147</td>\n",
       "    </tr>\n",
       "    <tr>\n",
       "      <th>1960-12-31</th>\n",
       "      <td>6.068426</td>\n",
       "    </tr>\n",
       "  </tbody>\n",
       "</table>\n",
       "<p>144 rows × 1 columns</p>\n",
       "</div>"
      ],
      "text/plain": [
       "              values\n",
       "1949-01-31  4.718499\n",
       "1949-02-28  4.770685\n",
       "...              ...\n",
       "1960-11-30  5.966147\n",
       "1960-12-31  6.068426\n",
       "\n",
       "[144 rows x 1 columns]"
      ]
     },
     "execution_count": 8,
     "metadata": {},
     "output_type": "execute_result"
    }
   ],
   "source": [
    "df_pred = series.to_frame()\n",
    "df_pred"
   ]
  },
  {
   "cell_type": "code",
   "execution_count": 9,
   "id": "9f83ebff",
   "metadata": {},
   "outputs": [
    {
     "data": {
      "text/html": [
       "<div>\n",
       "<style scoped>\n",
       "    .dataframe tbody tr th:only-of-type {\n",
       "        vertical-align: middle;\n",
       "    }\n",
       "\n",
       "    .dataframe tbody tr th {\n",
       "        vertical-align: top;\n",
       "    }\n",
       "\n",
       "    .dataframe thead th {\n",
       "        text-align: right;\n",
       "    }\n",
       "</style>\n",
       "<table border=\"1\" class=\"dataframe\">\n",
       "  <thead>\n",
       "    <tr style=\"text-align: right;\">\n",
       "      <th></th>\n",
       "      <th>values</th>\n",
       "      <th>forecast</th>\n",
       "    </tr>\n",
       "  </thead>\n",
       "  <tbody>\n",
       "    <tr>\n",
       "      <th>1949-01-31</th>\n",
       "      <td>4.718499</td>\n",
       "      <td>NaN</td>\n",
       "    </tr>\n",
       "    <tr>\n",
       "      <th>1949-02-28</th>\n",
       "      <td>4.770685</td>\n",
       "      <td>NaN</td>\n",
       "    </tr>\n",
       "    <tr>\n",
       "      <th>...</th>\n",
       "      <td>...</td>\n",
       "      <td>...</td>\n",
       "    </tr>\n",
       "    <tr>\n",
       "      <th>1964-11-30</th>\n",
       "      <td>NaN</td>\n",
       "      <td>6.174416</td>\n",
       "    </tr>\n",
       "    <tr>\n",
       "      <th>1964-12-31</th>\n",
       "      <td>NaN</td>\n",
       "      <td>6.215497</td>\n",
       "    </tr>\n",
       "  </tbody>\n",
       "</table>\n",
       "<p>192 rows × 2 columns</p>\n",
       "</div>"
      ],
      "text/plain": [
       "              values  forecast\n",
       "1949-01-31  4.718499       NaN\n",
       "1949-02-28  4.770685       NaN\n",
       "...              ...       ...\n",
       "1964-11-30       NaN  6.174416\n",
       "1964-12-31       NaN  6.215497\n",
       "\n",
       "[192 rows x 2 columns]"
      ]
     },
     "execution_count": 9,
     "metadata": {},
     "output_type": "execute_result"
    }
   ],
   "source": [
    "df_forecast = forecast.to_frame(name='forecast')\n",
    "df_pred = pd.concat([df_pred, df_forecast])\n",
    "df_pred"
   ]
  },
  {
   "cell_type": "code",
   "execution_count": 10,
   "id": "c8dd2114",
   "metadata": {},
   "outputs": [
    {
     "data": {
      "application/vnd.plotly.v1+json": {
       "config": {
        "plotlyServerURL": "https://plot.ly"
       },
       "data": [
        {
         "hovertemplate": "variable=values<br>index=%{x}<br>value=%{y}<extra></extra>",
         "legendgroup": "values",
         "line": {
          "color": "#636efa",
          "dash": "solid"
         },
         "marker": {
          "symbol": "circle"
         },
         "mode": "lines",
         "name": "values",
         "orientation": "v",
         "showlegend": true,
         "type": "scatter",
         "x": [
          "1949-01-31T00:00:00",
          "1949-02-28T00:00:00",
          "1949-03-31T00:00:00",
          "1949-04-30T00:00:00",
          "1949-05-31T00:00:00",
          "1949-06-30T00:00:00",
          "1949-07-31T00:00:00",
          "1949-08-31T00:00:00",
          "1949-09-30T00:00:00",
          "1949-10-31T00:00:00",
          "1949-11-30T00:00:00",
          "1949-12-31T00:00:00",
          "1950-01-31T00:00:00",
          "1950-02-28T00:00:00",
          "1950-03-31T00:00:00",
          "1950-04-30T00:00:00",
          "1950-05-31T00:00:00",
          "1950-06-30T00:00:00",
          "1950-07-31T00:00:00",
          "1950-08-31T00:00:00",
          "1950-09-30T00:00:00",
          "1950-10-31T00:00:00",
          "1950-11-30T00:00:00",
          "1950-12-31T00:00:00",
          "1951-01-31T00:00:00",
          "1951-02-28T00:00:00",
          "1951-03-31T00:00:00",
          "1951-04-30T00:00:00",
          "1951-05-31T00:00:00",
          "1951-06-30T00:00:00",
          "1951-07-31T00:00:00",
          "1951-08-31T00:00:00",
          "1951-09-30T00:00:00",
          "1951-10-31T00:00:00",
          "1951-11-30T00:00:00",
          "1951-12-31T00:00:00",
          "1952-01-31T00:00:00",
          "1952-02-29T00:00:00",
          "1952-03-31T00:00:00",
          "1952-04-30T00:00:00",
          "1952-05-31T00:00:00",
          "1952-06-30T00:00:00",
          "1952-07-31T00:00:00",
          "1952-08-31T00:00:00",
          "1952-09-30T00:00:00",
          "1952-10-31T00:00:00",
          "1952-11-30T00:00:00",
          "1952-12-31T00:00:00",
          "1953-01-31T00:00:00",
          "1953-02-28T00:00:00",
          "1953-03-31T00:00:00",
          "1953-04-30T00:00:00",
          "1953-05-31T00:00:00",
          "1953-06-30T00:00:00",
          "1953-07-31T00:00:00",
          "1953-08-31T00:00:00",
          "1953-09-30T00:00:00",
          "1953-10-31T00:00:00",
          "1953-11-30T00:00:00",
          "1953-12-31T00:00:00",
          "1954-01-31T00:00:00",
          "1954-02-28T00:00:00",
          "1954-03-31T00:00:00",
          "1954-04-30T00:00:00",
          "1954-05-31T00:00:00",
          "1954-06-30T00:00:00",
          "1954-07-31T00:00:00",
          "1954-08-31T00:00:00",
          "1954-09-30T00:00:00",
          "1954-10-31T00:00:00",
          "1954-11-30T00:00:00",
          "1954-12-31T00:00:00",
          "1955-01-31T00:00:00",
          "1955-02-28T00:00:00",
          "1955-03-31T00:00:00",
          "1955-04-30T00:00:00",
          "1955-05-31T00:00:00",
          "1955-06-30T00:00:00",
          "1955-07-31T00:00:00",
          "1955-08-31T00:00:00",
          "1955-09-30T00:00:00",
          "1955-10-31T00:00:00",
          "1955-11-30T00:00:00",
          "1955-12-31T00:00:00",
          "1956-01-31T00:00:00",
          "1956-02-29T00:00:00",
          "1956-03-31T00:00:00",
          "1956-04-30T00:00:00",
          "1956-05-31T00:00:00",
          "1956-06-30T00:00:00",
          "1956-07-31T00:00:00",
          "1956-08-31T00:00:00",
          "1956-09-30T00:00:00",
          "1956-10-31T00:00:00",
          "1956-11-30T00:00:00",
          "1956-12-31T00:00:00",
          "1957-01-31T00:00:00",
          "1957-02-28T00:00:00",
          "1957-03-31T00:00:00",
          "1957-04-30T00:00:00",
          "1957-05-31T00:00:00",
          "1957-06-30T00:00:00",
          "1957-07-31T00:00:00",
          "1957-08-31T00:00:00",
          "1957-09-30T00:00:00",
          "1957-10-31T00:00:00",
          "1957-11-30T00:00:00",
          "1957-12-31T00:00:00",
          "1958-01-31T00:00:00",
          "1958-02-28T00:00:00",
          "1958-03-31T00:00:00",
          "1958-04-30T00:00:00",
          "1958-05-31T00:00:00",
          "1958-06-30T00:00:00",
          "1958-07-31T00:00:00",
          "1958-08-31T00:00:00",
          "1958-09-30T00:00:00",
          "1958-10-31T00:00:00",
          "1958-11-30T00:00:00",
          "1958-12-31T00:00:00",
          "1959-01-31T00:00:00",
          "1959-02-28T00:00:00",
          "1959-03-31T00:00:00",
          "1959-04-30T00:00:00",
          "1959-05-31T00:00:00",
          "1959-06-30T00:00:00",
          "1959-07-31T00:00:00",
          "1959-08-31T00:00:00",
          "1959-09-30T00:00:00",
          "1959-10-31T00:00:00",
          "1959-11-30T00:00:00",
          "1959-12-31T00:00:00",
          "1960-01-31T00:00:00",
          "1960-02-29T00:00:00",
          "1960-03-31T00:00:00",
          "1960-04-30T00:00:00",
          "1960-05-31T00:00:00",
          "1960-06-30T00:00:00",
          "1960-07-31T00:00:00",
          "1960-08-31T00:00:00",
          "1960-09-30T00:00:00",
          "1960-10-31T00:00:00",
          "1960-11-30T00:00:00",
          "1960-12-31T00:00:00",
          "1961-01-31T00:00:00",
          "1961-02-28T00:00:00",
          "1961-03-31T00:00:00",
          "1961-04-30T00:00:00",
          "1961-05-31T00:00:00",
          "1961-06-30T00:00:00",
          "1961-07-31T00:00:00",
          "1961-08-31T00:00:00",
          "1961-09-30T00:00:00",
          "1961-10-31T00:00:00",
          "1961-11-30T00:00:00",
          "1961-12-31T00:00:00",
          "1962-01-31T00:00:00",
          "1962-02-28T00:00:00",
          "1962-03-31T00:00:00",
          "1962-04-30T00:00:00",
          "1962-05-31T00:00:00",
          "1962-06-30T00:00:00",
          "1962-07-31T00:00:00",
          "1962-08-31T00:00:00",
          "1962-09-30T00:00:00",
          "1962-10-31T00:00:00",
          "1962-11-30T00:00:00",
          "1962-12-31T00:00:00",
          "1963-01-31T00:00:00",
          "1963-02-28T00:00:00",
          "1963-03-31T00:00:00",
          "1963-04-30T00:00:00",
          "1963-05-31T00:00:00",
          "1963-06-30T00:00:00",
          "1963-07-31T00:00:00",
          "1963-08-31T00:00:00",
          "1963-09-30T00:00:00",
          "1963-10-31T00:00:00",
          "1963-11-30T00:00:00",
          "1963-12-31T00:00:00",
          "1964-01-31T00:00:00",
          "1964-02-29T00:00:00",
          "1964-03-31T00:00:00",
          "1964-04-30T00:00:00",
          "1964-05-31T00:00:00",
          "1964-06-30T00:00:00",
          "1964-07-31T00:00:00",
          "1964-08-31T00:00:00",
          "1964-09-30T00:00:00",
          "1964-10-31T00:00:00",
          "1964-11-30T00:00:00",
          "1964-12-31T00:00:00"
         ],
         "xaxis": "x",
         "y": [
          4.718498871295094,
          4.770684624465665,
          4.882801922586371,
          4.859812404361672,
          4.795790545596741,
          4.90527477843843,
          4.997212273764115,
          4.997212273764115,
          4.912654885736052,
          4.77912349311153,
          4.6443908991413725,
          4.770684624465665,
          4.74493212836325,
          4.836281906951478,
          4.948759890378168,
          4.90527477843843,
          4.8283137373023015,
          5.003946305945459,
          5.135798437050262,
          5.135798437050262,
          5.062595033026967,
          4.890349128221754,
          4.736198448394496,
          4.941642422609304,
          4.976733742420574,
          5.0106352940962555,
          5.181783550292085,
          5.093750200806762,
          5.147494476813453,
          5.181783550292085,
          5.293304824724492,
          5.293304824724492,
          5.214935757608986,
          5.087596335232384,
          4.983606621708336,
          5.111987788356544,
          5.14166355650266,
          5.19295685089021,
          5.262690188904886,
          5.198497031265826,
          5.209486152841421,
          5.384495062789089,
          5.438079308923196,
          5.488937726156687,
          5.342334251964811,
          5.25227342804663,
          5.147494476813453,
          5.267858159063328,
          5.278114659230517,
          5.278114659230517,
          5.4638318050256105,
          5.459585514144159,
          5.43372200355424,
          5.493061443340548,
          5.575949103146316,
          5.605802066295998,
          5.4680601411351315,
          5.351858133476067,
          5.19295685089021,
          5.303304908059076,
          5.318119993844216,
          5.236441962829949,
          5.459585514144159,
          5.424950017481403,
          5.455321115357702,
          5.575949103146316,
          5.71042701737487,
          5.680172609017068,
          5.556828061699537,
          5.43372200355424,
          5.313205979041787,
          5.43372200355424,
          5.488937726156687,
          5.4510384535657,
          5.58724865840025,
          5.594711379601839,
          5.598421958998375,
          5.752572638825633,
          5.8971538676367405,
          5.849324779946859,
          5.7430031878094825,
          5.6131281063880705,
          5.4680601411351315,
          5.627621113690637,
          5.648974238161206,
          5.6240175061873385,
          5.75890177387728,
          5.746203190540153,
          5.762051382780177,
          5.924255797414532,
          6.023447592961033,
          6.003887067106539,
          5.872117789475416,
          5.723585101952381,
          5.602118820879701,
          5.723585101952381,
          5.752572638825633,
          5.707110264748875,
          5.87493073085203,
          5.8522024797744745,
          5.872117789475416,
          6.045005314036012,
          6.142037405587356,
          6.1463292576688975,
          6.0014148779611505,
          5.849324779946859,
          5.720311776607412,
          5.817111159963204,
          5.8289456176102075,
          5.762051382780177,
          5.8916442118257715,
          5.8522024797744745,
          5.8944028342648505,
          6.075346031088684,
          6.19644412779452,
          6.22455842927536,
          6.0014148779611505,
          5.883322388488279,
          5.736572297479192,
          5.820082930352362,
          5.886104031450156,
          5.834810737062605,
          6.0063531596017325,
          5.981414211254481,
          6.040254711277414,
          6.156978985585555,
          6.306275286948016,
          6.326149473155099,
          6.137727054086234,
          6.008813185442595,
          5.8916442118257715,
          6.003887067106539,
          6.0330862217988015,
          5.968707559985366,
          6.037870919922137,
          6.133398042996649,
          6.156978985585555,
          6.282266746896006,
          6.432940092739179,
          6.406879986069314,
          6.230481447578482,
          6.133398042996649,
          5.966146739123692,
          6.068425588244111,
          null,
          null,
          null,
          null,
          null,
          null,
          null,
          null,
          null,
          null,
          null,
          null,
          null,
          null,
          null,
          null,
          null,
          null,
          null,
          null,
          null,
          null,
          null,
          null,
          null,
          null,
          null,
          null,
          null,
          null,
          null,
          null,
          null,
          null,
          null,
          null,
          null,
          null,
          null,
          null,
          null,
          null,
          null,
          null,
          null,
          null,
          null,
          null
         ],
         "yaxis": "y"
        },
        {
         "hovertemplate": "variable=forecast<br>index=%{x}<br>value=%{y}<extra></extra>",
         "legendgroup": "forecast",
         "line": {
          "color": "#EF553B",
          "dash": "solid"
         },
         "marker": {
          "symbol": "circle"
         },
         "mode": "lines",
         "name": "forecast",
         "orientation": "v",
         "showlegend": true,
         "type": "scatter",
         "x": [
          "1949-01-31T00:00:00",
          "1949-02-28T00:00:00",
          "1949-03-31T00:00:00",
          "1949-04-30T00:00:00",
          "1949-05-31T00:00:00",
          "1949-06-30T00:00:00",
          "1949-07-31T00:00:00",
          "1949-08-31T00:00:00",
          "1949-09-30T00:00:00",
          "1949-10-31T00:00:00",
          "1949-11-30T00:00:00",
          "1949-12-31T00:00:00",
          "1950-01-31T00:00:00",
          "1950-02-28T00:00:00",
          "1950-03-31T00:00:00",
          "1950-04-30T00:00:00",
          "1950-05-31T00:00:00",
          "1950-06-30T00:00:00",
          "1950-07-31T00:00:00",
          "1950-08-31T00:00:00",
          "1950-09-30T00:00:00",
          "1950-10-31T00:00:00",
          "1950-11-30T00:00:00",
          "1950-12-31T00:00:00",
          "1951-01-31T00:00:00",
          "1951-02-28T00:00:00",
          "1951-03-31T00:00:00",
          "1951-04-30T00:00:00",
          "1951-05-31T00:00:00",
          "1951-06-30T00:00:00",
          "1951-07-31T00:00:00",
          "1951-08-31T00:00:00",
          "1951-09-30T00:00:00",
          "1951-10-31T00:00:00",
          "1951-11-30T00:00:00",
          "1951-12-31T00:00:00",
          "1952-01-31T00:00:00",
          "1952-02-29T00:00:00",
          "1952-03-31T00:00:00",
          "1952-04-30T00:00:00",
          "1952-05-31T00:00:00",
          "1952-06-30T00:00:00",
          "1952-07-31T00:00:00",
          "1952-08-31T00:00:00",
          "1952-09-30T00:00:00",
          "1952-10-31T00:00:00",
          "1952-11-30T00:00:00",
          "1952-12-31T00:00:00",
          "1953-01-31T00:00:00",
          "1953-02-28T00:00:00",
          "1953-03-31T00:00:00",
          "1953-04-30T00:00:00",
          "1953-05-31T00:00:00",
          "1953-06-30T00:00:00",
          "1953-07-31T00:00:00",
          "1953-08-31T00:00:00",
          "1953-09-30T00:00:00",
          "1953-10-31T00:00:00",
          "1953-11-30T00:00:00",
          "1953-12-31T00:00:00",
          "1954-01-31T00:00:00",
          "1954-02-28T00:00:00",
          "1954-03-31T00:00:00",
          "1954-04-30T00:00:00",
          "1954-05-31T00:00:00",
          "1954-06-30T00:00:00",
          "1954-07-31T00:00:00",
          "1954-08-31T00:00:00",
          "1954-09-30T00:00:00",
          "1954-10-31T00:00:00",
          "1954-11-30T00:00:00",
          "1954-12-31T00:00:00",
          "1955-01-31T00:00:00",
          "1955-02-28T00:00:00",
          "1955-03-31T00:00:00",
          "1955-04-30T00:00:00",
          "1955-05-31T00:00:00",
          "1955-06-30T00:00:00",
          "1955-07-31T00:00:00",
          "1955-08-31T00:00:00",
          "1955-09-30T00:00:00",
          "1955-10-31T00:00:00",
          "1955-11-30T00:00:00",
          "1955-12-31T00:00:00",
          "1956-01-31T00:00:00",
          "1956-02-29T00:00:00",
          "1956-03-31T00:00:00",
          "1956-04-30T00:00:00",
          "1956-05-31T00:00:00",
          "1956-06-30T00:00:00",
          "1956-07-31T00:00:00",
          "1956-08-31T00:00:00",
          "1956-09-30T00:00:00",
          "1956-10-31T00:00:00",
          "1956-11-30T00:00:00",
          "1956-12-31T00:00:00",
          "1957-01-31T00:00:00",
          "1957-02-28T00:00:00",
          "1957-03-31T00:00:00",
          "1957-04-30T00:00:00",
          "1957-05-31T00:00:00",
          "1957-06-30T00:00:00",
          "1957-07-31T00:00:00",
          "1957-08-31T00:00:00",
          "1957-09-30T00:00:00",
          "1957-10-31T00:00:00",
          "1957-11-30T00:00:00",
          "1957-12-31T00:00:00",
          "1958-01-31T00:00:00",
          "1958-02-28T00:00:00",
          "1958-03-31T00:00:00",
          "1958-04-30T00:00:00",
          "1958-05-31T00:00:00",
          "1958-06-30T00:00:00",
          "1958-07-31T00:00:00",
          "1958-08-31T00:00:00",
          "1958-09-30T00:00:00",
          "1958-10-31T00:00:00",
          "1958-11-30T00:00:00",
          "1958-12-31T00:00:00",
          "1959-01-31T00:00:00",
          "1959-02-28T00:00:00",
          "1959-03-31T00:00:00",
          "1959-04-30T00:00:00",
          "1959-05-31T00:00:00",
          "1959-06-30T00:00:00",
          "1959-07-31T00:00:00",
          "1959-08-31T00:00:00",
          "1959-09-30T00:00:00",
          "1959-10-31T00:00:00",
          "1959-11-30T00:00:00",
          "1959-12-31T00:00:00",
          "1960-01-31T00:00:00",
          "1960-02-29T00:00:00",
          "1960-03-31T00:00:00",
          "1960-04-30T00:00:00",
          "1960-05-31T00:00:00",
          "1960-06-30T00:00:00",
          "1960-07-31T00:00:00",
          "1960-08-31T00:00:00",
          "1960-09-30T00:00:00",
          "1960-10-31T00:00:00",
          "1960-11-30T00:00:00",
          "1960-12-31T00:00:00",
          "1961-01-31T00:00:00",
          "1961-02-28T00:00:00",
          "1961-03-31T00:00:00",
          "1961-04-30T00:00:00",
          "1961-05-31T00:00:00",
          "1961-06-30T00:00:00",
          "1961-07-31T00:00:00",
          "1961-08-31T00:00:00",
          "1961-09-30T00:00:00",
          "1961-10-31T00:00:00",
          "1961-11-30T00:00:00",
          "1961-12-31T00:00:00",
          "1962-01-31T00:00:00",
          "1962-02-28T00:00:00",
          "1962-03-31T00:00:00",
          "1962-04-30T00:00:00",
          "1962-05-31T00:00:00",
          "1962-06-30T00:00:00",
          "1962-07-31T00:00:00",
          "1962-08-31T00:00:00",
          "1962-09-30T00:00:00",
          "1962-10-31T00:00:00",
          "1962-11-30T00:00:00",
          "1962-12-31T00:00:00",
          "1963-01-31T00:00:00",
          "1963-02-28T00:00:00",
          "1963-03-31T00:00:00",
          "1963-04-30T00:00:00",
          "1963-05-31T00:00:00",
          "1963-06-30T00:00:00",
          "1963-07-31T00:00:00",
          "1963-08-31T00:00:00",
          "1963-09-30T00:00:00",
          "1963-10-31T00:00:00",
          "1963-11-30T00:00:00",
          "1963-12-31T00:00:00",
          "1964-01-31T00:00:00",
          "1964-02-29T00:00:00",
          "1964-03-31T00:00:00",
          "1964-04-30T00:00:00",
          "1964-05-31T00:00:00",
          "1964-06-30T00:00:00",
          "1964-07-31T00:00:00",
          "1964-08-31T00:00:00",
          "1964-09-30T00:00:00",
          "1964-10-31T00:00:00",
          "1964-11-30T00:00:00",
          "1964-12-31T00:00:00"
         ],
         "xaxis": "x",
         "y": [
          null,
          null,
          null,
          null,
          null,
          null,
          null,
          null,
          null,
          null,
          null,
          null,
          null,
          null,
          null,
          null,
          null,
          null,
          null,
          null,
          null,
          null,
          null,
          null,
          null,
          null,
          null,
          null,
          null,
          null,
          null,
          null,
          null,
          null,
          null,
          null,
          null,
          null,
          null,
          null,
          null,
          null,
          null,
          null,
          null,
          null,
          null,
          null,
          null,
          null,
          null,
          null,
          null,
          null,
          null,
          null,
          null,
          null,
          null,
          null,
          null,
          null,
          null,
          null,
          null,
          null,
          null,
          null,
          null,
          null,
          null,
          null,
          null,
          null,
          null,
          null,
          null,
          null,
          null,
          null,
          null,
          null,
          null,
          null,
          null,
          null,
          null,
          null,
          null,
          null,
          null,
          null,
          null,
          null,
          null,
          null,
          null,
          null,
          null,
          null,
          null,
          null,
          null,
          null,
          null,
          null,
          null,
          null,
          null,
          null,
          null,
          null,
          null,
          null,
          null,
          null,
          null,
          null,
          null,
          null,
          null,
          null,
          null,
          null,
          null,
          null,
          null,
          null,
          null,
          null,
          null,
          null,
          null,
          null,
          null,
          null,
          null,
          null,
          null,
          null,
          null,
          null,
          null,
          null,
          6.112831140862673,
          6.0380829021896645,
          6.095607107224041,
          6.18447160143924,
          6.232497294562656,
          6.346377687381961,
          6.49051946593274,
          6.451934519002079,
          6.29886789204095,
          6.190531331989133,
          6.036916485278572,
          6.119515765190368,
          6.169302357864361,
          6.093581399462452,
          6.136309944745111,
          6.223208191709611,
          6.287303493201852,
          6.397836815080356,
          6.531388787491158,
          6.4858277003809235,
          6.3484593820269986,
          6.236742495756024,
          6.092586177352495,
          6.159578506433474,
          6.209886285032997,
          6.136875664169435,
          6.1656957167794015,
          6.251749453468804,
          6.327473045366275,
          6.438289833307766,
          6.560695603336085,
          6.510637856641208,
          6.384650748083845,
          6.273738814029469,
          6.1374841619906135,
          6.190883419497761,
          6.239052604994879,
          6.17009063665068,
          6.187245113982449,
          6.2723902244472,
          6.356995757790982,
          6.46963241842116,
          6.581704421053438,
          6.528431083897635,
          6.411088083597968,
          6.303284674224368,
          6.174415739218288,
          6.215497387137386
         ],
         "yaxis": "y"
        }
       ],
       "layout": {
        "legend": {
         "title": {
          "text": "variable"
         },
         "tracegroupgap": 0
        },
        "margin": {
         "t": 60
        },
        "template": {
         "data": {
          "bar": [
           {
            "error_x": {
             "color": "#f2f5fa"
            },
            "error_y": {
             "color": "#f2f5fa"
            },
            "marker": {
             "line": {
              "color": "rgb(17,17,17)",
              "width": 0.5
             },
             "pattern": {
              "fillmode": "overlay",
              "size": 10,
              "solidity": 0.2
             }
            },
            "type": "bar"
           }
          ],
          "barpolar": [
           {
            "marker": {
             "line": {
              "color": "rgb(17,17,17)",
              "width": 0.5
             },
             "pattern": {
              "fillmode": "overlay",
              "size": 10,
              "solidity": 0.2
             }
            },
            "type": "barpolar"
           }
          ],
          "carpet": [
           {
            "aaxis": {
             "endlinecolor": "#A2B1C6",
             "gridcolor": "#506784",
             "linecolor": "#506784",
             "minorgridcolor": "#506784",
             "startlinecolor": "#A2B1C6"
            },
            "baxis": {
             "endlinecolor": "#A2B1C6",
             "gridcolor": "#506784",
             "linecolor": "#506784",
             "minorgridcolor": "#506784",
             "startlinecolor": "#A2B1C6"
            },
            "type": "carpet"
           }
          ],
          "choropleth": [
           {
            "colorbar": {
             "outlinewidth": 0,
             "ticks": ""
            },
            "type": "choropleth"
           }
          ],
          "contour": [
           {
            "colorbar": {
             "outlinewidth": 0,
             "ticks": ""
            },
            "colorscale": [
             [
              0,
              "#0d0887"
             ],
             [
              0.1111111111111111,
              "#46039f"
             ],
             [
              0.2222222222222222,
              "#7201a8"
             ],
             [
              0.3333333333333333,
              "#9c179e"
             ],
             [
              0.4444444444444444,
              "#bd3786"
             ],
             [
              0.5555555555555556,
              "#d8576b"
             ],
             [
              0.6666666666666666,
              "#ed7953"
             ],
             [
              0.7777777777777778,
              "#fb9f3a"
             ],
             [
              0.8888888888888888,
              "#fdca26"
             ],
             [
              1,
              "#f0f921"
             ]
            ],
            "type": "contour"
           }
          ],
          "contourcarpet": [
           {
            "colorbar": {
             "outlinewidth": 0,
             "ticks": ""
            },
            "type": "contourcarpet"
           }
          ],
          "heatmap": [
           {
            "colorbar": {
             "outlinewidth": 0,
             "ticks": ""
            },
            "colorscale": [
             [
              0,
              "#0d0887"
             ],
             [
              0.1111111111111111,
              "#46039f"
             ],
             [
              0.2222222222222222,
              "#7201a8"
             ],
             [
              0.3333333333333333,
              "#9c179e"
             ],
             [
              0.4444444444444444,
              "#bd3786"
             ],
             [
              0.5555555555555556,
              "#d8576b"
             ],
             [
              0.6666666666666666,
              "#ed7953"
             ],
             [
              0.7777777777777778,
              "#fb9f3a"
             ],
             [
              0.8888888888888888,
              "#fdca26"
             ],
             [
              1,
              "#f0f921"
             ]
            ],
            "type": "heatmap"
           }
          ],
          "heatmapgl": [
           {
            "colorbar": {
             "outlinewidth": 0,
             "ticks": ""
            },
            "colorscale": [
             [
              0,
              "#0d0887"
             ],
             [
              0.1111111111111111,
              "#46039f"
             ],
             [
              0.2222222222222222,
              "#7201a8"
             ],
             [
              0.3333333333333333,
              "#9c179e"
             ],
             [
              0.4444444444444444,
              "#bd3786"
             ],
             [
              0.5555555555555556,
              "#d8576b"
             ],
             [
              0.6666666666666666,
              "#ed7953"
             ],
             [
              0.7777777777777778,
              "#fb9f3a"
             ],
             [
              0.8888888888888888,
              "#fdca26"
             ],
             [
              1,
              "#f0f921"
             ]
            ],
            "type": "heatmapgl"
           }
          ],
          "histogram": [
           {
            "marker": {
             "pattern": {
              "fillmode": "overlay",
              "size": 10,
              "solidity": 0.2
             }
            },
            "type": "histogram"
           }
          ],
          "histogram2d": [
           {
            "colorbar": {
             "outlinewidth": 0,
             "ticks": ""
            },
            "colorscale": [
             [
              0,
              "#0d0887"
             ],
             [
              0.1111111111111111,
              "#46039f"
             ],
             [
              0.2222222222222222,
              "#7201a8"
             ],
             [
              0.3333333333333333,
              "#9c179e"
             ],
             [
              0.4444444444444444,
              "#bd3786"
             ],
             [
              0.5555555555555556,
              "#d8576b"
             ],
             [
              0.6666666666666666,
              "#ed7953"
             ],
             [
              0.7777777777777778,
              "#fb9f3a"
             ],
             [
              0.8888888888888888,
              "#fdca26"
             ],
             [
              1,
              "#f0f921"
             ]
            ],
            "type": "histogram2d"
           }
          ],
          "histogram2dcontour": [
           {
            "colorbar": {
             "outlinewidth": 0,
             "ticks": ""
            },
            "colorscale": [
             [
              0,
              "#0d0887"
             ],
             [
              0.1111111111111111,
              "#46039f"
             ],
             [
              0.2222222222222222,
              "#7201a8"
             ],
             [
              0.3333333333333333,
              "#9c179e"
             ],
             [
              0.4444444444444444,
              "#bd3786"
             ],
             [
              0.5555555555555556,
              "#d8576b"
             ],
             [
              0.6666666666666666,
              "#ed7953"
             ],
             [
              0.7777777777777778,
              "#fb9f3a"
             ],
             [
              0.8888888888888888,
              "#fdca26"
             ],
             [
              1,
              "#f0f921"
             ]
            ],
            "type": "histogram2dcontour"
           }
          ],
          "mesh3d": [
           {
            "colorbar": {
             "outlinewidth": 0,
             "ticks": ""
            },
            "type": "mesh3d"
           }
          ],
          "parcoords": [
           {
            "line": {
             "colorbar": {
              "outlinewidth": 0,
              "ticks": ""
             }
            },
            "type": "parcoords"
           }
          ],
          "pie": [
           {
            "automargin": true,
            "type": "pie"
           }
          ],
          "scatter": [
           {
            "marker": {
             "line": {
              "color": "#283442"
             }
            },
            "type": "scatter"
           }
          ],
          "scatter3d": [
           {
            "line": {
             "colorbar": {
              "outlinewidth": 0,
              "ticks": ""
             }
            },
            "marker": {
             "colorbar": {
              "outlinewidth": 0,
              "ticks": ""
             }
            },
            "type": "scatter3d"
           }
          ],
          "scattercarpet": [
           {
            "marker": {
             "colorbar": {
              "outlinewidth": 0,
              "ticks": ""
             }
            },
            "type": "scattercarpet"
           }
          ],
          "scattergeo": [
           {
            "marker": {
             "colorbar": {
              "outlinewidth": 0,
              "ticks": ""
             }
            },
            "type": "scattergeo"
           }
          ],
          "scattergl": [
           {
            "marker": {
             "line": {
              "color": "#283442"
             }
            },
            "type": "scattergl"
           }
          ],
          "scattermapbox": [
           {
            "marker": {
             "colorbar": {
              "outlinewidth": 0,
              "ticks": ""
             }
            },
            "type": "scattermapbox"
           }
          ],
          "scatterpolar": [
           {
            "marker": {
             "colorbar": {
              "outlinewidth": 0,
              "ticks": ""
             }
            },
            "type": "scatterpolar"
           }
          ],
          "scatterpolargl": [
           {
            "marker": {
             "colorbar": {
              "outlinewidth": 0,
              "ticks": ""
             }
            },
            "type": "scatterpolargl"
           }
          ],
          "scatterternary": [
           {
            "marker": {
             "colorbar": {
              "outlinewidth": 0,
              "ticks": ""
             }
            },
            "type": "scatterternary"
           }
          ],
          "surface": [
           {
            "colorbar": {
             "outlinewidth": 0,
             "ticks": ""
            },
            "colorscale": [
             [
              0,
              "#0d0887"
             ],
             [
              0.1111111111111111,
              "#46039f"
             ],
             [
              0.2222222222222222,
              "#7201a8"
             ],
             [
              0.3333333333333333,
              "#9c179e"
             ],
             [
              0.4444444444444444,
              "#bd3786"
             ],
             [
              0.5555555555555556,
              "#d8576b"
             ],
             [
              0.6666666666666666,
              "#ed7953"
             ],
             [
              0.7777777777777778,
              "#fb9f3a"
             ],
             [
              0.8888888888888888,
              "#fdca26"
             ],
             [
              1,
              "#f0f921"
             ]
            ],
            "type": "surface"
           }
          ],
          "table": [
           {
            "cells": {
             "fill": {
              "color": "#506784"
             },
             "line": {
              "color": "rgb(17,17,17)"
             }
            },
            "header": {
             "fill": {
              "color": "#2a3f5f"
             },
             "line": {
              "color": "rgb(17,17,17)"
             }
            },
            "type": "table"
           }
          ]
         },
         "layout": {
          "annotationdefaults": {
           "arrowcolor": "#f2f5fa",
           "arrowhead": 0,
           "arrowwidth": 1
          },
          "autosize": false,
          "autotypenumbers": "strict",
          "coloraxis": {
           "colorbar": {
            "outlinewidth": 0,
            "ticks": ""
           }
          },
          "colorscale": {
           "diverging": [
            [
             0,
             "#8e0152"
            ],
            [
             0.1,
             "#c51b7d"
            ],
            [
             0.2,
             "#de77ae"
            ],
            [
             0.3,
             "#f1b6da"
            ],
            [
             0.4,
             "#fde0ef"
            ],
            [
             0.5,
             "#f7f7f7"
            ],
            [
             0.6,
             "#e6f5d0"
            ],
            [
             0.7,
             "#b8e186"
            ],
            [
             0.8,
             "#7fbc41"
            ],
            [
             0.9,
             "#4d9221"
            ],
            [
             1,
             "#276419"
            ]
           ],
           "sequential": [
            [
             0,
             "#0d0887"
            ],
            [
             0.1111111111111111,
             "#46039f"
            ],
            [
             0.2222222222222222,
             "#7201a8"
            ],
            [
             0.3333333333333333,
             "#9c179e"
            ],
            [
             0.4444444444444444,
             "#bd3786"
            ],
            [
             0.5555555555555556,
             "#d8576b"
            ],
            [
             0.6666666666666666,
             "#ed7953"
            ],
            [
             0.7777777777777778,
             "#fb9f3a"
            ],
            [
             0.8888888888888888,
             "#fdca26"
            ],
            [
             1,
             "#f0f921"
            ]
           ],
           "sequentialminus": [
            [
             0,
             "#0d0887"
            ],
            [
             0.1111111111111111,
             "#46039f"
            ],
            [
             0.2222222222222222,
             "#7201a8"
            ],
            [
             0.3333333333333333,
             "#9c179e"
            ],
            [
             0.4444444444444444,
             "#bd3786"
            ],
            [
             0.5555555555555556,
             "#d8576b"
            ],
            [
             0.6666666666666666,
             "#ed7953"
            ],
            [
             0.7777777777777778,
             "#fb9f3a"
            ],
            [
             0.8888888888888888,
             "#fdca26"
            ],
            [
             1,
             "#f0f921"
            ]
           ]
          },
          "colorway": [
           "#636efa",
           "#EF553B",
           "#00cc96",
           "#ab63fa",
           "#FFA15A",
           "#19d3f3",
           "#FF6692",
           "#B6E880",
           "#FF97FF",
           "#FECB52"
          ],
          "font": {
           "color": "#f2f5fa"
          },
          "geo": {
           "bgcolor": "rgb(17,17,17)",
           "lakecolor": "rgb(17,17,17)",
           "landcolor": "rgb(17,17,17)",
           "showlakes": true,
           "showland": true,
           "subunitcolor": "#506784"
          },
          "height": 500,
          "hoverlabel": {
           "align": "left"
          },
          "hovermode": "closest",
          "mapbox": {
           "style": "dark"
          },
          "paper_bgcolor": "rgb(17,17,17)",
          "plot_bgcolor": "rgb(17,17,17)",
          "polar": {
           "angularaxis": {
            "gridcolor": "#506784",
            "linecolor": "#506784",
            "ticks": ""
           },
           "bgcolor": "rgb(17,17,17)",
           "radialaxis": {
            "gridcolor": "#506784",
            "linecolor": "#506784",
            "ticks": ""
           }
          },
          "scene": {
           "xaxis": {
            "backgroundcolor": "rgb(17,17,17)",
            "gridcolor": "#506784",
            "gridwidth": 2,
            "linecolor": "#506784",
            "showbackground": true,
            "ticks": "",
            "zerolinecolor": "#C8D4E3"
           },
           "yaxis": {
            "backgroundcolor": "rgb(17,17,17)",
            "gridcolor": "#506784",
            "gridwidth": 2,
            "linecolor": "#506784",
            "showbackground": true,
            "ticks": "",
            "zerolinecolor": "#C8D4E3"
           },
           "zaxis": {
            "backgroundcolor": "rgb(17,17,17)",
            "gridcolor": "#506784",
            "gridwidth": 2,
            "linecolor": "#506784",
            "showbackground": true,
            "ticks": "",
            "zerolinecolor": "#C8D4E3"
           }
          },
          "shapedefaults": {
           "line": {
            "color": "#f2f5fa"
           }
          },
          "showlegend": true,
          "sliderdefaults": {
           "bgcolor": "#C8D4E3",
           "bordercolor": "rgb(17,17,17)",
           "borderwidth": 1,
           "tickwidth": 0
          },
          "ternary": {
           "aaxis": {
            "gridcolor": "#506784",
            "linecolor": "#506784",
            "ticks": ""
           },
           "baxis": {
            "gridcolor": "#506784",
            "linecolor": "#506784",
            "ticks": ""
           },
           "bgcolor": "rgb(17,17,17)",
           "caxis": {
            "gridcolor": "#506784",
            "linecolor": "#506784",
            "ticks": ""
           }
          },
          "title": {
           "x": 0.05
          },
          "updatemenudefaults": {
           "bgcolor": "#506784",
           "borderwidth": 0
          },
          "width": 1000,
          "xaxis": {
           "automargin": true,
           "gridcolor": "#283442",
           "linecolor": "#506784",
           "ticks": "",
           "title": {
            "standoff": 15
           },
           "zerolinecolor": "#283442",
           "zerolinewidth": 2
          },
          "yaxis": {
           "automargin": true,
           "gridcolor": "#283442",
           "linecolor": "#506784",
           "ticks": "",
           "title": {
            "standoff": 15
           },
           "zerolinecolor": "#283442",
           "zerolinewidth": 2
          }
         }
        },
        "xaxis": {
         "anchor": "y",
         "domain": [
          0,
          1
         ],
         "title": {
          "text": "index"
         }
        },
        "yaxis": {
         "anchor": "x",
         "domain": [
          0,
          1
         ],
         "title": {
          "text": "value"
         }
        }
       }
      }
     },
     "metadata": {},
     "output_type": "display_data"
    }
   ],
   "source": [
    "df_pred.plot(color='variable')"
   ]
  },
  {
   "cell_type": "markdown",
   "id": "28ed63d8",
   "metadata": {},
   "source": [
    "## Configuration\n",
    "\n",
    "```python\n",
    "p = 12\n",
    "d = 1\n",
    "q = 2\n",
    "\n",
    "model = ARIMA(series, order=(p, d, q))\n",
    "```\n",
    "\n",
    "| Parameter | Name                     | What it does                                                                   |\n",
    "| --------- | ------------------------ | ------------------------------------------------------------------------------ |\n",
    "| p         | AR (AutoRegressive) part | How many *lagged values* of the time series are used (past observations).      |\n",
    "| d         | I (Integrated) part      | How many times we difference the data to make it stationary.                   |\n",
    "| q         | MA (Moving Average) part | How many lagged *forecast errors* (residuals) are used to model the next step. |\n",
    "\n",
    "Why?"
   ]
  },
  {
   "cell_type": "markdown",
   "id": "be175589",
   "metadata": {},
   "source": [
    "### q: Differencing\n",
    "\n",
    "- ARIMA assumes that the series is stationary.\n",
    "- Stationary series have constant mean and variance over time."
   ]
  },
  {
   "cell_type": "code",
   "execution_count": 11,
   "id": "7a32b984",
   "metadata": {},
   "outputs": [
    {
     "data": {
      "application/vnd.plotly.v1+json": {
       "config": {
        "plotlyServerURL": "https://plot.ly"
       },
       "data": [
        {
         "hovertemplate": "variable=values<br>index=%{x}<br>value=%{y}<extra></extra>",
         "legendgroup": "values",
         "line": {
          "color": "#636efa",
          "dash": "solid"
         },
         "marker": {
          "symbol": "circle"
         },
         "mode": "lines",
         "name": "values",
         "orientation": "v",
         "showlegend": true,
         "type": "scatter",
         "x": [
          "1949-01-31T00:00:00",
          "1949-02-28T00:00:00",
          "1949-03-31T00:00:00",
          "1949-04-30T00:00:00",
          "1949-05-31T00:00:00",
          "1949-06-30T00:00:00",
          "1949-07-31T00:00:00",
          "1949-08-31T00:00:00",
          "1949-09-30T00:00:00",
          "1949-10-31T00:00:00",
          "1949-11-30T00:00:00",
          "1949-12-31T00:00:00",
          "1950-01-31T00:00:00",
          "1950-02-28T00:00:00",
          "1950-03-31T00:00:00",
          "1950-04-30T00:00:00",
          "1950-05-31T00:00:00",
          "1950-06-30T00:00:00",
          "1950-07-31T00:00:00",
          "1950-08-31T00:00:00",
          "1950-09-30T00:00:00",
          "1950-10-31T00:00:00",
          "1950-11-30T00:00:00",
          "1950-12-31T00:00:00",
          "1951-01-31T00:00:00",
          "1951-02-28T00:00:00",
          "1951-03-31T00:00:00",
          "1951-04-30T00:00:00",
          "1951-05-31T00:00:00",
          "1951-06-30T00:00:00",
          "1951-07-31T00:00:00",
          "1951-08-31T00:00:00",
          "1951-09-30T00:00:00",
          "1951-10-31T00:00:00",
          "1951-11-30T00:00:00",
          "1951-12-31T00:00:00",
          "1952-01-31T00:00:00",
          "1952-02-29T00:00:00",
          "1952-03-31T00:00:00",
          "1952-04-30T00:00:00",
          "1952-05-31T00:00:00",
          "1952-06-30T00:00:00",
          "1952-07-31T00:00:00",
          "1952-08-31T00:00:00",
          "1952-09-30T00:00:00",
          "1952-10-31T00:00:00",
          "1952-11-30T00:00:00",
          "1952-12-31T00:00:00",
          "1953-01-31T00:00:00",
          "1953-02-28T00:00:00",
          "1953-03-31T00:00:00",
          "1953-04-30T00:00:00",
          "1953-05-31T00:00:00",
          "1953-06-30T00:00:00",
          "1953-07-31T00:00:00",
          "1953-08-31T00:00:00",
          "1953-09-30T00:00:00",
          "1953-10-31T00:00:00",
          "1953-11-30T00:00:00",
          "1953-12-31T00:00:00",
          "1954-01-31T00:00:00",
          "1954-02-28T00:00:00",
          "1954-03-31T00:00:00",
          "1954-04-30T00:00:00",
          "1954-05-31T00:00:00",
          "1954-06-30T00:00:00",
          "1954-07-31T00:00:00",
          "1954-08-31T00:00:00",
          "1954-09-30T00:00:00",
          "1954-10-31T00:00:00",
          "1954-11-30T00:00:00",
          "1954-12-31T00:00:00",
          "1955-01-31T00:00:00",
          "1955-02-28T00:00:00",
          "1955-03-31T00:00:00",
          "1955-04-30T00:00:00",
          "1955-05-31T00:00:00",
          "1955-06-30T00:00:00",
          "1955-07-31T00:00:00",
          "1955-08-31T00:00:00",
          "1955-09-30T00:00:00",
          "1955-10-31T00:00:00",
          "1955-11-30T00:00:00",
          "1955-12-31T00:00:00",
          "1956-01-31T00:00:00",
          "1956-02-29T00:00:00",
          "1956-03-31T00:00:00",
          "1956-04-30T00:00:00",
          "1956-05-31T00:00:00",
          "1956-06-30T00:00:00",
          "1956-07-31T00:00:00",
          "1956-08-31T00:00:00",
          "1956-09-30T00:00:00",
          "1956-10-31T00:00:00",
          "1956-11-30T00:00:00",
          "1956-12-31T00:00:00",
          "1957-01-31T00:00:00",
          "1957-02-28T00:00:00",
          "1957-03-31T00:00:00",
          "1957-04-30T00:00:00",
          "1957-05-31T00:00:00",
          "1957-06-30T00:00:00",
          "1957-07-31T00:00:00",
          "1957-08-31T00:00:00",
          "1957-09-30T00:00:00",
          "1957-10-31T00:00:00",
          "1957-11-30T00:00:00",
          "1957-12-31T00:00:00",
          "1958-01-31T00:00:00",
          "1958-02-28T00:00:00",
          "1958-03-31T00:00:00",
          "1958-04-30T00:00:00",
          "1958-05-31T00:00:00",
          "1958-06-30T00:00:00",
          "1958-07-31T00:00:00",
          "1958-08-31T00:00:00",
          "1958-09-30T00:00:00",
          "1958-10-31T00:00:00",
          "1958-11-30T00:00:00",
          "1958-12-31T00:00:00",
          "1959-01-31T00:00:00",
          "1959-02-28T00:00:00",
          "1959-03-31T00:00:00",
          "1959-04-30T00:00:00",
          "1959-05-31T00:00:00",
          "1959-06-30T00:00:00",
          "1959-07-31T00:00:00",
          "1959-08-31T00:00:00",
          "1959-09-30T00:00:00",
          "1959-10-31T00:00:00",
          "1959-11-30T00:00:00",
          "1959-12-31T00:00:00",
          "1960-01-31T00:00:00",
          "1960-02-29T00:00:00",
          "1960-03-31T00:00:00",
          "1960-04-30T00:00:00",
          "1960-05-31T00:00:00",
          "1960-06-30T00:00:00",
          "1960-07-31T00:00:00",
          "1960-08-31T00:00:00",
          "1960-09-30T00:00:00",
          "1960-10-31T00:00:00",
          "1960-11-30T00:00:00",
          "1960-12-31T00:00:00"
         ],
         "xaxis": "x",
         "y": [
          4.718498871295094,
          4.770684624465665,
          4.882801922586371,
          4.859812404361672,
          4.795790545596741,
          4.90527477843843,
          4.997212273764115,
          4.997212273764115,
          4.912654885736052,
          4.77912349311153,
          4.6443908991413725,
          4.770684624465665,
          4.74493212836325,
          4.836281906951478,
          4.948759890378168,
          4.90527477843843,
          4.8283137373023015,
          5.003946305945459,
          5.135798437050262,
          5.135798437050262,
          5.062595033026967,
          4.890349128221754,
          4.736198448394496,
          4.941642422609304,
          4.976733742420574,
          5.0106352940962555,
          5.181783550292085,
          5.093750200806762,
          5.147494476813453,
          5.181783550292085,
          5.293304824724492,
          5.293304824724492,
          5.214935757608986,
          5.087596335232384,
          4.983606621708336,
          5.111987788356544,
          5.14166355650266,
          5.19295685089021,
          5.262690188904886,
          5.198497031265826,
          5.209486152841421,
          5.384495062789089,
          5.438079308923196,
          5.488937726156687,
          5.342334251964811,
          5.25227342804663,
          5.147494476813453,
          5.267858159063328,
          5.278114659230517,
          5.278114659230517,
          5.4638318050256105,
          5.459585514144159,
          5.43372200355424,
          5.493061443340548,
          5.575949103146316,
          5.605802066295998,
          5.4680601411351315,
          5.351858133476067,
          5.19295685089021,
          5.303304908059076,
          5.318119993844216,
          5.236441962829949,
          5.459585514144159,
          5.424950017481403,
          5.455321115357702,
          5.575949103146316,
          5.71042701737487,
          5.680172609017068,
          5.556828061699537,
          5.43372200355424,
          5.313205979041787,
          5.43372200355424,
          5.488937726156687,
          5.4510384535657,
          5.58724865840025,
          5.594711379601839,
          5.598421958998375,
          5.752572638825633,
          5.8971538676367405,
          5.849324779946859,
          5.7430031878094825,
          5.6131281063880705,
          5.4680601411351315,
          5.627621113690637,
          5.648974238161206,
          5.6240175061873385,
          5.75890177387728,
          5.746203190540153,
          5.762051382780177,
          5.924255797414532,
          6.023447592961033,
          6.003887067106539,
          5.872117789475416,
          5.723585101952381,
          5.602118820879701,
          5.723585101952381,
          5.752572638825633,
          5.707110264748875,
          5.87493073085203,
          5.8522024797744745,
          5.872117789475416,
          6.045005314036012,
          6.142037405587356,
          6.1463292576688975,
          6.0014148779611505,
          5.849324779946859,
          5.720311776607412,
          5.817111159963204,
          5.8289456176102075,
          5.762051382780177,
          5.8916442118257715,
          5.8522024797744745,
          5.8944028342648505,
          6.075346031088684,
          6.19644412779452,
          6.22455842927536,
          6.0014148779611505,
          5.883322388488279,
          5.736572297479192,
          5.820082930352362,
          5.886104031450156,
          5.834810737062605,
          6.0063531596017325,
          5.981414211254481,
          6.040254711277414,
          6.156978985585555,
          6.306275286948016,
          6.326149473155099,
          6.137727054086234,
          6.008813185442595,
          5.8916442118257715,
          6.003887067106539,
          6.0330862217988015,
          5.968707559985366,
          6.037870919922137,
          6.133398042996649,
          6.156978985585555,
          6.282266746896006,
          6.432940092739179,
          6.406879986069314,
          6.230481447578482,
          6.133398042996649,
          5.966146739123692,
          6.068425588244111
         ],
         "yaxis": "y"
        }
       ],
       "layout": {
        "legend": {
         "title": {
          "text": "variable"
         },
         "tracegroupgap": 0
        },
        "margin": {
         "t": 60
        },
        "template": {
         "data": {
          "bar": [
           {
            "error_x": {
             "color": "#f2f5fa"
            },
            "error_y": {
             "color": "#f2f5fa"
            },
            "marker": {
             "line": {
              "color": "rgb(17,17,17)",
              "width": 0.5
             },
             "pattern": {
              "fillmode": "overlay",
              "size": 10,
              "solidity": 0.2
             }
            },
            "type": "bar"
           }
          ],
          "barpolar": [
           {
            "marker": {
             "line": {
              "color": "rgb(17,17,17)",
              "width": 0.5
             },
             "pattern": {
              "fillmode": "overlay",
              "size": 10,
              "solidity": 0.2
             }
            },
            "type": "barpolar"
           }
          ],
          "carpet": [
           {
            "aaxis": {
             "endlinecolor": "#A2B1C6",
             "gridcolor": "#506784",
             "linecolor": "#506784",
             "minorgridcolor": "#506784",
             "startlinecolor": "#A2B1C6"
            },
            "baxis": {
             "endlinecolor": "#A2B1C6",
             "gridcolor": "#506784",
             "linecolor": "#506784",
             "minorgridcolor": "#506784",
             "startlinecolor": "#A2B1C6"
            },
            "type": "carpet"
           }
          ],
          "choropleth": [
           {
            "colorbar": {
             "outlinewidth": 0,
             "ticks": ""
            },
            "type": "choropleth"
           }
          ],
          "contour": [
           {
            "colorbar": {
             "outlinewidth": 0,
             "ticks": ""
            },
            "colorscale": [
             [
              0,
              "#0d0887"
             ],
             [
              0.1111111111111111,
              "#46039f"
             ],
             [
              0.2222222222222222,
              "#7201a8"
             ],
             [
              0.3333333333333333,
              "#9c179e"
             ],
             [
              0.4444444444444444,
              "#bd3786"
             ],
             [
              0.5555555555555556,
              "#d8576b"
             ],
             [
              0.6666666666666666,
              "#ed7953"
             ],
             [
              0.7777777777777778,
              "#fb9f3a"
             ],
             [
              0.8888888888888888,
              "#fdca26"
             ],
             [
              1,
              "#f0f921"
             ]
            ],
            "type": "contour"
           }
          ],
          "contourcarpet": [
           {
            "colorbar": {
             "outlinewidth": 0,
             "ticks": ""
            },
            "type": "contourcarpet"
           }
          ],
          "heatmap": [
           {
            "colorbar": {
             "outlinewidth": 0,
             "ticks": ""
            },
            "colorscale": [
             [
              0,
              "#0d0887"
             ],
             [
              0.1111111111111111,
              "#46039f"
             ],
             [
              0.2222222222222222,
              "#7201a8"
             ],
             [
              0.3333333333333333,
              "#9c179e"
             ],
             [
              0.4444444444444444,
              "#bd3786"
             ],
             [
              0.5555555555555556,
              "#d8576b"
             ],
             [
              0.6666666666666666,
              "#ed7953"
             ],
             [
              0.7777777777777778,
              "#fb9f3a"
             ],
             [
              0.8888888888888888,
              "#fdca26"
             ],
             [
              1,
              "#f0f921"
             ]
            ],
            "type": "heatmap"
           }
          ],
          "heatmapgl": [
           {
            "colorbar": {
             "outlinewidth": 0,
             "ticks": ""
            },
            "colorscale": [
             [
              0,
              "#0d0887"
             ],
             [
              0.1111111111111111,
              "#46039f"
             ],
             [
              0.2222222222222222,
              "#7201a8"
             ],
             [
              0.3333333333333333,
              "#9c179e"
             ],
             [
              0.4444444444444444,
              "#bd3786"
             ],
             [
              0.5555555555555556,
              "#d8576b"
             ],
             [
              0.6666666666666666,
              "#ed7953"
             ],
             [
              0.7777777777777778,
              "#fb9f3a"
             ],
             [
              0.8888888888888888,
              "#fdca26"
             ],
             [
              1,
              "#f0f921"
             ]
            ],
            "type": "heatmapgl"
           }
          ],
          "histogram": [
           {
            "marker": {
             "pattern": {
              "fillmode": "overlay",
              "size": 10,
              "solidity": 0.2
             }
            },
            "type": "histogram"
           }
          ],
          "histogram2d": [
           {
            "colorbar": {
             "outlinewidth": 0,
             "ticks": ""
            },
            "colorscale": [
             [
              0,
              "#0d0887"
             ],
             [
              0.1111111111111111,
              "#46039f"
             ],
             [
              0.2222222222222222,
              "#7201a8"
             ],
             [
              0.3333333333333333,
              "#9c179e"
             ],
             [
              0.4444444444444444,
              "#bd3786"
             ],
             [
              0.5555555555555556,
              "#d8576b"
             ],
             [
              0.6666666666666666,
              "#ed7953"
             ],
             [
              0.7777777777777778,
              "#fb9f3a"
             ],
             [
              0.8888888888888888,
              "#fdca26"
             ],
             [
              1,
              "#f0f921"
             ]
            ],
            "type": "histogram2d"
           }
          ],
          "histogram2dcontour": [
           {
            "colorbar": {
             "outlinewidth": 0,
             "ticks": ""
            },
            "colorscale": [
             [
              0,
              "#0d0887"
             ],
             [
              0.1111111111111111,
              "#46039f"
             ],
             [
              0.2222222222222222,
              "#7201a8"
             ],
             [
              0.3333333333333333,
              "#9c179e"
             ],
             [
              0.4444444444444444,
              "#bd3786"
             ],
             [
              0.5555555555555556,
              "#d8576b"
             ],
             [
              0.6666666666666666,
              "#ed7953"
             ],
             [
              0.7777777777777778,
              "#fb9f3a"
             ],
             [
              0.8888888888888888,
              "#fdca26"
             ],
             [
              1,
              "#f0f921"
             ]
            ],
            "type": "histogram2dcontour"
           }
          ],
          "mesh3d": [
           {
            "colorbar": {
             "outlinewidth": 0,
             "ticks": ""
            },
            "type": "mesh3d"
           }
          ],
          "parcoords": [
           {
            "line": {
             "colorbar": {
              "outlinewidth": 0,
              "ticks": ""
             }
            },
            "type": "parcoords"
           }
          ],
          "pie": [
           {
            "automargin": true,
            "type": "pie"
           }
          ],
          "scatter": [
           {
            "marker": {
             "line": {
              "color": "#283442"
             }
            },
            "type": "scatter"
           }
          ],
          "scatter3d": [
           {
            "line": {
             "colorbar": {
              "outlinewidth": 0,
              "ticks": ""
             }
            },
            "marker": {
             "colorbar": {
              "outlinewidth": 0,
              "ticks": ""
             }
            },
            "type": "scatter3d"
           }
          ],
          "scattercarpet": [
           {
            "marker": {
             "colorbar": {
              "outlinewidth": 0,
              "ticks": ""
             }
            },
            "type": "scattercarpet"
           }
          ],
          "scattergeo": [
           {
            "marker": {
             "colorbar": {
              "outlinewidth": 0,
              "ticks": ""
             }
            },
            "type": "scattergeo"
           }
          ],
          "scattergl": [
           {
            "marker": {
             "line": {
              "color": "#283442"
             }
            },
            "type": "scattergl"
           }
          ],
          "scattermapbox": [
           {
            "marker": {
             "colorbar": {
              "outlinewidth": 0,
              "ticks": ""
             }
            },
            "type": "scattermapbox"
           }
          ],
          "scatterpolar": [
           {
            "marker": {
             "colorbar": {
              "outlinewidth": 0,
              "ticks": ""
             }
            },
            "type": "scatterpolar"
           }
          ],
          "scatterpolargl": [
           {
            "marker": {
             "colorbar": {
              "outlinewidth": 0,
              "ticks": ""
             }
            },
            "type": "scatterpolargl"
           }
          ],
          "scatterternary": [
           {
            "marker": {
             "colorbar": {
              "outlinewidth": 0,
              "ticks": ""
             }
            },
            "type": "scatterternary"
           }
          ],
          "surface": [
           {
            "colorbar": {
             "outlinewidth": 0,
             "ticks": ""
            },
            "colorscale": [
             [
              0,
              "#0d0887"
             ],
             [
              0.1111111111111111,
              "#46039f"
             ],
             [
              0.2222222222222222,
              "#7201a8"
             ],
             [
              0.3333333333333333,
              "#9c179e"
             ],
             [
              0.4444444444444444,
              "#bd3786"
             ],
             [
              0.5555555555555556,
              "#d8576b"
             ],
             [
              0.6666666666666666,
              "#ed7953"
             ],
             [
              0.7777777777777778,
              "#fb9f3a"
             ],
             [
              0.8888888888888888,
              "#fdca26"
             ],
             [
              1,
              "#f0f921"
             ]
            ],
            "type": "surface"
           }
          ],
          "table": [
           {
            "cells": {
             "fill": {
              "color": "#506784"
             },
             "line": {
              "color": "rgb(17,17,17)"
             }
            },
            "header": {
             "fill": {
              "color": "#2a3f5f"
             },
             "line": {
              "color": "rgb(17,17,17)"
             }
            },
            "type": "table"
           }
          ]
         },
         "layout": {
          "annotationdefaults": {
           "arrowcolor": "#f2f5fa",
           "arrowhead": 0,
           "arrowwidth": 1
          },
          "autosize": false,
          "autotypenumbers": "strict",
          "coloraxis": {
           "colorbar": {
            "outlinewidth": 0,
            "ticks": ""
           }
          },
          "colorscale": {
           "diverging": [
            [
             0,
             "#8e0152"
            ],
            [
             0.1,
             "#c51b7d"
            ],
            [
             0.2,
             "#de77ae"
            ],
            [
             0.3,
             "#f1b6da"
            ],
            [
             0.4,
             "#fde0ef"
            ],
            [
             0.5,
             "#f7f7f7"
            ],
            [
             0.6,
             "#e6f5d0"
            ],
            [
             0.7,
             "#b8e186"
            ],
            [
             0.8,
             "#7fbc41"
            ],
            [
             0.9,
             "#4d9221"
            ],
            [
             1,
             "#276419"
            ]
           ],
           "sequential": [
            [
             0,
             "#0d0887"
            ],
            [
             0.1111111111111111,
             "#46039f"
            ],
            [
             0.2222222222222222,
             "#7201a8"
            ],
            [
             0.3333333333333333,
             "#9c179e"
            ],
            [
             0.4444444444444444,
             "#bd3786"
            ],
            [
             0.5555555555555556,
             "#d8576b"
            ],
            [
             0.6666666666666666,
             "#ed7953"
            ],
            [
             0.7777777777777778,
             "#fb9f3a"
            ],
            [
             0.8888888888888888,
             "#fdca26"
            ],
            [
             1,
             "#f0f921"
            ]
           ],
           "sequentialminus": [
            [
             0,
             "#0d0887"
            ],
            [
             0.1111111111111111,
             "#46039f"
            ],
            [
             0.2222222222222222,
             "#7201a8"
            ],
            [
             0.3333333333333333,
             "#9c179e"
            ],
            [
             0.4444444444444444,
             "#bd3786"
            ],
            [
             0.5555555555555556,
             "#d8576b"
            ],
            [
             0.6666666666666666,
             "#ed7953"
            ],
            [
             0.7777777777777778,
             "#fb9f3a"
            ],
            [
             0.8888888888888888,
             "#fdca26"
            ],
            [
             1,
             "#f0f921"
            ]
           ]
          },
          "colorway": [
           "#636efa",
           "#EF553B",
           "#00cc96",
           "#ab63fa",
           "#FFA15A",
           "#19d3f3",
           "#FF6692",
           "#B6E880",
           "#FF97FF",
           "#FECB52"
          ],
          "font": {
           "color": "#f2f5fa"
          },
          "geo": {
           "bgcolor": "rgb(17,17,17)",
           "lakecolor": "rgb(17,17,17)",
           "landcolor": "rgb(17,17,17)",
           "showlakes": true,
           "showland": true,
           "subunitcolor": "#506784"
          },
          "height": 500,
          "hoverlabel": {
           "align": "left"
          },
          "hovermode": "closest",
          "mapbox": {
           "style": "dark"
          },
          "paper_bgcolor": "rgb(17,17,17)",
          "plot_bgcolor": "rgb(17,17,17)",
          "polar": {
           "angularaxis": {
            "gridcolor": "#506784",
            "linecolor": "#506784",
            "ticks": ""
           },
           "bgcolor": "rgb(17,17,17)",
           "radialaxis": {
            "gridcolor": "#506784",
            "linecolor": "#506784",
            "ticks": ""
           }
          },
          "scene": {
           "xaxis": {
            "backgroundcolor": "rgb(17,17,17)",
            "gridcolor": "#506784",
            "gridwidth": 2,
            "linecolor": "#506784",
            "showbackground": true,
            "ticks": "",
            "zerolinecolor": "#C8D4E3"
           },
           "yaxis": {
            "backgroundcolor": "rgb(17,17,17)",
            "gridcolor": "#506784",
            "gridwidth": 2,
            "linecolor": "#506784",
            "showbackground": true,
            "ticks": "",
            "zerolinecolor": "#C8D4E3"
           },
           "zaxis": {
            "backgroundcolor": "rgb(17,17,17)",
            "gridcolor": "#506784",
            "gridwidth": 2,
            "linecolor": "#506784",
            "showbackground": true,
            "ticks": "",
            "zerolinecolor": "#C8D4E3"
           }
          },
          "shapedefaults": {
           "line": {
            "color": "#f2f5fa"
           }
          },
          "showlegend": true,
          "sliderdefaults": {
           "bgcolor": "#C8D4E3",
           "bordercolor": "rgb(17,17,17)",
           "borderwidth": 1,
           "tickwidth": 0
          },
          "ternary": {
           "aaxis": {
            "gridcolor": "#506784",
            "linecolor": "#506784",
            "ticks": ""
           },
           "baxis": {
            "gridcolor": "#506784",
            "linecolor": "#506784",
            "ticks": ""
           },
           "bgcolor": "rgb(17,17,17)",
           "caxis": {
            "gridcolor": "#506784",
            "linecolor": "#506784",
            "ticks": ""
           }
          },
          "title": {
           "x": 0.05
          },
          "updatemenudefaults": {
           "bgcolor": "#506784",
           "borderwidth": 0
          },
          "width": 1000,
          "xaxis": {
           "automargin": true,
           "gridcolor": "#283442",
           "linecolor": "#506784",
           "ticks": "",
           "title": {
            "standoff": 15
           },
           "zerolinecolor": "#283442",
           "zerolinewidth": 2
          },
          "yaxis": {
           "automargin": true,
           "gridcolor": "#283442",
           "linecolor": "#506784",
           "ticks": "",
           "title": {
            "standoff": 15
           },
           "zerolinecolor": "#283442",
           "zerolinewidth": 2
          }
         }
        },
        "xaxis": {
         "anchor": "y",
         "domain": [
          0,
          1
         ],
         "title": {
          "text": "index"
         }
        },
        "yaxis": {
         "anchor": "x",
         "domain": [
          0,
          1
         ],
         "title": {
          "text": "value"
         }
        }
       }
      }
     },
     "metadata": {},
     "output_type": "display_data"
    }
   ],
   "source": [
    "series.plot()"
   ]
  },
  {
   "cell_type": "code",
   "execution_count": 12,
   "id": "9c585d78",
   "metadata": {},
   "outputs": [
    {
     "data": {
      "text/html": [
       "<div>\n",
       "<style scoped>\n",
       "    .dataframe tbody tr th:only-of-type {\n",
       "        vertical-align: middle;\n",
       "    }\n",
       "\n",
       "    .dataframe tbody tr th {\n",
       "        vertical-align: top;\n",
       "    }\n",
       "\n",
       "    .dataframe thead th {\n",
       "        text-align: right;\n",
       "    }\n",
       "</style>\n",
       "<table border=\"1\" class=\"dataframe\">\n",
       "  <thead>\n",
       "    <tr style=\"text-align: right;\">\n",
       "      <th></th>\n",
       "      <th>values</th>\n",
       "      <th>values_diff</th>\n",
       "    </tr>\n",
       "  </thead>\n",
       "  <tbody>\n",
       "    <tr>\n",
       "      <th>1949-01-31</th>\n",
       "      <td>4.718499</td>\n",
       "      <td>NaN</td>\n",
       "    </tr>\n",
       "    <tr>\n",
       "      <th>1949-02-28</th>\n",
       "      <td>4.770685</td>\n",
       "      <td>0.052186</td>\n",
       "    </tr>\n",
       "    <tr>\n",
       "      <th>...</th>\n",
       "      <td>...</td>\n",
       "      <td>...</td>\n",
       "    </tr>\n",
       "    <tr>\n",
       "      <th>1960-11-30</th>\n",
       "      <td>5.966147</td>\n",
       "      <td>-0.167251</td>\n",
       "    </tr>\n",
       "    <tr>\n",
       "      <th>1960-12-31</th>\n",
       "      <td>6.068426</td>\n",
       "      <td>0.102279</td>\n",
       "    </tr>\n",
       "  </tbody>\n",
       "</table>\n",
       "<p>144 rows × 2 columns</p>\n",
       "</div>"
      ],
      "text/plain": [
       "              values  values_diff\n",
       "1949-01-31  4.718499          NaN\n",
       "1949-02-28  4.770685     0.052186\n",
       "...              ...          ...\n",
       "1960-11-30  5.966147    -0.167251\n",
       "1960-12-31  6.068426     0.102279\n",
       "\n",
       "[144 rows x 2 columns]"
      ]
     },
     "execution_count": 12,
     "metadata": {},
     "output_type": "execute_result"
    }
   ],
   "source": [
    "df = series.to_frame()\n",
    "df['values_diff'] = df['values'].diff()\n",
    "df"
   ]
  },
  {
   "cell_type": "code",
   "execution_count": 13,
   "id": "88921db5",
   "metadata": {},
   "outputs": [
    {
     "data": {
      "text/html": [
       "<div>\n",
       "<style scoped>\n",
       "    .dataframe tbody tr th:only-of-type {\n",
       "        vertical-align: middle;\n",
       "    }\n",
       "\n",
       "    .dataframe tbody tr th {\n",
       "        vertical-align: top;\n",
       "    }\n",
       "\n",
       "    .dataframe thead th {\n",
       "        text-align: right;\n",
       "    }\n",
       "</style>\n",
       "<table border=\"1\" class=\"dataframe\">\n",
       "  <thead>\n",
       "    <tr style=\"text-align: right;\">\n",
       "      <th></th>\n",
       "      <th>values</th>\n",
       "      <th>values_diff</th>\n",
       "    </tr>\n",
       "  </thead>\n",
       "  <tbody>\n",
       "    <tr>\n",
       "      <th>1949-02-28</th>\n",
       "      <td>4.770685</td>\n",
       "      <td>0.052186</td>\n",
       "    </tr>\n",
       "    <tr>\n",
       "      <th>1949-03-31</th>\n",
       "      <td>4.882802</td>\n",
       "      <td>0.112117</td>\n",
       "    </tr>\n",
       "    <tr>\n",
       "      <th>...</th>\n",
       "      <td>...</td>\n",
       "      <td>...</td>\n",
       "    </tr>\n",
       "    <tr>\n",
       "      <th>1960-11-30</th>\n",
       "      <td>5.966147</td>\n",
       "      <td>-0.167251</td>\n",
       "    </tr>\n",
       "    <tr>\n",
       "      <th>1960-12-31</th>\n",
       "      <td>6.068426</td>\n",
       "      <td>0.102279</td>\n",
       "    </tr>\n",
       "  </tbody>\n",
       "</table>\n",
       "<p>143 rows × 2 columns</p>\n",
       "</div>"
      ],
      "text/plain": [
       "              values  values_diff\n",
       "1949-02-28  4.770685     0.052186\n",
       "1949-03-31  4.882802     0.112117\n",
       "...              ...          ...\n",
       "1960-11-30  5.966147    -0.167251\n",
       "1960-12-31  6.068426     0.102279\n",
       "\n",
       "[143 rows x 2 columns]"
      ]
     },
     "execution_count": 13,
     "metadata": {},
     "output_type": "execute_result"
    }
   ],
   "source": [
    "df = df.dropna()\n",
    "df"
   ]
  },
  {
   "cell_type": "code",
   "execution_count": 14,
   "id": "b4c62aea",
   "metadata": {},
   "outputs": [
    {
     "data": {
      "application/vnd.plotly.v1+json": {
       "config": {
        "plotlyServerURL": "https://plot.ly"
       },
       "data": [
        {
         "hovertemplate": "variable=values<br>index=%{x}<br>value=%{y}<extra></extra>",
         "legendgroup": "values",
         "line": {
          "color": "#636efa",
          "dash": "solid"
         },
         "marker": {
          "symbol": "circle"
         },
         "mode": "lines",
         "name": "values",
         "orientation": "v",
         "showlegend": true,
         "type": "scatter",
         "x": [
          "1949-02-28T00:00:00",
          "1949-03-31T00:00:00",
          "1949-04-30T00:00:00",
          "1949-05-31T00:00:00",
          "1949-06-30T00:00:00",
          "1949-07-31T00:00:00",
          "1949-08-31T00:00:00",
          "1949-09-30T00:00:00",
          "1949-10-31T00:00:00",
          "1949-11-30T00:00:00",
          "1949-12-31T00:00:00",
          "1950-01-31T00:00:00",
          "1950-02-28T00:00:00",
          "1950-03-31T00:00:00",
          "1950-04-30T00:00:00",
          "1950-05-31T00:00:00",
          "1950-06-30T00:00:00",
          "1950-07-31T00:00:00",
          "1950-08-31T00:00:00",
          "1950-09-30T00:00:00",
          "1950-10-31T00:00:00",
          "1950-11-30T00:00:00",
          "1950-12-31T00:00:00",
          "1951-01-31T00:00:00",
          "1951-02-28T00:00:00",
          "1951-03-31T00:00:00",
          "1951-04-30T00:00:00",
          "1951-05-31T00:00:00",
          "1951-06-30T00:00:00",
          "1951-07-31T00:00:00",
          "1951-08-31T00:00:00",
          "1951-09-30T00:00:00",
          "1951-10-31T00:00:00",
          "1951-11-30T00:00:00",
          "1951-12-31T00:00:00",
          "1952-01-31T00:00:00",
          "1952-02-29T00:00:00",
          "1952-03-31T00:00:00",
          "1952-04-30T00:00:00",
          "1952-05-31T00:00:00",
          "1952-06-30T00:00:00",
          "1952-07-31T00:00:00",
          "1952-08-31T00:00:00",
          "1952-09-30T00:00:00",
          "1952-10-31T00:00:00",
          "1952-11-30T00:00:00",
          "1952-12-31T00:00:00",
          "1953-01-31T00:00:00",
          "1953-02-28T00:00:00",
          "1953-03-31T00:00:00",
          "1953-04-30T00:00:00",
          "1953-05-31T00:00:00",
          "1953-06-30T00:00:00",
          "1953-07-31T00:00:00",
          "1953-08-31T00:00:00",
          "1953-09-30T00:00:00",
          "1953-10-31T00:00:00",
          "1953-11-30T00:00:00",
          "1953-12-31T00:00:00",
          "1954-01-31T00:00:00",
          "1954-02-28T00:00:00",
          "1954-03-31T00:00:00",
          "1954-04-30T00:00:00",
          "1954-05-31T00:00:00",
          "1954-06-30T00:00:00",
          "1954-07-31T00:00:00",
          "1954-08-31T00:00:00",
          "1954-09-30T00:00:00",
          "1954-10-31T00:00:00",
          "1954-11-30T00:00:00",
          "1954-12-31T00:00:00",
          "1955-01-31T00:00:00",
          "1955-02-28T00:00:00",
          "1955-03-31T00:00:00",
          "1955-04-30T00:00:00",
          "1955-05-31T00:00:00",
          "1955-06-30T00:00:00",
          "1955-07-31T00:00:00",
          "1955-08-31T00:00:00",
          "1955-09-30T00:00:00",
          "1955-10-31T00:00:00",
          "1955-11-30T00:00:00",
          "1955-12-31T00:00:00",
          "1956-01-31T00:00:00",
          "1956-02-29T00:00:00",
          "1956-03-31T00:00:00",
          "1956-04-30T00:00:00",
          "1956-05-31T00:00:00",
          "1956-06-30T00:00:00",
          "1956-07-31T00:00:00",
          "1956-08-31T00:00:00",
          "1956-09-30T00:00:00",
          "1956-10-31T00:00:00",
          "1956-11-30T00:00:00",
          "1956-12-31T00:00:00",
          "1957-01-31T00:00:00",
          "1957-02-28T00:00:00",
          "1957-03-31T00:00:00",
          "1957-04-30T00:00:00",
          "1957-05-31T00:00:00",
          "1957-06-30T00:00:00",
          "1957-07-31T00:00:00",
          "1957-08-31T00:00:00",
          "1957-09-30T00:00:00",
          "1957-10-31T00:00:00",
          "1957-11-30T00:00:00",
          "1957-12-31T00:00:00",
          "1958-01-31T00:00:00",
          "1958-02-28T00:00:00",
          "1958-03-31T00:00:00",
          "1958-04-30T00:00:00",
          "1958-05-31T00:00:00",
          "1958-06-30T00:00:00",
          "1958-07-31T00:00:00",
          "1958-08-31T00:00:00",
          "1958-09-30T00:00:00",
          "1958-10-31T00:00:00",
          "1958-11-30T00:00:00",
          "1958-12-31T00:00:00",
          "1959-01-31T00:00:00",
          "1959-02-28T00:00:00",
          "1959-03-31T00:00:00",
          "1959-04-30T00:00:00",
          "1959-05-31T00:00:00",
          "1959-06-30T00:00:00",
          "1959-07-31T00:00:00",
          "1959-08-31T00:00:00",
          "1959-09-30T00:00:00",
          "1959-10-31T00:00:00",
          "1959-11-30T00:00:00",
          "1959-12-31T00:00:00",
          "1960-01-31T00:00:00",
          "1960-02-29T00:00:00",
          "1960-03-31T00:00:00",
          "1960-04-30T00:00:00",
          "1960-05-31T00:00:00",
          "1960-06-30T00:00:00",
          "1960-07-31T00:00:00",
          "1960-08-31T00:00:00",
          "1960-09-30T00:00:00",
          "1960-10-31T00:00:00",
          "1960-11-30T00:00:00",
          "1960-12-31T00:00:00"
         ],
         "xaxis": "x",
         "y": [
          4.770684624465665,
          4.882801922586371,
          4.859812404361672,
          4.795790545596741,
          4.90527477843843,
          4.997212273764115,
          4.997212273764115,
          4.912654885736052,
          4.77912349311153,
          4.6443908991413725,
          4.770684624465665,
          4.74493212836325,
          4.836281906951478,
          4.948759890378168,
          4.90527477843843,
          4.8283137373023015,
          5.003946305945459,
          5.135798437050262,
          5.135798437050262,
          5.062595033026967,
          4.890349128221754,
          4.736198448394496,
          4.941642422609304,
          4.976733742420574,
          5.0106352940962555,
          5.181783550292085,
          5.093750200806762,
          5.147494476813453,
          5.181783550292085,
          5.293304824724492,
          5.293304824724492,
          5.214935757608986,
          5.087596335232384,
          4.983606621708336,
          5.111987788356544,
          5.14166355650266,
          5.19295685089021,
          5.262690188904886,
          5.198497031265826,
          5.209486152841421,
          5.384495062789089,
          5.438079308923196,
          5.488937726156687,
          5.342334251964811,
          5.25227342804663,
          5.147494476813453,
          5.267858159063328,
          5.278114659230517,
          5.278114659230517,
          5.4638318050256105,
          5.459585514144159,
          5.43372200355424,
          5.493061443340548,
          5.575949103146316,
          5.605802066295998,
          5.4680601411351315,
          5.351858133476067,
          5.19295685089021,
          5.303304908059076,
          5.318119993844216,
          5.236441962829949,
          5.459585514144159,
          5.424950017481403,
          5.455321115357702,
          5.575949103146316,
          5.71042701737487,
          5.680172609017068,
          5.556828061699537,
          5.43372200355424,
          5.313205979041787,
          5.43372200355424,
          5.488937726156687,
          5.4510384535657,
          5.58724865840025,
          5.594711379601839,
          5.598421958998375,
          5.752572638825633,
          5.8971538676367405,
          5.849324779946859,
          5.7430031878094825,
          5.6131281063880705,
          5.4680601411351315,
          5.627621113690637,
          5.648974238161206,
          5.6240175061873385,
          5.75890177387728,
          5.746203190540153,
          5.762051382780177,
          5.924255797414532,
          6.023447592961033,
          6.003887067106539,
          5.872117789475416,
          5.723585101952381,
          5.602118820879701,
          5.723585101952381,
          5.752572638825633,
          5.707110264748875,
          5.87493073085203,
          5.8522024797744745,
          5.872117789475416,
          6.045005314036012,
          6.142037405587356,
          6.1463292576688975,
          6.0014148779611505,
          5.849324779946859,
          5.720311776607412,
          5.817111159963204,
          5.8289456176102075,
          5.762051382780177,
          5.8916442118257715,
          5.8522024797744745,
          5.8944028342648505,
          6.075346031088684,
          6.19644412779452,
          6.22455842927536,
          6.0014148779611505,
          5.883322388488279,
          5.736572297479192,
          5.820082930352362,
          5.886104031450156,
          5.834810737062605,
          6.0063531596017325,
          5.981414211254481,
          6.040254711277414,
          6.156978985585555,
          6.306275286948016,
          6.326149473155099,
          6.137727054086234,
          6.008813185442595,
          5.8916442118257715,
          6.003887067106539,
          6.0330862217988015,
          5.968707559985366,
          6.037870919922137,
          6.133398042996649,
          6.156978985585555,
          6.282266746896006,
          6.432940092739179,
          6.406879986069314,
          6.230481447578482,
          6.133398042996649,
          5.966146739123692,
          6.068425588244111
         ],
         "yaxis": "y"
        },
        {
         "hovertemplate": "variable=values_diff<br>index=%{x}<br>value=%{y}<extra></extra>",
         "legendgroup": "values_diff",
         "line": {
          "color": "#EF553B",
          "dash": "solid"
         },
         "marker": {
          "symbol": "circle"
         },
         "mode": "lines",
         "name": "values_diff",
         "orientation": "v",
         "showlegend": true,
         "type": "scatter",
         "x": [
          "1949-02-28T00:00:00",
          "1949-03-31T00:00:00",
          "1949-04-30T00:00:00",
          "1949-05-31T00:00:00",
          "1949-06-30T00:00:00",
          "1949-07-31T00:00:00",
          "1949-08-31T00:00:00",
          "1949-09-30T00:00:00",
          "1949-10-31T00:00:00",
          "1949-11-30T00:00:00",
          "1949-12-31T00:00:00",
          "1950-01-31T00:00:00",
          "1950-02-28T00:00:00",
          "1950-03-31T00:00:00",
          "1950-04-30T00:00:00",
          "1950-05-31T00:00:00",
          "1950-06-30T00:00:00",
          "1950-07-31T00:00:00",
          "1950-08-31T00:00:00",
          "1950-09-30T00:00:00",
          "1950-10-31T00:00:00",
          "1950-11-30T00:00:00",
          "1950-12-31T00:00:00",
          "1951-01-31T00:00:00",
          "1951-02-28T00:00:00",
          "1951-03-31T00:00:00",
          "1951-04-30T00:00:00",
          "1951-05-31T00:00:00",
          "1951-06-30T00:00:00",
          "1951-07-31T00:00:00",
          "1951-08-31T00:00:00",
          "1951-09-30T00:00:00",
          "1951-10-31T00:00:00",
          "1951-11-30T00:00:00",
          "1951-12-31T00:00:00",
          "1952-01-31T00:00:00",
          "1952-02-29T00:00:00",
          "1952-03-31T00:00:00",
          "1952-04-30T00:00:00",
          "1952-05-31T00:00:00",
          "1952-06-30T00:00:00",
          "1952-07-31T00:00:00",
          "1952-08-31T00:00:00",
          "1952-09-30T00:00:00",
          "1952-10-31T00:00:00",
          "1952-11-30T00:00:00",
          "1952-12-31T00:00:00",
          "1953-01-31T00:00:00",
          "1953-02-28T00:00:00",
          "1953-03-31T00:00:00",
          "1953-04-30T00:00:00",
          "1953-05-31T00:00:00",
          "1953-06-30T00:00:00",
          "1953-07-31T00:00:00",
          "1953-08-31T00:00:00",
          "1953-09-30T00:00:00",
          "1953-10-31T00:00:00",
          "1953-11-30T00:00:00",
          "1953-12-31T00:00:00",
          "1954-01-31T00:00:00",
          "1954-02-28T00:00:00",
          "1954-03-31T00:00:00",
          "1954-04-30T00:00:00",
          "1954-05-31T00:00:00",
          "1954-06-30T00:00:00",
          "1954-07-31T00:00:00",
          "1954-08-31T00:00:00",
          "1954-09-30T00:00:00",
          "1954-10-31T00:00:00",
          "1954-11-30T00:00:00",
          "1954-12-31T00:00:00",
          "1955-01-31T00:00:00",
          "1955-02-28T00:00:00",
          "1955-03-31T00:00:00",
          "1955-04-30T00:00:00",
          "1955-05-31T00:00:00",
          "1955-06-30T00:00:00",
          "1955-07-31T00:00:00",
          "1955-08-31T00:00:00",
          "1955-09-30T00:00:00",
          "1955-10-31T00:00:00",
          "1955-11-30T00:00:00",
          "1955-12-31T00:00:00",
          "1956-01-31T00:00:00",
          "1956-02-29T00:00:00",
          "1956-03-31T00:00:00",
          "1956-04-30T00:00:00",
          "1956-05-31T00:00:00",
          "1956-06-30T00:00:00",
          "1956-07-31T00:00:00",
          "1956-08-31T00:00:00",
          "1956-09-30T00:00:00",
          "1956-10-31T00:00:00",
          "1956-11-30T00:00:00",
          "1956-12-31T00:00:00",
          "1957-01-31T00:00:00",
          "1957-02-28T00:00:00",
          "1957-03-31T00:00:00",
          "1957-04-30T00:00:00",
          "1957-05-31T00:00:00",
          "1957-06-30T00:00:00",
          "1957-07-31T00:00:00",
          "1957-08-31T00:00:00",
          "1957-09-30T00:00:00",
          "1957-10-31T00:00:00",
          "1957-11-30T00:00:00",
          "1957-12-31T00:00:00",
          "1958-01-31T00:00:00",
          "1958-02-28T00:00:00",
          "1958-03-31T00:00:00",
          "1958-04-30T00:00:00",
          "1958-05-31T00:00:00",
          "1958-06-30T00:00:00",
          "1958-07-31T00:00:00",
          "1958-08-31T00:00:00",
          "1958-09-30T00:00:00",
          "1958-10-31T00:00:00",
          "1958-11-30T00:00:00",
          "1958-12-31T00:00:00",
          "1959-01-31T00:00:00",
          "1959-02-28T00:00:00",
          "1959-03-31T00:00:00",
          "1959-04-30T00:00:00",
          "1959-05-31T00:00:00",
          "1959-06-30T00:00:00",
          "1959-07-31T00:00:00",
          "1959-08-31T00:00:00",
          "1959-09-30T00:00:00",
          "1959-10-31T00:00:00",
          "1959-11-30T00:00:00",
          "1959-12-31T00:00:00",
          "1960-01-31T00:00:00",
          "1960-02-29T00:00:00",
          "1960-03-31T00:00:00",
          "1960-04-30T00:00:00",
          "1960-05-31T00:00:00",
          "1960-06-30T00:00:00",
          "1960-07-31T00:00:00",
          "1960-08-31T00:00:00",
          "1960-09-30T00:00:00",
          "1960-10-31T00:00:00",
          "1960-11-30T00:00:00",
          "1960-12-31T00:00:00"
         ],
         "xaxis": "x2",
         "y": [
          0.05218575317057095,
          0.11211729812070548,
          -0.022989518224698635,
          -0.0640218587649306,
          0.10948423284168829,
          0.09193749532568507,
          0,
          -0.08455738802806234,
          -0.13353139262452274,
          -0.13473259397015713,
          0.12629372532429262,
          -0.025752496102414923,
          0.09134977858822779,
          0.11247798342669046,
          -0.04348511193973881,
          -0.07696104113612812,
          0.17563256864315768,
          0.13185213110480287,
          0,
          -0.07320340402329517,
          -0.17224590480521318,
          -0.15415067982725805,
          0.2054439742148082,
          0.03509131981127034,
          0.03390155167568132,
          0.17114825619582952,
          -0.08803334948532271,
          0.053744276006690406,
          0.034289073478632304,
          0.11152127443240722,
          0,
          -0.0783690671155064,
          -0.12733942237660223,
          -0.10398971352404729,
          0.1283811666482073,
          0.02967576814611661,
          0.05129329438755015,
          0.06973333801467518,
          -0.06419315763905953,
          0.010989121575595284,
          0.1750089099476675,
          0.05358424613410673,
          0.05085841723349116,
          -0.1466034741918758,
          -0.09006082391818104,
          -0.10477895123317715,
          0.12036368224987548,
          0.010256500167188598,
          0,
          0.18571714579509369,
          -0.004246290881451564,
          -0.02586351058991898,
          0.05933943978630829,
          0.08288765980576773,
          0.029852963149681777,
          -0.13774192516086625,
          -0.11620200765906485,
          -0.15890128258585623,
          0.11034805716886531,
          0.014815085785140347,
          -0.08167803101426685,
          0.2231435513142097,
          -0.034635496662756005,
          0.03037109787629877,
          0.12062798778861428,
          0.1344779142285537,
          -0.03025440835780202,
          -0.1233445473175303,
          -0.1231060581452974,
          -0.1205160245124528,
          0.1205160245124528,
          0.05521572260244678,
          -0.03789927259098658,
          0.1362102048345495,
          0.007462721201589417,
          0.0037105793965359624,
          0.15415067982725805,
          0.14458122881110747,
          -0.047829087689881256,
          -0.1063215921373768,
          -0.12987508142141202,
          -0.14506796525293897,
          0.1595609725555054,
          0.021353124470569362,
          -0.02495673197386772,
          0.13488426768994177,
          -0.012698583337127367,
          0.015848192240023984,
          0.1622044146343553,
          0.09919179554650093,
          -0.019560525854494415,
          -0.13176927763112278,
          -0.14853268752303528,
          -0.12146628107267965,
          0.12146628107267965,
          0.028987536873252395,
          -0.04546237407675768,
          0.16782046610315504,
          -0.02272825107755594,
          0.019915309700941464,
          0.17288752456059608,
          0.09703209155134385,
          0.004291852081541592,
          -0.144914379707747,
          -0.1520900980142912,
          -0.12901300333944743,
          0.0967993833557923,
          0.011834457647003305,
          -0.06689423483003054,
          0.12959282904559455,
          -0.039441732051296974,
          0.04220035449037596,
          0.18094319682383375,
          0.12109809670583616,
          0.02811430148083982,
          -0.2231435513142097,
          -0.11809248947287188,
          -0.14675009100908643,
          0.0835106328731694,
          0.06602110109779424,
          -0.051293294387551036,
          0.17154242253912777,
          -0.024938948347251966,
          0.058840500022933284,
          0.11672427430814114,
          0.14929630136246086,
          0.019874186207083255,
          -0.18842241906886503,
          -0.12891386864363952,
          -0.1171689736168231,
          0.11224285528076727,
          0.029199154692262752,
          -0.06437866181343566,
          0.06916335993677158,
          0.09552712307451117,
          0.023580942588906417,
          0.12528776131045127,
          0.15067334584317305,
          -0.026060106669865135,
          -0.1763985384908322,
          -0.0970834045818334,
          -0.1672513038729564,
          0.10227884912041851
         ],
         "yaxis": "y2"
        }
       ],
       "layout": {
        "annotations": [
         {
          "font": {},
          "showarrow": false,
          "text": "variable=values",
          "x": 0.245,
          "xanchor": "center",
          "xref": "paper",
          "y": 1,
          "yanchor": "bottom",
          "yref": "paper"
         },
         {
          "font": {},
          "showarrow": false,
          "text": "variable=values_diff",
          "x": 0.755,
          "xanchor": "center",
          "xref": "paper",
          "y": 1,
          "yanchor": "bottom",
          "yref": "paper"
         }
        ],
        "legend": {
         "title": {
          "text": "variable"
         },
         "tracegroupgap": 0
        },
        "margin": {
         "t": 60
        },
        "template": {
         "data": {
          "bar": [
           {
            "error_x": {
             "color": "#f2f5fa"
            },
            "error_y": {
             "color": "#f2f5fa"
            },
            "marker": {
             "line": {
              "color": "rgb(17,17,17)",
              "width": 0.5
             },
             "pattern": {
              "fillmode": "overlay",
              "size": 10,
              "solidity": 0.2
             }
            },
            "type": "bar"
           }
          ],
          "barpolar": [
           {
            "marker": {
             "line": {
              "color": "rgb(17,17,17)",
              "width": 0.5
             },
             "pattern": {
              "fillmode": "overlay",
              "size": 10,
              "solidity": 0.2
             }
            },
            "type": "barpolar"
           }
          ],
          "carpet": [
           {
            "aaxis": {
             "endlinecolor": "#A2B1C6",
             "gridcolor": "#506784",
             "linecolor": "#506784",
             "minorgridcolor": "#506784",
             "startlinecolor": "#A2B1C6"
            },
            "baxis": {
             "endlinecolor": "#A2B1C6",
             "gridcolor": "#506784",
             "linecolor": "#506784",
             "minorgridcolor": "#506784",
             "startlinecolor": "#A2B1C6"
            },
            "type": "carpet"
           }
          ],
          "choropleth": [
           {
            "colorbar": {
             "outlinewidth": 0,
             "ticks": ""
            },
            "type": "choropleth"
           }
          ],
          "contour": [
           {
            "colorbar": {
             "outlinewidth": 0,
             "ticks": ""
            },
            "colorscale": [
             [
              0,
              "#0d0887"
             ],
             [
              0.1111111111111111,
              "#46039f"
             ],
             [
              0.2222222222222222,
              "#7201a8"
             ],
             [
              0.3333333333333333,
              "#9c179e"
             ],
             [
              0.4444444444444444,
              "#bd3786"
             ],
             [
              0.5555555555555556,
              "#d8576b"
             ],
             [
              0.6666666666666666,
              "#ed7953"
             ],
             [
              0.7777777777777778,
              "#fb9f3a"
             ],
             [
              0.8888888888888888,
              "#fdca26"
             ],
             [
              1,
              "#f0f921"
             ]
            ],
            "type": "contour"
           }
          ],
          "contourcarpet": [
           {
            "colorbar": {
             "outlinewidth": 0,
             "ticks": ""
            },
            "type": "contourcarpet"
           }
          ],
          "heatmap": [
           {
            "colorbar": {
             "outlinewidth": 0,
             "ticks": ""
            },
            "colorscale": [
             [
              0,
              "#0d0887"
             ],
             [
              0.1111111111111111,
              "#46039f"
             ],
             [
              0.2222222222222222,
              "#7201a8"
             ],
             [
              0.3333333333333333,
              "#9c179e"
             ],
             [
              0.4444444444444444,
              "#bd3786"
             ],
             [
              0.5555555555555556,
              "#d8576b"
             ],
             [
              0.6666666666666666,
              "#ed7953"
             ],
             [
              0.7777777777777778,
              "#fb9f3a"
             ],
             [
              0.8888888888888888,
              "#fdca26"
             ],
             [
              1,
              "#f0f921"
             ]
            ],
            "type": "heatmap"
           }
          ],
          "heatmapgl": [
           {
            "colorbar": {
             "outlinewidth": 0,
             "ticks": ""
            },
            "colorscale": [
             [
              0,
              "#0d0887"
             ],
             [
              0.1111111111111111,
              "#46039f"
             ],
             [
              0.2222222222222222,
              "#7201a8"
             ],
             [
              0.3333333333333333,
              "#9c179e"
             ],
             [
              0.4444444444444444,
              "#bd3786"
             ],
             [
              0.5555555555555556,
              "#d8576b"
             ],
             [
              0.6666666666666666,
              "#ed7953"
             ],
             [
              0.7777777777777778,
              "#fb9f3a"
             ],
             [
              0.8888888888888888,
              "#fdca26"
             ],
             [
              1,
              "#f0f921"
             ]
            ],
            "type": "heatmapgl"
           }
          ],
          "histogram": [
           {
            "marker": {
             "pattern": {
              "fillmode": "overlay",
              "size": 10,
              "solidity": 0.2
             }
            },
            "type": "histogram"
           }
          ],
          "histogram2d": [
           {
            "colorbar": {
             "outlinewidth": 0,
             "ticks": ""
            },
            "colorscale": [
             [
              0,
              "#0d0887"
             ],
             [
              0.1111111111111111,
              "#46039f"
             ],
             [
              0.2222222222222222,
              "#7201a8"
             ],
             [
              0.3333333333333333,
              "#9c179e"
             ],
             [
              0.4444444444444444,
              "#bd3786"
             ],
             [
              0.5555555555555556,
              "#d8576b"
             ],
             [
              0.6666666666666666,
              "#ed7953"
             ],
             [
              0.7777777777777778,
              "#fb9f3a"
             ],
             [
              0.8888888888888888,
              "#fdca26"
             ],
             [
              1,
              "#f0f921"
             ]
            ],
            "type": "histogram2d"
           }
          ],
          "histogram2dcontour": [
           {
            "colorbar": {
             "outlinewidth": 0,
             "ticks": ""
            },
            "colorscale": [
             [
              0,
              "#0d0887"
             ],
             [
              0.1111111111111111,
              "#46039f"
             ],
             [
              0.2222222222222222,
              "#7201a8"
             ],
             [
              0.3333333333333333,
              "#9c179e"
             ],
             [
              0.4444444444444444,
              "#bd3786"
             ],
             [
              0.5555555555555556,
              "#d8576b"
             ],
             [
              0.6666666666666666,
              "#ed7953"
             ],
             [
              0.7777777777777778,
              "#fb9f3a"
             ],
             [
              0.8888888888888888,
              "#fdca26"
             ],
             [
              1,
              "#f0f921"
             ]
            ],
            "type": "histogram2dcontour"
           }
          ],
          "mesh3d": [
           {
            "colorbar": {
             "outlinewidth": 0,
             "ticks": ""
            },
            "type": "mesh3d"
           }
          ],
          "parcoords": [
           {
            "line": {
             "colorbar": {
              "outlinewidth": 0,
              "ticks": ""
             }
            },
            "type": "parcoords"
           }
          ],
          "pie": [
           {
            "automargin": true,
            "type": "pie"
           }
          ],
          "scatter": [
           {
            "marker": {
             "line": {
              "color": "#283442"
             }
            },
            "type": "scatter"
           }
          ],
          "scatter3d": [
           {
            "line": {
             "colorbar": {
              "outlinewidth": 0,
              "ticks": ""
             }
            },
            "marker": {
             "colorbar": {
              "outlinewidth": 0,
              "ticks": ""
             }
            },
            "type": "scatter3d"
           }
          ],
          "scattercarpet": [
           {
            "marker": {
             "colorbar": {
              "outlinewidth": 0,
              "ticks": ""
             }
            },
            "type": "scattercarpet"
           }
          ],
          "scattergeo": [
           {
            "marker": {
             "colorbar": {
              "outlinewidth": 0,
              "ticks": ""
             }
            },
            "type": "scattergeo"
           }
          ],
          "scattergl": [
           {
            "marker": {
             "line": {
              "color": "#283442"
             }
            },
            "type": "scattergl"
           }
          ],
          "scattermapbox": [
           {
            "marker": {
             "colorbar": {
              "outlinewidth": 0,
              "ticks": ""
             }
            },
            "type": "scattermapbox"
           }
          ],
          "scatterpolar": [
           {
            "marker": {
             "colorbar": {
              "outlinewidth": 0,
              "ticks": ""
             }
            },
            "type": "scatterpolar"
           }
          ],
          "scatterpolargl": [
           {
            "marker": {
             "colorbar": {
              "outlinewidth": 0,
              "ticks": ""
             }
            },
            "type": "scatterpolargl"
           }
          ],
          "scatterternary": [
           {
            "marker": {
             "colorbar": {
              "outlinewidth": 0,
              "ticks": ""
             }
            },
            "type": "scatterternary"
           }
          ],
          "surface": [
           {
            "colorbar": {
             "outlinewidth": 0,
             "ticks": ""
            },
            "colorscale": [
             [
              0,
              "#0d0887"
             ],
             [
              0.1111111111111111,
              "#46039f"
             ],
             [
              0.2222222222222222,
              "#7201a8"
             ],
             [
              0.3333333333333333,
              "#9c179e"
             ],
             [
              0.4444444444444444,
              "#bd3786"
             ],
             [
              0.5555555555555556,
              "#d8576b"
             ],
             [
              0.6666666666666666,
              "#ed7953"
             ],
             [
              0.7777777777777778,
              "#fb9f3a"
             ],
             [
              0.8888888888888888,
              "#fdca26"
             ],
             [
              1,
              "#f0f921"
             ]
            ],
            "type": "surface"
           }
          ],
          "table": [
           {
            "cells": {
             "fill": {
              "color": "#506784"
             },
             "line": {
              "color": "rgb(17,17,17)"
             }
            },
            "header": {
             "fill": {
              "color": "#2a3f5f"
             },
             "line": {
              "color": "rgb(17,17,17)"
             }
            },
            "type": "table"
           }
          ]
         },
         "layout": {
          "annotationdefaults": {
           "arrowcolor": "#f2f5fa",
           "arrowhead": 0,
           "arrowwidth": 1
          },
          "autosize": false,
          "autotypenumbers": "strict",
          "coloraxis": {
           "colorbar": {
            "outlinewidth": 0,
            "ticks": ""
           }
          },
          "colorscale": {
           "diverging": [
            [
             0,
             "#8e0152"
            ],
            [
             0.1,
             "#c51b7d"
            ],
            [
             0.2,
             "#de77ae"
            ],
            [
             0.3,
             "#f1b6da"
            ],
            [
             0.4,
             "#fde0ef"
            ],
            [
             0.5,
             "#f7f7f7"
            ],
            [
             0.6,
             "#e6f5d0"
            ],
            [
             0.7,
             "#b8e186"
            ],
            [
             0.8,
             "#7fbc41"
            ],
            [
             0.9,
             "#4d9221"
            ],
            [
             1,
             "#276419"
            ]
           ],
           "sequential": [
            [
             0,
             "#0d0887"
            ],
            [
             0.1111111111111111,
             "#46039f"
            ],
            [
             0.2222222222222222,
             "#7201a8"
            ],
            [
             0.3333333333333333,
             "#9c179e"
            ],
            [
             0.4444444444444444,
             "#bd3786"
            ],
            [
             0.5555555555555556,
             "#d8576b"
            ],
            [
             0.6666666666666666,
             "#ed7953"
            ],
            [
             0.7777777777777778,
             "#fb9f3a"
            ],
            [
             0.8888888888888888,
             "#fdca26"
            ],
            [
             1,
             "#f0f921"
            ]
           ],
           "sequentialminus": [
            [
             0,
             "#0d0887"
            ],
            [
             0.1111111111111111,
             "#46039f"
            ],
            [
             0.2222222222222222,
             "#7201a8"
            ],
            [
             0.3333333333333333,
             "#9c179e"
            ],
            [
             0.4444444444444444,
             "#bd3786"
            ],
            [
             0.5555555555555556,
             "#d8576b"
            ],
            [
             0.6666666666666666,
             "#ed7953"
            ],
            [
             0.7777777777777778,
             "#fb9f3a"
            ],
            [
             0.8888888888888888,
             "#fdca26"
            ],
            [
             1,
             "#f0f921"
            ]
           ]
          },
          "colorway": [
           "#636efa",
           "#EF553B",
           "#00cc96",
           "#ab63fa",
           "#FFA15A",
           "#19d3f3",
           "#FF6692",
           "#B6E880",
           "#FF97FF",
           "#FECB52"
          ],
          "font": {
           "color": "#f2f5fa"
          },
          "geo": {
           "bgcolor": "rgb(17,17,17)",
           "lakecolor": "rgb(17,17,17)",
           "landcolor": "rgb(17,17,17)",
           "showlakes": true,
           "showland": true,
           "subunitcolor": "#506784"
          },
          "height": 500,
          "hoverlabel": {
           "align": "left"
          },
          "hovermode": "closest",
          "mapbox": {
           "style": "dark"
          },
          "paper_bgcolor": "rgb(17,17,17)",
          "plot_bgcolor": "rgb(17,17,17)",
          "polar": {
           "angularaxis": {
            "gridcolor": "#506784",
            "linecolor": "#506784",
            "ticks": ""
           },
           "bgcolor": "rgb(17,17,17)",
           "radialaxis": {
            "gridcolor": "#506784",
            "linecolor": "#506784",
            "ticks": ""
           }
          },
          "scene": {
           "xaxis": {
            "backgroundcolor": "rgb(17,17,17)",
            "gridcolor": "#506784",
            "gridwidth": 2,
            "linecolor": "#506784",
            "showbackground": true,
            "ticks": "",
            "zerolinecolor": "#C8D4E3"
           },
           "yaxis": {
            "backgroundcolor": "rgb(17,17,17)",
            "gridcolor": "#506784",
            "gridwidth": 2,
            "linecolor": "#506784",
            "showbackground": true,
            "ticks": "",
            "zerolinecolor": "#C8D4E3"
           },
           "zaxis": {
            "backgroundcolor": "rgb(17,17,17)",
            "gridcolor": "#506784",
            "gridwidth": 2,
            "linecolor": "#506784",
            "showbackground": true,
            "ticks": "",
            "zerolinecolor": "#C8D4E3"
           }
          },
          "shapedefaults": {
           "line": {
            "color": "#f2f5fa"
           }
          },
          "showlegend": true,
          "sliderdefaults": {
           "bgcolor": "#C8D4E3",
           "bordercolor": "rgb(17,17,17)",
           "borderwidth": 1,
           "tickwidth": 0
          },
          "ternary": {
           "aaxis": {
            "gridcolor": "#506784",
            "linecolor": "#506784",
            "ticks": ""
           },
           "baxis": {
            "gridcolor": "#506784",
            "linecolor": "#506784",
            "ticks": ""
           },
           "bgcolor": "rgb(17,17,17)",
           "caxis": {
            "gridcolor": "#506784",
            "linecolor": "#506784",
            "ticks": ""
           }
          },
          "title": {
           "x": 0.05
          },
          "updatemenudefaults": {
           "bgcolor": "#506784",
           "borderwidth": 0
          },
          "width": 1000,
          "xaxis": {
           "automargin": true,
           "gridcolor": "#283442",
           "linecolor": "#506784",
           "ticks": "",
           "title": {
            "standoff": 15
           },
           "zerolinecolor": "#283442",
           "zerolinewidth": 2
          },
          "yaxis": {
           "automargin": true,
           "gridcolor": "#283442",
           "linecolor": "#506784",
           "ticks": "",
           "title": {
            "standoff": 15
           },
           "zerolinecolor": "#283442",
           "zerolinewidth": 2
          }
         }
        },
        "xaxis": {
         "anchor": "y",
         "domain": [
          0,
          0.49
         ],
         "title": {
          "text": "index"
         }
        },
        "xaxis2": {
         "anchor": "y2",
         "domain": [
          0.51,
          1
         ],
         "matches": "x",
         "title": {
          "text": "index"
         }
        },
        "yaxis": {
         "anchor": "x",
         "domain": [
          0,
          1
         ],
         "title": {
          "text": "value"
         }
        },
        "yaxis2": {
         "anchor": "x2",
         "domain": [
          0,
          1
         ],
         "showticklabels": false
        }
       }
      }
     },
     "metadata": {},
     "output_type": "display_data"
    }
   ],
   "source": [
    "fig = df.plot(facet_col='variable')\n",
    "fig.update_yaxes(matches=None)"
   ]
  },
  {
   "cell_type": "code",
   "execution_count": 15,
   "id": "e776168a",
   "metadata": {},
   "outputs": [],
   "source": [
    "from statsmodels.tsa.stattools import adfuller"
   ]
  },
  {
   "cell_type": "markdown",
   "id": "ea356060",
   "metadata": {},
   "source": [
    "$$\n",
    "\\begin{cases}\n",
    "H_0: \\text{The series has a unit root (non-stationary)} \\\\\n",
    "H_1: \\text{The series is stationary}\n",
    "\\end{cases}\n",
    "$$"
   ]
  },
  {
   "cell_type": "code",
   "execution_count": 16,
   "id": "5e117613",
   "metadata": {},
   "outputs": [
    {
     "data": {
      "text/plain": [
       "(np.float64(-1.8549921957299633),\n",
       " np.float64(0.35352116777129644),\n",
       " 12,\n",
       " 130,\n",
       " {'1%': np.float64(-3.4816817173418295),\n",
       "  '5%': np.float64(-2.8840418343195267),\n",
       "  '10%': np.float64(-2.578770059171598)},\n",
       " np.float64(-440.29474279152817))"
      ]
     },
     "execution_count": 16,
     "metadata": {},
     "output_type": "execute_result"
    }
   ],
   "source": [
    "adfuller(df['values'], maxlag=12)"
   ]
  },
  {
   "cell_type": "code",
   "execution_count": 17,
   "id": "1b76e843",
   "metadata": {},
   "outputs": [
    {
     "data": {
      "text/plain": [
       "(np.float64(-3.0530320109154414),\n",
       " np.float64(0.030229987648698397),\n",
       " 12,\n",
       " 130,\n",
       " {'1%': np.float64(-3.4816817173418295),\n",
       "  '5%': np.float64(-2.8840418343195267),\n",
       "  '10%': np.float64(-2.578770059171598)},\n",
       " np.float64(-448.718127711991))"
      ]
     },
     "execution_count": 17,
     "metadata": {},
     "output_type": "execute_result"
    }
   ],
   "source": [
    "adfuller(df['values_diff'], maxlag=12)"
   ]
  },
  {
   "cell_type": "markdown",
   "id": "e330e166",
   "metadata": {},
   "source": [
    "### `p`: PACF – Partial Autocorrelation Function\n",
    "\n",
    "* PACF is the **partial autocorrelation** of the series.\n",
    "* It measures the correlation of the series with its past values, **controlling for the influence of intermediate lags**.\n",
    "* Use PACF to determine the **AR (AutoRegressive)** component **`p`** in ARIMA."
   ]
  },
  {
   "cell_type": "code",
   "execution_count": 18,
   "id": "7fee8b2d",
   "metadata": {},
   "outputs": [
    {
     "data": {
      "image/png": "[encoded data removed]",
      "text/plain": [
       "<Figure size 640x480 with 1 Axes>"
      ]
     },
     "execution_count": 18,
     "metadata": {},
     "output_type": "execute_result"
    },
    {
     "data": {
      "image/png": "[encoded data removed]",
      "text/plain": [
       "<Figure size 640x480 with 1 Axes>"
      ]
     },
     "metadata": {},
     "output_type": "display_data"
    }
   ],
   "source": [
    "from statsmodels.graphics.tsaplots import plot_pacf\n",
    "plot_pacf(df['values_diff'])"
   ]
  },
  {
   "cell_type": "markdown",
   "id": "b60f1308",
   "metadata": {},
   "source": [
    "### `q`: ACF – Autocorrelation Function\n",
    "\n",
    "* ACF is the **autocorrelation** of the series.\n",
    "* It measures the correlation of the series with its past values **without controlling** for intermediate lags.\n",
    "* Use ACF to determine the **MA (Moving Average)** component **`q`** in ARIMA."
   ]
  },
  {
   "cell_type": "code",
   "execution_count": 19,
   "id": "41f3ab8d",
   "metadata": {},
   "outputs": [
    {
     "data": {
      "image/png": "[encoded data removed]",
      "text/plain": [
       "<Figure size 640x480 with 1 Axes>"
      ]
     },
     "execution_count": 19,
     "metadata": {},
     "output_type": "execute_result"
    },
    {
     "data": {
      "image/png": "[encoded data removed]",
      "text/plain": [
       "<Figure size 640x480 with 1 Axes>"
      ]
     },
     "metadata": {},
     "output_type": "display_data"
    }
   ],
   "source": [
    "from statsmodels.graphics.tsaplots import plot_acf\n",
    "plot_acf(df['values_diff'])"
   ]
  },
  {
   "cell_type": "markdown",
   "id": "bb0388a1",
   "metadata": {},
   "source": [
    "## Variation playground"
   ]
  },
  {
   "cell_type": "code",
   "execution_count": 20,
   "id": "67362e71",
   "metadata": {},
   "outputs": [],
   "source": [
    "from modules import utils"
   ]
  },
  {
   "cell_type": "code",
   "execution_count": 21,
   "id": "a31d95e3",
   "metadata": {},
   "outputs": [
    {
     "name": "stderr",
     "output_type": "stream",
     "text": [
      "/Users/sota/miniforge3/envs/work/lib/python3.13/site-packages/statsmodels/base/model.py:607: ConvergenceWarning:\n",
      "\n",
      "Maximum Likelihood optimization failed to converge. Check mle_retvals\n",
      "\n"
     ]
    },
    {
     "data": {
      "text/html": [
       "<div>\n",
       "<style scoped>\n",
       "    .dataframe tbody tr th:only-of-type {\n",
       "        vertical-align: middle;\n",
       "    }\n",
       "\n",
       "    .dataframe tbody tr th {\n",
       "        vertical-align: top;\n",
       "    }\n",
       "\n",
       "    .dataframe thead th {\n",
       "        text-align: right;\n",
       "    }\n",
       "</style>\n",
       "<table border=\"1\" class=\"dataframe\">\n",
       "  <thead>\n",
       "    <tr style=\"text-align: right;\">\n",
       "      <th></th>\n",
       "      <th>values</th>\n",
       "      <th>ARIMA(12,1,2)</th>\n",
       "    </tr>\n",
       "  </thead>\n",
       "  <tbody>\n",
       "    <tr>\n",
       "      <th>1949-02-28</th>\n",
       "      <td>4.770685</td>\n",
       "      <td>NaN</td>\n",
       "    </tr>\n",
       "    <tr>\n",
       "      <th>1949-03-31</th>\n",
       "      <td>4.882802</td>\n",
       "      <td>NaN</td>\n",
       "    </tr>\n",
       "    <tr>\n",
       "      <th>...</th>\n",
       "      <td>...</td>\n",
       "      <td>...</td>\n",
       "    </tr>\n",
       "    <tr>\n",
       "      <th>1964-11-30</th>\n",
       "      <td>NaN</td>\n",
       "      <td>6.164890</td>\n",
       "    </tr>\n",
       "    <tr>\n",
       "      <th>1964-12-31</th>\n",
       "      <td>NaN</td>\n",
       "      <td>6.210199</td>\n",
       "    </tr>\n",
       "  </tbody>\n",
       "</table>\n",
       "<p>191 rows × 2 columns</p>\n",
       "</div>"
      ],
      "text/plain": [
       "              values  ARIMA(12,1,2)\n",
       "1949-02-28  4.770685            NaN\n",
       "1949-03-31  4.882802            NaN\n",
       "...              ...            ...\n",
       "1964-11-30       NaN       6.164890\n",
       "1964-12-31       NaN       6.210199\n",
       "\n",
       "[191 rows x 2 columns]"
      ]
     },
     "execution_count": 21,
     "metadata": {},
     "output_type": "execute_result"
    }
   ],
   "source": [
    "df = df[['values']]\n",
    "df_forecast = utils.get_model_forecast(df, 'values', order=(12, 1, 2))\n",
    "df_forecast"
   ]
  },
  {
   "cell_type": "code",
   "execution_count": 22,
   "id": "1f2bf1ec",
   "metadata": {},
   "outputs": [
    {
     "data": {
      "application/vnd.plotly.v1+json": {
       "config": {
        "plotlyServerURL": "https://plot.ly"
       },
       "data": [
        {
         "hovertemplate": "variable=values<br>index=%{x}<br>value=%{y}<extra></extra>",
         "legendgroup": "values",
         "line": {
          "color": "#636efa",
          "dash": "solid"
         },
         "marker": {
          "symbol": "circle"
         },
         "mode": "lines",
         "name": "values",
         "orientation": "v",
         "showlegend": true,
         "type": "scatter",
         "x": [
          "1949-02-28T00:00:00",
          "1949-03-31T00:00:00",
          "1949-04-30T00:00:00",
          "1949-05-31T00:00:00",
          "1949-06-30T00:00:00",
          "1949-07-31T00:00:00",
          "1949-08-31T00:00:00",
          "1949-09-30T00:00:00",
          "1949-10-31T00:00:00",
          "1949-11-30T00:00:00",
          "1949-12-31T00:00:00",
          "1950-01-31T00:00:00",
          "1950-02-28T00:00:00",
          "1950-03-31T00:00:00",
          "1950-04-30T00:00:00",
          "1950-05-31T00:00:00",
          "1950-06-30T00:00:00",
          "1950-07-31T00:00:00",
          "1950-08-31T00:00:00",
          "1950-09-30T00:00:00",
          "1950-10-31T00:00:00",
          "1950-11-30T00:00:00",
          "1950-12-31T00:00:00",
          "1951-01-31T00:00:00",
          "1951-02-28T00:00:00",
          "1951-03-31T00:00:00",
          "1951-04-30T00:00:00",
          "1951-05-31T00:00:00",
          "1951-06-30T00:00:00",
          "1951-07-31T00:00:00",
          "1951-08-31T00:00:00",
          "1951-09-30T00:00:00",
          "1951-10-31T00:00:00",
          "1951-11-30T00:00:00",
          "1951-12-31T00:00:00",
          "1952-01-31T00:00:00",
          "1952-02-29T00:00:00",
          "1952-03-31T00:00:00",
          "1952-04-30T00:00:00",
          "1952-05-31T00:00:00",
          "1952-06-30T00:00:00",
          "1952-07-31T00:00:00",
          "1952-08-31T00:00:00",
          "1952-09-30T00:00:00",
          "1952-10-31T00:00:00",
          "1952-11-30T00:00:00",
          "1952-12-31T00:00:00",
          "1953-01-31T00:00:00",
          "1953-02-28T00:00:00",
          "1953-03-31T00:00:00",
          "1953-04-30T00:00:00",
          "1953-05-31T00:00:00",
          "1953-06-30T00:00:00",
          "1953-07-31T00:00:00",
          "1953-08-31T00:00:00",
          "1953-09-30T00:00:00",
          "1953-10-31T00:00:00",
          "1953-11-30T00:00:00",
          "1953-12-31T00:00:00",
          "1954-01-31T00:00:00",
          "1954-02-28T00:00:00",
          "1954-03-31T00:00:00",
          "1954-04-30T00:00:00",
          "1954-05-31T00:00:00",
          "1954-06-30T00:00:00",
          "1954-07-31T00:00:00",
          "1954-08-31T00:00:00",
          "1954-09-30T00:00:00",
          "1954-10-31T00:00:00",
          "1954-11-30T00:00:00",
          "1954-12-31T00:00:00",
          "1955-01-31T00:00:00",
          "1955-02-28T00:00:00",
          "1955-03-31T00:00:00",
          "1955-04-30T00:00:00",
          "1955-05-31T00:00:00",
          "1955-06-30T00:00:00",
          "1955-07-31T00:00:00",
          "1955-08-31T00:00:00",
          "1955-09-30T00:00:00",
          "1955-10-31T00:00:00",
          "1955-11-30T00:00:00",
          "1955-12-31T00:00:00",
          "1956-01-31T00:00:00",
          "1956-02-29T00:00:00",
          "1956-03-31T00:00:00",
          "1956-04-30T00:00:00",
          "1956-05-31T00:00:00",
          "1956-06-30T00:00:00",
          "1956-07-31T00:00:00",
          "1956-08-31T00:00:00",
          "1956-09-30T00:00:00",
          "1956-10-31T00:00:00",
          "1956-11-30T00:00:00",
          "1956-12-31T00:00:00",
          "1957-01-31T00:00:00",
          "1957-02-28T00:00:00",
          "1957-03-31T00:00:00",
          "1957-04-30T00:00:00",
          "1957-05-31T00:00:00",
          "1957-06-30T00:00:00",
          "1957-07-31T00:00:00",
          "1957-08-31T00:00:00",
          "1957-09-30T00:00:00",
          "1957-10-31T00:00:00",
          "1957-11-30T00:00:00",
          "1957-12-31T00:00:00",
          "1958-01-31T00:00:00",
          "1958-02-28T00:00:00",
          "1958-03-31T00:00:00",
          "1958-04-30T00:00:00",
          "1958-05-31T00:00:00",
          "1958-06-30T00:00:00",
          "1958-07-31T00:00:00",
          "1958-08-31T00:00:00",
          "1958-09-30T00:00:00",
          "1958-10-31T00:00:00",
          "1958-11-30T00:00:00",
          "1958-12-31T00:00:00",
          "1959-01-31T00:00:00",
          "1959-02-28T00:00:00",
          "1959-03-31T00:00:00",
          "1959-04-30T00:00:00",
          "1959-05-31T00:00:00",
          "1959-06-30T00:00:00",
          "1959-07-31T00:00:00",
          "1959-08-31T00:00:00",
          "1959-09-30T00:00:00",
          "1959-10-31T00:00:00",
          "1959-11-30T00:00:00",
          "1959-12-31T00:00:00",
          "1960-01-31T00:00:00",
          "1960-02-29T00:00:00",
          "1960-03-31T00:00:00",
          "1960-04-30T00:00:00",
          "1960-05-31T00:00:00",
          "1960-06-30T00:00:00",
          "1960-07-31T00:00:00",
          "1960-08-31T00:00:00",
          "1960-09-30T00:00:00",
          "1960-10-31T00:00:00",
          "1960-11-30T00:00:00",
          "1960-12-31T00:00:00",
          "1961-01-31T00:00:00",
          "1961-02-28T00:00:00",
          "1961-03-31T00:00:00",
          "1961-04-30T00:00:00",
          "1961-05-31T00:00:00",
          "1961-06-30T00:00:00",
          "1961-07-31T00:00:00",
          "1961-08-31T00:00:00",
          "1961-09-30T00:00:00",
          "1961-10-31T00:00:00",
          "1961-11-30T00:00:00",
          "1961-12-31T00:00:00",
          "1962-01-31T00:00:00",
          "1962-02-28T00:00:00",
          "1962-03-31T00:00:00",
          "1962-04-30T00:00:00",
          "1962-05-31T00:00:00",
          "1962-06-30T00:00:00",
          "1962-07-31T00:00:00",
          "1962-08-31T00:00:00",
          "1962-09-30T00:00:00",
          "1962-10-31T00:00:00",
          "1962-11-30T00:00:00",
          "1962-12-31T00:00:00",
          "1963-01-31T00:00:00",
          "1963-02-28T00:00:00",
          "1963-03-31T00:00:00",
          "1963-04-30T00:00:00",
          "1963-05-31T00:00:00",
          "1963-06-30T00:00:00",
          "1963-07-31T00:00:00",
          "1963-08-31T00:00:00",
          "1963-09-30T00:00:00",
          "1963-10-31T00:00:00",
          "1963-11-30T00:00:00",
          "1963-12-31T00:00:00",
          "1964-01-31T00:00:00",
          "1964-02-29T00:00:00",
          "1964-03-31T00:00:00",
          "1964-04-30T00:00:00",
          "1964-05-31T00:00:00",
          "1964-06-30T00:00:00",
          "1964-07-31T00:00:00",
          "1964-08-31T00:00:00",
          "1964-09-30T00:00:00",
          "1964-10-31T00:00:00",
          "1964-11-30T00:00:00",
          "1964-12-31T00:00:00"
         ],
         "xaxis": "x",
         "y": [
          4.770684624465665,
          4.882801922586371,
          4.859812404361672,
          4.795790545596741,
          4.90527477843843,
          4.997212273764115,
          4.997212273764115,
          4.912654885736052,
          4.77912349311153,
          4.6443908991413725,
          4.770684624465665,
          4.74493212836325,
          4.836281906951478,
          4.948759890378168,
          4.90527477843843,
          4.8283137373023015,
          5.003946305945459,
          5.135798437050262,
          5.135798437050262,
          5.062595033026967,
          4.890349128221754,
          4.736198448394496,
          4.941642422609304,
          4.976733742420574,
          5.0106352940962555,
          5.181783550292085,
          5.093750200806762,
          5.147494476813453,
          5.181783550292085,
          5.293304824724492,
          5.293304824724492,
          5.214935757608986,
          5.087596335232384,
          4.983606621708336,
          5.111987788356544,
          5.14166355650266,
          5.19295685089021,
          5.262690188904886,
          5.198497031265826,
          5.209486152841421,
          5.384495062789089,
          5.438079308923196,
          5.488937726156687,
          5.342334251964811,
          5.25227342804663,
          5.147494476813453,
          5.267858159063328,
          5.278114659230517,
          5.278114659230517,
          5.4638318050256105,
          5.459585514144159,
          5.43372200355424,
          5.493061443340548,
          5.575949103146316,
          5.605802066295998,
          5.4680601411351315,
          5.351858133476067,
          5.19295685089021,
          5.303304908059076,
          5.318119993844216,
          5.236441962829949,
          5.459585514144159,
          5.424950017481403,
          5.455321115357702,
          5.575949103146316,
          5.71042701737487,
          5.680172609017068,
          5.556828061699537,
          5.43372200355424,
          5.313205979041787,
          5.43372200355424,
          5.488937726156687,
          5.4510384535657,
          5.58724865840025,
          5.594711379601839,
          5.598421958998375,
          5.752572638825633,
          5.8971538676367405,
          5.849324779946859,
          5.7430031878094825,
          5.6131281063880705,
          5.4680601411351315,
          5.627621113690637,
          5.648974238161206,
          5.6240175061873385,
          5.75890177387728,
          5.746203190540153,
          5.762051382780177,
          5.924255797414532,
          6.023447592961033,
          6.003887067106539,
          5.872117789475416,
          5.723585101952381,
          5.602118820879701,
          5.723585101952381,
          5.752572638825633,
          5.707110264748875,
          5.87493073085203,
          5.8522024797744745,
          5.872117789475416,
          6.045005314036012,
          6.142037405587356,
          6.1463292576688975,
          6.0014148779611505,
          5.849324779946859,
          5.720311776607412,
          5.817111159963204,
          5.8289456176102075,
          5.762051382780177,
          5.8916442118257715,
          5.8522024797744745,
          5.8944028342648505,
          6.075346031088684,
          6.19644412779452,
          6.22455842927536,
          6.0014148779611505,
          5.883322388488279,
          5.736572297479192,
          5.820082930352362,
          5.886104031450156,
          5.834810737062605,
          6.0063531596017325,
          5.981414211254481,
          6.040254711277414,
          6.156978985585555,
          6.306275286948016,
          6.326149473155099,
          6.137727054086234,
          6.008813185442595,
          5.8916442118257715,
          6.003887067106539,
          6.0330862217988015,
          5.968707559985366,
          6.037870919922137,
          6.133398042996649,
          6.156978985585555,
          6.282266746896006,
          6.432940092739179,
          6.406879986069314,
          6.230481447578482,
          6.133398042996649,
          5.966146739123692,
          6.068425588244111,
          null,
          null,
          null,
          null,
          null,
          null,
          null,
          null,
          null,
          null,
          null,
          null,
          null,
          null,
          null,
          null,
          null,
          null,
          null,
          null,
          null,
          null,
          null,
          null,
          null,
          null,
          null,
          null,
          null,
          null,
          null,
          null,
          null,
          null,
          null,
          null,
          null,
          null,
          null,
          null,
          null,
          null,
          null,
          null,
          null,
          null,
          null,
          null
         ],
         "yaxis": "y"
        },
        {
         "hovertemplate": "variable=ARIMA(12,1,2)<br>index=%{x}<br>value=%{y}<extra></extra>",
         "legendgroup": "ARIMA(12,1,2)",
         "line": {
          "color": "#EF553B",
          "dash": "solid"
         },
         "marker": {
          "symbol": "circle"
         },
         "mode": "lines",
         "name": "ARIMA(12,1,2)",
         "orientation": "v",
         "showlegend": true,
         "type": "scatter",
         "x": [
          "1949-02-28T00:00:00",
          "1949-03-31T00:00:00",
          "1949-04-30T00:00:00",
          "1949-05-31T00:00:00",
          "1949-06-30T00:00:00",
          "1949-07-31T00:00:00",
          "1949-08-31T00:00:00",
          "1949-09-30T00:00:00",
          "1949-10-31T00:00:00",
          "1949-11-30T00:00:00",
          "1949-12-31T00:00:00",
          "1950-01-31T00:00:00",
          "1950-02-28T00:00:00",
          "1950-03-31T00:00:00",
          "1950-04-30T00:00:00",
          "1950-05-31T00:00:00",
          "1950-06-30T00:00:00",
          "1950-07-31T00:00:00",
          "1950-08-31T00:00:00",
          "1950-09-30T00:00:00",
          "1950-10-31T00:00:00",
          "1950-11-30T00:00:00",
          "1950-12-31T00:00:00",
          "1951-01-31T00:00:00",
          "1951-02-28T00:00:00",
          "1951-03-31T00:00:00",
          "1951-04-30T00:00:00",
          "1951-05-31T00:00:00",
          "1951-06-30T00:00:00",
          "1951-07-31T00:00:00",
          "1951-08-31T00:00:00",
          "1951-09-30T00:00:00",
          "1951-10-31T00:00:00",
          "1951-11-30T00:00:00",
          "1951-12-31T00:00:00",
          "1952-01-31T00:00:00",
          "1952-02-29T00:00:00",
          "1952-03-31T00:00:00",
          "1952-04-30T00:00:00",
          "1952-05-31T00:00:00",
          "1952-06-30T00:00:00",
          "1952-07-31T00:00:00",
          "1952-08-31T00:00:00",
          "1952-09-30T00:00:00",
          "1952-10-31T00:00:00",
          "1952-11-30T00:00:00",
          "1952-12-31T00:00:00",
          "1953-01-31T00:00:00",
          "1953-02-28T00:00:00",
          "1953-03-31T00:00:00",
          "1953-04-30T00:00:00",
          "1953-05-31T00:00:00",
          "1953-06-30T00:00:00",
          "1953-07-31T00:00:00",
          "1953-08-31T00:00:00",
          "1953-09-30T00:00:00",
          "1953-10-31T00:00:00",
          "1953-11-30T00:00:00",
          "1953-12-31T00:00:00",
          "1954-01-31T00:00:00",
          "1954-02-28T00:00:00",
          "1954-03-31T00:00:00",
          "1954-04-30T00:00:00",
          "1954-05-31T00:00:00",
          "1954-06-30T00:00:00",
          "1954-07-31T00:00:00",
          "1954-08-31T00:00:00",
          "1954-09-30T00:00:00",
          "1954-10-31T00:00:00",
          "1954-11-30T00:00:00",
          "1954-12-31T00:00:00",
          "1955-01-31T00:00:00",
          "1955-02-28T00:00:00",
          "1955-03-31T00:00:00",
          "1955-04-30T00:00:00",
          "1955-05-31T00:00:00",
          "1955-06-30T00:00:00",
          "1955-07-31T00:00:00",
          "1955-08-31T00:00:00",
          "1955-09-30T00:00:00",
          "1955-10-31T00:00:00",
          "1955-11-30T00:00:00",
          "1955-12-31T00:00:00",
          "1956-01-31T00:00:00",
          "1956-02-29T00:00:00",
          "1956-03-31T00:00:00",
          "1956-04-30T00:00:00",
          "1956-05-31T00:00:00",
          "1956-06-30T00:00:00",
          "1956-07-31T00:00:00",
          "1956-08-31T00:00:00",
          "1956-09-30T00:00:00",
          "1956-10-31T00:00:00",
          "1956-11-30T00:00:00",
          "1956-12-31T00:00:00",
          "1957-01-31T00:00:00",
          "1957-02-28T00:00:00",
          "1957-03-31T00:00:00",
          "1957-04-30T00:00:00",
          "1957-05-31T00:00:00",
          "1957-06-30T00:00:00",
          "1957-07-31T00:00:00",
          "1957-08-31T00:00:00",
          "1957-09-30T00:00:00",
          "1957-10-31T00:00:00",
          "1957-11-30T00:00:00",
          "1957-12-31T00:00:00",
          "1958-01-31T00:00:00",
          "1958-02-28T00:00:00",
          "1958-03-31T00:00:00",
          "1958-04-30T00:00:00",
          "1958-05-31T00:00:00",
          "1958-06-30T00:00:00",
          "1958-07-31T00:00:00",
          "1958-08-31T00:00:00",
          "1958-09-30T00:00:00",
          "1958-10-31T00:00:00",
          "1958-11-30T00:00:00",
          "1958-12-31T00:00:00",
          "1959-01-31T00:00:00",
          "1959-02-28T00:00:00",
          "1959-03-31T00:00:00",
          "1959-04-30T00:00:00",
          "1959-05-31T00:00:00",
          "1959-06-30T00:00:00",
          "1959-07-31T00:00:00",
          "1959-08-31T00:00:00",
          "1959-09-30T00:00:00",
          "1959-10-31T00:00:00",
          "1959-11-30T00:00:00",
          "1959-12-31T00:00:00",
          "1960-01-31T00:00:00",
          "1960-02-29T00:00:00",
          "1960-03-31T00:00:00",
          "1960-04-30T00:00:00",
          "1960-05-31T00:00:00",
          "1960-06-30T00:00:00",
          "1960-07-31T00:00:00",
          "1960-08-31T00:00:00",
          "1960-09-30T00:00:00",
          "1960-10-31T00:00:00",
          "1960-11-30T00:00:00",
          "1960-12-31T00:00:00",
          "1961-01-31T00:00:00",
          "1961-02-28T00:00:00",
          "1961-03-31T00:00:00",
          "1961-04-30T00:00:00",
          "1961-05-31T00:00:00",
          "1961-06-30T00:00:00",
          "1961-07-31T00:00:00",
          "1961-08-31T00:00:00",
          "1961-09-30T00:00:00",
          "1961-10-31T00:00:00",
          "1961-11-30T00:00:00",
          "1961-12-31T00:00:00",
          "1962-01-31T00:00:00",
          "1962-02-28T00:00:00",
          "1962-03-31T00:00:00",
          "1962-04-30T00:00:00",
          "1962-05-31T00:00:00",
          "1962-06-30T00:00:00",
          "1962-07-31T00:00:00",
          "1962-08-31T00:00:00",
          "1962-09-30T00:00:00",
          "1962-10-31T00:00:00",
          "1962-11-30T00:00:00",
          "1962-12-31T00:00:00",
          "1963-01-31T00:00:00",
          "1963-02-28T00:00:00",
          "1963-03-31T00:00:00",
          "1963-04-30T00:00:00",
          "1963-05-31T00:00:00",
          "1963-06-30T00:00:00",
          "1963-07-31T00:00:00",
          "1963-08-31T00:00:00",
          "1963-09-30T00:00:00",
          "1963-10-31T00:00:00",
          "1963-11-30T00:00:00",
          "1963-12-31T00:00:00",
          "1964-01-31T00:00:00",
          "1964-02-29T00:00:00",
          "1964-03-31T00:00:00",
          "1964-04-30T00:00:00",
          "1964-05-31T00:00:00",
          "1964-06-30T00:00:00",
          "1964-07-31T00:00:00",
          "1964-08-31T00:00:00",
          "1964-09-30T00:00:00",
          "1964-10-31T00:00:00",
          "1964-11-30T00:00:00",
          "1964-12-31T00:00:00"
         ],
         "xaxis": "x",
         "y": [
          null,
          null,
          null,
          null,
          null,
          null,
          null,
          null,
          null,
          null,
          null,
          null,
          null,
          null,
          null,
          null,
          null,
          null,
          null,
          null,
          null,
          null,
          null,
          null,
          null,
          null,
          null,
          null,
          null,
          null,
          null,
          null,
          null,
          null,
          null,
          null,
          null,
          null,
          null,
          null,
          null,
          null,
          null,
          null,
          null,
          null,
          null,
          null,
          null,
          null,
          null,
          null,
          null,
          null,
          null,
          null,
          null,
          null,
          null,
          null,
          null,
          null,
          null,
          null,
          null,
          null,
          null,
          null,
          null,
          null,
          null,
          null,
          null,
          null,
          null,
          null,
          null,
          null,
          null,
          null,
          null,
          null,
          null,
          null,
          null,
          null,
          null,
          null,
          null,
          null,
          null,
          null,
          null,
          null,
          null,
          null,
          null,
          null,
          null,
          null,
          null,
          null,
          null,
          null,
          null,
          null,
          null,
          null,
          null,
          null,
          null,
          null,
          null,
          null,
          null,
          null,
          null,
          null,
          null,
          null,
          null,
          null,
          null,
          null,
          null,
          null,
          null,
          null,
          null,
          null,
          null,
          null,
          null,
          null,
          null,
          null,
          null,
          null,
          null,
          null,
          null,
          null,
          null,
          6.112941399761889,
          6.037781660501659,
          6.094657569797143,
          6.18302962960732,
          6.230467923953498,
          6.343804038714451,
          6.487701047476186,
          6.44959266457418,
          6.295661124616015,
          6.189647690523548,
          6.034682502561228,
          6.119029833335185,
          6.168819284219892,
          6.0916041194674095,
          6.133605892278531,
          6.219089588644121,
          6.282609569663982,
          6.391599436821397,
          6.525265629119939,
          6.479896520890906,
          6.341737305920763,
          6.233827946805549,
          6.0878646713279325,
          6.157697669533331,
          6.208241525340643,
          6.132822028662701,
          6.1607700307199575,
          6.244624546757321,
          6.31976278390108,
          6.4281203340550235,
          6.551039345343446,
          6.500684865342419,
          6.374321403366183,
          6.268347201713632,
          6.130269641154622,
          6.187297645061353,
          6.235989764979113,
          6.163998355938423,
          6.1799666067732515,
          6.262353438124405,
          6.346197474755861,
          6.4556486166056475,
          6.568522661277244,
          6.5144388467903305,
          6.397249964636891,
          6.295324721439135,
          6.164890226019541,
          6.210199132860264
         ],
         "yaxis": "y"
        }
       ],
       "layout": {
        "legend": {
         "title": {
          "text": "variable"
         },
         "tracegroupgap": 0
        },
        "margin": {
         "t": 60
        },
        "template": {
         "data": {
          "bar": [
           {
            "error_x": {
             "color": "#f2f5fa"
            },
            "error_y": {
             "color": "#f2f5fa"
            },
            "marker": {
             "line": {
              "color": "rgb(17,17,17)",
              "width": 0.5
             },
             "pattern": {
              "fillmode": "overlay",
              "size": 10,
              "solidity": 0.2
             }
            },
            "type": "bar"
           }
          ],
          "barpolar": [
           {
            "marker": {
             "line": {
              "color": "rgb(17,17,17)",
              "width": 0.5
             },
             "pattern": {
              "fillmode": "overlay",
              "size": 10,
              "solidity": 0.2
             }
            },
            "type": "barpolar"
           }
          ],
          "carpet": [
           {
            "aaxis": {
             "endlinecolor": "#A2B1C6",
             "gridcolor": "#506784",
             "linecolor": "#506784",
             "minorgridcolor": "#506784",
             "startlinecolor": "#A2B1C6"
            },
            "baxis": {
             "endlinecolor": "#A2B1C6",
             "gridcolor": "#506784",
             "linecolor": "#506784",
             "minorgridcolor": "#506784",
             "startlinecolor": "#A2B1C6"
            },
            "type": "carpet"
           }
          ],
          "choropleth": [
           {
            "colorbar": {
             "outlinewidth": 0,
             "ticks": ""
            },
            "type": "choropleth"
           }
          ],
          "contour": [
           {
            "colorbar": {
             "outlinewidth": 0,
             "ticks": ""
            },
            "colorscale": [
             [
              0,
              "#0d0887"
             ],
             [
              0.1111111111111111,
              "#46039f"
             ],
             [
              0.2222222222222222,
              "#7201a8"
             ],
             [
              0.3333333333333333,
              "#9c179e"
             ],
             [
              0.4444444444444444,
              "#bd3786"
             ],
             [
              0.5555555555555556,
              "#d8576b"
             ],
             [
              0.6666666666666666,
              "#ed7953"
             ],
             [
              0.7777777777777778,
              "#fb9f3a"
             ],
             [
              0.8888888888888888,
              "#fdca26"
             ],
             [
              1,
              "#f0f921"
             ]
            ],
            "type": "contour"
           }
          ],
          "contourcarpet": [
           {
            "colorbar": {
             "outlinewidth": 0,
             "ticks": ""
            },
            "type": "contourcarpet"
           }
          ],
          "heatmap": [
           {
            "colorbar": {
             "outlinewidth": 0,
             "ticks": ""
            },
            "colorscale": [
             [
              0,
              "#0d0887"
             ],
             [
              0.1111111111111111,
              "#46039f"
             ],
             [
              0.2222222222222222,
              "#7201a8"
             ],
             [
              0.3333333333333333,
              "#9c179e"
             ],
             [
              0.4444444444444444,
              "#bd3786"
             ],
             [
              0.5555555555555556,
              "#d8576b"
             ],
             [
              0.6666666666666666,
              "#ed7953"
             ],
             [
              0.7777777777777778,
              "#fb9f3a"
             ],
             [
              0.8888888888888888,
              "#fdca26"
             ],
             [
              1,
              "#f0f921"
             ]
            ],
            "type": "heatmap"
           }
          ],
          "heatmapgl": [
           {
            "colorbar": {
             "outlinewidth": 0,
             "ticks": ""
            },
            "colorscale": [
             [
              0,
              "#0d0887"
             ],
             [
              0.1111111111111111,
              "#46039f"
             ],
             [
              0.2222222222222222,
              "#7201a8"
             ],
             [
              0.3333333333333333,
              "#9c179e"
             ],
             [
              0.4444444444444444,
              "#bd3786"
             ],
             [
              0.5555555555555556,
              "#d8576b"
             ],
             [
              0.6666666666666666,
              "#ed7953"
             ],
             [
              0.7777777777777778,
              "#fb9f3a"
             ],
             [
              0.8888888888888888,
              "#fdca26"
             ],
             [
              1,
              "#f0f921"
             ]
            ],
            "type": "heatmapgl"
           }
          ],
          "histogram": [
           {
            "marker": {
             "pattern": {
              "fillmode": "overlay",
              "size": 10,
              "solidity": 0.2
             }
            },
            "type": "histogram"
           }
          ],
          "histogram2d": [
           {
            "colorbar": {
             "outlinewidth": 0,
             "ticks": ""
            },
            "colorscale": [
             [
              0,
              "#0d0887"
             ],
             [
              0.1111111111111111,
              "#46039f"
             ],
             [
              0.2222222222222222,
              "#7201a8"
             ],
             [
              0.3333333333333333,
              "#9c179e"
             ],
             [
              0.4444444444444444,
              "#bd3786"
             ],
             [
              0.5555555555555556,
              "#d8576b"
             ],
             [
              0.6666666666666666,
              "#ed7953"
             ],
             [
              0.7777777777777778,
              "#fb9f3a"
             ],
             [
              0.8888888888888888,
              "#fdca26"
             ],
             [
              1,
              "#f0f921"
             ]
            ],
            "type": "histogram2d"
           }
          ],
          "histogram2dcontour": [
           {
            "colorbar": {
             "outlinewidth": 0,
             "ticks": ""
            },
            "colorscale": [
             [
              0,
              "#0d0887"
             ],
             [
              0.1111111111111111,
              "#46039f"
             ],
             [
              0.2222222222222222,
              "#7201a8"
             ],
             [
              0.3333333333333333,
              "#9c179e"
             ],
             [
              0.4444444444444444,
              "#bd3786"
             ],
             [
              0.5555555555555556,
              "#d8576b"
             ],
             [
              0.6666666666666666,
              "#ed7953"
             ],
             [
              0.7777777777777778,
              "#fb9f3a"
             ],
             [
              0.8888888888888888,
              "#fdca26"
             ],
             [
              1,
              "#f0f921"
             ]
            ],
            "type": "histogram2dcontour"
           }
          ],
          "mesh3d": [
           {
            "colorbar": {
             "outlinewidth": 0,
             "ticks": ""
            },
            "type": "mesh3d"
           }
          ],
          "parcoords": [
           {
            "line": {
             "colorbar": {
              "outlinewidth": 0,
              "ticks": ""
             }
            },
            "type": "parcoords"
           }
          ],
          "pie": [
           {
            "automargin": true,
            "type": "pie"
           }
          ],
          "scatter": [
           {
            "marker": {
             "line": {
              "color": "#283442"
             }
            },
            "type": "scatter"
           }
          ],
          "scatter3d": [
           {
            "line": {
             "colorbar": {
              "outlinewidth": 0,
              "ticks": ""
             }
            },
            "marker": {
             "colorbar": {
              "outlinewidth": 0,
              "ticks": ""
             }
            },
            "type": "scatter3d"
           }
          ],
          "scattercarpet": [
           {
            "marker": {
             "colorbar": {
              "outlinewidth": 0,
              "ticks": ""
             }
            },
            "type": "scattercarpet"
           }
          ],
          "scattergeo": [
           {
            "marker": {
             "colorbar": {
              "outlinewidth": 0,
              "ticks": ""
             }
            },
            "type": "scattergeo"
           }
          ],
          "scattergl": [
           {
            "marker": {
             "line": {
              "color": "#283442"
             }
            },
            "type": "scattergl"
           }
          ],
          "scattermapbox": [
           {
            "marker": {
             "colorbar": {
              "outlinewidth": 0,
              "ticks": ""
             }
            },
            "type": "scattermapbox"
           }
          ],
          "scatterpolar": [
           {
            "marker": {
             "colorbar": {
              "outlinewidth": 0,
              "ticks": ""
             }
            },
            "type": "scatterpolar"
           }
          ],
          "scatterpolargl": [
           {
            "marker": {
             "colorbar": {
              "outlinewidth": 0,
              "ticks": ""
             }
            },
            "type": "scatterpolargl"
           }
          ],
          "scatterternary": [
           {
            "marker": {
             "colorbar": {
              "outlinewidth": 0,
              "ticks": ""
             }
            },
            "type": "scatterternary"
           }
          ],
          "surface": [
           {
            "colorbar": {
             "outlinewidth": 0,
             "ticks": ""
            },
            "colorscale": [
             [
              0,
              "#0d0887"
             ],
             [
              0.1111111111111111,
              "#46039f"
             ],
             [
              0.2222222222222222,
              "#7201a8"
             ],
             [
              0.3333333333333333,
              "#9c179e"
             ],
             [
              0.4444444444444444,
              "#bd3786"
             ],
             [
              0.5555555555555556,
              "#d8576b"
             ],
             [
              0.6666666666666666,
              "#ed7953"
             ],
             [
              0.7777777777777778,
              "#fb9f3a"
             ],
             [
              0.8888888888888888,
              "#fdca26"
             ],
             [
              1,
              "#f0f921"
             ]
            ],
            "type": "surface"
           }
          ],
          "table": [
           {
            "cells": {
             "fill": {
              "color": "#506784"
             },
             "line": {
              "color": "rgb(17,17,17)"
             }
            },
            "header": {
             "fill": {
              "color": "#2a3f5f"
             },
             "line": {
              "color": "rgb(17,17,17)"
             }
            },
            "type": "table"
           }
          ]
         },
         "layout": {
          "annotationdefaults": {
           "arrowcolor": "#f2f5fa",
           "arrowhead": 0,
           "arrowwidth": 1
          },
          "autosize": false,
          "autotypenumbers": "strict",
          "coloraxis": {
           "colorbar": {
            "outlinewidth": 0,
            "ticks": ""
           }
          },
          "colorscale": {
           "diverging": [
            [
             0,
             "#8e0152"
            ],
            [
             0.1,
             "#c51b7d"
            ],
            [
             0.2,
             "#de77ae"
            ],
            [
             0.3,
             "#f1b6da"
            ],
            [
             0.4,
             "#fde0ef"
            ],
            [
             0.5,
             "#f7f7f7"
            ],
            [
             0.6,
             "#e6f5d0"
            ],
            [
             0.7,
             "#b8e186"
            ],
            [
             0.8,
             "#7fbc41"
            ],
            [
             0.9,
             "#4d9221"
            ],
            [
             1,
             "#276419"
            ]
           ],
           "sequential": [
            [
             0,
             "#0d0887"
            ],
            [
             0.1111111111111111,
             "#46039f"
            ],
            [
             0.2222222222222222,
             "#7201a8"
            ],
            [
             0.3333333333333333,
             "#9c179e"
            ],
            [
             0.4444444444444444,
             "#bd3786"
            ],
            [
             0.5555555555555556,
             "#d8576b"
            ],
            [
             0.6666666666666666,
             "#ed7953"
            ],
            [
             0.7777777777777778,
             "#fb9f3a"
            ],
            [
             0.8888888888888888,
             "#fdca26"
            ],
            [
             1,
             "#f0f921"
            ]
           ],
           "sequentialminus": [
            [
             0,
             "#0d0887"
            ],
            [
             0.1111111111111111,
             "#46039f"
            ],
            [
             0.2222222222222222,
             "#7201a8"
            ],
            [
             0.3333333333333333,
             "#9c179e"
            ],
            [
             0.4444444444444444,
             "#bd3786"
            ],
            [
             0.5555555555555556,
             "#d8576b"
            ],
            [
             0.6666666666666666,
             "#ed7953"
            ],
            [
             0.7777777777777778,
             "#fb9f3a"
            ],
            [
             0.8888888888888888,
             "#fdca26"
            ],
            [
             1,
             "#f0f921"
            ]
           ]
          },
          "colorway": [
           "#636efa",
           "#EF553B",
           "#00cc96",
           "#ab63fa",
           "#FFA15A",
           "#19d3f3",
           "#FF6692",
           "#B6E880",
           "#FF97FF",
           "#FECB52"
          ],
          "font": {
           "color": "#f2f5fa"
          },
          "geo": {
           "bgcolor": "rgb(17,17,17)",
           "lakecolor": "rgb(17,17,17)",
           "landcolor": "rgb(17,17,17)",
           "showlakes": true,
           "showland": true,
           "subunitcolor": "#506784"
          },
          "height": 500,
          "hoverlabel": {
           "align": "left"
          },
          "hovermode": "closest",
          "mapbox": {
           "style": "dark"
          },
          "paper_bgcolor": "rgb(17,17,17)",
          "plot_bgcolor": "rgb(17,17,17)",
          "polar": {
           "angularaxis": {
            "gridcolor": "#506784",
            "linecolor": "#506784",
            "ticks": ""
           },
           "bgcolor": "rgb(17,17,17)",
           "radialaxis": {
            "gridcolor": "#506784",
            "linecolor": "#506784",
            "ticks": ""
           }
          },
          "scene": {
           "xaxis": {
            "backgroundcolor": "rgb(17,17,17)",
            "gridcolor": "#506784",
            "gridwidth": 2,
            "linecolor": "#506784",
            "showbackground": true,
            "ticks": "",
            "zerolinecolor": "#C8D4E3"
           },
           "yaxis": {
            "backgroundcolor": "rgb(17,17,17)",
            "gridcolor": "#506784",
            "gridwidth": 2,
            "linecolor": "#506784",
            "showbackground": true,
            "ticks": "",
            "zerolinecolor": "#C8D4E3"
           },
           "zaxis": {
            "backgroundcolor": "rgb(17,17,17)",
            "gridcolor": "#506784",
            "gridwidth": 2,
            "linecolor": "#506784",
            "showbackground": true,
            "ticks": "",
            "zerolinecolor": "#C8D4E3"
           }
          },
          "shapedefaults": {
           "line": {
            "color": "#f2f5fa"
           }
          },
          "showlegend": true,
          "sliderdefaults": {
           "bgcolor": "#C8D4E3",
           "bordercolor": "rgb(17,17,17)",
           "borderwidth": 1,
           "tickwidth": 0
          },
          "ternary": {
           "aaxis": {
            "gridcolor": "#506784",
            "linecolor": "#506784",
            "ticks": ""
           },
           "baxis": {
            "gridcolor": "#506784",
            "linecolor": "#506784",
            "ticks": ""
           },
           "bgcolor": "rgb(17,17,17)",
           "caxis": {
            "gridcolor": "#506784",
            "linecolor": "#506784",
            "ticks": ""
           }
          },
          "title": {
           "x": 0.05
          },
          "updatemenudefaults": {
           "bgcolor": "#506784",
           "borderwidth": 0
          },
          "width": 1000,
          "xaxis": {
           "automargin": true,
           "gridcolor": "#283442",
           "linecolor": "#506784",
           "ticks": "",
           "title": {
            "standoff": 15
           },
           "zerolinecolor": "#283442",
           "zerolinewidth": 2
          },
          "yaxis": {
           "automargin": true,
           "gridcolor": "#283442",
           "linecolor": "#506784",
           "ticks": "",
           "title": {
            "standoff": 15
           },
           "zerolinecolor": "#283442",
           "zerolinewidth": 2
          }
         }
        },
        "xaxis": {
         "anchor": "y",
         "domain": [
          0,
          1
         ],
         "title": {
          "text": "index"
         }
        },
        "yaxis": {
         "anchor": "x",
         "domain": [
          0,
          1
         ],
         "title": {
          "text": "value"
         }
        }
       }
      }
     },
     "metadata": {},
     "output_type": "display_data"
    }
   ],
   "source": [
    "df_forecast.plot(color='variable')"
   ]
  },
  {
   "cell_type": "code",
   "execution_count": 23,
   "id": "f73b85d1",
   "metadata": {},
   "outputs": [
    {
     "name": "stderr",
     "output_type": "stream",
     "text": [
      "/Users/sota/miniforge3/envs/work/lib/python3.13/site-packages/statsmodels/base/model.py:607: ConvergenceWarning:\n",
      "\n",
      "Maximum Likelihood optimization failed to converge. Check mle_retvals\n",
      "\n"
     ]
    },
    {
     "data": {
      "application/vnd.plotly.v1+json": {
       "config": {
        "plotlyServerURL": "https://plot.ly"
       },
       "data": [
        {
         "hovertemplate": "variable=values<br>index=%{x}<br>value=%{y}<extra></extra>",
         "legendgroup": "values",
         "line": {
          "color": "#636efa",
          "dash": "solid"
         },
         "marker": {
          "symbol": "circle"
         },
         "mode": "lines",
         "name": "values",
         "orientation": "v",
         "showlegend": true,
         "type": "scatter",
         "x": [
          "1949-02-28T00:00:00",
          "1949-03-31T00:00:00",
          "1949-04-30T00:00:00",
          "1949-05-31T00:00:00",
          "1949-06-30T00:00:00",
          "1949-07-31T00:00:00",
          "1949-08-31T00:00:00",
          "1949-09-30T00:00:00",
          "1949-10-31T00:00:00",
          "1949-11-30T00:00:00",
          "1949-12-31T00:00:00",
          "1950-01-31T00:00:00",
          "1950-02-28T00:00:00",
          "1950-03-31T00:00:00",
          "1950-04-30T00:00:00",
          "1950-05-31T00:00:00",
          "1950-06-30T00:00:00",
          "1950-07-31T00:00:00",
          "1950-08-31T00:00:00",
          "1950-09-30T00:00:00",
          "1950-10-31T00:00:00",
          "1950-11-30T00:00:00",
          "1950-12-31T00:00:00",
          "1951-01-31T00:00:00",
          "1951-02-28T00:00:00",
          "1951-03-31T00:00:00",
          "1951-04-30T00:00:00",
          "1951-05-31T00:00:00",
          "1951-06-30T00:00:00",
          "1951-07-31T00:00:00",
          "1951-08-31T00:00:00",
          "1951-09-30T00:00:00",
          "1951-10-31T00:00:00",
          "1951-11-30T00:00:00",
          "1951-12-31T00:00:00",
          "1952-01-31T00:00:00",
          "1952-02-29T00:00:00",
          "1952-03-31T00:00:00",
          "1952-04-30T00:00:00",
          "1952-05-31T00:00:00",
          "1952-06-30T00:00:00",
          "1952-07-31T00:00:00",
          "1952-08-31T00:00:00",
          "1952-09-30T00:00:00",
          "1952-10-31T00:00:00",
          "1952-11-30T00:00:00",
          "1952-12-31T00:00:00",
          "1953-01-31T00:00:00",
          "1953-02-28T00:00:00",
          "1953-03-31T00:00:00",
          "1953-04-30T00:00:00",
          "1953-05-31T00:00:00",
          "1953-06-30T00:00:00",
          "1953-07-31T00:00:00",
          "1953-08-31T00:00:00",
          "1953-09-30T00:00:00",
          "1953-10-31T00:00:00",
          "1953-11-30T00:00:00",
          "1953-12-31T00:00:00",
          "1954-01-31T00:00:00",
          "1954-02-28T00:00:00",
          "1954-03-31T00:00:00",
          "1954-04-30T00:00:00",
          "1954-05-31T00:00:00",
          "1954-06-30T00:00:00",
          "1954-07-31T00:00:00",
          "1954-08-31T00:00:00",
          "1954-09-30T00:00:00",
          "1954-10-31T00:00:00",
          "1954-11-30T00:00:00",
          "1954-12-31T00:00:00",
          "1955-01-31T00:00:00",
          "1955-02-28T00:00:00",
          "1955-03-31T00:00:00",
          "1955-04-30T00:00:00",
          "1955-05-31T00:00:00",
          "1955-06-30T00:00:00",
          "1955-07-31T00:00:00",
          "1955-08-31T00:00:00",
          "1955-09-30T00:00:00",
          "1955-10-31T00:00:00",
          "1955-11-30T00:00:00",
          "1955-12-31T00:00:00",
          "1956-01-31T00:00:00",
          "1956-02-29T00:00:00",
          "1956-03-31T00:00:00",
          "1956-04-30T00:00:00",
          "1956-05-31T00:00:00",
          "1956-06-30T00:00:00",
          "1956-07-31T00:00:00",
          "1956-08-31T00:00:00",
          "1956-09-30T00:00:00",
          "1956-10-31T00:00:00",
          "1956-11-30T00:00:00",
          "1956-12-31T00:00:00",
          "1957-01-31T00:00:00",
          "1957-02-28T00:00:00",
          "1957-03-31T00:00:00",
          "1957-04-30T00:00:00",
          "1957-05-31T00:00:00",
          "1957-06-30T00:00:00",
          "1957-07-31T00:00:00",
          "1957-08-31T00:00:00",
          "1957-09-30T00:00:00",
          "1957-10-31T00:00:00",
          "1957-11-30T00:00:00",
          "1957-12-31T00:00:00",
          "1958-01-31T00:00:00",
          "1958-02-28T00:00:00",
          "1958-03-31T00:00:00",
          "1958-04-30T00:00:00",
          "1958-05-31T00:00:00",
          "1958-06-30T00:00:00",
          "1958-07-31T00:00:00",
          "1958-08-31T00:00:00",
          "1958-09-30T00:00:00",
          "1958-10-31T00:00:00",
          "1958-11-30T00:00:00",
          "1958-12-31T00:00:00",
          "1959-01-31T00:00:00",
          "1959-02-28T00:00:00",
          "1959-03-31T00:00:00",
          "1959-04-30T00:00:00",
          "1959-05-31T00:00:00",
          "1959-06-30T00:00:00",
          "1959-07-31T00:00:00",
          "1959-08-31T00:00:00",
          "1959-09-30T00:00:00",
          "1959-10-31T00:00:00",
          "1959-11-30T00:00:00",
          "1959-12-31T00:00:00",
          "1960-01-31T00:00:00",
          "1960-02-29T00:00:00",
          "1960-03-31T00:00:00",
          "1960-04-30T00:00:00",
          "1960-05-31T00:00:00",
          "1960-06-30T00:00:00",
          "1960-07-31T00:00:00",
          "1960-08-31T00:00:00",
          "1960-09-30T00:00:00",
          "1960-10-31T00:00:00",
          "1960-11-30T00:00:00",
          "1960-12-31T00:00:00",
          "1961-01-31T00:00:00",
          "1961-02-28T00:00:00",
          "1961-03-31T00:00:00",
          "1961-04-30T00:00:00",
          "1961-05-31T00:00:00",
          "1961-06-30T00:00:00",
          "1961-07-31T00:00:00",
          "1961-08-31T00:00:00",
          "1961-09-30T00:00:00",
          "1961-10-31T00:00:00",
          "1961-11-30T00:00:00",
          "1961-12-31T00:00:00",
          "1962-01-31T00:00:00",
          "1962-02-28T00:00:00",
          "1962-03-31T00:00:00",
          "1962-04-30T00:00:00",
          "1962-05-31T00:00:00",
          "1962-06-30T00:00:00",
          "1962-07-31T00:00:00",
          "1962-08-31T00:00:00",
          "1962-09-30T00:00:00",
          "1962-10-31T00:00:00",
          "1962-11-30T00:00:00",
          "1962-12-31T00:00:00",
          "1963-01-31T00:00:00",
          "1963-02-28T00:00:00",
          "1963-03-31T00:00:00",
          "1963-04-30T00:00:00",
          "1963-05-31T00:00:00",
          "1963-06-30T00:00:00",
          "1963-07-31T00:00:00",
          "1963-08-31T00:00:00",
          "1963-09-30T00:00:00",
          "1963-10-31T00:00:00",
          "1963-11-30T00:00:00",
          "1963-12-31T00:00:00",
          "1964-01-31T00:00:00",
          "1964-02-29T00:00:00",
          "1964-03-31T00:00:00",
          "1964-04-30T00:00:00",
          "1964-05-31T00:00:00",
          "1964-06-30T00:00:00",
          "1964-07-31T00:00:00",
          "1964-08-31T00:00:00",
          "1964-09-30T00:00:00",
          "1964-10-31T00:00:00",
          "1964-11-30T00:00:00",
          "1964-12-31T00:00:00"
         ],
         "xaxis": "x",
         "y": [
          4.770684624465665,
          4.882801922586371,
          4.859812404361672,
          4.795790545596741,
          4.90527477843843,
          4.997212273764115,
          4.997212273764115,
          4.912654885736052,
          4.77912349311153,
          4.6443908991413725,
          4.770684624465665,
          4.74493212836325,
          4.836281906951478,
          4.948759890378168,
          4.90527477843843,
          4.8283137373023015,
          5.003946305945459,
          5.135798437050262,
          5.135798437050262,
          5.062595033026967,
          4.890349128221754,
          4.736198448394496,
          4.941642422609304,
          4.976733742420574,
          5.0106352940962555,
          5.181783550292085,
          5.093750200806762,
          5.147494476813453,
          5.181783550292085,
          5.293304824724492,
          5.293304824724492,
          5.214935757608986,
          5.087596335232384,
          4.983606621708336,
          5.111987788356544,
          5.14166355650266,
          5.19295685089021,
          5.262690188904886,
          5.198497031265826,
          5.209486152841421,
          5.384495062789089,
          5.438079308923196,
          5.488937726156687,
          5.342334251964811,
          5.25227342804663,
          5.147494476813453,
          5.267858159063328,
          5.278114659230517,
          5.278114659230517,
          5.4638318050256105,
          5.459585514144159,
          5.43372200355424,
          5.493061443340548,
          5.575949103146316,
          5.605802066295998,
          5.4680601411351315,
          5.351858133476067,
          5.19295685089021,
          5.303304908059076,
          5.318119993844216,
          5.236441962829949,
          5.459585514144159,
          5.424950017481403,
          5.455321115357702,
          5.575949103146316,
          5.71042701737487,
          5.680172609017068,
          5.556828061699537,
          5.43372200355424,
          5.313205979041787,
          5.43372200355424,
          5.488937726156687,
          5.4510384535657,
          5.58724865840025,
          5.594711379601839,
          5.598421958998375,
          5.752572638825633,
          5.8971538676367405,
          5.849324779946859,
          5.7430031878094825,
          5.6131281063880705,
          5.4680601411351315,
          5.627621113690637,
          5.648974238161206,
          5.6240175061873385,
          5.75890177387728,
          5.746203190540153,
          5.762051382780177,
          5.924255797414532,
          6.023447592961033,
          6.003887067106539,
          5.872117789475416,
          5.723585101952381,
          5.602118820879701,
          5.723585101952381,
          5.752572638825633,
          5.707110264748875,
          5.87493073085203,
          5.8522024797744745,
          5.872117789475416,
          6.045005314036012,
          6.142037405587356,
          6.1463292576688975,
          6.0014148779611505,
          5.849324779946859,
          5.720311776607412,
          5.817111159963204,
          5.8289456176102075,
          5.762051382780177,
          5.8916442118257715,
          5.8522024797744745,
          5.8944028342648505,
          6.075346031088684,
          6.19644412779452,
          6.22455842927536,
          6.0014148779611505,
          5.883322388488279,
          5.736572297479192,
          5.820082930352362,
          5.886104031450156,
          5.834810737062605,
          6.0063531596017325,
          5.981414211254481,
          6.040254711277414,
          6.156978985585555,
          6.306275286948016,
          6.326149473155099,
          6.137727054086234,
          6.008813185442595,
          5.8916442118257715,
          6.003887067106539,
          6.0330862217988015,
          5.968707559985366,
          6.037870919922137,
          6.133398042996649,
          6.156978985585555,
          6.282266746896006,
          6.432940092739179,
          6.406879986069314,
          6.230481447578482,
          6.133398042996649,
          5.966146739123692,
          6.068425588244111,
          null,
          null,
          null,
          null,
          null,
          null,
          null,
          null,
          null,
          null,
          null,
          null,
          null,
          null,
          null,
          null,
          null,
          null,
          null,
          null,
          null,
          null,
          null,
          null,
          null,
          null,
          null,
          null,
          null,
          null,
          null,
          null,
          null,
          null,
          null,
          null,
          null,
          null,
          null,
          null,
          null,
          null,
          null,
          null,
          null,
          null,
          null,
          null
         ],
         "yaxis": "y"
        },
        {
         "hovertemplate": "variable=ARIMA(12,1,2)<br>index=%{x}<br>value=%{y}<extra></extra>",
         "legendgroup": "ARIMA(12,1,2)",
         "line": {
          "color": "#EF553B",
          "dash": "solid"
         },
         "marker": {
          "symbol": "circle"
         },
         "mode": "lines",
         "name": "ARIMA(12,1,2)",
         "orientation": "v",
         "showlegend": true,
         "type": "scatter",
         "x": [
          "1949-02-28T00:00:00",
          "1949-03-31T00:00:00",
          "1949-04-30T00:00:00",
          "1949-05-31T00:00:00",
          "1949-06-30T00:00:00",
          "1949-07-31T00:00:00",
          "1949-08-31T00:00:00",
          "1949-09-30T00:00:00",
          "1949-10-31T00:00:00",
          "1949-11-30T00:00:00",
          "1949-12-31T00:00:00",
          "1950-01-31T00:00:00",
          "1950-02-28T00:00:00",
          "1950-03-31T00:00:00",
          "1950-04-30T00:00:00",
          "1950-05-31T00:00:00",
          "1950-06-30T00:00:00",
          "1950-07-31T00:00:00",
          "1950-08-31T00:00:00",
          "1950-09-30T00:00:00",
          "1950-10-31T00:00:00",
          "1950-11-30T00:00:00",
          "1950-12-31T00:00:00",
          "1951-01-31T00:00:00",
          "1951-02-28T00:00:00",
          "1951-03-31T00:00:00",
          "1951-04-30T00:00:00",
          "1951-05-31T00:00:00",
          "1951-06-30T00:00:00",
          "1951-07-31T00:00:00",
          "1951-08-31T00:00:00",
          "1951-09-30T00:00:00",
          "1951-10-31T00:00:00",
          "1951-11-30T00:00:00",
          "1951-12-31T00:00:00",
          "1952-01-31T00:00:00",
          "1952-02-29T00:00:00",
          "1952-03-31T00:00:00",
          "1952-04-30T00:00:00",
          "1952-05-31T00:00:00",
          "1952-06-30T00:00:00",
          "1952-07-31T00:00:00",
          "1952-08-31T00:00:00",
          "1952-09-30T00:00:00",
          "1952-10-31T00:00:00",
          "1952-11-30T00:00:00",
          "1952-12-31T00:00:00",
          "1953-01-31T00:00:00",
          "1953-02-28T00:00:00",
          "1953-03-31T00:00:00",
          "1953-04-30T00:00:00",
          "1953-05-31T00:00:00",
          "1953-06-30T00:00:00",
          "1953-07-31T00:00:00",
          "1953-08-31T00:00:00",
          "1953-09-30T00:00:00",
          "1953-10-31T00:00:00",
          "1953-11-30T00:00:00",
          "1953-12-31T00:00:00",
          "1954-01-31T00:00:00",
          "1954-02-28T00:00:00",
          "1954-03-31T00:00:00",
          "1954-04-30T00:00:00",
          "1954-05-31T00:00:00",
          "1954-06-30T00:00:00",
          "1954-07-31T00:00:00",
          "1954-08-31T00:00:00",
          "1954-09-30T00:00:00",
          "1954-10-31T00:00:00",
          "1954-11-30T00:00:00",
          "1954-12-31T00:00:00",
          "1955-01-31T00:00:00",
          "1955-02-28T00:00:00",
          "1955-03-31T00:00:00",
          "1955-04-30T00:00:00",
          "1955-05-31T00:00:00",
          "1955-06-30T00:00:00",
          "1955-07-31T00:00:00",
          "1955-08-31T00:00:00",
          "1955-09-30T00:00:00",
          "1955-10-31T00:00:00",
          "1955-11-30T00:00:00",
          "1955-12-31T00:00:00",
          "1956-01-31T00:00:00",
          "1956-02-29T00:00:00",
          "1956-03-31T00:00:00",
          "1956-04-30T00:00:00",
          "1956-05-31T00:00:00",
          "1956-06-30T00:00:00",
          "1956-07-31T00:00:00",
          "1956-08-31T00:00:00",
          "1956-09-30T00:00:00",
          "1956-10-31T00:00:00",
          "1956-11-30T00:00:00",
          "1956-12-31T00:00:00",
          "1957-01-31T00:00:00",
          "1957-02-28T00:00:00",
          "1957-03-31T00:00:00",
          "1957-04-30T00:00:00",
          "1957-05-31T00:00:00",
          "1957-06-30T00:00:00",
          "1957-07-31T00:00:00",
          "1957-08-31T00:00:00",
          "1957-09-30T00:00:00",
          "1957-10-31T00:00:00",
          "1957-11-30T00:00:00",
          "1957-12-31T00:00:00",
          "1958-01-31T00:00:00",
          "1958-02-28T00:00:00",
          "1958-03-31T00:00:00",
          "1958-04-30T00:00:00",
          "1958-05-31T00:00:00",
          "1958-06-30T00:00:00",
          "1958-07-31T00:00:00",
          "1958-08-31T00:00:00",
          "1958-09-30T00:00:00",
          "1958-10-31T00:00:00",
          "1958-11-30T00:00:00",
          "1958-12-31T00:00:00",
          "1959-01-31T00:00:00",
          "1959-02-28T00:00:00",
          "1959-03-31T00:00:00",
          "1959-04-30T00:00:00",
          "1959-05-31T00:00:00",
          "1959-06-30T00:00:00",
          "1959-07-31T00:00:00",
          "1959-08-31T00:00:00",
          "1959-09-30T00:00:00",
          "1959-10-31T00:00:00",
          "1959-11-30T00:00:00",
          "1959-12-31T00:00:00",
          "1960-01-31T00:00:00",
          "1960-02-29T00:00:00",
          "1960-03-31T00:00:00",
          "1960-04-30T00:00:00",
          "1960-05-31T00:00:00",
          "1960-06-30T00:00:00",
          "1960-07-31T00:00:00",
          "1960-08-31T00:00:00",
          "1960-09-30T00:00:00",
          "1960-10-31T00:00:00",
          "1960-11-30T00:00:00",
          "1960-12-31T00:00:00",
          "1961-01-31T00:00:00",
          "1961-02-28T00:00:00",
          "1961-03-31T00:00:00",
          "1961-04-30T00:00:00",
          "1961-05-31T00:00:00",
          "1961-06-30T00:00:00",
          "1961-07-31T00:00:00",
          "1961-08-31T00:00:00",
          "1961-09-30T00:00:00",
          "1961-10-31T00:00:00",
          "1961-11-30T00:00:00",
          "1961-12-31T00:00:00",
          "1962-01-31T00:00:00",
          "1962-02-28T00:00:00",
          "1962-03-31T00:00:00",
          "1962-04-30T00:00:00",
          "1962-05-31T00:00:00",
          "1962-06-30T00:00:00",
          "1962-07-31T00:00:00",
          "1962-08-31T00:00:00",
          "1962-09-30T00:00:00",
          "1962-10-31T00:00:00",
          "1962-11-30T00:00:00",
          "1962-12-31T00:00:00",
          "1963-01-31T00:00:00",
          "1963-02-28T00:00:00",
          "1963-03-31T00:00:00",
          "1963-04-30T00:00:00",
          "1963-05-31T00:00:00",
          "1963-06-30T00:00:00",
          "1963-07-31T00:00:00",
          "1963-08-31T00:00:00",
          "1963-09-30T00:00:00",
          "1963-10-31T00:00:00",
          "1963-11-30T00:00:00",
          "1963-12-31T00:00:00",
          "1964-01-31T00:00:00",
          "1964-02-29T00:00:00",
          "1964-03-31T00:00:00",
          "1964-04-30T00:00:00",
          "1964-05-31T00:00:00",
          "1964-06-30T00:00:00",
          "1964-07-31T00:00:00",
          "1964-08-31T00:00:00",
          "1964-09-30T00:00:00",
          "1964-10-31T00:00:00",
          "1964-11-30T00:00:00",
          "1964-12-31T00:00:00"
         ],
         "xaxis": "x",
         "y": [
          null,
          null,
          null,
          null,
          null,
          null,
          null,
          null,
          null,
          null,
          null,
          null,
          null,
          null,
          null,
          null,
          null,
          null,
          null,
          null,
          null,
          null,
          null,
          null,
          null,
          null,
          null,
          null,
          null,
          null,
          null,
          null,
          null,
          null,
          null,
          null,
          null,
          null,
          null,
          null,
          null,
          null,
          null,
          null,
          null,
          null,
          null,
          null,
          null,
          null,
          null,
          null,
          null,
          null,
          null,
          null,
          null,
          null,
          null,
          null,
          null,
          null,
          null,
          null,
          null,
          null,
          null,
          null,
          null,
          null,
          null,
          null,
          null,
          null,
          null,
          null,
          null,
          null,
          null,
          null,
          null,
          null,
          null,
          null,
          null,
          null,
          null,
          null,
          null,
          null,
          null,
          null,
          null,
          null,
          null,
          null,
          null,
          null,
          null,
          null,
          null,
          null,
          null,
          null,
          null,
          null,
          null,
          null,
          null,
          null,
          null,
          null,
          null,
          null,
          null,
          null,
          null,
          null,
          null,
          null,
          null,
          null,
          null,
          null,
          null,
          null,
          null,
          null,
          null,
          null,
          null,
          null,
          null,
          null,
          null,
          null,
          null,
          null,
          null,
          null,
          null,
          null,
          null,
          6.112941399761889,
          6.037781660501659,
          6.094657569797143,
          6.18302962960732,
          6.230467923953498,
          6.343804038714451,
          6.487701047476186,
          6.44959266457418,
          6.295661124616015,
          6.189647690523548,
          6.034682502561228,
          6.119029833335185,
          6.168819284219892,
          6.0916041194674095,
          6.133605892278531,
          6.219089588644121,
          6.282609569663982,
          6.391599436821397,
          6.525265629119939,
          6.479896520890906,
          6.341737305920763,
          6.233827946805549,
          6.0878646713279325,
          6.157697669533331,
          6.208241525340643,
          6.132822028662701,
          6.1607700307199575,
          6.244624546757321,
          6.31976278390108,
          6.4281203340550235,
          6.551039345343446,
          6.500684865342419,
          6.374321403366183,
          6.268347201713632,
          6.130269641154622,
          6.187297645061353,
          6.235989764979113,
          6.163998355938423,
          6.1799666067732515,
          6.262353438124405,
          6.346197474755861,
          6.4556486166056475,
          6.568522661277244,
          6.5144388467903305,
          6.397249964636891,
          6.295324721439135,
          6.164890226019541,
          6.210199132860264
         ],
         "yaxis": "y"
        },
        {
         "hovertemplate": "variable=ARIMA(12,1,1)<br>index=%{x}<br>value=%{y}<extra></extra>",
         "legendgroup": "ARIMA(12,1,1)",
         "line": {
          "color": "#00cc96",
          "dash": "solid"
         },
         "marker": {
          "symbol": "circle"
         },
         "mode": "lines",
         "name": "ARIMA(12,1,1)",
         "orientation": "v",
         "showlegend": true,
         "type": "scatter",
         "x": [
          "1949-02-28T00:00:00",
          "1949-03-31T00:00:00",
          "1949-04-30T00:00:00",
          "1949-05-31T00:00:00",
          "1949-06-30T00:00:00",
          "1949-07-31T00:00:00",
          "1949-08-31T00:00:00",
          "1949-09-30T00:00:00",
          "1949-10-31T00:00:00",
          "1949-11-30T00:00:00",
          "1949-12-31T00:00:00",
          "1950-01-31T00:00:00",
          "1950-02-28T00:00:00",
          "1950-03-31T00:00:00",
          "1950-04-30T00:00:00",
          "1950-05-31T00:00:00",
          "1950-06-30T00:00:00",
          "1950-07-31T00:00:00",
          "1950-08-31T00:00:00",
          "1950-09-30T00:00:00",
          "1950-10-31T00:00:00",
          "1950-11-30T00:00:00",
          "1950-12-31T00:00:00",
          "1951-01-31T00:00:00",
          "1951-02-28T00:00:00",
          "1951-03-31T00:00:00",
          "1951-04-30T00:00:00",
          "1951-05-31T00:00:00",
          "1951-06-30T00:00:00",
          "1951-07-31T00:00:00",
          "1951-08-31T00:00:00",
          "1951-09-30T00:00:00",
          "1951-10-31T00:00:00",
          "1951-11-30T00:00:00",
          "1951-12-31T00:00:00",
          "1952-01-31T00:00:00",
          "1952-02-29T00:00:00",
          "1952-03-31T00:00:00",
          "1952-04-30T00:00:00",
          "1952-05-31T00:00:00",
          "1952-06-30T00:00:00",
          "1952-07-31T00:00:00",
          "1952-08-31T00:00:00",
          "1952-09-30T00:00:00",
          "1952-10-31T00:00:00",
          "1952-11-30T00:00:00",
          "1952-12-31T00:00:00",
          "1953-01-31T00:00:00",
          "1953-02-28T00:00:00",
          "1953-03-31T00:00:00",
          "1953-04-30T00:00:00",
          "1953-05-31T00:00:00",
          "1953-06-30T00:00:00",
          "1953-07-31T00:00:00",
          "1953-08-31T00:00:00",
          "1953-09-30T00:00:00",
          "1953-10-31T00:00:00",
          "1953-11-30T00:00:00",
          "1953-12-31T00:00:00",
          "1954-01-31T00:00:00",
          "1954-02-28T00:00:00",
          "1954-03-31T00:00:00",
          "1954-04-30T00:00:00",
          "1954-05-31T00:00:00",
          "1954-06-30T00:00:00",
          "1954-07-31T00:00:00",
          "1954-08-31T00:00:00",
          "1954-09-30T00:00:00",
          "1954-10-31T00:00:00",
          "1954-11-30T00:00:00",
          "1954-12-31T00:00:00",
          "1955-01-31T00:00:00",
          "1955-02-28T00:00:00",
          "1955-03-31T00:00:00",
          "1955-04-30T00:00:00",
          "1955-05-31T00:00:00",
          "1955-06-30T00:00:00",
          "1955-07-31T00:00:00",
          "1955-08-31T00:00:00",
          "1955-09-30T00:00:00",
          "1955-10-31T00:00:00",
          "1955-11-30T00:00:00",
          "1955-12-31T00:00:00",
          "1956-01-31T00:00:00",
          "1956-02-29T00:00:00",
          "1956-03-31T00:00:00",
          "1956-04-30T00:00:00",
          "1956-05-31T00:00:00",
          "1956-06-30T00:00:00",
          "1956-07-31T00:00:00",
          "1956-08-31T00:00:00",
          "1956-09-30T00:00:00",
          "1956-10-31T00:00:00",
          "1956-11-30T00:00:00",
          "1956-12-31T00:00:00",
          "1957-01-31T00:00:00",
          "1957-02-28T00:00:00",
          "1957-03-31T00:00:00",
          "1957-04-30T00:00:00",
          "1957-05-31T00:00:00",
          "1957-06-30T00:00:00",
          "1957-07-31T00:00:00",
          "1957-08-31T00:00:00",
          "1957-09-30T00:00:00",
          "1957-10-31T00:00:00",
          "1957-11-30T00:00:00",
          "1957-12-31T00:00:00",
          "1958-01-31T00:00:00",
          "1958-02-28T00:00:00",
          "1958-03-31T00:00:00",
          "1958-04-30T00:00:00",
          "1958-05-31T00:00:00",
          "1958-06-30T00:00:00",
          "1958-07-31T00:00:00",
          "1958-08-31T00:00:00",
          "1958-09-30T00:00:00",
          "1958-10-31T00:00:00",
          "1958-11-30T00:00:00",
          "1958-12-31T00:00:00",
          "1959-01-31T00:00:00",
          "1959-02-28T00:00:00",
          "1959-03-31T00:00:00",
          "1959-04-30T00:00:00",
          "1959-05-31T00:00:00",
          "1959-06-30T00:00:00",
          "1959-07-31T00:00:00",
          "1959-08-31T00:00:00",
          "1959-09-30T00:00:00",
          "1959-10-31T00:00:00",
          "1959-11-30T00:00:00",
          "1959-12-31T00:00:00",
          "1960-01-31T00:00:00",
          "1960-02-29T00:00:00",
          "1960-03-31T00:00:00",
          "1960-04-30T00:00:00",
          "1960-05-31T00:00:00",
          "1960-06-30T00:00:00",
          "1960-07-31T00:00:00",
          "1960-08-31T00:00:00",
          "1960-09-30T00:00:00",
          "1960-10-31T00:00:00",
          "1960-11-30T00:00:00",
          "1960-12-31T00:00:00",
          "1961-01-31T00:00:00",
          "1961-02-28T00:00:00",
          "1961-03-31T00:00:00",
          "1961-04-30T00:00:00",
          "1961-05-31T00:00:00",
          "1961-06-30T00:00:00",
          "1961-07-31T00:00:00",
          "1961-08-31T00:00:00",
          "1961-09-30T00:00:00",
          "1961-10-31T00:00:00",
          "1961-11-30T00:00:00",
          "1961-12-31T00:00:00",
          "1962-01-31T00:00:00",
          "1962-02-28T00:00:00",
          "1962-03-31T00:00:00",
          "1962-04-30T00:00:00",
          "1962-05-31T00:00:00",
          "1962-06-30T00:00:00",
          "1962-07-31T00:00:00",
          "1962-08-31T00:00:00",
          "1962-09-30T00:00:00",
          "1962-10-31T00:00:00",
          "1962-11-30T00:00:00",
          "1962-12-31T00:00:00",
          "1963-01-31T00:00:00",
          "1963-02-28T00:00:00",
          "1963-03-31T00:00:00",
          "1963-04-30T00:00:00",
          "1963-05-31T00:00:00",
          "1963-06-30T00:00:00",
          "1963-07-31T00:00:00",
          "1963-08-31T00:00:00",
          "1963-09-30T00:00:00",
          "1963-10-31T00:00:00",
          "1963-11-30T00:00:00",
          "1963-12-31T00:00:00",
          "1964-01-31T00:00:00",
          "1964-02-29T00:00:00",
          "1964-03-31T00:00:00",
          "1964-04-30T00:00:00",
          "1964-05-31T00:00:00",
          "1964-06-30T00:00:00",
          "1964-07-31T00:00:00",
          "1964-08-31T00:00:00",
          "1964-09-30T00:00:00",
          "1964-10-31T00:00:00",
          "1964-11-30T00:00:00",
          "1964-12-31T00:00:00"
         ],
         "xaxis": "x",
         "y": [
          null,
          null,
          null,
          null,
          null,
          null,
          null,
          null,
          null,
          null,
          null,
          null,
          null,
          null,
          null,
          null,
          null,
          null,
          null,
          null,
          null,
          null,
          null,
          null,
          null,
          null,
          null,
          null,
          null,
          null,
          null,
          null,
          null,
          null,
          null,
          null,
          null,
          null,
          null,
          null,
          null,
          null,
          null,
          null,
          null,
          null,
          null,
          null,
          null,
          null,
          null,
          null,
          null,
          null,
          null,
          null,
          null,
          null,
          null,
          null,
          null,
          null,
          null,
          null,
          null,
          null,
          null,
          null,
          null,
          null,
          null,
          null,
          null,
          null,
          null,
          null,
          null,
          null,
          null,
          null,
          null,
          null,
          null,
          null,
          null,
          null,
          null,
          null,
          null,
          null,
          null,
          null,
          null,
          null,
          null,
          null,
          null,
          null,
          null,
          null,
          null,
          null,
          null,
          null,
          null,
          null,
          null,
          null,
          null,
          null,
          null,
          null,
          null,
          null,
          null,
          null,
          null,
          null,
          null,
          null,
          null,
          null,
          null,
          null,
          null,
          null,
          null,
          null,
          null,
          null,
          null,
          null,
          null,
          null,
          null,
          null,
          null,
          null,
          null,
          null,
          null,
          null,
          null,
          6.113612367411448,
          6.04267656389167,
          6.096809227267649,
          6.185847249667066,
          6.229305432733489,
          6.345990564279241,
          6.486815476399262,
          6.448882177284685,
          6.297778438715833,
          6.191986972628151,
          6.040727309544228,
          6.1234205019302035,
          6.173709992340536,
          6.102277133990813,
          6.141286876986399,
          6.226353868191557,
          6.283234834935137,
          6.396819309460103,
          6.525814692462072,
          6.48061452360919,
          6.347365454370021,
          6.239802275635663,
          6.100874458817889,
          6.167904139589181,
          6.218837820847228,
          6.149690480848654,
          6.175420340873764,
          6.257282803959635,
          6.323641052226184,
          6.436672120675669,
          6.553965649433874,
          6.504055784524272,
          6.383907813038033,
          6.278534869688,
          6.150138488904456,
          6.203977280187973,
          6.25283373846845,
          6.187071988466502,
          6.201959167150712,
          6.280768273038825,
          6.3539765813381734,
          6.467430852992722,
          6.574031551822788,
          6.520986673927356,
          6.410763634394251,
          6.3097982319739065,
          6.191003257021396,
          6.233436447200711
         ],
         "yaxis": "y"
        }
       ],
       "layout": {
        "legend": {
         "title": {
          "text": "variable"
         },
         "tracegroupgap": 0
        },
        "margin": {
         "t": 60
        },
        "template": {
         "data": {
          "bar": [
           {
            "error_x": {
             "color": "#f2f5fa"
            },
            "error_y": {
             "color": "#f2f5fa"
            },
            "marker": {
             "line": {
              "color": "rgb(17,17,17)",
              "width": 0.5
             },
             "pattern": {
              "fillmode": "overlay",
              "size": 10,
              "solidity": 0.2
             }
            },
            "type": "bar"
           }
          ],
          "barpolar": [
           {
            "marker": {
             "line": {
              "color": "rgb(17,17,17)",
              "width": 0.5
             },
             "pattern": {
              "fillmode": "overlay",
              "size": 10,
              "solidity": 0.2
             }
            },
            "type": "barpolar"
           }
          ],
          "carpet": [
           {
            "aaxis": {
             "endlinecolor": "#A2B1C6",
             "gridcolor": "#506784",
             "linecolor": "#506784",
             "minorgridcolor": "#506784",
             "startlinecolor": "#A2B1C6"
            },
            "baxis": {
             "endlinecolor": "#A2B1C6",
             "gridcolor": "#506784",
             "linecolor": "#506784",
             "minorgridcolor": "#506784",
             "startlinecolor": "#A2B1C6"
            },
            "type": "carpet"
           }
          ],
          "choropleth": [
           {
            "colorbar": {
             "outlinewidth": 0,
             "ticks": ""
            },
            "type": "choropleth"
           }
          ],
          "contour": [
           {
            "colorbar": {
             "outlinewidth": 0,
             "ticks": ""
            },
            "colorscale": [
             [
              0,
              "#0d0887"
             ],
             [
              0.1111111111111111,
              "#46039f"
             ],
             [
              0.2222222222222222,
              "#7201a8"
             ],
             [
              0.3333333333333333,
              "#9c179e"
             ],
             [
              0.4444444444444444,
              "#bd3786"
             ],
             [
              0.5555555555555556,
              "#d8576b"
             ],
             [
              0.6666666666666666,
              "#ed7953"
             ],
             [
              0.7777777777777778,
              "#fb9f3a"
             ],
             [
              0.8888888888888888,
              "#fdca26"
             ],
             [
              1,
              "#f0f921"
             ]
            ],
            "type": "contour"
           }
          ],
          "contourcarpet": [
           {
            "colorbar": {
             "outlinewidth": 0,
             "ticks": ""
            },
            "type": "contourcarpet"
           }
          ],
          "heatmap": [
           {
            "colorbar": {
             "outlinewidth": 0,
             "ticks": ""
            },
            "colorscale": [
             [
              0,
              "#0d0887"
             ],
             [
              0.1111111111111111,
              "#46039f"
             ],
             [
              0.2222222222222222,
              "#7201a8"
             ],
             [
              0.3333333333333333,
              "#9c179e"
             ],
             [
              0.4444444444444444,
              "#bd3786"
             ],
             [
              0.5555555555555556,
              "#d8576b"
             ],
             [
              0.6666666666666666,
              "#ed7953"
             ],
             [
              0.7777777777777778,
              "#fb9f3a"
             ],
             [
              0.8888888888888888,
              "#fdca26"
             ],
             [
              1,
              "#f0f921"
             ]
            ],
            "type": "heatmap"
           }
          ],
          "heatmapgl": [
           {
            "colorbar": {
             "outlinewidth": 0,
             "ticks": ""
            },
            "colorscale": [
             [
              0,
              "#0d0887"
             ],
             [
              0.1111111111111111,
              "#46039f"
             ],
             [
              0.2222222222222222,
              "#7201a8"
             ],
             [
              0.3333333333333333,
              "#9c179e"
             ],
             [
              0.4444444444444444,
              "#bd3786"
             ],
             [
              0.5555555555555556,
              "#d8576b"
             ],
             [
              0.6666666666666666,
              "#ed7953"
             ],
             [
              0.7777777777777778,
              "#fb9f3a"
             ],
             [
              0.8888888888888888,
              "#fdca26"
             ],
             [
              1,
              "#f0f921"
             ]
            ],
            "type": "heatmapgl"
           }
          ],
          "histogram": [
           {
            "marker": {
             "pattern": {
              "fillmode": "overlay",
              "size": 10,
              "solidity": 0.2
             }
            },
            "type": "histogram"
           }
          ],
          "histogram2d": [
           {
            "colorbar": {
             "outlinewidth": 0,
             "ticks": ""
            },
            "colorscale": [
             [
              0,
              "#0d0887"
             ],
             [
              0.1111111111111111,
              "#46039f"
             ],
             [
              0.2222222222222222,
              "#7201a8"
             ],
             [
              0.3333333333333333,
              "#9c179e"
             ],
             [
              0.4444444444444444,
              "#bd3786"
             ],
             [
              0.5555555555555556,
              "#d8576b"
             ],
             [
              0.6666666666666666,
              "#ed7953"
             ],
             [
              0.7777777777777778,
              "#fb9f3a"
             ],
             [
              0.8888888888888888,
              "#fdca26"
             ],
             [
              1,
              "#f0f921"
             ]
            ],
            "type": "histogram2d"
           }
          ],
          "histogram2dcontour": [
           {
            "colorbar": {
             "outlinewidth": 0,
             "ticks": ""
            },
            "colorscale": [
             [
              0,
              "#0d0887"
             ],
             [
              0.1111111111111111,
              "#46039f"
             ],
             [
              0.2222222222222222,
              "#7201a8"
             ],
             [
              0.3333333333333333,
              "#9c179e"
             ],
             [
              0.4444444444444444,
              "#bd3786"
             ],
             [
              0.5555555555555556,
              "#d8576b"
             ],
             [
              0.6666666666666666,
              "#ed7953"
             ],
             [
              0.7777777777777778,
              "#fb9f3a"
             ],
             [
              0.8888888888888888,
              "#fdca26"
             ],
             [
              1,
              "#f0f921"
             ]
            ],
            "type": "histogram2dcontour"
           }
          ],
          "mesh3d": [
           {
            "colorbar": {
             "outlinewidth": 0,
             "ticks": ""
            },
            "type": "mesh3d"
           }
          ],
          "parcoords": [
           {
            "line": {
             "colorbar": {
              "outlinewidth": 0,
              "ticks": ""
             }
            },
            "type": "parcoords"
           }
          ],
          "pie": [
           {
            "automargin": true,
            "type": "pie"
           }
          ],
          "scatter": [
           {
            "marker": {
             "line": {
              "color": "#283442"
             }
            },
            "type": "scatter"
           }
          ],
          "scatter3d": [
           {
            "line": {
             "colorbar": {
              "outlinewidth": 0,
              "ticks": ""
             }
            },
            "marker": {
             "colorbar": {
              "outlinewidth": 0,
              "ticks": ""
             }
            },
            "type": "scatter3d"
           }
          ],
          "scattercarpet": [
           {
            "marker": {
             "colorbar": {
              "outlinewidth": 0,
              "ticks": ""
             }
            },
            "type": "scattercarpet"
           }
          ],
          "scattergeo": [
           {
            "marker": {
             "colorbar": {
              "outlinewidth": 0,
              "ticks": ""
             }
            },
            "type": "scattergeo"
           }
          ],
          "scattergl": [
           {
            "marker": {
             "line": {
              "color": "#283442"
             }
            },
            "type": "scattergl"
           }
          ],
          "scattermapbox": [
           {
            "marker": {
             "colorbar": {
              "outlinewidth": 0,
              "ticks": ""
             }
            },
            "type": "scattermapbox"
           }
          ],
          "scatterpolar": [
           {
            "marker": {
             "colorbar": {
              "outlinewidth": 0,
              "ticks": ""
             }
            },
            "type": "scatterpolar"
           }
          ],
          "scatterpolargl": [
           {
            "marker": {
             "colorbar": {
              "outlinewidth": 0,
              "ticks": ""
             }
            },
            "type": "scatterpolargl"
           }
          ],
          "scatterternary": [
           {
            "marker": {
             "colorbar": {
              "outlinewidth": 0,
              "ticks": ""
             }
            },
            "type": "scatterternary"
           }
          ],
          "surface": [
           {
            "colorbar": {
             "outlinewidth": 0,
             "ticks": ""
            },
            "colorscale": [
             [
              0,
              "#0d0887"
             ],
             [
              0.1111111111111111,
              "#46039f"
             ],
             [
              0.2222222222222222,
              "#7201a8"
             ],
             [
              0.3333333333333333,
              "#9c179e"
             ],
             [
              0.4444444444444444,
              "#bd3786"
             ],
             [
              0.5555555555555556,
              "#d8576b"
             ],
             [
              0.6666666666666666,
              "#ed7953"
             ],
             [
              0.7777777777777778,
              "#fb9f3a"
             ],
             [
              0.8888888888888888,
              "#fdca26"
             ],
             [
              1,
              "#f0f921"
             ]
            ],
            "type": "surface"
           }
          ],
          "table": [
           {
            "cells": {
             "fill": {
              "color": "#506784"
             },
             "line": {
              "color": "rgb(17,17,17)"
             }
            },
            "header": {
             "fill": {
              "color": "#2a3f5f"
             },
             "line": {
              "color": "rgb(17,17,17)"
             }
            },
            "type": "table"
           }
          ]
         },
         "layout": {
          "annotationdefaults": {
           "arrowcolor": "#f2f5fa",
           "arrowhead": 0,
           "arrowwidth": 1
          },
          "autosize": false,
          "autotypenumbers": "strict",
          "coloraxis": {
           "colorbar": {
            "outlinewidth": 0,
            "ticks": ""
           }
          },
          "colorscale": {
           "diverging": [
            [
             0,
             "#8e0152"
            ],
            [
             0.1,
             "#c51b7d"
            ],
            [
             0.2,
             "#de77ae"
            ],
            [
             0.3,
             "#f1b6da"
            ],
            [
             0.4,
             "#fde0ef"
            ],
            [
             0.5,
             "#f7f7f7"
            ],
            [
             0.6,
             "#e6f5d0"
            ],
            [
             0.7,
             "#b8e186"
            ],
            [
             0.8,
             "#7fbc41"
            ],
            [
             0.9,
             "#4d9221"
            ],
            [
             1,
             "#276419"
            ]
           ],
           "sequential": [
            [
             0,
             "#0d0887"
            ],
            [
             0.1111111111111111,
             "#46039f"
            ],
            [
             0.2222222222222222,
             "#7201a8"
            ],
            [
             0.3333333333333333,
             "#9c179e"
            ],
            [
             0.4444444444444444,
             "#bd3786"
            ],
            [
             0.5555555555555556,
             "#d8576b"
            ],
            [
             0.6666666666666666,
             "#ed7953"
            ],
            [
             0.7777777777777778,
             "#fb9f3a"
            ],
            [
             0.8888888888888888,
             "#fdca26"
            ],
            [
             1,
             "#f0f921"
            ]
           ],
           "sequentialminus": [
            [
             0,
             "#0d0887"
            ],
            [
             0.1111111111111111,
             "#46039f"
            ],
            [
             0.2222222222222222,
             "#7201a8"
            ],
            [
             0.3333333333333333,
             "#9c179e"
            ],
            [
             0.4444444444444444,
             "#bd3786"
            ],
            [
             0.5555555555555556,
             "#d8576b"
            ],
            [
             0.6666666666666666,
             "#ed7953"
            ],
            [
             0.7777777777777778,
             "#fb9f3a"
            ],
            [
             0.8888888888888888,
             "#fdca26"
            ],
            [
             1,
             "#f0f921"
            ]
           ]
          },
          "colorway": [
           "#636efa",
           "#EF553B",
           "#00cc96",
           "#ab63fa",
           "#FFA15A",
           "#19d3f3",
           "#FF6692",
           "#B6E880",
           "#FF97FF",
           "#FECB52"
          ],
          "font": {
           "color": "#f2f5fa"
          },
          "geo": {
           "bgcolor": "rgb(17,17,17)",
           "lakecolor": "rgb(17,17,17)",
           "landcolor": "rgb(17,17,17)",
           "showlakes": true,
           "showland": true,
           "subunitcolor": "#506784"
          },
          "height": 500,
          "hoverlabel": {
           "align": "left"
          },
          "hovermode": "closest",
          "mapbox": {
           "style": "dark"
          },
          "paper_bgcolor": "rgb(17,17,17)",
          "plot_bgcolor": "rgb(17,17,17)",
          "polar": {
           "angularaxis": {
            "gridcolor": "#506784",
            "linecolor": "#506784",
            "ticks": ""
           },
           "bgcolor": "rgb(17,17,17)",
           "radialaxis": {
            "gridcolor": "#506784",
            "linecolor": "#506784",
            "ticks": ""
           }
          },
          "scene": {
           "xaxis": {
            "backgroundcolor": "rgb(17,17,17)",
            "gridcolor": "#506784",
            "gridwidth": 2,
            "linecolor": "#506784",
            "showbackground": true,
            "ticks": "",
            "zerolinecolor": "#C8D4E3"
           },
           "yaxis": {
            "backgroundcolor": "rgb(17,17,17)",
            "gridcolor": "#506784",
            "gridwidth": 2,
            "linecolor": "#506784",
            "showbackground": true,
            "ticks": "",
            "zerolinecolor": "#C8D4E3"
           },
           "zaxis": {
            "backgroundcolor": "rgb(17,17,17)",
            "gridcolor": "#506784",
            "gridwidth": 2,
            "linecolor": "#506784",
            "showbackground": true,
            "ticks": "",
            "zerolinecolor": "#C8D4E3"
           }
          },
          "shapedefaults": {
           "line": {
            "color": "#f2f5fa"
           }
          },
          "showlegend": true,
          "sliderdefaults": {
           "bgcolor": "#C8D4E3",
           "bordercolor": "rgb(17,17,17)",
           "borderwidth": 1,
           "tickwidth": 0
          },
          "ternary": {
           "aaxis": {
            "gridcolor": "#506784",
            "linecolor": "#506784",
            "ticks": ""
           },
           "baxis": {
            "gridcolor": "#506784",
            "linecolor": "#506784",
            "ticks": ""
           },
           "bgcolor": "rgb(17,17,17)",
           "caxis": {
            "gridcolor": "#506784",
            "linecolor": "#506784",
            "ticks": ""
           }
          },
          "title": {
           "x": 0.05
          },
          "updatemenudefaults": {
           "bgcolor": "#506784",
           "borderwidth": 0
          },
          "width": 1000,
          "xaxis": {
           "automargin": true,
           "gridcolor": "#283442",
           "linecolor": "#506784",
           "ticks": "",
           "title": {
            "standoff": 15
           },
           "zerolinecolor": "#283442",
           "zerolinewidth": 2
          },
          "yaxis": {
           "automargin": true,
           "gridcolor": "#283442",
           "linecolor": "#506784",
           "ticks": "",
           "title": {
            "standoff": 15
           },
           "zerolinecolor": "#283442",
           "zerolinewidth": 2
          }
         }
        },
        "xaxis": {
         "anchor": "y",
         "domain": [
          0,
          1
         ],
         "title": {
          "text": "index"
         }
        },
        "yaxis": {
         "anchor": "x",
         "domain": [
          0,
          1
         ],
         "title": {
          "text": "value"
         }
        }
       }
      }
     },
     "metadata": {},
     "output_type": "display_data"
    }
   ],
   "source": [
    "df_forecast = utils.get_model_forecast(df_forecast, \"values\", order=(12, 1, 1))\n",
    "df_forecast.plot(color='variable')"
   ]
  },
  {
   "cell_type": "code",
   "execution_count": 24,
   "id": "f16c94be",
   "metadata": {},
   "outputs": [
    {
     "name": "stderr",
     "output_type": "stream",
     "text": [
      "/Users/sota/miniforge3/envs/work/lib/python3.13/site-packages/statsmodels/tsa/statespace/sarimax.py:966: UserWarning:\n",
      "\n",
      "Non-stationary starting autoregressive parameters found. Using zeros as starting parameters.\n",
      "\n",
      "/Users/sota/miniforge3/envs/work/lib/python3.13/site-packages/statsmodels/base/model.py:607: ConvergenceWarning:\n",
      "\n",
      "Maximum Likelihood optimization failed to converge. Check mle_retvals\n",
      "\n"
     ]
    },
    {
     "data": {
      "application/vnd.plotly.v1+json": {
       "config": {
        "plotlyServerURL": "https://plot.ly"
       },
       "data": [
        {
         "hovertemplate": "variable=values<br>index=%{x}<br>value=%{y}<extra></extra>",
         "legendgroup": "values",
         "line": {
          "color": "#636efa",
          "dash": "solid"
         },
         "marker": {
          "symbol": "circle"
         },
         "mode": "lines",
         "name": "values",
         "orientation": "v",
         "showlegend": true,
         "type": "scatter",
         "x": [
          "1949-02-28T00:00:00",
          "1949-03-31T00:00:00",
          "1949-04-30T00:00:00",
          "1949-05-31T00:00:00",
          "1949-06-30T00:00:00",
          "1949-07-31T00:00:00",
          "1949-08-31T00:00:00",
          "1949-09-30T00:00:00",
          "1949-10-31T00:00:00",
          "1949-11-30T00:00:00",
          "1949-12-31T00:00:00",
          "1950-01-31T00:00:00",
          "1950-02-28T00:00:00",
          "1950-03-31T00:00:00",
          "1950-04-30T00:00:00",
          "1950-05-31T00:00:00",
          "1950-06-30T00:00:00",
          "1950-07-31T00:00:00",
          "1950-08-31T00:00:00",
          "1950-09-30T00:00:00",
          "1950-10-31T00:00:00",
          "1950-11-30T00:00:00",
          "1950-12-31T00:00:00",
          "1951-01-31T00:00:00",
          "1951-02-28T00:00:00",
          "1951-03-31T00:00:00",
          "1951-04-30T00:00:00",
          "1951-05-31T00:00:00",
          "1951-06-30T00:00:00",
          "1951-07-31T00:00:00",
          "1951-08-31T00:00:00",
          "1951-09-30T00:00:00",
          "1951-10-31T00:00:00",
          "1951-11-30T00:00:00",
          "1951-12-31T00:00:00",
          "1952-01-31T00:00:00",
          "1952-02-29T00:00:00",
          "1952-03-31T00:00:00",
          "1952-04-30T00:00:00",
          "1952-05-31T00:00:00",
          "1952-06-30T00:00:00",
          "1952-07-31T00:00:00",
          "1952-08-31T00:00:00",
          "1952-09-30T00:00:00",
          "1952-10-31T00:00:00",
          "1952-11-30T00:00:00",
          "1952-12-31T00:00:00",
          "1953-01-31T00:00:00",
          "1953-02-28T00:00:00",
          "1953-03-31T00:00:00",
          "1953-04-30T00:00:00",
          "1953-05-31T00:00:00",
          "1953-06-30T00:00:00",
          "1953-07-31T00:00:00",
          "1953-08-31T00:00:00",
          "1953-09-30T00:00:00",
          "1953-10-31T00:00:00",
          "1953-11-30T00:00:00",
          "1953-12-31T00:00:00",
          "1954-01-31T00:00:00",
          "1954-02-28T00:00:00",
          "1954-03-31T00:00:00",
          "1954-04-30T00:00:00",
          "1954-05-31T00:00:00",
          "1954-06-30T00:00:00",
          "1954-07-31T00:00:00",
          "1954-08-31T00:00:00",
          "1954-09-30T00:00:00",
          "1954-10-31T00:00:00",
          "1954-11-30T00:00:00",
          "1954-12-31T00:00:00",
          "1955-01-31T00:00:00",
          "1955-02-28T00:00:00",
          "1955-03-31T00:00:00",
          "1955-04-30T00:00:00",
          "1955-05-31T00:00:00",
          "1955-06-30T00:00:00",
          "1955-07-31T00:00:00",
          "1955-08-31T00:00:00",
          "1955-09-30T00:00:00",
          "1955-10-31T00:00:00",
          "1955-11-30T00:00:00",
          "1955-12-31T00:00:00",
          "1956-01-31T00:00:00",
          "1956-02-29T00:00:00",
          "1956-03-31T00:00:00",
          "1956-04-30T00:00:00",
          "1956-05-31T00:00:00",
          "1956-06-30T00:00:00",
          "1956-07-31T00:00:00",
          "1956-08-31T00:00:00",
          "1956-09-30T00:00:00",
          "1956-10-31T00:00:00",
          "1956-11-30T00:00:00",
          "1956-12-31T00:00:00",
          "1957-01-31T00:00:00",
          "1957-02-28T00:00:00",
          "1957-03-31T00:00:00",
          "1957-04-30T00:00:00",
          "1957-05-31T00:00:00",
          "1957-06-30T00:00:00",
          "1957-07-31T00:00:00",
          "1957-08-31T00:00:00",
          "1957-09-30T00:00:00",
          "1957-10-31T00:00:00",
          "1957-11-30T00:00:00",
          "1957-12-31T00:00:00",
          "1958-01-31T00:00:00",
          "1958-02-28T00:00:00",
          "1958-03-31T00:00:00",
          "1958-04-30T00:00:00",
          "1958-05-31T00:00:00",
          "1958-06-30T00:00:00",
          "1958-07-31T00:00:00",
          "1958-08-31T00:00:00",
          "1958-09-30T00:00:00",
          "1958-10-31T00:00:00",
          "1958-11-30T00:00:00",
          "1958-12-31T00:00:00",
          "1959-01-31T00:00:00",
          "1959-02-28T00:00:00",
          "1959-03-31T00:00:00",
          "1959-04-30T00:00:00",
          "1959-05-31T00:00:00",
          "1959-06-30T00:00:00",
          "1959-07-31T00:00:00",
          "1959-08-31T00:00:00",
          "1959-09-30T00:00:00",
          "1959-10-31T00:00:00",
          "1959-11-30T00:00:00",
          "1959-12-31T00:00:00",
          "1960-01-31T00:00:00",
          "1960-02-29T00:00:00",
          "1960-03-31T00:00:00",
          "1960-04-30T00:00:00",
          "1960-05-31T00:00:00",
          "1960-06-30T00:00:00",
          "1960-07-31T00:00:00",
          "1960-08-31T00:00:00",
          "1960-09-30T00:00:00",
          "1960-10-31T00:00:00",
          "1960-11-30T00:00:00",
          "1960-12-31T00:00:00",
          "1961-01-31T00:00:00",
          "1961-02-28T00:00:00",
          "1961-03-31T00:00:00",
          "1961-04-30T00:00:00",
          "1961-05-31T00:00:00",
          "1961-06-30T00:00:00",
          "1961-07-31T00:00:00",
          "1961-08-31T00:00:00",
          "1961-09-30T00:00:00",
          "1961-10-31T00:00:00",
          "1961-11-30T00:00:00",
          "1961-12-31T00:00:00",
          "1962-01-31T00:00:00",
          "1962-02-28T00:00:00",
          "1962-03-31T00:00:00",
          "1962-04-30T00:00:00",
          "1962-05-31T00:00:00",
          "1962-06-30T00:00:00",
          "1962-07-31T00:00:00",
          "1962-08-31T00:00:00",
          "1962-09-30T00:00:00",
          "1962-10-31T00:00:00",
          "1962-11-30T00:00:00",
          "1962-12-31T00:00:00",
          "1963-01-31T00:00:00",
          "1963-02-28T00:00:00",
          "1963-03-31T00:00:00",
          "1963-04-30T00:00:00",
          "1963-05-31T00:00:00",
          "1963-06-30T00:00:00",
          "1963-07-31T00:00:00",
          "1963-08-31T00:00:00",
          "1963-09-30T00:00:00",
          "1963-10-31T00:00:00",
          "1963-11-30T00:00:00",
          "1963-12-31T00:00:00",
          "1964-01-31T00:00:00",
          "1964-02-29T00:00:00",
          "1964-03-31T00:00:00",
          "1964-04-30T00:00:00",
          "1964-05-31T00:00:00",
          "1964-06-30T00:00:00",
          "1964-07-31T00:00:00",
          "1964-08-31T00:00:00",
          "1964-09-30T00:00:00",
          "1964-10-31T00:00:00",
          "1964-11-30T00:00:00",
          "1964-12-31T00:00:00"
         ],
         "xaxis": "x",
         "y": [
          4.770684624465665,
          4.882801922586371,
          4.859812404361672,
          4.795790545596741,
          4.90527477843843,
          4.997212273764115,
          4.997212273764115,
          4.912654885736052,
          4.77912349311153,
          4.6443908991413725,
          4.770684624465665,
          4.74493212836325,
          4.836281906951478,
          4.948759890378168,
          4.90527477843843,
          4.8283137373023015,
          5.003946305945459,
          5.135798437050262,
          5.135798437050262,
          5.062595033026967,
          4.890349128221754,
          4.736198448394496,
          4.941642422609304,
          4.976733742420574,
          5.0106352940962555,
          5.181783550292085,
          5.093750200806762,
          5.147494476813453,
          5.181783550292085,
          5.293304824724492,
          5.293304824724492,
          5.214935757608986,
          5.087596335232384,
          4.983606621708336,
          5.111987788356544,
          5.14166355650266,
          5.19295685089021,
          5.262690188904886,
          5.198497031265826,
          5.209486152841421,
          5.384495062789089,
          5.438079308923196,
          5.488937726156687,
          5.342334251964811,
          5.25227342804663,
          5.147494476813453,
          5.267858159063328,
          5.278114659230517,
          5.278114659230517,
          5.4638318050256105,
          5.459585514144159,
          5.43372200355424,
          5.493061443340548,
          5.575949103146316,
          5.605802066295998,
          5.4680601411351315,
          5.351858133476067,
          5.19295685089021,
          5.303304908059076,
          5.318119993844216,
          5.236441962829949,
          5.459585514144159,
          5.424950017481403,
          5.455321115357702,
          5.575949103146316,
          5.71042701737487,
          5.680172609017068,
          5.556828061699537,
          5.43372200355424,
          5.313205979041787,
          5.43372200355424,
          5.488937726156687,
          5.4510384535657,
          5.58724865840025,
          5.594711379601839,
          5.598421958998375,
          5.752572638825633,
          5.8971538676367405,
          5.849324779946859,
          5.7430031878094825,
          5.6131281063880705,
          5.4680601411351315,
          5.627621113690637,
          5.648974238161206,
          5.6240175061873385,
          5.75890177387728,
          5.746203190540153,
          5.762051382780177,
          5.924255797414532,
          6.023447592961033,
          6.003887067106539,
          5.872117789475416,
          5.723585101952381,
          5.602118820879701,
          5.723585101952381,
          5.752572638825633,
          5.707110264748875,
          5.87493073085203,
          5.8522024797744745,
          5.872117789475416,
          6.045005314036012,
          6.142037405587356,
          6.1463292576688975,
          6.0014148779611505,
          5.849324779946859,
          5.720311776607412,
          5.817111159963204,
          5.8289456176102075,
          5.762051382780177,
          5.8916442118257715,
          5.8522024797744745,
          5.8944028342648505,
          6.075346031088684,
          6.19644412779452,
          6.22455842927536,
          6.0014148779611505,
          5.883322388488279,
          5.736572297479192,
          5.820082930352362,
          5.886104031450156,
          5.834810737062605,
          6.0063531596017325,
          5.981414211254481,
          6.040254711277414,
          6.156978985585555,
          6.306275286948016,
          6.326149473155099,
          6.137727054086234,
          6.008813185442595,
          5.8916442118257715,
          6.003887067106539,
          6.0330862217988015,
          5.968707559985366,
          6.037870919922137,
          6.133398042996649,
          6.156978985585555,
          6.282266746896006,
          6.432940092739179,
          6.406879986069314,
          6.230481447578482,
          6.133398042996649,
          5.966146739123692,
          6.068425588244111,
          null,
          null,
          null,
          null,
          null,
          null,
          null,
          null,
          null,
          null,
          null,
          null,
          null,
          null,
          null,
          null,
          null,
          null,
          null,
          null,
          null,
          null,
          null,
          null,
          null,
          null,
          null,
          null,
          null,
          null,
          null,
          null,
          null,
          null,
          null,
          null,
          null,
          null,
          null,
          null,
          null,
          null,
          null,
          null,
          null,
          null,
          null,
          null
         ],
         "yaxis": "y"
        },
        {
         "hovertemplate": "variable=ARIMA(12,1,2)<br>index=%{x}<br>value=%{y}<extra></extra>",
         "legendgroup": "ARIMA(12,1,2)",
         "line": {
          "color": "#EF553B",
          "dash": "solid"
         },
         "marker": {
          "symbol": "circle"
         },
         "mode": "lines",
         "name": "ARIMA(12,1,2)",
         "orientation": "v",
         "showlegend": true,
         "type": "scatter",
         "x": [
          "1949-02-28T00:00:00",
          "1949-03-31T00:00:00",
          "1949-04-30T00:00:00",
          "1949-05-31T00:00:00",
          "1949-06-30T00:00:00",
          "1949-07-31T00:00:00",
          "1949-08-31T00:00:00",
          "1949-09-30T00:00:00",
          "1949-10-31T00:00:00",
          "1949-11-30T00:00:00",
          "1949-12-31T00:00:00",
          "1950-01-31T00:00:00",
          "1950-02-28T00:00:00",
          "1950-03-31T00:00:00",
          "1950-04-30T00:00:00",
          "1950-05-31T00:00:00",
          "1950-06-30T00:00:00",
          "1950-07-31T00:00:00",
          "1950-08-31T00:00:00",
          "1950-09-30T00:00:00",
          "1950-10-31T00:00:00",
          "1950-11-30T00:00:00",
          "1950-12-31T00:00:00",
          "1951-01-31T00:00:00",
          "1951-02-28T00:00:00",
          "1951-03-31T00:00:00",
          "1951-04-30T00:00:00",
          "1951-05-31T00:00:00",
          "1951-06-30T00:00:00",
          "1951-07-31T00:00:00",
          "1951-08-31T00:00:00",
          "1951-09-30T00:00:00",
          "1951-10-31T00:00:00",
          "1951-11-30T00:00:00",
          "1951-12-31T00:00:00",
          "1952-01-31T00:00:00",
          "1952-02-29T00:00:00",
          "1952-03-31T00:00:00",
          "1952-04-30T00:00:00",
          "1952-05-31T00:00:00",
          "1952-06-30T00:00:00",
          "1952-07-31T00:00:00",
          "1952-08-31T00:00:00",
          "1952-09-30T00:00:00",
          "1952-10-31T00:00:00",
          "1952-11-30T00:00:00",
          "1952-12-31T00:00:00",
          "1953-01-31T00:00:00",
          "1953-02-28T00:00:00",
          "1953-03-31T00:00:00",
          "1953-04-30T00:00:00",
          "1953-05-31T00:00:00",
          "1953-06-30T00:00:00",
          "1953-07-31T00:00:00",
          "1953-08-31T00:00:00",
          "1953-09-30T00:00:00",
          "1953-10-31T00:00:00",
          "1953-11-30T00:00:00",
          "1953-12-31T00:00:00",
          "1954-01-31T00:00:00",
          "1954-02-28T00:00:00",
          "1954-03-31T00:00:00",
          "1954-04-30T00:00:00",
          "1954-05-31T00:00:00",
          "1954-06-30T00:00:00",
          "1954-07-31T00:00:00",
          "1954-08-31T00:00:00",
          "1954-09-30T00:00:00",
          "1954-10-31T00:00:00",
          "1954-11-30T00:00:00",
          "1954-12-31T00:00:00",
          "1955-01-31T00:00:00",
          "1955-02-28T00:00:00",
          "1955-03-31T00:00:00",
          "1955-04-30T00:00:00",
          "1955-05-31T00:00:00",
          "1955-06-30T00:00:00",
          "1955-07-31T00:00:00",
          "1955-08-31T00:00:00",
          "1955-09-30T00:00:00",
          "1955-10-31T00:00:00",
          "1955-11-30T00:00:00",
          "1955-12-31T00:00:00",
          "1956-01-31T00:00:00",
          "1956-02-29T00:00:00",
          "1956-03-31T00:00:00",
          "1956-04-30T00:00:00",
          "1956-05-31T00:00:00",
          "1956-06-30T00:00:00",
          "1956-07-31T00:00:00",
          "1956-08-31T00:00:00",
          "1956-09-30T00:00:00",
          "1956-10-31T00:00:00",
          "1956-11-30T00:00:00",
          "1956-12-31T00:00:00",
          "1957-01-31T00:00:00",
          "1957-02-28T00:00:00",
          "1957-03-31T00:00:00",
          "1957-04-30T00:00:00",
          "1957-05-31T00:00:00",
          "1957-06-30T00:00:00",
          "1957-07-31T00:00:00",
          "1957-08-31T00:00:00",
          "1957-09-30T00:00:00",
          "1957-10-31T00:00:00",
          "1957-11-30T00:00:00",
          "1957-12-31T00:00:00",
          "1958-01-31T00:00:00",
          "1958-02-28T00:00:00",
          "1958-03-31T00:00:00",
          "1958-04-30T00:00:00",
          "1958-05-31T00:00:00",
          "1958-06-30T00:00:00",
          "1958-07-31T00:00:00",
          "1958-08-31T00:00:00",
          "1958-09-30T00:00:00",
          "1958-10-31T00:00:00",
          "1958-11-30T00:00:00",
          "1958-12-31T00:00:00",
          "1959-01-31T00:00:00",
          "1959-02-28T00:00:00",
          "1959-03-31T00:00:00",
          "1959-04-30T00:00:00",
          "1959-05-31T00:00:00",
          "1959-06-30T00:00:00",
          "1959-07-31T00:00:00",
          "1959-08-31T00:00:00",
          "1959-09-30T00:00:00",
          "1959-10-31T00:00:00",
          "1959-11-30T00:00:00",
          "1959-12-31T00:00:00",
          "1960-01-31T00:00:00",
          "1960-02-29T00:00:00",
          "1960-03-31T00:00:00",
          "1960-04-30T00:00:00",
          "1960-05-31T00:00:00",
          "1960-06-30T00:00:00",
          "1960-07-31T00:00:00",
          "1960-08-31T00:00:00",
          "1960-09-30T00:00:00",
          "1960-10-31T00:00:00",
          "1960-11-30T00:00:00",
          "1960-12-31T00:00:00",
          "1961-01-31T00:00:00",
          "1961-02-28T00:00:00",
          "1961-03-31T00:00:00",
          "1961-04-30T00:00:00",
          "1961-05-31T00:00:00",
          "1961-06-30T00:00:00",
          "1961-07-31T00:00:00",
          "1961-08-31T00:00:00",
          "1961-09-30T00:00:00",
          "1961-10-31T00:00:00",
          "1961-11-30T00:00:00",
          "1961-12-31T00:00:00",
          "1962-01-31T00:00:00",
          "1962-02-28T00:00:00",
          "1962-03-31T00:00:00",
          "1962-04-30T00:00:00",
          "1962-05-31T00:00:00",
          "1962-06-30T00:00:00",
          "1962-07-31T00:00:00",
          "1962-08-31T00:00:00",
          "1962-09-30T00:00:00",
          "1962-10-31T00:00:00",
          "1962-11-30T00:00:00",
          "1962-12-31T00:00:00",
          "1963-01-31T00:00:00",
          "1963-02-28T00:00:00",
          "1963-03-31T00:00:00",
          "1963-04-30T00:00:00",
          "1963-05-31T00:00:00",
          "1963-06-30T00:00:00",
          "1963-07-31T00:00:00",
          "1963-08-31T00:00:00",
          "1963-09-30T00:00:00",
          "1963-10-31T00:00:00",
          "1963-11-30T00:00:00",
          "1963-12-31T00:00:00",
          "1964-01-31T00:00:00",
          "1964-02-29T00:00:00",
          "1964-03-31T00:00:00",
          "1964-04-30T00:00:00",
          "1964-05-31T00:00:00",
          "1964-06-30T00:00:00",
          "1964-07-31T00:00:00",
          "1964-08-31T00:00:00",
          "1964-09-30T00:00:00",
          "1964-10-31T00:00:00",
          "1964-11-30T00:00:00",
          "1964-12-31T00:00:00"
         ],
         "xaxis": "x",
         "y": [
          null,
          null,
          null,
          null,
          null,
          null,
          null,
          null,
          null,
          null,
          null,
          null,
          null,
          null,
          null,
          null,
          null,
          null,
          null,
          null,
          null,
          null,
          null,
          null,
          null,
          null,
          null,
          null,
          null,
          null,
          null,
          null,
          null,
          null,
          null,
          null,
          null,
          null,
          null,
          null,
          null,
          null,
          null,
          null,
          null,
          null,
          null,
          null,
          null,
          null,
          null,
          null,
          null,
          null,
          null,
          null,
          null,
          null,
          null,
          null,
          null,
          null,
          null,
          null,
          null,
          null,
          null,
          null,
          null,
          null,
          null,
          null,
          null,
          null,
          null,
          null,
          null,
          null,
          null,
          null,
          null,
          null,
          null,
          null,
          null,
          null,
          null,
          null,
          null,
          null,
          null,
          null,
          null,
          null,
          null,
          null,
          null,
          null,
          null,
          null,
          null,
          null,
          null,
          null,
          null,
          null,
          null,
          null,
          null,
          null,
          null,
          null,
          null,
          null,
          null,
          null,
          null,
          null,
          null,
          null,
          null,
          null,
          null,
          null,
          null,
          null,
          null,
          null,
          null,
          null,
          null,
          null,
          null,
          null,
          null,
          null,
          null,
          null,
          null,
          null,
          null,
          null,
          null,
          6.112941399761889,
          6.037781660501659,
          6.094657569797143,
          6.18302962960732,
          6.230467923953498,
          6.343804038714451,
          6.487701047476186,
          6.44959266457418,
          6.295661124616015,
          6.189647690523548,
          6.034682502561228,
          6.119029833335185,
          6.168819284219892,
          6.0916041194674095,
          6.133605892278531,
          6.219089588644121,
          6.282609569663982,
          6.391599436821397,
          6.525265629119939,
          6.479896520890906,
          6.341737305920763,
          6.233827946805549,
          6.0878646713279325,
          6.157697669533331,
          6.208241525340643,
          6.132822028662701,
          6.1607700307199575,
          6.244624546757321,
          6.31976278390108,
          6.4281203340550235,
          6.551039345343446,
          6.500684865342419,
          6.374321403366183,
          6.268347201713632,
          6.130269641154622,
          6.187297645061353,
          6.235989764979113,
          6.163998355938423,
          6.1799666067732515,
          6.262353438124405,
          6.346197474755861,
          6.4556486166056475,
          6.568522661277244,
          6.5144388467903305,
          6.397249964636891,
          6.295324721439135,
          6.164890226019541,
          6.210199132860264
         ],
         "yaxis": "y"
        },
        {
         "hovertemplate": "variable=ARIMA(12,1,1)<br>index=%{x}<br>value=%{y}<extra></extra>",
         "legendgroup": "ARIMA(12,1,1)",
         "line": {
          "color": "#00cc96",
          "dash": "solid"
         },
         "marker": {
          "symbol": "circle"
         },
         "mode": "lines",
         "name": "ARIMA(12,1,1)",
         "orientation": "v",
         "showlegend": true,
         "type": "scatter",
         "x": [
          "1949-02-28T00:00:00",
          "1949-03-31T00:00:00",
          "1949-04-30T00:00:00",
          "1949-05-31T00:00:00",
          "1949-06-30T00:00:00",
          "1949-07-31T00:00:00",
          "1949-08-31T00:00:00",
          "1949-09-30T00:00:00",
          "1949-10-31T00:00:00",
          "1949-11-30T00:00:00",
          "1949-12-31T00:00:00",
          "1950-01-31T00:00:00",
          "1950-02-28T00:00:00",
          "1950-03-31T00:00:00",
          "1950-04-30T00:00:00",
          "1950-05-31T00:00:00",
          "1950-06-30T00:00:00",
          "1950-07-31T00:00:00",
          "1950-08-31T00:00:00",
          "1950-09-30T00:00:00",
          "1950-10-31T00:00:00",
          "1950-11-30T00:00:00",
          "1950-12-31T00:00:00",
          "1951-01-31T00:00:00",
          "1951-02-28T00:00:00",
          "1951-03-31T00:00:00",
          "1951-04-30T00:00:00",
          "1951-05-31T00:00:00",
          "1951-06-30T00:00:00",
          "1951-07-31T00:00:00",
          "1951-08-31T00:00:00",
          "1951-09-30T00:00:00",
          "1951-10-31T00:00:00",
          "1951-11-30T00:00:00",
          "1951-12-31T00:00:00",
          "1952-01-31T00:00:00",
          "1952-02-29T00:00:00",
          "1952-03-31T00:00:00",
          "1952-04-30T00:00:00",
          "1952-05-31T00:00:00",
          "1952-06-30T00:00:00",
          "1952-07-31T00:00:00",
          "1952-08-31T00:00:00",
          "1952-09-30T00:00:00",
          "1952-10-31T00:00:00",
          "1952-11-30T00:00:00",
          "1952-12-31T00:00:00",
          "1953-01-31T00:00:00",
          "1953-02-28T00:00:00",
          "1953-03-31T00:00:00",
          "1953-04-30T00:00:00",
          "1953-05-31T00:00:00",
          "1953-06-30T00:00:00",
          "1953-07-31T00:00:00",
          "1953-08-31T00:00:00",
          "1953-09-30T00:00:00",
          "1953-10-31T00:00:00",
          "1953-11-30T00:00:00",
          "1953-12-31T00:00:00",
          "1954-01-31T00:00:00",
          "1954-02-28T00:00:00",
          "1954-03-31T00:00:00",
          "1954-04-30T00:00:00",
          "1954-05-31T00:00:00",
          "1954-06-30T00:00:00",
          "1954-07-31T00:00:00",
          "1954-08-31T00:00:00",
          "1954-09-30T00:00:00",
          "1954-10-31T00:00:00",
          "1954-11-30T00:00:00",
          "1954-12-31T00:00:00",
          "1955-01-31T00:00:00",
          "1955-02-28T00:00:00",
          "1955-03-31T00:00:00",
          "1955-04-30T00:00:00",
          "1955-05-31T00:00:00",
          "1955-06-30T00:00:00",
          "1955-07-31T00:00:00",
          "1955-08-31T00:00:00",
          "1955-09-30T00:00:00",
          "1955-10-31T00:00:00",
          "1955-11-30T00:00:00",
          "1955-12-31T00:00:00",
          "1956-01-31T00:00:00",
          "1956-02-29T00:00:00",
          "1956-03-31T00:00:00",
          "1956-04-30T00:00:00",
          "1956-05-31T00:00:00",
          "1956-06-30T00:00:00",
          "1956-07-31T00:00:00",
          "1956-08-31T00:00:00",
          "1956-09-30T00:00:00",
          "1956-10-31T00:00:00",
          "1956-11-30T00:00:00",
          "1956-12-31T00:00:00",
          "1957-01-31T00:00:00",
          "1957-02-28T00:00:00",
          "1957-03-31T00:00:00",
          "1957-04-30T00:00:00",
          "1957-05-31T00:00:00",
          "1957-06-30T00:00:00",
          "1957-07-31T00:00:00",
          "1957-08-31T00:00:00",
          "1957-09-30T00:00:00",
          "1957-10-31T00:00:00",
          "1957-11-30T00:00:00",
          "1957-12-31T00:00:00",
          "1958-01-31T00:00:00",
          "1958-02-28T00:00:00",
          "1958-03-31T00:00:00",
          "1958-04-30T00:00:00",
          "1958-05-31T00:00:00",
          "1958-06-30T00:00:00",
          "1958-07-31T00:00:00",
          "1958-08-31T00:00:00",
          "1958-09-30T00:00:00",
          "1958-10-31T00:00:00",
          "1958-11-30T00:00:00",
          "1958-12-31T00:00:00",
          "1959-01-31T00:00:00",
          "1959-02-28T00:00:00",
          "1959-03-31T00:00:00",
          "1959-04-30T00:00:00",
          "1959-05-31T00:00:00",
          "1959-06-30T00:00:00",
          "1959-07-31T00:00:00",
          "1959-08-31T00:00:00",
          "1959-09-30T00:00:00",
          "1959-10-31T00:00:00",
          "1959-11-30T00:00:00",
          "1959-12-31T00:00:00",
          "1960-01-31T00:00:00",
          "1960-02-29T00:00:00",
          "1960-03-31T00:00:00",
          "1960-04-30T00:00:00",
          "1960-05-31T00:00:00",
          "1960-06-30T00:00:00",
          "1960-07-31T00:00:00",
          "1960-08-31T00:00:00",
          "1960-09-30T00:00:00",
          "1960-10-31T00:00:00",
          "1960-11-30T00:00:00",
          "1960-12-31T00:00:00",
          "1961-01-31T00:00:00",
          "1961-02-28T00:00:00",
          "1961-03-31T00:00:00",
          "1961-04-30T00:00:00",
          "1961-05-31T00:00:00",
          "1961-06-30T00:00:00",
          "1961-07-31T00:00:00",
          "1961-08-31T00:00:00",
          "1961-09-30T00:00:00",
          "1961-10-31T00:00:00",
          "1961-11-30T00:00:00",
          "1961-12-31T00:00:00",
          "1962-01-31T00:00:00",
          "1962-02-28T00:00:00",
          "1962-03-31T00:00:00",
          "1962-04-30T00:00:00",
          "1962-05-31T00:00:00",
          "1962-06-30T00:00:00",
          "1962-07-31T00:00:00",
          "1962-08-31T00:00:00",
          "1962-09-30T00:00:00",
          "1962-10-31T00:00:00",
          "1962-11-30T00:00:00",
          "1962-12-31T00:00:00",
          "1963-01-31T00:00:00",
          "1963-02-28T00:00:00",
          "1963-03-31T00:00:00",
          "1963-04-30T00:00:00",
          "1963-05-31T00:00:00",
          "1963-06-30T00:00:00",
          "1963-07-31T00:00:00",
          "1963-08-31T00:00:00",
          "1963-09-30T00:00:00",
          "1963-10-31T00:00:00",
          "1963-11-30T00:00:00",
          "1963-12-31T00:00:00",
          "1964-01-31T00:00:00",
          "1964-02-29T00:00:00",
          "1964-03-31T00:00:00",
          "1964-04-30T00:00:00",
          "1964-05-31T00:00:00",
          "1964-06-30T00:00:00",
          "1964-07-31T00:00:00",
          "1964-08-31T00:00:00",
          "1964-09-30T00:00:00",
          "1964-10-31T00:00:00",
          "1964-11-30T00:00:00",
          "1964-12-31T00:00:00"
         ],
         "xaxis": "x",
         "y": [
          null,
          null,
          null,
          null,
          null,
          null,
          null,
          null,
          null,
          null,
          null,
          null,
          null,
          null,
          null,
          null,
          null,
          null,
          null,
          null,
          null,
          null,
          null,
          null,
          null,
          null,
          null,
          null,
          null,
          null,
          null,
          null,
          null,
          null,
          null,
          null,
          null,
          null,
          null,
          null,
          null,
          null,
          null,
          null,
          null,
          null,
          null,
          null,
          null,
          null,
          null,
          null,
          null,
          null,
          null,
          null,
          null,
          null,
          null,
          null,
          null,
          null,
          null,
          null,
          null,
          null,
          null,
          null,
          null,
          null,
          null,
          null,
          null,
          null,
          null,
          null,
          null,
          null,
          null,
          null,
          null,
          null,
          null,
          null,
          null,
          null,
          null,
          null,
          null,
          null,
          null,
          null,
          null,
          null,
          null,
          null,
          null,
          null,
          null,
          null,
          null,
          null,
          null,
          null,
          null,
          null,
          null,
          null,
          null,
          null,
          null,
          null,
          null,
          null,
          null,
          null,
          null,
          null,
          null,
          null,
          null,
          null,
          null,
          null,
          null,
          null,
          null,
          null,
          null,
          null,
          null,
          null,
          null,
          null,
          null,
          null,
          null,
          null,
          null,
          null,
          null,
          null,
          null,
          6.113612367411448,
          6.04267656389167,
          6.096809227267649,
          6.185847249667066,
          6.229305432733489,
          6.345990564279241,
          6.486815476399262,
          6.448882177284685,
          6.297778438715833,
          6.191986972628151,
          6.040727309544228,
          6.1234205019302035,
          6.173709992340536,
          6.102277133990813,
          6.141286876986399,
          6.226353868191557,
          6.283234834935137,
          6.396819309460103,
          6.525814692462072,
          6.48061452360919,
          6.347365454370021,
          6.239802275635663,
          6.100874458817889,
          6.167904139589181,
          6.218837820847228,
          6.149690480848654,
          6.175420340873764,
          6.257282803959635,
          6.323641052226184,
          6.436672120675669,
          6.553965649433874,
          6.504055784524272,
          6.383907813038033,
          6.278534869688,
          6.150138488904456,
          6.203977280187973,
          6.25283373846845,
          6.187071988466502,
          6.201959167150712,
          6.280768273038825,
          6.3539765813381734,
          6.467430852992722,
          6.574031551822788,
          6.520986673927356,
          6.410763634394251,
          6.3097982319739065,
          6.191003257021396,
          6.233436447200711
         ],
         "yaxis": "y"
        },
        {
         "hovertemplate": "variable=ARIMA(12,0,1)<br>index=%{x}<br>value=%{y}<extra></extra>",
         "legendgroup": "ARIMA(12,0,1)",
         "line": {
          "color": "#ab63fa",
          "dash": "solid"
         },
         "marker": {
          "symbol": "circle"
         },
         "mode": "lines",
         "name": "ARIMA(12,0,1)",
         "orientation": "v",
         "showlegend": true,
         "type": "scatter",
         "x": [
          "1949-02-28T00:00:00",
          "1949-03-31T00:00:00",
          "1949-04-30T00:00:00",
          "1949-05-31T00:00:00",
          "1949-06-30T00:00:00",
          "1949-07-31T00:00:00",
          "1949-08-31T00:00:00",
          "1949-09-30T00:00:00",
          "1949-10-31T00:00:00",
          "1949-11-30T00:00:00",
          "1949-12-31T00:00:00",
          "1950-01-31T00:00:00",
          "1950-02-28T00:00:00",
          "1950-03-31T00:00:00",
          "1950-04-30T00:00:00",
          "1950-05-31T00:00:00",
          "1950-06-30T00:00:00",
          "1950-07-31T00:00:00",
          "1950-08-31T00:00:00",
          "1950-09-30T00:00:00",
          "1950-10-31T00:00:00",
          "1950-11-30T00:00:00",
          "1950-12-31T00:00:00",
          "1951-01-31T00:00:00",
          "1951-02-28T00:00:00",
          "1951-03-31T00:00:00",
          "1951-04-30T00:00:00",
          "1951-05-31T00:00:00",
          "1951-06-30T00:00:00",
          "1951-07-31T00:00:00",
          "1951-08-31T00:00:00",
          "1951-09-30T00:00:00",
          "1951-10-31T00:00:00",
          "1951-11-30T00:00:00",
          "1951-12-31T00:00:00",
          "1952-01-31T00:00:00",
          "1952-02-29T00:00:00",
          "1952-03-31T00:00:00",
          "1952-04-30T00:00:00",
          "1952-05-31T00:00:00",
          "1952-06-30T00:00:00",
          "1952-07-31T00:00:00",
          "1952-08-31T00:00:00",
          "1952-09-30T00:00:00",
          "1952-10-31T00:00:00",
          "1952-11-30T00:00:00",
          "1952-12-31T00:00:00",
          "1953-01-31T00:00:00",
          "1953-02-28T00:00:00",
          "1953-03-31T00:00:00",
          "1953-04-30T00:00:00",
          "1953-05-31T00:00:00",
          "1953-06-30T00:00:00",
          "1953-07-31T00:00:00",
          "1953-08-31T00:00:00",
          "1953-09-30T00:00:00",
          "1953-10-31T00:00:00",
          "1953-11-30T00:00:00",
          "1953-12-31T00:00:00",
          "1954-01-31T00:00:00",
          "1954-02-28T00:00:00",
          "1954-03-31T00:00:00",
          "1954-04-30T00:00:00",
          "1954-05-31T00:00:00",
          "1954-06-30T00:00:00",
          "1954-07-31T00:00:00",
          "1954-08-31T00:00:00",
          "1954-09-30T00:00:00",
          "1954-10-31T00:00:00",
          "1954-11-30T00:00:00",
          "1954-12-31T00:00:00",
          "1955-01-31T00:00:00",
          "1955-02-28T00:00:00",
          "1955-03-31T00:00:00",
          "1955-04-30T00:00:00",
          "1955-05-31T00:00:00",
          "1955-06-30T00:00:00",
          "1955-07-31T00:00:00",
          "1955-08-31T00:00:00",
          "1955-09-30T00:00:00",
          "1955-10-31T00:00:00",
          "1955-11-30T00:00:00",
          "1955-12-31T00:00:00",
          "1956-01-31T00:00:00",
          "1956-02-29T00:00:00",
          "1956-03-31T00:00:00",
          "1956-04-30T00:00:00",
          "1956-05-31T00:00:00",
          "1956-06-30T00:00:00",
          "1956-07-31T00:00:00",
          "1956-08-31T00:00:00",
          "1956-09-30T00:00:00",
          "1956-10-31T00:00:00",
          "1956-11-30T00:00:00",
          "1956-12-31T00:00:00",
          "1957-01-31T00:00:00",
          "1957-02-28T00:00:00",
          "1957-03-31T00:00:00",
          "1957-04-30T00:00:00",
          "1957-05-31T00:00:00",
          "1957-06-30T00:00:00",
          "1957-07-31T00:00:00",
          "1957-08-31T00:00:00",
          "1957-09-30T00:00:00",
          "1957-10-31T00:00:00",
          "1957-11-30T00:00:00",
          "1957-12-31T00:00:00",
          "1958-01-31T00:00:00",
          "1958-02-28T00:00:00",
          "1958-03-31T00:00:00",
          "1958-04-30T00:00:00",
          "1958-05-31T00:00:00",
          "1958-06-30T00:00:00",
          "1958-07-31T00:00:00",
          "1958-08-31T00:00:00",
          "1958-09-30T00:00:00",
          "1958-10-31T00:00:00",
          "1958-11-30T00:00:00",
          "1958-12-31T00:00:00",
          "1959-01-31T00:00:00",
          "1959-02-28T00:00:00",
          "1959-03-31T00:00:00",
          "1959-04-30T00:00:00",
          "1959-05-31T00:00:00",
          "1959-06-30T00:00:00",
          "1959-07-31T00:00:00",
          "1959-08-31T00:00:00",
          "1959-09-30T00:00:00",
          "1959-10-31T00:00:00",
          "1959-11-30T00:00:00",
          "1959-12-31T00:00:00",
          "1960-01-31T00:00:00",
          "1960-02-29T00:00:00",
          "1960-03-31T00:00:00",
          "1960-04-30T00:00:00",
          "1960-05-31T00:00:00",
          "1960-06-30T00:00:00",
          "1960-07-31T00:00:00",
          "1960-08-31T00:00:00",
          "1960-09-30T00:00:00",
          "1960-10-31T00:00:00",
          "1960-11-30T00:00:00",
          "1960-12-31T00:00:00",
          "1961-01-31T00:00:00",
          "1961-02-28T00:00:00",
          "1961-03-31T00:00:00",
          "1961-04-30T00:00:00",
          "1961-05-31T00:00:00",
          "1961-06-30T00:00:00",
          "1961-07-31T00:00:00",
          "1961-08-31T00:00:00",
          "1961-09-30T00:00:00",
          "1961-10-31T00:00:00",
          "1961-11-30T00:00:00",
          "1961-12-31T00:00:00",
          "1962-01-31T00:00:00",
          "1962-02-28T00:00:00",
          "1962-03-31T00:00:00",
          "1962-04-30T00:00:00",
          "1962-05-31T00:00:00",
          "1962-06-30T00:00:00",
          "1962-07-31T00:00:00",
          "1962-08-31T00:00:00",
          "1962-09-30T00:00:00",
          "1962-10-31T00:00:00",
          "1962-11-30T00:00:00",
          "1962-12-31T00:00:00",
          "1963-01-31T00:00:00",
          "1963-02-28T00:00:00",
          "1963-03-31T00:00:00",
          "1963-04-30T00:00:00",
          "1963-05-31T00:00:00",
          "1963-06-30T00:00:00",
          "1963-07-31T00:00:00",
          "1963-08-31T00:00:00",
          "1963-09-30T00:00:00",
          "1963-10-31T00:00:00",
          "1963-11-30T00:00:00",
          "1963-12-31T00:00:00",
          "1964-01-31T00:00:00",
          "1964-02-29T00:00:00",
          "1964-03-31T00:00:00",
          "1964-04-30T00:00:00",
          "1964-05-31T00:00:00",
          "1964-06-30T00:00:00",
          "1964-07-31T00:00:00",
          "1964-08-31T00:00:00",
          "1964-09-30T00:00:00",
          "1964-10-31T00:00:00",
          "1964-11-30T00:00:00",
          "1964-12-31T00:00:00"
         ],
         "xaxis": "x",
         "y": [
          null,
          null,
          null,
          null,
          null,
          null,
          null,
          null,
          null,
          null,
          null,
          null,
          null,
          null,
          null,
          null,
          null,
          null,
          null,
          null,
          null,
          null,
          null,
          null,
          null,
          null,
          null,
          null,
          null,
          null,
          null,
          null,
          null,
          null,
          null,
          null,
          null,
          null,
          null,
          null,
          null,
          null,
          null,
          null,
          null,
          null,
          null,
          null,
          null,
          null,
          null,
          null,
          null,
          null,
          null,
          null,
          null,
          null,
          null,
          null,
          null,
          null,
          null,
          null,
          null,
          null,
          null,
          null,
          null,
          null,
          null,
          null,
          null,
          null,
          null,
          null,
          null,
          null,
          null,
          null,
          null,
          null,
          null,
          null,
          null,
          null,
          null,
          null,
          null,
          null,
          null,
          null,
          null,
          null,
          null,
          null,
          null,
          null,
          null,
          null,
          null,
          null,
          null,
          null,
          null,
          null,
          null,
          null,
          null,
          null,
          null,
          null,
          null,
          null,
          null,
          null,
          null,
          null,
          null,
          null,
          null,
          null,
          null,
          null,
          null,
          null,
          null,
          null,
          null,
          null,
          null,
          null,
          null,
          null,
          null,
          null,
          null,
          null,
          null,
          null,
          null,
          null,
          null,
          6.103016649783284,
          6.026836526320771,
          6.02946408091066,
          6.058392699750836,
          6.116910620018553,
          6.2246639945913005,
          6.341663183634503,
          6.332945888093868,
          6.263021563939908,
          6.20933945718712,
          6.073778929911974,
          6.09628491800566,
          6.0903820255068,
          6.048456147156032,
          6.036059825421215,
          6.039609999074939,
          6.081209655524349,
          6.160522050970182,
          6.262931761364856,
          6.275825456776517,
          6.2597716214481105,
          6.2322180806079635,
          6.14150633681499,
          6.135176651191806,
          6.106050799533637,
          6.071620688048749,
          6.0482633095004665,
          6.040436042620546,
          6.061401354231191,
          6.11376980200786,
          6.196503448581742,
          6.222428740348588,
          6.237004290611736,
          6.228816275786912,
          6.17626078368483,
          6.163602488266338,
          6.129520490767927,
          6.097730666116635,
          6.066836931991702,
          6.051424389069148,
          6.054960449337538,
          6.085587155418391,
          6.146149286326912,
          6.175386123155745,
          6.20458127336048,
          6.21050814284958,
          6.1869974079455705,
          6.177740206826338
         ],
         "yaxis": "y"
        }
       ],
       "layout": {
        "legend": {
         "title": {
          "text": "variable"
         },
         "tracegroupgap": 0
        },
        "margin": {
         "t": 60
        },
        "template": {
         "data": {
          "bar": [
           {
            "error_x": {
             "color": "#f2f5fa"
            },
            "error_y": {
             "color": "#f2f5fa"
            },
            "marker": {
             "line": {
              "color": "rgb(17,17,17)",
              "width": 0.5
             },
             "pattern": {
              "fillmode": "overlay",
              "size": 10,
              "solidity": 0.2
             }
            },
            "type": "bar"
           }
          ],
          "barpolar": [
           {
            "marker": {
             "line": {
              "color": "rgb(17,17,17)",
              "width": 0.5
             },
             "pattern": {
              "fillmode": "overlay",
              "size": 10,
              "solidity": 0.2
             }
            },
            "type": "barpolar"
           }
          ],
          "carpet": [
           {
            "aaxis": {
             "endlinecolor": "#A2B1C6",
             "gridcolor": "#506784",
             "linecolor": "#506784",
             "minorgridcolor": "#506784",
             "startlinecolor": "#A2B1C6"
            },
            "baxis": {
             "endlinecolor": "#A2B1C6",
             "gridcolor": "#506784",
             "linecolor": "#506784",
             "minorgridcolor": "#506784",
             "startlinecolor": "#A2B1C6"
            },
            "type": "carpet"
           }
          ],
          "choropleth": [
           {
            "colorbar": {
             "outlinewidth": 0,
             "ticks": ""
            },
            "type": "choropleth"
           }
          ],
          "contour": [
           {
            "colorbar": {
             "outlinewidth": 0,
             "ticks": ""
            },
            "colorscale": [
             [
              0,
              "#0d0887"
             ],
             [
              0.1111111111111111,
              "#46039f"
             ],
             [
              0.2222222222222222,
              "#7201a8"
             ],
             [
              0.3333333333333333,
              "#9c179e"
             ],
             [
              0.4444444444444444,
              "#bd3786"
             ],
             [
              0.5555555555555556,
              "#d8576b"
             ],
             [
              0.6666666666666666,
              "#ed7953"
             ],
             [
              0.7777777777777778,
              "#fb9f3a"
             ],
             [
              0.8888888888888888,
              "#fdca26"
             ],
             [
              1,
              "#f0f921"
             ]
            ],
            "type": "contour"
           }
          ],
          "contourcarpet": [
           {
            "colorbar": {
             "outlinewidth": 0,
             "ticks": ""
            },
            "type": "contourcarpet"
           }
          ],
          "heatmap": [
           {
            "colorbar": {
             "outlinewidth": 0,
             "ticks": ""
            },
            "colorscale": [
             [
              0,
              "#0d0887"
             ],
             [
              0.1111111111111111,
              "#46039f"
             ],
             [
              0.2222222222222222,
              "#7201a8"
             ],
             [
              0.3333333333333333,
              "#9c179e"
             ],
             [
              0.4444444444444444,
              "#bd3786"
             ],
             [
              0.5555555555555556,
              "#d8576b"
             ],
             [
              0.6666666666666666,
              "#ed7953"
             ],
             [
              0.7777777777777778,
              "#fb9f3a"
             ],
             [
              0.8888888888888888,
              "#fdca26"
             ],
             [
              1,
              "#f0f921"
             ]
            ],
            "type": "heatmap"
           }
          ],
          "heatmapgl": [
           {
            "colorbar": {
             "outlinewidth": 0,
             "ticks": ""
            },
            "colorscale": [
             [
              0,
              "#0d0887"
             ],
             [
              0.1111111111111111,
              "#46039f"
             ],
             [
              0.2222222222222222,
              "#7201a8"
             ],
             [
              0.3333333333333333,
              "#9c179e"
             ],
             [
              0.4444444444444444,
              "#bd3786"
             ],
             [
              0.5555555555555556,
              "#d8576b"
             ],
             [
              0.6666666666666666,
              "#ed7953"
             ],
             [
              0.7777777777777778,
              "#fb9f3a"
             ],
             [
              0.8888888888888888,
              "#fdca26"
             ],
             [
              1,
              "#f0f921"
             ]
            ],
            "type": "heatmapgl"
           }
          ],
          "histogram": [
           {
            "marker": {
             "pattern": {
              "fillmode": "overlay",
              "size": 10,
              "solidity": 0.2
             }
            },
            "type": "histogram"
           }
          ],
          "histogram2d": [
           {
            "colorbar": {
             "outlinewidth": 0,
             "ticks": ""
            },
            "colorscale": [
             [
              0,
              "#0d0887"
             ],
             [
              0.1111111111111111,
              "#46039f"
             ],
             [
              0.2222222222222222,
              "#7201a8"
             ],
             [
              0.3333333333333333,
              "#9c179e"
             ],
             [
              0.4444444444444444,
              "#bd3786"
             ],
             [
              0.5555555555555556,
              "#d8576b"
             ],
             [
              0.6666666666666666,
              "#ed7953"
             ],
             [
              0.7777777777777778,
              "#fb9f3a"
             ],
             [
              0.8888888888888888,
              "#fdca26"
             ],
             [
              1,
              "#f0f921"
             ]
            ],
            "type": "histogram2d"
           }
          ],
          "histogram2dcontour": [
           {
            "colorbar": {
             "outlinewidth": 0,
             "ticks": ""
            },
            "colorscale": [
             [
              0,
              "#0d0887"
             ],
             [
              0.1111111111111111,
              "#46039f"
             ],
             [
              0.2222222222222222,
              "#7201a8"
             ],
             [
              0.3333333333333333,
              "#9c179e"
             ],
             [
              0.4444444444444444,
              "#bd3786"
             ],
             [
              0.5555555555555556,
              "#d8576b"
             ],
             [
              0.6666666666666666,
              "#ed7953"
             ],
             [
              0.7777777777777778,
              "#fb9f3a"
             ],
             [
              0.8888888888888888,
              "#fdca26"
             ],
             [
              1,
              "#f0f921"
             ]
            ],
            "type": "histogram2dcontour"
           }
          ],
          "mesh3d": [
           {
            "colorbar": {
             "outlinewidth": 0,
             "ticks": ""
            },
            "type": "mesh3d"
           }
          ],
          "parcoords": [
           {
            "line": {
             "colorbar": {
              "outlinewidth": 0,
              "ticks": ""
             }
            },
            "type": "parcoords"
           }
          ],
          "pie": [
           {
            "automargin": true,
            "type": "pie"
           }
          ],
          "scatter": [
           {
            "marker": {
             "line": {
              "color": "#283442"
             }
            },
            "type": "scatter"
           }
          ],
          "scatter3d": [
           {
            "line": {
             "colorbar": {
              "outlinewidth": 0,
              "ticks": ""
             }
            },
            "marker": {
             "colorbar": {
              "outlinewidth": 0,
              "ticks": ""
             }
            },
            "type": "scatter3d"
           }
          ],
          "scattercarpet": [
           {
            "marker": {
             "colorbar": {
              "outlinewidth": 0,
              "ticks": ""
             }
            },
            "type": "scattercarpet"
           }
          ],
          "scattergeo": [
           {
            "marker": {
             "colorbar": {
              "outlinewidth": 0,
              "ticks": ""
             }
            },
            "type": "scattergeo"
           }
          ],
          "scattergl": [
           {
            "marker": {
             "line": {
              "color": "#283442"
             }
            },
            "type": "scattergl"
           }
          ],
          "scattermapbox": [
           {
            "marker": {
             "colorbar": {
              "outlinewidth": 0,
              "ticks": ""
             }
            },
            "type": "scattermapbox"
           }
          ],
          "scatterpolar": [
           {
            "marker": {
             "colorbar": {
              "outlinewidth": 0,
              "ticks": ""
             }
            },
            "type": "scatterpolar"
           }
          ],
          "scatterpolargl": [
           {
            "marker": {
             "colorbar": {
              "outlinewidth": 0,
              "ticks": ""
             }
            },
            "type": "scatterpolargl"
           }
          ],
          "scatterternary": [
           {
            "marker": {
             "colorbar": {
              "outlinewidth": 0,
              "ticks": ""
             }
            },
            "type": "scatterternary"
           }
          ],
          "surface": [
           {
            "colorbar": {
             "outlinewidth": 0,
             "ticks": ""
            },
            "colorscale": [
             [
              0,
              "#0d0887"
             ],
             [
              0.1111111111111111,
              "#46039f"
             ],
             [
              0.2222222222222222,
              "#7201a8"
             ],
             [
              0.3333333333333333,
              "#9c179e"
             ],
             [
              0.4444444444444444,
              "#bd3786"
             ],
             [
              0.5555555555555556,
              "#d8576b"
             ],
             [
              0.6666666666666666,
              "#ed7953"
             ],
             [
              0.7777777777777778,
              "#fb9f3a"
             ],
             [
              0.8888888888888888,
              "#fdca26"
             ],
             [
              1,
              "#f0f921"
             ]
            ],
            "type": "surface"
           }
          ],
          "table": [
           {
            "cells": {
             "fill": {
              "color": "#506784"
             },
             "line": {
              "color": "rgb(17,17,17)"
             }
            },
            "header": {
             "fill": {
              "color": "#2a3f5f"
             },
             "line": {
              "color": "rgb(17,17,17)"
             }
            },
            "type": "table"
           }
          ]
         },
         "layout": {
          "annotationdefaults": {
           "arrowcolor": "#f2f5fa",
           "arrowhead": 0,
           "arrowwidth": 1
          },
          "autosize": false,
          "autotypenumbers": "strict",
          "coloraxis": {
           "colorbar": {
            "outlinewidth": 0,
            "ticks": ""
           }
          },
          "colorscale": {
           "diverging": [
            [
             0,
             "#8e0152"
            ],
            [
             0.1,
             "#c51b7d"
            ],
            [
             0.2,
             "#de77ae"
            ],
            [
             0.3,
             "#f1b6da"
            ],
            [
             0.4,
             "#fde0ef"
            ],
            [
             0.5,
             "#f7f7f7"
            ],
            [
             0.6,
             "#e6f5d0"
            ],
            [
             0.7,
             "#b8e186"
            ],
            [
             0.8,
             "#7fbc41"
            ],
            [
             0.9,
             "#4d9221"
            ],
            [
             1,
             "#276419"
            ]
           ],
           "sequential": [
            [
             0,
             "#0d0887"
            ],
            [
             0.1111111111111111,
             "#46039f"
            ],
            [
             0.2222222222222222,
             "#7201a8"
            ],
            [
             0.3333333333333333,
             "#9c179e"
            ],
            [
             0.4444444444444444,
             "#bd3786"
            ],
            [
             0.5555555555555556,
             "#d8576b"
            ],
            [
             0.6666666666666666,
             "#ed7953"
            ],
            [
             0.7777777777777778,
             "#fb9f3a"
            ],
            [
             0.8888888888888888,
             "#fdca26"
            ],
            [
             1,
             "#f0f921"
            ]
           ],
           "sequentialminus": [
            [
             0,
             "#0d0887"
            ],
            [
             0.1111111111111111,
             "#46039f"
            ],
            [
             0.2222222222222222,
             "#7201a8"
            ],
            [
             0.3333333333333333,
             "#9c179e"
            ],
            [
             0.4444444444444444,
             "#bd3786"
            ],
            [
             0.5555555555555556,
             "#d8576b"
            ],
            [
             0.6666666666666666,
             "#ed7953"
            ],
            [
             0.7777777777777778,
             "#fb9f3a"
            ],
            [
             0.8888888888888888,
             "#fdca26"
            ],
            [
             1,
             "#f0f921"
            ]
           ]
          },
          "colorway": [
           "#636efa",
           "#EF553B",
           "#00cc96",
           "#ab63fa",
           "#FFA15A",
           "#19d3f3",
           "#FF6692",
           "#B6E880",
           "#FF97FF",
           "#FECB52"
          ],
          "font": {
           "color": "#f2f5fa"
          },
          "geo": {
           "bgcolor": "rgb(17,17,17)",
           "lakecolor": "rgb(17,17,17)",
           "landcolor": "rgb(17,17,17)",
           "showlakes": true,
           "showland": true,
           "subunitcolor": "#506784"
          },
          "height": 500,
          "hoverlabel": {
           "align": "left"
          },
          "hovermode": "closest",
          "mapbox": {
           "style": "dark"
          },
          "paper_bgcolor": "rgb(17,17,17)",
          "plot_bgcolor": "rgb(17,17,17)",
          "polar": {
           "angularaxis": {
            "gridcolor": "#506784",
            "linecolor": "#506784",
            "ticks": ""
           },
           "bgcolor": "rgb(17,17,17)",
           "radialaxis": {
            "gridcolor": "#506784",
            "linecolor": "#506784",
            "ticks": ""
           }
          },
          "scene": {
           "xaxis": {
            "backgroundcolor": "rgb(17,17,17)",
            "gridcolor": "#506784",
            "gridwidth": 2,
            "linecolor": "#506784",
            "showbackground": true,
            "ticks": "",
            "zerolinecolor": "#C8D4E3"
           },
           "yaxis": {
            "backgroundcolor": "rgb(17,17,17)",
            "gridcolor": "#506784",
            "gridwidth": 2,
            "linecolor": "#506784",
            "showbackground": true,
            "ticks": "",
            "zerolinecolor": "#C8D4E3"
           },
           "zaxis": {
            "backgroundcolor": "rgb(17,17,17)",
            "gridcolor": "#506784",
            "gridwidth": 2,
            "linecolor": "#506784",
            "showbackground": true,
            "ticks": "",
            "zerolinecolor": "#C8D4E3"
           }
          },
          "shapedefaults": {
           "line": {
            "color": "#f2f5fa"
           }
          },
          "showlegend": true,
          "sliderdefaults": {
           "bgcolor": "#C8D4E3",
           "bordercolor": "rgb(17,17,17)",
           "borderwidth": 1,
           "tickwidth": 0
          },
          "ternary": {
           "aaxis": {
            "gridcolor": "#506784",
            "linecolor": "#506784",
            "ticks": ""
           },
           "baxis": {
            "gridcolor": "#506784",
            "linecolor": "#506784",
            "ticks": ""
           },
           "bgcolor": "rgb(17,17,17)",
           "caxis": {
            "gridcolor": "#506784",
            "linecolor": "#506784",
            "ticks": ""
           }
          },
          "title": {
           "x": 0.05
          },
          "updatemenudefaults": {
           "bgcolor": "#506784",
           "borderwidth": 0
          },
          "width": 1000,
          "xaxis": {
           "automargin": true,
           "gridcolor": "#283442",
           "linecolor": "#506784",
           "ticks": "",
           "title": {
            "standoff": 15
           },
           "zerolinecolor": "#283442",
           "zerolinewidth": 2
          },
          "yaxis": {
           "automargin": true,
           "gridcolor": "#283442",
           "linecolor": "#506784",
           "ticks": "",
           "title": {
            "standoff": 15
           },
           "zerolinecolor": "#283442",
           "zerolinewidth": 2
          }
         }
        },
        "xaxis": {
         "anchor": "y",
         "domain": [
          0,
          1
         ],
         "title": {
          "text": "index"
         }
        },
        "yaxis": {
         "anchor": "x",
         "domain": [
          0,
          1
         ],
         "title": {
          "text": "value"
         }
        }
       }
      }
     },
     "metadata": {},
     "output_type": "display_data"
    }
   ],
   "source": [
    "df_forecast = utils.get_model_forecast(df_forecast, \"values\", order=(12, 0, 1))\n",
    "df_forecast.plot(color='variable')"
   ]
  },
  {
   "cell_type": "markdown",
   "id": "8bb5ccce",
   "metadata": {},
   "source": [
    "## Diagnostics and assumptions"
   ]
  },
  {
   "cell_type": "code",
   "execution_count": 25,
   "id": "8afa9a44",
   "metadata": {},
   "outputs": [
    {
     "name": "stderr",
     "output_type": "stream",
     "text": [
      "/Users/sota/miniforge3/envs/work/lib/python3.13/site-packages/statsmodels/base/model.py:607: ConvergenceWarning:\n",
      "\n",
      "Maximum Likelihood optimization failed to converge. Check mle_retvals\n",
      "\n"
     ]
    },
    {
     "data": {
      "text/html": [
       "<table class=\"simpletable\">\n",
       "<caption>SARIMAX Results</caption>\n",
       "<tr>\n",
       "  <th>Dep. Variable:</th>        <td>values</td>      <th>  No. Observations:  </th>    <td>144</td>  \n",
       "</tr>\n",
       "<tr>\n",
       "  <th>Model:</th>            <td>ARIMA(12, 1, 2)</td> <th>  Log Likelihood     </th>  <td>246.818</td>\n",
       "</tr>\n",
       "<tr>\n",
       "  <th>Date:</th>            <td>Tue, 20 May 2025</td> <th>  AIC                </th> <td>-463.636</td>\n",
       "</tr>\n",
       "<tr>\n",
       "  <th>Time:</th>                <td>11:25:20</td>     <th>  BIC                </th> <td>-419.194</td>\n",
       "</tr>\n",
       "<tr>\n",
       "  <th>Sample:</th>             <td>01-31-1949</td>    <th>  HQIC               </th> <td>-445.577</td>\n",
       "</tr>\n",
       "<tr>\n",
       "  <th></th>                   <td>- 12-31-1960</td>   <th>                     </th>     <td> </td>   \n",
       "</tr>\n",
       "<tr>\n",
       "  <th>Covariance Type:</th>        <td>opg</td>       <th>                     </th>     <td> </td>   \n",
       "</tr>\n",
       "</table>\n",
       "<table class=\"simpletable\">\n",
       "<tr>\n",
       "     <td></td>       <th>coef</th>     <th>std err</th>      <th>z</th>      <th>P>|z|</th>  <th>[0.025</th>    <th>0.975]</th>  \n",
       "</tr>\n",
       "<tr>\n",
       "  <th>ar.L1</th>  <td>    0.1066</td> <td>    0.065</td> <td>    1.651</td> <td> 0.099</td> <td>   -0.020</td> <td>    0.233</td>\n",
       "</tr>\n",
       "<tr>\n",
       "  <th>ar.L2</th>  <td>   -0.0773</td> <td>    0.069</td> <td>   -1.117</td> <td> 0.264</td> <td>   -0.213</td> <td>    0.058</td>\n",
       "</tr>\n",
       "<tr>\n",
       "  <th>ar.L3</th>  <td>    0.0039</td> <td>    0.051</td> <td>    0.076</td> <td> 0.939</td> <td>   -0.095</td> <td>    0.103</td>\n",
       "</tr>\n",
       "<tr>\n",
       "  <th>ar.L4</th>  <td>   -0.0613</td> <td>    0.053</td> <td>   -1.156</td> <td> 0.248</td> <td>   -0.165</td> <td>    0.043</td>\n",
       "</tr>\n",
       "<tr>\n",
       "  <th>ar.L5</th>  <td>    0.0506</td> <td>    0.052</td> <td>    0.967</td> <td> 0.334</td> <td>   -0.052</td> <td>    0.153</td>\n",
       "</tr>\n",
       "<tr>\n",
       "  <th>ar.L6</th>  <td>   -0.0479</td> <td>    0.047</td> <td>   -1.019</td> <td> 0.308</td> <td>   -0.140</td> <td>    0.044</td>\n",
       "</tr>\n",
       "<tr>\n",
       "  <th>ar.L7</th>  <td>   -0.0111</td> <td>    0.051</td> <td>   -0.216</td> <td> 0.829</td> <td>   -0.111</td> <td>    0.089</td>\n",
       "</tr>\n",
       "<tr>\n",
       "  <th>ar.L8</th>  <td>   -0.0994</td> <td>    0.053</td> <td>   -1.892</td> <td> 0.059</td> <td>   -0.202</td> <td>    0.004</td>\n",
       "</tr>\n",
       "<tr>\n",
       "  <th>ar.L9</th>  <td>    0.0677</td> <td>    0.059</td> <td>    1.155</td> <td> 0.248</td> <td>   -0.047</td> <td>    0.182</td>\n",
       "</tr>\n",
       "<tr>\n",
       "  <th>ar.L10</th> <td>   -0.0681</td> <td>    0.057</td> <td>   -1.204</td> <td> 0.229</td> <td>   -0.179</td> <td>    0.043</td>\n",
       "</tr>\n",
       "<tr>\n",
       "  <th>ar.L11</th> <td>    0.0531</td> <td>    0.052</td> <td>    1.025</td> <td> 0.306</td> <td>   -0.048</td> <td>    0.155</td>\n",
       "</tr>\n",
       "<tr>\n",
       "  <th>ar.L12</th> <td>    0.8312</td> <td>    0.054</td> <td>   15.258</td> <td> 0.000</td> <td>    0.724</td> <td>    0.938</td>\n",
       "</tr>\n",
       "<tr>\n",
       "  <th>ma.L1</th>  <td>   -0.4404</td> <td>    0.100</td> <td>   -4.398</td> <td> 0.000</td> <td>   -0.637</td> <td>   -0.244</td>\n",
       "</tr>\n",
       "<tr>\n",
       "  <th>ma.L2</th>  <td>    0.0601</td> <td>    0.107</td> <td>    0.563</td> <td> 0.574</td> <td>   -0.149</td> <td>    0.269</td>\n",
       "</tr>\n",
       "<tr>\n",
       "  <th>sigma2</th> <td>    0.0016</td> <td>    0.000</td> <td>    7.774</td> <td> 0.000</td> <td>    0.001</td> <td>    0.002</td>\n",
       "</tr>\n",
       "</table>\n",
       "<table class=\"simpletable\">\n",
       "<tr>\n",
       "  <th>Ljung-Box (L1) (Q):</th>     <td>0.03</td> <th>  Jarque-Bera (JB):  </th> <td>3.11</td>\n",
       "</tr>\n",
       "<tr>\n",
       "  <th>Prob(Q):</th>                <td>0.87</td> <th>  Prob(JB):          </th> <td>0.21</td>\n",
       "</tr>\n",
       "<tr>\n",
       "  <th>Heteroskedasticity (H):</th> <td>0.50</td> <th>  Skew:              </th> <td>0.35</td>\n",
       "</tr>\n",
       "<tr>\n",
       "  <th>Prob(H) (two-sided):</th>    <td>0.02</td> <th>  Kurtosis:          </th> <td>3.19</td>\n",
       "</tr>\n",
       "</table><br/><br/>Warnings:<br/>[1] Covariance matrix calculated using the outer product of gradients (complex-step)."
      ],
      "text/latex": [
       "\\begin{center}\n",
       "\\begin{tabular}{lclc}\n",
       "\\toprule\n",
       "\\textbf{Dep. Variable:}          &      values      & \\textbf{  No. Observations:  } &    144      \\\\\n",
       "\\textbf{Model:}                  & ARIMA(12, 1, 2)  & \\textbf{  Log Likelihood     } &  246.818    \\\\\n",
       "\\textbf{Date:}                   & Tue, 20 May 2025 & \\textbf{  AIC                } &  -463.636   \\\\\n",
       "\\textbf{Time:}                   &     11:25:20     & \\textbf{  BIC                } &  -419.194   \\\\\n",
       "\\textbf{Sample:}                 &    01-31-1949    & \\textbf{  HQIC               } &  -445.577   \\\\\n",
       "\\textbf{}                        &   - 12-31-1960   & \\textbf{                     } &             \\\\\n",
       "\\textbf{Covariance Type:}        &       opg        & \\textbf{                     } &             \\\\\n",
       "\\bottomrule\n",
       "\\end{tabular}\n",
       "\\begin{tabular}{lcccccc}\n",
       "                & \\textbf{coef} & \\textbf{std err} & \\textbf{z} & \\textbf{P$> |$z$|$} & \\textbf{[0.025} & \\textbf{0.975]}  \\\\\n",
       "\\midrule\n",
       "\\textbf{ar.L1}  &       0.1066  &        0.065     &     1.651  &         0.099        &       -0.020    &        0.233     \\\\\n",
       "\\textbf{ar.L2}  &      -0.0773  &        0.069     &    -1.117  &         0.264        &       -0.213    &        0.058     \\\\\n",
       "\\textbf{ar.L3}  &       0.0039  &        0.051     &     0.076  &         0.939        &       -0.095    &        0.103     \\\\\n",
       "\\textbf{ar.L4}  &      -0.0613  &        0.053     &    -1.156  &         0.248        &       -0.165    &        0.043     \\\\\n",
       "\\textbf{ar.L5}  &       0.0506  &        0.052     &     0.967  &         0.334        &       -0.052    &        0.153     \\\\\n",
       "\\textbf{ar.L6}  &      -0.0479  &        0.047     &    -1.019  &         0.308        &       -0.140    &        0.044     \\\\\n",
       "\\textbf{ar.L7}  &      -0.0111  &        0.051     &    -0.216  &         0.829        &       -0.111    &        0.089     \\\\\n",
       "\\textbf{ar.L8}  &      -0.0994  &        0.053     &    -1.892  &         0.059        &       -0.202    &        0.004     \\\\\n",
       "\\textbf{ar.L9}  &       0.0677  &        0.059     &     1.155  &         0.248        &       -0.047    &        0.182     \\\\\n",
       "\\textbf{ar.L10} &      -0.0681  &        0.057     &    -1.204  &         0.229        &       -0.179    &        0.043     \\\\\n",
       "\\textbf{ar.L11} &       0.0531  &        0.052     &     1.025  &         0.306        &       -0.048    &        0.155     \\\\\n",
       "\\textbf{ar.L12} &       0.8312  &        0.054     &    15.258  &         0.000        &        0.724    &        0.938     \\\\\n",
       "\\textbf{ma.L1}  &      -0.4404  &        0.100     &    -4.398  &         0.000        &       -0.637    &       -0.244     \\\\\n",
       "\\textbf{ma.L2}  &       0.0601  &        0.107     &     0.563  &         0.574        &       -0.149    &        0.269     \\\\\n",
       "\\textbf{sigma2} &       0.0016  &        0.000     &     7.774  &         0.000        &        0.001    &        0.002     \\\\\n",
       "\\bottomrule\n",
       "\\end{tabular}\n",
       "\\begin{tabular}{lclc}\n",
       "\\textbf{Ljung-Box (L1) (Q):}     & 0.03 & \\textbf{  Jarque-Bera (JB):  } & 3.11  \\\\\n",
       "\\textbf{Prob(Q):}                & 0.87 & \\textbf{  Prob(JB):          } & 0.21  \\\\\n",
       "\\textbf{Heteroskedasticity (H):} & 0.50 & \\textbf{  Skew:              } & 0.35  \\\\\n",
       "\\textbf{Prob(H) (two-sided):}    & 0.02 & \\textbf{  Kurtosis:          } & 3.19  \\\\\n",
       "\\bottomrule\n",
       "\\end{tabular}\n",
       "%\\caption{SARIMAX Results}\n",
       "\\end{center}\n",
       "\n",
       "Warnings: \\newline\n",
       " [1] Covariance matrix calculated using the outer product of gradients (complex-step)."
      ],
      "text/plain": [
       "<class 'statsmodels.iolib.summary.Summary'>\n",
       "\"\"\"\n",
       "                               SARIMAX Results                                \n",
       "==============================================================================\n",
       "Dep. Variable:                 values   No. Observations:                  144\n",
       "Model:                ARIMA(12, 1, 2)   Log Likelihood                 246.818\n",
       "Date:                Tue, 20 May 2025   AIC                           -463.636\n",
       "Time:                        11:25:20   BIC                           -419.194\n",
       "Sample:                    01-31-1949   HQIC                          -445.577\n",
       "                         - 12-31-1960                                         \n",
       "Covariance Type:                  opg                                         \n",
       "==============================================================================\n",
       "                 coef    std err          z      P>|z|      [0.025      0.975]\n",
       "------------------------------------------------------------------------------\n",
       "ar.L1          0.1066      0.065      1.651      0.099      -0.020       0.233\n",
       "ar.L2         -0.0773      0.069     -1.117      0.264      -0.213       0.058\n",
       "ar.L3          0.0039      0.051      0.076      0.939      -0.095       0.103\n",
       "ar.L4         -0.0613      0.053     -1.156      0.248      -0.165       0.043\n",
       "ar.L5          0.0506      0.052      0.967      0.334      -0.052       0.153\n",
       "ar.L6         -0.0479      0.047     -1.019      0.308      -0.140       0.044\n",
       "ar.L7         -0.0111      0.051     -0.216      0.829      -0.111       0.089\n",
       "ar.L8         -0.0994      0.053     -1.892      0.059      -0.202       0.004\n",
       "ar.L9          0.0677      0.059      1.155      0.248      -0.047       0.182\n",
       "ar.L10        -0.0681      0.057     -1.204      0.229      -0.179       0.043\n",
       "ar.L11         0.0531      0.052      1.025      0.306      -0.048       0.155\n",
       "ar.L12         0.8312      0.054     15.258      0.000       0.724       0.938\n",
       "ma.L1         -0.4404      0.100     -4.398      0.000      -0.637      -0.244\n",
       "ma.L2          0.0601      0.107      0.563      0.574      -0.149       0.269\n",
       "sigma2         0.0016      0.000      7.774      0.000       0.001       0.002\n",
       "===================================================================================\n",
       "Ljung-Box (L1) (Q):                   0.03   Jarque-Bera (JB):                 3.11\n",
       "Prob(Q):                              0.87   Prob(JB):                         0.21\n",
       "Heteroskedasticity (H):               0.50   Skew:                             0.35\n",
       "Prob(H) (two-sided):                  0.02   Kurtosis:                         3.19\n",
       "===================================================================================\n",
       "\n",
       "Warnings:\n",
       "[1] Covariance matrix calculated using the outer product of gradients (complex-step).\n",
       "\"\"\""
      ]
     },
     "execution_count": 25,
     "metadata": {},
     "output_type": "execute_result"
    }
   ],
   "source": [
    "model = ARIMA(series, order=(12, 1, 2))\n",
    "model_fit = model.fit()\n",
    "model_fit.summary()"
   ]
  },
  {
   "cell_type": "code",
   "execution_count": 26,
   "id": "cc41ef42",
   "metadata": {},
   "outputs": [],
   "source": [
    "residuals = model_fit.resid[1:]"
   ]
  },
  {
   "cell_type": "markdown",
   "id": "8199514e",
   "metadata": {},
   "source": [
    "### Autocorrelation"
   ]
  },
  {
   "cell_type": "markdown",
   "id": "a037852b",
   "metadata": {},
   "source": [
    "#### Plot"
   ]
  },
  {
   "cell_type": "code",
   "execution_count": 27,
   "id": "be0a49c8",
   "metadata": {},
   "outputs": [
    {
     "data": {
      "image/png": "[encoded data removed]",
      "text/plain": [
       "<Figure size 1200x400 with 1 Axes>"
      ]
     },
     "metadata": {},
     "output_type": "display_data"
    }
   ],
   "source": [
    "from statsmodels.tsa.stattools import acf\n",
    "import matplotlib.pyplot as plt\n",
    "\n",
    "lags = 40\n",
    "acf = acf(residuals, nlags=lags)\n",
    "\n",
    "fig, ax = plt.subplots(1, 1, figsize=(12, 4))\n",
    "ax.stem(range(lags + 1), acf)\n",
    "ax.set_title(\"ACF\")\n",
    "plt.show()\n"
   ]
  },
  {
   "cell_type": "markdown",
   "id": "91ecb33f",
   "metadata": {},
   "source": [
    "#### Test"
   ]
  },
  {
   "cell_type": "code",
   "execution_count": 28,
   "id": "682f25a6",
   "metadata": {},
   "outputs": [
    {
     "name": "stdout",
     "output_type": "stream",
     "text": [
      "Ljung-Box Test:\n",
      "       lb_stat  lb_pvalue\n",
      "10  11.435226   0.324630\n",
      "20  28.337822   0.101641\n",
      "30  39.328977   0.118528\n"
     ]
    }
   ],
   "source": [
    "from statsmodels.stats.diagnostic import acorr_ljungbox\n",
    "\n",
    "lb = acorr_ljungbox(residuals, lags=[10, 20, 30], return_df=True)\n",
    "print(\"Ljung-Box Test:\\n\", lb)"
   ]
  },
  {
   "cell_type": "markdown",
   "id": "5d6bd677",
   "metadata": {},
   "source": [
    "### Normality"
   ]
  },
  {
   "cell_type": "markdown",
   "id": "e8ac97a6",
   "metadata": {},
   "source": [
    "#### Plot"
   ]
  },
  {
   "cell_type": "code",
   "execution_count": 29,
   "id": "cdadb28f",
   "metadata": {},
   "outputs": [
    {
     "data": {
      "image/png": "[encoded data removed]",
      "text/plain": [
       "<Figure size 1200x400 with 1 Axes>"
      ]
     },
     "metadata": {},
     "output_type": "display_data"
    }
   ],
   "source": [
    "from scipy import stats\n",
    "\n",
    "fig, ax = plt.subplots(1, 1, figsize=(12, 4))\n",
    "stats.probplot(residuals, dist=\"norm\", plot=ax)\n",
    "ax.set_title(\"QQ Plot\")\n",
    "plt.show()"
   ]
  },
  {
   "cell_type": "markdown",
   "id": "8a2e5b1f",
   "metadata": {},
   "source": [
    "#### Test"
   ]
  },
  {
   "cell_type": "code",
   "execution_count": 30,
   "id": "8d20dced",
   "metadata": {},
   "outputs": [
    {
     "name": "stdout",
     "output_type": "stream",
     "text": [
      "Jarque-Bera (Good): Statistic=6.464, p-value=0.039\n"
     ]
    }
   ],
   "source": [
    "from scipy.stats import jarque_bera\n",
    "\n",
    "jb = jarque_bera(residuals)\n",
    "\n",
    "print(\n",
    "    f\"Jarque-Bera (Good): Statistic={jb.statistic:.3f}, p-value={jb.pvalue:.3f}\"\n",
    ")"
   ]
  },
  {
   "cell_type": "markdown",
   "id": "51843c5a",
   "metadata": {},
   "source": [
    "### Homoscedasticity"
   ]
  },
  {
   "cell_type": "markdown",
   "id": "d449730a",
   "metadata": {},
   "source": [
    "#### Plot"
   ]
  },
  {
   "cell_type": "code",
   "execution_count": 31,
   "id": "2342f3ca",
   "metadata": {},
   "outputs": [
    {
     "data": {
      "image/png": "[encoded data removed]",
      "text/plain": [
       "<Figure size 1200x400 with 1 Axes>"
      ]
     },
     "metadata": {},
     "output_type": "display_data"
    }
   ],
   "source": [
    "fig, ax = plt.subplots(1, 1, figsize=(12, 4))\n",
    "ax.plot(residuals)\n",
    "ax.set_title(\"Residuals (Homoscedastic)\")\n",
    "plt.show()"
   ]
  },
  {
   "cell_type": "markdown",
   "id": "b534357f",
   "metadata": {},
   "source": [
    "#### Test"
   ]
  },
  {
   "cell_type": "code",
   "execution_count": 32,
   "id": "61a59e26",
   "metadata": {},
   "outputs": [
    {
     "name": "stdout",
     "output_type": "stream",
     "text": [
      "ARCH Test: LM Stat=25.653, p-value=0.004\n"
     ]
    }
   ],
   "source": [
    "from statsmodels.stats.diagnostic import het_arch\n",
    "arch = het_arch(residuals)\n",
    "\n",
    "print(f\"ARCH Test: LM Stat={arch[0]:.3f}, p-value={arch[1]:.3f}\")"
   ]
  }
 ],
 "metadata": {
  "kernelspec": {
   "display_name": "work",
   "language": "python",
   "name": "python3"
  },
  "language_info": {
   "codemirror_mode": {
    "name": "ipython",
    "version": 3
   },
   "file_extension": ".py",
   "mimetype": "text/x-python",
   "name": "python",
   "nbconvert_exporter": "python",
   "pygments_lexer": "ipython3",
   "version": "3.13.1"
  }
 },
 "nbformat": 4,
 "nbformat_minor": 5
}
