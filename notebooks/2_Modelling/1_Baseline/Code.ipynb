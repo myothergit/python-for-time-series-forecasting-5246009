{
 "cells": [
  {
   "cell_type": "markdown",
   "id": "d9c693f4",
   "metadata": {
    "papermill": {
     "duration": 0.006292,
     "end_time": "2024-05-29T23:01:56.746283",
     "exception": false,
     "start_time": "2024-05-29T23:01:56.739991",
     "status": "completed"
    },
    "tags": []
   },
   "source": [
    "# Baseline models for time series forecasting"
   ]
  },
  {
   "cell_type": "code",
   "execution_count": 1,
   "id": "a88a5674",
   "metadata": {},
   "outputs": [],
   "source": [
    "\n",
    "from modules import utils\n",
    "utils.configure_plotly_template(showlegend=True)"
   ]
  },
  {
   "cell_type": "markdown",
   "id": "ae5c56bf",
   "metadata": {
    "papermill": {
     "duration": 0.006626,
     "end_time": "2024-05-29T23:01:56.783825",
     "exception": false,
     "start_time": "2024-05-29T23:01:56.777199",
     "status": "completed"
    },
    "tags": []
   },
   "source": [
    "## Data"
   ]
  },
  {
   "cell_type": "code",
   "execution_count": 2,
   "id": "17365f80",
   "metadata": {
    "execution": {
     "iopub.execute_input": "2024-05-29T23:01:56.791010Z",
     "iopub.status.busy": "2024-05-29T23:01:56.790787Z",
     "iopub.status.idle": "2024-05-29T23:01:56.952856Z",
     "shell.execute_reply": "2024-05-29T23:01:56.952584Z"
    },
    "papermill": {
     "duration": 0.166226,
     "end_time": "2024-05-29T23:01:56.953705",
     "exception": false,
     "start_time": "2024-05-29T23:01:56.787479",
     "status": "completed"
    },
    "tags": [
     "Fixed"
    ]
   },
   "outputs": [
    {
     "data": {
      "text/html": [
       "<div>\n",
       "<style scoped>\n",
       "    .dataframe tbody tr th:only-of-type {\n",
       "        vertical-align: middle;\n",
       "    }\n",
       "\n",
       "    .dataframe tbody tr th {\n",
       "        vertical-align: top;\n",
       "    }\n",
       "\n",
       "    .dataframe thead th {\n",
       "        text-align: right;\n",
       "    }\n",
       "</style>\n",
       "<table border=\"1\" class=\"dataframe\">\n",
       "  <thead>\n",
       "    <tr style=\"text-align: right;\">\n",
       "      <th></th>\n",
       "      <th>values</th>\n",
       "    </tr>\n",
       "  </thead>\n",
       "  <tbody>\n",
       "    <tr>\n",
       "      <th>1949-01-31</th>\n",
       "      <td>112</td>\n",
       "    </tr>\n",
       "    <tr>\n",
       "      <th>1949-02-28</th>\n",
       "      <td>118</td>\n",
       "    </tr>\n",
       "    <tr>\n",
       "      <th>...</th>\n",
       "      <td>...</td>\n",
       "    </tr>\n",
       "    <tr>\n",
       "      <th>1960-11-30</th>\n",
       "      <td>390</td>\n",
       "    </tr>\n",
       "    <tr>\n",
       "      <th>1960-12-31</th>\n",
       "      <td>432</td>\n",
       "    </tr>\n",
       "  </tbody>\n",
       "</table>\n",
       "<p>144 rows × 1 columns</p>\n",
       "</div>"
      ],
      "text/plain": [
       "            values\n",
       "1949-01-31     112\n",
       "1949-02-28     118\n",
       "...            ...\n",
       "1960-11-30     390\n",
       "1960-12-31     432\n",
       "\n",
       "[144 rows x 1 columns]"
      ]
     },
     "execution_count": 2,
     "metadata": {},
     "output_type": "execute_result"
    }
   ],
   "source": [
    "import pandas as pd\n",
    "\n",
    "df = pd.read_parquet('../../../data/statsmodels/AirPassengers.parquet').asfreq('ME')\n",
    "df.columns = ['values']\n",
    "\n",
    "df"
   ]
  },
  {
   "cell_type": "code",
   "execution_count": 3,
   "id": "3c4c0434",
   "metadata": {},
   "outputs": [
    {
     "data": {
      "text/plain": [
       "array([112, 118, 132, 129, 121, 135, 148, 148, 136, 119, 104, 118, 115,\n",
       "       126, 141, 135, 125, 149, 170, 170, 158, 133, 114, 140, 145, 150,\n",
       "       178, 163, 172, 178, 199, 199, 184, 162, 146, 166, 171, 180, 193,\n",
       "       181, 183, 218, 230, 242, 209, 191, 172, 194, 196, 196, 236, 235,\n",
       "       229, 243, 264, 272, 237, 211, 180, 201, 204, 188, 235, 227, 234,\n",
       "       264, 302, 293, 259, 229, 203, 229, 242, 233, 267, 269, 270, 315,\n",
       "       364, 347, 312, 274, 237, 278, 284, 277, 317, 313, 318, 374, 413,\n",
       "       405, 355, 306, 271, 306, 315, 301, 356, 348, 355, 422, 465, 467,\n",
       "       404, 347, 305, 336, 340, 318, 362, 348, 363, 435, 491, 505, 404,\n",
       "       359, 310, 337, 360, 342, 406, 396, 420, 472, 548, 559, 463, 407,\n",
       "       362, 405, 417, 391, 419, 461, 472, 535, 622, 606, 508, 461, 390,\n",
       "       432])"
      ]
     },
     "execution_count": 3,
     "metadata": {},
     "output_type": "execute_result"
    }
   ],
   "source": [
    "series = df['values'].values\n",
    "series"
   ]
  },
  {
   "cell_type": "markdown",
   "id": "c4300225",
   "metadata": {},
   "source": [
    "## Prepare DataFrame for forecasts"
   ]
  },
  {
   "cell_type": "code",
   "execution_count": 4,
   "id": "9d095d5b",
   "metadata": {},
   "outputs": [
    {
     "data": {
      "text/plain": [
       "(Timestamp('1961-01-31 00:00:00'), Timestamp('1965-01-31 00:00:00'))"
      ]
     },
     "execution_count": 4,
     "metadata": {},
     "output_type": "execute_result"
    }
   ],
   "source": [
    "HORIZON = 12 * 4\n",
    "\n",
    "start = df.index.max() + pd.DateOffset(months=1)\n",
    "end = start + pd.DateOffset(months=HORIZON)\n",
    "\n",
    "start, end"
   ]
  },
  {
   "cell_type": "code",
   "execution_count": 5,
   "id": "e1f4531c",
   "metadata": {},
   "outputs": [
    {
     "data": {
      "text/html": [
       "<div>\n",
       "<style scoped>\n",
       "    .dataframe tbody tr th:only-of-type {\n",
       "        vertical-align: middle;\n",
       "    }\n",
       "\n",
       "    .dataframe tbody tr th {\n",
       "        vertical-align: top;\n",
       "    }\n",
       "\n",
       "    .dataframe thead th {\n",
       "        text-align: right;\n",
       "    }\n",
       "</style>\n",
       "<table border=\"1\" class=\"dataframe\">\n",
       "  <thead>\n",
       "    <tr style=\"text-align: right;\">\n",
       "      <th></th>\n",
       "    </tr>\n",
       "  </thead>\n",
       "  <tbody>\n",
       "    <tr>\n",
       "      <th>1961-02-01</th>\n",
       "    </tr>\n",
       "    <tr>\n",
       "      <th>1961-03-01</th>\n",
       "    </tr>\n",
       "    <tr>\n",
       "      <th>...</th>\n",
       "    </tr>\n",
       "    <tr>\n",
       "      <th>1964-12-01</th>\n",
       "    </tr>\n",
       "    <tr>\n",
       "      <th>1965-01-01</th>\n",
       "    </tr>\n",
       "  </tbody>\n",
       "</table>\n",
       "<p>48 rows × 0 columns</p>\n",
       "</div>"
      ],
      "text/plain": [
       "Empty DataFrame\n",
       "Columns: []\n",
       "Index: [1961-02-01 00:00:00, 1961-03-01 00:00:00, 1961-04-01 00:00:00, 1961-05-01 00:00:00, 1961-06-01 00:00:00, 1961-07-01 00:00:00, 1961-08-01 00:00:00, 1961-09-01 00:00:00, 1961-10-01 00:00:00, 1961-11-01 00:00:00, 1961-12-01 00:00:00, 1962-01-01 00:00:00, 1962-02-01 00:00:00, 1962-03-01 00:00:00, 1962-04-01 00:00:00, 1962-05-01 00:00:00, 1962-06-01 00:00:00, 1962-07-01 00:00:00, 1962-08-01 00:00:00, 1962-09-01 00:00:00, 1962-10-01 00:00:00, 1962-11-01 00:00:00, 1962-12-01 00:00:00, 1963-01-01 00:00:00, 1963-02-01 00:00:00, 1963-03-01 00:00:00, 1963-04-01 00:00:00, 1963-05-01 00:00:00, 1963-06-01 00:00:00, 1963-07-01 00:00:00, 1963-08-01 00:00:00, 1963-09-01 00:00:00, 1963-10-01 00:00:00, 1963-11-01 00:00:00, 1963-12-01 00:00:00, 1964-01-01 00:00:00, 1964-02-01 00:00:00, 1964-03-01 00:00:00, 1964-04-01 00:00:00, 1964-05-01 00:00:00, 1964-06-01 00:00:00, 1964-07-01 00:00:00, 1964-08-01 00:00:00, 1964-09-01 00:00:00, 1964-10-01 00:00:00, 1964-11-01 00:00:00, 1964-12-01 00:00:00, 1965-01-01 00:00:00]\n",
       "\n",
       "[48 rows x 0 columns]"
      ]
     },
     "execution_count": 5,
     "metadata": {},
     "output_type": "execute_result"
    }
   ],
   "source": [
    "df_forecast = pd.DataFrame(index=pd.date_range(start=start, end=end, freq=\"MS\"))\n",
    "df_forecast"
   ]
  },
  {
   "cell_type": "markdown",
   "id": "e6762cbb",
   "metadata": {
    "papermill": {
     "duration": 0.001187,
     "end_time": "2024-05-29T23:01:58.686609",
     "exception": false,
     "start_time": "2024-05-29T23:01:58.685422",
     "status": "completed"
    },
    "tags": []
   },
   "source": [
    "## Last observation method"
   ]
  },
  {
   "cell_type": "code",
   "execution_count": 6,
   "id": "c87bab55",
   "metadata": {},
   "outputs": [
    {
     "data": {
      "text/html": [
       "<div>\n",
       "<style scoped>\n",
       "    .dataframe tbody tr th:only-of-type {\n",
       "        vertical-align: middle;\n",
       "    }\n",
       "\n",
       "    .dataframe tbody tr th {\n",
       "        vertical-align: top;\n",
       "    }\n",
       "\n",
       "    .dataframe thead th {\n",
       "        text-align: right;\n",
       "    }\n",
       "</style>\n",
       "<table border=\"1\" class=\"dataframe\">\n",
       "  <thead>\n",
       "    <tr style=\"text-align: right;\">\n",
       "      <th></th>\n",
       "      <th>last_observation</th>\n",
       "    </tr>\n",
       "  </thead>\n",
       "  <tbody>\n",
       "    <tr>\n",
       "      <th>1961-02-01</th>\n",
       "      <td>432</td>\n",
       "    </tr>\n",
       "    <tr>\n",
       "      <th>1961-03-01</th>\n",
       "      <td>432</td>\n",
       "    </tr>\n",
       "    <tr>\n",
       "      <th>...</th>\n",
       "      <td>...</td>\n",
       "    </tr>\n",
       "    <tr>\n",
       "      <th>1964-12-01</th>\n",
       "      <td>432</td>\n",
       "    </tr>\n",
       "    <tr>\n",
       "      <th>1965-01-01</th>\n",
       "      <td>432</td>\n",
       "    </tr>\n",
       "  </tbody>\n",
       "</table>\n",
       "<p>48 rows × 1 columns</p>\n",
       "</div>"
      ],
      "text/plain": [
       "            last_observation\n",
       "1961-02-01               432\n",
       "1961-03-01               432\n",
       "...                      ...\n",
       "1964-12-01               432\n",
       "1965-01-01               432\n",
       "\n",
       "[48 rows x 1 columns]"
      ]
     },
     "execution_count": 6,
     "metadata": {},
     "output_type": "execute_result"
    }
   ],
   "source": [
    "df_forecast[\"last_observation\"] = series[-1]\n",
    "df_forecast"
   ]
  },
  {
   "cell_type": "code",
   "execution_count": 7,
   "id": "b82957b4",
   "metadata": {
    "execution": {
     "iopub.execute_input": "2024-05-29T23:01:58.689302Z",
     "iopub.status.busy": "2024-05-29T23:01:58.689223Z",
     "iopub.status.idle": "2024-05-29T23:01:59.159213Z",
     "shell.execute_reply": "2024-05-29T23:01:59.158815Z"
    },
    "papermill": {
     "duration": 0.472252,
     "end_time": "2024-05-29T23:01:59.160000",
     "exception": false,
     "start_time": "2024-05-29T23:01:58.687748",
     "status": "completed"
    },
    "tags": [
     "Fixed"
    ]
   },
   "outputs": [
    {
     "data": {
      "application/vnd.plotly.v1+json": {
       "config": {
        "plotlyServerURL": "https://plot.ly"
       },
       "data": [
        {
         "hovertemplate": "variable=values<br>index=%{x}<br>value=%{y}<extra></extra>",
         "legendgroup": "values",
         "line": {
          "color": "#636efa",
          "dash": "solid"
         },
         "marker": {
          "symbol": "circle"
         },
         "mode": "lines",
         "name": "values",
         "orientation": "v",
         "showlegend": true,
         "type": "scatter",
         "x": [
          "1949-01-31T00:00:00.000000000",
          "1949-02-28T00:00:00.000000000",
          "1949-03-31T00:00:00.000000000",
          "1949-04-30T00:00:00.000000000",
          "1949-05-31T00:00:00.000000000",
          "1949-06-30T00:00:00.000000000",
          "1949-07-31T00:00:00.000000000",
          "1949-08-31T00:00:00.000000000",
          "1949-09-30T00:00:00.000000000",
          "1949-10-31T00:00:00.000000000",
          "1949-11-30T00:00:00.000000000",
          "1949-12-31T00:00:00.000000000",
          "1950-01-31T00:00:00.000000000",
          "1950-02-28T00:00:00.000000000",
          "1950-03-31T00:00:00.000000000",
          "1950-04-30T00:00:00.000000000",
          "1950-05-31T00:00:00.000000000",
          "1950-06-30T00:00:00.000000000",
          "1950-07-31T00:00:00.000000000",
          "1950-08-31T00:00:00.000000000",
          "1950-09-30T00:00:00.000000000",
          "1950-10-31T00:00:00.000000000",
          "1950-11-30T00:00:00.000000000",
          "1950-12-31T00:00:00.000000000",
          "1951-01-31T00:00:00.000000000",
          "1951-02-28T00:00:00.000000000",
          "1951-03-31T00:00:00.000000000",
          "1951-04-30T00:00:00.000000000",
          "1951-05-31T00:00:00.000000000",
          "1951-06-30T00:00:00.000000000",
          "1951-07-31T00:00:00.000000000",
          "1951-08-31T00:00:00.000000000",
          "1951-09-30T00:00:00.000000000",
          "1951-10-31T00:00:00.000000000",
          "1951-11-30T00:00:00.000000000",
          "1951-12-31T00:00:00.000000000",
          "1952-01-31T00:00:00.000000000",
          "1952-02-29T00:00:00.000000000",
          "1952-03-31T00:00:00.000000000",
          "1952-04-30T00:00:00.000000000",
          "1952-05-31T00:00:00.000000000",
          "1952-06-30T00:00:00.000000000",
          "1952-07-31T00:00:00.000000000",
          "1952-08-31T00:00:00.000000000",
          "1952-09-30T00:00:00.000000000",
          "1952-10-31T00:00:00.000000000",
          "1952-11-30T00:00:00.000000000",
          "1952-12-31T00:00:00.000000000",
          "1953-01-31T00:00:00.000000000",
          "1953-02-28T00:00:00.000000000",
          "1953-03-31T00:00:00.000000000",
          "1953-04-30T00:00:00.000000000",
          "1953-05-31T00:00:00.000000000",
          "1953-06-30T00:00:00.000000000",
          "1953-07-31T00:00:00.000000000",
          "1953-08-31T00:00:00.000000000",
          "1953-09-30T00:00:00.000000000",
          "1953-10-31T00:00:00.000000000",
          "1953-11-30T00:00:00.000000000",
          "1953-12-31T00:00:00.000000000",
          "1954-01-31T00:00:00.000000000",
          "1954-02-28T00:00:00.000000000",
          "1954-03-31T00:00:00.000000000",
          "1954-04-30T00:00:00.000000000",
          "1954-05-31T00:00:00.000000000",
          "1954-06-30T00:00:00.000000000",
          "1954-07-31T00:00:00.000000000",
          "1954-08-31T00:00:00.000000000",
          "1954-09-30T00:00:00.000000000",
          "1954-10-31T00:00:00.000000000",
          "1954-11-30T00:00:00.000000000",
          "1954-12-31T00:00:00.000000000",
          "1955-01-31T00:00:00.000000000",
          "1955-02-28T00:00:00.000000000",
          "1955-03-31T00:00:00.000000000",
          "1955-04-30T00:00:00.000000000",
          "1955-05-31T00:00:00.000000000",
          "1955-06-30T00:00:00.000000000",
          "1955-07-31T00:00:00.000000000",
          "1955-08-31T00:00:00.000000000",
          "1955-09-30T00:00:00.000000000",
          "1955-10-31T00:00:00.000000000",
          "1955-11-30T00:00:00.000000000",
          "1955-12-31T00:00:00.000000000",
          "1956-01-31T00:00:00.000000000",
          "1956-02-29T00:00:00.000000000",
          "1956-03-31T00:00:00.000000000",
          "1956-04-30T00:00:00.000000000",
          "1956-05-31T00:00:00.000000000",
          "1956-06-30T00:00:00.000000000",
          "1956-07-31T00:00:00.000000000",
          "1956-08-31T00:00:00.000000000",
          "1956-09-30T00:00:00.000000000",
          "1956-10-31T00:00:00.000000000",
          "1956-11-30T00:00:00.000000000",
          "1956-12-31T00:00:00.000000000",
          "1957-01-31T00:00:00.000000000",
          "1957-02-28T00:00:00.000000000",
          "1957-03-31T00:00:00.000000000",
          "1957-04-30T00:00:00.000000000",
          "1957-05-31T00:00:00.000000000",
          "1957-06-30T00:00:00.000000000",
          "1957-07-31T00:00:00.000000000",
          "1957-08-31T00:00:00.000000000",
          "1957-09-30T00:00:00.000000000",
          "1957-10-31T00:00:00.000000000",
          "1957-11-30T00:00:00.000000000",
          "1957-12-31T00:00:00.000000000",
          "1958-01-31T00:00:00.000000000",
          "1958-02-28T00:00:00.000000000",
          "1958-03-31T00:00:00.000000000",
          "1958-04-30T00:00:00.000000000",
          "1958-05-31T00:00:00.000000000",
          "1958-06-30T00:00:00.000000000",
          "1958-07-31T00:00:00.000000000",
          "1958-08-31T00:00:00.000000000",
          "1958-09-30T00:00:00.000000000",
          "1958-10-31T00:00:00.000000000",
          "1958-11-30T00:00:00.000000000",
          "1958-12-31T00:00:00.000000000",
          "1959-01-31T00:00:00.000000000",
          "1959-02-28T00:00:00.000000000",
          "1959-03-31T00:00:00.000000000",
          "1959-04-30T00:00:00.000000000",
          "1959-05-31T00:00:00.000000000",
          "1959-06-30T00:00:00.000000000",
          "1959-07-31T00:00:00.000000000",
          "1959-08-31T00:00:00.000000000",
          "1959-09-30T00:00:00.000000000",
          "1959-10-31T00:00:00.000000000",
          "1959-11-30T00:00:00.000000000",
          "1959-12-31T00:00:00.000000000",
          "1960-01-31T00:00:00.000000000",
          "1960-02-29T00:00:00.000000000",
          "1960-03-31T00:00:00.000000000",
          "1960-04-30T00:00:00.000000000",
          "1960-05-31T00:00:00.000000000",
          "1960-06-30T00:00:00.000000000",
          "1960-07-31T00:00:00.000000000",
          "1960-08-31T00:00:00.000000000",
          "1960-09-30T00:00:00.000000000",
          "1960-10-31T00:00:00.000000000",
          "1960-11-30T00:00:00.000000000",
          "1960-12-31T00:00:00.000000000",
          "1961-02-01T00:00:00.000000000",
          "1961-03-01T00:00:00.000000000",
          "1961-04-01T00:00:00.000000000",
          "1961-05-01T00:00:00.000000000",
          "1961-06-01T00:00:00.000000000",
          "1961-07-01T00:00:00.000000000",
          "1961-08-01T00:00:00.000000000",
          "1961-09-01T00:00:00.000000000",
          "1961-10-01T00:00:00.000000000",
          "1961-11-01T00:00:00.000000000",
          "1961-12-01T00:00:00.000000000",
          "1962-01-01T00:00:00.000000000",
          "1962-02-01T00:00:00.000000000",
          "1962-03-01T00:00:00.000000000",
          "1962-04-01T00:00:00.000000000",
          "1962-05-01T00:00:00.000000000",
          "1962-06-01T00:00:00.000000000",
          "1962-07-01T00:00:00.000000000",
          "1962-08-01T00:00:00.000000000",
          "1962-09-01T00:00:00.000000000",
          "1962-10-01T00:00:00.000000000",
          "1962-11-01T00:00:00.000000000",
          "1962-12-01T00:00:00.000000000",
          "1963-01-01T00:00:00.000000000",
          "1963-02-01T00:00:00.000000000",
          "1963-03-01T00:00:00.000000000",
          "1963-04-01T00:00:00.000000000",
          "1963-05-01T00:00:00.000000000",
          "1963-06-01T00:00:00.000000000",
          "1963-07-01T00:00:00.000000000",
          "1963-08-01T00:00:00.000000000",
          "1963-09-01T00:00:00.000000000",
          "1963-10-01T00:00:00.000000000",
          "1963-11-01T00:00:00.000000000",
          "1963-12-01T00:00:00.000000000",
          "1964-01-01T00:00:00.000000000",
          "1964-02-01T00:00:00.000000000",
          "1964-03-01T00:00:00.000000000",
          "1964-04-01T00:00:00.000000000",
          "1964-05-01T00:00:00.000000000",
          "1964-06-01T00:00:00.000000000",
          "1964-07-01T00:00:00.000000000",
          "1964-08-01T00:00:00.000000000",
          "1964-09-01T00:00:00.000000000",
          "1964-10-01T00:00:00.000000000",
          "1964-11-01T00:00:00.000000000",
          "1964-12-01T00:00:00.000000000",
          "1965-01-01T00:00:00.000000000"
         ],
         "xaxis": "x",
         "y": {
          "bdata": "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",
          "dtype": "f8"
         },
         "yaxis": "y"
        },
        {
         "hovertemplate": "variable=last_observation<br>index=%{x}<br>value=%{y}<extra></extra>",
         "legendgroup": "last_observation",
         "line": {
          "color": "#EF553B",
          "dash": "solid"
         },
         "marker": {
          "symbol": "circle"
         },
         "mode": "lines",
         "name": "last_observation",
         "orientation": "v",
         "showlegend": true,
         "type": "scatter",
         "x": [
          "1949-01-31T00:00:00.000000000",
          "1949-02-28T00:00:00.000000000",
          "1949-03-31T00:00:00.000000000",
          "1949-04-30T00:00:00.000000000",
          "1949-05-31T00:00:00.000000000",
          "1949-06-30T00:00:00.000000000",
          "1949-07-31T00:00:00.000000000",
          "1949-08-31T00:00:00.000000000",
          "1949-09-30T00:00:00.000000000",
          "1949-10-31T00:00:00.000000000",
          "1949-11-30T00:00:00.000000000",
          "1949-12-31T00:00:00.000000000",
          "1950-01-31T00:00:00.000000000",
          "1950-02-28T00:00:00.000000000",
          "1950-03-31T00:00:00.000000000",
          "1950-04-30T00:00:00.000000000",
          "1950-05-31T00:00:00.000000000",
          "1950-06-30T00:00:00.000000000",
          "1950-07-31T00:00:00.000000000",
          "1950-08-31T00:00:00.000000000",
          "1950-09-30T00:00:00.000000000",
          "1950-10-31T00:00:00.000000000",
          "1950-11-30T00:00:00.000000000",
          "1950-12-31T00:00:00.000000000",
          "1951-01-31T00:00:00.000000000",
          "1951-02-28T00:00:00.000000000",
          "1951-03-31T00:00:00.000000000",
          "1951-04-30T00:00:00.000000000",
          "1951-05-31T00:00:00.000000000",
          "1951-06-30T00:00:00.000000000",
          "1951-07-31T00:00:00.000000000",
          "1951-08-31T00:00:00.000000000",
          "1951-09-30T00:00:00.000000000",
          "1951-10-31T00:00:00.000000000",
          "1951-11-30T00:00:00.000000000",
          "1951-12-31T00:00:00.000000000",
          "1952-01-31T00:00:00.000000000",
          "1952-02-29T00:00:00.000000000",
          "1952-03-31T00:00:00.000000000",
          "1952-04-30T00:00:00.000000000",
          "1952-05-31T00:00:00.000000000",
          "1952-06-30T00:00:00.000000000",
          "1952-07-31T00:00:00.000000000",
          "1952-08-31T00:00:00.000000000",
          "1952-09-30T00:00:00.000000000",
          "1952-10-31T00:00:00.000000000",
          "1952-11-30T00:00:00.000000000",
          "1952-12-31T00:00:00.000000000",
          "1953-01-31T00:00:00.000000000",
          "1953-02-28T00:00:00.000000000",
          "1953-03-31T00:00:00.000000000",
          "1953-04-30T00:00:00.000000000",
          "1953-05-31T00:00:00.000000000",
          "1953-06-30T00:00:00.000000000",
          "1953-07-31T00:00:00.000000000",
          "1953-08-31T00:00:00.000000000",
          "1953-09-30T00:00:00.000000000",
          "1953-10-31T00:00:00.000000000",
          "1953-11-30T00:00:00.000000000",
          "1953-12-31T00:00:00.000000000",
          "1954-01-31T00:00:00.000000000",
          "1954-02-28T00:00:00.000000000",
          "1954-03-31T00:00:00.000000000",
          "1954-04-30T00:00:00.000000000",
          "1954-05-31T00:00:00.000000000",
          "1954-06-30T00:00:00.000000000",
          "1954-07-31T00:00:00.000000000",
          "1954-08-31T00:00:00.000000000",
          "1954-09-30T00:00:00.000000000",
          "1954-10-31T00:00:00.000000000",
          "1954-11-30T00:00:00.000000000",
          "1954-12-31T00:00:00.000000000",
          "1955-01-31T00:00:00.000000000",
          "1955-02-28T00:00:00.000000000",
          "1955-03-31T00:00:00.000000000",
          "1955-04-30T00:00:00.000000000",
          "1955-05-31T00:00:00.000000000",
          "1955-06-30T00:00:00.000000000",
          "1955-07-31T00:00:00.000000000",
          "1955-08-31T00:00:00.000000000",
          "1955-09-30T00:00:00.000000000",
          "1955-10-31T00:00:00.000000000",
          "1955-11-30T00:00:00.000000000",
          "1955-12-31T00:00:00.000000000",
          "1956-01-31T00:00:00.000000000",
          "1956-02-29T00:00:00.000000000",
          "1956-03-31T00:00:00.000000000",
          "1956-04-30T00:00:00.000000000",
          "1956-05-31T00:00:00.000000000",
          "1956-06-30T00:00:00.000000000",
          "1956-07-31T00:00:00.000000000",
          "1956-08-31T00:00:00.000000000",
          "1956-09-30T00:00:00.000000000",
          "1956-10-31T00:00:00.000000000",
          "1956-11-30T00:00:00.000000000",
          "1956-12-31T00:00:00.000000000",
          "1957-01-31T00:00:00.000000000",
          "1957-02-28T00:00:00.000000000",
          "1957-03-31T00:00:00.000000000",
          "1957-04-30T00:00:00.000000000",
          "1957-05-31T00:00:00.000000000",
          "1957-06-30T00:00:00.000000000",
          "1957-07-31T00:00:00.000000000",
          "1957-08-31T00:00:00.000000000",
          "1957-09-30T00:00:00.000000000",
          "1957-10-31T00:00:00.000000000",
          "1957-11-30T00:00:00.000000000",
          "1957-12-31T00:00:00.000000000",
          "1958-01-31T00:00:00.000000000",
          "1958-02-28T00:00:00.000000000",
          "1958-03-31T00:00:00.000000000",
          "1958-04-30T00:00:00.000000000",
          "1958-05-31T00:00:00.000000000",
          "1958-06-30T00:00:00.000000000",
          "1958-07-31T00:00:00.000000000",
          "1958-08-31T00:00:00.000000000",
          "1958-09-30T00:00:00.000000000",
          "1958-10-31T00:00:00.000000000",
          "1958-11-30T00:00:00.000000000",
          "1958-12-31T00:00:00.000000000",
          "1959-01-31T00:00:00.000000000",
          "1959-02-28T00:00:00.000000000",
          "1959-03-31T00:00:00.000000000",
          "1959-04-30T00:00:00.000000000",
          "1959-05-31T00:00:00.000000000",
          "1959-06-30T00:00:00.000000000",
          "1959-07-31T00:00:00.000000000",
          "1959-08-31T00:00:00.000000000",
          "1959-09-30T00:00:00.000000000",
          "1959-10-31T00:00:00.000000000",
          "1959-11-30T00:00:00.000000000",
          "1959-12-31T00:00:00.000000000",
          "1960-01-31T00:00:00.000000000",
          "1960-02-29T00:00:00.000000000",
          "1960-03-31T00:00:00.000000000",
          "1960-04-30T00:00:00.000000000",
          "1960-05-31T00:00:00.000000000",
          "1960-06-30T00:00:00.000000000",
          "1960-07-31T00:00:00.000000000",
          "1960-08-31T00:00:00.000000000",
          "1960-09-30T00:00:00.000000000",
          "1960-10-31T00:00:00.000000000",
          "1960-11-30T00:00:00.000000000",
          "1960-12-31T00:00:00.000000000",
          "1961-02-01T00:00:00.000000000",
          "1961-03-01T00:00:00.000000000",
          "1961-04-01T00:00:00.000000000",
          "1961-05-01T00:00:00.000000000",
          "1961-06-01T00:00:00.000000000",
          "1961-07-01T00:00:00.000000000",
          "1961-08-01T00:00:00.000000000",
          "1961-09-01T00:00:00.000000000",
          "1961-10-01T00:00:00.000000000",
          "1961-11-01T00:00:00.000000000",
          "1961-12-01T00:00:00.000000000",
          "1962-01-01T00:00:00.000000000",
          "1962-02-01T00:00:00.000000000",
          "1962-03-01T00:00:00.000000000",
          "1962-04-01T00:00:00.000000000",
          "1962-05-01T00:00:00.000000000",
          "1962-06-01T00:00:00.000000000",
          "1962-07-01T00:00:00.000000000",
          "1962-08-01T00:00:00.000000000",
          "1962-09-01T00:00:00.000000000",
          "1962-10-01T00:00:00.000000000",
          "1962-11-01T00:00:00.000000000",
          "1962-12-01T00:00:00.000000000",
          "1963-01-01T00:00:00.000000000",
          "1963-02-01T00:00:00.000000000",
          "1963-03-01T00:00:00.000000000",
          "1963-04-01T00:00:00.000000000",
          "1963-05-01T00:00:00.000000000",
          "1963-06-01T00:00:00.000000000",
          "1963-07-01T00:00:00.000000000",
          "1963-08-01T00:00:00.000000000",
          "1963-09-01T00:00:00.000000000",
          "1963-10-01T00:00:00.000000000",
          "1963-11-01T00:00:00.000000000",
          "1963-12-01T00:00:00.000000000",
          "1964-01-01T00:00:00.000000000",
          "1964-02-01T00:00:00.000000000",
          "1964-03-01T00:00:00.000000000",
          "1964-04-01T00:00:00.000000000",
          "1964-05-01T00:00:00.000000000",
          "1964-06-01T00:00:00.000000000",
          "1964-07-01T00:00:00.000000000",
          "1964-08-01T00:00:00.000000000",
          "1964-09-01T00:00:00.000000000",
          "1964-10-01T00:00:00.000000000",
          "1964-11-01T00:00:00.000000000",
          "1964-12-01T00:00:00.000000000",
          "1965-01-01T00:00:00.000000000"
         ],
         "xaxis": "x",
         "y": {
          "bdata": "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",
          "dtype": "f8"
         },
         "yaxis": "y"
        }
       ],
       "layout": {
        "legend": {
         "title": {
          "text": "variable"
         },
         "tracegroupgap": 0
        },
        "margin": {
         "t": 60
        },
        "template": {
         "data": {
          "bar": [
           {
            "error_x": {
             "color": "#f2f5fa"
            },
            "error_y": {
             "color": "#f2f5fa"
            },
            "marker": {
             "line": {
              "color": "rgb(17,17,17)",
              "width": 0.5
             },
             "pattern": {
              "fillmode": "overlay",
              "size": 10,
              "solidity": 0.2
             }
            },
            "type": "bar"
           }
          ],
          "barpolar": [
           {
            "marker": {
             "line": {
              "color": "rgb(17,17,17)",
              "width": 0.5
             },
             "pattern": {
              "fillmode": "overlay",
              "size": 10,
              "solidity": 0.2
             }
            },
            "type": "barpolar"
           }
          ],
          "carpet": [
           {
            "aaxis": {
             "endlinecolor": "#A2B1C6",
             "gridcolor": "#506784",
             "linecolor": "#506784",
             "minorgridcolor": "#506784",
             "startlinecolor": "#A2B1C6"
            },
            "baxis": {
             "endlinecolor": "#A2B1C6",
             "gridcolor": "#506784",
             "linecolor": "#506784",
             "minorgridcolor": "#506784",
             "startlinecolor": "#A2B1C6"
            },
            "type": "carpet"
           }
          ],
          "choropleth": [
           {
            "colorbar": {
             "outlinewidth": 0,
             "ticks": ""
            },
            "type": "choropleth"
           }
          ],
          "contour": [
           {
            "colorbar": {
             "outlinewidth": 0,
             "ticks": ""
            },
            "colorscale": [
             [
              0,
              "#0d0887"
             ],
             [
              0.1111111111111111,
              "#46039f"
             ],
             [
              0.2222222222222222,
              "#7201a8"
             ],
             [
              0.3333333333333333,
              "#9c179e"
             ],
             [
              0.4444444444444444,
              "#bd3786"
             ],
             [
              0.5555555555555556,
              "#d8576b"
             ],
             [
              0.6666666666666666,
              "#ed7953"
             ],
             [
              0.7777777777777778,
              "#fb9f3a"
             ],
             [
              0.8888888888888888,
              "#fdca26"
             ],
             [
              1,
              "#f0f921"
             ]
            ],
            "type": "contour"
           }
          ],
          "contourcarpet": [
           {
            "colorbar": {
             "outlinewidth": 0,
             "ticks": ""
            },
            "type": "contourcarpet"
           }
          ],
          "heatmap": [
           {
            "colorbar": {
             "outlinewidth": 0,
             "ticks": ""
            },
            "colorscale": [
             [
              0,
              "#0d0887"
             ],
             [
              0.1111111111111111,
              "#46039f"
             ],
             [
              0.2222222222222222,
              "#7201a8"
             ],
             [
              0.3333333333333333,
              "#9c179e"
             ],
             [
              0.4444444444444444,
              "#bd3786"
             ],
             [
              0.5555555555555556,
              "#d8576b"
             ],
             [
              0.6666666666666666,
              "#ed7953"
             ],
             [
              0.7777777777777778,
              "#fb9f3a"
             ],
             [
              0.8888888888888888,
              "#fdca26"
             ],
             [
              1,
              "#f0f921"
             ]
            ],
            "type": "heatmap"
           }
          ],
          "histogram": [
           {
            "marker": {
             "pattern": {
              "fillmode": "overlay",
              "size": 10,
              "solidity": 0.2
             }
            },
            "type": "histogram"
           }
          ],
          "histogram2d": [
           {
            "colorbar": {
             "outlinewidth": 0,
             "ticks": ""
            },
            "colorscale": [
             [
              0,
              "#0d0887"
             ],
             [
              0.1111111111111111,
              "#46039f"
             ],
             [
              0.2222222222222222,
              "#7201a8"
             ],
             [
              0.3333333333333333,
              "#9c179e"
             ],
             [
              0.4444444444444444,
              "#bd3786"
             ],
             [
              0.5555555555555556,
              "#d8576b"
             ],
             [
              0.6666666666666666,
              "#ed7953"
             ],
             [
              0.7777777777777778,
              "#fb9f3a"
             ],
             [
              0.8888888888888888,
              "#fdca26"
             ],
             [
              1,
              "#f0f921"
             ]
            ],
            "type": "histogram2d"
           }
          ],
          "histogram2dcontour": [
           {
            "colorbar": {
             "outlinewidth": 0,
             "ticks": ""
            },
            "colorscale": [
             [
              0,
              "#0d0887"
             ],
             [
              0.1111111111111111,
              "#46039f"
             ],
             [
              0.2222222222222222,
              "#7201a8"
             ],
             [
              0.3333333333333333,
              "#9c179e"
             ],
             [
              0.4444444444444444,
              "#bd3786"
             ],
             [
              0.5555555555555556,
              "#d8576b"
             ],
             [
              0.6666666666666666,
              "#ed7953"
             ],
             [
              0.7777777777777778,
              "#fb9f3a"
             ],
             [
              0.8888888888888888,
              "#fdca26"
             ],
             [
              1,
              "#f0f921"
             ]
            ],
            "type": "histogram2dcontour"
           }
          ],
          "mesh3d": [
           {
            "colorbar": {
             "outlinewidth": 0,
             "ticks": ""
            },
            "type": "mesh3d"
           }
          ],
          "parcoords": [
           {
            "line": {
             "colorbar": {
              "outlinewidth": 0,
              "ticks": ""
             }
            },
            "type": "parcoords"
           }
          ],
          "pie": [
           {
            "automargin": true,
            "type": "pie"
           }
          ],
          "scatter": [
           {
            "marker": {
             "line": {
              "color": "#283442"
             }
            },
            "type": "scatter"
           }
          ],
          "scatter3d": [
           {
            "line": {
             "colorbar": {
              "outlinewidth": 0,
              "ticks": ""
             }
            },
            "marker": {
             "colorbar": {
              "outlinewidth": 0,
              "ticks": ""
             }
            },
            "type": "scatter3d"
           }
          ],
          "scattercarpet": [
           {
            "marker": {
             "colorbar": {
              "outlinewidth": 0,
              "ticks": ""
             }
            },
            "type": "scattercarpet"
           }
          ],
          "scattergeo": [
           {
            "marker": {
             "colorbar": {
              "outlinewidth": 0,
              "ticks": ""
             }
            },
            "type": "scattergeo"
           }
          ],
          "scattergl": [
           {
            "marker": {
             "line": {
              "color": "#283442"
             }
            },
            "type": "scattergl"
           }
          ],
          "scattermap": [
           {
            "marker": {
             "colorbar": {
              "outlinewidth": 0,
              "ticks": ""
             }
            },
            "type": "scattermap"
           }
          ],
          "scattermapbox": [
           {
            "marker": {
             "colorbar": {
              "outlinewidth": 0,
              "ticks": ""
             }
            },
            "type": "scattermapbox"
           }
          ],
          "scatterpolar": [
           {
            "marker": {
             "colorbar": {
              "outlinewidth": 0,
              "ticks": ""
             }
            },
            "type": "scatterpolar"
           }
          ],
          "scatterpolargl": [
           {
            "marker": {
             "colorbar": {
              "outlinewidth": 0,
              "ticks": ""
             }
            },
            "type": "scatterpolargl"
           }
          ],
          "scatterternary": [
           {
            "marker": {
             "colorbar": {
              "outlinewidth": 0,
              "ticks": ""
             }
            },
            "type": "scatterternary"
           }
          ],
          "surface": [
           {
            "colorbar": {
             "outlinewidth": 0,
             "ticks": ""
            },
            "colorscale": [
             [
              0,
              "#0d0887"
             ],
             [
              0.1111111111111111,
              "#46039f"
             ],
             [
              0.2222222222222222,
              "#7201a8"
             ],
             [
              0.3333333333333333,
              "#9c179e"
             ],
             [
              0.4444444444444444,
              "#bd3786"
             ],
             [
              0.5555555555555556,
              "#d8576b"
             ],
             [
              0.6666666666666666,
              "#ed7953"
             ],
             [
              0.7777777777777778,
              "#fb9f3a"
             ],
             [
              0.8888888888888888,
              "#fdca26"
             ],
             [
              1,
              "#f0f921"
             ]
            ],
            "type": "surface"
           }
          ],
          "table": [
           {
            "cells": {
             "fill": {
              "color": "#506784"
             },
             "line": {
              "color": "rgb(17,17,17)"
             }
            },
            "header": {
             "fill": {
              "color": "#2a3f5f"
             },
             "line": {
              "color": "rgb(17,17,17)"
             }
            },
            "type": "table"
           }
          ]
         },
         "layout": {
          "annotationdefaults": {
           "arrowcolor": "#f2f5fa",
           "arrowhead": 0,
           "arrowwidth": 1
          },
          "autosize": false,
          "autotypenumbers": "strict",
          "coloraxis": {
           "colorbar": {
            "outlinewidth": 0,
            "ticks": ""
           }
          },
          "colorscale": {
           "diverging": [
            [
             0,
             "#8e0152"
            ],
            [
             0.1,
             "#c51b7d"
            ],
            [
             0.2,
             "#de77ae"
            ],
            [
             0.3,
             "#f1b6da"
            ],
            [
             0.4,
             "#fde0ef"
            ],
            [
             0.5,
             "#f7f7f7"
            ],
            [
             0.6,
             "#e6f5d0"
            ],
            [
             0.7,
             "#b8e186"
            ],
            [
             0.8,
             "#7fbc41"
            ],
            [
             0.9,
             "#4d9221"
            ],
            [
             1,
             "#276419"
            ]
           ],
           "sequential": [
            [
             0,
             "#0d0887"
            ],
            [
             0.1111111111111111,
             "#46039f"
            ],
            [
             0.2222222222222222,
             "#7201a8"
            ],
            [
             0.3333333333333333,
             "#9c179e"
            ],
            [
             0.4444444444444444,
             "#bd3786"
            ],
            [
             0.5555555555555556,
             "#d8576b"
            ],
            [
             0.6666666666666666,
             "#ed7953"
            ],
            [
             0.7777777777777778,
             "#fb9f3a"
            ],
            [
             0.8888888888888888,
             "#fdca26"
            ],
            [
             1,
             "#f0f921"
            ]
           ],
           "sequentialminus": [
            [
             0,
             "#0d0887"
            ],
            [
             0.1111111111111111,
             "#46039f"
            ],
            [
             0.2222222222222222,
             "#7201a8"
            ],
            [
             0.3333333333333333,
             "#9c179e"
            ],
            [
             0.4444444444444444,
             "#bd3786"
            ],
            [
             0.5555555555555556,
             "#d8576b"
            ],
            [
             0.6666666666666666,
             "#ed7953"
            ],
            [
             0.7777777777777778,
             "#fb9f3a"
            ],
            [
             0.8888888888888888,
             "#fdca26"
            ],
            [
             1,
             "#f0f921"
            ]
           ]
          },
          "colorway": [
           "#636efa",
           "#EF553B",
           "#00cc96",
           "#ab63fa",
           "#FFA15A",
           "#19d3f3",
           "#FF6692",
           "#B6E880",
           "#FF97FF",
           "#FECB52"
          ],
          "font": {
           "color": "#f2f5fa"
          },
          "geo": {
           "bgcolor": "rgb(17,17,17)",
           "lakecolor": "rgb(17,17,17)",
           "landcolor": "rgb(17,17,17)",
           "showlakes": true,
           "showland": true,
           "subunitcolor": "#506784"
          },
          "height": 500,
          "hoverlabel": {
           "align": "left"
          },
          "hovermode": "closest",
          "mapbox": {
           "style": "dark"
          },
          "paper_bgcolor": "rgb(17,17,17)",
          "plot_bgcolor": "rgb(17,17,17)",
          "polar": {
           "angularaxis": {
            "gridcolor": "#506784",
            "linecolor": "#506784",
            "ticks": ""
           },
           "bgcolor": "rgb(17,17,17)",
           "radialaxis": {
            "gridcolor": "#506784",
            "linecolor": "#506784",
            "ticks": ""
           }
          },
          "scene": {
           "xaxis": {
            "backgroundcolor": "rgb(17,17,17)",
            "gridcolor": "#506784",
            "gridwidth": 2,
            "linecolor": "#506784",
            "showbackground": true,
            "ticks": "",
            "zerolinecolor": "#C8D4E3"
           },
           "yaxis": {
            "backgroundcolor": "rgb(17,17,17)",
            "gridcolor": "#506784",
            "gridwidth": 2,
            "linecolor": "#506784",
            "showbackground": true,
            "ticks": "",
            "zerolinecolor": "#C8D4E3"
           },
           "zaxis": {
            "backgroundcolor": "rgb(17,17,17)",
            "gridcolor": "#506784",
            "gridwidth": 2,
            "linecolor": "#506784",
            "showbackground": true,
            "ticks": "",
            "zerolinecolor": "#C8D4E3"
           }
          },
          "shapedefaults": {
           "line": {
            "color": "#f2f5fa"
           }
          },
          "showlegend": true,
          "sliderdefaults": {
           "bgcolor": "#C8D4E3",
           "bordercolor": "rgb(17,17,17)",
           "borderwidth": 1,
           "tickwidth": 0
          },
          "ternary": {
           "aaxis": {
            "gridcolor": "#506784",
            "linecolor": "#506784",
            "ticks": ""
           },
           "baxis": {
            "gridcolor": "#506784",
            "linecolor": "#506784",
            "ticks": ""
           },
           "bgcolor": "rgb(17,17,17)",
           "caxis": {
            "gridcolor": "#506784",
            "linecolor": "#506784",
            "ticks": ""
           }
          },
          "title": {
           "x": 0.05
          },
          "updatemenudefaults": {
           "bgcolor": "#506784",
           "borderwidth": 0
          },
          "width": 1000,
          "xaxis": {
           "automargin": true,
           "gridcolor": "#283442",
           "linecolor": "#506784",
           "ticks": "",
           "title": {
            "standoff": 15
           },
           "zerolinecolor": "#283442",
           "zerolinewidth": 2
          },
          "yaxis": {
           "automargin": true,
           "gridcolor": "#283442",
           "linecolor": "#506784",
           "ticks": "",
           "title": {
            "standoff": 15
           },
           "zerolinecolor": "#283442",
           "zerolinewidth": 2
          }
         }
        },
        "xaxis": {
         "anchor": "y",
         "domain": [
          0,
          1
         ],
         "title": {
          "text": "index"
         }
        },
        "yaxis": {
         "anchor": "x",
         "domain": [
          0,
          1
         ],
         "title": {
          "text": "value"
         }
        }
       }
      }
     },
     "metadata": {},
     "output_type": "display_data"
    }
   ],
   "source": [
    "pd.concat([df, df_forecast]).plot()"
   ]
  },
  {
   "cell_type": "markdown",
   "id": "e4e04257",
   "metadata": {
    "papermill": {
     "duration": 0.002171,
     "end_time": "2024-05-29T23:01:59.164058",
     "exception": false,
     "start_time": "2024-05-29T23:01:59.161887",
     "status": "completed"
    },
    "tags": []
   },
   "source": [
    "## Seasonal naive method"
   ]
  },
  {
   "cell_type": "code",
   "execution_count": 8,
   "id": "3aa4235e",
   "metadata": {},
   "outputs": [
    {
     "data": {
      "text/html": [
       "<div>\n",
       "<style scoped>\n",
       "    .dataframe tbody tr th:only-of-type {\n",
       "        vertical-align: middle;\n",
       "    }\n",
       "\n",
       "    .dataframe tbody tr th {\n",
       "        vertical-align: top;\n",
       "    }\n",
       "\n",
       "    .dataframe thead th {\n",
       "        text-align: right;\n",
       "    }\n",
       "</style>\n",
       "<table border=\"1\" class=\"dataframe\">\n",
       "  <thead>\n",
       "    <tr style=\"text-align: right;\">\n",
       "      <th></th>\n",
       "      <th>last_observation</th>\n",
       "      <th>seasonal_naive</th>\n",
       "    </tr>\n",
       "  </thead>\n",
       "  <tbody>\n",
       "    <tr>\n",
       "      <th>1961-02-01</th>\n",
       "      <td>432</td>\n",
       "      <td>417.0</td>\n",
       "    </tr>\n",
       "    <tr>\n",
       "      <th>1961-03-01</th>\n",
       "      <td>432</td>\n",
       "      <td>391.0</td>\n",
       "    </tr>\n",
       "    <tr>\n",
       "      <th>...</th>\n",
       "      <td>...</td>\n",
       "      <td>...</td>\n",
       "    </tr>\n",
       "    <tr>\n",
       "      <th>1964-12-01</th>\n",
       "      <td>432</td>\n",
       "      <td>390.0</td>\n",
       "    </tr>\n",
       "    <tr>\n",
       "      <th>1965-01-01</th>\n",
       "      <td>432</td>\n",
       "      <td>432.0</td>\n",
       "    </tr>\n",
       "  </tbody>\n",
       "</table>\n",
       "<p>48 rows × 2 columns</p>\n",
       "</div>"
      ],
      "text/plain": [
       "            last_observation  seasonal_naive\n",
       "1961-02-01               432           417.0\n",
       "1961-03-01               432           391.0\n",
       "...                      ...             ...\n",
       "1964-12-01               432           390.0\n",
       "1965-01-01               432           432.0\n",
       "\n",
       "[48 rows x 2 columns]"
      ]
     },
     "execution_count": 8,
     "metadata": {},
     "output_type": "execute_result"
    }
   ],
   "source": [
    "HORIZON = 48\n",
    "seasonality = 12\n",
    "\n",
    "last_season = series[-seasonality:]\n",
    "\n",
    "forecasts = []\n",
    "for step in range(HORIZON):\n",
    "    forecast = last_season[step % seasonality]\n",
    "    forecasts.append(forecast)\n",
    "\n",
    "idx = df_forecast.index[:HORIZON]\n",
    "df_forecast.loc[idx, \"seasonal_naive\"] = forecasts\n",
    "\n",
    "df_forecast"
   ]
  },
  {
   "cell_type": "code",
   "execution_count": 9,
   "id": "3bd7f6c4",
   "metadata": {},
   "outputs": [
    {
     "data": {
      "application/vnd.plotly.v1+json": {
       "config": {
        "plotlyServerURL": "https://plot.ly"
       },
       "data": [
        {
         "hovertemplate": "variable=values<br>index=%{x}<br>value=%{y}<extra></extra>",
         "legendgroup": "values",
         "line": {
          "color": "#636efa",
          "dash": "solid"
         },
         "marker": {
          "symbol": "circle"
         },
         "mode": "lines",
         "name": "values",
         "orientation": "v",
         "showlegend": true,
         "type": "scatter",
         "x": [
          "1949-01-31T00:00:00.000000000",
          "1949-02-28T00:00:00.000000000",
          "1949-03-31T00:00:00.000000000",
          "1949-04-30T00:00:00.000000000",
          "1949-05-31T00:00:00.000000000",
          "1949-06-30T00:00:00.000000000",
          "1949-07-31T00:00:00.000000000",
          "1949-08-31T00:00:00.000000000",
          "1949-09-30T00:00:00.000000000",
          "1949-10-31T00:00:00.000000000",
          "1949-11-30T00:00:00.000000000",
          "1949-12-31T00:00:00.000000000",
          "1950-01-31T00:00:00.000000000",
          "1950-02-28T00:00:00.000000000",
          "1950-03-31T00:00:00.000000000",
          "1950-04-30T00:00:00.000000000",
          "1950-05-31T00:00:00.000000000",
          "1950-06-30T00:00:00.000000000",
          "1950-07-31T00:00:00.000000000",
          "1950-08-31T00:00:00.000000000",
          "1950-09-30T00:00:00.000000000",
          "1950-10-31T00:00:00.000000000",
          "1950-11-30T00:00:00.000000000",
          "1950-12-31T00:00:00.000000000",
          "1951-01-31T00:00:00.000000000",
          "1951-02-28T00:00:00.000000000",
          "1951-03-31T00:00:00.000000000",
          "1951-04-30T00:00:00.000000000",
          "1951-05-31T00:00:00.000000000",
          "1951-06-30T00:00:00.000000000",
          "1951-07-31T00:00:00.000000000",
          "1951-08-31T00:00:00.000000000",
          "1951-09-30T00:00:00.000000000",
          "1951-10-31T00:00:00.000000000",
          "1951-11-30T00:00:00.000000000",
          "1951-12-31T00:00:00.000000000",
          "1952-01-31T00:00:00.000000000",
          "1952-02-29T00:00:00.000000000",
          "1952-03-31T00:00:00.000000000",
          "1952-04-30T00:00:00.000000000",
          "1952-05-31T00:00:00.000000000",
          "1952-06-30T00:00:00.000000000",
          "1952-07-31T00:00:00.000000000",
          "1952-08-31T00:00:00.000000000",
          "1952-09-30T00:00:00.000000000",
          "1952-10-31T00:00:00.000000000",
          "1952-11-30T00:00:00.000000000",
          "1952-12-31T00:00:00.000000000",
          "1953-01-31T00:00:00.000000000",
          "1953-02-28T00:00:00.000000000",
          "1953-03-31T00:00:00.000000000",
          "1953-04-30T00:00:00.000000000",
          "1953-05-31T00:00:00.000000000",
          "1953-06-30T00:00:00.000000000",
          "1953-07-31T00:00:00.000000000",
          "1953-08-31T00:00:00.000000000",
          "1953-09-30T00:00:00.000000000",
          "1953-10-31T00:00:00.000000000",
          "1953-11-30T00:00:00.000000000",
          "1953-12-31T00:00:00.000000000",
          "1954-01-31T00:00:00.000000000",
          "1954-02-28T00:00:00.000000000",
          "1954-03-31T00:00:00.000000000",
          "1954-04-30T00:00:00.000000000",
          "1954-05-31T00:00:00.000000000",
          "1954-06-30T00:00:00.000000000",
          "1954-07-31T00:00:00.000000000",
          "1954-08-31T00:00:00.000000000",
          "1954-09-30T00:00:00.000000000",
          "1954-10-31T00:00:00.000000000",
          "1954-11-30T00:00:00.000000000",
          "1954-12-31T00:00:00.000000000",
          "1955-01-31T00:00:00.000000000",
          "1955-02-28T00:00:00.000000000",
          "1955-03-31T00:00:00.000000000",
          "1955-04-30T00:00:00.000000000",
          "1955-05-31T00:00:00.000000000",
          "1955-06-30T00:00:00.000000000",
          "1955-07-31T00:00:00.000000000",
          "1955-08-31T00:00:00.000000000",
          "1955-09-30T00:00:00.000000000",
          "1955-10-31T00:00:00.000000000",
          "1955-11-30T00:00:00.000000000",
          "1955-12-31T00:00:00.000000000",
          "1956-01-31T00:00:00.000000000",
          "1956-02-29T00:00:00.000000000",
          "1956-03-31T00:00:00.000000000",
          "1956-04-30T00:00:00.000000000",
          "1956-05-31T00:00:00.000000000",
          "1956-06-30T00:00:00.000000000",
          "1956-07-31T00:00:00.000000000",
          "1956-08-31T00:00:00.000000000",
          "1956-09-30T00:00:00.000000000",
          "1956-10-31T00:00:00.000000000",
          "1956-11-30T00:00:00.000000000",
          "1956-12-31T00:00:00.000000000",
          "1957-01-31T00:00:00.000000000",
          "1957-02-28T00:00:00.000000000",
          "1957-03-31T00:00:00.000000000",
          "1957-04-30T00:00:00.000000000",
          "1957-05-31T00:00:00.000000000",
          "1957-06-30T00:00:00.000000000",
          "1957-07-31T00:00:00.000000000",
          "1957-08-31T00:00:00.000000000",
          "1957-09-30T00:00:00.000000000",
          "1957-10-31T00:00:00.000000000",
          "1957-11-30T00:00:00.000000000",
          "1957-12-31T00:00:00.000000000",
          "1958-01-31T00:00:00.000000000",
          "1958-02-28T00:00:00.000000000",
          "1958-03-31T00:00:00.000000000",
          "1958-04-30T00:00:00.000000000",
          "1958-05-31T00:00:00.000000000",
          "1958-06-30T00:00:00.000000000",
          "1958-07-31T00:00:00.000000000",
          "1958-08-31T00:00:00.000000000",
          "1958-09-30T00:00:00.000000000",
          "1958-10-31T00:00:00.000000000",
          "1958-11-30T00:00:00.000000000",
          "1958-12-31T00:00:00.000000000",
          "1959-01-31T00:00:00.000000000",
          "1959-02-28T00:00:00.000000000",
          "1959-03-31T00:00:00.000000000",
          "1959-04-30T00:00:00.000000000",
          "1959-05-31T00:00:00.000000000",
          "1959-06-30T00:00:00.000000000",
          "1959-07-31T00:00:00.000000000",
          "1959-08-31T00:00:00.000000000",
          "1959-09-30T00:00:00.000000000",
          "1959-10-31T00:00:00.000000000",
          "1959-11-30T00:00:00.000000000",
          "1959-12-31T00:00:00.000000000",
          "1960-01-31T00:00:00.000000000",
          "1960-02-29T00:00:00.000000000",
          "1960-03-31T00:00:00.000000000",
          "1960-04-30T00:00:00.000000000",
          "1960-05-31T00:00:00.000000000",
          "1960-06-30T00:00:00.000000000",
          "1960-07-31T00:00:00.000000000",
          "1960-08-31T00:00:00.000000000",
          "1960-09-30T00:00:00.000000000",
          "1960-10-31T00:00:00.000000000",
          "1960-11-30T00:00:00.000000000",
          "1960-12-31T00:00:00.000000000",
          "1961-02-01T00:00:00.000000000",
          "1961-03-01T00:00:00.000000000",
          "1961-04-01T00:00:00.000000000",
          "1961-05-01T00:00:00.000000000",
          "1961-06-01T00:00:00.000000000",
          "1961-07-01T00:00:00.000000000",
          "1961-08-01T00:00:00.000000000",
          "1961-09-01T00:00:00.000000000",
          "1961-10-01T00:00:00.000000000",
          "1961-11-01T00:00:00.000000000",
          "1961-12-01T00:00:00.000000000",
          "1962-01-01T00:00:00.000000000",
          "1962-02-01T00:00:00.000000000",
          "1962-03-01T00:00:00.000000000",
          "1962-04-01T00:00:00.000000000",
          "1962-05-01T00:00:00.000000000",
          "1962-06-01T00:00:00.000000000",
          "1962-07-01T00:00:00.000000000",
          "1962-08-01T00:00:00.000000000",
          "1962-09-01T00:00:00.000000000",
          "1962-10-01T00:00:00.000000000",
          "1962-11-01T00:00:00.000000000",
          "1962-12-01T00:00:00.000000000",
          "1963-01-01T00:00:00.000000000",
          "1963-02-01T00:00:00.000000000",
          "1963-03-01T00:00:00.000000000",
          "1963-04-01T00:00:00.000000000",
          "1963-05-01T00:00:00.000000000",
          "1963-06-01T00:00:00.000000000",
          "1963-07-01T00:00:00.000000000",
          "1963-08-01T00:00:00.000000000",
          "1963-09-01T00:00:00.000000000",
          "1963-10-01T00:00:00.000000000",
          "1963-11-01T00:00:00.000000000",
          "1963-12-01T00:00:00.000000000",
          "1964-01-01T00:00:00.000000000",
          "1964-02-01T00:00:00.000000000",
          "1964-03-01T00:00:00.000000000",
          "1964-04-01T00:00:00.000000000",
          "1964-05-01T00:00:00.000000000",
          "1964-06-01T00:00:00.000000000",
          "1964-07-01T00:00:00.000000000",
          "1964-08-01T00:00:00.000000000",
          "1964-09-01T00:00:00.000000000",
          "1964-10-01T00:00:00.000000000",
          "1964-11-01T00:00:00.000000000",
          "1964-12-01T00:00:00.000000000",
          "1965-01-01T00:00:00.000000000"
         ],
         "xaxis": "x",
         "y": {
          "bdata": "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",
          "dtype": "f8"
         },
         "yaxis": "y"
        },
        {
         "hovertemplate": "variable=last_observation<br>index=%{x}<br>value=%{y}<extra></extra>",
         "legendgroup": "last_observation",
         "line": {
          "color": "#EF553B",
          "dash": "solid"
         },
         "marker": {
          "symbol": "circle"
         },
         "mode": "lines",
         "name": "last_observation",
         "orientation": "v",
         "showlegend": true,
         "type": "scatter",
         "x": [
          "1949-01-31T00:00:00.000000000",
          "1949-02-28T00:00:00.000000000",
          "1949-03-31T00:00:00.000000000",
          "1949-04-30T00:00:00.000000000",
          "1949-05-31T00:00:00.000000000",
          "1949-06-30T00:00:00.000000000",
          "1949-07-31T00:00:00.000000000",
          "1949-08-31T00:00:00.000000000",
          "1949-09-30T00:00:00.000000000",
          "1949-10-31T00:00:00.000000000",
          "1949-11-30T00:00:00.000000000",
          "1949-12-31T00:00:00.000000000",
          "1950-01-31T00:00:00.000000000",
          "1950-02-28T00:00:00.000000000",
          "1950-03-31T00:00:00.000000000",
          "1950-04-30T00:00:00.000000000",
          "1950-05-31T00:00:00.000000000",
          "1950-06-30T00:00:00.000000000",
          "1950-07-31T00:00:00.000000000",
          "1950-08-31T00:00:00.000000000",
          "1950-09-30T00:00:00.000000000",
          "1950-10-31T00:00:00.000000000",
          "1950-11-30T00:00:00.000000000",
          "1950-12-31T00:00:00.000000000",
          "1951-01-31T00:00:00.000000000",
          "1951-02-28T00:00:00.000000000",
          "1951-03-31T00:00:00.000000000",
          "1951-04-30T00:00:00.000000000",
          "1951-05-31T00:00:00.000000000",
          "1951-06-30T00:00:00.000000000",
          "1951-07-31T00:00:00.000000000",
          "1951-08-31T00:00:00.000000000",
          "1951-09-30T00:00:00.000000000",
          "1951-10-31T00:00:00.000000000",
          "1951-11-30T00:00:00.000000000",
          "1951-12-31T00:00:00.000000000",
          "1952-01-31T00:00:00.000000000",
          "1952-02-29T00:00:00.000000000",
          "1952-03-31T00:00:00.000000000",
          "1952-04-30T00:00:00.000000000",
          "1952-05-31T00:00:00.000000000",
          "1952-06-30T00:00:00.000000000",
          "1952-07-31T00:00:00.000000000",
          "1952-08-31T00:00:00.000000000",
          "1952-09-30T00:00:00.000000000",
          "1952-10-31T00:00:00.000000000",
          "1952-11-30T00:00:00.000000000",
          "1952-12-31T00:00:00.000000000",
          "1953-01-31T00:00:00.000000000",
          "1953-02-28T00:00:00.000000000",
          "1953-03-31T00:00:00.000000000",
          "1953-04-30T00:00:00.000000000",
          "1953-05-31T00:00:00.000000000",
          "1953-06-30T00:00:00.000000000",
          "1953-07-31T00:00:00.000000000",
          "1953-08-31T00:00:00.000000000",
          "1953-09-30T00:00:00.000000000",
          "1953-10-31T00:00:00.000000000",
          "1953-11-30T00:00:00.000000000",
          "1953-12-31T00:00:00.000000000",
          "1954-01-31T00:00:00.000000000",
          "1954-02-28T00:00:00.000000000",
          "1954-03-31T00:00:00.000000000",
          "1954-04-30T00:00:00.000000000",
          "1954-05-31T00:00:00.000000000",
          "1954-06-30T00:00:00.000000000",
          "1954-07-31T00:00:00.000000000",
          "1954-08-31T00:00:00.000000000",
          "1954-09-30T00:00:00.000000000",
          "1954-10-31T00:00:00.000000000",
          "1954-11-30T00:00:00.000000000",
          "1954-12-31T00:00:00.000000000",
          "1955-01-31T00:00:00.000000000",
          "1955-02-28T00:00:00.000000000",
          "1955-03-31T00:00:00.000000000",
          "1955-04-30T00:00:00.000000000",
          "1955-05-31T00:00:00.000000000",
          "1955-06-30T00:00:00.000000000",
          "1955-07-31T00:00:00.000000000",
          "1955-08-31T00:00:00.000000000",
          "1955-09-30T00:00:00.000000000",
          "1955-10-31T00:00:00.000000000",
          "1955-11-30T00:00:00.000000000",
          "1955-12-31T00:00:00.000000000",
          "1956-01-31T00:00:00.000000000",
          "1956-02-29T00:00:00.000000000",
          "1956-03-31T00:00:00.000000000",
          "1956-04-30T00:00:00.000000000",
          "1956-05-31T00:00:00.000000000",
          "1956-06-30T00:00:00.000000000",
          "1956-07-31T00:00:00.000000000",
          "1956-08-31T00:00:00.000000000",
          "1956-09-30T00:00:00.000000000",
          "1956-10-31T00:00:00.000000000",
          "1956-11-30T00:00:00.000000000",
          "1956-12-31T00:00:00.000000000",
          "1957-01-31T00:00:00.000000000",
          "1957-02-28T00:00:00.000000000",
          "1957-03-31T00:00:00.000000000",
          "1957-04-30T00:00:00.000000000",
          "1957-05-31T00:00:00.000000000",
          "1957-06-30T00:00:00.000000000",
          "1957-07-31T00:00:00.000000000",
          "1957-08-31T00:00:00.000000000",
          "1957-09-30T00:00:00.000000000",
          "1957-10-31T00:00:00.000000000",
          "1957-11-30T00:00:00.000000000",
          "1957-12-31T00:00:00.000000000",
          "1958-01-31T00:00:00.000000000",
          "1958-02-28T00:00:00.000000000",
          "1958-03-31T00:00:00.000000000",
          "1958-04-30T00:00:00.000000000",
          "1958-05-31T00:00:00.000000000",
          "1958-06-30T00:00:00.000000000",
          "1958-07-31T00:00:00.000000000",
          "1958-08-31T00:00:00.000000000",
          "1958-09-30T00:00:00.000000000",
          "1958-10-31T00:00:00.000000000",
          "1958-11-30T00:00:00.000000000",
          "1958-12-31T00:00:00.000000000",
          "1959-01-31T00:00:00.000000000",
          "1959-02-28T00:00:00.000000000",
          "1959-03-31T00:00:00.000000000",
          "1959-04-30T00:00:00.000000000",
          "1959-05-31T00:00:00.000000000",
          "1959-06-30T00:00:00.000000000",
          "1959-07-31T00:00:00.000000000",
          "1959-08-31T00:00:00.000000000",
          "1959-09-30T00:00:00.000000000",
          "1959-10-31T00:00:00.000000000",
          "1959-11-30T00:00:00.000000000",
          "1959-12-31T00:00:00.000000000",
          "1960-01-31T00:00:00.000000000",
          "1960-02-29T00:00:00.000000000",
          "1960-03-31T00:00:00.000000000",
          "1960-04-30T00:00:00.000000000",
          "1960-05-31T00:00:00.000000000",
          "1960-06-30T00:00:00.000000000",
          "1960-07-31T00:00:00.000000000",
          "1960-08-31T00:00:00.000000000",
          "1960-09-30T00:00:00.000000000",
          "1960-10-31T00:00:00.000000000",
          "1960-11-30T00:00:00.000000000",
          "1960-12-31T00:00:00.000000000",
          "1961-02-01T00:00:00.000000000",
          "1961-03-01T00:00:00.000000000",
          "1961-04-01T00:00:00.000000000",
          "1961-05-01T00:00:00.000000000",
          "1961-06-01T00:00:00.000000000",
          "1961-07-01T00:00:00.000000000",
          "1961-08-01T00:00:00.000000000",
          "1961-09-01T00:00:00.000000000",
          "1961-10-01T00:00:00.000000000",
          "1961-11-01T00:00:00.000000000",
          "1961-12-01T00:00:00.000000000",
          "1962-01-01T00:00:00.000000000",
          "1962-02-01T00:00:00.000000000",
          "1962-03-01T00:00:00.000000000",
          "1962-04-01T00:00:00.000000000",
          "1962-05-01T00:00:00.000000000",
          "1962-06-01T00:00:00.000000000",
          "1962-07-01T00:00:00.000000000",
          "1962-08-01T00:00:00.000000000",
          "1962-09-01T00:00:00.000000000",
          "1962-10-01T00:00:00.000000000",
          "1962-11-01T00:00:00.000000000",
          "1962-12-01T00:00:00.000000000",
          "1963-01-01T00:00:00.000000000",
          "1963-02-01T00:00:00.000000000",
          "1963-03-01T00:00:00.000000000",
          "1963-04-01T00:00:00.000000000",
          "1963-05-01T00:00:00.000000000",
          "1963-06-01T00:00:00.000000000",
          "1963-07-01T00:00:00.000000000",
          "1963-08-01T00:00:00.000000000",
          "1963-09-01T00:00:00.000000000",
          "1963-10-01T00:00:00.000000000",
          "1963-11-01T00:00:00.000000000",
          "1963-12-01T00:00:00.000000000",
          "1964-01-01T00:00:00.000000000",
          "1964-02-01T00:00:00.000000000",
          "1964-03-01T00:00:00.000000000",
          "1964-04-01T00:00:00.000000000",
          "1964-05-01T00:00:00.000000000",
          "1964-06-01T00:00:00.000000000",
          "1964-07-01T00:00:00.000000000",
          "1964-08-01T00:00:00.000000000",
          "1964-09-01T00:00:00.000000000",
          "1964-10-01T00:00:00.000000000",
          "1964-11-01T00:00:00.000000000",
          "1964-12-01T00:00:00.000000000",
          "1965-01-01T00:00:00.000000000"
         ],
         "xaxis": "x",
         "y": {
          "bdata": "AAAAAAAA+H8AAAAAAAD4fwAAAAAAAPh/AAAAAAAA+H8AAAAAAAD4fwAAAAAAAPh/AAAAAAAA+H8AAAAAAAD4fwAAAAAAAPh/AAAAAAAA+H8AAAAAAAD4fwAAAAAAAPh/AAAAAAAA+H8AAAAAAAD4fwAAAAAAAPh/AAAAAAAA+H8AAAAAAAD4fwAAAAAAAPh/AAAAAAAA+H8AAAAAAAD4fwAAAAAAAPh/AAAAAAAA+H8AAAAAAAD4fwAAAAAAAPh/AAAAAAAA+H8AAAAAAAD4fwAAAAAAAPh/AAAAAAAA+H8AAAAAAAD4fwAAAAAAAPh/AAAAAAAA+H8AAAAAAAD4fwAAAAAAAPh/AAAAAAAA+H8AAAAAAAD4fwAAAAAAAPh/AAAAAAAA+H8AAAAAAAD4fwAAAAAAAPh/AAAAAAAA+H8AAAAAAAD4fwAAAAAAAPh/AAAAAAAA+H8AAAAAAAD4fwAAAAAAAPh/AAAAAAAA+H8AAAAAAAD4fwAAAAAAAPh/AAAAAAAA+H8AAAAAAAD4fwAAAAAAAPh/AAAAAAAA+H8AAAAAAAD4fwAAAAAAAPh/AAAAAAAA+H8AAAAAAAD4fwAAAAAAAPh/AAAAAAAA+H8AAAAAAAD4fwAAAAAAAPh/AAAAAAAA+H8AAAAAAAD4fwAAAAAAAPh/AAAAAAAA+H8AAAAAAAD4fwAAAAAAAPh/AAAAAAAA+H8AAAAAAAD4fwAAAAAAAPh/AAAAAAAA+H8AAAAAAAD4fwAAAAAAAPh/AAAAAAAA+H8AAAAAAAD4fwAAAAAAAPh/AAAAAAAA+H8AAAAAAAD4fwAAAAAAAPh/AAAAAAAA+H8AAAAAAAD4fwAAAAAAAPh/AAAAAAAA+H8AAAAAAAD4fwAAAAAAAPh/AAAAAAAA+H8AAAAAAAD4fwAAAAAAAPh/AAAAAAAA+H8AAAAAAAD4fwAAAAAAAPh/AAAAAAAA+H8AAAAAAAD4fwAAAAAAAPh/AAAAAAAA+H8AAAAAAAD4fwAAAAAAAPh/AAAAAAAA+H8AAAAAAAD4fwAAAAAAAPh/AAAAAAAA+H8AAAAAAAD4fwAAAAAAAPh/AAAAAAAA+H8AAAAAAAD4fwAAAAAAAPh/AAAAAAAA+H8AAAAAAAD4fwAAAAAAAPh/AAAAAAAA+H8AAAAAAAD4fwAAAAAAAPh/AAAAAAAA+H8AAAAAAAD4fwAAAAAAAPh/AAAAAAAA+H8AAAAAAAD4fwAAAAAAAPh/AAAAAAAA+H8AAAAAAAD4fwAAAAAAAPh/AAAAAAAA+H8AAAAAAAD4fwAAAAAAAPh/AAAAAAAA+H8AAAAAAAD4fwAAAAAAAPh/AAAAAAAA+H8AAAAAAAD4fwAAAAAAAPh/AAAAAAAA+H8AAAAAAAD4fwAAAAAAAPh/AAAAAAAA+H8AAAAAAAD4fwAAAAAAAPh/AAAAAAAA+H8AAAAAAAD4fwAAAAAAAPh/AAAAAAAA+H8AAAAAAAD4fwAAAAAAAPh/AAAAAAAA+H8AAAAAAAD4fwAAAAAAAPh/AAAAAAAAe0AAAAAAAAB7QAAAAAAAAHtAAAAAAAAAe0AAAAAAAAB7QAAAAAAAAHtAAAAAAAAAe0AAAAAAAAB7QAAAAAAAAHtAAAAAAAAAe0AAAAAAAAB7QAAAAAAAAHtAAAAAAAAAe0AAAAAAAAB7QAAAAAAAAHtAAAAAAAAAe0AAAAAAAAB7QAAAAAAAAHtAAAAAAAAAe0AAAAAAAAB7QAAAAAAAAHtAAAAAAAAAe0AAAAAAAAB7QAAAAAAAAHtAAAAAAAAAe0AAAAAAAAB7QAAAAAAAAHtAAAAAAAAAe0AAAAAAAAB7QAAAAAAAAHtAAAAAAAAAe0AAAAAAAAB7QAAAAAAAAHtAAAAAAAAAe0AAAAAAAAB7QAAAAAAAAHtAAAAAAAAAe0AAAAAAAAB7QAAAAAAAAHtAAAAAAAAAe0AAAAAAAAB7QAAAAAAAAHtAAAAAAAAAe0AAAAAAAAB7QAAAAAAAAHtAAAAAAAAAe0AAAAAAAAB7QAAAAAAAAHtA",
          "dtype": "f8"
         },
         "yaxis": "y"
        },
        {
         "hovertemplate": "variable=seasonal_naive<br>index=%{x}<br>value=%{y}<extra></extra>",
         "legendgroup": "seasonal_naive",
         "line": {
          "color": "#00cc96",
          "dash": "solid"
         },
         "marker": {
          "symbol": "circle"
         },
         "mode": "lines",
         "name": "seasonal_naive",
         "orientation": "v",
         "showlegend": true,
         "type": "scatter",
         "x": [
          "1949-01-31T00:00:00.000000000",
          "1949-02-28T00:00:00.000000000",
          "1949-03-31T00:00:00.000000000",
          "1949-04-30T00:00:00.000000000",
          "1949-05-31T00:00:00.000000000",
          "1949-06-30T00:00:00.000000000",
          "1949-07-31T00:00:00.000000000",
          "1949-08-31T00:00:00.000000000",
          "1949-09-30T00:00:00.000000000",
          "1949-10-31T00:00:00.000000000",
          "1949-11-30T00:00:00.000000000",
          "1949-12-31T00:00:00.000000000",
          "1950-01-31T00:00:00.000000000",
          "1950-02-28T00:00:00.000000000",
          "1950-03-31T00:00:00.000000000",
          "1950-04-30T00:00:00.000000000",
          "1950-05-31T00:00:00.000000000",
          "1950-06-30T00:00:00.000000000",
          "1950-07-31T00:00:00.000000000",
          "1950-08-31T00:00:00.000000000",
          "1950-09-30T00:00:00.000000000",
          "1950-10-31T00:00:00.000000000",
          "1950-11-30T00:00:00.000000000",
          "1950-12-31T00:00:00.000000000",
          "1951-01-31T00:00:00.000000000",
          "1951-02-28T00:00:00.000000000",
          "1951-03-31T00:00:00.000000000",
          "1951-04-30T00:00:00.000000000",
          "1951-05-31T00:00:00.000000000",
          "1951-06-30T00:00:00.000000000",
          "1951-07-31T00:00:00.000000000",
          "1951-08-31T00:00:00.000000000",
          "1951-09-30T00:00:00.000000000",
          "1951-10-31T00:00:00.000000000",
          "1951-11-30T00:00:00.000000000",
          "1951-12-31T00:00:00.000000000",
          "1952-01-31T00:00:00.000000000",
          "1952-02-29T00:00:00.000000000",
          "1952-03-31T00:00:00.000000000",
          "1952-04-30T00:00:00.000000000",
          "1952-05-31T00:00:00.000000000",
          "1952-06-30T00:00:00.000000000",
          "1952-07-31T00:00:00.000000000",
          "1952-08-31T00:00:00.000000000",
          "1952-09-30T00:00:00.000000000",
          "1952-10-31T00:00:00.000000000",
          "1952-11-30T00:00:00.000000000",
          "1952-12-31T00:00:00.000000000",
          "1953-01-31T00:00:00.000000000",
          "1953-02-28T00:00:00.000000000",
          "1953-03-31T00:00:00.000000000",
          "1953-04-30T00:00:00.000000000",
          "1953-05-31T00:00:00.000000000",
          "1953-06-30T00:00:00.000000000",
          "1953-07-31T00:00:00.000000000",
          "1953-08-31T00:00:00.000000000",
          "1953-09-30T00:00:00.000000000",
          "1953-10-31T00:00:00.000000000",
          "1953-11-30T00:00:00.000000000",
          "1953-12-31T00:00:00.000000000",
          "1954-01-31T00:00:00.000000000",
          "1954-02-28T00:00:00.000000000",
          "1954-03-31T00:00:00.000000000",
          "1954-04-30T00:00:00.000000000",
          "1954-05-31T00:00:00.000000000",
          "1954-06-30T00:00:00.000000000",
          "1954-07-31T00:00:00.000000000",
          "1954-08-31T00:00:00.000000000",
          "1954-09-30T00:00:00.000000000",
          "1954-10-31T00:00:00.000000000",
          "1954-11-30T00:00:00.000000000",
          "1954-12-31T00:00:00.000000000",
          "1955-01-31T00:00:00.000000000",
          "1955-02-28T00:00:00.000000000",
          "1955-03-31T00:00:00.000000000",
          "1955-04-30T00:00:00.000000000",
          "1955-05-31T00:00:00.000000000",
          "1955-06-30T00:00:00.000000000",
          "1955-07-31T00:00:00.000000000",
          "1955-08-31T00:00:00.000000000",
          "1955-09-30T00:00:00.000000000",
          "1955-10-31T00:00:00.000000000",
          "1955-11-30T00:00:00.000000000",
          "1955-12-31T00:00:00.000000000",
          "1956-01-31T00:00:00.000000000",
          "1956-02-29T00:00:00.000000000",
          "1956-03-31T00:00:00.000000000",
          "1956-04-30T00:00:00.000000000",
          "1956-05-31T00:00:00.000000000",
          "1956-06-30T00:00:00.000000000",
          "1956-07-31T00:00:00.000000000",
          "1956-08-31T00:00:00.000000000",
          "1956-09-30T00:00:00.000000000",
          "1956-10-31T00:00:00.000000000",
          "1956-11-30T00:00:00.000000000",
          "1956-12-31T00:00:00.000000000",
          "1957-01-31T00:00:00.000000000",
          "1957-02-28T00:00:00.000000000",
          "1957-03-31T00:00:00.000000000",
          "1957-04-30T00:00:00.000000000",
          "1957-05-31T00:00:00.000000000",
          "1957-06-30T00:00:00.000000000",
          "1957-07-31T00:00:00.000000000",
          "1957-08-31T00:00:00.000000000",
          "1957-09-30T00:00:00.000000000",
          "1957-10-31T00:00:00.000000000",
          "1957-11-30T00:00:00.000000000",
          "1957-12-31T00:00:00.000000000",
          "1958-01-31T00:00:00.000000000",
          "1958-02-28T00:00:00.000000000",
          "1958-03-31T00:00:00.000000000",
          "1958-04-30T00:00:00.000000000",
          "1958-05-31T00:00:00.000000000",
          "1958-06-30T00:00:00.000000000",
          "1958-07-31T00:00:00.000000000",
          "1958-08-31T00:00:00.000000000",
          "1958-09-30T00:00:00.000000000",
          "1958-10-31T00:00:00.000000000",
          "1958-11-30T00:00:00.000000000",
          "1958-12-31T00:00:00.000000000",
          "1959-01-31T00:00:00.000000000",
          "1959-02-28T00:00:00.000000000",
          "1959-03-31T00:00:00.000000000",
          "1959-04-30T00:00:00.000000000",
          "1959-05-31T00:00:00.000000000",
          "1959-06-30T00:00:00.000000000",
          "1959-07-31T00:00:00.000000000",
          "1959-08-31T00:00:00.000000000",
          "1959-09-30T00:00:00.000000000",
          "1959-10-31T00:00:00.000000000",
          "1959-11-30T00:00:00.000000000",
          "1959-12-31T00:00:00.000000000",
          "1960-01-31T00:00:00.000000000",
          "1960-02-29T00:00:00.000000000",
          "1960-03-31T00:00:00.000000000",
          "1960-04-30T00:00:00.000000000",
          "1960-05-31T00:00:00.000000000",
          "1960-06-30T00:00:00.000000000",
          "1960-07-31T00:00:00.000000000",
          "1960-08-31T00:00:00.000000000",
          "1960-09-30T00:00:00.000000000",
          "1960-10-31T00:00:00.000000000",
          "1960-11-30T00:00:00.000000000",
          "1960-12-31T00:00:00.000000000",
          "1961-02-01T00:00:00.000000000",
          "1961-03-01T00:00:00.000000000",
          "1961-04-01T00:00:00.000000000",
          "1961-05-01T00:00:00.000000000",
          "1961-06-01T00:00:00.000000000",
          "1961-07-01T00:00:00.000000000",
          "1961-08-01T00:00:00.000000000",
          "1961-09-01T00:00:00.000000000",
          "1961-10-01T00:00:00.000000000",
          "1961-11-01T00:00:00.000000000",
          "1961-12-01T00:00:00.000000000",
          "1962-01-01T00:00:00.000000000",
          "1962-02-01T00:00:00.000000000",
          "1962-03-01T00:00:00.000000000",
          "1962-04-01T00:00:00.000000000",
          "1962-05-01T00:00:00.000000000",
          "1962-06-01T00:00:00.000000000",
          "1962-07-01T00:00:00.000000000",
          "1962-08-01T00:00:00.000000000",
          "1962-09-01T00:00:00.000000000",
          "1962-10-01T00:00:00.000000000",
          "1962-11-01T00:00:00.000000000",
          "1962-12-01T00:00:00.000000000",
          "1963-01-01T00:00:00.000000000",
          "1963-02-01T00:00:00.000000000",
          "1963-03-01T00:00:00.000000000",
          "1963-04-01T00:00:00.000000000",
          "1963-05-01T00:00:00.000000000",
          "1963-06-01T00:00:00.000000000",
          "1963-07-01T00:00:00.000000000",
          "1963-08-01T00:00:00.000000000",
          "1963-09-01T00:00:00.000000000",
          "1963-10-01T00:00:00.000000000",
          "1963-11-01T00:00:00.000000000",
          "1963-12-01T00:00:00.000000000",
          "1964-01-01T00:00:00.000000000",
          "1964-02-01T00:00:00.000000000",
          "1964-03-01T00:00:00.000000000",
          "1964-04-01T00:00:00.000000000",
          "1964-05-01T00:00:00.000000000",
          "1964-06-01T00:00:00.000000000",
          "1964-07-01T00:00:00.000000000",
          "1964-08-01T00:00:00.000000000",
          "1964-09-01T00:00:00.000000000",
          "1964-10-01T00:00:00.000000000",
          "1964-11-01T00:00:00.000000000",
          "1964-12-01T00:00:00.000000000",
          "1965-01-01T00:00:00.000000000"
         ],
         "xaxis": "x",
         "y": {
          "bdata": "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",
          "dtype": "f8"
         },
         "yaxis": "y"
        }
       ],
       "layout": {
        "legend": {
         "title": {
          "text": "variable"
         },
         "tracegroupgap": 0
        },
        "margin": {
         "t": 60
        },
        "template": {
         "data": {
          "bar": [
           {
            "error_x": {
             "color": "#f2f5fa"
            },
            "error_y": {
             "color": "#f2f5fa"
            },
            "marker": {
             "line": {
              "color": "rgb(17,17,17)",
              "width": 0.5
             },
             "pattern": {
              "fillmode": "overlay",
              "size": 10,
              "solidity": 0.2
             }
            },
            "type": "bar"
           }
          ],
          "barpolar": [
           {
            "marker": {
             "line": {
              "color": "rgb(17,17,17)",
              "width": 0.5
             },
             "pattern": {
              "fillmode": "overlay",
              "size": 10,
              "solidity": 0.2
             }
            },
            "type": "barpolar"
           }
          ],
          "carpet": [
           {
            "aaxis": {
             "endlinecolor": "#A2B1C6",
             "gridcolor": "#506784",
             "linecolor": "#506784",
             "minorgridcolor": "#506784",
             "startlinecolor": "#A2B1C6"
            },
            "baxis": {
             "endlinecolor": "#A2B1C6",
             "gridcolor": "#506784",
             "linecolor": "#506784",
             "minorgridcolor": "#506784",
             "startlinecolor": "#A2B1C6"
            },
            "type": "carpet"
           }
          ],
          "choropleth": [
           {
            "colorbar": {
             "outlinewidth": 0,
             "ticks": ""
            },
            "type": "choropleth"
           }
          ],
          "contour": [
           {
            "colorbar": {
             "outlinewidth": 0,
             "ticks": ""
            },
            "colorscale": [
             [
              0,
              "#0d0887"
             ],
             [
              0.1111111111111111,
              "#46039f"
             ],
             [
              0.2222222222222222,
              "#7201a8"
             ],
             [
              0.3333333333333333,
              "#9c179e"
             ],
             [
              0.4444444444444444,
              "#bd3786"
             ],
             [
              0.5555555555555556,
              "#d8576b"
             ],
             [
              0.6666666666666666,
              "#ed7953"
             ],
             [
              0.7777777777777778,
              "#fb9f3a"
             ],
             [
              0.8888888888888888,
              "#fdca26"
             ],
             [
              1,
              "#f0f921"
             ]
            ],
            "type": "contour"
           }
          ],
          "contourcarpet": [
           {
            "colorbar": {
             "outlinewidth": 0,
             "ticks": ""
            },
            "type": "contourcarpet"
           }
          ],
          "heatmap": [
           {
            "colorbar": {
             "outlinewidth": 0,
             "ticks": ""
            },
            "colorscale": [
             [
              0,
              "#0d0887"
             ],
             [
              0.1111111111111111,
              "#46039f"
             ],
             [
              0.2222222222222222,
              "#7201a8"
             ],
             [
              0.3333333333333333,
              "#9c179e"
             ],
             [
              0.4444444444444444,
              "#bd3786"
             ],
             [
              0.5555555555555556,
              "#d8576b"
             ],
             [
              0.6666666666666666,
              "#ed7953"
             ],
             [
              0.7777777777777778,
              "#fb9f3a"
             ],
             [
              0.8888888888888888,
              "#fdca26"
             ],
             [
              1,
              "#f0f921"
             ]
            ],
            "type": "heatmap"
           }
          ],
          "histogram": [
           {
            "marker": {
             "pattern": {
              "fillmode": "overlay",
              "size": 10,
              "solidity": 0.2
             }
            },
            "type": "histogram"
           }
          ],
          "histogram2d": [
           {
            "colorbar": {
             "outlinewidth": 0,
             "ticks": ""
            },
            "colorscale": [
             [
              0,
              "#0d0887"
             ],
             [
              0.1111111111111111,
              "#46039f"
             ],
             [
              0.2222222222222222,
              "#7201a8"
             ],
             [
              0.3333333333333333,
              "#9c179e"
             ],
             [
              0.4444444444444444,
              "#bd3786"
             ],
             [
              0.5555555555555556,
              "#d8576b"
             ],
             [
              0.6666666666666666,
              "#ed7953"
             ],
             [
              0.7777777777777778,
              "#fb9f3a"
             ],
             [
              0.8888888888888888,
              "#fdca26"
             ],
             [
              1,
              "#f0f921"
             ]
            ],
            "type": "histogram2d"
           }
          ],
          "histogram2dcontour": [
           {
            "colorbar": {
             "outlinewidth": 0,
             "ticks": ""
            },
            "colorscale": [
             [
              0,
              "#0d0887"
             ],
             [
              0.1111111111111111,
              "#46039f"
             ],
             [
              0.2222222222222222,
              "#7201a8"
             ],
             [
              0.3333333333333333,
              "#9c179e"
             ],
             [
              0.4444444444444444,
              "#bd3786"
             ],
             [
              0.5555555555555556,
              "#d8576b"
             ],
             [
              0.6666666666666666,
              "#ed7953"
             ],
             [
              0.7777777777777778,
              "#fb9f3a"
             ],
             [
              0.8888888888888888,
              "#fdca26"
             ],
             [
              1,
              "#f0f921"
             ]
            ],
            "type": "histogram2dcontour"
           }
          ],
          "mesh3d": [
           {
            "colorbar": {
             "outlinewidth": 0,
             "ticks": ""
            },
            "type": "mesh3d"
           }
          ],
          "parcoords": [
           {
            "line": {
             "colorbar": {
              "outlinewidth": 0,
              "ticks": ""
             }
            },
            "type": "parcoords"
           }
          ],
          "pie": [
           {
            "automargin": true,
            "type": "pie"
           }
          ],
          "scatter": [
           {
            "marker": {
             "line": {
              "color": "#283442"
             }
            },
            "type": "scatter"
           }
          ],
          "scatter3d": [
           {
            "line": {
             "colorbar": {
              "outlinewidth": 0,
              "ticks": ""
             }
            },
            "marker": {
             "colorbar": {
              "outlinewidth": 0,
              "ticks": ""
             }
            },
            "type": "scatter3d"
           }
          ],
          "scattercarpet": [
           {
            "marker": {
             "colorbar": {
              "outlinewidth": 0,
              "ticks": ""
             }
            },
            "type": "scattercarpet"
           }
          ],
          "scattergeo": [
           {
            "marker": {
             "colorbar": {
              "outlinewidth": 0,
              "ticks": ""
             }
            },
            "type": "scattergeo"
           }
          ],
          "scattergl": [
           {
            "marker": {
             "line": {
              "color": "#283442"
             }
            },
            "type": "scattergl"
           }
          ],
          "scattermap": [
           {
            "marker": {
             "colorbar": {
              "outlinewidth": 0,
              "ticks": ""
             }
            },
            "type": "scattermap"
           }
          ],
          "scattermapbox": [
           {
            "marker": {
             "colorbar": {
              "outlinewidth": 0,
              "ticks": ""
             }
            },
            "type": "scattermapbox"
           }
          ],
          "scatterpolar": [
           {
            "marker": {
             "colorbar": {
              "outlinewidth": 0,
              "ticks": ""
             }
            },
            "type": "scatterpolar"
           }
          ],
          "scatterpolargl": [
           {
            "marker": {
             "colorbar": {
              "outlinewidth": 0,
              "ticks": ""
             }
            },
            "type": "scatterpolargl"
           }
          ],
          "scatterternary": [
           {
            "marker": {
             "colorbar": {
              "outlinewidth": 0,
              "ticks": ""
             }
            },
            "type": "scatterternary"
           }
          ],
          "surface": [
           {
            "colorbar": {
             "outlinewidth": 0,
             "ticks": ""
            },
            "colorscale": [
             [
              0,
              "#0d0887"
             ],
             [
              0.1111111111111111,
              "#46039f"
             ],
             [
              0.2222222222222222,
              "#7201a8"
             ],
             [
              0.3333333333333333,
              "#9c179e"
             ],
             [
              0.4444444444444444,
              "#bd3786"
             ],
             [
              0.5555555555555556,
              "#d8576b"
             ],
             [
              0.6666666666666666,
              "#ed7953"
             ],
             [
              0.7777777777777778,
              "#fb9f3a"
             ],
             [
              0.8888888888888888,
              "#fdca26"
             ],
             [
              1,
              "#f0f921"
             ]
            ],
            "type": "surface"
           }
          ],
          "table": [
           {
            "cells": {
             "fill": {
              "color": "#506784"
             },
             "line": {
              "color": "rgb(17,17,17)"
             }
            },
            "header": {
             "fill": {
              "color": "#2a3f5f"
             },
             "line": {
              "color": "rgb(17,17,17)"
             }
            },
            "type": "table"
           }
          ]
         },
         "layout": {
          "annotationdefaults": {
           "arrowcolor": "#f2f5fa",
           "arrowhead": 0,
           "arrowwidth": 1
          },
          "autosize": false,
          "autotypenumbers": "strict",
          "coloraxis": {
           "colorbar": {
            "outlinewidth": 0,
            "ticks": ""
           }
          },
          "colorscale": {
           "diverging": [
            [
             0,
             "#8e0152"
            ],
            [
             0.1,
             "#c51b7d"
            ],
            [
             0.2,
             "#de77ae"
            ],
            [
             0.3,
             "#f1b6da"
            ],
            [
             0.4,
             "#fde0ef"
            ],
            [
             0.5,
             "#f7f7f7"
            ],
            [
             0.6,
             "#e6f5d0"
            ],
            [
             0.7,
             "#b8e186"
            ],
            [
             0.8,
             "#7fbc41"
            ],
            [
             0.9,
             "#4d9221"
            ],
            [
             1,
             "#276419"
            ]
           ],
           "sequential": [
            [
             0,
             "#0d0887"
            ],
            [
             0.1111111111111111,
             "#46039f"
            ],
            [
             0.2222222222222222,
             "#7201a8"
            ],
            [
             0.3333333333333333,
             "#9c179e"
            ],
            [
             0.4444444444444444,
             "#bd3786"
            ],
            [
             0.5555555555555556,
             "#d8576b"
            ],
            [
             0.6666666666666666,
             "#ed7953"
            ],
            [
             0.7777777777777778,
             "#fb9f3a"
            ],
            [
             0.8888888888888888,
             "#fdca26"
            ],
            [
             1,
             "#f0f921"
            ]
           ],
           "sequentialminus": [
            [
             0,
             "#0d0887"
            ],
            [
             0.1111111111111111,
             "#46039f"
            ],
            [
             0.2222222222222222,
             "#7201a8"
            ],
            [
             0.3333333333333333,
             "#9c179e"
            ],
            [
             0.4444444444444444,
             "#bd3786"
            ],
            [
             0.5555555555555556,
             "#d8576b"
            ],
            [
             0.6666666666666666,
             "#ed7953"
            ],
            [
             0.7777777777777778,
             "#fb9f3a"
            ],
            [
             0.8888888888888888,
             "#fdca26"
            ],
            [
             1,
             "#f0f921"
            ]
           ]
          },
          "colorway": [
           "#636efa",
           "#EF553B",
           "#00cc96",
           "#ab63fa",
           "#FFA15A",
           "#19d3f3",
           "#FF6692",
           "#B6E880",
           "#FF97FF",
           "#FECB52"
          ],
          "font": {
           "color": "#f2f5fa"
          },
          "geo": {
           "bgcolor": "rgb(17,17,17)",
           "lakecolor": "rgb(17,17,17)",
           "landcolor": "rgb(17,17,17)",
           "showlakes": true,
           "showland": true,
           "subunitcolor": "#506784"
          },
          "height": 500,
          "hoverlabel": {
           "align": "left"
          },
          "hovermode": "closest",
          "mapbox": {
           "style": "dark"
          },
          "paper_bgcolor": "rgb(17,17,17)",
          "plot_bgcolor": "rgb(17,17,17)",
          "polar": {
           "angularaxis": {
            "gridcolor": "#506784",
            "linecolor": "#506784",
            "ticks": ""
           },
           "bgcolor": "rgb(17,17,17)",
           "radialaxis": {
            "gridcolor": "#506784",
            "linecolor": "#506784",
            "ticks": ""
           }
          },
          "scene": {
           "xaxis": {
            "backgroundcolor": "rgb(17,17,17)",
            "gridcolor": "#506784",
            "gridwidth": 2,
            "linecolor": "#506784",
            "showbackground": true,
            "ticks": "",
            "zerolinecolor": "#C8D4E3"
           },
           "yaxis": {
            "backgroundcolor": "rgb(17,17,17)",
            "gridcolor": "#506784",
            "gridwidth": 2,
            "linecolor": "#506784",
            "showbackground": true,
            "ticks": "",
            "zerolinecolor": "#C8D4E3"
           },
           "zaxis": {
            "backgroundcolor": "rgb(17,17,17)",
            "gridcolor": "#506784",
            "gridwidth": 2,
            "linecolor": "#506784",
            "showbackground": true,
            "ticks": "",
            "zerolinecolor": "#C8D4E3"
           }
          },
          "shapedefaults": {
           "line": {
            "color": "#f2f5fa"
           }
          },
          "showlegend": true,
          "sliderdefaults": {
           "bgcolor": "#C8D4E3",
           "bordercolor": "rgb(17,17,17)",
           "borderwidth": 1,
           "tickwidth": 0
          },
          "ternary": {
           "aaxis": {
            "gridcolor": "#506784",
            "linecolor": "#506784",
            "ticks": ""
           },
           "baxis": {
            "gridcolor": "#506784",
            "linecolor": "#506784",
            "ticks": ""
           },
           "bgcolor": "rgb(17,17,17)",
           "caxis": {
            "gridcolor": "#506784",
            "linecolor": "#506784",
            "ticks": ""
           }
          },
          "title": {
           "x": 0.05
          },
          "updatemenudefaults": {
           "bgcolor": "#506784",
           "borderwidth": 0
          },
          "width": 1000,
          "xaxis": {
           "automargin": true,
           "gridcolor": "#283442",
           "linecolor": "#506784",
           "ticks": "",
           "title": {
            "standoff": 15
           },
           "zerolinecolor": "#283442",
           "zerolinewidth": 2
          },
          "yaxis": {
           "automargin": true,
           "gridcolor": "#283442",
           "linecolor": "#506784",
           "ticks": "",
           "title": {
            "standoff": 15
           },
           "zerolinecolor": "#283442",
           "zerolinewidth": 2
          }
         }
        },
        "xaxis": {
         "anchor": "y",
         "domain": [
          0,
          1
         ],
         "title": {
          "text": "index"
         }
        },
        "yaxis": {
         "anchor": "x",
         "domain": [
          0,
          1
         ],
         "title": {
          "text": "value"
         }
        }
       }
      }
     },
     "metadata": {},
     "output_type": "display_data"
    }
   ],
   "source": [
    "pd.concat([df, df_forecast]).plot()"
   ]
  },
  {
   "cell_type": "markdown",
   "id": "e475c63e",
   "metadata": {
    "papermill": {
     "duration": 0.001425,
     "end_time": "2024-05-29T23:01:59.213596",
     "exception": false,
     "start_time": "2024-05-29T23:01:59.212171",
     "status": "completed"
    },
    "tags": []
   },
   "source": [
    "## Moving average method"
   ]
  },
  {
   "cell_type": "code",
   "execution_count": 10,
   "id": "825234a7",
   "metadata": {},
   "outputs": [],
   "source": [
    "import numpy as np"
   ]
  },
  {
   "cell_type": "code",
   "execution_count": 13,
   "id": "e00b276a",
   "metadata": {
    "execution": {
     "iopub.execute_input": "2024-05-29T23:01:59.217020Z",
     "iopub.status.busy": "2024-05-29T23:01:59.216929Z",
     "iopub.status.idle": "2024-05-29T23:01:59.260219Z",
     "shell.execute_reply": "2024-05-29T23:01:59.259970Z"
    },
    "papermill": {
     "duration": 0.045869,
     "end_time": "2024-05-29T23:01:59.260989",
     "exception": false,
     "start_time": "2024-05-29T23:01:59.215120",
     "status": "completed"
    },
    "tags": [
     "Fixed"
    ]
   },
   "outputs": [
    {
     "data": {
      "text/html": [
       "<div>\n",
       "<style scoped>\n",
       "    .dataframe tbody tr th:only-of-type {\n",
       "        vertical-align: middle;\n",
       "    }\n",
       "\n",
       "    .dataframe tbody tr th {\n",
       "        vertical-align: top;\n",
       "    }\n",
       "\n",
       "    .dataframe thead th {\n",
       "        text-align: right;\n",
       "    }\n",
       "</style>\n",
       "<table border=\"1\" class=\"dataframe\">\n",
       "  <thead>\n",
       "    <tr style=\"text-align: right;\">\n",
       "      <th></th>\n",
       "      <th>last_observation</th>\n",
       "      <th>seasonal_naive</th>\n",
       "      <th>moving_average</th>\n",
       "    </tr>\n",
       "  </thead>\n",
       "  <tbody>\n",
       "    <tr>\n",
       "      <th>1961-02-01</th>\n",
       "      <td>432</td>\n",
       "      <td>417.0</td>\n",
       "      <td>476.166667</td>\n",
       "    </tr>\n",
       "    <tr>\n",
       "      <th>1961-03-01</th>\n",
       "      <td>432</td>\n",
       "      <td>391.0</td>\n",
       "      <td>481.097222</td>\n",
       "    </tr>\n",
       "    <tr>\n",
       "      <th>...</th>\n",
       "      <td>...</td>\n",
       "      <td>...</td>\n",
       "      <td>...</td>\n",
       "    </tr>\n",
       "    <tr>\n",
       "      <th>1964-12-01</th>\n",
       "      <td>432</td>\n",
       "      <td>390.0</td>\n",
       "      <td>483.712156</td>\n",
       "    </tr>\n",
       "    <tr>\n",
       "      <th>1965-01-01</th>\n",
       "      <td>432</td>\n",
       "      <td>432.0</td>\n",
       "      <td>483.707130</td>\n",
       "    </tr>\n",
       "  </tbody>\n",
       "</table>\n",
       "<p>48 rows × 3 columns</p>\n",
       "</div>"
      ],
      "text/plain": [
       "            last_observation  seasonal_naive  moving_average\n",
       "1961-02-01               432           417.0      476.166667\n",
       "1961-03-01               432           391.0      481.097222\n",
       "...                      ...             ...             ...\n",
       "1964-12-01               432           390.0      483.712156\n",
       "1965-01-01               432           432.0      483.707130\n",
       "\n",
       "[48 rows x 3 columns]"
      ]
     },
     "execution_count": 13,
     "metadata": {},
     "output_type": "execute_result"
    }
   ],
   "source": [
    "HORIZON = 48\n",
    "window_size = 12\n",
    "\n",
    "series_forecast = series.copy()\n",
    "\n",
    "forecasts = []\n",
    "\n",
    "for step in range(HORIZON):\n",
    "    forecast = series_forecast[-window_size:].mean()\n",
    "    forecasts.append(forecast)\n",
    "    series_forecast = np.concatenate([series_forecast, [forecast]])\n",
    "\n",
    "idx = df_forecast.index[:HORIZON]\n",
    "df_forecast.loc[idx, \"moving_average\"] = forecasts\n",
    "\n",
    "df_forecast"
   ]
  },
  {
   "cell_type": "code",
   "execution_count": 12,
   "id": "156d6dd2",
   "metadata": {},
   "outputs": [
    {
     "data": {
      "application/vnd.plotly.v1+json": {
       "config": {
        "plotlyServerURL": "https://plot.ly"
       },
       "data": [
        {
         "hovertemplate": "variable=values<br>index=%{x}<br>value=%{y}<extra></extra>",
         "legendgroup": "values",
         "line": {
          "color": "#636efa",
          "dash": "solid"
         },
         "marker": {
          "symbol": "circle"
         },
         "mode": "lines",
         "name": "values",
         "orientation": "v",
         "showlegend": true,
         "type": "scatter",
         "x": [
          "1949-01-31T00:00:00.000000000",
          "1949-02-28T00:00:00.000000000",
          "1949-03-31T00:00:00.000000000",
          "1949-04-30T00:00:00.000000000",
          "1949-05-31T00:00:00.000000000",
          "1949-06-30T00:00:00.000000000",
          "1949-07-31T00:00:00.000000000",
          "1949-08-31T00:00:00.000000000",
          "1949-09-30T00:00:00.000000000",
          "1949-10-31T00:00:00.000000000",
          "1949-11-30T00:00:00.000000000",
          "1949-12-31T00:00:00.000000000",
          "1950-01-31T00:00:00.000000000",
          "1950-02-28T00:00:00.000000000",
          "1950-03-31T00:00:00.000000000",
          "1950-04-30T00:00:00.000000000",
          "1950-05-31T00:00:00.000000000",
          "1950-06-30T00:00:00.000000000",
          "1950-07-31T00:00:00.000000000",
          "1950-08-31T00:00:00.000000000",
          "1950-09-30T00:00:00.000000000",
          "1950-10-31T00:00:00.000000000",
          "1950-11-30T00:00:00.000000000",
          "1950-12-31T00:00:00.000000000",
          "1951-01-31T00:00:00.000000000",
          "1951-02-28T00:00:00.000000000",
          "1951-03-31T00:00:00.000000000",
          "1951-04-30T00:00:00.000000000",
          "1951-05-31T00:00:00.000000000",
          "1951-06-30T00:00:00.000000000",
          "1951-07-31T00:00:00.000000000",
          "1951-08-31T00:00:00.000000000",
          "1951-09-30T00:00:00.000000000",
          "1951-10-31T00:00:00.000000000",
          "1951-11-30T00:00:00.000000000",
          "1951-12-31T00:00:00.000000000",
          "1952-01-31T00:00:00.000000000",
          "1952-02-29T00:00:00.000000000",
          "1952-03-31T00:00:00.000000000",
          "1952-04-30T00:00:00.000000000",
          "1952-05-31T00:00:00.000000000",
          "1952-06-30T00:00:00.000000000",
          "1952-07-31T00:00:00.000000000",
          "1952-08-31T00:00:00.000000000",
          "1952-09-30T00:00:00.000000000",
          "1952-10-31T00:00:00.000000000",
          "1952-11-30T00:00:00.000000000",
          "1952-12-31T00:00:00.000000000",
          "1953-01-31T00:00:00.000000000",
          "1953-02-28T00:00:00.000000000",
          "1953-03-31T00:00:00.000000000",
          "1953-04-30T00:00:00.000000000",
          "1953-05-31T00:00:00.000000000",
          "1953-06-30T00:00:00.000000000",
          "1953-07-31T00:00:00.000000000",
          "1953-08-31T00:00:00.000000000",
          "1953-09-30T00:00:00.000000000",
          "1953-10-31T00:00:00.000000000",
          "1953-11-30T00:00:00.000000000",
          "1953-12-31T00:00:00.000000000",
          "1954-01-31T00:00:00.000000000",
          "1954-02-28T00:00:00.000000000",
          "1954-03-31T00:00:00.000000000",
          "1954-04-30T00:00:00.000000000",
          "1954-05-31T00:00:00.000000000",
          "1954-06-30T00:00:00.000000000",
          "1954-07-31T00:00:00.000000000",
          "1954-08-31T00:00:00.000000000",
          "1954-09-30T00:00:00.000000000",
          "1954-10-31T00:00:00.000000000",
          "1954-11-30T00:00:00.000000000",
          "1954-12-31T00:00:00.000000000",
          "1955-01-31T00:00:00.000000000",
          "1955-02-28T00:00:00.000000000",
          "1955-03-31T00:00:00.000000000",
          "1955-04-30T00:00:00.000000000",
          "1955-05-31T00:00:00.000000000",
          "1955-06-30T00:00:00.000000000",
          "1955-07-31T00:00:00.000000000",
          "1955-08-31T00:00:00.000000000",
          "1955-09-30T00:00:00.000000000",
          "1955-10-31T00:00:00.000000000",
          "1955-11-30T00:00:00.000000000",
          "1955-12-31T00:00:00.000000000",
          "1956-01-31T00:00:00.000000000",
          "1956-02-29T00:00:00.000000000",
          "1956-03-31T00:00:00.000000000",
          "1956-04-30T00:00:00.000000000",
          "1956-05-31T00:00:00.000000000",
          "1956-06-30T00:00:00.000000000",
          "1956-07-31T00:00:00.000000000",
          "1956-08-31T00:00:00.000000000",
          "1956-09-30T00:00:00.000000000",
          "1956-10-31T00:00:00.000000000",
          "1956-11-30T00:00:00.000000000",
          "1956-12-31T00:00:00.000000000",
          "1957-01-31T00:00:00.000000000",
          "1957-02-28T00:00:00.000000000",
          "1957-03-31T00:00:00.000000000",
          "1957-04-30T00:00:00.000000000",
          "1957-05-31T00:00:00.000000000",
          "1957-06-30T00:00:00.000000000",
          "1957-07-31T00:00:00.000000000",
          "1957-08-31T00:00:00.000000000",
          "1957-09-30T00:00:00.000000000",
          "1957-10-31T00:00:00.000000000",
          "1957-11-30T00:00:00.000000000",
          "1957-12-31T00:00:00.000000000",
          "1958-01-31T00:00:00.000000000",
          "1958-02-28T00:00:00.000000000",
          "1958-03-31T00:00:00.000000000",
          "1958-04-30T00:00:00.000000000",
          "1958-05-31T00:00:00.000000000",
          "1958-06-30T00:00:00.000000000",
          "1958-07-31T00:00:00.000000000",
          "1958-08-31T00:00:00.000000000",
          "1958-09-30T00:00:00.000000000",
          "1958-10-31T00:00:00.000000000",
          "1958-11-30T00:00:00.000000000",
          "1958-12-31T00:00:00.000000000",
          "1959-01-31T00:00:00.000000000",
          "1959-02-28T00:00:00.000000000",
          "1959-03-31T00:00:00.000000000",
          "1959-04-30T00:00:00.000000000",
          "1959-05-31T00:00:00.000000000",
          "1959-06-30T00:00:00.000000000",
          "1959-07-31T00:00:00.000000000",
          "1959-08-31T00:00:00.000000000",
          "1959-09-30T00:00:00.000000000",
          "1959-10-31T00:00:00.000000000",
          "1959-11-30T00:00:00.000000000",
          "1959-12-31T00:00:00.000000000",
          "1960-01-31T00:00:00.000000000",
          "1960-02-29T00:00:00.000000000",
          "1960-03-31T00:00:00.000000000",
          "1960-04-30T00:00:00.000000000",
          "1960-05-31T00:00:00.000000000",
          "1960-06-30T00:00:00.000000000",
          "1960-07-31T00:00:00.000000000",
          "1960-08-31T00:00:00.000000000",
          "1960-09-30T00:00:00.000000000",
          "1960-10-31T00:00:00.000000000",
          "1960-11-30T00:00:00.000000000",
          "1960-12-31T00:00:00.000000000",
          "1961-02-01T00:00:00.000000000",
          "1961-03-01T00:00:00.000000000",
          "1961-04-01T00:00:00.000000000",
          "1961-05-01T00:00:00.000000000",
          "1961-06-01T00:00:00.000000000",
          "1961-07-01T00:00:00.000000000",
          "1961-08-01T00:00:00.000000000",
          "1961-09-01T00:00:00.000000000",
          "1961-10-01T00:00:00.000000000",
          "1961-11-01T00:00:00.000000000",
          "1961-12-01T00:00:00.000000000",
          "1962-01-01T00:00:00.000000000",
          "1962-02-01T00:00:00.000000000",
          "1962-03-01T00:00:00.000000000",
          "1962-04-01T00:00:00.000000000",
          "1962-05-01T00:00:00.000000000",
          "1962-06-01T00:00:00.000000000",
          "1962-07-01T00:00:00.000000000",
          "1962-08-01T00:00:00.000000000",
          "1962-09-01T00:00:00.000000000",
          "1962-10-01T00:00:00.000000000",
          "1962-11-01T00:00:00.000000000",
          "1962-12-01T00:00:00.000000000",
          "1963-01-01T00:00:00.000000000",
          "1963-02-01T00:00:00.000000000",
          "1963-03-01T00:00:00.000000000",
          "1963-04-01T00:00:00.000000000",
          "1963-05-01T00:00:00.000000000",
          "1963-06-01T00:00:00.000000000",
          "1963-07-01T00:00:00.000000000",
          "1963-08-01T00:00:00.000000000",
          "1963-09-01T00:00:00.000000000",
          "1963-10-01T00:00:00.000000000",
          "1963-11-01T00:00:00.000000000",
          "1963-12-01T00:00:00.000000000",
          "1964-01-01T00:00:00.000000000",
          "1964-02-01T00:00:00.000000000",
          "1964-03-01T00:00:00.000000000",
          "1964-04-01T00:00:00.000000000",
          "1964-05-01T00:00:00.000000000",
          "1964-06-01T00:00:00.000000000",
          "1964-07-01T00:00:00.000000000",
          "1964-08-01T00:00:00.000000000",
          "1964-09-01T00:00:00.000000000",
          "1964-10-01T00:00:00.000000000",
          "1964-11-01T00:00:00.000000000",
          "1964-12-01T00:00:00.000000000",
          "1965-01-01T00:00:00.000000000"
         ],
         "xaxis": "x",
         "y": {
          "bdata": "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",
          "dtype": "f8"
         },
         "yaxis": "y"
        },
        {
         "hovertemplate": "variable=last_observation<br>index=%{x}<br>value=%{y}<extra></extra>",
         "legendgroup": "last_observation",
         "line": {
          "color": "#EF553B",
          "dash": "solid"
         },
         "marker": {
          "symbol": "circle"
         },
         "mode": "lines",
         "name": "last_observation",
         "orientation": "v",
         "showlegend": true,
         "type": "scatter",
         "x": [
          "1949-01-31T00:00:00.000000000",
          "1949-02-28T00:00:00.000000000",
          "1949-03-31T00:00:00.000000000",
          "1949-04-30T00:00:00.000000000",
          "1949-05-31T00:00:00.000000000",
          "1949-06-30T00:00:00.000000000",
          "1949-07-31T00:00:00.000000000",
          "1949-08-31T00:00:00.000000000",
          "1949-09-30T00:00:00.000000000",
          "1949-10-31T00:00:00.000000000",
          "1949-11-30T00:00:00.000000000",
          "1949-12-31T00:00:00.000000000",
          "1950-01-31T00:00:00.000000000",
          "1950-02-28T00:00:00.000000000",
          "1950-03-31T00:00:00.000000000",
          "1950-04-30T00:00:00.000000000",
          "1950-05-31T00:00:00.000000000",
          "1950-06-30T00:00:00.000000000",
          "1950-07-31T00:00:00.000000000",
          "1950-08-31T00:00:00.000000000",
          "1950-09-30T00:00:00.000000000",
          "1950-10-31T00:00:00.000000000",
          "1950-11-30T00:00:00.000000000",
          "1950-12-31T00:00:00.000000000",
          "1951-01-31T00:00:00.000000000",
          "1951-02-28T00:00:00.000000000",
          "1951-03-31T00:00:00.000000000",
          "1951-04-30T00:00:00.000000000",
          "1951-05-31T00:00:00.000000000",
          "1951-06-30T00:00:00.000000000",
          "1951-07-31T00:00:00.000000000",
          "1951-08-31T00:00:00.000000000",
          "1951-09-30T00:00:00.000000000",
          "1951-10-31T00:00:00.000000000",
          "1951-11-30T00:00:00.000000000",
          "1951-12-31T00:00:00.000000000",
          "1952-01-31T00:00:00.000000000",
          "1952-02-29T00:00:00.000000000",
          "1952-03-31T00:00:00.000000000",
          "1952-04-30T00:00:00.000000000",
          "1952-05-31T00:00:00.000000000",
          "1952-06-30T00:00:00.000000000",
          "1952-07-31T00:00:00.000000000",
          "1952-08-31T00:00:00.000000000",
          "1952-09-30T00:00:00.000000000",
          "1952-10-31T00:00:00.000000000",
          "1952-11-30T00:00:00.000000000",
          "1952-12-31T00:00:00.000000000",
          "1953-01-31T00:00:00.000000000",
          "1953-02-28T00:00:00.000000000",
          "1953-03-31T00:00:00.000000000",
          "1953-04-30T00:00:00.000000000",
          "1953-05-31T00:00:00.000000000",
          "1953-06-30T00:00:00.000000000",
          "1953-07-31T00:00:00.000000000",
          "1953-08-31T00:00:00.000000000",
          "1953-09-30T00:00:00.000000000",
          "1953-10-31T00:00:00.000000000",
          "1953-11-30T00:00:00.000000000",
          "1953-12-31T00:00:00.000000000",
          "1954-01-31T00:00:00.000000000",
          "1954-02-28T00:00:00.000000000",
          "1954-03-31T00:00:00.000000000",
          "1954-04-30T00:00:00.000000000",
          "1954-05-31T00:00:00.000000000",
          "1954-06-30T00:00:00.000000000",
          "1954-07-31T00:00:00.000000000",
          "1954-08-31T00:00:00.000000000",
          "1954-09-30T00:00:00.000000000",
          "1954-10-31T00:00:00.000000000",
          "1954-11-30T00:00:00.000000000",
          "1954-12-31T00:00:00.000000000",
          "1955-01-31T00:00:00.000000000",
          "1955-02-28T00:00:00.000000000",
          "1955-03-31T00:00:00.000000000",
          "1955-04-30T00:00:00.000000000",
          "1955-05-31T00:00:00.000000000",
          "1955-06-30T00:00:00.000000000",
          "1955-07-31T00:00:00.000000000",
          "1955-08-31T00:00:00.000000000",
          "1955-09-30T00:00:00.000000000",
          "1955-10-31T00:00:00.000000000",
          "1955-11-30T00:00:00.000000000",
          "1955-12-31T00:00:00.000000000",
          "1956-01-31T00:00:00.000000000",
          "1956-02-29T00:00:00.000000000",
          "1956-03-31T00:00:00.000000000",
          "1956-04-30T00:00:00.000000000",
          "1956-05-31T00:00:00.000000000",
          "1956-06-30T00:00:00.000000000",
          "1956-07-31T00:00:00.000000000",
          "1956-08-31T00:00:00.000000000",
          "1956-09-30T00:00:00.000000000",
          "1956-10-31T00:00:00.000000000",
          "1956-11-30T00:00:00.000000000",
          "1956-12-31T00:00:00.000000000",
          "1957-01-31T00:00:00.000000000",
          "1957-02-28T00:00:00.000000000",
          "1957-03-31T00:00:00.000000000",
          "1957-04-30T00:00:00.000000000",
          "1957-05-31T00:00:00.000000000",
          "1957-06-30T00:00:00.000000000",
          "1957-07-31T00:00:00.000000000",
          "1957-08-31T00:00:00.000000000",
          "1957-09-30T00:00:00.000000000",
          "1957-10-31T00:00:00.000000000",
          "1957-11-30T00:00:00.000000000",
          "1957-12-31T00:00:00.000000000",
          "1958-01-31T00:00:00.000000000",
          "1958-02-28T00:00:00.000000000",
          "1958-03-31T00:00:00.000000000",
          "1958-04-30T00:00:00.000000000",
          "1958-05-31T00:00:00.000000000",
          "1958-06-30T00:00:00.000000000",
          "1958-07-31T00:00:00.000000000",
          "1958-08-31T00:00:00.000000000",
          "1958-09-30T00:00:00.000000000",
          "1958-10-31T00:00:00.000000000",
          "1958-11-30T00:00:00.000000000",
          "1958-12-31T00:00:00.000000000",
          "1959-01-31T00:00:00.000000000",
          "1959-02-28T00:00:00.000000000",
          "1959-03-31T00:00:00.000000000",
          "1959-04-30T00:00:00.000000000",
          "1959-05-31T00:00:00.000000000",
          "1959-06-30T00:00:00.000000000",
          "1959-07-31T00:00:00.000000000",
          "1959-08-31T00:00:00.000000000",
          "1959-09-30T00:00:00.000000000",
          "1959-10-31T00:00:00.000000000",
          "1959-11-30T00:00:00.000000000",
          "1959-12-31T00:00:00.000000000",
          "1960-01-31T00:00:00.000000000",
          "1960-02-29T00:00:00.000000000",
          "1960-03-31T00:00:00.000000000",
          "1960-04-30T00:00:00.000000000",
          "1960-05-31T00:00:00.000000000",
          "1960-06-30T00:00:00.000000000",
          "1960-07-31T00:00:00.000000000",
          "1960-08-31T00:00:00.000000000",
          "1960-09-30T00:00:00.000000000",
          "1960-10-31T00:00:00.000000000",
          "1960-11-30T00:00:00.000000000",
          "1960-12-31T00:00:00.000000000",
          "1961-02-01T00:00:00.000000000",
          "1961-03-01T00:00:00.000000000",
          "1961-04-01T00:00:00.000000000",
          "1961-05-01T00:00:00.000000000",
          "1961-06-01T00:00:00.000000000",
          "1961-07-01T00:00:00.000000000",
          "1961-08-01T00:00:00.000000000",
          "1961-09-01T00:00:00.000000000",
          "1961-10-01T00:00:00.000000000",
          "1961-11-01T00:00:00.000000000",
          "1961-12-01T00:00:00.000000000",
          "1962-01-01T00:00:00.000000000",
          "1962-02-01T00:00:00.000000000",
          "1962-03-01T00:00:00.000000000",
          "1962-04-01T00:00:00.000000000",
          "1962-05-01T00:00:00.000000000",
          "1962-06-01T00:00:00.000000000",
          "1962-07-01T00:00:00.000000000",
          "1962-08-01T00:00:00.000000000",
          "1962-09-01T00:00:00.000000000",
          "1962-10-01T00:00:00.000000000",
          "1962-11-01T00:00:00.000000000",
          "1962-12-01T00:00:00.000000000",
          "1963-01-01T00:00:00.000000000",
          "1963-02-01T00:00:00.000000000",
          "1963-03-01T00:00:00.000000000",
          "1963-04-01T00:00:00.000000000",
          "1963-05-01T00:00:00.000000000",
          "1963-06-01T00:00:00.000000000",
          "1963-07-01T00:00:00.000000000",
          "1963-08-01T00:00:00.000000000",
          "1963-09-01T00:00:00.000000000",
          "1963-10-01T00:00:00.000000000",
          "1963-11-01T00:00:00.000000000",
          "1963-12-01T00:00:00.000000000",
          "1964-01-01T00:00:00.000000000",
          "1964-02-01T00:00:00.000000000",
          "1964-03-01T00:00:00.000000000",
          "1964-04-01T00:00:00.000000000",
          "1964-05-01T00:00:00.000000000",
          "1964-06-01T00:00:00.000000000",
          "1964-07-01T00:00:00.000000000",
          "1964-08-01T00:00:00.000000000",
          "1964-09-01T00:00:00.000000000",
          "1964-10-01T00:00:00.000000000",
          "1964-11-01T00:00:00.000000000",
          "1964-12-01T00:00:00.000000000",
          "1965-01-01T00:00:00.000000000"
         ],
         "xaxis": "x",
         "y": {
          "bdata": "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",
          "dtype": "f8"
         },
         "yaxis": "y"
        },
        {
         "hovertemplate": "variable=seasonal_naive<br>index=%{x}<br>value=%{y}<extra></extra>",
         "legendgroup": "seasonal_naive",
         "line": {
          "color": "#00cc96",
          "dash": "solid"
         },
         "marker": {
          "symbol": "circle"
         },
         "mode": "lines",
         "name": "seasonal_naive",
         "orientation": "v",
         "showlegend": true,
         "type": "scatter",
         "x": [
          "1949-01-31T00:00:00.000000000",
          "1949-02-28T00:00:00.000000000",
          "1949-03-31T00:00:00.000000000",
          "1949-04-30T00:00:00.000000000",
          "1949-05-31T00:00:00.000000000",
          "1949-06-30T00:00:00.000000000",
          "1949-07-31T00:00:00.000000000",
          "1949-08-31T00:00:00.000000000",
          "1949-09-30T00:00:00.000000000",
          "1949-10-31T00:00:00.000000000",
          "1949-11-30T00:00:00.000000000",
          "1949-12-31T00:00:00.000000000",
          "1950-01-31T00:00:00.000000000",
          "1950-02-28T00:00:00.000000000",
          "1950-03-31T00:00:00.000000000",
          "1950-04-30T00:00:00.000000000",
          "1950-05-31T00:00:00.000000000",
          "1950-06-30T00:00:00.000000000",
          "1950-07-31T00:00:00.000000000",
          "1950-08-31T00:00:00.000000000",
          "1950-09-30T00:00:00.000000000",
          "1950-10-31T00:00:00.000000000",
          "1950-11-30T00:00:00.000000000",
          "1950-12-31T00:00:00.000000000",
          "1951-01-31T00:00:00.000000000",
          "1951-02-28T00:00:00.000000000",
          "1951-03-31T00:00:00.000000000",
          "1951-04-30T00:00:00.000000000",
          "1951-05-31T00:00:00.000000000",
          "1951-06-30T00:00:00.000000000",
          "1951-07-31T00:00:00.000000000",
          "1951-08-31T00:00:00.000000000",
          "1951-09-30T00:00:00.000000000",
          "1951-10-31T00:00:00.000000000",
          "1951-11-30T00:00:00.000000000",
          "1951-12-31T00:00:00.000000000",
          "1952-01-31T00:00:00.000000000",
          "1952-02-29T00:00:00.000000000",
          "1952-03-31T00:00:00.000000000",
          "1952-04-30T00:00:00.000000000",
          "1952-05-31T00:00:00.000000000",
          "1952-06-30T00:00:00.000000000",
          "1952-07-31T00:00:00.000000000",
          "1952-08-31T00:00:00.000000000",
          "1952-09-30T00:00:00.000000000",
          "1952-10-31T00:00:00.000000000",
          "1952-11-30T00:00:00.000000000",
          "1952-12-31T00:00:00.000000000",
          "1953-01-31T00:00:00.000000000",
          "1953-02-28T00:00:00.000000000",
          "1953-03-31T00:00:00.000000000",
          "1953-04-30T00:00:00.000000000",
          "1953-05-31T00:00:00.000000000",
          "1953-06-30T00:00:00.000000000",
          "1953-07-31T00:00:00.000000000",
          "1953-08-31T00:00:00.000000000",
          "1953-09-30T00:00:00.000000000",
          "1953-10-31T00:00:00.000000000",
          "1953-11-30T00:00:00.000000000",
          "1953-12-31T00:00:00.000000000",
          "1954-01-31T00:00:00.000000000",
          "1954-02-28T00:00:00.000000000",
          "1954-03-31T00:00:00.000000000",
          "1954-04-30T00:00:00.000000000",
          "1954-05-31T00:00:00.000000000",
          "1954-06-30T00:00:00.000000000",
          "1954-07-31T00:00:00.000000000",
          "1954-08-31T00:00:00.000000000",
          "1954-09-30T00:00:00.000000000",
          "1954-10-31T00:00:00.000000000",
          "1954-11-30T00:00:00.000000000",
          "1954-12-31T00:00:00.000000000",
          "1955-01-31T00:00:00.000000000",
          "1955-02-28T00:00:00.000000000",
          "1955-03-31T00:00:00.000000000",
          "1955-04-30T00:00:00.000000000",
          "1955-05-31T00:00:00.000000000",
          "1955-06-30T00:00:00.000000000",
          "1955-07-31T00:00:00.000000000",
          "1955-08-31T00:00:00.000000000",
          "1955-09-30T00:00:00.000000000",
          "1955-10-31T00:00:00.000000000",
          "1955-11-30T00:00:00.000000000",
          "1955-12-31T00:00:00.000000000",
          "1956-01-31T00:00:00.000000000",
          "1956-02-29T00:00:00.000000000",
          "1956-03-31T00:00:00.000000000",
          "1956-04-30T00:00:00.000000000",
          "1956-05-31T00:00:00.000000000",
          "1956-06-30T00:00:00.000000000",
          "1956-07-31T00:00:00.000000000",
          "1956-08-31T00:00:00.000000000",
          "1956-09-30T00:00:00.000000000",
          "1956-10-31T00:00:00.000000000",
          "1956-11-30T00:00:00.000000000",
          "1956-12-31T00:00:00.000000000",
          "1957-01-31T00:00:00.000000000",
          "1957-02-28T00:00:00.000000000",
          "1957-03-31T00:00:00.000000000",
          "1957-04-30T00:00:00.000000000",
          "1957-05-31T00:00:00.000000000",
          "1957-06-30T00:00:00.000000000",
          "1957-07-31T00:00:00.000000000",
          "1957-08-31T00:00:00.000000000",
          "1957-09-30T00:00:00.000000000",
          "1957-10-31T00:00:00.000000000",
          "1957-11-30T00:00:00.000000000",
          "1957-12-31T00:00:00.000000000",
          "1958-01-31T00:00:00.000000000",
          "1958-02-28T00:00:00.000000000",
          "1958-03-31T00:00:00.000000000",
          "1958-04-30T00:00:00.000000000",
          "1958-05-31T00:00:00.000000000",
          "1958-06-30T00:00:00.000000000",
          "1958-07-31T00:00:00.000000000",
          "1958-08-31T00:00:00.000000000",
          "1958-09-30T00:00:00.000000000",
          "1958-10-31T00:00:00.000000000",
          "1958-11-30T00:00:00.000000000",
          "1958-12-31T00:00:00.000000000",
          "1959-01-31T00:00:00.000000000",
          "1959-02-28T00:00:00.000000000",
          "1959-03-31T00:00:00.000000000",
          "1959-04-30T00:00:00.000000000",
          "1959-05-31T00:00:00.000000000",
          "1959-06-30T00:00:00.000000000",
          "1959-07-31T00:00:00.000000000",
          "1959-08-31T00:00:00.000000000",
          "1959-09-30T00:00:00.000000000",
          "1959-10-31T00:00:00.000000000",
          "1959-11-30T00:00:00.000000000",
          "1959-12-31T00:00:00.000000000",
          "1960-01-31T00:00:00.000000000",
          "1960-02-29T00:00:00.000000000",
          "1960-03-31T00:00:00.000000000",
          "1960-04-30T00:00:00.000000000",
          "1960-05-31T00:00:00.000000000",
          "1960-06-30T00:00:00.000000000",
          "1960-07-31T00:00:00.000000000",
          "1960-08-31T00:00:00.000000000",
          "1960-09-30T00:00:00.000000000",
          "1960-10-31T00:00:00.000000000",
          "1960-11-30T00:00:00.000000000",
          "1960-12-31T00:00:00.000000000",
          "1961-02-01T00:00:00.000000000",
          "1961-03-01T00:00:00.000000000",
          "1961-04-01T00:00:00.000000000",
          "1961-05-01T00:00:00.000000000",
          "1961-06-01T00:00:00.000000000",
          "1961-07-01T00:00:00.000000000",
          "1961-08-01T00:00:00.000000000",
          "1961-09-01T00:00:00.000000000",
          "1961-10-01T00:00:00.000000000",
          "1961-11-01T00:00:00.000000000",
          "1961-12-01T00:00:00.000000000",
          "1962-01-01T00:00:00.000000000",
          "1962-02-01T00:00:00.000000000",
          "1962-03-01T00:00:00.000000000",
          "1962-04-01T00:00:00.000000000",
          "1962-05-01T00:00:00.000000000",
          "1962-06-01T00:00:00.000000000",
          "1962-07-01T00:00:00.000000000",
          "1962-08-01T00:00:00.000000000",
          "1962-09-01T00:00:00.000000000",
          "1962-10-01T00:00:00.000000000",
          "1962-11-01T00:00:00.000000000",
          "1962-12-01T00:00:00.000000000",
          "1963-01-01T00:00:00.000000000",
          "1963-02-01T00:00:00.000000000",
          "1963-03-01T00:00:00.000000000",
          "1963-04-01T00:00:00.000000000",
          "1963-05-01T00:00:00.000000000",
          "1963-06-01T00:00:00.000000000",
          "1963-07-01T00:00:00.000000000",
          "1963-08-01T00:00:00.000000000",
          "1963-09-01T00:00:00.000000000",
          "1963-10-01T00:00:00.000000000",
          "1963-11-01T00:00:00.000000000",
          "1963-12-01T00:00:00.000000000",
          "1964-01-01T00:00:00.000000000",
          "1964-02-01T00:00:00.000000000",
          "1964-03-01T00:00:00.000000000",
          "1964-04-01T00:00:00.000000000",
          "1964-05-01T00:00:00.000000000",
          "1964-06-01T00:00:00.000000000",
          "1964-07-01T00:00:00.000000000",
          "1964-08-01T00:00:00.000000000",
          "1964-09-01T00:00:00.000000000",
          "1964-10-01T00:00:00.000000000",
          "1964-11-01T00:00:00.000000000",
          "1964-12-01T00:00:00.000000000",
          "1965-01-01T00:00:00.000000000"
         ],
         "xaxis": "x",
         "y": {
          "bdata": "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",
          "dtype": "f8"
         },
         "yaxis": "y"
        },
        {
         "hovertemplate": "variable=moving_average<br>index=%{x}<br>value=%{y}<extra></extra>",
         "legendgroup": "moving_average",
         "line": {
          "color": "#ab63fa",
          "dash": "solid"
         },
         "marker": {
          "symbol": "circle"
         },
         "mode": "lines",
         "name": "moving_average",
         "orientation": "v",
         "showlegend": true,
         "type": "scatter",
         "x": [
          "1949-01-31T00:00:00.000000000",
          "1949-02-28T00:00:00.000000000",
          "1949-03-31T00:00:00.000000000",
          "1949-04-30T00:00:00.000000000",
          "1949-05-31T00:00:00.000000000",
          "1949-06-30T00:00:00.000000000",
          "1949-07-31T00:00:00.000000000",
          "1949-08-31T00:00:00.000000000",
          "1949-09-30T00:00:00.000000000",
          "1949-10-31T00:00:00.000000000",
          "1949-11-30T00:00:00.000000000",
          "1949-12-31T00:00:00.000000000",
          "1950-01-31T00:00:00.000000000",
          "1950-02-28T00:00:00.000000000",
          "1950-03-31T00:00:00.000000000",
          "1950-04-30T00:00:00.000000000",
          "1950-05-31T00:00:00.000000000",
          "1950-06-30T00:00:00.000000000",
          "1950-07-31T00:00:00.000000000",
          "1950-08-31T00:00:00.000000000",
          "1950-09-30T00:00:00.000000000",
          "1950-10-31T00:00:00.000000000",
          "1950-11-30T00:00:00.000000000",
          "1950-12-31T00:00:00.000000000",
          "1951-01-31T00:00:00.000000000",
          "1951-02-28T00:00:00.000000000",
          "1951-03-31T00:00:00.000000000",
          "1951-04-30T00:00:00.000000000",
          "1951-05-31T00:00:00.000000000",
          "1951-06-30T00:00:00.000000000",
          "1951-07-31T00:00:00.000000000",
          "1951-08-31T00:00:00.000000000",
          "1951-09-30T00:00:00.000000000",
          "1951-10-31T00:00:00.000000000",
          "1951-11-30T00:00:00.000000000",
          "1951-12-31T00:00:00.000000000",
          "1952-01-31T00:00:00.000000000",
          "1952-02-29T00:00:00.000000000",
          "1952-03-31T00:00:00.000000000",
          "1952-04-30T00:00:00.000000000",
          "1952-05-31T00:00:00.000000000",
          "1952-06-30T00:00:00.000000000",
          "1952-07-31T00:00:00.000000000",
          "1952-08-31T00:00:00.000000000",
          "1952-09-30T00:00:00.000000000",
          "1952-10-31T00:00:00.000000000",
          "1952-11-30T00:00:00.000000000",
          "1952-12-31T00:00:00.000000000",
          "1953-01-31T00:00:00.000000000",
          "1953-02-28T00:00:00.000000000",
          "1953-03-31T00:00:00.000000000",
          "1953-04-30T00:00:00.000000000",
          "1953-05-31T00:00:00.000000000",
          "1953-06-30T00:00:00.000000000",
          "1953-07-31T00:00:00.000000000",
          "1953-08-31T00:00:00.000000000",
          "1953-09-30T00:00:00.000000000",
          "1953-10-31T00:00:00.000000000",
          "1953-11-30T00:00:00.000000000",
          "1953-12-31T00:00:00.000000000",
          "1954-01-31T00:00:00.000000000",
          "1954-02-28T00:00:00.000000000",
          "1954-03-31T00:00:00.000000000",
          "1954-04-30T00:00:00.000000000",
          "1954-05-31T00:00:00.000000000",
          "1954-06-30T00:00:00.000000000",
          "1954-07-31T00:00:00.000000000",
          "1954-08-31T00:00:00.000000000",
          "1954-09-30T00:00:00.000000000",
          "1954-10-31T00:00:00.000000000",
          "1954-11-30T00:00:00.000000000",
          "1954-12-31T00:00:00.000000000",
          "1955-01-31T00:00:00.000000000",
          "1955-02-28T00:00:00.000000000",
          "1955-03-31T00:00:00.000000000",
          "1955-04-30T00:00:00.000000000",
          "1955-05-31T00:00:00.000000000",
          "1955-06-30T00:00:00.000000000",
          "1955-07-31T00:00:00.000000000",
          "1955-08-31T00:00:00.000000000",
          "1955-09-30T00:00:00.000000000",
          "1955-10-31T00:00:00.000000000",
          "1955-11-30T00:00:00.000000000",
          "1955-12-31T00:00:00.000000000",
          "1956-01-31T00:00:00.000000000",
          "1956-02-29T00:00:00.000000000",
          "1956-03-31T00:00:00.000000000",
          "1956-04-30T00:00:00.000000000",
          "1956-05-31T00:00:00.000000000",
          "1956-06-30T00:00:00.000000000",
          "1956-07-31T00:00:00.000000000",
          "1956-08-31T00:00:00.000000000",
          "1956-09-30T00:00:00.000000000",
          "1956-10-31T00:00:00.000000000",
          "1956-11-30T00:00:00.000000000",
          "1956-12-31T00:00:00.000000000",
          "1957-01-31T00:00:00.000000000",
          "1957-02-28T00:00:00.000000000",
          "1957-03-31T00:00:00.000000000",
          "1957-04-30T00:00:00.000000000",
          "1957-05-31T00:00:00.000000000",
          "1957-06-30T00:00:00.000000000",
          "1957-07-31T00:00:00.000000000",
          "1957-08-31T00:00:00.000000000",
          "1957-09-30T00:00:00.000000000",
          "1957-10-31T00:00:00.000000000",
          "1957-11-30T00:00:00.000000000",
          "1957-12-31T00:00:00.000000000",
          "1958-01-31T00:00:00.000000000",
          "1958-02-28T00:00:00.000000000",
          "1958-03-31T00:00:00.000000000",
          "1958-04-30T00:00:00.000000000",
          "1958-05-31T00:00:00.000000000",
          "1958-06-30T00:00:00.000000000",
          "1958-07-31T00:00:00.000000000",
          "1958-08-31T00:00:00.000000000",
          "1958-09-30T00:00:00.000000000",
          "1958-10-31T00:00:00.000000000",
          "1958-11-30T00:00:00.000000000",
          "1958-12-31T00:00:00.000000000",
          "1959-01-31T00:00:00.000000000",
          "1959-02-28T00:00:00.000000000",
          "1959-03-31T00:00:00.000000000",
          "1959-04-30T00:00:00.000000000",
          "1959-05-31T00:00:00.000000000",
          "1959-06-30T00:00:00.000000000",
          "1959-07-31T00:00:00.000000000",
          "1959-08-31T00:00:00.000000000",
          "1959-09-30T00:00:00.000000000",
          "1959-10-31T00:00:00.000000000",
          "1959-11-30T00:00:00.000000000",
          "1959-12-31T00:00:00.000000000",
          "1960-01-31T00:00:00.000000000",
          "1960-02-29T00:00:00.000000000",
          "1960-03-31T00:00:00.000000000",
          "1960-04-30T00:00:00.000000000",
          "1960-05-31T00:00:00.000000000",
          "1960-06-30T00:00:00.000000000",
          "1960-07-31T00:00:00.000000000",
          "1960-08-31T00:00:00.000000000",
          "1960-09-30T00:00:00.000000000",
          "1960-10-31T00:00:00.000000000",
          "1960-11-30T00:00:00.000000000",
          "1960-12-31T00:00:00.000000000",
          "1961-02-01T00:00:00.000000000",
          "1961-03-01T00:00:00.000000000",
          "1961-04-01T00:00:00.000000000",
          "1961-05-01T00:00:00.000000000",
          "1961-06-01T00:00:00.000000000",
          "1961-07-01T00:00:00.000000000",
          "1961-08-01T00:00:00.000000000",
          "1961-09-01T00:00:00.000000000",
          "1961-10-01T00:00:00.000000000",
          "1961-11-01T00:00:00.000000000",
          "1961-12-01T00:00:00.000000000",
          "1962-01-01T00:00:00.000000000",
          "1962-02-01T00:00:00.000000000",
          "1962-03-01T00:00:00.000000000",
          "1962-04-01T00:00:00.000000000",
          "1962-05-01T00:00:00.000000000",
          "1962-06-01T00:00:00.000000000",
          "1962-07-01T00:00:00.000000000",
          "1962-08-01T00:00:00.000000000",
          "1962-09-01T00:00:00.000000000",
          "1962-10-01T00:00:00.000000000",
          "1962-11-01T00:00:00.000000000",
          "1962-12-01T00:00:00.000000000",
          "1963-01-01T00:00:00.000000000",
          "1963-02-01T00:00:00.000000000",
          "1963-03-01T00:00:00.000000000",
          "1963-04-01T00:00:00.000000000",
          "1963-05-01T00:00:00.000000000",
          "1963-06-01T00:00:00.000000000",
          "1963-07-01T00:00:00.000000000",
          "1963-08-01T00:00:00.000000000",
          "1963-09-01T00:00:00.000000000",
          "1963-10-01T00:00:00.000000000",
          "1963-11-01T00:00:00.000000000",
          "1963-12-01T00:00:00.000000000",
          "1964-01-01T00:00:00.000000000",
          "1964-02-01T00:00:00.000000000",
          "1964-03-01T00:00:00.000000000",
          "1964-04-01T00:00:00.000000000",
          "1964-05-01T00:00:00.000000000",
          "1964-06-01T00:00:00.000000000",
          "1964-07-01T00:00:00.000000000",
          "1964-08-01T00:00:00.000000000",
          "1964-09-01T00:00:00.000000000",
          "1964-10-01T00:00:00.000000000",
          "1964-11-01T00:00:00.000000000",
          "1964-12-01T00:00:00.000000000",
          "1965-01-01T00:00:00.000000000"
         ],
         "xaxis": "x",
         "y": {
          "bdata": "AAAAAAAA+H8AAAAAAAD4fwAAAAAAAPh/AAAAAAAA+H8AAAAAAAD4fwAAAAAAAPh/AAAAAAAA+H8AAAAAAAD4fwAAAAAAAPh/AAAAAAAA+H8AAAAAAAD4fwAAAAAAAPh/AAAAAAAA+H8AAAAAAAD4fwAAAAAAAPh/AAAAAAAA+H8AAAAAAAD4fwAAAAAAAPh/AAAAAAAA+H8AAAAAAAD4fwAAAAAAAPh/AAAAAAAA+H8AAAAAAAD4fwAAAAAAAPh/AAAAAAAA+H8AAAAAAAD4fwAAAAAAAPh/AAAAAAAA+H8AAAAAAAD4fwAAAAAAAPh/AAAAAAAA+H8AAAAAAAD4fwAAAAAAAPh/AAAAAAAA+H8AAAAAAAD4fwAAAAAAAPh/AAAAAAAA+H8AAAAAAAD4fwAAAAAAAPh/AAAAAAAA+H8AAAAAAAD4fwAAAAAAAPh/AAAAAAAA+H8AAAAAAAD4fwAAAAAAAPh/AAAAAAAA+H8AAAAAAAD4fwAAAAAAAPh/AAAAAAAA+H8AAAAAAAD4fwAAAAAAAPh/AAAAAAAA+H8AAAAAAAD4fwAAAAAAAPh/AAAAAAAA+H8AAAAAAAD4fwAAAAAAAPh/AAAAAAAA+H8AAAAAAAD4fwAAAAAAAPh/AAAAAAAA+H8AAAAAAAD4fwAAAAAAAPh/AAAAAAAA+H8AAAAAAAD4fwAAAAAAAPh/AAAAAAAA+H8AAAAAAAD4fwAAAAAAAPh/AAAAAAAA+H8AAAAAAAD4fwAAAAAAAPh/AAAAAAAA+H8AAAAAAAD4fwAAAAAAAPh/AAAAAAAA+H8AAAAAAAD4fwAAAAAAAPh/AAAAAAAA+H8AAAAAAAD4fwAAAAAAAPh/AAAAAAAA+H8AAAAAAAD4fwAAAAAAAPh/AAAAAAAA+H8AAAAAAAD4fwAAAAAAAPh/AAAAAAAA+H8AAAAAAAD4fwAAAAAAAPh/AAAAAAAA+H8AAAAAAAD4fwAAAAAAAPh/AAAAAAAA+H8AAAAAAAD4fwAAAAAAAPh/AAAAAAAA+H8AAAAAAAD4fwAAAAAAAPh/AAAAAAAA+H8AAAAAAAD4fwAAAAAAAPh/AAAAAAAA+H8AAAAAAAD4fwAAAAAAAPh/AAAAAAAA+H8AAAAAAAD4fwAAAAAAAPh/AAAAAAAA+H8AAAAAAAD4fwAAAAAAAPh/AAAAAAAA+H8AAAAAAAD4fwAAAAAAAPh/AAAAAAAA+H8AAAAAAAD4fwAAAAAAAPh/AAAAAAAA+H8AAAAAAAD4fwAAAAAAAPh/AAAAAAAA+H8AAAAAAAD4fwAAAAAAAPh/AAAAAAAA+H8AAAAAAAD4fwAAAAAAAPh/AAAAAAAA+H8AAAAAAAD4fwAAAAAAAPh/AAAAAAAA+H8AAAAAAAD4fwAAAAAAAPh/AAAAAAAA+H8AAAAAAAD4fwAAAAAAAPh/AAAAAAAA+H8AAAAAAAD4fwAAAAAAAPh/AAAAAAAA+H8AAAAAAAD4fwAAAAAAAPh/AAAAAAAA+H8AAAAAAAD4fwAAAAAAAPh/q6qqqqrCfUA5juM4jhF+QBTaS2iviX5AQCxSBn7mfkBFBdmGCBN/QLXFFZKeNH9A2EBCHgEFf0BAxsfga11+QHDBLd40vX1AOTxcm06SfUA/QfnSf6J9QK8GjiS1En5A6THvPERUfkDZ53ReZmB+QPxZlmH4Zn5ApOSxyxNkfkBXiSScNVl+QFjU6l25SX5AkJU8RCY2fkCfHLxc6SR+QNEju9EzIH5AW0Fcu3MofkDIQVzT9jR+QCjXuWgrQX5AM9MSmQpFfkChIGvLxUN+QF+lfxRjQX5AURYTTkE+fkB12kVuGjt+QONLcyqYOH5ALat+uyo3fkBQghlwQDd+QB+gtrHHOH5AfOpgBNQ6fkA/o3YKXDx+QF0rDs/5PH5AYTKVV6A8fkClDyDS7Dt+QOV4BGhFO35AMDX67sI6fkDDdw1neDp+QIlvc+ZqOn5Ag3Jzy5E6fkDJLR1i2jp+QL8mSDYnO35AoZyp1lk7fkDPAIX9ZDt+QJuIG2dQO35A",
          "dtype": "f8"
         },
         "yaxis": "y"
        }
       ],
       "layout": {
        "legend": {
         "title": {
          "text": "variable"
         },
         "tracegroupgap": 0
        },
        "margin": {
         "t": 60
        },
        "template": {
         "data": {
          "bar": [
           {
            "error_x": {
             "color": "#f2f5fa"
            },
            "error_y": {
             "color": "#f2f5fa"
            },
            "marker": {
             "line": {
              "color": "rgb(17,17,17)",
              "width": 0.5
             },
             "pattern": {
              "fillmode": "overlay",
              "size": 10,
              "solidity": 0.2
             }
            },
            "type": "bar"
           }
          ],
          "barpolar": [
           {
            "marker": {
             "line": {
              "color": "rgb(17,17,17)",
              "width": 0.5
             },
             "pattern": {
              "fillmode": "overlay",
              "size": 10,
              "solidity": 0.2
             }
            },
            "type": "barpolar"
           }
          ],
          "carpet": [
           {
            "aaxis": {
             "endlinecolor": "#A2B1C6",
             "gridcolor": "#506784",
             "linecolor": "#506784",
             "minorgridcolor": "#506784",
             "startlinecolor": "#A2B1C6"
            },
            "baxis": {
             "endlinecolor": "#A2B1C6",
             "gridcolor": "#506784",
             "linecolor": "#506784",
             "minorgridcolor": "#506784",
             "startlinecolor": "#A2B1C6"
            },
            "type": "carpet"
           }
          ],
          "choropleth": [
           {
            "colorbar": {
             "outlinewidth": 0,
             "ticks": ""
            },
            "type": "choropleth"
           }
          ],
          "contour": [
           {
            "colorbar": {
             "outlinewidth": 0,
             "ticks": ""
            },
            "colorscale": [
             [
              0,
              "#0d0887"
             ],
             [
              0.1111111111111111,
              "#46039f"
             ],
             [
              0.2222222222222222,
              "#7201a8"
             ],
             [
              0.3333333333333333,
              "#9c179e"
             ],
             [
              0.4444444444444444,
              "#bd3786"
             ],
             [
              0.5555555555555556,
              "#d8576b"
             ],
             [
              0.6666666666666666,
              "#ed7953"
             ],
             [
              0.7777777777777778,
              "#fb9f3a"
             ],
             [
              0.8888888888888888,
              "#fdca26"
             ],
             [
              1,
              "#f0f921"
             ]
            ],
            "type": "contour"
           }
          ],
          "contourcarpet": [
           {
            "colorbar": {
             "outlinewidth": 0,
             "ticks": ""
            },
            "type": "contourcarpet"
           }
          ],
          "heatmap": [
           {
            "colorbar": {
             "outlinewidth": 0,
             "ticks": ""
            },
            "colorscale": [
             [
              0,
              "#0d0887"
             ],
             [
              0.1111111111111111,
              "#46039f"
             ],
             [
              0.2222222222222222,
              "#7201a8"
             ],
             [
              0.3333333333333333,
              "#9c179e"
             ],
             [
              0.4444444444444444,
              "#bd3786"
             ],
             [
              0.5555555555555556,
              "#d8576b"
             ],
             [
              0.6666666666666666,
              "#ed7953"
             ],
             [
              0.7777777777777778,
              "#fb9f3a"
             ],
             [
              0.8888888888888888,
              "#fdca26"
             ],
             [
              1,
              "#f0f921"
             ]
            ],
            "type": "heatmap"
           }
          ],
          "histogram": [
           {
            "marker": {
             "pattern": {
              "fillmode": "overlay",
              "size": 10,
              "solidity": 0.2
             }
            },
            "type": "histogram"
           }
          ],
          "histogram2d": [
           {
            "colorbar": {
             "outlinewidth": 0,
             "ticks": ""
            },
            "colorscale": [
             [
              0,
              "#0d0887"
             ],
             [
              0.1111111111111111,
              "#46039f"
             ],
             [
              0.2222222222222222,
              "#7201a8"
             ],
             [
              0.3333333333333333,
              "#9c179e"
             ],
             [
              0.4444444444444444,
              "#bd3786"
             ],
             [
              0.5555555555555556,
              "#d8576b"
             ],
             [
              0.6666666666666666,
              "#ed7953"
             ],
             [
              0.7777777777777778,
              "#fb9f3a"
             ],
             [
              0.8888888888888888,
              "#fdca26"
             ],
             [
              1,
              "#f0f921"
             ]
            ],
            "type": "histogram2d"
           }
          ],
          "histogram2dcontour": [
           {
            "colorbar": {
             "outlinewidth": 0,
             "ticks": ""
            },
            "colorscale": [
             [
              0,
              "#0d0887"
             ],
             [
              0.1111111111111111,
              "#46039f"
             ],
             [
              0.2222222222222222,
              "#7201a8"
             ],
             [
              0.3333333333333333,
              "#9c179e"
             ],
             [
              0.4444444444444444,
              "#bd3786"
             ],
             [
              0.5555555555555556,
              "#d8576b"
             ],
             [
              0.6666666666666666,
              "#ed7953"
             ],
             [
              0.7777777777777778,
              "#fb9f3a"
             ],
             [
              0.8888888888888888,
              "#fdca26"
             ],
             [
              1,
              "#f0f921"
             ]
            ],
            "type": "histogram2dcontour"
           }
          ],
          "mesh3d": [
           {
            "colorbar": {
             "outlinewidth": 0,
             "ticks": ""
            },
            "type": "mesh3d"
           }
          ],
          "parcoords": [
           {
            "line": {
             "colorbar": {
              "outlinewidth": 0,
              "ticks": ""
             }
            },
            "type": "parcoords"
           }
          ],
          "pie": [
           {
            "automargin": true,
            "type": "pie"
           }
          ],
          "scatter": [
           {
            "marker": {
             "line": {
              "color": "#283442"
             }
            },
            "type": "scatter"
           }
          ],
          "scatter3d": [
           {
            "line": {
             "colorbar": {
              "outlinewidth": 0,
              "ticks": ""
             }
            },
            "marker": {
             "colorbar": {
              "outlinewidth": 0,
              "ticks": ""
             }
            },
            "type": "scatter3d"
           }
          ],
          "scattercarpet": [
           {
            "marker": {
             "colorbar": {
              "outlinewidth": 0,
              "ticks": ""
             }
            },
            "type": "scattercarpet"
           }
          ],
          "scattergeo": [
           {
            "marker": {
             "colorbar": {
              "outlinewidth": 0,
              "ticks": ""
             }
            },
            "type": "scattergeo"
           }
          ],
          "scattergl": [
           {
            "marker": {
             "line": {
              "color": "#283442"
             }
            },
            "type": "scattergl"
           }
          ],
          "scattermap": [
           {
            "marker": {
             "colorbar": {
              "outlinewidth": 0,
              "ticks": ""
             }
            },
            "type": "scattermap"
           }
          ],
          "scattermapbox": [
           {
            "marker": {
             "colorbar": {
              "outlinewidth": 0,
              "ticks": ""
             }
            },
            "type": "scattermapbox"
           }
          ],
          "scatterpolar": [
           {
            "marker": {
             "colorbar": {
              "outlinewidth": 0,
              "ticks": ""
             }
            },
            "type": "scatterpolar"
           }
          ],
          "scatterpolargl": [
           {
            "marker": {
             "colorbar": {
              "outlinewidth": 0,
              "ticks": ""
             }
            },
            "type": "scatterpolargl"
           }
          ],
          "scatterternary": [
           {
            "marker": {
             "colorbar": {
              "outlinewidth": 0,
              "ticks": ""
             }
            },
            "type": "scatterternary"
           }
          ],
          "surface": [
           {
            "colorbar": {
             "outlinewidth": 0,
             "ticks": ""
            },
            "colorscale": [
             [
              0,
              "#0d0887"
             ],
             [
              0.1111111111111111,
              "#46039f"
             ],
             [
              0.2222222222222222,
              "#7201a8"
             ],
             [
              0.3333333333333333,
              "#9c179e"
             ],
             [
              0.4444444444444444,
              "#bd3786"
             ],
             [
              0.5555555555555556,
              "#d8576b"
             ],
             [
              0.6666666666666666,
              "#ed7953"
             ],
             [
              0.7777777777777778,
              "#fb9f3a"
             ],
             [
              0.8888888888888888,
              "#fdca26"
             ],
             [
              1,
              "#f0f921"
             ]
            ],
            "type": "surface"
           }
          ],
          "table": [
           {
            "cells": {
             "fill": {
              "color": "#506784"
             },
             "line": {
              "color": "rgb(17,17,17)"
             }
            },
            "header": {
             "fill": {
              "color": "#2a3f5f"
             },
             "line": {
              "color": "rgb(17,17,17)"
             }
            },
            "type": "table"
           }
          ]
         },
         "layout": {
          "annotationdefaults": {
           "arrowcolor": "#f2f5fa",
           "arrowhead": 0,
           "arrowwidth": 1
          },
          "autosize": false,
          "autotypenumbers": "strict",
          "coloraxis": {
           "colorbar": {
            "outlinewidth": 0,
            "ticks": ""
           }
          },
          "colorscale": {
           "diverging": [
            [
             0,
             "#8e0152"
            ],
            [
             0.1,
             "#c51b7d"
            ],
            [
             0.2,
             "#de77ae"
            ],
            [
             0.3,
             "#f1b6da"
            ],
            [
             0.4,
             "#fde0ef"
            ],
            [
             0.5,
             "#f7f7f7"
            ],
            [
             0.6,
             "#e6f5d0"
            ],
            [
             0.7,
             "#b8e186"
            ],
            [
             0.8,
             "#7fbc41"
            ],
            [
             0.9,
             "#4d9221"
            ],
            [
             1,
             "#276419"
            ]
           ],
           "sequential": [
            [
             0,
             "#0d0887"
            ],
            [
             0.1111111111111111,
             "#46039f"
            ],
            [
             0.2222222222222222,
             "#7201a8"
            ],
            [
             0.3333333333333333,
             "#9c179e"
            ],
            [
             0.4444444444444444,
             "#bd3786"
            ],
            [
             0.5555555555555556,
             "#d8576b"
            ],
            [
             0.6666666666666666,
             "#ed7953"
            ],
            [
             0.7777777777777778,
             "#fb9f3a"
            ],
            [
             0.8888888888888888,
             "#fdca26"
            ],
            [
             1,
             "#f0f921"
            ]
           ],
           "sequentialminus": [
            [
             0,
             "#0d0887"
            ],
            [
             0.1111111111111111,
             "#46039f"
            ],
            [
             0.2222222222222222,
             "#7201a8"
            ],
            [
             0.3333333333333333,
             "#9c179e"
            ],
            [
             0.4444444444444444,
             "#bd3786"
            ],
            [
             0.5555555555555556,
             "#d8576b"
            ],
            [
             0.6666666666666666,
             "#ed7953"
            ],
            [
             0.7777777777777778,
             "#fb9f3a"
            ],
            [
             0.8888888888888888,
             "#fdca26"
            ],
            [
             1,
             "#f0f921"
            ]
           ]
          },
          "colorway": [
           "#636efa",
           "#EF553B",
           "#00cc96",
           "#ab63fa",
           "#FFA15A",
           "#19d3f3",
           "#FF6692",
           "#B6E880",
           "#FF97FF",
           "#FECB52"
          ],
          "font": {
           "color": "#f2f5fa"
          },
          "geo": {
           "bgcolor": "rgb(17,17,17)",
           "lakecolor": "rgb(17,17,17)",
           "landcolor": "rgb(17,17,17)",
           "showlakes": true,
           "showland": true,
           "subunitcolor": "#506784"
          },
          "height": 500,
          "hoverlabel": {
           "align": "left"
          },
          "hovermode": "closest",
          "mapbox": {
           "style": "dark"
          },
          "paper_bgcolor": "rgb(17,17,17)",
          "plot_bgcolor": "rgb(17,17,17)",
          "polar": {
           "angularaxis": {
            "gridcolor": "#506784",
            "linecolor": "#506784",
            "ticks": ""
           },
           "bgcolor": "rgb(17,17,17)",
           "radialaxis": {
            "gridcolor": "#506784",
            "linecolor": "#506784",
            "ticks": ""
           }
          },
          "scene": {
           "xaxis": {
            "backgroundcolor": "rgb(17,17,17)",
            "gridcolor": "#506784",
            "gridwidth": 2,
            "linecolor": "#506784",
            "showbackground": true,
            "ticks": "",
            "zerolinecolor": "#C8D4E3"
           },
           "yaxis": {
            "backgroundcolor": "rgb(17,17,17)",
            "gridcolor": "#506784",
            "gridwidth": 2,
            "linecolor": "#506784",
            "showbackground": true,
            "ticks": "",
            "zerolinecolor": "#C8D4E3"
           },
           "zaxis": {
            "backgroundcolor": "rgb(17,17,17)",
            "gridcolor": "#506784",
            "gridwidth": 2,
            "linecolor": "#506784",
            "showbackground": true,
            "ticks": "",
            "zerolinecolor": "#C8D4E3"
           }
          },
          "shapedefaults": {
           "line": {
            "color": "#f2f5fa"
           }
          },
          "showlegend": true,
          "sliderdefaults": {
           "bgcolor": "#C8D4E3",
           "bordercolor": "rgb(17,17,17)",
           "borderwidth": 1,
           "tickwidth": 0
          },
          "ternary": {
           "aaxis": {
            "gridcolor": "#506784",
            "linecolor": "#506784",
            "ticks": ""
           },
           "baxis": {
            "gridcolor": "#506784",
            "linecolor": "#506784",
            "ticks": ""
           },
           "bgcolor": "rgb(17,17,17)",
           "caxis": {
            "gridcolor": "#506784",
            "linecolor": "#506784",
            "ticks": ""
           }
          },
          "title": {
           "x": 0.05
          },
          "updatemenudefaults": {
           "bgcolor": "#506784",
           "borderwidth": 0
          },
          "width": 1000,
          "xaxis": {
           "automargin": true,
           "gridcolor": "#283442",
           "linecolor": "#506784",
           "ticks": "",
           "title": {
            "standoff": 15
           },
           "zerolinecolor": "#283442",
           "zerolinewidth": 2
          },
          "yaxis": {
           "automargin": true,
           "gridcolor": "#283442",
           "linecolor": "#506784",
           "ticks": "",
           "title": {
            "standoff": 15
           },
           "zerolinecolor": "#283442",
           "zerolinewidth": 2
          }
         }
        },
        "xaxis": {
         "anchor": "y",
         "domain": [
          0,
          1
         ],
         "title": {
          "text": "index"
         }
        },
        "yaxis": {
         "anchor": "x",
         "domain": [
          0,
          1
         ],
         "title": {
          "text": "value"
         }
        }
       }
      }
     },
     "metadata": {},
     "output_type": "display_data"
    }
   ],
   "source": [
    "pd.concat([df, df_forecast]).plot()"
   ]
  }
 ],
 "metadata": {
  "kernelspec": {
   "display_name": "time-series",
   "language": "python",
   "name": "python3"
  },
  "language_info": {
   "codemirror_mode": {
    "name": "ipython",
    "version": 3
   },
   "file_extension": ".py",
   "mimetype": "text/x-python",
   "name": "python",
   "nbconvert_exporter": "python",
   "pygments_lexer": "ipython3",
   "version": "3.12.10"
  },
  "papermill": {
   "default_parameters": {},
   "duration": 3.873743,
   "end_time": "2024-05-29T23:01:59.636809",
   "environment_variables": {},
   "exception": null,
   "input_path": "/Users/sota/Library/CloudStorage/Dropbox/2 Business/1 Datons/2 Areas/Courses/22 TS/solutions-new/notebooks/40_Forecasting I Stats/1_Baseline/1.ipynb",
   "output_path": "/Users/sota/Library/CloudStorage/Dropbox/2 Business/1 Datons/2 Areas/Courses/22 TS/solutions-new/notebooks/40_Forecasting I Stats/1_Baseline/1.ipynb",
   "parameters": {},
   "start_time": "2024-05-29T23:01:55.763066",
   "version": "2.5.0"
  }
 },
 "nbformat": 4,
 "nbformat_minor": 5
}
