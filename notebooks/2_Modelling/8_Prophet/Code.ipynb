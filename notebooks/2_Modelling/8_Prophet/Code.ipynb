{
  "cells": [
    {
      "cell_type": "markdown",
      "id": "05c0fa00",
      "metadata": {},
      "source": [
        "# Time series forecasting with Prophet"
      ]
    },
    {
      "cell_type": "code",
      "execution_count": 1,
      "id": "9b3bf490",
      "metadata": {},
      "outputs": [],
      "source": [
        "\n",
        "from modules import utils\n",
        "utils.configure_plotly_template(showlegend=True)"
      ]
    },
    {
      "cell_type": "markdown",
      "id": "a525b6b0",
      "metadata": {},
      "source": [
        "## Load data"
      ]
    },
    {
      "cell_type": "code",
      "execution_count": 2,
      "id": "15ebec70",
      "metadata": {},
      "outputs": [],
      "source": [
        "path = \"../../../data/statsmodels/AirPassengers.parquet\""
      ]
    },
    {
      "cell_type": "code",
      "execution_count": 3,
      "id": "6c560eef",
      "metadata": {},
      "outputs": [
        {
          "data": {
            "text/plain": [
              "1949-01-31    112\n",
              "1949-02-28    118\n",
              "             ... \n",
              "1960-11-30    390\n",
              "1960-12-31    432\n",
              "Freq: ME, Name: values, Length: 144, dtype: int64"
            ]
          },
          "execution_count": 3,
          "metadata": {},
          "output_type": "execute_result"
        }
      ],
      "source": [
        "import pandas as pd\n",
        "\n",
        "df = pd.read_parquet(path).asfreq('ME')\n",
        "df.columns = ['values']\n",
        "\n",
        "series = df['values']\n",
        "series"
      ]
    },
    {
      "cell_type": "markdown",
      "id": "54b7f96c",
      "metadata": {},
      "source": [
        "## Prepare DataFrame for Prophet"
      ]
    },
    {
      "cell_type": "code",
      "execution_count": 4,
      "id": "6083bccf",
      "metadata": {},
      "outputs": [
        {
          "data": {
            "text/html": [
              "<div>\n",
              "<style scoped>\n",
              "    .dataframe tbody tr th:only-of-type {\n",
              "        vertical-align: middle;\n",
              "    }\n",
              "\n",
              "    .dataframe tbody tr th {\n",
              "        vertical-align: top;\n",
              "    }\n",
              "\n",
              "    .dataframe thead th {\n",
              "        text-align: right;\n",
              "    }\n",
              "</style>\n",
              "<table border=\"1\" class=\"dataframe\">\n",
              "  <thead>\n",
              "    <tr style=\"text-align: right;\">\n",
              "      <th></th>\n",
              "      <th>ds</th>\n",
              "      <th>y</th>\n",
              "    </tr>\n",
              "  </thead>\n",
              "  <tbody>\n",
              "    <tr>\n",
              "      <th>1949-01-31</th>\n",
              "      <td>1949-01-31</td>\n",
              "      <td>112</td>\n",
              "    </tr>\n",
              "    <tr>\n",
              "      <th>1949-02-28</th>\n",
              "      <td>1949-02-28</td>\n",
              "      <td>118</td>\n",
              "    </tr>\n",
              "    <tr>\n",
              "      <th>...</th>\n",
              "      <td>...</td>\n",
              "      <td>...</td>\n",
              "    </tr>\n",
              "    <tr>\n",
              "      <th>1960-11-30</th>\n",
              "      <td>1960-11-30</td>\n",
              "      <td>390</td>\n",
              "    </tr>\n",
              "    <tr>\n",
              "      <th>1960-12-31</th>\n",
              "      <td>1960-12-31</td>\n",
              "      <td>432</td>\n",
              "    </tr>\n",
              "  </tbody>\n",
              "</table>\n",
              "<p>144 rows × 2 columns</p>\n",
              "</div>"
            ],
            "text/plain": [
              "                   ds    y\n",
              "1949-01-31 1949-01-31  112\n",
              "1949-02-28 1949-02-28  118\n",
              "...               ...  ...\n",
              "1960-11-30 1960-11-30  390\n",
              "1960-12-31 1960-12-31  432\n",
              "\n",
              "[144 rows x 2 columns]"
            ]
          },
          "execution_count": 4,
          "metadata": {},
          "output_type": "execute_result"
        }
      ],
      "source": [
        "df = pd.DataFrame({\n",
        "    'ds': series.index,\n",
        "    'y': series.values,\n",
        "}, index=series.index)\n",
        "\n",
        "df"
      ]
    },
    {
      "cell_type": "markdown",
      "id": "e3077129",
      "metadata": {},
      "source": [
        "## Model fit"
      ]
    },
    {
      "cell_type": "code",
      "execution_count": 5,
      "id": "47959e32",
      "metadata": {},
      "outputs": [
        {
          "name": "stderr",
          "output_type": "stream",
          "text": [
            "22:39:04 - cmdstanpy - INFO - Chain [1] start processing\n",
            "22:39:05 - cmdstanpy - INFO - Chain [1] done processing\n"
          ]
        },
        {
          "data": {
            "text/plain": [
              "<prophet.forecaster.Prophet at 0x327cff8c0>"
            ]
          },
          "execution_count": 5,
          "metadata": {},
          "output_type": "execute_result"
        }
      ],
      "source": [
        "from prophet import Prophet\n",
        "from prophet.make_holidays import make_holidays_df\n",
        "\n",
        "holidays = make_holidays_df(country='US', year_list=list(range(1960, 2020)))\n",
        "\n",
        "model = Prophet(\n",
        "    yearly_seasonality=True,\n",
        "    holidays=holidays,\n",
        "    seasonality_mode='multiplicative'  # or 'additive'\n",
        ")\n",
        "\n",
        "model.fit(df)"
      ]
    },
    {
      "cell_type": "code",
      "execution_count": 6,
      "id": "8cf87b65",
      "metadata": {},
      "outputs": [
        {
          "data": {
            "text/plain": [
              "OrderedDict([('lp__', array([[504.326]])),\n",
              "             ('k', array([[0.393833]])),\n",
              "             ('m', array([[0.184949]])),\n",
              "             ('delta',\n",
              "              array([[ 5.94136e-09,  6.24471e-09,  4.92288e-04,  9.15040e-02,\n",
              "                       1.75554e-04,  2.83096e-09,  1.53451e-08,  1.68292e-08,\n",
              "                      -1.14049e-09, -6.58009e-09, -7.57653e-09,  9.93564e-09,\n",
              "                       1.12797e-08,  1.48152e-01,  1.36888e-01,  1.75862e-08,\n",
              "                       1.51163e-09, -2.29739e-08, -4.10181e-04, -6.51883e-02,\n",
              "                      -6.28361e-02, -5.42087e-02, -9.05613e-09,  8.16967e-09,\n",
              "                       2.27650e-01]])),\n",
              "             ('sigma_obs', array([[0.0164471]])),\n",
              "             ('beta',\n",
              "              array([[-0.0624946 , -0.155422  ,  0.0975794 ,  0.0355634 , -0.0702496 ,\n",
              "                      -0.00186643, -0.042387  , -0.0217824 , -0.00592623,  0.0919416 ,\n",
              "                       0.12103   ,  0.0320689 ,  0.0171235 , -0.0926655 , -0.0699837 ,\n",
              "                       0.00359458, -0.0660216 ,  0.0108811 ,  0.0166775 , -0.0326083 ,\n",
              "                       0.        ,  0.        ,  0.        ,  0.        ,  0.        ,\n",
              "                       0.        ,  0.        ,  0.        ,  0.        ,  0.        ,\n",
              "                       0.        ,  0.        ,  0.        ,  0.        ]])),\n",
              "             ('trend',\n",
              "              array([[0.184949, 0.187483, 0.190288, 0.193003, 0.195809, 0.198523,\n",
              "                      0.201329, 0.204134, 0.206849, 0.209654, 0.212369, 0.215174,\n",
              "                      0.21798 , 0.220514, 0.223319, 0.226037, 0.228846, 0.231564,\n",
              "                      0.234373, 0.237834, 0.241183, 0.244643, 0.247993, 0.251453,\n",
              "                      0.254915, 0.258042, 0.261504, 0.264854, 0.268316, 0.271666,\n",
              "                      0.275128, 0.27859 , 0.28194 , 0.285402, 0.288752, 0.292214,\n",
              "                      0.295676, 0.298915, 0.302376, 0.305727, 0.309189, 0.312539,\n",
              "                      0.316001, 0.319463, 0.322813, 0.326275, 0.329625, 0.333087,\n",
              "                      0.336549, 0.339676, 0.343137, 0.346488, 0.34995 , 0.3533  ,\n",
              "                      0.356762, 0.360224, 0.363574, 0.367036, 0.370386, 0.373848,\n",
              "                      0.37731 , 0.380437, 0.383898, 0.387249, 0.390711, 0.395082,\n",
              "                      0.399599, 0.404117, 0.408488, 0.41398 , 0.419295, 0.424788,\n",
              "                      0.43028 , 0.435241, 0.440733, 0.446048, 0.45154 , 0.456856,\n",
              "                      0.462348, 0.46784 , 0.473155, 0.478647, 0.483963, 0.489455,\n",
              "                      0.494947, 0.500085, 0.505577, 0.510892, 0.516382, 0.521694,\n",
              "                      0.527183, 0.532673, 0.537536, 0.542561, 0.547424, 0.552449,\n",
              "                      0.557474, 0.561608, 0.566186, 0.570615, 0.575193, 0.579249,\n",
              "                      0.58344 , 0.587631, 0.591687, 0.595879, 0.599935, 0.604126,\n",
              "                      0.608317, 0.612103, 0.616294, 0.62035 , 0.624542, 0.628598,\n",
              "                      0.632789, 0.638602, 0.644227, 0.65004 , 0.655665, 0.661478,\n",
              "                      0.667291, 0.672542, 0.678354, 0.68398 , 0.689793, 0.695418,\n",
              "                      0.701231, 0.707044, 0.712669, 0.718482, 0.724107, 0.72992 ,\n",
              "                      0.735733, 0.741171, 0.746984, 0.752609, 0.758422, 0.764047,\n",
              "                      0.76986 , 0.775673, 0.781298, 0.787111, 0.792737, 0.798549]]))])"
            ]
          },
          "execution_count": 6,
          "metadata": {},
          "output_type": "execute_result"
        }
      ],
      "source": [
        "model.params"
      ]
    },
    {
      "cell_type": "code",
      "execution_count": 7,
      "id": "a5a60335",
      "metadata": {},
      "outputs": [
        {
          "data": {
            "image/png": "[encoded data removed]",
            "text/plain": [
              "<Figure size 900x900 with 3 Axes>"
            ]
          },
          "metadata": {},
          "output_type": "display_data"
        }
      ],
      "source": [
        "forecast = model.predict(df)\n",
        "model.plot_components(forecast);"
      ]
    },
    {
      "cell_type": "markdown",
      "id": "06272680",
      "metadata": {},
      "source": [
        "## Forecast"
      ]
    },
    {
      "cell_type": "code",
      "execution_count": 8,
      "id": "42c81845",
      "metadata": {},
      "outputs": [
        {
          "data": {
            "text/html": [
              "<div>\n",
              "<style scoped>\n",
              "    .dataframe tbody tr th:only-of-type {\n",
              "        vertical-align: middle;\n",
              "    }\n",
              "\n",
              "    .dataframe tbody tr th {\n",
              "        vertical-align: top;\n",
              "    }\n",
              "\n",
              "    .dataframe thead th {\n",
              "        text-align: right;\n",
              "    }\n",
              "</style>\n",
              "<table border=\"1\" class=\"dataframe\">\n",
              "  <thead>\n",
              "    <tr style=\"text-align: right;\">\n",
              "      <th></th>\n",
              "      <th>ds</th>\n",
              "      <th>yhat</th>\n",
              "      <th>yhat_lower</th>\n",
              "      <th>yhat_upper</th>\n",
              "    </tr>\n",
              "  </thead>\n",
              "  <tbody>\n",
              "    <tr>\n",
              "      <th>187</th>\n",
              "      <td>1964-08-31</td>\n",
              "      <td>804.322300</td>\n",
              "      <td>781.211860</td>\n",
              "      <td>827.992606</td>\n",
              "    </tr>\n",
              "    <tr>\n",
              "      <th>188</th>\n",
              "      <td>1964-09-30</td>\n",
              "      <td>685.596010</td>\n",
              "      <td>663.030883</td>\n",
              "      <td>708.983037</td>\n",
              "    </tr>\n",
              "    <tr>\n",
              "      <th>...</th>\n",
              "      <td>...</td>\n",
              "      <td>...</td>\n",
              "      <td>...</td>\n",
              "      <td>...</td>\n",
              "    </tr>\n",
              "    <tr>\n",
              "      <th>190</th>\n",
              "      <td>1964-11-30</td>\n",
              "      <td>525.884549</td>\n",
              "      <td>505.876601</td>\n",
              "      <td>546.084814</td>\n",
              "    </tr>\n",
              "    <tr>\n",
              "      <th>191</th>\n",
              "      <td>1964-12-31</td>\n",
              "      <td>583.970836</td>\n",
              "      <td>563.617760</td>\n",
              "      <td>606.599340</td>\n",
              "    </tr>\n",
              "  </tbody>\n",
              "</table>\n",
              "<p>5 rows × 4 columns</p>\n",
              "</div>"
            ],
            "text/plain": [
              "            ds        yhat  yhat_lower  yhat_upper\n",
              "187 1964-08-31  804.322300  781.211860  827.992606\n",
              "188 1964-09-30  685.596010  663.030883  708.983037\n",
              "..         ...         ...         ...         ...\n",
              "190 1964-11-30  525.884549  505.876601  546.084814\n",
              "191 1964-12-31  583.970836  563.617760  606.599340\n",
              "\n",
              "[5 rows x 4 columns]"
            ]
          },
          "execution_count": 8,
          "metadata": {},
          "output_type": "execute_result"
        }
      ],
      "source": [
        "future = model.make_future_dataframe(periods=48, freq='ME')\n",
        "forecast = model.predict(future)\n",
        "forecast[['ds', 'yhat', 'yhat_lower', 'yhat_upper']].tail()"
      ]
    },
    {
      "cell_type": "code",
      "execution_count": 9,
      "id": "48c4d9f9",
      "metadata": {},
      "outputs": [
        {
          "data": {
            "image/png": "[encoded data removed]",
            "text/plain": [
              "<Figure size 1000x600 with 1 Axes>"
            ]
          },
          "metadata": {},
          "output_type": "display_data"
        }
      ],
      "source": [
        "model.plot(forecast);"
      ]
    },
    {
      "cell_type": "code",
      "execution_count": 10,
      "id": "49c33425",
      "metadata": {},
      "outputs": [
        {
          "data": {
            "application/vnd.plotly.v1+json": {
              "config": {
                "plotlyServerURL": "https://plot.ly"
              },
              "data": [
                {
                  "line": {
                    "color": "#fa636e",
                    "width": 1.5
                  },
                  "marker": {
                    "color": "#fa636e",
                    "size": 5,
                    "symbol": "circle"
                  },
                  "mode": "lines+markers",
                  "name": "Historical",
                  "type": "scatter",
                  "x": [
                    "1949-01-31T00:00:00.000000000",
                    "1949-02-28T00:00:00.000000000",
                    "1949-03-31T00:00:00.000000000",
                    "1949-04-30T00:00:00.000000000",
                    "1949-05-31T00:00:00.000000000",
                    "1949-06-30T00:00:00.000000000",
                    "1949-07-31T00:00:00.000000000",
                    "1949-08-31T00:00:00.000000000",
                    "1949-09-30T00:00:00.000000000",
                    "1949-10-31T00:00:00.000000000",
                    "1949-11-30T00:00:00.000000000",
                    "1949-12-31T00:00:00.000000000",
                    "1950-01-31T00:00:00.000000000",
                    "1950-02-28T00:00:00.000000000",
                    "1950-03-31T00:00:00.000000000",
                    "1950-04-30T00:00:00.000000000",
                    "1950-05-31T00:00:00.000000000",
                    "1950-06-30T00:00:00.000000000",
                    "1950-07-31T00:00:00.000000000",
                    "1950-08-31T00:00:00.000000000",
                    "1950-09-30T00:00:00.000000000",
                    "1950-10-31T00:00:00.000000000",
                    "1950-11-30T00:00:00.000000000",
                    "1950-12-31T00:00:00.000000000",
                    "1951-01-31T00:00:00.000000000",
                    "1951-02-28T00:00:00.000000000",
                    "1951-03-31T00:00:00.000000000",
                    "1951-04-30T00:00:00.000000000",
                    "1951-05-31T00:00:00.000000000",
                    "1951-06-30T00:00:00.000000000",
                    "1951-07-31T00:00:00.000000000",
                    "1951-08-31T00:00:00.000000000",
                    "1951-09-30T00:00:00.000000000",
                    "1951-10-31T00:00:00.000000000",
                    "1951-11-30T00:00:00.000000000",
                    "1951-12-31T00:00:00.000000000",
                    "1952-01-31T00:00:00.000000000",
                    "1952-02-29T00:00:00.000000000",
                    "1952-03-31T00:00:00.000000000",
                    "1952-04-30T00:00:00.000000000",
                    "1952-05-31T00:00:00.000000000",
                    "1952-06-30T00:00:00.000000000",
                    "1952-07-31T00:00:00.000000000",
                    "1952-08-31T00:00:00.000000000",
                    "1952-09-30T00:00:00.000000000",
                    "1952-10-31T00:00:00.000000000",
                    "1952-11-30T00:00:00.000000000",
                    "1952-12-31T00:00:00.000000000",
                    "1953-01-31T00:00:00.000000000",
                    "1953-02-28T00:00:00.000000000",
                    "1953-03-31T00:00:00.000000000",
                    "1953-04-30T00:00:00.000000000",
                    "1953-05-31T00:00:00.000000000",
                    "1953-06-30T00:00:00.000000000",
                    "1953-07-31T00:00:00.000000000",
                    "1953-08-31T00:00:00.000000000",
                    "1953-09-30T00:00:00.000000000",
                    "1953-10-31T00:00:00.000000000",
                    "1953-11-30T00:00:00.000000000",
                    "1953-12-31T00:00:00.000000000",
                    "1954-01-31T00:00:00.000000000",
                    "1954-02-28T00:00:00.000000000",
                    "1954-03-31T00:00:00.000000000",
                    "1954-04-30T00:00:00.000000000",
                    "1954-05-31T00:00:00.000000000",
                    "1954-06-30T00:00:00.000000000",
                    "1954-07-31T00:00:00.000000000",
                    "1954-08-31T00:00:00.000000000",
                    "1954-09-30T00:00:00.000000000",
                    "1954-10-31T00:00:00.000000000",
                    "1954-11-30T00:00:00.000000000",
                    "1954-12-31T00:00:00.000000000",
                    "1955-01-31T00:00:00.000000000",
                    "1955-02-28T00:00:00.000000000",
                    "1955-03-31T00:00:00.000000000",
                    "1955-04-30T00:00:00.000000000",
                    "1955-05-31T00:00:00.000000000",
                    "1955-06-30T00:00:00.000000000",
                    "1955-07-31T00:00:00.000000000",
                    "1955-08-31T00:00:00.000000000",
                    "1955-09-30T00:00:00.000000000",
                    "1955-10-31T00:00:00.000000000",
                    "1955-11-30T00:00:00.000000000",
                    "1955-12-31T00:00:00.000000000",
                    "1956-01-31T00:00:00.000000000",
                    "1956-02-29T00:00:00.000000000",
                    "1956-03-31T00:00:00.000000000",
                    "1956-04-30T00:00:00.000000000",
                    "1956-05-31T00:00:00.000000000",
                    "1956-06-30T00:00:00.000000000",
                    "1956-07-31T00:00:00.000000000",
                    "1956-08-31T00:00:00.000000000",
                    "1956-09-30T00:00:00.000000000",
                    "1956-10-31T00:00:00.000000000",
                    "1956-11-30T00:00:00.000000000",
                    "1956-12-31T00:00:00.000000000",
                    "1957-01-31T00:00:00.000000000",
                    "1957-02-28T00:00:00.000000000",
                    "1957-03-31T00:00:00.000000000",
                    "1957-04-30T00:00:00.000000000",
                    "1957-05-31T00:00:00.000000000",
                    "1957-06-30T00:00:00.000000000",
                    "1957-07-31T00:00:00.000000000",
                    "1957-08-31T00:00:00.000000000",
                    "1957-09-30T00:00:00.000000000",
                    "1957-10-31T00:00:00.000000000",
                    "1957-11-30T00:00:00.000000000",
                    "1957-12-31T00:00:00.000000000",
                    "1958-01-31T00:00:00.000000000",
                    "1958-02-28T00:00:00.000000000",
                    "1958-03-31T00:00:00.000000000",
                    "1958-04-30T00:00:00.000000000",
                    "1958-05-31T00:00:00.000000000",
                    "1958-06-30T00:00:00.000000000",
                    "1958-07-31T00:00:00.000000000",
                    "1958-08-31T00:00:00.000000000",
                    "1958-09-30T00:00:00.000000000",
                    "1958-10-31T00:00:00.000000000",
                    "1958-11-30T00:00:00.000000000",
                    "1958-12-31T00:00:00.000000000",
                    "1959-01-31T00:00:00.000000000",
                    "1959-02-28T00:00:00.000000000",
                    "1959-03-31T00:00:00.000000000",
                    "1959-04-30T00:00:00.000000000",
                    "1959-05-31T00:00:00.000000000",
                    "1959-06-30T00:00:00.000000000",
                    "1959-07-31T00:00:00.000000000",
                    "1959-08-31T00:00:00.000000000",
                    "1959-09-30T00:00:00.000000000",
                    "1959-10-31T00:00:00.000000000",
                    "1959-11-30T00:00:00.000000000",
                    "1959-12-31T00:00:00.000000000",
                    "1960-01-31T00:00:00.000000000",
                    "1960-02-29T00:00:00.000000000",
                    "1960-03-31T00:00:00.000000000",
                    "1960-04-30T00:00:00.000000000",
                    "1960-05-31T00:00:00.000000000",
                    "1960-06-30T00:00:00.000000000",
                    "1960-07-31T00:00:00.000000000",
                    "1960-08-31T00:00:00.000000000",
                    "1960-09-30T00:00:00.000000000",
                    "1960-10-31T00:00:00.000000000",
                    "1960-11-30T00:00:00.000000000",
                    "1960-12-31T00:00:00.000000000",
                    "1961-01-31T00:00:00.000000000",
                    "1961-02-28T00:00:00.000000000",
                    "1961-03-31T00:00:00.000000000",
                    "1961-04-30T00:00:00.000000000",
                    "1961-05-31T00:00:00.000000000",
                    "1961-06-30T00:00:00.000000000",
                    "1961-07-31T00:00:00.000000000",
                    "1961-08-31T00:00:00.000000000",
                    "1961-09-30T00:00:00.000000000",
                    "1961-10-31T00:00:00.000000000",
                    "1961-11-30T00:00:00.000000000",
                    "1961-12-31T00:00:00.000000000",
                    "1962-01-31T00:00:00.000000000",
                    "1962-02-28T00:00:00.000000000",
                    "1962-03-31T00:00:00.000000000",
                    "1962-04-30T00:00:00.000000000",
                    "1962-05-31T00:00:00.000000000",
                    "1962-06-30T00:00:00.000000000",
                    "1962-07-31T00:00:00.000000000",
                    "1962-08-31T00:00:00.000000000",
                    "1962-09-30T00:00:00.000000000",
                    "1962-10-31T00:00:00.000000000",
                    "1962-11-30T00:00:00.000000000",
                    "1962-12-31T00:00:00.000000000",
                    "1963-01-31T00:00:00.000000000",
                    "1963-02-28T00:00:00.000000000",
                    "1963-03-31T00:00:00.000000000",
                    "1963-04-30T00:00:00.000000000",
                    "1963-05-31T00:00:00.000000000",
                    "1963-06-30T00:00:00.000000000",
                    "1963-07-31T00:00:00.000000000",
                    "1963-08-31T00:00:00.000000000",
                    "1963-09-30T00:00:00.000000000",
                    "1963-10-31T00:00:00.000000000",
                    "1963-11-30T00:00:00.000000000",
                    "1963-12-31T00:00:00.000000000",
                    "1964-01-31T00:00:00.000000000",
                    "1964-02-29T00:00:00.000000000",
                    "1964-03-31T00:00:00.000000000",
                    "1964-04-30T00:00:00.000000000",
                    "1964-05-31T00:00:00.000000000",
                    "1964-06-30T00:00:00.000000000",
                    "1964-07-31T00:00:00.000000000",
                    "1964-08-31T00:00:00.000000000",
                    "1964-09-30T00:00:00.000000000",
                    "1964-10-31T00:00:00.000000000",
                    "1964-11-30T00:00:00.000000000",
                    "1964-12-31T00:00:00.000000000"
                  ],
                  "y": {
                    "bdata": "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",
                    "dtype": "f8"
                  }
                },
                {
                  "line": {
                    "color": "#FFD700",
                    "width": 2
                  },
                  "name": "Forecast",
                  "type": "scatter",
                  "x": [
                    "1949-01-31T00:00:00.000000000",
                    "1949-02-28T00:00:00.000000000",
                    "1949-03-31T00:00:00.000000000",
                    "1949-04-30T00:00:00.000000000",
                    "1949-05-31T00:00:00.000000000",
                    "1949-06-30T00:00:00.000000000",
                    "1949-07-31T00:00:00.000000000",
                    "1949-08-31T00:00:00.000000000",
                    "1949-09-30T00:00:00.000000000",
                    "1949-10-31T00:00:00.000000000",
                    "1949-11-30T00:00:00.000000000",
                    "1949-12-31T00:00:00.000000000",
                    "1950-01-31T00:00:00.000000000",
                    "1950-02-28T00:00:00.000000000",
                    "1950-03-31T00:00:00.000000000",
                    "1950-04-30T00:00:00.000000000",
                    "1950-05-31T00:00:00.000000000",
                    "1950-06-30T00:00:00.000000000",
                    "1950-07-31T00:00:00.000000000",
                    "1950-08-31T00:00:00.000000000",
                    "1950-09-30T00:00:00.000000000",
                    "1950-10-31T00:00:00.000000000",
                    "1950-11-30T00:00:00.000000000",
                    "1950-12-31T00:00:00.000000000",
                    "1951-01-31T00:00:00.000000000",
                    "1951-02-28T00:00:00.000000000",
                    "1951-03-31T00:00:00.000000000",
                    "1951-04-30T00:00:00.000000000",
                    "1951-05-31T00:00:00.000000000",
                    "1951-06-30T00:00:00.000000000",
                    "1951-07-31T00:00:00.000000000",
                    "1951-08-31T00:00:00.000000000",
                    "1951-09-30T00:00:00.000000000",
                    "1951-10-31T00:00:00.000000000",
                    "1951-11-30T00:00:00.000000000",
                    "1951-12-31T00:00:00.000000000",
                    "1952-01-31T00:00:00.000000000",
                    "1952-02-29T00:00:00.000000000",
                    "1952-03-31T00:00:00.000000000",
                    "1952-04-30T00:00:00.000000000",
                    "1952-05-31T00:00:00.000000000",
                    "1952-06-30T00:00:00.000000000",
                    "1952-07-31T00:00:00.000000000",
                    "1952-08-31T00:00:00.000000000",
                    "1952-09-30T00:00:00.000000000",
                    "1952-10-31T00:00:00.000000000",
                    "1952-11-30T00:00:00.000000000",
                    "1952-12-31T00:00:00.000000000",
                    "1953-01-31T00:00:00.000000000",
                    "1953-02-28T00:00:00.000000000",
                    "1953-03-31T00:00:00.000000000",
                    "1953-04-30T00:00:00.000000000",
                    "1953-05-31T00:00:00.000000000",
                    "1953-06-30T00:00:00.000000000",
                    "1953-07-31T00:00:00.000000000",
                    "1953-08-31T00:00:00.000000000",
                    "1953-09-30T00:00:00.000000000",
                    "1953-10-31T00:00:00.000000000",
                    "1953-11-30T00:00:00.000000000",
                    "1953-12-31T00:00:00.000000000",
                    "1954-01-31T00:00:00.000000000",
                    "1954-02-28T00:00:00.000000000",
                    "1954-03-31T00:00:00.000000000",
                    "1954-04-30T00:00:00.000000000",
                    "1954-05-31T00:00:00.000000000",
                    "1954-06-30T00:00:00.000000000",
                    "1954-07-31T00:00:00.000000000",
                    "1954-08-31T00:00:00.000000000",
                    "1954-09-30T00:00:00.000000000",
                    "1954-10-31T00:00:00.000000000",
                    "1954-11-30T00:00:00.000000000",
                    "1954-12-31T00:00:00.000000000",
                    "1955-01-31T00:00:00.000000000",
                    "1955-02-28T00:00:00.000000000",
                    "1955-03-31T00:00:00.000000000",
                    "1955-04-30T00:00:00.000000000",
                    "1955-05-31T00:00:00.000000000",
                    "1955-06-30T00:00:00.000000000",
                    "1955-07-31T00:00:00.000000000",
                    "1955-08-31T00:00:00.000000000",
                    "1955-09-30T00:00:00.000000000",
                    "1955-10-31T00:00:00.000000000",
                    "1955-11-30T00:00:00.000000000",
                    "1955-12-31T00:00:00.000000000",
                    "1956-01-31T00:00:00.000000000",
                    "1956-02-29T00:00:00.000000000",
                    "1956-03-31T00:00:00.000000000",
                    "1956-04-30T00:00:00.000000000",
                    "1956-05-31T00:00:00.000000000",
                    "1956-06-30T00:00:00.000000000",
                    "1956-07-31T00:00:00.000000000",
                    "1956-08-31T00:00:00.000000000",
                    "1956-09-30T00:00:00.000000000",
                    "1956-10-31T00:00:00.000000000",
                    "1956-11-30T00:00:00.000000000",
                    "1956-12-31T00:00:00.000000000",
                    "1957-01-31T00:00:00.000000000",
                    "1957-02-28T00:00:00.000000000",
                    "1957-03-31T00:00:00.000000000",
                    "1957-04-30T00:00:00.000000000",
                    "1957-05-31T00:00:00.000000000",
                    "1957-06-30T00:00:00.000000000",
                    "1957-07-31T00:00:00.000000000",
                    "1957-08-31T00:00:00.000000000",
                    "1957-09-30T00:00:00.000000000",
                    "1957-10-31T00:00:00.000000000",
                    "1957-11-30T00:00:00.000000000",
                    "1957-12-31T00:00:00.000000000",
                    "1958-01-31T00:00:00.000000000",
                    "1958-02-28T00:00:00.000000000",
                    "1958-03-31T00:00:00.000000000",
                    "1958-04-30T00:00:00.000000000",
                    "1958-05-31T00:00:00.000000000",
                    "1958-06-30T00:00:00.000000000",
                    "1958-07-31T00:00:00.000000000",
                    "1958-08-31T00:00:00.000000000",
                    "1958-09-30T00:00:00.000000000",
                    "1958-10-31T00:00:00.000000000",
                    "1958-11-30T00:00:00.000000000",
                    "1958-12-31T00:00:00.000000000",
                    "1959-01-31T00:00:00.000000000",
                    "1959-02-28T00:00:00.000000000",
                    "1959-03-31T00:00:00.000000000",
                    "1959-04-30T00:00:00.000000000",
                    "1959-05-31T00:00:00.000000000",
                    "1959-06-30T00:00:00.000000000",
                    "1959-07-31T00:00:00.000000000",
                    "1959-08-31T00:00:00.000000000",
                    "1959-09-30T00:00:00.000000000",
                    "1959-10-31T00:00:00.000000000",
                    "1959-11-30T00:00:00.000000000",
                    "1959-12-31T00:00:00.000000000",
                    "1960-01-31T00:00:00.000000000",
                    "1960-02-29T00:00:00.000000000",
                    "1960-03-31T00:00:00.000000000",
                    "1960-04-30T00:00:00.000000000",
                    "1960-05-31T00:00:00.000000000",
                    "1960-06-30T00:00:00.000000000",
                    "1960-07-31T00:00:00.000000000",
                    "1960-08-31T00:00:00.000000000",
                    "1960-09-30T00:00:00.000000000",
                    "1960-10-31T00:00:00.000000000",
                    "1960-11-30T00:00:00.000000000",
                    "1960-12-31T00:00:00.000000000",
                    "1961-01-31T00:00:00.000000000",
                    "1961-02-28T00:00:00.000000000",
                    "1961-03-31T00:00:00.000000000",
                    "1961-04-30T00:00:00.000000000",
                    "1961-05-31T00:00:00.000000000",
                    "1961-06-30T00:00:00.000000000",
                    "1961-07-31T00:00:00.000000000",
                    "1961-08-31T00:00:00.000000000",
                    "1961-09-30T00:00:00.000000000",
                    "1961-10-31T00:00:00.000000000",
                    "1961-11-30T00:00:00.000000000",
                    "1961-12-31T00:00:00.000000000",
                    "1962-01-31T00:00:00.000000000",
                    "1962-02-28T00:00:00.000000000",
                    "1962-03-31T00:00:00.000000000",
                    "1962-04-30T00:00:00.000000000",
                    "1962-05-31T00:00:00.000000000",
                    "1962-06-30T00:00:00.000000000",
                    "1962-07-31T00:00:00.000000000",
                    "1962-08-31T00:00:00.000000000",
                    "1962-09-30T00:00:00.000000000",
                    "1962-10-31T00:00:00.000000000",
                    "1962-11-30T00:00:00.000000000",
                    "1962-12-31T00:00:00.000000000",
                    "1963-01-31T00:00:00.000000000",
                    "1963-02-28T00:00:00.000000000",
                    "1963-03-31T00:00:00.000000000",
                    "1963-04-30T00:00:00.000000000",
                    "1963-05-31T00:00:00.000000000",
                    "1963-06-30T00:00:00.000000000",
                    "1963-07-31T00:00:00.000000000",
                    "1963-08-31T00:00:00.000000000",
                    "1963-09-30T00:00:00.000000000",
                    "1963-10-31T00:00:00.000000000",
                    "1963-11-30T00:00:00.000000000",
                    "1963-12-31T00:00:00.000000000",
                    "1964-01-31T00:00:00.000000000",
                    "1964-02-29T00:00:00.000000000",
                    "1964-03-31T00:00:00.000000000",
                    "1964-04-30T00:00:00.000000000",
                    "1964-05-31T00:00:00.000000000",
                    "1964-06-30T00:00:00.000000000",
                    "1964-07-31T00:00:00.000000000",
                    "1964-08-31T00:00:00.000000000",
                    "1964-09-30T00:00:00.000000000",
                    "1964-10-31T00:00:00.000000000",
                    "1964-11-30T00:00:00.000000000",
                    "1964-12-31T00:00:00.000000000"
                  ],
                  "y": {
                    "bdata": "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",
                    "dtype": "f8"
                  }
                },
                {
                  "line": {
                    "color": "rgba(212, 212, 217, 0.0)",
                    "width": 0
                  },
                  "name": "Forecast Interval Upper Bound",
                  "showlegend": true,
                  "type": "scatter",
                  "x": [
                    "1949-01-31T00:00:00.000000000",
                    "1949-02-28T00:00:00.000000000",
                    "1949-03-31T00:00:00.000000000",
                    "1949-04-30T00:00:00.000000000",
                    "1949-05-31T00:00:00.000000000",
                    "1949-06-30T00:00:00.000000000",
                    "1949-07-31T00:00:00.000000000",
                    "1949-08-31T00:00:00.000000000",
                    "1949-09-30T00:00:00.000000000",
                    "1949-10-31T00:00:00.000000000",
                    "1949-11-30T00:00:00.000000000",
                    "1949-12-31T00:00:00.000000000",
                    "1950-01-31T00:00:00.000000000",
                    "1950-02-28T00:00:00.000000000",
                    "1950-03-31T00:00:00.000000000",
                    "1950-04-30T00:00:00.000000000",
                    "1950-05-31T00:00:00.000000000",
                    "1950-06-30T00:00:00.000000000",
                    "1950-07-31T00:00:00.000000000",
                    "1950-08-31T00:00:00.000000000",
                    "1950-09-30T00:00:00.000000000",
                    "1950-10-31T00:00:00.000000000",
                    "1950-11-30T00:00:00.000000000",
                    "1950-12-31T00:00:00.000000000",
                    "1951-01-31T00:00:00.000000000",
                    "1951-02-28T00:00:00.000000000",
                    "1951-03-31T00:00:00.000000000",
                    "1951-04-30T00:00:00.000000000",
                    "1951-05-31T00:00:00.000000000",
                    "1951-06-30T00:00:00.000000000",
                    "1951-07-31T00:00:00.000000000",
                    "1951-08-31T00:00:00.000000000",
                    "1951-09-30T00:00:00.000000000",
                    "1951-10-31T00:00:00.000000000",
                    "1951-11-30T00:00:00.000000000",
                    "1951-12-31T00:00:00.000000000",
                    "1952-01-31T00:00:00.000000000",
                    "1952-02-29T00:00:00.000000000",
                    "1952-03-31T00:00:00.000000000",
                    "1952-04-30T00:00:00.000000000",
                    "1952-05-31T00:00:00.000000000",
                    "1952-06-30T00:00:00.000000000",
                    "1952-07-31T00:00:00.000000000",
                    "1952-08-31T00:00:00.000000000",
                    "1952-09-30T00:00:00.000000000",
                    "1952-10-31T00:00:00.000000000",
                    "1952-11-30T00:00:00.000000000",
                    "1952-12-31T00:00:00.000000000",
                    "1953-01-31T00:00:00.000000000",
                    "1953-02-28T00:00:00.000000000",
                    "1953-03-31T00:00:00.000000000",
                    "1953-04-30T00:00:00.000000000",
                    "1953-05-31T00:00:00.000000000",
                    "1953-06-30T00:00:00.000000000",
                    "1953-07-31T00:00:00.000000000",
                    "1953-08-31T00:00:00.000000000",
                    "1953-09-30T00:00:00.000000000",
                    "1953-10-31T00:00:00.000000000",
                    "1953-11-30T00:00:00.000000000",
                    "1953-12-31T00:00:00.000000000",
                    "1954-01-31T00:00:00.000000000",
                    "1954-02-28T00:00:00.000000000",
                    "1954-03-31T00:00:00.000000000",
                    "1954-04-30T00:00:00.000000000",
                    "1954-05-31T00:00:00.000000000",
                    "1954-06-30T00:00:00.000000000",
                    "1954-07-31T00:00:00.000000000",
                    "1954-08-31T00:00:00.000000000",
                    "1954-09-30T00:00:00.000000000",
                    "1954-10-31T00:00:00.000000000",
                    "1954-11-30T00:00:00.000000000",
                    "1954-12-31T00:00:00.000000000",
                    "1955-01-31T00:00:00.000000000",
                    "1955-02-28T00:00:00.000000000",
                    "1955-03-31T00:00:00.000000000",
                    "1955-04-30T00:00:00.000000000",
                    "1955-05-31T00:00:00.000000000",
                    "1955-06-30T00:00:00.000000000",
                    "1955-07-31T00:00:00.000000000",
                    "1955-08-31T00:00:00.000000000",
                    "1955-09-30T00:00:00.000000000",
                    "1955-10-31T00:00:00.000000000",
                    "1955-11-30T00:00:00.000000000",
                    "1955-12-31T00:00:00.000000000",
                    "1956-01-31T00:00:00.000000000",
                    "1956-02-29T00:00:00.000000000",
                    "1956-03-31T00:00:00.000000000",
                    "1956-04-30T00:00:00.000000000",
                    "1956-05-31T00:00:00.000000000",
                    "1956-06-30T00:00:00.000000000",
                    "1956-07-31T00:00:00.000000000",
                    "1956-08-31T00:00:00.000000000",
                    "1956-09-30T00:00:00.000000000",
                    "1956-10-31T00:00:00.000000000",
                    "1956-11-30T00:00:00.000000000",
                    "1956-12-31T00:00:00.000000000",
                    "1957-01-31T00:00:00.000000000",
                    "1957-02-28T00:00:00.000000000",
                    "1957-03-31T00:00:00.000000000",
                    "1957-04-30T00:00:00.000000000",
                    "1957-05-31T00:00:00.000000000",
                    "1957-06-30T00:00:00.000000000",
                    "1957-07-31T00:00:00.000000000",
                    "1957-08-31T00:00:00.000000000",
                    "1957-09-30T00:00:00.000000000",
                    "1957-10-31T00:00:00.000000000",
                    "1957-11-30T00:00:00.000000000",
                    "1957-12-31T00:00:00.000000000",
                    "1958-01-31T00:00:00.000000000",
                    "1958-02-28T00:00:00.000000000",
                    "1958-03-31T00:00:00.000000000",
                    "1958-04-30T00:00:00.000000000",
                    "1958-05-31T00:00:00.000000000",
                    "1958-06-30T00:00:00.000000000",
                    "1958-07-31T00:00:00.000000000",
                    "1958-08-31T00:00:00.000000000",
                    "1958-09-30T00:00:00.000000000",
                    "1958-10-31T00:00:00.000000000",
                    "1958-11-30T00:00:00.000000000",
                    "1958-12-31T00:00:00.000000000",
                    "1959-01-31T00:00:00.000000000",
                    "1959-02-28T00:00:00.000000000",
                    "1959-03-31T00:00:00.000000000",
                    "1959-04-30T00:00:00.000000000",
                    "1959-05-31T00:00:00.000000000",
                    "1959-06-30T00:00:00.000000000",
                    "1959-07-31T00:00:00.000000000",
                    "1959-08-31T00:00:00.000000000",
                    "1959-09-30T00:00:00.000000000",
                    "1959-10-31T00:00:00.000000000",
                    "1959-11-30T00:00:00.000000000",
                    "1959-12-31T00:00:00.000000000",
                    "1960-01-31T00:00:00.000000000",
                    "1960-02-29T00:00:00.000000000",
                    "1960-03-31T00:00:00.000000000",
                    "1960-04-30T00:00:00.000000000",
                    "1960-05-31T00:00:00.000000000",
                    "1960-06-30T00:00:00.000000000",
                    "1960-07-31T00:00:00.000000000",
                    "1960-08-31T00:00:00.000000000",
                    "1960-09-30T00:00:00.000000000",
                    "1960-10-31T00:00:00.000000000",
                    "1960-11-30T00:00:00.000000000",
                    "1960-12-31T00:00:00.000000000",
                    "1961-01-31T00:00:00.000000000",
                    "1961-02-28T00:00:00.000000000",
                    "1961-03-31T00:00:00.000000000",
                    "1961-04-30T00:00:00.000000000",
                    "1961-05-31T00:00:00.000000000",
                    "1961-06-30T00:00:00.000000000",
                    "1961-07-31T00:00:00.000000000",
                    "1961-08-31T00:00:00.000000000",
                    "1961-09-30T00:00:00.000000000",
                    "1961-10-31T00:00:00.000000000",
                    "1961-11-30T00:00:00.000000000",
                    "1961-12-31T00:00:00.000000000",
                    "1962-01-31T00:00:00.000000000",
                    "1962-02-28T00:00:00.000000000",
                    "1962-03-31T00:00:00.000000000",
                    "1962-04-30T00:00:00.000000000",
                    "1962-05-31T00:00:00.000000000",
                    "1962-06-30T00:00:00.000000000",
                    "1962-07-31T00:00:00.000000000",
                    "1962-08-31T00:00:00.000000000",
                    "1962-09-30T00:00:00.000000000",
                    "1962-10-31T00:00:00.000000000",
                    "1962-11-30T00:00:00.000000000",
                    "1962-12-31T00:00:00.000000000",
                    "1963-01-31T00:00:00.000000000",
                    "1963-02-28T00:00:00.000000000",
                    "1963-03-31T00:00:00.000000000",
                    "1963-04-30T00:00:00.000000000",
                    "1963-05-31T00:00:00.000000000",
                    "1963-06-30T00:00:00.000000000",
                    "1963-07-31T00:00:00.000000000",
                    "1963-08-31T00:00:00.000000000",
                    "1963-09-30T00:00:00.000000000",
                    "1963-10-31T00:00:00.000000000",
                    "1963-11-30T00:00:00.000000000",
                    "1963-12-31T00:00:00.000000000",
                    "1964-01-31T00:00:00.000000000",
                    "1964-02-29T00:00:00.000000000",
                    "1964-03-31T00:00:00.000000000",
                    "1964-04-30T00:00:00.000000000",
                    "1964-05-31T00:00:00.000000000",
                    "1964-06-30T00:00:00.000000000",
                    "1964-07-31T00:00:00.000000000",
                    "1964-08-31T00:00:00.000000000",
                    "1964-09-30T00:00:00.000000000",
                    "1964-10-31T00:00:00.000000000",
                    "1964-11-30T00:00:00.000000000",
                    "1964-12-31T00:00:00.000000000"
                  ],
                  "y": {
                    "bdata": "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",
                    "dtype": "f8"
                  }
                },
                {
                  "fill": "tonexty",
                  "fillcolor": "rgba(212, 212, 217, 0.5)",
                  "line": {
                    "color": "rgba(212, 212, 217, 0.0)",
                    "width": 0
                  },
                  "name": "Forecast Interval Lower Bound",
                  "showlegend": true,
                  "type": "scatter",
                  "x": [
                    "1949-01-31T00:00:00.000000000",
                    "1949-02-28T00:00:00.000000000",
                    "1949-03-31T00:00:00.000000000",
                    "1949-04-30T00:00:00.000000000",
                    "1949-05-31T00:00:00.000000000",
                    "1949-06-30T00:00:00.000000000",
                    "1949-07-31T00:00:00.000000000",
                    "1949-08-31T00:00:00.000000000",
                    "1949-09-30T00:00:00.000000000",
                    "1949-10-31T00:00:00.000000000",
                    "1949-11-30T00:00:00.000000000",
                    "1949-12-31T00:00:00.000000000",
                    "1950-01-31T00:00:00.000000000",
                    "1950-02-28T00:00:00.000000000",
                    "1950-03-31T00:00:00.000000000",
                    "1950-04-30T00:00:00.000000000",
                    "1950-05-31T00:00:00.000000000",
                    "1950-06-30T00:00:00.000000000",
                    "1950-07-31T00:00:00.000000000",
                    "1950-08-31T00:00:00.000000000",
                    "1950-09-30T00:00:00.000000000",
                    "1950-10-31T00:00:00.000000000",
                    "1950-11-30T00:00:00.000000000",
                    "1950-12-31T00:00:00.000000000",
                    "1951-01-31T00:00:00.000000000",
                    "1951-02-28T00:00:00.000000000",
                    "1951-03-31T00:00:00.000000000",
                    "1951-04-30T00:00:00.000000000",
                    "1951-05-31T00:00:00.000000000",
                    "1951-06-30T00:00:00.000000000",
                    "1951-07-31T00:00:00.000000000",
                    "1951-08-31T00:00:00.000000000",
                    "1951-09-30T00:00:00.000000000",
                    "1951-10-31T00:00:00.000000000",
                    "1951-11-30T00:00:00.000000000",
                    "1951-12-31T00:00:00.000000000",
                    "1952-01-31T00:00:00.000000000",
                    "1952-02-29T00:00:00.000000000",
                    "1952-03-31T00:00:00.000000000",
                    "1952-04-30T00:00:00.000000000",
                    "1952-05-31T00:00:00.000000000",
                    "1952-06-30T00:00:00.000000000",
                    "1952-07-31T00:00:00.000000000",
                    "1952-08-31T00:00:00.000000000",
                    "1952-09-30T00:00:00.000000000",
                    "1952-10-31T00:00:00.000000000",
                    "1952-11-30T00:00:00.000000000",
                    "1952-12-31T00:00:00.000000000",
                    "1953-01-31T00:00:00.000000000",
                    "1953-02-28T00:00:00.000000000",
                    "1953-03-31T00:00:00.000000000",
                    "1953-04-30T00:00:00.000000000",
                    "1953-05-31T00:00:00.000000000",
                    "1953-06-30T00:00:00.000000000",
                    "1953-07-31T00:00:00.000000000",
                    "1953-08-31T00:00:00.000000000",
                    "1953-09-30T00:00:00.000000000",
                    "1953-10-31T00:00:00.000000000",
                    "1953-11-30T00:00:00.000000000",
                    "1953-12-31T00:00:00.000000000",
                    "1954-01-31T00:00:00.000000000",
                    "1954-02-28T00:00:00.000000000",
                    "1954-03-31T00:00:00.000000000",
                    "1954-04-30T00:00:00.000000000",
                    "1954-05-31T00:00:00.000000000",
                    "1954-06-30T00:00:00.000000000",
                    "1954-07-31T00:00:00.000000000",
                    "1954-08-31T00:00:00.000000000",
                    "1954-09-30T00:00:00.000000000",
                    "1954-10-31T00:00:00.000000000",
                    "1954-11-30T00:00:00.000000000",
                    "1954-12-31T00:00:00.000000000",
                    "1955-01-31T00:00:00.000000000",
                    "1955-02-28T00:00:00.000000000",
                    "1955-03-31T00:00:00.000000000",
                    "1955-04-30T00:00:00.000000000",
                    "1955-05-31T00:00:00.000000000",
                    "1955-06-30T00:00:00.000000000",
                    "1955-07-31T00:00:00.000000000",
                    "1955-08-31T00:00:00.000000000",
                    "1955-09-30T00:00:00.000000000",
                    "1955-10-31T00:00:00.000000000",
                    "1955-11-30T00:00:00.000000000",
                    "1955-12-31T00:00:00.000000000",
                    "1956-01-31T00:00:00.000000000",
                    "1956-02-29T00:00:00.000000000",
                    "1956-03-31T00:00:00.000000000",
                    "1956-04-30T00:00:00.000000000",
                    "1956-05-31T00:00:00.000000000",
                    "1956-06-30T00:00:00.000000000",
                    "1956-07-31T00:00:00.000000000",
                    "1956-08-31T00:00:00.000000000",
                    "1956-09-30T00:00:00.000000000",
                    "1956-10-31T00:00:00.000000000",
                    "1956-11-30T00:00:00.000000000",
                    "1956-12-31T00:00:00.000000000",
                    "1957-01-31T00:00:00.000000000",
                    "1957-02-28T00:00:00.000000000",
                    "1957-03-31T00:00:00.000000000",
                    "1957-04-30T00:00:00.000000000",
                    "1957-05-31T00:00:00.000000000",
                    "1957-06-30T00:00:00.000000000",
                    "1957-07-31T00:00:00.000000000",
                    "1957-08-31T00:00:00.000000000",
                    "1957-09-30T00:00:00.000000000",
                    "1957-10-31T00:00:00.000000000",
                    "1957-11-30T00:00:00.000000000",
                    "1957-12-31T00:00:00.000000000",
                    "1958-01-31T00:00:00.000000000",
                    "1958-02-28T00:00:00.000000000",
                    "1958-03-31T00:00:00.000000000",
                    "1958-04-30T00:00:00.000000000",
                    "1958-05-31T00:00:00.000000000",
                    "1958-06-30T00:00:00.000000000",
                    "1958-07-31T00:00:00.000000000",
                    "1958-08-31T00:00:00.000000000",
                    "1958-09-30T00:00:00.000000000",
                    "1958-10-31T00:00:00.000000000",
                    "1958-11-30T00:00:00.000000000",
                    "1958-12-31T00:00:00.000000000",
                    "1959-01-31T00:00:00.000000000",
                    "1959-02-28T00:00:00.000000000",
                    "1959-03-31T00:00:00.000000000",
                    "1959-04-30T00:00:00.000000000",
                    "1959-05-31T00:00:00.000000000",
                    "1959-06-30T00:00:00.000000000",
                    "1959-07-31T00:00:00.000000000",
                    "1959-08-31T00:00:00.000000000",
                    "1959-09-30T00:00:00.000000000",
                    "1959-10-31T00:00:00.000000000",
                    "1959-11-30T00:00:00.000000000",
                    "1959-12-31T00:00:00.000000000",
                    "1960-01-31T00:00:00.000000000",
                    "1960-02-29T00:00:00.000000000",
                    "1960-03-31T00:00:00.000000000",
                    "1960-04-30T00:00:00.000000000",
                    "1960-05-31T00:00:00.000000000",
                    "1960-06-30T00:00:00.000000000",
                    "1960-07-31T00:00:00.000000000",
                    "1960-08-31T00:00:00.000000000",
                    "1960-09-30T00:00:00.000000000",
                    "1960-10-31T00:00:00.000000000",
                    "1960-11-30T00:00:00.000000000",
                    "1960-12-31T00:00:00.000000000",
                    "1961-01-31T00:00:00.000000000",
                    "1961-02-28T00:00:00.000000000",
                    "1961-03-31T00:00:00.000000000",
                    "1961-04-30T00:00:00.000000000",
                    "1961-05-31T00:00:00.000000000",
                    "1961-06-30T00:00:00.000000000",
                    "1961-07-31T00:00:00.000000000",
                    "1961-08-31T00:00:00.000000000",
                    "1961-09-30T00:00:00.000000000",
                    "1961-10-31T00:00:00.000000000",
                    "1961-11-30T00:00:00.000000000",
                    "1961-12-31T00:00:00.000000000",
                    "1962-01-31T00:00:00.000000000",
                    "1962-02-28T00:00:00.000000000",
                    "1962-03-31T00:00:00.000000000",
                    "1962-04-30T00:00:00.000000000",
                    "1962-05-31T00:00:00.000000000",
                    "1962-06-30T00:00:00.000000000",
                    "1962-07-31T00:00:00.000000000",
                    "1962-08-31T00:00:00.000000000",
                    "1962-09-30T00:00:00.000000000",
                    "1962-10-31T00:00:00.000000000",
                    "1962-11-30T00:00:00.000000000",
                    "1962-12-31T00:00:00.000000000",
                    "1963-01-31T00:00:00.000000000",
                    "1963-02-28T00:00:00.000000000",
                    "1963-03-31T00:00:00.000000000",
                    "1963-04-30T00:00:00.000000000",
                    "1963-05-31T00:00:00.000000000",
                    "1963-06-30T00:00:00.000000000",
                    "1963-07-31T00:00:00.000000000",
                    "1963-08-31T00:00:00.000000000",
                    "1963-09-30T00:00:00.000000000",
                    "1963-10-31T00:00:00.000000000",
                    "1963-11-30T00:00:00.000000000",
                    "1963-12-31T00:00:00.000000000",
                    "1964-01-31T00:00:00.000000000",
                    "1964-02-29T00:00:00.000000000",
                    "1964-03-31T00:00:00.000000000",
                    "1964-04-30T00:00:00.000000000",
                    "1964-05-31T00:00:00.000000000",
                    "1964-06-30T00:00:00.000000000",
                    "1964-07-31T00:00:00.000000000",
                    "1964-08-31T00:00:00.000000000",
                    "1964-09-30T00:00:00.000000000",
                    "1964-10-31T00:00:00.000000000",
                    "1964-11-30T00:00:00.000000000",
                    "1964-12-31T00:00:00.000000000"
                  ],
                  "y": {
                    "bdata": "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",
                    "dtype": "f8"
                  }
                }
              ],
              "layout": {
                "hovermode": "x unified",
                "template": {
                  "data": {
                    "bar": [
                      {
                        "error_x": {
                          "color": "#f2f5fa"
                        },
                        "error_y": {
                          "color": "#f2f5fa"
                        },
                        "marker": {
                          "line": {
                            "color": "rgb(17,17,17)",
                            "width": 0.5
                          },
                          "pattern": {
                            "fillmode": "overlay",
                            "size": 10,
                            "solidity": 0.2
                          }
                        },
                        "type": "bar"
                      }
                    ],
                    "barpolar": [
                      {
                        "marker": {
                          "line": {
                            "color": "rgb(17,17,17)",
                            "width": 0.5
                          },
                          "pattern": {
                            "fillmode": "overlay",
                            "size": 10,
                            "solidity": 0.2
                          }
                        },
                        "type": "barpolar"
                      }
                    ],
                    "carpet": [
                      {
                        "aaxis": {
                          "endlinecolor": "#A2B1C6",
                          "gridcolor": "#506784",
                          "linecolor": "#506784",
                          "minorgridcolor": "#506784",
                          "startlinecolor": "#A2B1C6"
                        },
                        "baxis": {
                          "endlinecolor": "#A2B1C6",
                          "gridcolor": "#506784",
                          "linecolor": "#506784",
                          "minorgridcolor": "#506784",
                          "startlinecolor": "#A2B1C6"
                        },
                        "type": "carpet"
                      }
                    ],
                    "choropleth": [
                      {
                        "colorbar": {
                          "outlinewidth": 0,
                          "ticks": ""
                        },
                        "type": "choropleth"
                      }
                    ],
                    "contour": [
                      {
                        "colorbar": {
                          "outlinewidth": 0,
                          "ticks": ""
                        },
                        "colorscale": [
                          [
                            0,
                            "#0d0887"
                          ],
                          [
                            0.1111111111111111,
                            "#46039f"
                          ],
                          [
                            0.2222222222222222,
                            "#7201a8"
                          ],
                          [
                            0.3333333333333333,
                            "#9c179e"
                          ],
                          [
                            0.4444444444444444,
                            "#bd3786"
                          ],
                          [
                            0.5555555555555556,
                            "#d8576b"
                          ],
                          [
                            0.6666666666666666,
                            "#ed7953"
                          ],
                          [
                            0.7777777777777778,
                            "#fb9f3a"
                          ],
                          [
                            0.8888888888888888,
                            "#fdca26"
                          ],
                          [
                            1,
                            "#f0f921"
                          ]
                        ],
                        "type": "contour"
                      }
                    ],
                    "contourcarpet": [
                      {
                        "colorbar": {
                          "outlinewidth": 0,
                          "ticks": ""
                        },
                        "type": "contourcarpet"
                      }
                    ],
                    "heatmap": [
                      {
                        "colorbar": {
                          "outlinewidth": 0,
                          "ticks": ""
                        },
                        "colorscale": [
                          [
                            0,
                            "#0d0887"
                          ],
                          [
                            0.1111111111111111,
                            "#46039f"
                          ],
                          [
                            0.2222222222222222,
                            "#7201a8"
                          ],
                          [
                            0.3333333333333333,
                            "#9c179e"
                          ],
                          [
                            0.4444444444444444,
                            "#bd3786"
                          ],
                          [
                            0.5555555555555556,
                            "#d8576b"
                          ],
                          [
                            0.6666666666666666,
                            "#ed7953"
                          ],
                          [
                            0.7777777777777778,
                            "#fb9f3a"
                          ],
                          [
                            0.8888888888888888,
                            "#fdca26"
                          ],
                          [
                            1,
                            "#f0f921"
                          ]
                        ],
                        "type": "heatmap"
                      }
                    ],
                    "histogram": [
                      {
                        "marker": {
                          "pattern": {
                            "fillmode": "overlay",
                            "size": 10,
                            "solidity": 0.2
                          }
                        },
                        "type": "histogram"
                      }
                    ],
                    "histogram2d": [
                      {
                        "colorbar": {
                          "outlinewidth": 0,
                          "ticks": ""
                        },
                        "colorscale": [
                          [
                            0,
                            "#0d0887"
                          ],
                          [
                            0.1111111111111111,
                            "#46039f"
                          ],
                          [
                            0.2222222222222222,
                            "#7201a8"
                          ],
                          [
                            0.3333333333333333,
                            "#9c179e"
                          ],
                          [
                            0.4444444444444444,
                            "#bd3786"
                          ],
                          [
                            0.5555555555555556,
                            "#d8576b"
                          ],
                          [
                            0.6666666666666666,
                            "#ed7953"
                          ],
                          [
                            0.7777777777777778,
                            "#fb9f3a"
                          ],
                          [
                            0.8888888888888888,
                            "#fdca26"
                          ],
                          [
                            1,
                            "#f0f921"
                          ]
                        ],
                        "type": "histogram2d"
                      }
                    ],
                    "histogram2dcontour": [
                      {
                        "colorbar": {
                          "outlinewidth": 0,
                          "ticks": ""
                        },
                        "colorscale": [
                          [
                            0,
                            "#0d0887"
                          ],
                          [
                            0.1111111111111111,
                            "#46039f"
                          ],
                          [
                            0.2222222222222222,
                            "#7201a8"
                          ],
                          [
                            0.3333333333333333,
                            "#9c179e"
                          ],
                          [
                            0.4444444444444444,
                            "#bd3786"
                          ],
                          [
                            0.5555555555555556,
                            "#d8576b"
                          ],
                          [
                            0.6666666666666666,
                            "#ed7953"
                          ],
                          [
                            0.7777777777777778,
                            "#fb9f3a"
                          ],
                          [
                            0.8888888888888888,
                            "#fdca26"
                          ],
                          [
                            1,
                            "#f0f921"
                          ]
                        ],
                        "type": "histogram2dcontour"
                      }
                    ],
                    "mesh3d": [
                      {
                        "colorbar": {
                          "outlinewidth": 0,
                          "ticks": ""
                        },
                        "type": "mesh3d"
                      }
                    ],
                    "parcoords": [
                      {
                        "line": {
                          "colorbar": {
                            "outlinewidth": 0,
                            "ticks": ""
                          }
                        },
                        "type": "parcoords"
                      }
                    ],
                    "pie": [
                      {
                        "automargin": true,
                        "type": "pie"
                      }
                    ],
                    "scatter": [
                      {
                        "marker": {
                          "line": {
                            "color": "#283442"
                          }
                        },
                        "type": "scatter"
                      }
                    ],
                    "scatter3d": [
                      {
                        "line": {
                          "colorbar": {
                            "outlinewidth": 0,
                            "ticks": ""
                          }
                        },
                        "marker": {
                          "colorbar": {
                            "outlinewidth": 0,
                            "ticks": ""
                          }
                        },
                        "type": "scatter3d"
                      }
                    ],
                    "scattercarpet": [
                      {
                        "marker": {
                          "colorbar": {
                            "outlinewidth": 0,
                            "ticks": ""
                          }
                        },
                        "type": "scattercarpet"
                      }
                    ],
                    "scattergeo": [
                      {
                        "marker": {
                          "colorbar": {
                            "outlinewidth": 0,
                            "ticks": ""
                          }
                        },
                        "type": "scattergeo"
                      }
                    ],
                    "scattergl": [
                      {
                        "marker": {
                          "line": {
                            "color": "#283442"
                          }
                        },
                        "type": "scattergl"
                      }
                    ],
                    "scattermap": [
                      {
                        "marker": {
                          "colorbar": {
                            "outlinewidth": 0,
                            "ticks": ""
                          }
                        },
                        "type": "scattermap"
                      }
                    ],
                    "scattermapbox": [
                      {
                        "marker": {
                          "colorbar": {
                            "outlinewidth": 0,
                            "ticks": ""
                          }
                        },
                        "type": "scattermapbox"
                      }
                    ],
                    "scatterpolar": [
                      {
                        "marker": {
                          "colorbar": {
                            "outlinewidth": 0,
                            "ticks": ""
                          }
                        },
                        "type": "scatterpolar"
                      }
                    ],
                    "scatterpolargl": [
                      {
                        "marker": {
                          "colorbar": {
                            "outlinewidth": 0,
                            "ticks": ""
                          }
                        },
                        "type": "scatterpolargl"
                      }
                    ],
                    "scatterternary": [
                      {
                        "marker": {
                          "colorbar": {
                            "outlinewidth": 0,
                            "ticks": ""
                          }
                        },
                        "type": "scatterternary"
                      }
                    ],
                    "surface": [
                      {
                        "colorbar": {
                          "outlinewidth": 0,
                          "ticks": ""
                        },
                        "colorscale": [
                          [
                            0,
                            "#0d0887"
                          ],
                          [
                            0.1111111111111111,
                            "#46039f"
                          ],
                          [
                            0.2222222222222222,
                            "#7201a8"
                          ],
                          [
                            0.3333333333333333,
                            "#9c179e"
                          ],
                          [
                            0.4444444444444444,
                            "#bd3786"
                          ],
                          [
                            0.5555555555555556,
                            "#d8576b"
                          ],
                          [
                            0.6666666666666666,
                            "#ed7953"
                          ],
                          [
                            0.7777777777777778,
                            "#fb9f3a"
                          ],
                          [
                            0.8888888888888888,
                            "#fdca26"
                          ],
                          [
                            1,
                            "#f0f921"
                          ]
                        ],
                        "type": "surface"
                      }
                    ],
                    "table": [
                      {
                        "cells": {
                          "fill": {
                            "color": "#506784"
                          },
                          "line": {
                            "color": "rgb(17,17,17)"
                          }
                        },
                        "header": {
                          "fill": {
                            "color": "#2a3f5f"
                          },
                          "line": {
                            "color": "rgb(17,17,17)"
                          }
                        },
                        "type": "table"
                      }
                    ]
                  },
                  "layout": {
                    "annotationdefaults": {
                      "arrowcolor": "#f2f5fa",
                      "arrowhead": 0,
                      "arrowwidth": 1
                    },
                    "autosize": false,
                    "autotypenumbers": "strict",
                    "coloraxis": {
                      "colorbar": {
                        "outlinewidth": 0,
                        "ticks": ""
                      }
                    },
                    "colorscale": {
                      "diverging": [
                        [
                          0,
                          "#8e0152"
                        ],
                        [
                          0.1,
                          "#c51b7d"
                        ],
                        [
                          0.2,
                          "#de77ae"
                        ],
                        [
                          0.3,
                          "#f1b6da"
                        ],
                        [
                          0.4,
                          "#fde0ef"
                        ],
                        [
                          0.5,
                          "#f7f7f7"
                        ],
                        [
                          0.6,
                          "#e6f5d0"
                        ],
                        [
                          0.7,
                          "#b8e186"
                        ],
                        [
                          0.8,
                          "#7fbc41"
                        ],
                        [
                          0.9,
                          "#4d9221"
                        ],
                        [
                          1,
                          "#276419"
                        ]
                      ],
                      "sequential": [
                        [
                          0,
                          "#0d0887"
                        ],
                        [
                          0.1111111111111111,
                          "#46039f"
                        ],
                        [
                          0.2222222222222222,
                          "#7201a8"
                        ],
                        [
                          0.3333333333333333,
                          "#9c179e"
                        ],
                        [
                          0.4444444444444444,
                          "#bd3786"
                        ],
                        [
                          0.5555555555555556,
                          "#d8576b"
                        ],
                        [
                          0.6666666666666666,
                          "#ed7953"
                        ],
                        [
                          0.7777777777777778,
                          "#fb9f3a"
                        ],
                        [
                          0.8888888888888888,
                          "#fdca26"
                        ],
                        [
                          1,
                          "#f0f921"
                        ]
                      ],
                      "sequentialminus": [
                        [
                          0,
                          "#0d0887"
                        ],
                        [
                          0.1111111111111111,
                          "#46039f"
                        ],
                        [
                          0.2222222222222222,
                          "#7201a8"
                        ],
                        [
                          0.3333333333333333,
                          "#9c179e"
                        ],
                        [
                          0.4444444444444444,
                          "#bd3786"
                        ],
                        [
                          0.5555555555555556,
                          "#d8576b"
                        ],
                        [
                          0.6666666666666666,
                          "#ed7953"
                        ],
                        [
                          0.7777777777777778,
                          "#fb9f3a"
                        ],
                        [
                          0.8888888888888888,
                          "#fdca26"
                        ],
                        [
                          1,
                          "#f0f921"
                        ]
                      ]
                    },
                    "colorway": [
                      "#636efa",
                      "#EF553B",
                      "#00cc96",
                      "#ab63fa",
                      "#FFA15A",
                      "#19d3f3",
                      "#FF6692",
                      "#B6E880",
                      "#FF97FF",
                      "#FECB52"
                    ],
                    "font": {
                      "color": "#f2f5fa"
                    },
                    "geo": {
                      "bgcolor": "rgb(17,17,17)",
                      "lakecolor": "rgb(17,17,17)",
                      "landcolor": "rgb(17,17,17)",
                      "showlakes": true,
                      "showland": true,
                      "subunitcolor": "#506784"
                    },
                    "height": 500,
                    "hoverlabel": {
                      "align": "left"
                    },
                    "hovermode": "closest",
                    "mapbox": {
                      "style": "dark"
                    },
                    "paper_bgcolor": "rgb(17,17,17)",
                    "plot_bgcolor": "rgb(17,17,17)",
                    "polar": {
                      "angularaxis": {
                        "gridcolor": "#506784",
                        "linecolor": "#506784",
                        "ticks": ""
                      },
                      "bgcolor": "rgb(17,17,17)",
                      "radialaxis": {
                        "gridcolor": "#506784",
                        "linecolor": "#506784",
                        "ticks": ""
                      }
                    },
                    "scene": {
                      "xaxis": {
                        "backgroundcolor": "rgb(17,17,17)",
                        "gridcolor": "#506784",
                        "gridwidth": 2,
                        "linecolor": "#506784",
                        "showbackground": true,
                        "ticks": "",
                        "zerolinecolor": "#C8D4E3"
                      },
                      "yaxis": {
                        "backgroundcolor": "rgb(17,17,17)",
                        "gridcolor": "#506784",
                        "gridwidth": 2,
                        "linecolor": "#506784",
                        "showbackground": true,
                        "ticks": "",
                        "zerolinecolor": "#C8D4E3"
                      },
                      "zaxis": {
                        "backgroundcolor": "rgb(17,17,17)",
                        "gridcolor": "#506784",
                        "gridwidth": 2,
                        "linecolor": "#506784",
                        "showbackground": true,
                        "ticks": "",
                        "zerolinecolor": "#C8D4E3"
                      }
                    },
                    "shapedefaults": {
                      "line": {
                        "color": "#f2f5fa"
                      }
                    },
                    "showlegend": true,
                    "sliderdefaults": {
                      "bgcolor": "#C8D4E3",
                      "bordercolor": "rgb(17,17,17)",
                      "borderwidth": 1,
                      "tickwidth": 0
                    },
                    "ternary": {
                      "aaxis": {
                        "gridcolor": "#506784",
                        "linecolor": "#506784",
                        "ticks": ""
                      },
                      "baxis": {
                        "gridcolor": "#506784",
                        "linecolor": "#506784",
                        "ticks": ""
                      },
                      "bgcolor": "rgb(17,17,17)",
                      "caxis": {
                        "gridcolor": "#506784",
                        "linecolor": "#506784",
                        "ticks": ""
                      }
                    },
                    "title": {
                      "x": 0.05
                    },
                    "updatemenudefaults": {
                      "bgcolor": "#506784",
                      "borderwidth": 0
                    },
                    "width": 1000,
                    "xaxis": {
                      "automargin": true,
                      "gridcolor": "#283442",
                      "linecolor": "#506784",
                      "ticks": "",
                      "title": {
                        "standoff": 15
                      },
                      "zerolinecolor": "#283442",
                      "zerolinewidth": 2
                    },
                    "yaxis": {
                      "automargin": true,
                      "gridcolor": "#283442",
                      "linecolor": "#506784",
                      "ticks": "",
                      "title": {
                        "standoff": 15
                      },
                      "zerolinecolor": "#283442",
                      "zerolinewidth": 2
                    }
                  }
                },
                "title": {},
                "xaxis": {
                  "range": [
                    "1949-01-31T00:00:00",
                    "1964-12-31T00:00:00"
                  ]
                }
              }
            }
          },
          "metadata": {},
          "output_type": "display_data"
        }
      ],
      "source": [
        "utils.plot_prophet_forecast(df['y'], forecast)"
      ]
    },
    {
      "cell_type": "markdown",
      "id": "bd088e87",
      "metadata": {},
      "source": [
        "## Configuration"
      ]
    },
    {
      "cell_type": "markdown",
      "id": "7eb31d8f",
      "metadata": {},
      "source": [
        "1. Prophet automatically detects trend and seasonality using changepoints.\n",
        "2. You configure:\n",
        "\n",
        "   * **Trend flexibility** (with or without change points)\n",
        "   * **Additive vs. multiplicative** seasonality (`seasonality_mode`)\n",
        "   * **Custom seasonalities** (optional)\n",
        "   * **Holiday effects** (optional)\n"
      ]
    },
    {
      "cell_type": "markdown",
      "id": "bd795550",
      "metadata": {},
      "source": [
        "**📌 Rule of Thumb**"
      ]
    },
    {
      "cell_type": "markdown",
      "id": "fe7f674d",
      "metadata": {},
      "source": [
        "> “Prophet config is semi-automatic: trend and seasonal components are learned with flexible change points. You choose seasonal mode and horizon — minimal tuning required.”"
      ]
    },
    {
      "cell_type": "markdown",
      "id": "f5697130",
      "metadata": {},
      "source": [
        "\n",
        "\n",
        "**Seasonal decomposition visual insight only.**"
      ]
    },
    {
      "cell_type": "code",
      "execution_count": 11,
      "id": "1489c93d",
      "metadata": {},
      "outputs": [
        {
          "data": {
            "image/png": "[encoded data removed]",
            "text/plain": [
              "<Figure size 640x480 with 4 Axes>"
            ]
          },
          "metadata": {},
          "output_type": "display_data"
        },
        {
          "data": {
            "image/png": "[encoded data removed]",
            "text/plain": [
              "<Figure size 640x480 with 4 Axes>"
            ]
          },
          "metadata": {},
          "output_type": "display_data"
        }
      ],
      "source": [
        "from statsmodels.tsa.seasonal import seasonal_decompose\n",
        "\n",
        "seasonal_decompose(df['y'], model=\"additive\", period=12).plot();\n",
        "seasonal_decompose(df['y'], model=\"multiplicative\", period=12).plot();"
      ]
    },
    {
      "cell_type": "markdown",
      "id": "60eb5655",
      "metadata": {},
      "source": [
        "## Variation playground\n",
        "\n",
        "### Prophet"
      ]
    },
    {
      "cell_type": "code",
      "execution_count": 12,
      "id": "c0bf0c23",
      "metadata": {},
      "outputs": [
        {
          "name": "stderr",
          "output_type": "stream",
          "text": [
            "22:39:05 - cmdstanpy - INFO - Chain [1] start processing\n",
            "22:39:05 - cmdstanpy - INFO - Chain [1] done processing\n",
            "22:39:05 - cmdstanpy - INFO - Chain [1] start processing\n",
            "22:39:05 - cmdstanpy - INFO - Chain [1] done processing\n"
          ]
        },
        {
          "data": {
            "text/html": [
              "<div>\n",
              "<style scoped>\n",
              "    .dataframe tbody tr th:only-of-type {\n",
              "        vertical-align: middle;\n",
              "    }\n",
              "\n",
              "    .dataframe tbody tr th {\n",
              "        vertical-align: top;\n",
              "    }\n",
              "\n",
              "    .dataframe thead th {\n",
              "        text-align: right;\n",
              "    }\n",
              "</style>\n",
              "<table border=\"1\" class=\"dataframe\">\n",
              "  <thead>\n",
              "    <tr style=\"text-align: right;\">\n",
              "      <th></th>\n",
              "      <th>values</th>\n",
              "      <th>prophet_additive</th>\n",
              "      <th>prophet_multiplicative</th>\n",
              "    </tr>\n",
              "  </thead>\n",
              "  <tbody>\n",
              "    <tr>\n",
              "      <th>1949-01-31</th>\n",
              "      <td>112.0</td>\n",
              "      <td>NaN</td>\n",
              "      <td>NaN</td>\n",
              "    </tr>\n",
              "    <tr>\n",
              "      <th>1949-02-28</th>\n",
              "      <td>118.0</td>\n",
              "      <td>NaN</td>\n",
              "      <td>NaN</td>\n",
              "    </tr>\n",
              "    <tr>\n",
              "      <th>...</th>\n",
              "      <td>...</td>\n",
              "      <td>...</td>\n",
              "      <td>...</td>\n",
              "    </tr>\n",
              "    <tr>\n",
              "      <th>1964-11-30</th>\n",
              "      <td>NaN</td>\n",
              "      <td>568.963094</td>\n",
              "      <td>525.884549</td>\n",
              "    </tr>\n",
              "    <tr>\n",
              "      <th>1964-12-31</th>\n",
              "      <td>NaN</td>\n",
              "      <td>597.874859</td>\n",
              "      <td>583.970836</td>\n",
              "    </tr>\n",
              "  </tbody>\n",
              "</table>\n",
              "<p>192 rows × 3 columns</p>\n",
              "</div>"
            ],
            "text/plain": [
              "            values  prophet_additive  prophet_multiplicative\n",
              "1949-01-31   112.0               NaN                     NaN\n",
              "1949-02-28   118.0               NaN                     NaN\n",
              "...            ...               ...                     ...\n",
              "1964-11-30     NaN        568.963094              525.884549\n",
              "1964-12-31     NaN        597.874859              583.970836\n",
              "\n",
              "[192 rows x 3 columns]"
            ]
          },
          "execution_count": 12,
          "metadata": {},
          "output_type": "execute_result"
        }
      ],
      "source": [
        "from modules import utils\n",
        "\n",
        "df = series.to_frame()\n",
        "\n",
        "df = utils.get_model_forecast_prophet(df, column=\"values\", mode=\"additive\")\n",
        "df = utils.get_model_forecast_prophet(df, column=\"values\", mode=\"multiplicative\")\n",
        "\n",
        "df"
      ]
    },
    {
      "cell_type": "code",
      "execution_count": 13,
      "id": "d1b75ea0",
      "metadata": {},
      "outputs": [
        {
          "data": {
            "application/vnd.plotly.v1+json": {
              "config": {
                "plotlyServerURL": "https://plot.ly"
              },
              "data": [
                {
                  "hovertemplate": "variable=values<br>index=%{x}<br>value=%{y}<extra></extra>",
                  "legendgroup": "values",
                  "line": {
                    "color": "#636efa",
                    "dash": "solid"
                  },
                  "marker": {
                    "symbol": "circle"
                  },
                  "mode": "lines",
                  "name": "values",
                  "orientation": "v",
                  "showlegend": true,
                  "type": "scatter",
                  "x": [
                    "1949-01-31T00:00:00.000000000",
                    "1949-02-28T00:00:00.000000000",
                    "1949-03-31T00:00:00.000000000",
                    "1949-04-30T00:00:00.000000000",
                    "1949-05-31T00:00:00.000000000",
                    "1949-06-30T00:00:00.000000000",
                    "1949-07-31T00:00:00.000000000",
                    "1949-08-31T00:00:00.000000000",
                    "1949-09-30T00:00:00.000000000",
                    "1949-10-31T00:00:00.000000000",
                    "1949-11-30T00:00:00.000000000",
                    "1949-12-31T00:00:00.000000000",
                    "1950-01-31T00:00:00.000000000",
                    "1950-02-28T00:00:00.000000000",
                    "1950-03-31T00:00:00.000000000",
                    "1950-04-30T00:00:00.000000000",
                    "1950-05-31T00:00:00.000000000",
                    "1950-06-30T00:00:00.000000000",
                    "1950-07-31T00:00:00.000000000",
                    "1950-08-31T00:00:00.000000000",
                    "1950-09-30T00:00:00.000000000",
                    "1950-10-31T00:00:00.000000000",
                    "1950-11-30T00:00:00.000000000",
                    "1950-12-31T00:00:00.000000000",
                    "1951-01-31T00:00:00.000000000",
                    "1951-02-28T00:00:00.000000000",
                    "1951-03-31T00:00:00.000000000",
                    "1951-04-30T00:00:00.000000000",
                    "1951-05-31T00:00:00.000000000",
                    "1951-06-30T00:00:00.000000000",
                    "1951-07-31T00:00:00.000000000",
                    "1951-08-31T00:00:00.000000000",
                    "1951-09-30T00:00:00.000000000",
                    "1951-10-31T00:00:00.000000000",
                    "1951-11-30T00:00:00.000000000",
                    "1951-12-31T00:00:00.000000000",
                    "1952-01-31T00:00:00.000000000",
                    "1952-02-29T00:00:00.000000000",
                    "1952-03-31T00:00:00.000000000",
                    "1952-04-30T00:00:00.000000000",
                    "1952-05-31T00:00:00.000000000",
                    "1952-06-30T00:00:00.000000000",
                    "1952-07-31T00:00:00.000000000",
                    "1952-08-31T00:00:00.000000000",
                    "1952-09-30T00:00:00.000000000",
                    "1952-10-31T00:00:00.000000000",
                    "1952-11-30T00:00:00.000000000",
                    "1952-12-31T00:00:00.000000000",
                    "1953-01-31T00:00:00.000000000",
                    "1953-02-28T00:00:00.000000000",
                    "1953-03-31T00:00:00.000000000",
                    "1953-04-30T00:00:00.000000000",
                    "1953-05-31T00:00:00.000000000",
                    "1953-06-30T00:00:00.000000000",
                    "1953-07-31T00:00:00.000000000",
                    "1953-08-31T00:00:00.000000000",
                    "1953-09-30T00:00:00.000000000",
                    "1953-10-31T00:00:00.000000000",
                    "1953-11-30T00:00:00.000000000",
                    "1953-12-31T00:00:00.000000000",
                    "1954-01-31T00:00:00.000000000",
                    "1954-02-28T00:00:00.000000000",
                    "1954-03-31T00:00:00.000000000",
                    "1954-04-30T00:00:00.000000000",
                    "1954-05-31T00:00:00.000000000",
                    "1954-06-30T00:00:00.000000000",
                    "1954-07-31T00:00:00.000000000",
                    "1954-08-31T00:00:00.000000000",
                    "1954-09-30T00:00:00.000000000",
                    "1954-10-31T00:00:00.000000000",
                    "1954-11-30T00:00:00.000000000",
                    "1954-12-31T00:00:00.000000000",
                    "1955-01-31T00:00:00.000000000",
                    "1955-02-28T00:00:00.000000000",
                    "1955-03-31T00:00:00.000000000",
                    "1955-04-30T00:00:00.000000000",
                    "1955-05-31T00:00:00.000000000",
                    "1955-06-30T00:00:00.000000000",
                    "1955-07-31T00:00:00.000000000",
                    "1955-08-31T00:00:00.000000000",
                    "1955-09-30T00:00:00.000000000",
                    "1955-10-31T00:00:00.000000000",
                    "1955-11-30T00:00:00.000000000",
                    "1955-12-31T00:00:00.000000000",
                    "1956-01-31T00:00:00.000000000",
                    "1956-02-29T00:00:00.000000000",
                    "1956-03-31T00:00:00.000000000",
                    "1956-04-30T00:00:00.000000000",
                    "1956-05-31T00:00:00.000000000",
                    "1956-06-30T00:00:00.000000000",
                    "1956-07-31T00:00:00.000000000",
                    "1956-08-31T00:00:00.000000000",
                    "1956-09-30T00:00:00.000000000",
                    "1956-10-31T00:00:00.000000000",
                    "1956-11-30T00:00:00.000000000",
                    "1956-12-31T00:00:00.000000000",
                    "1957-01-31T00:00:00.000000000",
                    "1957-02-28T00:00:00.000000000",
                    "1957-03-31T00:00:00.000000000",
                    "1957-04-30T00:00:00.000000000",
                    "1957-05-31T00:00:00.000000000",
                    "1957-06-30T00:00:00.000000000",
                    "1957-07-31T00:00:00.000000000",
                    "1957-08-31T00:00:00.000000000",
                    "1957-09-30T00:00:00.000000000",
                    "1957-10-31T00:00:00.000000000",
                    "1957-11-30T00:00:00.000000000",
                    "1957-12-31T00:00:00.000000000",
                    "1958-01-31T00:00:00.000000000",
                    "1958-02-28T00:00:00.000000000",
                    "1958-03-31T00:00:00.000000000",
                    "1958-04-30T00:00:00.000000000",
                    "1958-05-31T00:00:00.000000000",
                    "1958-06-30T00:00:00.000000000",
                    "1958-07-31T00:00:00.000000000",
                    "1958-08-31T00:00:00.000000000",
                    "1958-09-30T00:00:00.000000000",
                    "1958-10-31T00:00:00.000000000",
                    "1958-11-30T00:00:00.000000000",
                    "1958-12-31T00:00:00.000000000",
                    "1959-01-31T00:00:00.000000000",
                    "1959-02-28T00:00:00.000000000",
                    "1959-03-31T00:00:00.000000000",
                    "1959-04-30T00:00:00.000000000",
                    "1959-05-31T00:00:00.000000000",
                    "1959-06-30T00:00:00.000000000",
                    "1959-07-31T00:00:00.000000000",
                    "1959-08-31T00:00:00.000000000",
                    "1959-09-30T00:00:00.000000000",
                    "1959-10-31T00:00:00.000000000",
                    "1959-11-30T00:00:00.000000000",
                    "1959-12-31T00:00:00.000000000",
                    "1960-01-31T00:00:00.000000000",
                    "1960-02-29T00:00:00.000000000",
                    "1960-03-31T00:00:00.000000000",
                    "1960-04-30T00:00:00.000000000",
                    "1960-05-31T00:00:00.000000000",
                    "1960-06-30T00:00:00.000000000",
                    "1960-07-31T00:00:00.000000000",
                    "1960-08-31T00:00:00.000000000",
                    "1960-09-30T00:00:00.000000000",
                    "1960-10-31T00:00:00.000000000",
                    "1960-11-30T00:00:00.000000000",
                    "1960-12-31T00:00:00.000000000",
                    "1961-01-31T00:00:00.000000000",
                    "1961-02-28T00:00:00.000000000",
                    "1961-03-31T00:00:00.000000000",
                    "1961-04-30T00:00:00.000000000",
                    "1961-05-31T00:00:00.000000000",
                    "1961-06-30T00:00:00.000000000",
                    "1961-07-31T00:00:00.000000000",
                    "1961-08-31T00:00:00.000000000",
                    "1961-09-30T00:00:00.000000000",
                    "1961-10-31T00:00:00.000000000",
                    "1961-11-30T00:00:00.000000000",
                    "1961-12-31T00:00:00.000000000",
                    "1962-01-31T00:00:00.000000000",
                    "1962-02-28T00:00:00.000000000",
                    "1962-03-31T00:00:00.000000000",
                    "1962-04-30T00:00:00.000000000",
                    "1962-05-31T00:00:00.000000000",
                    "1962-06-30T00:00:00.000000000",
                    "1962-07-31T00:00:00.000000000",
                    "1962-08-31T00:00:00.000000000",
                    "1962-09-30T00:00:00.000000000",
                    "1962-10-31T00:00:00.000000000",
                    "1962-11-30T00:00:00.000000000",
                    "1962-12-31T00:00:00.000000000",
                    "1963-01-31T00:00:00.000000000",
                    "1963-02-28T00:00:00.000000000",
                    "1963-03-31T00:00:00.000000000",
                    "1963-04-30T00:00:00.000000000",
                    "1963-05-31T00:00:00.000000000",
                    "1963-06-30T00:00:00.000000000",
                    "1963-07-31T00:00:00.000000000",
                    "1963-08-31T00:00:00.000000000",
                    "1963-09-30T00:00:00.000000000",
                    "1963-10-31T00:00:00.000000000",
                    "1963-11-30T00:00:00.000000000",
                    "1963-12-31T00:00:00.000000000",
                    "1964-01-31T00:00:00.000000000",
                    "1964-02-29T00:00:00.000000000",
                    "1964-03-31T00:00:00.000000000",
                    "1964-04-30T00:00:00.000000000",
                    "1964-05-31T00:00:00.000000000",
                    "1964-06-30T00:00:00.000000000",
                    "1964-07-31T00:00:00.000000000",
                    "1964-08-31T00:00:00.000000000",
                    "1964-09-30T00:00:00.000000000",
                    "1964-10-31T00:00:00.000000000",
                    "1964-11-30T00:00:00.000000000",
                    "1964-12-31T00:00:00.000000000"
                  ],
                  "xaxis": "x",
                  "y": {
                    "bdata": "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",
                    "dtype": "f8"
                  },
                  "yaxis": "y"
                },
                {
                  "hovertemplate": "variable=prophet_additive<br>index=%{x}<br>value=%{y}<extra></extra>",
                  "legendgroup": "prophet_additive",
                  "line": {
                    "color": "#EF553B",
                    "dash": "solid"
                  },
                  "marker": {
                    "symbol": "circle"
                  },
                  "mode": "lines",
                  "name": "prophet_additive",
                  "orientation": "v",
                  "showlegend": true,
                  "type": "scatter",
                  "x": [
                    "1949-01-31T00:00:00.000000000",
                    "1949-02-28T00:00:00.000000000",
                    "1949-03-31T00:00:00.000000000",
                    "1949-04-30T00:00:00.000000000",
                    "1949-05-31T00:00:00.000000000",
                    "1949-06-30T00:00:00.000000000",
                    "1949-07-31T00:00:00.000000000",
                    "1949-08-31T00:00:00.000000000",
                    "1949-09-30T00:00:00.000000000",
                    "1949-10-31T00:00:00.000000000",
                    "1949-11-30T00:00:00.000000000",
                    "1949-12-31T00:00:00.000000000",
                    "1950-01-31T00:00:00.000000000",
                    "1950-02-28T00:00:00.000000000",
                    "1950-03-31T00:00:00.000000000",
                    "1950-04-30T00:00:00.000000000",
                    "1950-05-31T00:00:00.000000000",
                    "1950-06-30T00:00:00.000000000",
                    "1950-07-31T00:00:00.000000000",
                    "1950-08-31T00:00:00.000000000",
                    "1950-09-30T00:00:00.000000000",
                    "1950-10-31T00:00:00.000000000",
                    "1950-11-30T00:00:00.000000000",
                    "1950-12-31T00:00:00.000000000",
                    "1951-01-31T00:00:00.000000000",
                    "1951-02-28T00:00:00.000000000",
                    "1951-03-31T00:00:00.000000000",
                    "1951-04-30T00:00:00.000000000",
                    "1951-05-31T00:00:00.000000000",
                    "1951-06-30T00:00:00.000000000",
                    "1951-07-31T00:00:00.000000000",
                    "1951-08-31T00:00:00.000000000",
                    "1951-09-30T00:00:00.000000000",
                    "1951-10-31T00:00:00.000000000",
                    "1951-11-30T00:00:00.000000000",
                    "1951-12-31T00:00:00.000000000",
                    "1952-01-31T00:00:00.000000000",
                    "1952-02-29T00:00:00.000000000",
                    "1952-03-31T00:00:00.000000000",
                    "1952-04-30T00:00:00.000000000",
                    "1952-05-31T00:00:00.000000000",
                    "1952-06-30T00:00:00.000000000",
                    "1952-07-31T00:00:00.000000000",
                    "1952-08-31T00:00:00.000000000",
                    "1952-09-30T00:00:00.000000000",
                    "1952-10-31T00:00:00.000000000",
                    "1952-11-30T00:00:00.000000000",
                    "1952-12-31T00:00:00.000000000",
                    "1953-01-31T00:00:00.000000000",
                    "1953-02-28T00:00:00.000000000",
                    "1953-03-31T00:00:00.000000000",
                    "1953-04-30T00:00:00.000000000",
                    "1953-05-31T00:00:00.000000000",
                    "1953-06-30T00:00:00.000000000",
                    "1953-07-31T00:00:00.000000000",
                    "1953-08-31T00:00:00.000000000",
                    "1953-09-30T00:00:00.000000000",
                    "1953-10-31T00:00:00.000000000",
                    "1953-11-30T00:00:00.000000000",
                    "1953-12-31T00:00:00.000000000",
                    "1954-01-31T00:00:00.000000000",
                    "1954-02-28T00:00:00.000000000",
                    "1954-03-31T00:00:00.000000000",
                    "1954-04-30T00:00:00.000000000",
                    "1954-05-31T00:00:00.000000000",
                    "1954-06-30T00:00:00.000000000",
                    "1954-07-31T00:00:00.000000000",
                    "1954-08-31T00:00:00.000000000",
                    "1954-09-30T00:00:00.000000000",
                    "1954-10-31T00:00:00.000000000",
                    "1954-11-30T00:00:00.000000000",
                    "1954-12-31T00:00:00.000000000",
                    "1955-01-31T00:00:00.000000000",
                    "1955-02-28T00:00:00.000000000",
                    "1955-03-31T00:00:00.000000000",
                    "1955-04-30T00:00:00.000000000",
                    "1955-05-31T00:00:00.000000000",
                    "1955-06-30T00:00:00.000000000",
                    "1955-07-31T00:00:00.000000000",
                    "1955-08-31T00:00:00.000000000",
                    "1955-09-30T00:00:00.000000000",
                    "1955-10-31T00:00:00.000000000",
                    "1955-11-30T00:00:00.000000000",
                    "1955-12-31T00:00:00.000000000",
                    "1956-01-31T00:00:00.000000000",
                    "1956-02-29T00:00:00.000000000",
                    "1956-03-31T00:00:00.000000000",
                    "1956-04-30T00:00:00.000000000",
                    "1956-05-31T00:00:00.000000000",
                    "1956-06-30T00:00:00.000000000",
                    "1956-07-31T00:00:00.000000000",
                    "1956-08-31T00:00:00.000000000",
                    "1956-09-30T00:00:00.000000000",
                    "1956-10-31T00:00:00.000000000",
                    "1956-11-30T00:00:00.000000000",
                    "1956-12-31T00:00:00.000000000",
                    "1957-01-31T00:00:00.000000000",
                    "1957-02-28T00:00:00.000000000",
                    "1957-03-31T00:00:00.000000000",
                    "1957-04-30T00:00:00.000000000",
                    "1957-05-31T00:00:00.000000000",
                    "1957-06-30T00:00:00.000000000",
                    "1957-07-31T00:00:00.000000000",
                    "1957-08-31T00:00:00.000000000",
                    "1957-09-30T00:00:00.000000000",
                    "1957-10-31T00:00:00.000000000",
                    "1957-11-30T00:00:00.000000000",
                    "1957-12-31T00:00:00.000000000",
                    "1958-01-31T00:00:00.000000000",
                    "1958-02-28T00:00:00.000000000",
                    "1958-03-31T00:00:00.000000000",
                    "1958-04-30T00:00:00.000000000",
                    "1958-05-31T00:00:00.000000000",
                    "1958-06-30T00:00:00.000000000",
                    "1958-07-31T00:00:00.000000000",
                    "1958-08-31T00:00:00.000000000",
                    "1958-09-30T00:00:00.000000000",
                    "1958-10-31T00:00:00.000000000",
                    "1958-11-30T00:00:00.000000000",
                    "1958-12-31T00:00:00.000000000",
                    "1959-01-31T00:00:00.000000000",
                    "1959-02-28T00:00:00.000000000",
                    "1959-03-31T00:00:00.000000000",
                    "1959-04-30T00:00:00.000000000",
                    "1959-05-31T00:00:00.000000000",
                    "1959-06-30T00:00:00.000000000",
                    "1959-07-31T00:00:00.000000000",
                    "1959-08-31T00:00:00.000000000",
                    "1959-09-30T00:00:00.000000000",
                    "1959-10-31T00:00:00.000000000",
                    "1959-11-30T00:00:00.000000000",
                    "1959-12-31T00:00:00.000000000",
                    "1960-01-31T00:00:00.000000000",
                    "1960-02-29T00:00:00.000000000",
                    "1960-03-31T00:00:00.000000000",
                    "1960-04-30T00:00:00.000000000",
                    "1960-05-31T00:00:00.000000000",
                    "1960-06-30T00:00:00.000000000",
                    "1960-07-31T00:00:00.000000000",
                    "1960-08-31T00:00:00.000000000",
                    "1960-09-30T00:00:00.000000000",
                    "1960-10-31T00:00:00.000000000",
                    "1960-11-30T00:00:00.000000000",
                    "1960-12-31T00:00:00.000000000",
                    "1961-01-31T00:00:00.000000000",
                    "1961-02-28T00:00:00.000000000",
                    "1961-03-31T00:00:00.000000000",
                    "1961-04-30T00:00:00.000000000",
                    "1961-05-31T00:00:00.000000000",
                    "1961-06-30T00:00:00.000000000",
                    "1961-07-31T00:00:00.000000000",
                    "1961-08-31T00:00:00.000000000",
                    "1961-09-30T00:00:00.000000000",
                    "1961-10-31T00:00:00.000000000",
                    "1961-11-30T00:00:00.000000000",
                    "1961-12-31T00:00:00.000000000",
                    "1962-01-31T00:00:00.000000000",
                    "1962-02-28T00:00:00.000000000",
                    "1962-03-31T00:00:00.000000000",
                    "1962-04-30T00:00:00.000000000",
                    "1962-05-31T00:00:00.000000000",
                    "1962-06-30T00:00:00.000000000",
                    "1962-07-31T00:00:00.000000000",
                    "1962-08-31T00:00:00.000000000",
                    "1962-09-30T00:00:00.000000000",
                    "1962-10-31T00:00:00.000000000",
                    "1962-11-30T00:00:00.000000000",
                    "1962-12-31T00:00:00.000000000",
                    "1963-01-31T00:00:00.000000000",
                    "1963-02-28T00:00:00.000000000",
                    "1963-03-31T00:00:00.000000000",
                    "1963-04-30T00:00:00.000000000",
                    "1963-05-31T00:00:00.000000000",
                    "1963-06-30T00:00:00.000000000",
                    "1963-07-31T00:00:00.000000000",
                    "1963-08-31T00:00:00.000000000",
                    "1963-09-30T00:00:00.000000000",
                    "1963-10-31T00:00:00.000000000",
                    "1963-11-30T00:00:00.000000000",
                    "1963-12-31T00:00:00.000000000",
                    "1964-01-31T00:00:00.000000000",
                    "1964-02-29T00:00:00.000000000",
                    "1964-03-31T00:00:00.000000000",
                    "1964-04-30T00:00:00.000000000",
                    "1964-05-31T00:00:00.000000000",
                    "1964-06-30T00:00:00.000000000",
                    "1964-07-31T00:00:00.000000000",
                    "1964-08-31T00:00:00.000000000",
                    "1964-09-30T00:00:00.000000000",
                    "1964-10-31T00:00:00.000000000",
                    "1964-11-30T00:00:00.000000000",
                    "1964-12-31T00:00:00.000000000"
                  ],
                  "xaxis": "x",
                  "y": {
                    "bdata": "AAAAAAAA+H8AAAAAAAD4fwAAAAAAAPh/AAAAAAAA+H8AAAAAAAD4fwAAAAAAAPh/AAAAAAAA+H8AAAAAAAD4fwAAAAAAAPh/AAAAAAAA+H8AAAAAAAD4fwAAAAAAAPh/AAAAAAAA+H8AAAAAAAD4fwAAAAAAAPh/AAAAAAAA+H8AAAAAAAD4fwAAAAAAAPh/AAAAAAAA+H8AAAAAAAD4fwAAAAAAAPh/AAAAAAAA+H8AAAAAAAD4fwAAAAAAAPh/AAAAAAAA+H8AAAAAAAD4fwAAAAAAAPh/AAAAAAAA+H8AAAAAAAD4fwAAAAAAAPh/AAAAAAAA+H8AAAAAAAD4fwAAAAAAAPh/AAAAAAAA+H8AAAAAAAD4fwAAAAAAAPh/AAAAAAAA+H8AAAAAAAD4fwAAAAAAAPh/AAAAAAAA+H8AAAAAAAD4fwAAAAAAAPh/AAAAAAAA+H8AAAAAAAD4fwAAAAAAAPh/AAAAAAAA+H8AAAAAAAD4fwAAAAAAAPh/AAAAAAAA+H8AAAAAAAD4fwAAAAAAAPh/AAAAAAAA+H8AAAAAAAD4fwAAAAAAAPh/AAAAAAAA+H8AAAAAAAD4fwAAAAAAAPh/AAAAAAAA+H8AAAAAAAD4fwAAAAAAAPh/AAAAAAAA+H8AAAAAAAD4fwAAAAAAAPh/AAAAAAAA+H8AAAAAAAD4fwAAAAAAAPh/AAAAAAAA+H8AAAAAAAD4fwAAAAAAAPh/AAAAAAAA+H8AAAAAAAD4fwAAAAAAAPh/AAAAAAAA+H8AAAAAAAD4fwAAAAAAAPh/AAAAAAAA+H8AAAAAAAD4fwAAAAAAAPh/AAAAAAAA+H8AAAAAAAD4fwAAAAAAAPh/AAAAAAAA+H8AAAAAAAD4fwAAAAAAAPh/AAAAAAAA+H8AAAAAAAD4fwAAAAAAAPh/AAAAAAAA+H8AAAAAAAD4fwAAAAAAAPh/AAAAAAAA+H8AAAAAAAD4fwAAAAAAAPh/AAAAAAAA+H8AAAAAAAD4fwAAAAAAAPh/AAAAAAAA+H8AAAAAAAD4fwAAAAAAAPh/AAAAAAAA+H8AAAAAAAD4fwAAAAAAAPh/AAAAAAAA+H8AAAAAAAD4fwAAAAAAAPh/AAAAAAAA+H8AAAAAAAD4fwAAAAAAAPh/AAAAAAAA+H8AAAAAAAD4fwAAAAAAAPh/AAAAAAAA+H8AAAAAAAD4fwAAAAAAAPh/AAAAAAAA+H8AAAAAAAD4fwAAAAAAAPh/AAAAAAAA+H8AAAAAAAD4fwAAAAAAAPh/AAAAAAAA+H8AAAAAAAD4fwAAAAAAAPh/AAAAAAAA+H8AAAAAAAD4fwAAAAAAAPh/AAAAAAAA+H8AAAAAAAD4fwAAAAAAAPh/AAAAAAAA+H8AAAAAAAD4fwAAAAAAAPh/AAAAAAAA+H8AAAAAAAD4fwAAAAAAAPh/AAAAAAAA+H8AAAAAAAD4fwAAAAAAAPh/AAAAAAAA+H8AAAAAAAD4fwAAAAAAAPh/AAAAAAAA+H8AAAAAAAD4fwAAAAAAAPh/pI/G+/MRfUAisaRnVKh8QLh02W9b0X5AEYyi90m3fkCaY8PuK/1+QLfirnYwxoBAdWHH1x8EgkC3b4BD2gaCQLBlnMzKgoBATuUBxYjSfkB0SoECV7V8QB6MOFyViX5Aceu95HRVf0DEK5t8s+F+QOjTbAy7loBAPQRlqhp6gEB/IE/JmqqAQGk2D2iS54FA5LVPstEqg0AwGjgM6SqDQKwU7yfbqoFAtFCPxx+NgEC9zQcVFAt/QGuEVpAXcoBA8kwyuDTMgECfl5zJv42AQP1i8WbOxIFAc6vmOZqYgUDKfrH0uNaBQIcnQXjfCINApS5JoGhRhEBMvgwj3U6EQNqCP7T20oJAkCAjSRmxgUA0FUPboLCAQG/jL1M2n4FA68kxA2rtgUDPWjomXM+BQFWXt09V0oJAI5ThS+XUgkC5KEOLWeqCQAbIyCJnPIRAm8cwqgB1hUB6N9XqXHqFQFJqlQNy8oNA1iCOQDPdgkB1db9qtMeBQJOABbb/roJA",
                    "dtype": "f8"
                  },
                  "yaxis": "y"
                },
                {
                  "hovertemplate": "variable=prophet_multiplicative<br>index=%{x}<br>value=%{y}<extra></extra>",
                  "legendgroup": "prophet_multiplicative",
                  "line": {
                    "color": "#00cc96",
                    "dash": "solid"
                  },
                  "marker": {
                    "symbol": "circle"
                  },
                  "mode": "lines",
                  "name": "prophet_multiplicative",
                  "orientation": "v",
                  "showlegend": true,
                  "type": "scatter",
                  "x": [
                    "1949-01-31T00:00:00.000000000",
                    "1949-02-28T00:00:00.000000000",
                    "1949-03-31T00:00:00.000000000",
                    "1949-04-30T00:00:00.000000000",
                    "1949-05-31T00:00:00.000000000",
                    "1949-06-30T00:00:00.000000000",
                    "1949-07-31T00:00:00.000000000",
                    "1949-08-31T00:00:00.000000000",
                    "1949-09-30T00:00:00.000000000",
                    "1949-10-31T00:00:00.000000000",
                    "1949-11-30T00:00:00.000000000",
                    "1949-12-31T00:00:00.000000000",
                    "1950-01-31T00:00:00.000000000",
                    "1950-02-28T00:00:00.000000000",
                    "1950-03-31T00:00:00.000000000",
                    "1950-04-30T00:00:00.000000000",
                    "1950-05-31T00:00:00.000000000",
                    "1950-06-30T00:00:00.000000000",
                    "1950-07-31T00:00:00.000000000",
                    "1950-08-31T00:00:00.000000000",
                    "1950-09-30T00:00:00.000000000",
                    "1950-10-31T00:00:00.000000000",
                    "1950-11-30T00:00:00.000000000",
                    "1950-12-31T00:00:00.000000000",
                    "1951-01-31T00:00:00.000000000",
                    "1951-02-28T00:00:00.000000000",
                    "1951-03-31T00:00:00.000000000",
                    "1951-04-30T00:00:00.000000000",
                    "1951-05-31T00:00:00.000000000",
                    "1951-06-30T00:00:00.000000000",
                    "1951-07-31T00:00:00.000000000",
                    "1951-08-31T00:00:00.000000000",
                    "1951-09-30T00:00:00.000000000",
                    "1951-10-31T00:00:00.000000000",
                    "1951-11-30T00:00:00.000000000",
                    "1951-12-31T00:00:00.000000000",
                    "1952-01-31T00:00:00.000000000",
                    "1952-02-29T00:00:00.000000000",
                    "1952-03-31T00:00:00.000000000",
                    "1952-04-30T00:00:00.000000000",
                    "1952-05-31T00:00:00.000000000",
                    "1952-06-30T00:00:00.000000000",
                    "1952-07-31T00:00:00.000000000",
                    "1952-08-31T00:00:00.000000000",
                    "1952-09-30T00:00:00.000000000",
                    "1952-10-31T00:00:00.000000000",
                    "1952-11-30T00:00:00.000000000",
                    "1952-12-31T00:00:00.000000000",
                    "1953-01-31T00:00:00.000000000",
                    "1953-02-28T00:00:00.000000000",
                    "1953-03-31T00:00:00.000000000",
                    "1953-04-30T00:00:00.000000000",
                    "1953-05-31T00:00:00.000000000",
                    "1953-06-30T00:00:00.000000000",
                    "1953-07-31T00:00:00.000000000",
                    "1953-08-31T00:00:00.000000000",
                    "1953-09-30T00:00:00.000000000",
                    "1953-10-31T00:00:00.000000000",
                    "1953-11-30T00:00:00.000000000",
                    "1953-12-31T00:00:00.000000000",
                    "1954-01-31T00:00:00.000000000",
                    "1954-02-28T00:00:00.000000000",
                    "1954-03-31T00:00:00.000000000",
                    "1954-04-30T00:00:00.000000000",
                    "1954-05-31T00:00:00.000000000",
                    "1954-06-30T00:00:00.000000000",
                    "1954-07-31T00:00:00.000000000",
                    "1954-08-31T00:00:00.000000000",
                    "1954-09-30T00:00:00.000000000",
                    "1954-10-31T00:00:00.000000000",
                    "1954-11-30T00:00:00.000000000",
                    "1954-12-31T00:00:00.000000000",
                    "1955-01-31T00:00:00.000000000",
                    "1955-02-28T00:00:00.000000000",
                    "1955-03-31T00:00:00.000000000",
                    "1955-04-30T00:00:00.000000000",
                    "1955-05-31T00:00:00.000000000",
                    "1955-06-30T00:00:00.000000000",
                    "1955-07-31T00:00:00.000000000",
                    "1955-08-31T00:00:00.000000000",
                    "1955-09-30T00:00:00.000000000",
                    "1955-10-31T00:00:00.000000000",
                    "1955-11-30T00:00:00.000000000",
                    "1955-12-31T00:00:00.000000000",
                    "1956-01-31T00:00:00.000000000",
                    "1956-02-29T00:00:00.000000000",
                    "1956-03-31T00:00:00.000000000",
                    "1956-04-30T00:00:00.000000000",
                    "1956-05-31T00:00:00.000000000",
                    "1956-06-30T00:00:00.000000000",
                    "1956-07-31T00:00:00.000000000",
                    "1956-08-31T00:00:00.000000000",
                    "1956-09-30T00:00:00.000000000",
                    "1956-10-31T00:00:00.000000000",
                    "1956-11-30T00:00:00.000000000",
                    "1956-12-31T00:00:00.000000000",
                    "1957-01-31T00:00:00.000000000",
                    "1957-02-28T00:00:00.000000000",
                    "1957-03-31T00:00:00.000000000",
                    "1957-04-30T00:00:00.000000000",
                    "1957-05-31T00:00:00.000000000",
                    "1957-06-30T00:00:00.000000000",
                    "1957-07-31T00:00:00.000000000",
                    "1957-08-31T00:00:00.000000000",
                    "1957-09-30T00:00:00.000000000",
                    "1957-10-31T00:00:00.000000000",
                    "1957-11-30T00:00:00.000000000",
                    "1957-12-31T00:00:00.000000000",
                    "1958-01-31T00:00:00.000000000",
                    "1958-02-28T00:00:00.000000000",
                    "1958-03-31T00:00:00.000000000",
                    "1958-04-30T00:00:00.000000000",
                    "1958-05-31T00:00:00.000000000",
                    "1958-06-30T00:00:00.000000000",
                    "1958-07-31T00:00:00.000000000",
                    "1958-08-31T00:00:00.000000000",
                    "1958-09-30T00:00:00.000000000",
                    "1958-10-31T00:00:00.000000000",
                    "1958-11-30T00:00:00.000000000",
                    "1958-12-31T00:00:00.000000000",
                    "1959-01-31T00:00:00.000000000",
                    "1959-02-28T00:00:00.000000000",
                    "1959-03-31T00:00:00.000000000",
                    "1959-04-30T00:00:00.000000000",
                    "1959-05-31T00:00:00.000000000",
                    "1959-06-30T00:00:00.000000000",
                    "1959-07-31T00:00:00.000000000",
                    "1959-08-31T00:00:00.000000000",
                    "1959-09-30T00:00:00.000000000",
                    "1959-10-31T00:00:00.000000000",
                    "1959-11-30T00:00:00.000000000",
                    "1959-12-31T00:00:00.000000000",
                    "1960-01-31T00:00:00.000000000",
                    "1960-02-29T00:00:00.000000000",
                    "1960-03-31T00:00:00.000000000",
                    "1960-04-30T00:00:00.000000000",
                    "1960-05-31T00:00:00.000000000",
                    "1960-06-30T00:00:00.000000000",
                    "1960-07-31T00:00:00.000000000",
                    "1960-08-31T00:00:00.000000000",
                    "1960-09-30T00:00:00.000000000",
                    "1960-10-31T00:00:00.000000000",
                    "1960-11-30T00:00:00.000000000",
                    "1960-12-31T00:00:00.000000000",
                    "1961-01-31T00:00:00.000000000",
                    "1961-02-28T00:00:00.000000000",
                    "1961-03-31T00:00:00.000000000",
                    "1961-04-30T00:00:00.000000000",
                    "1961-05-31T00:00:00.000000000",
                    "1961-06-30T00:00:00.000000000",
                    "1961-07-31T00:00:00.000000000",
                    "1961-08-31T00:00:00.000000000",
                    "1961-09-30T00:00:00.000000000",
                    "1961-10-31T00:00:00.000000000",
                    "1961-11-30T00:00:00.000000000",
                    "1961-12-31T00:00:00.000000000",
                    "1962-01-31T00:00:00.000000000",
                    "1962-02-28T00:00:00.000000000",
                    "1962-03-31T00:00:00.000000000",
                    "1962-04-30T00:00:00.000000000",
                    "1962-05-31T00:00:00.000000000",
                    "1962-06-30T00:00:00.000000000",
                    "1962-07-31T00:00:00.000000000",
                    "1962-08-31T00:00:00.000000000",
                    "1962-09-30T00:00:00.000000000",
                    "1962-10-31T00:00:00.000000000",
                    "1962-11-30T00:00:00.000000000",
                    "1962-12-31T00:00:00.000000000",
                    "1963-01-31T00:00:00.000000000",
                    "1963-02-28T00:00:00.000000000",
                    "1963-03-31T00:00:00.000000000",
                    "1963-04-30T00:00:00.000000000",
                    "1963-05-31T00:00:00.000000000",
                    "1963-06-30T00:00:00.000000000",
                    "1963-07-31T00:00:00.000000000",
                    "1963-08-31T00:00:00.000000000",
                    "1963-09-30T00:00:00.000000000",
                    "1963-10-31T00:00:00.000000000",
                    "1963-11-30T00:00:00.000000000",
                    "1963-12-31T00:00:00.000000000",
                    "1964-01-31T00:00:00.000000000",
                    "1964-02-29T00:00:00.000000000",
                    "1964-03-31T00:00:00.000000000",
                    "1964-04-30T00:00:00.000000000",
                    "1964-05-31T00:00:00.000000000",
                    "1964-06-30T00:00:00.000000000",
                    "1964-07-31T00:00:00.000000000",
                    "1964-08-31T00:00:00.000000000",
                    "1964-09-30T00:00:00.000000000",
                    "1964-10-31T00:00:00.000000000",
                    "1964-11-30T00:00:00.000000000",
                    "1964-12-31T00:00:00.000000000"
                  ],
                  "xaxis": "x",
                  "y": {
                    "bdata": "AAAAAAAA+H8AAAAAAAD4fwAAAAAAAPh/AAAAAAAA+H8AAAAAAAD4fwAAAAAAAPh/AAAAAAAA+H8AAAAAAAD4fwAAAAAAAPh/AAAAAAAA+H8AAAAAAAD4fwAAAAAAAPh/AAAAAAAA+H8AAAAAAAD4fwAAAAAAAPh/AAAAAAAA+H8AAAAAAAD4fwAAAAAAAPh/AAAAAAAA+H8AAAAAAAD4fwAAAAAAAPh/AAAAAAAA+H8AAAAAAAD4fwAAAAAAAPh/AAAAAAAA+H8AAAAAAAD4fwAAAAAAAPh/AAAAAAAA+H8AAAAAAAD4fwAAAAAAAPh/AAAAAAAA+H8AAAAAAAD4fwAAAAAAAPh/AAAAAAAA+H8AAAAAAAD4fwAAAAAAAPh/AAAAAAAA+H8AAAAAAAD4fwAAAAAAAPh/AAAAAAAA+H8AAAAAAAD4fwAAAAAAAPh/AAAAAAAA+H8AAAAAAAD4fwAAAAAAAPh/AAAAAAAA+H8AAAAAAAD4fwAAAAAAAPh/AAAAAAAA+H8AAAAAAAD4fwAAAAAAAPh/AAAAAAAA+H8AAAAAAAD4fwAAAAAAAPh/AAAAAAAA+H8AAAAAAAD4fwAAAAAAAPh/AAAAAAAA+H8AAAAAAAD4fwAAAAAAAPh/AAAAAAAA+H8AAAAAAAD4fwAAAAAAAPh/AAAAAAAA+H8AAAAAAAD4fwAAAAAAAPh/AAAAAAAA+H8AAAAAAAD4fwAAAAAAAPh/AAAAAAAA+H8AAAAAAAD4fwAAAAAAAPh/AAAAAAAA+H8AAAAAAAD4fwAAAAAAAPh/AAAAAAAA+H8AAAAAAAD4fwAAAAAAAPh/AAAAAAAA+H8AAAAAAAD4fwAAAAAAAPh/AAAAAAAA+H8AAAAAAAD4fwAAAAAAAPh/AAAAAAAA+H8AAAAAAAD4fwAAAAAAAPh/AAAAAAAA+H8AAAAAAAD4fwAAAAAAAPh/AAAAAAAA+H8AAAAAAAD4fwAAAAAAAPh/AAAAAAAA+H8AAAAAAAD4fwAAAAAAAPh/AAAAAAAA+H8AAAAAAAD4fwAAAAAAAPh/AAAAAAAA+H8AAAAAAAD4fwAAAAAAAPh/AAAAAAAA+H8AAAAAAAD4fwAAAAAAAPh/AAAAAAAA+H8AAAAAAAD4fwAAAAAAAPh/AAAAAAAA+H8AAAAAAAD4fwAAAAAAAPh/AAAAAAAA+H8AAAAAAAD4fwAAAAAAAPh/AAAAAAAA+H8AAAAAAAD4fwAAAAAAAPh/AAAAAAAA+H8AAAAAAAD4fwAAAAAAAPh/AAAAAAAA+H8AAAAAAAD4fwAAAAAAAPh/AAAAAAAA+H8AAAAAAAD4fwAAAAAAAPh/AAAAAAAA+H8AAAAAAAD4fwAAAAAAAPh/AAAAAAAA+H8AAAAAAAD4fwAAAAAAAPh/AAAAAAAA+H8AAAAAAAD4fwAAAAAAAPh/AAAAAAAA+H8AAAAAAAD4fwAAAAAAAPh/AAAAAAAA+H8AAAAAAAD4fwAAAAAAAPh/AAAAAAAA+H8AAAAAAAD4fwAAAAAAAPh/azjVQiv4e0DF1DMMmh17QPZ6P1nMtn5AJH1bk6jkfkAYcS8EWnd/QMvfXCqaGYJAhM8jcOpuhEDgJo3Ds1CEQA9tq7qOSoFA4sB+duyQfkBGp5PsyoR6QH4TbeN/kn1Auo2Ps/96fkA/yJpI8xd9QLbw5/i43IBA+AZnHo6VgEC7a95rVw6BQLJSUlTwgYNA9nd8gXQchkDAjs7yWhKGQDM2YhkquYJADJv+UK5qgECDMct1Gp18QPgRBCJe+39A1DLY7QqBgEBu5m8KAQd/QCboPZ59ZoJATyLYx0eygUBXMg+8FmKCQGAHjpNf54RA82s4muTKh0B22n0dCtiHQFQ7YheHKIRA2s6LVFKJgUBvdND2a7Z+QNmrHuHFM4FA1ok70JbGgUD3JsUq/S6BQDcy/vU5+oJAlMC9F8V7g0DJCVVF7p6DQMr4QgF0qYZABLjW7wZviUAAjjMSlCKJQMdr6qDEbIVAa/MJFSoOg0BwuDeOE2+AQBoF7UXEP4JA",
                    "dtype": "f8"
                  },
                  "yaxis": "y"
                }
              ],
              "layout": {
                "legend": {
                  "title": {
                    "text": "variable"
                  },
                  "tracegroupgap": 0
                },
                "margin": {
                  "t": 60
                },
                "template": {
                  "data": {
                    "bar": [
                      {
                        "error_x": {
                          "color": "#f2f5fa"
                        },
                        "error_y": {
                          "color": "#f2f5fa"
                        },
                        "marker": {
                          "line": {
                            "color": "rgb(17,17,17)",
                            "width": 0.5
                          },
                          "pattern": {
                            "fillmode": "overlay",
                            "size": 10,
                            "solidity": 0.2
                          }
                        },
                        "type": "bar"
                      }
                    ],
                    "barpolar": [
                      {
                        "marker": {
                          "line": {
                            "color": "rgb(17,17,17)",
                            "width": 0.5
                          },
                          "pattern": {
                            "fillmode": "overlay",
                            "size": 10,
                            "solidity": 0.2
                          }
                        },
                        "type": "barpolar"
                      }
                    ],
                    "carpet": [
                      {
                        "aaxis": {
                          "endlinecolor": "#A2B1C6",
                          "gridcolor": "#506784",
                          "linecolor": "#506784",
                          "minorgridcolor": "#506784",
                          "startlinecolor": "#A2B1C6"
                        },
                        "baxis": {
                          "endlinecolor": "#A2B1C6",
                          "gridcolor": "#506784",
                          "linecolor": "#506784",
                          "minorgridcolor": "#506784",
                          "startlinecolor": "#A2B1C6"
                        },
                        "type": "carpet"
                      }
                    ],
                    "choropleth": [
                      {
                        "colorbar": {
                          "outlinewidth": 0,
                          "ticks": ""
                        },
                        "type": "choropleth"
                      }
                    ],
                    "contour": [
                      {
                        "colorbar": {
                          "outlinewidth": 0,
                          "ticks": ""
                        },
                        "colorscale": [
                          [
                            0,
                            "#0d0887"
                          ],
                          [
                            0.1111111111111111,
                            "#46039f"
                          ],
                          [
                            0.2222222222222222,
                            "#7201a8"
                          ],
                          [
                            0.3333333333333333,
                            "#9c179e"
                          ],
                          [
                            0.4444444444444444,
                            "#bd3786"
                          ],
                          [
                            0.5555555555555556,
                            "#d8576b"
                          ],
                          [
                            0.6666666666666666,
                            "#ed7953"
                          ],
                          [
                            0.7777777777777778,
                            "#fb9f3a"
                          ],
                          [
                            0.8888888888888888,
                            "#fdca26"
                          ],
                          [
                            1,
                            "#f0f921"
                          ]
                        ],
                        "type": "contour"
                      }
                    ],
                    "contourcarpet": [
                      {
                        "colorbar": {
                          "outlinewidth": 0,
                          "ticks": ""
                        },
                        "type": "contourcarpet"
                      }
                    ],
                    "heatmap": [
                      {
                        "colorbar": {
                          "outlinewidth": 0,
                          "ticks": ""
                        },
                        "colorscale": [
                          [
                            0,
                            "#0d0887"
                          ],
                          [
                            0.1111111111111111,
                            "#46039f"
                          ],
                          [
                            0.2222222222222222,
                            "#7201a8"
                          ],
                          [
                            0.3333333333333333,
                            "#9c179e"
                          ],
                          [
                            0.4444444444444444,
                            "#bd3786"
                          ],
                          [
                            0.5555555555555556,
                            "#d8576b"
                          ],
                          [
                            0.6666666666666666,
                            "#ed7953"
                          ],
                          [
                            0.7777777777777778,
                            "#fb9f3a"
                          ],
                          [
                            0.8888888888888888,
                            "#fdca26"
                          ],
                          [
                            1,
                            "#f0f921"
                          ]
                        ],
                        "type": "heatmap"
                      }
                    ],
                    "histogram": [
                      {
                        "marker": {
                          "pattern": {
                            "fillmode": "overlay",
                            "size": 10,
                            "solidity": 0.2
                          }
                        },
                        "type": "histogram"
                      }
                    ],
                    "histogram2d": [
                      {
                        "colorbar": {
                          "outlinewidth": 0,
                          "ticks": ""
                        },
                        "colorscale": [
                          [
                            0,
                            "#0d0887"
                          ],
                          [
                            0.1111111111111111,
                            "#46039f"
                          ],
                          [
                            0.2222222222222222,
                            "#7201a8"
                          ],
                          [
                            0.3333333333333333,
                            "#9c179e"
                          ],
                          [
                            0.4444444444444444,
                            "#bd3786"
                          ],
                          [
                            0.5555555555555556,
                            "#d8576b"
                          ],
                          [
                            0.6666666666666666,
                            "#ed7953"
                          ],
                          [
                            0.7777777777777778,
                            "#fb9f3a"
                          ],
                          [
                            0.8888888888888888,
                            "#fdca26"
                          ],
                          [
                            1,
                            "#f0f921"
                          ]
                        ],
                        "type": "histogram2d"
                      }
                    ],
                    "histogram2dcontour": [
                      {
                        "colorbar": {
                          "outlinewidth": 0,
                          "ticks": ""
                        },
                        "colorscale": [
                          [
                            0,
                            "#0d0887"
                          ],
                          [
                            0.1111111111111111,
                            "#46039f"
                          ],
                          [
                            0.2222222222222222,
                            "#7201a8"
                          ],
                          [
                            0.3333333333333333,
                            "#9c179e"
                          ],
                          [
                            0.4444444444444444,
                            "#bd3786"
                          ],
                          [
                            0.5555555555555556,
                            "#d8576b"
                          ],
                          [
                            0.6666666666666666,
                            "#ed7953"
                          ],
                          [
                            0.7777777777777778,
                            "#fb9f3a"
                          ],
                          [
                            0.8888888888888888,
                            "#fdca26"
                          ],
                          [
                            1,
                            "#f0f921"
                          ]
                        ],
                        "type": "histogram2dcontour"
                      }
                    ],
                    "mesh3d": [
                      {
                        "colorbar": {
                          "outlinewidth": 0,
                          "ticks": ""
                        },
                        "type": "mesh3d"
                      }
                    ],
                    "parcoords": [
                      {
                        "line": {
                          "colorbar": {
                            "outlinewidth": 0,
                            "ticks": ""
                          }
                        },
                        "type": "parcoords"
                      }
                    ],
                    "pie": [
                      {
                        "automargin": true,
                        "type": "pie"
                      }
                    ],
                    "scatter": [
                      {
                        "marker": {
                          "line": {
                            "color": "#283442"
                          }
                        },
                        "type": "scatter"
                      }
                    ],
                    "scatter3d": [
                      {
                        "line": {
                          "colorbar": {
                            "outlinewidth": 0,
                            "ticks": ""
                          }
                        },
                        "marker": {
                          "colorbar": {
                            "outlinewidth": 0,
                            "ticks": ""
                          }
                        },
                        "type": "scatter3d"
                      }
                    ],
                    "scattercarpet": [
                      {
                        "marker": {
                          "colorbar": {
                            "outlinewidth": 0,
                            "ticks": ""
                          }
                        },
                        "type": "scattercarpet"
                      }
                    ],
                    "scattergeo": [
                      {
                        "marker": {
                          "colorbar": {
                            "outlinewidth": 0,
                            "ticks": ""
                          }
                        },
                        "type": "scattergeo"
                      }
                    ],
                    "scattergl": [
                      {
                        "marker": {
                          "line": {
                            "color": "#283442"
                          }
                        },
                        "type": "scattergl"
                      }
                    ],
                    "scattermap": [
                      {
                        "marker": {
                          "colorbar": {
                            "outlinewidth": 0,
                            "ticks": ""
                          }
                        },
                        "type": "scattermap"
                      }
                    ],
                    "scattermapbox": [
                      {
                        "marker": {
                          "colorbar": {
                            "outlinewidth": 0,
                            "ticks": ""
                          }
                        },
                        "type": "scattermapbox"
                      }
                    ],
                    "scatterpolar": [
                      {
                        "marker": {
                          "colorbar": {
                            "outlinewidth": 0,
                            "ticks": ""
                          }
                        },
                        "type": "scatterpolar"
                      }
                    ],
                    "scatterpolargl": [
                      {
                        "marker": {
                          "colorbar": {
                            "outlinewidth": 0,
                            "ticks": ""
                          }
                        },
                        "type": "scatterpolargl"
                      }
                    ],
                    "scatterternary": [
                      {
                        "marker": {
                          "colorbar": {
                            "outlinewidth": 0,
                            "ticks": ""
                          }
                        },
                        "type": "scatterternary"
                      }
                    ],
                    "surface": [
                      {
                        "colorbar": {
                          "outlinewidth": 0,
                          "ticks": ""
                        },
                        "colorscale": [
                          [
                            0,
                            "#0d0887"
                          ],
                          [
                            0.1111111111111111,
                            "#46039f"
                          ],
                          [
                            0.2222222222222222,
                            "#7201a8"
                          ],
                          [
                            0.3333333333333333,
                            "#9c179e"
                          ],
                          [
                            0.4444444444444444,
                            "#bd3786"
                          ],
                          [
                            0.5555555555555556,
                            "#d8576b"
                          ],
                          [
                            0.6666666666666666,
                            "#ed7953"
                          ],
                          [
                            0.7777777777777778,
                            "#fb9f3a"
                          ],
                          [
                            0.8888888888888888,
                            "#fdca26"
                          ],
                          [
                            1,
                            "#f0f921"
                          ]
                        ],
                        "type": "surface"
                      }
                    ],
                    "table": [
                      {
                        "cells": {
                          "fill": {
                            "color": "#506784"
                          },
                          "line": {
                            "color": "rgb(17,17,17)"
                          }
                        },
                        "header": {
                          "fill": {
                            "color": "#2a3f5f"
                          },
                          "line": {
                            "color": "rgb(17,17,17)"
                          }
                        },
                        "type": "table"
                      }
                    ]
                  },
                  "layout": {
                    "annotationdefaults": {
                      "arrowcolor": "#f2f5fa",
                      "arrowhead": 0,
                      "arrowwidth": 1
                    },
                    "autosize": false,
                    "autotypenumbers": "strict",
                    "coloraxis": {
                      "colorbar": {
                        "outlinewidth": 0,
                        "ticks": ""
                      }
                    },
                    "colorscale": {
                      "diverging": [
                        [
                          0,
                          "#8e0152"
                        ],
                        [
                          0.1,
                          "#c51b7d"
                        ],
                        [
                          0.2,
                          "#de77ae"
                        ],
                        [
                          0.3,
                          "#f1b6da"
                        ],
                        [
                          0.4,
                          "#fde0ef"
                        ],
                        [
                          0.5,
                          "#f7f7f7"
                        ],
                        [
                          0.6,
                          "#e6f5d0"
                        ],
                        [
                          0.7,
                          "#b8e186"
                        ],
                        [
                          0.8,
                          "#7fbc41"
                        ],
                        [
                          0.9,
                          "#4d9221"
                        ],
                        [
                          1,
                          "#276419"
                        ]
                      ],
                      "sequential": [
                        [
                          0,
                          "#0d0887"
                        ],
                        [
                          0.1111111111111111,
                          "#46039f"
                        ],
                        [
                          0.2222222222222222,
                          "#7201a8"
                        ],
                        [
                          0.3333333333333333,
                          "#9c179e"
                        ],
                        [
                          0.4444444444444444,
                          "#bd3786"
                        ],
                        [
                          0.5555555555555556,
                          "#d8576b"
                        ],
                        [
                          0.6666666666666666,
                          "#ed7953"
                        ],
                        [
                          0.7777777777777778,
                          "#fb9f3a"
                        ],
                        [
                          0.8888888888888888,
                          "#fdca26"
                        ],
                        [
                          1,
                          "#f0f921"
                        ]
                      ],
                      "sequentialminus": [
                        [
                          0,
                          "#0d0887"
                        ],
                        [
                          0.1111111111111111,
                          "#46039f"
                        ],
                        [
                          0.2222222222222222,
                          "#7201a8"
                        ],
                        [
                          0.3333333333333333,
                          "#9c179e"
                        ],
                        [
                          0.4444444444444444,
                          "#bd3786"
                        ],
                        [
                          0.5555555555555556,
                          "#d8576b"
                        ],
                        [
                          0.6666666666666666,
                          "#ed7953"
                        ],
                        [
                          0.7777777777777778,
                          "#fb9f3a"
                        ],
                        [
                          0.8888888888888888,
                          "#fdca26"
                        ],
                        [
                          1,
                          "#f0f921"
                        ]
                      ]
                    },
                    "colorway": [
                      "#636efa",
                      "#EF553B",
                      "#00cc96",
                      "#ab63fa",
                      "#FFA15A",
                      "#19d3f3",
                      "#FF6692",
                      "#B6E880",
                      "#FF97FF",
                      "#FECB52"
                    ],
                    "font": {
                      "color": "#f2f5fa"
                    },
                    "geo": {
                      "bgcolor": "rgb(17,17,17)",
                      "lakecolor": "rgb(17,17,17)",
                      "landcolor": "rgb(17,17,17)",
                      "showlakes": true,
                      "showland": true,
                      "subunitcolor": "#506784"
                    },
                    "height": 500,
                    "hoverlabel": {
                      "align": "left"
                    },
                    "hovermode": "closest",
                    "mapbox": {
                      "style": "dark"
                    },
                    "paper_bgcolor": "rgb(17,17,17)",
                    "plot_bgcolor": "rgb(17,17,17)",
                    "polar": {
                      "angularaxis": {
                        "gridcolor": "#506784",
                        "linecolor": "#506784",
                        "ticks": ""
                      },
                      "bgcolor": "rgb(17,17,17)",
                      "radialaxis": {
                        "gridcolor": "#506784",
                        "linecolor": "#506784",
                        "ticks": ""
                      }
                    },
                    "scene": {
                      "xaxis": {
                        "backgroundcolor": "rgb(17,17,17)",
                        "gridcolor": "#506784",
                        "gridwidth": 2,
                        "linecolor": "#506784",
                        "showbackground": true,
                        "ticks": "",
                        "zerolinecolor": "#C8D4E3"
                      },
                      "yaxis": {
                        "backgroundcolor": "rgb(17,17,17)",
                        "gridcolor": "#506784",
                        "gridwidth": 2,
                        "linecolor": "#506784",
                        "showbackground": true,
                        "ticks": "",
                        "zerolinecolor": "#C8D4E3"
                      },
                      "zaxis": {
                        "backgroundcolor": "rgb(17,17,17)",
                        "gridcolor": "#506784",
                        "gridwidth": 2,
                        "linecolor": "#506784",
                        "showbackground": true,
                        "ticks": "",
                        "zerolinecolor": "#C8D4E3"
                      }
                    },
                    "shapedefaults": {
                      "line": {
                        "color": "#f2f5fa"
                      }
                    },
                    "showlegend": true,
                    "sliderdefaults": {
                      "bgcolor": "#C8D4E3",
                      "bordercolor": "rgb(17,17,17)",
                      "borderwidth": 1,
                      "tickwidth": 0
                    },
                    "ternary": {
                      "aaxis": {
                        "gridcolor": "#506784",
                        "linecolor": "#506784",
                        "ticks": ""
                      },
                      "baxis": {
                        "gridcolor": "#506784",
                        "linecolor": "#506784",
                        "ticks": ""
                      },
                      "bgcolor": "rgb(17,17,17)",
                      "caxis": {
                        "gridcolor": "#506784",
                        "linecolor": "#506784",
                        "ticks": ""
                      }
                    },
                    "title": {
                      "x": 0.05
                    },
                    "updatemenudefaults": {
                      "bgcolor": "#506784",
                      "borderwidth": 0
                    },
                    "width": 1000,
                    "xaxis": {
                      "automargin": true,
                      "gridcolor": "#283442",
                      "linecolor": "#506784",
                      "ticks": "",
                      "title": {
                        "standoff": 15
                      },
                      "zerolinecolor": "#283442",
                      "zerolinewidth": 2
                    },
                    "yaxis": {
                      "automargin": true,
                      "gridcolor": "#283442",
                      "linecolor": "#506784",
                      "ticks": "",
                      "title": {
                        "standoff": 15
                      },
                      "zerolinecolor": "#283442",
                      "zerolinewidth": 2
                    }
                  }
                },
                "xaxis": {
                  "anchor": "y",
                  "domain": [
                    0,
                    1
                  ],
                  "title": {
                    "text": "index"
                  }
                },
                "yaxis": {
                  "anchor": "x",
                  "domain": [
                    0,
                    1
                  ],
                  "title": {
                    "text": "value"
                  }
                }
              }
            }
          },
          "metadata": {},
          "output_type": "display_data"
        }
      ],
      "source": [
        "df.plot()"
      ]
    },
    {
      "cell_type": "markdown",
      "id": "5909d0bc",
      "metadata": {},
      "source": [
        "### SARIMA vs Exponential Smoothing vs Prophet"
      ]
    },
    {
      "cell_type": "code",
      "execution_count": 14,
      "id": "0d1b2d72",
      "metadata": {},
      "outputs": [
        {
          "name": "stderr",
          "output_type": "stream",
          "text": [
            "/Users/sota/miniforge3/envs/time-series/lib/python3.12/site-packages/statsmodels/base/model.py:607: ConvergenceWarning:\n",
            "\n",
            "Maximum Likelihood optimization failed to converge. Check mle_retvals\n",
            "\n",
            "22:39:06 - cmdstanpy - INFO - Chain [1] start processing\n",
            "22:39:06 - cmdstanpy - INFO - Chain [1] done processing\n"
          ]
        },
        {
          "data": {
            "application/vnd.plotly.v1+json": {
              "config": {
                "plotlyServerURL": "https://plot.ly"
              },
              "data": [
                {
                  "hovertemplate": "variable=values<br>index=%{x}<br>value=%{y}<extra></extra>",
                  "legendgroup": "values",
                  "line": {
                    "color": "#636efa",
                    "dash": "solid"
                  },
                  "marker": {
                    "symbol": "circle"
                  },
                  "mode": "lines",
                  "name": "values",
                  "showlegend": true,
                  "type": "scattergl",
                  "x": [
                    "1949-01-31T00:00:00.000000000",
                    "1949-02-28T00:00:00.000000000",
                    "1949-03-31T00:00:00.000000000",
                    "1949-04-30T00:00:00.000000000",
                    "1949-05-31T00:00:00.000000000",
                    "1949-06-30T00:00:00.000000000",
                    "1949-07-31T00:00:00.000000000",
                    "1949-08-31T00:00:00.000000000",
                    "1949-09-30T00:00:00.000000000",
                    "1949-10-31T00:00:00.000000000",
                    "1949-11-30T00:00:00.000000000",
                    "1949-12-31T00:00:00.000000000",
                    "1950-01-31T00:00:00.000000000",
                    "1950-02-28T00:00:00.000000000",
                    "1950-03-31T00:00:00.000000000",
                    "1950-04-30T00:00:00.000000000",
                    "1950-05-31T00:00:00.000000000",
                    "1950-06-30T00:00:00.000000000",
                    "1950-07-31T00:00:00.000000000",
                    "1950-08-31T00:00:00.000000000",
                    "1950-09-30T00:00:00.000000000",
                    "1950-10-31T00:00:00.000000000",
                    "1950-11-30T00:00:00.000000000",
                    "1950-12-31T00:00:00.000000000",
                    "1951-01-31T00:00:00.000000000",
                    "1951-02-28T00:00:00.000000000",
                    "1951-03-31T00:00:00.000000000",
                    "1951-04-30T00:00:00.000000000",
                    "1951-05-31T00:00:00.000000000",
                    "1951-06-30T00:00:00.000000000",
                    "1951-07-31T00:00:00.000000000",
                    "1951-08-31T00:00:00.000000000",
                    "1951-09-30T00:00:00.000000000",
                    "1951-10-31T00:00:00.000000000",
                    "1951-11-30T00:00:00.000000000",
                    "1951-12-31T00:00:00.000000000",
                    "1952-01-31T00:00:00.000000000",
                    "1952-02-29T00:00:00.000000000",
                    "1952-03-31T00:00:00.000000000",
                    "1952-04-30T00:00:00.000000000",
                    "1952-05-31T00:00:00.000000000",
                    "1952-06-30T00:00:00.000000000",
                    "1952-07-31T00:00:00.000000000",
                    "1952-08-31T00:00:00.000000000",
                    "1952-09-30T00:00:00.000000000",
                    "1952-10-31T00:00:00.000000000",
                    "1952-11-30T00:00:00.000000000",
                    "1952-12-31T00:00:00.000000000",
                    "1953-01-31T00:00:00.000000000",
                    "1953-02-28T00:00:00.000000000",
                    "1953-03-31T00:00:00.000000000",
                    "1953-04-30T00:00:00.000000000",
                    "1953-05-31T00:00:00.000000000",
                    "1953-06-30T00:00:00.000000000",
                    "1953-07-31T00:00:00.000000000",
                    "1953-08-31T00:00:00.000000000",
                    "1953-09-30T00:00:00.000000000",
                    "1953-10-31T00:00:00.000000000",
                    "1953-11-30T00:00:00.000000000",
                    "1953-12-31T00:00:00.000000000",
                    "1954-01-31T00:00:00.000000000",
                    "1954-02-28T00:00:00.000000000",
                    "1954-03-31T00:00:00.000000000",
                    "1954-04-30T00:00:00.000000000",
                    "1954-05-31T00:00:00.000000000",
                    "1954-06-30T00:00:00.000000000",
                    "1954-07-31T00:00:00.000000000",
                    "1954-08-31T00:00:00.000000000",
                    "1954-09-30T00:00:00.000000000",
                    "1954-10-31T00:00:00.000000000",
                    "1954-11-30T00:00:00.000000000",
                    "1954-12-31T00:00:00.000000000",
                    "1955-01-31T00:00:00.000000000",
                    "1955-02-28T00:00:00.000000000",
                    "1955-03-31T00:00:00.000000000",
                    "1955-04-30T00:00:00.000000000",
                    "1955-05-31T00:00:00.000000000",
                    "1955-06-30T00:00:00.000000000",
                    "1955-07-31T00:00:00.000000000",
                    "1955-08-31T00:00:00.000000000",
                    "1955-09-30T00:00:00.000000000",
                    "1955-10-31T00:00:00.000000000",
                    "1955-11-30T00:00:00.000000000",
                    "1955-12-31T00:00:00.000000000",
                    "1956-01-31T00:00:00.000000000",
                    "1956-02-29T00:00:00.000000000",
                    "1956-03-31T00:00:00.000000000",
                    "1956-04-30T00:00:00.000000000",
                    "1956-05-31T00:00:00.000000000",
                    "1956-06-30T00:00:00.000000000",
                    "1956-07-31T00:00:00.000000000",
                    "1956-08-31T00:00:00.000000000",
                    "1956-09-30T00:00:00.000000000",
                    "1956-10-31T00:00:00.000000000",
                    "1956-11-30T00:00:00.000000000",
                    "1956-12-31T00:00:00.000000000",
                    "1957-01-31T00:00:00.000000000",
                    "1957-02-28T00:00:00.000000000",
                    "1957-03-31T00:00:00.000000000",
                    "1957-04-30T00:00:00.000000000",
                    "1957-05-31T00:00:00.000000000",
                    "1957-06-30T00:00:00.000000000",
                    "1957-07-31T00:00:00.000000000",
                    "1957-08-31T00:00:00.000000000",
                    "1957-09-30T00:00:00.000000000",
                    "1957-10-31T00:00:00.000000000",
                    "1957-11-30T00:00:00.000000000",
                    "1957-12-31T00:00:00.000000000",
                    "1958-01-31T00:00:00.000000000",
                    "1958-02-28T00:00:00.000000000",
                    "1958-03-31T00:00:00.000000000",
                    "1958-04-30T00:00:00.000000000",
                    "1958-05-31T00:00:00.000000000",
                    "1958-06-30T00:00:00.000000000",
                    "1958-07-31T00:00:00.000000000",
                    "1958-08-31T00:00:00.000000000",
                    "1958-09-30T00:00:00.000000000",
                    "1958-10-31T00:00:00.000000000",
                    "1958-11-30T00:00:00.000000000",
                    "1958-12-31T00:00:00.000000000",
                    "1959-01-31T00:00:00.000000000",
                    "1959-02-28T00:00:00.000000000",
                    "1959-03-31T00:00:00.000000000",
                    "1959-04-30T00:00:00.000000000",
                    "1959-05-31T00:00:00.000000000",
                    "1959-06-30T00:00:00.000000000",
                    "1959-07-31T00:00:00.000000000",
                    "1959-08-31T00:00:00.000000000",
                    "1959-09-30T00:00:00.000000000",
                    "1959-10-31T00:00:00.000000000",
                    "1959-11-30T00:00:00.000000000",
                    "1959-12-31T00:00:00.000000000",
                    "1960-01-31T00:00:00.000000000",
                    "1960-02-29T00:00:00.000000000",
                    "1960-03-31T00:00:00.000000000",
                    "1960-04-30T00:00:00.000000000",
                    "1960-05-31T00:00:00.000000000",
                    "1960-06-30T00:00:00.000000000",
                    "1960-07-31T00:00:00.000000000",
                    "1960-08-31T00:00:00.000000000",
                    "1960-09-30T00:00:00.000000000",
                    "1960-10-31T00:00:00.000000000",
                    "1960-11-30T00:00:00.000000000",
                    "1960-12-31T00:00:00.000000000",
                    "1961-01-31T00:00:00.000000000",
                    "1961-02-28T00:00:00.000000000",
                    "1961-03-31T00:00:00.000000000",
                    "1961-04-30T00:00:00.000000000",
                    "1961-05-31T00:00:00.000000000",
                    "1961-06-30T00:00:00.000000000",
                    "1961-07-31T00:00:00.000000000",
                    "1961-08-31T00:00:00.000000000",
                    "1961-09-30T00:00:00.000000000",
                    "1961-10-31T00:00:00.000000000",
                    "1961-11-30T00:00:00.000000000",
                    "1961-12-31T00:00:00.000000000",
                    "1962-01-31T00:00:00.000000000",
                    "1962-02-28T00:00:00.000000000",
                    "1962-03-31T00:00:00.000000000",
                    "1962-04-30T00:00:00.000000000",
                    "1962-05-31T00:00:00.000000000",
                    "1962-06-30T00:00:00.000000000",
                    "1962-07-31T00:00:00.000000000",
                    "1962-08-31T00:00:00.000000000",
                    "1962-09-30T00:00:00.000000000",
                    "1962-10-31T00:00:00.000000000",
                    "1962-11-30T00:00:00.000000000",
                    "1962-12-31T00:00:00.000000000",
                    "1963-01-31T00:00:00.000000000",
                    "1963-02-28T00:00:00.000000000",
                    "1963-03-31T00:00:00.000000000",
                    "1963-04-30T00:00:00.000000000",
                    "1963-05-31T00:00:00.000000000",
                    "1963-06-30T00:00:00.000000000",
                    "1963-07-31T00:00:00.000000000",
                    "1963-08-31T00:00:00.000000000",
                    "1963-09-30T00:00:00.000000000",
                    "1963-10-31T00:00:00.000000000",
                    "1963-11-30T00:00:00.000000000",
                    "1963-12-31T00:00:00.000000000",
                    "1964-01-31T00:00:00.000000000",
                    "1964-02-29T00:00:00.000000000",
                    "1964-03-31T00:00:00.000000000",
                    "1964-04-30T00:00:00.000000000",
                    "1964-05-31T00:00:00.000000000",
                    "1964-06-30T00:00:00.000000000",
                    "1964-07-31T00:00:00.000000000",
                    "1964-08-31T00:00:00.000000000",
                    "1964-09-30T00:00:00.000000000",
                    "1964-10-31T00:00:00.000000000",
                    "1964-11-30T00:00:00.000000000",
                    "1964-12-31T00:00:00.000000000",
                    "1965-01-31T00:00:00.000000000",
                    "1965-02-28T00:00:00.000000000",
                    "1965-03-31T00:00:00.000000000",
                    "1965-04-30T00:00:00.000000000",
                    "1965-05-31T00:00:00.000000000",
                    "1965-06-30T00:00:00.000000000",
                    "1965-07-31T00:00:00.000000000",
                    "1965-08-31T00:00:00.000000000",
                    "1965-09-30T00:00:00.000000000",
                    "1965-10-31T00:00:00.000000000",
                    "1965-11-30T00:00:00.000000000",
                    "1965-12-31T00:00:00.000000000",
                    "1966-01-31T00:00:00.000000000",
                    "1966-02-28T00:00:00.000000000",
                    "1966-03-31T00:00:00.000000000",
                    "1966-04-30T00:00:00.000000000",
                    "1966-05-31T00:00:00.000000000",
                    "1966-06-30T00:00:00.000000000",
                    "1966-07-31T00:00:00.000000000",
                    "1966-08-31T00:00:00.000000000",
                    "1966-09-30T00:00:00.000000000",
                    "1966-10-31T00:00:00.000000000",
                    "1966-11-30T00:00:00.000000000",
                    "1966-12-31T00:00:00.000000000",
                    "1967-01-31T00:00:00.000000000",
                    "1967-02-28T00:00:00.000000000",
                    "1967-03-31T00:00:00.000000000",
                    "1967-04-30T00:00:00.000000000",
                    "1967-05-31T00:00:00.000000000",
                    "1967-06-30T00:00:00.000000000",
                    "1967-07-31T00:00:00.000000000",
                    "1967-08-31T00:00:00.000000000",
                    "1967-09-30T00:00:00.000000000",
                    "1967-10-31T00:00:00.000000000",
                    "1967-11-30T00:00:00.000000000",
                    "1967-12-31T00:00:00.000000000",
                    "1968-01-31T00:00:00.000000000",
                    "1968-02-29T00:00:00.000000000",
                    "1968-03-31T00:00:00.000000000",
                    "1968-04-30T00:00:00.000000000",
                    "1968-05-31T00:00:00.000000000",
                    "1968-06-30T00:00:00.000000000",
                    "1968-07-31T00:00:00.000000000",
                    "1968-08-31T00:00:00.000000000",
                    "1968-09-30T00:00:00.000000000",
                    "1968-10-31T00:00:00.000000000",
                    "1968-11-30T00:00:00.000000000",
                    "1968-12-31T00:00:00.000000000"
                  ],
                  "xaxis": "x",
                  "y": {
                    "bdata": "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",
                    "dtype": "f8"
                  },
                  "yaxis": "y"
                },
                {
                  "hovertemplate": "variable=ARIMA(12,1,1)<br>index=%{x}<br>value=%{y}<extra></extra>",
                  "legendgroup": "ARIMA(12,1,1)",
                  "line": {
                    "color": "#EF553B",
                    "dash": "solid"
                  },
                  "marker": {
                    "symbol": "circle"
                  },
                  "mode": "lines",
                  "name": "ARIMA(12,1,1)",
                  "showlegend": true,
                  "type": "scattergl",
                  "x": [
                    "1949-01-31T00:00:00.000000000",
                    "1949-02-28T00:00:00.000000000",
                    "1949-03-31T00:00:00.000000000",
                    "1949-04-30T00:00:00.000000000",
                    "1949-05-31T00:00:00.000000000",
                    "1949-06-30T00:00:00.000000000",
                    "1949-07-31T00:00:00.000000000",
                    "1949-08-31T00:00:00.000000000",
                    "1949-09-30T00:00:00.000000000",
                    "1949-10-31T00:00:00.000000000",
                    "1949-11-30T00:00:00.000000000",
                    "1949-12-31T00:00:00.000000000",
                    "1950-01-31T00:00:00.000000000",
                    "1950-02-28T00:00:00.000000000",
                    "1950-03-31T00:00:00.000000000",
                    "1950-04-30T00:00:00.000000000",
                    "1950-05-31T00:00:00.000000000",
                    "1950-06-30T00:00:00.000000000",
                    "1950-07-31T00:00:00.000000000",
                    "1950-08-31T00:00:00.000000000",
                    "1950-09-30T00:00:00.000000000",
                    "1950-10-31T00:00:00.000000000",
                    "1950-11-30T00:00:00.000000000",
                    "1950-12-31T00:00:00.000000000",
                    "1951-01-31T00:00:00.000000000",
                    "1951-02-28T00:00:00.000000000",
                    "1951-03-31T00:00:00.000000000",
                    "1951-04-30T00:00:00.000000000",
                    "1951-05-31T00:00:00.000000000",
                    "1951-06-30T00:00:00.000000000",
                    "1951-07-31T00:00:00.000000000",
                    "1951-08-31T00:00:00.000000000",
                    "1951-09-30T00:00:00.000000000",
                    "1951-10-31T00:00:00.000000000",
                    "1951-11-30T00:00:00.000000000",
                    "1951-12-31T00:00:00.000000000",
                    "1952-01-31T00:00:00.000000000",
                    "1952-02-29T00:00:00.000000000",
                    "1952-03-31T00:00:00.000000000",
                    "1952-04-30T00:00:00.000000000",
                    "1952-05-31T00:00:00.000000000",
                    "1952-06-30T00:00:00.000000000",
                    "1952-07-31T00:00:00.000000000",
                    "1952-08-31T00:00:00.000000000",
                    "1952-09-30T00:00:00.000000000",
                    "1952-10-31T00:00:00.000000000",
                    "1952-11-30T00:00:00.000000000",
                    "1952-12-31T00:00:00.000000000",
                    "1953-01-31T00:00:00.000000000",
                    "1953-02-28T00:00:00.000000000",
                    "1953-03-31T00:00:00.000000000",
                    "1953-04-30T00:00:00.000000000",
                    "1953-05-31T00:00:00.000000000",
                    "1953-06-30T00:00:00.000000000",
                    "1953-07-31T00:00:00.000000000",
                    "1953-08-31T00:00:00.000000000",
                    "1953-09-30T00:00:00.000000000",
                    "1953-10-31T00:00:00.000000000",
                    "1953-11-30T00:00:00.000000000",
                    "1953-12-31T00:00:00.000000000",
                    "1954-01-31T00:00:00.000000000",
                    "1954-02-28T00:00:00.000000000",
                    "1954-03-31T00:00:00.000000000",
                    "1954-04-30T00:00:00.000000000",
                    "1954-05-31T00:00:00.000000000",
                    "1954-06-30T00:00:00.000000000",
                    "1954-07-31T00:00:00.000000000",
                    "1954-08-31T00:00:00.000000000",
                    "1954-09-30T00:00:00.000000000",
                    "1954-10-31T00:00:00.000000000",
                    "1954-11-30T00:00:00.000000000",
                    "1954-12-31T00:00:00.000000000",
                    "1955-01-31T00:00:00.000000000",
                    "1955-02-28T00:00:00.000000000",
                    "1955-03-31T00:00:00.000000000",
                    "1955-04-30T00:00:00.000000000",
                    "1955-05-31T00:00:00.000000000",
                    "1955-06-30T00:00:00.000000000",
                    "1955-07-31T00:00:00.000000000",
                    "1955-08-31T00:00:00.000000000",
                    "1955-09-30T00:00:00.000000000",
                    "1955-10-31T00:00:00.000000000",
                    "1955-11-30T00:00:00.000000000",
                    "1955-12-31T00:00:00.000000000",
                    "1956-01-31T00:00:00.000000000",
                    "1956-02-29T00:00:00.000000000",
                    "1956-03-31T00:00:00.000000000",
                    "1956-04-30T00:00:00.000000000",
                    "1956-05-31T00:00:00.000000000",
                    "1956-06-30T00:00:00.000000000",
                    "1956-07-31T00:00:00.000000000",
                    "1956-08-31T00:00:00.000000000",
                    "1956-09-30T00:00:00.000000000",
                    "1956-10-31T00:00:00.000000000",
                    "1956-11-30T00:00:00.000000000",
                    "1956-12-31T00:00:00.000000000",
                    "1957-01-31T00:00:00.000000000",
                    "1957-02-28T00:00:00.000000000",
                    "1957-03-31T00:00:00.000000000",
                    "1957-04-30T00:00:00.000000000",
                    "1957-05-31T00:00:00.000000000",
                    "1957-06-30T00:00:00.000000000",
                    "1957-07-31T00:00:00.000000000",
                    "1957-08-31T00:00:00.000000000",
                    "1957-09-30T00:00:00.000000000",
                    "1957-10-31T00:00:00.000000000",
                    "1957-11-30T00:00:00.000000000",
                    "1957-12-31T00:00:00.000000000",
                    "1958-01-31T00:00:00.000000000",
                    "1958-02-28T00:00:00.000000000",
                    "1958-03-31T00:00:00.000000000",
                    "1958-04-30T00:00:00.000000000",
                    "1958-05-31T00:00:00.000000000",
                    "1958-06-30T00:00:00.000000000",
                    "1958-07-31T00:00:00.000000000",
                    "1958-08-31T00:00:00.000000000",
                    "1958-09-30T00:00:00.000000000",
                    "1958-10-31T00:00:00.000000000",
                    "1958-11-30T00:00:00.000000000",
                    "1958-12-31T00:00:00.000000000",
                    "1959-01-31T00:00:00.000000000",
                    "1959-02-28T00:00:00.000000000",
                    "1959-03-31T00:00:00.000000000",
                    "1959-04-30T00:00:00.000000000",
                    "1959-05-31T00:00:00.000000000",
                    "1959-06-30T00:00:00.000000000",
                    "1959-07-31T00:00:00.000000000",
                    "1959-08-31T00:00:00.000000000",
                    "1959-09-30T00:00:00.000000000",
                    "1959-10-31T00:00:00.000000000",
                    "1959-11-30T00:00:00.000000000",
                    "1959-12-31T00:00:00.000000000",
                    "1960-01-31T00:00:00.000000000",
                    "1960-02-29T00:00:00.000000000",
                    "1960-03-31T00:00:00.000000000",
                    "1960-04-30T00:00:00.000000000",
                    "1960-05-31T00:00:00.000000000",
                    "1960-06-30T00:00:00.000000000",
                    "1960-07-31T00:00:00.000000000",
                    "1960-08-31T00:00:00.000000000",
                    "1960-09-30T00:00:00.000000000",
                    "1960-10-31T00:00:00.000000000",
                    "1960-11-30T00:00:00.000000000",
                    "1960-12-31T00:00:00.000000000",
                    "1961-01-31T00:00:00.000000000",
                    "1961-02-28T00:00:00.000000000",
                    "1961-03-31T00:00:00.000000000",
                    "1961-04-30T00:00:00.000000000",
                    "1961-05-31T00:00:00.000000000",
                    "1961-06-30T00:00:00.000000000",
                    "1961-07-31T00:00:00.000000000",
                    "1961-08-31T00:00:00.000000000",
                    "1961-09-30T00:00:00.000000000",
                    "1961-10-31T00:00:00.000000000",
                    "1961-11-30T00:00:00.000000000",
                    "1961-12-31T00:00:00.000000000",
                    "1962-01-31T00:00:00.000000000",
                    "1962-02-28T00:00:00.000000000",
                    "1962-03-31T00:00:00.000000000",
                    "1962-04-30T00:00:00.000000000",
                    "1962-05-31T00:00:00.000000000",
                    "1962-06-30T00:00:00.000000000",
                    "1962-07-31T00:00:00.000000000",
                    "1962-08-31T00:00:00.000000000",
                    "1962-09-30T00:00:00.000000000",
                    "1962-10-31T00:00:00.000000000",
                    "1962-11-30T00:00:00.000000000",
                    "1962-12-31T00:00:00.000000000",
                    "1963-01-31T00:00:00.000000000",
                    "1963-02-28T00:00:00.000000000",
                    "1963-03-31T00:00:00.000000000",
                    "1963-04-30T00:00:00.000000000",
                    "1963-05-31T00:00:00.000000000",
                    "1963-06-30T00:00:00.000000000",
                    "1963-07-31T00:00:00.000000000",
                    "1963-08-31T00:00:00.000000000",
                    "1963-09-30T00:00:00.000000000",
                    "1963-10-31T00:00:00.000000000",
                    "1963-11-30T00:00:00.000000000",
                    "1963-12-31T00:00:00.000000000",
                    "1964-01-31T00:00:00.000000000",
                    "1964-02-29T00:00:00.000000000",
                    "1964-03-31T00:00:00.000000000",
                    "1964-04-30T00:00:00.000000000",
                    "1964-05-31T00:00:00.000000000",
                    "1964-06-30T00:00:00.000000000",
                    "1964-07-31T00:00:00.000000000",
                    "1964-08-31T00:00:00.000000000",
                    "1964-09-30T00:00:00.000000000",
                    "1964-10-31T00:00:00.000000000",
                    "1964-11-30T00:00:00.000000000",
                    "1964-12-31T00:00:00.000000000",
                    "1965-01-31T00:00:00.000000000",
                    "1965-02-28T00:00:00.000000000",
                    "1965-03-31T00:00:00.000000000",
                    "1965-04-30T00:00:00.000000000",
                    "1965-05-31T00:00:00.000000000",
                    "1965-06-30T00:00:00.000000000",
                    "1965-07-31T00:00:00.000000000",
                    "1965-08-31T00:00:00.000000000",
                    "1965-09-30T00:00:00.000000000",
                    "1965-10-31T00:00:00.000000000",
                    "1965-11-30T00:00:00.000000000",
                    "1965-12-31T00:00:00.000000000",
                    "1966-01-31T00:00:00.000000000",
                    "1966-02-28T00:00:00.000000000",
                    "1966-03-31T00:00:00.000000000",
                    "1966-04-30T00:00:00.000000000",
                    "1966-05-31T00:00:00.000000000",
                    "1966-06-30T00:00:00.000000000",
                    "1966-07-31T00:00:00.000000000",
                    "1966-08-31T00:00:00.000000000",
                    "1966-09-30T00:00:00.000000000",
                    "1966-10-31T00:00:00.000000000",
                    "1966-11-30T00:00:00.000000000",
                    "1966-12-31T00:00:00.000000000",
                    "1967-01-31T00:00:00.000000000",
                    "1967-02-28T00:00:00.000000000",
                    "1967-03-31T00:00:00.000000000",
                    "1967-04-30T00:00:00.000000000",
                    "1967-05-31T00:00:00.000000000",
                    "1967-06-30T00:00:00.000000000",
                    "1967-07-31T00:00:00.000000000",
                    "1967-08-31T00:00:00.000000000",
                    "1967-09-30T00:00:00.000000000",
                    "1967-10-31T00:00:00.000000000",
                    "1967-11-30T00:00:00.000000000",
                    "1967-12-31T00:00:00.000000000",
                    "1968-01-31T00:00:00.000000000",
                    "1968-02-29T00:00:00.000000000",
                    "1968-03-31T00:00:00.000000000",
                    "1968-04-30T00:00:00.000000000",
                    "1968-05-31T00:00:00.000000000",
                    "1968-06-30T00:00:00.000000000",
                    "1968-07-31T00:00:00.000000000",
                    "1968-08-31T00:00:00.000000000",
                    "1968-09-30T00:00:00.000000000",
                    "1968-10-31T00:00:00.000000000",
                    "1968-11-30T00:00:00.000000000",
                    "1968-12-31T00:00:00.000000000"
                  ],
                  "xaxis": "x",
                  "y": {
                    "bdata": "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",
                    "dtype": "f8"
                  },
                  "yaxis": "y"
                },
                {
                  "hovertemplate": "variable=SARIMA(0,1,1)(0,1,1,12)<br>index=%{x}<br>value=%{y}<extra></extra>",
                  "legendgroup": "SARIMA(0,1,1)(0,1,1,12)",
                  "line": {
                    "color": "#00cc96",
                    "dash": "solid"
                  },
                  "marker": {
                    "symbol": "circle"
                  },
                  "mode": "lines",
                  "name": "SARIMA(0,1,1)(0,1,1,12)",
                  "showlegend": true,
                  "type": "scattergl",
                  "x": [
                    "1949-01-31T00:00:00.000000000",
                    "1949-02-28T00:00:00.000000000",
                    "1949-03-31T00:00:00.000000000",
                    "1949-04-30T00:00:00.000000000",
                    "1949-05-31T00:00:00.000000000",
                    "1949-06-30T00:00:00.000000000",
                    "1949-07-31T00:00:00.000000000",
                    "1949-08-31T00:00:00.000000000",
                    "1949-09-30T00:00:00.000000000",
                    "1949-10-31T00:00:00.000000000",
                    "1949-11-30T00:00:00.000000000",
                    "1949-12-31T00:00:00.000000000",
                    "1950-01-31T00:00:00.000000000",
                    "1950-02-28T00:00:00.000000000",
                    "1950-03-31T00:00:00.000000000",
                    "1950-04-30T00:00:00.000000000",
                    "1950-05-31T00:00:00.000000000",
                    "1950-06-30T00:00:00.000000000",
                    "1950-07-31T00:00:00.000000000",
                    "1950-08-31T00:00:00.000000000",
                    "1950-09-30T00:00:00.000000000",
                    "1950-10-31T00:00:00.000000000",
                    "1950-11-30T00:00:00.000000000",
                    "1950-12-31T00:00:00.000000000",
                    "1951-01-31T00:00:00.000000000",
                    "1951-02-28T00:00:00.000000000",
                    "1951-03-31T00:00:00.000000000",
                    "1951-04-30T00:00:00.000000000",
                    "1951-05-31T00:00:00.000000000",
                    "1951-06-30T00:00:00.000000000",
                    "1951-07-31T00:00:00.000000000",
                    "1951-08-31T00:00:00.000000000",
                    "1951-09-30T00:00:00.000000000",
                    "1951-10-31T00:00:00.000000000",
                    "1951-11-30T00:00:00.000000000",
                    "1951-12-31T00:00:00.000000000",
                    "1952-01-31T00:00:00.000000000",
                    "1952-02-29T00:00:00.000000000",
                    "1952-03-31T00:00:00.000000000",
                    "1952-04-30T00:00:00.000000000",
                    "1952-05-31T00:00:00.000000000",
                    "1952-06-30T00:00:00.000000000",
                    "1952-07-31T00:00:00.000000000",
                    "1952-08-31T00:00:00.000000000",
                    "1952-09-30T00:00:00.000000000",
                    "1952-10-31T00:00:00.000000000",
                    "1952-11-30T00:00:00.000000000",
                    "1952-12-31T00:00:00.000000000",
                    "1953-01-31T00:00:00.000000000",
                    "1953-02-28T00:00:00.000000000",
                    "1953-03-31T00:00:00.000000000",
                    "1953-04-30T00:00:00.000000000",
                    "1953-05-31T00:00:00.000000000",
                    "1953-06-30T00:00:00.000000000",
                    "1953-07-31T00:00:00.000000000",
                    "1953-08-31T00:00:00.000000000",
                    "1953-09-30T00:00:00.000000000",
                    "1953-10-31T00:00:00.000000000",
                    "1953-11-30T00:00:00.000000000",
                    "1953-12-31T00:00:00.000000000",
                    "1954-01-31T00:00:00.000000000",
                    "1954-02-28T00:00:00.000000000",
                    "1954-03-31T00:00:00.000000000",
                    "1954-04-30T00:00:00.000000000",
                    "1954-05-31T00:00:00.000000000",
                    "1954-06-30T00:00:00.000000000",
                    "1954-07-31T00:00:00.000000000",
                    "1954-08-31T00:00:00.000000000",
                    "1954-09-30T00:00:00.000000000",
                    "1954-10-31T00:00:00.000000000",
                    "1954-11-30T00:00:00.000000000",
                    "1954-12-31T00:00:00.000000000",
                    "1955-01-31T00:00:00.000000000",
                    "1955-02-28T00:00:00.000000000",
                    "1955-03-31T00:00:00.000000000",
                    "1955-04-30T00:00:00.000000000",
                    "1955-05-31T00:00:00.000000000",
                    "1955-06-30T00:00:00.000000000",
                    "1955-07-31T00:00:00.000000000",
                    "1955-08-31T00:00:00.000000000",
                    "1955-09-30T00:00:00.000000000",
                    "1955-10-31T00:00:00.000000000",
                    "1955-11-30T00:00:00.000000000",
                    "1955-12-31T00:00:00.000000000",
                    "1956-01-31T00:00:00.000000000",
                    "1956-02-29T00:00:00.000000000",
                    "1956-03-31T00:00:00.000000000",
                    "1956-04-30T00:00:00.000000000",
                    "1956-05-31T00:00:00.000000000",
                    "1956-06-30T00:00:00.000000000",
                    "1956-07-31T00:00:00.000000000",
                    "1956-08-31T00:00:00.000000000",
                    "1956-09-30T00:00:00.000000000",
                    "1956-10-31T00:00:00.000000000",
                    "1956-11-30T00:00:00.000000000",
                    "1956-12-31T00:00:00.000000000",
                    "1957-01-31T00:00:00.000000000",
                    "1957-02-28T00:00:00.000000000",
                    "1957-03-31T00:00:00.000000000",
                    "1957-04-30T00:00:00.000000000",
                    "1957-05-31T00:00:00.000000000",
                    "1957-06-30T00:00:00.000000000",
                    "1957-07-31T00:00:00.000000000",
                    "1957-08-31T00:00:00.000000000",
                    "1957-09-30T00:00:00.000000000",
                    "1957-10-31T00:00:00.000000000",
                    "1957-11-30T00:00:00.000000000",
                    "1957-12-31T00:00:00.000000000",
                    "1958-01-31T00:00:00.000000000",
                    "1958-02-28T00:00:00.000000000",
                    "1958-03-31T00:00:00.000000000",
                    "1958-04-30T00:00:00.000000000",
                    "1958-05-31T00:00:00.000000000",
                    "1958-06-30T00:00:00.000000000",
                    "1958-07-31T00:00:00.000000000",
                    "1958-08-31T00:00:00.000000000",
                    "1958-09-30T00:00:00.000000000",
                    "1958-10-31T00:00:00.000000000",
                    "1958-11-30T00:00:00.000000000",
                    "1958-12-31T00:00:00.000000000",
                    "1959-01-31T00:00:00.000000000",
                    "1959-02-28T00:00:00.000000000",
                    "1959-03-31T00:00:00.000000000",
                    "1959-04-30T00:00:00.000000000",
                    "1959-05-31T00:00:00.000000000",
                    "1959-06-30T00:00:00.000000000",
                    "1959-07-31T00:00:00.000000000",
                    "1959-08-31T00:00:00.000000000",
                    "1959-09-30T00:00:00.000000000",
                    "1959-10-31T00:00:00.000000000",
                    "1959-11-30T00:00:00.000000000",
                    "1959-12-31T00:00:00.000000000",
                    "1960-01-31T00:00:00.000000000",
                    "1960-02-29T00:00:00.000000000",
                    "1960-03-31T00:00:00.000000000",
                    "1960-04-30T00:00:00.000000000",
                    "1960-05-31T00:00:00.000000000",
                    "1960-06-30T00:00:00.000000000",
                    "1960-07-31T00:00:00.000000000",
                    "1960-08-31T00:00:00.000000000",
                    "1960-09-30T00:00:00.000000000",
                    "1960-10-31T00:00:00.000000000",
                    "1960-11-30T00:00:00.000000000",
                    "1960-12-31T00:00:00.000000000",
                    "1961-01-31T00:00:00.000000000",
                    "1961-02-28T00:00:00.000000000",
                    "1961-03-31T00:00:00.000000000",
                    "1961-04-30T00:00:00.000000000",
                    "1961-05-31T00:00:00.000000000",
                    "1961-06-30T00:00:00.000000000",
                    "1961-07-31T00:00:00.000000000",
                    "1961-08-31T00:00:00.000000000",
                    "1961-09-30T00:00:00.000000000",
                    "1961-10-31T00:00:00.000000000",
                    "1961-11-30T00:00:00.000000000",
                    "1961-12-31T00:00:00.000000000",
                    "1962-01-31T00:00:00.000000000",
                    "1962-02-28T00:00:00.000000000",
                    "1962-03-31T00:00:00.000000000",
                    "1962-04-30T00:00:00.000000000",
                    "1962-05-31T00:00:00.000000000",
                    "1962-06-30T00:00:00.000000000",
                    "1962-07-31T00:00:00.000000000",
                    "1962-08-31T00:00:00.000000000",
                    "1962-09-30T00:00:00.000000000",
                    "1962-10-31T00:00:00.000000000",
                    "1962-11-30T00:00:00.000000000",
                    "1962-12-31T00:00:00.000000000",
                    "1963-01-31T00:00:00.000000000",
                    "1963-02-28T00:00:00.000000000",
                    "1963-03-31T00:00:00.000000000",
                    "1963-04-30T00:00:00.000000000",
                    "1963-05-31T00:00:00.000000000",
                    "1963-06-30T00:00:00.000000000",
                    "1963-07-31T00:00:00.000000000",
                    "1963-08-31T00:00:00.000000000",
                    "1963-09-30T00:00:00.000000000",
                    "1963-10-31T00:00:00.000000000",
                    "1963-11-30T00:00:00.000000000",
                    "1963-12-31T00:00:00.000000000",
                    "1964-01-31T00:00:00.000000000",
                    "1964-02-29T00:00:00.000000000",
                    "1964-03-31T00:00:00.000000000",
                    "1964-04-30T00:00:00.000000000",
                    "1964-05-31T00:00:00.000000000",
                    "1964-06-30T00:00:00.000000000",
                    "1964-07-31T00:00:00.000000000",
                    "1964-08-31T00:00:00.000000000",
                    "1964-09-30T00:00:00.000000000",
                    "1964-10-31T00:00:00.000000000",
                    "1964-11-30T00:00:00.000000000",
                    "1964-12-31T00:00:00.000000000",
                    "1965-01-31T00:00:00.000000000",
                    "1965-02-28T00:00:00.000000000",
                    "1965-03-31T00:00:00.000000000",
                    "1965-04-30T00:00:00.000000000",
                    "1965-05-31T00:00:00.000000000",
                    "1965-06-30T00:00:00.000000000",
                    "1965-07-31T00:00:00.000000000",
                    "1965-08-31T00:00:00.000000000",
                    "1965-09-30T00:00:00.000000000",
                    "1965-10-31T00:00:00.000000000",
                    "1965-11-30T00:00:00.000000000",
                    "1965-12-31T00:00:00.000000000",
                    "1966-01-31T00:00:00.000000000",
                    "1966-02-28T00:00:00.000000000",
                    "1966-03-31T00:00:00.000000000",
                    "1966-04-30T00:00:00.000000000",
                    "1966-05-31T00:00:00.000000000",
                    "1966-06-30T00:00:00.000000000",
                    "1966-07-31T00:00:00.000000000",
                    "1966-08-31T00:00:00.000000000",
                    "1966-09-30T00:00:00.000000000",
                    "1966-10-31T00:00:00.000000000",
                    "1966-11-30T00:00:00.000000000",
                    "1966-12-31T00:00:00.000000000",
                    "1967-01-31T00:00:00.000000000",
                    "1967-02-28T00:00:00.000000000",
                    "1967-03-31T00:00:00.000000000",
                    "1967-04-30T00:00:00.000000000",
                    "1967-05-31T00:00:00.000000000",
                    "1967-06-30T00:00:00.000000000",
                    "1967-07-31T00:00:00.000000000",
                    "1967-08-31T00:00:00.000000000",
                    "1967-09-30T00:00:00.000000000",
                    "1967-10-31T00:00:00.000000000",
                    "1967-11-30T00:00:00.000000000",
                    "1967-12-31T00:00:00.000000000",
                    "1968-01-31T00:00:00.000000000",
                    "1968-02-29T00:00:00.000000000",
                    "1968-03-31T00:00:00.000000000",
                    "1968-04-30T00:00:00.000000000",
                    "1968-05-31T00:00:00.000000000",
                    "1968-06-30T00:00:00.000000000",
                    "1968-07-31T00:00:00.000000000",
                    "1968-08-31T00:00:00.000000000",
                    "1968-09-30T00:00:00.000000000",
                    "1968-10-31T00:00:00.000000000",
                    "1968-11-30T00:00:00.000000000",
                    "1968-12-31T00:00:00.000000000"
                  ],
                  "xaxis": "x",
                  "y": {
                    "bdata": "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",
                    "dtype": "f8"
                  },
                  "yaxis": "y"
                },
                {
                  "hovertemplate": "variable=ExponentialSmoothing<br>index=%{x}<br>value=%{y}<extra></extra>",
                  "legendgroup": "ExponentialSmoothing",
                  "line": {
                    "color": "#ab63fa",
                    "dash": "solid"
                  },
                  "marker": {
                    "symbol": "circle"
                  },
                  "mode": "lines",
                  "name": "ExponentialSmoothing",
                  "showlegend": true,
                  "type": "scattergl",
                  "x": [
                    "1949-01-31T00:00:00.000000000",
                    "1949-02-28T00:00:00.000000000",
                    "1949-03-31T00:00:00.000000000",
                    "1949-04-30T00:00:00.000000000",
                    "1949-05-31T00:00:00.000000000",
                    "1949-06-30T00:00:00.000000000",
                    "1949-07-31T00:00:00.000000000",
                    "1949-08-31T00:00:00.000000000",
                    "1949-09-30T00:00:00.000000000",
                    "1949-10-31T00:00:00.000000000",
                    "1949-11-30T00:00:00.000000000",
                    "1949-12-31T00:00:00.000000000",
                    "1950-01-31T00:00:00.000000000",
                    "1950-02-28T00:00:00.000000000",
                    "1950-03-31T00:00:00.000000000",
                    "1950-04-30T00:00:00.000000000",
                    "1950-05-31T00:00:00.000000000",
                    "1950-06-30T00:00:00.000000000",
                    "1950-07-31T00:00:00.000000000",
                    "1950-08-31T00:00:00.000000000",
                    "1950-09-30T00:00:00.000000000",
                    "1950-10-31T00:00:00.000000000",
                    "1950-11-30T00:00:00.000000000",
                    "1950-12-31T00:00:00.000000000",
                    "1951-01-31T00:00:00.000000000",
                    "1951-02-28T00:00:00.000000000",
                    "1951-03-31T00:00:00.000000000",
                    "1951-04-30T00:00:00.000000000",
                    "1951-05-31T00:00:00.000000000",
                    "1951-06-30T00:00:00.000000000",
                    "1951-07-31T00:00:00.000000000",
                    "1951-08-31T00:00:00.000000000",
                    "1951-09-30T00:00:00.000000000",
                    "1951-10-31T00:00:00.000000000",
                    "1951-11-30T00:00:00.000000000",
                    "1951-12-31T00:00:00.000000000",
                    "1952-01-31T00:00:00.000000000",
                    "1952-02-29T00:00:00.000000000",
                    "1952-03-31T00:00:00.000000000",
                    "1952-04-30T00:00:00.000000000",
                    "1952-05-31T00:00:00.000000000",
                    "1952-06-30T00:00:00.000000000",
                    "1952-07-31T00:00:00.000000000",
                    "1952-08-31T00:00:00.000000000",
                    "1952-09-30T00:00:00.000000000",
                    "1952-10-31T00:00:00.000000000",
                    "1952-11-30T00:00:00.000000000",
                    "1952-12-31T00:00:00.000000000",
                    "1953-01-31T00:00:00.000000000",
                    "1953-02-28T00:00:00.000000000",
                    "1953-03-31T00:00:00.000000000",
                    "1953-04-30T00:00:00.000000000",
                    "1953-05-31T00:00:00.000000000",
                    "1953-06-30T00:00:00.000000000",
                    "1953-07-31T00:00:00.000000000",
                    "1953-08-31T00:00:00.000000000",
                    "1953-09-30T00:00:00.000000000",
                    "1953-10-31T00:00:00.000000000",
                    "1953-11-30T00:00:00.000000000",
                    "1953-12-31T00:00:00.000000000",
                    "1954-01-31T00:00:00.000000000",
                    "1954-02-28T00:00:00.000000000",
                    "1954-03-31T00:00:00.000000000",
                    "1954-04-30T00:00:00.000000000",
                    "1954-05-31T00:00:00.000000000",
                    "1954-06-30T00:00:00.000000000",
                    "1954-07-31T00:00:00.000000000",
                    "1954-08-31T00:00:00.000000000",
                    "1954-09-30T00:00:00.000000000",
                    "1954-10-31T00:00:00.000000000",
                    "1954-11-30T00:00:00.000000000",
                    "1954-12-31T00:00:00.000000000",
                    "1955-01-31T00:00:00.000000000",
                    "1955-02-28T00:00:00.000000000",
                    "1955-03-31T00:00:00.000000000",
                    "1955-04-30T00:00:00.000000000",
                    "1955-05-31T00:00:00.000000000",
                    "1955-06-30T00:00:00.000000000",
                    "1955-07-31T00:00:00.000000000",
                    "1955-08-31T00:00:00.000000000",
                    "1955-09-30T00:00:00.000000000",
                    "1955-10-31T00:00:00.000000000",
                    "1955-11-30T00:00:00.000000000",
                    "1955-12-31T00:00:00.000000000",
                    "1956-01-31T00:00:00.000000000",
                    "1956-02-29T00:00:00.000000000",
                    "1956-03-31T00:00:00.000000000",
                    "1956-04-30T00:00:00.000000000",
                    "1956-05-31T00:00:00.000000000",
                    "1956-06-30T00:00:00.000000000",
                    "1956-07-31T00:00:00.000000000",
                    "1956-08-31T00:00:00.000000000",
                    "1956-09-30T00:00:00.000000000",
                    "1956-10-31T00:00:00.000000000",
                    "1956-11-30T00:00:00.000000000",
                    "1956-12-31T00:00:00.000000000",
                    "1957-01-31T00:00:00.000000000",
                    "1957-02-28T00:00:00.000000000",
                    "1957-03-31T00:00:00.000000000",
                    "1957-04-30T00:00:00.000000000",
                    "1957-05-31T00:00:00.000000000",
                    "1957-06-30T00:00:00.000000000",
                    "1957-07-31T00:00:00.000000000",
                    "1957-08-31T00:00:00.000000000",
                    "1957-09-30T00:00:00.000000000",
                    "1957-10-31T00:00:00.000000000",
                    "1957-11-30T00:00:00.000000000",
                    "1957-12-31T00:00:00.000000000",
                    "1958-01-31T00:00:00.000000000",
                    "1958-02-28T00:00:00.000000000",
                    "1958-03-31T00:00:00.000000000",
                    "1958-04-30T00:00:00.000000000",
                    "1958-05-31T00:00:00.000000000",
                    "1958-06-30T00:00:00.000000000",
                    "1958-07-31T00:00:00.000000000",
                    "1958-08-31T00:00:00.000000000",
                    "1958-09-30T00:00:00.000000000",
                    "1958-10-31T00:00:00.000000000",
                    "1958-11-30T00:00:00.000000000",
                    "1958-12-31T00:00:00.000000000",
                    "1959-01-31T00:00:00.000000000",
                    "1959-02-28T00:00:00.000000000",
                    "1959-03-31T00:00:00.000000000",
                    "1959-04-30T00:00:00.000000000",
                    "1959-05-31T00:00:00.000000000",
                    "1959-06-30T00:00:00.000000000",
                    "1959-07-31T00:00:00.000000000",
                    "1959-08-31T00:00:00.000000000",
                    "1959-09-30T00:00:00.000000000",
                    "1959-10-31T00:00:00.000000000",
                    "1959-11-30T00:00:00.000000000",
                    "1959-12-31T00:00:00.000000000",
                    "1960-01-31T00:00:00.000000000",
                    "1960-02-29T00:00:00.000000000",
                    "1960-03-31T00:00:00.000000000",
                    "1960-04-30T00:00:00.000000000",
                    "1960-05-31T00:00:00.000000000",
                    "1960-06-30T00:00:00.000000000",
                    "1960-07-31T00:00:00.000000000",
                    "1960-08-31T00:00:00.000000000",
                    "1960-09-30T00:00:00.000000000",
                    "1960-10-31T00:00:00.000000000",
                    "1960-11-30T00:00:00.000000000",
                    "1960-12-31T00:00:00.000000000",
                    "1961-01-31T00:00:00.000000000",
                    "1961-02-28T00:00:00.000000000",
                    "1961-03-31T00:00:00.000000000",
                    "1961-04-30T00:00:00.000000000",
                    "1961-05-31T00:00:00.000000000",
                    "1961-06-30T00:00:00.000000000",
                    "1961-07-31T00:00:00.000000000",
                    "1961-08-31T00:00:00.000000000",
                    "1961-09-30T00:00:00.000000000",
                    "1961-10-31T00:00:00.000000000",
                    "1961-11-30T00:00:00.000000000",
                    "1961-12-31T00:00:00.000000000",
                    "1962-01-31T00:00:00.000000000",
                    "1962-02-28T00:00:00.000000000",
                    "1962-03-31T00:00:00.000000000",
                    "1962-04-30T00:00:00.000000000",
                    "1962-05-31T00:00:00.000000000",
                    "1962-06-30T00:00:00.000000000",
                    "1962-07-31T00:00:00.000000000",
                    "1962-08-31T00:00:00.000000000",
                    "1962-09-30T00:00:00.000000000",
                    "1962-10-31T00:00:00.000000000",
                    "1962-11-30T00:00:00.000000000",
                    "1962-12-31T00:00:00.000000000",
                    "1963-01-31T00:00:00.000000000",
                    "1963-02-28T00:00:00.000000000",
                    "1963-03-31T00:00:00.000000000",
                    "1963-04-30T00:00:00.000000000",
                    "1963-05-31T00:00:00.000000000",
                    "1963-06-30T00:00:00.000000000",
                    "1963-07-31T00:00:00.000000000",
                    "1963-08-31T00:00:00.000000000",
                    "1963-09-30T00:00:00.000000000",
                    "1963-10-31T00:00:00.000000000",
                    "1963-11-30T00:00:00.000000000",
                    "1963-12-31T00:00:00.000000000",
                    "1964-01-31T00:00:00.000000000",
                    "1964-02-29T00:00:00.000000000",
                    "1964-03-31T00:00:00.000000000",
                    "1964-04-30T00:00:00.000000000",
                    "1964-05-31T00:00:00.000000000",
                    "1964-06-30T00:00:00.000000000",
                    "1964-07-31T00:00:00.000000000",
                    "1964-08-31T00:00:00.000000000",
                    "1964-09-30T00:00:00.000000000",
                    "1964-10-31T00:00:00.000000000",
                    "1964-11-30T00:00:00.000000000",
                    "1964-12-31T00:00:00.000000000",
                    "1965-01-31T00:00:00.000000000",
                    "1965-02-28T00:00:00.000000000",
                    "1965-03-31T00:00:00.000000000",
                    "1965-04-30T00:00:00.000000000",
                    "1965-05-31T00:00:00.000000000",
                    "1965-06-30T00:00:00.000000000",
                    "1965-07-31T00:00:00.000000000",
                    "1965-08-31T00:00:00.000000000",
                    "1965-09-30T00:00:00.000000000",
                    "1965-10-31T00:00:00.000000000",
                    "1965-11-30T00:00:00.000000000",
                    "1965-12-31T00:00:00.000000000",
                    "1966-01-31T00:00:00.000000000",
                    "1966-02-28T00:00:00.000000000",
                    "1966-03-31T00:00:00.000000000",
                    "1966-04-30T00:00:00.000000000",
                    "1966-05-31T00:00:00.000000000",
                    "1966-06-30T00:00:00.000000000",
                    "1966-07-31T00:00:00.000000000",
                    "1966-08-31T00:00:00.000000000",
                    "1966-09-30T00:00:00.000000000",
                    "1966-10-31T00:00:00.000000000",
                    "1966-11-30T00:00:00.000000000",
                    "1966-12-31T00:00:00.000000000",
                    "1967-01-31T00:00:00.000000000",
                    "1967-02-28T00:00:00.000000000",
                    "1967-03-31T00:00:00.000000000",
                    "1967-04-30T00:00:00.000000000",
                    "1967-05-31T00:00:00.000000000",
                    "1967-06-30T00:00:00.000000000",
                    "1967-07-31T00:00:00.000000000",
                    "1967-08-31T00:00:00.000000000",
                    "1967-09-30T00:00:00.000000000",
                    "1967-10-31T00:00:00.000000000",
                    "1967-11-30T00:00:00.000000000",
                    "1967-12-31T00:00:00.000000000",
                    "1968-01-31T00:00:00.000000000",
                    "1968-02-29T00:00:00.000000000",
                    "1968-03-31T00:00:00.000000000",
                    "1968-04-30T00:00:00.000000000",
                    "1968-05-31T00:00:00.000000000",
                    "1968-06-30T00:00:00.000000000",
                    "1968-07-31T00:00:00.000000000",
                    "1968-08-31T00:00:00.000000000",
                    "1968-09-30T00:00:00.000000000",
                    "1968-10-31T00:00:00.000000000",
                    "1968-11-30T00:00:00.000000000",
                    "1968-12-31T00:00:00.000000000"
                  ],
                  "xaxis": "x",
                  "y": {
                    "bdata": "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",
                    "dtype": "f8"
                  },
                  "yaxis": "y"
                },
                {
                  "hovertemplate": "variable=prophet_multiplicative<br>index=%{x}<br>value=%{y}<extra></extra>",
                  "legendgroup": "prophet_multiplicative",
                  "line": {
                    "color": "#FFA15A",
                    "dash": "solid"
                  },
                  "marker": {
                    "symbol": "circle"
                  },
                  "mode": "lines",
                  "name": "prophet_multiplicative",
                  "showlegend": true,
                  "type": "scattergl",
                  "x": [
                    "1949-01-31T00:00:00.000000000",
                    "1949-02-28T00:00:00.000000000",
                    "1949-03-31T00:00:00.000000000",
                    "1949-04-30T00:00:00.000000000",
                    "1949-05-31T00:00:00.000000000",
                    "1949-06-30T00:00:00.000000000",
                    "1949-07-31T00:00:00.000000000",
                    "1949-08-31T00:00:00.000000000",
                    "1949-09-30T00:00:00.000000000",
                    "1949-10-31T00:00:00.000000000",
                    "1949-11-30T00:00:00.000000000",
                    "1949-12-31T00:00:00.000000000",
                    "1950-01-31T00:00:00.000000000",
                    "1950-02-28T00:00:00.000000000",
                    "1950-03-31T00:00:00.000000000",
                    "1950-04-30T00:00:00.000000000",
                    "1950-05-31T00:00:00.000000000",
                    "1950-06-30T00:00:00.000000000",
                    "1950-07-31T00:00:00.000000000",
                    "1950-08-31T00:00:00.000000000",
                    "1950-09-30T00:00:00.000000000",
                    "1950-10-31T00:00:00.000000000",
                    "1950-11-30T00:00:00.000000000",
                    "1950-12-31T00:00:00.000000000",
                    "1951-01-31T00:00:00.000000000",
                    "1951-02-28T00:00:00.000000000",
                    "1951-03-31T00:00:00.000000000",
                    "1951-04-30T00:00:00.000000000",
                    "1951-05-31T00:00:00.000000000",
                    "1951-06-30T00:00:00.000000000",
                    "1951-07-31T00:00:00.000000000",
                    "1951-08-31T00:00:00.000000000",
                    "1951-09-30T00:00:00.000000000",
                    "1951-10-31T00:00:00.000000000",
                    "1951-11-30T00:00:00.000000000",
                    "1951-12-31T00:00:00.000000000",
                    "1952-01-31T00:00:00.000000000",
                    "1952-02-29T00:00:00.000000000",
                    "1952-03-31T00:00:00.000000000",
                    "1952-04-30T00:00:00.000000000",
                    "1952-05-31T00:00:00.000000000",
                    "1952-06-30T00:00:00.000000000",
                    "1952-07-31T00:00:00.000000000",
                    "1952-08-31T00:00:00.000000000",
                    "1952-09-30T00:00:00.000000000",
                    "1952-10-31T00:00:00.000000000",
                    "1952-11-30T00:00:00.000000000",
                    "1952-12-31T00:00:00.000000000",
                    "1953-01-31T00:00:00.000000000",
                    "1953-02-28T00:00:00.000000000",
                    "1953-03-31T00:00:00.000000000",
                    "1953-04-30T00:00:00.000000000",
                    "1953-05-31T00:00:00.000000000",
                    "1953-06-30T00:00:00.000000000",
                    "1953-07-31T00:00:00.000000000",
                    "1953-08-31T00:00:00.000000000",
                    "1953-09-30T00:00:00.000000000",
                    "1953-10-31T00:00:00.000000000",
                    "1953-11-30T00:00:00.000000000",
                    "1953-12-31T00:00:00.000000000",
                    "1954-01-31T00:00:00.000000000",
                    "1954-02-28T00:00:00.000000000",
                    "1954-03-31T00:00:00.000000000",
                    "1954-04-30T00:00:00.000000000",
                    "1954-05-31T00:00:00.000000000",
                    "1954-06-30T00:00:00.000000000",
                    "1954-07-31T00:00:00.000000000",
                    "1954-08-31T00:00:00.000000000",
                    "1954-09-30T00:00:00.000000000",
                    "1954-10-31T00:00:00.000000000",
                    "1954-11-30T00:00:00.000000000",
                    "1954-12-31T00:00:00.000000000",
                    "1955-01-31T00:00:00.000000000",
                    "1955-02-28T00:00:00.000000000",
                    "1955-03-31T00:00:00.000000000",
                    "1955-04-30T00:00:00.000000000",
                    "1955-05-31T00:00:00.000000000",
                    "1955-06-30T00:00:00.000000000",
                    "1955-07-31T00:00:00.000000000",
                    "1955-08-31T00:00:00.000000000",
                    "1955-09-30T00:00:00.000000000",
                    "1955-10-31T00:00:00.000000000",
                    "1955-11-30T00:00:00.000000000",
                    "1955-12-31T00:00:00.000000000",
                    "1956-01-31T00:00:00.000000000",
                    "1956-02-29T00:00:00.000000000",
                    "1956-03-31T00:00:00.000000000",
                    "1956-04-30T00:00:00.000000000",
                    "1956-05-31T00:00:00.000000000",
                    "1956-06-30T00:00:00.000000000",
                    "1956-07-31T00:00:00.000000000",
                    "1956-08-31T00:00:00.000000000",
                    "1956-09-30T00:00:00.000000000",
                    "1956-10-31T00:00:00.000000000",
                    "1956-11-30T00:00:00.000000000",
                    "1956-12-31T00:00:00.000000000",
                    "1957-01-31T00:00:00.000000000",
                    "1957-02-28T00:00:00.000000000",
                    "1957-03-31T00:00:00.000000000",
                    "1957-04-30T00:00:00.000000000",
                    "1957-05-31T00:00:00.000000000",
                    "1957-06-30T00:00:00.000000000",
                    "1957-07-31T00:00:00.000000000",
                    "1957-08-31T00:00:00.000000000",
                    "1957-09-30T00:00:00.000000000",
                    "1957-10-31T00:00:00.000000000",
                    "1957-11-30T00:00:00.000000000",
                    "1957-12-31T00:00:00.000000000",
                    "1958-01-31T00:00:00.000000000",
                    "1958-02-28T00:00:00.000000000",
                    "1958-03-31T00:00:00.000000000",
                    "1958-04-30T00:00:00.000000000",
                    "1958-05-31T00:00:00.000000000",
                    "1958-06-30T00:00:00.000000000",
                    "1958-07-31T00:00:00.000000000",
                    "1958-08-31T00:00:00.000000000",
                    "1958-09-30T00:00:00.000000000",
                    "1958-10-31T00:00:00.000000000",
                    "1958-11-30T00:00:00.000000000",
                    "1958-12-31T00:00:00.000000000",
                    "1959-01-31T00:00:00.000000000",
                    "1959-02-28T00:00:00.000000000",
                    "1959-03-31T00:00:00.000000000",
                    "1959-04-30T00:00:00.000000000",
                    "1959-05-31T00:00:00.000000000",
                    "1959-06-30T00:00:00.000000000",
                    "1959-07-31T00:00:00.000000000",
                    "1959-08-31T00:00:00.000000000",
                    "1959-09-30T00:00:00.000000000",
                    "1959-10-31T00:00:00.000000000",
                    "1959-11-30T00:00:00.000000000",
                    "1959-12-31T00:00:00.000000000",
                    "1960-01-31T00:00:00.000000000",
                    "1960-02-29T00:00:00.000000000",
                    "1960-03-31T00:00:00.000000000",
                    "1960-04-30T00:00:00.000000000",
                    "1960-05-31T00:00:00.000000000",
                    "1960-06-30T00:00:00.000000000",
                    "1960-07-31T00:00:00.000000000",
                    "1960-08-31T00:00:00.000000000",
                    "1960-09-30T00:00:00.000000000",
                    "1960-10-31T00:00:00.000000000",
                    "1960-11-30T00:00:00.000000000",
                    "1960-12-31T00:00:00.000000000",
                    "1961-01-31T00:00:00.000000000",
                    "1961-02-28T00:00:00.000000000",
                    "1961-03-31T00:00:00.000000000",
                    "1961-04-30T00:00:00.000000000",
                    "1961-05-31T00:00:00.000000000",
                    "1961-06-30T00:00:00.000000000",
                    "1961-07-31T00:00:00.000000000",
                    "1961-08-31T00:00:00.000000000",
                    "1961-09-30T00:00:00.000000000",
                    "1961-10-31T00:00:00.000000000",
                    "1961-11-30T00:00:00.000000000",
                    "1961-12-31T00:00:00.000000000",
                    "1962-01-31T00:00:00.000000000",
                    "1962-02-28T00:00:00.000000000",
                    "1962-03-31T00:00:00.000000000",
                    "1962-04-30T00:00:00.000000000",
                    "1962-05-31T00:00:00.000000000",
                    "1962-06-30T00:00:00.000000000",
                    "1962-07-31T00:00:00.000000000",
                    "1962-08-31T00:00:00.000000000",
                    "1962-09-30T00:00:00.000000000",
                    "1962-10-31T00:00:00.000000000",
                    "1962-11-30T00:00:00.000000000",
                    "1962-12-31T00:00:00.000000000",
                    "1963-01-31T00:00:00.000000000",
                    "1963-02-28T00:00:00.000000000",
                    "1963-03-31T00:00:00.000000000",
                    "1963-04-30T00:00:00.000000000",
                    "1963-05-31T00:00:00.000000000",
                    "1963-06-30T00:00:00.000000000",
                    "1963-07-31T00:00:00.000000000",
                    "1963-08-31T00:00:00.000000000",
                    "1963-09-30T00:00:00.000000000",
                    "1963-10-31T00:00:00.000000000",
                    "1963-11-30T00:00:00.000000000",
                    "1963-12-31T00:00:00.000000000",
                    "1964-01-31T00:00:00.000000000",
                    "1964-02-29T00:00:00.000000000",
                    "1964-03-31T00:00:00.000000000",
                    "1964-04-30T00:00:00.000000000",
                    "1964-05-31T00:00:00.000000000",
                    "1964-06-30T00:00:00.000000000",
                    "1964-07-31T00:00:00.000000000",
                    "1964-08-31T00:00:00.000000000",
                    "1964-09-30T00:00:00.000000000",
                    "1964-10-31T00:00:00.000000000",
                    "1964-11-30T00:00:00.000000000",
                    "1964-12-31T00:00:00.000000000",
                    "1965-01-31T00:00:00.000000000",
                    "1965-02-28T00:00:00.000000000",
                    "1965-03-31T00:00:00.000000000",
                    "1965-04-30T00:00:00.000000000",
                    "1965-05-31T00:00:00.000000000",
                    "1965-06-30T00:00:00.000000000",
                    "1965-07-31T00:00:00.000000000",
                    "1965-08-31T00:00:00.000000000",
                    "1965-09-30T00:00:00.000000000",
                    "1965-10-31T00:00:00.000000000",
                    "1965-11-30T00:00:00.000000000",
                    "1965-12-31T00:00:00.000000000",
                    "1966-01-31T00:00:00.000000000",
                    "1966-02-28T00:00:00.000000000",
                    "1966-03-31T00:00:00.000000000",
                    "1966-04-30T00:00:00.000000000",
                    "1966-05-31T00:00:00.000000000",
                    "1966-06-30T00:00:00.000000000",
                    "1966-07-31T00:00:00.000000000",
                    "1966-08-31T00:00:00.000000000",
                    "1966-09-30T00:00:00.000000000",
                    "1966-10-31T00:00:00.000000000",
                    "1966-11-30T00:00:00.000000000",
                    "1966-12-31T00:00:00.000000000",
                    "1967-01-31T00:00:00.000000000",
                    "1967-02-28T00:00:00.000000000",
                    "1967-03-31T00:00:00.000000000",
                    "1967-04-30T00:00:00.000000000",
                    "1967-05-31T00:00:00.000000000",
                    "1967-06-30T00:00:00.000000000",
                    "1967-07-31T00:00:00.000000000",
                    "1967-08-31T00:00:00.000000000",
                    "1967-09-30T00:00:00.000000000",
                    "1967-10-31T00:00:00.000000000",
                    "1967-11-30T00:00:00.000000000",
                    "1967-12-31T00:00:00.000000000",
                    "1968-01-31T00:00:00.000000000",
                    "1968-02-29T00:00:00.000000000",
                    "1968-03-31T00:00:00.000000000",
                    "1968-04-30T00:00:00.000000000",
                    "1968-05-31T00:00:00.000000000",
                    "1968-06-30T00:00:00.000000000",
                    "1968-07-31T00:00:00.000000000",
                    "1968-08-31T00:00:00.000000000",
                    "1968-09-30T00:00:00.000000000",
                    "1968-10-31T00:00:00.000000000",
                    "1968-11-30T00:00:00.000000000",
                    "1968-12-31T00:00:00.000000000"
                  ],
                  "xaxis": "x",
                  "y": {
                    "bdata": "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",
                    "dtype": "f8"
                  },
                  "yaxis": "y"
                }
              ],
              "layout": {
                "legend": {
                  "title": {
                    "text": "variable"
                  },
                  "tracegroupgap": 0
                },
                "margin": {
                  "t": 60
                },
                "template": {
                  "data": {
                    "bar": [
                      {
                        "error_x": {
                          "color": "#f2f5fa"
                        },
                        "error_y": {
                          "color": "#f2f5fa"
                        },
                        "marker": {
                          "line": {
                            "color": "rgb(17,17,17)",
                            "width": 0.5
                          },
                          "pattern": {
                            "fillmode": "overlay",
                            "size": 10,
                            "solidity": 0.2
                          }
                        },
                        "type": "bar"
                      }
                    ],
                    "barpolar": [
                      {
                        "marker": {
                          "line": {
                            "color": "rgb(17,17,17)",
                            "width": 0.5
                          },
                          "pattern": {
                            "fillmode": "overlay",
                            "size": 10,
                            "solidity": 0.2
                          }
                        },
                        "type": "barpolar"
                      }
                    ],
                    "carpet": [
                      {
                        "aaxis": {
                          "endlinecolor": "#A2B1C6",
                          "gridcolor": "#506784",
                          "linecolor": "#506784",
                          "minorgridcolor": "#506784",
                          "startlinecolor": "#A2B1C6"
                        },
                        "baxis": {
                          "endlinecolor": "#A2B1C6",
                          "gridcolor": "#506784",
                          "linecolor": "#506784",
                          "minorgridcolor": "#506784",
                          "startlinecolor": "#A2B1C6"
                        },
                        "type": "carpet"
                      }
                    ],
                    "choropleth": [
                      {
                        "colorbar": {
                          "outlinewidth": 0,
                          "ticks": ""
                        },
                        "type": "choropleth"
                      }
                    ],
                    "contour": [
                      {
                        "colorbar": {
                          "outlinewidth": 0,
                          "ticks": ""
                        },
                        "colorscale": [
                          [
                            0,
                            "#0d0887"
                          ],
                          [
                            0.1111111111111111,
                            "#46039f"
                          ],
                          [
                            0.2222222222222222,
                            "#7201a8"
                          ],
                          [
                            0.3333333333333333,
                            "#9c179e"
                          ],
                          [
                            0.4444444444444444,
                            "#bd3786"
                          ],
                          [
                            0.5555555555555556,
                            "#d8576b"
                          ],
                          [
                            0.6666666666666666,
                            "#ed7953"
                          ],
                          [
                            0.7777777777777778,
                            "#fb9f3a"
                          ],
                          [
                            0.8888888888888888,
                            "#fdca26"
                          ],
                          [
                            1,
                            "#f0f921"
                          ]
                        ],
                        "type": "contour"
                      }
                    ],
                    "contourcarpet": [
                      {
                        "colorbar": {
                          "outlinewidth": 0,
                          "ticks": ""
                        },
                        "type": "contourcarpet"
                      }
                    ],
                    "heatmap": [
                      {
                        "colorbar": {
                          "outlinewidth": 0,
                          "ticks": ""
                        },
                        "colorscale": [
                          [
                            0,
                            "#0d0887"
                          ],
                          [
                            0.1111111111111111,
                            "#46039f"
                          ],
                          [
                            0.2222222222222222,
                            "#7201a8"
                          ],
                          [
                            0.3333333333333333,
                            "#9c179e"
                          ],
                          [
                            0.4444444444444444,
                            "#bd3786"
                          ],
                          [
                            0.5555555555555556,
                            "#d8576b"
                          ],
                          [
                            0.6666666666666666,
                            "#ed7953"
                          ],
                          [
                            0.7777777777777778,
                            "#fb9f3a"
                          ],
                          [
                            0.8888888888888888,
                            "#fdca26"
                          ],
                          [
                            1,
                            "#f0f921"
                          ]
                        ],
                        "type": "heatmap"
                      }
                    ],
                    "histogram": [
                      {
                        "marker": {
                          "pattern": {
                            "fillmode": "overlay",
                            "size": 10,
                            "solidity": 0.2
                          }
                        },
                        "type": "histogram"
                      }
                    ],
                    "histogram2d": [
                      {
                        "colorbar": {
                          "outlinewidth": 0,
                          "ticks": ""
                        },
                        "colorscale": [
                          [
                            0,
                            "#0d0887"
                          ],
                          [
                            0.1111111111111111,
                            "#46039f"
                          ],
                          [
                            0.2222222222222222,
                            "#7201a8"
                          ],
                          [
                            0.3333333333333333,
                            "#9c179e"
                          ],
                          [
                            0.4444444444444444,
                            "#bd3786"
                          ],
                          [
                            0.5555555555555556,
                            "#d8576b"
                          ],
                          [
                            0.6666666666666666,
                            "#ed7953"
                          ],
                          [
                            0.7777777777777778,
                            "#fb9f3a"
                          ],
                          [
                            0.8888888888888888,
                            "#fdca26"
                          ],
                          [
                            1,
                            "#f0f921"
                          ]
                        ],
                        "type": "histogram2d"
                      }
                    ],
                    "histogram2dcontour": [
                      {
                        "colorbar": {
                          "outlinewidth": 0,
                          "ticks": ""
                        },
                        "colorscale": [
                          [
                            0,
                            "#0d0887"
                          ],
                          [
                            0.1111111111111111,
                            "#46039f"
                          ],
                          [
                            0.2222222222222222,
                            "#7201a8"
                          ],
                          [
                            0.3333333333333333,
                            "#9c179e"
                          ],
                          [
                            0.4444444444444444,
                            "#bd3786"
                          ],
                          [
                            0.5555555555555556,
                            "#d8576b"
                          ],
                          [
                            0.6666666666666666,
                            "#ed7953"
                          ],
                          [
                            0.7777777777777778,
                            "#fb9f3a"
                          ],
                          [
                            0.8888888888888888,
                            "#fdca26"
                          ],
                          [
                            1,
                            "#f0f921"
                          ]
                        ],
                        "type": "histogram2dcontour"
                      }
                    ],
                    "mesh3d": [
                      {
                        "colorbar": {
                          "outlinewidth": 0,
                          "ticks": ""
                        },
                        "type": "mesh3d"
                      }
                    ],
                    "parcoords": [
                      {
                        "line": {
                          "colorbar": {
                            "outlinewidth": 0,
                            "ticks": ""
                          }
                        },
                        "type": "parcoords"
                      }
                    ],
                    "pie": [
                      {
                        "automargin": true,
                        "type": "pie"
                      }
                    ],
                    "scatter": [
                      {
                        "marker": {
                          "line": {
                            "color": "#283442"
                          }
                        },
                        "type": "scatter"
                      }
                    ],
                    "scatter3d": [
                      {
                        "line": {
                          "colorbar": {
                            "outlinewidth": 0,
                            "ticks": ""
                          }
                        },
                        "marker": {
                          "colorbar": {
                            "outlinewidth": 0,
                            "ticks": ""
                          }
                        },
                        "type": "scatter3d"
                      }
                    ],
                    "scattercarpet": [
                      {
                        "marker": {
                          "colorbar": {
                            "outlinewidth": 0,
                            "ticks": ""
                          }
                        },
                        "type": "scattercarpet"
                      }
                    ],
                    "scattergeo": [
                      {
                        "marker": {
                          "colorbar": {
                            "outlinewidth": 0,
                            "ticks": ""
                          }
                        },
                        "type": "scattergeo"
                      }
                    ],
                    "scattergl": [
                      {
                        "marker": {
                          "line": {
                            "color": "#283442"
                          }
                        },
                        "type": "scattergl"
                      }
                    ],
                    "scattermap": [
                      {
                        "marker": {
                          "colorbar": {
                            "outlinewidth": 0,
                            "ticks": ""
                          }
                        },
                        "type": "scattermap"
                      }
                    ],
                    "scattermapbox": [
                      {
                        "marker": {
                          "colorbar": {
                            "outlinewidth": 0,
                            "ticks": ""
                          }
                        },
                        "type": "scattermapbox"
                      }
                    ],
                    "scatterpolar": [
                      {
                        "marker": {
                          "colorbar": {
                            "outlinewidth": 0,
                            "ticks": ""
                          }
                        },
                        "type": "scatterpolar"
                      }
                    ],
                    "scatterpolargl": [
                      {
                        "marker": {
                          "colorbar": {
                            "outlinewidth": 0,
                            "ticks": ""
                          }
                        },
                        "type": "scatterpolargl"
                      }
                    ],
                    "scatterternary": [
                      {
                        "marker": {
                          "colorbar": {
                            "outlinewidth": 0,
                            "ticks": ""
                          }
                        },
                        "type": "scatterternary"
                      }
                    ],
                    "surface": [
                      {
                        "colorbar": {
                          "outlinewidth": 0,
                          "ticks": ""
                        },
                        "colorscale": [
                          [
                            0,
                            "#0d0887"
                          ],
                          [
                            0.1111111111111111,
                            "#46039f"
                          ],
                          [
                            0.2222222222222222,
                            "#7201a8"
                          ],
                          [
                            0.3333333333333333,
                            "#9c179e"
                          ],
                          [
                            0.4444444444444444,
                            "#bd3786"
                          ],
                          [
                            0.5555555555555556,
                            "#d8576b"
                          ],
                          [
                            0.6666666666666666,
                            "#ed7953"
                          ],
                          [
                            0.7777777777777778,
                            "#fb9f3a"
                          ],
                          [
                            0.8888888888888888,
                            "#fdca26"
                          ],
                          [
                            1,
                            "#f0f921"
                          ]
                        ],
                        "type": "surface"
                      }
                    ],
                    "table": [
                      {
                        "cells": {
                          "fill": {
                            "color": "#506784"
                          },
                          "line": {
                            "color": "rgb(17,17,17)"
                          }
                        },
                        "header": {
                          "fill": {
                            "color": "#2a3f5f"
                          },
                          "line": {
                            "color": "rgb(17,17,17)"
                          }
                        },
                        "type": "table"
                      }
                    ]
                  },
                  "layout": {
                    "annotationdefaults": {
                      "arrowcolor": "#f2f5fa",
                      "arrowhead": 0,
                      "arrowwidth": 1
                    },
                    "autosize": false,
                    "autotypenumbers": "strict",
                    "coloraxis": {
                      "colorbar": {
                        "outlinewidth": 0,
                        "ticks": ""
                      }
                    },
                    "colorscale": {
                      "diverging": [
                        [
                          0,
                          "#8e0152"
                        ],
                        [
                          0.1,
                          "#c51b7d"
                        ],
                        [
                          0.2,
                          "#de77ae"
                        ],
                        [
                          0.3,
                          "#f1b6da"
                        ],
                        [
                          0.4,
                          "#fde0ef"
                        ],
                        [
                          0.5,
                          "#f7f7f7"
                        ],
                        [
                          0.6,
                          "#e6f5d0"
                        ],
                        [
                          0.7,
                          "#b8e186"
                        ],
                        [
                          0.8,
                          "#7fbc41"
                        ],
                        [
                          0.9,
                          "#4d9221"
                        ],
                        [
                          1,
                          "#276419"
                        ]
                      ],
                      "sequential": [
                        [
                          0,
                          "#0d0887"
                        ],
                        [
                          0.1111111111111111,
                          "#46039f"
                        ],
                        [
                          0.2222222222222222,
                          "#7201a8"
                        ],
                        [
                          0.3333333333333333,
                          "#9c179e"
                        ],
                        [
                          0.4444444444444444,
                          "#bd3786"
                        ],
                        [
                          0.5555555555555556,
                          "#d8576b"
                        ],
                        [
                          0.6666666666666666,
                          "#ed7953"
                        ],
                        [
                          0.7777777777777778,
                          "#fb9f3a"
                        ],
                        [
                          0.8888888888888888,
                          "#fdca26"
                        ],
                        [
                          1,
                          "#f0f921"
                        ]
                      ],
                      "sequentialminus": [
                        [
                          0,
                          "#0d0887"
                        ],
                        [
                          0.1111111111111111,
                          "#46039f"
                        ],
                        [
                          0.2222222222222222,
                          "#7201a8"
                        ],
                        [
                          0.3333333333333333,
                          "#9c179e"
                        ],
                        [
                          0.4444444444444444,
                          "#bd3786"
                        ],
                        [
                          0.5555555555555556,
                          "#d8576b"
                        ],
                        [
                          0.6666666666666666,
                          "#ed7953"
                        ],
                        [
                          0.7777777777777778,
                          "#fb9f3a"
                        ],
                        [
                          0.8888888888888888,
                          "#fdca26"
                        ],
                        [
                          1,
                          "#f0f921"
                        ]
                      ]
                    },
                    "colorway": [
                      "#636efa",
                      "#EF553B",
                      "#00cc96",
                      "#ab63fa",
                      "#FFA15A",
                      "#19d3f3",
                      "#FF6692",
                      "#B6E880",
                      "#FF97FF",
                      "#FECB52"
                    ],
                    "font": {
                      "color": "#f2f5fa"
                    },
                    "geo": {
                      "bgcolor": "rgb(17,17,17)",
                      "lakecolor": "rgb(17,17,17)",
                      "landcolor": "rgb(17,17,17)",
                      "showlakes": true,
                      "showland": true,
                      "subunitcolor": "#506784"
                    },
                    "height": 500,
                    "hoverlabel": {
                      "align": "left"
                    },
                    "hovermode": "closest",
                    "mapbox": {
                      "style": "dark"
                    },
                    "paper_bgcolor": "rgb(17,17,17)",
                    "plot_bgcolor": "rgb(17,17,17)",
                    "polar": {
                      "angularaxis": {
                        "gridcolor": "#506784",
                        "linecolor": "#506784",
                        "ticks": ""
                      },
                      "bgcolor": "rgb(17,17,17)",
                      "radialaxis": {
                        "gridcolor": "#506784",
                        "linecolor": "#506784",
                        "ticks": ""
                      }
                    },
                    "scene": {
                      "xaxis": {
                        "backgroundcolor": "rgb(17,17,17)",
                        "gridcolor": "#506784",
                        "gridwidth": 2,
                        "linecolor": "#506784",
                        "showbackground": true,
                        "ticks": "",
                        "zerolinecolor": "#C8D4E3"
                      },
                      "yaxis": {
                        "backgroundcolor": "rgb(17,17,17)",
                        "gridcolor": "#506784",
                        "gridwidth": 2,
                        "linecolor": "#506784",
                        "showbackground": true,
                        "ticks": "",
                        "zerolinecolor": "#C8D4E3"
                      },
                      "zaxis": {
                        "backgroundcolor": "rgb(17,17,17)",
                        "gridcolor": "#506784",
                        "gridwidth": 2,
                        "linecolor": "#506784",
                        "showbackground": true,
                        "ticks": "",
                        "zerolinecolor": "#C8D4E3"
                      }
                    },
                    "shapedefaults": {
                      "line": {
                        "color": "#f2f5fa"
                      }
                    },
                    "showlegend": true,
                    "sliderdefaults": {
                      "bgcolor": "#C8D4E3",
                      "bordercolor": "rgb(17,17,17)",
                      "borderwidth": 1,
                      "tickwidth": 0
                    },
                    "ternary": {
                      "aaxis": {
                        "gridcolor": "#506784",
                        "linecolor": "#506784",
                        "ticks": ""
                      },
                      "baxis": {
                        "gridcolor": "#506784",
                        "linecolor": "#506784",
                        "ticks": ""
                      },
                      "bgcolor": "rgb(17,17,17)",
                      "caxis": {
                        "gridcolor": "#506784",
                        "linecolor": "#506784",
                        "ticks": ""
                      }
                    },
                    "title": {
                      "x": 0.05
                    },
                    "updatemenudefaults": {
                      "bgcolor": "#506784",
                      "borderwidth": 0
                    },
                    "width": 1000,
                    "xaxis": {
                      "automargin": true,
                      "gridcolor": "#283442",
                      "linecolor": "#506784",
                      "ticks": "",
                      "title": {
                        "standoff": 15
                      },
                      "zerolinecolor": "#283442",
                      "zerolinewidth": 2
                    },
                    "yaxis": {
                      "automargin": true,
                      "gridcolor": "#283442",
                      "linecolor": "#506784",
                      "ticks": "",
                      "title": {
                        "standoff": 15
                      },
                      "zerolinecolor": "#283442",
                      "zerolinewidth": 2
                    }
                  }
                },
                "xaxis": {
                  "anchor": "y",
                  "domain": [
                    0,
                    1
                  ],
                  "title": {
                    "text": "index"
                  }
                },
                "yaxis": {
                  "anchor": "x",
                  "domain": [
                    0,
                    1
                  ],
                  "title": {
                    "text": "value"
                  }
                }
              }
            }
          },
          "metadata": {},
          "output_type": "display_data"
        }
      ],
      "source": [
        "import numpy as np\n",
        "\n",
        "df = series.to_frame()\n",
        "\n",
        "df_forecast = utils.get_model_forecast(\n",
        "    df, \"values\", order=(12, 1, 1), horizon=96, forecast_exp=True\n",
        ")\n",
        "df_forecast = utils.get_model_forecast(\n",
        "    df_forecast,\n",
        "    \"values\",\n",
        "    order=(0, 1, 1),\n",
        "    seasonal_order=(0, 1, 1, 12),\n",
        "    horizon=96,\n",
        "    forecast_exp=True,\n",
        ")\n",
        "df_forecast = utils.get_model_forecast_exponential_smoothing(\n",
        "    df_forecast,\n",
        "    \"values\",\n",
        "    horizon=96,\n",
        "    class_config={\"trend\": \"add\", \"seasonal\": \"mul\", \"seasonal_periods\": 12},\n",
        ")\n",
        "df_forecast = utils.get_model_forecast_prophet(\n",
        "    df_forecast, \"values\", mode=\"multiplicative\", horizon=96\n",
        ")\n",
        "\n",
        "df_forecast.plot(color=\"variable\")"
      ]
    },
    {
      "cell_type": "markdown",
      "id": "f84b48f6",
      "metadata": {},
      "source": [
        "## Diagnostics and assumptions"
      ]
    },
    {
      "cell_type": "markdown",
      "id": "6a513a00",
      "metadata": {},
      "source": [
        "Although Prophet is robust and doesn’t require stationarity or normal residuals, residual analysis helps confirm quality."
      ]
    },
    {
      "cell_type": "markdown",
      "id": "bdf6c76a",
      "metadata": {},
      "source": [
        "### Residual calculation"
      ]
    },
    {
      "cell_type": "code",
      "execution_count": 15,
      "id": "76d837ab",
      "metadata": {},
      "outputs": [
        {
          "name": "stderr",
          "output_type": "stream",
          "text": [
            "22:39:18 - cmdstanpy - INFO - Chain [1] start processing\n",
            "22:39:18 - cmdstanpy - INFO - Chain [1] done processing\n"
          ]
        },
        {
          "data": {
            "text/plain": [
              "ds\n",
              "1949-01-31     9.102743\n",
              "1949-02-28    17.532820\n",
              "                ...    \n",
              "1960-11-30    -0.823304\n",
              "1960-12-31    -2.804351\n",
              "Name: residuals, Length: 144, dtype: float64"
            ]
          },
          "execution_count": 15,
          "metadata": {},
          "output_type": "execute_result"
        }
      ],
      "source": [
        "model = Prophet(\n",
        "    yearly_seasonality=True,\n",
        "    weekly_seasonality=False,\n",
        "    daily_seasonality=False,\n",
        "    holidays=holidays,\n",
        "    seasonality_mode=\"multiplicative\",\n",
        ")\n",
        "\n",
        "df = pd.DataFrame({\n",
        "    'ds': series.index,\n",
        "    'y': series.values\n",
        "})\n",
        "\n",
        "model.fit(df)\n",
        "\n",
        "forecast = model.predict(df)\n",
        "\n",
        "df_forecast = forecast.set_index(\"ds\")[[\"yhat\"]].join(df.set_index(\"ds\"))\n",
        "df_forecast[\"residuals\"] = df_forecast[\"y\"] - df_forecast[\"yhat\"]\n",
        "\n",
        "residuals = df_forecast[\"residuals\"].dropna()\n",
        "residuals"
      ]
    },
    {
      "cell_type": "markdown",
      "id": "597610fe",
      "metadata": {},
      "source": [
        "### Autocorrelation"
      ]
    },
    {
      "cell_type": "markdown",
      "id": "c4951d84",
      "metadata": {},
      "source": [
        "#### Plot"
      ]
    },
    {
      "cell_type": "code",
      "execution_count": 16,
      "id": "fd82727b",
      "metadata": {},
      "outputs": [
        {
          "data": {
            "image/png": "[encoded data removed]",
            "text/plain": [
              "<Figure size 640x480 with 1 Axes>"
            ]
          },
          "metadata": {},
          "output_type": "display_data"
        }
      ],
      "source": [
        "from statsmodels.graphics.tsaplots import plot_acf\n",
        "plot_acf(residuals);"
      ]
    },
    {
      "cell_type": "markdown",
      "id": "dbf00de4",
      "metadata": {},
      "source": [
        "#### Test: Ljung-Box"
      ]
    },
    {
      "cell_type": "code",
      "execution_count": 17,
      "id": "d7d049f7",
      "metadata": {},
      "outputs": [
        {
          "data": {
            "text/html": [
              "<style type=\"text/css\">\n",
              "</style>\n",
              "<table id=\"T_48621\">\n",
              "  <thead>\n",
              "    <tr>\n",
              "      <th class=\"blank level0\" >&nbsp;</th>\n",
              "      <th id=\"T_48621_level0_col0\" class=\"col_heading level0 col0\" >lb_stat</th>\n",
              "      <th id=\"T_48621_level0_col1\" class=\"col_heading level0 col1\" >lb_pvalue</th>\n",
              "    </tr>\n",
              "  </thead>\n",
              "  <tbody>\n",
              "    <tr>\n",
              "      <th id=\"T_48621_level0_row0\" class=\"row_heading level0 row0\" >10</th>\n",
              "      <td id=\"T_48621_row0_col0\" class=\"data row0 col0\" >82.668229</td>\n",
              "      <td id=\"T_48621_row0_col1\" class=\"data row0 col1\" >0.000000</td>\n",
              "    </tr>\n",
              "    <tr>\n",
              "      <th id=\"T_48621_level0_row1\" class=\"row_heading level0 row1\" >20</th>\n",
              "      <td id=\"T_48621_row1_col0\" class=\"data row1 col0\" >167.529442</td>\n",
              "      <td id=\"T_48621_row1_col1\" class=\"data row1 col1\" >0.000000</td>\n",
              "    </tr>\n",
              "    <tr>\n",
              "      <th id=\"T_48621_level0_row2\" class=\"row_heading level0 row2\" >30</th>\n",
              "      <td id=\"T_48621_row2_col0\" class=\"data row2 col0\" >219.288026</td>\n",
              "      <td id=\"T_48621_row2_col1\" class=\"data row2 col1\" >0.000000</td>\n",
              "    </tr>\n",
              "  </tbody>\n",
              "</table>\n"
            ],
            "text/plain": [
              "<pandas.io.formats.style.Styler at 0x330910b00>"
            ]
          },
          "execution_count": 17,
          "metadata": {},
          "output_type": "execute_result"
        }
      ],
      "source": [
        "from statsmodels.stats.diagnostic import acorr_ljungbox\n",
        "acorr_ljungbox(residuals, lags=[10, 20, 30]).style"
      ]
    },
    {
      "cell_type": "markdown",
      "id": "5c34e9c6",
      "metadata": {},
      "source": [
        "### Normality"
      ]
    },
    {
      "cell_type": "markdown",
      "id": "a3e45393",
      "metadata": {},
      "source": [
        "#### Plot"
      ]
    },
    {
      "cell_type": "code",
      "execution_count": 18,
      "id": "894c7398",
      "metadata": {},
      "outputs": [
        {
          "data": {
            "image/png": "[encoded data removed]",
            "text/plain": [
              "<Figure size 640x480 with 1 Axes>"
            ]
          },
          "metadata": {},
          "output_type": "display_data"
        }
      ],
      "source": [
        "from scipy import stats\n",
        "import matplotlib.pyplot as plt\n",
        "\n",
        "fig, ax = plt.subplots()\n",
        "stats.probplot(residuals, dist='norm', plot=ax);"
      ]
    },
    {
      "cell_type": "markdown",
      "id": "f52c25db",
      "metadata": {},
      "source": [
        "#### Test: Jarque-Bera"
      ]
    },
    {
      "cell_type": "code",
      "execution_count": 19,
      "id": "c29d030b",
      "metadata": {},
      "outputs": [
        {
          "data": {
            "text/plain": [
              "SignificanceResult(statistic=np.float64(0.018871983201470002), pvalue=np.float64(0.9906083876708386))"
            ]
          },
          "execution_count": 19,
          "metadata": {},
          "output_type": "execute_result"
        }
      ],
      "source": [
        "from scipy.stats import jarque_bera\n",
        "jarque_bera(residuals)"
      ]
    },
    {
      "cell_type": "markdown",
      "id": "dcc9bbb1",
      "metadata": {},
      "source": [
        "### Homoscedasticity"
      ]
    },
    {
      "cell_type": "markdown",
      "id": "4e7417d5",
      "metadata": {},
      "source": [
        "#### Plot"
      ]
    },
    {
      "cell_type": "code",
      "execution_count": 20,
      "id": "f8b0c1dd",
      "metadata": {},
      "outputs": [
        {
          "data": {
            "application/vnd.plotly.v1+json": {
              "config": {
                "plotlyServerURL": "https://plot.ly"
              },
              "data": [
                {
                  "hovertemplate": "variable=residuals<br>ds=%{x}<br>value=%{y}<extra></extra>",
                  "legendgroup": "residuals",
                  "line": {
                    "color": "#636efa",
                    "dash": "solid"
                  },
                  "marker": {
                    "symbol": "circle"
                  },
                  "mode": "lines",
                  "name": "residuals",
                  "orientation": "v",
                  "showlegend": true,
                  "type": "scatter",
                  "x": [
                    "1949-01-31T00:00:00.000000000",
                    "1949-02-28T00:00:00.000000000",
                    "1949-03-31T00:00:00.000000000",
                    "1949-04-30T00:00:00.000000000",
                    "1949-05-31T00:00:00.000000000",
                    "1949-06-30T00:00:00.000000000",
                    "1949-07-31T00:00:00.000000000",
                    "1949-08-31T00:00:00.000000000",
                    "1949-09-30T00:00:00.000000000",
                    "1949-10-31T00:00:00.000000000",
                    "1949-11-30T00:00:00.000000000",
                    "1949-12-31T00:00:00.000000000",
                    "1950-01-31T00:00:00.000000000",
                    "1950-02-28T00:00:00.000000000",
                    "1950-03-31T00:00:00.000000000",
                    "1950-04-30T00:00:00.000000000",
                    "1950-05-31T00:00:00.000000000",
                    "1950-06-30T00:00:00.000000000",
                    "1950-07-31T00:00:00.000000000",
                    "1950-08-31T00:00:00.000000000",
                    "1950-09-30T00:00:00.000000000",
                    "1950-10-31T00:00:00.000000000",
                    "1950-11-30T00:00:00.000000000",
                    "1950-12-31T00:00:00.000000000",
                    "1951-01-31T00:00:00.000000000",
                    "1951-02-28T00:00:00.000000000",
                    "1951-03-31T00:00:00.000000000",
                    "1951-04-30T00:00:00.000000000",
                    "1951-05-31T00:00:00.000000000",
                    "1951-06-30T00:00:00.000000000",
                    "1951-07-31T00:00:00.000000000",
                    "1951-08-31T00:00:00.000000000",
                    "1951-09-30T00:00:00.000000000",
                    "1951-10-31T00:00:00.000000000",
                    "1951-11-30T00:00:00.000000000",
                    "1951-12-31T00:00:00.000000000",
                    "1952-01-31T00:00:00.000000000",
                    "1952-02-29T00:00:00.000000000",
                    "1952-03-31T00:00:00.000000000",
                    "1952-04-30T00:00:00.000000000",
                    "1952-05-31T00:00:00.000000000",
                    "1952-06-30T00:00:00.000000000",
                    "1952-07-31T00:00:00.000000000",
                    "1952-08-31T00:00:00.000000000",
                    "1952-09-30T00:00:00.000000000",
                    "1952-10-31T00:00:00.000000000",
                    "1952-11-30T00:00:00.000000000",
                    "1952-12-31T00:00:00.000000000",
                    "1953-01-31T00:00:00.000000000",
                    "1953-02-28T00:00:00.000000000",
                    "1953-03-31T00:00:00.000000000",
                    "1953-04-30T00:00:00.000000000",
                    "1953-05-31T00:00:00.000000000",
                    "1953-06-30T00:00:00.000000000",
                    "1953-07-31T00:00:00.000000000",
                    "1953-08-31T00:00:00.000000000",
                    "1953-09-30T00:00:00.000000000",
                    "1953-10-31T00:00:00.000000000",
                    "1953-11-30T00:00:00.000000000",
                    "1953-12-31T00:00:00.000000000",
                    "1954-01-31T00:00:00.000000000",
                    "1954-02-28T00:00:00.000000000",
                    "1954-03-31T00:00:00.000000000",
                    "1954-04-30T00:00:00.000000000",
                    "1954-05-31T00:00:00.000000000",
                    "1954-06-30T00:00:00.000000000",
                    "1954-07-31T00:00:00.000000000",
                    "1954-08-31T00:00:00.000000000",
                    "1954-09-30T00:00:00.000000000",
                    "1954-10-31T00:00:00.000000000",
                    "1954-11-30T00:00:00.000000000",
                    "1954-12-31T00:00:00.000000000",
                    "1955-01-31T00:00:00.000000000",
                    "1955-02-28T00:00:00.000000000",
                    "1955-03-31T00:00:00.000000000",
                    "1955-04-30T00:00:00.000000000",
                    "1955-05-31T00:00:00.000000000",
                    "1955-06-30T00:00:00.000000000",
                    "1955-07-31T00:00:00.000000000",
                    "1955-08-31T00:00:00.000000000",
                    "1955-09-30T00:00:00.000000000",
                    "1955-10-31T00:00:00.000000000",
                    "1955-11-30T00:00:00.000000000",
                    "1955-12-31T00:00:00.000000000",
                    "1956-01-31T00:00:00.000000000",
                    "1956-02-29T00:00:00.000000000",
                    "1956-03-31T00:00:00.000000000",
                    "1956-04-30T00:00:00.000000000",
                    "1956-05-31T00:00:00.000000000",
                    "1956-06-30T00:00:00.000000000",
                    "1956-07-31T00:00:00.000000000",
                    "1956-08-31T00:00:00.000000000",
                    "1956-09-30T00:00:00.000000000",
                    "1956-10-31T00:00:00.000000000",
                    "1956-11-30T00:00:00.000000000",
                    "1956-12-31T00:00:00.000000000",
                    "1957-01-31T00:00:00.000000000",
                    "1957-02-28T00:00:00.000000000",
                    "1957-03-31T00:00:00.000000000",
                    "1957-04-30T00:00:00.000000000",
                    "1957-05-31T00:00:00.000000000",
                    "1957-06-30T00:00:00.000000000",
                    "1957-07-31T00:00:00.000000000",
                    "1957-08-31T00:00:00.000000000",
                    "1957-09-30T00:00:00.000000000",
                    "1957-10-31T00:00:00.000000000",
                    "1957-11-30T00:00:00.000000000",
                    "1957-12-31T00:00:00.000000000",
                    "1958-01-31T00:00:00.000000000",
                    "1958-02-28T00:00:00.000000000",
                    "1958-03-31T00:00:00.000000000",
                    "1958-04-30T00:00:00.000000000",
                    "1958-05-31T00:00:00.000000000",
                    "1958-06-30T00:00:00.000000000",
                    "1958-07-31T00:00:00.000000000",
                    "1958-08-31T00:00:00.000000000",
                    "1958-09-30T00:00:00.000000000",
                    "1958-10-31T00:00:00.000000000",
                    "1958-11-30T00:00:00.000000000",
                    "1958-12-31T00:00:00.000000000",
                    "1959-01-31T00:00:00.000000000",
                    "1959-02-28T00:00:00.000000000",
                    "1959-03-31T00:00:00.000000000",
                    "1959-04-30T00:00:00.000000000",
                    "1959-05-31T00:00:00.000000000",
                    "1959-06-30T00:00:00.000000000",
                    "1959-07-31T00:00:00.000000000",
                    "1959-08-31T00:00:00.000000000",
                    "1959-09-30T00:00:00.000000000",
                    "1959-10-31T00:00:00.000000000",
                    "1959-11-30T00:00:00.000000000",
                    "1959-12-31T00:00:00.000000000",
                    "1960-01-31T00:00:00.000000000",
                    "1960-02-29T00:00:00.000000000",
                    "1960-03-31T00:00:00.000000000",
                    "1960-04-30T00:00:00.000000000",
                    "1960-05-31T00:00:00.000000000",
                    "1960-06-30T00:00:00.000000000",
                    "1960-07-31T00:00:00.000000000",
                    "1960-08-31T00:00:00.000000000",
                    "1960-09-30T00:00:00.000000000",
                    "1960-10-31T00:00:00.000000000",
                    "1960-11-30T00:00:00.000000000",
                    "1960-12-31T00:00:00.000000000"
                  ],
                  "xaxis": "x",
                  "y": {
                    "bdata": "gBSVxZo0IkAoVlblZogxQMSnpnEbUjFAWNK2gJKdKUBASvopWGz8P0AL2tgc+QjAALy8wD8RIsAwSOWIj2wiwAD7tk8B7PQ/ABA9nucC67+AhH/mQkXkv4CLmt2pOuI/QFY1BlQxG8CAAfdz/DAiQECs72uHqhJAADAzt8/4wT/A/KxvLwQtwGDs3eMm5SbAYPOaaXvGKcCw9UYPXicswABrdgul1uM/gHjxpJNdGMCI7/gzJkMgwIClxZOSlANAgNP4vAZ9/z8APrsqYVAtQDBj/ycNUDBAQHi4FW65GUDQ40IKJnIgQHBVa4/27SLAANluYJqaL8BQ472nwa4xwAC2Qqv3edW/ACqIQ1Tm4z8AsptPkKYOQMCq8DHHDxdAYAOIYo20EUAAXjuGfRUyQEBRu71mRypAQAZKo5+3EsAAClWO0SkUwAA8wSmkXta/8EDPB/FjMMDAiO6//GkGwAAB281NYue/wF5yWsn6C0CQ4/6ri/wiQJCrRdQCRilAAKB8pviEIUAQG4p5KfQrQCg2Ec5iND1A8LT6VxxoOkDQHrU6wdgvQIAJjjTEcwbAoFGE1eCJLMAATqSoILEVwAB4VN4PRNA/gAdrvOYT8z/AdN/O5+YDwABDCVBBNAjAoB7CpgRNG8BQO2Pwn18rwAAXdMG2T+Q/wBw74YUrEMCAfJ4owrsQwKBZWntNfiPA4J8S/NmiI8BwlqhDc8YzwACywwewNR7AoEXkqTZ4GcCAhp+WVfQLwACLbjhG+QrAAFzyZClI4j9gC+ygVt0SQAByIkeHBBbAgDask3VFFUCAaLT8DnYWwABErPFHX9C/gOdvank7CEBQjlVj2+AwwABtGU/CKgVAAM0BEqPSCkAA5N5LHoH0vyB0t9beNyNAQEGOib+nFECAkTMOm3QYQKBSBwtURTBAAEVFp9m5BUCAdCmfN5gPQADL2UVIDiNAAOqEpOIn/z8AsqbxJ3cJwMBUC3GMDhdAgMfLYlEwF8AAvmw4pODxPwAyQ5aGyBRAQMGgjXZjE0AAAHS8tiGpP+CqBD6QkC1AgM4scUPoEUBAepdtWRwTQKDWkuqV/TJAgDEDmGLZI0BAaQqQvuEsQDCl5qUFtzJAwClASH+EGUAADm3JJdQiQADtsh+ANBlAACBzQXrduD8Ah2lY1wMawGDvkLPueizAYBw02/MdNsDwxtCDBLsxwAAapS0LfOG/gBaT+kpCBsAAbHs4kXolQPCYOfZlYTDAYP5ohUcoJcDA4wO2sc0pwGD4JfVH2TjAoEevsn3ULMDgVXkkG38lwKC5QRvO2SrAYCUQUAesIMAABoMqv6vwvwAe6KFqgh/AALxvP6fJ4D/AErglSyUiQIBDUB7RmwfAAPLTKSyx5z8AiJnzbu0VQMD6fH+3ABNAAHDfJBUbBEAgzgveiPQkwKDS4hDNUjnAAHETXspLD0Cgxwj3I34lQACSMhy3ZPM/QD2rO3u6NUBAl9iY/jYnQADAhUCCFtk/oB9H4YtUIUAAbk9BgljqvwCKyV9PbwbA",
                    "dtype": "f8"
                  },
                  "yaxis": "y"
                }
              ],
              "layout": {
                "legend": {
                  "title": {
                    "text": "variable"
                  },
                  "tracegroupgap": 0
                },
                "margin": {
                  "t": 60
                },
                "template": {
                  "data": {
                    "bar": [
                      {
                        "error_x": {
                          "color": "#f2f5fa"
                        },
                        "error_y": {
                          "color": "#f2f5fa"
                        },
                        "marker": {
                          "line": {
                            "color": "rgb(17,17,17)",
                            "width": 0.5
                          },
                          "pattern": {
                            "fillmode": "overlay",
                            "size": 10,
                            "solidity": 0.2
                          }
                        },
                        "type": "bar"
                      }
                    ],
                    "barpolar": [
                      {
                        "marker": {
                          "line": {
                            "color": "rgb(17,17,17)",
                            "width": 0.5
                          },
                          "pattern": {
                            "fillmode": "overlay",
                            "size": 10,
                            "solidity": 0.2
                          }
                        },
                        "type": "barpolar"
                      }
                    ],
                    "carpet": [
                      {
                        "aaxis": {
                          "endlinecolor": "#A2B1C6",
                          "gridcolor": "#506784",
                          "linecolor": "#506784",
                          "minorgridcolor": "#506784",
                          "startlinecolor": "#A2B1C6"
                        },
                        "baxis": {
                          "endlinecolor": "#A2B1C6",
                          "gridcolor": "#506784",
                          "linecolor": "#506784",
                          "minorgridcolor": "#506784",
                          "startlinecolor": "#A2B1C6"
                        },
                        "type": "carpet"
                      }
                    ],
                    "choropleth": [
                      {
                        "colorbar": {
                          "outlinewidth": 0,
                          "ticks": ""
                        },
                        "type": "choropleth"
                      }
                    ],
                    "contour": [
                      {
                        "colorbar": {
                          "outlinewidth": 0,
                          "ticks": ""
                        },
                        "colorscale": [
                          [
                            0,
                            "#0d0887"
                          ],
                          [
                            0.1111111111111111,
                            "#46039f"
                          ],
                          [
                            0.2222222222222222,
                            "#7201a8"
                          ],
                          [
                            0.3333333333333333,
                            "#9c179e"
                          ],
                          [
                            0.4444444444444444,
                            "#bd3786"
                          ],
                          [
                            0.5555555555555556,
                            "#d8576b"
                          ],
                          [
                            0.6666666666666666,
                            "#ed7953"
                          ],
                          [
                            0.7777777777777778,
                            "#fb9f3a"
                          ],
                          [
                            0.8888888888888888,
                            "#fdca26"
                          ],
                          [
                            1,
                            "#f0f921"
                          ]
                        ],
                        "type": "contour"
                      }
                    ],
                    "contourcarpet": [
                      {
                        "colorbar": {
                          "outlinewidth": 0,
                          "ticks": ""
                        },
                        "type": "contourcarpet"
                      }
                    ],
                    "heatmap": [
                      {
                        "colorbar": {
                          "outlinewidth": 0,
                          "ticks": ""
                        },
                        "colorscale": [
                          [
                            0,
                            "#0d0887"
                          ],
                          [
                            0.1111111111111111,
                            "#46039f"
                          ],
                          [
                            0.2222222222222222,
                            "#7201a8"
                          ],
                          [
                            0.3333333333333333,
                            "#9c179e"
                          ],
                          [
                            0.4444444444444444,
                            "#bd3786"
                          ],
                          [
                            0.5555555555555556,
                            "#d8576b"
                          ],
                          [
                            0.6666666666666666,
                            "#ed7953"
                          ],
                          [
                            0.7777777777777778,
                            "#fb9f3a"
                          ],
                          [
                            0.8888888888888888,
                            "#fdca26"
                          ],
                          [
                            1,
                            "#f0f921"
                          ]
                        ],
                        "type": "heatmap"
                      }
                    ],
                    "histogram": [
                      {
                        "marker": {
                          "pattern": {
                            "fillmode": "overlay",
                            "size": 10,
                            "solidity": 0.2
                          }
                        },
                        "type": "histogram"
                      }
                    ],
                    "histogram2d": [
                      {
                        "colorbar": {
                          "outlinewidth": 0,
                          "ticks": ""
                        },
                        "colorscale": [
                          [
                            0,
                            "#0d0887"
                          ],
                          [
                            0.1111111111111111,
                            "#46039f"
                          ],
                          [
                            0.2222222222222222,
                            "#7201a8"
                          ],
                          [
                            0.3333333333333333,
                            "#9c179e"
                          ],
                          [
                            0.4444444444444444,
                            "#bd3786"
                          ],
                          [
                            0.5555555555555556,
                            "#d8576b"
                          ],
                          [
                            0.6666666666666666,
                            "#ed7953"
                          ],
                          [
                            0.7777777777777778,
                            "#fb9f3a"
                          ],
                          [
                            0.8888888888888888,
                            "#fdca26"
                          ],
                          [
                            1,
                            "#f0f921"
                          ]
                        ],
                        "type": "histogram2d"
                      }
                    ],
                    "histogram2dcontour": [
                      {
                        "colorbar": {
                          "outlinewidth": 0,
                          "ticks": ""
                        },
                        "colorscale": [
                          [
                            0,
                            "#0d0887"
                          ],
                          [
                            0.1111111111111111,
                            "#46039f"
                          ],
                          [
                            0.2222222222222222,
                            "#7201a8"
                          ],
                          [
                            0.3333333333333333,
                            "#9c179e"
                          ],
                          [
                            0.4444444444444444,
                            "#bd3786"
                          ],
                          [
                            0.5555555555555556,
                            "#d8576b"
                          ],
                          [
                            0.6666666666666666,
                            "#ed7953"
                          ],
                          [
                            0.7777777777777778,
                            "#fb9f3a"
                          ],
                          [
                            0.8888888888888888,
                            "#fdca26"
                          ],
                          [
                            1,
                            "#f0f921"
                          ]
                        ],
                        "type": "histogram2dcontour"
                      }
                    ],
                    "mesh3d": [
                      {
                        "colorbar": {
                          "outlinewidth": 0,
                          "ticks": ""
                        },
                        "type": "mesh3d"
                      }
                    ],
                    "parcoords": [
                      {
                        "line": {
                          "colorbar": {
                            "outlinewidth": 0,
                            "ticks": ""
                          }
                        },
                        "type": "parcoords"
                      }
                    ],
                    "pie": [
                      {
                        "automargin": true,
                        "type": "pie"
                      }
                    ],
                    "scatter": [
                      {
                        "marker": {
                          "line": {
                            "color": "#283442"
                          }
                        },
                        "type": "scatter"
                      }
                    ],
                    "scatter3d": [
                      {
                        "line": {
                          "colorbar": {
                            "outlinewidth": 0,
                            "ticks": ""
                          }
                        },
                        "marker": {
                          "colorbar": {
                            "outlinewidth": 0,
                            "ticks": ""
                          }
                        },
                        "type": "scatter3d"
                      }
                    ],
                    "scattercarpet": [
                      {
                        "marker": {
                          "colorbar": {
                            "outlinewidth": 0,
                            "ticks": ""
                          }
                        },
                        "type": "scattercarpet"
                      }
                    ],
                    "scattergeo": [
                      {
                        "marker": {
                          "colorbar": {
                            "outlinewidth": 0,
                            "ticks": ""
                          }
                        },
                        "type": "scattergeo"
                      }
                    ],
                    "scattergl": [
                      {
                        "marker": {
                          "line": {
                            "color": "#283442"
                          }
                        },
                        "type": "scattergl"
                      }
                    ],
                    "scattermap": [
                      {
                        "marker": {
                          "colorbar": {
                            "outlinewidth": 0,
                            "ticks": ""
                          }
                        },
                        "type": "scattermap"
                      }
                    ],
                    "scattermapbox": [
                      {
                        "marker": {
                          "colorbar": {
                            "outlinewidth": 0,
                            "ticks": ""
                          }
                        },
                        "type": "scattermapbox"
                      }
                    ],
                    "scatterpolar": [
                      {
                        "marker": {
                          "colorbar": {
                            "outlinewidth": 0,
                            "ticks": ""
                          }
                        },
                        "type": "scatterpolar"
                      }
                    ],
                    "scatterpolargl": [
                      {
                        "marker": {
                          "colorbar": {
                            "outlinewidth": 0,
                            "ticks": ""
                          }
                        },
                        "type": "scatterpolargl"
                      }
                    ],
                    "scatterternary": [
                      {
                        "marker": {
                          "colorbar": {
                            "outlinewidth": 0,
                            "ticks": ""
                          }
                        },
                        "type": "scatterternary"
                      }
                    ],
                    "surface": [
                      {
                        "colorbar": {
                          "outlinewidth": 0,
                          "ticks": ""
                        },
                        "colorscale": [
                          [
                            0,
                            "#0d0887"
                          ],
                          [
                            0.1111111111111111,
                            "#46039f"
                          ],
                          [
                            0.2222222222222222,
                            "#7201a8"
                          ],
                          [
                            0.3333333333333333,
                            "#9c179e"
                          ],
                          [
                            0.4444444444444444,
                            "#bd3786"
                          ],
                          [
                            0.5555555555555556,
                            "#d8576b"
                          ],
                          [
                            0.6666666666666666,
                            "#ed7953"
                          ],
                          [
                            0.7777777777777778,
                            "#fb9f3a"
                          ],
                          [
                            0.8888888888888888,
                            "#fdca26"
                          ],
                          [
                            1,
                            "#f0f921"
                          ]
                        ],
                        "type": "surface"
                      }
                    ],
                    "table": [
                      {
                        "cells": {
                          "fill": {
                            "color": "#506784"
                          },
                          "line": {
                            "color": "rgb(17,17,17)"
                          }
                        },
                        "header": {
                          "fill": {
                            "color": "#2a3f5f"
                          },
                          "line": {
                            "color": "rgb(17,17,17)"
                          }
                        },
                        "type": "table"
                      }
                    ]
                  },
                  "layout": {
                    "annotationdefaults": {
                      "arrowcolor": "#f2f5fa",
                      "arrowhead": 0,
                      "arrowwidth": 1
                    },
                    "autosize": false,
                    "autotypenumbers": "strict",
                    "coloraxis": {
                      "colorbar": {
                        "outlinewidth": 0,
                        "ticks": ""
                      }
                    },
                    "colorscale": {
                      "diverging": [
                        [
                          0,
                          "#8e0152"
                        ],
                        [
                          0.1,
                          "#c51b7d"
                        ],
                        [
                          0.2,
                          "#de77ae"
                        ],
                        [
                          0.3,
                          "#f1b6da"
                        ],
                        [
                          0.4,
                          "#fde0ef"
                        ],
                        [
                          0.5,
                          "#f7f7f7"
                        ],
                        [
                          0.6,
                          "#e6f5d0"
                        ],
                        [
                          0.7,
                          "#b8e186"
                        ],
                        [
                          0.8,
                          "#7fbc41"
                        ],
                        [
                          0.9,
                          "#4d9221"
                        ],
                        [
                          1,
                          "#276419"
                        ]
                      ],
                      "sequential": [
                        [
                          0,
                          "#0d0887"
                        ],
                        [
                          0.1111111111111111,
                          "#46039f"
                        ],
                        [
                          0.2222222222222222,
                          "#7201a8"
                        ],
                        [
                          0.3333333333333333,
                          "#9c179e"
                        ],
                        [
                          0.4444444444444444,
                          "#bd3786"
                        ],
                        [
                          0.5555555555555556,
                          "#d8576b"
                        ],
                        [
                          0.6666666666666666,
                          "#ed7953"
                        ],
                        [
                          0.7777777777777778,
                          "#fb9f3a"
                        ],
                        [
                          0.8888888888888888,
                          "#fdca26"
                        ],
                        [
                          1,
                          "#f0f921"
                        ]
                      ],
                      "sequentialminus": [
                        [
                          0,
                          "#0d0887"
                        ],
                        [
                          0.1111111111111111,
                          "#46039f"
                        ],
                        [
                          0.2222222222222222,
                          "#7201a8"
                        ],
                        [
                          0.3333333333333333,
                          "#9c179e"
                        ],
                        [
                          0.4444444444444444,
                          "#bd3786"
                        ],
                        [
                          0.5555555555555556,
                          "#d8576b"
                        ],
                        [
                          0.6666666666666666,
                          "#ed7953"
                        ],
                        [
                          0.7777777777777778,
                          "#fb9f3a"
                        ],
                        [
                          0.8888888888888888,
                          "#fdca26"
                        ],
                        [
                          1,
                          "#f0f921"
                        ]
                      ]
                    },
                    "colorway": [
                      "#636efa",
                      "#EF553B",
                      "#00cc96",
                      "#ab63fa",
                      "#FFA15A",
                      "#19d3f3",
                      "#FF6692",
                      "#B6E880",
                      "#FF97FF",
                      "#FECB52"
                    ],
                    "font": {
                      "color": "#f2f5fa"
                    },
                    "geo": {
                      "bgcolor": "rgb(17,17,17)",
                      "lakecolor": "rgb(17,17,17)",
                      "landcolor": "rgb(17,17,17)",
                      "showlakes": true,
                      "showland": true,
                      "subunitcolor": "#506784"
                    },
                    "height": 500,
                    "hoverlabel": {
                      "align": "left"
                    },
                    "hovermode": "closest",
                    "mapbox": {
                      "style": "dark"
                    },
                    "paper_bgcolor": "rgb(17,17,17)",
                    "plot_bgcolor": "rgb(17,17,17)",
                    "polar": {
                      "angularaxis": {
                        "gridcolor": "#506784",
                        "linecolor": "#506784",
                        "ticks": ""
                      },
                      "bgcolor": "rgb(17,17,17)",
                      "radialaxis": {
                        "gridcolor": "#506784",
                        "linecolor": "#506784",
                        "ticks": ""
                      }
                    },
                    "scene": {
                      "xaxis": {
                        "backgroundcolor": "rgb(17,17,17)",
                        "gridcolor": "#506784",
                        "gridwidth": 2,
                        "linecolor": "#506784",
                        "showbackground": true,
                        "ticks": "",
                        "zerolinecolor": "#C8D4E3"
                      },
                      "yaxis": {
                        "backgroundcolor": "rgb(17,17,17)",
                        "gridcolor": "#506784",
                        "gridwidth": 2,
                        "linecolor": "#506784",
                        "showbackground": true,
                        "ticks": "",
                        "zerolinecolor": "#C8D4E3"
                      },
                      "zaxis": {
                        "backgroundcolor": "rgb(17,17,17)",
                        "gridcolor": "#506784",
                        "gridwidth": 2,
                        "linecolor": "#506784",
                        "showbackground": true,
                        "ticks": "",
                        "zerolinecolor": "#C8D4E3"
                      }
                    },
                    "shapedefaults": {
                      "line": {
                        "color": "#f2f5fa"
                      }
                    },
                    "showlegend": true,
                    "sliderdefaults": {
                      "bgcolor": "#C8D4E3",
                      "bordercolor": "rgb(17,17,17)",
                      "borderwidth": 1,
                      "tickwidth": 0
                    },
                    "ternary": {
                      "aaxis": {
                        "gridcolor": "#506784",
                        "linecolor": "#506784",
                        "ticks": ""
                      },
                      "baxis": {
                        "gridcolor": "#506784",
                        "linecolor": "#506784",
                        "ticks": ""
                      },
                      "bgcolor": "rgb(17,17,17)",
                      "caxis": {
                        "gridcolor": "#506784",
                        "linecolor": "#506784",
                        "ticks": ""
                      }
                    },
                    "title": {
                      "x": 0.05
                    },
                    "updatemenudefaults": {
                      "bgcolor": "#506784",
                      "borderwidth": 0
                    },
                    "width": 1000,
                    "xaxis": {
                      "automargin": true,
                      "gridcolor": "#283442",
                      "linecolor": "#506784",
                      "ticks": "",
                      "title": {
                        "standoff": 15
                      },
                      "zerolinecolor": "#283442",
                      "zerolinewidth": 2
                    },
                    "yaxis": {
                      "automargin": true,
                      "gridcolor": "#283442",
                      "linecolor": "#506784",
                      "ticks": "",
                      "title": {
                        "standoff": 15
                      },
                      "zerolinecolor": "#283442",
                      "zerolinewidth": 2
                    }
                  }
                },
                "xaxis": {
                  "anchor": "y",
                  "domain": [
                    0,
                    1
                  ],
                  "title": {
                    "text": "ds"
                  }
                },
                "yaxis": {
                  "anchor": "x",
                  "domain": [
                    0,
                    1
                  ],
                  "title": {
                    "text": "value"
                  }
                }
              }
            }
          },
          "metadata": {},
          "output_type": "display_data"
        }
      ],
      "source": [
        "residuals.plot()"
      ]
    },
    {
      "cell_type": "markdown",
      "id": "8a881322",
      "metadata": {},
      "source": [
        "#### Test"
      ]
    },
    {
      "cell_type": "code",
      "execution_count": 21,
      "id": "057b74c5",
      "metadata": {},
      "outputs": [
        {
          "data": {
            "text/plain": [
              "(np.float64(16.596914206299374),\n",
              " np.float64(0.08377279981299146),\n",
              " 1.7388132803953582,\n",
              " 0.0793106680683477)"
            ]
          },
          "execution_count": 21,
          "metadata": {},
          "output_type": "execute_result"
        }
      ],
      "source": [
        "from statsmodels.stats.diagnostic import het_arch\n",
        "het_arch(residuals)"
      ]
    }
  ],
  "metadata": {
    "kernelspec": {
      "display_name": "time-series",
      "language": "python",
      "name": "python3"
    },
    "language_info": {
      "codemirror_mode": {
        "name": "ipython",
        "version": 3
      },
      "file_extension": ".py",
      "mimetype": "text/x-python",
      "name": "python",
      "nbconvert_exporter": "python",
      "pygments_lexer": "ipython3",
      "version": "3.12.10"
    }
  },
  "nbformat": 4,
  "nbformat_minor": 5
}
