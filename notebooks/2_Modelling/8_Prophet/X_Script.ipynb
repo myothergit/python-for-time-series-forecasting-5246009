{
 "cells": [
  {
   "cell_type": "markdown",
   "id": "05c0fa00",
   "metadata": {},
   "source": [
    "# Time series forecasting with Prophet"
   ]
  },
  {
   "cell_type": "code",
   "execution_count": 1,
   "id": "9b3bf490",
   "metadata": {},
   "outputs": [],
   "source": [
    "from modules import utils\n",
    "utils.configure_plotly_template(showlegend=True)"
   ]
  },
  {
   "cell_type": "markdown",
   "id": "a525b6b0",
   "metadata": {},
   "source": [
    "## Load Data"
   ]
  },
  {
   "cell_type": "code",
   "execution_count": 2,
   "id": "15ebec70",
   "metadata": {},
   "outputs": [],
   "source": [
    "path = \"../../../data/statsmodels/AirPassengers.parquet\""
   ]
  },
  {
   "cell_type": "code",
   "execution_count": 3,
   "id": "6c560eef",
   "metadata": {},
   "outputs": [
    {
     "data": {
      "text/plain": [
       "1949-01-31    112\n",
       "1949-02-28    118\n",
       "             ... \n",
       "1960-11-30    390\n",
       "1960-12-31    432\n",
       "Freq: ME, Name: values, Length: 144, dtype: int64"
      ]
     },
     "execution_count": 3,
     "metadata": {},
     "output_type": "execute_result"
    }
   ],
   "source": [
    "import pandas as pd\n",
    "\n",
    "df = pd.read_parquet(path).asfreq('ME')\n",
    "df.columns = ['values']\n",
    "\n",
    "series = df['values']\n",
    "series"
   ]
  },
  {
   "cell_type": "markdown",
   "id": "54b7f96c",
   "metadata": {},
   "source": [
    "## Prepare DataFrame for Prophet"
   ]
  },
  {
   "cell_type": "code",
   "execution_count": 4,
   "id": "6083bccf",
   "metadata": {},
   "outputs": [
    {
     "data": {
      "text/html": [
       "<div>\n",
       "<style scoped>\n",
       "    .dataframe tbody tr th:only-of-type {\n",
       "        vertical-align: middle;\n",
       "    }\n",
       "\n",
       "    .dataframe tbody tr th {\n",
       "        vertical-align: top;\n",
       "    }\n",
       "\n",
       "    .dataframe thead th {\n",
       "        text-align: right;\n",
       "    }\n",
       "</style>\n",
       "<table border=\"1\" class=\"dataframe\">\n",
       "  <thead>\n",
       "    <tr style=\"text-align: right;\">\n",
       "      <th></th>\n",
       "      <th>ds</th>\n",
       "      <th>y</th>\n",
       "    </tr>\n",
       "  </thead>\n",
       "  <tbody>\n",
       "    <tr>\n",
       "      <th>1949-01-31</th>\n",
       "      <td>1949-01-31</td>\n",
       "      <td>112</td>\n",
       "    </tr>\n",
       "    <tr>\n",
       "      <th>1949-02-28</th>\n",
       "      <td>1949-02-28</td>\n",
       "      <td>118</td>\n",
       "    </tr>\n",
       "    <tr>\n",
       "      <th>...</th>\n",
       "      <td>...</td>\n",
       "      <td>...</td>\n",
       "    </tr>\n",
       "    <tr>\n",
       "      <th>1960-11-30</th>\n",
       "      <td>1960-11-30</td>\n",
       "      <td>390</td>\n",
       "    </tr>\n",
       "    <tr>\n",
       "      <th>1960-12-31</th>\n",
       "      <td>1960-12-31</td>\n",
       "      <td>432</td>\n",
       "    </tr>\n",
       "  </tbody>\n",
       "</table>\n",
       "<p>144 rows × 2 columns</p>\n",
       "</div>"
      ],
      "text/plain": [
       "                   ds    y\n",
       "1949-01-31 1949-01-31  112\n",
       "1949-02-28 1949-02-28  118\n",
       "...               ...  ...\n",
       "1960-11-30 1960-11-30  390\n",
       "1960-12-31 1960-12-31  432\n",
       "\n",
       "[144 rows x 2 columns]"
      ]
     },
     "execution_count": 4,
     "metadata": {},
     "output_type": "execute_result"
    }
   ],
   "source": [
    "df = pd.DataFrame({\n",
    "    'ds': series.index,\n",
    "    'y': series.values,\n",
    "}, index=series.index)\n",
    "\n",
    "df"
   ]
  },
  {
   "cell_type": "markdown",
   "id": "e3077129",
   "metadata": {},
   "source": [
    "## Model fit"
   ]
  },
  {
   "cell_type": "code",
   "execution_count": 5,
   "id": "47959e32",
   "metadata": {},
   "outputs": [
    {
     "name": "stderr",
     "output_type": "stream",
     "text": [
      "09:31:01 - cmdstanpy - INFO - Chain [1] start processing\n",
      "09:31:01 - cmdstanpy - INFO - Chain [1] done processing\n"
     ]
    },
    {
     "data": {
      "text/plain": [
       "<prophet.forecaster.Prophet at 0x30b4fa900>"
      ]
     },
     "execution_count": 5,
     "metadata": {},
     "output_type": "execute_result"
    }
   ],
   "source": [
    "from prophet import Prophet\n",
    "\n",
    "model = Prophet(\n",
    "    yearly_seasonality=True,\n",
    "    weekly_seasonality=False,\n",
    "    daily_seasonality=False,\n",
    "    seasonality_mode='multiplicative'  # or 'additive'\n",
    ")\n",
    "model.fit(df)"
   ]
  },
  {
   "cell_type": "markdown",
   "id": "06272680",
   "metadata": {},
   "source": [
    "## Forecast"
   ]
  },
  {
   "cell_type": "code",
   "execution_count": 6,
   "id": "42c81845",
   "metadata": {},
   "outputs": [
    {
     "data": {
      "text/html": [
       "<div>\n",
       "<style scoped>\n",
       "    .dataframe tbody tr th:only-of-type {\n",
       "        vertical-align: middle;\n",
       "    }\n",
       "\n",
       "    .dataframe tbody tr th {\n",
       "        vertical-align: top;\n",
       "    }\n",
       "\n",
       "    .dataframe thead th {\n",
       "        text-align: right;\n",
       "    }\n",
       "</style>\n",
       "<table border=\"1\" class=\"dataframe\">\n",
       "  <thead>\n",
       "    <tr style=\"text-align: right;\">\n",
       "      <th></th>\n",
       "      <th>ds</th>\n",
       "      <th>yhat</th>\n",
       "      <th>yhat_lower</th>\n",
       "      <th>yhat_upper</th>\n",
       "    </tr>\n",
       "  </thead>\n",
       "  <tbody>\n",
       "    <tr>\n",
       "      <th>187</th>\n",
       "      <td>1964-08-31</td>\n",
       "      <td>804.322300</td>\n",
       "      <td>780.928863</td>\n",
       "      <td>829.511326</td>\n",
       "    </tr>\n",
       "    <tr>\n",
       "      <th>188</th>\n",
       "      <td>1964-09-30</td>\n",
       "      <td>685.596010</td>\n",
       "      <td>665.487662</td>\n",
       "      <td>707.256383</td>\n",
       "    </tr>\n",
       "    <tr>\n",
       "      <th>...</th>\n",
       "      <td>...</td>\n",
       "      <td>...</td>\n",
       "      <td>...</td>\n",
       "      <td>...</td>\n",
       "    </tr>\n",
       "    <tr>\n",
       "      <th>190</th>\n",
       "      <td>1964-11-30</td>\n",
       "      <td>525.884549</td>\n",
       "      <td>506.899635</td>\n",
       "      <td>545.962434</td>\n",
       "    </tr>\n",
       "    <tr>\n",
       "      <th>191</th>\n",
       "      <td>1964-12-31</td>\n",
       "      <td>583.970836</td>\n",
       "      <td>563.991531</td>\n",
       "      <td>604.830899</td>\n",
       "    </tr>\n",
       "  </tbody>\n",
       "</table>\n",
       "<p>5 rows × 4 columns</p>\n",
       "</div>"
      ],
      "text/plain": [
       "            ds        yhat  yhat_lower  yhat_upper\n",
       "187 1964-08-31  804.322300  780.928863  829.511326\n",
       "188 1964-09-30  685.596010  665.487662  707.256383\n",
       "..         ...         ...         ...         ...\n",
       "190 1964-11-30  525.884549  506.899635  545.962434\n",
       "191 1964-12-31  583.970836  563.991531  604.830899\n",
       "\n",
       "[5 rows x 4 columns]"
      ]
     },
     "execution_count": 6,
     "metadata": {},
     "output_type": "execute_result"
    }
   ],
   "source": [
    "future = model.make_future_dataframe(periods=48, freq='ME')\n",
    "forecast = model.predict(future)\n",
    "forecast[['ds', 'yhat', 'yhat_lower', 'yhat_upper']].tail()"
   ]
  },
  {
   "cell_type": "code",
   "execution_count": 7,
   "id": "48c4d9f9",
   "metadata": {},
   "outputs": [
    {
     "data": {
      "image/png": "[encoded data removed]",
      "text/plain": [
       "<Figure size 1000x600 with 1 Axes>"
      ]
     },
     "metadata": {},
     "output_type": "display_data"
    }
   ],
   "source": [
    "model.plot(forecast);"
   ]
  },
  {
   "cell_type": "code",
   "execution_count": 8,
   "id": "49c33425",
   "metadata": {},
   "outputs": [
    {
     "data": {
      "application/vnd.plotly.v1+json": {
       "config": {
        "plotlyServerURL": "https://plot.ly"
       },
       "data": [
        {
         "line": {
          "color": "#fa636e",
          "width": 1.5
         },
         "marker": {
          "color": "#fa636e",
          "size": 5,
          "symbol": "circle"
         },
         "mode": "lines+markers",
         "name": "Historical",
         "type": "scatter",
         "x": [
          "1949-01-31T00:00:00.000000000",
          "1949-02-28T00:00:00.000000000",
          "1949-03-31T00:00:00.000000000",
          "1949-04-30T00:00:00.000000000",
          "1949-05-31T00:00:00.000000000",
          "1949-06-30T00:00:00.000000000",
          "1949-07-31T00:00:00.000000000",
          "1949-08-31T00:00:00.000000000",
          "1949-09-30T00:00:00.000000000",
          "1949-10-31T00:00:00.000000000",
          "1949-11-30T00:00:00.000000000",
          "1949-12-31T00:00:00.000000000",
          "1950-01-31T00:00:00.000000000",
          "1950-02-28T00:00:00.000000000",
          "1950-03-31T00:00:00.000000000",
          "1950-04-30T00:00:00.000000000",
          "1950-05-31T00:00:00.000000000",
          "1950-06-30T00:00:00.000000000",
          "1950-07-31T00:00:00.000000000",
          "1950-08-31T00:00:00.000000000",
          "1950-09-30T00:00:00.000000000",
          "1950-10-31T00:00:00.000000000",
          "1950-11-30T00:00:00.000000000",
          "1950-12-31T00:00:00.000000000",
          "1951-01-31T00:00:00.000000000",
          "1951-02-28T00:00:00.000000000",
          "1951-03-31T00:00:00.000000000",
          "1951-04-30T00:00:00.000000000",
          "1951-05-31T00:00:00.000000000",
          "1951-06-30T00:00:00.000000000",
          "1951-07-31T00:00:00.000000000",
          "1951-08-31T00:00:00.000000000",
          "1951-09-30T00:00:00.000000000",
          "1951-10-31T00:00:00.000000000",
          "1951-11-30T00:00:00.000000000",
          "1951-12-31T00:00:00.000000000",
          "1952-01-31T00:00:00.000000000",
          "1952-02-29T00:00:00.000000000",
          "1952-03-31T00:00:00.000000000",
          "1952-04-30T00:00:00.000000000",
          "1952-05-31T00:00:00.000000000",
          "1952-06-30T00:00:00.000000000",
          "1952-07-31T00:00:00.000000000",
          "1952-08-31T00:00:00.000000000",
          "1952-09-30T00:00:00.000000000",
          "1952-10-31T00:00:00.000000000",
          "1952-11-30T00:00:00.000000000",
          "1952-12-31T00:00:00.000000000",
          "1953-01-31T00:00:00.000000000",
          "1953-02-28T00:00:00.000000000",
          "1953-03-31T00:00:00.000000000",
          "1953-04-30T00:00:00.000000000",
          "1953-05-31T00:00:00.000000000",
          "1953-06-30T00:00:00.000000000",
          "1953-07-31T00:00:00.000000000",
          "1953-08-31T00:00:00.000000000",
          "1953-09-30T00:00:00.000000000",
          "1953-10-31T00:00:00.000000000",
          "1953-11-30T00:00:00.000000000",
          "1953-12-31T00:00:00.000000000",
          "1954-01-31T00:00:00.000000000",
          "1954-02-28T00:00:00.000000000",
          "1954-03-31T00:00:00.000000000",
          "1954-04-30T00:00:00.000000000",
          "1954-05-31T00:00:00.000000000",
          "1954-06-30T00:00:00.000000000",
          "1954-07-31T00:00:00.000000000",
          "1954-08-31T00:00:00.000000000",
          "1954-09-30T00:00:00.000000000",
          "1954-10-31T00:00:00.000000000",
          "1954-11-30T00:00:00.000000000",
          "1954-12-31T00:00:00.000000000",
          "1955-01-31T00:00:00.000000000",
          "1955-02-28T00:00:00.000000000",
          "1955-03-31T00:00:00.000000000",
          "1955-04-30T00:00:00.000000000",
          "1955-05-31T00:00:00.000000000",
          "1955-06-30T00:00:00.000000000",
          "1955-07-31T00:00:00.000000000",
          "1955-08-31T00:00:00.000000000",
          "1955-09-30T00:00:00.000000000",
          "1955-10-31T00:00:00.000000000",
          "1955-11-30T00:00:00.000000000",
          "1955-12-31T00:00:00.000000000",
          "1956-01-31T00:00:00.000000000",
          "1956-02-29T00:00:00.000000000",
          "1956-03-31T00:00:00.000000000",
          "1956-04-30T00:00:00.000000000",
          "1956-05-31T00:00:00.000000000",
          "1956-06-30T00:00:00.000000000",
          "1956-07-31T00:00:00.000000000",
          "1956-08-31T00:00:00.000000000",
          "1956-09-30T00:00:00.000000000",
          "1956-10-31T00:00:00.000000000",
          "1956-11-30T00:00:00.000000000",
          "1956-12-31T00:00:00.000000000",
          "1957-01-31T00:00:00.000000000",
          "1957-02-28T00:00:00.000000000",
          "1957-03-31T00:00:00.000000000",
          "1957-04-30T00:00:00.000000000",
          "1957-05-31T00:00:00.000000000",
          "1957-06-30T00:00:00.000000000",
          "1957-07-31T00:00:00.000000000",
          "1957-08-31T00:00:00.000000000",
          "1957-09-30T00:00:00.000000000",
          "1957-10-31T00:00:00.000000000",
          "1957-11-30T00:00:00.000000000",
          "1957-12-31T00:00:00.000000000",
          "1958-01-31T00:00:00.000000000",
          "1958-02-28T00:00:00.000000000",
          "1958-03-31T00:00:00.000000000",
          "1958-04-30T00:00:00.000000000",
          "1958-05-31T00:00:00.000000000",
          "1958-06-30T00:00:00.000000000",
          "1958-07-31T00:00:00.000000000",
          "1958-08-31T00:00:00.000000000",
          "1958-09-30T00:00:00.000000000",
          "1958-10-31T00:00:00.000000000",
          "1958-11-30T00:00:00.000000000",
          "1958-12-31T00:00:00.000000000",
          "1959-01-31T00:00:00.000000000",
          "1959-02-28T00:00:00.000000000",
          "1959-03-31T00:00:00.000000000",
          "1959-04-30T00:00:00.000000000",
          "1959-05-31T00:00:00.000000000",
          "1959-06-30T00:00:00.000000000",
          "1959-07-31T00:00:00.000000000",
          "1959-08-31T00:00:00.000000000",
          "1959-09-30T00:00:00.000000000",
          "1959-10-31T00:00:00.000000000",
          "1959-11-30T00:00:00.000000000",
          "1959-12-31T00:00:00.000000000",
          "1960-01-31T00:00:00.000000000",
          "1960-02-29T00:00:00.000000000",
          "1960-03-31T00:00:00.000000000",
          "1960-04-30T00:00:00.000000000",
          "1960-05-31T00:00:00.000000000",
          "1960-06-30T00:00:00.000000000",
          "1960-07-31T00:00:00.000000000",
          "1960-08-31T00:00:00.000000000",
          "1960-09-30T00:00:00.000000000",
          "1960-10-31T00:00:00.000000000",
          "1960-11-30T00:00:00.000000000",
          "1960-12-31T00:00:00.000000000"
         ],
         "y": {
          "bdata": "cAB2AIQAgQB5AIcAlACUAIgAdwBoAHYAcwB+AI0AhwB9AJUAqgCqAJ4AhQByAIwAkQCWALIAowCsALIAxwDHALgAogCSAKYAqwC0AMEAtQC3ANoA5gDyANEAvwCsAMIAxADEAOwA6wDlAPMACAEQAe0A0wC0AMkAzAC8AOsA4wDqAAgBLgElAQMB5QDLAOUA8gDpAAsBDQEOATsBbAFbATgBEgHtABYBHAEVAT0BOQE+AXYBnQGVAWMBMgEPATIBOwEtAWQBXAFjAaYB0QHTAZQBWwExAVABVAE+AWoBXAFrAbMB6wH5AZQBZwE2AVEBaAFWAZYBjAGkAdgBJAIvAs8BlwFqAZUBoQGHAaMBzQHYARcCbgJeAvwBzQGGAbAB",
          "dtype": "i2"
         }
        },
        {
         "line": {
          "color": "#FFD700",
          "width": 2
         },
         "name": "Forecast",
         "type": "scatter",
         "x": [
          "1949-01-31T00:00:00.000000000",
          "1949-02-28T00:00:00.000000000",
          "1949-03-31T00:00:00.000000000",
          "1949-04-30T00:00:00.000000000",
          "1949-05-31T00:00:00.000000000",
          "1949-06-30T00:00:00.000000000",
          "1949-07-31T00:00:00.000000000",
          "1949-08-31T00:00:00.000000000",
          "1949-09-30T00:00:00.000000000",
          "1949-10-31T00:00:00.000000000",
          "1949-11-30T00:00:00.000000000",
          "1949-12-31T00:00:00.000000000",
          "1950-01-31T00:00:00.000000000",
          "1950-02-28T00:00:00.000000000",
          "1950-03-31T00:00:00.000000000",
          "1950-04-30T00:00:00.000000000",
          "1950-05-31T00:00:00.000000000",
          "1950-06-30T00:00:00.000000000",
          "1950-07-31T00:00:00.000000000",
          "1950-08-31T00:00:00.000000000",
          "1950-09-30T00:00:00.000000000",
          "1950-10-31T00:00:00.000000000",
          "1950-11-30T00:00:00.000000000",
          "1950-12-31T00:00:00.000000000",
          "1951-01-31T00:00:00.000000000",
          "1951-02-28T00:00:00.000000000",
          "1951-03-31T00:00:00.000000000",
          "1951-04-30T00:00:00.000000000",
          "1951-05-31T00:00:00.000000000",
          "1951-06-30T00:00:00.000000000",
          "1951-07-31T00:00:00.000000000",
          "1951-08-31T00:00:00.000000000",
          "1951-09-30T00:00:00.000000000",
          "1951-10-31T00:00:00.000000000",
          "1951-11-30T00:00:00.000000000",
          "1951-12-31T00:00:00.000000000",
          "1952-01-31T00:00:00.000000000",
          "1952-02-29T00:00:00.000000000",
          "1952-03-31T00:00:00.000000000",
          "1952-04-30T00:00:00.000000000",
          "1952-05-31T00:00:00.000000000",
          "1952-06-30T00:00:00.000000000",
          "1952-07-31T00:00:00.000000000",
          "1952-08-31T00:00:00.000000000",
          "1952-09-30T00:00:00.000000000",
          "1952-10-31T00:00:00.000000000",
          "1952-11-30T00:00:00.000000000",
          "1952-12-31T00:00:00.000000000",
          "1953-01-31T00:00:00.000000000",
          "1953-02-28T00:00:00.000000000",
          "1953-03-31T00:00:00.000000000",
          "1953-04-30T00:00:00.000000000",
          "1953-05-31T00:00:00.000000000",
          "1953-06-30T00:00:00.000000000",
          "1953-07-31T00:00:00.000000000",
          "1953-08-31T00:00:00.000000000",
          "1953-09-30T00:00:00.000000000",
          "1953-10-31T00:00:00.000000000",
          "1953-11-30T00:00:00.000000000",
          "1953-12-31T00:00:00.000000000",
          "1954-01-31T00:00:00.000000000",
          "1954-02-28T00:00:00.000000000",
          "1954-03-31T00:00:00.000000000",
          "1954-04-30T00:00:00.000000000",
          "1954-05-31T00:00:00.000000000",
          "1954-06-30T00:00:00.000000000",
          "1954-07-31T00:00:00.000000000",
          "1954-08-31T00:00:00.000000000",
          "1954-09-30T00:00:00.000000000",
          "1954-10-31T00:00:00.000000000",
          "1954-11-30T00:00:00.000000000",
          "1954-12-31T00:00:00.000000000",
          "1955-01-31T00:00:00.000000000",
          "1955-02-28T00:00:00.000000000",
          "1955-03-31T00:00:00.000000000",
          "1955-04-30T00:00:00.000000000",
          "1955-05-31T00:00:00.000000000",
          "1955-06-30T00:00:00.000000000",
          "1955-07-31T00:00:00.000000000",
          "1955-08-31T00:00:00.000000000",
          "1955-09-30T00:00:00.000000000",
          "1955-10-31T00:00:00.000000000",
          "1955-11-30T00:00:00.000000000",
          "1955-12-31T00:00:00.000000000",
          "1956-01-31T00:00:00.000000000",
          "1956-02-29T00:00:00.000000000",
          "1956-03-31T00:00:00.000000000",
          "1956-04-30T00:00:00.000000000",
          "1956-05-31T00:00:00.000000000",
          "1956-06-30T00:00:00.000000000",
          "1956-07-31T00:00:00.000000000",
          "1956-08-31T00:00:00.000000000",
          "1956-09-30T00:00:00.000000000",
          "1956-10-31T00:00:00.000000000",
          "1956-11-30T00:00:00.000000000",
          "1956-12-31T00:00:00.000000000",
          "1957-01-31T00:00:00.000000000",
          "1957-02-28T00:00:00.000000000",
          "1957-03-31T00:00:00.000000000",
          "1957-04-30T00:00:00.000000000",
          "1957-05-31T00:00:00.000000000",
          "1957-06-30T00:00:00.000000000",
          "1957-07-31T00:00:00.000000000",
          "1957-08-31T00:00:00.000000000",
          "1957-09-30T00:00:00.000000000",
          "1957-10-31T00:00:00.000000000",
          "1957-11-30T00:00:00.000000000",
          "1957-12-31T00:00:00.000000000",
          "1958-01-31T00:00:00.000000000",
          "1958-02-28T00:00:00.000000000",
          "1958-03-31T00:00:00.000000000",
          "1958-04-30T00:00:00.000000000",
          "1958-05-31T00:00:00.000000000",
          "1958-06-30T00:00:00.000000000",
          "1958-07-31T00:00:00.000000000",
          "1958-08-31T00:00:00.000000000",
          "1958-09-30T00:00:00.000000000",
          "1958-10-31T00:00:00.000000000",
          "1958-11-30T00:00:00.000000000",
          "1958-12-31T00:00:00.000000000",
          "1959-01-31T00:00:00.000000000",
          "1959-02-28T00:00:00.000000000",
          "1959-03-31T00:00:00.000000000",
          "1959-04-30T00:00:00.000000000",
          "1959-05-31T00:00:00.000000000",
          "1959-06-30T00:00:00.000000000",
          "1959-07-31T00:00:00.000000000",
          "1959-08-31T00:00:00.000000000",
          "1959-09-30T00:00:00.000000000",
          "1959-10-31T00:00:00.000000000",
          "1959-11-30T00:00:00.000000000",
          "1959-12-31T00:00:00.000000000",
          "1960-01-31T00:00:00.000000000",
          "1960-02-29T00:00:00.000000000",
          "1960-03-31T00:00:00.000000000",
          "1960-04-30T00:00:00.000000000",
          "1960-05-31T00:00:00.000000000",
          "1960-06-30T00:00:00.000000000",
          "1960-07-31T00:00:00.000000000",
          "1960-08-31T00:00:00.000000000",
          "1960-09-30T00:00:00.000000000",
          "1960-10-31T00:00:00.000000000",
          "1960-11-30T00:00:00.000000000",
          "1960-12-31T00:00:00.000000000"
         ],
         "y": {
          "bdata": "mpmZmZm5WUCuR+F6FB5ZQOxRuB6Fq1xAXI/C9SgMXUCuR+F6FM5dQKRwPQrXQ2FAKVyPwvWgY0AfhetRuKZjQK5H4XoU1mBA9ihcj8L1XUC4HoXrUShaQOxRuB6FW11AMzMzMzNzXkCamZmZmTldQMP1KFyPCmFA7FG4HoXbYEC4HoXrUXBhQGZmZmZmDmRAFK5H4XrcZkDD9ShcjwJnQFyPwvUorGNAexSuR+FiYUC4HoXrUYheQJqZmZmZMWFAKVyPwvXgYUB7FK5H4epgQK5H4XoUNmRACtejcD2SY0ApXI/C9XhkQB+F61G4bmdAmpmZmZnZakD2KFyPwhVrQHsUrkfhCmdAXI/C9SgsZEA9CtejcMVhQI/C9ShcB2RACtejcD3SZEA9CtejcD1kQOxRuB6Fe2ZA9ihcj8I1Z0DhehSuR4FnQDMzMzMzS2tAFK5H4XrMbkCamZmZmZluQI/C9ShcN2pAAAAAAABwZ0C4HoXrUVBkQOxRuB6Fq2ZASOF6FK5nZ0BxPQrXo8BmQJqZmZmZ2WlAexSuR+ESakDD9Shcj6JqQFK4HoXruW5AuB6F61FkcUAfhetRuFZxQAAAAAAAmG1AUrgehes5akBI4XoUrs9mQClcj8L1gGlAw/UoXI9aakCuR+F6FDZpQKRwPQrXS21A4XoUrkfhbED2KFyPwsVtQAAAAAAAHHFAhetRuB59c0AUrkfheoxzQM3MzMzMqHBApHA9CtdrbUBI4XoUrs9pQKRwPQrXC21A9ihcj8ItbkApXI/C9YhsQAAAAAAACHFAexSuR+F6cEBSuB6F6zlxQFyPwvUotHNA7FG4HoWPdkCuR+F6FL52QJqZmZmZVXNAZmZmZmbqcEApXI/C9chtQArXo3A9xnBAPQrXo3BtcUAK16NwPe5wQEjhehSuy3JAFK5H4Xpkc0DNzMzMzKBzQOxRuB6Fx3ZAzczMzMyweUB7FK5H4YJ5QKRwPQrX03VAzczMzMx8c0CuR+F6FN5wQM3MzMzMzHJAZmZmZmZic0AzMzMzM89yQOxRuB6FU3VAuB6F61F4dUDsUbgeheN1QFyPwvUoMHlA4XoUrkdxfEApXI/C9Uh8QHE9CtejFHhAUrgehetJdUA9CtejcHlyQDMzMzMzm3RAZmZmZmY+dUAAAAAAAEh0QKRwPQrXg3dAUrgeheshd0BI4XoUrst3QM3MzMzMOHtAFK5H4XrcfkBcj8L1KOR+QK5H4XoURnpA4XoUrkcZd0BmZmZmZi50QJqZmZmZnXZAH4XrUbhmd0AAAAAAAAx2QHsUrkfhNnpAPQrXo3BFeUBxPQrXo1B6QK5H4XoU/n1ApHA9CtcbgUA9CtejcC+BQDMzMzMzH31AXI/C9ShkeUC4HoXrUUh2QAAAAAAABHlApHA9CtfneUBI4XoUrhd5QIXrUbgexXtAPQrXo3CRfEAAAAAAANR8QLgehetRroBAXI/C9SjCgkCF61G4HpOCQPYoXI/CuX9A4XoUrkdFfECF61G4Hm14QM3MzMzMLHtA",
          "dtype": "f8"
         }
        },
        {
         "line": {
          "color": "rgba(212, 212, 217, 0.0)",
          "width": 0
         },
         "name": "Forecast Interval Upper Bound",
         "showlegend": true,
         "type": "scatter",
         "x": [
          "1949-01-31T00:00:00.000000000",
          "1949-02-28T00:00:00.000000000",
          "1949-03-31T00:00:00.000000000",
          "1949-04-30T00:00:00.000000000",
          "1949-05-31T00:00:00.000000000",
          "1949-06-30T00:00:00.000000000",
          "1949-07-31T00:00:00.000000000",
          "1949-08-31T00:00:00.000000000",
          "1949-09-30T00:00:00.000000000",
          "1949-10-31T00:00:00.000000000",
          "1949-11-30T00:00:00.000000000",
          "1949-12-31T00:00:00.000000000",
          "1950-01-31T00:00:00.000000000",
          "1950-02-28T00:00:00.000000000",
          "1950-03-31T00:00:00.000000000",
          "1950-04-30T00:00:00.000000000",
          "1950-05-31T00:00:00.000000000",
          "1950-06-30T00:00:00.000000000",
          "1950-07-31T00:00:00.000000000",
          "1950-08-31T00:00:00.000000000",
          "1950-09-30T00:00:00.000000000",
          "1950-10-31T00:00:00.000000000",
          "1950-11-30T00:00:00.000000000",
          "1950-12-31T00:00:00.000000000",
          "1951-01-31T00:00:00.000000000",
          "1951-02-28T00:00:00.000000000",
          "1951-03-31T00:00:00.000000000",
          "1951-04-30T00:00:00.000000000",
          "1951-05-31T00:00:00.000000000",
          "1951-06-30T00:00:00.000000000",
          "1951-07-31T00:00:00.000000000",
          "1951-08-31T00:00:00.000000000",
          "1951-09-30T00:00:00.000000000",
          "1951-10-31T00:00:00.000000000",
          "1951-11-30T00:00:00.000000000",
          "1951-12-31T00:00:00.000000000",
          "1952-01-31T00:00:00.000000000",
          "1952-02-29T00:00:00.000000000",
          "1952-03-31T00:00:00.000000000",
          "1952-04-30T00:00:00.000000000",
          "1952-05-31T00:00:00.000000000",
          "1952-06-30T00:00:00.000000000",
          "1952-07-31T00:00:00.000000000",
          "1952-08-31T00:00:00.000000000",
          "1952-09-30T00:00:00.000000000",
          "1952-10-31T00:00:00.000000000",
          "1952-11-30T00:00:00.000000000",
          "1952-12-31T00:00:00.000000000",
          "1953-01-31T00:00:00.000000000",
          "1953-02-28T00:00:00.000000000",
          "1953-03-31T00:00:00.000000000",
          "1953-04-30T00:00:00.000000000",
          "1953-05-31T00:00:00.000000000",
          "1953-06-30T00:00:00.000000000",
          "1953-07-31T00:00:00.000000000",
          "1953-08-31T00:00:00.000000000",
          "1953-09-30T00:00:00.000000000",
          "1953-10-31T00:00:00.000000000",
          "1953-11-30T00:00:00.000000000",
          "1953-12-31T00:00:00.000000000",
          "1954-01-31T00:00:00.000000000",
          "1954-02-28T00:00:00.000000000",
          "1954-03-31T00:00:00.000000000",
          "1954-04-30T00:00:00.000000000",
          "1954-05-31T00:00:00.000000000",
          "1954-06-30T00:00:00.000000000",
          "1954-07-31T00:00:00.000000000",
          "1954-08-31T00:00:00.000000000",
          "1954-09-30T00:00:00.000000000",
          "1954-10-31T00:00:00.000000000",
          "1954-11-30T00:00:00.000000000",
          "1954-12-31T00:00:00.000000000",
          "1955-01-31T00:00:00.000000000",
          "1955-02-28T00:00:00.000000000",
          "1955-03-31T00:00:00.000000000",
          "1955-04-30T00:00:00.000000000",
          "1955-05-31T00:00:00.000000000",
          "1955-06-30T00:00:00.000000000",
          "1955-07-31T00:00:00.000000000",
          "1955-08-31T00:00:00.000000000",
          "1955-09-30T00:00:00.000000000",
          "1955-10-31T00:00:00.000000000",
          "1955-11-30T00:00:00.000000000",
          "1955-12-31T00:00:00.000000000",
          "1956-01-31T00:00:00.000000000",
          "1956-02-29T00:00:00.000000000",
          "1956-03-31T00:00:00.000000000",
          "1956-04-30T00:00:00.000000000",
          "1956-05-31T00:00:00.000000000",
          "1956-06-30T00:00:00.000000000",
          "1956-07-31T00:00:00.000000000",
          "1956-08-31T00:00:00.000000000",
          "1956-09-30T00:00:00.000000000",
          "1956-10-31T00:00:00.000000000",
          "1956-11-30T00:00:00.000000000",
          "1956-12-31T00:00:00.000000000",
          "1957-01-31T00:00:00.000000000",
          "1957-02-28T00:00:00.000000000",
          "1957-03-31T00:00:00.000000000",
          "1957-04-30T00:00:00.000000000",
          "1957-05-31T00:00:00.000000000",
          "1957-06-30T00:00:00.000000000",
          "1957-07-31T00:00:00.000000000",
          "1957-08-31T00:00:00.000000000",
          "1957-09-30T00:00:00.000000000",
          "1957-10-31T00:00:00.000000000",
          "1957-11-30T00:00:00.000000000",
          "1957-12-31T00:00:00.000000000",
          "1958-01-31T00:00:00.000000000",
          "1958-02-28T00:00:00.000000000",
          "1958-03-31T00:00:00.000000000",
          "1958-04-30T00:00:00.000000000",
          "1958-05-31T00:00:00.000000000",
          "1958-06-30T00:00:00.000000000",
          "1958-07-31T00:00:00.000000000",
          "1958-08-31T00:00:00.000000000",
          "1958-09-30T00:00:00.000000000",
          "1958-10-31T00:00:00.000000000",
          "1958-11-30T00:00:00.000000000",
          "1958-12-31T00:00:00.000000000",
          "1959-01-31T00:00:00.000000000",
          "1959-02-28T00:00:00.000000000",
          "1959-03-31T00:00:00.000000000",
          "1959-04-30T00:00:00.000000000",
          "1959-05-31T00:00:00.000000000",
          "1959-06-30T00:00:00.000000000",
          "1959-07-31T00:00:00.000000000",
          "1959-08-31T00:00:00.000000000",
          "1959-09-30T00:00:00.000000000",
          "1959-10-31T00:00:00.000000000",
          "1959-11-30T00:00:00.000000000",
          "1959-12-31T00:00:00.000000000",
          "1960-01-31T00:00:00.000000000",
          "1960-02-29T00:00:00.000000000",
          "1960-03-31T00:00:00.000000000",
          "1960-04-30T00:00:00.000000000",
          "1960-05-31T00:00:00.000000000",
          "1960-06-30T00:00:00.000000000",
          "1960-07-31T00:00:00.000000000",
          "1960-08-31T00:00:00.000000000",
          "1960-09-30T00:00:00.000000000",
          "1960-10-31T00:00:00.000000000",
          "1960-11-30T00:00:00.000000000",
          "1960-12-31T00:00:00.000000000"
         ],
         "y": {
          "bdata": "SOF6FK4HXUCuR+F6FE5cQGZmZmZm1l9AKVyPwvUoYEAzMzMzM3NgQGZmZmZm7mJAw/UoXI9CZUAzMzMzM1NlQBSuR+F6hGJACtejcD2aYEA9CtejcF1dQD0K16NwRWBAhetRuB7NYEA9CtejcDVgQPYoXI/CrWJAuB6F61GAYkCamZmZmSljQB+F61G4tmVAexSuR+FyaEBI4XoUrqdoQPYoXI/CNWVA4XoUrkcBY0C4HoXrUdBgQK5H4XoU1mJAKVyPwvWQY0DhehSuR4liQMP1KFyPumVAPQrXo3A9ZUA9CtejcC1mQIXrUbgeJWlAhetRuB5tbEDhehSuR6lsQOxRuB6Fo2hAZmZmZmbeZUAzMzMzM2tjQMP1KFyPkmVACtejcD16ZkDD9Shcj9JlQMP1KFyPOmhAKVyPwvWoaECuR+F6FA5pQPYoXI/C9WxA4XoUrkcpcEAUrkfheiRwQArXo3A9+mtAAAAAAAAIaUAzMzMzM+tlQB+F61G4PmhAexSuR+ESaUAUrkfhemRoQM3MzMzMdGtAMzMzMzOza0CPwvUoXD9sQClcj8L1JHBAcT0K16M8ckC4HoXrURhyQPYoXI/CPW9AKVyPwvXwa0BI4XoUrndoQArXo3A9GmtAmpmZmZn5a0BI4XoUrt9qQD0K16Nw7W5AZmZmZmaObkAUrkfhemxvQD0K16Nw6XFAhetRuB5VdEBxPQrXo2x0QOF6FK5HgXFACtejcD0Sb0C4HoXrUWhrQFyPwvUotG5A4XoUrkfZb0BxPQrXoxhuQHsUrkfh2nFA16NwPQpTcUBI4XoUrgtyQNejcD0Kl3RAKVyPwvVcd0DNzMzMzJR3QClcj8L1NHRAAAAAAAC4cUDXo3A9CodvQK5H4XoUmnFASOF6FK4vckDsUbgehbtxQHsUrkfhonNASOF6FK4/dEA9CtejcH10QMP1KFyPkndASOF6FK6LekBSuB6F61F6QAAAAAAArHZAzczMzMxUdEB7FK5H4apxQD0K16NwoXNA4XoUrkdNdECPwvUoXJtzQFK4HoXrGXZA4XoUrkdFdkBmZmZmZrZ2QEjhehSuA3pACtejcD06fUBxPQrXowh9QAAAAAAA6HhA4XoUrkcZdkDD9Shcj0ZzQArXo3A9cnVAPQrXo3ANdkBmZmZmZhZ1QJqZmZmZSXhA9ihcj8IJeEDNzMzMzJx4QDMzMzMzB3xAmpmZmZmhf0CF61G4Hq1/QPYoXI/CJXtACtejcD32d0Bcj8L1KAh1QArXo3A9bndAZmZmZmY6eEDXo3A9Ctd2QMP1KFyP+npASOF6FK4PekDNzMzMzCh7QAAAAAAA1H5ArkfhehSMgUC4HoXrUZSBQB+F61G47n1A4XoUrkc9ekCkcD0K1yN3QFK4HoXr4XlArkfhehS+ekDD9Shcj+55QB+F61G4mnxAmpmZmZltfUDsUbgehZ99QNejcD0KG4FApHA9Ctcpg0AfhetRuP6CQClcj8L1QoBAzczMzMwMfUBxPQrXo0h5QAAAAAAADHxA",
          "dtype": "f8"
         }
        },
        {
         "fill": "tonexty",
         "fillcolor": "rgba(212, 212, 217, 0.5)",
         "line": {
          "color": "rgba(212, 212, 217, 0.0)",
          "width": 0
         },
         "name": "Forecast Interval Lower Bound",
         "showlegend": true,
         "type": "scatter",
         "x": [
          "1949-01-31T00:00:00.000000000",
          "1949-02-28T00:00:00.000000000",
          "1949-03-31T00:00:00.000000000",
          "1949-04-30T00:00:00.000000000",
          "1949-05-31T00:00:00.000000000",
          "1949-06-30T00:00:00.000000000",
          "1949-07-31T00:00:00.000000000",
          "1949-08-31T00:00:00.000000000",
          "1949-09-30T00:00:00.000000000",
          "1949-10-31T00:00:00.000000000",
          "1949-11-30T00:00:00.000000000",
          "1949-12-31T00:00:00.000000000",
          "1950-01-31T00:00:00.000000000",
          "1950-02-28T00:00:00.000000000",
          "1950-03-31T00:00:00.000000000",
          "1950-04-30T00:00:00.000000000",
          "1950-05-31T00:00:00.000000000",
          "1950-06-30T00:00:00.000000000",
          "1950-07-31T00:00:00.000000000",
          "1950-08-31T00:00:00.000000000",
          "1950-09-30T00:00:00.000000000",
          "1950-10-31T00:00:00.000000000",
          "1950-11-30T00:00:00.000000000",
          "1950-12-31T00:00:00.000000000",
          "1951-01-31T00:00:00.000000000",
          "1951-02-28T00:00:00.000000000",
          "1951-03-31T00:00:00.000000000",
          "1951-04-30T00:00:00.000000000",
          "1951-05-31T00:00:00.000000000",
          "1951-06-30T00:00:00.000000000",
          "1951-07-31T00:00:00.000000000",
          "1951-08-31T00:00:00.000000000",
          "1951-09-30T00:00:00.000000000",
          "1951-10-31T00:00:00.000000000",
          "1951-11-30T00:00:00.000000000",
          "1951-12-31T00:00:00.000000000",
          "1952-01-31T00:00:00.000000000",
          "1952-02-29T00:00:00.000000000",
          "1952-03-31T00:00:00.000000000",
          "1952-04-30T00:00:00.000000000",
          "1952-05-31T00:00:00.000000000",
          "1952-06-30T00:00:00.000000000",
          "1952-07-31T00:00:00.000000000",
          "1952-08-31T00:00:00.000000000",
          "1952-09-30T00:00:00.000000000",
          "1952-10-31T00:00:00.000000000",
          "1952-11-30T00:00:00.000000000",
          "1952-12-31T00:00:00.000000000",
          "1953-01-31T00:00:00.000000000",
          "1953-02-28T00:00:00.000000000",
          "1953-03-31T00:00:00.000000000",
          "1953-04-30T00:00:00.000000000",
          "1953-05-31T00:00:00.000000000",
          "1953-06-30T00:00:00.000000000",
          "1953-07-31T00:00:00.000000000",
          "1953-08-31T00:00:00.000000000",
          "1953-09-30T00:00:00.000000000",
          "1953-10-31T00:00:00.000000000",
          "1953-11-30T00:00:00.000000000",
          "1953-12-31T00:00:00.000000000",
          "1954-01-31T00:00:00.000000000",
          "1954-02-28T00:00:00.000000000",
          "1954-03-31T00:00:00.000000000",
          "1954-04-30T00:00:00.000000000",
          "1954-05-31T00:00:00.000000000",
          "1954-06-30T00:00:00.000000000",
          "1954-07-31T00:00:00.000000000",
          "1954-08-31T00:00:00.000000000",
          "1954-09-30T00:00:00.000000000",
          "1954-10-31T00:00:00.000000000",
          "1954-11-30T00:00:00.000000000",
          "1954-12-31T00:00:00.000000000",
          "1955-01-31T00:00:00.000000000",
          "1955-02-28T00:00:00.000000000",
          "1955-03-31T00:00:00.000000000",
          "1955-04-30T00:00:00.000000000",
          "1955-05-31T00:00:00.000000000",
          "1955-06-30T00:00:00.000000000",
          "1955-07-31T00:00:00.000000000",
          "1955-08-31T00:00:00.000000000",
          "1955-09-30T00:00:00.000000000",
          "1955-10-31T00:00:00.000000000",
          "1955-11-30T00:00:00.000000000",
          "1955-12-31T00:00:00.000000000",
          "1956-01-31T00:00:00.000000000",
          "1956-02-29T00:00:00.000000000",
          "1956-03-31T00:00:00.000000000",
          "1956-04-30T00:00:00.000000000",
          "1956-05-31T00:00:00.000000000",
          "1956-06-30T00:00:00.000000000",
          "1956-07-31T00:00:00.000000000",
          "1956-08-31T00:00:00.000000000",
          "1956-09-30T00:00:00.000000000",
          "1956-10-31T00:00:00.000000000",
          "1956-11-30T00:00:00.000000000",
          "1956-12-31T00:00:00.000000000",
          "1957-01-31T00:00:00.000000000",
          "1957-02-28T00:00:00.000000000",
          "1957-03-31T00:00:00.000000000",
          "1957-04-30T00:00:00.000000000",
          "1957-05-31T00:00:00.000000000",
          "1957-06-30T00:00:00.000000000",
          "1957-07-31T00:00:00.000000000",
          "1957-08-31T00:00:00.000000000",
          "1957-09-30T00:00:00.000000000",
          "1957-10-31T00:00:00.000000000",
          "1957-11-30T00:00:00.000000000",
          "1957-12-31T00:00:00.000000000",
          "1958-01-31T00:00:00.000000000",
          "1958-02-28T00:00:00.000000000",
          "1958-03-31T00:00:00.000000000",
          "1958-04-30T00:00:00.000000000",
          "1958-05-31T00:00:00.000000000",
          "1958-06-30T00:00:00.000000000",
          "1958-07-31T00:00:00.000000000",
          "1958-08-31T00:00:00.000000000",
          "1958-09-30T00:00:00.000000000",
          "1958-10-31T00:00:00.000000000",
          "1958-11-30T00:00:00.000000000",
          "1958-12-31T00:00:00.000000000",
          "1959-01-31T00:00:00.000000000",
          "1959-02-28T00:00:00.000000000",
          "1959-03-31T00:00:00.000000000",
          "1959-04-30T00:00:00.000000000",
          "1959-05-31T00:00:00.000000000",
          "1959-06-30T00:00:00.000000000",
          "1959-07-31T00:00:00.000000000",
          "1959-08-31T00:00:00.000000000",
          "1959-09-30T00:00:00.000000000",
          "1959-10-31T00:00:00.000000000",
          "1959-11-30T00:00:00.000000000",
          "1959-12-31T00:00:00.000000000",
          "1960-01-31T00:00:00.000000000",
          "1960-02-29T00:00:00.000000000",
          "1960-03-31T00:00:00.000000000",
          "1960-04-30T00:00:00.000000000",
          "1960-05-31T00:00:00.000000000",
          "1960-06-30T00:00:00.000000000",
          "1960-07-31T00:00:00.000000000",
          "1960-08-31T00:00:00.000000000",
          "1960-09-30T00:00:00.000000000",
          "1960-10-31T00:00:00.000000000",
          "1960-11-30T00:00:00.000000000",
          "1960-12-31T00:00:00.000000000"
         ],
         "y": {
          "bdata": "7FG4HoWbVkDNzMzMzMxVQGZmZmZmZllAzczMzMyMWUBSuB6F63FaQDMzMzMzY19ASOF6FK4HYkBxPQrXoxhiQJqZmZmZOV5AKVyPwvWoWkAAAAAAANBWQAAAAAAAIFpAFK5H4XoUW0DhehSuR/FZQNejcD0Kx15AuB6F61F4XkB7FK5H4bpfQFK4HoXrgWJArkfhehRGZUCPwvUoXH9lQHsUrkfhCmJAuB6F61FoX0A9CtejcE1bQLgehetRGF9AuB6F61E4YEA9CtejcL1eQPYoXI/CpWJAUrgehevpYUCPwvUoXO9iQPYoXI/C1WVAcT0K16NIaUCPwvUoXF9pQPYoXI/CTWVA9ihcj8KtYkAK16NwPTJgQKRwPQrXU2JAzczMzMw8Y0AUrkfhenxiQJqZmZmZ4WRAcT0K16OwZUCamZmZmcllQAAAAAAAiGlApHA9CtcjbUDXo3A9Cv9sQOF6FK5HkWhA9ihcj8LNZUAK16NwPZpiQDMzMzMzE2VAH4XrUbjGZUApXI/C9ShlQHsUrkfhImhAFK5H4XpcaEB7FK5H4fpoQOxRuB6FA21ACtejcD2OcEDhehSuR4VwQK5H4XoU9mtAAAAAAACYaEDNzMzMzDRlQEjhehSu52dAH4XrUbi+aECPwvUoXIdnQEjhehSun2tAj8L1KFw3a0BxPQrXo0BsQAAAAAAAUHBAXI/C9SikckCamZmZmaVyQEjhehSuh29AFK5H4Xqsa0CPwvUoXCdoQB+F61G4fmtAKVyPwvWQbEDsUbgehfNqQD0K16NwNXBA9ihcj8Jdb0DD9Shcj2JwQK5H4XoU1nJAw/UoXI+2dUDD9Shcj+p1QKRwPQrXg3JA4XoUrkcdcEDD9ShcjwJsQD0K16NwzW9ASOF6FK6fcEAAAAAAABRwQEjhehSu/3FAFK5H4XqQckD2KFyPwtVyQFyPwvUo/HVAcT0K16PoeEA9CtejcLV4QMP1KFyPEnVACtejcD2uckAzMzMzMwtwQNejcD0K93FAzczMzMyQckDD9Shcj/pxQPYoXI/ChXRAexSuR+GqdECPwvUoXBN1QMP1KFyPbnhASOF6FK6je0AAAAAAAIB7QFyPwvUoPHdAzczMzMx4dEDsUbgehZ9xQNejcD0Kz3NA16NwPQprdEBSuB6F63FzQPYoXI/CpXZAw/UoXI9WdkAK16NwPQ53QHE9CtejYHpApHA9CtcHfkDNzMzMzBB+QFyPwvUofHlA16NwPQpHdkDXo3A9CmNzQKRwPQrXx3VAZmZmZmaOdkApXI/C9Th1QAAAAAAAXHlASOF6FK57eEB7FK5H4YJ5QD0K16NwIX1AcT0K16O0gEAzMzMzM8mAQMP1KFyPVnxAZmZmZmaeeEB7FK5H4W51QJqZmZmZNXhAZmZmZmYieUDsUbgehTt4QM3MzMzM7HpA9ihcj8LFe0DXo3A9CgN8QHE9CtejPIBApHA9CtdVgkAAAAAAACyCQFyPwvUo4H5AZmZmZmZ2e0CPwvUoXJt3QJqZmZmZTXpA",
          "dtype": "f8"
         }
        }
       ],
       "layout": {
        "hovermode": "x unified",
        "template": {
         "data": {
          "bar": [
           {
            "error_x": {
             "color": "#f2f5fa"
            },
            "error_y": {
             "color": "#f2f5fa"
            },
            "marker": {
             "line": {
              "color": "rgb(17,17,17)",
              "width": 0.5
             },
             "pattern": {
              "fillmode": "overlay",
              "size": 10,
              "solidity": 0.2
             }
            },
            "type": "bar"
           }
          ],
          "barpolar": [
           {
            "marker": {
             "line": {
              "color": "rgb(17,17,17)",
              "width": 0.5
             },
             "pattern": {
              "fillmode": "overlay",
              "size": 10,
              "solidity": 0.2
             }
            },
            "type": "barpolar"
           }
          ],
          "carpet": [
           {
            "aaxis": {
             "endlinecolor": "#A2B1C6",
             "gridcolor": "#506784",
             "linecolor": "#506784",
             "minorgridcolor": "#506784",
             "startlinecolor": "#A2B1C6"
            },
            "baxis": {
             "endlinecolor": "#A2B1C6",
             "gridcolor": "#506784",
             "linecolor": "#506784",
             "minorgridcolor": "#506784",
             "startlinecolor": "#A2B1C6"
            },
            "type": "carpet"
           }
          ],
          "choropleth": [
           {
            "colorbar": {
             "outlinewidth": 0,
             "ticks": ""
            },
            "type": "choropleth"
           }
          ],
          "contour": [
           {
            "colorbar": {
             "outlinewidth": 0,
             "ticks": ""
            },
            "colorscale": [
             [
              0,
              "#0d0887"
             ],
             [
              0.1111111111111111,
              "#46039f"
             ],
             [
              0.2222222222222222,
              "#7201a8"
             ],
             [
              0.3333333333333333,
              "#9c179e"
             ],
             [
              0.4444444444444444,
              "#bd3786"
             ],
             [
              0.5555555555555556,
              "#d8576b"
             ],
             [
              0.6666666666666666,
              "#ed7953"
             ],
             [
              0.7777777777777778,
              "#fb9f3a"
             ],
             [
              0.8888888888888888,
              "#fdca26"
             ],
             [
              1,
              "#f0f921"
             ]
            ],
            "type": "contour"
           }
          ],
          "contourcarpet": [
           {
            "colorbar": {
             "outlinewidth": 0,
             "ticks": ""
            },
            "type": "contourcarpet"
           }
          ],
          "heatmap": [
           {
            "colorbar": {
             "outlinewidth": 0,
             "ticks": ""
            },
            "colorscale": [
             [
              0,
              "#0d0887"
             ],
             [
              0.1111111111111111,
              "#46039f"
             ],
             [
              0.2222222222222222,
              "#7201a8"
             ],
             [
              0.3333333333333333,
              "#9c179e"
             ],
             [
              0.4444444444444444,
              "#bd3786"
             ],
             [
              0.5555555555555556,
              "#d8576b"
             ],
             [
              0.6666666666666666,
              "#ed7953"
             ],
             [
              0.7777777777777778,
              "#fb9f3a"
             ],
             [
              0.8888888888888888,
              "#fdca26"
             ],
             [
              1,
              "#f0f921"
             ]
            ],
            "type": "heatmap"
           }
          ],
          "histogram": [
           {
            "marker": {
             "pattern": {
              "fillmode": "overlay",
              "size": 10,
              "solidity": 0.2
             }
            },
            "type": "histogram"
           }
          ],
          "histogram2d": [
           {
            "colorbar": {
             "outlinewidth": 0,
             "ticks": ""
            },
            "colorscale": [
             [
              0,
              "#0d0887"
             ],
             [
              0.1111111111111111,
              "#46039f"
             ],
             [
              0.2222222222222222,
              "#7201a8"
             ],
             [
              0.3333333333333333,
              "#9c179e"
             ],
             [
              0.4444444444444444,
              "#bd3786"
             ],
             [
              0.5555555555555556,
              "#d8576b"
             ],
             [
              0.6666666666666666,
              "#ed7953"
             ],
             [
              0.7777777777777778,
              "#fb9f3a"
             ],
             [
              0.8888888888888888,
              "#fdca26"
             ],
             [
              1,
              "#f0f921"
             ]
            ],
            "type": "histogram2d"
           }
          ],
          "histogram2dcontour": [
           {
            "colorbar": {
             "outlinewidth": 0,
             "ticks": ""
            },
            "colorscale": [
             [
              0,
              "#0d0887"
             ],
             [
              0.1111111111111111,
              "#46039f"
             ],
             [
              0.2222222222222222,
              "#7201a8"
             ],
             [
              0.3333333333333333,
              "#9c179e"
             ],
             [
              0.4444444444444444,
              "#bd3786"
             ],
             [
              0.5555555555555556,
              "#d8576b"
             ],
             [
              0.6666666666666666,
              "#ed7953"
             ],
             [
              0.7777777777777778,
              "#fb9f3a"
             ],
             [
              0.8888888888888888,
              "#fdca26"
             ],
             [
              1,
              "#f0f921"
             ]
            ],
            "type": "histogram2dcontour"
           }
          ],
          "mesh3d": [
           {
            "colorbar": {
             "outlinewidth": 0,
             "ticks": ""
            },
            "type": "mesh3d"
           }
          ],
          "parcoords": [
           {
            "line": {
             "colorbar": {
              "outlinewidth": 0,
              "ticks": ""
             }
            },
            "type": "parcoords"
           }
          ],
          "pie": [
           {
            "automargin": true,
            "type": "pie"
           }
          ],
          "scatter": [
           {
            "marker": {
             "line": {
              "color": "#283442"
             }
            },
            "type": "scatter"
           }
          ],
          "scatter3d": [
           {
            "line": {
             "colorbar": {
              "outlinewidth": 0,
              "ticks": ""
             }
            },
            "marker": {
             "colorbar": {
              "outlinewidth": 0,
              "ticks": ""
             }
            },
            "type": "scatter3d"
           }
          ],
          "scattercarpet": [
           {
            "marker": {
             "colorbar": {
              "outlinewidth": 0,
              "ticks": ""
             }
            },
            "type": "scattercarpet"
           }
          ],
          "scattergeo": [
           {
            "marker": {
             "colorbar": {
              "outlinewidth": 0,
              "ticks": ""
             }
            },
            "type": "scattergeo"
           }
          ],
          "scattergl": [
           {
            "marker": {
             "line": {
              "color": "#283442"
             }
            },
            "type": "scattergl"
           }
          ],
          "scattermap": [
           {
            "marker": {
             "colorbar": {
              "outlinewidth": 0,
              "ticks": ""
             }
            },
            "type": "scattermap"
           }
          ],
          "scattermapbox": [
           {
            "marker": {
             "colorbar": {
              "outlinewidth": 0,
              "ticks": ""
             }
            },
            "type": "scattermapbox"
           }
          ],
          "scatterpolar": [
           {
            "marker": {
             "colorbar": {
              "outlinewidth": 0,
              "ticks": ""
             }
            },
            "type": "scatterpolar"
           }
          ],
          "scatterpolargl": [
           {
            "marker": {
             "colorbar": {
              "outlinewidth": 0,
              "ticks": ""
             }
            },
            "type": "scatterpolargl"
           }
          ],
          "scatterternary": [
           {
            "marker": {
             "colorbar": {
              "outlinewidth": 0,
              "ticks": ""
             }
            },
            "type": "scatterternary"
           }
          ],
          "surface": [
           {
            "colorbar": {
             "outlinewidth": 0,
             "ticks": ""
            },
            "colorscale": [
             [
              0,
              "#0d0887"
             ],
             [
              0.1111111111111111,
              "#46039f"
             ],
             [
              0.2222222222222222,
              "#7201a8"
             ],
             [
              0.3333333333333333,
              "#9c179e"
             ],
             [
              0.4444444444444444,
              "#bd3786"
             ],
             [
              0.5555555555555556,
              "#d8576b"
             ],
             [
              0.6666666666666666,
              "#ed7953"
             ],
             [
              0.7777777777777778,
              "#fb9f3a"
             ],
             [
              0.8888888888888888,
              "#fdca26"
             ],
             [
              1,
              "#f0f921"
             ]
            ],
            "type": "surface"
           }
          ],
          "table": [
           {
            "cells": {
             "fill": {
              "color": "#506784"
             },
             "line": {
              "color": "rgb(17,17,17)"
             }
            },
            "header": {
             "fill": {
              "color": "#2a3f5f"
             },
             "line": {
              "color": "rgb(17,17,17)"
             }
            },
            "type": "table"
           }
          ]
         },
         "layout": {
          "annotationdefaults": {
           "arrowcolor": "#f2f5fa",
           "arrowhead": 0,
           "arrowwidth": 1
          },
          "autosize": false,
          "autotypenumbers": "strict",
          "coloraxis": {
           "colorbar": {
            "outlinewidth": 0,
            "ticks": ""
           }
          },
          "colorscale": {
           "diverging": [
            [
             0,
             "#8e0152"
            ],
            [
             0.1,
             "#c51b7d"
            ],
            [
             0.2,
             "#de77ae"
            ],
            [
             0.3,
             "#f1b6da"
            ],
            [
             0.4,
             "#fde0ef"
            ],
            [
             0.5,
             "#f7f7f7"
            ],
            [
             0.6,
             "#e6f5d0"
            ],
            [
             0.7,
             "#b8e186"
            ],
            [
             0.8,
             "#7fbc41"
            ],
            [
             0.9,
             "#4d9221"
            ],
            [
             1,
             "#276419"
            ]
           ],
           "sequential": [
            [
             0,
             "#0d0887"
            ],
            [
             0.1111111111111111,
             "#46039f"
            ],
            [
             0.2222222222222222,
             "#7201a8"
            ],
            [
             0.3333333333333333,
             "#9c179e"
            ],
            [
             0.4444444444444444,
             "#bd3786"
            ],
            [
             0.5555555555555556,
             "#d8576b"
            ],
            [
             0.6666666666666666,
             "#ed7953"
            ],
            [
             0.7777777777777778,
             "#fb9f3a"
            ],
            [
             0.8888888888888888,
             "#fdca26"
            ],
            [
             1,
             "#f0f921"
            ]
           ],
           "sequentialminus": [
            [
             0,
             "#0d0887"
            ],
            [
             0.1111111111111111,
             "#46039f"
            ],
            [
             0.2222222222222222,
             "#7201a8"
            ],
            [
             0.3333333333333333,
             "#9c179e"
            ],
            [
             0.4444444444444444,
             "#bd3786"
            ],
            [
             0.5555555555555556,
             "#d8576b"
            ],
            [
             0.6666666666666666,
             "#ed7953"
            ],
            [
             0.7777777777777778,
             "#fb9f3a"
            ],
            [
             0.8888888888888888,
             "#fdca26"
            ],
            [
             1,
             "#f0f921"
            ]
           ]
          },
          "colorway": [
           "#636efa",
           "#EF553B",
           "#00cc96",
           "#ab63fa",
           "#FFA15A",
           "#19d3f3",
           "#FF6692",
           "#B6E880",
           "#FF97FF",
           "#FECB52"
          ],
          "font": {
           "color": "#f2f5fa"
          },
          "geo": {
           "bgcolor": "rgb(17,17,17)",
           "lakecolor": "rgb(17,17,17)",
           "landcolor": "rgb(17,17,17)",
           "showlakes": true,
           "showland": true,
           "subunitcolor": "#506784"
          },
          "height": 500,
          "hoverlabel": {
           "align": "left"
          },
          "hovermode": "closest",
          "mapbox": {
           "style": "dark"
          },
          "paper_bgcolor": "rgb(17,17,17)",
          "plot_bgcolor": "rgb(17,17,17)",
          "polar": {
           "angularaxis": {
            "gridcolor": "#506784",
            "linecolor": "#506784",
            "ticks": ""
           },
           "bgcolor": "rgb(17,17,17)",
           "radialaxis": {
            "gridcolor": "#506784",
            "linecolor": "#506784",
            "ticks": ""
           }
          },
          "scene": {
           "xaxis": {
            "backgroundcolor": "rgb(17,17,17)",
            "gridcolor": "#506784",
            "gridwidth": 2,
            "linecolor": "#506784",
            "showbackground": true,
            "ticks": "",
            "zerolinecolor": "#C8D4E3"
           },
           "yaxis": {
            "backgroundcolor": "rgb(17,17,17)",
            "gridcolor": "#506784",
            "gridwidth": 2,
            "linecolor": "#506784",
            "showbackground": true,
            "ticks": "",
            "zerolinecolor": "#C8D4E3"
           },
           "zaxis": {
            "backgroundcolor": "rgb(17,17,17)",
            "gridcolor": "#506784",
            "gridwidth": 2,
            "linecolor": "#506784",
            "showbackground": true,
            "ticks": "",
            "zerolinecolor": "#C8D4E3"
           }
          },
          "shapedefaults": {
           "line": {
            "color": "#f2f5fa"
           }
          },
          "showlegend": true,
          "sliderdefaults": {
           "bgcolor": "#C8D4E3",
           "bordercolor": "rgb(17,17,17)",
           "borderwidth": 1,
           "tickwidth": 0
          },
          "ternary": {
           "aaxis": {
            "gridcolor": "#506784",
            "linecolor": "#506784",
            "ticks": ""
           },
           "baxis": {
            "gridcolor": "#506784",
            "linecolor": "#506784",
            "ticks": ""
           },
           "bgcolor": "rgb(17,17,17)",
           "caxis": {
            "gridcolor": "#506784",
            "linecolor": "#506784",
            "ticks": ""
           }
          },
          "title": {
           "x": 0.05
          },
          "updatemenudefaults": {
           "bgcolor": "#506784",
           "borderwidth": 0
          },
          "width": 1000,
          "xaxis": {
           "automargin": true,
           "gridcolor": "#283442",
           "linecolor": "#506784",
           "ticks": "",
           "title": {
            "standoff": 15
           },
           "zerolinecolor": "#283442",
           "zerolinewidth": 2
          },
          "yaxis": {
           "automargin": true,
           "gridcolor": "#283442",
           "linecolor": "#506784",
           "ticks": "",
           "title": {
            "standoff": 15
           },
           "zerolinecolor": "#283442",
           "zerolinewidth": 2
          }
         }
        },
        "title": {}
       }
      }
     },
     "metadata": {},
     "output_type": "display_data"
    }
   ],
   "source": [
    "utils.plot_prophet_forecast(df['y'], forecast)"
   ]
  },
  {
   "cell_type": "markdown",
   "id": "60eb5655",
   "metadata": {},
   "source": [
    "## Variation Playground"
   ]
  },
  {
   "cell_type": "code",
   "execution_count": 9,
   "id": "c0bf0c23",
   "metadata": {},
   "outputs": [
    {
     "name": "stderr",
     "output_type": "stream",
     "text": [
      "09:31:02 - cmdstanpy - INFO - Chain [1] start processing\n",
      "09:31:02 - cmdstanpy - INFO - Chain [1] done processing\n",
      "09:31:02 - cmdstanpy - INFO - Chain [1] start processing\n",
      "09:31:02 - cmdstanpy - INFO - Chain [1] done processing\n"
     ]
    },
    {
     "data": {
      "application/vnd.plotly.v1+json": {
       "config": {
        "plotlyServerURL": "https://plot.ly"
       },
       "data": [
        {
         "hovertemplate": "variable=y<br>ds=%{x}<br>value=%{y}<extra></extra>",
         "legendgroup": "y",
         "line": {
          "color": "#636efa",
          "dash": "solid"
         },
         "marker": {
          "symbol": "circle"
         },
         "mode": "lines",
         "name": "y",
         "orientation": "v",
         "showlegend": true,
         "type": "scatter",
         "x": [
          "1949-01-31T00:00:00.000000000",
          "1949-02-28T00:00:00.000000000",
          "1949-03-31T00:00:00.000000000",
          "1949-04-30T00:00:00.000000000",
          "1949-05-31T00:00:00.000000000",
          "1949-06-30T00:00:00.000000000",
          "1949-07-31T00:00:00.000000000",
          "1949-08-31T00:00:00.000000000",
          "1949-09-30T00:00:00.000000000",
          "1949-10-31T00:00:00.000000000",
          "1949-11-30T00:00:00.000000000",
          "1949-12-31T00:00:00.000000000",
          "1950-01-31T00:00:00.000000000",
          "1950-02-28T00:00:00.000000000",
          "1950-03-31T00:00:00.000000000",
          "1950-04-30T00:00:00.000000000",
          "1950-05-31T00:00:00.000000000",
          "1950-06-30T00:00:00.000000000",
          "1950-07-31T00:00:00.000000000",
          "1950-08-31T00:00:00.000000000",
          "1950-09-30T00:00:00.000000000",
          "1950-10-31T00:00:00.000000000",
          "1950-11-30T00:00:00.000000000",
          "1950-12-31T00:00:00.000000000",
          "1951-01-31T00:00:00.000000000",
          "1951-02-28T00:00:00.000000000",
          "1951-03-31T00:00:00.000000000",
          "1951-04-30T00:00:00.000000000",
          "1951-05-31T00:00:00.000000000",
          "1951-06-30T00:00:00.000000000",
          "1951-07-31T00:00:00.000000000",
          "1951-08-31T00:00:00.000000000",
          "1951-09-30T00:00:00.000000000",
          "1951-10-31T00:00:00.000000000",
          "1951-11-30T00:00:00.000000000",
          "1951-12-31T00:00:00.000000000",
          "1952-01-31T00:00:00.000000000",
          "1952-02-29T00:00:00.000000000",
          "1952-03-31T00:00:00.000000000",
          "1952-04-30T00:00:00.000000000",
          "1952-05-31T00:00:00.000000000",
          "1952-06-30T00:00:00.000000000",
          "1952-07-31T00:00:00.000000000",
          "1952-08-31T00:00:00.000000000",
          "1952-09-30T00:00:00.000000000",
          "1952-10-31T00:00:00.000000000",
          "1952-11-30T00:00:00.000000000",
          "1952-12-31T00:00:00.000000000",
          "1953-01-31T00:00:00.000000000",
          "1953-02-28T00:00:00.000000000",
          "1953-03-31T00:00:00.000000000",
          "1953-04-30T00:00:00.000000000",
          "1953-05-31T00:00:00.000000000",
          "1953-06-30T00:00:00.000000000",
          "1953-07-31T00:00:00.000000000",
          "1953-08-31T00:00:00.000000000",
          "1953-09-30T00:00:00.000000000",
          "1953-10-31T00:00:00.000000000",
          "1953-11-30T00:00:00.000000000",
          "1953-12-31T00:00:00.000000000",
          "1954-01-31T00:00:00.000000000",
          "1954-02-28T00:00:00.000000000",
          "1954-03-31T00:00:00.000000000",
          "1954-04-30T00:00:00.000000000",
          "1954-05-31T00:00:00.000000000",
          "1954-06-30T00:00:00.000000000",
          "1954-07-31T00:00:00.000000000",
          "1954-08-31T00:00:00.000000000",
          "1954-09-30T00:00:00.000000000",
          "1954-10-31T00:00:00.000000000",
          "1954-11-30T00:00:00.000000000",
          "1954-12-31T00:00:00.000000000",
          "1955-01-31T00:00:00.000000000",
          "1955-02-28T00:00:00.000000000",
          "1955-03-31T00:00:00.000000000",
          "1955-04-30T00:00:00.000000000",
          "1955-05-31T00:00:00.000000000",
          "1955-06-30T00:00:00.000000000",
          "1955-07-31T00:00:00.000000000",
          "1955-08-31T00:00:00.000000000",
          "1955-09-30T00:00:00.000000000",
          "1955-10-31T00:00:00.000000000",
          "1955-11-30T00:00:00.000000000",
          "1955-12-31T00:00:00.000000000",
          "1956-01-31T00:00:00.000000000",
          "1956-02-29T00:00:00.000000000",
          "1956-03-31T00:00:00.000000000",
          "1956-04-30T00:00:00.000000000",
          "1956-05-31T00:00:00.000000000",
          "1956-06-30T00:00:00.000000000",
          "1956-07-31T00:00:00.000000000",
          "1956-08-31T00:00:00.000000000",
          "1956-09-30T00:00:00.000000000",
          "1956-10-31T00:00:00.000000000",
          "1956-11-30T00:00:00.000000000",
          "1956-12-31T00:00:00.000000000",
          "1957-01-31T00:00:00.000000000",
          "1957-02-28T00:00:00.000000000",
          "1957-03-31T00:00:00.000000000",
          "1957-04-30T00:00:00.000000000",
          "1957-05-31T00:00:00.000000000",
          "1957-06-30T00:00:00.000000000",
          "1957-07-31T00:00:00.000000000",
          "1957-08-31T00:00:00.000000000",
          "1957-09-30T00:00:00.000000000",
          "1957-10-31T00:00:00.000000000",
          "1957-11-30T00:00:00.000000000",
          "1957-12-31T00:00:00.000000000",
          "1958-01-31T00:00:00.000000000",
          "1958-02-28T00:00:00.000000000",
          "1958-03-31T00:00:00.000000000",
          "1958-04-30T00:00:00.000000000",
          "1958-05-31T00:00:00.000000000",
          "1958-06-30T00:00:00.000000000",
          "1958-07-31T00:00:00.000000000",
          "1958-08-31T00:00:00.000000000",
          "1958-09-30T00:00:00.000000000",
          "1958-10-31T00:00:00.000000000",
          "1958-11-30T00:00:00.000000000",
          "1958-12-31T00:00:00.000000000",
          "1959-01-31T00:00:00.000000000",
          "1959-02-28T00:00:00.000000000",
          "1959-03-31T00:00:00.000000000",
          "1959-04-30T00:00:00.000000000",
          "1959-05-31T00:00:00.000000000",
          "1959-06-30T00:00:00.000000000",
          "1959-07-31T00:00:00.000000000",
          "1959-08-31T00:00:00.000000000",
          "1959-09-30T00:00:00.000000000",
          "1959-10-31T00:00:00.000000000",
          "1959-11-30T00:00:00.000000000",
          "1959-12-31T00:00:00.000000000",
          "1960-01-31T00:00:00.000000000",
          "1960-02-29T00:00:00.000000000",
          "1960-03-31T00:00:00.000000000",
          "1960-04-30T00:00:00.000000000",
          "1960-05-31T00:00:00.000000000",
          "1960-06-30T00:00:00.000000000",
          "1960-07-31T00:00:00.000000000",
          "1960-08-31T00:00:00.000000000",
          "1960-09-30T00:00:00.000000000",
          "1960-10-31T00:00:00.000000000",
          "1960-11-30T00:00:00.000000000",
          "1960-12-31T00:00:00.000000000"
         ],
         "xaxis": "x",
         "y": {
          "bdata": "AAAAAAAAXEAAAAAAAIBdQAAAAAAAgGBAAAAAAAAgYEAAAAAAAEBeQAAAAAAA4GBAAAAAAACAYkAAAAAAAIBiQAAAAAAAAGFAAAAAAADAXUAAAAAAAABaQAAAAAAAgF1AAAAAAADAXEAAAAAAAIBfQAAAAAAAoGFAAAAAAADgYEAAAAAAAEBfQAAAAAAAoGJAAAAAAABAZUAAAAAAAEBlQAAAAAAAwGNAAAAAAACgYEAAAAAAAIBcQAAAAAAAgGFAAAAAAAAgYkAAAAAAAMBiQAAAAAAAQGZAAAAAAABgZEAAAAAAAIBlQAAAAAAAQGZAAAAAAADgaEAAAAAAAOBoQAAAAAAAAGdAAAAAAABAZEAAAAAAAEBiQAAAAAAAwGRAAAAAAABgZUAAAAAAAIBmQAAAAAAAIGhAAAAAAACgZkAAAAAAAOBmQAAAAAAAQGtAAAAAAADAbEAAAAAAAEBuQAAAAAAAIGpAAAAAAADgZ0AAAAAAAIBlQAAAAAAAQGhAAAAAAACAaEAAAAAAAIBoQAAAAAAAgG1AAAAAAABgbUAAAAAAAKBsQAAAAAAAYG5AAAAAAACAcEAAAAAAAABxQAAAAAAAoG1AAAAAAABgakAAAAAAAIBmQAAAAAAAIGlAAAAAAACAaUAAAAAAAIBnQAAAAAAAYG1AAAAAAABgbEAAAAAAAEBtQAAAAAAAgHBAAAAAAADgckAAAAAAAFByQAAAAAAAMHBAAAAAAACgbEAAAAAAAGBpQAAAAAAAoGxAAAAAAABAbkAAAAAAACBtQAAAAAAAsHBAAAAAAADQcEAAAAAAAOBwQAAAAAAAsHNAAAAAAADAdkAAAAAAALB1QAAAAAAAgHNAAAAAAAAgcUAAAAAAAKBtQAAAAAAAYHFAAAAAAADAcUAAAAAAAFBxQAAAAAAA0HNAAAAAAACQc0AAAAAAAOBzQAAAAAAAYHdAAAAAAADQeUAAAAAAAFB5QAAAAAAAMHZAAAAAAAAgc0AAAAAAAPBwQAAAAAAAIHNAAAAAAACwc0AAAAAAANByQAAAAAAAQHZAAAAAAADAdUAAAAAAADB2QAAAAAAAYHpAAAAAAAAQfUAAAAAAADB9QAAAAAAAQHlAAAAAAACwdUAAAAAAABBzQAAAAAAAAHVAAAAAAABAdUAAAAAAAOBzQAAAAAAAoHZAAAAAAADAdUAAAAAAALB2QAAAAAAAMHtAAAAAAACwfkAAAAAAAJB/QAAAAAAAQHlAAAAAAABwdkAAAAAAAGBzQAAAAAAAEHVAAAAAAACAdkAAAAAAAGB1QAAAAAAAYHlAAAAAAADAeEAAAAAAAEB6QAAAAAAAgH1AAAAAAAAggUAAAAAAAHiBQAAAAAAA8HxAAAAAAABweUAAAAAAAKB2QAAAAAAAUHlAAAAAAAAQekAAAAAAAHB4QAAAAAAAMHpAAAAAAADQfEAAAAAAAIB9QAAAAAAAuIBAAAAAAABwg0AAAAAAAPCCQAAAAAAAwH9AAAAAAADQfEAAAAAAAGB4QAAAAAAAAHtA",
          "dtype": "f8"
         },
         "yaxis": "y"
        },
        {
         "hovertemplate": "variable=forecast_additive<br>ds=%{x}<br>value=%{y}<extra></extra>",
         "legendgroup": "forecast_additive",
         "line": {
          "color": "#EF553B",
          "dash": "solid"
         },
         "marker": {
          "symbol": "circle"
         },
         "mode": "lines",
         "name": "forecast_additive",
         "orientation": "v",
         "showlegend": true,
         "type": "scatter",
         "x": [
          "1949-01-31T00:00:00.000000000",
          "1949-02-28T00:00:00.000000000",
          "1949-03-31T00:00:00.000000000",
          "1949-04-30T00:00:00.000000000",
          "1949-05-31T00:00:00.000000000",
          "1949-06-30T00:00:00.000000000",
          "1949-07-31T00:00:00.000000000",
          "1949-08-31T00:00:00.000000000",
          "1949-09-30T00:00:00.000000000",
          "1949-10-31T00:00:00.000000000",
          "1949-11-30T00:00:00.000000000",
          "1949-12-31T00:00:00.000000000",
          "1950-01-31T00:00:00.000000000",
          "1950-02-28T00:00:00.000000000",
          "1950-03-31T00:00:00.000000000",
          "1950-04-30T00:00:00.000000000",
          "1950-05-31T00:00:00.000000000",
          "1950-06-30T00:00:00.000000000",
          "1950-07-31T00:00:00.000000000",
          "1950-08-31T00:00:00.000000000",
          "1950-09-30T00:00:00.000000000",
          "1950-10-31T00:00:00.000000000",
          "1950-11-30T00:00:00.000000000",
          "1950-12-31T00:00:00.000000000",
          "1951-01-31T00:00:00.000000000",
          "1951-02-28T00:00:00.000000000",
          "1951-03-31T00:00:00.000000000",
          "1951-04-30T00:00:00.000000000",
          "1951-05-31T00:00:00.000000000",
          "1951-06-30T00:00:00.000000000",
          "1951-07-31T00:00:00.000000000",
          "1951-08-31T00:00:00.000000000",
          "1951-09-30T00:00:00.000000000",
          "1951-10-31T00:00:00.000000000",
          "1951-11-30T00:00:00.000000000",
          "1951-12-31T00:00:00.000000000",
          "1952-01-31T00:00:00.000000000",
          "1952-02-29T00:00:00.000000000",
          "1952-03-31T00:00:00.000000000",
          "1952-04-30T00:00:00.000000000",
          "1952-05-31T00:00:00.000000000",
          "1952-06-30T00:00:00.000000000",
          "1952-07-31T00:00:00.000000000",
          "1952-08-31T00:00:00.000000000",
          "1952-09-30T00:00:00.000000000",
          "1952-10-31T00:00:00.000000000",
          "1952-11-30T00:00:00.000000000",
          "1952-12-31T00:00:00.000000000",
          "1953-01-31T00:00:00.000000000",
          "1953-02-28T00:00:00.000000000",
          "1953-03-31T00:00:00.000000000",
          "1953-04-30T00:00:00.000000000",
          "1953-05-31T00:00:00.000000000",
          "1953-06-30T00:00:00.000000000",
          "1953-07-31T00:00:00.000000000",
          "1953-08-31T00:00:00.000000000",
          "1953-09-30T00:00:00.000000000",
          "1953-10-31T00:00:00.000000000",
          "1953-11-30T00:00:00.000000000",
          "1953-12-31T00:00:00.000000000",
          "1954-01-31T00:00:00.000000000",
          "1954-02-28T00:00:00.000000000",
          "1954-03-31T00:00:00.000000000",
          "1954-04-30T00:00:00.000000000",
          "1954-05-31T00:00:00.000000000",
          "1954-06-30T00:00:00.000000000",
          "1954-07-31T00:00:00.000000000",
          "1954-08-31T00:00:00.000000000",
          "1954-09-30T00:00:00.000000000",
          "1954-10-31T00:00:00.000000000",
          "1954-11-30T00:00:00.000000000",
          "1954-12-31T00:00:00.000000000",
          "1955-01-31T00:00:00.000000000",
          "1955-02-28T00:00:00.000000000",
          "1955-03-31T00:00:00.000000000",
          "1955-04-30T00:00:00.000000000",
          "1955-05-31T00:00:00.000000000",
          "1955-06-30T00:00:00.000000000",
          "1955-07-31T00:00:00.000000000",
          "1955-08-31T00:00:00.000000000",
          "1955-09-30T00:00:00.000000000",
          "1955-10-31T00:00:00.000000000",
          "1955-11-30T00:00:00.000000000",
          "1955-12-31T00:00:00.000000000",
          "1956-01-31T00:00:00.000000000",
          "1956-02-29T00:00:00.000000000",
          "1956-03-31T00:00:00.000000000",
          "1956-04-30T00:00:00.000000000",
          "1956-05-31T00:00:00.000000000",
          "1956-06-30T00:00:00.000000000",
          "1956-07-31T00:00:00.000000000",
          "1956-08-31T00:00:00.000000000",
          "1956-09-30T00:00:00.000000000",
          "1956-10-31T00:00:00.000000000",
          "1956-11-30T00:00:00.000000000",
          "1956-12-31T00:00:00.000000000",
          "1957-01-31T00:00:00.000000000",
          "1957-02-28T00:00:00.000000000",
          "1957-03-31T00:00:00.000000000",
          "1957-04-30T00:00:00.000000000",
          "1957-05-31T00:00:00.000000000",
          "1957-06-30T00:00:00.000000000",
          "1957-07-31T00:00:00.000000000",
          "1957-08-31T00:00:00.000000000",
          "1957-09-30T00:00:00.000000000",
          "1957-10-31T00:00:00.000000000",
          "1957-11-30T00:00:00.000000000",
          "1957-12-31T00:00:00.000000000",
          "1958-01-31T00:00:00.000000000",
          "1958-02-28T00:00:00.000000000",
          "1958-03-31T00:00:00.000000000",
          "1958-04-30T00:00:00.000000000",
          "1958-05-31T00:00:00.000000000",
          "1958-06-30T00:00:00.000000000",
          "1958-07-31T00:00:00.000000000",
          "1958-08-31T00:00:00.000000000",
          "1958-09-30T00:00:00.000000000",
          "1958-10-31T00:00:00.000000000",
          "1958-11-30T00:00:00.000000000",
          "1958-12-31T00:00:00.000000000",
          "1959-01-31T00:00:00.000000000",
          "1959-02-28T00:00:00.000000000",
          "1959-03-31T00:00:00.000000000",
          "1959-04-30T00:00:00.000000000",
          "1959-05-31T00:00:00.000000000",
          "1959-06-30T00:00:00.000000000",
          "1959-07-31T00:00:00.000000000",
          "1959-08-31T00:00:00.000000000",
          "1959-09-30T00:00:00.000000000",
          "1959-10-31T00:00:00.000000000",
          "1959-11-30T00:00:00.000000000",
          "1959-12-31T00:00:00.000000000",
          "1960-01-31T00:00:00.000000000",
          "1960-02-29T00:00:00.000000000",
          "1960-03-31T00:00:00.000000000",
          "1960-04-30T00:00:00.000000000",
          "1960-05-31T00:00:00.000000000",
          "1960-06-30T00:00:00.000000000",
          "1960-07-31T00:00:00.000000000",
          "1960-08-31T00:00:00.000000000",
          "1960-09-30T00:00:00.000000000",
          "1960-10-31T00:00:00.000000000",
          "1960-11-30T00:00:00.000000000",
          "1960-12-31T00:00:00.000000000"
         ],
         "xaxis": "x",
         "y": {
          "bdata": "/MaWai4fVUBXDZ+fqEFTQGdpmubXqFtAdjq0S5wFW0CV5V9ON+BbQJBwX8cK8WJAnN3C3lHKZ0DgiKggxbZnQIQAAWgMiWFAykwppfgIWkAIIyzhO1lRQMnLQW5IbVhA7+uPttlfW0AqcKObzFlZQCkBaxn1JWFATqBStPiVYEBXwxvDgjlhQFv4ImHmD2ZABqhFHW3+akBG3hAYVOBqQC1P/KmhwmRAtOSmuz0tYECWhxHV1+JXQIq9+SlXCl9Aa8yoxynPYEDkGX2gpHNfQIyEzliWd2RAPbXFx0qpY0DLC0NGT4NkQMdMuHduLmlASHIqqxwybkC6uopJeAluQKhqjLFj/GdAGh1qmHdWY0BcrjsINm5eQAxMIHf60mJA3iF3ylLtY0Du5McJnFhjQCyDI0MKRmdASwwWV88yZ0A6CgPoKWpnQEgdZGnllGxA9SmQjWqscEDhJefY56dwQFZeyTipEmtAdHDIwDefZkACCoiNwStiQAJdCU94qmVAQ+hOEKBSZ0DsCwcs3WNmQD+52dB0l2pA+UT+BNdFakCHU/mHJLNqQFp0wKkTtG9AbOdtYa1GckDwszwD5zxyQAAGeYL1T25AdDKGtGbPaUBqwxSHaHtlQNw+/hRwCWlA31hSXL+MakAC8qkPx5JpQJBFcH7cFW5A+6AL8ZOPbUDSbf2iJD1uQLlsyDhfknFACfLdHocSdEAOQUMkXwx0QCjAegUhBnFAyEYbYfiPbUAOPfCHcWxpQJiI33ZLGW1AXYHz7WN8bkD32FrVuH1tQKA7uFGOLHFAhXdTGr7TcED2Vko8kE9xQApTGmZ1s3NA8pmLYhxEdkBUXlhmBT92QH7REYc4R3NA9rEer30DcUClCmWjGQVuQKwd7L+333BAruZPHh98cUBd29tiA0BxQBVQNrT1RXNAHrH3qhVLc0AxNh0o/nVzQJIomFUZGnZAwoPKYkyLeEBgv3XiBJZ4QFuHfRIvhnVA3cjpirFbc0BR1NPdszBxQO2+2nJK/3JA7MXDh5nic0DluELy+XhzQNKt8vgAonVAMIFDf++HdUCtid900c11QC7kK3IGXXhA67cDM+XYekDBqhwJWt56QH6PBho71ndAi392RC6jdUAmmLiA/IVzQL/5J9k6WnVAG3llYBomdkA0lBr3WLJ1QLENG5Mb/ndA9GvPztrEd0DyoWUM2yV4QEzLqUnKn3pAmsfs3UgmfUBfkL2RdyZ9QGCFK8lbJnpAgv1rCOXqd0CvKVWOudt1QNFk+pnUtHdA5fWx6Q5peEAvi4YMJex3QPUhMEdCWnpA0LIa7dkBekBuWbBiF356QO+qz2lk4nxARrnfuXZzf0Cj2Ga/X25/QMFhzOGSdnxALp2TC9gyekBwhtMv5zF4QMEirR8SD3pA6e+wf3mrekCeEcLFXW96QL+KvBhQdXxATYQQEXB6fEBerdOPWKV8QAHs3r5zSX9AmXXXZlPdgEB35Xunr+KAQJ8weICJtX5At51p+guLfEDaRsxODmB6QDxdWOWkLnxA",
          "dtype": "f8"
         },
         "yaxis": "y"
        },
        {
         "hovertemplate": "variable=forecast_multiplicative<br>ds=%{x}<br>value=%{y}<extra></extra>",
         "legendgroup": "forecast_multiplicative",
         "line": {
          "color": "#00cc96",
          "dash": "solid"
         },
         "marker": {
          "symbol": "circle"
         },
         "mode": "lines",
         "name": "forecast_multiplicative",
         "orientation": "v",
         "showlegend": true,
         "type": "scatter",
         "x": [
          "1949-01-31T00:00:00.000000000",
          "1949-02-28T00:00:00.000000000",
          "1949-03-31T00:00:00.000000000",
          "1949-04-30T00:00:00.000000000",
          "1949-05-31T00:00:00.000000000",
          "1949-06-30T00:00:00.000000000",
          "1949-07-31T00:00:00.000000000",
          "1949-08-31T00:00:00.000000000",
          "1949-09-30T00:00:00.000000000",
          "1949-10-31T00:00:00.000000000",
          "1949-11-30T00:00:00.000000000",
          "1949-12-31T00:00:00.000000000",
          "1950-01-31T00:00:00.000000000",
          "1950-02-28T00:00:00.000000000",
          "1950-03-31T00:00:00.000000000",
          "1950-04-30T00:00:00.000000000",
          "1950-05-31T00:00:00.000000000",
          "1950-06-30T00:00:00.000000000",
          "1950-07-31T00:00:00.000000000",
          "1950-08-31T00:00:00.000000000",
          "1950-09-30T00:00:00.000000000",
          "1950-10-31T00:00:00.000000000",
          "1950-11-30T00:00:00.000000000",
          "1950-12-31T00:00:00.000000000",
          "1951-01-31T00:00:00.000000000",
          "1951-02-28T00:00:00.000000000",
          "1951-03-31T00:00:00.000000000",
          "1951-04-30T00:00:00.000000000",
          "1951-05-31T00:00:00.000000000",
          "1951-06-30T00:00:00.000000000",
          "1951-07-31T00:00:00.000000000",
          "1951-08-31T00:00:00.000000000",
          "1951-09-30T00:00:00.000000000",
          "1951-10-31T00:00:00.000000000",
          "1951-11-30T00:00:00.000000000",
          "1951-12-31T00:00:00.000000000",
          "1952-01-31T00:00:00.000000000",
          "1952-02-29T00:00:00.000000000",
          "1952-03-31T00:00:00.000000000",
          "1952-04-30T00:00:00.000000000",
          "1952-05-31T00:00:00.000000000",
          "1952-06-30T00:00:00.000000000",
          "1952-07-31T00:00:00.000000000",
          "1952-08-31T00:00:00.000000000",
          "1952-09-30T00:00:00.000000000",
          "1952-10-31T00:00:00.000000000",
          "1952-11-30T00:00:00.000000000",
          "1952-12-31T00:00:00.000000000",
          "1953-01-31T00:00:00.000000000",
          "1953-02-28T00:00:00.000000000",
          "1953-03-31T00:00:00.000000000",
          "1953-04-30T00:00:00.000000000",
          "1953-05-31T00:00:00.000000000",
          "1953-06-30T00:00:00.000000000",
          "1953-07-31T00:00:00.000000000",
          "1953-08-31T00:00:00.000000000",
          "1953-09-30T00:00:00.000000000",
          "1953-10-31T00:00:00.000000000",
          "1953-11-30T00:00:00.000000000",
          "1953-12-31T00:00:00.000000000",
          "1954-01-31T00:00:00.000000000",
          "1954-02-28T00:00:00.000000000",
          "1954-03-31T00:00:00.000000000",
          "1954-04-30T00:00:00.000000000",
          "1954-05-31T00:00:00.000000000",
          "1954-06-30T00:00:00.000000000",
          "1954-07-31T00:00:00.000000000",
          "1954-08-31T00:00:00.000000000",
          "1954-09-30T00:00:00.000000000",
          "1954-10-31T00:00:00.000000000",
          "1954-11-30T00:00:00.000000000",
          "1954-12-31T00:00:00.000000000",
          "1955-01-31T00:00:00.000000000",
          "1955-02-28T00:00:00.000000000",
          "1955-03-31T00:00:00.000000000",
          "1955-04-30T00:00:00.000000000",
          "1955-05-31T00:00:00.000000000",
          "1955-06-30T00:00:00.000000000",
          "1955-07-31T00:00:00.000000000",
          "1955-08-31T00:00:00.000000000",
          "1955-09-30T00:00:00.000000000",
          "1955-10-31T00:00:00.000000000",
          "1955-11-30T00:00:00.000000000",
          "1955-12-31T00:00:00.000000000",
          "1956-01-31T00:00:00.000000000",
          "1956-02-29T00:00:00.000000000",
          "1956-03-31T00:00:00.000000000",
          "1956-04-30T00:00:00.000000000",
          "1956-05-31T00:00:00.000000000",
          "1956-06-30T00:00:00.000000000",
          "1956-07-31T00:00:00.000000000",
          "1956-08-31T00:00:00.000000000",
          "1956-09-30T00:00:00.000000000",
          "1956-10-31T00:00:00.000000000",
          "1956-11-30T00:00:00.000000000",
          "1956-12-31T00:00:00.000000000",
          "1957-01-31T00:00:00.000000000",
          "1957-02-28T00:00:00.000000000",
          "1957-03-31T00:00:00.000000000",
          "1957-04-30T00:00:00.000000000",
          "1957-05-31T00:00:00.000000000",
          "1957-06-30T00:00:00.000000000",
          "1957-07-31T00:00:00.000000000",
          "1957-08-31T00:00:00.000000000",
          "1957-09-30T00:00:00.000000000",
          "1957-10-31T00:00:00.000000000",
          "1957-11-30T00:00:00.000000000",
          "1957-12-31T00:00:00.000000000",
          "1958-01-31T00:00:00.000000000",
          "1958-02-28T00:00:00.000000000",
          "1958-03-31T00:00:00.000000000",
          "1958-04-30T00:00:00.000000000",
          "1958-05-31T00:00:00.000000000",
          "1958-06-30T00:00:00.000000000",
          "1958-07-31T00:00:00.000000000",
          "1958-08-31T00:00:00.000000000",
          "1958-09-30T00:00:00.000000000",
          "1958-10-31T00:00:00.000000000",
          "1958-11-30T00:00:00.000000000",
          "1958-12-31T00:00:00.000000000",
          "1959-01-31T00:00:00.000000000",
          "1959-02-28T00:00:00.000000000",
          "1959-03-31T00:00:00.000000000",
          "1959-04-30T00:00:00.000000000",
          "1959-05-31T00:00:00.000000000",
          "1959-06-30T00:00:00.000000000",
          "1959-07-31T00:00:00.000000000",
          "1959-08-31T00:00:00.000000000",
          "1959-09-30T00:00:00.000000000",
          "1959-10-31T00:00:00.000000000",
          "1959-11-30T00:00:00.000000000",
          "1959-12-31T00:00:00.000000000",
          "1960-01-31T00:00:00.000000000",
          "1960-02-29T00:00:00.000000000",
          "1960-03-31T00:00:00.000000000",
          "1960-04-30T00:00:00.000000000",
          "1960-05-31T00:00:00.000000000",
          "1960-06-30T00:00:00.000000000",
          "1960-07-31T00:00:00.000000000",
          "1960-08-31T00:00:00.000000000",
          "1960-09-30T00:00:00.000000000",
          "1960-10-31T00:00:00.000000000",
          "1960-11-30T00:00:00.000000000",
          "1960-12-31T00:00:00.000000000"
         ],
         "xaxis": "x",
         "y": {
          "bdata": "cF1Np2y5WUB2aqpG5h1ZQA9WliN5q1xAtSXpr00MXUDXFlifTs5dQC1oY3PkQ2FAwMsL/BOhY0CDVI74yKZjQAqSYP0n1mBAIHo8zwX2XUAJ/8yFiihaQOnKRKyKW11AZFVjQBVzXkDQH4Fx4DldQJ6CoMSrCmFANDMSzIHbYEDMz/r2QnBhQMbePW5SDmRANq+ZtmfcZkBbb/TgdQJnQJWJ9FoprGNAxIsnnexiYUDxHX/GZIheQGrpsLWtMWFAWQ6G8gXhYUAgTFTt+epgQJoTAFv+NWRAPjxSjzSSY0DD0Vuf3XhkQFe19mjfbmdAkO0GpqnZakBqvPc02BVrQFuh1fu8CmdA1ne8qxksZEA4kcG+ZcVhQKp6cMaBB2RA5b/rlFvSZEBAlDhPUD1kQOxKJJSJe2ZAMlAa/bw1Z0BQqHKMToFnQJ7gFFIvS2tAHuj5IH7MbkAjuv/yp5luQAHbzU1iN2pAhTaW2hRwZ0DHEUBFN1BkQEelu9Kfq2ZAADaYdbBnZ0BPXmdovcBmQDvZPaZz2WlAYqkAdfwSakATrlTsc6JqQCY40hDPuW5AjSKsBk9kcUA4kaKCxFZxQMTVEPjdl21A8SmHMtg5akDTfTufm89mQAwlQAXRgGlA9RA2JWhaakC1Mwb/+TVpQOmLPkmwS21A5tgJL1zhbEDk80QR3sVtQM3S2mvyG3FA/5TgzxZ9c0BniTo0Z4xzQMgOH8DWqHBALSJPtcFrbUAaflpW0c9pQCy64RjlC21ApA2b1rctbkCln/hKFYlsQMiJHB0SCHFAJk+xKep6cECi0fI72DlxQBFr/NEXtHNAMSArDYmPdkDlWDW2Db52QCbNYXuqVXNAZvzbuVrqcEDIvZc8AsltQF9ESglBxnBA+8bZAWFtcUC6MceTLe5wQNaKT7+qy3JAdnWxTIxkc0AXrcGQz6BzQKgx0b2Nx3ZAFntbHdiweUBkTeNP7oJ5QK3SO87F03VAHi+LRcF8c0BCk8dbH95wQDjzpuXdzHJA+3zJJXJic0BgHEryNs9yQKnaD357U3VAxkw78l54dUAXokmajuN1QJbSVqEmMHlAdOY/6zRxfEC2rH8L8kh8QK2VoaWPFHhAWf/eAu5JdUCQl7TRXnlyQEw0gf8tm3RAzuhbKHI+dUAcpmFdD0h0QHuHnHXXg3dAxkGzPd8hd0BvDD1IsMt3QI3SlgW+OHtALSb1lYTcfkCgJDx2K+R+QI+ZY18WRnpA80crPEIZd0AeH7CNbS50QIZfUn+UnXZAPXqV7aNmd0CvyiPZ+At2QM0N2nDONnpAK4GAOmBFeUAGgyq/q1B6QHigh6oJ/n1AESQwls0bgUC1H2nTai+BQIegPKI3H31ABxbraSdkeUDgmTFESkh2QBUMAiL9A3lAIEG21cnneUBxXvBGpBd5QCotDtEsxXtAHtlDa2iRfEDDuUfgDtR8QLfmcaRNroBAFqYiJizCgkCjnZwFJJOCQJDeb1+6uX9AA8f1oFtFfEC3pyBBLG14QBSTv57eLHtA",
          "dtype": "f8"
         },
         "yaxis": "y"
        }
       ],
       "layout": {
        "legend": {
         "title": {
          "text": "variable"
         },
         "tracegroupgap": 0
        },
        "margin": {
         "t": 60
        },
        "template": {
         "data": {
          "bar": [
           {
            "error_x": {
             "color": "#f2f5fa"
            },
            "error_y": {
             "color": "#f2f5fa"
            },
            "marker": {
             "line": {
              "color": "rgb(17,17,17)",
              "width": 0.5
             },
             "pattern": {
              "fillmode": "overlay",
              "size": 10,
              "solidity": 0.2
             }
            },
            "type": "bar"
           }
          ],
          "barpolar": [
           {
            "marker": {
             "line": {
              "color": "rgb(17,17,17)",
              "width": 0.5
             },
             "pattern": {
              "fillmode": "overlay",
              "size": 10,
              "solidity": 0.2
             }
            },
            "type": "barpolar"
           }
          ],
          "carpet": [
           {
            "aaxis": {
             "endlinecolor": "#A2B1C6",
             "gridcolor": "#506784",
             "linecolor": "#506784",
             "minorgridcolor": "#506784",
             "startlinecolor": "#A2B1C6"
            },
            "baxis": {
             "endlinecolor": "#A2B1C6",
             "gridcolor": "#506784",
             "linecolor": "#506784",
             "minorgridcolor": "#506784",
             "startlinecolor": "#A2B1C6"
            },
            "type": "carpet"
           }
          ],
          "choropleth": [
           {
            "colorbar": {
             "outlinewidth": 0,
             "ticks": ""
            },
            "type": "choropleth"
           }
          ],
          "contour": [
           {
            "colorbar": {
             "outlinewidth": 0,
             "ticks": ""
            },
            "colorscale": [
             [
              0,
              "#0d0887"
             ],
             [
              0.1111111111111111,
              "#46039f"
             ],
             [
              0.2222222222222222,
              "#7201a8"
             ],
             [
              0.3333333333333333,
              "#9c179e"
             ],
             [
              0.4444444444444444,
              "#bd3786"
             ],
             [
              0.5555555555555556,
              "#d8576b"
             ],
             [
              0.6666666666666666,
              "#ed7953"
             ],
             [
              0.7777777777777778,
              "#fb9f3a"
             ],
             [
              0.8888888888888888,
              "#fdca26"
             ],
             [
              1,
              "#f0f921"
             ]
            ],
            "type": "contour"
           }
          ],
          "contourcarpet": [
           {
            "colorbar": {
             "outlinewidth": 0,
             "ticks": ""
            },
            "type": "contourcarpet"
           }
          ],
          "heatmap": [
           {
            "colorbar": {
             "outlinewidth": 0,
             "ticks": ""
            },
            "colorscale": [
             [
              0,
              "#0d0887"
             ],
             [
              0.1111111111111111,
              "#46039f"
             ],
             [
              0.2222222222222222,
              "#7201a8"
             ],
             [
              0.3333333333333333,
              "#9c179e"
             ],
             [
              0.4444444444444444,
              "#bd3786"
             ],
             [
              0.5555555555555556,
              "#d8576b"
             ],
             [
              0.6666666666666666,
              "#ed7953"
             ],
             [
              0.7777777777777778,
              "#fb9f3a"
             ],
             [
              0.8888888888888888,
              "#fdca26"
             ],
             [
              1,
              "#f0f921"
             ]
            ],
            "type": "heatmap"
           }
          ],
          "histogram": [
           {
            "marker": {
             "pattern": {
              "fillmode": "overlay",
              "size": 10,
              "solidity": 0.2
             }
            },
            "type": "histogram"
           }
          ],
          "histogram2d": [
           {
            "colorbar": {
             "outlinewidth": 0,
             "ticks": ""
            },
            "colorscale": [
             [
              0,
              "#0d0887"
             ],
             [
              0.1111111111111111,
              "#46039f"
             ],
             [
              0.2222222222222222,
              "#7201a8"
             ],
             [
              0.3333333333333333,
              "#9c179e"
             ],
             [
              0.4444444444444444,
              "#bd3786"
             ],
             [
              0.5555555555555556,
              "#d8576b"
             ],
             [
              0.6666666666666666,
              "#ed7953"
             ],
             [
              0.7777777777777778,
              "#fb9f3a"
             ],
             [
              0.8888888888888888,
              "#fdca26"
             ],
             [
              1,
              "#f0f921"
             ]
            ],
            "type": "histogram2d"
           }
          ],
          "histogram2dcontour": [
           {
            "colorbar": {
             "outlinewidth": 0,
             "ticks": ""
            },
            "colorscale": [
             [
              0,
              "#0d0887"
             ],
             [
              0.1111111111111111,
              "#46039f"
             ],
             [
              0.2222222222222222,
              "#7201a8"
             ],
             [
              0.3333333333333333,
              "#9c179e"
             ],
             [
              0.4444444444444444,
              "#bd3786"
             ],
             [
              0.5555555555555556,
              "#d8576b"
             ],
             [
              0.6666666666666666,
              "#ed7953"
             ],
             [
              0.7777777777777778,
              "#fb9f3a"
             ],
             [
              0.8888888888888888,
              "#fdca26"
             ],
             [
              1,
              "#f0f921"
             ]
            ],
            "type": "histogram2dcontour"
           }
          ],
          "mesh3d": [
           {
            "colorbar": {
             "outlinewidth": 0,
             "ticks": ""
            },
            "type": "mesh3d"
           }
          ],
          "parcoords": [
           {
            "line": {
             "colorbar": {
              "outlinewidth": 0,
              "ticks": ""
             }
            },
            "type": "parcoords"
           }
          ],
          "pie": [
           {
            "automargin": true,
            "type": "pie"
           }
          ],
          "scatter": [
           {
            "marker": {
             "line": {
              "color": "#283442"
             }
            },
            "type": "scatter"
           }
          ],
          "scatter3d": [
           {
            "line": {
             "colorbar": {
              "outlinewidth": 0,
              "ticks": ""
             }
            },
            "marker": {
             "colorbar": {
              "outlinewidth": 0,
              "ticks": ""
             }
            },
            "type": "scatter3d"
           }
          ],
          "scattercarpet": [
           {
            "marker": {
             "colorbar": {
              "outlinewidth": 0,
              "ticks": ""
             }
            },
            "type": "scattercarpet"
           }
          ],
          "scattergeo": [
           {
            "marker": {
             "colorbar": {
              "outlinewidth": 0,
              "ticks": ""
             }
            },
            "type": "scattergeo"
           }
          ],
          "scattergl": [
           {
            "marker": {
             "line": {
              "color": "#283442"
             }
            },
            "type": "scattergl"
           }
          ],
          "scattermap": [
           {
            "marker": {
             "colorbar": {
              "outlinewidth": 0,
              "ticks": ""
             }
            },
            "type": "scattermap"
           }
          ],
          "scattermapbox": [
           {
            "marker": {
             "colorbar": {
              "outlinewidth": 0,
              "ticks": ""
             }
            },
            "type": "scattermapbox"
           }
          ],
          "scatterpolar": [
           {
            "marker": {
             "colorbar": {
              "outlinewidth": 0,
              "ticks": ""
             }
            },
            "type": "scatterpolar"
           }
          ],
          "scatterpolargl": [
           {
            "marker": {
             "colorbar": {
              "outlinewidth": 0,
              "ticks": ""
             }
            },
            "type": "scatterpolargl"
           }
          ],
          "scatterternary": [
           {
            "marker": {
             "colorbar": {
              "outlinewidth": 0,
              "ticks": ""
             }
            },
            "type": "scatterternary"
           }
          ],
          "surface": [
           {
            "colorbar": {
             "outlinewidth": 0,
             "ticks": ""
            },
            "colorscale": [
             [
              0,
              "#0d0887"
             ],
             [
              0.1111111111111111,
              "#46039f"
             ],
             [
              0.2222222222222222,
              "#7201a8"
             ],
             [
              0.3333333333333333,
              "#9c179e"
             ],
             [
              0.4444444444444444,
              "#bd3786"
             ],
             [
              0.5555555555555556,
              "#d8576b"
             ],
             [
              0.6666666666666666,
              "#ed7953"
             ],
             [
              0.7777777777777778,
              "#fb9f3a"
             ],
             [
              0.8888888888888888,
              "#fdca26"
             ],
             [
              1,
              "#f0f921"
             ]
            ],
            "type": "surface"
           }
          ],
          "table": [
           {
            "cells": {
             "fill": {
              "color": "#506784"
             },
             "line": {
              "color": "rgb(17,17,17)"
             }
            },
            "header": {
             "fill": {
              "color": "#2a3f5f"
             },
             "line": {
              "color": "rgb(17,17,17)"
             }
            },
            "type": "table"
           }
          ]
         },
         "layout": {
          "annotationdefaults": {
           "arrowcolor": "#f2f5fa",
           "arrowhead": 0,
           "arrowwidth": 1
          },
          "autosize": false,
          "autotypenumbers": "strict",
          "coloraxis": {
           "colorbar": {
            "outlinewidth": 0,
            "ticks": ""
           }
          },
          "colorscale": {
           "diverging": [
            [
             0,
             "#8e0152"
            ],
            [
             0.1,
             "#c51b7d"
            ],
            [
             0.2,
             "#de77ae"
            ],
            [
             0.3,
             "#f1b6da"
            ],
            [
             0.4,
             "#fde0ef"
            ],
            [
             0.5,
             "#f7f7f7"
            ],
            [
             0.6,
             "#e6f5d0"
            ],
            [
             0.7,
             "#b8e186"
            ],
            [
             0.8,
             "#7fbc41"
            ],
            [
             0.9,
             "#4d9221"
            ],
            [
             1,
             "#276419"
            ]
           ],
           "sequential": [
            [
             0,
             "#0d0887"
            ],
            [
             0.1111111111111111,
             "#46039f"
            ],
            [
             0.2222222222222222,
             "#7201a8"
            ],
            [
             0.3333333333333333,
             "#9c179e"
            ],
            [
             0.4444444444444444,
             "#bd3786"
            ],
            [
             0.5555555555555556,
             "#d8576b"
            ],
            [
             0.6666666666666666,
             "#ed7953"
            ],
            [
             0.7777777777777778,
             "#fb9f3a"
            ],
            [
             0.8888888888888888,
             "#fdca26"
            ],
            [
             1,
             "#f0f921"
            ]
           ],
           "sequentialminus": [
            [
             0,
             "#0d0887"
            ],
            [
             0.1111111111111111,
             "#46039f"
            ],
            [
             0.2222222222222222,
             "#7201a8"
            ],
            [
             0.3333333333333333,
             "#9c179e"
            ],
            [
             0.4444444444444444,
             "#bd3786"
            ],
            [
             0.5555555555555556,
             "#d8576b"
            ],
            [
             0.6666666666666666,
             "#ed7953"
            ],
            [
             0.7777777777777778,
             "#fb9f3a"
            ],
            [
             0.8888888888888888,
             "#fdca26"
            ],
            [
             1,
             "#f0f921"
            ]
           ]
          },
          "colorway": [
           "#636efa",
           "#EF553B",
           "#00cc96",
           "#ab63fa",
           "#FFA15A",
           "#19d3f3",
           "#FF6692",
           "#B6E880",
           "#FF97FF",
           "#FECB52"
          ],
          "font": {
           "color": "#f2f5fa"
          },
          "geo": {
           "bgcolor": "rgb(17,17,17)",
           "lakecolor": "rgb(17,17,17)",
           "landcolor": "rgb(17,17,17)",
           "showlakes": true,
           "showland": true,
           "subunitcolor": "#506784"
          },
          "height": 500,
          "hoverlabel": {
           "align": "left"
          },
          "hovermode": "closest",
          "mapbox": {
           "style": "dark"
          },
          "paper_bgcolor": "rgb(17,17,17)",
          "plot_bgcolor": "rgb(17,17,17)",
          "polar": {
           "angularaxis": {
            "gridcolor": "#506784",
            "linecolor": "#506784",
            "ticks": ""
           },
           "bgcolor": "rgb(17,17,17)",
           "radialaxis": {
            "gridcolor": "#506784",
            "linecolor": "#506784",
            "ticks": ""
           }
          },
          "scene": {
           "xaxis": {
            "backgroundcolor": "rgb(17,17,17)",
            "gridcolor": "#506784",
            "gridwidth": 2,
            "linecolor": "#506784",
            "showbackground": true,
            "ticks": "",
            "zerolinecolor": "#C8D4E3"
           },
           "yaxis": {
            "backgroundcolor": "rgb(17,17,17)",
            "gridcolor": "#506784",
            "gridwidth": 2,
            "linecolor": "#506784",
            "showbackground": true,
            "ticks": "",
            "zerolinecolor": "#C8D4E3"
           },
           "zaxis": {
            "backgroundcolor": "rgb(17,17,17)",
            "gridcolor": "#506784",
            "gridwidth": 2,
            "linecolor": "#506784",
            "showbackground": true,
            "ticks": "",
            "zerolinecolor": "#C8D4E3"
           }
          },
          "shapedefaults": {
           "line": {
            "color": "#f2f5fa"
           }
          },
          "showlegend": true,
          "sliderdefaults": {
           "bgcolor": "#C8D4E3",
           "bordercolor": "rgb(17,17,17)",
           "borderwidth": 1,
           "tickwidth": 0
          },
          "ternary": {
           "aaxis": {
            "gridcolor": "#506784",
            "linecolor": "#506784",
            "ticks": ""
           },
           "baxis": {
            "gridcolor": "#506784",
            "linecolor": "#506784",
            "ticks": ""
           },
           "bgcolor": "rgb(17,17,17)",
           "caxis": {
            "gridcolor": "#506784",
            "linecolor": "#506784",
            "ticks": ""
           }
          },
          "title": {
           "x": 0.05
          },
          "updatemenudefaults": {
           "bgcolor": "#506784",
           "borderwidth": 0
          },
          "width": 1000,
          "xaxis": {
           "automargin": true,
           "gridcolor": "#283442",
           "linecolor": "#506784",
           "ticks": "",
           "title": {
            "standoff": 15
           },
           "zerolinecolor": "#283442",
           "zerolinewidth": 2
          },
          "yaxis": {
           "automargin": true,
           "gridcolor": "#283442",
           "linecolor": "#506784",
           "ticks": "",
           "title": {
            "standoff": 15
           },
           "zerolinecolor": "#283442",
           "zerolinewidth": 2
          }
         }
        },
        "xaxis": {
         "anchor": "y",
         "domain": [
          0,
          1
         ],
         "title": {
          "text": "ds"
         }
        },
        "yaxis": {
         "anchor": "x",
         "domain": [
          0,
          1
         ],
         "title": {
          "text": "value"
         }
        }
       }
      }
     },
     "metadata": {},
     "output_type": "display_data"
    }
   ],
   "source": [
    "from prophet import Prophet\n",
    "\n",
    "def fit_prophet(df, mode=\"multiplicative\"):\n",
    "    m = Prophet(\n",
    "        yearly_seasonality=True,\n",
    "        weekly_seasonality=False,\n",
    "        seasonality_mode=mode\n",
    "    )\n",
    "    m.fit(df)\n",
    "    future = m.make_future_dataframe(periods=48, freq='ME')\n",
    "    fc = m.predict(future)\n",
    "    return fc[['ds', 'yhat']].set_index('ds').rename(columns={'yhat': f\"forecast_{mode}\"})\n",
    "\n",
    "df_add = fit_prophet(df, mode=\"additive\")\n",
    "df_mul = fit_prophet(df, mode=\"multiplicative\")\n",
    "\n",
    "combined = df.set_index('ds').join(df_add).join(df_mul)\n",
    "combined.plot()"
   ]
  },
  {
   "cell_type": "markdown",
   "id": "80547070",
   "metadata": {},
   "source": [
    "## Configuration"
   ]
  },
  {
   "cell_type": "markdown",
   "id": "31c4a35c",
   "metadata": {},
   "source": [
    "1. Prophet automatically detects trend and seasonality using changepoints.\n",
    "2. You configure:\n",
    "\n",
    "   * **Trend flexibility** (with or without change points)\n",
    "   * **Additive vs. multiplicative** seasonality (`seasonality_mode`)\n",
    "   * **Custom seasonalities** (optional)\n",
    "   * **Holiday effects** (optional)\n"
   ]
  },
  {
   "cell_type": "markdown",
   "id": "97441ec5",
   "metadata": {},
   "source": [
    "**📌 Rule of Thumb**"
   ]
  },
  {
   "cell_type": "markdown",
   "id": "4ba97d98",
   "metadata": {},
   "source": [
    "> “Prophet config is semi-automatic: trend and seasonal components are learned with flexible change points. You choose seasonal mode and horizon — minimal tuning required.”"
   ]
  },
  {
   "cell_type": "markdown",
   "id": "8eb065fc",
   "metadata": {},
   "source": [
    "**Seasonal decomposition for visual insight only.**"
   ]
  },
  {
   "cell_type": "code",
   "execution_count": 10,
   "id": "eb085a23",
   "metadata": {},
   "outputs": [
    {
     "data": {
      "image/png": "[encoded data removed]",
      "text/plain": [
       "<Figure size 640x480 with 4 Axes>"
      ]
     },
     "metadata": {},
     "output_type": "display_data"
    },
    {
     "data": {
      "image/png": "[encoded data removed]",
      "text/plain": [
       "<Figure size 640x480 with 4 Axes>"
      ]
     },
     "metadata": {},
     "output_type": "display_data"
    }
   ],
   "source": [
    "from statsmodels.tsa.seasonal import seasonal_decompose\n",
    "\n",
    "seasonal_decompose(df['y'], model=\"additive\", period=12).plot();\n",
    "seasonal_decompose(df['y'], model=\"multiplicative\", period=12).plot();"
   ]
  },
  {
   "cell_type": "markdown",
   "id": "f84b48f6",
   "metadata": {},
   "source": [
    "## Diagnostics and assumptions"
   ]
  },
  {
   "cell_type": "markdown",
   "id": "6a513a00",
   "metadata": {},
   "source": [
    "Although Prophet is robust and doesn’t require stationarity or normal residuals, residual analysis helps confirm quality."
   ]
  },
  {
   "cell_type": "markdown",
   "id": "bdf6c76a",
   "metadata": {},
   "source": [
    "### Residual calculation"
   ]
  },
  {
   "cell_type": "code",
   "execution_count": 11,
   "id": "76d837ab",
   "metadata": {},
   "outputs": [
    {
     "data": {
      "text/plain": [
       "ds\n",
       "1949-01-31     9.102743\n",
       "1949-02-28    17.532820\n",
       "                ...    \n",
       "1960-11-30    -0.823304\n",
       "1960-12-31    -2.804351\n",
       "Name: residuals, Length: 144, dtype: float64"
      ]
     },
     "execution_count": 11,
     "metadata": {},
     "output_type": "execute_result"
    }
   ],
   "source": [
    "df_forecast = forecast.set_index(\"ds\")[['yhat']].join(df.set_index(\"ds\"))\n",
    "df_forecast['residuals'] = df_forecast['y'] - df_forecast['yhat']\n",
    "\n",
    "residuals = df_forecast['residuals'].dropna()\n",
    "residuals"
   ]
  },
  {
   "cell_type": "markdown",
   "id": "597610fe",
   "metadata": {},
   "source": [
    "### Autocorrelation"
   ]
  },
  {
   "cell_type": "markdown",
   "id": "c4951d84",
   "metadata": {},
   "source": [
    "#### Plot"
   ]
  },
  {
   "cell_type": "code",
   "execution_count": 12,
   "id": "fd82727b",
   "metadata": {},
   "outputs": [
    {
     "data": {
      "image/png": "[encoded data removed]",
      "text/plain": [
       "<Figure size 640x480 with 1 Axes>"
      ]
     },
     "metadata": {},
     "output_type": "display_data"
    }
   ],
   "source": [
    "from statsmodels.graphics.tsaplots import plot_acf\n",
    "plot_acf(residuals);"
   ]
  },
  {
   "cell_type": "markdown",
   "id": "dbf00de4",
   "metadata": {},
   "source": [
    "#### Test: Ljung-Box"
   ]
  },
  {
   "cell_type": "code",
   "execution_count": 13,
   "id": "d7d049f7",
   "metadata": {},
   "outputs": [
    {
     "data": {
      "text/html": [
       "<style type=\"text/css\">\n",
       "</style>\n",
       "<table id=\"T_946c7\">\n",
       "  <thead>\n",
       "    <tr>\n",
       "      <th class=\"blank level0\" >&nbsp;</th>\n",
       "      <th id=\"T_946c7_level0_col0\" class=\"col_heading level0 col0\" >lb_stat</th>\n",
       "      <th id=\"T_946c7_level0_col1\" class=\"col_heading level0 col1\" >lb_pvalue</th>\n",
       "    </tr>\n",
       "  </thead>\n",
       "  <tbody>\n",
       "    <tr>\n",
       "      <th id=\"T_946c7_level0_row0\" class=\"row_heading level0 row0\" >10</th>\n",
       "      <td id=\"T_946c7_row0_col0\" class=\"data row0 col0\" >82.668229</td>\n",
       "      <td id=\"T_946c7_row0_col1\" class=\"data row0 col1\" >0.000000</td>\n",
       "    </tr>\n",
       "    <tr>\n",
       "      <th id=\"T_946c7_level0_row1\" class=\"row_heading level0 row1\" >20</th>\n",
       "      <td id=\"T_946c7_row1_col0\" class=\"data row1 col0\" >167.529442</td>\n",
       "      <td id=\"T_946c7_row1_col1\" class=\"data row1 col1\" >0.000000</td>\n",
       "    </tr>\n",
       "    <tr>\n",
       "      <th id=\"T_946c7_level0_row2\" class=\"row_heading level0 row2\" >30</th>\n",
       "      <td id=\"T_946c7_row2_col0\" class=\"data row2 col0\" >219.288026</td>\n",
       "      <td id=\"T_946c7_row2_col1\" class=\"data row2 col1\" >0.000000</td>\n",
       "    </tr>\n",
       "  </tbody>\n",
       "</table>\n"
      ],
      "text/plain": [
       "<pandas.io.formats.style.Styler at 0x30eb70d70>"
      ]
     },
     "execution_count": 13,
     "metadata": {},
     "output_type": "execute_result"
    }
   ],
   "source": [
    "from statsmodels.stats.diagnostic import acorr_ljungbox\n",
    "acorr_ljungbox(residuals, lags=[10, 20, 30]).style"
   ]
  },
  {
   "cell_type": "markdown",
   "id": "5c34e9c6",
   "metadata": {},
   "source": [
    "### Normality"
   ]
  },
  {
   "cell_type": "markdown",
   "id": "a3e45393",
   "metadata": {},
   "source": [
    "#### Plot"
   ]
  },
  {
   "cell_type": "code",
   "execution_count": 14,
   "id": "894c7398",
   "metadata": {},
   "outputs": [
    {
     "data": {
      "image/png": "[encoded data removed]",
      "text/plain": [
       "<Figure size 640x480 with 1 Axes>"
      ]
     },
     "metadata": {},
     "output_type": "display_data"
    }
   ],
   "source": [
    "from scipy import stats\n",
    "import matplotlib.pyplot as plt\n",
    "\n",
    "fig, ax = plt.subplots()\n",
    "stats.probplot(residuals, dist='norm', plot=ax);"
   ]
  },
  {
   "cell_type": "markdown",
   "id": "f52c25db",
   "metadata": {},
   "source": [
    "#### Test: Jarque-Bera"
   ]
  },
  {
   "cell_type": "code",
   "execution_count": 15,
   "id": "c29d030b",
   "metadata": {},
   "outputs": [
    {
     "data": {
      "text/plain": [
       "SignificanceResult(statistic=np.float64(0.018871983201470002), pvalue=np.float64(0.9906083876708386))"
      ]
     },
     "execution_count": 15,
     "metadata": {},
     "output_type": "execute_result"
    }
   ],
   "source": [
    "from scipy.stats import jarque_bera\n",
    "jarque_bera(residuals)"
   ]
  },
  {
   "cell_type": "markdown",
   "id": "dcc9bbb1",
   "metadata": {},
   "source": [
    "### Homoscedasticity"
   ]
  },
  {
   "cell_type": "markdown",
   "id": "4e7417d5",
   "metadata": {},
   "source": [
    "#### Plot"
   ]
  },
  {
   "cell_type": "code",
   "execution_count": 16,
   "id": "f8b0c1dd",
   "metadata": {},
   "outputs": [
    {
     "data": {
      "application/vnd.plotly.v1+json": {
       "config": {
        "plotlyServerURL": "https://plot.ly"
       },
       "data": [
        {
         "hovertemplate": "variable=residuals<br>ds=%{x}<br>value=%{y}<extra></extra>",
         "legendgroup": "residuals",
         "line": {
          "color": "#636efa",
          "dash": "solid"
         },
         "marker": {
          "symbol": "circle"
         },
         "mode": "lines",
         "name": "residuals",
         "orientation": "v",
         "showlegend": true,
         "type": "scatter",
         "x": [
          "1949-01-31T00:00:00.000000000",
          "1949-02-28T00:00:00.000000000",
          "1949-03-31T00:00:00.000000000",
          "1949-04-30T00:00:00.000000000",
          "1949-05-31T00:00:00.000000000",
          "1949-06-30T00:00:00.000000000",
          "1949-07-31T00:00:00.000000000",
          "1949-08-31T00:00:00.000000000",
          "1949-09-30T00:00:00.000000000",
          "1949-10-31T00:00:00.000000000",
          "1949-11-30T00:00:00.000000000",
          "1949-12-31T00:00:00.000000000",
          "1950-01-31T00:00:00.000000000",
          "1950-02-28T00:00:00.000000000",
          "1950-03-31T00:00:00.000000000",
          "1950-04-30T00:00:00.000000000",
          "1950-05-31T00:00:00.000000000",
          "1950-06-30T00:00:00.000000000",
          "1950-07-31T00:00:00.000000000",
          "1950-08-31T00:00:00.000000000",
          "1950-09-30T00:00:00.000000000",
          "1950-10-31T00:00:00.000000000",
          "1950-11-30T00:00:00.000000000",
          "1950-12-31T00:00:00.000000000",
          "1951-01-31T00:00:00.000000000",
          "1951-02-28T00:00:00.000000000",
          "1951-03-31T00:00:00.000000000",
          "1951-04-30T00:00:00.000000000",
          "1951-05-31T00:00:00.000000000",
          "1951-06-30T00:00:00.000000000",
          "1951-07-31T00:00:00.000000000",
          "1951-08-31T00:00:00.000000000",
          "1951-09-30T00:00:00.000000000",
          "1951-10-31T00:00:00.000000000",
          "1951-11-30T00:00:00.000000000",
          "1951-12-31T00:00:00.000000000",
          "1952-01-31T00:00:00.000000000",
          "1952-02-29T00:00:00.000000000",
          "1952-03-31T00:00:00.000000000",
          "1952-04-30T00:00:00.000000000",
          "1952-05-31T00:00:00.000000000",
          "1952-06-30T00:00:00.000000000",
          "1952-07-31T00:00:00.000000000",
          "1952-08-31T00:00:00.000000000",
          "1952-09-30T00:00:00.000000000",
          "1952-10-31T00:00:00.000000000",
          "1952-11-30T00:00:00.000000000",
          "1952-12-31T00:00:00.000000000",
          "1953-01-31T00:00:00.000000000",
          "1953-02-28T00:00:00.000000000",
          "1953-03-31T00:00:00.000000000",
          "1953-04-30T00:00:00.000000000",
          "1953-05-31T00:00:00.000000000",
          "1953-06-30T00:00:00.000000000",
          "1953-07-31T00:00:00.000000000",
          "1953-08-31T00:00:00.000000000",
          "1953-09-30T00:00:00.000000000",
          "1953-10-31T00:00:00.000000000",
          "1953-11-30T00:00:00.000000000",
          "1953-12-31T00:00:00.000000000",
          "1954-01-31T00:00:00.000000000",
          "1954-02-28T00:00:00.000000000",
          "1954-03-31T00:00:00.000000000",
          "1954-04-30T00:00:00.000000000",
          "1954-05-31T00:00:00.000000000",
          "1954-06-30T00:00:00.000000000",
          "1954-07-31T00:00:00.000000000",
          "1954-08-31T00:00:00.000000000",
          "1954-09-30T00:00:00.000000000",
          "1954-10-31T00:00:00.000000000",
          "1954-11-30T00:00:00.000000000",
          "1954-12-31T00:00:00.000000000",
          "1955-01-31T00:00:00.000000000",
          "1955-02-28T00:00:00.000000000",
          "1955-03-31T00:00:00.000000000",
          "1955-04-30T00:00:00.000000000",
          "1955-05-31T00:00:00.000000000",
          "1955-06-30T00:00:00.000000000",
          "1955-07-31T00:00:00.000000000",
          "1955-08-31T00:00:00.000000000",
          "1955-09-30T00:00:00.000000000",
          "1955-10-31T00:00:00.000000000",
          "1955-11-30T00:00:00.000000000",
          "1955-12-31T00:00:00.000000000",
          "1956-01-31T00:00:00.000000000",
          "1956-02-29T00:00:00.000000000",
          "1956-03-31T00:00:00.000000000",
          "1956-04-30T00:00:00.000000000",
          "1956-05-31T00:00:00.000000000",
          "1956-06-30T00:00:00.000000000",
          "1956-07-31T00:00:00.000000000",
          "1956-08-31T00:00:00.000000000",
          "1956-09-30T00:00:00.000000000",
          "1956-10-31T00:00:00.000000000",
          "1956-11-30T00:00:00.000000000",
          "1956-12-31T00:00:00.000000000",
          "1957-01-31T00:00:00.000000000",
          "1957-02-28T00:00:00.000000000",
          "1957-03-31T00:00:00.000000000",
          "1957-04-30T00:00:00.000000000",
          "1957-05-31T00:00:00.000000000",
          "1957-06-30T00:00:00.000000000",
          "1957-07-31T00:00:00.000000000",
          "1957-08-31T00:00:00.000000000",
          "1957-09-30T00:00:00.000000000",
          "1957-10-31T00:00:00.000000000",
          "1957-11-30T00:00:00.000000000",
          "1957-12-31T00:00:00.000000000",
          "1958-01-31T00:00:00.000000000",
          "1958-02-28T00:00:00.000000000",
          "1958-03-31T00:00:00.000000000",
          "1958-04-30T00:00:00.000000000",
          "1958-05-31T00:00:00.000000000",
          "1958-06-30T00:00:00.000000000",
          "1958-07-31T00:00:00.000000000",
          "1958-08-31T00:00:00.000000000",
          "1958-09-30T00:00:00.000000000",
          "1958-10-31T00:00:00.000000000",
          "1958-11-30T00:00:00.000000000",
          "1958-12-31T00:00:00.000000000",
          "1959-01-31T00:00:00.000000000",
          "1959-02-28T00:00:00.000000000",
          "1959-03-31T00:00:00.000000000",
          "1959-04-30T00:00:00.000000000",
          "1959-05-31T00:00:00.000000000",
          "1959-06-30T00:00:00.000000000",
          "1959-07-31T00:00:00.000000000",
          "1959-08-31T00:00:00.000000000",
          "1959-09-30T00:00:00.000000000",
          "1959-10-31T00:00:00.000000000",
          "1959-11-30T00:00:00.000000000",
          "1959-12-31T00:00:00.000000000",
          "1960-01-31T00:00:00.000000000",
          "1960-02-29T00:00:00.000000000",
          "1960-03-31T00:00:00.000000000",
          "1960-04-30T00:00:00.000000000",
          "1960-05-31T00:00:00.000000000",
          "1960-06-30T00:00:00.000000000",
          "1960-07-31T00:00:00.000000000",
          "1960-08-31T00:00:00.000000000",
          "1960-09-30T00:00:00.000000000",
          "1960-10-31T00:00:00.000000000",
          "1960-11-30T00:00:00.000000000",
          "1960-12-31T00:00:00.000000000"
         ],
         "xaxis": "x",
         "y": {
          "bdata": "gBSVxZo0IkAoVlblZogxQMSnpnEbUjFAWNK2gJKdKUBASvopWGz8P0AL2tgc+QjAALy8wD8RIsAwSOWIj2wiwAD7tk8B7PQ/ABA9nucC67+AhH/mQkXkv4CLmt2pOuI/QFY1BlQxG8CAAfdz/DAiQECs72uHqhJAADAzt8/4wT/A/KxvLwQtwGDs3eMm5SbAYPOaaXvGKcCw9UYPXicswABrdgul1uM/gHjxpJNdGMCI7/gzJkMgwIClxZOSlANAgNP4vAZ9/z8APrsqYVAtQDBj/ycNUDBAQHi4FW65GUDQ40IKJnIgQHBVa4/27SLAANluYJqaL8BQ472nwa4xwAC2Qqv3edW/ACqIQ1Tm4z8AsptPkKYOQMCq8DHHDxdAYAOIYo20EUAAXjuGfRUyQEBRu71mRypAQAZKo5+3EsAAClWO0SkUwAA8wSmkXta/8EDPB/FjMMDAiO6//GkGwAAB281NYue/wF5yWsn6C0CQ4/6ri/wiQJCrRdQCRilAAKB8pviEIUAQG4p5KfQrQCg2Ec5iND1A8LT6VxxoOkDQHrU6wdgvQIAJjjTEcwbAoFGE1eCJLMAATqSoILEVwAB4VN4PRNA/gAdrvOYT8z/AdN/O5+YDwABDCVBBNAjAoB7CpgRNG8BQO2Pwn18rwAAXdMG2T+Q/wBw74YUrEMCAfJ4owrsQwKBZWntNfiPA4J8S/NmiI8BwlqhDc8YzwACywwewNR7AoEXkqTZ4GcCAhp+WVfQLwACLbjhG+QrAAFzyZClI4j9gC+ygVt0SQAByIkeHBBbAgDask3VFFUCAaLT8DnYWwABErPFHX9C/gOdvank7CEBQjlVj2+AwwABtGU/CKgVAAM0BEqPSCkAA5N5LHoH0vyB0t9beNyNAQEGOib+nFECAkTMOm3QYQKBSBwtURTBAAEVFp9m5BUCAdCmfN5gPQADL2UVIDiNAAOqEpOIn/z8AsqbxJ3cJwMBUC3GMDhdAgMfLYlEwF8AAvmw4pODxPwAyQ5aGyBRAQMGgjXZjE0AAAHS8tiGpP+CqBD6QkC1AgM4scUPoEUBAepdtWRwTQKDWkuqV/TJAgDEDmGLZI0BAaQqQvuEsQDCl5qUFtzJAwClASH+EGUAADm3JJdQiQADtsh+ANBlAACBzQXrduD8Ah2lY1wMawGDvkLPueizAYBw02/MdNsDwxtCDBLsxwAAapS0LfOG/gBaT+kpCBsAAbHs4kXolQPCYOfZlYTDAYP5ohUcoJcDA4wO2sc0pwGD4JfVH2TjAoEevsn3ULMDgVXkkG38lwKC5QRvO2SrAYCUQUAesIMAABoMqv6vwvwAe6KFqgh/AALxvP6fJ4D/AErglSyUiQIBDUB7RmwfAAPLTKSyx5z8AiJnzbu0VQMD6fH+3ABNAAHDfJBUbBEAgzgveiPQkwKDS4hDNUjnAAHETXspLD0Cgxwj3I34lQACSMhy3ZPM/QD2rO3u6NUBAl9iY/jYnQADAhUCCFtk/oB9H4YtUIUAAbk9BgljqvwCKyV9PbwbA",
          "dtype": "f8"
         },
         "yaxis": "y"
        }
       ],
       "layout": {
        "legend": {
         "title": {
          "text": "variable"
         },
         "tracegroupgap": 0
        },
        "margin": {
         "t": 60
        },
        "template": {
         "data": {
          "bar": [
           {
            "error_x": {
             "color": "#f2f5fa"
            },
            "error_y": {
             "color": "#f2f5fa"
            },
            "marker": {
             "line": {
              "color": "rgb(17,17,17)",
              "width": 0.5
             },
             "pattern": {
              "fillmode": "overlay",
              "size": 10,
              "solidity": 0.2
             }
            },
            "type": "bar"
           }
          ],
          "barpolar": [
           {
            "marker": {
             "line": {
              "color": "rgb(17,17,17)",
              "width": 0.5
             },
             "pattern": {
              "fillmode": "overlay",
              "size": 10,
              "solidity": 0.2
             }
            },
            "type": "barpolar"
           }
          ],
          "carpet": [
           {
            "aaxis": {
             "endlinecolor": "#A2B1C6",
             "gridcolor": "#506784",
             "linecolor": "#506784",
             "minorgridcolor": "#506784",
             "startlinecolor": "#A2B1C6"
            },
            "baxis": {
             "endlinecolor": "#A2B1C6",
             "gridcolor": "#506784",
             "linecolor": "#506784",
             "minorgridcolor": "#506784",
             "startlinecolor": "#A2B1C6"
            },
            "type": "carpet"
           }
          ],
          "choropleth": [
           {
            "colorbar": {
             "outlinewidth": 0,
             "ticks": ""
            },
            "type": "choropleth"
           }
          ],
          "contour": [
           {
            "colorbar": {
             "outlinewidth": 0,
             "ticks": ""
            },
            "colorscale": [
             [
              0,
              "#0d0887"
             ],
             [
              0.1111111111111111,
              "#46039f"
             ],
             [
              0.2222222222222222,
              "#7201a8"
             ],
             [
              0.3333333333333333,
              "#9c179e"
             ],
             [
              0.4444444444444444,
              "#bd3786"
             ],
             [
              0.5555555555555556,
              "#d8576b"
             ],
             [
              0.6666666666666666,
              "#ed7953"
             ],
             [
              0.7777777777777778,
              "#fb9f3a"
             ],
             [
              0.8888888888888888,
              "#fdca26"
             ],
             [
              1,
              "#f0f921"
             ]
            ],
            "type": "contour"
           }
          ],
          "contourcarpet": [
           {
            "colorbar": {
             "outlinewidth": 0,
             "ticks": ""
            },
            "type": "contourcarpet"
           }
          ],
          "heatmap": [
           {
            "colorbar": {
             "outlinewidth": 0,
             "ticks": ""
            },
            "colorscale": [
             [
              0,
              "#0d0887"
             ],
             [
              0.1111111111111111,
              "#46039f"
             ],
             [
              0.2222222222222222,
              "#7201a8"
             ],
             [
              0.3333333333333333,
              "#9c179e"
             ],
             [
              0.4444444444444444,
              "#bd3786"
             ],
             [
              0.5555555555555556,
              "#d8576b"
             ],
             [
              0.6666666666666666,
              "#ed7953"
             ],
             [
              0.7777777777777778,
              "#fb9f3a"
             ],
             [
              0.8888888888888888,
              "#fdca26"
             ],
             [
              1,
              "#f0f921"
             ]
            ],
            "type": "heatmap"
           }
          ],
          "histogram": [
           {
            "marker": {
             "pattern": {
              "fillmode": "overlay",
              "size": 10,
              "solidity": 0.2
             }
            },
            "type": "histogram"
           }
          ],
          "histogram2d": [
           {
            "colorbar": {
             "outlinewidth": 0,
             "ticks": ""
            },
            "colorscale": [
             [
              0,
              "#0d0887"
             ],
             [
              0.1111111111111111,
              "#46039f"
             ],
             [
              0.2222222222222222,
              "#7201a8"
             ],
             [
              0.3333333333333333,
              "#9c179e"
             ],
             [
              0.4444444444444444,
              "#bd3786"
             ],
             [
              0.5555555555555556,
              "#d8576b"
             ],
             [
              0.6666666666666666,
              "#ed7953"
             ],
             [
              0.7777777777777778,
              "#fb9f3a"
             ],
             [
              0.8888888888888888,
              "#fdca26"
             ],
             [
              1,
              "#f0f921"
             ]
            ],
            "type": "histogram2d"
           }
          ],
          "histogram2dcontour": [
           {
            "colorbar": {
             "outlinewidth": 0,
             "ticks": ""
            },
            "colorscale": [
             [
              0,
              "#0d0887"
             ],
             [
              0.1111111111111111,
              "#46039f"
             ],
             [
              0.2222222222222222,
              "#7201a8"
             ],
             [
              0.3333333333333333,
              "#9c179e"
             ],
             [
              0.4444444444444444,
              "#bd3786"
             ],
             [
              0.5555555555555556,
              "#d8576b"
             ],
             [
              0.6666666666666666,
              "#ed7953"
             ],
             [
              0.7777777777777778,
              "#fb9f3a"
             ],
             [
              0.8888888888888888,
              "#fdca26"
             ],
             [
              1,
              "#f0f921"
             ]
            ],
            "type": "histogram2dcontour"
           }
          ],
          "mesh3d": [
           {
            "colorbar": {
             "outlinewidth": 0,
             "ticks": ""
            },
            "type": "mesh3d"
           }
          ],
          "parcoords": [
           {
            "line": {
             "colorbar": {
              "outlinewidth": 0,
              "ticks": ""
             }
            },
            "type": "parcoords"
           }
          ],
          "pie": [
           {
            "automargin": true,
            "type": "pie"
           }
          ],
          "scatter": [
           {
            "marker": {
             "line": {
              "color": "#283442"
             }
            },
            "type": "scatter"
           }
          ],
          "scatter3d": [
           {
            "line": {
             "colorbar": {
              "outlinewidth": 0,
              "ticks": ""
             }
            },
            "marker": {
             "colorbar": {
              "outlinewidth": 0,
              "ticks": ""
             }
            },
            "type": "scatter3d"
           }
          ],
          "scattercarpet": [
           {
            "marker": {
             "colorbar": {
              "outlinewidth": 0,
              "ticks": ""
             }
            },
            "type": "scattercarpet"
           }
          ],
          "scattergeo": [
           {
            "marker": {
             "colorbar": {
              "outlinewidth": 0,
              "ticks": ""
             }
            },
            "type": "scattergeo"
           }
          ],
          "scattergl": [
           {
            "marker": {
             "line": {
              "color": "#283442"
             }
            },
            "type": "scattergl"
           }
          ],
          "scattermap": [
           {
            "marker": {
             "colorbar": {
              "outlinewidth": 0,
              "ticks": ""
             }
            },
            "type": "scattermap"
           }
          ],
          "scattermapbox": [
           {
            "marker": {
             "colorbar": {
              "outlinewidth": 0,
              "ticks": ""
             }
            },
            "type": "scattermapbox"
           }
          ],
          "scatterpolar": [
           {
            "marker": {
             "colorbar": {
              "outlinewidth": 0,
              "ticks": ""
             }
            },
            "type": "scatterpolar"
           }
          ],
          "scatterpolargl": [
           {
            "marker": {
             "colorbar": {
              "outlinewidth": 0,
              "ticks": ""
             }
            },
            "type": "scatterpolargl"
           }
          ],
          "scatterternary": [
           {
            "marker": {
             "colorbar": {
              "outlinewidth": 0,
              "ticks": ""
             }
            },
            "type": "scatterternary"
           }
          ],
          "surface": [
           {
            "colorbar": {
             "outlinewidth": 0,
             "ticks": ""
            },
            "colorscale": [
             [
              0,
              "#0d0887"
             ],
             [
              0.1111111111111111,
              "#46039f"
             ],
             [
              0.2222222222222222,
              "#7201a8"
             ],
             [
              0.3333333333333333,
              "#9c179e"
             ],
             [
              0.4444444444444444,
              "#bd3786"
             ],
             [
              0.5555555555555556,
              "#d8576b"
             ],
             [
              0.6666666666666666,
              "#ed7953"
             ],
             [
              0.7777777777777778,
              "#fb9f3a"
             ],
             [
              0.8888888888888888,
              "#fdca26"
             ],
             [
              1,
              "#f0f921"
             ]
            ],
            "type": "surface"
           }
          ],
          "table": [
           {
            "cells": {
             "fill": {
              "color": "#506784"
             },
             "line": {
              "color": "rgb(17,17,17)"
             }
            },
            "header": {
             "fill": {
              "color": "#2a3f5f"
             },
             "line": {
              "color": "rgb(17,17,17)"
             }
            },
            "type": "table"
           }
          ]
         },
         "layout": {
          "annotationdefaults": {
           "arrowcolor": "#f2f5fa",
           "arrowhead": 0,
           "arrowwidth": 1
          },
          "autosize": false,
          "autotypenumbers": "strict",
          "coloraxis": {
           "colorbar": {
            "outlinewidth": 0,
            "ticks": ""
           }
          },
          "colorscale": {
           "diverging": [
            [
             0,
             "#8e0152"
            ],
            [
             0.1,
             "#c51b7d"
            ],
            [
             0.2,
             "#de77ae"
            ],
            [
             0.3,
             "#f1b6da"
            ],
            [
             0.4,
             "#fde0ef"
            ],
            [
             0.5,
             "#f7f7f7"
            ],
            [
             0.6,
             "#e6f5d0"
            ],
            [
             0.7,
             "#b8e186"
            ],
            [
             0.8,
             "#7fbc41"
            ],
            [
             0.9,
             "#4d9221"
            ],
            [
             1,
             "#276419"
            ]
           ],
           "sequential": [
            [
             0,
             "#0d0887"
            ],
            [
             0.1111111111111111,
             "#46039f"
            ],
            [
             0.2222222222222222,
             "#7201a8"
            ],
            [
             0.3333333333333333,
             "#9c179e"
            ],
            [
             0.4444444444444444,
             "#bd3786"
            ],
            [
             0.5555555555555556,
             "#d8576b"
            ],
            [
             0.6666666666666666,
             "#ed7953"
            ],
            [
             0.7777777777777778,
             "#fb9f3a"
            ],
            [
             0.8888888888888888,
             "#fdca26"
            ],
            [
             1,
             "#f0f921"
            ]
           ],
           "sequentialminus": [
            [
             0,
             "#0d0887"
            ],
            [
             0.1111111111111111,
             "#46039f"
            ],
            [
             0.2222222222222222,
             "#7201a8"
            ],
            [
             0.3333333333333333,
             "#9c179e"
            ],
            [
             0.4444444444444444,
             "#bd3786"
            ],
            [
             0.5555555555555556,
             "#d8576b"
            ],
            [
             0.6666666666666666,
             "#ed7953"
            ],
            [
             0.7777777777777778,
             "#fb9f3a"
            ],
            [
             0.8888888888888888,
             "#fdca26"
            ],
            [
             1,
             "#f0f921"
            ]
           ]
          },
          "colorway": [
           "#636efa",
           "#EF553B",
           "#00cc96",
           "#ab63fa",
           "#FFA15A",
           "#19d3f3",
           "#FF6692",
           "#B6E880",
           "#FF97FF",
           "#FECB52"
          ],
          "font": {
           "color": "#f2f5fa"
          },
          "geo": {
           "bgcolor": "rgb(17,17,17)",
           "lakecolor": "rgb(17,17,17)",
           "landcolor": "rgb(17,17,17)",
           "showlakes": true,
           "showland": true,
           "subunitcolor": "#506784"
          },
          "height": 500,
          "hoverlabel": {
           "align": "left"
          },
          "hovermode": "closest",
          "mapbox": {
           "style": "dark"
          },
          "paper_bgcolor": "rgb(17,17,17)",
          "plot_bgcolor": "rgb(17,17,17)",
          "polar": {
           "angularaxis": {
            "gridcolor": "#506784",
            "linecolor": "#506784",
            "ticks": ""
           },
           "bgcolor": "rgb(17,17,17)",
           "radialaxis": {
            "gridcolor": "#506784",
            "linecolor": "#506784",
            "ticks": ""
           }
          },
          "scene": {
           "xaxis": {
            "backgroundcolor": "rgb(17,17,17)",
            "gridcolor": "#506784",
            "gridwidth": 2,
            "linecolor": "#506784",
            "showbackground": true,
            "ticks": "",
            "zerolinecolor": "#C8D4E3"
           },
           "yaxis": {
            "backgroundcolor": "rgb(17,17,17)",
            "gridcolor": "#506784",
            "gridwidth": 2,
            "linecolor": "#506784",
            "showbackground": true,
            "ticks": "",
            "zerolinecolor": "#C8D4E3"
           },
           "zaxis": {
            "backgroundcolor": "rgb(17,17,17)",
            "gridcolor": "#506784",
            "gridwidth": 2,
            "linecolor": "#506784",
            "showbackground": true,
            "ticks": "",
            "zerolinecolor": "#C8D4E3"
           }
          },
          "shapedefaults": {
           "line": {
            "color": "#f2f5fa"
           }
          },
          "showlegend": true,
          "sliderdefaults": {
           "bgcolor": "#C8D4E3",
           "bordercolor": "rgb(17,17,17)",
           "borderwidth": 1,
           "tickwidth": 0
          },
          "ternary": {
           "aaxis": {
            "gridcolor": "#506784",
            "linecolor": "#506784",
            "ticks": ""
           },
           "baxis": {
            "gridcolor": "#506784",
            "linecolor": "#506784",
            "ticks": ""
           },
           "bgcolor": "rgb(17,17,17)",
           "caxis": {
            "gridcolor": "#506784",
            "linecolor": "#506784",
            "ticks": ""
           }
          },
          "title": {
           "x": 0.05
          },
          "updatemenudefaults": {
           "bgcolor": "#506784",
           "borderwidth": 0
          },
          "width": 1000,
          "xaxis": {
           "automargin": true,
           "gridcolor": "#283442",
           "linecolor": "#506784",
           "ticks": "",
           "title": {
            "standoff": 15
           },
           "zerolinecolor": "#283442",
           "zerolinewidth": 2
          },
          "yaxis": {
           "automargin": true,
           "gridcolor": "#283442",
           "linecolor": "#506784",
           "ticks": "",
           "title": {
            "standoff": 15
           },
           "zerolinecolor": "#283442",
           "zerolinewidth": 2
          }
         }
        },
        "xaxis": {
         "anchor": "y",
         "domain": [
          0,
          1
         ],
         "title": {
          "text": "ds"
         }
        },
        "yaxis": {
         "anchor": "x",
         "domain": [
          0,
          1
         ],
         "title": {
          "text": "value"
         }
        }
       }
      }
     },
     "metadata": {},
     "output_type": "display_data"
    }
   ],
   "source": [
    "residuals.plot()"
   ]
  },
  {
   "cell_type": "markdown",
   "id": "8a881322",
   "metadata": {},
   "source": [
    "#### Test"
   ]
  },
  {
   "cell_type": "code",
   "execution_count": 17,
   "id": "057b74c5",
   "metadata": {},
   "outputs": [
    {
     "data": {
      "text/plain": [
       "(np.float64(16.596914206299374),\n",
       " np.float64(0.08377279981299146),\n",
       " 1.7388132803953582,\n",
       " 0.0793106680683477)"
      ]
     },
     "execution_count": 17,
     "metadata": {},
     "output_type": "execute_result"
    }
   ],
   "source": [
    "from statsmodels.stats.diagnostic import het_arch\n",
    "het_arch(residuals)"
   ]
  },
  {
   "cell_type": "markdown",
   "id": "2eba72f7",
   "metadata": {},
   "source": [
    "## ✅ Final Takeaway"
   ]
  },
  {
   "cell_type": "markdown",
   "id": "fda621ab",
   "metadata": {},
   "source": [
    "> “Prophet provides quick and flexible forecasts. Diagnostics help validate performance — even if residuals aren’t perfect, low autocorrelation and reasonable error distribution often indicate a usable model.”"
   ]
  },
  {
   "cell_type": "code",
   "execution_count": 15,
   "id": "050b5af9",
   "metadata": {},
   "outputs": [],
   "source": [
    "pd.options.plotting.backend = \"matplotlib\""
   ]
  },
  {
   "cell_type": "code",
   "execution_count": 17,
   "id": "65a77d68",
   "metadata": {},
   "outputs": [
    {
     "name": "stderr",
     "output_type": "stream",
     "text": [
      "09:20:41 - cmdstanpy - INFO - Chain [1] start processing\n",
      "09:20:41 - cmdstanpy - INFO - Chain [1] done processing\n",
      "/Users/sota/miniforge3/envs/time-series/lib/python3.12/site-packages/statsmodels/tsa/base/tsa_model.py:473: ValueWarning:\n",
      "\n",
      "No frequency information was provided, so inferred frequency ME will be used.\n",
      "\n",
      "/Users/sota/miniforge3/envs/time-series/lib/python3.12/site-packages/statsmodels/tsa/base/tsa_model.py:473: ValueWarning:\n",
      "\n",
      "No frequency information was provided, so inferred frequency ME will be used.\n",
      "\n"
     ]
    },
    {
     "data": {
      "image/png": "[encoded data removed]",
      "text/plain": [
       "<Figure size 1200x500 with 1 Axes>"
      ]
     },
     "metadata": {},
     "output_type": "display_data"
    }
   ],
   "source": [
    "import pandas as pd\n",
    "from prophet import Prophet\n",
    "from statsmodels.tsa.statespace.sarimax import SARIMAX\n",
    "import matplotlib.pyplot as plt\n",
    "\n",
    "# Load data\n",
    "path = \"../../../data/statsmodels/AirPassengers.parquet\"\n",
    "df = pd.read_parquet(path).asfreq(\"ME\")\n",
    "df.columns = [\"y\"]\n",
    "df[\"ds\"] = df.index\n",
    "df = df[[\"ds\", \"y\"]]\n",
    "\n",
    "# ----------------------------\n",
    "# 1. Prophet: Trend + Seasonality\n",
    "# ----------------------------\n",
    "prophet = Prophet(\n",
    "    yearly_seasonality=True,\n",
    "    weekly_seasonality=False,\n",
    "    daily_seasonality=False,\n",
    "    seasonality_mode=\"multiplicative\",  # similar to SARIMAX seasonal effect\n",
    ")\n",
    "prophet.fit(df)\n",
    "\n",
    "# Forecast horizon\n",
    "future = prophet.make_future_dataframe(periods=48, freq=\"ME\")\n",
    "forecast_prophet = prophet.predict(future)\n",
    "\n",
    "# Merge actuals + Prophet forecast\n",
    "df_merged = df.set_index(\"ds\").join(forecast_prophet.set_index(\"ds\")[[\"yhat\"]])\n",
    "df_merged[\"residuals\"] = df_merged[\"y\"] - df_merged[\"yhat\"]\n",
    "\n",
    "# ----------------------------\n",
    "# 2. SARIMAX: Fit residuals\n",
    "# ----------------------------\n",
    "# Drop NaNs from residuals\n",
    "resid = df_merged[\"residuals\"].dropna()\n",
    "\n",
    "# Fit SARIMAX to residuals\n",
    "model_sarimax = SARIMAX(\n",
    "    resid,\n",
    "    order=(0, 1, 1),\n",
    "    seasonal_order=(0, 1, 1, 12),\n",
    "    enforce_stationarity=False,\n",
    "    enforce_invertibility=False,\n",
    ")\n",
    "sarimax_fit = model_sarimax.fit()\n",
    "\n",
    "# Forecast residuals\n",
    "n_periods = 48\n",
    "resid_forecast = sarimax_fit.forecast(steps=n_periods)\n",
    "\n",
    "# Align forecast index with Prophet future\n",
    "resid_forecast.index = forecast_prophet.iloc[-n_periods:][\"ds\"].values\n",
    "\n",
    "# ----------------------------\n",
    "# 3. Combine Forecasts\n",
    "# ----------------------------\n",
    "final_forecast = forecast_prophet.set_index(\"ds\").copy()\n",
    "final_forecast[\"hybrid_forecast\"] = final_forecast[\"yhat\"]\n",
    "final_forecast.loc[resid_forecast.index, \"hybrid_forecast\"] += resid_forecast\n",
    "\n",
    "# ----------------------------\n",
    "# 4. Plot\n",
    "# ----------------------------\n",
    "plt.figure(figsize=(12, 5))\n",
    "df.set_index(\"ds\")[\"y\"].plot(label=\"Actual\")\n",
    "final_forecast[\"yhat\"].plot(label=\"Prophet Forecast\", linestyle=\"--\")\n",
    "final_forecast[\"hybrid_forecast\"].plot(label=\"Hybrid Forecast\", linestyle=\"-\")\n",
    "plt.legend()\n",
    "plt.title(\"Hybrid Prophet + SARIMAX Forecast\")\n",
    "plt.show()"
   ]
  },
  {
   "cell_type": "code",
   "execution_count": null,
   "id": "421077ca",
   "metadata": {},
   "outputs": [],
   "source": []
  }
 ],
 "metadata": {
  "kernelspec": {
   "display_name": "time-series",
   "language": "python",
   "name": "python3"
  },
  "language_info": {
   "codemirror_mode": {
    "name": "ipython",
    "version": 3
   },
   "file_extension": ".py",
   "mimetype": "text/x-python",
   "name": "python",
   "nbconvert_exporter": "python",
   "pygments_lexer": "ipython3",
   "version": "3.12.10"
  }
 },
 "nbformat": 4,
 "nbformat_minor": 5
}
