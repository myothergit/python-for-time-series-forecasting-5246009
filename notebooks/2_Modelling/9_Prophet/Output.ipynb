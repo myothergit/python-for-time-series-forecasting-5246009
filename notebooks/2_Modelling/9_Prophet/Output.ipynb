{
  "cells": [
    {
      "cell_type": "markdown",
      "id": "05c0fa00",
      "metadata": {},
      "source": [
        "# Time series forecasting with Prophet"
      ]
    },
    {
      "cell_type": "code",
      "execution_count": 1,
      "id": "9b3bf490",
      "metadata": {},
      "outputs": [],
      "source": [
        "\n",
        "from modules import utils\n",
        "utils.configure_plotly_template(showlegend=True)"
      ]
    },
    {
      "cell_type": "markdown",
      "id": "a525b6b0",
      "metadata": {},
      "source": [
        "## Load data"
      ]
    },
    {
      "cell_type": "code",
      "execution_count": 2,
      "id": "15ebec70",
      "metadata": {},
      "outputs": [],
      "source": [
        "path = \"../../../data/statsmodels/AirPassengers.parquet\""
      ]
    },
    {
      "cell_type": "code",
      "execution_count": 3,
      "id": "6c560eef",
      "metadata": {},
      "outputs": [
        {
          "data": {
            "text/plain": [
              "1949-01-31    112\n",
              "1949-02-28    118\n",
              "             ... \n",
              "1960-11-30    390\n",
              "1960-12-31    432\n",
              "Freq: ME, Name: values, Length: 144, dtype: int64"
            ]
          },
          "execution_count": 3,
          "metadata": {},
          "output_type": "execute_result"
        }
      ],
      "source": [
        "import pandas as pd\n",
        "\n",
        "df = pd.read_parquet(path).asfreq('ME')\n",
        "df.columns = ['values']\n",
        "\n",
        "series = df['values']\n",
        "series"
      ]
    },
    {
      "cell_type": "markdown",
      "id": "54b7f96c",
      "metadata": {},
      "source": [
        "## Prepare DataFrame for Prophet"
      ]
    },
    {
      "cell_type": "code",
      "execution_count": 4,
      "id": "6083bccf",
      "metadata": {},
      "outputs": [],
      "source": [
        "df = pd.DataFrame({\n",
        "    'ds': series.index,\n",
        "    'y': series.values\n",
        "}, index=series.index)"
      ]
    },
    {
      "cell_type": "markdown",
      "id": "e3077129",
      "metadata": {},
      "source": [
        "## Model fit"
      ]
    },
    {
      "cell_type": "code",
      "execution_count": 5,
      "id": "50f45117",
      "metadata": {},
      "outputs": [],
      "source": [
        "start, end = series.index.year.unique()[[0, -1]]"
      ]
    },
    {
      "cell_type": "code",
      "execution_count": 6,
      "id": "83b260f9",
      "metadata": {},
      "outputs": [],
      "source": [
        "end = end + 10"
      ]
    },
    {
      "cell_type": "code",
      "execution_count": 7,
      "id": "93bc7fb8",
      "metadata": {},
      "outputs": [],
      "source": [
        "yl = list(range (start, end))"
      ]
    },
    {
      "cell_type": "code",
      "execution_count": 8,
      "id": "c2e0d25f",
      "metadata": {},
      "outputs": [],
      "source": [
        "from prophet.make_holidays import make_holidays_df\n",
        "\n",
        "holidays = make_holidays_df(year_list=yl, country='US')"
      ]
    },
    {
      "cell_type": "code",
      "execution_count": 9,
      "id": "a5d860c6",
      "metadata": {},
      "outputs": [
        {
          "data": {
            "text/plain": [
              "{}"
            ]
          },
          "execution_count": 9,
          "metadata": {},
          "output_type": "execute_result"
        }
      ],
      "source": [
        "from prophet import Prophet\n",
        "\n",
        "model = Prophet(\n",
        "    growth='linear',\n",
        "    yearly_seasonality=True,\n",
        "    seasonality_mode='multiplicative',\n",
        "    holidays=holidays\n",
        ")\n",
        "\n",
        "model.params"
      ]
    },
    {
      "cell_type": "code",
      "execution_count": 10,
      "id": "47dfd793",
      "metadata": {},
      "outputs": [
        {
          "name": "stderr",
          "output_type": "stream",
          "text": [
            "11:44:01 - cmdstanpy - INFO - Chain [1] start processing\n",
            "11:44:02 - cmdstanpy - INFO - Chain [1] done processing\n"
          ]
        },
        {
          "data": {
            "text/plain": [
              "<prophet.forecaster.Prophet at 0x320405940>"
            ]
          },
          "execution_count": 10,
          "metadata": {},
          "output_type": "execute_result"
        }
      ],
      "source": [
        "model.fit(df)"
      ]
    },
    {
      "cell_type": "code",
      "execution_count": 11,
      "id": "47959e32",
      "metadata": {},
      "outputs": [
        {
          "data": {
            "text/plain": [
              "OrderedDict([('lp__', array([[504.34]])),\n",
              "             ('k', array([[0.390075]])),\n",
              "             ('m', array([[0.185295]])),\n",
              "             ('delta',\n",
              "              array([[ 4.48760e-09,  2.89890e-08,  3.05688e-03,  9.28836e-02,\n",
              "                       2.08025e-04,  5.26127e-05,  2.32313e-08, -8.51108e-10,\n",
              "                       4.91605e-09,  2.42685e-10,  2.43319e-09, -9.17936e-09,\n",
              "                       3.44694e-09,  1.53073e-01,  1.31406e-01, -8.52206e-09,\n",
              "                       1.00254e-09, -4.14816e-08, -6.90245e-03, -5.20129e-02,\n",
              "                      -7.03300e-02, -4.86061e-02, -5.43384e-09,  9.55946e-09,\n",
              "                       2.17210e-01]])),\n",
              "             ('sigma_obs', array([[0.0165048]])),\n",
              "             ('beta',\n",
              "              array([[-0.0625118 , -0.155015  ,  0.0957688 ,  0.035435  , -0.071567  ,\n",
              "                      -0.00088001, -0.0434363 , -0.0215201 , -0.0068293 ,  0.0924452 ,\n",
              "                       0.120553  ,  0.0321282 ,  0.0164879 , -0.0931561 , -0.0708692 ,\n",
              "                       0.00321326, -0.066945  ,  0.00971532,  0.014799  , -0.0329791 ,\n",
              "                       0.        ,  0.        ,  0.        ,  0.        ,  0.        ,\n",
              "                       0.        ,  0.        ,  0.        ,  0.        , -0.0137572 ,\n",
              "                       0.        ,  0.        ,  0.        ,  0.        ,  0.        ]])),\n",
              "             ('trend',\n",
              "              array([[0.185295, 0.187805, 0.190583, 0.193272, 0.196051, 0.19874 ,\n",
              "                      0.201518, 0.204297, 0.206986, 0.209764, 0.212453, 0.215232,\n",
              "                      0.218011, 0.22052 , 0.223299, 0.226009, 0.228809, 0.231519,\n",
              "                      0.23432 , 0.237781, 0.241132, 0.244594, 0.247944, 0.251406,\n",
              "                      0.254869, 0.257998, 0.261461, 0.264813, 0.268277, 0.271629,\n",
              "                      0.275093, 0.278556, 0.281909, 0.285372, 0.288724, 0.292188,\n",
              "                      0.295652, 0.298892, 0.302356, 0.305708, 0.309172, 0.312524,\n",
              "                      0.315988, 0.319452, 0.322804, 0.326268, 0.32962 , 0.333084,\n",
              "                      0.336548, 0.339676, 0.34314 , 0.346492, 0.349956, 0.353308,\n",
              "                      0.356772, 0.360236, 0.363588, 0.367052, 0.370404, 0.373868,\n",
              "                      0.377331, 0.38046 , 0.383924, 0.387276, 0.39074 , 0.395147,\n",
              "                      0.399701, 0.404255, 0.408663, 0.414153, 0.419466, 0.424956,\n",
              "                      0.430446, 0.435405, 0.440896, 0.446209, 0.451699, 0.457012,\n",
              "                      0.462502, 0.467992, 0.473305, 0.478796, 0.484109, 0.489599,\n",
              "                      0.495089, 0.500225, 0.505715, 0.511029, 0.51647 , 0.521735,\n",
              "                      0.527176, 0.532617, 0.537524, 0.542595, 0.547502, 0.552572,\n",
              "                      0.557643, 0.56177 , 0.56634 , 0.570762, 0.575331, 0.579419,\n",
              "                      0.583642, 0.587865, 0.591952, 0.596176, 0.600263, 0.604486,\n",
              "                      0.60871 , 0.612524, 0.616748, 0.620835, 0.625058, 0.629145,\n",
              "                      0.633368, 0.639139, 0.644723, 0.650494, 0.656078, 0.661849,\n",
              "                      0.66762 , 0.672832, 0.678602, 0.684187, 0.689957, 0.695542,\n",
              "                      0.701312, 0.707083, 0.712667, 0.718438, 0.724022, 0.729793,\n",
              "                      0.735563, 0.740962, 0.746732, 0.752317, 0.758087, 0.763672,\n",
              "                      0.769442, 0.775213, 0.780797, 0.786568, 0.792152, 0.797923]]))])"
            ]
          },
          "execution_count": 11,
          "metadata": {},
          "output_type": "execute_result"
        }
      ],
      "source": [
        "model.params"
      ]
    },
    {
      "cell_type": "code",
      "execution_count": 12,
      "id": "900cda4e",
      "metadata": {},
      "outputs": [],
      "source": [
        "pred = model.predict(df)"
      ]
    },
    {
      "cell_type": "code",
      "execution_count": 13,
      "id": "8596c20c",
      "metadata": {},
      "outputs": [
        {
          "data": {
            "image/png": "[encoded data removed]",
            "text/plain": [
              "<Figure size 1000x600 with 1 Axes>"
            ]
          },
          "metadata": {},
          "output_type": "display_data"
        }
      ],
      "source": [
        "model.plot(pred);"
      ]
    },
    {
      "cell_type": "code",
      "execution_count": 14,
      "id": "0d4ba213",
      "metadata": {},
      "outputs": [
        {
          "data": {
            "image/png": "[encoded data removed]",
            "text/plain": [
              "<Figure size 900x900 with 3 Axes>"
            ]
          },
          "metadata": {},
          "output_type": "display_data"
        }
      ],
      "source": [
        "model.plot_components(pred);"
      ]
    },
    {
      "cell_type": "markdown",
      "id": "06272680",
      "metadata": {},
      "source": [
        "## Forecast"
      ]
    },
    {
      "cell_type": "code",
      "execution_count": 15,
      "id": "279c8890",
      "metadata": {},
      "outputs": [],
      "source": [
        "future = model.make_future_dataframe(periods=48, freq='ME', include_history=True)"
      ]
    },
    {
      "cell_type": "code",
      "execution_count": 16,
      "id": "1053fcd7",
      "metadata": {},
      "outputs": [],
      "source": [
        "df_forecast = model.predict(future)"
      ]
    },
    {
      "cell_type": "code",
      "execution_count": 17,
      "id": "42c81845",
      "metadata": {},
      "outputs": [
        {
          "data": {
            "image/png": "[encoded data removed]",
            "text/plain": [
              "<Figure size 1000x600 with 1 Axes>"
            ]
          },
          "metadata": {},
          "output_type": "display_data"
        }
      ],
      "source": [
        "model.plot(df_forecast);"
      ]
    },
    {
      "cell_type": "code",
      "execution_count": 18,
      "id": "49c33425",
      "metadata": {},
      "outputs": [
        {
          "data": {
            "application/vnd.plotly.v1+json": {
              "config": {
                "plotlyServerURL": "https://plot.ly"
              },
              "data": [
                {
                  "line": {
                    "color": "#fa636e",
                    "width": 1.5
                  },
                  "marker": {
                    "color": "#fa636e",
                    "size": 5,
                    "symbol": "circle"
                  },
                  "mode": "lines+markers",
                  "name": "Historical",
                  "type": "scatter",
                  "x": [
                    "1949-01-31T00:00:00",
                    "1949-02-28T00:00:00",
                    "1949-03-31T00:00:00",
                    "1949-04-30T00:00:00",
                    "1949-05-31T00:00:00",
                    "1949-06-30T00:00:00",
                    "1949-07-31T00:00:00",
                    "1949-08-31T00:00:00",
                    "1949-09-30T00:00:00",
                    "1949-10-31T00:00:00",
                    "1949-11-30T00:00:00",
                    "1949-12-31T00:00:00",
                    "1950-01-31T00:00:00",
                    "1950-02-28T00:00:00",
                    "1950-03-31T00:00:00",
                    "1950-04-30T00:00:00",
                    "1950-05-31T00:00:00",
                    "1950-06-30T00:00:00",
                    "1950-07-31T00:00:00",
                    "1950-08-31T00:00:00",
                    "1950-09-30T00:00:00",
                    "1950-10-31T00:00:00",
                    "1950-11-30T00:00:00",
                    "1950-12-31T00:00:00",
                    "1951-01-31T00:00:00",
                    "1951-02-28T00:00:00",
                    "1951-03-31T00:00:00",
                    "1951-04-30T00:00:00",
                    "1951-05-31T00:00:00",
                    "1951-06-30T00:00:00",
                    "1951-07-31T00:00:00",
                    "1951-08-31T00:00:00",
                    "1951-09-30T00:00:00",
                    "1951-10-31T00:00:00",
                    "1951-11-30T00:00:00",
                    "1951-12-31T00:00:00",
                    "1952-01-31T00:00:00",
                    "1952-02-29T00:00:00",
                    "1952-03-31T00:00:00",
                    "1952-04-30T00:00:00",
                    "1952-05-31T00:00:00",
                    "1952-06-30T00:00:00",
                    "1952-07-31T00:00:00",
                    "1952-08-31T00:00:00",
                    "1952-09-30T00:00:00",
                    "1952-10-31T00:00:00",
                    "1952-11-30T00:00:00",
                    "1952-12-31T00:00:00",
                    "1953-01-31T00:00:00",
                    "1953-02-28T00:00:00",
                    "1953-03-31T00:00:00",
                    "1953-04-30T00:00:00",
                    "1953-05-31T00:00:00",
                    "1953-06-30T00:00:00",
                    "1953-07-31T00:00:00",
                    "1953-08-31T00:00:00",
                    "1953-09-30T00:00:00",
                    "1953-10-31T00:00:00",
                    "1953-11-30T00:00:00",
                    "1953-12-31T00:00:00",
                    "1954-01-31T00:00:00",
                    "1954-02-28T00:00:00",
                    "1954-03-31T00:00:00",
                    "1954-04-30T00:00:00",
                    "1954-05-31T00:00:00",
                    "1954-06-30T00:00:00",
                    "1954-07-31T00:00:00",
                    "1954-08-31T00:00:00",
                    "1954-09-30T00:00:00",
                    "1954-10-31T00:00:00",
                    "1954-11-30T00:00:00",
                    "1954-12-31T00:00:00",
                    "1955-01-31T00:00:00",
                    "1955-02-28T00:00:00",
                    "1955-03-31T00:00:00",
                    "1955-04-30T00:00:00",
                    "1955-05-31T00:00:00",
                    "1955-06-30T00:00:00",
                    "1955-07-31T00:00:00",
                    "1955-08-31T00:00:00",
                    "1955-09-30T00:00:00",
                    "1955-10-31T00:00:00",
                    "1955-11-30T00:00:00",
                    "1955-12-31T00:00:00",
                    "1956-01-31T00:00:00",
                    "1956-02-29T00:00:00",
                    "1956-03-31T00:00:00",
                    "1956-04-30T00:00:00",
                    "1956-05-31T00:00:00",
                    "1956-06-30T00:00:00",
                    "1956-07-31T00:00:00",
                    "1956-08-31T00:00:00",
                    "1956-09-30T00:00:00",
                    "1956-10-31T00:00:00",
                    "1956-11-30T00:00:00",
                    "1956-12-31T00:00:00",
                    "1957-01-31T00:00:00",
                    "1957-02-28T00:00:00",
                    "1957-03-31T00:00:00",
                    "1957-04-30T00:00:00",
                    "1957-05-31T00:00:00",
                    "1957-06-30T00:00:00",
                    "1957-07-31T00:00:00",
                    "1957-08-31T00:00:00",
                    "1957-09-30T00:00:00",
                    "1957-10-31T00:00:00",
                    "1957-11-30T00:00:00",
                    "1957-12-31T00:00:00",
                    "1958-01-31T00:00:00",
                    "1958-02-28T00:00:00",
                    "1958-03-31T00:00:00",
                    "1958-04-30T00:00:00",
                    "1958-05-31T00:00:00",
                    "1958-06-30T00:00:00",
                    "1958-07-31T00:00:00",
                    "1958-08-31T00:00:00",
                    "1958-09-30T00:00:00",
                    "1958-10-31T00:00:00",
                    "1958-11-30T00:00:00",
                    "1958-12-31T00:00:00",
                    "1959-01-31T00:00:00",
                    "1959-02-28T00:00:00",
                    "1959-03-31T00:00:00",
                    "1959-04-30T00:00:00",
                    "1959-05-31T00:00:00",
                    "1959-06-30T00:00:00",
                    "1959-07-31T00:00:00",
                    "1959-08-31T00:00:00",
                    "1959-09-30T00:00:00",
                    "1959-10-31T00:00:00",
                    "1959-11-30T00:00:00",
                    "1959-12-31T00:00:00",
                    "1960-01-31T00:00:00",
                    "1960-02-29T00:00:00",
                    "1960-03-31T00:00:00",
                    "1960-04-30T00:00:00",
                    "1960-05-31T00:00:00",
                    "1960-06-30T00:00:00",
                    "1960-07-31T00:00:00",
                    "1960-08-31T00:00:00",
                    "1960-09-30T00:00:00",
                    "1960-10-31T00:00:00",
                    "1960-11-30T00:00:00",
                    "1960-12-31T00:00:00",
                    "1961-01-31T00:00:00",
                    "1961-02-28T00:00:00",
                    "1961-03-31T00:00:00",
                    "1961-04-30T00:00:00",
                    "1961-05-31T00:00:00",
                    "1961-06-30T00:00:00",
                    "1961-07-31T00:00:00",
                    "1961-08-31T00:00:00",
                    "1961-09-30T00:00:00",
                    "1961-10-31T00:00:00",
                    "1961-11-30T00:00:00",
                    "1961-12-31T00:00:00",
                    "1962-01-31T00:00:00",
                    "1962-02-28T00:00:00",
                    "1962-03-31T00:00:00",
                    "1962-04-30T00:00:00",
                    "1962-05-31T00:00:00",
                    "1962-06-30T00:00:00",
                    "1962-07-31T00:00:00",
                    "1962-08-31T00:00:00",
                    "1962-09-30T00:00:00",
                    "1962-10-31T00:00:00",
                    "1962-11-30T00:00:00",
                    "1962-12-31T00:00:00",
                    "1963-01-31T00:00:00",
                    "1963-02-28T00:00:00",
                    "1963-03-31T00:00:00",
                    "1963-04-30T00:00:00",
                    "1963-05-31T00:00:00",
                    "1963-06-30T00:00:00",
                    "1963-07-31T00:00:00",
                    "1963-08-31T00:00:00",
                    "1963-09-30T00:00:00",
                    "1963-10-31T00:00:00",
                    "1963-11-30T00:00:00",
                    "1963-12-31T00:00:00",
                    "1964-01-31T00:00:00",
                    "1964-02-29T00:00:00",
                    "1964-03-31T00:00:00",
                    "1964-04-30T00:00:00",
                    "1964-05-31T00:00:00",
                    "1964-06-30T00:00:00",
                    "1964-07-31T00:00:00",
                    "1964-08-31T00:00:00",
                    "1964-09-30T00:00:00",
                    "1964-10-31T00:00:00",
                    "1964-11-30T00:00:00",
                    "1964-12-31T00:00:00"
                  ],
                  "y": [
                    112,
                    118,
                    132,
                    129,
                    121,
                    135,
                    148,
                    148,
                    136,
                    119,
                    104,
                    118,
                    115,
                    126,
                    141,
                    135,
                    125,
                    149,
                    170,
                    170,
                    158,
                    133,
                    114,
                    140,
                    145,
                    150,
                    178,
                    163,
                    172,
                    178,
                    199,
                    199,
                    184,
                    162,
                    146,
                    166,
                    171,
                    180,
                    193,
                    181,
                    183,
                    218,
                    230,
                    242,
                    209,
                    191,
                    172,
                    194,
                    196,
                    196,
                    236,
                    235,
                    229,
                    243,
                    264,
                    272,
                    237,
                    211,
                    180,
                    201,
                    204,
                    188,
                    235,
                    227,
                    234,
                    264,
                    302,
                    293,
                    259,
                    229,
                    203,
                    229,
                    242,
                    233,
                    267,
                    269,
                    270,
                    315,
                    364,
                    347,
                    312,
                    274,
                    237,
                    278,
                    284,
                    277,
                    317,
                    313,
                    318,
                    374,
                    413,
                    405,
                    355,
                    306,
                    271,
                    306,
                    315,
                    301,
                    356,
                    348,
                    355,
                    422,
                    465,
                    467,
                    404,
                    347,
                    305,
                    336,
                    340,
                    318,
                    362,
                    348,
                    363,
                    435,
                    491,
                    505,
                    404,
                    359,
                    310,
                    337,
                    360,
                    342,
                    406,
                    396,
                    420,
                    472,
                    548,
                    559,
                    463,
                    407,
                    362,
                    405,
                    417,
                    391,
                    419,
                    461,
                    472,
                    535,
                    622,
                    606,
                    508,
                    461,
                    390,
                    432,
                    null,
                    null,
                    null,
                    null,
                    null,
                    null,
                    null,
                    null,
                    null,
                    null,
                    null,
                    null,
                    null,
                    null,
                    null,
                    null,
                    null,
                    null,
                    null,
                    null,
                    null,
                    null,
                    null,
                    null,
                    null,
                    null,
                    null,
                    null,
                    null,
                    null,
                    null,
                    null,
                    null,
                    null,
                    null,
                    null,
                    null,
                    null,
                    null,
                    null,
                    null,
                    null,
                    null,
                    null,
                    null,
                    null,
                    null,
                    null
                  ]
                },
                {
                  "line": {
                    "color": "#FFD700",
                    "width": 2
                  },
                  "name": "Forecast",
                  "type": "scatter",
                  "x": [
                    "1949-01-31T00:00:00",
                    "1949-02-28T00:00:00",
                    "1949-03-31T00:00:00",
                    "1949-04-30T00:00:00",
                    "1949-05-31T00:00:00",
                    "1949-06-30T00:00:00",
                    "1949-07-31T00:00:00",
                    "1949-08-31T00:00:00",
                    "1949-09-30T00:00:00",
                    "1949-10-31T00:00:00",
                    "1949-11-30T00:00:00",
                    "1949-12-31T00:00:00",
                    "1950-01-31T00:00:00",
                    "1950-02-28T00:00:00",
                    "1950-03-31T00:00:00",
                    "1950-04-30T00:00:00",
                    "1950-05-31T00:00:00",
                    "1950-06-30T00:00:00",
                    "1950-07-31T00:00:00",
                    "1950-08-31T00:00:00",
                    "1950-09-30T00:00:00",
                    "1950-10-31T00:00:00",
                    "1950-11-30T00:00:00",
                    "1950-12-31T00:00:00",
                    "1951-01-31T00:00:00",
                    "1951-02-28T00:00:00",
                    "1951-03-31T00:00:00",
                    "1951-04-30T00:00:00",
                    "1951-05-31T00:00:00",
                    "1951-06-30T00:00:00",
                    "1951-07-31T00:00:00",
                    "1951-08-31T00:00:00",
                    "1951-09-30T00:00:00",
                    "1951-10-31T00:00:00",
                    "1951-11-30T00:00:00",
                    "1951-12-31T00:00:00",
                    "1952-01-31T00:00:00",
                    "1952-02-29T00:00:00",
                    "1952-03-31T00:00:00",
                    "1952-04-30T00:00:00",
                    "1952-05-31T00:00:00",
                    "1952-06-30T00:00:00",
                    "1952-07-31T00:00:00",
                    "1952-08-31T00:00:00",
                    "1952-09-30T00:00:00",
                    "1952-10-31T00:00:00",
                    "1952-11-30T00:00:00",
                    "1952-12-31T00:00:00",
                    "1953-01-31T00:00:00",
                    "1953-02-28T00:00:00",
                    "1953-03-31T00:00:00",
                    "1953-04-30T00:00:00",
                    "1953-05-31T00:00:00",
                    "1953-06-30T00:00:00",
                    "1953-07-31T00:00:00",
                    "1953-08-31T00:00:00",
                    "1953-09-30T00:00:00",
                    "1953-10-31T00:00:00",
                    "1953-11-30T00:00:00",
                    "1953-12-31T00:00:00",
                    "1954-01-31T00:00:00",
                    "1954-02-28T00:00:00",
                    "1954-03-31T00:00:00",
                    "1954-04-30T00:00:00",
                    "1954-05-31T00:00:00",
                    "1954-06-30T00:00:00",
                    "1954-07-31T00:00:00",
                    "1954-08-31T00:00:00",
                    "1954-09-30T00:00:00",
                    "1954-10-31T00:00:00",
                    "1954-11-30T00:00:00",
                    "1954-12-31T00:00:00",
                    "1955-01-31T00:00:00",
                    "1955-02-28T00:00:00",
                    "1955-03-31T00:00:00",
                    "1955-04-30T00:00:00",
                    "1955-05-31T00:00:00",
                    "1955-06-30T00:00:00",
                    "1955-07-31T00:00:00",
                    "1955-08-31T00:00:00",
                    "1955-09-30T00:00:00",
                    "1955-10-31T00:00:00",
                    "1955-11-30T00:00:00",
                    "1955-12-31T00:00:00",
                    "1956-01-31T00:00:00",
                    "1956-02-29T00:00:00",
                    "1956-03-31T00:00:00",
                    "1956-04-30T00:00:00",
                    "1956-05-31T00:00:00",
                    "1956-06-30T00:00:00",
                    "1956-07-31T00:00:00",
                    "1956-08-31T00:00:00",
                    "1956-09-30T00:00:00",
                    "1956-10-31T00:00:00",
                    "1956-11-30T00:00:00",
                    "1956-12-31T00:00:00",
                    "1957-01-31T00:00:00",
                    "1957-02-28T00:00:00",
                    "1957-03-31T00:00:00",
                    "1957-04-30T00:00:00",
                    "1957-05-31T00:00:00",
                    "1957-06-30T00:00:00",
                    "1957-07-31T00:00:00",
                    "1957-08-31T00:00:00",
                    "1957-09-30T00:00:00",
                    "1957-10-31T00:00:00",
                    "1957-11-30T00:00:00",
                    "1957-12-31T00:00:00",
                    "1958-01-31T00:00:00",
                    "1958-02-28T00:00:00",
                    "1958-03-31T00:00:00",
                    "1958-04-30T00:00:00",
                    "1958-05-31T00:00:00",
                    "1958-06-30T00:00:00",
                    "1958-07-31T00:00:00",
                    "1958-08-31T00:00:00",
                    "1958-09-30T00:00:00",
                    "1958-10-31T00:00:00",
                    "1958-11-30T00:00:00",
                    "1958-12-31T00:00:00",
                    "1959-01-31T00:00:00",
                    "1959-02-28T00:00:00",
                    "1959-03-31T00:00:00",
                    "1959-04-30T00:00:00",
                    "1959-05-31T00:00:00",
                    "1959-06-30T00:00:00",
                    "1959-07-31T00:00:00",
                    "1959-08-31T00:00:00",
                    "1959-09-30T00:00:00",
                    "1959-10-31T00:00:00",
                    "1959-11-30T00:00:00",
                    "1959-12-31T00:00:00",
                    "1960-01-31T00:00:00",
                    "1960-02-29T00:00:00",
                    "1960-03-31T00:00:00",
                    "1960-04-30T00:00:00",
                    "1960-05-31T00:00:00",
                    "1960-06-30T00:00:00",
                    "1960-07-31T00:00:00",
                    "1960-08-31T00:00:00",
                    "1960-09-30T00:00:00",
                    "1960-10-31T00:00:00",
                    "1960-11-30T00:00:00",
                    "1960-12-31T00:00:00",
                    "1961-01-31T00:00:00",
                    "1961-02-28T00:00:00",
                    "1961-03-31T00:00:00",
                    "1961-04-30T00:00:00",
                    "1961-05-31T00:00:00",
                    "1961-06-30T00:00:00",
                    "1961-07-31T00:00:00",
                    "1961-08-31T00:00:00",
                    "1961-09-30T00:00:00",
                    "1961-10-31T00:00:00",
                    "1961-11-30T00:00:00",
                    "1961-12-31T00:00:00",
                    "1962-01-31T00:00:00",
                    "1962-02-28T00:00:00",
                    "1962-03-31T00:00:00",
                    "1962-04-30T00:00:00",
                    "1962-05-31T00:00:00",
                    "1962-06-30T00:00:00",
                    "1962-07-31T00:00:00",
                    "1962-08-31T00:00:00",
                    "1962-09-30T00:00:00",
                    "1962-10-31T00:00:00",
                    "1962-11-30T00:00:00",
                    "1962-12-31T00:00:00",
                    "1963-01-31T00:00:00",
                    "1963-02-28T00:00:00",
                    "1963-03-31T00:00:00",
                    "1963-04-30T00:00:00",
                    "1963-05-31T00:00:00",
                    "1963-06-30T00:00:00",
                    "1963-07-31T00:00:00",
                    "1963-08-31T00:00:00",
                    "1963-09-30T00:00:00",
                    "1963-10-31T00:00:00",
                    "1963-11-30T00:00:00",
                    "1963-12-31T00:00:00",
                    "1964-01-31T00:00:00",
                    "1964-02-29T00:00:00",
                    "1964-03-31T00:00:00",
                    "1964-04-30T00:00:00",
                    "1964-05-31T00:00:00",
                    "1964-06-30T00:00:00",
                    "1964-07-31T00:00:00",
                    "1964-08-31T00:00:00",
                    "1964-09-30T00:00:00",
                    "1964-10-31T00:00:00",
                    "1964-11-30T00:00:00",
                    "1964-12-31T00:00:00"
                  ],
                  "y": [
                    103.04,
                    100.61,
                    114.82,
                    116.32,
                    119.34,
                    138.24,
                    157.16,
                    157.33,
                    134.78,
                    119.91,
                    104.68,
                    117.55,
                    121.76,
                    116.85,
                    136.27,
                    134.8,
                    139.46,
                    160.39,
                    182.82,
                    184.02,
                    157.34,
                    139.06,
                    122.1,
                    137.68,
                    142.95,
                    135.23,
                    161.59,
                    156.5,
                    163.74,
                    187.42,
                    214.74,
                    216.63,
                    184.3,
                    161.34,
                    142.13,
                    160.44,
                    166.51,
                    161.89,
                    179.81,
                    185.62,
                    187.96,
                    218.29,
                    246.35,
                    244.78,
                    209.73,
                    187.52,
                    162.53,
                    181.45,
                    187.14,
                    181.97,
                    206.74,
                    208.54,
                    213.02,
                    245.76,
                    278.24,
                    277.41,
                    236.75,
                    209.82,
                    182.51,
                    204.2,
                    210.74,
                    201.6,
                    234.3,
                    230.99,
                    238.16,
                    273.75,
                    311.85,
                    312.85,
                    266.65,
                    235.45,
                    206.57,
                    229.08,
                    241.43,
                    228.22,
                    272.49,
                    263.7,
                    275.69,
                    315.33,
                    361.03,
                    363.96,
                    309.43,
                    270.7,
                    238.32,
                    268.84,
                    278.83,
                    270.93,
                    300.75,
                    310.28,
                    313.98,
                    364.41,
                    410.99,
                    408.11,
                    349.24,
                    311.85,
                    269.97,
                    301.02,
                    310.08,
                    300.95,
                    341.21,
                    343.51,
                    350.2,
                    403.05,
                    455.17,
                    452.7,
                    385.45,
                    340.8,
                    295.77,
                    330.16,
                    339.97,
                    324.57,
                    376.38,
                    370.29,
                    380.97,
                    435.86,
                    494.16,
                    494.63,
                    420.68,
                    369.82,
                    323.09,
                    362.44,
                    374.46,
                    352.67,
                    419.4,
                    404.33,
                    421.11,
                    479.91,
                    547.45,
                    549.9,
                    465.91,
                    406.19,
                    356.42,
                    400.73,
                    414.27,
                    401.32,
                    444.08,
                    456.78,
                    460.87,
                    533.39,
                    599.87,
                    594,
                    507.29,
                    452.07,
                    390.61,
                    434.68,
                    446.9,
                    433.35,
                    490.83,
                    493.67,
                    502.8,
                    578.48,
                    653.06,
                    649.3,
                    552.66,
                    488.48,
                    423.79,
                    472.92,
                    486.82,
                    464.64,
                    538.63,
                    529.77,
                    544.88,
                    623.2,
                    706.35,
                    705.1,
                    598.14,
                    524.44,
                    457.02,
                    511.38,
                    527,
                    495.22,
                    587.48,
                    565.06,
                    587.1,
                    667.56,
                    759.74,
                    761.41,
                    643.71,
                    559.95,
                    490.3,
                    550.06,
                    567.44,
                    548.62,
                    605.82,
                    621.91,
                    626.2,
                    723.35,
                    811.89,
                    802.39,
                    683.99,
                    608.38,
                    524.71,
                    582.84
                  ]
                },
                {
                  "line": {
                    "color": "rgba(212, 212, 217, 0.0)",
                    "width": 0
                  },
                  "name": "Forecast Interval Upper Bound",
                  "showlegend": true,
                  "type": "scatter",
                  "x": [
                    "1949-01-31T00:00:00",
                    "1949-02-28T00:00:00",
                    "1949-03-31T00:00:00",
                    "1949-04-30T00:00:00",
                    "1949-05-31T00:00:00",
                    "1949-06-30T00:00:00",
                    "1949-07-31T00:00:00",
                    "1949-08-31T00:00:00",
                    "1949-09-30T00:00:00",
                    "1949-10-31T00:00:00",
                    "1949-11-30T00:00:00",
                    "1949-12-31T00:00:00",
                    "1950-01-31T00:00:00",
                    "1950-02-28T00:00:00",
                    "1950-03-31T00:00:00",
                    "1950-04-30T00:00:00",
                    "1950-05-31T00:00:00",
                    "1950-06-30T00:00:00",
                    "1950-07-31T00:00:00",
                    "1950-08-31T00:00:00",
                    "1950-09-30T00:00:00",
                    "1950-10-31T00:00:00",
                    "1950-11-30T00:00:00",
                    "1950-12-31T00:00:00",
                    "1951-01-31T00:00:00",
                    "1951-02-28T00:00:00",
                    "1951-03-31T00:00:00",
                    "1951-04-30T00:00:00",
                    "1951-05-31T00:00:00",
                    "1951-06-30T00:00:00",
                    "1951-07-31T00:00:00",
                    "1951-08-31T00:00:00",
                    "1951-09-30T00:00:00",
                    "1951-10-31T00:00:00",
                    "1951-11-30T00:00:00",
                    "1951-12-31T00:00:00",
                    "1952-01-31T00:00:00",
                    "1952-02-29T00:00:00",
                    "1952-03-31T00:00:00",
                    "1952-04-30T00:00:00",
                    "1952-05-31T00:00:00",
                    "1952-06-30T00:00:00",
                    "1952-07-31T00:00:00",
                    "1952-08-31T00:00:00",
                    "1952-09-30T00:00:00",
                    "1952-10-31T00:00:00",
                    "1952-11-30T00:00:00",
                    "1952-12-31T00:00:00",
                    "1953-01-31T00:00:00",
                    "1953-02-28T00:00:00",
                    "1953-03-31T00:00:00",
                    "1953-04-30T00:00:00",
                    "1953-05-31T00:00:00",
                    "1953-06-30T00:00:00",
                    "1953-07-31T00:00:00",
                    "1953-08-31T00:00:00",
                    "1953-09-30T00:00:00",
                    "1953-10-31T00:00:00",
                    "1953-11-30T00:00:00",
                    "1953-12-31T00:00:00",
                    "1954-01-31T00:00:00",
                    "1954-02-28T00:00:00",
                    "1954-03-31T00:00:00",
                    "1954-04-30T00:00:00",
                    "1954-05-31T00:00:00",
                    "1954-06-30T00:00:00",
                    "1954-07-31T00:00:00",
                    "1954-08-31T00:00:00",
                    "1954-09-30T00:00:00",
                    "1954-10-31T00:00:00",
                    "1954-11-30T00:00:00",
                    "1954-12-31T00:00:00",
                    "1955-01-31T00:00:00",
                    "1955-02-28T00:00:00",
                    "1955-03-31T00:00:00",
                    "1955-04-30T00:00:00",
                    "1955-05-31T00:00:00",
                    "1955-06-30T00:00:00",
                    "1955-07-31T00:00:00",
                    "1955-08-31T00:00:00",
                    "1955-09-30T00:00:00",
                    "1955-10-31T00:00:00",
                    "1955-11-30T00:00:00",
                    "1955-12-31T00:00:00",
                    "1956-01-31T00:00:00",
                    "1956-02-29T00:00:00",
                    "1956-03-31T00:00:00",
                    "1956-04-30T00:00:00",
                    "1956-05-31T00:00:00",
                    "1956-06-30T00:00:00",
                    "1956-07-31T00:00:00",
                    "1956-08-31T00:00:00",
                    "1956-09-30T00:00:00",
                    "1956-10-31T00:00:00",
                    "1956-11-30T00:00:00",
                    "1956-12-31T00:00:00",
                    "1957-01-31T00:00:00",
                    "1957-02-28T00:00:00",
                    "1957-03-31T00:00:00",
                    "1957-04-30T00:00:00",
                    "1957-05-31T00:00:00",
                    "1957-06-30T00:00:00",
                    "1957-07-31T00:00:00",
                    "1957-08-31T00:00:00",
                    "1957-09-30T00:00:00",
                    "1957-10-31T00:00:00",
                    "1957-11-30T00:00:00",
                    "1957-12-31T00:00:00",
                    "1958-01-31T00:00:00",
                    "1958-02-28T00:00:00",
                    "1958-03-31T00:00:00",
                    "1958-04-30T00:00:00",
                    "1958-05-31T00:00:00",
                    "1958-06-30T00:00:00",
                    "1958-07-31T00:00:00",
                    "1958-08-31T00:00:00",
                    "1958-09-30T00:00:00",
                    "1958-10-31T00:00:00",
                    "1958-11-30T00:00:00",
                    "1958-12-31T00:00:00",
                    "1959-01-31T00:00:00",
                    "1959-02-28T00:00:00",
                    "1959-03-31T00:00:00",
                    "1959-04-30T00:00:00",
                    "1959-05-31T00:00:00",
                    "1959-06-30T00:00:00",
                    "1959-07-31T00:00:00",
                    "1959-08-31T00:00:00",
                    "1959-09-30T00:00:00",
                    "1959-10-31T00:00:00",
                    "1959-11-30T00:00:00",
                    "1959-12-31T00:00:00",
                    "1960-01-31T00:00:00",
                    "1960-02-29T00:00:00",
                    "1960-03-31T00:00:00",
                    "1960-04-30T00:00:00",
                    "1960-05-31T00:00:00",
                    "1960-06-30T00:00:00",
                    "1960-07-31T00:00:00",
                    "1960-08-31T00:00:00",
                    "1960-09-30T00:00:00",
                    "1960-10-31T00:00:00",
                    "1960-11-30T00:00:00",
                    "1960-12-31T00:00:00",
                    "1961-01-31T00:00:00",
                    "1961-02-28T00:00:00",
                    "1961-03-31T00:00:00",
                    "1961-04-30T00:00:00",
                    "1961-05-31T00:00:00",
                    "1961-06-30T00:00:00",
                    "1961-07-31T00:00:00",
                    "1961-08-31T00:00:00",
                    "1961-09-30T00:00:00",
                    "1961-10-31T00:00:00",
                    "1961-11-30T00:00:00",
                    "1961-12-31T00:00:00",
                    "1962-01-31T00:00:00",
                    "1962-02-28T00:00:00",
                    "1962-03-31T00:00:00",
                    "1962-04-30T00:00:00",
                    "1962-05-31T00:00:00",
                    "1962-06-30T00:00:00",
                    "1962-07-31T00:00:00",
                    "1962-08-31T00:00:00",
                    "1962-09-30T00:00:00",
                    "1962-10-31T00:00:00",
                    "1962-11-30T00:00:00",
                    "1962-12-31T00:00:00",
                    "1963-01-31T00:00:00",
                    "1963-02-28T00:00:00",
                    "1963-03-31T00:00:00",
                    "1963-04-30T00:00:00",
                    "1963-05-31T00:00:00",
                    "1963-06-30T00:00:00",
                    "1963-07-31T00:00:00",
                    "1963-08-31T00:00:00",
                    "1963-09-30T00:00:00",
                    "1963-10-31T00:00:00",
                    "1963-11-30T00:00:00",
                    "1963-12-31T00:00:00",
                    "1964-01-31T00:00:00",
                    "1964-02-29T00:00:00",
                    "1964-03-31T00:00:00",
                    "1964-04-30T00:00:00",
                    "1964-05-31T00:00:00",
                    "1964-06-30T00:00:00",
                    "1964-07-31T00:00:00",
                    "1964-08-31T00:00:00",
                    "1964-09-30T00:00:00",
                    "1964-10-31T00:00:00",
                    "1964-11-30T00:00:00",
                    "1964-12-31T00:00:00"
                  ],
                  "y": [
                    117,
                    113.46,
                    127.68,
                    129.08,
                    132.27,
                    151.16,
                    170.64,
                    170.43,
                    148.44,
                    133.05,
                    118.02,
                    130.32,
                    135.62,
                    130.38,
                    149.71,
                    147.65,
                    152.52,
                    172.59,
                    195.46,
                    197.04,
                    170.11,
                    153.54,
                    134.75,
                    151.1,
                    156.32,
                    149.11,
                    174.2,
                    169.23,
                    177.1,
                    199.36,
                    227.8,
                    229.36,
                    197.46,
                    175.54,
                    155.02,
                    173.58,
                    179.85,
                    175.09,
                    192.39,
                    198.3,
                    201.61,
                    231.07,
                    259.32,
                    257.69,
                    222.97,
                    200.48,
                    176.27,
                    195.96,
                    199.47,
                    195.39,
                    219.58,
                    221.87,
                    225.75,
                    258.7,
                    291.11,
                    291.74,
                    249.43,
                    223.25,
                    196.13,
                    217.76,
                    222.44,
                    215.02,
                    246.64,
                    244.25,
                    251.16,
                    286.13,
                    324.97,
                    326.58,
                    279.67,
                    249.12,
                    219.94,
                    241.95,
                    255.11,
                    241.84,
                    286.68,
                    276.03,
                    288.54,
                    329.03,
                    374.46,
                    378.96,
                    322.27,
                    283.67,
                    251.1,
                    281.82,
                    291.64,
                    284.13,
                    314.28,
                    323.12,
                    326.47,
                    378.3,
                    423.42,
                    421.53,
                    362.43,
                    325.72,
                    283,
                    314.08,
                    323.78,
                    313.57,
                    355.58,
                    356.23,
                    363.38,
                    416.78,
                    468.92,
                    465.45,
                    399.73,
                    353.74,
                    309.67,
                    343.7,
                    353.49,
                    338.63,
                    388.92,
                    382.8,
                    393.97,
                    449.07,
                    507.2,
                    507.52,
                    433.59,
                    382.75,
                    337.02,
                    375.44,
                    386.97,
                    365.9,
                    432,
                    417.62,
                    433.88,
                    492.72,
                    561.11,
                    563.14,
                    479.61,
                    419.52,
                    369.67,
                    412.8,
                    427.81,
                    414.26,
                    456.85,
                    469.96,
                    474.52,
                    546.54,
                    612.78,
                    606.61,
                    520.18,
                    465.49,
                    403.59,
                    447.42,
                    460.42,
                    447.02,
                    504.39,
                    506.3,
                    515.4,
                    590.41,
                    666.06,
                    662.5,
                    567.2,
                    500.99,
                    436.07,
                    485.26,
                    500.69,
                    477.54,
                    552.03,
                    543.24,
                    559.02,
                    636.64,
                    720.6,
                    719.24,
                    613.2,
                    538.57,
                    471.27,
                    525.03,
                    541.33,
                    510.06,
                    602.55,
                    579.68,
                    602.04,
                    684.73,
                    778.12,
                    777.54,
                    659.89,
                    575.19,
                    506.93,
                    565.96,
                    585.32,
                    566.29,
                    624.15,
                    641.26,
                    645.26,
                    744.64,
                    835.25,
                    826.14,
                    704.92,
                    628.87,
                    543.22,
                    603.88
                  ]
                },
                {
                  "fill": "tonexty",
                  "fillcolor": "rgba(212, 212, 217, 0.5)",
                  "line": {
                    "color": "rgba(212, 212, 217, 0.0)",
                    "width": 0
                  },
                  "name": "Forecast Interval Lower Bound",
                  "showlegend": true,
                  "type": "scatter",
                  "x": [
                    "1949-01-31T00:00:00",
                    "1949-02-28T00:00:00",
                    "1949-03-31T00:00:00",
                    "1949-04-30T00:00:00",
                    "1949-05-31T00:00:00",
                    "1949-06-30T00:00:00",
                    "1949-07-31T00:00:00",
                    "1949-08-31T00:00:00",
                    "1949-09-30T00:00:00",
                    "1949-10-31T00:00:00",
                    "1949-11-30T00:00:00",
                    "1949-12-31T00:00:00",
                    "1950-01-31T00:00:00",
                    "1950-02-28T00:00:00",
                    "1950-03-31T00:00:00",
                    "1950-04-30T00:00:00",
                    "1950-05-31T00:00:00",
                    "1950-06-30T00:00:00",
                    "1950-07-31T00:00:00",
                    "1950-08-31T00:00:00",
                    "1950-09-30T00:00:00",
                    "1950-10-31T00:00:00",
                    "1950-11-30T00:00:00",
                    "1950-12-31T00:00:00",
                    "1951-01-31T00:00:00",
                    "1951-02-28T00:00:00",
                    "1951-03-31T00:00:00",
                    "1951-04-30T00:00:00",
                    "1951-05-31T00:00:00",
                    "1951-06-30T00:00:00",
                    "1951-07-31T00:00:00",
                    "1951-08-31T00:00:00",
                    "1951-09-30T00:00:00",
                    "1951-10-31T00:00:00",
                    "1951-11-30T00:00:00",
                    "1951-12-31T00:00:00",
                    "1952-01-31T00:00:00",
                    "1952-02-29T00:00:00",
                    "1952-03-31T00:00:00",
                    "1952-04-30T00:00:00",
                    "1952-05-31T00:00:00",
                    "1952-06-30T00:00:00",
                    "1952-07-31T00:00:00",
                    "1952-08-31T00:00:00",
                    "1952-09-30T00:00:00",
                    "1952-10-31T00:00:00",
                    "1952-11-30T00:00:00",
                    "1952-12-31T00:00:00",
                    "1953-01-31T00:00:00",
                    "1953-02-28T00:00:00",
                    "1953-03-31T00:00:00",
                    "1953-04-30T00:00:00",
                    "1953-05-31T00:00:00",
                    "1953-06-30T00:00:00",
                    "1953-07-31T00:00:00",
                    "1953-08-31T00:00:00",
                    "1953-09-30T00:00:00",
                    "1953-10-31T00:00:00",
                    "1953-11-30T00:00:00",
                    "1953-12-31T00:00:00",
                    "1954-01-31T00:00:00",
                    "1954-02-28T00:00:00",
                    "1954-03-31T00:00:00",
                    "1954-04-30T00:00:00",
                    "1954-05-31T00:00:00",
                    "1954-06-30T00:00:00",
                    "1954-07-31T00:00:00",
                    "1954-08-31T00:00:00",
                    "1954-09-30T00:00:00",
                    "1954-10-31T00:00:00",
                    "1954-11-30T00:00:00",
                    "1954-12-31T00:00:00",
                    "1955-01-31T00:00:00",
                    "1955-02-28T00:00:00",
                    "1955-03-31T00:00:00",
                    "1955-04-30T00:00:00",
                    "1955-05-31T00:00:00",
                    "1955-06-30T00:00:00",
                    "1955-07-31T00:00:00",
                    "1955-08-31T00:00:00",
                    "1955-09-30T00:00:00",
                    "1955-10-31T00:00:00",
                    "1955-11-30T00:00:00",
                    "1955-12-31T00:00:00",
                    "1956-01-31T00:00:00",
                    "1956-02-29T00:00:00",
                    "1956-03-31T00:00:00",
                    "1956-04-30T00:00:00",
                    "1956-05-31T00:00:00",
                    "1956-06-30T00:00:00",
                    "1956-07-31T00:00:00",
                    "1956-08-31T00:00:00",
                    "1956-09-30T00:00:00",
                    "1956-10-31T00:00:00",
                    "1956-11-30T00:00:00",
                    "1956-12-31T00:00:00",
                    "1957-01-31T00:00:00",
                    "1957-02-28T00:00:00",
                    "1957-03-31T00:00:00",
                    "1957-04-30T00:00:00",
                    "1957-05-31T00:00:00",
                    "1957-06-30T00:00:00",
                    "1957-07-31T00:00:00",
                    "1957-08-31T00:00:00",
                    "1957-09-30T00:00:00",
                    "1957-10-31T00:00:00",
                    "1957-11-30T00:00:00",
                    "1957-12-31T00:00:00",
                    "1958-01-31T00:00:00",
                    "1958-02-28T00:00:00",
                    "1958-03-31T00:00:00",
                    "1958-04-30T00:00:00",
                    "1958-05-31T00:00:00",
                    "1958-06-30T00:00:00",
                    "1958-07-31T00:00:00",
                    "1958-08-31T00:00:00",
                    "1958-09-30T00:00:00",
                    "1958-10-31T00:00:00",
                    "1958-11-30T00:00:00",
                    "1958-12-31T00:00:00",
                    "1959-01-31T00:00:00",
                    "1959-02-28T00:00:00",
                    "1959-03-31T00:00:00",
                    "1959-04-30T00:00:00",
                    "1959-05-31T00:00:00",
                    "1959-06-30T00:00:00",
                    "1959-07-31T00:00:00",
                    "1959-08-31T00:00:00",
                    "1959-09-30T00:00:00",
                    "1959-10-31T00:00:00",
                    "1959-11-30T00:00:00",
                    "1959-12-31T00:00:00",
                    "1960-01-31T00:00:00",
                    "1960-02-29T00:00:00",
                    "1960-03-31T00:00:00",
                    "1960-04-30T00:00:00",
                    "1960-05-31T00:00:00",
                    "1960-06-30T00:00:00",
                    "1960-07-31T00:00:00",
                    "1960-08-31T00:00:00",
                    "1960-09-30T00:00:00",
                    "1960-10-31T00:00:00",
                    "1960-11-30T00:00:00",
                    "1960-12-31T00:00:00",
                    "1961-01-31T00:00:00",
                    "1961-02-28T00:00:00",
                    "1961-03-31T00:00:00",
                    "1961-04-30T00:00:00",
                    "1961-05-31T00:00:00",
                    "1961-06-30T00:00:00",
                    "1961-07-31T00:00:00",
                    "1961-08-31T00:00:00",
                    "1961-09-30T00:00:00",
                    "1961-10-31T00:00:00",
                    "1961-11-30T00:00:00",
                    "1961-12-31T00:00:00",
                    "1962-01-31T00:00:00",
                    "1962-02-28T00:00:00",
                    "1962-03-31T00:00:00",
                    "1962-04-30T00:00:00",
                    "1962-05-31T00:00:00",
                    "1962-06-30T00:00:00",
                    "1962-07-31T00:00:00",
                    "1962-08-31T00:00:00",
                    "1962-09-30T00:00:00",
                    "1962-10-31T00:00:00",
                    "1962-11-30T00:00:00",
                    "1962-12-31T00:00:00",
                    "1963-01-31T00:00:00",
                    "1963-02-28T00:00:00",
                    "1963-03-31T00:00:00",
                    "1963-04-30T00:00:00",
                    "1963-05-31T00:00:00",
                    "1963-06-30T00:00:00",
                    "1963-07-31T00:00:00",
                    "1963-08-31T00:00:00",
                    "1963-09-30T00:00:00",
                    "1963-10-31T00:00:00",
                    "1963-11-30T00:00:00",
                    "1963-12-31T00:00:00",
                    "1964-01-31T00:00:00",
                    "1964-02-29T00:00:00",
                    "1964-03-31T00:00:00",
                    "1964-04-30T00:00:00",
                    "1964-05-31T00:00:00",
                    "1964-06-30T00:00:00",
                    "1964-07-31T00:00:00",
                    "1964-08-31T00:00:00",
                    "1964-09-30T00:00:00",
                    "1964-10-31T00:00:00",
                    "1964-11-30T00:00:00",
                    "1964-12-31T00:00:00"
                  ],
                  "y": [
                    90.39,
                    86.87,
                    101.18,
                    102.28,
                    105.91,
                    124.38,
                    144.28,
                    144.26,
                    121.27,
                    106.9,
                    91.53,
                    104.37,
                    108.72,
                    104.19,
                    122.74,
                    122.28,
                    125.42,
                    147.4,
                    169.9,
                    170.82,
                    143.96,
                    126.09,
                    107.8,
                    124.6,
                    128.62,
                    122.28,
                    148.03,
                    142.84,
                    151.15,
                    174.38,
                    201.27,
                    203.43,
                    170.27,
                    148.57,
                    127.73,
                    147.98,
                    153.3,
                    148.25,
                    166.57,
                    172.63,
                    174.49,
                    205.67,
                    233.91,
                    231.33,
                    196.91,
                    174.07,
                    149.32,
                    168.02,
                    173.3,
                    169.31,
                    192.99,
                    194.79,
                    200.31,
                    233.36,
                    264.36,
                    264.12,
                    223.06,
                    196.5,
                    169.68,
                    191.76,
                    197.67,
                    188.52,
                    221.21,
                    218.08,
                    224.95,
                    260.97,
                    299.62,
                    300.28,
                    253.76,
                    221.54,
                    194.07,
                    216.21,
                    228.25,
                    214.63,
                    259.71,
                    249.81,
                    262.95,
                    301.48,
                    347.99,
                    351.25,
                    295.56,
                    257.66,
                    225.42,
                    256.14,
                    265.92,
                    257,
                    288.48,
                    297.22,
                    300.32,
                    352.8,
                    398.12,
                    394.23,
                    335.69,
                    298.05,
                    257.37,
                    287.58,
                    296.46,
                    287.48,
                    328.2,
                    330.54,
                    336.21,
                    390.47,
                    441.24,
                    439.31,
                    373.56,
                    327.95,
                    282.31,
                    316.3,
                    327.57,
                    311.57,
                    363.02,
                    355.54,
                    367.65,
                    422.8,
                    480.76,
                    481.95,
                    407.3,
                    357.34,
                    309.29,
                    350.06,
                    361.17,
                    340.7,
                    405.69,
                    390.66,
                    407.47,
                    466.64,
                    534.5,
                    536.72,
                    452.3,
                    394.71,
                    343.67,
                    387.12,
                    401.36,
                    388.41,
                    430.57,
                    442.88,
                    448.19,
                    520.28,
                    586.7,
                    580.64,
                    493.87,
                    438.55,
                    377.94,
                    421.19,
                    433.83,
                    418.89,
                    478.21,
                    480.97,
                    488.35,
                    565.44,
                    640.5,
                    635.8,
                    539.8,
                    475.22,
                    410.25,
                    458.98,
                    473.09,
                    451.43,
                    525.29,
                    515.1,
                    530.92,
                    608.69,
                    691.42,
                    689.83,
                    584.41,
                    510.07,
                    442.62,
                    496.37,
                    511.78,
                    480.82,
                    570.69,
                    549.12,
                    571,
                    650.55,
                    741.82,
                    743.55,
                    625.2,
                    542.53,
                    474.18,
                    532.08,
                    550.14,
                    529.87,
                    586.41,
                    602.97,
                    606.05,
                    701.17,
                    788.93,
                    778.06,
                    661.52,
                    586.94,
                    504.32,
                    561.4
                  ]
                }
              ],
              "layout": {
                "hovermode": "x unified",
                "template": {
                  "data": {
                    "bar": [
                      {
                        "error_x": {
                          "color": "#f2f5fa"
                        },
                        "error_y": {
                          "color": "#f2f5fa"
                        },
                        "marker": {
                          "line": {
                            "color": "rgb(17,17,17)",
                            "width": 0.5
                          },
                          "pattern": {
                            "fillmode": "overlay",
                            "size": 10,
                            "solidity": 0.2
                          }
                        },
                        "type": "bar"
                      }
                    ],
                    "barpolar": [
                      {
                        "marker": {
                          "line": {
                            "color": "rgb(17,17,17)",
                            "width": 0.5
                          },
                          "pattern": {
                            "fillmode": "overlay",
                            "size": 10,
                            "solidity": 0.2
                          }
                        },
                        "type": "barpolar"
                      }
                    ],
                    "carpet": [
                      {
                        "aaxis": {
                          "endlinecolor": "#A2B1C6",
                          "gridcolor": "#506784",
                          "linecolor": "#506784",
                          "minorgridcolor": "#506784",
                          "startlinecolor": "#A2B1C6"
                        },
                        "baxis": {
                          "endlinecolor": "#A2B1C6",
                          "gridcolor": "#506784",
                          "linecolor": "#506784",
                          "minorgridcolor": "#506784",
                          "startlinecolor": "#A2B1C6"
                        },
                        "type": "carpet"
                      }
                    ],
                    "choropleth": [
                      {
                        "colorbar": {
                          "outlinewidth": 0,
                          "ticks": ""
                        },
                        "type": "choropleth"
                      }
                    ],
                    "contour": [
                      {
                        "colorbar": {
                          "outlinewidth": 0,
                          "ticks": ""
                        },
                        "colorscale": [
                          [
                            0,
                            "#0d0887"
                          ],
                          [
                            0.1111111111111111,
                            "#46039f"
                          ],
                          [
                            0.2222222222222222,
                            "#7201a8"
                          ],
                          [
                            0.3333333333333333,
                            "#9c179e"
                          ],
                          [
                            0.4444444444444444,
                            "#bd3786"
                          ],
                          [
                            0.5555555555555556,
                            "#d8576b"
                          ],
                          [
                            0.6666666666666666,
                            "#ed7953"
                          ],
                          [
                            0.7777777777777778,
                            "#fb9f3a"
                          ],
                          [
                            0.8888888888888888,
                            "#fdca26"
                          ],
                          [
                            1,
                            "#f0f921"
                          ]
                        ],
                        "type": "contour"
                      }
                    ],
                    "contourcarpet": [
                      {
                        "colorbar": {
                          "outlinewidth": 0,
                          "ticks": ""
                        },
                        "type": "contourcarpet"
                      }
                    ],
                    "heatmap": [
                      {
                        "colorbar": {
                          "outlinewidth": 0,
                          "ticks": ""
                        },
                        "colorscale": [
                          [
                            0,
                            "#0d0887"
                          ],
                          [
                            0.1111111111111111,
                            "#46039f"
                          ],
                          [
                            0.2222222222222222,
                            "#7201a8"
                          ],
                          [
                            0.3333333333333333,
                            "#9c179e"
                          ],
                          [
                            0.4444444444444444,
                            "#bd3786"
                          ],
                          [
                            0.5555555555555556,
                            "#d8576b"
                          ],
                          [
                            0.6666666666666666,
                            "#ed7953"
                          ],
                          [
                            0.7777777777777778,
                            "#fb9f3a"
                          ],
                          [
                            0.8888888888888888,
                            "#fdca26"
                          ],
                          [
                            1,
                            "#f0f921"
                          ]
                        ],
                        "type": "heatmap"
                      }
                    ],
                    "heatmapgl": [
                      {
                        "colorbar": {
                          "outlinewidth": 0,
                          "ticks": ""
                        },
                        "colorscale": [
                          [
                            0,
                            "#0d0887"
                          ],
                          [
                            0.1111111111111111,
                            "#46039f"
                          ],
                          [
                            0.2222222222222222,
                            "#7201a8"
                          ],
                          [
                            0.3333333333333333,
                            "#9c179e"
                          ],
                          [
                            0.4444444444444444,
                            "#bd3786"
                          ],
                          [
                            0.5555555555555556,
                            "#d8576b"
                          ],
                          [
                            0.6666666666666666,
                            "#ed7953"
                          ],
                          [
                            0.7777777777777778,
                            "#fb9f3a"
                          ],
                          [
                            0.8888888888888888,
                            "#fdca26"
                          ],
                          [
                            1,
                            "#f0f921"
                          ]
                        ],
                        "type": "heatmapgl"
                      }
                    ],
                    "histogram": [
                      {
                        "marker": {
                          "pattern": {
                            "fillmode": "overlay",
                            "size": 10,
                            "solidity": 0.2
                          }
                        },
                        "type": "histogram"
                      }
                    ],
                    "histogram2d": [
                      {
                        "colorbar": {
                          "outlinewidth": 0,
                          "ticks": ""
                        },
                        "colorscale": [
                          [
                            0,
                            "#0d0887"
                          ],
                          [
                            0.1111111111111111,
                            "#46039f"
                          ],
                          [
                            0.2222222222222222,
                            "#7201a8"
                          ],
                          [
                            0.3333333333333333,
                            "#9c179e"
                          ],
                          [
                            0.4444444444444444,
                            "#bd3786"
                          ],
                          [
                            0.5555555555555556,
                            "#d8576b"
                          ],
                          [
                            0.6666666666666666,
                            "#ed7953"
                          ],
                          [
                            0.7777777777777778,
                            "#fb9f3a"
                          ],
                          [
                            0.8888888888888888,
                            "#fdca26"
                          ],
                          [
                            1,
                            "#f0f921"
                          ]
                        ],
                        "type": "histogram2d"
                      }
                    ],
                    "histogram2dcontour": [
                      {
                        "colorbar": {
                          "outlinewidth": 0,
                          "ticks": ""
                        },
                        "colorscale": [
                          [
                            0,
                            "#0d0887"
                          ],
                          [
                            0.1111111111111111,
                            "#46039f"
                          ],
                          [
                            0.2222222222222222,
                            "#7201a8"
                          ],
                          [
                            0.3333333333333333,
                            "#9c179e"
                          ],
                          [
                            0.4444444444444444,
                            "#bd3786"
                          ],
                          [
                            0.5555555555555556,
                            "#d8576b"
                          ],
                          [
                            0.6666666666666666,
                            "#ed7953"
                          ],
                          [
                            0.7777777777777778,
                            "#fb9f3a"
                          ],
                          [
                            0.8888888888888888,
                            "#fdca26"
                          ],
                          [
                            1,
                            "#f0f921"
                          ]
                        ],
                        "type": "histogram2dcontour"
                      }
                    ],
                    "mesh3d": [
                      {
                        "colorbar": {
                          "outlinewidth": 0,
                          "ticks": ""
                        },
                        "type": "mesh3d"
                      }
                    ],
                    "parcoords": [
                      {
                        "line": {
                          "colorbar": {
                            "outlinewidth": 0,
                            "ticks": ""
                          }
                        },
                        "type": "parcoords"
                      }
                    ],
                    "pie": [
                      {
                        "automargin": true,
                        "type": "pie"
                      }
                    ],
                    "scatter": [
                      {
                        "marker": {
                          "line": {
                            "color": "#283442"
                          }
                        },
                        "type": "scatter"
                      }
                    ],
                    "scatter3d": [
                      {
                        "line": {
                          "colorbar": {
                            "outlinewidth": 0,
                            "ticks": ""
                          }
                        },
                        "marker": {
                          "colorbar": {
                            "outlinewidth": 0,
                            "ticks": ""
                          }
                        },
                        "type": "scatter3d"
                      }
                    ],
                    "scattercarpet": [
                      {
                        "marker": {
                          "colorbar": {
                            "outlinewidth": 0,
                            "ticks": ""
                          }
                        },
                        "type": "scattercarpet"
                      }
                    ],
                    "scattergeo": [
                      {
                        "marker": {
                          "colorbar": {
                            "outlinewidth": 0,
                            "ticks": ""
                          }
                        },
                        "type": "scattergeo"
                      }
                    ],
                    "scattergl": [
                      {
                        "marker": {
                          "line": {
                            "color": "#283442"
                          }
                        },
                        "type": "scattergl"
                      }
                    ],
                    "scattermapbox": [
                      {
                        "marker": {
                          "colorbar": {
                            "outlinewidth": 0,
                            "ticks": ""
                          }
                        },
                        "type": "scattermapbox"
                      }
                    ],
                    "scatterpolar": [
                      {
                        "marker": {
                          "colorbar": {
                            "outlinewidth": 0,
                            "ticks": ""
                          }
                        },
                        "type": "scatterpolar"
                      }
                    ],
                    "scatterpolargl": [
                      {
                        "marker": {
                          "colorbar": {
                            "outlinewidth": 0,
                            "ticks": ""
                          }
                        },
                        "type": "scatterpolargl"
                      }
                    ],
                    "scatterternary": [
                      {
                        "marker": {
                          "colorbar": {
                            "outlinewidth": 0,
                            "ticks": ""
                          }
                        },
                        "type": "scatterternary"
                      }
                    ],
                    "surface": [
                      {
                        "colorbar": {
                          "outlinewidth": 0,
                          "ticks": ""
                        },
                        "colorscale": [
                          [
                            0,
                            "#0d0887"
                          ],
                          [
                            0.1111111111111111,
                            "#46039f"
                          ],
                          [
                            0.2222222222222222,
                            "#7201a8"
                          ],
                          [
                            0.3333333333333333,
                            "#9c179e"
                          ],
                          [
                            0.4444444444444444,
                            "#bd3786"
                          ],
                          [
                            0.5555555555555556,
                            "#d8576b"
                          ],
                          [
                            0.6666666666666666,
                            "#ed7953"
                          ],
                          [
                            0.7777777777777778,
                            "#fb9f3a"
                          ],
                          [
                            0.8888888888888888,
                            "#fdca26"
                          ],
                          [
                            1,
                            "#f0f921"
                          ]
                        ],
                        "type": "surface"
                      }
                    ],
                    "table": [
                      {
                        "cells": {
                          "fill": {
                            "color": "#506784"
                          },
                          "line": {
                            "color": "rgb(17,17,17)"
                          }
                        },
                        "header": {
                          "fill": {
                            "color": "#2a3f5f"
                          },
                          "line": {
                            "color": "rgb(17,17,17)"
                          }
                        },
                        "type": "table"
                      }
                    ]
                  },
                  "layout": {
                    "annotationdefaults": {
                      "arrowcolor": "#f2f5fa",
                      "arrowhead": 0,
                      "arrowwidth": 1
                    },
                    "autosize": false,
                    "autotypenumbers": "strict",
                    "coloraxis": {
                      "colorbar": {
                        "outlinewidth": 0,
                        "ticks": ""
                      }
                    },
                    "colorscale": {
                      "diverging": [
                        [
                          0,
                          "#8e0152"
                        ],
                        [
                          0.1,
                          "#c51b7d"
                        ],
                        [
                          0.2,
                          "#de77ae"
                        ],
                        [
                          0.3,
                          "#f1b6da"
                        ],
                        [
                          0.4,
                          "#fde0ef"
                        ],
                        [
                          0.5,
                          "#f7f7f7"
                        ],
                        [
                          0.6,
                          "#e6f5d0"
                        ],
                        [
                          0.7,
                          "#b8e186"
                        ],
                        [
                          0.8,
                          "#7fbc41"
                        ],
                        [
                          0.9,
                          "#4d9221"
                        ],
                        [
                          1,
                          "#276419"
                        ]
                      ],
                      "sequential": [
                        [
                          0,
                          "#0d0887"
                        ],
                        [
                          0.1111111111111111,
                          "#46039f"
                        ],
                        [
                          0.2222222222222222,
                          "#7201a8"
                        ],
                        [
                          0.3333333333333333,
                          "#9c179e"
                        ],
                        [
                          0.4444444444444444,
                          "#bd3786"
                        ],
                        [
                          0.5555555555555556,
                          "#d8576b"
                        ],
                        [
                          0.6666666666666666,
                          "#ed7953"
                        ],
                        [
                          0.7777777777777778,
                          "#fb9f3a"
                        ],
                        [
                          0.8888888888888888,
                          "#fdca26"
                        ],
                        [
                          1,
                          "#f0f921"
                        ]
                      ],
                      "sequentialminus": [
                        [
                          0,
                          "#0d0887"
                        ],
                        [
                          0.1111111111111111,
                          "#46039f"
                        ],
                        [
                          0.2222222222222222,
                          "#7201a8"
                        ],
                        [
                          0.3333333333333333,
                          "#9c179e"
                        ],
                        [
                          0.4444444444444444,
                          "#bd3786"
                        ],
                        [
                          0.5555555555555556,
                          "#d8576b"
                        ],
                        [
                          0.6666666666666666,
                          "#ed7953"
                        ],
                        [
                          0.7777777777777778,
                          "#fb9f3a"
                        ],
                        [
                          0.8888888888888888,
                          "#fdca26"
                        ],
                        [
                          1,
                          "#f0f921"
                        ]
                      ]
                    },
                    "colorway": [
                      "#636efa",
                      "#EF553B",
                      "#00cc96",
                      "#ab63fa",
                      "#FFA15A",
                      "#19d3f3",
                      "#FF6692",
                      "#B6E880",
                      "#FF97FF",
                      "#FECB52"
                    ],
                    "font": {
                      "color": "#f2f5fa"
                    },
                    "geo": {
                      "bgcolor": "rgb(17,17,17)",
                      "lakecolor": "rgb(17,17,17)",
                      "landcolor": "rgb(17,17,17)",
                      "showlakes": true,
                      "showland": true,
                      "subunitcolor": "#506784"
                    },
                    "height": 500,
                    "hoverlabel": {
                      "align": "left"
                    },
                    "hovermode": "closest",
                    "mapbox": {
                      "style": "dark"
                    },
                    "paper_bgcolor": "rgb(17,17,17)",
                    "plot_bgcolor": "rgb(17,17,17)",
                    "polar": {
                      "angularaxis": {
                        "gridcolor": "#506784",
                        "linecolor": "#506784",
                        "ticks": ""
                      },
                      "bgcolor": "rgb(17,17,17)",
                      "radialaxis": {
                        "gridcolor": "#506784",
                        "linecolor": "#506784",
                        "ticks": ""
                      }
                    },
                    "scene": {
                      "xaxis": {
                        "backgroundcolor": "rgb(17,17,17)",
                        "gridcolor": "#506784",
                        "gridwidth": 2,
                        "linecolor": "#506784",
                        "showbackground": true,
                        "ticks": "",
                        "zerolinecolor": "#C8D4E3"
                      },
                      "yaxis": {
                        "backgroundcolor": "rgb(17,17,17)",
                        "gridcolor": "#506784",
                        "gridwidth": 2,
                        "linecolor": "#506784",
                        "showbackground": true,
                        "ticks": "",
                        "zerolinecolor": "#C8D4E3"
                      },
                      "zaxis": {
                        "backgroundcolor": "rgb(17,17,17)",
                        "gridcolor": "#506784",
                        "gridwidth": 2,
                        "linecolor": "#506784",
                        "showbackground": true,
                        "ticks": "",
                        "zerolinecolor": "#C8D4E3"
                      }
                    },
                    "shapedefaults": {
                      "line": {
                        "color": "#f2f5fa"
                      }
                    },
                    "showlegend": true,
                    "sliderdefaults": {
                      "bgcolor": "#C8D4E3",
                      "bordercolor": "rgb(17,17,17)",
                      "borderwidth": 1,
                      "tickwidth": 0
                    },
                    "ternary": {
                      "aaxis": {
                        "gridcolor": "#506784",
                        "linecolor": "#506784",
                        "ticks": ""
                      },
                      "baxis": {
                        "gridcolor": "#506784",
                        "linecolor": "#506784",
                        "ticks": ""
                      },
                      "bgcolor": "rgb(17,17,17)",
                      "caxis": {
                        "gridcolor": "#506784",
                        "linecolor": "#506784",
                        "ticks": ""
                      }
                    },
                    "title": {
                      "x": 0.05
                    },
                    "updatemenudefaults": {
                      "bgcolor": "#506784",
                      "borderwidth": 0
                    },
                    "width": 1000,
                    "xaxis": {
                      "automargin": true,
                      "gridcolor": "#283442",
                      "linecolor": "#506784",
                      "ticks": "",
                      "title": {
                        "standoff": 15
                      },
                      "zerolinecolor": "#283442",
                      "zerolinewidth": 2
                    },
                    "yaxis": {
                      "automargin": true,
                      "gridcolor": "#283442",
                      "linecolor": "#506784",
                      "ticks": "",
                      "title": {
                        "standoff": 15
                      },
                      "zerolinecolor": "#283442",
                      "zerolinewidth": 2
                    }
                  }
                },
                "title": {},
                "xaxis": {
                  "range": [
                    "1949-01-31T00:00:00",
                    "1964-12-31T00:00:00"
                  ]
                }
              }
            }
          },
          "metadata": {},
          "output_type": "display_data"
        }
      ],
      "source": [
        "utils.plot_prophet_forecast(df['y'], df_forecast)"
      ]
    },
    {
      "cell_type": "markdown",
      "id": "bd088e87",
      "metadata": {},
      "source": [
        "## Configuration"
      ]
    },
    {
      "cell_type": "markdown",
      "id": "7eb31d8f",
      "metadata": {},
      "source": [
        "1. Prophet automatically detects trend and seasonality using changepoints.\n",
        "2. You configure:\n",
        "\n",
        "   * **Trend flexibility** (with or without change points)\n",
        "   * **Additive vs. multiplicative** seasonality (`seasonality_mode`)\n",
        "   * **Custom seasonalities** (optional)\n",
        "   * **Holiday effects** (optional)\n"
      ]
    },
    {
      "cell_type": "markdown",
      "id": "bd795550",
      "metadata": {},
      "source": [
        "**📌 Rule of Thumb**"
      ]
    },
    {
      "cell_type": "markdown",
      "id": "fe7f674d",
      "metadata": {},
      "source": [
        "> “Prophet config is semi-automatic: trend and seasonal components are learned with flexible change points. You choose seasonal mode and horizon — minimal tuning required.”"
      ]
    },
    {
      "cell_type": "markdown",
      "id": "f5697130",
      "metadata": {},
      "source": [
        "\n",
        "\n",
        "**Seasonal decomposition visual insight only.**"
      ]
    },
    {
      "cell_type": "code",
      "execution_count": 19,
      "id": "1489c93d",
      "metadata": {},
      "outputs": [
        {
          "data": {
            "image/png": "[encoded data removed]",
            "text/plain": [
              "<Figure size 640x480 with 4 Axes>"
            ]
          },
          "metadata": {},
          "output_type": "display_data"
        },
        {
          "data": {
            "image/png": "[encoded data removed]",
            "text/plain": [
              "<Figure size 640x480 with 4 Axes>"
            ]
          },
          "metadata": {},
          "output_type": "display_data"
        }
      ],
      "source": [
        "from statsmodels.tsa.seasonal import seasonal_decompose\n",
        "\n",
        "seasonal_decompose(df['y'], model=\"additive\", period=12).plot();\n",
        "seasonal_decompose(df['y'], model=\"multiplicative\", period=12).plot();"
      ]
    },
    {
      "cell_type": "markdown",
      "id": "60eb5655",
      "metadata": {},
      "source": [
        "## Variation playground\n",
        "\n",
        "### Prophet"
      ]
    },
    {
      "cell_type": "code",
      "execution_count": 20,
      "id": "2678784d",
      "metadata": {},
      "outputs": [
        {
          "name": "stderr",
          "output_type": "stream",
          "text": [
            "11:44:02 - cmdstanpy - INFO - Chain [1] start processing\n",
            "11:44:02 - cmdstanpy - INFO - Chain [1] done processing\n",
            "11:44:02 - cmdstanpy - INFO - Chain [1] start processing\n",
            "11:44:03 - cmdstanpy - INFO - Chain [1] done processing\n"
          ]
        },
        {
          "data": {
            "text/html": [
              "<div>\n",
              "<style scoped>\n",
              "    .dataframe tbody tr th:only-of-type {\n",
              "        vertical-align: middle;\n",
              "    }\n",
              "\n",
              "    .dataframe tbody tr th {\n",
              "        vertical-align: top;\n",
              "    }\n",
              "\n",
              "    .dataframe thead th {\n",
              "        text-align: right;\n",
              "    }\n",
              "</style>\n",
              "<table border=\"1\" class=\"dataframe\">\n",
              "  <thead>\n",
              "    <tr style=\"text-align: right;\">\n",
              "      <th></th>\n",
              "      <th>values</th>\n",
              "      <th>prophet_additive</th>\n",
              "      <th>prophet_multiplicative</th>\n",
              "    </tr>\n",
              "  </thead>\n",
              "  <tbody>\n",
              "    <tr>\n",
              "      <th>1949-01-31</th>\n",
              "      <td>112.0</td>\n",
              "      <td>NaN</td>\n",
              "      <td>NaN</td>\n",
              "    </tr>\n",
              "    <tr>\n",
              "      <th>1949-02-28</th>\n",
              "      <td>118.0</td>\n",
              "      <td>NaN</td>\n",
              "      <td>NaN</td>\n",
              "    </tr>\n",
              "    <tr>\n",
              "      <th>...</th>\n",
              "      <td>...</td>\n",
              "      <td>...</td>\n",
              "      <td>...</td>\n",
              "    </tr>\n",
              "    <tr>\n",
              "      <th>1964-11-30</th>\n",
              "      <td>NaN</td>\n",
              "      <td>568.963094</td>\n",
              "      <td>525.884549</td>\n",
              "    </tr>\n",
              "    <tr>\n",
              "      <th>1964-12-31</th>\n",
              "      <td>NaN</td>\n",
              "      <td>597.874859</td>\n",
              "      <td>583.970836</td>\n",
              "    </tr>\n",
              "  </tbody>\n",
              "</table>\n",
              "<p>192 rows × 3 columns</p>\n",
              "</div>"
            ],
            "text/plain": [
              "            values  prophet_additive  prophet_multiplicative\n",
              "1949-01-31   112.0               NaN                     NaN\n",
              "1949-02-28   118.0               NaN                     NaN\n",
              "...            ...               ...                     ...\n",
              "1964-11-30     NaN        568.963094              525.884549\n",
              "1964-12-31     NaN        597.874859              583.970836\n",
              "\n",
              "[192 rows x 3 columns]"
            ]
          },
          "execution_count": 20,
          "metadata": {},
          "output_type": "execute_result"
        }
      ],
      "source": [
        "from modules import utils\n",
        "\n",
        "df = series.to_frame()\n",
        "\n",
        "df = utils.get_model_forecast_prophet(df, column=\"values\", mode=\"additive\")\n",
        "df = utils.get_model_forecast_prophet(df, column=\"values\", mode=\"multiplicative\")\n",
        "\n",
        "df"
      ]
    },
    {
      "cell_type": "code",
      "execution_count": 21,
      "id": "895ea74a",
      "metadata": {},
      "outputs": [
        {
          "data": {
            "application/vnd.plotly.v1+json": {
              "config": {
                "plotlyServerURL": "https://plot.ly"
              },
              "data": [
                {
                  "hovertemplate": "variable=values<br>index=%{x}<br>value=%{y}<extra></extra>",
                  "legendgroup": "values",
                  "line": {
                    "color": "#636efa",
                    "dash": "solid"
                  },
                  "marker": {
                    "symbol": "circle"
                  },
                  "mode": "lines",
                  "name": "values",
                  "orientation": "v",
                  "showlegend": true,
                  "type": "scatter",
                  "x": [
                    "1949-01-31T00:00:00",
                    "1949-02-28T00:00:00",
                    "1949-03-31T00:00:00",
                    "1949-04-30T00:00:00",
                    "1949-05-31T00:00:00",
                    "1949-06-30T00:00:00",
                    "1949-07-31T00:00:00",
                    "1949-08-31T00:00:00",
                    "1949-09-30T00:00:00",
                    "1949-10-31T00:00:00",
                    "1949-11-30T00:00:00",
                    "1949-12-31T00:00:00",
                    "1950-01-31T00:00:00",
                    "1950-02-28T00:00:00",
                    "1950-03-31T00:00:00",
                    "1950-04-30T00:00:00",
                    "1950-05-31T00:00:00",
                    "1950-06-30T00:00:00",
                    "1950-07-31T00:00:00",
                    "1950-08-31T00:00:00",
                    "1950-09-30T00:00:00",
                    "1950-10-31T00:00:00",
                    "1950-11-30T00:00:00",
                    "1950-12-31T00:00:00",
                    "1951-01-31T00:00:00",
                    "1951-02-28T00:00:00",
                    "1951-03-31T00:00:00",
                    "1951-04-30T00:00:00",
                    "1951-05-31T00:00:00",
                    "1951-06-30T00:00:00",
                    "1951-07-31T00:00:00",
                    "1951-08-31T00:00:00",
                    "1951-09-30T00:00:00",
                    "1951-10-31T00:00:00",
                    "1951-11-30T00:00:00",
                    "1951-12-31T00:00:00",
                    "1952-01-31T00:00:00",
                    "1952-02-29T00:00:00",
                    "1952-03-31T00:00:00",
                    "1952-04-30T00:00:00",
                    "1952-05-31T00:00:00",
                    "1952-06-30T00:00:00",
                    "1952-07-31T00:00:00",
                    "1952-08-31T00:00:00",
                    "1952-09-30T00:00:00",
                    "1952-10-31T00:00:00",
                    "1952-11-30T00:00:00",
                    "1952-12-31T00:00:00",
                    "1953-01-31T00:00:00",
                    "1953-02-28T00:00:00",
                    "1953-03-31T00:00:00",
                    "1953-04-30T00:00:00",
                    "1953-05-31T00:00:00",
                    "1953-06-30T00:00:00",
                    "1953-07-31T00:00:00",
                    "1953-08-31T00:00:00",
                    "1953-09-30T00:00:00",
                    "1953-10-31T00:00:00",
                    "1953-11-30T00:00:00",
                    "1953-12-31T00:00:00",
                    "1954-01-31T00:00:00",
                    "1954-02-28T00:00:00",
                    "1954-03-31T00:00:00",
                    "1954-04-30T00:00:00",
                    "1954-05-31T00:00:00",
                    "1954-06-30T00:00:00",
                    "1954-07-31T00:00:00",
                    "1954-08-31T00:00:00",
                    "1954-09-30T00:00:00",
                    "1954-10-31T00:00:00",
                    "1954-11-30T00:00:00",
                    "1954-12-31T00:00:00",
                    "1955-01-31T00:00:00",
                    "1955-02-28T00:00:00",
                    "1955-03-31T00:00:00",
                    "1955-04-30T00:00:00",
                    "1955-05-31T00:00:00",
                    "1955-06-30T00:00:00",
                    "1955-07-31T00:00:00",
                    "1955-08-31T00:00:00",
                    "1955-09-30T00:00:00",
                    "1955-10-31T00:00:00",
                    "1955-11-30T00:00:00",
                    "1955-12-31T00:00:00",
                    "1956-01-31T00:00:00",
                    "1956-02-29T00:00:00",
                    "1956-03-31T00:00:00",
                    "1956-04-30T00:00:00",
                    "1956-05-31T00:00:00",
                    "1956-06-30T00:00:00",
                    "1956-07-31T00:00:00",
                    "1956-08-31T00:00:00",
                    "1956-09-30T00:00:00",
                    "1956-10-31T00:00:00",
                    "1956-11-30T00:00:00",
                    "1956-12-31T00:00:00",
                    "1957-01-31T00:00:00",
                    "1957-02-28T00:00:00",
                    "1957-03-31T00:00:00",
                    "1957-04-30T00:00:00",
                    "1957-05-31T00:00:00",
                    "1957-06-30T00:00:00",
                    "1957-07-31T00:00:00",
                    "1957-08-31T00:00:00",
                    "1957-09-30T00:00:00",
                    "1957-10-31T00:00:00",
                    "1957-11-30T00:00:00",
                    "1957-12-31T00:00:00",
                    "1958-01-31T00:00:00",
                    "1958-02-28T00:00:00",
                    "1958-03-31T00:00:00",
                    "1958-04-30T00:00:00",
                    "1958-05-31T00:00:00",
                    "1958-06-30T00:00:00",
                    "1958-07-31T00:00:00",
                    "1958-08-31T00:00:00",
                    "1958-09-30T00:00:00",
                    "1958-10-31T00:00:00",
                    "1958-11-30T00:00:00",
                    "1958-12-31T00:00:00",
                    "1959-01-31T00:00:00",
                    "1959-02-28T00:00:00",
                    "1959-03-31T00:00:00",
                    "1959-04-30T00:00:00",
                    "1959-05-31T00:00:00",
                    "1959-06-30T00:00:00",
                    "1959-07-31T00:00:00",
                    "1959-08-31T00:00:00",
                    "1959-09-30T00:00:00",
                    "1959-10-31T00:00:00",
                    "1959-11-30T00:00:00",
                    "1959-12-31T00:00:00",
                    "1960-01-31T00:00:00",
                    "1960-02-29T00:00:00",
                    "1960-03-31T00:00:00",
                    "1960-04-30T00:00:00",
                    "1960-05-31T00:00:00",
                    "1960-06-30T00:00:00",
                    "1960-07-31T00:00:00",
                    "1960-08-31T00:00:00",
                    "1960-09-30T00:00:00",
                    "1960-10-31T00:00:00",
                    "1960-11-30T00:00:00",
                    "1960-12-31T00:00:00",
                    "1961-01-31T00:00:00",
                    "1961-02-28T00:00:00",
                    "1961-03-31T00:00:00",
                    "1961-04-30T00:00:00",
                    "1961-05-31T00:00:00",
                    "1961-06-30T00:00:00",
                    "1961-07-31T00:00:00",
                    "1961-08-31T00:00:00",
                    "1961-09-30T00:00:00",
                    "1961-10-31T00:00:00",
                    "1961-11-30T00:00:00",
                    "1961-12-31T00:00:00",
                    "1962-01-31T00:00:00",
                    "1962-02-28T00:00:00",
                    "1962-03-31T00:00:00",
                    "1962-04-30T00:00:00",
                    "1962-05-31T00:00:00",
                    "1962-06-30T00:00:00",
                    "1962-07-31T00:00:00",
                    "1962-08-31T00:00:00",
                    "1962-09-30T00:00:00",
                    "1962-10-31T00:00:00",
                    "1962-11-30T00:00:00",
                    "1962-12-31T00:00:00",
                    "1963-01-31T00:00:00",
                    "1963-02-28T00:00:00",
                    "1963-03-31T00:00:00",
                    "1963-04-30T00:00:00",
                    "1963-05-31T00:00:00",
                    "1963-06-30T00:00:00",
                    "1963-07-31T00:00:00",
                    "1963-08-31T00:00:00",
                    "1963-09-30T00:00:00",
                    "1963-10-31T00:00:00",
                    "1963-11-30T00:00:00",
                    "1963-12-31T00:00:00",
                    "1964-01-31T00:00:00",
                    "1964-02-29T00:00:00",
                    "1964-03-31T00:00:00",
                    "1964-04-30T00:00:00",
                    "1964-05-31T00:00:00",
                    "1964-06-30T00:00:00",
                    "1964-07-31T00:00:00",
                    "1964-08-31T00:00:00",
                    "1964-09-30T00:00:00",
                    "1964-10-31T00:00:00",
                    "1964-11-30T00:00:00",
                    "1964-12-31T00:00:00"
                  ],
                  "xaxis": "x",
                  "y": [
                    112,
                    118,
                    132,
                    129,
                    121,
                    135,
                    148,
                    148,
                    136,
                    119,
                    104,
                    118,
                    115,
                    126,
                    141,
                    135,
                    125,
                    149,
                    170,
                    170,
                    158,
                    133,
                    114,
                    140,
                    145,
                    150,
                    178,
                    163,
                    172,
                    178,
                    199,
                    199,
                    184,
                    162,
                    146,
                    166,
                    171,
                    180,
                    193,
                    181,
                    183,
                    218,
                    230,
                    242,
                    209,
                    191,
                    172,
                    194,
                    196,
                    196,
                    236,
                    235,
                    229,
                    243,
                    264,
                    272,
                    237,
                    211,
                    180,
                    201,
                    204,
                    188,
                    235,
                    227,
                    234,
                    264,
                    302,
                    293,
                    259,
                    229,
                    203,
                    229,
                    242,
                    233,
                    267,
                    269,
                    270,
                    315,
                    364,
                    347,
                    312,
                    274,
                    237,
                    278,
                    284,
                    277,
                    317,
                    313,
                    318,
                    374,
                    413,
                    405,
                    355,
                    306,
                    271,
                    306,
                    315,
                    301,
                    356,
                    348,
                    355,
                    422,
                    465,
                    467,
                    404,
                    347,
                    305,
                    336,
                    340,
                    318,
                    362,
                    348,
                    363,
                    435,
                    491,
                    505,
                    404,
                    359,
                    310,
                    337,
                    360,
                    342,
                    406,
                    396,
                    420,
                    472,
                    548,
                    559,
                    463,
                    407,
                    362,
                    405,
                    417,
                    391,
                    419,
                    461,
                    472,
                    535,
                    622,
                    606,
                    508,
                    461,
                    390,
                    432,
                    null,
                    null,
                    null,
                    null,
                    null,
                    null,
                    null,
                    null,
                    null,
                    null,
                    null,
                    null,
                    null,
                    null,
                    null,
                    null,
                    null,
                    null,
                    null,
                    null,
                    null,
                    null,
                    null,
                    null,
                    null,
                    null,
                    null,
                    null,
                    null,
                    null,
                    null,
                    null,
                    null,
                    null,
                    null,
                    null,
                    null,
                    null,
                    null,
                    null,
                    null,
                    null,
                    null,
                    null,
                    null,
                    null,
                    null,
                    null
                  ],
                  "yaxis": "y"
                },
                {
                  "hovertemplate": "variable=prophet_additive<br>index=%{x}<br>value=%{y}<extra></extra>",
                  "legendgroup": "prophet_additive",
                  "line": {
                    "color": "#EF553B",
                    "dash": "solid"
                  },
                  "marker": {
                    "symbol": "circle"
                  },
                  "mode": "lines",
                  "name": "prophet_additive",
                  "orientation": "v",
                  "showlegend": true,
                  "type": "scatter",
                  "x": [
                    "1949-01-31T00:00:00",
                    "1949-02-28T00:00:00",
                    "1949-03-31T00:00:00",
                    "1949-04-30T00:00:00",
                    "1949-05-31T00:00:00",
                    "1949-06-30T00:00:00",
                    "1949-07-31T00:00:00",
                    "1949-08-31T00:00:00",
                    "1949-09-30T00:00:00",
                    "1949-10-31T00:00:00",
                    "1949-11-30T00:00:00",
                    "1949-12-31T00:00:00",
                    "1950-01-31T00:00:00",
                    "1950-02-28T00:00:00",
                    "1950-03-31T00:00:00",
                    "1950-04-30T00:00:00",
                    "1950-05-31T00:00:00",
                    "1950-06-30T00:00:00",
                    "1950-07-31T00:00:00",
                    "1950-08-31T00:00:00",
                    "1950-09-30T00:00:00",
                    "1950-10-31T00:00:00",
                    "1950-11-30T00:00:00",
                    "1950-12-31T00:00:00",
                    "1951-01-31T00:00:00",
                    "1951-02-28T00:00:00",
                    "1951-03-31T00:00:00",
                    "1951-04-30T00:00:00",
                    "1951-05-31T00:00:00",
                    "1951-06-30T00:00:00",
                    "1951-07-31T00:00:00",
                    "1951-08-31T00:00:00",
                    "1951-09-30T00:00:00",
                    "1951-10-31T00:00:00",
                    "1951-11-30T00:00:00",
                    "1951-12-31T00:00:00",
                    "1952-01-31T00:00:00",
                    "1952-02-29T00:00:00",
                    "1952-03-31T00:00:00",
                    "1952-04-30T00:00:00",
                    "1952-05-31T00:00:00",
                    "1952-06-30T00:00:00",
                    "1952-07-31T00:00:00",
                    "1952-08-31T00:00:00",
                    "1952-09-30T00:00:00",
                    "1952-10-31T00:00:00",
                    "1952-11-30T00:00:00",
                    "1952-12-31T00:00:00",
                    "1953-01-31T00:00:00",
                    "1953-02-28T00:00:00",
                    "1953-03-31T00:00:00",
                    "1953-04-30T00:00:00",
                    "1953-05-31T00:00:00",
                    "1953-06-30T00:00:00",
                    "1953-07-31T00:00:00",
                    "1953-08-31T00:00:00",
                    "1953-09-30T00:00:00",
                    "1953-10-31T00:00:00",
                    "1953-11-30T00:00:00",
                    "1953-12-31T00:00:00",
                    "1954-01-31T00:00:00",
                    "1954-02-28T00:00:00",
                    "1954-03-31T00:00:00",
                    "1954-04-30T00:00:00",
                    "1954-05-31T00:00:00",
                    "1954-06-30T00:00:00",
                    "1954-07-31T00:00:00",
                    "1954-08-31T00:00:00",
                    "1954-09-30T00:00:00",
                    "1954-10-31T00:00:00",
                    "1954-11-30T00:00:00",
                    "1954-12-31T00:00:00",
                    "1955-01-31T00:00:00",
                    "1955-02-28T00:00:00",
                    "1955-03-31T00:00:00",
                    "1955-04-30T00:00:00",
                    "1955-05-31T00:00:00",
                    "1955-06-30T00:00:00",
                    "1955-07-31T00:00:00",
                    "1955-08-31T00:00:00",
                    "1955-09-30T00:00:00",
                    "1955-10-31T00:00:00",
                    "1955-11-30T00:00:00",
                    "1955-12-31T00:00:00",
                    "1956-01-31T00:00:00",
                    "1956-02-29T00:00:00",
                    "1956-03-31T00:00:00",
                    "1956-04-30T00:00:00",
                    "1956-05-31T00:00:00",
                    "1956-06-30T00:00:00",
                    "1956-07-31T00:00:00",
                    "1956-08-31T00:00:00",
                    "1956-09-30T00:00:00",
                    "1956-10-31T00:00:00",
                    "1956-11-30T00:00:00",
                    "1956-12-31T00:00:00",
                    "1957-01-31T00:00:00",
                    "1957-02-28T00:00:00",
                    "1957-03-31T00:00:00",
                    "1957-04-30T00:00:00",
                    "1957-05-31T00:00:00",
                    "1957-06-30T00:00:00",
                    "1957-07-31T00:00:00",
                    "1957-08-31T00:00:00",
                    "1957-09-30T00:00:00",
                    "1957-10-31T00:00:00",
                    "1957-11-30T00:00:00",
                    "1957-12-31T00:00:00",
                    "1958-01-31T00:00:00",
                    "1958-02-28T00:00:00",
                    "1958-03-31T00:00:00",
                    "1958-04-30T00:00:00",
                    "1958-05-31T00:00:00",
                    "1958-06-30T00:00:00",
                    "1958-07-31T00:00:00",
                    "1958-08-31T00:00:00",
                    "1958-09-30T00:00:00",
                    "1958-10-31T00:00:00",
                    "1958-11-30T00:00:00",
                    "1958-12-31T00:00:00",
                    "1959-01-31T00:00:00",
                    "1959-02-28T00:00:00",
                    "1959-03-31T00:00:00",
                    "1959-04-30T00:00:00",
                    "1959-05-31T00:00:00",
                    "1959-06-30T00:00:00",
                    "1959-07-31T00:00:00",
                    "1959-08-31T00:00:00",
                    "1959-09-30T00:00:00",
                    "1959-10-31T00:00:00",
                    "1959-11-30T00:00:00",
                    "1959-12-31T00:00:00",
                    "1960-01-31T00:00:00",
                    "1960-02-29T00:00:00",
                    "1960-03-31T00:00:00",
                    "1960-04-30T00:00:00",
                    "1960-05-31T00:00:00",
                    "1960-06-30T00:00:00",
                    "1960-07-31T00:00:00",
                    "1960-08-31T00:00:00",
                    "1960-09-30T00:00:00",
                    "1960-10-31T00:00:00",
                    "1960-11-30T00:00:00",
                    "1960-12-31T00:00:00",
                    "1961-01-31T00:00:00",
                    "1961-02-28T00:00:00",
                    "1961-03-31T00:00:00",
                    "1961-04-30T00:00:00",
                    "1961-05-31T00:00:00",
                    "1961-06-30T00:00:00",
                    "1961-07-31T00:00:00",
                    "1961-08-31T00:00:00",
                    "1961-09-30T00:00:00",
                    "1961-10-31T00:00:00",
                    "1961-11-30T00:00:00",
                    "1961-12-31T00:00:00",
                    "1962-01-31T00:00:00",
                    "1962-02-28T00:00:00",
                    "1962-03-31T00:00:00",
                    "1962-04-30T00:00:00",
                    "1962-05-31T00:00:00",
                    "1962-06-30T00:00:00",
                    "1962-07-31T00:00:00",
                    "1962-08-31T00:00:00",
                    "1962-09-30T00:00:00",
                    "1962-10-31T00:00:00",
                    "1962-11-30T00:00:00",
                    "1962-12-31T00:00:00",
                    "1963-01-31T00:00:00",
                    "1963-02-28T00:00:00",
                    "1963-03-31T00:00:00",
                    "1963-04-30T00:00:00",
                    "1963-05-31T00:00:00",
                    "1963-06-30T00:00:00",
                    "1963-07-31T00:00:00",
                    "1963-08-31T00:00:00",
                    "1963-09-30T00:00:00",
                    "1963-10-31T00:00:00",
                    "1963-11-30T00:00:00",
                    "1963-12-31T00:00:00",
                    "1964-01-31T00:00:00",
                    "1964-02-29T00:00:00",
                    "1964-03-31T00:00:00",
                    "1964-04-30T00:00:00",
                    "1964-05-31T00:00:00",
                    "1964-06-30T00:00:00",
                    "1964-07-31T00:00:00",
                    "1964-08-31T00:00:00",
                    "1964-09-30T00:00:00",
                    "1964-10-31T00:00:00",
                    "1964-11-30T00:00:00",
                    "1964-12-31T00:00:00"
                  ],
                  "xaxis": "x",
                  "y": [
                    null,
                    null,
                    null,
                    null,
                    null,
                    null,
                    null,
                    null,
                    null,
                    null,
                    null,
                    null,
                    null,
                    null,
                    null,
                    null,
                    null,
                    null,
                    null,
                    null,
                    null,
                    null,
                    null,
                    null,
                    null,
                    null,
                    null,
                    null,
                    null,
                    null,
                    null,
                    null,
                    null,
                    null,
                    null,
                    null,
                    null,
                    null,
                    null,
                    null,
                    null,
                    null,
                    null,
                    null,
                    null,
                    null,
                    null,
                    null,
                    null,
                    null,
                    null,
                    null,
                    null,
                    null,
                    null,
                    null,
                    null,
                    null,
                    null,
                    null,
                    null,
                    null,
                    null,
                    null,
                    null,
                    null,
                    null,
                    null,
                    null,
                    null,
                    null,
                    null,
                    null,
                    null,
                    null,
                    null,
                    null,
                    null,
                    null,
                    null,
                    null,
                    null,
                    null,
                    null,
                    null,
                    null,
                    null,
                    null,
                    null,
                    null,
                    null,
                    null,
                    null,
                    null,
                    null,
                    null,
                    null,
                    null,
                    null,
                    null,
                    null,
                    null,
                    null,
                    null,
                    null,
                    null,
                    null,
                    null,
                    null,
                    null,
                    null,
                    null,
                    null,
                    null,
                    null,
                    null,
                    null,
                    null,
                    null,
                    null,
                    null,
                    null,
                    null,
                    null,
                    null,
                    null,
                    null,
                    null,
                    null,
                    null,
                    null,
                    null,
                    null,
                    null,
                    null,
                    null,
                    null,
                    null,
                    null,
                    null,
                    null,
                    null,
                    null,
                    null,
                    465.12206628382614,
                    458.5206066544798,
                    493.0848234648106,
                    491.4555584287164,
                    495.8232257492433,
                    536.773663870138,
                    576.515548284208,
                    576.856574061784,
                    528.3490230768712,
                    493.15839100590244,
                    459.3337426233695,
                    488.59896490181734,
                    501.34103845775013,
                    494.1063200055471,
                    530.8413322927636,
                    527.2630203143996,
                    533.3255792791168,
                    572.9464875401001,
                    613.3523908831962,
                    613.3637928374283,
                    565.3570097616371,
                    529.6405173489097,
                    496.69240286873156,
                    526.2615057715569,
                    537.5257419519169,
                    529.7186462625285,
                    568.6007822855314,
                    563.0753057499954,
                    570.8403104655092,
                    609.1091160860241,
                    650.1760869710312,
                    649.8579770083975,
                    602.3704609834488,
                    566.1373465294182,
                    534.0785432091566,
                    563.901525854233,
                    573.6767639055009,
                    569.9199947890246,
                    602.2916559546526,
                    602.6119611380894,
                    605.293722653084,
                    647.5503593145411,
                    686.6253246127047,
                    687.2953697831683,
                    638.3056708977767,
                    603.6500254730006,
                    568.9630942304344,
                    597.8748588971961
                  ],
                  "yaxis": "y"
                },
                {
                  "hovertemplate": "variable=prophet_multiplicative<br>index=%{x}<br>value=%{y}<extra></extra>",
                  "legendgroup": "prophet_multiplicative",
                  "line": {
                    "color": "#00cc96",
                    "dash": "solid"
                  },
                  "marker": {
                    "symbol": "circle"
                  },
                  "mode": "lines",
                  "name": "prophet_multiplicative",
                  "orientation": "v",
                  "showlegend": true,
                  "type": "scatter",
                  "x": [
                    "1949-01-31T00:00:00",
                    "1949-02-28T00:00:00",
                    "1949-03-31T00:00:00",
                    "1949-04-30T00:00:00",
                    "1949-05-31T00:00:00",
                    "1949-06-30T00:00:00",
                    "1949-07-31T00:00:00",
                    "1949-08-31T00:00:00",
                    "1949-09-30T00:00:00",
                    "1949-10-31T00:00:00",
                    "1949-11-30T00:00:00",
                    "1949-12-31T00:00:00",
                    "1950-01-31T00:00:00",
                    "1950-02-28T00:00:00",
                    "1950-03-31T00:00:00",
                    "1950-04-30T00:00:00",
                    "1950-05-31T00:00:00",
                    "1950-06-30T00:00:00",
                    "1950-07-31T00:00:00",
                    "1950-08-31T00:00:00",
                    "1950-09-30T00:00:00",
                    "1950-10-31T00:00:00",
                    "1950-11-30T00:00:00",
                    "1950-12-31T00:00:00",
                    "1951-01-31T00:00:00",
                    "1951-02-28T00:00:00",
                    "1951-03-31T00:00:00",
                    "1951-04-30T00:00:00",
                    "1951-05-31T00:00:00",
                    "1951-06-30T00:00:00",
                    "1951-07-31T00:00:00",
                    "1951-08-31T00:00:00",
                    "1951-09-30T00:00:00",
                    "1951-10-31T00:00:00",
                    "1951-11-30T00:00:00",
                    "1951-12-31T00:00:00",
                    "1952-01-31T00:00:00",
                    "1952-02-29T00:00:00",
                    "1952-03-31T00:00:00",
                    "1952-04-30T00:00:00",
                    "1952-05-31T00:00:00",
                    "1952-06-30T00:00:00",
                    "1952-07-31T00:00:00",
                    "1952-08-31T00:00:00",
                    "1952-09-30T00:00:00",
                    "1952-10-31T00:00:00",
                    "1952-11-30T00:00:00",
                    "1952-12-31T00:00:00",
                    "1953-01-31T00:00:00",
                    "1953-02-28T00:00:00",
                    "1953-03-31T00:00:00",
                    "1953-04-30T00:00:00",
                    "1953-05-31T00:00:00",
                    "1953-06-30T00:00:00",
                    "1953-07-31T00:00:00",
                    "1953-08-31T00:00:00",
                    "1953-09-30T00:00:00",
                    "1953-10-31T00:00:00",
                    "1953-11-30T00:00:00",
                    "1953-12-31T00:00:00",
                    "1954-01-31T00:00:00",
                    "1954-02-28T00:00:00",
                    "1954-03-31T00:00:00",
                    "1954-04-30T00:00:00",
                    "1954-05-31T00:00:00",
                    "1954-06-30T00:00:00",
                    "1954-07-31T00:00:00",
                    "1954-08-31T00:00:00",
                    "1954-09-30T00:00:00",
                    "1954-10-31T00:00:00",
                    "1954-11-30T00:00:00",
                    "1954-12-31T00:00:00",
                    "1955-01-31T00:00:00",
                    "1955-02-28T00:00:00",
                    "1955-03-31T00:00:00",
                    "1955-04-30T00:00:00",
                    "1955-05-31T00:00:00",
                    "1955-06-30T00:00:00",
                    "1955-07-31T00:00:00",
                    "1955-08-31T00:00:00",
                    "1955-09-30T00:00:00",
                    "1955-10-31T00:00:00",
                    "1955-11-30T00:00:00",
                    "1955-12-31T00:00:00",
                    "1956-01-31T00:00:00",
                    "1956-02-29T00:00:00",
                    "1956-03-31T00:00:00",
                    "1956-04-30T00:00:00",
                    "1956-05-31T00:00:00",
                    "1956-06-30T00:00:00",
                    "1956-07-31T00:00:00",
                    "1956-08-31T00:00:00",
                    "1956-09-30T00:00:00",
                    "1956-10-31T00:00:00",
                    "1956-11-30T00:00:00",
                    "1956-12-31T00:00:00",
                    "1957-01-31T00:00:00",
                    "1957-02-28T00:00:00",
                    "1957-03-31T00:00:00",
                    "1957-04-30T00:00:00",
                    "1957-05-31T00:00:00",
                    "1957-06-30T00:00:00",
                    "1957-07-31T00:00:00",
                    "1957-08-31T00:00:00",
                    "1957-09-30T00:00:00",
                    "1957-10-31T00:00:00",
                    "1957-11-30T00:00:00",
                    "1957-12-31T00:00:00",
                    "1958-01-31T00:00:00",
                    "1958-02-28T00:00:00",
                    "1958-03-31T00:00:00",
                    "1958-04-30T00:00:00",
                    "1958-05-31T00:00:00",
                    "1958-06-30T00:00:00",
                    "1958-07-31T00:00:00",
                    "1958-08-31T00:00:00",
                    "1958-09-30T00:00:00",
                    "1958-10-31T00:00:00",
                    "1958-11-30T00:00:00",
                    "1958-12-31T00:00:00",
                    "1959-01-31T00:00:00",
                    "1959-02-28T00:00:00",
                    "1959-03-31T00:00:00",
                    "1959-04-30T00:00:00",
                    "1959-05-31T00:00:00",
                    "1959-06-30T00:00:00",
                    "1959-07-31T00:00:00",
                    "1959-08-31T00:00:00",
                    "1959-09-30T00:00:00",
                    "1959-10-31T00:00:00",
                    "1959-11-30T00:00:00",
                    "1959-12-31T00:00:00",
                    "1960-01-31T00:00:00",
                    "1960-02-29T00:00:00",
                    "1960-03-31T00:00:00",
                    "1960-04-30T00:00:00",
                    "1960-05-31T00:00:00",
                    "1960-06-30T00:00:00",
                    "1960-07-31T00:00:00",
                    "1960-08-31T00:00:00",
                    "1960-09-30T00:00:00",
                    "1960-10-31T00:00:00",
                    "1960-11-30T00:00:00",
                    "1960-12-31T00:00:00",
                    "1961-01-31T00:00:00",
                    "1961-02-28T00:00:00",
                    "1961-03-31T00:00:00",
                    "1961-04-30T00:00:00",
                    "1961-05-31T00:00:00",
                    "1961-06-30T00:00:00",
                    "1961-07-31T00:00:00",
                    "1961-08-31T00:00:00",
                    "1961-09-30T00:00:00",
                    "1961-10-31T00:00:00",
                    "1961-11-30T00:00:00",
                    "1961-12-31T00:00:00",
                    "1962-01-31T00:00:00",
                    "1962-02-28T00:00:00",
                    "1962-03-31T00:00:00",
                    "1962-04-30T00:00:00",
                    "1962-05-31T00:00:00",
                    "1962-06-30T00:00:00",
                    "1962-07-31T00:00:00",
                    "1962-08-31T00:00:00",
                    "1962-09-30T00:00:00",
                    "1962-10-31T00:00:00",
                    "1962-11-30T00:00:00",
                    "1962-12-31T00:00:00",
                    "1963-01-31T00:00:00",
                    "1963-02-28T00:00:00",
                    "1963-03-31T00:00:00",
                    "1963-04-30T00:00:00",
                    "1963-05-31T00:00:00",
                    "1963-06-30T00:00:00",
                    "1963-07-31T00:00:00",
                    "1963-08-31T00:00:00",
                    "1963-09-30T00:00:00",
                    "1963-10-31T00:00:00",
                    "1963-11-30T00:00:00",
                    "1963-12-31T00:00:00",
                    "1964-01-31T00:00:00",
                    "1964-02-29T00:00:00",
                    "1964-03-31T00:00:00",
                    "1964-04-30T00:00:00",
                    "1964-05-31T00:00:00",
                    "1964-06-30T00:00:00",
                    "1964-07-31T00:00:00",
                    "1964-08-31T00:00:00",
                    "1964-09-30T00:00:00",
                    "1964-10-31T00:00:00",
                    "1964-11-30T00:00:00",
                    "1964-12-31T00:00:00"
                  ],
                  "xaxis": "x",
                  "y": [
                    null,
                    null,
                    null,
                    null,
                    null,
                    null,
                    null,
                    null,
                    null,
                    null,
                    null,
                    null,
                    null,
                    null,
                    null,
                    null,
                    null,
                    null,
                    null,
                    null,
                    null,
                    null,
                    null,
                    null,
                    null,
                    null,
                    null,
                    null,
                    null,
                    null,
                    null,
                    null,
                    null,
                    null,
                    null,
                    null,
                    null,
                    null,
                    null,
                    null,
                    null,
                    null,
                    null,
                    null,
                    null,
                    null,
                    null,
                    null,
                    null,
                    null,
                    null,
                    null,
                    null,
                    null,
                    null,
                    null,
                    null,
                    null,
                    null,
                    null,
                    null,
                    null,
                    null,
                    null,
                    null,
                    null,
                    null,
                    null,
                    null,
                    null,
                    null,
                    null,
                    null,
                    null,
                    null,
                    null,
                    null,
                    null,
                    null,
                    null,
                    null,
                    null,
                    null,
                    null,
                    null,
                    null,
                    null,
                    null,
                    null,
                    null,
                    null,
                    null,
                    null,
                    null,
                    null,
                    null,
                    null,
                    null,
                    null,
                    null,
                    null,
                    null,
                    null,
                    null,
                    null,
                    null,
                    null,
                    null,
                    null,
                    null,
                    null,
                    null,
                    null,
                    null,
                    null,
                    null,
                    null,
                    null,
                    null,
                    null,
                    null,
                    null,
                    null,
                    null,
                    null,
                    null,
                    null,
                    null,
                    null,
                    null,
                    null,
                    null,
                    null,
                    null,
                    null,
                    null,
                    null,
                    null,
                    null,
                    null,
                    null,
                    null,
                    null,
                    null,
                    447.5105617836877,
                    433.8501092934278,
                    491.42488980099677,
                    494.29115615594696,
                    503.45947664768164,
                    579.2002761131092,
                    653.8644717023567,
                    650.0877753283967,
                    553.319691981569,
                    489.0577301932627,
                    424.2995420234405,
                    473.1562227497851,
                    487.68742710185654,
                    465.49689541303445,
                    539.5903185005507,
                    530.6943939255716,
                    545.792686212218,
                    624.2423483306395,
                    707.556887600337,
                    706.2944084298433,
                    599.1455562279501,
                    525.3351154223506,
                    457.81895999309944,
                    511.7104816588394,
                    528.1303364649307,
                    496.4377540942286,
                    588.8113369785758,
                    566.2850491414519,
                    588.2611008822668,
                    668.9216681571961,
                    761.3616222770637,
                    763.004939063291,
                    645.0659625696521,
                    561.165200321436,
                    491.40135842731155,
                    550.4716207882112,
                    568.8236393596114,
                    549.873616733791,
                    607.278301225574,
                    623.471236689033,
                    627.8663431781398,
                    725.1816430313277,
                    813.878387143603,
                    804.3223003413877,
                    685.5960100473538,
                    609.7705479409609,
                    525.8845486024056,
                    583.9708364979917
                  ],
                  "yaxis": "y"
                }
              ],
              "layout": {
                "legend": {
                  "title": {
                    "text": "variable"
                  },
                  "tracegroupgap": 0
                },
                "margin": {
                  "t": 60
                },
                "template": {
                  "data": {
                    "bar": [
                      {
                        "error_x": {
                          "color": "#f2f5fa"
                        },
                        "error_y": {
                          "color": "#f2f5fa"
                        },
                        "marker": {
                          "line": {
                            "color": "rgb(17,17,17)",
                            "width": 0.5
                          },
                          "pattern": {
                            "fillmode": "overlay",
                            "size": 10,
                            "solidity": 0.2
                          }
                        },
                        "type": "bar"
                      }
                    ],
                    "barpolar": [
                      {
                        "marker": {
                          "line": {
                            "color": "rgb(17,17,17)",
                            "width": 0.5
                          },
                          "pattern": {
                            "fillmode": "overlay",
                            "size": 10,
                            "solidity": 0.2
                          }
                        },
                        "type": "barpolar"
                      }
                    ],
                    "carpet": [
                      {
                        "aaxis": {
                          "endlinecolor": "#A2B1C6",
                          "gridcolor": "#506784",
                          "linecolor": "#506784",
                          "minorgridcolor": "#506784",
                          "startlinecolor": "#A2B1C6"
                        },
                        "baxis": {
                          "endlinecolor": "#A2B1C6",
                          "gridcolor": "#506784",
                          "linecolor": "#506784",
                          "minorgridcolor": "#506784",
                          "startlinecolor": "#A2B1C6"
                        },
                        "type": "carpet"
                      }
                    ],
                    "choropleth": [
                      {
                        "colorbar": {
                          "outlinewidth": 0,
                          "ticks": ""
                        },
                        "type": "choropleth"
                      }
                    ],
                    "contour": [
                      {
                        "colorbar": {
                          "outlinewidth": 0,
                          "ticks": ""
                        },
                        "colorscale": [
                          [
                            0,
                            "#0d0887"
                          ],
                          [
                            0.1111111111111111,
                            "#46039f"
                          ],
                          [
                            0.2222222222222222,
                            "#7201a8"
                          ],
                          [
                            0.3333333333333333,
                            "#9c179e"
                          ],
                          [
                            0.4444444444444444,
                            "#bd3786"
                          ],
                          [
                            0.5555555555555556,
                            "#d8576b"
                          ],
                          [
                            0.6666666666666666,
                            "#ed7953"
                          ],
                          [
                            0.7777777777777778,
                            "#fb9f3a"
                          ],
                          [
                            0.8888888888888888,
                            "#fdca26"
                          ],
                          [
                            1,
                            "#f0f921"
                          ]
                        ],
                        "type": "contour"
                      }
                    ],
                    "contourcarpet": [
                      {
                        "colorbar": {
                          "outlinewidth": 0,
                          "ticks": ""
                        },
                        "type": "contourcarpet"
                      }
                    ],
                    "heatmap": [
                      {
                        "colorbar": {
                          "outlinewidth": 0,
                          "ticks": ""
                        },
                        "colorscale": [
                          [
                            0,
                            "#0d0887"
                          ],
                          [
                            0.1111111111111111,
                            "#46039f"
                          ],
                          [
                            0.2222222222222222,
                            "#7201a8"
                          ],
                          [
                            0.3333333333333333,
                            "#9c179e"
                          ],
                          [
                            0.4444444444444444,
                            "#bd3786"
                          ],
                          [
                            0.5555555555555556,
                            "#d8576b"
                          ],
                          [
                            0.6666666666666666,
                            "#ed7953"
                          ],
                          [
                            0.7777777777777778,
                            "#fb9f3a"
                          ],
                          [
                            0.8888888888888888,
                            "#fdca26"
                          ],
                          [
                            1,
                            "#f0f921"
                          ]
                        ],
                        "type": "heatmap"
                      }
                    ],
                    "heatmapgl": [
                      {
                        "colorbar": {
                          "outlinewidth": 0,
                          "ticks": ""
                        },
                        "colorscale": [
                          [
                            0,
                            "#0d0887"
                          ],
                          [
                            0.1111111111111111,
                            "#46039f"
                          ],
                          [
                            0.2222222222222222,
                            "#7201a8"
                          ],
                          [
                            0.3333333333333333,
                            "#9c179e"
                          ],
                          [
                            0.4444444444444444,
                            "#bd3786"
                          ],
                          [
                            0.5555555555555556,
                            "#d8576b"
                          ],
                          [
                            0.6666666666666666,
                            "#ed7953"
                          ],
                          [
                            0.7777777777777778,
                            "#fb9f3a"
                          ],
                          [
                            0.8888888888888888,
                            "#fdca26"
                          ],
                          [
                            1,
                            "#f0f921"
                          ]
                        ],
                        "type": "heatmapgl"
                      }
                    ],
                    "histogram": [
                      {
                        "marker": {
                          "pattern": {
                            "fillmode": "overlay",
                            "size": 10,
                            "solidity": 0.2
                          }
                        },
                        "type": "histogram"
                      }
                    ],
                    "histogram2d": [
                      {
                        "colorbar": {
                          "outlinewidth": 0,
                          "ticks": ""
                        },
                        "colorscale": [
                          [
                            0,
                            "#0d0887"
                          ],
                          [
                            0.1111111111111111,
                            "#46039f"
                          ],
                          [
                            0.2222222222222222,
                            "#7201a8"
                          ],
                          [
                            0.3333333333333333,
                            "#9c179e"
                          ],
                          [
                            0.4444444444444444,
                            "#bd3786"
                          ],
                          [
                            0.5555555555555556,
                            "#d8576b"
                          ],
                          [
                            0.6666666666666666,
                            "#ed7953"
                          ],
                          [
                            0.7777777777777778,
                            "#fb9f3a"
                          ],
                          [
                            0.8888888888888888,
                            "#fdca26"
                          ],
                          [
                            1,
                            "#f0f921"
                          ]
                        ],
                        "type": "histogram2d"
                      }
                    ],
                    "histogram2dcontour": [
                      {
                        "colorbar": {
                          "outlinewidth": 0,
                          "ticks": ""
                        },
                        "colorscale": [
                          [
                            0,
                            "#0d0887"
                          ],
                          [
                            0.1111111111111111,
                            "#46039f"
                          ],
                          [
                            0.2222222222222222,
                            "#7201a8"
                          ],
                          [
                            0.3333333333333333,
                            "#9c179e"
                          ],
                          [
                            0.4444444444444444,
                            "#bd3786"
                          ],
                          [
                            0.5555555555555556,
                            "#d8576b"
                          ],
                          [
                            0.6666666666666666,
                            "#ed7953"
                          ],
                          [
                            0.7777777777777778,
                            "#fb9f3a"
                          ],
                          [
                            0.8888888888888888,
                            "#fdca26"
                          ],
                          [
                            1,
                            "#f0f921"
                          ]
                        ],
                        "type": "histogram2dcontour"
                      }
                    ],
                    "mesh3d": [
                      {
                        "colorbar": {
                          "outlinewidth": 0,
                          "ticks": ""
                        },
                        "type": "mesh3d"
                      }
                    ],
                    "parcoords": [
                      {
                        "line": {
                          "colorbar": {
                            "outlinewidth": 0,
                            "ticks": ""
                          }
                        },
                        "type": "parcoords"
                      }
                    ],
                    "pie": [
                      {
                        "automargin": true,
                        "type": "pie"
                      }
                    ],
                    "scatter": [
                      {
                        "marker": {
                          "line": {
                            "color": "#283442"
                          }
                        },
                        "type": "scatter"
                      }
                    ],
                    "scatter3d": [
                      {
                        "line": {
                          "colorbar": {
                            "outlinewidth": 0,
                            "ticks": ""
                          }
                        },
                        "marker": {
                          "colorbar": {
                            "outlinewidth": 0,
                            "ticks": ""
                          }
                        },
                        "type": "scatter3d"
                      }
                    ],
                    "scattercarpet": [
                      {
                        "marker": {
                          "colorbar": {
                            "outlinewidth": 0,
                            "ticks": ""
                          }
                        },
                        "type": "scattercarpet"
                      }
                    ],
                    "scattergeo": [
                      {
                        "marker": {
                          "colorbar": {
                            "outlinewidth": 0,
                            "ticks": ""
                          }
                        },
                        "type": "scattergeo"
                      }
                    ],
                    "scattergl": [
                      {
                        "marker": {
                          "line": {
                            "color": "#283442"
                          }
                        },
                        "type": "scattergl"
                      }
                    ],
                    "scattermapbox": [
                      {
                        "marker": {
                          "colorbar": {
                            "outlinewidth": 0,
                            "ticks": ""
                          }
                        },
                        "type": "scattermapbox"
                      }
                    ],
                    "scatterpolar": [
                      {
                        "marker": {
                          "colorbar": {
                            "outlinewidth": 0,
                            "ticks": ""
                          }
                        },
                        "type": "scatterpolar"
                      }
                    ],
                    "scatterpolargl": [
                      {
                        "marker": {
                          "colorbar": {
                            "outlinewidth": 0,
                            "ticks": ""
                          }
                        },
                        "type": "scatterpolargl"
                      }
                    ],
                    "scatterternary": [
                      {
                        "marker": {
                          "colorbar": {
                            "outlinewidth": 0,
                            "ticks": ""
                          }
                        },
                        "type": "scatterternary"
                      }
                    ],
                    "surface": [
                      {
                        "colorbar": {
                          "outlinewidth": 0,
                          "ticks": ""
                        },
                        "colorscale": [
                          [
                            0,
                            "#0d0887"
                          ],
                          [
                            0.1111111111111111,
                            "#46039f"
                          ],
                          [
                            0.2222222222222222,
                            "#7201a8"
                          ],
                          [
                            0.3333333333333333,
                            "#9c179e"
                          ],
                          [
                            0.4444444444444444,
                            "#bd3786"
                          ],
                          [
                            0.5555555555555556,
                            "#d8576b"
                          ],
                          [
                            0.6666666666666666,
                            "#ed7953"
                          ],
                          [
                            0.7777777777777778,
                            "#fb9f3a"
                          ],
                          [
                            0.8888888888888888,
                            "#fdca26"
                          ],
                          [
                            1,
                            "#f0f921"
                          ]
                        ],
                        "type": "surface"
                      }
                    ],
                    "table": [
                      {
                        "cells": {
                          "fill": {
                            "color": "#506784"
                          },
                          "line": {
                            "color": "rgb(17,17,17)"
                          }
                        },
                        "header": {
                          "fill": {
                            "color": "#2a3f5f"
                          },
                          "line": {
                            "color": "rgb(17,17,17)"
                          }
                        },
                        "type": "table"
                      }
                    ]
                  },
                  "layout": {
                    "annotationdefaults": {
                      "arrowcolor": "#f2f5fa",
                      "arrowhead": 0,
                      "arrowwidth": 1
                    },
                    "autosize": false,
                    "autotypenumbers": "strict",
                    "coloraxis": {
                      "colorbar": {
                        "outlinewidth": 0,
                        "ticks": ""
                      }
                    },
                    "colorscale": {
                      "diverging": [
                        [
                          0,
                          "#8e0152"
                        ],
                        [
                          0.1,
                          "#c51b7d"
                        ],
                        [
                          0.2,
                          "#de77ae"
                        ],
                        [
                          0.3,
                          "#f1b6da"
                        ],
                        [
                          0.4,
                          "#fde0ef"
                        ],
                        [
                          0.5,
                          "#f7f7f7"
                        ],
                        [
                          0.6,
                          "#e6f5d0"
                        ],
                        [
                          0.7,
                          "#b8e186"
                        ],
                        [
                          0.8,
                          "#7fbc41"
                        ],
                        [
                          0.9,
                          "#4d9221"
                        ],
                        [
                          1,
                          "#276419"
                        ]
                      ],
                      "sequential": [
                        [
                          0,
                          "#0d0887"
                        ],
                        [
                          0.1111111111111111,
                          "#46039f"
                        ],
                        [
                          0.2222222222222222,
                          "#7201a8"
                        ],
                        [
                          0.3333333333333333,
                          "#9c179e"
                        ],
                        [
                          0.4444444444444444,
                          "#bd3786"
                        ],
                        [
                          0.5555555555555556,
                          "#d8576b"
                        ],
                        [
                          0.6666666666666666,
                          "#ed7953"
                        ],
                        [
                          0.7777777777777778,
                          "#fb9f3a"
                        ],
                        [
                          0.8888888888888888,
                          "#fdca26"
                        ],
                        [
                          1,
                          "#f0f921"
                        ]
                      ],
                      "sequentialminus": [
                        [
                          0,
                          "#0d0887"
                        ],
                        [
                          0.1111111111111111,
                          "#46039f"
                        ],
                        [
                          0.2222222222222222,
                          "#7201a8"
                        ],
                        [
                          0.3333333333333333,
                          "#9c179e"
                        ],
                        [
                          0.4444444444444444,
                          "#bd3786"
                        ],
                        [
                          0.5555555555555556,
                          "#d8576b"
                        ],
                        [
                          0.6666666666666666,
                          "#ed7953"
                        ],
                        [
                          0.7777777777777778,
                          "#fb9f3a"
                        ],
                        [
                          0.8888888888888888,
                          "#fdca26"
                        ],
                        [
                          1,
                          "#f0f921"
                        ]
                      ]
                    },
                    "colorway": [
                      "#636efa",
                      "#EF553B",
                      "#00cc96",
                      "#ab63fa",
                      "#FFA15A",
                      "#19d3f3",
                      "#FF6692",
                      "#B6E880",
                      "#FF97FF",
                      "#FECB52"
                    ],
                    "font": {
                      "color": "#f2f5fa"
                    },
                    "geo": {
                      "bgcolor": "rgb(17,17,17)",
                      "lakecolor": "rgb(17,17,17)",
                      "landcolor": "rgb(17,17,17)",
                      "showlakes": true,
                      "showland": true,
                      "subunitcolor": "#506784"
                    },
                    "height": 500,
                    "hoverlabel": {
                      "align": "left"
                    },
                    "hovermode": "closest",
                    "mapbox": {
                      "style": "dark"
                    },
                    "paper_bgcolor": "rgb(17,17,17)",
                    "plot_bgcolor": "rgb(17,17,17)",
                    "polar": {
                      "angularaxis": {
                        "gridcolor": "#506784",
                        "linecolor": "#506784",
                        "ticks": ""
                      },
                      "bgcolor": "rgb(17,17,17)",
                      "radialaxis": {
                        "gridcolor": "#506784",
                        "linecolor": "#506784",
                        "ticks": ""
                      }
                    },
                    "scene": {
                      "xaxis": {
                        "backgroundcolor": "rgb(17,17,17)",
                        "gridcolor": "#506784",
                        "gridwidth": 2,
                        "linecolor": "#506784",
                        "showbackground": true,
                        "ticks": "",
                        "zerolinecolor": "#C8D4E3"
                      },
                      "yaxis": {
                        "backgroundcolor": "rgb(17,17,17)",
                        "gridcolor": "#506784",
                        "gridwidth": 2,
                        "linecolor": "#506784",
                        "showbackground": true,
                        "ticks": "",
                        "zerolinecolor": "#C8D4E3"
                      },
                      "zaxis": {
                        "backgroundcolor": "rgb(17,17,17)",
                        "gridcolor": "#506784",
                        "gridwidth": 2,
                        "linecolor": "#506784",
                        "showbackground": true,
                        "ticks": "",
                        "zerolinecolor": "#C8D4E3"
                      }
                    },
                    "shapedefaults": {
                      "line": {
                        "color": "#f2f5fa"
                      }
                    },
                    "showlegend": true,
                    "sliderdefaults": {
                      "bgcolor": "#C8D4E3",
                      "bordercolor": "rgb(17,17,17)",
                      "borderwidth": 1,
                      "tickwidth": 0
                    },
                    "ternary": {
                      "aaxis": {
                        "gridcolor": "#506784",
                        "linecolor": "#506784",
                        "ticks": ""
                      },
                      "baxis": {
                        "gridcolor": "#506784",
                        "linecolor": "#506784",
                        "ticks": ""
                      },
                      "bgcolor": "rgb(17,17,17)",
                      "caxis": {
                        "gridcolor": "#506784",
                        "linecolor": "#506784",
                        "ticks": ""
                      }
                    },
                    "title": {
                      "x": 0.05
                    },
                    "updatemenudefaults": {
                      "bgcolor": "#506784",
                      "borderwidth": 0
                    },
                    "width": 1000,
                    "xaxis": {
                      "automargin": true,
                      "gridcolor": "#283442",
                      "linecolor": "#506784",
                      "ticks": "",
                      "title": {
                        "standoff": 15
                      },
                      "zerolinecolor": "#283442",
                      "zerolinewidth": 2
                    },
                    "yaxis": {
                      "automargin": true,
                      "gridcolor": "#283442",
                      "linecolor": "#506784",
                      "ticks": "",
                      "title": {
                        "standoff": 15
                      },
                      "zerolinecolor": "#283442",
                      "zerolinewidth": 2
                    }
                  }
                },
                "xaxis": {
                  "anchor": "y",
                  "domain": [
                    0,
                    1
                  ],
                  "title": {
                    "text": "index"
                  }
                },
                "yaxis": {
                  "anchor": "x",
                  "domain": [
                    0,
                    1
                  ],
                  "title": {
                    "text": "value"
                  }
                }
              }
            }
          },
          "metadata": {},
          "output_type": "display_data"
        }
      ],
      "source": [
        "df.plot()"
      ]
    },
    {
      "cell_type": "markdown",
      "id": "5909d0bc",
      "metadata": {},
      "source": [
        "### SARIMA vs Exponential Smoothing vs Prophet"
      ]
    },
    {
      "cell_type": "code",
      "execution_count": 22,
      "id": "7e9a0c81",
      "metadata": {},
      "outputs": [
        {
          "name": "stderr",
          "output_type": "stream",
          "text": [
            "/Users/sota/miniforge3/envs/work/lib/python3.13/site-packages/statsmodels/base/model.py:607: ConvergenceWarning:\n",
            "\n",
            "Maximum Likelihood optimization failed to converge. Check mle_retvals\n",
            "\n",
            "11:44:03 - cmdstanpy - INFO - Chain [1] start processing\n",
            "11:44:03 - cmdstanpy - INFO - Chain [1] done processing\n"
          ]
        },
        {
          "data": {
            "application/vnd.plotly.v1+json": {
              "config": {
                "plotlyServerURL": "https://plot.ly"
              },
              "data": [
                {
                  "hovertemplate": "variable=values<br>index=%{x}<br>value=%{y}<extra></extra>",
                  "legendgroup": "values",
                  "line": {
                    "color": "#636efa",
                    "dash": "solid"
                  },
                  "marker": {
                    "symbol": "circle"
                  },
                  "mode": "lines",
                  "name": "values",
                  "showlegend": true,
                  "type": "scattergl",
                  "x": [
                    "1949-01-31T00:00:00",
                    "1949-02-28T00:00:00",
                    "1949-03-31T00:00:00",
                    "1949-04-30T00:00:00",
                    "1949-05-31T00:00:00",
                    "1949-06-30T00:00:00",
                    "1949-07-31T00:00:00",
                    "1949-08-31T00:00:00",
                    "1949-09-30T00:00:00",
                    "1949-10-31T00:00:00",
                    "1949-11-30T00:00:00",
                    "1949-12-31T00:00:00",
                    "1950-01-31T00:00:00",
                    "1950-02-28T00:00:00",
                    "1950-03-31T00:00:00",
                    "1950-04-30T00:00:00",
                    "1950-05-31T00:00:00",
                    "1950-06-30T00:00:00",
                    "1950-07-31T00:00:00",
                    "1950-08-31T00:00:00",
                    "1950-09-30T00:00:00",
                    "1950-10-31T00:00:00",
                    "1950-11-30T00:00:00",
                    "1950-12-31T00:00:00",
                    "1951-01-31T00:00:00",
                    "1951-02-28T00:00:00",
                    "1951-03-31T00:00:00",
                    "1951-04-30T00:00:00",
                    "1951-05-31T00:00:00",
                    "1951-06-30T00:00:00",
                    "1951-07-31T00:00:00",
                    "1951-08-31T00:00:00",
                    "1951-09-30T00:00:00",
                    "1951-10-31T00:00:00",
                    "1951-11-30T00:00:00",
                    "1951-12-31T00:00:00",
                    "1952-01-31T00:00:00",
                    "1952-02-29T00:00:00",
                    "1952-03-31T00:00:00",
                    "1952-04-30T00:00:00",
                    "1952-05-31T00:00:00",
                    "1952-06-30T00:00:00",
                    "1952-07-31T00:00:00",
                    "1952-08-31T00:00:00",
                    "1952-09-30T00:00:00",
                    "1952-10-31T00:00:00",
                    "1952-11-30T00:00:00",
                    "1952-12-31T00:00:00",
                    "1953-01-31T00:00:00",
                    "1953-02-28T00:00:00",
                    "1953-03-31T00:00:00",
                    "1953-04-30T00:00:00",
                    "1953-05-31T00:00:00",
                    "1953-06-30T00:00:00",
                    "1953-07-31T00:00:00",
                    "1953-08-31T00:00:00",
                    "1953-09-30T00:00:00",
                    "1953-10-31T00:00:00",
                    "1953-11-30T00:00:00",
                    "1953-12-31T00:00:00",
                    "1954-01-31T00:00:00",
                    "1954-02-28T00:00:00",
                    "1954-03-31T00:00:00",
                    "1954-04-30T00:00:00",
                    "1954-05-31T00:00:00",
                    "1954-06-30T00:00:00",
                    "1954-07-31T00:00:00",
                    "1954-08-31T00:00:00",
                    "1954-09-30T00:00:00",
                    "1954-10-31T00:00:00",
                    "1954-11-30T00:00:00",
                    "1954-12-31T00:00:00",
                    "1955-01-31T00:00:00",
                    "1955-02-28T00:00:00",
                    "1955-03-31T00:00:00",
                    "1955-04-30T00:00:00",
                    "1955-05-31T00:00:00",
                    "1955-06-30T00:00:00",
                    "1955-07-31T00:00:00",
                    "1955-08-31T00:00:00",
                    "1955-09-30T00:00:00",
                    "1955-10-31T00:00:00",
                    "1955-11-30T00:00:00",
                    "1955-12-31T00:00:00",
                    "1956-01-31T00:00:00",
                    "1956-02-29T00:00:00",
                    "1956-03-31T00:00:00",
                    "1956-04-30T00:00:00",
                    "1956-05-31T00:00:00",
                    "1956-06-30T00:00:00",
                    "1956-07-31T00:00:00",
                    "1956-08-31T00:00:00",
                    "1956-09-30T00:00:00",
                    "1956-10-31T00:00:00",
                    "1956-11-30T00:00:00",
                    "1956-12-31T00:00:00",
                    "1957-01-31T00:00:00",
                    "1957-02-28T00:00:00",
                    "1957-03-31T00:00:00",
                    "1957-04-30T00:00:00",
                    "1957-05-31T00:00:00",
                    "1957-06-30T00:00:00",
                    "1957-07-31T00:00:00",
                    "1957-08-31T00:00:00",
                    "1957-09-30T00:00:00",
                    "1957-10-31T00:00:00",
                    "1957-11-30T00:00:00",
                    "1957-12-31T00:00:00",
                    "1958-01-31T00:00:00",
                    "1958-02-28T00:00:00",
                    "1958-03-31T00:00:00",
                    "1958-04-30T00:00:00",
                    "1958-05-31T00:00:00",
                    "1958-06-30T00:00:00",
                    "1958-07-31T00:00:00",
                    "1958-08-31T00:00:00",
                    "1958-09-30T00:00:00",
                    "1958-10-31T00:00:00",
                    "1958-11-30T00:00:00",
                    "1958-12-31T00:00:00",
                    "1959-01-31T00:00:00",
                    "1959-02-28T00:00:00",
                    "1959-03-31T00:00:00",
                    "1959-04-30T00:00:00",
                    "1959-05-31T00:00:00",
                    "1959-06-30T00:00:00",
                    "1959-07-31T00:00:00",
                    "1959-08-31T00:00:00",
                    "1959-09-30T00:00:00",
                    "1959-10-31T00:00:00",
                    "1959-11-30T00:00:00",
                    "1959-12-31T00:00:00",
                    "1960-01-31T00:00:00",
                    "1960-02-29T00:00:00",
                    "1960-03-31T00:00:00",
                    "1960-04-30T00:00:00",
                    "1960-05-31T00:00:00",
                    "1960-06-30T00:00:00",
                    "1960-07-31T00:00:00",
                    "1960-08-31T00:00:00",
                    "1960-09-30T00:00:00",
                    "1960-10-31T00:00:00",
                    "1960-11-30T00:00:00",
                    "1960-12-31T00:00:00",
                    "1961-01-31T00:00:00",
                    "1961-02-28T00:00:00",
                    "1961-03-31T00:00:00",
                    "1961-04-30T00:00:00",
                    "1961-05-31T00:00:00",
                    "1961-06-30T00:00:00",
                    "1961-07-31T00:00:00",
                    "1961-08-31T00:00:00",
                    "1961-09-30T00:00:00",
                    "1961-10-31T00:00:00",
                    "1961-11-30T00:00:00",
                    "1961-12-31T00:00:00",
                    "1962-01-31T00:00:00",
                    "1962-02-28T00:00:00",
                    "1962-03-31T00:00:00",
                    "1962-04-30T00:00:00",
                    "1962-05-31T00:00:00",
                    "1962-06-30T00:00:00",
                    "1962-07-31T00:00:00",
                    "1962-08-31T00:00:00",
                    "1962-09-30T00:00:00",
                    "1962-10-31T00:00:00",
                    "1962-11-30T00:00:00",
                    "1962-12-31T00:00:00",
                    "1963-01-31T00:00:00",
                    "1963-02-28T00:00:00",
                    "1963-03-31T00:00:00",
                    "1963-04-30T00:00:00",
                    "1963-05-31T00:00:00",
                    "1963-06-30T00:00:00",
                    "1963-07-31T00:00:00",
                    "1963-08-31T00:00:00",
                    "1963-09-30T00:00:00",
                    "1963-10-31T00:00:00",
                    "1963-11-30T00:00:00",
                    "1963-12-31T00:00:00",
                    "1964-01-31T00:00:00",
                    "1964-02-29T00:00:00",
                    "1964-03-31T00:00:00",
                    "1964-04-30T00:00:00",
                    "1964-05-31T00:00:00",
                    "1964-06-30T00:00:00",
                    "1964-07-31T00:00:00",
                    "1964-08-31T00:00:00",
                    "1964-09-30T00:00:00",
                    "1964-10-31T00:00:00",
                    "1964-11-30T00:00:00",
                    "1964-12-31T00:00:00",
                    "1965-01-31T00:00:00",
                    "1965-02-28T00:00:00",
                    "1965-03-31T00:00:00",
                    "1965-04-30T00:00:00",
                    "1965-05-31T00:00:00",
                    "1965-06-30T00:00:00",
                    "1965-07-31T00:00:00",
                    "1965-08-31T00:00:00",
                    "1965-09-30T00:00:00",
                    "1965-10-31T00:00:00",
                    "1965-11-30T00:00:00",
                    "1965-12-31T00:00:00",
                    "1966-01-31T00:00:00",
                    "1966-02-28T00:00:00",
                    "1966-03-31T00:00:00",
                    "1966-04-30T00:00:00",
                    "1966-05-31T00:00:00",
                    "1966-06-30T00:00:00",
                    "1966-07-31T00:00:00",
                    "1966-08-31T00:00:00",
                    "1966-09-30T00:00:00",
                    "1966-10-31T00:00:00",
                    "1966-11-30T00:00:00",
                    "1966-12-31T00:00:00",
                    "1967-01-31T00:00:00",
                    "1967-02-28T00:00:00",
                    "1967-03-31T00:00:00",
                    "1967-04-30T00:00:00",
                    "1967-05-31T00:00:00",
                    "1967-06-30T00:00:00",
                    "1967-07-31T00:00:00",
                    "1967-08-31T00:00:00",
                    "1967-09-30T00:00:00",
                    "1967-10-31T00:00:00",
                    "1967-11-30T00:00:00",
                    "1967-12-31T00:00:00",
                    "1968-01-31T00:00:00",
                    "1968-02-29T00:00:00",
                    "1968-03-31T00:00:00",
                    "1968-04-30T00:00:00",
                    "1968-05-31T00:00:00",
                    "1968-06-30T00:00:00",
                    "1968-07-31T00:00:00",
                    "1968-08-31T00:00:00",
                    "1968-09-30T00:00:00",
                    "1968-10-31T00:00:00",
                    "1968-11-30T00:00:00",
                    "1968-12-31T00:00:00"
                  ],
                  "xaxis": "x",
                  "y": [
                    112,
                    118,
                    132,
                    129,
                    121,
                    135,
                    148,
                    148,
                    136,
                    119,
                    104,
                    118,
                    115,
                    126,
                    141,
                    135,
                    125,
                    149,
                    170,
                    170,
                    158,
                    133,
                    114,
                    140,
                    145,
                    150,
                    178,
                    163,
                    172,
                    178,
                    199,
                    199,
                    184,
                    162,
                    146,
                    166,
                    171,
                    180,
                    193,
                    181,
                    183,
                    218,
                    230,
                    242,
                    209,
                    191,
                    172,
                    194,
                    196,
                    196,
                    236,
                    235,
                    229,
                    243,
                    264,
                    272,
                    237,
                    211,
                    180,
                    201,
                    204,
                    188,
                    235,
                    227,
                    234,
                    264,
                    302,
                    293,
                    259,
                    229,
                    203,
                    229,
                    242,
                    233,
                    267,
                    269,
                    270,
                    315,
                    364,
                    347,
                    312,
                    274,
                    237,
                    278,
                    284,
                    277,
                    317,
                    313,
                    318,
                    374,
                    413,
                    405,
                    355,
                    306,
                    271,
                    306,
                    315,
                    301,
                    356,
                    348,
                    355,
                    422,
                    465,
                    467,
                    404,
                    347,
                    305,
                    336,
                    340,
                    318,
                    362,
                    348,
                    363,
                    435,
                    491,
                    505,
                    404,
                    359,
                    310,
                    337,
                    360,
                    342,
                    406,
                    396,
                    420,
                    472,
                    548,
                    559,
                    463,
                    407,
                    362,
                    405,
                    417,
                    391,
                    419,
                    461,
                    472,
                    535,
                    622,
                    606,
                    508,
                    461,
                    390,
                    432,
                    null,
                    null,
                    null,
                    null,
                    null,
                    null,
                    null,
                    null,
                    null,
                    null,
                    null,
                    null,
                    null,
                    null,
                    null,
                    null,
                    null,
                    null,
                    null,
                    null,
                    null,
                    null,
                    null,
                    null,
                    null,
                    null,
                    null,
                    null,
                    null,
                    null,
                    null,
                    null,
                    null,
                    null,
                    null,
                    null,
                    null,
                    null,
                    null,
                    null,
                    null,
                    null,
                    null,
                    null,
                    null,
                    null,
                    null,
                    null,
                    null,
                    null,
                    null,
                    null,
                    null,
                    null,
                    null,
                    null,
                    null,
                    null,
                    null,
                    null,
                    null,
                    null,
                    null,
                    null,
                    null,
                    null,
                    null,
                    null,
                    null,
                    null,
                    null,
                    null,
                    null,
                    null,
                    null,
                    null,
                    null,
                    null,
                    null,
                    null,
                    null,
                    null,
                    null,
                    null,
                    null,
                    null,
                    null,
                    null,
                    null,
                    null,
                    null,
                    null,
                    null,
                    null,
                    null,
                    null
                  ],
                  "yaxis": "y"
                },
                {
                  "hovertemplate": "variable=ARIMA(12,1,1)<br>index=%{x}<br>value=%{y}<extra></extra>",
                  "legendgroup": "ARIMA(12,1,1)",
                  "line": {
                    "color": "#EF553B",
                    "dash": "solid"
                  },
                  "marker": {
                    "symbol": "circle"
                  },
                  "mode": "lines",
                  "name": "ARIMA(12,1,1)",
                  "showlegend": true,
                  "type": "scattergl",
                  "x": [
                    "1949-01-31T00:00:00",
                    "1949-02-28T00:00:00",
                    "1949-03-31T00:00:00",
                    "1949-04-30T00:00:00",
                    "1949-05-31T00:00:00",
                    "1949-06-30T00:00:00",
                    "1949-07-31T00:00:00",
                    "1949-08-31T00:00:00",
                    "1949-09-30T00:00:00",
                    "1949-10-31T00:00:00",
                    "1949-11-30T00:00:00",
                    "1949-12-31T00:00:00",
                    "1950-01-31T00:00:00",
                    "1950-02-28T00:00:00",
                    "1950-03-31T00:00:00",
                    "1950-04-30T00:00:00",
                    "1950-05-31T00:00:00",
                    "1950-06-30T00:00:00",
                    "1950-07-31T00:00:00",
                    "1950-08-31T00:00:00",
                    "1950-09-30T00:00:00",
                    "1950-10-31T00:00:00",
                    "1950-11-30T00:00:00",
                    "1950-12-31T00:00:00",
                    "1951-01-31T00:00:00",
                    "1951-02-28T00:00:00",
                    "1951-03-31T00:00:00",
                    "1951-04-30T00:00:00",
                    "1951-05-31T00:00:00",
                    "1951-06-30T00:00:00",
                    "1951-07-31T00:00:00",
                    "1951-08-31T00:00:00",
                    "1951-09-30T00:00:00",
                    "1951-10-31T00:00:00",
                    "1951-11-30T00:00:00",
                    "1951-12-31T00:00:00",
                    "1952-01-31T00:00:00",
                    "1952-02-29T00:00:00",
                    "1952-03-31T00:00:00",
                    "1952-04-30T00:00:00",
                    "1952-05-31T00:00:00",
                    "1952-06-30T00:00:00",
                    "1952-07-31T00:00:00",
                    "1952-08-31T00:00:00",
                    "1952-09-30T00:00:00",
                    "1952-10-31T00:00:00",
                    "1952-11-30T00:00:00",
                    "1952-12-31T00:00:00",
                    "1953-01-31T00:00:00",
                    "1953-02-28T00:00:00",
                    "1953-03-31T00:00:00",
                    "1953-04-30T00:00:00",
                    "1953-05-31T00:00:00",
                    "1953-06-30T00:00:00",
                    "1953-07-31T00:00:00",
                    "1953-08-31T00:00:00",
                    "1953-09-30T00:00:00",
                    "1953-10-31T00:00:00",
                    "1953-11-30T00:00:00",
                    "1953-12-31T00:00:00",
                    "1954-01-31T00:00:00",
                    "1954-02-28T00:00:00",
                    "1954-03-31T00:00:00",
                    "1954-04-30T00:00:00",
                    "1954-05-31T00:00:00",
                    "1954-06-30T00:00:00",
                    "1954-07-31T00:00:00",
                    "1954-08-31T00:00:00",
                    "1954-09-30T00:00:00",
                    "1954-10-31T00:00:00",
                    "1954-11-30T00:00:00",
                    "1954-12-31T00:00:00",
                    "1955-01-31T00:00:00",
                    "1955-02-28T00:00:00",
                    "1955-03-31T00:00:00",
                    "1955-04-30T00:00:00",
                    "1955-05-31T00:00:00",
                    "1955-06-30T00:00:00",
                    "1955-07-31T00:00:00",
                    "1955-08-31T00:00:00",
                    "1955-09-30T00:00:00",
                    "1955-10-31T00:00:00",
                    "1955-11-30T00:00:00",
                    "1955-12-31T00:00:00",
                    "1956-01-31T00:00:00",
                    "1956-02-29T00:00:00",
                    "1956-03-31T00:00:00",
                    "1956-04-30T00:00:00",
                    "1956-05-31T00:00:00",
                    "1956-06-30T00:00:00",
                    "1956-07-31T00:00:00",
                    "1956-08-31T00:00:00",
                    "1956-09-30T00:00:00",
                    "1956-10-31T00:00:00",
                    "1956-11-30T00:00:00",
                    "1956-12-31T00:00:00",
                    "1957-01-31T00:00:00",
                    "1957-02-28T00:00:00",
                    "1957-03-31T00:00:00",
                    "1957-04-30T00:00:00",
                    "1957-05-31T00:00:00",
                    "1957-06-30T00:00:00",
                    "1957-07-31T00:00:00",
                    "1957-08-31T00:00:00",
                    "1957-09-30T00:00:00",
                    "1957-10-31T00:00:00",
                    "1957-11-30T00:00:00",
                    "1957-12-31T00:00:00",
                    "1958-01-31T00:00:00",
                    "1958-02-28T00:00:00",
                    "1958-03-31T00:00:00",
                    "1958-04-30T00:00:00",
                    "1958-05-31T00:00:00",
                    "1958-06-30T00:00:00",
                    "1958-07-31T00:00:00",
                    "1958-08-31T00:00:00",
                    "1958-09-30T00:00:00",
                    "1958-10-31T00:00:00",
                    "1958-11-30T00:00:00",
                    "1958-12-31T00:00:00",
                    "1959-01-31T00:00:00",
                    "1959-02-28T00:00:00",
                    "1959-03-31T00:00:00",
                    "1959-04-30T00:00:00",
                    "1959-05-31T00:00:00",
                    "1959-06-30T00:00:00",
                    "1959-07-31T00:00:00",
                    "1959-08-31T00:00:00",
                    "1959-09-30T00:00:00",
                    "1959-10-31T00:00:00",
                    "1959-11-30T00:00:00",
                    "1959-12-31T00:00:00",
                    "1960-01-31T00:00:00",
                    "1960-02-29T00:00:00",
                    "1960-03-31T00:00:00",
                    "1960-04-30T00:00:00",
                    "1960-05-31T00:00:00",
                    "1960-06-30T00:00:00",
                    "1960-07-31T00:00:00",
                    "1960-08-31T00:00:00",
                    "1960-09-30T00:00:00",
                    "1960-10-31T00:00:00",
                    "1960-11-30T00:00:00",
                    "1960-12-31T00:00:00",
                    "1961-01-31T00:00:00",
                    "1961-02-28T00:00:00",
                    "1961-03-31T00:00:00",
                    "1961-04-30T00:00:00",
                    "1961-05-31T00:00:00",
                    "1961-06-30T00:00:00",
                    "1961-07-31T00:00:00",
                    "1961-08-31T00:00:00",
                    "1961-09-30T00:00:00",
                    "1961-10-31T00:00:00",
                    "1961-11-30T00:00:00",
                    "1961-12-31T00:00:00",
                    "1962-01-31T00:00:00",
                    "1962-02-28T00:00:00",
                    "1962-03-31T00:00:00",
                    "1962-04-30T00:00:00",
                    "1962-05-31T00:00:00",
                    "1962-06-30T00:00:00",
                    "1962-07-31T00:00:00",
                    "1962-08-31T00:00:00",
                    "1962-09-30T00:00:00",
                    "1962-10-31T00:00:00",
                    "1962-11-30T00:00:00",
                    "1962-12-31T00:00:00",
                    "1963-01-31T00:00:00",
                    "1963-02-28T00:00:00",
                    "1963-03-31T00:00:00",
                    "1963-04-30T00:00:00",
                    "1963-05-31T00:00:00",
                    "1963-06-30T00:00:00",
                    "1963-07-31T00:00:00",
                    "1963-08-31T00:00:00",
                    "1963-09-30T00:00:00",
                    "1963-10-31T00:00:00",
                    "1963-11-30T00:00:00",
                    "1963-12-31T00:00:00",
                    "1964-01-31T00:00:00",
                    "1964-02-29T00:00:00",
                    "1964-03-31T00:00:00",
                    "1964-04-30T00:00:00",
                    "1964-05-31T00:00:00",
                    "1964-06-30T00:00:00",
                    "1964-07-31T00:00:00",
                    "1964-08-31T00:00:00",
                    "1964-09-30T00:00:00",
                    "1964-10-31T00:00:00",
                    "1964-11-30T00:00:00",
                    "1964-12-31T00:00:00",
                    "1965-01-31T00:00:00",
                    "1965-02-28T00:00:00",
                    "1965-03-31T00:00:00",
                    "1965-04-30T00:00:00",
                    "1965-05-31T00:00:00",
                    "1965-06-30T00:00:00",
                    "1965-07-31T00:00:00",
                    "1965-08-31T00:00:00",
                    "1965-09-30T00:00:00",
                    "1965-10-31T00:00:00",
                    "1965-11-30T00:00:00",
                    "1965-12-31T00:00:00",
                    "1966-01-31T00:00:00",
                    "1966-02-28T00:00:00",
                    "1966-03-31T00:00:00",
                    "1966-04-30T00:00:00",
                    "1966-05-31T00:00:00",
                    "1966-06-30T00:00:00",
                    "1966-07-31T00:00:00",
                    "1966-08-31T00:00:00",
                    "1966-09-30T00:00:00",
                    "1966-10-31T00:00:00",
                    "1966-11-30T00:00:00",
                    "1966-12-31T00:00:00",
                    "1967-01-31T00:00:00",
                    "1967-02-28T00:00:00",
                    "1967-03-31T00:00:00",
                    "1967-04-30T00:00:00",
                    "1967-05-31T00:00:00",
                    "1967-06-30T00:00:00",
                    "1967-07-31T00:00:00",
                    "1967-08-31T00:00:00",
                    "1967-09-30T00:00:00",
                    "1967-10-31T00:00:00",
                    "1967-11-30T00:00:00",
                    "1967-12-31T00:00:00",
                    "1968-01-31T00:00:00",
                    "1968-02-29T00:00:00",
                    "1968-03-31T00:00:00",
                    "1968-04-30T00:00:00",
                    "1968-05-31T00:00:00",
                    "1968-06-30T00:00:00",
                    "1968-07-31T00:00:00",
                    "1968-08-31T00:00:00",
                    "1968-09-30T00:00:00",
                    "1968-10-31T00:00:00",
                    "1968-11-30T00:00:00",
                    "1968-12-31T00:00:00"
                  ],
                  "xaxis": "x",
                  "y": [
                    null,
                    null,
                    null,
                    null,
                    null,
                    null,
                    null,
                    null,
                    null,
                    null,
                    null,
                    null,
                    null,
                    null,
                    null,
                    null,
                    null,
                    null,
                    null,
                    null,
                    null,
                    null,
                    null,
                    null,
                    null,
                    null,
                    null,
                    null,
                    null,
                    null,
                    null,
                    null,
                    null,
                    null,
                    null,
                    null,
                    null,
                    null,
                    null,
                    null,
                    null,
                    null,
                    null,
                    null,
                    null,
                    null,
                    null,
                    null,
                    null,
                    null,
                    null,
                    null,
                    null,
                    null,
                    null,
                    null,
                    null,
                    null,
                    null,
                    null,
                    null,
                    null,
                    null,
                    null,
                    null,
                    null,
                    null,
                    null,
                    null,
                    null,
                    null,
                    null,
                    null,
                    null,
                    null,
                    null,
                    null,
                    null,
                    null,
                    null,
                    null,
                    null,
                    null,
                    null,
                    null,
                    null,
                    null,
                    null,
                    null,
                    null,
                    null,
                    null,
                    null,
                    null,
                    null,
                    null,
                    null,
                    null,
                    null,
                    null,
                    null,
                    null,
                    null,
                    null,
                    null,
                    null,
                    null,
                    null,
                    null,
                    null,
                    null,
                    null,
                    null,
                    null,
                    null,
                    null,
                    null,
                    null,
                    null,
                    null,
                    null,
                    null,
                    null,
                    null,
                    null,
                    null,
                    null,
                    null,
                    null,
                    null,
                    null,
                    null,
                    null,
                    null,
                    null,
                    null,
                    null,
                    null,
                    null,
                    null,
                    null,
                    null,
                    null,
                    null,
                    451.81896765205,
                    420.8872345001917,
                    444.7892204155742,
                    485.25099796053894,
                    507.3053323503482,
                    569.9580895662481,
                    656.789173586396,
                    631.8738161761827,
                    544.1616514106628,
                    488.8039467543822,
                    420.29946334879725,
                    456.39880027081455,
                    479.3516279914626,
                    446.6507491140848,
                    465.01065209293466,
                    504.90831149892824,
                    534.9226270210048,
                    599.500611695611,
                    682.8291401396884,
                    652.3253763339691,
                    572.2750415652791,
                    512.7367456318805,
                    446.2862125300817,
                    477.1357603275068,
                    500.9751050378922,
                    468.188621599153,
                    480.99597357187764,
                    520.3919305163588,
                    556.3418859837137,
                    623.6416794042348,
                    702.0610329852672,
                    667.9286794271186,
                    593.8582809173301,
                    532.93238910192,
                    468.68201217374013,
                    494.6012059739471,
                    517.845400846931,
                    485.79957681374594,
                    493.7031955891849,
                    532.3685306826013,
                    572.8102123665196,
                    642.8175305882573,
                    715.9592450928628,
                    679.4695023265402,
                    610.224489503684,
                    549.7635359447244,
                    488.06048412469477,
                    509.2960838438323,
                    530.93139640664,
                    499.9625455299072,
                    503.84345717947986,
                    541.53432184301,
                    585.3639051303212,
                    657.6455365326565,
                    725.662875903714,
                    687.7341287646714,
                    622.4854480206866,
                    563.688967375919,
                    504.88918479772445,
                    521.7135321664625,
                    541.0390912399032,
                    511.2085248838955,
                    511.95930683156547,
                    548.5157843132125,
                    594.8547019875125,
                    668.787047966611,
                    732.0636276176784,
                    693.4185915380742,
                    631.5627929004667,
                    575.172200005247,
                    519.5555584182862,
                    532.2876311217931,
                    548.8305811767124,
                    520.0515632354474,
                    518.4731569429583,
                    553.8352093490166,
                    601.9730416997663,
                    676.8745032670081,
                    735.8656623933321,
                    697.1010870485782,
                    638.2050661644708,
                    584.641519523169,
                    532.3835781288196,
                    541.3781808197284,
                    554.8416449112746,
                    526.9555743360963,
                    523.7185085283892,
                    557.9086109891103,
                    607.2703934569907,
                    682.4767901715024,
                    737.6281882576972,
                    699.2445381391939,
                    643.0087461870297,
                    592.4732619712581,
                    543.6453565681181,
                    549.2729813090084
                  ],
                  "yaxis": "y"
                },
                {
                  "hovertemplate": "variable=SARIMA(0,1,1)(0,1,1,12)<br>index=%{x}<br>value=%{y}<extra></extra>",
                  "legendgroup": "SARIMA(0,1,1)(0,1,1,12)",
                  "line": {
                    "color": "#00cc96",
                    "dash": "solid"
                  },
                  "marker": {
                    "symbol": "circle"
                  },
                  "mode": "lines",
                  "name": "SARIMA(0,1,1)(0,1,1,12)",
                  "showlegend": true,
                  "type": "scattergl",
                  "x": [
                    "1949-01-31T00:00:00",
                    "1949-02-28T00:00:00",
                    "1949-03-31T00:00:00",
                    "1949-04-30T00:00:00",
                    "1949-05-31T00:00:00",
                    "1949-06-30T00:00:00",
                    "1949-07-31T00:00:00",
                    "1949-08-31T00:00:00",
                    "1949-09-30T00:00:00",
                    "1949-10-31T00:00:00",
                    "1949-11-30T00:00:00",
                    "1949-12-31T00:00:00",
                    "1950-01-31T00:00:00",
                    "1950-02-28T00:00:00",
                    "1950-03-31T00:00:00",
                    "1950-04-30T00:00:00",
                    "1950-05-31T00:00:00",
                    "1950-06-30T00:00:00",
                    "1950-07-31T00:00:00",
                    "1950-08-31T00:00:00",
                    "1950-09-30T00:00:00",
                    "1950-10-31T00:00:00",
                    "1950-11-30T00:00:00",
                    "1950-12-31T00:00:00",
                    "1951-01-31T00:00:00",
                    "1951-02-28T00:00:00",
                    "1951-03-31T00:00:00",
                    "1951-04-30T00:00:00",
                    "1951-05-31T00:00:00",
                    "1951-06-30T00:00:00",
                    "1951-07-31T00:00:00",
                    "1951-08-31T00:00:00",
                    "1951-09-30T00:00:00",
                    "1951-10-31T00:00:00",
                    "1951-11-30T00:00:00",
                    "1951-12-31T00:00:00",
                    "1952-01-31T00:00:00",
                    "1952-02-29T00:00:00",
                    "1952-03-31T00:00:00",
                    "1952-04-30T00:00:00",
                    "1952-05-31T00:00:00",
                    "1952-06-30T00:00:00",
                    "1952-07-31T00:00:00",
                    "1952-08-31T00:00:00",
                    "1952-09-30T00:00:00",
                    "1952-10-31T00:00:00",
                    "1952-11-30T00:00:00",
                    "1952-12-31T00:00:00",
                    "1953-01-31T00:00:00",
                    "1953-02-28T00:00:00",
                    "1953-03-31T00:00:00",
                    "1953-04-30T00:00:00",
                    "1953-05-31T00:00:00",
                    "1953-06-30T00:00:00",
                    "1953-07-31T00:00:00",
                    "1953-08-31T00:00:00",
                    "1953-09-30T00:00:00",
                    "1953-10-31T00:00:00",
                    "1953-11-30T00:00:00",
                    "1953-12-31T00:00:00",
                    "1954-01-31T00:00:00",
                    "1954-02-28T00:00:00",
                    "1954-03-31T00:00:00",
                    "1954-04-30T00:00:00",
                    "1954-05-31T00:00:00",
                    "1954-06-30T00:00:00",
                    "1954-07-31T00:00:00",
                    "1954-08-31T00:00:00",
                    "1954-09-30T00:00:00",
                    "1954-10-31T00:00:00",
                    "1954-11-30T00:00:00",
                    "1954-12-31T00:00:00",
                    "1955-01-31T00:00:00",
                    "1955-02-28T00:00:00",
                    "1955-03-31T00:00:00",
                    "1955-04-30T00:00:00",
                    "1955-05-31T00:00:00",
                    "1955-06-30T00:00:00",
                    "1955-07-31T00:00:00",
                    "1955-08-31T00:00:00",
                    "1955-09-30T00:00:00",
                    "1955-10-31T00:00:00",
                    "1955-11-30T00:00:00",
                    "1955-12-31T00:00:00",
                    "1956-01-31T00:00:00",
                    "1956-02-29T00:00:00",
                    "1956-03-31T00:00:00",
                    "1956-04-30T00:00:00",
                    "1956-05-31T00:00:00",
                    "1956-06-30T00:00:00",
                    "1956-07-31T00:00:00",
                    "1956-08-31T00:00:00",
                    "1956-09-30T00:00:00",
                    "1956-10-31T00:00:00",
                    "1956-11-30T00:00:00",
                    "1956-12-31T00:00:00",
                    "1957-01-31T00:00:00",
                    "1957-02-28T00:00:00",
                    "1957-03-31T00:00:00",
                    "1957-04-30T00:00:00",
                    "1957-05-31T00:00:00",
                    "1957-06-30T00:00:00",
                    "1957-07-31T00:00:00",
                    "1957-08-31T00:00:00",
                    "1957-09-30T00:00:00",
                    "1957-10-31T00:00:00",
                    "1957-11-30T00:00:00",
                    "1957-12-31T00:00:00",
                    "1958-01-31T00:00:00",
                    "1958-02-28T00:00:00",
                    "1958-03-31T00:00:00",
                    "1958-04-30T00:00:00",
                    "1958-05-31T00:00:00",
                    "1958-06-30T00:00:00",
                    "1958-07-31T00:00:00",
                    "1958-08-31T00:00:00",
                    "1958-09-30T00:00:00",
                    "1958-10-31T00:00:00",
                    "1958-11-30T00:00:00",
                    "1958-12-31T00:00:00",
                    "1959-01-31T00:00:00",
                    "1959-02-28T00:00:00",
                    "1959-03-31T00:00:00",
                    "1959-04-30T00:00:00",
                    "1959-05-31T00:00:00",
                    "1959-06-30T00:00:00",
                    "1959-07-31T00:00:00",
                    "1959-08-31T00:00:00",
                    "1959-09-30T00:00:00",
                    "1959-10-31T00:00:00",
                    "1959-11-30T00:00:00",
                    "1959-12-31T00:00:00",
                    "1960-01-31T00:00:00",
                    "1960-02-29T00:00:00",
                    "1960-03-31T00:00:00",
                    "1960-04-30T00:00:00",
                    "1960-05-31T00:00:00",
                    "1960-06-30T00:00:00",
                    "1960-07-31T00:00:00",
                    "1960-08-31T00:00:00",
                    "1960-09-30T00:00:00",
                    "1960-10-31T00:00:00",
                    "1960-11-30T00:00:00",
                    "1960-12-31T00:00:00",
                    "1961-01-31T00:00:00",
                    "1961-02-28T00:00:00",
                    "1961-03-31T00:00:00",
                    "1961-04-30T00:00:00",
                    "1961-05-31T00:00:00",
                    "1961-06-30T00:00:00",
                    "1961-07-31T00:00:00",
                    "1961-08-31T00:00:00",
                    "1961-09-30T00:00:00",
                    "1961-10-31T00:00:00",
                    "1961-11-30T00:00:00",
                    "1961-12-31T00:00:00",
                    "1962-01-31T00:00:00",
                    "1962-02-28T00:00:00",
                    "1962-03-31T00:00:00",
                    "1962-04-30T00:00:00",
                    "1962-05-31T00:00:00",
                    "1962-06-30T00:00:00",
                    "1962-07-31T00:00:00",
                    "1962-08-31T00:00:00",
                    "1962-09-30T00:00:00",
                    "1962-10-31T00:00:00",
                    "1962-11-30T00:00:00",
                    "1962-12-31T00:00:00",
                    "1963-01-31T00:00:00",
                    "1963-02-28T00:00:00",
                    "1963-03-31T00:00:00",
                    "1963-04-30T00:00:00",
                    "1963-05-31T00:00:00",
                    "1963-06-30T00:00:00",
                    "1963-07-31T00:00:00",
                    "1963-08-31T00:00:00",
                    "1963-09-30T00:00:00",
                    "1963-10-31T00:00:00",
                    "1963-11-30T00:00:00",
                    "1963-12-31T00:00:00",
                    "1964-01-31T00:00:00",
                    "1964-02-29T00:00:00",
                    "1964-03-31T00:00:00",
                    "1964-04-30T00:00:00",
                    "1964-05-31T00:00:00",
                    "1964-06-30T00:00:00",
                    "1964-07-31T00:00:00",
                    "1964-08-31T00:00:00",
                    "1964-09-30T00:00:00",
                    "1964-10-31T00:00:00",
                    "1964-11-30T00:00:00",
                    "1964-12-31T00:00:00",
                    "1965-01-31T00:00:00",
                    "1965-02-28T00:00:00",
                    "1965-03-31T00:00:00",
                    "1965-04-30T00:00:00",
                    "1965-05-31T00:00:00",
                    "1965-06-30T00:00:00",
                    "1965-07-31T00:00:00",
                    "1965-08-31T00:00:00",
                    "1965-09-30T00:00:00",
                    "1965-10-31T00:00:00",
                    "1965-11-30T00:00:00",
                    "1965-12-31T00:00:00",
                    "1966-01-31T00:00:00",
                    "1966-02-28T00:00:00",
                    "1966-03-31T00:00:00",
                    "1966-04-30T00:00:00",
                    "1966-05-31T00:00:00",
                    "1966-06-30T00:00:00",
                    "1966-07-31T00:00:00",
                    "1966-08-31T00:00:00",
                    "1966-09-30T00:00:00",
                    "1966-10-31T00:00:00",
                    "1966-11-30T00:00:00",
                    "1966-12-31T00:00:00",
                    "1967-01-31T00:00:00",
                    "1967-02-28T00:00:00",
                    "1967-03-31T00:00:00",
                    "1967-04-30T00:00:00",
                    "1967-05-31T00:00:00",
                    "1967-06-30T00:00:00",
                    "1967-07-31T00:00:00",
                    "1967-08-31T00:00:00",
                    "1967-09-30T00:00:00",
                    "1967-10-31T00:00:00",
                    "1967-11-30T00:00:00",
                    "1967-12-31T00:00:00",
                    "1968-01-31T00:00:00",
                    "1968-02-29T00:00:00",
                    "1968-03-31T00:00:00",
                    "1968-04-30T00:00:00",
                    "1968-05-31T00:00:00",
                    "1968-06-30T00:00:00",
                    "1968-07-31T00:00:00",
                    "1968-08-31T00:00:00",
                    "1968-09-30T00:00:00",
                    "1968-10-31T00:00:00",
                    "1968-11-30T00:00:00",
                    "1968-12-31T00:00:00"
                  ],
                  "xaxis": "x",
                  "y": [
                    null,
                    null,
                    null,
                    null,
                    null,
                    null,
                    null,
                    null,
                    null,
                    null,
                    null,
                    null,
                    null,
                    null,
                    null,
                    null,
                    null,
                    null,
                    null,
                    null,
                    null,
                    null,
                    null,
                    null,
                    null,
                    null,
                    null,
                    null,
                    null,
                    null,
                    null,
                    null,
                    null,
                    null,
                    null,
                    null,
                    null,
                    null,
                    null,
                    null,
                    null,
                    null,
                    null,
                    null,
                    null,
                    null,
                    null,
                    null,
                    null,
                    null,
                    null,
                    null,
                    null,
                    null,
                    null,
                    null,
                    null,
                    null,
                    null,
                    null,
                    null,
                    null,
                    null,
                    null,
                    null,
                    null,
                    null,
                    null,
                    null,
                    null,
                    null,
                    null,
                    null,
                    null,
                    null,
                    null,
                    null,
                    null,
                    null,
                    null,
                    null,
                    null,
                    null,
                    null,
                    null,
                    null,
                    null,
                    null,
                    null,
                    null,
                    null,
                    null,
                    null,
                    null,
                    null,
                    null,
                    null,
                    null,
                    null,
                    null,
                    null,
                    null,
                    null,
                    null,
                    null,
                    null,
                    null,
                    null,
                    null,
                    null,
                    null,
                    null,
                    null,
                    null,
                    null,
                    null,
                    null,
                    null,
                    null,
                    null,
                    null,
                    null,
                    null,
                    null,
                    null,
                    null,
                    null,
                    null,
                    null,
                    null,
                    null,
                    null,
                    null,
                    null,
                    null,
                    null,
                    null,
                    null,
                    null,
                    null,
                    null,
                    null,
                    null,
                    null,
                    450.4222992035223,
                    425.718149114204,
                    479.0106112881083,
                    492.4041700155289,
                    509.0541784785433,
                    583.3452796382898,
                    670.0090065483676,
                    667.0768019215661,
                    558.1902184095067,
                    497.2072432266193,
                    429.8724973630448,
                    477.24364224343304,
                    495.9307735419315,
                    468.73063650352134,
                    527.4075093772518,
                    542.1542880156862,
                    560.4865322032929,
                    642.2836442259093,
                    737.7034518165665,
                    734.474991522029,
                    614.5870381836579,
                    547.4426403400859,
                    473.3047198565279,
                    525.4620143902127,
                    546.0372023783111,
                    516.0888960316706,
                    580.6941942257151,
                    596.9309155211362,
                    617.115360333917,
                    707.1768539824419,
                    812.2374139798826,
                    808.6827657885061,
                    676.6819178229571,
                    602.7535771958343,
                    521.1251224785252,
                    578.5521359050006,
                    601.2061406306806,
                    568.232003339913,
                    639.3647060611929,
                    657.2419065596179,
                    679.4656893235209,
                    778.626557447577,
                    894.30192449848,
                    890.3881319745841,
                    745.0505615312388,
                    663.6528615978391,
                    573.7770655669331,
                    637.0062246053628,
                    661.9490795823377,
                    625.6433961328175,
                    703.9630005286753,
                    723.646426255211,
                    748.1155917397339,
                    857.2951907977991,
                    984.6578332840671,
                    980.348610234297,
                    820.3268398598576,
                    730.7051129518281,
                    631.7487044278262,
                    701.3662295987226,
                    728.8291891035007,
                    688.8553563049751,
                    775.0879919009881,
                    796.7601350514881,
                    823.7015457856438,
                    943.912119533012,
                    1084.1428628160372,
                    1079.398256866873,
                    903.2086665520155,
                    804.5319970570628,
                    695.5775152007706,
                    772.2288558895609,
                    802.4665390039158,
                    758.453944919956,
                    853.3991058307543,
                    877.2608967233106,
                    906.9243363206107,
                    1039.280400689249,
                    1193.6793749711308,
                    1188.4553971559083,
                    994.4644691548024,
                    885.81798979597,
                    765.8552779955135,
                    850.251096648447,
                    883.5438479254923,
                    835.0844357954934,
                    939.6223931253533,
                    965.8950630983248,
                    998.5555520914692,
                    1144.2842282724087,
                    1314.2829225757198,
                    1308.5311394969285,
                    1094.9403133903488,
                    975.3167231588913,
                    843.2335635005231,
                    936.1563244345726
                  ],
                  "yaxis": "y"
                },
                {
                  "hovertemplate": "variable=ExponentialSmoothing<br>index=%{x}<br>value=%{y}<extra></extra>",
                  "legendgroup": "ExponentialSmoothing",
                  "line": {
                    "color": "#ab63fa",
                    "dash": "solid"
                  },
                  "marker": {
                    "symbol": "circle"
                  },
                  "mode": "lines",
                  "name": "ExponentialSmoothing",
                  "showlegend": true,
                  "type": "scattergl",
                  "x": [
                    "1949-01-31T00:00:00",
                    "1949-02-28T00:00:00",
                    "1949-03-31T00:00:00",
                    "1949-04-30T00:00:00",
                    "1949-05-31T00:00:00",
                    "1949-06-30T00:00:00",
                    "1949-07-31T00:00:00",
                    "1949-08-31T00:00:00",
                    "1949-09-30T00:00:00",
                    "1949-10-31T00:00:00",
                    "1949-11-30T00:00:00",
                    "1949-12-31T00:00:00",
                    "1950-01-31T00:00:00",
                    "1950-02-28T00:00:00",
                    "1950-03-31T00:00:00",
                    "1950-04-30T00:00:00",
                    "1950-05-31T00:00:00",
                    "1950-06-30T00:00:00",
                    "1950-07-31T00:00:00",
                    "1950-08-31T00:00:00",
                    "1950-09-30T00:00:00",
                    "1950-10-31T00:00:00",
                    "1950-11-30T00:00:00",
                    "1950-12-31T00:00:00",
                    "1951-01-31T00:00:00",
                    "1951-02-28T00:00:00",
                    "1951-03-31T00:00:00",
                    "1951-04-30T00:00:00",
                    "1951-05-31T00:00:00",
                    "1951-06-30T00:00:00",
                    "1951-07-31T00:00:00",
                    "1951-08-31T00:00:00",
                    "1951-09-30T00:00:00",
                    "1951-10-31T00:00:00",
                    "1951-11-30T00:00:00",
                    "1951-12-31T00:00:00",
                    "1952-01-31T00:00:00",
                    "1952-02-29T00:00:00",
                    "1952-03-31T00:00:00",
                    "1952-04-30T00:00:00",
                    "1952-05-31T00:00:00",
                    "1952-06-30T00:00:00",
                    "1952-07-31T00:00:00",
                    "1952-08-31T00:00:00",
                    "1952-09-30T00:00:00",
                    "1952-10-31T00:00:00",
                    "1952-11-30T00:00:00",
                    "1952-12-31T00:00:00",
                    "1953-01-31T00:00:00",
                    "1953-02-28T00:00:00",
                    "1953-03-31T00:00:00",
                    "1953-04-30T00:00:00",
                    "1953-05-31T00:00:00",
                    "1953-06-30T00:00:00",
                    "1953-07-31T00:00:00",
                    "1953-08-31T00:00:00",
                    "1953-09-30T00:00:00",
                    "1953-10-31T00:00:00",
                    "1953-11-30T00:00:00",
                    "1953-12-31T00:00:00",
                    "1954-01-31T00:00:00",
                    "1954-02-28T00:00:00",
                    "1954-03-31T00:00:00",
                    "1954-04-30T00:00:00",
                    "1954-05-31T00:00:00",
                    "1954-06-30T00:00:00",
                    "1954-07-31T00:00:00",
                    "1954-08-31T00:00:00",
                    "1954-09-30T00:00:00",
                    "1954-10-31T00:00:00",
                    "1954-11-30T00:00:00",
                    "1954-12-31T00:00:00",
                    "1955-01-31T00:00:00",
                    "1955-02-28T00:00:00",
                    "1955-03-31T00:00:00",
                    "1955-04-30T00:00:00",
                    "1955-05-31T00:00:00",
                    "1955-06-30T00:00:00",
                    "1955-07-31T00:00:00",
                    "1955-08-31T00:00:00",
                    "1955-09-30T00:00:00",
                    "1955-10-31T00:00:00",
                    "1955-11-30T00:00:00",
                    "1955-12-31T00:00:00",
                    "1956-01-31T00:00:00",
                    "1956-02-29T00:00:00",
                    "1956-03-31T00:00:00",
                    "1956-04-30T00:00:00",
                    "1956-05-31T00:00:00",
                    "1956-06-30T00:00:00",
                    "1956-07-31T00:00:00",
                    "1956-08-31T00:00:00",
                    "1956-09-30T00:00:00",
                    "1956-10-31T00:00:00",
                    "1956-11-30T00:00:00",
                    "1956-12-31T00:00:00",
                    "1957-01-31T00:00:00",
                    "1957-02-28T00:00:00",
                    "1957-03-31T00:00:00",
                    "1957-04-30T00:00:00",
                    "1957-05-31T00:00:00",
                    "1957-06-30T00:00:00",
                    "1957-07-31T00:00:00",
                    "1957-08-31T00:00:00",
                    "1957-09-30T00:00:00",
                    "1957-10-31T00:00:00",
                    "1957-11-30T00:00:00",
                    "1957-12-31T00:00:00",
                    "1958-01-31T00:00:00",
                    "1958-02-28T00:00:00",
                    "1958-03-31T00:00:00",
                    "1958-04-30T00:00:00",
                    "1958-05-31T00:00:00",
                    "1958-06-30T00:00:00",
                    "1958-07-31T00:00:00",
                    "1958-08-31T00:00:00",
                    "1958-09-30T00:00:00",
                    "1958-10-31T00:00:00",
                    "1958-11-30T00:00:00",
                    "1958-12-31T00:00:00",
                    "1959-01-31T00:00:00",
                    "1959-02-28T00:00:00",
                    "1959-03-31T00:00:00",
                    "1959-04-30T00:00:00",
                    "1959-05-31T00:00:00",
                    "1959-06-30T00:00:00",
                    "1959-07-31T00:00:00",
                    "1959-08-31T00:00:00",
                    "1959-09-30T00:00:00",
                    "1959-10-31T00:00:00",
                    "1959-11-30T00:00:00",
                    "1959-12-31T00:00:00",
                    "1960-01-31T00:00:00",
                    "1960-02-29T00:00:00",
                    "1960-03-31T00:00:00",
                    "1960-04-30T00:00:00",
                    "1960-05-31T00:00:00",
                    "1960-06-30T00:00:00",
                    "1960-07-31T00:00:00",
                    "1960-08-31T00:00:00",
                    "1960-09-30T00:00:00",
                    "1960-10-31T00:00:00",
                    "1960-11-30T00:00:00",
                    "1960-12-31T00:00:00",
                    "1961-01-31T00:00:00",
                    "1961-02-28T00:00:00",
                    "1961-03-31T00:00:00",
                    "1961-04-30T00:00:00",
                    "1961-05-31T00:00:00",
                    "1961-06-30T00:00:00",
                    "1961-07-31T00:00:00",
                    "1961-08-31T00:00:00",
                    "1961-09-30T00:00:00",
                    "1961-10-31T00:00:00",
                    "1961-11-30T00:00:00",
                    "1961-12-31T00:00:00",
                    "1962-01-31T00:00:00",
                    "1962-02-28T00:00:00",
                    "1962-03-31T00:00:00",
                    "1962-04-30T00:00:00",
                    "1962-05-31T00:00:00",
                    "1962-06-30T00:00:00",
                    "1962-07-31T00:00:00",
                    "1962-08-31T00:00:00",
                    "1962-09-30T00:00:00",
                    "1962-10-31T00:00:00",
                    "1962-11-30T00:00:00",
                    "1962-12-31T00:00:00",
                    "1963-01-31T00:00:00",
                    "1963-02-28T00:00:00",
                    "1963-03-31T00:00:00",
                    "1963-04-30T00:00:00",
                    "1963-05-31T00:00:00",
                    "1963-06-30T00:00:00",
                    "1963-07-31T00:00:00",
                    "1963-08-31T00:00:00",
                    "1963-09-30T00:00:00",
                    "1963-10-31T00:00:00",
                    "1963-11-30T00:00:00",
                    "1963-12-31T00:00:00",
                    "1964-01-31T00:00:00",
                    "1964-02-29T00:00:00",
                    "1964-03-31T00:00:00",
                    "1964-04-30T00:00:00",
                    "1964-05-31T00:00:00",
                    "1964-06-30T00:00:00",
                    "1964-07-31T00:00:00",
                    "1964-08-31T00:00:00",
                    "1964-09-30T00:00:00",
                    "1964-10-31T00:00:00",
                    "1964-11-30T00:00:00",
                    "1964-12-31T00:00:00",
                    "1965-01-31T00:00:00",
                    "1965-02-28T00:00:00",
                    "1965-03-31T00:00:00",
                    "1965-04-30T00:00:00",
                    "1965-05-31T00:00:00",
                    "1965-06-30T00:00:00",
                    "1965-07-31T00:00:00",
                    "1965-08-31T00:00:00",
                    "1965-09-30T00:00:00",
                    "1965-10-31T00:00:00",
                    "1965-11-30T00:00:00",
                    "1965-12-31T00:00:00",
                    "1966-01-31T00:00:00",
                    "1966-02-28T00:00:00",
                    "1966-03-31T00:00:00",
                    "1966-04-30T00:00:00",
                    "1966-05-31T00:00:00",
                    "1966-06-30T00:00:00",
                    "1966-07-31T00:00:00",
                    "1966-08-31T00:00:00",
                    "1966-09-30T00:00:00",
                    "1966-10-31T00:00:00",
                    "1966-11-30T00:00:00",
                    "1966-12-31T00:00:00",
                    "1967-01-31T00:00:00",
                    "1967-02-28T00:00:00",
                    "1967-03-31T00:00:00",
                    "1967-04-30T00:00:00",
                    "1967-05-31T00:00:00",
                    "1967-06-30T00:00:00",
                    "1967-07-31T00:00:00",
                    "1967-08-31T00:00:00",
                    "1967-09-30T00:00:00",
                    "1967-10-31T00:00:00",
                    "1967-11-30T00:00:00",
                    "1967-12-31T00:00:00",
                    "1968-01-31T00:00:00",
                    "1968-02-29T00:00:00",
                    "1968-03-31T00:00:00",
                    "1968-04-30T00:00:00",
                    "1968-05-31T00:00:00",
                    "1968-06-30T00:00:00",
                    "1968-07-31T00:00:00",
                    "1968-08-31T00:00:00",
                    "1968-09-30T00:00:00",
                    "1968-10-31T00:00:00",
                    "1968-11-30T00:00:00",
                    "1968-12-31T00:00:00"
                  ],
                  "xaxis": "x",
                  "y": [
                    null,
                    null,
                    null,
                    null,
                    null,
                    null,
                    null,
                    null,
                    null,
                    null,
                    null,
                    null,
                    null,
                    null,
                    null,
                    null,
                    null,
                    null,
                    null,
                    null,
                    null,
                    null,
                    null,
                    null,
                    null,
                    null,
                    null,
                    null,
                    null,
                    null,
                    null,
                    null,
                    null,
                    null,
                    null,
                    null,
                    null,
                    null,
                    null,
                    null,
                    null,
                    null,
                    null,
                    null,
                    null,
                    null,
                    null,
                    null,
                    null,
                    null,
                    null,
                    null,
                    null,
                    null,
                    null,
                    null,
                    null,
                    null,
                    null,
                    null,
                    null,
                    null,
                    null,
                    null,
                    null,
                    null,
                    null,
                    null,
                    null,
                    null,
                    null,
                    null,
                    null,
                    null,
                    null,
                    null,
                    null,
                    null,
                    null,
                    null,
                    null,
                    null,
                    null,
                    null,
                    null,
                    null,
                    null,
                    null,
                    null,
                    null,
                    null,
                    null,
                    null,
                    null,
                    null,
                    null,
                    null,
                    null,
                    null,
                    null,
                    null,
                    null,
                    null,
                    null,
                    null,
                    null,
                    null,
                    null,
                    null,
                    null,
                    null,
                    null,
                    null,
                    null,
                    null,
                    null,
                    null,
                    null,
                    null,
                    null,
                    null,
                    null,
                    null,
                    null,
                    null,
                    null,
                    null,
                    null,
                    null,
                    null,
                    null,
                    null,
                    null,
                    null,
                    null,
                    null,
                    null,
                    null,
                    null,
                    null,
                    null,
                    null,
                    null,
                    null,
                    445.24146953858104,
                    418.2247177675106,
                    465.310595982305,
                    494.95063872555954,
                    505.47513467743073,
                    573.3123069093614,
                    663.5955499453904,
                    654.9032538780616,
                    546.7594510829888,
                    488.4442121730103,
                    415.7210229449344,
                    460.3736632921722,
                    474.06696897618554,
                    445.15582214417066,
                    495.11381317398207,
                    526.4839956303963,
                    537.5089352538132,
                    609.4543252538227,
                    705.2104690527395,
                    695.7595555237036,
                    580.692763308036,
                    518.602354755017,
                    441.2576053882418,
                    488.5091093413754,
                    502.89246841379,
                    472.08692652083084,
                    524.9170303656591,
                    558.017352535233,
                    569.5427358301959,
                    645.5963435982841,
                    746.8253881600887,
                    736.6158571693455,
                    614.6260755330834,
                    548.7604973370236,
                    466.7941878315492,
                    516.6445553905786,
                    531.7179678513946,
                    499.0180308974909,
                    554.720247557336,
                    589.5507094400699,
                    601.5765364065783,
                    681.7383619427453,
                    788.4403072674377,
                    777.4721588149876,
                    648.5593877581306,
                    578.91863991903,
                    492.33077027485666,
                    544.7800014397819,
                    560.5434672889992,
                    525.949135274151,
                    584.5234647490131,
                    621.0840663449065,
                    633.6103369829608,
                    717.8803802872068,
                    830.0552263747869,
                    818.3284604606295,
                    682.4926999831778,
                    609.0767825010366,
                    517.8673527181642,
                    572.9154474889851,
                    589.3689667266036,
                    552.8802396508112,
                    614.3266819406902,
                    652.6174232497433,
                    665.6441375593433,
                    754.022398631668,
                    871.6701454821359,
                    859.1847621062713,
                    716.4260122082252,
                    639.2349250830433,
                    543.4039351614715,
                    601.0508935381883,
                    618.1944661642083,
                    579.8113440274713,
                    644.1298991323671,
                    684.1507801545802,
                    697.6779381357259,
                    790.1644169761294,
                    913.2850645894852,
                    900.0410637519133,
                    750.3593244332724,
                    669.3930676650499,
                    568.940517604779,
                    629.1863395873918,
                    647.0199656018127,
                    606.7424484041314,
                    673.9331163240442,
                    715.6841370594169,
                    729.7117387121084,
                    826.3064353205907,
                    954.8999836968343,
                    940.8973653975552,
                    784.2926366583197,
                    699.5512102470565,
                    594.4771000480864,
                    657.321785636595
                  ],
                  "yaxis": "y"
                },
                {
                  "hovertemplate": "variable=prophet_multiplicative<br>index=%{x}<br>value=%{y}<extra></extra>",
                  "legendgroup": "prophet_multiplicative",
                  "line": {
                    "color": "#FFA15A",
                    "dash": "solid"
                  },
                  "marker": {
                    "symbol": "circle"
                  },
                  "mode": "lines",
                  "name": "prophet_multiplicative",
                  "showlegend": true,
                  "type": "scattergl",
                  "x": [
                    "1949-01-31T00:00:00",
                    "1949-02-28T00:00:00",
                    "1949-03-31T00:00:00",
                    "1949-04-30T00:00:00",
                    "1949-05-31T00:00:00",
                    "1949-06-30T00:00:00",
                    "1949-07-31T00:00:00",
                    "1949-08-31T00:00:00",
                    "1949-09-30T00:00:00",
                    "1949-10-31T00:00:00",
                    "1949-11-30T00:00:00",
                    "1949-12-31T00:00:00",
                    "1950-01-31T00:00:00",
                    "1950-02-28T00:00:00",
                    "1950-03-31T00:00:00",
                    "1950-04-30T00:00:00",
                    "1950-05-31T00:00:00",
                    "1950-06-30T00:00:00",
                    "1950-07-31T00:00:00",
                    "1950-08-31T00:00:00",
                    "1950-09-30T00:00:00",
                    "1950-10-31T00:00:00",
                    "1950-11-30T00:00:00",
                    "1950-12-31T00:00:00",
                    "1951-01-31T00:00:00",
                    "1951-02-28T00:00:00",
                    "1951-03-31T00:00:00",
                    "1951-04-30T00:00:00",
                    "1951-05-31T00:00:00",
                    "1951-06-30T00:00:00",
                    "1951-07-31T00:00:00",
                    "1951-08-31T00:00:00",
                    "1951-09-30T00:00:00",
                    "1951-10-31T00:00:00",
                    "1951-11-30T00:00:00",
                    "1951-12-31T00:00:00",
                    "1952-01-31T00:00:00",
                    "1952-02-29T00:00:00",
                    "1952-03-31T00:00:00",
                    "1952-04-30T00:00:00",
                    "1952-05-31T00:00:00",
                    "1952-06-30T00:00:00",
                    "1952-07-31T00:00:00",
                    "1952-08-31T00:00:00",
                    "1952-09-30T00:00:00",
                    "1952-10-31T00:00:00",
                    "1952-11-30T00:00:00",
                    "1952-12-31T00:00:00",
                    "1953-01-31T00:00:00",
                    "1953-02-28T00:00:00",
                    "1953-03-31T00:00:00",
                    "1953-04-30T00:00:00",
                    "1953-05-31T00:00:00",
                    "1953-06-30T00:00:00",
                    "1953-07-31T00:00:00",
                    "1953-08-31T00:00:00",
                    "1953-09-30T00:00:00",
                    "1953-10-31T00:00:00",
                    "1953-11-30T00:00:00",
                    "1953-12-31T00:00:00",
                    "1954-01-31T00:00:00",
                    "1954-02-28T00:00:00",
                    "1954-03-31T00:00:00",
                    "1954-04-30T00:00:00",
                    "1954-05-31T00:00:00",
                    "1954-06-30T00:00:00",
                    "1954-07-31T00:00:00",
                    "1954-08-31T00:00:00",
                    "1954-09-30T00:00:00",
                    "1954-10-31T00:00:00",
                    "1954-11-30T00:00:00",
                    "1954-12-31T00:00:00",
                    "1955-01-31T00:00:00",
                    "1955-02-28T00:00:00",
                    "1955-03-31T00:00:00",
                    "1955-04-30T00:00:00",
                    "1955-05-31T00:00:00",
                    "1955-06-30T00:00:00",
                    "1955-07-31T00:00:00",
                    "1955-08-31T00:00:00",
                    "1955-09-30T00:00:00",
                    "1955-10-31T00:00:00",
                    "1955-11-30T00:00:00",
                    "1955-12-31T00:00:00",
                    "1956-01-31T00:00:00",
                    "1956-02-29T00:00:00",
                    "1956-03-31T00:00:00",
                    "1956-04-30T00:00:00",
                    "1956-05-31T00:00:00",
                    "1956-06-30T00:00:00",
                    "1956-07-31T00:00:00",
                    "1956-08-31T00:00:00",
                    "1956-09-30T00:00:00",
                    "1956-10-31T00:00:00",
                    "1956-11-30T00:00:00",
                    "1956-12-31T00:00:00",
                    "1957-01-31T00:00:00",
                    "1957-02-28T00:00:00",
                    "1957-03-31T00:00:00",
                    "1957-04-30T00:00:00",
                    "1957-05-31T00:00:00",
                    "1957-06-30T00:00:00",
                    "1957-07-31T00:00:00",
                    "1957-08-31T00:00:00",
                    "1957-09-30T00:00:00",
                    "1957-10-31T00:00:00",
                    "1957-11-30T00:00:00",
                    "1957-12-31T00:00:00",
                    "1958-01-31T00:00:00",
                    "1958-02-28T00:00:00",
                    "1958-03-31T00:00:00",
                    "1958-04-30T00:00:00",
                    "1958-05-31T00:00:00",
                    "1958-06-30T00:00:00",
                    "1958-07-31T00:00:00",
                    "1958-08-31T00:00:00",
                    "1958-09-30T00:00:00",
                    "1958-10-31T00:00:00",
                    "1958-11-30T00:00:00",
                    "1958-12-31T00:00:00",
                    "1959-01-31T00:00:00",
                    "1959-02-28T00:00:00",
                    "1959-03-31T00:00:00",
                    "1959-04-30T00:00:00",
                    "1959-05-31T00:00:00",
                    "1959-06-30T00:00:00",
                    "1959-07-31T00:00:00",
                    "1959-08-31T00:00:00",
                    "1959-09-30T00:00:00",
                    "1959-10-31T00:00:00",
                    "1959-11-30T00:00:00",
                    "1959-12-31T00:00:00",
                    "1960-01-31T00:00:00",
                    "1960-02-29T00:00:00",
                    "1960-03-31T00:00:00",
                    "1960-04-30T00:00:00",
                    "1960-05-31T00:00:00",
                    "1960-06-30T00:00:00",
                    "1960-07-31T00:00:00",
                    "1960-08-31T00:00:00",
                    "1960-09-30T00:00:00",
                    "1960-10-31T00:00:00",
                    "1960-11-30T00:00:00",
                    "1960-12-31T00:00:00",
                    "1961-01-31T00:00:00",
                    "1961-02-28T00:00:00",
                    "1961-03-31T00:00:00",
                    "1961-04-30T00:00:00",
                    "1961-05-31T00:00:00",
                    "1961-06-30T00:00:00",
                    "1961-07-31T00:00:00",
                    "1961-08-31T00:00:00",
                    "1961-09-30T00:00:00",
                    "1961-10-31T00:00:00",
                    "1961-11-30T00:00:00",
                    "1961-12-31T00:00:00",
                    "1962-01-31T00:00:00",
                    "1962-02-28T00:00:00",
                    "1962-03-31T00:00:00",
                    "1962-04-30T00:00:00",
                    "1962-05-31T00:00:00",
                    "1962-06-30T00:00:00",
                    "1962-07-31T00:00:00",
                    "1962-08-31T00:00:00",
                    "1962-09-30T00:00:00",
                    "1962-10-31T00:00:00",
                    "1962-11-30T00:00:00",
                    "1962-12-31T00:00:00",
                    "1963-01-31T00:00:00",
                    "1963-02-28T00:00:00",
                    "1963-03-31T00:00:00",
                    "1963-04-30T00:00:00",
                    "1963-05-31T00:00:00",
                    "1963-06-30T00:00:00",
                    "1963-07-31T00:00:00",
                    "1963-08-31T00:00:00",
                    "1963-09-30T00:00:00",
                    "1963-10-31T00:00:00",
                    "1963-11-30T00:00:00",
                    "1963-12-31T00:00:00",
                    "1964-01-31T00:00:00",
                    "1964-02-29T00:00:00",
                    "1964-03-31T00:00:00",
                    "1964-04-30T00:00:00",
                    "1964-05-31T00:00:00",
                    "1964-06-30T00:00:00",
                    "1964-07-31T00:00:00",
                    "1964-08-31T00:00:00",
                    "1964-09-30T00:00:00",
                    "1964-10-31T00:00:00",
                    "1964-11-30T00:00:00",
                    "1964-12-31T00:00:00",
                    "1965-01-31T00:00:00",
                    "1965-02-28T00:00:00",
                    "1965-03-31T00:00:00",
                    "1965-04-30T00:00:00",
                    "1965-05-31T00:00:00",
                    "1965-06-30T00:00:00",
                    "1965-07-31T00:00:00",
                    "1965-08-31T00:00:00",
                    "1965-09-30T00:00:00",
                    "1965-10-31T00:00:00",
                    "1965-11-30T00:00:00",
                    "1965-12-31T00:00:00",
                    "1966-01-31T00:00:00",
                    "1966-02-28T00:00:00",
                    "1966-03-31T00:00:00",
                    "1966-04-30T00:00:00",
                    "1966-05-31T00:00:00",
                    "1966-06-30T00:00:00",
                    "1966-07-31T00:00:00",
                    "1966-08-31T00:00:00",
                    "1966-09-30T00:00:00",
                    "1966-10-31T00:00:00",
                    "1966-11-30T00:00:00",
                    "1966-12-31T00:00:00",
                    "1967-01-31T00:00:00",
                    "1967-02-28T00:00:00",
                    "1967-03-31T00:00:00",
                    "1967-04-30T00:00:00",
                    "1967-05-31T00:00:00",
                    "1967-06-30T00:00:00",
                    "1967-07-31T00:00:00",
                    "1967-08-31T00:00:00",
                    "1967-09-30T00:00:00",
                    "1967-10-31T00:00:00",
                    "1967-11-30T00:00:00",
                    "1967-12-31T00:00:00",
                    "1968-01-31T00:00:00",
                    "1968-02-29T00:00:00",
                    "1968-03-31T00:00:00",
                    "1968-04-30T00:00:00",
                    "1968-05-31T00:00:00",
                    "1968-06-30T00:00:00",
                    "1968-07-31T00:00:00",
                    "1968-08-31T00:00:00",
                    "1968-09-30T00:00:00",
                    "1968-10-31T00:00:00",
                    "1968-11-30T00:00:00",
                    "1968-12-31T00:00:00"
                  ],
                  "xaxis": "x",
                  "y": [
                    null,
                    null,
                    null,
                    null,
                    null,
                    null,
                    null,
                    null,
                    null,
                    null,
                    null,
                    null,
                    null,
                    null,
                    null,
                    null,
                    null,
                    null,
                    null,
                    null,
                    null,
                    null,
                    null,
                    null,
                    null,
                    null,
                    null,
                    null,
                    null,
                    null,
                    null,
                    null,
                    null,
                    null,
                    null,
                    null,
                    null,
                    null,
                    null,
                    null,
                    null,
                    null,
                    null,
                    null,
                    null,
                    null,
                    null,
                    null,
                    null,
                    null,
                    null,
                    null,
                    null,
                    null,
                    null,
                    null,
                    null,
                    null,
                    null,
                    null,
                    null,
                    null,
                    null,
                    null,
                    null,
                    null,
                    null,
                    null,
                    null,
                    null,
                    null,
                    null,
                    null,
                    null,
                    null,
                    null,
                    null,
                    null,
                    null,
                    null,
                    null,
                    null,
                    null,
                    null,
                    null,
                    null,
                    null,
                    null,
                    null,
                    null,
                    null,
                    null,
                    null,
                    null,
                    null,
                    null,
                    null,
                    null,
                    null,
                    null,
                    null,
                    null,
                    null,
                    null,
                    null,
                    null,
                    null,
                    null,
                    null,
                    null,
                    null,
                    null,
                    null,
                    null,
                    null,
                    null,
                    null,
                    null,
                    null,
                    null,
                    null,
                    null,
                    null,
                    null,
                    null,
                    null,
                    null,
                    null,
                    null,
                    null,
                    null,
                    null,
                    null,
                    null,
                    null,
                    null,
                    null,
                    null,
                    null,
                    null,
                    null,
                    null,
                    null,
                    null,
                    447.5105617836877,
                    433.8501092934278,
                    491.42488980099677,
                    494.29115615594696,
                    503.45947664768164,
                    579.2002761131092,
                    653.8644717023567,
                    650.0877753283967,
                    553.319691981569,
                    489.0577301932627,
                    424.2995420234405,
                    473.1562227497851,
                    487.68742710185654,
                    465.49689541303445,
                    539.5903185005507,
                    530.6943939255716,
                    545.792686212218,
                    624.2423483306395,
                    707.556887600337,
                    706.2944084298433,
                    599.1455562279501,
                    525.3351154223506,
                    457.81895999309944,
                    511.7104816588394,
                    528.1303364649307,
                    496.4377540942286,
                    588.8113369785758,
                    566.2850491414519,
                    588.2611008822668,
                    668.9216681571961,
                    761.3616222770637,
                    763.004939063291,
                    645.0659625696521,
                    561.165200321436,
                    491.40135842731155,
                    550.4716207882112,
                    568.8236393596114,
                    549.873616733791,
                    607.278301225574,
                    623.471236689033,
                    627.8663431781398,
                    725.1816430313277,
                    813.878387143603,
                    804.3223003413877,
                    685.5960100473538,
                    609.7705479409609,
                    525.8845486024056,
                    583.9708364979917,
                    599.9266333255742,
                    580.6553689005374,
                    656.5267774830731,
                    659.2182319756732,
                    670.264742460977,
                    769.8031256246614,
                    867.5457326564136,
                    861.0718365967585,
                    731.7091337856327,
                    645.6579466988175,
                    559.276179376269,
                    622.6657957740283,
                    640.7623083008464,
                    610.7329684381255,
                    706.8365070157587,
                    694.1430218419438,
                    712.8000391710058,
                    814.0618804872752,
                    921.3314056274423,
                    918.3282060552037,
                    777.9106503920545,
                    681.0915601817601,
                    592.7361735338848,
                    661.5722090816796,
                    681.8456514303258,
                    640.1272542327832,
                    758.1972733645689,
                    728.2341049910701,
                    755.4802714074955,
                    857.9659764188747,
                    975.2478604369038,
                    976.0827170802878,
                    824.1808426838433,
                    716.0707781469304,
                    626.2845854137441,
                    700.6939415657433,
                    723.1605026420176,
                    698.2696267524321,
                    770.2331608929217,
                    789.8544804571577,
                    794.4790544972741,
                    916.5753747525915,
                    1027.4852171748005,
                    1014.2520118541609,
                    863.5840189226526,
                    767.2062255815616,
                    660.945792906827,
                    733.1373223830271
                  ],
                  "yaxis": "y"
                }
              ],
              "layout": {
                "legend": {
                  "title": {
                    "text": "variable"
                  },
                  "tracegroupgap": 0
                },
                "margin": {
                  "t": 60
                },
                "template": {
                  "data": {
                    "bar": [
                      {
                        "error_x": {
                          "color": "#f2f5fa"
                        },
                        "error_y": {
                          "color": "#f2f5fa"
                        },
                        "marker": {
                          "line": {
                            "color": "rgb(17,17,17)",
                            "width": 0.5
                          },
                          "pattern": {
                            "fillmode": "overlay",
                            "size": 10,
                            "solidity": 0.2
                          }
                        },
                        "type": "bar"
                      }
                    ],
                    "barpolar": [
                      {
                        "marker": {
                          "line": {
                            "color": "rgb(17,17,17)",
                            "width": 0.5
                          },
                          "pattern": {
                            "fillmode": "overlay",
                            "size": 10,
                            "solidity": 0.2
                          }
                        },
                        "type": "barpolar"
                      }
                    ],
                    "carpet": [
                      {
                        "aaxis": {
                          "endlinecolor": "#A2B1C6",
                          "gridcolor": "#506784",
                          "linecolor": "#506784",
                          "minorgridcolor": "#506784",
                          "startlinecolor": "#A2B1C6"
                        },
                        "baxis": {
                          "endlinecolor": "#A2B1C6",
                          "gridcolor": "#506784",
                          "linecolor": "#506784",
                          "minorgridcolor": "#506784",
                          "startlinecolor": "#A2B1C6"
                        },
                        "type": "carpet"
                      }
                    ],
                    "choropleth": [
                      {
                        "colorbar": {
                          "outlinewidth": 0,
                          "ticks": ""
                        },
                        "type": "choropleth"
                      }
                    ],
                    "contour": [
                      {
                        "colorbar": {
                          "outlinewidth": 0,
                          "ticks": ""
                        },
                        "colorscale": [
                          [
                            0,
                            "#0d0887"
                          ],
                          [
                            0.1111111111111111,
                            "#46039f"
                          ],
                          [
                            0.2222222222222222,
                            "#7201a8"
                          ],
                          [
                            0.3333333333333333,
                            "#9c179e"
                          ],
                          [
                            0.4444444444444444,
                            "#bd3786"
                          ],
                          [
                            0.5555555555555556,
                            "#d8576b"
                          ],
                          [
                            0.6666666666666666,
                            "#ed7953"
                          ],
                          [
                            0.7777777777777778,
                            "#fb9f3a"
                          ],
                          [
                            0.8888888888888888,
                            "#fdca26"
                          ],
                          [
                            1,
                            "#f0f921"
                          ]
                        ],
                        "type": "contour"
                      }
                    ],
                    "contourcarpet": [
                      {
                        "colorbar": {
                          "outlinewidth": 0,
                          "ticks": ""
                        },
                        "type": "contourcarpet"
                      }
                    ],
                    "heatmap": [
                      {
                        "colorbar": {
                          "outlinewidth": 0,
                          "ticks": ""
                        },
                        "colorscale": [
                          [
                            0,
                            "#0d0887"
                          ],
                          [
                            0.1111111111111111,
                            "#46039f"
                          ],
                          [
                            0.2222222222222222,
                            "#7201a8"
                          ],
                          [
                            0.3333333333333333,
                            "#9c179e"
                          ],
                          [
                            0.4444444444444444,
                            "#bd3786"
                          ],
                          [
                            0.5555555555555556,
                            "#d8576b"
                          ],
                          [
                            0.6666666666666666,
                            "#ed7953"
                          ],
                          [
                            0.7777777777777778,
                            "#fb9f3a"
                          ],
                          [
                            0.8888888888888888,
                            "#fdca26"
                          ],
                          [
                            1,
                            "#f0f921"
                          ]
                        ],
                        "type": "heatmap"
                      }
                    ],
                    "heatmapgl": [
                      {
                        "colorbar": {
                          "outlinewidth": 0,
                          "ticks": ""
                        },
                        "colorscale": [
                          [
                            0,
                            "#0d0887"
                          ],
                          [
                            0.1111111111111111,
                            "#46039f"
                          ],
                          [
                            0.2222222222222222,
                            "#7201a8"
                          ],
                          [
                            0.3333333333333333,
                            "#9c179e"
                          ],
                          [
                            0.4444444444444444,
                            "#bd3786"
                          ],
                          [
                            0.5555555555555556,
                            "#d8576b"
                          ],
                          [
                            0.6666666666666666,
                            "#ed7953"
                          ],
                          [
                            0.7777777777777778,
                            "#fb9f3a"
                          ],
                          [
                            0.8888888888888888,
                            "#fdca26"
                          ],
                          [
                            1,
                            "#f0f921"
                          ]
                        ],
                        "type": "heatmapgl"
                      }
                    ],
                    "histogram": [
                      {
                        "marker": {
                          "pattern": {
                            "fillmode": "overlay",
                            "size": 10,
                            "solidity": 0.2
                          }
                        },
                        "type": "histogram"
                      }
                    ],
                    "histogram2d": [
                      {
                        "colorbar": {
                          "outlinewidth": 0,
                          "ticks": ""
                        },
                        "colorscale": [
                          [
                            0,
                            "#0d0887"
                          ],
                          [
                            0.1111111111111111,
                            "#46039f"
                          ],
                          [
                            0.2222222222222222,
                            "#7201a8"
                          ],
                          [
                            0.3333333333333333,
                            "#9c179e"
                          ],
                          [
                            0.4444444444444444,
                            "#bd3786"
                          ],
                          [
                            0.5555555555555556,
                            "#d8576b"
                          ],
                          [
                            0.6666666666666666,
                            "#ed7953"
                          ],
                          [
                            0.7777777777777778,
                            "#fb9f3a"
                          ],
                          [
                            0.8888888888888888,
                            "#fdca26"
                          ],
                          [
                            1,
                            "#f0f921"
                          ]
                        ],
                        "type": "histogram2d"
                      }
                    ],
                    "histogram2dcontour": [
                      {
                        "colorbar": {
                          "outlinewidth": 0,
                          "ticks": ""
                        },
                        "colorscale": [
                          [
                            0,
                            "#0d0887"
                          ],
                          [
                            0.1111111111111111,
                            "#46039f"
                          ],
                          [
                            0.2222222222222222,
                            "#7201a8"
                          ],
                          [
                            0.3333333333333333,
                            "#9c179e"
                          ],
                          [
                            0.4444444444444444,
                            "#bd3786"
                          ],
                          [
                            0.5555555555555556,
                            "#d8576b"
                          ],
                          [
                            0.6666666666666666,
                            "#ed7953"
                          ],
                          [
                            0.7777777777777778,
                            "#fb9f3a"
                          ],
                          [
                            0.8888888888888888,
                            "#fdca26"
                          ],
                          [
                            1,
                            "#f0f921"
                          ]
                        ],
                        "type": "histogram2dcontour"
                      }
                    ],
                    "mesh3d": [
                      {
                        "colorbar": {
                          "outlinewidth": 0,
                          "ticks": ""
                        },
                        "type": "mesh3d"
                      }
                    ],
                    "parcoords": [
                      {
                        "line": {
                          "colorbar": {
                            "outlinewidth": 0,
                            "ticks": ""
                          }
                        },
                        "type": "parcoords"
                      }
                    ],
                    "pie": [
                      {
                        "automargin": true,
                        "type": "pie"
                      }
                    ],
                    "scatter": [
                      {
                        "marker": {
                          "line": {
                            "color": "#283442"
                          }
                        },
                        "type": "scatter"
                      }
                    ],
                    "scatter3d": [
                      {
                        "line": {
                          "colorbar": {
                            "outlinewidth": 0,
                            "ticks": ""
                          }
                        },
                        "marker": {
                          "colorbar": {
                            "outlinewidth": 0,
                            "ticks": ""
                          }
                        },
                        "type": "scatter3d"
                      }
                    ],
                    "scattercarpet": [
                      {
                        "marker": {
                          "colorbar": {
                            "outlinewidth": 0,
                            "ticks": ""
                          }
                        },
                        "type": "scattercarpet"
                      }
                    ],
                    "scattergeo": [
                      {
                        "marker": {
                          "colorbar": {
                            "outlinewidth": 0,
                            "ticks": ""
                          }
                        },
                        "type": "scattergeo"
                      }
                    ],
                    "scattergl": [
                      {
                        "marker": {
                          "line": {
                            "color": "#283442"
                          }
                        },
                        "type": "scattergl"
                      }
                    ],
                    "scattermapbox": [
                      {
                        "marker": {
                          "colorbar": {
                            "outlinewidth": 0,
                            "ticks": ""
                          }
                        },
                        "type": "scattermapbox"
                      }
                    ],
                    "scatterpolar": [
                      {
                        "marker": {
                          "colorbar": {
                            "outlinewidth": 0,
                            "ticks": ""
                          }
                        },
                        "type": "scatterpolar"
                      }
                    ],
                    "scatterpolargl": [
                      {
                        "marker": {
                          "colorbar": {
                            "outlinewidth": 0,
                            "ticks": ""
                          }
                        },
                        "type": "scatterpolargl"
                      }
                    ],
                    "scatterternary": [
                      {
                        "marker": {
                          "colorbar": {
                            "outlinewidth": 0,
                            "ticks": ""
                          }
                        },
                        "type": "scatterternary"
                      }
                    ],
                    "surface": [
                      {
                        "colorbar": {
                          "outlinewidth": 0,
                          "ticks": ""
                        },
                        "colorscale": [
                          [
                            0,
                            "#0d0887"
                          ],
                          [
                            0.1111111111111111,
                            "#46039f"
                          ],
                          [
                            0.2222222222222222,
                            "#7201a8"
                          ],
                          [
                            0.3333333333333333,
                            "#9c179e"
                          ],
                          [
                            0.4444444444444444,
                            "#bd3786"
                          ],
                          [
                            0.5555555555555556,
                            "#d8576b"
                          ],
                          [
                            0.6666666666666666,
                            "#ed7953"
                          ],
                          [
                            0.7777777777777778,
                            "#fb9f3a"
                          ],
                          [
                            0.8888888888888888,
                            "#fdca26"
                          ],
                          [
                            1,
                            "#f0f921"
                          ]
                        ],
                        "type": "surface"
                      }
                    ],
                    "table": [
                      {
                        "cells": {
                          "fill": {
                            "color": "#506784"
                          },
                          "line": {
                            "color": "rgb(17,17,17)"
                          }
                        },
                        "header": {
                          "fill": {
                            "color": "#2a3f5f"
                          },
                          "line": {
                            "color": "rgb(17,17,17)"
                          }
                        },
                        "type": "table"
                      }
                    ]
                  },
                  "layout": {
                    "annotationdefaults": {
                      "arrowcolor": "#f2f5fa",
                      "arrowhead": 0,
                      "arrowwidth": 1
                    },
                    "autosize": false,
                    "autotypenumbers": "strict",
                    "coloraxis": {
                      "colorbar": {
                        "outlinewidth": 0,
                        "ticks": ""
                      }
                    },
                    "colorscale": {
                      "diverging": [
                        [
                          0,
                          "#8e0152"
                        ],
                        [
                          0.1,
                          "#c51b7d"
                        ],
                        [
                          0.2,
                          "#de77ae"
                        ],
                        [
                          0.3,
                          "#f1b6da"
                        ],
                        [
                          0.4,
                          "#fde0ef"
                        ],
                        [
                          0.5,
                          "#f7f7f7"
                        ],
                        [
                          0.6,
                          "#e6f5d0"
                        ],
                        [
                          0.7,
                          "#b8e186"
                        ],
                        [
                          0.8,
                          "#7fbc41"
                        ],
                        [
                          0.9,
                          "#4d9221"
                        ],
                        [
                          1,
                          "#276419"
                        ]
                      ],
                      "sequential": [
                        [
                          0,
                          "#0d0887"
                        ],
                        [
                          0.1111111111111111,
                          "#46039f"
                        ],
                        [
                          0.2222222222222222,
                          "#7201a8"
                        ],
                        [
                          0.3333333333333333,
                          "#9c179e"
                        ],
                        [
                          0.4444444444444444,
                          "#bd3786"
                        ],
                        [
                          0.5555555555555556,
                          "#d8576b"
                        ],
                        [
                          0.6666666666666666,
                          "#ed7953"
                        ],
                        [
                          0.7777777777777778,
                          "#fb9f3a"
                        ],
                        [
                          0.8888888888888888,
                          "#fdca26"
                        ],
                        [
                          1,
                          "#f0f921"
                        ]
                      ],
                      "sequentialminus": [
                        [
                          0,
                          "#0d0887"
                        ],
                        [
                          0.1111111111111111,
                          "#46039f"
                        ],
                        [
                          0.2222222222222222,
                          "#7201a8"
                        ],
                        [
                          0.3333333333333333,
                          "#9c179e"
                        ],
                        [
                          0.4444444444444444,
                          "#bd3786"
                        ],
                        [
                          0.5555555555555556,
                          "#d8576b"
                        ],
                        [
                          0.6666666666666666,
                          "#ed7953"
                        ],
                        [
                          0.7777777777777778,
                          "#fb9f3a"
                        ],
                        [
                          0.8888888888888888,
                          "#fdca26"
                        ],
                        [
                          1,
                          "#f0f921"
                        ]
                      ]
                    },
                    "colorway": [
                      "#636efa",
                      "#EF553B",
                      "#00cc96",
                      "#ab63fa",
                      "#FFA15A",
                      "#19d3f3",
                      "#FF6692",
                      "#B6E880",
                      "#FF97FF",
                      "#FECB52"
                    ],
                    "font": {
                      "color": "#f2f5fa"
                    },
                    "geo": {
                      "bgcolor": "rgb(17,17,17)",
                      "lakecolor": "rgb(17,17,17)",
                      "landcolor": "rgb(17,17,17)",
                      "showlakes": true,
                      "showland": true,
                      "subunitcolor": "#506784"
                    },
                    "height": 500,
                    "hoverlabel": {
                      "align": "left"
                    },
                    "hovermode": "closest",
                    "mapbox": {
                      "style": "dark"
                    },
                    "paper_bgcolor": "rgb(17,17,17)",
                    "plot_bgcolor": "rgb(17,17,17)",
                    "polar": {
                      "angularaxis": {
                        "gridcolor": "#506784",
                        "linecolor": "#506784",
                        "ticks": ""
                      },
                      "bgcolor": "rgb(17,17,17)",
                      "radialaxis": {
                        "gridcolor": "#506784",
                        "linecolor": "#506784",
                        "ticks": ""
                      }
                    },
                    "scene": {
                      "xaxis": {
                        "backgroundcolor": "rgb(17,17,17)",
                        "gridcolor": "#506784",
                        "gridwidth": 2,
                        "linecolor": "#506784",
                        "showbackground": true,
                        "ticks": "",
                        "zerolinecolor": "#C8D4E3"
                      },
                      "yaxis": {
                        "backgroundcolor": "rgb(17,17,17)",
                        "gridcolor": "#506784",
                        "gridwidth": 2,
                        "linecolor": "#506784",
                        "showbackground": true,
                        "ticks": "",
                        "zerolinecolor": "#C8D4E3"
                      },
                      "zaxis": {
                        "backgroundcolor": "rgb(17,17,17)",
                        "gridcolor": "#506784",
                        "gridwidth": 2,
                        "linecolor": "#506784",
                        "showbackground": true,
                        "ticks": "",
                        "zerolinecolor": "#C8D4E3"
                      }
                    },
                    "shapedefaults": {
                      "line": {
                        "color": "#f2f5fa"
                      }
                    },
                    "showlegend": true,
                    "sliderdefaults": {
                      "bgcolor": "#C8D4E3",
                      "bordercolor": "rgb(17,17,17)",
                      "borderwidth": 1,
                      "tickwidth": 0
                    },
                    "ternary": {
                      "aaxis": {
                        "gridcolor": "#506784",
                        "linecolor": "#506784",
                        "ticks": ""
                      },
                      "baxis": {
                        "gridcolor": "#506784",
                        "linecolor": "#506784",
                        "ticks": ""
                      },
                      "bgcolor": "rgb(17,17,17)",
                      "caxis": {
                        "gridcolor": "#506784",
                        "linecolor": "#506784",
                        "ticks": ""
                      }
                    },
                    "title": {
                      "x": 0.05
                    },
                    "updatemenudefaults": {
                      "bgcolor": "#506784",
                      "borderwidth": 0
                    },
                    "width": 1000,
                    "xaxis": {
                      "automargin": true,
                      "gridcolor": "#283442",
                      "linecolor": "#506784",
                      "ticks": "",
                      "title": {
                        "standoff": 15
                      },
                      "zerolinecolor": "#283442",
                      "zerolinewidth": 2
                    },
                    "yaxis": {
                      "automargin": true,
                      "gridcolor": "#283442",
                      "linecolor": "#506784",
                      "ticks": "",
                      "title": {
                        "standoff": 15
                      },
                      "zerolinecolor": "#283442",
                      "zerolinewidth": 2
                    }
                  }
                },
                "xaxis": {
                  "anchor": "y",
                  "domain": [
                    0,
                    1
                  ],
                  "title": {
                    "text": "index"
                  }
                },
                "yaxis": {
                  "anchor": "x",
                  "domain": [
                    0,
                    1
                  ],
                  "title": {
                    "text": "value"
                  }
                }
              }
            }
          },
          "metadata": {},
          "output_type": "display_data"
        }
      ],
      "source": [
        "import numpy as np\n",
        "\n",
        "df = series.to_frame()\n",
        "df[\"values_log\"] = np.log(df[\"values\"])\n",
        "\n",
        "df_forecast = utils.get_model_forecast(\n",
        "    df, \"values_log\", order=(12, 1, 1), horizon=96, forecast_exp=True\n",
        ")\n",
        "df_forecast = utils.get_model_forecast(\n",
        "    df_forecast,\n",
        "    \"values_log\",\n",
        "    order=(0, 1, 1),\n",
        "    seasonal_order=(0, 1, 1, 12),\n",
        "    horizon=96,\n",
        "    forecast_exp=True,\n",
        ")\n",
        "df_forecast = utils.get_model_forecast_exponential_smoothing(\n",
        "    df_forecast,\n",
        "    \"values\",\n",
        "    horizon=96,\n",
        "    class_config={\"trend\": \"add\", \"seasonal\": \"mul\", \"seasonal_periods\": 12},\n",
        ")\n",
        "df_forecast = utils.get_model_forecast_prophet(\n",
        "    df_forecast, \"values\", mode=\"multiplicative\", horizon=96, yearly_seasonality=True\n",
        ")\n",
        "\n",
        "df_forecast = df_forecast.drop(columns=[\"values_log\"])\n",
        "df_forecast.plot(color=\"variable\")"
      ]
    },
    {
      "cell_type": "markdown",
      "id": "f84b48f6",
      "metadata": {},
      "source": [
        "## Diagnostics and assumptions"
      ]
    },
    {
      "cell_type": "markdown",
      "id": "6a513a00",
      "metadata": {},
      "source": [
        "Although Prophet is robust and doesn’t require stationarity or normal residuals, residual analysis helps confirm quality."
      ]
    },
    {
      "cell_type": "markdown",
      "id": "bdf6c76a",
      "metadata": {},
      "source": [
        "### Residual calculation"
      ]
    },
    {
      "cell_type": "code",
      "execution_count": 11,
      "id": "76d837ab",
      "metadata": {},
      "outputs": [
        {
          "data": {
            "text/plain": [
              "ds\n",
              "1949-01-31     9.102743\n",
              "1949-02-28    17.532820\n",
              "                ...    \n",
              "1960-11-30    -0.823304\n",
              "1960-12-31    -2.804351\n",
              "Name: residuals, Length: 144, dtype: float64"
            ]
          },
          "execution_count": 11,
          "metadata": {},
          "output_type": "execute_result"
        }
      ],
      "source": [
        "model = Prophet(\n",
        "    yearly_seasonality=True,\n",
        "    weekly_seasonality=False,\n",
        "    daily_seasonality=False,\n",
        "    holidays=holidays,\n",
        "    seasonality_mode=\"multiplicative\",\n",
        ")\n",
        "\n",
        "model.fit(df)\n",
        "\n",
        "forecast = model.predict(df)\n",
        "\n",
        "df_forecast = forecast.set_index(\"ds\")[[\"yhat\"]].join(df.set_index(\"ds\"))\n",
        "df_forecast[\"residuals\"] = df_forecast[\"y\"] - df_forecast[\"yhat\"]\n",
        "\n",
        "residuals = df_forecast[\"residuals\"].dropna()\n",
        "residuals"
      ]
    },
    {
      "cell_type": "markdown",
      "id": "597610fe",
      "metadata": {},
      "source": [
        "### Autocorrelation"
      ]
    },
    {
      "cell_type": "markdown",
      "id": "c4951d84",
      "metadata": {},
      "source": [
        "#### Plot"
      ]
    },
    {
      "cell_type": "code",
      "execution_count": 12,
      "id": "fd82727b",
      "metadata": {},
      "outputs": [
        {
          "data": {
            "image/png": "[encoded data removed]",
            "text/plain": [
              "<Figure size 640x480 with 1 Axes>"
            ]
          },
          "metadata": {},
          "output_type": "display_data"
        }
      ],
      "source": [
        "from statsmodels.graphics.tsaplots import plot_acf\n",
        "plot_acf(residuals);"
      ]
    },
    {
      "cell_type": "markdown",
      "id": "dbf00de4",
      "metadata": {},
      "source": [
        "#### Test: Ljung-Box"
      ]
    },
    {
      "cell_type": "code",
      "execution_count": 13,
      "id": "d7d049f7",
      "metadata": {},
      "outputs": [
        {
          "data": {
            "text/html": [
              "<style type=\"text/css\">\n",
              "</style>\n",
              "<table id=\"T_946c7\">\n",
              "  <thead>\n",
              "    <tr>\n",
              "      <th class=\"blank level0\" >&nbsp;</th>\n",
              "      <th id=\"T_946c7_level0_col0\" class=\"col_heading level0 col0\" >lb_stat</th>\n",
              "      <th id=\"T_946c7_level0_col1\" class=\"col_heading level0 col1\" >lb_pvalue</th>\n",
              "    </tr>\n",
              "  </thead>\n",
              "  <tbody>\n",
              "    <tr>\n",
              "      <th id=\"T_946c7_level0_row0\" class=\"row_heading level0 row0\" >10</th>\n",
              "      <td id=\"T_946c7_row0_col0\" class=\"data row0 col0\" >82.668229</td>\n",
              "      <td id=\"T_946c7_row0_col1\" class=\"data row0 col1\" >0.000000</td>\n",
              "    </tr>\n",
              "    <tr>\n",
              "      <th id=\"T_946c7_level0_row1\" class=\"row_heading level0 row1\" >20</th>\n",
              "      <td id=\"T_946c7_row1_col0\" class=\"data row1 col0\" >167.529442</td>\n",
              "      <td id=\"T_946c7_row1_col1\" class=\"data row1 col1\" >0.000000</td>\n",
              "    </tr>\n",
              "    <tr>\n",
              "      <th id=\"T_946c7_level0_row2\" class=\"row_heading level0 row2\" >30</th>\n",
              "      <td id=\"T_946c7_row2_col0\" class=\"data row2 col0\" >219.288026</td>\n",
              "      <td id=\"T_946c7_row2_col1\" class=\"data row2 col1\" >0.000000</td>\n",
              "    </tr>\n",
              "  </tbody>\n",
              "</table>\n"
            ],
            "text/plain": [
              "<pandas.io.formats.style.Styler at 0x30eb70d70>"
            ]
          },
          "execution_count": 13,
          "metadata": {},
          "output_type": "execute_result"
        }
      ],
      "source": [
        "from statsmodels.stats.diagnostic import acorr_ljungbox\n",
        "acorr_ljungbox(residuals, lags=[10, 20, 30]).style"
      ]
    },
    {
      "cell_type": "markdown",
      "id": "5c34e9c6",
      "metadata": {},
      "source": [
        "### Normality"
      ]
    },
    {
      "cell_type": "markdown",
      "id": "a3e45393",
      "metadata": {},
      "source": [
        "#### Plot"
      ]
    },
    {
      "cell_type": "code",
      "execution_count": 14,
      "id": "894c7398",
      "metadata": {},
      "outputs": [
        {
          "data": {
            "image/png": "[encoded data removed]",
            "text/plain": [
              "<Figure size 640x480 with 1 Axes>"
            ]
          },
          "metadata": {},
          "output_type": "display_data"
        }
      ],
      "source": [
        "from scipy import stats\n",
        "import matplotlib.pyplot as plt\n",
        "\n",
        "fig, ax = plt.subplots()\n",
        "stats.probplot(residuals, dist='norm', plot=ax);"
      ]
    },
    {
      "cell_type": "markdown",
      "id": "f52c25db",
      "metadata": {},
      "source": [
        "#### Test: Jarque-Bera"
      ]
    },
    {
      "cell_type": "code",
      "execution_count": 15,
      "id": "c29d030b",
      "metadata": {},
      "outputs": [
        {
          "data": {
            "text/plain": [
              "SignificanceResult(statistic=np.float64(0.018871983201470002), pvalue=np.float64(0.9906083876708386))"
            ]
          },
          "execution_count": 15,
          "metadata": {},
          "output_type": "execute_result"
        }
      ],
      "source": [
        "from scipy.stats import jarque_bera\n",
        "jarque_bera(residuals)"
      ]
    },
    {
      "cell_type": "markdown",
      "id": "dcc9bbb1",
      "metadata": {},
      "source": [
        "### Homoscedasticity"
      ]
    },
    {
      "cell_type": "markdown",
      "id": "4e7417d5",
      "metadata": {},
      "source": [
        "#### Plot"
      ]
    },
    {
      "cell_type": "code",
      "execution_count": 16,
      "id": "f8b0c1dd",
      "metadata": {},
      "outputs": [
        {
          "data": {
            "application/vnd.plotly.v1+json": {
              "config": {
                "plotlyServerURL": "https://plot.ly"
              },
              "data": [
                {
                  "hovertemplate": "variable=residuals<br>ds=%{x}<br>value=%{y}<extra></extra>",
                  "legendgroup": "residuals",
                  "line": {
                    "color": "#636efa",
                    "dash": "solid"
                  },
                  "marker": {
                    "symbol": "circle"
                  },
                  "mode": "lines",
                  "name": "residuals",
                  "orientation": "v",
                  "showlegend": true,
                  "type": "scatter",
                  "x": [
                    "1949-01-31T00:00:00.000000000",
                    "1949-02-28T00:00:00.000000000",
                    "1949-03-31T00:00:00.000000000",
                    "1949-04-30T00:00:00.000000000",
                    "1949-05-31T00:00:00.000000000",
                    "1949-06-30T00:00:00.000000000",
                    "1949-07-31T00:00:00.000000000",
                    "1949-08-31T00:00:00.000000000",
                    "1949-09-30T00:00:00.000000000",
                    "1949-10-31T00:00:00.000000000",
                    "1949-11-30T00:00:00.000000000",
                    "1949-12-31T00:00:00.000000000",
                    "1950-01-31T00:00:00.000000000",
                    "1950-02-28T00:00:00.000000000",
                    "1950-03-31T00:00:00.000000000",
                    "1950-04-30T00:00:00.000000000",
                    "1950-05-31T00:00:00.000000000",
                    "1950-06-30T00:00:00.000000000",
                    "1950-07-31T00:00:00.000000000",
                    "1950-08-31T00:00:00.000000000",
                    "1950-09-30T00:00:00.000000000",
                    "1950-10-31T00:00:00.000000000",
                    "1950-11-30T00:00:00.000000000",
                    "1950-12-31T00:00:00.000000000",
                    "1951-01-31T00:00:00.000000000",
                    "1951-02-28T00:00:00.000000000",
                    "1951-03-31T00:00:00.000000000",
                    "1951-04-30T00:00:00.000000000",
                    "1951-05-31T00:00:00.000000000",
                    "1951-06-30T00:00:00.000000000",
                    "1951-07-31T00:00:00.000000000",
                    "1951-08-31T00:00:00.000000000",
                    "1951-09-30T00:00:00.000000000",
                    "1951-10-31T00:00:00.000000000",
                    "1951-11-30T00:00:00.000000000",
                    "1951-12-31T00:00:00.000000000",
                    "1952-01-31T00:00:00.000000000",
                    "1952-02-29T00:00:00.000000000",
                    "1952-03-31T00:00:00.000000000",
                    "1952-04-30T00:00:00.000000000",
                    "1952-05-31T00:00:00.000000000",
                    "1952-06-30T00:00:00.000000000",
                    "1952-07-31T00:00:00.000000000",
                    "1952-08-31T00:00:00.000000000",
                    "1952-09-30T00:00:00.000000000",
                    "1952-10-31T00:00:00.000000000",
                    "1952-11-30T00:00:00.000000000",
                    "1952-12-31T00:00:00.000000000",
                    "1953-01-31T00:00:00.000000000",
                    "1953-02-28T00:00:00.000000000",
                    "1953-03-31T00:00:00.000000000",
                    "1953-04-30T00:00:00.000000000",
                    "1953-05-31T00:00:00.000000000",
                    "1953-06-30T00:00:00.000000000",
                    "1953-07-31T00:00:00.000000000",
                    "1953-08-31T00:00:00.000000000",
                    "1953-09-30T00:00:00.000000000",
                    "1953-10-31T00:00:00.000000000",
                    "1953-11-30T00:00:00.000000000",
                    "1953-12-31T00:00:00.000000000",
                    "1954-01-31T00:00:00.000000000",
                    "1954-02-28T00:00:00.000000000",
                    "1954-03-31T00:00:00.000000000",
                    "1954-04-30T00:00:00.000000000",
                    "1954-05-31T00:00:00.000000000",
                    "1954-06-30T00:00:00.000000000",
                    "1954-07-31T00:00:00.000000000",
                    "1954-08-31T00:00:00.000000000",
                    "1954-09-30T00:00:00.000000000",
                    "1954-10-31T00:00:00.000000000",
                    "1954-11-30T00:00:00.000000000",
                    "1954-12-31T00:00:00.000000000",
                    "1955-01-31T00:00:00.000000000",
                    "1955-02-28T00:00:00.000000000",
                    "1955-03-31T00:00:00.000000000",
                    "1955-04-30T00:00:00.000000000",
                    "1955-05-31T00:00:00.000000000",
                    "1955-06-30T00:00:00.000000000",
                    "1955-07-31T00:00:00.000000000",
                    "1955-08-31T00:00:00.000000000",
                    "1955-09-30T00:00:00.000000000",
                    "1955-10-31T00:00:00.000000000",
                    "1955-11-30T00:00:00.000000000",
                    "1955-12-31T00:00:00.000000000",
                    "1956-01-31T00:00:00.000000000",
                    "1956-02-29T00:00:00.000000000",
                    "1956-03-31T00:00:00.000000000",
                    "1956-04-30T00:00:00.000000000",
                    "1956-05-31T00:00:00.000000000",
                    "1956-06-30T00:00:00.000000000",
                    "1956-07-31T00:00:00.000000000",
                    "1956-08-31T00:00:00.000000000",
                    "1956-09-30T00:00:00.000000000",
                    "1956-10-31T00:00:00.000000000",
                    "1956-11-30T00:00:00.000000000",
                    "1956-12-31T00:00:00.000000000",
                    "1957-01-31T00:00:00.000000000",
                    "1957-02-28T00:00:00.000000000",
                    "1957-03-31T00:00:00.000000000",
                    "1957-04-30T00:00:00.000000000",
                    "1957-05-31T00:00:00.000000000",
                    "1957-06-30T00:00:00.000000000",
                    "1957-07-31T00:00:00.000000000",
                    "1957-08-31T00:00:00.000000000",
                    "1957-09-30T00:00:00.000000000",
                    "1957-10-31T00:00:00.000000000",
                    "1957-11-30T00:00:00.000000000",
                    "1957-12-31T00:00:00.000000000",
                    "1958-01-31T00:00:00.000000000",
                    "1958-02-28T00:00:00.000000000",
                    "1958-03-31T00:00:00.000000000",
                    "1958-04-30T00:00:00.000000000",
                    "1958-05-31T00:00:00.000000000",
                    "1958-06-30T00:00:00.000000000",
                    "1958-07-31T00:00:00.000000000",
                    "1958-08-31T00:00:00.000000000",
                    "1958-09-30T00:00:00.000000000",
                    "1958-10-31T00:00:00.000000000",
                    "1958-11-30T00:00:00.000000000",
                    "1958-12-31T00:00:00.000000000",
                    "1959-01-31T00:00:00.000000000",
                    "1959-02-28T00:00:00.000000000",
                    "1959-03-31T00:00:00.000000000",
                    "1959-04-30T00:00:00.000000000",
                    "1959-05-31T00:00:00.000000000",
                    "1959-06-30T00:00:00.000000000",
                    "1959-07-31T00:00:00.000000000",
                    "1959-08-31T00:00:00.000000000",
                    "1959-09-30T00:00:00.000000000",
                    "1959-10-31T00:00:00.000000000",
                    "1959-11-30T00:00:00.000000000",
                    "1959-12-31T00:00:00.000000000",
                    "1960-01-31T00:00:00.000000000",
                    "1960-02-29T00:00:00.000000000",
                    "1960-03-31T00:00:00.000000000",
                    "1960-04-30T00:00:00.000000000",
                    "1960-05-31T00:00:00.000000000",
                    "1960-06-30T00:00:00.000000000",
                    "1960-07-31T00:00:00.000000000",
                    "1960-08-31T00:00:00.000000000",
                    "1960-09-30T00:00:00.000000000",
                    "1960-10-31T00:00:00.000000000",
                    "1960-11-30T00:00:00.000000000",
                    "1960-12-31T00:00:00.000000000"
                  ],
                  "xaxis": "x",
                  "y": {
                    "bdata": "gBSVxZo0IkAoVlblZogxQMSnpnEbUjFAWNK2gJKdKUBASvopWGz8P0AL2tgc+QjAALy8wD8RIsAwSOWIj2wiwAD7tk8B7PQ/ABA9nucC67+AhH/mQkXkv4CLmt2pOuI/QFY1BlQxG8CAAfdz/DAiQECs72uHqhJAADAzt8/4wT/A/KxvLwQtwGDs3eMm5SbAYPOaaXvGKcCw9UYPXicswABrdgul1uM/gHjxpJNdGMCI7/gzJkMgwIClxZOSlANAgNP4vAZ9/z8APrsqYVAtQDBj/ycNUDBAQHi4FW65GUDQ40IKJnIgQHBVa4/27SLAANluYJqaL8BQ472nwa4xwAC2Qqv3edW/ACqIQ1Tm4z8AsptPkKYOQMCq8DHHDxdAYAOIYo20EUAAXjuGfRUyQEBRu71mRypAQAZKo5+3EsAAClWO0SkUwAA8wSmkXta/8EDPB/FjMMDAiO6//GkGwAAB281NYue/wF5yWsn6C0CQ4/6ri/wiQJCrRdQCRilAAKB8pviEIUAQG4p5KfQrQCg2Ec5iND1A8LT6VxxoOkDQHrU6wdgvQIAJjjTEcwbAoFGE1eCJLMAATqSoILEVwAB4VN4PRNA/gAdrvOYT8z/AdN/O5+YDwABDCVBBNAjAoB7CpgRNG8BQO2Pwn18rwAAXdMG2T+Q/wBw74YUrEMCAfJ4owrsQwKBZWntNfiPA4J8S/NmiI8BwlqhDc8YzwACywwewNR7AoEXkqTZ4GcCAhp+WVfQLwACLbjhG+QrAAFzyZClI4j9gC+ygVt0SQAByIkeHBBbAgDask3VFFUCAaLT8DnYWwABErPFHX9C/gOdvank7CEBQjlVj2+AwwABtGU/CKgVAAM0BEqPSCkAA5N5LHoH0vyB0t9beNyNAQEGOib+nFECAkTMOm3QYQKBSBwtURTBAAEVFp9m5BUCAdCmfN5gPQADL2UVIDiNAAOqEpOIn/z8AsqbxJ3cJwMBUC3GMDhdAgMfLYlEwF8AAvmw4pODxPwAyQ5aGyBRAQMGgjXZjE0AAAHS8tiGpP+CqBD6QkC1AgM4scUPoEUBAepdtWRwTQKDWkuqV/TJAgDEDmGLZI0BAaQqQvuEsQDCl5qUFtzJAwClASH+EGUAADm3JJdQiQADtsh+ANBlAACBzQXrduD8Ah2lY1wMawGDvkLPueizAYBw02/MdNsDwxtCDBLsxwAAapS0LfOG/gBaT+kpCBsAAbHs4kXolQPCYOfZlYTDAYP5ohUcoJcDA4wO2sc0pwGD4JfVH2TjAoEevsn3ULMDgVXkkG38lwKC5QRvO2SrAYCUQUAesIMAABoMqv6vwvwAe6KFqgh/AALxvP6fJ4D/AErglSyUiQIBDUB7RmwfAAPLTKSyx5z8AiJnzbu0VQMD6fH+3ABNAAHDfJBUbBEAgzgveiPQkwKDS4hDNUjnAAHETXspLD0Cgxwj3I34lQACSMhy3ZPM/QD2rO3u6NUBAl9iY/jYnQADAhUCCFtk/oB9H4YtUIUAAbk9BgljqvwCKyV9PbwbA",
                    "dtype": "f8"
                  },
                  "yaxis": "y"
                }
              ],
              "layout": {
                "legend": {
                  "title": {
                    "text": "variable"
                  },
                  "tracegroupgap": 0
                },
                "margin": {
                  "t": 60
                },
                "template": {
                  "data": {
                    "bar": [
                      {
                        "error_x": {
                          "color": "#f2f5fa"
                        },
                        "error_y": {
                          "color": "#f2f5fa"
                        },
                        "marker": {
                          "line": {
                            "color": "rgb(17,17,17)",
                            "width": 0.5
                          },
                          "pattern": {
                            "fillmode": "overlay",
                            "size": 10,
                            "solidity": 0.2
                          }
                        },
                        "type": "bar"
                      }
                    ],
                    "barpolar": [
                      {
                        "marker": {
                          "line": {
                            "color": "rgb(17,17,17)",
                            "width": 0.5
                          },
                          "pattern": {
                            "fillmode": "overlay",
                            "size": 10,
                            "solidity": 0.2
                          }
                        },
                        "type": "barpolar"
                      }
                    ],
                    "carpet": [
                      {
                        "aaxis": {
                          "endlinecolor": "#A2B1C6",
                          "gridcolor": "#506784",
                          "linecolor": "#506784",
                          "minorgridcolor": "#506784",
                          "startlinecolor": "#A2B1C6"
                        },
                        "baxis": {
                          "endlinecolor": "#A2B1C6",
                          "gridcolor": "#506784",
                          "linecolor": "#506784",
                          "minorgridcolor": "#506784",
                          "startlinecolor": "#A2B1C6"
                        },
                        "type": "carpet"
                      }
                    ],
                    "choropleth": [
                      {
                        "colorbar": {
                          "outlinewidth": 0,
                          "ticks": ""
                        },
                        "type": "choropleth"
                      }
                    ],
                    "contour": [
                      {
                        "colorbar": {
                          "outlinewidth": 0,
                          "ticks": ""
                        },
                        "colorscale": [
                          [
                            0,
                            "#0d0887"
                          ],
                          [
                            0.1111111111111111,
                            "#46039f"
                          ],
                          [
                            0.2222222222222222,
                            "#7201a8"
                          ],
                          [
                            0.3333333333333333,
                            "#9c179e"
                          ],
                          [
                            0.4444444444444444,
                            "#bd3786"
                          ],
                          [
                            0.5555555555555556,
                            "#d8576b"
                          ],
                          [
                            0.6666666666666666,
                            "#ed7953"
                          ],
                          [
                            0.7777777777777778,
                            "#fb9f3a"
                          ],
                          [
                            0.8888888888888888,
                            "#fdca26"
                          ],
                          [
                            1,
                            "#f0f921"
                          ]
                        ],
                        "type": "contour"
                      }
                    ],
                    "contourcarpet": [
                      {
                        "colorbar": {
                          "outlinewidth": 0,
                          "ticks": ""
                        },
                        "type": "contourcarpet"
                      }
                    ],
                    "heatmap": [
                      {
                        "colorbar": {
                          "outlinewidth": 0,
                          "ticks": ""
                        },
                        "colorscale": [
                          [
                            0,
                            "#0d0887"
                          ],
                          [
                            0.1111111111111111,
                            "#46039f"
                          ],
                          [
                            0.2222222222222222,
                            "#7201a8"
                          ],
                          [
                            0.3333333333333333,
                            "#9c179e"
                          ],
                          [
                            0.4444444444444444,
                            "#bd3786"
                          ],
                          [
                            0.5555555555555556,
                            "#d8576b"
                          ],
                          [
                            0.6666666666666666,
                            "#ed7953"
                          ],
                          [
                            0.7777777777777778,
                            "#fb9f3a"
                          ],
                          [
                            0.8888888888888888,
                            "#fdca26"
                          ],
                          [
                            1,
                            "#f0f921"
                          ]
                        ],
                        "type": "heatmap"
                      }
                    ],
                    "histogram": [
                      {
                        "marker": {
                          "pattern": {
                            "fillmode": "overlay",
                            "size": 10,
                            "solidity": 0.2
                          }
                        },
                        "type": "histogram"
                      }
                    ],
                    "histogram2d": [
                      {
                        "colorbar": {
                          "outlinewidth": 0,
                          "ticks": ""
                        },
                        "colorscale": [
                          [
                            0,
                            "#0d0887"
                          ],
                          [
                            0.1111111111111111,
                            "#46039f"
                          ],
                          [
                            0.2222222222222222,
                            "#7201a8"
                          ],
                          [
                            0.3333333333333333,
                            "#9c179e"
                          ],
                          [
                            0.4444444444444444,
                            "#bd3786"
                          ],
                          [
                            0.5555555555555556,
                            "#d8576b"
                          ],
                          [
                            0.6666666666666666,
                            "#ed7953"
                          ],
                          [
                            0.7777777777777778,
                            "#fb9f3a"
                          ],
                          [
                            0.8888888888888888,
                            "#fdca26"
                          ],
                          [
                            1,
                            "#f0f921"
                          ]
                        ],
                        "type": "histogram2d"
                      }
                    ],
                    "histogram2dcontour": [
                      {
                        "colorbar": {
                          "outlinewidth": 0,
                          "ticks": ""
                        },
                        "colorscale": [
                          [
                            0,
                            "#0d0887"
                          ],
                          [
                            0.1111111111111111,
                            "#46039f"
                          ],
                          [
                            0.2222222222222222,
                            "#7201a8"
                          ],
                          [
                            0.3333333333333333,
                            "#9c179e"
                          ],
                          [
                            0.4444444444444444,
                            "#bd3786"
                          ],
                          [
                            0.5555555555555556,
                            "#d8576b"
                          ],
                          [
                            0.6666666666666666,
                            "#ed7953"
                          ],
                          [
                            0.7777777777777778,
                            "#fb9f3a"
                          ],
                          [
                            0.8888888888888888,
                            "#fdca26"
                          ],
                          [
                            1,
                            "#f0f921"
                          ]
                        ],
                        "type": "histogram2dcontour"
                      }
                    ],
                    "mesh3d": [
                      {
                        "colorbar": {
                          "outlinewidth": 0,
                          "ticks": ""
                        },
                        "type": "mesh3d"
                      }
                    ],
                    "parcoords": [
                      {
                        "line": {
                          "colorbar": {
                            "outlinewidth": 0,
                            "ticks": ""
                          }
                        },
                        "type": "parcoords"
                      }
                    ],
                    "pie": [
                      {
                        "automargin": true,
                        "type": "pie"
                      }
                    ],
                    "scatter": [
                      {
                        "marker": {
                          "line": {
                            "color": "#283442"
                          }
                        },
                        "type": "scatter"
                      }
                    ],
                    "scatter3d": [
                      {
                        "line": {
                          "colorbar": {
                            "outlinewidth": 0,
                            "ticks": ""
                          }
                        },
                        "marker": {
                          "colorbar": {
                            "outlinewidth": 0,
                            "ticks": ""
                          }
                        },
                        "type": "scatter3d"
                      }
                    ],
                    "scattercarpet": [
                      {
                        "marker": {
                          "colorbar": {
                            "outlinewidth": 0,
                            "ticks": ""
                          }
                        },
                        "type": "scattercarpet"
                      }
                    ],
                    "scattergeo": [
                      {
                        "marker": {
                          "colorbar": {
                            "outlinewidth": 0,
                            "ticks": ""
                          }
                        },
                        "type": "scattergeo"
                      }
                    ],
                    "scattergl": [
                      {
                        "marker": {
                          "line": {
                            "color": "#283442"
                          }
                        },
                        "type": "scattergl"
                      }
                    ],
                    "scattermap": [
                      {
                        "marker": {
                          "colorbar": {
                            "outlinewidth": 0,
                            "ticks": ""
                          }
                        },
                        "type": "scattermap"
                      }
                    ],
                    "scattermapbox": [
                      {
                        "marker": {
                          "colorbar": {
                            "outlinewidth": 0,
                            "ticks": ""
                          }
                        },
                        "type": "scattermapbox"
                      }
                    ],
                    "scatterpolar": [
                      {
                        "marker": {
                          "colorbar": {
                            "outlinewidth": 0,
                            "ticks": ""
                          }
                        },
                        "type": "scatterpolar"
                      }
                    ],
                    "scatterpolargl": [
                      {
                        "marker": {
                          "colorbar": {
                            "outlinewidth": 0,
                            "ticks": ""
                          }
                        },
                        "type": "scatterpolargl"
                      }
                    ],
                    "scatterternary": [
                      {
                        "marker": {
                          "colorbar": {
                            "outlinewidth": 0,
                            "ticks": ""
                          }
                        },
                        "type": "scatterternary"
                      }
                    ],
                    "surface": [
                      {
                        "colorbar": {
                          "outlinewidth": 0,
                          "ticks": ""
                        },
                        "colorscale": [
                          [
                            0,
                            "#0d0887"
                          ],
                          [
                            0.1111111111111111,
                            "#46039f"
                          ],
                          [
                            0.2222222222222222,
                            "#7201a8"
                          ],
                          [
                            0.3333333333333333,
                            "#9c179e"
                          ],
                          [
                            0.4444444444444444,
                            "#bd3786"
                          ],
                          [
                            0.5555555555555556,
                            "#d8576b"
                          ],
                          [
                            0.6666666666666666,
                            "#ed7953"
                          ],
                          [
                            0.7777777777777778,
                            "#fb9f3a"
                          ],
                          [
                            0.8888888888888888,
                            "#fdca26"
                          ],
                          [
                            1,
                            "#f0f921"
                          ]
                        ],
                        "type": "surface"
                      }
                    ],
                    "table": [
                      {
                        "cells": {
                          "fill": {
                            "color": "#506784"
                          },
                          "line": {
                            "color": "rgb(17,17,17)"
                          }
                        },
                        "header": {
                          "fill": {
                            "color": "#2a3f5f"
                          },
                          "line": {
                            "color": "rgb(17,17,17)"
                          }
                        },
                        "type": "table"
                      }
                    ]
                  },
                  "layout": {
                    "annotationdefaults": {
                      "arrowcolor": "#f2f5fa",
                      "arrowhead": 0,
                      "arrowwidth": 1
                    },
                    "autosize": false,
                    "autotypenumbers": "strict",
                    "coloraxis": {
                      "colorbar": {
                        "outlinewidth": 0,
                        "ticks": ""
                      }
                    },
                    "colorscale": {
                      "diverging": [
                        [
                          0,
                          "#8e0152"
                        ],
                        [
                          0.1,
                          "#c51b7d"
                        ],
                        [
                          0.2,
                          "#de77ae"
                        ],
                        [
                          0.3,
                          "#f1b6da"
                        ],
                        [
                          0.4,
                          "#fde0ef"
                        ],
                        [
                          0.5,
                          "#f7f7f7"
                        ],
                        [
                          0.6,
                          "#e6f5d0"
                        ],
                        [
                          0.7,
                          "#b8e186"
                        ],
                        [
                          0.8,
                          "#7fbc41"
                        ],
                        [
                          0.9,
                          "#4d9221"
                        ],
                        [
                          1,
                          "#276419"
                        ]
                      ],
                      "sequential": [
                        [
                          0,
                          "#0d0887"
                        ],
                        [
                          0.1111111111111111,
                          "#46039f"
                        ],
                        [
                          0.2222222222222222,
                          "#7201a8"
                        ],
                        [
                          0.3333333333333333,
                          "#9c179e"
                        ],
                        [
                          0.4444444444444444,
                          "#bd3786"
                        ],
                        [
                          0.5555555555555556,
                          "#d8576b"
                        ],
                        [
                          0.6666666666666666,
                          "#ed7953"
                        ],
                        [
                          0.7777777777777778,
                          "#fb9f3a"
                        ],
                        [
                          0.8888888888888888,
                          "#fdca26"
                        ],
                        [
                          1,
                          "#f0f921"
                        ]
                      ],
                      "sequentialminus": [
                        [
                          0,
                          "#0d0887"
                        ],
                        [
                          0.1111111111111111,
                          "#46039f"
                        ],
                        [
                          0.2222222222222222,
                          "#7201a8"
                        ],
                        [
                          0.3333333333333333,
                          "#9c179e"
                        ],
                        [
                          0.4444444444444444,
                          "#bd3786"
                        ],
                        [
                          0.5555555555555556,
                          "#d8576b"
                        ],
                        [
                          0.6666666666666666,
                          "#ed7953"
                        ],
                        [
                          0.7777777777777778,
                          "#fb9f3a"
                        ],
                        [
                          0.8888888888888888,
                          "#fdca26"
                        ],
                        [
                          1,
                          "#f0f921"
                        ]
                      ]
                    },
                    "colorway": [
                      "#636efa",
                      "#EF553B",
                      "#00cc96",
                      "#ab63fa",
                      "#FFA15A",
                      "#19d3f3",
                      "#FF6692",
                      "#B6E880",
                      "#FF97FF",
                      "#FECB52"
                    ],
                    "font": {
                      "color": "#f2f5fa"
                    },
                    "geo": {
                      "bgcolor": "rgb(17,17,17)",
                      "lakecolor": "rgb(17,17,17)",
                      "landcolor": "rgb(17,17,17)",
                      "showlakes": true,
                      "showland": true,
                      "subunitcolor": "#506784"
                    },
                    "height": 500,
                    "hoverlabel": {
                      "align": "left"
                    },
                    "hovermode": "closest",
                    "mapbox": {
                      "style": "dark"
                    },
                    "paper_bgcolor": "rgb(17,17,17)",
                    "plot_bgcolor": "rgb(17,17,17)",
                    "polar": {
                      "angularaxis": {
                        "gridcolor": "#506784",
                        "linecolor": "#506784",
                        "ticks": ""
                      },
                      "bgcolor": "rgb(17,17,17)",
                      "radialaxis": {
                        "gridcolor": "#506784",
                        "linecolor": "#506784",
                        "ticks": ""
                      }
                    },
                    "scene": {
                      "xaxis": {
                        "backgroundcolor": "rgb(17,17,17)",
                        "gridcolor": "#506784",
                        "gridwidth": 2,
                        "linecolor": "#506784",
                        "showbackground": true,
                        "ticks": "",
                        "zerolinecolor": "#C8D4E3"
                      },
                      "yaxis": {
                        "backgroundcolor": "rgb(17,17,17)",
                        "gridcolor": "#506784",
                        "gridwidth": 2,
                        "linecolor": "#506784",
                        "showbackground": true,
                        "ticks": "",
                        "zerolinecolor": "#C8D4E3"
                      },
                      "zaxis": {
                        "backgroundcolor": "rgb(17,17,17)",
                        "gridcolor": "#506784",
                        "gridwidth": 2,
                        "linecolor": "#506784",
                        "showbackground": true,
                        "ticks": "",
                        "zerolinecolor": "#C8D4E3"
                      }
                    },
                    "shapedefaults": {
                      "line": {
                        "color": "#f2f5fa"
                      }
                    },
                    "showlegend": true,
                    "sliderdefaults": {
                      "bgcolor": "#C8D4E3",
                      "bordercolor": "rgb(17,17,17)",
                      "borderwidth": 1,
                      "tickwidth": 0
                    },
                    "ternary": {
                      "aaxis": {
                        "gridcolor": "#506784",
                        "linecolor": "#506784",
                        "ticks": ""
                      },
                      "baxis": {
                        "gridcolor": "#506784",
                        "linecolor": "#506784",
                        "ticks": ""
                      },
                      "bgcolor": "rgb(17,17,17)",
                      "caxis": {
                        "gridcolor": "#506784",
                        "linecolor": "#506784",
                        "ticks": ""
                      }
                    },
                    "title": {
                      "x": 0.05
                    },
                    "updatemenudefaults": {
                      "bgcolor": "#506784",
                      "borderwidth": 0
                    },
                    "width": 1000,
                    "xaxis": {
                      "automargin": true,
                      "gridcolor": "#283442",
                      "linecolor": "#506784",
                      "ticks": "",
                      "title": {
                        "standoff": 15
                      },
                      "zerolinecolor": "#283442",
                      "zerolinewidth": 2
                    },
                    "yaxis": {
                      "automargin": true,
                      "gridcolor": "#283442",
                      "linecolor": "#506784",
                      "ticks": "",
                      "title": {
                        "standoff": 15
                      },
                      "zerolinecolor": "#283442",
                      "zerolinewidth": 2
                    }
                  }
                },
                "xaxis": {
                  "anchor": "y",
                  "domain": [
                    0,
                    1
                  ],
                  "title": {
                    "text": "ds"
                  }
                },
                "yaxis": {
                  "anchor": "x",
                  "domain": [
                    0,
                    1
                  ],
                  "title": {
                    "text": "value"
                  }
                }
              }
            }
          },
          "metadata": {},
          "output_type": "display_data"
        }
      ],
      "source": [
        "residuals.plot()"
      ]
    },
    {
      "cell_type": "markdown",
      "id": "8a881322",
      "metadata": {},
      "source": [
        "#### Test"
      ]
    },
    {
      "cell_type": "code",
      "execution_count": 17,
      "id": "057b74c5",
      "metadata": {},
      "outputs": [
        {
          "data": {
            "text/plain": [
              "(np.float64(16.596914206299374),\n",
              " np.float64(0.08377279981299146),\n",
              " 1.7388132803953582,\n",
              " 0.0793106680683477)"
            ]
          },
          "execution_count": 17,
          "metadata": {},
          "output_type": "execute_result"
        }
      ],
      "source": [
        "from statsmodels.stats.diagnostic import het_arch\n",
        "het_arch(residuals)"
      ]
    }
  ],
  "metadata": {
    "kernelspec": {
      "display_name": "work",
      "language": "python",
      "name": "python3"
    },
    "language_info": {
      "codemirror_mode": {
        "name": "ipython",
        "version": 3
      },
      "file_extension": ".py",
      "mimetype": "text/x-python",
      "name": "python",
      "nbconvert_exporter": "python",
      "pygments_lexer": "ipython3",
      "version": "3.13.1"
    }
  },
  "nbformat": 4,
  "nbformat_minor": 5
}
