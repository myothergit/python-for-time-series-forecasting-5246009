{
  "cells": [
    {
      "cell_type": "markdown",
      "id": "05c0fa00",
      "metadata": {},
      "source": [
        "# Time series forecasting with Prophet"
      ]
    },
    {
      "cell_type": "code",
      "execution_count": 1,
      "id": "9b3bf490",
      "metadata": {},
      "outputs": [],
      "source": [
        "\n",
        "from modules import utils\n",
        "utils.configure_plotly_template(showlegend=True)"
      ]
    },
    {
      "cell_type": "markdown",
      "id": "a525b6b0",
      "metadata": {},
      "source": [
        "## Load data"
      ]
    },
    {
      "cell_type": "code",
      "execution_count": 2,
      "id": "15ebec70",
      "metadata": {},
      "outputs": [],
      "source": [
        "path = \"../../../data/statsmodels/AirPassengers.parquet\""
      ]
    },
    {
      "cell_type": "code",
      "execution_count": 3,
      "id": "6c560eef",
      "metadata": {},
      "outputs": [
        {
          "data": {
            "text/plain": [
              "1949-01-31    112\n",
              "1949-02-28    118\n",
              "             ... \n",
              "1960-11-30    390\n",
              "1960-12-31    432\n",
              "Freq: ME, Name: values, Length: 144, dtype: int64"
            ]
          },
          "execution_count": 3,
          "metadata": {},
          "output_type": "execute_result"
        }
      ],
      "source": [
        "import pandas as pd\n",
        "\n",
        "df = pd.read_parquet(path).asfreq('ME')\n",
        "df.columns = ['values']\n",
        "\n",
        "series = df['values']\n",
        "series"
      ]
    },
    {
      "cell_type": "markdown",
      "id": "54b7f96c",
      "metadata": {},
      "source": [
        "## Prepare DataFrame for Prophet"
      ]
    },
    {
      "cell_type": "code",
      "execution_count": 4,
      "id": "6083bccf",
      "metadata": {},
      "outputs": [
        {
          "data": {
            "text/html": [
              "<div>\n",
              "<style scoped>\n",
              "    .dataframe tbody tr th:only-of-type {\n",
              "        vertical-align: middle;\n",
              "    }\n",
              "\n",
              "    .dataframe tbody tr th {\n",
              "        vertical-align: top;\n",
              "    }\n",
              "\n",
              "    .dataframe thead th {\n",
              "        text-align: right;\n",
              "    }\n",
              "</style>\n",
              "<table border=\"1\" class=\"dataframe\">\n",
              "  <thead>\n",
              "    <tr style=\"text-align: right;\">\n",
              "      <th></th>\n",
              "      <th>ds</th>\n",
              "      <th>y</th>\n",
              "    </tr>\n",
              "  </thead>\n",
              "  <tbody>\n",
              "    <tr>\n",
              "      <th>1949-01-31</th>\n",
              "      <td>1949-01-31</td>\n",
              "      <td>112</td>\n",
              "    </tr>\n",
              "    <tr>\n",
              "      <th>1949-02-28</th>\n",
              "      <td>1949-02-28</td>\n",
              "      <td>118</td>\n",
              "    </tr>\n",
              "    <tr>\n",
              "      <th>...</th>\n",
              "      <td>...</td>\n",
              "      <td>...</td>\n",
              "    </tr>\n",
              "    <tr>\n",
              "      <th>1960-11-30</th>\n",
              "      <td>1960-11-30</td>\n",
              "      <td>390</td>\n",
              "    </tr>\n",
              "    <tr>\n",
              "      <th>1960-12-31</th>\n",
              "      <td>1960-12-31</td>\n",
              "      <td>432</td>\n",
              "    </tr>\n",
              "  </tbody>\n",
              "</table>\n",
              "<p>144 rows × 2 columns</p>\n",
              "</div>"
            ],
            "text/plain": [
              "                   ds    y\n",
              "1949-01-31 1949-01-31  112\n",
              "1949-02-28 1949-02-28  118\n",
              "...               ...  ...\n",
              "1960-11-30 1960-11-30  390\n",
              "1960-12-31 1960-12-31  432\n",
              "\n",
              "[144 rows x 2 columns]"
            ]
          },
          "execution_count": 4,
          "metadata": {},
          "output_type": "execute_result"
        }
      ],
      "source": [
        "df = pd.DataFrame({\n",
        "    'ds': series.index,\n",
        "    'y': series.values,\n",
        "}, index=series.index)\n",
        "\n",
        "df"
      ]
    },
    {
      "cell_type": "markdown",
      "id": "e3077129",
      "metadata": {},
      "source": [
        "## Model fit"
      ]
    },
    {
      "cell_type": "code",
      "execution_count": 5,
      "id": "47959e32",
      "metadata": {},
      "outputs": [
        {
          "name": "stderr",
          "output_type": "stream",
          "text": [
            "11:31:04 - cmdstanpy - INFO - Chain [1] start processing\n",
            "11:31:04 - cmdstanpy - INFO - Chain [1] done processing\n"
          ]
        },
        {
          "data": {
            "text/plain": [
              "<prophet.forecaster.Prophet at 0x30dccf7a0>"
            ]
          },
          "execution_count": 5,
          "metadata": {},
          "output_type": "execute_result"
        }
      ],
      "source": [
        "from prophet import Prophet\n",
        "from prophet.make_holidays import make_holidays_df\n",
        "\n",
        "holidays = make_holidays_df(country='US', year_list=list(range(1960, 2020)))\n",
        "\n",
        "model = Prophet(\n",
        "    yearly_seasonality=True,\n",
        "    holidays=holidays,\n",
        "    seasonality_mode='multiplicative'  # or 'additive'\n",
        ")\n",
        "\n",
        "model.fit(df)"
      ]
    },
    {
      "cell_type": "code",
      "execution_count": 6,
      "id": "8cf87b65",
      "metadata": {},
      "outputs": [
        {
          "data": {
            "text/plain": [
              "OrderedDict([('lp__', array([[504.326]])),\n",
              "             ('k', array([[0.393833]])),\n",
              "             ('m', array([[0.184949]])),\n",
              "             ('delta',\n",
              "              array([[ 5.94136e-09,  6.24471e-09,  4.92288e-04,  9.15040e-02,\n",
              "                       1.75554e-04,  2.83096e-09,  1.53451e-08,  1.68292e-08,\n",
              "                      -1.14049e-09, -6.58009e-09, -7.57653e-09,  9.93564e-09,\n",
              "                       1.12797e-08,  1.48152e-01,  1.36888e-01,  1.75862e-08,\n",
              "                       1.51163e-09, -2.29739e-08, -4.10181e-04, -6.51883e-02,\n",
              "                      -6.28361e-02, -5.42087e-02, -9.05613e-09,  8.16967e-09,\n",
              "                       2.27650e-01]])),\n",
              "             ('sigma_obs', array([[0.0164471]])),\n",
              "             ('beta',\n",
              "              array([[-0.0624946 , -0.155422  ,  0.0975794 ,  0.0355634 , -0.0702496 ,\n",
              "                      -0.00186643, -0.042387  , -0.0217824 , -0.00592623,  0.0919416 ,\n",
              "                       0.12103   ,  0.0320689 ,  0.0171235 , -0.0926655 , -0.0699837 ,\n",
              "                       0.00359458, -0.0660216 ,  0.0108811 ,  0.0166775 , -0.0326083 ,\n",
              "                       0.        ,  0.        ,  0.        ,  0.        ,  0.        ,\n",
              "                       0.        ,  0.        ,  0.        ,  0.        ,  0.        ,\n",
              "                       0.        ,  0.        ,  0.        ,  0.        ]])),\n",
              "             ('trend',\n",
              "              array([[0.184949, 0.187483, 0.190288, 0.193003, 0.195809, 0.198523,\n",
              "                      0.201329, 0.204134, 0.206849, 0.209654, 0.212369, 0.215174,\n",
              "                      0.21798 , 0.220514, 0.223319, 0.226037, 0.228846, 0.231564,\n",
              "                      0.234373, 0.237834, 0.241183, 0.244643, 0.247993, 0.251453,\n",
              "                      0.254915, 0.258042, 0.261504, 0.264854, 0.268316, 0.271666,\n",
              "                      0.275128, 0.27859 , 0.28194 , 0.285402, 0.288752, 0.292214,\n",
              "                      0.295676, 0.298915, 0.302376, 0.305727, 0.309189, 0.312539,\n",
              "                      0.316001, 0.319463, 0.322813, 0.326275, 0.329625, 0.333087,\n",
              "                      0.336549, 0.339676, 0.343137, 0.346488, 0.34995 , 0.3533  ,\n",
              "                      0.356762, 0.360224, 0.363574, 0.367036, 0.370386, 0.373848,\n",
              "                      0.37731 , 0.380437, 0.383898, 0.387249, 0.390711, 0.395082,\n",
              "                      0.399599, 0.404117, 0.408488, 0.41398 , 0.419295, 0.424788,\n",
              "                      0.43028 , 0.435241, 0.440733, 0.446048, 0.45154 , 0.456856,\n",
              "                      0.462348, 0.46784 , 0.473155, 0.478647, 0.483963, 0.489455,\n",
              "                      0.494947, 0.500085, 0.505577, 0.510892, 0.516382, 0.521694,\n",
              "                      0.527183, 0.532673, 0.537536, 0.542561, 0.547424, 0.552449,\n",
              "                      0.557474, 0.561608, 0.566186, 0.570615, 0.575193, 0.579249,\n",
              "                      0.58344 , 0.587631, 0.591687, 0.595879, 0.599935, 0.604126,\n",
              "                      0.608317, 0.612103, 0.616294, 0.62035 , 0.624542, 0.628598,\n",
              "                      0.632789, 0.638602, 0.644227, 0.65004 , 0.655665, 0.661478,\n",
              "                      0.667291, 0.672542, 0.678354, 0.68398 , 0.689793, 0.695418,\n",
              "                      0.701231, 0.707044, 0.712669, 0.718482, 0.724107, 0.72992 ,\n",
              "                      0.735733, 0.741171, 0.746984, 0.752609, 0.758422, 0.764047,\n",
              "                      0.76986 , 0.775673, 0.781298, 0.787111, 0.792737, 0.798549]]))])"
            ]
          },
          "execution_count": 6,
          "metadata": {},
          "output_type": "execute_result"
        }
      ],
      "source": [
        "model.params"
      ]
    },
    {
      "cell_type": "code",
      "execution_count": 7,
      "id": "a5a60335",
      "metadata": {},
      "outputs": [
        {
          "data": {
            "image/png": "[encoded data removed]",
            "text/plain": [
              "<Figure size 900x900 with 3 Axes>"
            ]
          },
          "metadata": {},
          "output_type": "display_data"
        }
      ],
      "source": [
        "forecast = model.predict(df)\n",
        "model.plot_components(forecast);"
      ]
    },
    {
      "cell_type": "markdown",
      "id": "06272680",
      "metadata": {},
      "source": [
        "## Forecast"
      ]
    },
    {
      "cell_type": "code",
      "execution_count": 8,
      "id": "42c81845",
      "metadata": {},
      "outputs": [
        {
          "data": {
            "text/html": [
              "<div>\n",
              "<style scoped>\n",
              "    .dataframe tbody tr th:only-of-type {\n",
              "        vertical-align: middle;\n",
              "    }\n",
              "\n",
              "    .dataframe tbody tr th {\n",
              "        vertical-align: top;\n",
              "    }\n",
              "\n",
              "    .dataframe thead th {\n",
              "        text-align: right;\n",
              "    }\n",
              "</style>\n",
              "<table border=\"1\" class=\"dataframe\">\n",
              "  <thead>\n",
              "    <tr style=\"text-align: right;\">\n",
              "      <th></th>\n",
              "      <th>ds</th>\n",
              "      <th>yhat</th>\n",
              "      <th>yhat_lower</th>\n",
              "      <th>yhat_upper</th>\n",
              "    </tr>\n",
              "  </thead>\n",
              "  <tbody>\n",
              "    <tr>\n",
              "      <th>187</th>\n",
              "      <td>1964-08-31</td>\n",
              "      <td>804.322300</td>\n",
              "      <td>780.475299</td>\n",
              "      <td>829.280933</td>\n",
              "    </tr>\n",
              "    <tr>\n",
              "      <th>188</th>\n",
              "      <td>1964-09-30</td>\n",
              "      <td>685.596010</td>\n",
              "      <td>663.209125</td>\n",
              "      <td>707.464061</td>\n",
              "    </tr>\n",
              "    <tr>\n",
              "      <th>...</th>\n",
              "      <td>...</td>\n",
              "      <td>...</td>\n",
              "      <td>...</td>\n",
              "      <td>...</td>\n",
              "    </tr>\n",
              "    <tr>\n",
              "      <th>190</th>\n",
              "      <td>1964-11-30</td>\n",
              "      <td>525.884549</td>\n",
              "      <td>506.168041</td>\n",
              "      <td>544.393189</td>\n",
              "    </tr>\n",
              "    <tr>\n",
              "      <th>191</th>\n",
              "      <td>1964-12-31</td>\n",
              "      <td>583.970836</td>\n",
              "      <td>561.965220</td>\n",
              "      <td>605.506596</td>\n",
              "    </tr>\n",
              "  </tbody>\n",
              "</table>\n",
              "<p>5 rows × 4 columns</p>\n",
              "</div>"
            ],
            "text/plain": [
              "            ds        yhat  yhat_lower  yhat_upper\n",
              "187 1964-08-31  804.322300  780.475299  829.280933\n",
              "188 1964-09-30  685.596010  663.209125  707.464061\n",
              "..         ...         ...         ...         ...\n",
              "190 1964-11-30  525.884549  506.168041  544.393189\n",
              "191 1964-12-31  583.970836  561.965220  605.506596\n",
              "\n",
              "[5 rows x 4 columns]"
            ]
          },
          "execution_count": 8,
          "metadata": {},
          "output_type": "execute_result"
        }
      ],
      "source": [
        "future = model.make_future_dataframe(periods=48, freq='ME')\n",
        "forecast = model.predict(future)\n",
        "forecast[['ds', 'yhat', 'yhat_lower', 'yhat_upper']].tail()"
      ]
    },
    {
      "cell_type": "code",
      "execution_count": 9,
      "id": "48c4d9f9",
      "metadata": {},
      "outputs": [
        {
          "data": {
            "image/png": "[encoded data removed]",
            "text/plain": [
              "<Figure size 1000x600 with 1 Axes>"
            ]
          },
          "metadata": {},
          "output_type": "display_data"
        }
      ],
      "source": [
        "model.plot(forecast);"
      ]
    },
    {
      "cell_type": "code",
      "execution_count": 10,
      "id": "49c33425",
      "metadata": {},
      "outputs": [
        {
          "data": {
            "application/vnd.plotly.v1+json": {
              "config": {
                "plotlyServerURL": "https://plot.ly"
              },
              "data": [
                {
                  "line": {
                    "color": "#fa636e",
                    "width": 1.5
                  },
                  "marker": {
                    "color": "#fa636e",
                    "size": 5,
                    "symbol": "circle"
                  },
                  "mode": "lines+markers",
                  "name": "Historical",
                  "type": "scatter",
                  "x": [
                    "1949-01-31T00:00:00.000000000",
                    "1949-02-28T00:00:00.000000000",
                    "1949-03-31T00:00:00.000000000",
                    "1949-04-30T00:00:00.000000000",
                    "1949-05-31T00:00:00.000000000",
                    "1949-06-30T00:00:00.000000000",
                    "1949-07-31T00:00:00.000000000",
                    "1949-08-31T00:00:00.000000000",
                    "1949-09-30T00:00:00.000000000",
                    "1949-10-31T00:00:00.000000000",
                    "1949-11-30T00:00:00.000000000",
                    "1949-12-31T00:00:00.000000000",
                    "1950-01-31T00:00:00.000000000",
                    "1950-02-28T00:00:00.000000000",
                    "1950-03-31T00:00:00.000000000",
                    "1950-04-30T00:00:00.000000000",
                    "1950-05-31T00:00:00.000000000",
                    "1950-06-30T00:00:00.000000000",
                    "1950-07-31T00:00:00.000000000",
                    "1950-08-31T00:00:00.000000000",
                    "1950-09-30T00:00:00.000000000",
                    "1950-10-31T00:00:00.000000000",
                    "1950-11-30T00:00:00.000000000",
                    "1950-12-31T00:00:00.000000000",
                    "1951-01-31T00:00:00.000000000",
                    "1951-02-28T00:00:00.000000000",
                    "1951-03-31T00:00:00.000000000",
                    "1951-04-30T00:00:00.000000000",
                    "1951-05-31T00:00:00.000000000",
                    "1951-06-30T00:00:00.000000000",
                    "1951-07-31T00:00:00.000000000",
                    "1951-08-31T00:00:00.000000000",
                    "1951-09-30T00:00:00.000000000",
                    "1951-10-31T00:00:00.000000000",
                    "1951-11-30T00:00:00.000000000",
                    "1951-12-31T00:00:00.000000000",
                    "1952-01-31T00:00:00.000000000",
                    "1952-02-29T00:00:00.000000000",
                    "1952-03-31T00:00:00.000000000",
                    "1952-04-30T00:00:00.000000000",
                    "1952-05-31T00:00:00.000000000",
                    "1952-06-30T00:00:00.000000000",
                    "1952-07-31T00:00:00.000000000",
                    "1952-08-31T00:00:00.000000000",
                    "1952-09-30T00:00:00.000000000",
                    "1952-10-31T00:00:00.000000000",
                    "1952-11-30T00:00:00.000000000",
                    "1952-12-31T00:00:00.000000000",
                    "1953-01-31T00:00:00.000000000",
                    "1953-02-28T00:00:00.000000000",
                    "1953-03-31T00:00:00.000000000",
                    "1953-04-30T00:00:00.000000000",
                    "1953-05-31T00:00:00.000000000",
                    "1953-06-30T00:00:00.000000000",
                    "1953-07-31T00:00:00.000000000",
                    "1953-08-31T00:00:00.000000000",
                    "1953-09-30T00:00:00.000000000",
                    "1953-10-31T00:00:00.000000000",
                    "1953-11-30T00:00:00.000000000",
                    "1953-12-31T00:00:00.000000000",
                    "1954-01-31T00:00:00.000000000",
                    "1954-02-28T00:00:00.000000000",
                    "1954-03-31T00:00:00.000000000",
                    "1954-04-30T00:00:00.000000000",
                    "1954-05-31T00:00:00.000000000",
                    "1954-06-30T00:00:00.000000000",
                    "1954-07-31T00:00:00.000000000",
                    "1954-08-31T00:00:00.000000000",
                    "1954-09-30T00:00:00.000000000",
                    "1954-10-31T00:00:00.000000000",
                    "1954-11-30T00:00:00.000000000",
                    "1954-12-31T00:00:00.000000000",
                    "1955-01-31T00:00:00.000000000",
                    "1955-02-28T00:00:00.000000000",
                    "1955-03-31T00:00:00.000000000",
                    "1955-04-30T00:00:00.000000000",
                    "1955-05-31T00:00:00.000000000",
                    "1955-06-30T00:00:00.000000000",
                    "1955-07-31T00:00:00.000000000",
                    "1955-08-31T00:00:00.000000000",
                    "1955-09-30T00:00:00.000000000",
                    "1955-10-31T00:00:00.000000000",
                    "1955-11-30T00:00:00.000000000",
                    "1955-12-31T00:00:00.000000000",
                    "1956-01-31T00:00:00.000000000",
                    "1956-02-29T00:00:00.000000000",
                    "1956-03-31T00:00:00.000000000",
                    "1956-04-30T00:00:00.000000000",
                    "1956-05-31T00:00:00.000000000",
                    "1956-06-30T00:00:00.000000000",
                    "1956-07-31T00:00:00.000000000",
                    "1956-08-31T00:00:00.000000000",
                    "1956-09-30T00:00:00.000000000",
                    "1956-10-31T00:00:00.000000000",
                    "1956-11-30T00:00:00.000000000",
                    "1956-12-31T00:00:00.000000000",
                    "1957-01-31T00:00:00.000000000",
                    "1957-02-28T00:00:00.000000000",
                    "1957-03-31T00:00:00.000000000",
                    "1957-04-30T00:00:00.000000000",
                    "1957-05-31T00:00:00.000000000",
                    "1957-06-30T00:00:00.000000000",
                    "1957-07-31T00:00:00.000000000",
                    "1957-08-31T00:00:00.000000000",
                    "1957-09-30T00:00:00.000000000",
                    "1957-10-31T00:00:00.000000000",
                    "1957-11-30T00:00:00.000000000",
                    "1957-12-31T00:00:00.000000000",
                    "1958-01-31T00:00:00.000000000",
                    "1958-02-28T00:00:00.000000000",
                    "1958-03-31T00:00:00.000000000",
                    "1958-04-30T00:00:00.000000000",
                    "1958-05-31T00:00:00.000000000",
                    "1958-06-30T00:00:00.000000000",
                    "1958-07-31T00:00:00.000000000",
                    "1958-08-31T00:00:00.000000000",
                    "1958-09-30T00:00:00.000000000",
                    "1958-10-31T00:00:00.000000000",
                    "1958-11-30T00:00:00.000000000",
                    "1958-12-31T00:00:00.000000000",
                    "1959-01-31T00:00:00.000000000",
                    "1959-02-28T00:00:00.000000000",
                    "1959-03-31T00:00:00.000000000",
                    "1959-04-30T00:00:00.000000000",
                    "1959-05-31T00:00:00.000000000",
                    "1959-06-30T00:00:00.000000000",
                    "1959-07-31T00:00:00.000000000",
                    "1959-08-31T00:00:00.000000000",
                    "1959-09-30T00:00:00.000000000",
                    "1959-10-31T00:00:00.000000000",
                    "1959-11-30T00:00:00.000000000",
                    "1959-12-31T00:00:00.000000000",
                    "1960-01-31T00:00:00.000000000",
                    "1960-02-29T00:00:00.000000000",
                    "1960-03-31T00:00:00.000000000",
                    "1960-04-30T00:00:00.000000000",
                    "1960-05-31T00:00:00.000000000",
                    "1960-06-30T00:00:00.000000000",
                    "1960-07-31T00:00:00.000000000",
                    "1960-08-31T00:00:00.000000000",
                    "1960-09-30T00:00:00.000000000",
                    "1960-10-31T00:00:00.000000000",
                    "1960-11-30T00:00:00.000000000",
                    "1960-12-31T00:00:00.000000000",
                    "1961-01-31T00:00:00.000000000",
                    "1961-02-28T00:00:00.000000000",
                    "1961-03-31T00:00:00.000000000",
                    "1961-04-30T00:00:00.000000000",
                    "1961-05-31T00:00:00.000000000",
                    "1961-06-30T00:00:00.000000000",
                    "1961-07-31T00:00:00.000000000",
                    "1961-08-31T00:00:00.000000000",
                    "1961-09-30T00:00:00.000000000",
                    "1961-10-31T00:00:00.000000000",
                    "1961-11-30T00:00:00.000000000",
                    "1961-12-31T00:00:00.000000000",
                    "1962-01-31T00:00:00.000000000",
                    "1962-02-28T00:00:00.000000000",
                    "1962-03-31T00:00:00.000000000",
                    "1962-04-30T00:00:00.000000000",
                    "1962-05-31T00:00:00.000000000",
                    "1962-06-30T00:00:00.000000000",
                    "1962-07-31T00:00:00.000000000",
                    "1962-08-31T00:00:00.000000000",
                    "1962-09-30T00:00:00.000000000",
                    "1962-10-31T00:00:00.000000000",
                    "1962-11-30T00:00:00.000000000",
                    "1962-12-31T00:00:00.000000000",
                    "1963-01-31T00:00:00.000000000",
                    "1963-02-28T00:00:00.000000000",
                    "1963-03-31T00:00:00.000000000",
                    "1963-04-30T00:00:00.000000000",
                    "1963-05-31T00:00:00.000000000",
                    "1963-06-30T00:00:00.000000000",
                    "1963-07-31T00:00:00.000000000",
                    "1963-08-31T00:00:00.000000000",
                    "1963-09-30T00:00:00.000000000",
                    "1963-10-31T00:00:00.000000000",
                    "1963-11-30T00:00:00.000000000",
                    "1963-12-31T00:00:00.000000000",
                    "1964-01-31T00:00:00.000000000",
                    "1964-02-29T00:00:00.000000000",
                    "1964-03-31T00:00:00.000000000",
                    "1964-04-30T00:00:00.000000000",
                    "1964-05-31T00:00:00.000000000",
                    "1964-06-30T00:00:00.000000000",
                    "1964-07-31T00:00:00.000000000",
                    "1964-08-31T00:00:00.000000000",
                    "1964-09-30T00:00:00.000000000",
                    "1964-10-31T00:00:00.000000000",
                    "1964-11-30T00:00:00.000000000",
                    "1964-12-31T00:00:00.000000000"
                  ],
                  "y": {
                    "bdata": "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",
                    "dtype": "f8"
                  }
                },
                {
                  "line": {
                    "color": "#FFD700",
                    "width": 2
                  },
                  "name": "Forecast",
                  "type": "scatter",
                  "x": [
                    "1949-01-31T00:00:00.000000000",
                    "1949-02-28T00:00:00.000000000",
                    "1949-03-31T00:00:00.000000000",
                    "1949-04-30T00:00:00.000000000",
                    "1949-05-31T00:00:00.000000000",
                    "1949-06-30T00:00:00.000000000",
                    "1949-07-31T00:00:00.000000000",
                    "1949-08-31T00:00:00.000000000",
                    "1949-09-30T00:00:00.000000000",
                    "1949-10-31T00:00:00.000000000",
                    "1949-11-30T00:00:00.000000000",
                    "1949-12-31T00:00:00.000000000",
                    "1950-01-31T00:00:00.000000000",
                    "1950-02-28T00:00:00.000000000",
                    "1950-03-31T00:00:00.000000000",
                    "1950-04-30T00:00:00.000000000",
                    "1950-05-31T00:00:00.000000000",
                    "1950-06-30T00:00:00.000000000",
                    "1950-07-31T00:00:00.000000000",
                    "1950-08-31T00:00:00.000000000",
                    "1950-09-30T00:00:00.000000000",
                    "1950-10-31T00:00:00.000000000",
                    "1950-11-30T00:00:00.000000000",
                    "1950-12-31T00:00:00.000000000",
                    "1951-01-31T00:00:00.000000000",
                    "1951-02-28T00:00:00.000000000",
                    "1951-03-31T00:00:00.000000000",
                    "1951-04-30T00:00:00.000000000",
                    "1951-05-31T00:00:00.000000000",
                    "1951-06-30T00:00:00.000000000",
                    "1951-07-31T00:00:00.000000000",
                    "1951-08-31T00:00:00.000000000",
                    "1951-09-30T00:00:00.000000000",
                    "1951-10-31T00:00:00.000000000",
                    "1951-11-30T00:00:00.000000000",
                    "1951-12-31T00:00:00.000000000",
                    "1952-01-31T00:00:00.000000000",
                    "1952-02-29T00:00:00.000000000",
                    "1952-03-31T00:00:00.000000000",
                    "1952-04-30T00:00:00.000000000",
                    "1952-05-31T00:00:00.000000000",
                    "1952-06-30T00:00:00.000000000",
                    "1952-07-31T00:00:00.000000000",
                    "1952-08-31T00:00:00.000000000",
                    "1952-09-30T00:00:00.000000000",
                    "1952-10-31T00:00:00.000000000",
                    "1952-11-30T00:00:00.000000000",
                    "1952-12-31T00:00:00.000000000",
                    "1953-01-31T00:00:00.000000000",
                    "1953-02-28T00:00:00.000000000",
                    "1953-03-31T00:00:00.000000000",
                    "1953-04-30T00:00:00.000000000",
                    "1953-05-31T00:00:00.000000000",
                    "1953-06-30T00:00:00.000000000",
                    "1953-07-31T00:00:00.000000000",
                    "1953-08-31T00:00:00.000000000",
                    "1953-09-30T00:00:00.000000000",
                    "1953-10-31T00:00:00.000000000",
                    "1953-11-30T00:00:00.000000000",
                    "1953-12-31T00:00:00.000000000",
                    "1954-01-31T00:00:00.000000000",
                    "1954-02-28T00:00:00.000000000",
                    "1954-03-31T00:00:00.000000000",
                    "1954-04-30T00:00:00.000000000",
                    "1954-05-31T00:00:00.000000000",
                    "1954-06-30T00:00:00.000000000",
                    "1954-07-31T00:00:00.000000000",
                    "1954-08-31T00:00:00.000000000",
                    "1954-09-30T00:00:00.000000000",
                    "1954-10-31T00:00:00.000000000",
                    "1954-11-30T00:00:00.000000000",
                    "1954-12-31T00:00:00.000000000",
                    "1955-01-31T00:00:00.000000000",
                    "1955-02-28T00:00:00.000000000",
                    "1955-03-31T00:00:00.000000000",
                    "1955-04-30T00:00:00.000000000",
                    "1955-05-31T00:00:00.000000000",
                    "1955-06-30T00:00:00.000000000",
                    "1955-07-31T00:00:00.000000000",
                    "1955-08-31T00:00:00.000000000",
                    "1955-09-30T00:00:00.000000000",
                    "1955-10-31T00:00:00.000000000",
                    "1955-11-30T00:00:00.000000000",
                    "1955-12-31T00:00:00.000000000",
                    "1956-01-31T00:00:00.000000000",
                    "1956-02-29T00:00:00.000000000",
                    "1956-03-31T00:00:00.000000000",
                    "1956-04-30T00:00:00.000000000",
                    "1956-05-31T00:00:00.000000000",
                    "1956-06-30T00:00:00.000000000",
                    "1956-07-31T00:00:00.000000000",
                    "1956-08-31T00:00:00.000000000",
                    "1956-09-30T00:00:00.000000000",
                    "1956-10-31T00:00:00.000000000",
                    "1956-11-30T00:00:00.000000000",
                    "1956-12-31T00:00:00.000000000",
                    "1957-01-31T00:00:00.000000000",
                    "1957-02-28T00:00:00.000000000",
                    "1957-03-31T00:00:00.000000000",
                    "1957-04-30T00:00:00.000000000",
                    "1957-05-31T00:00:00.000000000",
                    "1957-06-30T00:00:00.000000000",
                    "1957-07-31T00:00:00.000000000",
                    "1957-08-31T00:00:00.000000000",
                    "1957-09-30T00:00:00.000000000",
                    "1957-10-31T00:00:00.000000000",
                    "1957-11-30T00:00:00.000000000",
                    "1957-12-31T00:00:00.000000000",
                    "1958-01-31T00:00:00.000000000",
                    "1958-02-28T00:00:00.000000000",
                    "1958-03-31T00:00:00.000000000",
                    "1958-04-30T00:00:00.000000000",
                    "1958-05-31T00:00:00.000000000",
                    "1958-06-30T00:00:00.000000000",
                    "1958-07-31T00:00:00.000000000",
                    "1958-08-31T00:00:00.000000000",
                    "1958-09-30T00:00:00.000000000",
                    "1958-10-31T00:00:00.000000000",
                    "1958-11-30T00:00:00.000000000",
                    "1958-12-31T00:00:00.000000000",
                    "1959-01-31T00:00:00.000000000",
                    "1959-02-28T00:00:00.000000000",
                    "1959-03-31T00:00:00.000000000",
                    "1959-04-30T00:00:00.000000000",
                    "1959-05-31T00:00:00.000000000",
                    "1959-06-30T00:00:00.000000000",
                    "1959-07-31T00:00:00.000000000",
                    "1959-08-31T00:00:00.000000000",
                    "1959-09-30T00:00:00.000000000",
                    "1959-10-31T00:00:00.000000000",
                    "1959-11-30T00:00:00.000000000",
                    "1959-12-31T00:00:00.000000000",
                    "1960-01-31T00:00:00.000000000",
                    "1960-02-29T00:00:00.000000000",
                    "1960-03-31T00:00:00.000000000",
                    "1960-04-30T00:00:00.000000000",
                    "1960-05-31T00:00:00.000000000",
                    "1960-06-30T00:00:00.000000000",
                    "1960-07-31T00:00:00.000000000",
                    "1960-08-31T00:00:00.000000000",
                    "1960-09-30T00:00:00.000000000",
                    "1960-10-31T00:00:00.000000000",
                    "1960-11-30T00:00:00.000000000",
                    "1960-12-31T00:00:00.000000000",
                    "1961-01-31T00:00:00.000000000",
                    "1961-02-28T00:00:00.000000000",
                    "1961-03-31T00:00:00.000000000",
                    "1961-04-30T00:00:00.000000000",
                    "1961-05-31T00:00:00.000000000",
                    "1961-06-30T00:00:00.000000000",
                    "1961-07-31T00:00:00.000000000",
                    "1961-08-31T00:00:00.000000000",
                    "1961-09-30T00:00:00.000000000",
                    "1961-10-31T00:00:00.000000000",
                    "1961-11-30T00:00:00.000000000",
                    "1961-12-31T00:00:00.000000000",
                    "1962-01-31T00:00:00.000000000",
                    "1962-02-28T00:00:00.000000000",
                    "1962-03-31T00:00:00.000000000",
                    "1962-04-30T00:00:00.000000000",
                    "1962-05-31T00:00:00.000000000",
                    "1962-06-30T00:00:00.000000000",
                    "1962-07-31T00:00:00.000000000",
                    "1962-08-31T00:00:00.000000000",
                    "1962-09-30T00:00:00.000000000",
                    "1962-10-31T00:00:00.000000000",
                    "1962-11-30T00:00:00.000000000",
                    "1962-12-31T00:00:00.000000000",
                    "1963-01-31T00:00:00.000000000",
                    "1963-02-28T00:00:00.000000000",
                    "1963-03-31T00:00:00.000000000",
                    "1963-04-30T00:00:00.000000000",
                    "1963-05-31T00:00:00.000000000",
                    "1963-06-30T00:00:00.000000000",
                    "1963-07-31T00:00:00.000000000",
                    "1963-08-31T00:00:00.000000000",
                    "1963-09-30T00:00:00.000000000",
                    "1963-10-31T00:00:00.000000000",
                    "1963-11-30T00:00:00.000000000",
                    "1963-12-31T00:00:00.000000000",
                    "1964-01-31T00:00:00.000000000",
                    "1964-02-29T00:00:00.000000000",
                    "1964-03-31T00:00:00.000000000",
                    "1964-04-30T00:00:00.000000000",
                    "1964-05-31T00:00:00.000000000",
                    "1964-06-30T00:00:00.000000000",
                    "1964-07-31T00:00:00.000000000",
                    "1964-08-31T00:00:00.000000000",
                    "1964-09-30T00:00:00.000000000",
                    "1964-10-31T00:00:00.000000000",
                    "1964-11-30T00:00:00.000000000",
                    "1964-12-31T00:00:00.000000000"
                  ],
                  "y": {
                    "bdata": "mpmZmZm5WUCuR+F6FB5ZQOxRuB6Fq1xAXI/C9SgMXUCuR+F6FM5dQKRwPQrXQ2FAKVyPwvWgY0AfhetRuKZjQK5H4XoU1mBA9ihcj8L1XUC4HoXrUShaQOxRuB6FW11AMzMzMzNzXkCamZmZmTldQMP1KFyPCmFA7FG4HoXbYEC4HoXrUXBhQGZmZmZmDmRAFK5H4XrcZkDD9ShcjwJnQFyPwvUorGNAexSuR+FiYUC4HoXrUYheQJqZmZmZMWFAKVyPwvXgYUB7FK5H4epgQK5H4XoUNmRACtejcD2SY0ApXI/C9XhkQB+F61G4bmdAmpmZmZnZakD2KFyPwhVrQHsUrkfhCmdAXI/C9SgsZEA9CtejcMVhQI/C9ShcB2RACtejcD3SZEA9CtejcD1kQOxRuB6Fe2ZA9ihcj8I1Z0DhehSuR4FnQDMzMzMzS2tAFK5H4XrMbkCamZmZmZluQI/C9ShcN2pAAAAAAABwZ0C4HoXrUVBkQOxRuB6Fq2ZASOF6FK5nZ0BxPQrXo8BmQJqZmZmZ2WlAexSuR+ESakDD9Shcj6JqQFK4HoXruW5AuB6F61FkcUAfhetRuFZxQAAAAAAAmG1AUrgehes5akBI4XoUrs9mQClcj8L1gGlAw/UoXI9aakCuR+F6FDZpQKRwPQrXS21A4XoUrkfhbED2KFyPwsVtQAAAAAAAHHFAhetRuB59c0AUrkfheoxzQM3MzMzMqHBApHA9CtdrbUBI4XoUrs9pQKRwPQrXC21A9ihcj8ItbkApXI/C9YhsQAAAAAAACHFAexSuR+F6cEBSuB6F6zlxQFyPwvUotHNA7FG4HoWPdkCuR+F6FL52QJqZmZmZVXNAZmZmZmbqcEApXI/C9chtQArXo3A9xnBAPQrXo3BtcUAK16NwPe5wQEjhehSuy3JAFK5H4Xpkc0DNzMzMzKBzQOxRuB6Fx3ZAzczMzMyweUB7FK5H4YJ5QKRwPQrX03VAzczMzMx8c0CuR+F6FN5wQM3MzMzMzHJAZmZmZmZic0AzMzMzM89yQOxRuB6FU3VAuB6F61F4dUDsUbgeheN1QFyPwvUoMHlA4XoUrkdxfEApXI/C9Uh8QHE9CtejFHhAUrgehetJdUA9CtejcHlyQDMzMzMzm3RAZmZmZmY+dUAAAAAAAEh0QKRwPQrXg3dAUrgeheshd0BI4XoUrst3QM3MzMzMOHtAFK5H4XrcfkBcj8L1KOR+QK5H4XoURnpA4XoUrkcZd0BmZmZmZi50QJqZmZmZnXZAH4XrUbhmd0AAAAAAAAx2QHsUrkfhNnpAPQrXo3BFeUBxPQrXo1B6QK5H4XoU/n1ApHA9CtcbgUA9CtejcC+BQDMzMzMzH31AXI/C9ShkeUC4HoXrUUh2QAAAAAAABHlApHA9CtfneUBI4XoUrhd5QIXrUbgexXtAPQrXo3CRfEAAAAAAANR8QLgehetRroBAXI/C9SjCgkCF61G4HpOCQPYoXI/CuX9A4XoUrkdFfECF61G4Hm14QM3MzMzMLHtAXI/C9Sj4e0CamZmZmR17QB+F61G4tn5AcT0K16PkfkCPwvUoXHd/QJqZmZmZGYJAexSuR+FuhEAfhetRuFCEQMP1KFyPSoFAKVyPwvWQfkDNzMzMzIR6QMP1KFyPkn1A16NwPQp7fkAAAAAAABh9QB+F61G43IBA7FG4HoWVgEC4HoXrUQ6BQFK4HoXrgYNAFK5H4XochkC4HoXrURKGQDMzMzMzuYJAH4XrUbhqgECF61G4Hp18QI/C9Shc+39A16NwPQqBgEDXo3A9Cgd/QBSuR+F6ZoJAuB6F61GygUCuR+F6FGKCQI/C9Shc54RAexSuR+HKh0AAAAAAANiHQMP1KFyPKIRAj8L1KFyJgUBmZmZmZrZ+QPYoXI/CM4FAw/UoXI/GgUApXI/C9S6BQArXo3A9+oJA9ihcj8J7g0ApXI/C9Z6DQD0K16NwqYZA16NwPQpviUDD9ShcjyKJQM3MzMzMbIVAXI/C9SgOg0DXo3A9Cm+AQPYoXI/CP4JA",
                    "dtype": "f8"
                  }
                },
                {
                  "line": {
                    "color": "rgba(212, 212, 217, 0.0)",
                    "width": 0
                  },
                  "name": "Forecast Interval Upper Bound",
                  "showlegend": true,
                  "type": "scatter",
                  "x": [
                    "1949-01-31T00:00:00.000000000",
                    "1949-02-28T00:00:00.000000000",
                    "1949-03-31T00:00:00.000000000",
                    "1949-04-30T00:00:00.000000000",
                    "1949-05-31T00:00:00.000000000",
                    "1949-06-30T00:00:00.000000000",
                    "1949-07-31T00:00:00.000000000",
                    "1949-08-31T00:00:00.000000000",
                    "1949-09-30T00:00:00.000000000",
                    "1949-10-31T00:00:00.000000000",
                    "1949-11-30T00:00:00.000000000",
                    "1949-12-31T00:00:00.000000000",
                    "1950-01-31T00:00:00.000000000",
                    "1950-02-28T00:00:00.000000000",
                    "1950-03-31T00:00:00.000000000",
                    "1950-04-30T00:00:00.000000000",
                    "1950-05-31T00:00:00.000000000",
                    "1950-06-30T00:00:00.000000000",
                    "1950-07-31T00:00:00.000000000",
                    "1950-08-31T00:00:00.000000000",
                    "1950-09-30T00:00:00.000000000",
                    "1950-10-31T00:00:00.000000000",
                    "1950-11-30T00:00:00.000000000",
                    "1950-12-31T00:00:00.000000000",
                    "1951-01-31T00:00:00.000000000",
                    "1951-02-28T00:00:00.000000000",
                    "1951-03-31T00:00:00.000000000",
                    "1951-04-30T00:00:00.000000000",
                    "1951-05-31T00:00:00.000000000",
                    "1951-06-30T00:00:00.000000000",
                    "1951-07-31T00:00:00.000000000",
                    "1951-08-31T00:00:00.000000000",
                    "1951-09-30T00:00:00.000000000",
                    "1951-10-31T00:00:00.000000000",
                    "1951-11-30T00:00:00.000000000",
                    "1951-12-31T00:00:00.000000000",
                    "1952-01-31T00:00:00.000000000",
                    "1952-02-29T00:00:00.000000000",
                    "1952-03-31T00:00:00.000000000",
                    "1952-04-30T00:00:00.000000000",
                    "1952-05-31T00:00:00.000000000",
                    "1952-06-30T00:00:00.000000000",
                    "1952-07-31T00:00:00.000000000",
                    "1952-08-31T00:00:00.000000000",
                    "1952-09-30T00:00:00.000000000",
                    "1952-10-31T00:00:00.000000000",
                    "1952-11-30T00:00:00.000000000",
                    "1952-12-31T00:00:00.000000000",
                    "1953-01-31T00:00:00.000000000",
                    "1953-02-28T00:00:00.000000000",
                    "1953-03-31T00:00:00.000000000",
                    "1953-04-30T00:00:00.000000000",
                    "1953-05-31T00:00:00.000000000",
                    "1953-06-30T00:00:00.000000000",
                    "1953-07-31T00:00:00.000000000",
                    "1953-08-31T00:00:00.000000000",
                    "1953-09-30T00:00:00.000000000",
                    "1953-10-31T00:00:00.000000000",
                    "1953-11-30T00:00:00.000000000",
                    "1953-12-31T00:00:00.000000000",
                    "1954-01-31T00:00:00.000000000",
                    "1954-02-28T00:00:00.000000000",
                    "1954-03-31T00:00:00.000000000",
                    "1954-04-30T00:00:00.000000000",
                    "1954-05-31T00:00:00.000000000",
                    "1954-06-30T00:00:00.000000000",
                    "1954-07-31T00:00:00.000000000",
                    "1954-08-31T00:00:00.000000000",
                    "1954-09-30T00:00:00.000000000",
                    "1954-10-31T00:00:00.000000000",
                    "1954-11-30T00:00:00.000000000",
                    "1954-12-31T00:00:00.000000000",
                    "1955-01-31T00:00:00.000000000",
                    "1955-02-28T00:00:00.000000000",
                    "1955-03-31T00:00:00.000000000",
                    "1955-04-30T00:00:00.000000000",
                    "1955-05-31T00:00:00.000000000",
                    "1955-06-30T00:00:00.000000000",
                    "1955-07-31T00:00:00.000000000",
                    "1955-08-31T00:00:00.000000000",
                    "1955-09-30T00:00:00.000000000",
                    "1955-10-31T00:00:00.000000000",
                    "1955-11-30T00:00:00.000000000",
                    "1955-12-31T00:00:00.000000000",
                    "1956-01-31T00:00:00.000000000",
                    "1956-02-29T00:00:00.000000000",
                    "1956-03-31T00:00:00.000000000",
                    "1956-04-30T00:00:00.000000000",
                    "1956-05-31T00:00:00.000000000",
                    "1956-06-30T00:00:00.000000000",
                    "1956-07-31T00:00:00.000000000",
                    "1956-08-31T00:00:00.000000000",
                    "1956-09-30T00:00:00.000000000",
                    "1956-10-31T00:00:00.000000000",
                    "1956-11-30T00:00:00.000000000",
                    "1956-12-31T00:00:00.000000000",
                    "1957-01-31T00:00:00.000000000",
                    "1957-02-28T00:00:00.000000000",
                    "1957-03-31T00:00:00.000000000",
                    "1957-04-30T00:00:00.000000000",
                    "1957-05-31T00:00:00.000000000",
                    "1957-06-30T00:00:00.000000000",
                    "1957-07-31T00:00:00.000000000",
                    "1957-08-31T00:00:00.000000000",
                    "1957-09-30T00:00:00.000000000",
                    "1957-10-31T00:00:00.000000000",
                    "1957-11-30T00:00:00.000000000",
                    "1957-12-31T00:00:00.000000000",
                    "1958-01-31T00:00:00.000000000",
                    "1958-02-28T00:00:00.000000000",
                    "1958-03-31T00:00:00.000000000",
                    "1958-04-30T00:00:00.000000000",
                    "1958-05-31T00:00:00.000000000",
                    "1958-06-30T00:00:00.000000000",
                    "1958-07-31T00:00:00.000000000",
                    "1958-08-31T00:00:00.000000000",
                    "1958-09-30T00:00:00.000000000",
                    "1958-10-31T00:00:00.000000000",
                    "1958-11-30T00:00:00.000000000",
                    "1958-12-31T00:00:00.000000000",
                    "1959-01-31T00:00:00.000000000",
                    "1959-02-28T00:00:00.000000000",
                    "1959-03-31T00:00:00.000000000",
                    "1959-04-30T00:00:00.000000000",
                    "1959-05-31T00:00:00.000000000",
                    "1959-06-30T00:00:00.000000000",
                    "1959-07-31T00:00:00.000000000",
                    "1959-08-31T00:00:00.000000000",
                    "1959-09-30T00:00:00.000000000",
                    "1959-10-31T00:00:00.000000000",
                    "1959-11-30T00:00:00.000000000",
                    "1959-12-31T00:00:00.000000000",
                    "1960-01-31T00:00:00.000000000",
                    "1960-02-29T00:00:00.000000000",
                    "1960-03-31T00:00:00.000000000",
                    "1960-04-30T00:00:00.000000000",
                    "1960-05-31T00:00:00.000000000",
                    "1960-06-30T00:00:00.000000000",
                    "1960-07-31T00:00:00.000000000",
                    "1960-08-31T00:00:00.000000000",
                    "1960-09-30T00:00:00.000000000",
                    "1960-10-31T00:00:00.000000000",
                    "1960-11-30T00:00:00.000000000",
                    "1960-12-31T00:00:00.000000000",
                    "1961-01-31T00:00:00.000000000",
                    "1961-02-28T00:00:00.000000000",
                    "1961-03-31T00:00:00.000000000",
                    "1961-04-30T00:00:00.000000000",
                    "1961-05-31T00:00:00.000000000",
                    "1961-06-30T00:00:00.000000000",
                    "1961-07-31T00:00:00.000000000",
                    "1961-08-31T00:00:00.000000000",
                    "1961-09-30T00:00:00.000000000",
                    "1961-10-31T00:00:00.000000000",
                    "1961-11-30T00:00:00.000000000",
                    "1961-12-31T00:00:00.000000000",
                    "1962-01-31T00:00:00.000000000",
                    "1962-02-28T00:00:00.000000000",
                    "1962-03-31T00:00:00.000000000",
                    "1962-04-30T00:00:00.000000000",
                    "1962-05-31T00:00:00.000000000",
                    "1962-06-30T00:00:00.000000000",
                    "1962-07-31T00:00:00.000000000",
                    "1962-08-31T00:00:00.000000000",
                    "1962-09-30T00:00:00.000000000",
                    "1962-10-31T00:00:00.000000000",
                    "1962-11-30T00:00:00.000000000",
                    "1962-12-31T00:00:00.000000000",
                    "1963-01-31T00:00:00.000000000",
                    "1963-02-28T00:00:00.000000000",
                    "1963-03-31T00:00:00.000000000",
                    "1963-04-30T00:00:00.000000000",
                    "1963-05-31T00:00:00.000000000",
                    "1963-06-30T00:00:00.000000000",
                    "1963-07-31T00:00:00.000000000",
                    "1963-08-31T00:00:00.000000000",
                    "1963-09-30T00:00:00.000000000",
                    "1963-10-31T00:00:00.000000000",
                    "1963-11-30T00:00:00.000000000",
                    "1963-12-31T00:00:00.000000000",
                    "1964-01-31T00:00:00.000000000",
                    "1964-02-29T00:00:00.000000000",
                    "1964-03-31T00:00:00.000000000",
                    "1964-04-30T00:00:00.000000000",
                    "1964-05-31T00:00:00.000000000",
                    "1964-06-30T00:00:00.000000000",
                    "1964-07-31T00:00:00.000000000",
                    "1964-08-31T00:00:00.000000000",
                    "1964-09-30T00:00:00.000000000",
                    "1964-10-31T00:00:00.000000000",
                    "1964-11-30T00:00:00.000000000",
                    "1964-12-31T00:00:00.000000000"
                  ],
                  "y": {
                    "bdata": "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",
                    "dtype": "f8"
                  }
                },
                {
                  "fill": "tonexty",
                  "fillcolor": "rgba(212, 212, 217, 0.5)",
                  "line": {
                    "color": "rgba(212, 212, 217, 0.0)",
                    "width": 0
                  },
                  "name": "Forecast Interval Lower Bound",
                  "showlegend": true,
                  "type": "scatter",
                  "x": [
                    "1949-01-31T00:00:00.000000000",
                    "1949-02-28T00:00:00.000000000",
                    "1949-03-31T00:00:00.000000000",
                    "1949-04-30T00:00:00.000000000",
                    "1949-05-31T00:00:00.000000000",
                    "1949-06-30T00:00:00.000000000",
                    "1949-07-31T00:00:00.000000000",
                    "1949-08-31T00:00:00.000000000",
                    "1949-09-30T00:00:00.000000000",
                    "1949-10-31T00:00:00.000000000",
                    "1949-11-30T00:00:00.000000000",
                    "1949-12-31T00:00:00.000000000",
                    "1950-01-31T00:00:00.000000000",
                    "1950-02-28T00:00:00.000000000",
                    "1950-03-31T00:00:00.000000000",
                    "1950-04-30T00:00:00.000000000",
                    "1950-05-31T00:00:00.000000000",
                    "1950-06-30T00:00:00.000000000",
                    "1950-07-31T00:00:00.000000000",
                    "1950-08-31T00:00:00.000000000",
                    "1950-09-30T00:00:00.000000000",
                    "1950-10-31T00:00:00.000000000",
                    "1950-11-30T00:00:00.000000000",
                    "1950-12-31T00:00:00.000000000",
                    "1951-01-31T00:00:00.000000000",
                    "1951-02-28T00:00:00.000000000",
                    "1951-03-31T00:00:00.000000000",
                    "1951-04-30T00:00:00.000000000",
                    "1951-05-31T00:00:00.000000000",
                    "1951-06-30T00:00:00.000000000",
                    "1951-07-31T00:00:00.000000000",
                    "1951-08-31T00:00:00.000000000",
                    "1951-09-30T00:00:00.000000000",
                    "1951-10-31T00:00:00.000000000",
                    "1951-11-30T00:00:00.000000000",
                    "1951-12-31T00:00:00.000000000",
                    "1952-01-31T00:00:00.000000000",
                    "1952-02-29T00:00:00.000000000",
                    "1952-03-31T00:00:00.000000000",
                    "1952-04-30T00:00:00.000000000",
                    "1952-05-31T00:00:00.000000000",
                    "1952-06-30T00:00:00.000000000",
                    "1952-07-31T00:00:00.000000000",
                    "1952-08-31T00:00:00.000000000",
                    "1952-09-30T00:00:00.000000000",
                    "1952-10-31T00:00:00.000000000",
                    "1952-11-30T00:00:00.000000000",
                    "1952-12-31T00:00:00.000000000",
                    "1953-01-31T00:00:00.000000000",
                    "1953-02-28T00:00:00.000000000",
                    "1953-03-31T00:00:00.000000000",
                    "1953-04-30T00:00:00.000000000",
                    "1953-05-31T00:00:00.000000000",
                    "1953-06-30T00:00:00.000000000",
                    "1953-07-31T00:00:00.000000000",
                    "1953-08-31T00:00:00.000000000",
                    "1953-09-30T00:00:00.000000000",
                    "1953-10-31T00:00:00.000000000",
                    "1953-11-30T00:00:00.000000000",
                    "1953-12-31T00:00:00.000000000",
                    "1954-01-31T00:00:00.000000000",
                    "1954-02-28T00:00:00.000000000",
                    "1954-03-31T00:00:00.000000000",
                    "1954-04-30T00:00:00.000000000",
                    "1954-05-31T00:00:00.000000000",
                    "1954-06-30T00:00:00.000000000",
                    "1954-07-31T00:00:00.000000000",
                    "1954-08-31T00:00:00.000000000",
                    "1954-09-30T00:00:00.000000000",
                    "1954-10-31T00:00:00.000000000",
                    "1954-11-30T00:00:00.000000000",
                    "1954-12-31T00:00:00.000000000",
                    "1955-01-31T00:00:00.000000000",
                    "1955-02-28T00:00:00.000000000",
                    "1955-03-31T00:00:00.000000000",
                    "1955-04-30T00:00:00.000000000",
                    "1955-05-31T00:00:00.000000000",
                    "1955-06-30T00:00:00.000000000",
                    "1955-07-31T00:00:00.000000000",
                    "1955-08-31T00:00:00.000000000",
                    "1955-09-30T00:00:00.000000000",
                    "1955-10-31T00:00:00.000000000",
                    "1955-11-30T00:00:00.000000000",
                    "1955-12-31T00:00:00.000000000",
                    "1956-01-31T00:00:00.000000000",
                    "1956-02-29T00:00:00.000000000",
                    "1956-03-31T00:00:00.000000000",
                    "1956-04-30T00:00:00.000000000",
                    "1956-05-31T00:00:00.000000000",
                    "1956-06-30T00:00:00.000000000",
                    "1956-07-31T00:00:00.000000000",
                    "1956-08-31T00:00:00.000000000",
                    "1956-09-30T00:00:00.000000000",
                    "1956-10-31T00:00:00.000000000",
                    "1956-11-30T00:00:00.000000000",
                    "1956-12-31T00:00:00.000000000",
                    "1957-01-31T00:00:00.000000000",
                    "1957-02-28T00:00:00.000000000",
                    "1957-03-31T00:00:00.000000000",
                    "1957-04-30T00:00:00.000000000",
                    "1957-05-31T00:00:00.000000000",
                    "1957-06-30T00:00:00.000000000",
                    "1957-07-31T00:00:00.000000000",
                    "1957-08-31T00:00:00.000000000",
                    "1957-09-30T00:00:00.000000000",
                    "1957-10-31T00:00:00.000000000",
                    "1957-11-30T00:00:00.000000000",
                    "1957-12-31T00:00:00.000000000",
                    "1958-01-31T00:00:00.000000000",
                    "1958-02-28T00:00:00.000000000",
                    "1958-03-31T00:00:00.000000000",
                    "1958-04-30T00:00:00.000000000",
                    "1958-05-31T00:00:00.000000000",
                    "1958-06-30T00:00:00.000000000",
                    "1958-07-31T00:00:00.000000000",
                    "1958-08-31T00:00:00.000000000",
                    "1958-09-30T00:00:00.000000000",
                    "1958-10-31T00:00:00.000000000",
                    "1958-11-30T00:00:00.000000000",
                    "1958-12-31T00:00:00.000000000",
                    "1959-01-31T00:00:00.000000000",
                    "1959-02-28T00:00:00.000000000",
                    "1959-03-31T00:00:00.000000000",
                    "1959-04-30T00:00:00.000000000",
                    "1959-05-31T00:00:00.000000000",
                    "1959-06-30T00:00:00.000000000",
                    "1959-07-31T00:00:00.000000000",
                    "1959-08-31T00:00:00.000000000",
                    "1959-09-30T00:00:00.000000000",
                    "1959-10-31T00:00:00.000000000",
                    "1959-11-30T00:00:00.000000000",
                    "1959-12-31T00:00:00.000000000",
                    "1960-01-31T00:00:00.000000000",
                    "1960-02-29T00:00:00.000000000",
                    "1960-03-31T00:00:00.000000000",
                    "1960-04-30T00:00:00.000000000",
                    "1960-05-31T00:00:00.000000000",
                    "1960-06-30T00:00:00.000000000",
                    "1960-07-31T00:00:00.000000000",
                    "1960-08-31T00:00:00.000000000",
                    "1960-09-30T00:00:00.000000000",
                    "1960-10-31T00:00:00.000000000",
                    "1960-11-30T00:00:00.000000000",
                    "1960-12-31T00:00:00.000000000",
                    "1961-01-31T00:00:00.000000000",
                    "1961-02-28T00:00:00.000000000",
                    "1961-03-31T00:00:00.000000000",
                    "1961-04-30T00:00:00.000000000",
                    "1961-05-31T00:00:00.000000000",
                    "1961-06-30T00:00:00.000000000",
                    "1961-07-31T00:00:00.000000000",
                    "1961-08-31T00:00:00.000000000",
                    "1961-09-30T00:00:00.000000000",
                    "1961-10-31T00:00:00.000000000",
                    "1961-11-30T00:00:00.000000000",
                    "1961-12-31T00:00:00.000000000",
                    "1962-01-31T00:00:00.000000000",
                    "1962-02-28T00:00:00.000000000",
                    "1962-03-31T00:00:00.000000000",
                    "1962-04-30T00:00:00.000000000",
                    "1962-05-31T00:00:00.000000000",
                    "1962-06-30T00:00:00.000000000",
                    "1962-07-31T00:00:00.000000000",
                    "1962-08-31T00:00:00.000000000",
                    "1962-09-30T00:00:00.000000000",
                    "1962-10-31T00:00:00.000000000",
                    "1962-11-30T00:00:00.000000000",
                    "1962-12-31T00:00:00.000000000",
                    "1963-01-31T00:00:00.000000000",
                    "1963-02-28T00:00:00.000000000",
                    "1963-03-31T00:00:00.000000000",
                    "1963-04-30T00:00:00.000000000",
                    "1963-05-31T00:00:00.000000000",
                    "1963-06-30T00:00:00.000000000",
                    "1963-07-31T00:00:00.000000000",
                    "1963-08-31T00:00:00.000000000",
                    "1963-09-30T00:00:00.000000000",
                    "1963-10-31T00:00:00.000000000",
                    "1963-11-30T00:00:00.000000000",
                    "1963-12-31T00:00:00.000000000",
                    "1964-01-31T00:00:00.000000000",
                    "1964-02-29T00:00:00.000000000",
                    "1964-03-31T00:00:00.000000000",
                    "1964-04-30T00:00:00.000000000",
                    "1964-05-31T00:00:00.000000000",
                    "1964-06-30T00:00:00.000000000",
                    "1964-07-31T00:00:00.000000000",
                    "1964-08-31T00:00:00.000000000",
                    "1964-09-30T00:00:00.000000000",
                    "1964-10-31T00:00:00.000000000",
                    "1964-11-30T00:00:00.000000000",
                    "1964-12-31T00:00:00.000000000"
                  ],
                  "y": {
                    "bdata": "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",
                    "dtype": "f8"
                  }
                }
              ],
              "layout": {
                "hovermode": "x unified",
                "template": {
                  "data": {
                    "bar": [
                      {
                        "error_x": {
                          "color": "#f2f5fa"
                        },
                        "error_y": {
                          "color": "#f2f5fa"
                        },
                        "marker": {
                          "line": {
                            "color": "rgb(17,17,17)",
                            "width": 0.5
                          },
                          "pattern": {
                            "fillmode": "overlay",
                            "size": 10,
                            "solidity": 0.2
                          }
                        },
                        "type": "bar"
                      }
                    ],
                    "barpolar": [
                      {
                        "marker": {
                          "line": {
                            "color": "rgb(17,17,17)",
                            "width": 0.5
                          },
                          "pattern": {
                            "fillmode": "overlay",
                            "size": 10,
                            "solidity": 0.2
                          }
                        },
                        "type": "barpolar"
                      }
                    ],
                    "carpet": [
                      {
                        "aaxis": {
                          "endlinecolor": "#A2B1C6",
                          "gridcolor": "#506784",
                          "linecolor": "#506784",
                          "minorgridcolor": "#506784",
                          "startlinecolor": "#A2B1C6"
                        },
                        "baxis": {
                          "endlinecolor": "#A2B1C6",
                          "gridcolor": "#506784",
                          "linecolor": "#506784",
                          "minorgridcolor": "#506784",
                          "startlinecolor": "#A2B1C6"
                        },
                        "type": "carpet"
                      }
                    ],
                    "choropleth": [
                      {
                        "colorbar": {
                          "outlinewidth": 0,
                          "ticks": ""
                        },
                        "type": "choropleth"
                      }
                    ],
                    "contour": [
                      {
                        "colorbar": {
                          "outlinewidth": 0,
                          "ticks": ""
                        },
                        "colorscale": [
                          [
                            0,
                            "#0d0887"
                          ],
                          [
                            0.1111111111111111,
                            "#46039f"
                          ],
                          [
                            0.2222222222222222,
                            "#7201a8"
                          ],
                          [
                            0.3333333333333333,
                            "#9c179e"
                          ],
                          [
                            0.4444444444444444,
                            "#bd3786"
                          ],
                          [
                            0.5555555555555556,
                            "#d8576b"
                          ],
                          [
                            0.6666666666666666,
                            "#ed7953"
                          ],
                          [
                            0.7777777777777778,
                            "#fb9f3a"
                          ],
                          [
                            0.8888888888888888,
                            "#fdca26"
                          ],
                          [
                            1,
                            "#f0f921"
                          ]
                        ],
                        "type": "contour"
                      }
                    ],
                    "contourcarpet": [
                      {
                        "colorbar": {
                          "outlinewidth": 0,
                          "ticks": ""
                        },
                        "type": "contourcarpet"
                      }
                    ],
                    "heatmap": [
                      {
                        "colorbar": {
                          "outlinewidth": 0,
                          "ticks": ""
                        },
                        "colorscale": [
                          [
                            0,
                            "#0d0887"
                          ],
                          [
                            0.1111111111111111,
                            "#46039f"
                          ],
                          [
                            0.2222222222222222,
                            "#7201a8"
                          ],
                          [
                            0.3333333333333333,
                            "#9c179e"
                          ],
                          [
                            0.4444444444444444,
                            "#bd3786"
                          ],
                          [
                            0.5555555555555556,
                            "#d8576b"
                          ],
                          [
                            0.6666666666666666,
                            "#ed7953"
                          ],
                          [
                            0.7777777777777778,
                            "#fb9f3a"
                          ],
                          [
                            0.8888888888888888,
                            "#fdca26"
                          ],
                          [
                            1,
                            "#f0f921"
                          ]
                        ],
                        "type": "heatmap"
                      }
                    ],
                    "histogram": [
                      {
                        "marker": {
                          "pattern": {
                            "fillmode": "overlay",
                            "size": 10,
                            "solidity": 0.2
                          }
                        },
                        "type": "histogram"
                      }
                    ],
                    "histogram2d": [
                      {
                        "colorbar": {
                          "outlinewidth": 0,
                          "ticks": ""
                        },
                        "colorscale": [
                          [
                            0,
                            "#0d0887"
                          ],
                          [
                            0.1111111111111111,
                            "#46039f"
                          ],
                          [
                            0.2222222222222222,
                            "#7201a8"
                          ],
                          [
                            0.3333333333333333,
                            "#9c179e"
                          ],
                          [
                            0.4444444444444444,
                            "#bd3786"
                          ],
                          [
                            0.5555555555555556,
                            "#d8576b"
                          ],
                          [
                            0.6666666666666666,
                            "#ed7953"
                          ],
                          [
                            0.7777777777777778,
                            "#fb9f3a"
                          ],
                          [
                            0.8888888888888888,
                            "#fdca26"
                          ],
                          [
                            1,
                            "#f0f921"
                          ]
                        ],
                        "type": "histogram2d"
                      }
                    ],
                    "histogram2dcontour": [
                      {
                        "colorbar": {
                          "outlinewidth": 0,
                          "ticks": ""
                        },
                        "colorscale": [
                          [
                            0,
                            "#0d0887"
                          ],
                          [
                            0.1111111111111111,
                            "#46039f"
                          ],
                          [
                            0.2222222222222222,
                            "#7201a8"
                          ],
                          [
                            0.3333333333333333,
                            "#9c179e"
                          ],
                          [
                            0.4444444444444444,
                            "#bd3786"
                          ],
                          [
                            0.5555555555555556,
                            "#d8576b"
                          ],
                          [
                            0.6666666666666666,
                            "#ed7953"
                          ],
                          [
                            0.7777777777777778,
                            "#fb9f3a"
                          ],
                          [
                            0.8888888888888888,
                            "#fdca26"
                          ],
                          [
                            1,
                            "#f0f921"
                          ]
                        ],
                        "type": "histogram2dcontour"
                      }
                    ],
                    "mesh3d": [
                      {
                        "colorbar": {
                          "outlinewidth": 0,
                          "ticks": ""
                        },
                        "type": "mesh3d"
                      }
                    ],
                    "parcoords": [
                      {
                        "line": {
                          "colorbar": {
                            "outlinewidth": 0,
                            "ticks": ""
                          }
                        },
                        "type": "parcoords"
                      }
                    ],
                    "pie": [
                      {
                        "automargin": true,
                        "type": "pie"
                      }
                    ],
                    "scatter": [
                      {
                        "marker": {
                          "line": {
                            "color": "#283442"
                          }
                        },
                        "type": "scatter"
                      }
                    ],
                    "scatter3d": [
                      {
                        "line": {
                          "colorbar": {
                            "outlinewidth": 0,
                            "ticks": ""
                          }
                        },
                        "marker": {
                          "colorbar": {
                            "outlinewidth": 0,
                            "ticks": ""
                          }
                        },
                        "type": "scatter3d"
                      }
                    ],
                    "scattercarpet": [
                      {
                        "marker": {
                          "colorbar": {
                            "outlinewidth": 0,
                            "ticks": ""
                          }
                        },
                        "type": "scattercarpet"
                      }
                    ],
                    "scattergeo": [
                      {
                        "marker": {
                          "colorbar": {
                            "outlinewidth": 0,
                            "ticks": ""
                          }
                        },
                        "type": "scattergeo"
                      }
                    ],
                    "scattergl": [
                      {
                        "marker": {
                          "line": {
                            "color": "#283442"
                          }
                        },
                        "type": "scattergl"
                      }
                    ],
                    "scattermap": [
                      {
                        "marker": {
                          "colorbar": {
                            "outlinewidth": 0,
                            "ticks": ""
                          }
                        },
                        "type": "scattermap"
                      }
                    ],
                    "scattermapbox": [
                      {
                        "marker": {
                          "colorbar": {
                            "outlinewidth": 0,
                            "ticks": ""
                          }
                        },
                        "type": "scattermapbox"
                      }
                    ],
                    "scatterpolar": [
                      {
                        "marker": {
                          "colorbar": {
                            "outlinewidth": 0,
                            "ticks": ""
                          }
                        },
                        "type": "scatterpolar"
                      }
                    ],
                    "scatterpolargl": [
                      {
                        "marker": {
                          "colorbar": {
                            "outlinewidth": 0,
                            "ticks": ""
                          }
                        },
                        "type": "scatterpolargl"
                      }
                    ],
                    "scatterternary": [
                      {
                        "marker": {
                          "colorbar": {
                            "outlinewidth": 0,
                            "ticks": ""
                          }
                        },
                        "type": "scatterternary"
                      }
                    ],
                    "surface": [
                      {
                        "colorbar": {
                          "outlinewidth": 0,
                          "ticks": ""
                        },
                        "colorscale": [
                          [
                            0,
                            "#0d0887"
                          ],
                          [
                            0.1111111111111111,
                            "#46039f"
                          ],
                          [
                            0.2222222222222222,
                            "#7201a8"
                          ],
                          [
                            0.3333333333333333,
                            "#9c179e"
                          ],
                          [
                            0.4444444444444444,
                            "#bd3786"
                          ],
                          [
                            0.5555555555555556,
                            "#d8576b"
                          ],
                          [
                            0.6666666666666666,
                            "#ed7953"
                          ],
                          [
                            0.7777777777777778,
                            "#fb9f3a"
                          ],
                          [
                            0.8888888888888888,
                            "#fdca26"
                          ],
                          [
                            1,
                            "#f0f921"
                          ]
                        ],
                        "type": "surface"
                      }
                    ],
                    "table": [
                      {
                        "cells": {
                          "fill": {
                            "color": "#506784"
                          },
                          "line": {
                            "color": "rgb(17,17,17)"
                          }
                        },
                        "header": {
                          "fill": {
                            "color": "#2a3f5f"
                          },
                          "line": {
                            "color": "rgb(17,17,17)"
                          }
                        },
                        "type": "table"
                      }
                    ]
                  },
                  "layout": {
                    "annotationdefaults": {
                      "arrowcolor": "#f2f5fa",
                      "arrowhead": 0,
                      "arrowwidth": 1
                    },
                    "autosize": false,
                    "autotypenumbers": "strict",
                    "coloraxis": {
                      "colorbar": {
                        "outlinewidth": 0,
                        "ticks": ""
                      }
                    },
                    "colorscale": {
                      "diverging": [
                        [
                          0,
                          "#8e0152"
                        ],
                        [
                          0.1,
                          "#c51b7d"
                        ],
                        [
                          0.2,
                          "#de77ae"
                        ],
                        [
                          0.3,
                          "#f1b6da"
                        ],
                        [
                          0.4,
                          "#fde0ef"
                        ],
                        [
                          0.5,
                          "#f7f7f7"
                        ],
                        [
                          0.6,
                          "#e6f5d0"
                        ],
                        [
                          0.7,
                          "#b8e186"
                        ],
                        [
                          0.8,
                          "#7fbc41"
                        ],
                        [
                          0.9,
                          "#4d9221"
                        ],
                        [
                          1,
                          "#276419"
                        ]
                      ],
                      "sequential": [
                        [
                          0,
                          "#0d0887"
                        ],
                        [
                          0.1111111111111111,
                          "#46039f"
                        ],
                        [
                          0.2222222222222222,
                          "#7201a8"
                        ],
                        [
                          0.3333333333333333,
                          "#9c179e"
                        ],
                        [
                          0.4444444444444444,
                          "#bd3786"
                        ],
                        [
                          0.5555555555555556,
                          "#d8576b"
                        ],
                        [
                          0.6666666666666666,
                          "#ed7953"
                        ],
                        [
                          0.7777777777777778,
                          "#fb9f3a"
                        ],
                        [
                          0.8888888888888888,
                          "#fdca26"
                        ],
                        [
                          1,
                          "#f0f921"
                        ]
                      ],
                      "sequentialminus": [
                        [
                          0,
                          "#0d0887"
                        ],
                        [
                          0.1111111111111111,
                          "#46039f"
                        ],
                        [
                          0.2222222222222222,
                          "#7201a8"
                        ],
                        [
                          0.3333333333333333,
                          "#9c179e"
                        ],
                        [
                          0.4444444444444444,
                          "#bd3786"
                        ],
                        [
                          0.5555555555555556,
                          "#d8576b"
                        ],
                        [
                          0.6666666666666666,
                          "#ed7953"
                        ],
                        [
                          0.7777777777777778,
                          "#fb9f3a"
                        ],
                        [
                          0.8888888888888888,
                          "#fdca26"
                        ],
                        [
                          1,
                          "#f0f921"
                        ]
                      ]
                    },
                    "colorway": [
                      "#636efa",
                      "#EF553B",
                      "#00cc96",
                      "#ab63fa",
                      "#FFA15A",
                      "#19d3f3",
                      "#FF6692",
                      "#B6E880",
                      "#FF97FF",
                      "#FECB52"
                    ],
                    "font": {
                      "color": "#f2f5fa"
                    },
                    "geo": {
                      "bgcolor": "rgb(17,17,17)",
                      "lakecolor": "rgb(17,17,17)",
                      "landcolor": "rgb(17,17,17)",
                      "showlakes": true,
                      "showland": true,
                      "subunitcolor": "#506784"
                    },
                    "height": 500,
                    "hoverlabel": {
                      "align": "left"
                    },
                    "hovermode": "closest",
                    "mapbox": {
                      "style": "dark"
                    },
                    "paper_bgcolor": "rgb(17,17,17)",
                    "plot_bgcolor": "rgb(17,17,17)",
                    "polar": {
                      "angularaxis": {
                        "gridcolor": "#506784",
                        "linecolor": "#506784",
                        "ticks": ""
                      },
                      "bgcolor": "rgb(17,17,17)",
                      "radialaxis": {
                        "gridcolor": "#506784",
                        "linecolor": "#506784",
                        "ticks": ""
                      }
                    },
                    "scene": {
                      "xaxis": {
                        "backgroundcolor": "rgb(17,17,17)",
                        "gridcolor": "#506784",
                        "gridwidth": 2,
                        "linecolor": "#506784",
                        "showbackground": true,
                        "ticks": "",
                        "zerolinecolor": "#C8D4E3"
                      },
                      "yaxis": {
                        "backgroundcolor": "rgb(17,17,17)",
                        "gridcolor": "#506784",
                        "gridwidth": 2,
                        "linecolor": "#506784",
                        "showbackground": true,
                        "ticks": "",
                        "zerolinecolor": "#C8D4E3"
                      },
                      "zaxis": {
                        "backgroundcolor": "rgb(17,17,17)",
                        "gridcolor": "#506784",
                        "gridwidth": 2,
                        "linecolor": "#506784",
                        "showbackground": true,
                        "ticks": "",
                        "zerolinecolor": "#C8D4E3"
                      }
                    },
                    "shapedefaults": {
                      "line": {
                        "color": "#f2f5fa"
                      }
                    },
                    "showlegend": true,
                    "sliderdefaults": {
                      "bgcolor": "#C8D4E3",
                      "bordercolor": "rgb(17,17,17)",
                      "borderwidth": 1,
                      "tickwidth": 0
                    },
                    "ternary": {
                      "aaxis": {
                        "gridcolor": "#506784",
                        "linecolor": "#506784",
                        "ticks": ""
                      },
                      "baxis": {
                        "gridcolor": "#506784",
                        "linecolor": "#506784",
                        "ticks": ""
                      },
                      "bgcolor": "rgb(17,17,17)",
                      "caxis": {
                        "gridcolor": "#506784",
                        "linecolor": "#506784",
                        "ticks": ""
                      }
                    },
                    "title": {
                      "x": 0.05
                    },
                    "updatemenudefaults": {
                      "bgcolor": "#506784",
                      "borderwidth": 0
                    },
                    "width": 1000,
                    "xaxis": {
                      "automargin": true,
                      "gridcolor": "#283442",
                      "linecolor": "#506784",
                      "ticks": "",
                      "title": {
                        "standoff": 15
                      },
                      "zerolinecolor": "#283442",
                      "zerolinewidth": 2
                    },
                    "yaxis": {
                      "automargin": true,
                      "gridcolor": "#283442",
                      "linecolor": "#506784",
                      "ticks": "",
                      "title": {
                        "standoff": 15
                      },
                      "zerolinecolor": "#283442",
                      "zerolinewidth": 2
                    }
                  }
                },
                "title": {},
                "xaxis": {
                  "range": [
                    "1949-01-31T00:00:00",
                    "1964-12-31T00:00:00"
                  ]
                }
              }
            }
          },
          "metadata": {},
          "output_type": "display_data"
        }
      ],
      "source": [
        "utils.plot_prophet_forecast(df['y'], forecast)"
      ]
    },
    {
      "cell_type": "markdown",
      "id": "bd088e87",
      "metadata": {},
      "source": [
        "## Configuration"
      ]
    },
    {
      "cell_type": "markdown",
      "id": "7eb31d8f",
      "metadata": {},
      "source": [
        "1. Prophet automatically detects trend and seasonality using changepoints.\n",
        "2. You configure:\n",
        "\n",
        "   * **Trend flexibility** (with or without change points)\n",
        "   * **Additive vs. multiplicative** seasonality (`seasonality_mode`)\n",
        "   * **Custom seasonalities** (optional)\n",
        "   * **Holiday effects** (optional)\n"
      ]
    },
    {
      "cell_type": "markdown",
      "id": "bd795550",
      "metadata": {},
      "source": [
        "**📌 Rule of Thumb**"
      ]
    },
    {
      "cell_type": "markdown",
      "id": "fe7f674d",
      "metadata": {},
      "source": [
        "> “Prophet config is semi-automatic: trend and seasonal components are learned with flexible change points. You choose seasonal mode and horizon — minimal tuning required.”"
      ]
    },
    {
      "cell_type": "markdown",
      "id": "f5697130",
      "metadata": {},
      "source": [
        "\n",
        "\n",
        "**Seasonal decomposition visual insight only.**"
      ]
    },
    {
      "cell_type": "code",
      "execution_count": 11,
      "id": "1489c93d",
      "metadata": {},
      "outputs": [
        {
          "data": {
            "image/png": "[encoded data removed]",
            "text/plain": [
              "<Figure size 640x480 with 4 Axes>"
            ]
          },
          "metadata": {},
          "output_type": "display_data"
        },
        {
          "data": {
            "image/png": "[encoded data removed]",
            "text/plain": [
              "<Figure size 640x480 with 4 Axes>"
            ]
          },
          "metadata": {},
          "output_type": "display_data"
        }
      ],
      "source": [
        "from statsmodels.tsa.seasonal import seasonal_decompose\n",
        "\n",
        "seasonal_decompose(df['y'], model=\"additive\", period=12).plot();\n",
        "seasonal_decompose(df['y'], model=\"multiplicative\", period=12).plot();"
      ]
    },
    {
      "cell_type": "markdown",
      "id": "60eb5655",
      "metadata": {},
      "source": [
        "## Variation playground\n",
        "\n",
        "### Prophet"
      ]
    },
    {
      "cell_type": "code",
      "execution_count": 12,
      "id": "c0bf0c23",
      "metadata": {},
      "outputs": [
        {
          "name": "stderr",
          "output_type": "stream",
          "text": [
            "11:03:05 - cmdstanpy - INFO - Chain [1] start processing\n",
            "11:03:05 - cmdstanpy - INFO - Chain [1] done processing\n",
            "11:03:05 - cmdstanpy - INFO - Chain [1] start processing\n",
            "11:03:05 - cmdstanpy - INFO - Chain [1] done processing\n"
          ]
        },
        {
          "data": {
            "text/html": [
              "<div>\n",
              "<style scoped>\n",
              "    .dataframe tbody tr th:only-of-type {\n",
              "        vertical-align: middle;\n",
              "    }\n",
              "\n",
              "    .dataframe tbody tr th {\n",
              "        vertical-align: top;\n",
              "    }\n",
              "\n",
              "    .dataframe thead th {\n",
              "        text-align: right;\n",
              "    }\n",
              "</style>\n",
              "<table border=\"1\" class=\"dataframe\">\n",
              "  <thead>\n",
              "    <tr style=\"text-align: right;\">\n",
              "      <th></th>\n",
              "      <th>values</th>\n",
              "      <th>prophet_additive</th>\n",
              "      <th>prophet_multiplicative</th>\n",
              "    </tr>\n",
              "  </thead>\n",
              "  <tbody>\n",
              "    <tr>\n",
              "      <th>1949-01-31</th>\n",
              "      <td>112.0</td>\n",
              "      <td>NaN</td>\n",
              "      <td>NaN</td>\n",
              "    </tr>\n",
              "    <tr>\n",
              "      <th>1949-02-28</th>\n",
              "      <td>118.0</td>\n",
              "      <td>NaN</td>\n",
              "      <td>NaN</td>\n",
              "    </tr>\n",
              "    <tr>\n",
              "      <th>...</th>\n",
              "      <td>...</td>\n",
              "      <td>...</td>\n",
              "      <td>...</td>\n",
              "    </tr>\n",
              "    <tr>\n",
              "      <th>1964-11-30</th>\n",
              "      <td>NaN</td>\n",
              "      <td>568.963094</td>\n",
              "      <td>525.884549</td>\n",
              "    </tr>\n",
              "    <tr>\n",
              "      <th>1964-12-31</th>\n",
              "      <td>NaN</td>\n",
              "      <td>597.874859</td>\n",
              "      <td>583.970836</td>\n",
              "    </tr>\n",
              "  </tbody>\n",
              "</table>\n",
              "<p>192 rows × 3 columns</p>\n",
              "</div>"
            ],
            "text/plain": [
              "            values  prophet_additive  prophet_multiplicative\n",
              "1949-01-31   112.0               NaN                     NaN\n",
              "1949-02-28   118.0               NaN                     NaN\n",
              "...            ...               ...                     ...\n",
              "1964-11-30     NaN        568.963094              525.884549\n",
              "1964-12-31     NaN        597.874859              583.970836\n",
              "\n",
              "[192 rows x 3 columns]"
            ]
          },
          "execution_count": 12,
          "metadata": {},
          "output_type": "execute_result"
        }
      ],
      "source": [
        "from modules import utils\n",
        "\n",
        "df = series.to_frame()\n",
        "\n",
        "df = utils.get_model_forecast_prophet(df, column=\"values\", mode=\"additive\")\n",
        "df = utils.get_model_forecast_prophet(df, column=\"values\", mode=\"multiplicative\")\n",
        "\n",
        "df"
      ]
    },
    {
      "cell_type": "code",
      "execution_count": 13,
      "id": "d1b75ea0",
      "metadata": {},
      "outputs": [
        {
          "data": {
            "application/vnd.plotly.v1+json": {
              "config": {
                "plotlyServerURL": "https://plot.ly"
              },
              "data": [
                {
                  "hovertemplate": "variable=values<br>index=%{x}<br>value=%{y}<extra></extra>",
                  "legendgroup": "values",
                  "line": {
                    "color": "#636efa",
                    "dash": "solid"
                  },
                  "marker": {
                    "symbol": "circle"
                  },
                  "mode": "lines",
                  "name": "values",
                  "orientation": "v",
                  "showlegend": true,
                  "type": "scatter",
                  "x": [
                    "1949-01-31T00:00:00",
                    "1949-02-28T00:00:00",
                    "1949-03-31T00:00:00",
                    "1949-04-30T00:00:00",
                    "1949-05-31T00:00:00",
                    "1949-06-30T00:00:00",
                    "1949-07-31T00:00:00",
                    "1949-08-31T00:00:00",
                    "1949-09-30T00:00:00",
                    "1949-10-31T00:00:00",
                    "1949-11-30T00:00:00",
                    "1949-12-31T00:00:00",
                    "1950-01-31T00:00:00",
                    "1950-02-28T00:00:00",
                    "1950-03-31T00:00:00",
                    "1950-04-30T00:00:00",
                    "1950-05-31T00:00:00",
                    "1950-06-30T00:00:00",
                    "1950-07-31T00:00:00",
                    "1950-08-31T00:00:00",
                    "1950-09-30T00:00:00",
                    "1950-10-31T00:00:00",
                    "1950-11-30T00:00:00",
                    "1950-12-31T00:00:00",
                    "1951-01-31T00:00:00",
                    "1951-02-28T00:00:00",
                    "1951-03-31T00:00:00",
                    "1951-04-30T00:00:00",
                    "1951-05-31T00:00:00",
                    "1951-06-30T00:00:00",
                    "1951-07-31T00:00:00",
                    "1951-08-31T00:00:00",
                    "1951-09-30T00:00:00",
                    "1951-10-31T00:00:00",
                    "1951-11-30T00:00:00",
                    "1951-12-31T00:00:00",
                    "1952-01-31T00:00:00",
                    "1952-02-29T00:00:00",
                    "1952-03-31T00:00:00",
                    "1952-04-30T00:00:00",
                    "1952-05-31T00:00:00",
                    "1952-06-30T00:00:00",
                    "1952-07-31T00:00:00",
                    "1952-08-31T00:00:00",
                    "1952-09-30T00:00:00",
                    "1952-10-31T00:00:00",
                    "1952-11-30T00:00:00",
                    "1952-12-31T00:00:00",
                    "1953-01-31T00:00:00",
                    "1953-02-28T00:00:00",
                    "1953-03-31T00:00:00",
                    "1953-04-30T00:00:00",
                    "1953-05-31T00:00:00",
                    "1953-06-30T00:00:00",
                    "1953-07-31T00:00:00",
                    "1953-08-31T00:00:00",
                    "1953-09-30T00:00:00",
                    "1953-10-31T00:00:00",
                    "1953-11-30T00:00:00",
                    "1953-12-31T00:00:00",
                    "1954-01-31T00:00:00",
                    "1954-02-28T00:00:00",
                    "1954-03-31T00:00:00",
                    "1954-04-30T00:00:00",
                    "1954-05-31T00:00:00",
                    "1954-06-30T00:00:00",
                    "1954-07-31T00:00:00",
                    "1954-08-31T00:00:00",
                    "1954-09-30T00:00:00",
                    "1954-10-31T00:00:00",
                    "1954-11-30T00:00:00",
                    "1954-12-31T00:00:00",
                    "1955-01-31T00:00:00",
                    "1955-02-28T00:00:00",
                    "1955-03-31T00:00:00",
                    "1955-04-30T00:00:00",
                    "1955-05-31T00:00:00",
                    "1955-06-30T00:00:00",
                    "1955-07-31T00:00:00",
                    "1955-08-31T00:00:00",
                    "1955-09-30T00:00:00",
                    "1955-10-31T00:00:00",
                    "1955-11-30T00:00:00",
                    "1955-12-31T00:00:00",
                    "1956-01-31T00:00:00",
                    "1956-02-29T00:00:00",
                    "1956-03-31T00:00:00",
                    "1956-04-30T00:00:00",
                    "1956-05-31T00:00:00",
                    "1956-06-30T00:00:00",
                    "1956-07-31T00:00:00",
                    "1956-08-31T00:00:00",
                    "1956-09-30T00:00:00",
                    "1956-10-31T00:00:00",
                    "1956-11-30T00:00:00",
                    "1956-12-31T00:00:00",
                    "1957-01-31T00:00:00",
                    "1957-02-28T00:00:00",
                    "1957-03-31T00:00:00",
                    "1957-04-30T00:00:00",
                    "1957-05-31T00:00:00",
                    "1957-06-30T00:00:00",
                    "1957-07-31T00:00:00",
                    "1957-08-31T00:00:00",
                    "1957-09-30T00:00:00",
                    "1957-10-31T00:00:00",
                    "1957-11-30T00:00:00",
                    "1957-12-31T00:00:00",
                    "1958-01-31T00:00:00",
                    "1958-02-28T00:00:00",
                    "1958-03-31T00:00:00",
                    "1958-04-30T00:00:00",
                    "1958-05-31T00:00:00",
                    "1958-06-30T00:00:00",
                    "1958-07-31T00:00:00",
                    "1958-08-31T00:00:00",
                    "1958-09-30T00:00:00",
                    "1958-10-31T00:00:00",
                    "1958-11-30T00:00:00",
                    "1958-12-31T00:00:00",
                    "1959-01-31T00:00:00",
                    "1959-02-28T00:00:00",
                    "1959-03-31T00:00:00",
                    "1959-04-30T00:00:00",
                    "1959-05-31T00:00:00",
                    "1959-06-30T00:00:00",
                    "1959-07-31T00:00:00",
                    "1959-08-31T00:00:00",
                    "1959-09-30T00:00:00",
                    "1959-10-31T00:00:00",
                    "1959-11-30T00:00:00",
                    "1959-12-31T00:00:00",
                    "1960-01-31T00:00:00",
                    "1960-02-29T00:00:00",
                    "1960-03-31T00:00:00",
                    "1960-04-30T00:00:00",
                    "1960-05-31T00:00:00",
                    "1960-06-30T00:00:00",
                    "1960-07-31T00:00:00",
                    "1960-08-31T00:00:00",
                    "1960-09-30T00:00:00",
                    "1960-10-31T00:00:00",
                    "1960-11-30T00:00:00",
                    "1960-12-31T00:00:00",
                    "1961-01-31T00:00:00",
                    "1961-02-28T00:00:00",
                    "1961-03-31T00:00:00",
                    "1961-04-30T00:00:00",
                    "1961-05-31T00:00:00",
                    "1961-06-30T00:00:00",
                    "1961-07-31T00:00:00",
                    "1961-08-31T00:00:00",
                    "1961-09-30T00:00:00",
                    "1961-10-31T00:00:00",
                    "1961-11-30T00:00:00",
                    "1961-12-31T00:00:00",
                    "1962-01-31T00:00:00",
                    "1962-02-28T00:00:00",
                    "1962-03-31T00:00:00",
                    "1962-04-30T00:00:00",
                    "1962-05-31T00:00:00",
                    "1962-06-30T00:00:00",
                    "1962-07-31T00:00:00",
                    "1962-08-31T00:00:00",
                    "1962-09-30T00:00:00",
                    "1962-10-31T00:00:00",
                    "1962-11-30T00:00:00",
                    "1962-12-31T00:00:00",
                    "1963-01-31T00:00:00",
                    "1963-02-28T00:00:00",
                    "1963-03-31T00:00:00",
                    "1963-04-30T00:00:00",
                    "1963-05-31T00:00:00",
                    "1963-06-30T00:00:00",
                    "1963-07-31T00:00:00",
                    "1963-08-31T00:00:00",
                    "1963-09-30T00:00:00",
                    "1963-10-31T00:00:00",
                    "1963-11-30T00:00:00",
                    "1963-12-31T00:00:00",
                    "1964-01-31T00:00:00",
                    "1964-02-29T00:00:00",
                    "1964-03-31T00:00:00",
                    "1964-04-30T00:00:00",
                    "1964-05-31T00:00:00",
                    "1964-06-30T00:00:00",
                    "1964-07-31T00:00:00",
                    "1964-08-31T00:00:00",
                    "1964-09-30T00:00:00",
                    "1964-10-31T00:00:00",
                    "1964-11-30T00:00:00",
                    "1964-12-31T00:00:00"
                  ],
                  "xaxis": "x",
                  "y": [
                    112,
                    118,
                    132,
                    129,
                    121,
                    135,
                    148,
                    148,
                    136,
                    119,
                    104,
                    118,
                    115,
                    126,
                    141,
                    135,
                    125,
                    149,
                    170,
                    170,
                    158,
                    133,
                    114,
                    140,
                    145,
                    150,
                    178,
                    163,
                    172,
                    178,
                    199,
                    199,
                    184,
                    162,
                    146,
                    166,
                    171,
                    180,
                    193,
                    181,
                    183,
                    218,
                    230,
                    242,
                    209,
                    191,
                    172,
                    194,
                    196,
                    196,
                    236,
                    235,
                    229,
                    243,
                    264,
                    272,
                    237,
                    211,
                    180,
                    201,
                    204,
                    188,
                    235,
                    227,
                    234,
                    264,
                    302,
                    293,
                    259,
                    229,
                    203,
                    229,
                    242,
                    233,
                    267,
                    269,
                    270,
                    315,
                    364,
                    347,
                    312,
                    274,
                    237,
                    278,
                    284,
                    277,
                    317,
                    313,
                    318,
                    374,
                    413,
                    405,
                    355,
                    306,
                    271,
                    306,
                    315,
                    301,
                    356,
                    348,
                    355,
                    422,
                    465,
                    467,
                    404,
                    347,
                    305,
                    336,
                    340,
                    318,
                    362,
                    348,
                    363,
                    435,
                    491,
                    505,
                    404,
                    359,
                    310,
                    337,
                    360,
                    342,
                    406,
                    396,
                    420,
                    472,
                    548,
                    559,
                    463,
                    407,
                    362,
                    405,
                    417,
                    391,
                    419,
                    461,
                    472,
                    535,
                    622,
                    606,
                    508,
                    461,
                    390,
                    432,
                    null,
                    null,
                    null,
                    null,
                    null,
                    null,
                    null,
                    null,
                    null,
                    null,
                    null,
                    null,
                    null,
                    null,
                    null,
                    null,
                    null,
                    null,
                    null,
                    null,
                    null,
                    null,
                    null,
                    null,
                    null,
                    null,
                    null,
                    null,
                    null,
                    null,
                    null,
                    null,
                    null,
                    null,
                    null,
                    null,
                    null,
                    null,
                    null,
                    null,
                    null,
                    null,
                    null,
                    null,
                    null,
                    null,
                    null,
                    null
                  ],
                  "yaxis": "y"
                },
                {
                  "hovertemplate": "variable=prophet_additive<br>index=%{x}<br>value=%{y}<extra></extra>",
                  "legendgroup": "prophet_additive",
                  "line": {
                    "color": "#EF553B",
                    "dash": "solid"
                  },
                  "marker": {
                    "symbol": "circle"
                  },
                  "mode": "lines",
                  "name": "prophet_additive",
                  "orientation": "v",
                  "showlegend": true,
                  "type": "scatter",
                  "x": [
                    "1949-01-31T00:00:00",
                    "1949-02-28T00:00:00",
                    "1949-03-31T00:00:00",
                    "1949-04-30T00:00:00",
                    "1949-05-31T00:00:00",
                    "1949-06-30T00:00:00",
                    "1949-07-31T00:00:00",
                    "1949-08-31T00:00:00",
                    "1949-09-30T00:00:00",
                    "1949-10-31T00:00:00",
                    "1949-11-30T00:00:00",
                    "1949-12-31T00:00:00",
                    "1950-01-31T00:00:00",
                    "1950-02-28T00:00:00",
                    "1950-03-31T00:00:00",
                    "1950-04-30T00:00:00",
                    "1950-05-31T00:00:00",
                    "1950-06-30T00:00:00",
                    "1950-07-31T00:00:00",
                    "1950-08-31T00:00:00",
                    "1950-09-30T00:00:00",
                    "1950-10-31T00:00:00",
                    "1950-11-30T00:00:00",
                    "1950-12-31T00:00:00",
                    "1951-01-31T00:00:00",
                    "1951-02-28T00:00:00",
                    "1951-03-31T00:00:00",
                    "1951-04-30T00:00:00",
                    "1951-05-31T00:00:00",
                    "1951-06-30T00:00:00",
                    "1951-07-31T00:00:00",
                    "1951-08-31T00:00:00",
                    "1951-09-30T00:00:00",
                    "1951-10-31T00:00:00",
                    "1951-11-30T00:00:00",
                    "1951-12-31T00:00:00",
                    "1952-01-31T00:00:00",
                    "1952-02-29T00:00:00",
                    "1952-03-31T00:00:00",
                    "1952-04-30T00:00:00",
                    "1952-05-31T00:00:00",
                    "1952-06-30T00:00:00",
                    "1952-07-31T00:00:00",
                    "1952-08-31T00:00:00",
                    "1952-09-30T00:00:00",
                    "1952-10-31T00:00:00",
                    "1952-11-30T00:00:00",
                    "1952-12-31T00:00:00",
                    "1953-01-31T00:00:00",
                    "1953-02-28T00:00:00",
                    "1953-03-31T00:00:00",
                    "1953-04-30T00:00:00",
                    "1953-05-31T00:00:00",
                    "1953-06-30T00:00:00",
                    "1953-07-31T00:00:00",
                    "1953-08-31T00:00:00",
                    "1953-09-30T00:00:00",
                    "1953-10-31T00:00:00",
                    "1953-11-30T00:00:00",
                    "1953-12-31T00:00:00",
                    "1954-01-31T00:00:00",
                    "1954-02-28T00:00:00",
                    "1954-03-31T00:00:00",
                    "1954-04-30T00:00:00",
                    "1954-05-31T00:00:00",
                    "1954-06-30T00:00:00",
                    "1954-07-31T00:00:00",
                    "1954-08-31T00:00:00",
                    "1954-09-30T00:00:00",
                    "1954-10-31T00:00:00",
                    "1954-11-30T00:00:00",
                    "1954-12-31T00:00:00",
                    "1955-01-31T00:00:00",
                    "1955-02-28T00:00:00",
                    "1955-03-31T00:00:00",
                    "1955-04-30T00:00:00",
                    "1955-05-31T00:00:00",
                    "1955-06-30T00:00:00",
                    "1955-07-31T00:00:00",
                    "1955-08-31T00:00:00",
                    "1955-09-30T00:00:00",
                    "1955-10-31T00:00:00",
                    "1955-11-30T00:00:00",
                    "1955-12-31T00:00:00",
                    "1956-01-31T00:00:00",
                    "1956-02-29T00:00:00",
                    "1956-03-31T00:00:00",
                    "1956-04-30T00:00:00",
                    "1956-05-31T00:00:00",
                    "1956-06-30T00:00:00",
                    "1956-07-31T00:00:00",
                    "1956-08-31T00:00:00",
                    "1956-09-30T00:00:00",
                    "1956-10-31T00:00:00",
                    "1956-11-30T00:00:00",
                    "1956-12-31T00:00:00",
                    "1957-01-31T00:00:00",
                    "1957-02-28T00:00:00",
                    "1957-03-31T00:00:00",
                    "1957-04-30T00:00:00",
                    "1957-05-31T00:00:00",
                    "1957-06-30T00:00:00",
                    "1957-07-31T00:00:00",
                    "1957-08-31T00:00:00",
                    "1957-09-30T00:00:00",
                    "1957-10-31T00:00:00",
                    "1957-11-30T00:00:00",
                    "1957-12-31T00:00:00",
                    "1958-01-31T00:00:00",
                    "1958-02-28T00:00:00",
                    "1958-03-31T00:00:00",
                    "1958-04-30T00:00:00",
                    "1958-05-31T00:00:00",
                    "1958-06-30T00:00:00",
                    "1958-07-31T00:00:00",
                    "1958-08-31T00:00:00",
                    "1958-09-30T00:00:00",
                    "1958-10-31T00:00:00",
                    "1958-11-30T00:00:00",
                    "1958-12-31T00:00:00",
                    "1959-01-31T00:00:00",
                    "1959-02-28T00:00:00",
                    "1959-03-31T00:00:00",
                    "1959-04-30T00:00:00",
                    "1959-05-31T00:00:00",
                    "1959-06-30T00:00:00",
                    "1959-07-31T00:00:00",
                    "1959-08-31T00:00:00",
                    "1959-09-30T00:00:00",
                    "1959-10-31T00:00:00",
                    "1959-11-30T00:00:00",
                    "1959-12-31T00:00:00",
                    "1960-01-31T00:00:00",
                    "1960-02-29T00:00:00",
                    "1960-03-31T00:00:00",
                    "1960-04-30T00:00:00",
                    "1960-05-31T00:00:00",
                    "1960-06-30T00:00:00",
                    "1960-07-31T00:00:00",
                    "1960-08-31T00:00:00",
                    "1960-09-30T00:00:00",
                    "1960-10-31T00:00:00",
                    "1960-11-30T00:00:00",
                    "1960-12-31T00:00:00",
                    "1961-01-31T00:00:00",
                    "1961-02-28T00:00:00",
                    "1961-03-31T00:00:00",
                    "1961-04-30T00:00:00",
                    "1961-05-31T00:00:00",
                    "1961-06-30T00:00:00",
                    "1961-07-31T00:00:00",
                    "1961-08-31T00:00:00",
                    "1961-09-30T00:00:00",
                    "1961-10-31T00:00:00",
                    "1961-11-30T00:00:00",
                    "1961-12-31T00:00:00",
                    "1962-01-31T00:00:00",
                    "1962-02-28T00:00:00",
                    "1962-03-31T00:00:00",
                    "1962-04-30T00:00:00",
                    "1962-05-31T00:00:00",
                    "1962-06-30T00:00:00",
                    "1962-07-31T00:00:00",
                    "1962-08-31T00:00:00",
                    "1962-09-30T00:00:00",
                    "1962-10-31T00:00:00",
                    "1962-11-30T00:00:00",
                    "1962-12-31T00:00:00",
                    "1963-01-31T00:00:00",
                    "1963-02-28T00:00:00",
                    "1963-03-31T00:00:00",
                    "1963-04-30T00:00:00",
                    "1963-05-31T00:00:00",
                    "1963-06-30T00:00:00",
                    "1963-07-31T00:00:00",
                    "1963-08-31T00:00:00",
                    "1963-09-30T00:00:00",
                    "1963-10-31T00:00:00",
                    "1963-11-30T00:00:00",
                    "1963-12-31T00:00:00",
                    "1964-01-31T00:00:00",
                    "1964-02-29T00:00:00",
                    "1964-03-31T00:00:00",
                    "1964-04-30T00:00:00",
                    "1964-05-31T00:00:00",
                    "1964-06-30T00:00:00",
                    "1964-07-31T00:00:00",
                    "1964-08-31T00:00:00",
                    "1964-09-30T00:00:00",
                    "1964-10-31T00:00:00",
                    "1964-11-30T00:00:00",
                    "1964-12-31T00:00:00"
                  ],
                  "xaxis": "x",
                  "y": [
                    null,
                    null,
                    null,
                    null,
                    null,
                    null,
                    null,
                    null,
                    null,
                    null,
                    null,
                    null,
                    null,
                    null,
                    null,
                    null,
                    null,
                    null,
                    null,
                    null,
                    null,
                    null,
                    null,
                    null,
                    null,
                    null,
                    null,
                    null,
                    null,
                    null,
                    null,
                    null,
                    null,
                    null,
                    null,
                    null,
                    null,
                    null,
                    null,
                    null,
                    null,
                    null,
                    null,
                    null,
                    null,
                    null,
                    null,
                    null,
                    null,
                    null,
                    null,
                    null,
                    null,
                    null,
                    null,
                    null,
                    null,
                    null,
                    null,
                    null,
                    null,
                    null,
                    null,
                    null,
                    null,
                    null,
                    null,
                    null,
                    null,
                    null,
                    null,
                    null,
                    null,
                    null,
                    null,
                    null,
                    null,
                    null,
                    null,
                    null,
                    null,
                    null,
                    null,
                    null,
                    null,
                    null,
                    null,
                    null,
                    null,
                    null,
                    null,
                    null,
                    null,
                    null,
                    null,
                    null,
                    null,
                    null,
                    null,
                    null,
                    null,
                    null,
                    null,
                    null,
                    null,
                    null,
                    null,
                    null,
                    null,
                    null,
                    null,
                    null,
                    null,
                    null,
                    null,
                    null,
                    null,
                    null,
                    null,
                    null,
                    null,
                    null,
                    null,
                    null,
                    null,
                    null,
                    null,
                    null,
                    null,
                    null,
                    null,
                    null,
                    null,
                    null,
                    null,
                    null,
                    null,
                    null,
                    null,
                    null,
                    null,
                    null,
                    null,
                    null,
                    465.12206628382614,
                    458.5206066544798,
                    493.0848234648106,
                    491.4555584287164,
                    495.8232257492433,
                    536.773663870138,
                    576.515548284208,
                    576.856574061784,
                    528.3490230768712,
                    493.15839100590244,
                    459.3337426233695,
                    488.59896490181734,
                    501.34103845775013,
                    494.1063200055471,
                    530.8413322927636,
                    527.2630203143996,
                    533.3255792791168,
                    572.9464875401001,
                    613.3523908831962,
                    613.3637928374283,
                    565.3570097616371,
                    529.6405173489097,
                    496.69240286873156,
                    526.2615057715569,
                    537.5257419519169,
                    529.7186462625285,
                    568.6007822855314,
                    563.0753057499954,
                    570.8403104655092,
                    609.1091160860241,
                    650.1760869710312,
                    649.8579770083975,
                    602.3704609834488,
                    566.1373465294182,
                    534.0785432091566,
                    563.901525854233,
                    573.6767639055009,
                    569.9199947890246,
                    602.2916559546526,
                    602.6119611380894,
                    605.293722653084,
                    647.5503593145411,
                    686.6253246127047,
                    687.2953697831683,
                    638.3056708977767,
                    603.6500254730006,
                    568.9630942304344,
                    597.8748588971961
                  ],
                  "yaxis": "y"
                },
                {
                  "hovertemplate": "variable=prophet_multiplicative<br>index=%{x}<br>value=%{y}<extra></extra>",
                  "legendgroup": "prophet_multiplicative",
                  "line": {
                    "color": "#00cc96",
                    "dash": "solid"
                  },
                  "marker": {
                    "symbol": "circle"
                  },
                  "mode": "lines",
                  "name": "prophet_multiplicative",
                  "orientation": "v",
                  "showlegend": true,
                  "type": "scatter",
                  "x": [
                    "1949-01-31T00:00:00",
                    "1949-02-28T00:00:00",
                    "1949-03-31T00:00:00",
                    "1949-04-30T00:00:00",
                    "1949-05-31T00:00:00",
                    "1949-06-30T00:00:00",
                    "1949-07-31T00:00:00",
                    "1949-08-31T00:00:00",
                    "1949-09-30T00:00:00",
                    "1949-10-31T00:00:00",
                    "1949-11-30T00:00:00",
                    "1949-12-31T00:00:00",
                    "1950-01-31T00:00:00",
                    "1950-02-28T00:00:00",
                    "1950-03-31T00:00:00",
                    "1950-04-30T00:00:00",
                    "1950-05-31T00:00:00",
                    "1950-06-30T00:00:00",
                    "1950-07-31T00:00:00",
                    "1950-08-31T00:00:00",
                    "1950-09-30T00:00:00",
                    "1950-10-31T00:00:00",
                    "1950-11-30T00:00:00",
                    "1950-12-31T00:00:00",
                    "1951-01-31T00:00:00",
                    "1951-02-28T00:00:00",
                    "1951-03-31T00:00:00",
                    "1951-04-30T00:00:00",
                    "1951-05-31T00:00:00",
                    "1951-06-30T00:00:00",
                    "1951-07-31T00:00:00",
                    "1951-08-31T00:00:00",
                    "1951-09-30T00:00:00",
                    "1951-10-31T00:00:00",
                    "1951-11-30T00:00:00",
                    "1951-12-31T00:00:00",
                    "1952-01-31T00:00:00",
                    "1952-02-29T00:00:00",
                    "1952-03-31T00:00:00",
                    "1952-04-30T00:00:00",
                    "1952-05-31T00:00:00",
                    "1952-06-30T00:00:00",
                    "1952-07-31T00:00:00",
                    "1952-08-31T00:00:00",
                    "1952-09-30T00:00:00",
                    "1952-10-31T00:00:00",
                    "1952-11-30T00:00:00",
                    "1952-12-31T00:00:00",
                    "1953-01-31T00:00:00",
                    "1953-02-28T00:00:00",
                    "1953-03-31T00:00:00",
                    "1953-04-30T00:00:00",
                    "1953-05-31T00:00:00",
                    "1953-06-30T00:00:00",
                    "1953-07-31T00:00:00",
                    "1953-08-31T00:00:00",
                    "1953-09-30T00:00:00",
                    "1953-10-31T00:00:00",
                    "1953-11-30T00:00:00",
                    "1953-12-31T00:00:00",
                    "1954-01-31T00:00:00",
                    "1954-02-28T00:00:00",
                    "1954-03-31T00:00:00",
                    "1954-04-30T00:00:00",
                    "1954-05-31T00:00:00",
                    "1954-06-30T00:00:00",
                    "1954-07-31T00:00:00",
                    "1954-08-31T00:00:00",
                    "1954-09-30T00:00:00",
                    "1954-10-31T00:00:00",
                    "1954-11-30T00:00:00",
                    "1954-12-31T00:00:00",
                    "1955-01-31T00:00:00",
                    "1955-02-28T00:00:00",
                    "1955-03-31T00:00:00",
                    "1955-04-30T00:00:00",
                    "1955-05-31T00:00:00",
                    "1955-06-30T00:00:00",
                    "1955-07-31T00:00:00",
                    "1955-08-31T00:00:00",
                    "1955-09-30T00:00:00",
                    "1955-10-31T00:00:00",
                    "1955-11-30T00:00:00",
                    "1955-12-31T00:00:00",
                    "1956-01-31T00:00:00",
                    "1956-02-29T00:00:00",
                    "1956-03-31T00:00:00",
                    "1956-04-30T00:00:00",
                    "1956-05-31T00:00:00",
                    "1956-06-30T00:00:00",
                    "1956-07-31T00:00:00",
                    "1956-08-31T00:00:00",
                    "1956-09-30T00:00:00",
                    "1956-10-31T00:00:00",
                    "1956-11-30T00:00:00",
                    "1956-12-31T00:00:00",
                    "1957-01-31T00:00:00",
                    "1957-02-28T00:00:00",
                    "1957-03-31T00:00:00",
                    "1957-04-30T00:00:00",
                    "1957-05-31T00:00:00",
                    "1957-06-30T00:00:00",
                    "1957-07-31T00:00:00",
                    "1957-08-31T00:00:00",
                    "1957-09-30T00:00:00",
                    "1957-10-31T00:00:00",
                    "1957-11-30T00:00:00",
                    "1957-12-31T00:00:00",
                    "1958-01-31T00:00:00",
                    "1958-02-28T00:00:00",
                    "1958-03-31T00:00:00",
                    "1958-04-30T00:00:00",
                    "1958-05-31T00:00:00",
                    "1958-06-30T00:00:00",
                    "1958-07-31T00:00:00",
                    "1958-08-31T00:00:00",
                    "1958-09-30T00:00:00",
                    "1958-10-31T00:00:00",
                    "1958-11-30T00:00:00",
                    "1958-12-31T00:00:00",
                    "1959-01-31T00:00:00",
                    "1959-02-28T00:00:00",
                    "1959-03-31T00:00:00",
                    "1959-04-30T00:00:00",
                    "1959-05-31T00:00:00",
                    "1959-06-30T00:00:00",
                    "1959-07-31T00:00:00",
                    "1959-08-31T00:00:00",
                    "1959-09-30T00:00:00",
                    "1959-10-31T00:00:00",
                    "1959-11-30T00:00:00",
                    "1959-12-31T00:00:00",
                    "1960-01-31T00:00:00",
                    "1960-02-29T00:00:00",
                    "1960-03-31T00:00:00",
                    "1960-04-30T00:00:00",
                    "1960-05-31T00:00:00",
                    "1960-06-30T00:00:00",
                    "1960-07-31T00:00:00",
                    "1960-08-31T00:00:00",
                    "1960-09-30T00:00:00",
                    "1960-10-31T00:00:00",
                    "1960-11-30T00:00:00",
                    "1960-12-31T00:00:00",
                    "1961-01-31T00:00:00",
                    "1961-02-28T00:00:00",
                    "1961-03-31T00:00:00",
                    "1961-04-30T00:00:00",
                    "1961-05-31T00:00:00",
                    "1961-06-30T00:00:00",
                    "1961-07-31T00:00:00",
                    "1961-08-31T00:00:00",
                    "1961-09-30T00:00:00",
                    "1961-10-31T00:00:00",
                    "1961-11-30T00:00:00",
                    "1961-12-31T00:00:00",
                    "1962-01-31T00:00:00",
                    "1962-02-28T00:00:00",
                    "1962-03-31T00:00:00",
                    "1962-04-30T00:00:00",
                    "1962-05-31T00:00:00",
                    "1962-06-30T00:00:00",
                    "1962-07-31T00:00:00",
                    "1962-08-31T00:00:00",
                    "1962-09-30T00:00:00",
                    "1962-10-31T00:00:00",
                    "1962-11-30T00:00:00",
                    "1962-12-31T00:00:00",
                    "1963-01-31T00:00:00",
                    "1963-02-28T00:00:00",
                    "1963-03-31T00:00:00",
                    "1963-04-30T00:00:00",
                    "1963-05-31T00:00:00",
                    "1963-06-30T00:00:00",
                    "1963-07-31T00:00:00",
                    "1963-08-31T00:00:00",
                    "1963-09-30T00:00:00",
                    "1963-10-31T00:00:00",
                    "1963-11-30T00:00:00",
                    "1963-12-31T00:00:00",
                    "1964-01-31T00:00:00",
                    "1964-02-29T00:00:00",
                    "1964-03-31T00:00:00",
                    "1964-04-30T00:00:00",
                    "1964-05-31T00:00:00",
                    "1964-06-30T00:00:00",
                    "1964-07-31T00:00:00",
                    "1964-08-31T00:00:00",
                    "1964-09-30T00:00:00",
                    "1964-10-31T00:00:00",
                    "1964-11-30T00:00:00",
                    "1964-12-31T00:00:00"
                  ],
                  "xaxis": "x",
                  "y": [
                    null,
                    null,
                    null,
                    null,
                    null,
                    null,
                    null,
                    null,
                    null,
                    null,
                    null,
                    null,
                    null,
                    null,
                    null,
                    null,
                    null,
                    null,
                    null,
                    null,
                    null,
                    null,
                    null,
                    null,
                    null,
                    null,
                    null,
                    null,
                    null,
                    null,
                    null,
                    null,
                    null,
                    null,
                    null,
                    null,
                    null,
                    null,
                    null,
                    null,
                    null,
                    null,
                    null,
                    null,
                    null,
                    null,
                    null,
                    null,
                    null,
                    null,
                    null,
                    null,
                    null,
                    null,
                    null,
                    null,
                    null,
                    null,
                    null,
                    null,
                    null,
                    null,
                    null,
                    null,
                    null,
                    null,
                    null,
                    null,
                    null,
                    null,
                    null,
                    null,
                    null,
                    null,
                    null,
                    null,
                    null,
                    null,
                    null,
                    null,
                    null,
                    null,
                    null,
                    null,
                    null,
                    null,
                    null,
                    null,
                    null,
                    null,
                    null,
                    null,
                    null,
                    null,
                    null,
                    null,
                    null,
                    null,
                    null,
                    null,
                    null,
                    null,
                    null,
                    null,
                    null,
                    null,
                    null,
                    null,
                    null,
                    null,
                    null,
                    null,
                    null,
                    null,
                    null,
                    null,
                    null,
                    null,
                    null,
                    null,
                    null,
                    null,
                    null,
                    null,
                    null,
                    null,
                    null,
                    null,
                    null,
                    null,
                    null,
                    null,
                    null,
                    null,
                    null,
                    null,
                    null,
                    null,
                    null,
                    null,
                    null,
                    null,
                    null,
                    null,
                    447.5105617836877,
                    433.8501092934278,
                    491.42488980099677,
                    494.29115615594696,
                    503.45947664768164,
                    579.2002761131092,
                    653.8644717023567,
                    650.0877753283967,
                    553.319691981569,
                    489.0577301932627,
                    424.2995420234405,
                    473.1562227497851,
                    487.68742710185654,
                    465.49689541303445,
                    539.5903185005507,
                    530.6943939255716,
                    545.792686212218,
                    624.2423483306395,
                    707.556887600337,
                    706.2944084298433,
                    599.1455562279501,
                    525.3351154223506,
                    457.81895999309944,
                    511.7104816588394,
                    528.1303364649307,
                    496.4377540942286,
                    588.8113369785758,
                    566.2850491414519,
                    588.2611008822668,
                    668.9216681571961,
                    761.3616222770637,
                    763.004939063291,
                    645.0659625696521,
                    561.165200321436,
                    491.40135842731155,
                    550.4716207882112,
                    568.8236393596114,
                    549.873616733791,
                    607.278301225574,
                    623.471236689033,
                    627.8663431781398,
                    725.1816430313277,
                    813.878387143603,
                    804.3223003413877,
                    685.5960100473538,
                    609.7705479409609,
                    525.8845486024056,
                    583.9708364979917
                  ],
                  "yaxis": "y"
                }
              ],
              "layout": {
                "legend": {
                  "title": {
                    "text": "variable"
                  },
                  "tracegroupgap": 0
                },
                "margin": {
                  "t": 60
                },
                "template": {
                  "data": {
                    "bar": [
                      {
                        "error_x": {
                          "color": "#f2f5fa"
                        },
                        "error_y": {
                          "color": "#f2f5fa"
                        },
                        "marker": {
                          "line": {
                            "color": "rgb(17,17,17)",
                            "width": 0.5
                          },
                          "pattern": {
                            "fillmode": "overlay",
                            "size": 10,
                            "solidity": 0.2
                          }
                        },
                        "type": "bar"
                      }
                    ],
                    "barpolar": [
                      {
                        "marker": {
                          "line": {
                            "color": "rgb(17,17,17)",
                            "width": 0.5
                          },
                          "pattern": {
                            "fillmode": "overlay",
                            "size": 10,
                            "solidity": 0.2
                          }
                        },
                        "type": "barpolar"
                      }
                    ],
                    "carpet": [
                      {
                        "aaxis": {
                          "endlinecolor": "#A2B1C6",
                          "gridcolor": "#506784",
                          "linecolor": "#506784",
                          "minorgridcolor": "#506784",
                          "startlinecolor": "#A2B1C6"
                        },
                        "baxis": {
                          "endlinecolor": "#A2B1C6",
                          "gridcolor": "#506784",
                          "linecolor": "#506784",
                          "minorgridcolor": "#506784",
                          "startlinecolor": "#A2B1C6"
                        },
                        "type": "carpet"
                      }
                    ],
                    "choropleth": [
                      {
                        "colorbar": {
                          "outlinewidth": 0,
                          "ticks": ""
                        },
                        "type": "choropleth"
                      }
                    ],
                    "contour": [
                      {
                        "colorbar": {
                          "outlinewidth": 0,
                          "ticks": ""
                        },
                        "colorscale": [
                          [
                            0,
                            "#0d0887"
                          ],
                          [
                            0.1111111111111111,
                            "#46039f"
                          ],
                          [
                            0.2222222222222222,
                            "#7201a8"
                          ],
                          [
                            0.3333333333333333,
                            "#9c179e"
                          ],
                          [
                            0.4444444444444444,
                            "#bd3786"
                          ],
                          [
                            0.5555555555555556,
                            "#d8576b"
                          ],
                          [
                            0.6666666666666666,
                            "#ed7953"
                          ],
                          [
                            0.7777777777777778,
                            "#fb9f3a"
                          ],
                          [
                            0.8888888888888888,
                            "#fdca26"
                          ],
                          [
                            1,
                            "#f0f921"
                          ]
                        ],
                        "type": "contour"
                      }
                    ],
                    "contourcarpet": [
                      {
                        "colorbar": {
                          "outlinewidth": 0,
                          "ticks": ""
                        },
                        "type": "contourcarpet"
                      }
                    ],
                    "heatmap": [
                      {
                        "colorbar": {
                          "outlinewidth": 0,
                          "ticks": ""
                        },
                        "colorscale": [
                          [
                            0,
                            "#0d0887"
                          ],
                          [
                            0.1111111111111111,
                            "#46039f"
                          ],
                          [
                            0.2222222222222222,
                            "#7201a8"
                          ],
                          [
                            0.3333333333333333,
                            "#9c179e"
                          ],
                          [
                            0.4444444444444444,
                            "#bd3786"
                          ],
                          [
                            0.5555555555555556,
                            "#d8576b"
                          ],
                          [
                            0.6666666666666666,
                            "#ed7953"
                          ],
                          [
                            0.7777777777777778,
                            "#fb9f3a"
                          ],
                          [
                            0.8888888888888888,
                            "#fdca26"
                          ],
                          [
                            1,
                            "#f0f921"
                          ]
                        ],
                        "type": "heatmap"
                      }
                    ],
                    "heatmapgl": [
                      {
                        "colorbar": {
                          "outlinewidth": 0,
                          "ticks": ""
                        },
                        "colorscale": [
                          [
                            0,
                            "#0d0887"
                          ],
                          [
                            0.1111111111111111,
                            "#46039f"
                          ],
                          [
                            0.2222222222222222,
                            "#7201a8"
                          ],
                          [
                            0.3333333333333333,
                            "#9c179e"
                          ],
                          [
                            0.4444444444444444,
                            "#bd3786"
                          ],
                          [
                            0.5555555555555556,
                            "#d8576b"
                          ],
                          [
                            0.6666666666666666,
                            "#ed7953"
                          ],
                          [
                            0.7777777777777778,
                            "#fb9f3a"
                          ],
                          [
                            0.8888888888888888,
                            "#fdca26"
                          ],
                          [
                            1,
                            "#f0f921"
                          ]
                        ],
                        "type": "heatmapgl"
                      }
                    ],
                    "histogram": [
                      {
                        "marker": {
                          "pattern": {
                            "fillmode": "overlay",
                            "size": 10,
                            "solidity": 0.2
                          }
                        },
                        "type": "histogram"
                      }
                    ],
                    "histogram2d": [
                      {
                        "colorbar": {
                          "outlinewidth": 0,
                          "ticks": ""
                        },
                        "colorscale": [
                          [
                            0,
                            "#0d0887"
                          ],
                          [
                            0.1111111111111111,
                            "#46039f"
                          ],
                          [
                            0.2222222222222222,
                            "#7201a8"
                          ],
                          [
                            0.3333333333333333,
                            "#9c179e"
                          ],
                          [
                            0.4444444444444444,
                            "#bd3786"
                          ],
                          [
                            0.5555555555555556,
                            "#d8576b"
                          ],
                          [
                            0.6666666666666666,
                            "#ed7953"
                          ],
                          [
                            0.7777777777777778,
                            "#fb9f3a"
                          ],
                          [
                            0.8888888888888888,
                            "#fdca26"
                          ],
                          [
                            1,
                            "#f0f921"
                          ]
                        ],
                        "type": "histogram2d"
                      }
                    ],
                    "histogram2dcontour": [
                      {
                        "colorbar": {
                          "outlinewidth": 0,
                          "ticks": ""
                        },
                        "colorscale": [
                          [
                            0,
                            "#0d0887"
                          ],
                          [
                            0.1111111111111111,
                            "#46039f"
                          ],
                          [
                            0.2222222222222222,
                            "#7201a8"
                          ],
                          [
                            0.3333333333333333,
                            "#9c179e"
                          ],
                          [
                            0.4444444444444444,
                            "#bd3786"
                          ],
                          [
                            0.5555555555555556,
                            "#d8576b"
                          ],
                          [
                            0.6666666666666666,
                            "#ed7953"
                          ],
                          [
                            0.7777777777777778,
                            "#fb9f3a"
                          ],
                          [
                            0.8888888888888888,
                            "#fdca26"
                          ],
                          [
                            1,
                            "#f0f921"
                          ]
                        ],
                        "type": "histogram2dcontour"
                      }
                    ],
                    "mesh3d": [
                      {
                        "colorbar": {
                          "outlinewidth": 0,
                          "ticks": ""
                        },
                        "type": "mesh3d"
                      }
                    ],
                    "parcoords": [
                      {
                        "line": {
                          "colorbar": {
                            "outlinewidth": 0,
                            "ticks": ""
                          }
                        },
                        "type": "parcoords"
                      }
                    ],
                    "pie": [
                      {
                        "automargin": true,
                        "type": "pie"
                      }
                    ],
                    "scatter": [
                      {
                        "marker": {
                          "line": {
                            "color": "#283442"
                          }
                        },
                        "type": "scatter"
                      }
                    ],
                    "scatter3d": [
                      {
                        "line": {
                          "colorbar": {
                            "outlinewidth": 0,
                            "ticks": ""
                          }
                        },
                        "marker": {
                          "colorbar": {
                            "outlinewidth": 0,
                            "ticks": ""
                          }
                        },
                        "type": "scatter3d"
                      }
                    ],
                    "scattercarpet": [
                      {
                        "marker": {
                          "colorbar": {
                            "outlinewidth": 0,
                            "ticks": ""
                          }
                        },
                        "type": "scattercarpet"
                      }
                    ],
                    "scattergeo": [
                      {
                        "marker": {
                          "colorbar": {
                            "outlinewidth": 0,
                            "ticks": ""
                          }
                        },
                        "type": "scattergeo"
                      }
                    ],
                    "scattergl": [
                      {
                        "marker": {
                          "line": {
                            "color": "#283442"
                          }
                        },
                        "type": "scattergl"
                      }
                    ],
                    "scattermapbox": [
                      {
                        "marker": {
                          "colorbar": {
                            "outlinewidth": 0,
                            "ticks": ""
                          }
                        },
                        "type": "scattermapbox"
                      }
                    ],
                    "scatterpolar": [
                      {
                        "marker": {
                          "colorbar": {
                            "outlinewidth": 0,
                            "ticks": ""
                          }
                        },
                        "type": "scatterpolar"
                      }
                    ],
                    "scatterpolargl": [
                      {
                        "marker": {
                          "colorbar": {
                            "outlinewidth": 0,
                            "ticks": ""
                          }
                        },
                        "type": "scatterpolargl"
                      }
                    ],
                    "scatterternary": [
                      {
                        "marker": {
                          "colorbar": {
                            "outlinewidth": 0,
                            "ticks": ""
                          }
                        },
                        "type": "scatterternary"
                      }
                    ],
                    "surface": [
                      {
                        "colorbar": {
                          "outlinewidth": 0,
                          "ticks": ""
                        },
                        "colorscale": [
                          [
                            0,
                            "#0d0887"
                          ],
                          [
                            0.1111111111111111,
                            "#46039f"
                          ],
                          [
                            0.2222222222222222,
                            "#7201a8"
                          ],
                          [
                            0.3333333333333333,
                            "#9c179e"
                          ],
                          [
                            0.4444444444444444,
                            "#bd3786"
                          ],
                          [
                            0.5555555555555556,
                            "#d8576b"
                          ],
                          [
                            0.6666666666666666,
                            "#ed7953"
                          ],
                          [
                            0.7777777777777778,
                            "#fb9f3a"
                          ],
                          [
                            0.8888888888888888,
                            "#fdca26"
                          ],
                          [
                            1,
                            "#f0f921"
                          ]
                        ],
                        "type": "surface"
                      }
                    ],
                    "table": [
                      {
                        "cells": {
                          "fill": {
                            "color": "#506784"
                          },
                          "line": {
                            "color": "rgb(17,17,17)"
                          }
                        },
                        "header": {
                          "fill": {
                            "color": "#2a3f5f"
                          },
                          "line": {
                            "color": "rgb(17,17,17)"
                          }
                        },
                        "type": "table"
                      }
                    ]
                  },
                  "layout": {
                    "annotationdefaults": {
                      "arrowcolor": "#f2f5fa",
                      "arrowhead": 0,
                      "arrowwidth": 1
                    },
                    "autosize": false,
                    "autotypenumbers": "strict",
                    "coloraxis": {
                      "colorbar": {
                        "outlinewidth": 0,
                        "ticks": ""
                      }
                    },
                    "colorscale": {
                      "diverging": [
                        [
                          0,
                          "#8e0152"
                        ],
                        [
                          0.1,
                          "#c51b7d"
                        ],
                        [
                          0.2,
                          "#de77ae"
                        ],
                        [
                          0.3,
                          "#f1b6da"
                        ],
                        [
                          0.4,
                          "#fde0ef"
                        ],
                        [
                          0.5,
                          "#f7f7f7"
                        ],
                        [
                          0.6,
                          "#e6f5d0"
                        ],
                        [
                          0.7,
                          "#b8e186"
                        ],
                        [
                          0.8,
                          "#7fbc41"
                        ],
                        [
                          0.9,
                          "#4d9221"
                        ],
                        [
                          1,
                          "#276419"
                        ]
                      ],
                      "sequential": [
                        [
                          0,
                          "#0d0887"
                        ],
                        [
                          0.1111111111111111,
                          "#46039f"
                        ],
                        [
                          0.2222222222222222,
                          "#7201a8"
                        ],
                        [
                          0.3333333333333333,
                          "#9c179e"
                        ],
                        [
                          0.4444444444444444,
                          "#bd3786"
                        ],
                        [
                          0.5555555555555556,
                          "#d8576b"
                        ],
                        [
                          0.6666666666666666,
                          "#ed7953"
                        ],
                        [
                          0.7777777777777778,
                          "#fb9f3a"
                        ],
                        [
                          0.8888888888888888,
                          "#fdca26"
                        ],
                        [
                          1,
                          "#f0f921"
                        ]
                      ],
                      "sequentialminus": [
                        [
                          0,
                          "#0d0887"
                        ],
                        [
                          0.1111111111111111,
                          "#46039f"
                        ],
                        [
                          0.2222222222222222,
                          "#7201a8"
                        ],
                        [
                          0.3333333333333333,
                          "#9c179e"
                        ],
                        [
                          0.4444444444444444,
                          "#bd3786"
                        ],
                        [
                          0.5555555555555556,
                          "#d8576b"
                        ],
                        [
                          0.6666666666666666,
                          "#ed7953"
                        ],
                        [
                          0.7777777777777778,
                          "#fb9f3a"
                        ],
                        [
                          0.8888888888888888,
                          "#fdca26"
                        ],
                        [
                          1,
                          "#f0f921"
                        ]
                      ]
                    },
                    "colorway": [
                      "#636efa",
                      "#EF553B",
                      "#00cc96",
                      "#ab63fa",
                      "#FFA15A",
                      "#19d3f3",
                      "#FF6692",
                      "#B6E880",
                      "#FF97FF",
                      "#FECB52"
                    ],
                    "font": {
                      "color": "#f2f5fa"
                    },
                    "geo": {
                      "bgcolor": "rgb(17,17,17)",
                      "lakecolor": "rgb(17,17,17)",
                      "landcolor": "rgb(17,17,17)",
                      "showlakes": true,
                      "showland": true,
                      "subunitcolor": "#506784"
                    },
                    "height": 500,
                    "hoverlabel": {
                      "align": "left"
                    },
                    "hovermode": "closest",
                    "mapbox": {
                      "style": "dark"
                    },
                    "paper_bgcolor": "rgb(17,17,17)",
                    "plot_bgcolor": "rgb(17,17,17)",
                    "polar": {
                      "angularaxis": {
                        "gridcolor": "#506784",
                        "linecolor": "#506784",
                        "ticks": ""
                      },
                      "bgcolor": "rgb(17,17,17)",
                      "radialaxis": {
                        "gridcolor": "#506784",
                        "linecolor": "#506784",
                        "ticks": ""
                      }
                    },
                    "scene": {
                      "xaxis": {
                        "backgroundcolor": "rgb(17,17,17)",
                        "gridcolor": "#506784",
                        "gridwidth": 2,
                        "linecolor": "#506784",
                        "showbackground": true,
                        "ticks": "",
                        "zerolinecolor": "#C8D4E3"
                      },
                      "yaxis": {
                        "backgroundcolor": "rgb(17,17,17)",
                        "gridcolor": "#506784",
                        "gridwidth": 2,
                        "linecolor": "#506784",
                        "showbackground": true,
                        "ticks": "",
                        "zerolinecolor": "#C8D4E3"
                      },
                      "zaxis": {
                        "backgroundcolor": "rgb(17,17,17)",
                        "gridcolor": "#506784",
                        "gridwidth": 2,
                        "linecolor": "#506784",
                        "showbackground": true,
                        "ticks": "",
                        "zerolinecolor": "#C8D4E3"
                      }
                    },
                    "shapedefaults": {
                      "line": {
                        "color": "#f2f5fa"
                      }
                    },
                    "showlegend": true,
                    "sliderdefaults": {
                      "bgcolor": "#C8D4E3",
                      "bordercolor": "rgb(17,17,17)",
                      "borderwidth": 1,
                      "tickwidth": 0
                    },
                    "ternary": {
                      "aaxis": {
                        "gridcolor": "#506784",
                        "linecolor": "#506784",
                        "ticks": ""
                      },
                      "baxis": {
                        "gridcolor": "#506784",
                        "linecolor": "#506784",
                        "ticks": ""
                      },
                      "bgcolor": "rgb(17,17,17)",
                      "caxis": {
                        "gridcolor": "#506784",
                        "linecolor": "#506784",
                        "ticks": ""
                      }
                    },
                    "title": {
                      "x": 0.05
                    },
                    "updatemenudefaults": {
                      "bgcolor": "#506784",
                      "borderwidth": 0
                    },
                    "width": 1000,
                    "xaxis": {
                      "automargin": true,
                      "gridcolor": "#283442",
                      "linecolor": "#506784",
                      "ticks": "",
                      "title": {
                        "standoff": 15
                      },
                      "zerolinecolor": "#283442",
                      "zerolinewidth": 2
                    },
                    "yaxis": {
                      "automargin": true,
                      "gridcolor": "#283442",
                      "linecolor": "#506784",
                      "ticks": "",
                      "title": {
                        "standoff": 15
                      },
                      "zerolinecolor": "#283442",
                      "zerolinewidth": 2
                    }
                  }
                },
                "xaxis": {
                  "anchor": "y",
                  "domain": [
                    0,
                    1
                  ],
                  "title": {
                    "text": "index"
                  }
                },
                "yaxis": {
                  "anchor": "x",
                  "domain": [
                    0,
                    1
                  ],
                  "title": {
                    "text": "value"
                  }
                }
              }
            }
          },
          "metadata": {},
          "output_type": "display_data"
        }
      ],
      "source": [
        "df.plot()"
      ]
    },
    {
      "cell_type": "markdown",
      "id": "5909d0bc",
      "metadata": {},
      "source": [
        "### SARIMA vs Exponential Smoothing vs Prophet"
      ]
    },
    {
      "cell_type": "code",
      "execution_count": 14,
      "id": "0d1b2d72",
      "metadata": {},
      "outputs": [
        {
          "name": "stderr",
          "output_type": "stream",
          "text": [
            "/Users/sota/miniforge3/envs/work/lib/python3.13/site-packages/statsmodels/base/model.py:607: ConvergenceWarning:\n",
            "\n",
            "Maximum Likelihood optimization failed to converge. Check mle_retvals\n",
            "\n",
            "11:03:05 - cmdstanpy - INFO - Chain [1] start processing\n",
            "11:03:05 - cmdstanpy - INFO - Chain [1] done processing\n"
          ]
        },
        {
          "data": {
            "application/vnd.plotly.v1+json": {
              "config": {
                "plotlyServerURL": "https://plot.ly"
              },
              "data": [
                {
                  "hovertemplate": "variable=values<br>index=%{x}<br>value=%{y}<extra></extra>",
                  "legendgroup": "values",
                  "line": {
                    "color": "#636efa",
                    "dash": "solid"
                  },
                  "marker": {
                    "symbol": "circle"
                  },
                  "mode": "lines",
                  "name": "values",
                  "showlegend": true,
                  "type": "scattergl",
                  "x": [
                    "1949-01-31T00:00:00",
                    "1949-02-28T00:00:00",
                    "1949-03-31T00:00:00",
                    "1949-04-30T00:00:00",
                    "1949-05-31T00:00:00",
                    "1949-06-30T00:00:00",
                    "1949-07-31T00:00:00",
                    "1949-08-31T00:00:00",
                    "1949-09-30T00:00:00",
                    "1949-10-31T00:00:00",
                    "1949-11-30T00:00:00",
                    "1949-12-31T00:00:00",
                    "1950-01-31T00:00:00",
                    "1950-02-28T00:00:00",
                    "1950-03-31T00:00:00",
                    "1950-04-30T00:00:00",
                    "1950-05-31T00:00:00",
                    "1950-06-30T00:00:00",
                    "1950-07-31T00:00:00",
                    "1950-08-31T00:00:00",
                    "1950-09-30T00:00:00",
                    "1950-10-31T00:00:00",
                    "1950-11-30T00:00:00",
                    "1950-12-31T00:00:00",
                    "1951-01-31T00:00:00",
                    "1951-02-28T00:00:00",
                    "1951-03-31T00:00:00",
                    "1951-04-30T00:00:00",
                    "1951-05-31T00:00:00",
                    "1951-06-30T00:00:00",
                    "1951-07-31T00:00:00",
                    "1951-08-31T00:00:00",
                    "1951-09-30T00:00:00",
                    "1951-10-31T00:00:00",
                    "1951-11-30T00:00:00",
                    "1951-12-31T00:00:00",
                    "1952-01-31T00:00:00",
                    "1952-02-29T00:00:00",
                    "1952-03-31T00:00:00",
                    "1952-04-30T00:00:00",
                    "1952-05-31T00:00:00",
                    "1952-06-30T00:00:00",
                    "1952-07-31T00:00:00",
                    "1952-08-31T00:00:00",
                    "1952-09-30T00:00:00",
                    "1952-10-31T00:00:00",
                    "1952-11-30T00:00:00",
                    "1952-12-31T00:00:00",
                    "1953-01-31T00:00:00",
                    "1953-02-28T00:00:00",
                    "1953-03-31T00:00:00",
                    "1953-04-30T00:00:00",
                    "1953-05-31T00:00:00",
                    "1953-06-30T00:00:00",
                    "1953-07-31T00:00:00",
                    "1953-08-31T00:00:00",
                    "1953-09-30T00:00:00",
                    "1953-10-31T00:00:00",
                    "1953-11-30T00:00:00",
                    "1953-12-31T00:00:00",
                    "1954-01-31T00:00:00",
                    "1954-02-28T00:00:00",
                    "1954-03-31T00:00:00",
                    "1954-04-30T00:00:00",
                    "1954-05-31T00:00:00",
                    "1954-06-30T00:00:00",
                    "1954-07-31T00:00:00",
                    "1954-08-31T00:00:00",
                    "1954-09-30T00:00:00",
                    "1954-10-31T00:00:00",
                    "1954-11-30T00:00:00",
                    "1954-12-31T00:00:00",
                    "1955-01-31T00:00:00",
                    "1955-02-28T00:00:00",
                    "1955-03-31T00:00:00",
                    "1955-04-30T00:00:00",
                    "1955-05-31T00:00:00",
                    "1955-06-30T00:00:00",
                    "1955-07-31T00:00:00",
                    "1955-08-31T00:00:00",
                    "1955-09-30T00:00:00",
                    "1955-10-31T00:00:00",
                    "1955-11-30T00:00:00",
                    "1955-12-31T00:00:00",
                    "1956-01-31T00:00:00",
                    "1956-02-29T00:00:00",
                    "1956-03-31T00:00:00",
                    "1956-04-30T00:00:00",
                    "1956-05-31T00:00:00",
                    "1956-06-30T00:00:00",
                    "1956-07-31T00:00:00",
                    "1956-08-31T00:00:00",
                    "1956-09-30T00:00:00",
                    "1956-10-31T00:00:00",
                    "1956-11-30T00:00:00",
                    "1956-12-31T00:00:00",
                    "1957-01-31T00:00:00",
                    "1957-02-28T00:00:00",
                    "1957-03-31T00:00:00",
                    "1957-04-30T00:00:00",
                    "1957-05-31T00:00:00",
                    "1957-06-30T00:00:00",
                    "1957-07-31T00:00:00",
                    "1957-08-31T00:00:00",
                    "1957-09-30T00:00:00",
                    "1957-10-31T00:00:00",
                    "1957-11-30T00:00:00",
                    "1957-12-31T00:00:00",
                    "1958-01-31T00:00:00",
                    "1958-02-28T00:00:00",
                    "1958-03-31T00:00:00",
                    "1958-04-30T00:00:00",
                    "1958-05-31T00:00:00",
                    "1958-06-30T00:00:00",
                    "1958-07-31T00:00:00",
                    "1958-08-31T00:00:00",
                    "1958-09-30T00:00:00",
                    "1958-10-31T00:00:00",
                    "1958-11-30T00:00:00",
                    "1958-12-31T00:00:00",
                    "1959-01-31T00:00:00",
                    "1959-02-28T00:00:00",
                    "1959-03-31T00:00:00",
                    "1959-04-30T00:00:00",
                    "1959-05-31T00:00:00",
                    "1959-06-30T00:00:00",
                    "1959-07-31T00:00:00",
                    "1959-08-31T00:00:00",
                    "1959-09-30T00:00:00",
                    "1959-10-31T00:00:00",
                    "1959-11-30T00:00:00",
                    "1959-12-31T00:00:00",
                    "1960-01-31T00:00:00",
                    "1960-02-29T00:00:00",
                    "1960-03-31T00:00:00",
                    "1960-04-30T00:00:00",
                    "1960-05-31T00:00:00",
                    "1960-06-30T00:00:00",
                    "1960-07-31T00:00:00",
                    "1960-08-31T00:00:00",
                    "1960-09-30T00:00:00",
                    "1960-10-31T00:00:00",
                    "1960-11-30T00:00:00",
                    "1960-12-31T00:00:00",
                    "1961-01-31T00:00:00",
                    "1961-02-28T00:00:00",
                    "1961-03-31T00:00:00",
                    "1961-04-30T00:00:00",
                    "1961-05-31T00:00:00",
                    "1961-06-30T00:00:00",
                    "1961-07-31T00:00:00",
                    "1961-08-31T00:00:00",
                    "1961-09-30T00:00:00",
                    "1961-10-31T00:00:00",
                    "1961-11-30T00:00:00",
                    "1961-12-31T00:00:00",
                    "1962-01-31T00:00:00",
                    "1962-02-28T00:00:00",
                    "1962-03-31T00:00:00",
                    "1962-04-30T00:00:00",
                    "1962-05-31T00:00:00",
                    "1962-06-30T00:00:00",
                    "1962-07-31T00:00:00",
                    "1962-08-31T00:00:00",
                    "1962-09-30T00:00:00",
                    "1962-10-31T00:00:00",
                    "1962-11-30T00:00:00",
                    "1962-12-31T00:00:00",
                    "1963-01-31T00:00:00",
                    "1963-02-28T00:00:00",
                    "1963-03-31T00:00:00",
                    "1963-04-30T00:00:00",
                    "1963-05-31T00:00:00",
                    "1963-06-30T00:00:00",
                    "1963-07-31T00:00:00",
                    "1963-08-31T00:00:00",
                    "1963-09-30T00:00:00",
                    "1963-10-31T00:00:00",
                    "1963-11-30T00:00:00",
                    "1963-12-31T00:00:00",
                    "1964-01-31T00:00:00",
                    "1964-02-29T00:00:00",
                    "1964-03-31T00:00:00",
                    "1964-04-30T00:00:00",
                    "1964-05-31T00:00:00",
                    "1964-06-30T00:00:00",
                    "1964-07-31T00:00:00",
                    "1964-08-31T00:00:00",
                    "1964-09-30T00:00:00",
                    "1964-10-31T00:00:00",
                    "1964-11-30T00:00:00",
                    "1964-12-31T00:00:00",
                    "1965-01-31T00:00:00",
                    "1965-02-28T00:00:00",
                    "1965-03-31T00:00:00",
                    "1965-04-30T00:00:00",
                    "1965-05-31T00:00:00",
                    "1965-06-30T00:00:00",
                    "1965-07-31T00:00:00",
                    "1965-08-31T00:00:00",
                    "1965-09-30T00:00:00",
                    "1965-10-31T00:00:00",
                    "1965-11-30T00:00:00",
                    "1965-12-31T00:00:00",
                    "1966-01-31T00:00:00",
                    "1966-02-28T00:00:00",
                    "1966-03-31T00:00:00",
                    "1966-04-30T00:00:00",
                    "1966-05-31T00:00:00",
                    "1966-06-30T00:00:00",
                    "1966-07-31T00:00:00",
                    "1966-08-31T00:00:00",
                    "1966-09-30T00:00:00",
                    "1966-10-31T00:00:00",
                    "1966-11-30T00:00:00",
                    "1966-12-31T00:00:00",
                    "1967-01-31T00:00:00",
                    "1967-02-28T00:00:00",
                    "1967-03-31T00:00:00",
                    "1967-04-30T00:00:00",
                    "1967-05-31T00:00:00",
                    "1967-06-30T00:00:00",
                    "1967-07-31T00:00:00",
                    "1967-08-31T00:00:00",
                    "1967-09-30T00:00:00",
                    "1967-10-31T00:00:00",
                    "1967-11-30T00:00:00",
                    "1967-12-31T00:00:00",
                    "1968-01-31T00:00:00",
                    "1968-02-29T00:00:00",
                    "1968-03-31T00:00:00",
                    "1968-04-30T00:00:00",
                    "1968-05-31T00:00:00",
                    "1968-06-30T00:00:00",
                    "1968-07-31T00:00:00",
                    "1968-08-31T00:00:00",
                    "1968-09-30T00:00:00",
                    "1968-10-31T00:00:00",
                    "1968-11-30T00:00:00",
                    "1968-12-31T00:00:00"
                  ],
                  "xaxis": "x",
                  "y": [
                    112,
                    118,
                    132,
                    129,
                    121,
                    135,
                    148,
                    148,
                    136,
                    119,
                    104,
                    118,
                    115,
                    126,
                    141,
                    135,
                    125,
                    149,
                    170,
                    170,
                    158,
                    133,
                    114,
                    140,
                    145,
                    150,
                    178,
                    163,
                    172,
                    178,
                    199,
                    199,
                    184,
                    162,
                    146,
                    166,
                    171,
                    180,
                    193,
                    181,
                    183,
                    218,
                    230,
                    242,
                    209,
                    191,
                    172,
                    194,
                    196,
                    196,
                    236,
                    235,
                    229,
                    243,
                    264,
                    272,
                    237,
                    211,
                    180,
                    201,
                    204,
                    188,
                    235,
                    227,
                    234,
                    264,
                    302,
                    293,
                    259,
                    229,
                    203,
                    229,
                    242,
                    233,
                    267,
                    269,
                    270,
                    315,
                    364,
                    347,
                    312,
                    274,
                    237,
                    278,
                    284,
                    277,
                    317,
                    313,
                    318,
                    374,
                    413,
                    405,
                    355,
                    306,
                    271,
                    306,
                    315,
                    301,
                    356,
                    348,
                    355,
                    422,
                    465,
                    467,
                    404,
                    347,
                    305,
                    336,
                    340,
                    318,
                    362,
                    348,
                    363,
                    435,
                    491,
                    505,
                    404,
                    359,
                    310,
                    337,
                    360,
                    342,
                    406,
                    396,
                    420,
                    472,
                    548,
                    559,
                    463,
                    407,
                    362,
                    405,
                    417,
                    391,
                    419,
                    461,
                    472,
                    535,
                    622,
                    606,
                    508,
                    461,
                    390,
                    432,
                    null,
                    null,
                    null,
                    null,
                    null,
                    null,
                    null,
                    null,
                    null,
                    null,
                    null,
                    null,
                    null,
                    null,
                    null,
                    null,
                    null,
                    null,
                    null,
                    null,
                    null,
                    null,
                    null,
                    null,
                    null,
                    null,
                    null,
                    null,
                    null,
                    null,
                    null,
                    null,
                    null,
                    null,
                    null,
                    null,
                    null,
                    null,
                    null,
                    null,
                    null,
                    null,
                    null,
                    null,
                    null,
                    null,
                    null,
                    null,
                    null,
                    null,
                    null,
                    null,
                    null,
                    null,
                    null,
                    null,
                    null,
                    null,
                    null,
                    null,
                    null,
                    null,
                    null,
                    null,
                    null,
                    null,
                    null,
                    null,
                    null,
                    null,
                    null,
                    null,
                    null,
                    null,
                    null,
                    null,
                    null,
                    null,
                    null,
                    null,
                    null,
                    null,
                    null,
                    null,
                    null,
                    null,
                    null,
                    null,
                    null,
                    null,
                    null,
                    null,
                    null,
                    null,
                    null,
                    null
                  ],
                  "yaxis": "y"
                },
                {
                  "hovertemplate": "variable=ARIMA(12,1,1)<br>index=%{x}<br>value=%{y}<extra></extra>",
                  "legendgroup": "ARIMA(12,1,1)",
                  "line": {
                    "color": "#EF553B",
                    "dash": "solid"
                  },
                  "marker": {
                    "symbol": "circle"
                  },
                  "mode": "lines",
                  "name": "ARIMA(12,1,1)",
                  "showlegend": true,
                  "type": "scattergl",
                  "x": [
                    "1949-01-31T00:00:00",
                    "1949-02-28T00:00:00",
                    "1949-03-31T00:00:00",
                    "1949-04-30T00:00:00",
                    "1949-05-31T00:00:00",
                    "1949-06-30T00:00:00",
                    "1949-07-31T00:00:00",
                    "1949-08-31T00:00:00",
                    "1949-09-30T00:00:00",
                    "1949-10-31T00:00:00",
                    "1949-11-30T00:00:00",
                    "1949-12-31T00:00:00",
                    "1950-01-31T00:00:00",
                    "1950-02-28T00:00:00",
                    "1950-03-31T00:00:00",
                    "1950-04-30T00:00:00",
                    "1950-05-31T00:00:00",
                    "1950-06-30T00:00:00",
                    "1950-07-31T00:00:00",
                    "1950-08-31T00:00:00",
                    "1950-09-30T00:00:00",
                    "1950-10-31T00:00:00",
                    "1950-11-30T00:00:00",
                    "1950-12-31T00:00:00",
                    "1951-01-31T00:00:00",
                    "1951-02-28T00:00:00",
                    "1951-03-31T00:00:00",
                    "1951-04-30T00:00:00",
                    "1951-05-31T00:00:00",
                    "1951-06-30T00:00:00",
                    "1951-07-31T00:00:00",
                    "1951-08-31T00:00:00",
                    "1951-09-30T00:00:00",
                    "1951-10-31T00:00:00",
                    "1951-11-30T00:00:00",
                    "1951-12-31T00:00:00",
                    "1952-01-31T00:00:00",
                    "1952-02-29T00:00:00",
                    "1952-03-31T00:00:00",
                    "1952-04-30T00:00:00",
                    "1952-05-31T00:00:00",
                    "1952-06-30T00:00:00",
                    "1952-07-31T00:00:00",
                    "1952-08-31T00:00:00",
                    "1952-09-30T00:00:00",
                    "1952-10-31T00:00:00",
                    "1952-11-30T00:00:00",
                    "1952-12-31T00:00:00",
                    "1953-01-31T00:00:00",
                    "1953-02-28T00:00:00",
                    "1953-03-31T00:00:00",
                    "1953-04-30T00:00:00",
                    "1953-05-31T00:00:00",
                    "1953-06-30T00:00:00",
                    "1953-07-31T00:00:00",
                    "1953-08-31T00:00:00",
                    "1953-09-30T00:00:00",
                    "1953-10-31T00:00:00",
                    "1953-11-30T00:00:00",
                    "1953-12-31T00:00:00",
                    "1954-01-31T00:00:00",
                    "1954-02-28T00:00:00",
                    "1954-03-31T00:00:00",
                    "1954-04-30T00:00:00",
                    "1954-05-31T00:00:00",
                    "1954-06-30T00:00:00",
                    "1954-07-31T00:00:00",
                    "1954-08-31T00:00:00",
                    "1954-09-30T00:00:00",
                    "1954-10-31T00:00:00",
                    "1954-11-30T00:00:00",
                    "1954-12-31T00:00:00",
                    "1955-01-31T00:00:00",
                    "1955-02-28T00:00:00",
                    "1955-03-31T00:00:00",
                    "1955-04-30T00:00:00",
                    "1955-05-31T00:00:00",
                    "1955-06-30T00:00:00",
                    "1955-07-31T00:00:00",
                    "1955-08-31T00:00:00",
                    "1955-09-30T00:00:00",
                    "1955-10-31T00:00:00",
                    "1955-11-30T00:00:00",
                    "1955-12-31T00:00:00",
                    "1956-01-31T00:00:00",
                    "1956-02-29T00:00:00",
                    "1956-03-31T00:00:00",
                    "1956-04-30T00:00:00",
                    "1956-05-31T00:00:00",
                    "1956-06-30T00:00:00",
                    "1956-07-31T00:00:00",
                    "1956-08-31T00:00:00",
                    "1956-09-30T00:00:00",
                    "1956-10-31T00:00:00",
                    "1956-11-30T00:00:00",
                    "1956-12-31T00:00:00",
                    "1957-01-31T00:00:00",
                    "1957-02-28T00:00:00",
                    "1957-03-31T00:00:00",
                    "1957-04-30T00:00:00",
                    "1957-05-31T00:00:00",
                    "1957-06-30T00:00:00",
                    "1957-07-31T00:00:00",
                    "1957-08-31T00:00:00",
                    "1957-09-30T00:00:00",
                    "1957-10-31T00:00:00",
                    "1957-11-30T00:00:00",
                    "1957-12-31T00:00:00",
                    "1958-01-31T00:00:00",
                    "1958-02-28T00:00:00",
                    "1958-03-31T00:00:00",
                    "1958-04-30T00:00:00",
                    "1958-05-31T00:00:00",
                    "1958-06-30T00:00:00",
                    "1958-07-31T00:00:00",
                    "1958-08-31T00:00:00",
                    "1958-09-30T00:00:00",
                    "1958-10-31T00:00:00",
                    "1958-11-30T00:00:00",
                    "1958-12-31T00:00:00",
                    "1959-01-31T00:00:00",
                    "1959-02-28T00:00:00",
                    "1959-03-31T00:00:00",
                    "1959-04-30T00:00:00",
                    "1959-05-31T00:00:00",
                    "1959-06-30T00:00:00",
                    "1959-07-31T00:00:00",
                    "1959-08-31T00:00:00",
                    "1959-09-30T00:00:00",
                    "1959-10-31T00:00:00",
                    "1959-11-30T00:00:00",
                    "1959-12-31T00:00:00",
                    "1960-01-31T00:00:00",
                    "1960-02-29T00:00:00",
                    "1960-03-31T00:00:00",
                    "1960-04-30T00:00:00",
                    "1960-05-31T00:00:00",
                    "1960-06-30T00:00:00",
                    "1960-07-31T00:00:00",
                    "1960-08-31T00:00:00",
                    "1960-09-30T00:00:00",
                    "1960-10-31T00:00:00",
                    "1960-11-30T00:00:00",
                    "1960-12-31T00:00:00",
                    "1961-01-31T00:00:00",
                    "1961-02-28T00:00:00",
                    "1961-03-31T00:00:00",
                    "1961-04-30T00:00:00",
                    "1961-05-31T00:00:00",
                    "1961-06-30T00:00:00",
                    "1961-07-31T00:00:00",
                    "1961-08-31T00:00:00",
                    "1961-09-30T00:00:00",
                    "1961-10-31T00:00:00",
                    "1961-11-30T00:00:00",
                    "1961-12-31T00:00:00",
                    "1962-01-31T00:00:00",
                    "1962-02-28T00:00:00",
                    "1962-03-31T00:00:00",
                    "1962-04-30T00:00:00",
                    "1962-05-31T00:00:00",
                    "1962-06-30T00:00:00",
                    "1962-07-31T00:00:00",
                    "1962-08-31T00:00:00",
                    "1962-09-30T00:00:00",
                    "1962-10-31T00:00:00",
                    "1962-11-30T00:00:00",
                    "1962-12-31T00:00:00",
                    "1963-01-31T00:00:00",
                    "1963-02-28T00:00:00",
                    "1963-03-31T00:00:00",
                    "1963-04-30T00:00:00",
                    "1963-05-31T00:00:00",
                    "1963-06-30T00:00:00",
                    "1963-07-31T00:00:00",
                    "1963-08-31T00:00:00",
                    "1963-09-30T00:00:00",
                    "1963-10-31T00:00:00",
                    "1963-11-30T00:00:00",
                    "1963-12-31T00:00:00",
                    "1964-01-31T00:00:00",
                    "1964-02-29T00:00:00",
                    "1964-03-31T00:00:00",
                    "1964-04-30T00:00:00",
                    "1964-05-31T00:00:00",
                    "1964-06-30T00:00:00",
                    "1964-07-31T00:00:00",
                    "1964-08-31T00:00:00",
                    "1964-09-30T00:00:00",
                    "1964-10-31T00:00:00",
                    "1964-11-30T00:00:00",
                    "1964-12-31T00:00:00",
                    "1965-01-31T00:00:00",
                    "1965-02-28T00:00:00",
                    "1965-03-31T00:00:00",
                    "1965-04-30T00:00:00",
                    "1965-05-31T00:00:00",
                    "1965-06-30T00:00:00",
                    "1965-07-31T00:00:00",
                    "1965-08-31T00:00:00",
                    "1965-09-30T00:00:00",
                    "1965-10-31T00:00:00",
                    "1965-11-30T00:00:00",
                    "1965-12-31T00:00:00",
                    "1966-01-31T00:00:00",
                    "1966-02-28T00:00:00",
                    "1966-03-31T00:00:00",
                    "1966-04-30T00:00:00",
                    "1966-05-31T00:00:00",
                    "1966-06-30T00:00:00",
                    "1966-07-31T00:00:00",
                    "1966-08-31T00:00:00",
                    "1966-09-30T00:00:00",
                    "1966-10-31T00:00:00",
                    "1966-11-30T00:00:00",
                    "1966-12-31T00:00:00",
                    "1967-01-31T00:00:00",
                    "1967-02-28T00:00:00",
                    "1967-03-31T00:00:00",
                    "1967-04-30T00:00:00",
                    "1967-05-31T00:00:00",
                    "1967-06-30T00:00:00",
                    "1967-07-31T00:00:00",
                    "1967-08-31T00:00:00",
                    "1967-09-30T00:00:00",
                    "1967-10-31T00:00:00",
                    "1967-11-30T00:00:00",
                    "1967-12-31T00:00:00",
                    "1968-01-31T00:00:00",
                    "1968-02-29T00:00:00",
                    "1968-03-31T00:00:00",
                    "1968-04-30T00:00:00",
                    "1968-05-31T00:00:00",
                    "1968-06-30T00:00:00",
                    "1968-07-31T00:00:00",
                    "1968-08-31T00:00:00",
                    "1968-09-30T00:00:00",
                    "1968-10-31T00:00:00",
                    "1968-11-30T00:00:00",
                    "1968-12-31T00:00:00"
                  ],
                  "xaxis": "x",
                  "y": [
                    null,
                    null,
                    null,
                    null,
                    null,
                    null,
                    null,
                    null,
                    null,
                    null,
                    null,
                    null,
                    null,
                    null,
                    null,
                    null,
                    null,
                    null,
                    null,
                    null,
                    null,
                    null,
                    null,
                    null,
                    null,
                    null,
                    null,
                    null,
                    null,
                    null,
                    null,
                    null,
                    null,
                    null,
                    null,
                    null,
                    null,
                    null,
                    null,
                    null,
                    null,
                    null,
                    null,
                    null,
                    null,
                    null,
                    null,
                    null,
                    null,
                    null,
                    null,
                    null,
                    null,
                    null,
                    null,
                    null,
                    null,
                    null,
                    null,
                    null,
                    null,
                    null,
                    null,
                    null,
                    null,
                    null,
                    null,
                    null,
                    null,
                    null,
                    null,
                    null,
                    null,
                    null,
                    null,
                    null,
                    null,
                    null,
                    null,
                    null,
                    null,
                    null,
                    null,
                    null,
                    null,
                    null,
                    null,
                    null,
                    null,
                    null,
                    null,
                    null,
                    null,
                    null,
                    null,
                    null,
                    null,
                    null,
                    null,
                    null,
                    null,
                    null,
                    null,
                    null,
                    null,
                    null,
                    null,
                    null,
                    null,
                    null,
                    null,
                    null,
                    null,
                    null,
                    null,
                    null,
                    null,
                    null,
                    null,
                    null,
                    null,
                    null,
                    null,
                    null,
                    null,
                    null,
                    null,
                    null,
                    null,
                    null,
                    null,
                    null,
                    null,
                    null,
                    null,
                    null,
                    null,
                    null,
                    null,
                    null,
                    null,
                    null,
                    null,
                    null,
                    451.81896765205,
                    420.8872345001917,
                    444.7892204155742,
                    485.25099796053894,
                    507.3053323503482,
                    569.9580895662481,
                    656.789173586396,
                    631.8738161761827,
                    544.1616514106628,
                    488.8039467543822,
                    420.29946334879725,
                    456.39880027081455,
                    479.3516279914626,
                    446.6507491140848,
                    465.01065209293466,
                    504.90831149892824,
                    534.9226270210048,
                    599.500611695611,
                    682.8291401396884,
                    652.3253763339691,
                    572.2750415652791,
                    512.7367456318805,
                    446.2862125300817,
                    477.1357603275068,
                    500.9751050378922,
                    468.188621599153,
                    480.99597357187764,
                    520.3919305163588,
                    556.3418859837137,
                    623.6416794042348,
                    702.0610329852672,
                    667.9286794271186,
                    593.8582809173301,
                    532.93238910192,
                    468.68201217374013,
                    494.6012059739471,
                    517.845400846931,
                    485.79957681374594,
                    493.7031955891849,
                    532.3685306826013,
                    572.8102123665196,
                    642.8175305882573,
                    715.9592450928628,
                    679.4695023265402,
                    610.224489503684,
                    549.7635359447244,
                    488.06048412469477,
                    509.2960838438323,
                    530.93139640664,
                    499.9625455299072,
                    503.84345717947986,
                    541.53432184301,
                    585.3639051303212,
                    657.6455365326565,
                    725.662875903714,
                    687.7341287646714,
                    622.4854480206866,
                    563.688967375919,
                    504.88918479772445,
                    521.7135321664625,
                    541.0390912399032,
                    511.2085248838955,
                    511.95930683156547,
                    548.5157843132125,
                    594.8547019875125,
                    668.787047966611,
                    732.0636276176784,
                    693.4185915380742,
                    631.5627929004667,
                    575.172200005247,
                    519.5555584182862,
                    532.2876311217931,
                    548.8305811767124,
                    520.0515632354474,
                    518.4731569429583,
                    553.8352093490166,
                    601.9730416997663,
                    676.8745032670081,
                    735.8656623933321,
                    697.1010870485782,
                    638.2050661644708,
                    584.641519523169,
                    532.3835781288196,
                    541.3781808197284,
                    554.8416449112746,
                    526.9555743360963,
                    523.7185085283892,
                    557.9086109891103,
                    607.2703934569907,
                    682.4767901715024,
                    737.6281882576972,
                    699.2445381391939,
                    643.0087461870297,
                    592.4732619712581,
                    543.6453565681181,
                    549.2729813090084
                  ],
                  "yaxis": "y"
                },
                {
                  "hovertemplate": "variable=SARIMA(0,1,1)(0,1,1,12)<br>index=%{x}<br>value=%{y}<extra></extra>",
                  "legendgroup": "SARIMA(0,1,1)(0,1,1,12)",
                  "line": {
                    "color": "#00cc96",
                    "dash": "solid"
                  },
                  "marker": {
                    "symbol": "circle"
                  },
                  "mode": "lines",
                  "name": "SARIMA(0,1,1)(0,1,1,12)",
                  "showlegend": true,
                  "type": "scattergl",
                  "x": [
                    "1949-01-31T00:00:00",
                    "1949-02-28T00:00:00",
                    "1949-03-31T00:00:00",
                    "1949-04-30T00:00:00",
                    "1949-05-31T00:00:00",
                    "1949-06-30T00:00:00",
                    "1949-07-31T00:00:00",
                    "1949-08-31T00:00:00",
                    "1949-09-30T00:00:00",
                    "1949-10-31T00:00:00",
                    "1949-11-30T00:00:00",
                    "1949-12-31T00:00:00",
                    "1950-01-31T00:00:00",
                    "1950-02-28T00:00:00",
                    "1950-03-31T00:00:00",
                    "1950-04-30T00:00:00",
                    "1950-05-31T00:00:00",
                    "1950-06-30T00:00:00",
                    "1950-07-31T00:00:00",
                    "1950-08-31T00:00:00",
                    "1950-09-30T00:00:00",
                    "1950-10-31T00:00:00",
                    "1950-11-30T00:00:00",
                    "1950-12-31T00:00:00",
                    "1951-01-31T00:00:00",
                    "1951-02-28T00:00:00",
                    "1951-03-31T00:00:00",
                    "1951-04-30T00:00:00",
                    "1951-05-31T00:00:00",
                    "1951-06-30T00:00:00",
                    "1951-07-31T00:00:00",
                    "1951-08-31T00:00:00",
                    "1951-09-30T00:00:00",
                    "1951-10-31T00:00:00",
                    "1951-11-30T00:00:00",
                    "1951-12-31T00:00:00",
                    "1952-01-31T00:00:00",
                    "1952-02-29T00:00:00",
                    "1952-03-31T00:00:00",
                    "1952-04-30T00:00:00",
                    "1952-05-31T00:00:00",
                    "1952-06-30T00:00:00",
                    "1952-07-31T00:00:00",
                    "1952-08-31T00:00:00",
                    "1952-09-30T00:00:00",
                    "1952-10-31T00:00:00",
                    "1952-11-30T00:00:00",
                    "1952-12-31T00:00:00",
                    "1953-01-31T00:00:00",
                    "1953-02-28T00:00:00",
                    "1953-03-31T00:00:00",
                    "1953-04-30T00:00:00",
                    "1953-05-31T00:00:00",
                    "1953-06-30T00:00:00",
                    "1953-07-31T00:00:00",
                    "1953-08-31T00:00:00",
                    "1953-09-30T00:00:00",
                    "1953-10-31T00:00:00",
                    "1953-11-30T00:00:00",
                    "1953-12-31T00:00:00",
                    "1954-01-31T00:00:00",
                    "1954-02-28T00:00:00",
                    "1954-03-31T00:00:00",
                    "1954-04-30T00:00:00",
                    "1954-05-31T00:00:00",
                    "1954-06-30T00:00:00",
                    "1954-07-31T00:00:00",
                    "1954-08-31T00:00:00",
                    "1954-09-30T00:00:00",
                    "1954-10-31T00:00:00",
                    "1954-11-30T00:00:00",
                    "1954-12-31T00:00:00",
                    "1955-01-31T00:00:00",
                    "1955-02-28T00:00:00",
                    "1955-03-31T00:00:00",
                    "1955-04-30T00:00:00",
                    "1955-05-31T00:00:00",
                    "1955-06-30T00:00:00",
                    "1955-07-31T00:00:00",
                    "1955-08-31T00:00:00",
                    "1955-09-30T00:00:00",
                    "1955-10-31T00:00:00",
                    "1955-11-30T00:00:00",
                    "1955-12-31T00:00:00",
                    "1956-01-31T00:00:00",
                    "1956-02-29T00:00:00",
                    "1956-03-31T00:00:00",
                    "1956-04-30T00:00:00",
                    "1956-05-31T00:00:00",
                    "1956-06-30T00:00:00",
                    "1956-07-31T00:00:00",
                    "1956-08-31T00:00:00",
                    "1956-09-30T00:00:00",
                    "1956-10-31T00:00:00",
                    "1956-11-30T00:00:00",
                    "1956-12-31T00:00:00",
                    "1957-01-31T00:00:00",
                    "1957-02-28T00:00:00",
                    "1957-03-31T00:00:00",
                    "1957-04-30T00:00:00",
                    "1957-05-31T00:00:00",
                    "1957-06-30T00:00:00",
                    "1957-07-31T00:00:00",
                    "1957-08-31T00:00:00",
                    "1957-09-30T00:00:00",
                    "1957-10-31T00:00:00",
                    "1957-11-30T00:00:00",
                    "1957-12-31T00:00:00",
                    "1958-01-31T00:00:00",
                    "1958-02-28T00:00:00",
                    "1958-03-31T00:00:00",
                    "1958-04-30T00:00:00",
                    "1958-05-31T00:00:00",
                    "1958-06-30T00:00:00",
                    "1958-07-31T00:00:00",
                    "1958-08-31T00:00:00",
                    "1958-09-30T00:00:00",
                    "1958-10-31T00:00:00",
                    "1958-11-30T00:00:00",
                    "1958-12-31T00:00:00",
                    "1959-01-31T00:00:00",
                    "1959-02-28T00:00:00",
                    "1959-03-31T00:00:00",
                    "1959-04-30T00:00:00",
                    "1959-05-31T00:00:00",
                    "1959-06-30T00:00:00",
                    "1959-07-31T00:00:00",
                    "1959-08-31T00:00:00",
                    "1959-09-30T00:00:00",
                    "1959-10-31T00:00:00",
                    "1959-11-30T00:00:00",
                    "1959-12-31T00:00:00",
                    "1960-01-31T00:00:00",
                    "1960-02-29T00:00:00",
                    "1960-03-31T00:00:00",
                    "1960-04-30T00:00:00",
                    "1960-05-31T00:00:00",
                    "1960-06-30T00:00:00",
                    "1960-07-31T00:00:00",
                    "1960-08-31T00:00:00",
                    "1960-09-30T00:00:00",
                    "1960-10-31T00:00:00",
                    "1960-11-30T00:00:00",
                    "1960-12-31T00:00:00",
                    "1961-01-31T00:00:00",
                    "1961-02-28T00:00:00",
                    "1961-03-31T00:00:00",
                    "1961-04-30T00:00:00",
                    "1961-05-31T00:00:00",
                    "1961-06-30T00:00:00",
                    "1961-07-31T00:00:00",
                    "1961-08-31T00:00:00",
                    "1961-09-30T00:00:00",
                    "1961-10-31T00:00:00",
                    "1961-11-30T00:00:00",
                    "1961-12-31T00:00:00",
                    "1962-01-31T00:00:00",
                    "1962-02-28T00:00:00",
                    "1962-03-31T00:00:00",
                    "1962-04-30T00:00:00",
                    "1962-05-31T00:00:00",
                    "1962-06-30T00:00:00",
                    "1962-07-31T00:00:00",
                    "1962-08-31T00:00:00",
                    "1962-09-30T00:00:00",
                    "1962-10-31T00:00:00",
                    "1962-11-30T00:00:00",
                    "1962-12-31T00:00:00",
                    "1963-01-31T00:00:00",
                    "1963-02-28T00:00:00",
                    "1963-03-31T00:00:00",
                    "1963-04-30T00:00:00",
                    "1963-05-31T00:00:00",
                    "1963-06-30T00:00:00",
                    "1963-07-31T00:00:00",
                    "1963-08-31T00:00:00",
                    "1963-09-30T00:00:00",
                    "1963-10-31T00:00:00",
                    "1963-11-30T00:00:00",
                    "1963-12-31T00:00:00",
                    "1964-01-31T00:00:00",
                    "1964-02-29T00:00:00",
                    "1964-03-31T00:00:00",
                    "1964-04-30T00:00:00",
                    "1964-05-31T00:00:00",
                    "1964-06-30T00:00:00",
                    "1964-07-31T00:00:00",
                    "1964-08-31T00:00:00",
                    "1964-09-30T00:00:00",
                    "1964-10-31T00:00:00",
                    "1964-11-30T00:00:00",
                    "1964-12-31T00:00:00",
                    "1965-01-31T00:00:00",
                    "1965-02-28T00:00:00",
                    "1965-03-31T00:00:00",
                    "1965-04-30T00:00:00",
                    "1965-05-31T00:00:00",
                    "1965-06-30T00:00:00",
                    "1965-07-31T00:00:00",
                    "1965-08-31T00:00:00",
                    "1965-09-30T00:00:00",
                    "1965-10-31T00:00:00",
                    "1965-11-30T00:00:00",
                    "1965-12-31T00:00:00",
                    "1966-01-31T00:00:00",
                    "1966-02-28T00:00:00",
                    "1966-03-31T00:00:00",
                    "1966-04-30T00:00:00",
                    "1966-05-31T00:00:00",
                    "1966-06-30T00:00:00",
                    "1966-07-31T00:00:00",
                    "1966-08-31T00:00:00",
                    "1966-09-30T00:00:00",
                    "1966-10-31T00:00:00",
                    "1966-11-30T00:00:00",
                    "1966-12-31T00:00:00",
                    "1967-01-31T00:00:00",
                    "1967-02-28T00:00:00",
                    "1967-03-31T00:00:00",
                    "1967-04-30T00:00:00",
                    "1967-05-31T00:00:00",
                    "1967-06-30T00:00:00",
                    "1967-07-31T00:00:00",
                    "1967-08-31T00:00:00",
                    "1967-09-30T00:00:00",
                    "1967-10-31T00:00:00",
                    "1967-11-30T00:00:00",
                    "1967-12-31T00:00:00",
                    "1968-01-31T00:00:00",
                    "1968-02-29T00:00:00",
                    "1968-03-31T00:00:00",
                    "1968-04-30T00:00:00",
                    "1968-05-31T00:00:00",
                    "1968-06-30T00:00:00",
                    "1968-07-31T00:00:00",
                    "1968-08-31T00:00:00",
                    "1968-09-30T00:00:00",
                    "1968-10-31T00:00:00",
                    "1968-11-30T00:00:00",
                    "1968-12-31T00:00:00"
                  ],
                  "xaxis": "x",
                  "y": [
                    null,
                    null,
                    null,
                    null,
                    null,
                    null,
                    null,
                    null,
                    null,
                    null,
                    null,
                    null,
                    null,
                    null,
                    null,
                    null,
                    null,
                    null,
                    null,
                    null,
                    null,
                    null,
                    null,
                    null,
                    null,
                    null,
                    null,
                    null,
                    null,
                    null,
                    null,
                    null,
                    null,
                    null,
                    null,
                    null,
                    null,
                    null,
                    null,
                    null,
                    null,
                    null,
                    null,
                    null,
                    null,
                    null,
                    null,
                    null,
                    null,
                    null,
                    null,
                    null,
                    null,
                    null,
                    null,
                    null,
                    null,
                    null,
                    null,
                    null,
                    null,
                    null,
                    null,
                    null,
                    null,
                    null,
                    null,
                    null,
                    null,
                    null,
                    null,
                    null,
                    null,
                    null,
                    null,
                    null,
                    null,
                    null,
                    null,
                    null,
                    null,
                    null,
                    null,
                    null,
                    null,
                    null,
                    null,
                    null,
                    null,
                    null,
                    null,
                    null,
                    null,
                    null,
                    null,
                    null,
                    null,
                    null,
                    null,
                    null,
                    null,
                    null,
                    null,
                    null,
                    null,
                    null,
                    null,
                    null,
                    null,
                    null,
                    null,
                    null,
                    null,
                    null,
                    null,
                    null,
                    null,
                    null,
                    null,
                    null,
                    null,
                    null,
                    null,
                    null,
                    null,
                    null,
                    null,
                    null,
                    null,
                    null,
                    null,
                    null,
                    null,
                    null,
                    null,
                    null,
                    null,
                    null,
                    null,
                    null,
                    null,
                    null,
                    null,
                    null,
                    450.4222992035223,
                    425.718149114204,
                    479.0106112881083,
                    492.4041700155289,
                    509.0541784785433,
                    583.3452796382898,
                    670.0090065483676,
                    667.0768019215661,
                    558.1902184095067,
                    497.2072432266193,
                    429.8724973630448,
                    477.24364224343304,
                    495.9307735419315,
                    468.73063650352134,
                    527.4075093772518,
                    542.1542880156862,
                    560.4865322032929,
                    642.2836442259093,
                    737.7034518165665,
                    734.474991522029,
                    614.5870381836579,
                    547.4426403400859,
                    473.3047198565279,
                    525.4620143902127,
                    546.0372023783111,
                    516.0888960316706,
                    580.6941942257151,
                    596.9309155211362,
                    617.115360333917,
                    707.1768539824419,
                    812.2374139798826,
                    808.6827657885061,
                    676.6819178229571,
                    602.7535771958343,
                    521.1251224785252,
                    578.5521359050006,
                    601.2061406306806,
                    568.232003339913,
                    639.3647060611929,
                    657.2419065596179,
                    679.4656893235209,
                    778.626557447577,
                    894.30192449848,
                    890.3881319745841,
                    745.0505615312388,
                    663.6528615978391,
                    573.7770655669331,
                    637.0062246053628,
                    661.9490795823377,
                    625.6433961328175,
                    703.9630005286753,
                    723.646426255211,
                    748.1155917397339,
                    857.2951907977991,
                    984.6578332840671,
                    980.348610234297,
                    820.3268398598576,
                    730.7051129518281,
                    631.7487044278262,
                    701.3662295987226,
                    728.8291891035007,
                    688.8553563049751,
                    775.0879919009881,
                    796.7601350514881,
                    823.7015457856438,
                    943.912119533012,
                    1084.1428628160372,
                    1079.398256866873,
                    903.2086665520155,
                    804.5319970570628,
                    695.5775152007706,
                    772.2288558895609,
                    802.4665390039158,
                    758.453944919956,
                    853.3991058307543,
                    877.2608967233106,
                    906.9243363206107,
                    1039.280400689249,
                    1193.6793749711308,
                    1188.4553971559083,
                    994.4644691548024,
                    885.81798979597,
                    765.8552779955135,
                    850.251096648447,
                    883.5438479254923,
                    835.0844357954934,
                    939.6223931253533,
                    965.8950630983248,
                    998.5555520914692,
                    1144.2842282724087,
                    1314.2829225757198,
                    1308.5311394969285,
                    1094.9403133903488,
                    975.3167231588913,
                    843.2335635005231,
                    936.1563244345726
                  ],
                  "yaxis": "y"
                },
                {
                  "hovertemplate": "variable=ExponentialSmoothing<br>index=%{x}<br>value=%{y}<extra></extra>",
                  "legendgroup": "ExponentialSmoothing",
                  "line": {
                    "color": "#ab63fa",
                    "dash": "solid"
                  },
                  "marker": {
                    "symbol": "circle"
                  },
                  "mode": "lines",
                  "name": "ExponentialSmoothing",
                  "showlegend": true,
                  "type": "scattergl",
                  "x": [
                    "1949-01-31T00:00:00",
                    "1949-02-28T00:00:00",
                    "1949-03-31T00:00:00",
                    "1949-04-30T00:00:00",
                    "1949-05-31T00:00:00",
                    "1949-06-30T00:00:00",
                    "1949-07-31T00:00:00",
                    "1949-08-31T00:00:00",
                    "1949-09-30T00:00:00",
                    "1949-10-31T00:00:00",
                    "1949-11-30T00:00:00",
                    "1949-12-31T00:00:00",
                    "1950-01-31T00:00:00",
                    "1950-02-28T00:00:00",
                    "1950-03-31T00:00:00",
                    "1950-04-30T00:00:00",
                    "1950-05-31T00:00:00",
                    "1950-06-30T00:00:00",
                    "1950-07-31T00:00:00",
                    "1950-08-31T00:00:00",
                    "1950-09-30T00:00:00",
                    "1950-10-31T00:00:00",
                    "1950-11-30T00:00:00",
                    "1950-12-31T00:00:00",
                    "1951-01-31T00:00:00",
                    "1951-02-28T00:00:00",
                    "1951-03-31T00:00:00",
                    "1951-04-30T00:00:00",
                    "1951-05-31T00:00:00",
                    "1951-06-30T00:00:00",
                    "1951-07-31T00:00:00",
                    "1951-08-31T00:00:00",
                    "1951-09-30T00:00:00",
                    "1951-10-31T00:00:00",
                    "1951-11-30T00:00:00",
                    "1951-12-31T00:00:00",
                    "1952-01-31T00:00:00",
                    "1952-02-29T00:00:00",
                    "1952-03-31T00:00:00",
                    "1952-04-30T00:00:00",
                    "1952-05-31T00:00:00",
                    "1952-06-30T00:00:00",
                    "1952-07-31T00:00:00",
                    "1952-08-31T00:00:00",
                    "1952-09-30T00:00:00",
                    "1952-10-31T00:00:00",
                    "1952-11-30T00:00:00",
                    "1952-12-31T00:00:00",
                    "1953-01-31T00:00:00",
                    "1953-02-28T00:00:00",
                    "1953-03-31T00:00:00",
                    "1953-04-30T00:00:00",
                    "1953-05-31T00:00:00",
                    "1953-06-30T00:00:00",
                    "1953-07-31T00:00:00",
                    "1953-08-31T00:00:00",
                    "1953-09-30T00:00:00",
                    "1953-10-31T00:00:00",
                    "1953-11-30T00:00:00",
                    "1953-12-31T00:00:00",
                    "1954-01-31T00:00:00",
                    "1954-02-28T00:00:00",
                    "1954-03-31T00:00:00",
                    "1954-04-30T00:00:00",
                    "1954-05-31T00:00:00",
                    "1954-06-30T00:00:00",
                    "1954-07-31T00:00:00",
                    "1954-08-31T00:00:00",
                    "1954-09-30T00:00:00",
                    "1954-10-31T00:00:00",
                    "1954-11-30T00:00:00",
                    "1954-12-31T00:00:00",
                    "1955-01-31T00:00:00",
                    "1955-02-28T00:00:00",
                    "1955-03-31T00:00:00",
                    "1955-04-30T00:00:00",
                    "1955-05-31T00:00:00",
                    "1955-06-30T00:00:00",
                    "1955-07-31T00:00:00",
                    "1955-08-31T00:00:00",
                    "1955-09-30T00:00:00",
                    "1955-10-31T00:00:00",
                    "1955-11-30T00:00:00",
                    "1955-12-31T00:00:00",
                    "1956-01-31T00:00:00",
                    "1956-02-29T00:00:00",
                    "1956-03-31T00:00:00",
                    "1956-04-30T00:00:00",
                    "1956-05-31T00:00:00",
                    "1956-06-30T00:00:00",
                    "1956-07-31T00:00:00",
                    "1956-08-31T00:00:00",
                    "1956-09-30T00:00:00",
                    "1956-10-31T00:00:00",
                    "1956-11-30T00:00:00",
                    "1956-12-31T00:00:00",
                    "1957-01-31T00:00:00",
                    "1957-02-28T00:00:00",
                    "1957-03-31T00:00:00",
                    "1957-04-30T00:00:00",
                    "1957-05-31T00:00:00",
                    "1957-06-30T00:00:00",
                    "1957-07-31T00:00:00",
                    "1957-08-31T00:00:00",
                    "1957-09-30T00:00:00",
                    "1957-10-31T00:00:00",
                    "1957-11-30T00:00:00",
                    "1957-12-31T00:00:00",
                    "1958-01-31T00:00:00",
                    "1958-02-28T00:00:00",
                    "1958-03-31T00:00:00",
                    "1958-04-30T00:00:00",
                    "1958-05-31T00:00:00",
                    "1958-06-30T00:00:00",
                    "1958-07-31T00:00:00",
                    "1958-08-31T00:00:00",
                    "1958-09-30T00:00:00",
                    "1958-10-31T00:00:00",
                    "1958-11-30T00:00:00",
                    "1958-12-31T00:00:00",
                    "1959-01-31T00:00:00",
                    "1959-02-28T00:00:00",
                    "1959-03-31T00:00:00",
                    "1959-04-30T00:00:00",
                    "1959-05-31T00:00:00",
                    "1959-06-30T00:00:00",
                    "1959-07-31T00:00:00",
                    "1959-08-31T00:00:00",
                    "1959-09-30T00:00:00",
                    "1959-10-31T00:00:00",
                    "1959-11-30T00:00:00",
                    "1959-12-31T00:00:00",
                    "1960-01-31T00:00:00",
                    "1960-02-29T00:00:00",
                    "1960-03-31T00:00:00",
                    "1960-04-30T00:00:00",
                    "1960-05-31T00:00:00",
                    "1960-06-30T00:00:00",
                    "1960-07-31T00:00:00",
                    "1960-08-31T00:00:00",
                    "1960-09-30T00:00:00",
                    "1960-10-31T00:00:00",
                    "1960-11-30T00:00:00",
                    "1960-12-31T00:00:00",
                    "1961-01-31T00:00:00",
                    "1961-02-28T00:00:00",
                    "1961-03-31T00:00:00",
                    "1961-04-30T00:00:00",
                    "1961-05-31T00:00:00",
                    "1961-06-30T00:00:00",
                    "1961-07-31T00:00:00",
                    "1961-08-31T00:00:00",
                    "1961-09-30T00:00:00",
                    "1961-10-31T00:00:00",
                    "1961-11-30T00:00:00",
                    "1961-12-31T00:00:00",
                    "1962-01-31T00:00:00",
                    "1962-02-28T00:00:00",
                    "1962-03-31T00:00:00",
                    "1962-04-30T00:00:00",
                    "1962-05-31T00:00:00",
                    "1962-06-30T00:00:00",
                    "1962-07-31T00:00:00",
                    "1962-08-31T00:00:00",
                    "1962-09-30T00:00:00",
                    "1962-10-31T00:00:00",
                    "1962-11-30T00:00:00",
                    "1962-12-31T00:00:00",
                    "1963-01-31T00:00:00",
                    "1963-02-28T00:00:00",
                    "1963-03-31T00:00:00",
                    "1963-04-30T00:00:00",
                    "1963-05-31T00:00:00",
                    "1963-06-30T00:00:00",
                    "1963-07-31T00:00:00",
                    "1963-08-31T00:00:00",
                    "1963-09-30T00:00:00",
                    "1963-10-31T00:00:00",
                    "1963-11-30T00:00:00",
                    "1963-12-31T00:00:00",
                    "1964-01-31T00:00:00",
                    "1964-02-29T00:00:00",
                    "1964-03-31T00:00:00",
                    "1964-04-30T00:00:00",
                    "1964-05-31T00:00:00",
                    "1964-06-30T00:00:00",
                    "1964-07-31T00:00:00",
                    "1964-08-31T00:00:00",
                    "1964-09-30T00:00:00",
                    "1964-10-31T00:00:00",
                    "1964-11-30T00:00:00",
                    "1964-12-31T00:00:00",
                    "1965-01-31T00:00:00",
                    "1965-02-28T00:00:00",
                    "1965-03-31T00:00:00",
                    "1965-04-30T00:00:00",
                    "1965-05-31T00:00:00",
                    "1965-06-30T00:00:00",
                    "1965-07-31T00:00:00",
                    "1965-08-31T00:00:00",
                    "1965-09-30T00:00:00",
                    "1965-10-31T00:00:00",
                    "1965-11-30T00:00:00",
                    "1965-12-31T00:00:00",
                    "1966-01-31T00:00:00",
                    "1966-02-28T00:00:00",
                    "1966-03-31T00:00:00",
                    "1966-04-30T00:00:00",
                    "1966-05-31T00:00:00",
                    "1966-06-30T00:00:00",
                    "1966-07-31T00:00:00",
                    "1966-08-31T00:00:00",
                    "1966-09-30T00:00:00",
                    "1966-10-31T00:00:00",
                    "1966-11-30T00:00:00",
                    "1966-12-31T00:00:00",
                    "1967-01-31T00:00:00",
                    "1967-02-28T00:00:00",
                    "1967-03-31T00:00:00",
                    "1967-04-30T00:00:00",
                    "1967-05-31T00:00:00",
                    "1967-06-30T00:00:00",
                    "1967-07-31T00:00:00",
                    "1967-08-31T00:00:00",
                    "1967-09-30T00:00:00",
                    "1967-10-31T00:00:00",
                    "1967-11-30T00:00:00",
                    "1967-12-31T00:00:00",
                    "1968-01-31T00:00:00",
                    "1968-02-29T00:00:00",
                    "1968-03-31T00:00:00",
                    "1968-04-30T00:00:00",
                    "1968-05-31T00:00:00",
                    "1968-06-30T00:00:00",
                    "1968-07-31T00:00:00",
                    "1968-08-31T00:00:00",
                    "1968-09-30T00:00:00",
                    "1968-10-31T00:00:00",
                    "1968-11-30T00:00:00",
                    "1968-12-31T00:00:00"
                  ],
                  "xaxis": "x",
                  "y": [
                    null,
                    null,
                    null,
                    null,
                    null,
                    null,
                    null,
                    null,
                    null,
                    null,
                    null,
                    null,
                    null,
                    null,
                    null,
                    null,
                    null,
                    null,
                    null,
                    null,
                    null,
                    null,
                    null,
                    null,
                    null,
                    null,
                    null,
                    null,
                    null,
                    null,
                    null,
                    null,
                    null,
                    null,
                    null,
                    null,
                    null,
                    null,
                    null,
                    null,
                    null,
                    null,
                    null,
                    null,
                    null,
                    null,
                    null,
                    null,
                    null,
                    null,
                    null,
                    null,
                    null,
                    null,
                    null,
                    null,
                    null,
                    null,
                    null,
                    null,
                    null,
                    null,
                    null,
                    null,
                    null,
                    null,
                    null,
                    null,
                    null,
                    null,
                    null,
                    null,
                    null,
                    null,
                    null,
                    null,
                    null,
                    null,
                    null,
                    null,
                    null,
                    null,
                    null,
                    null,
                    null,
                    null,
                    null,
                    null,
                    null,
                    null,
                    null,
                    null,
                    null,
                    null,
                    null,
                    null,
                    null,
                    null,
                    null,
                    null,
                    null,
                    null,
                    null,
                    null,
                    null,
                    null,
                    null,
                    null,
                    null,
                    null,
                    null,
                    null,
                    null,
                    null,
                    null,
                    null,
                    null,
                    null,
                    null,
                    null,
                    null,
                    null,
                    null,
                    null,
                    null,
                    null,
                    null,
                    null,
                    null,
                    null,
                    null,
                    null,
                    null,
                    null,
                    null,
                    null,
                    null,
                    null,
                    null,
                    null,
                    null,
                    null,
                    null,
                    null,
                    445.24146953858104,
                    418.2247177675106,
                    465.310595982305,
                    494.95063872555954,
                    505.47513467743073,
                    573.3123069093614,
                    663.5955499453904,
                    654.9032538780616,
                    546.7594510829888,
                    488.4442121730103,
                    415.7210229449344,
                    460.3736632921722,
                    474.06696897618554,
                    445.15582214417066,
                    495.11381317398207,
                    526.4839956303963,
                    537.5089352538132,
                    609.4543252538227,
                    705.2104690527395,
                    695.7595555237036,
                    580.692763308036,
                    518.602354755017,
                    441.2576053882418,
                    488.5091093413754,
                    502.89246841379,
                    472.08692652083084,
                    524.9170303656591,
                    558.017352535233,
                    569.5427358301959,
                    645.5963435982841,
                    746.8253881600887,
                    736.6158571693455,
                    614.6260755330834,
                    548.7604973370236,
                    466.7941878315492,
                    516.6445553905786,
                    531.7179678513946,
                    499.0180308974909,
                    554.720247557336,
                    589.5507094400699,
                    601.5765364065783,
                    681.7383619427453,
                    788.4403072674377,
                    777.4721588149876,
                    648.5593877581306,
                    578.91863991903,
                    492.33077027485666,
                    544.7800014397819,
                    560.5434672889992,
                    525.949135274151,
                    584.5234647490131,
                    621.0840663449065,
                    633.6103369829608,
                    717.8803802872068,
                    830.0552263747869,
                    818.3284604606295,
                    682.4926999831778,
                    609.0767825010366,
                    517.8673527181642,
                    572.9154474889851,
                    589.3689667266036,
                    552.8802396508112,
                    614.3266819406902,
                    652.6174232497433,
                    665.6441375593433,
                    754.022398631668,
                    871.6701454821359,
                    859.1847621062713,
                    716.4260122082252,
                    639.2349250830433,
                    543.4039351614715,
                    601.0508935381883,
                    618.1944661642083,
                    579.8113440274713,
                    644.1298991323671,
                    684.1507801545802,
                    697.6779381357259,
                    790.1644169761294,
                    913.2850645894852,
                    900.0410637519133,
                    750.3593244332724,
                    669.3930676650499,
                    568.940517604779,
                    629.1863395873918,
                    647.0199656018127,
                    606.7424484041314,
                    673.9331163240442,
                    715.6841370594169,
                    729.7117387121084,
                    826.3064353205907,
                    954.8999836968343,
                    940.8973653975552,
                    784.2926366583197,
                    699.5512102470565,
                    594.4771000480864,
                    657.321785636595
                  ],
                  "yaxis": "y"
                },
                {
                  "hovertemplate": "variable=prophet_multiplicative<br>index=%{x}<br>value=%{y}<extra></extra>",
                  "legendgroup": "prophet_multiplicative",
                  "line": {
                    "color": "#FFA15A",
                    "dash": "solid"
                  },
                  "marker": {
                    "symbol": "circle"
                  },
                  "mode": "lines",
                  "name": "prophet_multiplicative",
                  "showlegend": true,
                  "type": "scattergl",
                  "x": [
                    "1949-01-31T00:00:00",
                    "1949-02-28T00:00:00",
                    "1949-03-31T00:00:00",
                    "1949-04-30T00:00:00",
                    "1949-05-31T00:00:00",
                    "1949-06-30T00:00:00",
                    "1949-07-31T00:00:00",
                    "1949-08-31T00:00:00",
                    "1949-09-30T00:00:00",
                    "1949-10-31T00:00:00",
                    "1949-11-30T00:00:00",
                    "1949-12-31T00:00:00",
                    "1950-01-31T00:00:00",
                    "1950-02-28T00:00:00",
                    "1950-03-31T00:00:00",
                    "1950-04-30T00:00:00",
                    "1950-05-31T00:00:00",
                    "1950-06-30T00:00:00",
                    "1950-07-31T00:00:00",
                    "1950-08-31T00:00:00",
                    "1950-09-30T00:00:00",
                    "1950-10-31T00:00:00",
                    "1950-11-30T00:00:00",
                    "1950-12-31T00:00:00",
                    "1951-01-31T00:00:00",
                    "1951-02-28T00:00:00",
                    "1951-03-31T00:00:00",
                    "1951-04-30T00:00:00",
                    "1951-05-31T00:00:00",
                    "1951-06-30T00:00:00",
                    "1951-07-31T00:00:00",
                    "1951-08-31T00:00:00",
                    "1951-09-30T00:00:00",
                    "1951-10-31T00:00:00",
                    "1951-11-30T00:00:00",
                    "1951-12-31T00:00:00",
                    "1952-01-31T00:00:00",
                    "1952-02-29T00:00:00",
                    "1952-03-31T00:00:00",
                    "1952-04-30T00:00:00",
                    "1952-05-31T00:00:00",
                    "1952-06-30T00:00:00",
                    "1952-07-31T00:00:00",
                    "1952-08-31T00:00:00",
                    "1952-09-30T00:00:00",
                    "1952-10-31T00:00:00",
                    "1952-11-30T00:00:00",
                    "1952-12-31T00:00:00",
                    "1953-01-31T00:00:00",
                    "1953-02-28T00:00:00",
                    "1953-03-31T00:00:00",
                    "1953-04-30T00:00:00",
                    "1953-05-31T00:00:00",
                    "1953-06-30T00:00:00",
                    "1953-07-31T00:00:00",
                    "1953-08-31T00:00:00",
                    "1953-09-30T00:00:00",
                    "1953-10-31T00:00:00",
                    "1953-11-30T00:00:00",
                    "1953-12-31T00:00:00",
                    "1954-01-31T00:00:00",
                    "1954-02-28T00:00:00",
                    "1954-03-31T00:00:00",
                    "1954-04-30T00:00:00",
                    "1954-05-31T00:00:00",
                    "1954-06-30T00:00:00",
                    "1954-07-31T00:00:00",
                    "1954-08-31T00:00:00",
                    "1954-09-30T00:00:00",
                    "1954-10-31T00:00:00",
                    "1954-11-30T00:00:00",
                    "1954-12-31T00:00:00",
                    "1955-01-31T00:00:00",
                    "1955-02-28T00:00:00",
                    "1955-03-31T00:00:00",
                    "1955-04-30T00:00:00",
                    "1955-05-31T00:00:00",
                    "1955-06-30T00:00:00",
                    "1955-07-31T00:00:00",
                    "1955-08-31T00:00:00",
                    "1955-09-30T00:00:00",
                    "1955-10-31T00:00:00",
                    "1955-11-30T00:00:00",
                    "1955-12-31T00:00:00",
                    "1956-01-31T00:00:00",
                    "1956-02-29T00:00:00",
                    "1956-03-31T00:00:00",
                    "1956-04-30T00:00:00",
                    "1956-05-31T00:00:00",
                    "1956-06-30T00:00:00",
                    "1956-07-31T00:00:00",
                    "1956-08-31T00:00:00",
                    "1956-09-30T00:00:00",
                    "1956-10-31T00:00:00",
                    "1956-11-30T00:00:00",
                    "1956-12-31T00:00:00",
                    "1957-01-31T00:00:00",
                    "1957-02-28T00:00:00",
                    "1957-03-31T00:00:00",
                    "1957-04-30T00:00:00",
                    "1957-05-31T00:00:00",
                    "1957-06-30T00:00:00",
                    "1957-07-31T00:00:00",
                    "1957-08-31T00:00:00",
                    "1957-09-30T00:00:00",
                    "1957-10-31T00:00:00",
                    "1957-11-30T00:00:00",
                    "1957-12-31T00:00:00",
                    "1958-01-31T00:00:00",
                    "1958-02-28T00:00:00",
                    "1958-03-31T00:00:00",
                    "1958-04-30T00:00:00",
                    "1958-05-31T00:00:00",
                    "1958-06-30T00:00:00",
                    "1958-07-31T00:00:00",
                    "1958-08-31T00:00:00",
                    "1958-09-30T00:00:00",
                    "1958-10-31T00:00:00",
                    "1958-11-30T00:00:00",
                    "1958-12-31T00:00:00",
                    "1959-01-31T00:00:00",
                    "1959-02-28T00:00:00",
                    "1959-03-31T00:00:00",
                    "1959-04-30T00:00:00",
                    "1959-05-31T00:00:00",
                    "1959-06-30T00:00:00",
                    "1959-07-31T00:00:00",
                    "1959-08-31T00:00:00",
                    "1959-09-30T00:00:00",
                    "1959-10-31T00:00:00",
                    "1959-11-30T00:00:00",
                    "1959-12-31T00:00:00",
                    "1960-01-31T00:00:00",
                    "1960-02-29T00:00:00",
                    "1960-03-31T00:00:00",
                    "1960-04-30T00:00:00",
                    "1960-05-31T00:00:00",
                    "1960-06-30T00:00:00",
                    "1960-07-31T00:00:00",
                    "1960-08-31T00:00:00",
                    "1960-09-30T00:00:00",
                    "1960-10-31T00:00:00",
                    "1960-11-30T00:00:00",
                    "1960-12-31T00:00:00",
                    "1961-01-31T00:00:00",
                    "1961-02-28T00:00:00",
                    "1961-03-31T00:00:00",
                    "1961-04-30T00:00:00",
                    "1961-05-31T00:00:00",
                    "1961-06-30T00:00:00",
                    "1961-07-31T00:00:00",
                    "1961-08-31T00:00:00",
                    "1961-09-30T00:00:00",
                    "1961-10-31T00:00:00",
                    "1961-11-30T00:00:00",
                    "1961-12-31T00:00:00",
                    "1962-01-31T00:00:00",
                    "1962-02-28T00:00:00",
                    "1962-03-31T00:00:00",
                    "1962-04-30T00:00:00",
                    "1962-05-31T00:00:00",
                    "1962-06-30T00:00:00",
                    "1962-07-31T00:00:00",
                    "1962-08-31T00:00:00",
                    "1962-09-30T00:00:00",
                    "1962-10-31T00:00:00",
                    "1962-11-30T00:00:00",
                    "1962-12-31T00:00:00",
                    "1963-01-31T00:00:00",
                    "1963-02-28T00:00:00",
                    "1963-03-31T00:00:00",
                    "1963-04-30T00:00:00",
                    "1963-05-31T00:00:00",
                    "1963-06-30T00:00:00",
                    "1963-07-31T00:00:00",
                    "1963-08-31T00:00:00",
                    "1963-09-30T00:00:00",
                    "1963-10-31T00:00:00",
                    "1963-11-30T00:00:00",
                    "1963-12-31T00:00:00",
                    "1964-01-31T00:00:00",
                    "1964-02-29T00:00:00",
                    "1964-03-31T00:00:00",
                    "1964-04-30T00:00:00",
                    "1964-05-31T00:00:00",
                    "1964-06-30T00:00:00",
                    "1964-07-31T00:00:00",
                    "1964-08-31T00:00:00",
                    "1964-09-30T00:00:00",
                    "1964-10-31T00:00:00",
                    "1964-11-30T00:00:00",
                    "1964-12-31T00:00:00",
                    "1965-01-31T00:00:00",
                    "1965-02-28T00:00:00",
                    "1965-03-31T00:00:00",
                    "1965-04-30T00:00:00",
                    "1965-05-31T00:00:00",
                    "1965-06-30T00:00:00",
                    "1965-07-31T00:00:00",
                    "1965-08-31T00:00:00",
                    "1965-09-30T00:00:00",
                    "1965-10-31T00:00:00",
                    "1965-11-30T00:00:00",
                    "1965-12-31T00:00:00",
                    "1966-01-31T00:00:00",
                    "1966-02-28T00:00:00",
                    "1966-03-31T00:00:00",
                    "1966-04-30T00:00:00",
                    "1966-05-31T00:00:00",
                    "1966-06-30T00:00:00",
                    "1966-07-31T00:00:00",
                    "1966-08-31T00:00:00",
                    "1966-09-30T00:00:00",
                    "1966-10-31T00:00:00",
                    "1966-11-30T00:00:00",
                    "1966-12-31T00:00:00",
                    "1967-01-31T00:00:00",
                    "1967-02-28T00:00:00",
                    "1967-03-31T00:00:00",
                    "1967-04-30T00:00:00",
                    "1967-05-31T00:00:00",
                    "1967-06-30T00:00:00",
                    "1967-07-31T00:00:00",
                    "1967-08-31T00:00:00",
                    "1967-09-30T00:00:00",
                    "1967-10-31T00:00:00",
                    "1967-11-30T00:00:00",
                    "1967-12-31T00:00:00",
                    "1968-01-31T00:00:00",
                    "1968-02-29T00:00:00",
                    "1968-03-31T00:00:00",
                    "1968-04-30T00:00:00",
                    "1968-05-31T00:00:00",
                    "1968-06-30T00:00:00",
                    "1968-07-31T00:00:00",
                    "1968-08-31T00:00:00",
                    "1968-09-30T00:00:00",
                    "1968-10-31T00:00:00",
                    "1968-11-30T00:00:00",
                    "1968-12-31T00:00:00"
                  ],
                  "xaxis": "x",
                  "y": [
                    null,
                    null,
                    null,
                    null,
                    null,
                    null,
                    null,
                    null,
                    null,
                    null,
                    null,
                    null,
                    null,
                    null,
                    null,
                    null,
                    null,
                    null,
                    null,
                    null,
                    null,
                    null,
                    null,
                    null,
                    null,
                    null,
                    null,
                    null,
                    null,
                    null,
                    null,
                    null,
                    null,
                    null,
                    null,
                    null,
                    null,
                    null,
                    null,
                    null,
                    null,
                    null,
                    null,
                    null,
                    null,
                    null,
                    null,
                    null,
                    null,
                    null,
                    null,
                    null,
                    null,
                    null,
                    null,
                    null,
                    null,
                    null,
                    null,
                    null,
                    null,
                    null,
                    null,
                    null,
                    null,
                    null,
                    null,
                    null,
                    null,
                    null,
                    null,
                    null,
                    null,
                    null,
                    null,
                    null,
                    null,
                    null,
                    null,
                    null,
                    null,
                    null,
                    null,
                    null,
                    null,
                    null,
                    null,
                    null,
                    null,
                    null,
                    null,
                    null,
                    null,
                    null,
                    null,
                    null,
                    null,
                    null,
                    null,
                    null,
                    null,
                    null,
                    null,
                    null,
                    null,
                    null,
                    null,
                    null,
                    null,
                    null,
                    null,
                    null,
                    null,
                    null,
                    null,
                    null,
                    null,
                    null,
                    null,
                    null,
                    null,
                    null,
                    null,
                    null,
                    null,
                    null,
                    null,
                    null,
                    null,
                    null,
                    null,
                    null,
                    null,
                    null,
                    null,
                    null,
                    null,
                    null,
                    null,
                    null,
                    null,
                    null,
                    null,
                    null,
                    447.5105617836877,
                    433.8501092934278,
                    491.42488980099677,
                    494.29115615594696,
                    503.45947664768164,
                    579.2002761131092,
                    653.8644717023567,
                    650.0877753283967,
                    553.319691981569,
                    489.0577301932627,
                    424.2995420234405,
                    473.1562227497851,
                    487.68742710185654,
                    465.49689541303445,
                    539.5903185005507,
                    530.6943939255716,
                    545.792686212218,
                    624.2423483306395,
                    707.556887600337,
                    706.2944084298433,
                    599.1455562279501,
                    525.3351154223506,
                    457.81895999309944,
                    511.7104816588394,
                    528.1303364649307,
                    496.4377540942286,
                    588.8113369785758,
                    566.2850491414519,
                    588.2611008822668,
                    668.9216681571961,
                    761.3616222770637,
                    763.004939063291,
                    645.0659625696521,
                    561.165200321436,
                    491.40135842731155,
                    550.4716207882112,
                    568.8236393596114,
                    549.873616733791,
                    607.278301225574,
                    623.471236689033,
                    627.8663431781398,
                    725.1816430313277,
                    813.878387143603,
                    804.3223003413877,
                    685.5960100473538,
                    609.7705479409609,
                    525.8845486024056,
                    583.9708364979917,
                    599.9266333255742,
                    580.6553689005374,
                    656.5267774830731,
                    659.2182319756732,
                    670.264742460977,
                    769.8031256246614,
                    867.5457326564136,
                    861.0718365967585,
                    731.7091337856327,
                    645.6579466988175,
                    559.276179376269,
                    622.6657957740283,
                    640.7623083008464,
                    610.7329684381255,
                    706.8365070157587,
                    694.1430218419438,
                    712.8000391710058,
                    814.0618804872752,
                    921.3314056274423,
                    918.3282060552037,
                    777.9106503920545,
                    681.0915601817601,
                    592.7361735338848,
                    661.5722090816796,
                    681.8456514303258,
                    640.1272542327832,
                    758.1972733645689,
                    728.2341049910701,
                    755.4802714074955,
                    857.9659764188747,
                    975.2478604369038,
                    976.0827170802878,
                    824.1808426838433,
                    716.0707781469304,
                    626.2845854137441,
                    700.6939415657433,
                    723.1605026420176,
                    698.2696267524321,
                    770.2331608929217,
                    789.8544804571577,
                    794.4790544972741,
                    916.5753747525915,
                    1027.4852171748005,
                    1014.2520118541609,
                    863.5840189226526,
                    767.2062255815616,
                    660.945792906827,
                    733.1373223830271
                  ],
                  "yaxis": "y"
                }
              ],
              "layout": {
                "legend": {
                  "title": {
                    "text": "variable"
                  },
                  "tracegroupgap": 0
                },
                "margin": {
                  "t": 60
                },
                "template": {
                  "data": {
                    "bar": [
                      {
                        "error_x": {
                          "color": "#f2f5fa"
                        },
                        "error_y": {
                          "color": "#f2f5fa"
                        },
                        "marker": {
                          "line": {
                            "color": "rgb(17,17,17)",
                            "width": 0.5
                          },
                          "pattern": {
                            "fillmode": "overlay",
                            "size": 10,
                            "solidity": 0.2
                          }
                        },
                        "type": "bar"
                      }
                    ],
                    "barpolar": [
                      {
                        "marker": {
                          "line": {
                            "color": "rgb(17,17,17)",
                            "width": 0.5
                          },
                          "pattern": {
                            "fillmode": "overlay",
                            "size": 10,
                            "solidity": 0.2
                          }
                        },
                        "type": "barpolar"
                      }
                    ],
                    "carpet": [
                      {
                        "aaxis": {
                          "endlinecolor": "#A2B1C6",
                          "gridcolor": "#506784",
                          "linecolor": "#506784",
                          "minorgridcolor": "#506784",
                          "startlinecolor": "#A2B1C6"
                        },
                        "baxis": {
                          "endlinecolor": "#A2B1C6",
                          "gridcolor": "#506784",
                          "linecolor": "#506784",
                          "minorgridcolor": "#506784",
                          "startlinecolor": "#A2B1C6"
                        },
                        "type": "carpet"
                      }
                    ],
                    "choropleth": [
                      {
                        "colorbar": {
                          "outlinewidth": 0,
                          "ticks": ""
                        },
                        "type": "choropleth"
                      }
                    ],
                    "contour": [
                      {
                        "colorbar": {
                          "outlinewidth": 0,
                          "ticks": ""
                        },
                        "colorscale": [
                          [
                            0,
                            "#0d0887"
                          ],
                          [
                            0.1111111111111111,
                            "#46039f"
                          ],
                          [
                            0.2222222222222222,
                            "#7201a8"
                          ],
                          [
                            0.3333333333333333,
                            "#9c179e"
                          ],
                          [
                            0.4444444444444444,
                            "#bd3786"
                          ],
                          [
                            0.5555555555555556,
                            "#d8576b"
                          ],
                          [
                            0.6666666666666666,
                            "#ed7953"
                          ],
                          [
                            0.7777777777777778,
                            "#fb9f3a"
                          ],
                          [
                            0.8888888888888888,
                            "#fdca26"
                          ],
                          [
                            1,
                            "#f0f921"
                          ]
                        ],
                        "type": "contour"
                      }
                    ],
                    "contourcarpet": [
                      {
                        "colorbar": {
                          "outlinewidth": 0,
                          "ticks": ""
                        },
                        "type": "contourcarpet"
                      }
                    ],
                    "heatmap": [
                      {
                        "colorbar": {
                          "outlinewidth": 0,
                          "ticks": ""
                        },
                        "colorscale": [
                          [
                            0,
                            "#0d0887"
                          ],
                          [
                            0.1111111111111111,
                            "#46039f"
                          ],
                          [
                            0.2222222222222222,
                            "#7201a8"
                          ],
                          [
                            0.3333333333333333,
                            "#9c179e"
                          ],
                          [
                            0.4444444444444444,
                            "#bd3786"
                          ],
                          [
                            0.5555555555555556,
                            "#d8576b"
                          ],
                          [
                            0.6666666666666666,
                            "#ed7953"
                          ],
                          [
                            0.7777777777777778,
                            "#fb9f3a"
                          ],
                          [
                            0.8888888888888888,
                            "#fdca26"
                          ],
                          [
                            1,
                            "#f0f921"
                          ]
                        ],
                        "type": "heatmap"
                      }
                    ],
                    "heatmapgl": [
                      {
                        "colorbar": {
                          "outlinewidth": 0,
                          "ticks": ""
                        },
                        "colorscale": [
                          [
                            0,
                            "#0d0887"
                          ],
                          [
                            0.1111111111111111,
                            "#46039f"
                          ],
                          [
                            0.2222222222222222,
                            "#7201a8"
                          ],
                          [
                            0.3333333333333333,
                            "#9c179e"
                          ],
                          [
                            0.4444444444444444,
                            "#bd3786"
                          ],
                          [
                            0.5555555555555556,
                            "#d8576b"
                          ],
                          [
                            0.6666666666666666,
                            "#ed7953"
                          ],
                          [
                            0.7777777777777778,
                            "#fb9f3a"
                          ],
                          [
                            0.8888888888888888,
                            "#fdca26"
                          ],
                          [
                            1,
                            "#f0f921"
                          ]
                        ],
                        "type": "heatmapgl"
                      }
                    ],
                    "histogram": [
                      {
                        "marker": {
                          "pattern": {
                            "fillmode": "overlay",
                            "size": 10,
                            "solidity": 0.2
                          }
                        },
                        "type": "histogram"
                      }
                    ],
                    "histogram2d": [
                      {
                        "colorbar": {
                          "outlinewidth": 0,
                          "ticks": ""
                        },
                        "colorscale": [
                          [
                            0,
                            "#0d0887"
                          ],
                          [
                            0.1111111111111111,
                            "#46039f"
                          ],
                          [
                            0.2222222222222222,
                            "#7201a8"
                          ],
                          [
                            0.3333333333333333,
                            "#9c179e"
                          ],
                          [
                            0.4444444444444444,
                            "#bd3786"
                          ],
                          [
                            0.5555555555555556,
                            "#d8576b"
                          ],
                          [
                            0.6666666666666666,
                            "#ed7953"
                          ],
                          [
                            0.7777777777777778,
                            "#fb9f3a"
                          ],
                          [
                            0.8888888888888888,
                            "#fdca26"
                          ],
                          [
                            1,
                            "#f0f921"
                          ]
                        ],
                        "type": "histogram2d"
                      }
                    ],
                    "histogram2dcontour": [
                      {
                        "colorbar": {
                          "outlinewidth": 0,
                          "ticks": ""
                        },
                        "colorscale": [
                          [
                            0,
                            "#0d0887"
                          ],
                          [
                            0.1111111111111111,
                            "#46039f"
                          ],
                          [
                            0.2222222222222222,
                            "#7201a8"
                          ],
                          [
                            0.3333333333333333,
                            "#9c179e"
                          ],
                          [
                            0.4444444444444444,
                            "#bd3786"
                          ],
                          [
                            0.5555555555555556,
                            "#d8576b"
                          ],
                          [
                            0.6666666666666666,
                            "#ed7953"
                          ],
                          [
                            0.7777777777777778,
                            "#fb9f3a"
                          ],
                          [
                            0.8888888888888888,
                            "#fdca26"
                          ],
                          [
                            1,
                            "#f0f921"
                          ]
                        ],
                        "type": "histogram2dcontour"
                      }
                    ],
                    "mesh3d": [
                      {
                        "colorbar": {
                          "outlinewidth": 0,
                          "ticks": ""
                        },
                        "type": "mesh3d"
                      }
                    ],
                    "parcoords": [
                      {
                        "line": {
                          "colorbar": {
                            "outlinewidth": 0,
                            "ticks": ""
                          }
                        },
                        "type": "parcoords"
                      }
                    ],
                    "pie": [
                      {
                        "automargin": true,
                        "type": "pie"
                      }
                    ],
                    "scatter": [
                      {
                        "marker": {
                          "line": {
                            "color": "#283442"
                          }
                        },
                        "type": "scatter"
                      }
                    ],
                    "scatter3d": [
                      {
                        "line": {
                          "colorbar": {
                            "outlinewidth": 0,
                            "ticks": ""
                          }
                        },
                        "marker": {
                          "colorbar": {
                            "outlinewidth": 0,
                            "ticks": ""
                          }
                        },
                        "type": "scatter3d"
                      }
                    ],
                    "scattercarpet": [
                      {
                        "marker": {
                          "colorbar": {
                            "outlinewidth": 0,
                            "ticks": ""
                          }
                        },
                        "type": "scattercarpet"
                      }
                    ],
                    "scattergeo": [
                      {
                        "marker": {
                          "colorbar": {
                            "outlinewidth": 0,
                            "ticks": ""
                          }
                        },
                        "type": "scattergeo"
                      }
                    ],
                    "scattergl": [
                      {
                        "marker": {
                          "line": {
                            "color": "#283442"
                          }
                        },
                        "type": "scattergl"
                      }
                    ],
                    "scattermapbox": [
                      {
                        "marker": {
                          "colorbar": {
                            "outlinewidth": 0,
                            "ticks": ""
                          }
                        },
                        "type": "scattermapbox"
                      }
                    ],
                    "scatterpolar": [
                      {
                        "marker": {
                          "colorbar": {
                            "outlinewidth": 0,
                            "ticks": ""
                          }
                        },
                        "type": "scatterpolar"
                      }
                    ],
                    "scatterpolargl": [
                      {
                        "marker": {
                          "colorbar": {
                            "outlinewidth": 0,
                            "ticks": ""
                          }
                        },
                        "type": "scatterpolargl"
                      }
                    ],
                    "scatterternary": [
                      {
                        "marker": {
                          "colorbar": {
                            "outlinewidth": 0,
                            "ticks": ""
                          }
                        },
                        "type": "scatterternary"
                      }
                    ],
                    "surface": [
                      {
                        "colorbar": {
                          "outlinewidth": 0,
                          "ticks": ""
                        },
                        "colorscale": [
                          [
                            0,
                            "#0d0887"
                          ],
                          [
                            0.1111111111111111,
                            "#46039f"
                          ],
                          [
                            0.2222222222222222,
                            "#7201a8"
                          ],
                          [
                            0.3333333333333333,
                            "#9c179e"
                          ],
                          [
                            0.4444444444444444,
                            "#bd3786"
                          ],
                          [
                            0.5555555555555556,
                            "#d8576b"
                          ],
                          [
                            0.6666666666666666,
                            "#ed7953"
                          ],
                          [
                            0.7777777777777778,
                            "#fb9f3a"
                          ],
                          [
                            0.8888888888888888,
                            "#fdca26"
                          ],
                          [
                            1,
                            "#f0f921"
                          ]
                        ],
                        "type": "surface"
                      }
                    ],
                    "table": [
                      {
                        "cells": {
                          "fill": {
                            "color": "#506784"
                          },
                          "line": {
                            "color": "rgb(17,17,17)"
                          }
                        },
                        "header": {
                          "fill": {
                            "color": "#2a3f5f"
                          },
                          "line": {
                            "color": "rgb(17,17,17)"
                          }
                        },
                        "type": "table"
                      }
                    ]
                  },
                  "layout": {
                    "annotationdefaults": {
                      "arrowcolor": "#f2f5fa",
                      "arrowhead": 0,
                      "arrowwidth": 1
                    },
                    "autosize": false,
                    "autotypenumbers": "strict",
                    "coloraxis": {
                      "colorbar": {
                        "outlinewidth": 0,
                        "ticks": ""
                      }
                    },
                    "colorscale": {
                      "diverging": [
                        [
                          0,
                          "#8e0152"
                        ],
                        [
                          0.1,
                          "#c51b7d"
                        ],
                        [
                          0.2,
                          "#de77ae"
                        ],
                        [
                          0.3,
                          "#f1b6da"
                        ],
                        [
                          0.4,
                          "#fde0ef"
                        ],
                        [
                          0.5,
                          "#f7f7f7"
                        ],
                        [
                          0.6,
                          "#e6f5d0"
                        ],
                        [
                          0.7,
                          "#b8e186"
                        ],
                        [
                          0.8,
                          "#7fbc41"
                        ],
                        [
                          0.9,
                          "#4d9221"
                        ],
                        [
                          1,
                          "#276419"
                        ]
                      ],
                      "sequential": [
                        [
                          0,
                          "#0d0887"
                        ],
                        [
                          0.1111111111111111,
                          "#46039f"
                        ],
                        [
                          0.2222222222222222,
                          "#7201a8"
                        ],
                        [
                          0.3333333333333333,
                          "#9c179e"
                        ],
                        [
                          0.4444444444444444,
                          "#bd3786"
                        ],
                        [
                          0.5555555555555556,
                          "#d8576b"
                        ],
                        [
                          0.6666666666666666,
                          "#ed7953"
                        ],
                        [
                          0.7777777777777778,
                          "#fb9f3a"
                        ],
                        [
                          0.8888888888888888,
                          "#fdca26"
                        ],
                        [
                          1,
                          "#f0f921"
                        ]
                      ],
                      "sequentialminus": [
                        [
                          0,
                          "#0d0887"
                        ],
                        [
                          0.1111111111111111,
                          "#46039f"
                        ],
                        [
                          0.2222222222222222,
                          "#7201a8"
                        ],
                        [
                          0.3333333333333333,
                          "#9c179e"
                        ],
                        [
                          0.4444444444444444,
                          "#bd3786"
                        ],
                        [
                          0.5555555555555556,
                          "#d8576b"
                        ],
                        [
                          0.6666666666666666,
                          "#ed7953"
                        ],
                        [
                          0.7777777777777778,
                          "#fb9f3a"
                        ],
                        [
                          0.8888888888888888,
                          "#fdca26"
                        ],
                        [
                          1,
                          "#f0f921"
                        ]
                      ]
                    },
                    "colorway": [
                      "#636efa",
                      "#EF553B",
                      "#00cc96",
                      "#ab63fa",
                      "#FFA15A",
                      "#19d3f3",
                      "#FF6692",
                      "#B6E880",
                      "#FF97FF",
                      "#FECB52"
                    ],
                    "font": {
                      "color": "#f2f5fa"
                    },
                    "geo": {
                      "bgcolor": "rgb(17,17,17)",
                      "lakecolor": "rgb(17,17,17)",
                      "landcolor": "rgb(17,17,17)",
                      "showlakes": true,
                      "showland": true,
                      "subunitcolor": "#506784"
                    },
                    "height": 500,
                    "hoverlabel": {
                      "align": "left"
                    },
                    "hovermode": "closest",
                    "mapbox": {
                      "style": "dark"
                    },
                    "paper_bgcolor": "rgb(17,17,17)",
                    "plot_bgcolor": "rgb(17,17,17)",
                    "polar": {
                      "angularaxis": {
                        "gridcolor": "#506784",
                        "linecolor": "#506784",
                        "ticks": ""
                      },
                      "bgcolor": "rgb(17,17,17)",
                      "radialaxis": {
                        "gridcolor": "#506784",
                        "linecolor": "#506784",
                        "ticks": ""
                      }
                    },
                    "scene": {
                      "xaxis": {
                        "backgroundcolor": "rgb(17,17,17)",
                        "gridcolor": "#506784",
                        "gridwidth": 2,
                        "linecolor": "#506784",
                        "showbackground": true,
                        "ticks": "",
                        "zerolinecolor": "#C8D4E3"
                      },
                      "yaxis": {
                        "backgroundcolor": "rgb(17,17,17)",
                        "gridcolor": "#506784",
                        "gridwidth": 2,
                        "linecolor": "#506784",
                        "showbackground": true,
                        "ticks": "",
                        "zerolinecolor": "#C8D4E3"
                      },
                      "zaxis": {
                        "backgroundcolor": "rgb(17,17,17)",
                        "gridcolor": "#506784",
                        "gridwidth": 2,
                        "linecolor": "#506784",
                        "showbackground": true,
                        "ticks": "",
                        "zerolinecolor": "#C8D4E3"
                      }
                    },
                    "shapedefaults": {
                      "line": {
                        "color": "#f2f5fa"
                      }
                    },
                    "showlegend": true,
                    "sliderdefaults": {
                      "bgcolor": "#C8D4E3",
                      "bordercolor": "rgb(17,17,17)",
                      "borderwidth": 1,
                      "tickwidth": 0
                    },
                    "ternary": {
                      "aaxis": {
                        "gridcolor": "#506784",
                        "linecolor": "#506784",
                        "ticks": ""
                      },
                      "baxis": {
                        "gridcolor": "#506784",
                        "linecolor": "#506784",
                        "ticks": ""
                      },
                      "bgcolor": "rgb(17,17,17)",
                      "caxis": {
                        "gridcolor": "#506784",
                        "linecolor": "#506784",
                        "ticks": ""
                      }
                    },
                    "title": {
                      "x": 0.05
                    },
                    "updatemenudefaults": {
                      "bgcolor": "#506784",
                      "borderwidth": 0
                    },
                    "width": 1000,
                    "xaxis": {
                      "automargin": true,
                      "gridcolor": "#283442",
                      "linecolor": "#506784",
                      "ticks": "",
                      "title": {
                        "standoff": 15
                      },
                      "zerolinecolor": "#283442",
                      "zerolinewidth": 2
                    },
                    "yaxis": {
                      "automargin": true,
                      "gridcolor": "#283442",
                      "linecolor": "#506784",
                      "ticks": "",
                      "title": {
                        "standoff": 15
                      },
                      "zerolinecolor": "#283442",
                      "zerolinewidth": 2
                    }
                  }
                },
                "xaxis": {
                  "anchor": "y",
                  "domain": [
                    0,
                    1
                  ],
                  "title": {
                    "text": "index"
                  }
                },
                "yaxis": {
                  "anchor": "x",
                  "domain": [
                    0,
                    1
                  ],
                  "title": {
                    "text": "value"
                  }
                }
              }
            }
          },
          "metadata": {},
          "output_type": "display_data"
        }
      ],
      "source": [
        "import numpy as np\n",
        "\n",
        "df = series.to_frame()\n",
        "df[\"values_log\"] = np.log(df[\"values\"])\n",
        "\n",
        "df_forecast = utils.get_model_forecast(\n",
        "    df, \"values_log\", order=(12, 1, 1), horizon=96, forecast_exp=True\n",
        ")\n",
        "df_forecast = utils.get_model_forecast(\n",
        "    df_forecast,\n",
        "    \"values_log\",\n",
        "    order=(0, 1, 1),\n",
        "    seasonal_order=(0, 1, 1, 12),\n",
        "    horizon=96,\n",
        "    forecast_exp=True,\n",
        ")\n",
        "df_forecast = utils.get_model_forecast_exponential_smoothing(\n",
        "    df_forecast,\n",
        "    \"values\",\n",
        "    horizon=96,\n",
        "    class_config={\"trend\": \"add\", \"seasonal\": \"mul\", \"seasonal_periods\": 12},\n",
        ")\n",
        "df_forecast = utils.get_model_forecast_prophet(\n",
        "    df_forecast, \"values\", mode=\"multiplicative\", horizon=96\n",
        ")\n",
        "\n",
        "df_forecast = df_forecast.drop(columns=[\"values_log\"])\n",
        "df_forecast.plot(color=\"variable\")"
      ]
    },
    {
      "cell_type": "markdown",
      "id": "f84b48f6",
      "metadata": {},
      "source": [
        "## Diagnostics and assumptions"
      ]
    },
    {
      "cell_type": "markdown",
      "id": "6a513a00",
      "metadata": {},
      "source": [
        "Although Prophet is robust and doesn’t require stationarity or normal residuals, residual analysis helps confirm quality."
      ]
    },
    {
      "cell_type": "markdown",
      "id": "bdf6c76a",
      "metadata": {},
      "source": [
        "### Residual calculation"
      ]
    },
    {
      "cell_type": "code",
      "execution_count": 15,
      "id": "76d837ab",
      "metadata": {},
      "outputs": [
        {
          "name": "stderr",
          "output_type": "stream",
          "text": [
            "11:03:06 - cmdstanpy - INFO - Chain [1] start processing\n",
            "11:03:06 - cmdstanpy - INFO - Chain [1] done processing\n"
          ]
        },
        {
          "data": {
            "text/plain": [
              "ds\n",
              "1949-01-31     9.102743\n",
              "1949-02-28    17.532820\n",
              "                ...    \n",
              "1960-11-30    -0.823304\n",
              "1960-12-31    -2.804351\n",
              "Name: residuals, Length: 144, dtype: float64"
            ]
          },
          "execution_count": 15,
          "metadata": {},
          "output_type": "execute_result"
        }
      ],
      "source": [
        "model = Prophet(\n",
        "    yearly_seasonality=True,\n",
        "    weekly_seasonality=False,\n",
        "    daily_seasonality=False,\n",
        "    holidays=holidays,\n",
        "    seasonality_mode=\"multiplicative\",\n",
        ")\n",
        "\n",
        "df = pd.DataFrame({\n",
        "    'ds': series.index,\n",
        "    'y': series.values\n",
        "})\n",
        "\n",
        "model.fit(df)\n",
        "\n",
        "forecast = model.predict(df)\n",
        "\n",
        "df_forecast = forecast.set_index(\"ds\")[[\"yhat\"]].join(df.set_index(\"ds\"))\n",
        "df_forecast[\"residuals\"] = df_forecast[\"y\"] - df_forecast[\"yhat\"]\n",
        "\n",
        "residuals = df_forecast[\"residuals\"].dropna()\n",
        "residuals"
      ]
    },
    {
      "cell_type": "markdown",
      "id": "597610fe",
      "metadata": {},
      "source": [
        "### Autocorrelation"
      ]
    },
    {
      "cell_type": "markdown",
      "id": "c4951d84",
      "metadata": {},
      "source": [
        "#### Plot"
      ]
    },
    {
      "cell_type": "code",
      "execution_count": 16,
      "id": "fd82727b",
      "metadata": {},
      "outputs": [
        {
          "data": {
            "image/png": "[encoded data removed]",
            "text/plain": [
              "<Figure size 640x480 with 1 Axes>"
            ]
          },
          "metadata": {},
          "output_type": "display_data"
        }
      ],
      "source": [
        "from statsmodels.graphics.tsaplots import plot_acf\n",
        "plot_acf(residuals);"
      ]
    },
    {
      "cell_type": "markdown",
      "id": "dbf00de4",
      "metadata": {},
      "source": [
        "#### Test: Ljung-Box"
      ]
    },
    {
      "cell_type": "code",
      "execution_count": 17,
      "id": "d7d049f7",
      "metadata": {},
      "outputs": [
        {
          "data": {
            "text/html": [
              "<style type=\"text/css\">\n",
              "</style>\n",
              "<table id=\"T_d8493\">\n",
              "  <thead>\n",
              "    <tr>\n",
              "      <th class=\"blank level0\" >&nbsp;</th>\n",
              "      <th id=\"T_d8493_level0_col0\" class=\"col_heading level0 col0\" >lb_stat</th>\n",
              "      <th id=\"T_d8493_level0_col1\" class=\"col_heading level0 col1\" >lb_pvalue</th>\n",
              "    </tr>\n",
              "  </thead>\n",
              "  <tbody>\n",
              "    <tr>\n",
              "      <th id=\"T_d8493_level0_row0\" class=\"row_heading level0 row0\" >10</th>\n",
              "      <td id=\"T_d8493_row0_col0\" class=\"data row0 col0\" >82.668229</td>\n",
              "      <td id=\"T_d8493_row0_col1\" class=\"data row0 col1\" >0.000000</td>\n",
              "    </tr>\n",
              "    <tr>\n",
              "      <th id=\"T_d8493_level0_row1\" class=\"row_heading level0 row1\" >20</th>\n",
              "      <td id=\"T_d8493_row1_col0\" class=\"data row1 col0\" >167.529442</td>\n",
              "      <td id=\"T_d8493_row1_col1\" class=\"data row1 col1\" >0.000000</td>\n",
              "    </tr>\n",
              "    <tr>\n",
              "      <th id=\"T_d8493_level0_row2\" class=\"row_heading level0 row2\" >30</th>\n",
              "      <td id=\"T_d8493_row2_col0\" class=\"data row2 col0\" >219.288026</td>\n",
              "      <td id=\"T_d8493_row2_col1\" class=\"data row2 col1\" >0.000000</td>\n",
              "    </tr>\n",
              "  </tbody>\n",
              "</table>\n"
            ],
            "text/plain": [
              "<pandas.io.formats.style.Styler at 0x320537380>"
            ]
          },
          "execution_count": 17,
          "metadata": {},
          "output_type": "execute_result"
        }
      ],
      "source": [
        "from statsmodels.stats.diagnostic import acorr_ljungbox\n",
        "acorr_ljungbox(residuals, lags=[10, 20, 30]).style"
      ]
    },
    {
      "cell_type": "markdown",
      "id": "5c34e9c6",
      "metadata": {},
      "source": [
        "### Normality"
      ]
    },
    {
      "cell_type": "markdown",
      "id": "a3e45393",
      "metadata": {},
      "source": [
        "#### Plot"
      ]
    },
    {
      "cell_type": "code",
      "execution_count": 18,
      "id": "894c7398",
      "metadata": {},
      "outputs": [
        {
          "data": {
            "image/png": "[encoded data removed]",
            "text/plain": [
              "<Figure size 640x480 with 1 Axes>"
            ]
          },
          "metadata": {},
          "output_type": "display_data"
        }
      ],
      "source": [
        "from scipy import stats\n",
        "import matplotlib.pyplot as plt\n",
        "\n",
        "fig, ax = plt.subplots()\n",
        "stats.probplot(residuals, dist='norm', plot=ax);"
      ]
    },
    {
      "cell_type": "markdown",
      "id": "f52c25db",
      "metadata": {},
      "source": [
        "#### Test: Jarque-Bera"
      ]
    },
    {
      "cell_type": "code",
      "execution_count": 19,
      "id": "c29d030b",
      "metadata": {},
      "outputs": [
        {
          "data": {
            "text/plain": [
              "SignificanceResult(statistic=np.float64(0.018871983201470002), pvalue=np.float64(0.9906083876708386))"
            ]
          },
          "execution_count": 19,
          "metadata": {},
          "output_type": "execute_result"
        }
      ],
      "source": [
        "from scipy.stats import jarque_bera\n",
        "jarque_bera(residuals)"
      ]
    },
    {
      "cell_type": "markdown",
      "id": "dcc9bbb1",
      "metadata": {},
      "source": [
        "### Homoscedasticity"
      ]
    },
    {
      "cell_type": "markdown",
      "id": "4e7417d5",
      "metadata": {},
      "source": [
        "#### Plot"
      ]
    },
    {
      "cell_type": "code",
      "execution_count": 20,
      "id": "f8b0c1dd",
      "metadata": {},
      "outputs": [
        {
          "data": {
            "application/vnd.plotly.v1+json": {
              "config": {
                "plotlyServerURL": "https://plot.ly"
              },
              "data": [
                {
                  "hovertemplate": "variable=residuals<br>ds=%{x}<br>value=%{y}<extra></extra>",
                  "legendgroup": "residuals",
                  "line": {
                    "color": "#636efa",
                    "dash": "solid"
                  },
                  "marker": {
                    "symbol": "circle"
                  },
                  "mode": "lines",
                  "name": "residuals",
                  "orientation": "v",
                  "showlegend": true,
                  "type": "scatter",
                  "x": [
                    "1949-01-31T00:00:00",
                    "1949-02-28T00:00:00",
                    "1949-03-31T00:00:00",
                    "1949-04-30T00:00:00",
                    "1949-05-31T00:00:00",
                    "1949-06-30T00:00:00",
                    "1949-07-31T00:00:00",
                    "1949-08-31T00:00:00",
                    "1949-09-30T00:00:00",
                    "1949-10-31T00:00:00",
                    "1949-11-30T00:00:00",
                    "1949-12-31T00:00:00",
                    "1950-01-31T00:00:00",
                    "1950-02-28T00:00:00",
                    "1950-03-31T00:00:00",
                    "1950-04-30T00:00:00",
                    "1950-05-31T00:00:00",
                    "1950-06-30T00:00:00",
                    "1950-07-31T00:00:00",
                    "1950-08-31T00:00:00",
                    "1950-09-30T00:00:00",
                    "1950-10-31T00:00:00",
                    "1950-11-30T00:00:00",
                    "1950-12-31T00:00:00",
                    "1951-01-31T00:00:00",
                    "1951-02-28T00:00:00",
                    "1951-03-31T00:00:00",
                    "1951-04-30T00:00:00",
                    "1951-05-31T00:00:00",
                    "1951-06-30T00:00:00",
                    "1951-07-31T00:00:00",
                    "1951-08-31T00:00:00",
                    "1951-09-30T00:00:00",
                    "1951-10-31T00:00:00",
                    "1951-11-30T00:00:00",
                    "1951-12-31T00:00:00",
                    "1952-01-31T00:00:00",
                    "1952-02-29T00:00:00",
                    "1952-03-31T00:00:00",
                    "1952-04-30T00:00:00",
                    "1952-05-31T00:00:00",
                    "1952-06-30T00:00:00",
                    "1952-07-31T00:00:00",
                    "1952-08-31T00:00:00",
                    "1952-09-30T00:00:00",
                    "1952-10-31T00:00:00",
                    "1952-11-30T00:00:00",
                    "1952-12-31T00:00:00",
                    "1953-01-31T00:00:00",
                    "1953-02-28T00:00:00",
                    "1953-03-31T00:00:00",
                    "1953-04-30T00:00:00",
                    "1953-05-31T00:00:00",
                    "1953-06-30T00:00:00",
                    "1953-07-31T00:00:00",
                    "1953-08-31T00:00:00",
                    "1953-09-30T00:00:00",
                    "1953-10-31T00:00:00",
                    "1953-11-30T00:00:00",
                    "1953-12-31T00:00:00",
                    "1954-01-31T00:00:00",
                    "1954-02-28T00:00:00",
                    "1954-03-31T00:00:00",
                    "1954-04-30T00:00:00",
                    "1954-05-31T00:00:00",
                    "1954-06-30T00:00:00",
                    "1954-07-31T00:00:00",
                    "1954-08-31T00:00:00",
                    "1954-09-30T00:00:00",
                    "1954-10-31T00:00:00",
                    "1954-11-30T00:00:00",
                    "1954-12-31T00:00:00",
                    "1955-01-31T00:00:00",
                    "1955-02-28T00:00:00",
                    "1955-03-31T00:00:00",
                    "1955-04-30T00:00:00",
                    "1955-05-31T00:00:00",
                    "1955-06-30T00:00:00",
                    "1955-07-31T00:00:00",
                    "1955-08-31T00:00:00",
                    "1955-09-30T00:00:00",
                    "1955-10-31T00:00:00",
                    "1955-11-30T00:00:00",
                    "1955-12-31T00:00:00",
                    "1956-01-31T00:00:00",
                    "1956-02-29T00:00:00",
                    "1956-03-31T00:00:00",
                    "1956-04-30T00:00:00",
                    "1956-05-31T00:00:00",
                    "1956-06-30T00:00:00",
                    "1956-07-31T00:00:00",
                    "1956-08-31T00:00:00",
                    "1956-09-30T00:00:00",
                    "1956-10-31T00:00:00",
                    "1956-11-30T00:00:00",
                    "1956-12-31T00:00:00",
                    "1957-01-31T00:00:00",
                    "1957-02-28T00:00:00",
                    "1957-03-31T00:00:00",
                    "1957-04-30T00:00:00",
                    "1957-05-31T00:00:00",
                    "1957-06-30T00:00:00",
                    "1957-07-31T00:00:00",
                    "1957-08-31T00:00:00",
                    "1957-09-30T00:00:00",
                    "1957-10-31T00:00:00",
                    "1957-11-30T00:00:00",
                    "1957-12-31T00:00:00",
                    "1958-01-31T00:00:00",
                    "1958-02-28T00:00:00",
                    "1958-03-31T00:00:00",
                    "1958-04-30T00:00:00",
                    "1958-05-31T00:00:00",
                    "1958-06-30T00:00:00",
                    "1958-07-31T00:00:00",
                    "1958-08-31T00:00:00",
                    "1958-09-30T00:00:00",
                    "1958-10-31T00:00:00",
                    "1958-11-30T00:00:00",
                    "1958-12-31T00:00:00",
                    "1959-01-31T00:00:00",
                    "1959-02-28T00:00:00",
                    "1959-03-31T00:00:00",
                    "1959-04-30T00:00:00",
                    "1959-05-31T00:00:00",
                    "1959-06-30T00:00:00",
                    "1959-07-31T00:00:00",
                    "1959-08-31T00:00:00",
                    "1959-09-30T00:00:00",
                    "1959-10-31T00:00:00",
                    "1959-11-30T00:00:00",
                    "1959-12-31T00:00:00",
                    "1960-01-31T00:00:00",
                    "1960-02-29T00:00:00",
                    "1960-03-31T00:00:00",
                    "1960-04-30T00:00:00",
                    "1960-05-31T00:00:00",
                    "1960-06-30T00:00:00",
                    "1960-07-31T00:00:00",
                    "1960-08-31T00:00:00",
                    "1960-09-30T00:00:00",
                    "1960-10-31T00:00:00",
                    "1960-11-30T00:00:00",
                    "1960-12-31T00:00:00"
                  ],
                  "xaxis": "x",
                  "y": [
                    9.102743315170528,
                    17.532820066049823,
                    17.320731261432016,
                    12.80775835258207,
                    1.7764512672189454,
                    -3.1216370526830417,
                    -9.03368952087294,
                    -9.21203258322575,
                    1.3076184381349663,
                    -0.8441045847507667,
                    -0.6334547521511382,
                    0.5696610763737766,
                    -6.798172089581897,
                    9.095676063444216,
                    4.666532217505903,
                    0.1404056210070621,
                    -14.508174409739127,
                    -11.447562332954647,
                    -12.887660312809828,
                    -14.076889493381572,
                    0.6199517463568043,
                    -6.0913835308439275,
                    -8.131150840890555,
                    2.447545198888008,
                    1.968024004146372,
                    14.656991324764931,
                    16.312700748300983,
                    6.431084002861155,
                    8.22294647280242,
                    -9.46477173028208,
                    -15.801959050685127,
                    -17.68264244447647,
                    -0.3355693027941413,
                    0.621866351984238,
                    3.831329938830322,
                    5.7654083064214205,
                    4.426320590545259,
                    18.083946599477713,
                    13.139455727687732,
                    -4.679319907563297,
                    -5.04083845514333,
                    -0.3495264442216808,
                    -16.39039658365158,
                    -2.801751613108621,
                    -0.7307499905219004,
                    3.4974543634560575,
                    9.493253111709947,
                    12.636740334992083,
                    8.759709551537526,
                    13.976878927334411,
                    29.204632643892324,
                    26.406682490070068,
                    15.923349222764415,
                    -2.8065265756460462,
                    -14.26929347267361,
                    -5.422976145771372,
                    0.2541541739645936,
                    1.1923587188798308,
                    -2.48774682635721,
                    -3.025515198977132,
                    -6.82521305618107,
                    -13.68676711283993,
                    0.6347306993854716,
                    -4.042502898438386,
                    -4.1833578440410975,
                    -9.746684889582696,
                    -9.818069340966701,
                    -19.775196293505758,
                    -7.552429314917845,
                    -6.367396025235763,
                    -3.4943038718636785,
                    -3.371715966104034,
                    0.5713088008513978,
                    4.716150774390229,
                    -5.504422294118285,
                    5.317831332574883,
                    -5.615291546355479,
                    -0.2558154926383054,
                    3.0290401759529573,
                    -16.878347595584557,
                    2.6458784274706204,
                    3.352850094490009,
                    -1.28152303349475,
                    9.60912199963974,
                    5.163816594417142,
                    6.113872739694102,
                    16.270813645637304,
                    2.7157471721662887,
                    3.949324840023621,
                    9.527895148120933,
                    1.947237627652271,
                    -3.1831816557880757,
                    5.764207617107957,
                    -5.797185462653829,
                    1.1173441127865544,
                    5.195825908519055,
                    4.847131932198238,
                    0.04908534098103701,
                    14.782350481099854,
                    4.4768197711561015,
                    4.777684891100364,
                    18.990568791245664,
                    9.924580335988821,
                    14.440907002707377,
                    18.714929932412986,
                    6.3793917931711235,
                    9.414350790560093,
                    6.301270003600848,
                    0.09712947938817251,
                    -6.503751164856794,
                    -14.240102397386806,
                    -22.117002201292394,
                    -17.730537641974422,
                    -0.5463920489790439,
                    -2.7823695732247984,
                    10.739389195505282,
                    -16.38046206384837,
                    -10.578670662943466,
                    -12.90174645230752,
                    -24.848754236002037,
                    -14.415021499535044,
                    -10.748253955661255,
                    -13.42540059258755,
                    -8.335993291827151,
                    -1.041930357038268,
                    -7.877359895508107,
                    0.5246158827775389,
                    9.072838953704718,
                    -2.951082455467656,
                    0.7403775040580172,
                    5.481868559118084,
                    4.750699989321845,
                    2.5132239227950777,
                    -10.477606715146123,
                    -25.323441558243417,
                    3.9120070790942236,
                    10.746368141004325,
                    1.2120886899439256,
                    21.728442887598476,
                    11.60741117137843,
                    0.39199882794400764,
                    8.66512969964225,
                    -0.8233042979804281,
                    -2.8043506129627076
                  ],
                  "yaxis": "y"
                }
              ],
              "layout": {
                "legend": {
                  "title": {
                    "text": "variable"
                  },
                  "tracegroupgap": 0
                },
                "margin": {
                  "t": 60
                },
                "template": {
                  "data": {
                    "bar": [
                      {
                        "error_x": {
                          "color": "#f2f5fa"
                        },
                        "error_y": {
                          "color": "#f2f5fa"
                        },
                        "marker": {
                          "line": {
                            "color": "rgb(17,17,17)",
                            "width": 0.5
                          },
                          "pattern": {
                            "fillmode": "overlay",
                            "size": 10,
                            "solidity": 0.2
                          }
                        },
                        "type": "bar"
                      }
                    ],
                    "barpolar": [
                      {
                        "marker": {
                          "line": {
                            "color": "rgb(17,17,17)",
                            "width": 0.5
                          },
                          "pattern": {
                            "fillmode": "overlay",
                            "size": 10,
                            "solidity": 0.2
                          }
                        },
                        "type": "barpolar"
                      }
                    ],
                    "carpet": [
                      {
                        "aaxis": {
                          "endlinecolor": "#A2B1C6",
                          "gridcolor": "#506784",
                          "linecolor": "#506784",
                          "minorgridcolor": "#506784",
                          "startlinecolor": "#A2B1C6"
                        },
                        "baxis": {
                          "endlinecolor": "#A2B1C6",
                          "gridcolor": "#506784",
                          "linecolor": "#506784",
                          "minorgridcolor": "#506784",
                          "startlinecolor": "#A2B1C6"
                        },
                        "type": "carpet"
                      }
                    ],
                    "choropleth": [
                      {
                        "colorbar": {
                          "outlinewidth": 0,
                          "ticks": ""
                        },
                        "type": "choropleth"
                      }
                    ],
                    "contour": [
                      {
                        "colorbar": {
                          "outlinewidth": 0,
                          "ticks": ""
                        },
                        "colorscale": [
                          [
                            0,
                            "#0d0887"
                          ],
                          [
                            0.1111111111111111,
                            "#46039f"
                          ],
                          [
                            0.2222222222222222,
                            "#7201a8"
                          ],
                          [
                            0.3333333333333333,
                            "#9c179e"
                          ],
                          [
                            0.4444444444444444,
                            "#bd3786"
                          ],
                          [
                            0.5555555555555556,
                            "#d8576b"
                          ],
                          [
                            0.6666666666666666,
                            "#ed7953"
                          ],
                          [
                            0.7777777777777778,
                            "#fb9f3a"
                          ],
                          [
                            0.8888888888888888,
                            "#fdca26"
                          ],
                          [
                            1,
                            "#f0f921"
                          ]
                        ],
                        "type": "contour"
                      }
                    ],
                    "contourcarpet": [
                      {
                        "colorbar": {
                          "outlinewidth": 0,
                          "ticks": ""
                        },
                        "type": "contourcarpet"
                      }
                    ],
                    "heatmap": [
                      {
                        "colorbar": {
                          "outlinewidth": 0,
                          "ticks": ""
                        },
                        "colorscale": [
                          [
                            0,
                            "#0d0887"
                          ],
                          [
                            0.1111111111111111,
                            "#46039f"
                          ],
                          [
                            0.2222222222222222,
                            "#7201a8"
                          ],
                          [
                            0.3333333333333333,
                            "#9c179e"
                          ],
                          [
                            0.4444444444444444,
                            "#bd3786"
                          ],
                          [
                            0.5555555555555556,
                            "#d8576b"
                          ],
                          [
                            0.6666666666666666,
                            "#ed7953"
                          ],
                          [
                            0.7777777777777778,
                            "#fb9f3a"
                          ],
                          [
                            0.8888888888888888,
                            "#fdca26"
                          ],
                          [
                            1,
                            "#f0f921"
                          ]
                        ],
                        "type": "heatmap"
                      }
                    ],
                    "heatmapgl": [
                      {
                        "colorbar": {
                          "outlinewidth": 0,
                          "ticks": ""
                        },
                        "colorscale": [
                          [
                            0,
                            "#0d0887"
                          ],
                          [
                            0.1111111111111111,
                            "#46039f"
                          ],
                          [
                            0.2222222222222222,
                            "#7201a8"
                          ],
                          [
                            0.3333333333333333,
                            "#9c179e"
                          ],
                          [
                            0.4444444444444444,
                            "#bd3786"
                          ],
                          [
                            0.5555555555555556,
                            "#d8576b"
                          ],
                          [
                            0.6666666666666666,
                            "#ed7953"
                          ],
                          [
                            0.7777777777777778,
                            "#fb9f3a"
                          ],
                          [
                            0.8888888888888888,
                            "#fdca26"
                          ],
                          [
                            1,
                            "#f0f921"
                          ]
                        ],
                        "type": "heatmapgl"
                      }
                    ],
                    "histogram": [
                      {
                        "marker": {
                          "pattern": {
                            "fillmode": "overlay",
                            "size": 10,
                            "solidity": 0.2
                          }
                        },
                        "type": "histogram"
                      }
                    ],
                    "histogram2d": [
                      {
                        "colorbar": {
                          "outlinewidth": 0,
                          "ticks": ""
                        },
                        "colorscale": [
                          [
                            0,
                            "#0d0887"
                          ],
                          [
                            0.1111111111111111,
                            "#46039f"
                          ],
                          [
                            0.2222222222222222,
                            "#7201a8"
                          ],
                          [
                            0.3333333333333333,
                            "#9c179e"
                          ],
                          [
                            0.4444444444444444,
                            "#bd3786"
                          ],
                          [
                            0.5555555555555556,
                            "#d8576b"
                          ],
                          [
                            0.6666666666666666,
                            "#ed7953"
                          ],
                          [
                            0.7777777777777778,
                            "#fb9f3a"
                          ],
                          [
                            0.8888888888888888,
                            "#fdca26"
                          ],
                          [
                            1,
                            "#f0f921"
                          ]
                        ],
                        "type": "histogram2d"
                      }
                    ],
                    "histogram2dcontour": [
                      {
                        "colorbar": {
                          "outlinewidth": 0,
                          "ticks": ""
                        },
                        "colorscale": [
                          [
                            0,
                            "#0d0887"
                          ],
                          [
                            0.1111111111111111,
                            "#46039f"
                          ],
                          [
                            0.2222222222222222,
                            "#7201a8"
                          ],
                          [
                            0.3333333333333333,
                            "#9c179e"
                          ],
                          [
                            0.4444444444444444,
                            "#bd3786"
                          ],
                          [
                            0.5555555555555556,
                            "#d8576b"
                          ],
                          [
                            0.6666666666666666,
                            "#ed7953"
                          ],
                          [
                            0.7777777777777778,
                            "#fb9f3a"
                          ],
                          [
                            0.8888888888888888,
                            "#fdca26"
                          ],
                          [
                            1,
                            "#f0f921"
                          ]
                        ],
                        "type": "histogram2dcontour"
                      }
                    ],
                    "mesh3d": [
                      {
                        "colorbar": {
                          "outlinewidth": 0,
                          "ticks": ""
                        },
                        "type": "mesh3d"
                      }
                    ],
                    "parcoords": [
                      {
                        "line": {
                          "colorbar": {
                            "outlinewidth": 0,
                            "ticks": ""
                          }
                        },
                        "type": "parcoords"
                      }
                    ],
                    "pie": [
                      {
                        "automargin": true,
                        "type": "pie"
                      }
                    ],
                    "scatter": [
                      {
                        "marker": {
                          "line": {
                            "color": "#283442"
                          }
                        },
                        "type": "scatter"
                      }
                    ],
                    "scatter3d": [
                      {
                        "line": {
                          "colorbar": {
                            "outlinewidth": 0,
                            "ticks": ""
                          }
                        },
                        "marker": {
                          "colorbar": {
                            "outlinewidth": 0,
                            "ticks": ""
                          }
                        },
                        "type": "scatter3d"
                      }
                    ],
                    "scattercarpet": [
                      {
                        "marker": {
                          "colorbar": {
                            "outlinewidth": 0,
                            "ticks": ""
                          }
                        },
                        "type": "scattercarpet"
                      }
                    ],
                    "scattergeo": [
                      {
                        "marker": {
                          "colorbar": {
                            "outlinewidth": 0,
                            "ticks": ""
                          }
                        },
                        "type": "scattergeo"
                      }
                    ],
                    "scattergl": [
                      {
                        "marker": {
                          "line": {
                            "color": "#283442"
                          }
                        },
                        "type": "scattergl"
                      }
                    ],
                    "scattermapbox": [
                      {
                        "marker": {
                          "colorbar": {
                            "outlinewidth": 0,
                            "ticks": ""
                          }
                        },
                        "type": "scattermapbox"
                      }
                    ],
                    "scatterpolar": [
                      {
                        "marker": {
                          "colorbar": {
                            "outlinewidth": 0,
                            "ticks": ""
                          }
                        },
                        "type": "scatterpolar"
                      }
                    ],
                    "scatterpolargl": [
                      {
                        "marker": {
                          "colorbar": {
                            "outlinewidth": 0,
                            "ticks": ""
                          }
                        },
                        "type": "scatterpolargl"
                      }
                    ],
                    "scatterternary": [
                      {
                        "marker": {
                          "colorbar": {
                            "outlinewidth": 0,
                            "ticks": ""
                          }
                        },
                        "type": "scatterternary"
                      }
                    ],
                    "surface": [
                      {
                        "colorbar": {
                          "outlinewidth": 0,
                          "ticks": ""
                        },
                        "colorscale": [
                          [
                            0,
                            "#0d0887"
                          ],
                          [
                            0.1111111111111111,
                            "#46039f"
                          ],
                          [
                            0.2222222222222222,
                            "#7201a8"
                          ],
                          [
                            0.3333333333333333,
                            "#9c179e"
                          ],
                          [
                            0.4444444444444444,
                            "#bd3786"
                          ],
                          [
                            0.5555555555555556,
                            "#d8576b"
                          ],
                          [
                            0.6666666666666666,
                            "#ed7953"
                          ],
                          [
                            0.7777777777777778,
                            "#fb9f3a"
                          ],
                          [
                            0.8888888888888888,
                            "#fdca26"
                          ],
                          [
                            1,
                            "#f0f921"
                          ]
                        ],
                        "type": "surface"
                      }
                    ],
                    "table": [
                      {
                        "cells": {
                          "fill": {
                            "color": "#506784"
                          },
                          "line": {
                            "color": "rgb(17,17,17)"
                          }
                        },
                        "header": {
                          "fill": {
                            "color": "#2a3f5f"
                          },
                          "line": {
                            "color": "rgb(17,17,17)"
                          }
                        },
                        "type": "table"
                      }
                    ]
                  },
                  "layout": {
                    "annotationdefaults": {
                      "arrowcolor": "#f2f5fa",
                      "arrowhead": 0,
                      "arrowwidth": 1
                    },
                    "autosize": false,
                    "autotypenumbers": "strict",
                    "coloraxis": {
                      "colorbar": {
                        "outlinewidth": 0,
                        "ticks": ""
                      }
                    },
                    "colorscale": {
                      "diverging": [
                        [
                          0,
                          "#8e0152"
                        ],
                        [
                          0.1,
                          "#c51b7d"
                        ],
                        [
                          0.2,
                          "#de77ae"
                        ],
                        [
                          0.3,
                          "#f1b6da"
                        ],
                        [
                          0.4,
                          "#fde0ef"
                        ],
                        [
                          0.5,
                          "#f7f7f7"
                        ],
                        [
                          0.6,
                          "#e6f5d0"
                        ],
                        [
                          0.7,
                          "#b8e186"
                        ],
                        [
                          0.8,
                          "#7fbc41"
                        ],
                        [
                          0.9,
                          "#4d9221"
                        ],
                        [
                          1,
                          "#276419"
                        ]
                      ],
                      "sequential": [
                        [
                          0,
                          "#0d0887"
                        ],
                        [
                          0.1111111111111111,
                          "#46039f"
                        ],
                        [
                          0.2222222222222222,
                          "#7201a8"
                        ],
                        [
                          0.3333333333333333,
                          "#9c179e"
                        ],
                        [
                          0.4444444444444444,
                          "#bd3786"
                        ],
                        [
                          0.5555555555555556,
                          "#d8576b"
                        ],
                        [
                          0.6666666666666666,
                          "#ed7953"
                        ],
                        [
                          0.7777777777777778,
                          "#fb9f3a"
                        ],
                        [
                          0.8888888888888888,
                          "#fdca26"
                        ],
                        [
                          1,
                          "#f0f921"
                        ]
                      ],
                      "sequentialminus": [
                        [
                          0,
                          "#0d0887"
                        ],
                        [
                          0.1111111111111111,
                          "#46039f"
                        ],
                        [
                          0.2222222222222222,
                          "#7201a8"
                        ],
                        [
                          0.3333333333333333,
                          "#9c179e"
                        ],
                        [
                          0.4444444444444444,
                          "#bd3786"
                        ],
                        [
                          0.5555555555555556,
                          "#d8576b"
                        ],
                        [
                          0.6666666666666666,
                          "#ed7953"
                        ],
                        [
                          0.7777777777777778,
                          "#fb9f3a"
                        ],
                        [
                          0.8888888888888888,
                          "#fdca26"
                        ],
                        [
                          1,
                          "#f0f921"
                        ]
                      ]
                    },
                    "colorway": [
                      "#636efa",
                      "#EF553B",
                      "#00cc96",
                      "#ab63fa",
                      "#FFA15A",
                      "#19d3f3",
                      "#FF6692",
                      "#B6E880",
                      "#FF97FF",
                      "#FECB52"
                    ],
                    "font": {
                      "color": "#f2f5fa"
                    },
                    "geo": {
                      "bgcolor": "rgb(17,17,17)",
                      "lakecolor": "rgb(17,17,17)",
                      "landcolor": "rgb(17,17,17)",
                      "showlakes": true,
                      "showland": true,
                      "subunitcolor": "#506784"
                    },
                    "height": 500,
                    "hoverlabel": {
                      "align": "left"
                    },
                    "hovermode": "closest",
                    "mapbox": {
                      "style": "dark"
                    },
                    "paper_bgcolor": "rgb(17,17,17)",
                    "plot_bgcolor": "rgb(17,17,17)",
                    "polar": {
                      "angularaxis": {
                        "gridcolor": "#506784",
                        "linecolor": "#506784",
                        "ticks": ""
                      },
                      "bgcolor": "rgb(17,17,17)",
                      "radialaxis": {
                        "gridcolor": "#506784",
                        "linecolor": "#506784",
                        "ticks": ""
                      }
                    },
                    "scene": {
                      "xaxis": {
                        "backgroundcolor": "rgb(17,17,17)",
                        "gridcolor": "#506784",
                        "gridwidth": 2,
                        "linecolor": "#506784",
                        "showbackground": true,
                        "ticks": "",
                        "zerolinecolor": "#C8D4E3"
                      },
                      "yaxis": {
                        "backgroundcolor": "rgb(17,17,17)",
                        "gridcolor": "#506784",
                        "gridwidth": 2,
                        "linecolor": "#506784",
                        "showbackground": true,
                        "ticks": "",
                        "zerolinecolor": "#C8D4E3"
                      },
                      "zaxis": {
                        "backgroundcolor": "rgb(17,17,17)",
                        "gridcolor": "#506784",
                        "gridwidth": 2,
                        "linecolor": "#506784",
                        "showbackground": true,
                        "ticks": "",
                        "zerolinecolor": "#C8D4E3"
                      }
                    },
                    "shapedefaults": {
                      "line": {
                        "color": "#f2f5fa"
                      }
                    },
                    "showlegend": true,
                    "sliderdefaults": {
                      "bgcolor": "#C8D4E3",
                      "bordercolor": "rgb(17,17,17)",
                      "borderwidth": 1,
                      "tickwidth": 0
                    },
                    "ternary": {
                      "aaxis": {
                        "gridcolor": "#506784",
                        "linecolor": "#506784",
                        "ticks": ""
                      },
                      "baxis": {
                        "gridcolor": "#506784",
                        "linecolor": "#506784",
                        "ticks": ""
                      },
                      "bgcolor": "rgb(17,17,17)",
                      "caxis": {
                        "gridcolor": "#506784",
                        "linecolor": "#506784",
                        "ticks": ""
                      }
                    },
                    "title": {
                      "x": 0.05
                    },
                    "updatemenudefaults": {
                      "bgcolor": "#506784",
                      "borderwidth": 0
                    },
                    "width": 1000,
                    "xaxis": {
                      "automargin": true,
                      "gridcolor": "#283442",
                      "linecolor": "#506784",
                      "ticks": "",
                      "title": {
                        "standoff": 15
                      },
                      "zerolinecolor": "#283442",
                      "zerolinewidth": 2
                    },
                    "yaxis": {
                      "automargin": true,
                      "gridcolor": "#283442",
                      "linecolor": "#506784",
                      "ticks": "",
                      "title": {
                        "standoff": 15
                      },
                      "zerolinecolor": "#283442",
                      "zerolinewidth": 2
                    }
                  }
                },
                "xaxis": {
                  "anchor": "y",
                  "domain": [
                    0,
                    1
                  ],
                  "title": {
                    "text": "ds"
                  }
                },
                "yaxis": {
                  "anchor": "x",
                  "domain": [
                    0,
                    1
                  ],
                  "title": {
                    "text": "value"
                  }
                }
              }
            }
          },
          "metadata": {},
          "output_type": "display_data"
        }
      ],
      "source": [
        "residuals.plot()"
      ]
    },
    {
      "cell_type": "markdown",
      "id": "8a881322",
      "metadata": {},
      "source": [
        "#### Test"
      ]
    },
    {
      "cell_type": "code",
      "execution_count": 21,
      "id": "057b74c5",
      "metadata": {},
      "outputs": [
        {
          "data": {
            "text/plain": [
              "(np.float64(16.596914206299374),\n",
              " np.float64(0.08377279981299146),\n",
              " 1.7388132803953582,\n",
              " 0.0793106680683477)"
            ]
          },
          "execution_count": 21,
          "metadata": {},
          "output_type": "execute_result"
        }
      ],
      "source": [
        "from statsmodels.stats.diagnostic import het_arch\n",
        "het_arch(residuals)"
      ]
    }
  ],
  "metadata": {
    "kernelspec": {
      "display_name": "time-series",
      "language": "python",
      "name": "python3"
    },
    "language_info": {
      "codemirror_mode": {
        "name": "ipython",
        "version": 3
      },
      "file_extension": ".py",
      "mimetype": "text/x-python",
      "name": "python",
      "nbconvert_exporter": "python",
      "pygments_lexer": "ipython3",
      "version": "3.12.10"
    }
  },
  "nbformat": 4,
  "nbformat_minor": 5
}
