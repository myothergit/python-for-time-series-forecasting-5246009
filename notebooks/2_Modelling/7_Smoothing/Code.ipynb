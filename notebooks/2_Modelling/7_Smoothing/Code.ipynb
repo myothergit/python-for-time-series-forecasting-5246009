{
 "cells": [
  {
   "cell_type": "markdown",
   "id": "3b04136e",
   "metadata": {
    "papermill": {
     "duration": 0.012749,
     "end_time": "2024-05-29T23:02:00.854048",
     "exception": false,
     "start_time": "2024-05-29T23:02:00.841299",
     "status": "completed"
    },
    "tags": []
   },
   "source": [
    "# Smoothing models for time series forecasting"
   ]
  },
  {
   "cell_type": "code",
   "execution_count": 1,
   "id": "b115588a",
   "metadata": {},
   "outputs": [],
   "source": [
    "\n",
    "from modules import utils\n",
    "utils.configure_plotly_template(showlegend=True)"
   ]
  },
  {
   "cell_type": "markdown",
   "id": "2593545c",
   "metadata": {},
   "source": [
    "## Load data"
   ]
  },
  {
   "cell_type": "code",
   "execution_count": 2,
   "id": "72bc9f2a",
   "metadata": {},
   "outputs": [],
   "source": [
    "path = '../../../data/statsmodels/AirPassengers.parquet'"
   ]
  },
  {
   "cell_type": "code",
   "execution_count": 3,
   "id": "be883ebe",
   "metadata": {},
   "outputs": [
    {
     "data": {
      "text/plain": [
       "1949-01-31    112\n",
       "1949-02-28    118\n",
       "             ... \n",
       "1960-11-30    390\n",
       "1960-12-31    432\n",
       "Freq: ME, Name: values, Length: 144, dtype: int64"
      ]
     },
     "execution_count": 3,
     "metadata": {},
     "output_type": "execute_result"
    }
   ],
   "source": [
    "import pandas as pd\n",
    "\n",
    "df = pd.read_parquet(path).asfreq('ME')\n",
    "df.columns = [\"values\"]\n",
    "series = df[\"values\"]\n",
    "\n",
    "series"
   ]
  },
  {
   "cell_type": "markdown",
   "id": "819bbb53",
   "metadata": {
    "papermill": {
     "duration": 0.003028,
     "end_time": "2024-05-29T23:02:25.247863",
     "exception": false,
     "start_time": "2024-05-29T23:02:25.244835",
     "status": "completed"
    },
    "tags": []
   },
   "source": [
    "## Model fit"
   ]
  },
  {
   "cell_type": "code",
   "execution_count": 4,
   "id": "898a220b",
   "metadata": {
    "execution": {
     "iopub.execute_input": "2024-05-29T23:02:25.266233Z",
     "iopub.status.busy": "2024-05-29T23:02:25.264819Z",
     "iopub.status.idle": "2024-05-29T23:02:25.295618Z",
     "shell.execute_reply": "2024-05-29T23:02:25.294952Z"
    },
    "papermill": {
     "duration": 0.044667,
     "end_time": "2024-05-29T23:02:25.298211",
     "exception": false,
     "start_time": "2024-05-29T23:02:25.253544",
     "status": "completed"
    },
    "tags": []
   },
   "outputs": [
    {
     "data": {
      "text/html": [
       "<table class=\"simpletable\">\n",
       "<caption>ExponentialSmoothing Model Results</caption>\n",
       "<tr>\n",
       "  <th>Dep. Variable:</th>           <td>values</td>        <th>  No. Observations:  </th>        <td>144</td>      \n",
       "</tr>\n",
       "<tr>\n",
       "  <th>Model:</th>            <td>ExponentialSmoothing</td> <th>  SSE                </th>     <td>15952.883</td>   \n",
       "</tr>\n",
       "<tr>\n",
       "  <th>Optimized:</th>                <td>True</td>         <th>  AIC                </th>      <td>709.892</td>    \n",
       "</tr>\n",
       "<tr>\n",
       "  <th>Trend:</th>                  <td>Additive</td>       <th>  BIC                </th>      <td>757.409</td>    \n",
       "</tr>\n",
       "<tr>\n",
       "  <th>Seasonal:</th>            <td>Multiplicative</td>    <th>  AICC               </th>      <td>715.364</td>    \n",
       "</tr>\n",
       "<tr>\n",
       "  <th>Seasonal Periods:</th>          <td>12</td>          <th>  Date:              </th> <td>Tue, 27 May 2025</td>\n",
       "</tr>\n",
       "<tr>\n",
       "  <th>Box-Cox:</th>                  <td>False</td>        <th>  Time:              </th>     <td>22:37:32</td>    \n",
       "</tr>\n",
       "<tr>\n",
       "  <th>Box-Cox Coeff.:</th>           <td>None</td>         <th>                     </th>         <td> </td>       \n",
       "</tr>\n",
       "</table>\n",
       "<table class=\"simpletable\">\n",
       "<tr>\n",
       "           <td></td>                  <th>coeff</th>                <th>code</th>               <th>optimized</th>     \n",
       "</tr>\n",
       "<tr>\n",
       "  <th>smoothing_level</th>    <td>           0.3186214</td> <td>               alpha</td> <td>                True</td>\n",
       "</tr>\n",
       "<tr>\n",
       "  <th>smoothing_trend</th>    <td>           7.318e-08</td> <td>                beta</td> <td>                True</td>\n",
       "</tr>\n",
       "<tr>\n",
       "  <th>smoothing_seasonal</th> <td>           0.6013184</td> <td>               gamma</td> <td>                True</td>\n",
       "</tr>\n",
       "<tr>\n",
       "  <th>initial_level</th>      <td>           112.73636</td> <td>                 l.0</td> <td>                True</td>\n",
       "</tr>\n",
       "<tr>\n",
       "  <th>initial_trend</th>      <td>           2.6504513</td> <td>                 b.0</td> <td>                True</td>\n",
       "</tr>\n",
       "<tr>\n",
       "  <th>initial_seasons.0</th>  <td>           0.9655561</td> <td>                 s.0</td> <td>                True</td>\n",
       "</tr>\n",
       "<tr>\n",
       "  <th>initial_seasons.1</th>  <td>           1.0154735</td> <td>                 s.1</td> <td>                True</td>\n",
       "</tr>\n",
       "<tr>\n",
       "  <th>initial_seasons.2</th>  <td>           1.1213670</td> <td>                 s.2</td> <td>                True</td>\n",
       "</tr>\n",
       "<tr>\n",
       "  <th>initial_seasons.3</th>  <td>           1.0696870</td> <td>                 s.3</td> <td>                True</td>\n",
       "</tr>\n",
       "<tr>\n",
       "  <th>initial_seasons.4</th>  <td>           0.9985522</td> <td>                 s.4</td> <td>                True</td>\n",
       "</tr>\n",
       "<tr>\n",
       "  <th>initial_seasons.5</th>  <td>           1.0906841</td> <td>                 s.5</td> <td>                True</td>\n",
       "</tr>\n",
       "<tr>\n",
       "  <th>initial_seasons.6</th>  <td>           1.1858044</td> <td>                 s.6</td> <td>                True</td>\n",
       "</tr>\n",
       "<tr>\n",
       "  <th>initial_seasons.7</th>  <td>           1.1712563</td> <td>                 s.7</td> <td>                True</td>\n",
       "</tr>\n",
       "<tr>\n",
       "  <th>initial_seasons.8</th>  <td>           1.0678117</td> <td>                 s.8</td> <td>                True</td>\n",
       "</tr>\n",
       "<tr>\n",
       "  <th>initial_seasons.9</th>  <td>           0.9315207</td> <td>                 s.9</td> <td>                True</td>\n",
       "</tr>\n",
       "<tr>\n",
       "  <th>initial_seasons.10</th> <td>           0.8248894</td> <td>                s.10</td> <td>                True</td>\n",
       "</tr>\n",
       "<tr>\n",
       "  <th>initial_seasons.11</th> <td>           0.9447793</td> <td>                s.11</td> <td>                True</td>\n",
       "</tr>\n",
       "</table>"
      ],
      "text/latex": [
       "\\begin{center}\n",
       "\\begin{tabular}{lclc}\n",
       "\\toprule\n",
       "\\textbf{Dep. Variable:}      &        values        & \\textbf{  No. Observations:  } &         144           \\\\\n",
       "\\textbf{Model:}              & ExponentialSmoothing & \\textbf{  SSE                } &      15952.883        \\\\\n",
       "\\textbf{Optimized:}          &         True         & \\textbf{  AIC                } &       709.892         \\\\\n",
       "\\textbf{Trend:}              &       Additive       & \\textbf{  BIC                } &       757.409         \\\\\n",
       "\\textbf{Seasonal:}           &    Multiplicative    & \\textbf{  AICC               } &       715.364         \\\\\n",
       "\\textbf{Seasonal Periods:}   &          12          & \\textbf{  Date:              } &   Tue, 27 May 2025    \\\\\n",
       "\\textbf{Box-Cox:}            &        False         & \\textbf{  Time:              } &       22:37:32        \\\\\n",
       "\\textbf{Box-Cox Coeff.:}     &         None         & \\textbf{                     } &                       \\\\\n",
       "\\bottomrule\n",
       "\\end{tabular}\n",
       "\\begin{tabular}{lccc}\n",
       "                             &    \\textbf{coeff}    &    \\textbf{code}     &  \\textbf{optimized}   \\\\\n",
       "\\midrule\n",
       "\\textbf{smoothing\\_level}    &            0.3186214 &                alpha &                 True  \\\\\n",
       "\\textbf{smoothing\\_trend}    &            7.318e-08 &                 beta &                 True  \\\\\n",
       "\\textbf{smoothing\\_seasonal} &            0.6013184 &                gamma &                 True  \\\\\n",
       "\\textbf{initial\\_level}      &            112.73636 &                  l.0 &                 True  \\\\\n",
       "\\textbf{initial\\_trend}      &            2.6504513 &                  b.0 &                 True  \\\\\n",
       "\\textbf{initial\\_seasons.0}  &            0.9655561 &                  s.0 &                 True  \\\\\n",
       "\\textbf{initial\\_seasons.1}  &            1.0154735 &                  s.1 &                 True  \\\\\n",
       "\\textbf{initial\\_seasons.2}  &            1.1213670 &                  s.2 &                 True  \\\\\n",
       "\\textbf{initial\\_seasons.3}  &            1.0696870 &                  s.3 &                 True  \\\\\n",
       "\\textbf{initial\\_seasons.4}  &            0.9985522 &                  s.4 &                 True  \\\\\n",
       "\\textbf{initial\\_seasons.5}  &            1.0906841 &                  s.5 &                 True  \\\\\n",
       "\\textbf{initial\\_seasons.6}  &            1.1858044 &                  s.6 &                 True  \\\\\n",
       "\\textbf{initial\\_seasons.7}  &            1.1712563 &                  s.7 &                 True  \\\\\n",
       "\\textbf{initial\\_seasons.8}  &            1.0678117 &                  s.8 &                 True  \\\\\n",
       "\\textbf{initial\\_seasons.9}  &            0.9315207 &                  s.9 &                 True  \\\\\n",
       "\\textbf{initial\\_seasons.10} &            0.8248894 &                 s.10 &                 True  \\\\\n",
       "\\textbf{initial\\_seasons.11} &            0.9447793 &                 s.11 &                 True  \\\\\n",
       "\\bottomrule\n",
       "\\end{tabular}\n",
       "%\\caption{ExponentialSmoothing Model Results}\n",
       "\\end{center}"
      ],
      "text/plain": [
       "<class 'statsmodels.iolib.summary.Summary'>\n",
       "\"\"\"\n",
       "                       ExponentialSmoothing Model Results                       \n",
       "================================================================================\n",
       "Dep. Variable:                   values   No. Observations:                  144\n",
       "Model:             ExponentialSmoothing   SSE                          15952.883\n",
       "Optimized:                         True   AIC                            709.892\n",
       "Trend:                         Additive   BIC                            757.409\n",
       "Seasonal:                Multiplicative   AICC                           715.364\n",
       "Seasonal Periods:                    12   Date:                 Tue, 27 May 2025\n",
       "Box-Cox:                          False   Time:                         22:37:32\n",
       "Box-Cox Coeff.:                    None                                         \n",
       "=================================================================================\n",
       "                          coeff                 code              optimized      \n",
       "---------------------------------------------------------------------------------\n",
       "smoothing_level               0.3186214                alpha                 True\n",
       "smoothing_trend               7.318e-08                 beta                 True\n",
       "smoothing_seasonal            0.6013184                gamma                 True\n",
       "initial_level                 112.73636                  l.0                 True\n",
       "initial_trend                 2.6504513                  b.0                 True\n",
       "initial_seasons.0             0.9655561                  s.0                 True\n",
       "initial_seasons.1             1.0154735                  s.1                 True\n",
       "initial_seasons.2             1.1213670                  s.2                 True\n",
       "initial_seasons.3             1.0696870                  s.3                 True\n",
       "initial_seasons.4             0.9985522                  s.4                 True\n",
       "initial_seasons.5             1.0906841                  s.5                 True\n",
       "initial_seasons.6             1.1858044                  s.6                 True\n",
       "initial_seasons.7             1.1712563                  s.7                 True\n",
       "initial_seasons.8             1.0678117                  s.8                 True\n",
       "initial_seasons.9             0.9315207                  s.9                 True\n",
       "initial_seasons.10            0.8248894                 s.10                 True\n",
       "initial_seasons.11            0.9447793                 s.11                 True\n",
       "---------------------------------------------------------------------------------\n",
       "\"\"\""
      ]
     },
     "execution_count": 4,
     "metadata": {},
     "output_type": "execute_result"
    }
   ],
   "source": [
    "from statsmodels.tsa.holtwinters import ExponentialSmoothing\n",
    "\n",
    "model = ExponentialSmoothing(df['values'], trend=\"add\", seasonal=\"mul\", seasonal_periods=12).fit()\n",
    "model.summary()"
   ]
  },
  {
   "cell_type": "markdown",
   "id": "dadb4c97",
   "metadata": {},
   "source": [
    "## Forecast"
   ]
  },
  {
   "cell_type": "code",
   "execution_count": 5,
   "id": "a8d31e23",
   "metadata": {},
   "outputs": [
    {
     "data": {
      "text/plain": [
       "1961-01-31    445.241470\n",
       "1961-02-28    418.224718\n",
       "                 ...    \n",
       "1964-11-30    492.330770\n",
       "1964-12-31    544.780001\n",
       "Freq: ME, Length: 48, dtype: float64"
      ]
     },
     "execution_count": 5,
     "metadata": {},
     "output_type": "execute_result"
    }
   ],
   "source": [
    "forecast = model.forecast(steps=48)\n",
    "forecast"
   ]
  },
  {
   "cell_type": "code",
   "execution_count": 6,
   "id": "f8e3c8fb",
   "metadata": {},
   "outputs": [
    {
     "data": {
      "text/html": [
       "<div>\n",
       "<style scoped>\n",
       "    .dataframe tbody tr th:only-of-type {\n",
       "        vertical-align: middle;\n",
       "    }\n",
       "\n",
       "    .dataframe tbody tr th {\n",
       "        vertical-align: top;\n",
       "    }\n",
       "\n",
       "    .dataframe thead th {\n",
       "        text-align: right;\n",
       "    }\n",
       "</style>\n",
       "<table border=\"1\" class=\"dataframe\">\n",
       "  <thead>\n",
       "    <tr style=\"text-align: right;\">\n",
       "      <th></th>\n",
       "      <th>historical</th>\n",
       "      <th>forecast</th>\n",
       "    </tr>\n",
       "  </thead>\n",
       "  <tbody>\n",
       "    <tr>\n",
       "      <th>1949-01-31</th>\n",
       "      <td>112.0</td>\n",
       "      <td>NaN</td>\n",
       "    </tr>\n",
       "    <tr>\n",
       "      <th>1949-02-28</th>\n",
       "      <td>118.0</td>\n",
       "      <td>NaN</td>\n",
       "    </tr>\n",
       "    <tr>\n",
       "      <th>...</th>\n",
       "      <td>...</td>\n",
       "      <td>...</td>\n",
       "    </tr>\n",
       "    <tr>\n",
       "      <th>1964-11-30</th>\n",
       "      <td>NaN</td>\n",
       "      <td>492.330770</td>\n",
       "    </tr>\n",
       "    <tr>\n",
       "      <th>1964-12-31</th>\n",
       "      <td>NaN</td>\n",
       "      <td>544.780001</td>\n",
       "    </tr>\n",
       "  </tbody>\n",
       "</table>\n",
       "<p>192 rows × 2 columns</p>\n",
       "</div>"
      ],
      "text/plain": [
       "            historical    forecast\n",
       "1949-01-31       112.0         NaN\n",
       "1949-02-28       118.0         NaN\n",
       "...                ...         ...\n",
       "1964-11-30         NaN  492.330770\n",
       "1964-12-31         NaN  544.780001\n",
       "\n",
       "[192 rows x 2 columns]"
      ]
     },
     "execution_count": 6,
     "metadata": {},
     "output_type": "execute_result"
    }
   ],
   "source": [
    "df_forecast = pd.DataFrame({\n",
    "    'historical': series,\n",
    "    'forecast': forecast\n",
    "})\n",
    "\n",
    "df_forecast"
   ]
  },
  {
   "cell_type": "code",
   "execution_count": 7,
   "id": "879ae52a",
   "metadata": {},
   "outputs": [
    {
     "data": {
      "application/vnd.plotly.v1+json": {
       "config": {
        "plotlyServerURL": "https://plot.ly"
       },
       "data": [
        {
         "hovertemplate": "variable=historical<br>index=%{x}<br>value=%{y}<extra></extra>",
         "legendgroup": "historical",
         "line": {
          "color": "#636efa",
          "dash": "solid"
         },
         "marker": {
          "symbol": "circle"
         },
         "mode": "lines",
         "name": "historical",
         "orientation": "v",
         "showlegend": true,
         "type": "scatter",
         "x": [
          "1949-01-31T00:00:00.000000000",
          "1949-02-28T00:00:00.000000000",
          "1949-03-31T00:00:00.000000000",
          "1949-04-30T00:00:00.000000000",
          "1949-05-31T00:00:00.000000000",
          "1949-06-30T00:00:00.000000000",
          "1949-07-31T00:00:00.000000000",
          "1949-08-31T00:00:00.000000000",
          "1949-09-30T00:00:00.000000000",
          "1949-10-31T00:00:00.000000000",
          "1949-11-30T00:00:00.000000000",
          "1949-12-31T00:00:00.000000000",
          "1950-01-31T00:00:00.000000000",
          "1950-02-28T00:00:00.000000000",
          "1950-03-31T00:00:00.000000000",
          "1950-04-30T00:00:00.000000000",
          "1950-05-31T00:00:00.000000000",
          "1950-06-30T00:00:00.000000000",
          "1950-07-31T00:00:00.000000000",
          "1950-08-31T00:00:00.000000000",
          "1950-09-30T00:00:00.000000000",
          "1950-10-31T00:00:00.000000000",
          "1950-11-30T00:00:00.000000000",
          "1950-12-31T00:00:00.000000000",
          "1951-01-31T00:00:00.000000000",
          "1951-02-28T00:00:00.000000000",
          "1951-03-31T00:00:00.000000000",
          "1951-04-30T00:00:00.000000000",
          "1951-05-31T00:00:00.000000000",
          "1951-06-30T00:00:00.000000000",
          "1951-07-31T00:00:00.000000000",
          "1951-08-31T00:00:00.000000000",
          "1951-09-30T00:00:00.000000000",
          "1951-10-31T00:00:00.000000000",
          "1951-11-30T00:00:00.000000000",
          "1951-12-31T00:00:00.000000000",
          "1952-01-31T00:00:00.000000000",
          "1952-02-29T00:00:00.000000000",
          "1952-03-31T00:00:00.000000000",
          "1952-04-30T00:00:00.000000000",
          "1952-05-31T00:00:00.000000000",
          "1952-06-30T00:00:00.000000000",
          "1952-07-31T00:00:00.000000000",
          "1952-08-31T00:00:00.000000000",
          "1952-09-30T00:00:00.000000000",
          "1952-10-31T00:00:00.000000000",
          "1952-11-30T00:00:00.000000000",
          "1952-12-31T00:00:00.000000000",
          "1953-01-31T00:00:00.000000000",
          "1953-02-28T00:00:00.000000000",
          "1953-03-31T00:00:00.000000000",
          "1953-04-30T00:00:00.000000000",
          "1953-05-31T00:00:00.000000000",
          "1953-06-30T00:00:00.000000000",
          "1953-07-31T00:00:00.000000000",
          "1953-08-31T00:00:00.000000000",
          "1953-09-30T00:00:00.000000000",
          "1953-10-31T00:00:00.000000000",
          "1953-11-30T00:00:00.000000000",
          "1953-12-31T00:00:00.000000000",
          "1954-01-31T00:00:00.000000000",
          "1954-02-28T00:00:00.000000000",
          "1954-03-31T00:00:00.000000000",
          "1954-04-30T00:00:00.000000000",
          "1954-05-31T00:00:00.000000000",
          "1954-06-30T00:00:00.000000000",
          "1954-07-31T00:00:00.000000000",
          "1954-08-31T00:00:00.000000000",
          "1954-09-30T00:00:00.000000000",
          "1954-10-31T00:00:00.000000000",
          "1954-11-30T00:00:00.000000000",
          "1954-12-31T00:00:00.000000000",
          "1955-01-31T00:00:00.000000000",
          "1955-02-28T00:00:00.000000000",
          "1955-03-31T00:00:00.000000000",
          "1955-04-30T00:00:00.000000000",
          "1955-05-31T00:00:00.000000000",
          "1955-06-30T00:00:00.000000000",
          "1955-07-31T00:00:00.000000000",
          "1955-08-31T00:00:00.000000000",
          "1955-09-30T00:00:00.000000000",
          "1955-10-31T00:00:00.000000000",
          "1955-11-30T00:00:00.000000000",
          "1955-12-31T00:00:00.000000000",
          "1956-01-31T00:00:00.000000000",
          "1956-02-29T00:00:00.000000000",
          "1956-03-31T00:00:00.000000000",
          "1956-04-30T00:00:00.000000000",
          "1956-05-31T00:00:00.000000000",
          "1956-06-30T00:00:00.000000000",
          "1956-07-31T00:00:00.000000000",
          "1956-08-31T00:00:00.000000000",
          "1956-09-30T00:00:00.000000000",
          "1956-10-31T00:00:00.000000000",
          "1956-11-30T00:00:00.000000000",
          "1956-12-31T00:00:00.000000000",
          "1957-01-31T00:00:00.000000000",
          "1957-02-28T00:00:00.000000000",
          "1957-03-31T00:00:00.000000000",
          "1957-04-30T00:00:00.000000000",
          "1957-05-31T00:00:00.000000000",
          "1957-06-30T00:00:00.000000000",
          "1957-07-31T00:00:00.000000000",
          "1957-08-31T00:00:00.000000000",
          "1957-09-30T00:00:00.000000000",
          "1957-10-31T00:00:00.000000000",
          "1957-11-30T00:00:00.000000000",
          "1957-12-31T00:00:00.000000000",
          "1958-01-31T00:00:00.000000000",
          "1958-02-28T00:00:00.000000000",
          "1958-03-31T00:00:00.000000000",
          "1958-04-30T00:00:00.000000000",
          "1958-05-31T00:00:00.000000000",
          "1958-06-30T00:00:00.000000000",
          "1958-07-31T00:00:00.000000000",
          "1958-08-31T00:00:00.000000000",
          "1958-09-30T00:00:00.000000000",
          "1958-10-31T00:00:00.000000000",
          "1958-11-30T00:00:00.000000000",
          "1958-12-31T00:00:00.000000000",
          "1959-01-31T00:00:00.000000000",
          "1959-02-28T00:00:00.000000000",
          "1959-03-31T00:00:00.000000000",
          "1959-04-30T00:00:00.000000000",
          "1959-05-31T00:00:00.000000000",
          "1959-06-30T00:00:00.000000000",
          "1959-07-31T00:00:00.000000000",
          "1959-08-31T00:00:00.000000000",
          "1959-09-30T00:00:00.000000000",
          "1959-10-31T00:00:00.000000000",
          "1959-11-30T00:00:00.000000000",
          "1959-12-31T00:00:00.000000000",
          "1960-01-31T00:00:00.000000000",
          "1960-02-29T00:00:00.000000000",
          "1960-03-31T00:00:00.000000000",
          "1960-04-30T00:00:00.000000000",
          "1960-05-31T00:00:00.000000000",
          "1960-06-30T00:00:00.000000000",
          "1960-07-31T00:00:00.000000000",
          "1960-08-31T00:00:00.000000000",
          "1960-09-30T00:00:00.000000000",
          "1960-10-31T00:00:00.000000000",
          "1960-11-30T00:00:00.000000000",
          "1960-12-31T00:00:00.000000000",
          "1961-01-31T00:00:00.000000000",
          "1961-02-28T00:00:00.000000000",
          "1961-03-31T00:00:00.000000000",
          "1961-04-30T00:00:00.000000000",
          "1961-05-31T00:00:00.000000000",
          "1961-06-30T00:00:00.000000000",
          "1961-07-31T00:00:00.000000000",
          "1961-08-31T00:00:00.000000000",
          "1961-09-30T00:00:00.000000000",
          "1961-10-31T00:00:00.000000000",
          "1961-11-30T00:00:00.000000000",
          "1961-12-31T00:00:00.000000000",
          "1962-01-31T00:00:00.000000000",
          "1962-02-28T00:00:00.000000000",
          "1962-03-31T00:00:00.000000000",
          "1962-04-30T00:00:00.000000000",
          "1962-05-31T00:00:00.000000000",
          "1962-06-30T00:00:00.000000000",
          "1962-07-31T00:00:00.000000000",
          "1962-08-31T00:00:00.000000000",
          "1962-09-30T00:00:00.000000000",
          "1962-10-31T00:00:00.000000000",
          "1962-11-30T00:00:00.000000000",
          "1962-12-31T00:00:00.000000000",
          "1963-01-31T00:00:00.000000000",
          "1963-02-28T00:00:00.000000000",
          "1963-03-31T00:00:00.000000000",
          "1963-04-30T00:00:00.000000000",
          "1963-05-31T00:00:00.000000000",
          "1963-06-30T00:00:00.000000000",
          "1963-07-31T00:00:00.000000000",
          "1963-08-31T00:00:00.000000000",
          "1963-09-30T00:00:00.000000000",
          "1963-10-31T00:00:00.000000000",
          "1963-11-30T00:00:00.000000000",
          "1963-12-31T00:00:00.000000000",
          "1964-01-31T00:00:00.000000000",
          "1964-02-29T00:00:00.000000000",
          "1964-03-31T00:00:00.000000000",
          "1964-04-30T00:00:00.000000000",
          "1964-05-31T00:00:00.000000000",
          "1964-06-30T00:00:00.000000000",
          "1964-07-31T00:00:00.000000000",
          "1964-08-31T00:00:00.000000000",
          "1964-09-30T00:00:00.000000000",
          "1964-10-31T00:00:00.000000000",
          "1964-11-30T00:00:00.000000000",
          "1964-12-31T00:00:00.000000000"
         ],
         "xaxis": "x",
         "y": {
          "bdata": "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",
          "dtype": "f8"
         },
         "yaxis": "y"
        },
        {
         "hovertemplate": "variable=forecast<br>index=%{x}<br>value=%{y}<extra></extra>",
         "legendgroup": "forecast",
         "line": {
          "color": "#EF553B",
          "dash": "solid"
         },
         "marker": {
          "symbol": "circle"
         },
         "mode": "lines",
         "name": "forecast",
         "orientation": "v",
         "showlegend": true,
         "type": "scatter",
         "x": [
          "1949-01-31T00:00:00.000000000",
          "1949-02-28T00:00:00.000000000",
          "1949-03-31T00:00:00.000000000",
          "1949-04-30T00:00:00.000000000",
          "1949-05-31T00:00:00.000000000",
          "1949-06-30T00:00:00.000000000",
          "1949-07-31T00:00:00.000000000",
          "1949-08-31T00:00:00.000000000",
          "1949-09-30T00:00:00.000000000",
          "1949-10-31T00:00:00.000000000",
          "1949-11-30T00:00:00.000000000",
          "1949-12-31T00:00:00.000000000",
          "1950-01-31T00:00:00.000000000",
          "1950-02-28T00:00:00.000000000",
          "1950-03-31T00:00:00.000000000",
          "1950-04-30T00:00:00.000000000",
          "1950-05-31T00:00:00.000000000",
          "1950-06-30T00:00:00.000000000",
          "1950-07-31T00:00:00.000000000",
          "1950-08-31T00:00:00.000000000",
          "1950-09-30T00:00:00.000000000",
          "1950-10-31T00:00:00.000000000",
          "1950-11-30T00:00:00.000000000",
          "1950-12-31T00:00:00.000000000",
          "1951-01-31T00:00:00.000000000",
          "1951-02-28T00:00:00.000000000",
          "1951-03-31T00:00:00.000000000",
          "1951-04-30T00:00:00.000000000",
          "1951-05-31T00:00:00.000000000",
          "1951-06-30T00:00:00.000000000",
          "1951-07-31T00:00:00.000000000",
          "1951-08-31T00:00:00.000000000",
          "1951-09-30T00:00:00.000000000",
          "1951-10-31T00:00:00.000000000",
          "1951-11-30T00:00:00.000000000",
          "1951-12-31T00:00:00.000000000",
          "1952-01-31T00:00:00.000000000",
          "1952-02-29T00:00:00.000000000",
          "1952-03-31T00:00:00.000000000",
          "1952-04-30T00:00:00.000000000",
          "1952-05-31T00:00:00.000000000",
          "1952-06-30T00:00:00.000000000",
          "1952-07-31T00:00:00.000000000",
          "1952-08-31T00:00:00.000000000",
          "1952-09-30T00:00:00.000000000",
          "1952-10-31T00:00:00.000000000",
          "1952-11-30T00:00:00.000000000",
          "1952-12-31T00:00:00.000000000",
          "1953-01-31T00:00:00.000000000",
          "1953-02-28T00:00:00.000000000",
          "1953-03-31T00:00:00.000000000",
          "1953-04-30T00:00:00.000000000",
          "1953-05-31T00:00:00.000000000",
          "1953-06-30T00:00:00.000000000",
          "1953-07-31T00:00:00.000000000",
          "1953-08-31T00:00:00.000000000",
          "1953-09-30T00:00:00.000000000",
          "1953-10-31T00:00:00.000000000",
          "1953-11-30T00:00:00.000000000",
          "1953-12-31T00:00:00.000000000",
          "1954-01-31T00:00:00.000000000",
          "1954-02-28T00:00:00.000000000",
          "1954-03-31T00:00:00.000000000",
          "1954-04-30T00:00:00.000000000",
          "1954-05-31T00:00:00.000000000",
          "1954-06-30T00:00:00.000000000",
          "1954-07-31T00:00:00.000000000",
          "1954-08-31T00:00:00.000000000",
          "1954-09-30T00:00:00.000000000",
          "1954-10-31T00:00:00.000000000",
          "1954-11-30T00:00:00.000000000",
          "1954-12-31T00:00:00.000000000",
          "1955-01-31T00:00:00.000000000",
          "1955-02-28T00:00:00.000000000",
          "1955-03-31T00:00:00.000000000",
          "1955-04-30T00:00:00.000000000",
          "1955-05-31T00:00:00.000000000",
          "1955-06-30T00:00:00.000000000",
          "1955-07-31T00:00:00.000000000",
          "1955-08-31T00:00:00.000000000",
          "1955-09-30T00:00:00.000000000",
          "1955-10-31T00:00:00.000000000",
          "1955-11-30T00:00:00.000000000",
          "1955-12-31T00:00:00.000000000",
          "1956-01-31T00:00:00.000000000",
          "1956-02-29T00:00:00.000000000",
          "1956-03-31T00:00:00.000000000",
          "1956-04-30T00:00:00.000000000",
          "1956-05-31T00:00:00.000000000",
          "1956-06-30T00:00:00.000000000",
          "1956-07-31T00:00:00.000000000",
          "1956-08-31T00:00:00.000000000",
          "1956-09-30T00:00:00.000000000",
          "1956-10-31T00:00:00.000000000",
          "1956-11-30T00:00:00.000000000",
          "1956-12-31T00:00:00.000000000",
          "1957-01-31T00:00:00.000000000",
          "1957-02-28T00:00:00.000000000",
          "1957-03-31T00:00:00.000000000",
          "1957-04-30T00:00:00.000000000",
          "1957-05-31T00:00:00.000000000",
          "1957-06-30T00:00:00.000000000",
          "1957-07-31T00:00:00.000000000",
          "1957-08-31T00:00:00.000000000",
          "1957-09-30T00:00:00.000000000",
          "1957-10-31T00:00:00.000000000",
          "1957-11-30T00:00:00.000000000",
          "1957-12-31T00:00:00.000000000",
          "1958-01-31T00:00:00.000000000",
          "1958-02-28T00:00:00.000000000",
          "1958-03-31T00:00:00.000000000",
          "1958-04-30T00:00:00.000000000",
          "1958-05-31T00:00:00.000000000",
          "1958-06-30T00:00:00.000000000",
          "1958-07-31T00:00:00.000000000",
          "1958-08-31T00:00:00.000000000",
          "1958-09-30T00:00:00.000000000",
          "1958-10-31T00:00:00.000000000",
          "1958-11-30T00:00:00.000000000",
          "1958-12-31T00:00:00.000000000",
          "1959-01-31T00:00:00.000000000",
          "1959-02-28T00:00:00.000000000",
          "1959-03-31T00:00:00.000000000",
          "1959-04-30T00:00:00.000000000",
          "1959-05-31T00:00:00.000000000",
          "1959-06-30T00:00:00.000000000",
          "1959-07-31T00:00:00.000000000",
          "1959-08-31T00:00:00.000000000",
          "1959-09-30T00:00:00.000000000",
          "1959-10-31T00:00:00.000000000",
          "1959-11-30T00:00:00.000000000",
          "1959-12-31T00:00:00.000000000",
          "1960-01-31T00:00:00.000000000",
          "1960-02-29T00:00:00.000000000",
          "1960-03-31T00:00:00.000000000",
          "1960-04-30T00:00:00.000000000",
          "1960-05-31T00:00:00.000000000",
          "1960-06-30T00:00:00.000000000",
          "1960-07-31T00:00:00.000000000",
          "1960-08-31T00:00:00.000000000",
          "1960-09-30T00:00:00.000000000",
          "1960-10-31T00:00:00.000000000",
          "1960-11-30T00:00:00.000000000",
          "1960-12-31T00:00:00.000000000",
          "1961-01-31T00:00:00.000000000",
          "1961-02-28T00:00:00.000000000",
          "1961-03-31T00:00:00.000000000",
          "1961-04-30T00:00:00.000000000",
          "1961-05-31T00:00:00.000000000",
          "1961-06-30T00:00:00.000000000",
          "1961-07-31T00:00:00.000000000",
          "1961-08-31T00:00:00.000000000",
          "1961-09-30T00:00:00.000000000",
          "1961-10-31T00:00:00.000000000",
          "1961-11-30T00:00:00.000000000",
          "1961-12-31T00:00:00.000000000",
          "1962-01-31T00:00:00.000000000",
          "1962-02-28T00:00:00.000000000",
          "1962-03-31T00:00:00.000000000",
          "1962-04-30T00:00:00.000000000",
          "1962-05-31T00:00:00.000000000",
          "1962-06-30T00:00:00.000000000",
          "1962-07-31T00:00:00.000000000",
          "1962-08-31T00:00:00.000000000",
          "1962-09-30T00:00:00.000000000",
          "1962-10-31T00:00:00.000000000",
          "1962-11-30T00:00:00.000000000",
          "1962-12-31T00:00:00.000000000",
          "1963-01-31T00:00:00.000000000",
          "1963-02-28T00:00:00.000000000",
          "1963-03-31T00:00:00.000000000",
          "1963-04-30T00:00:00.000000000",
          "1963-05-31T00:00:00.000000000",
          "1963-06-30T00:00:00.000000000",
          "1963-07-31T00:00:00.000000000",
          "1963-08-31T00:00:00.000000000",
          "1963-09-30T00:00:00.000000000",
          "1963-10-31T00:00:00.000000000",
          "1963-11-30T00:00:00.000000000",
          "1963-12-31T00:00:00.000000000",
          "1964-01-31T00:00:00.000000000",
          "1964-02-29T00:00:00.000000000",
          "1964-03-31T00:00:00.000000000",
          "1964-04-30T00:00:00.000000000",
          "1964-05-31T00:00:00.000000000",
          "1964-06-30T00:00:00.000000000",
          "1964-07-31T00:00:00.000000000",
          "1964-08-31T00:00:00.000000000",
          "1964-09-30T00:00:00.000000000",
          "1964-10-31T00:00:00.000000000",
          "1964-11-30T00:00:00.000000000",
          "1964-12-31T00:00:00.000000000"
         ],
         "xaxis": "x",
         "y": {
          "bdata": "AAAAAAAA+H8AAAAAAAD4fwAAAAAAAPh/AAAAAAAA+H8AAAAAAAD4fwAAAAAAAPh/AAAAAAAA+H8AAAAAAAD4fwAAAAAAAPh/AAAAAAAA+H8AAAAAAAD4fwAAAAAAAPh/AAAAAAAA+H8AAAAAAAD4fwAAAAAAAPh/AAAAAAAA+H8AAAAAAAD4fwAAAAAAAPh/AAAAAAAA+H8AAAAAAAD4fwAAAAAAAPh/AAAAAAAA+H8AAAAAAAD4fwAAAAAAAPh/AAAAAAAA+H8AAAAAAAD4fwAAAAAAAPh/AAAAAAAA+H8AAAAAAAD4fwAAAAAAAPh/AAAAAAAA+H8AAAAAAAD4fwAAAAAAAPh/AAAAAAAA+H8AAAAAAAD4fwAAAAAAAPh/AAAAAAAA+H8AAAAAAAD4fwAAAAAAAPh/AAAAAAAA+H8AAAAAAAD4fwAAAAAAAPh/AAAAAAAA+H8AAAAAAAD4fwAAAAAAAPh/AAAAAAAA+H8AAAAAAAD4fwAAAAAAAPh/AAAAAAAA+H8AAAAAAAD4fwAAAAAAAPh/AAAAAAAA+H8AAAAAAAD4fwAAAAAAAPh/AAAAAAAA+H8AAAAAAAD4fwAAAAAAAPh/AAAAAAAA+H8AAAAAAAD4fwAAAAAAAPh/AAAAAAAA+H8AAAAAAAD4fwAAAAAAAPh/AAAAAAAA+H8AAAAAAAD4fwAAAAAAAPh/AAAAAAAA+H8AAAAAAAD4fwAAAAAAAPh/AAAAAAAA+H8AAAAAAAD4fwAAAAAAAPh/AAAAAAAA+H8AAAAAAAD4fwAAAAAAAPh/AAAAAAAA+H8AAAAAAAD4fwAAAAAAAPh/AAAAAAAA+H8AAAAAAAD4fwAAAAAAAPh/AAAAAAAA+H8AAAAAAAD4fwAAAAAAAPh/AAAAAAAA+H8AAAAAAAD4fwAAAAAAAPh/AAAAAAAA+H8AAAAAAAD4fwAAAAAAAPh/AAAAAAAA+H8AAAAAAAD4fwAAAAAAAPh/AAAAAAAA+H8AAAAAAAD4fwAAAAAAAPh/AAAAAAAA+H8AAAAAAAD4fwAAAAAAAPh/AAAAAAAA+H8AAAAAAAD4fwAAAAAAAPh/AAAAAAAA+H8AAAAAAAD4fwAAAAAAAPh/AAAAAAAA+H8AAAAAAAD4fwAAAAAAAPh/AAAAAAAA+H8AAAAAAAD4fwAAAAAAAPh/AAAAAAAA+H8AAAAAAAD4fwAAAAAAAPh/AAAAAAAA+H8AAAAAAAD4fwAAAAAAAPh/AAAAAAAA+H8AAAAAAAD4fwAAAAAAAPh/AAAAAAAA+H8AAAAAAAD4fwAAAAAAAPh/AAAAAAAA+H8AAAAAAAD4fwAAAAAAAPh/AAAAAAAA+H8AAAAAAAD4fwAAAAAAAPh/AAAAAAAA+H8AAAAAAAD4fwAAAAAAAPh/AAAAAAAA+H8AAAAAAAD4fwAAAAAAAPh/AAAAAAAA+H8AAAAAAAD4fwAAAAAAAPh/AAAAAAAA+H8AAAAAAAD4fwAAAAAAAPh/AAAAAAAA+H8AAAAAAAD4fwAAAAAAAPh/+bIpD93Te0CcZKhxmCN6QE4kfjP4FH1Absnz0DXvfkArzNEmmpd/QC3Qw5p/6oFAsZSwr8O8hEAUUivdOXeEQMriFlsTFoFACDk5fhuHfkCLAltPift5QIY5XIb6xXxABKkPThKhfUBKU1w/ftJ7QLZBwy3S8X5ArN8ZOd9zgEBGd6VMEsyAQFNXR3WiC4NAsRJmCq8JhkBtrtiRE76FQBE/fceKJYJAG6ten9E0gEBa3NMmH5R7QLo01k8liH5AD5/1jEduf0D6QRANZIF9QI8vBBRWZ4BAodq5iSNwgUB4COKFV8yBQHneyk/FLIRAsZAbZZpWh0DFCoZG7QSHQFqb4zMCNYNAsbmgfxUmgUAptkz+tCx9QPcXqAwoJYBAjsrtZb6dgECoMMTaSTB/QEK+JhHDVYFAl9VZ2mdsgkComR6/nMyCQJ5lTiroTYVAsA7Rv4WjiEAeZzP7xkuIQKH3SaB5RIRARsjiX1kXgkD5j8XVSsV+QJIVZXE9BoFA",
          "dtype": "f8"
         },
         "yaxis": "y"
        }
       ],
       "layout": {
        "legend": {
         "title": {
          "text": "variable"
         },
         "tracegroupgap": 0
        },
        "margin": {
         "t": 60
        },
        "template": {
         "data": {
          "bar": [
           {
            "error_x": {
             "color": "#f2f5fa"
            },
            "error_y": {
             "color": "#f2f5fa"
            },
            "marker": {
             "line": {
              "color": "rgb(17,17,17)",
              "width": 0.5
             },
             "pattern": {
              "fillmode": "overlay",
              "size": 10,
              "solidity": 0.2
             }
            },
            "type": "bar"
           }
          ],
          "barpolar": [
           {
            "marker": {
             "line": {
              "color": "rgb(17,17,17)",
              "width": 0.5
             },
             "pattern": {
              "fillmode": "overlay",
              "size": 10,
              "solidity": 0.2
             }
            },
            "type": "barpolar"
           }
          ],
          "carpet": [
           {
            "aaxis": {
             "endlinecolor": "#A2B1C6",
             "gridcolor": "#506784",
             "linecolor": "#506784",
             "minorgridcolor": "#506784",
             "startlinecolor": "#A2B1C6"
            },
            "baxis": {
             "endlinecolor": "#A2B1C6",
             "gridcolor": "#506784",
             "linecolor": "#506784",
             "minorgridcolor": "#506784",
             "startlinecolor": "#A2B1C6"
            },
            "type": "carpet"
           }
          ],
          "choropleth": [
           {
            "colorbar": {
             "outlinewidth": 0,
             "ticks": ""
            },
            "type": "choropleth"
           }
          ],
          "contour": [
           {
            "colorbar": {
             "outlinewidth": 0,
             "ticks": ""
            },
            "colorscale": [
             [
              0,
              "#0d0887"
             ],
             [
              0.1111111111111111,
              "#46039f"
             ],
             [
              0.2222222222222222,
              "#7201a8"
             ],
             [
              0.3333333333333333,
              "#9c179e"
             ],
             [
              0.4444444444444444,
              "#bd3786"
             ],
             [
              0.5555555555555556,
              "#d8576b"
             ],
             [
              0.6666666666666666,
              "#ed7953"
             ],
             [
              0.7777777777777778,
              "#fb9f3a"
             ],
             [
              0.8888888888888888,
              "#fdca26"
             ],
             [
              1,
              "#f0f921"
             ]
            ],
            "type": "contour"
           }
          ],
          "contourcarpet": [
           {
            "colorbar": {
             "outlinewidth": 0,
             "ticks": ""
            },
            "type": "contourcarpet"
           }
          ],
          "heatmap": [
           {
            "colorbar": {
             "outlinewidth": 0,
             "ticks": ""
            },
            "colorscale": [
             [
              0,
              "#0d0887"
             ],
             [
              0.1111111111111111,
              "#46039f"
             ],
             [
              0.2222222222222222,
              "#7201a8"
             ],
             [
              0.3333333333333333,
              "#9c179e"
             ],
             [
              0.4444444444444444,
              "#bd3786"
             ],
             [
              0.5555555555555556,
              "#d8576b"
             ],
             [
              0.6666666666666666,
              "#ed7953"
             ],
             [
              0.7777777777777778,
              "#fb9f3a"
             ],
             [
              0.8888888888888888,
              "#fdca26"
             ],
             [
              1,
              "#f0f921"
             ]
            ],
            "type": "heatmap"
           }
          ],
          "histogram": [
           {
            "marker": {
             "pattern": {
              "fillmode": "overlay",
              "size": 10,
              "solidity": 0.2
             }
            },
            "type": "histogram"
           }
          ],
          "histogram2d": [
           {
            "colorbar": {
             "outlinewidth": 0,
             "ticks": ""
            },
            "colorscale": [
             [
              0,
              "#0d0887"
             ],
             [
              0.1111111111111111,
              "#46039f"
             ],
             [
              0.2222222222222222,
              "#7201a8"
             ],
             [
              0.3333333333333333,
              "#9c179e"
             ],
             [
              0.4444444444444444,
              "#bd3786"
             ],
             [
              0.5555555555555556,
              "#d8576b"
             ],
             [
              0.6666666666666666,
              "#ed7953"
             ],
             [
              0.7777777777777778,
              "#fb9f3a"
             ],
             [
              0.8888888888888888,
              "#fdca26"
             ],
             [
              1,
              "#f0f921"
             ]
            ],
            "type": "histogram2d"
           }
          ],
          "histogram2dcontour": [
           {
            "colorbar": {
             "outlinewidth": 0,
             "ticks": ""
            },
            "colorscale": [
             [
              0,
              "#0d0887"
             ],
             [
              0.1111111111111111,
              "#46039f"
             ],
             [
              0.2222222222222222,
              "#7201a8"
             ],
             [
              0.3333333333333333,
              "#9c179e"
             ],
             [
              0.4444444444444444,
              "#bd3786"
             ],
             [
              0.5555555555555556,
              "#d8576b"
             ],
             [
              0.6666666666666666,
              "#ed7953"
             ],
             [
              0.7777777777777778,
              "#fb9f3a"
             ],
             [
              0.8888888888888888,
              "#fdca26"
             ],
             [
              1,
              "#f0f921"
             ]
            ],
            "type": "histogram2dcontour"
           }
          ],
          "mesh3d": [
           {
            "colorbar": {
             "outlinewidth": 0,
             "ticks": ""
            },
            "type": "mesh3d"
           }
          ],
          "parcoords": [
           {
            "line": {
             "colorbar": {
              "outlinewidth": 0,
              "ticks": ""
             }
            },
            "type": "parcoords"
           }
          ],
          "pie": [
           {
            "automargin": true,
            "type": "pie"
           }
          ],
          "scatter": [
           {
            "marker": {
             "line": {
              "color": "#283442"
             }
            },
            "type": "scatter"
           }
          ],
          "scatter3d": [
           {
            "line": {
             "colorbar": {
              "outlinewidth": 0,
              "ticks": ""
             }
            },
            "marker": {
             "colorbar": {
              "outlinewidth": 0,
              "ticks": ""
             }
            },
            "type": "scatter3d"
           }
          ],
          "scattercarpet": [
           {
            "marker": {
             "colorbar": {
              "outlinewidth": 0,
              "ticks": ""
             }
            },
            "type": "scattercarpet"
           }
          ],
          "scattergeo": [
           {
            "marker": {
             "colorbar": {
              "outlinewidth": 0,
              "ticks": ""
             }
            },
            "type": "scattergeo"
           }
          ],
          "scattergl": [
           {
            "marker": {
             "line": {
              "color": "#283442"
             }
            },
            "type": "scattergl"
           }
          ],
          "scattermap": [
           {
            "marker": {
             "colorbar": {
              "outlinewidth": 0,
              "ticks": ""
             }
            },
            "type": "scattermap"
           }
          ],
          "scattermapbox": [
           {
            "marker": {
             "colorbar": {
              "outlinewidth": 0,
              "ticks": ""
             }
            },
            "type": "scattermapbox"
           }
          ],
          "scatterpolar": [
           {
            "marker": {
             "colorbar": {
              "outlinewidth": 0,
              "ticks": ""
             }
            },
            "type": "scatterpolar"
           }
          ],
          "scatterpolargl": [
           {
            "marker": {
             "colorbar": {
              "outlinewidth": 0,
              "ticks": ""
             }
            },
            "type": "scatterpolargl"
           }
          ],
          "scatterternary": [
           {
            "marker": {
             "colorbar": {
              "outlinewidth": 0,
              "ticks": ""
             }
            },
            "type": "scatterternary"
           }
          ],
          "surface": [
           {
            "colorbar": {
             "outlinewidth": 0,
             "ticks": ""
            },
            "colorscale": [
             [
              0,
              "#0d0887"
             ],
             [
              0.1111111111111111,
              "#46039f"
             ],
             [
              0.2222222222222222,
              "#7201a8"
             ],
             [
              0.3333333333333333,
              "#9c179e"
             ],
             [
              0.4444444444444444,
              "#bd3786"
             ],
             [
              0.5555555555555556,
              "#d8576b"
             ],
             [
              0.6666666666666666,
              "#ed7953"
             ],
             [
              0.7777777777777778,
              "#fb9f3a"
             ],
             [
              0.8888888888888888,
              "#fdca26"
             ],
             [
              1,
              "#f0f921"
             ]
            ],
            "type": "surface"
           }
          ],
          "table": [
           {
            "cells": {
             "fill": {
              "color": "#506784"
             },
             "line": {
              "color": "rgb(17,17,17)"
             }
            },
            "header": {
             "fill": {
              "color": "#2a3f5f"
             },
             "line": {
              "color": "rgb(17,17,17)"
             }
            },
            "type": "table"
           }
          ]
         },
         "layout": {
          "annotationdefaults": {
           "arrowcolor": "#f2f5fa",
           "arrowhead": 0,
           "arrowwidth": 1
          },
          "autosize": false,
          "autotypenumbers": "strict",
          "coloraxis": {
           "colorbar": {
            "outlinewidth": 0,
            "ticks": ""
           }
          },
          "colorscale": {
           "diverging": [
            [
             0,
             "#8e0152"
            ],
            [
             0.1,
             "#c51b7d"
            ],
            [
             0.2,
             "#de77ae"
            ],
            [
             0.3,
             "#f1b6da"
            ],
            [
             0.4,
             "#fde0ef"
            ],
            [
             0.5,
             "#f7f7f7"
            ],
            [
             0.6,
             "#e6f5d0"
            ],
            [
             0.7,
             "#b8e186"
            ],
            [
             0.8,
             "#7fbc41"
            ],
            [
             0.9,
             "#4d9221"
            ],
            [
             1,
             "#276419"
            ]
           ],
           "sequential": [
            [
             0,
             "#0d0887"
            ],
            [
             0.1111111111111111,
             "#46039f"
            ],
            [
             0.2222222222222222,
             "#7201a8"
            ],
            [
             0.3333333333333333,
             "#9c179e"
            ],
            [
             0.4444444444444444,
             "#bd3786"
            ],
            [
             0.5555555555555556,
             "#d8576b"
            ],
            [
             0.6666666666666666,
             "#ed7953"
            ],
            [
             0.7777777777777778,
             "#fb9f3a"
            ],
            [
             0.8888888888888888,
             "#fdca26"
            ],
            [
             1,
             "#f0f921"
            ]
           ],
           "sequentialminus": [
            [
             0,
             "#0d0887"
            ],
            [
             0.1111111111111111,
             "#46039f"
            ],
            [
             0.2222222222222222,
             "#7201a8"
            ],
            [
             0.3333333333333333,
             "#9c179e"
            ],
            [
             0.4444444444444444,
             "#bd3786"
            ],
            [
             0.5555555555555556,
             "#d8576b"
            ],
            [
             0.6666666666666666,
             "#ed7953"
            ],
            [
             0.7777777777777778,
             "#fb9f3a"
            ],
            [
             0.8888888888888888,
             "#fdca26"
            ],
            [
             1,
             "#f0f921"
            ]
           ]
          },
          "colorway": [
           "#636efa",
           "#EF553B",
           "#00cc96",
           "#ab63fa",
           "#FFA15A",
           "#19d3f3",
           "#FF6692",
           "#B6E880",
           "#FF97FF",
           "#FECB52"
          ],
          "font": {
           "color": "#f2f5fa"
          },
          "geo": {
           "bgcolor": "rgb(17,17,17)",
           "lakecolor": "rgb(17,17,17)",
           "landcolor": "rgb(17,17,17)",
           "showlakes": true,
           "showland": true,
           "subunitcolor": "#506784"
          },
          "height": 500,
          "hoverlabel": {
           "align": "left"
          },
          "hovermode": "closest",
          "mapbox": {
           "style": "dark"
          },
          "paper_bgcolor": "rgb(17,17,17)",
          "plot_bgcolor": "rgb(17,17,17)",
          "polar": {
           "angularaxis": {
            "gridcolor": "#506784",
            "linecolor": "#506784",
            "ticks": ""
           },
           "bgcolor": "rgb(17,17,17)",
           "radialaxis": {
            "gridcolor": "#506784",
            "linecolor": "#506784",
            "ticks": ""
           }
          },
          "scene": {
           "xaxis": {
            "backgroundcolor": "rgb(17,17,17)",
            "gridcolor": "#506784",
            "gridwidth": 2,
            "linecolor": "#506784",
            "showbackground": true,
            "ticks": "",
            "zerolinecolor": "#C8D4E3"
           },
           "yaxis": {
            "backgroundcolor": "rgb(17,17,17)",
            "gridcolor": "#506784",
            "gridwidth": 2,
            "linecolor": "#506784",
            "showbackground": true,
            "ticks": "",
            "zerolinecolor": "#C8D4E3"
           },
           "zaxis": {
            "backgroundcolor": "rgb(17,17,17)",
            "gridcolor": "#506784",
            "gridwidth": 2,
            "linecolor": "#506784",
            "showbackground": true,
            "ticks": "",
            "zerolinecolor": "#C8D4E3"
           }
          },
          "shapedefaults": {
           "line": {
            "color": "#f2f5fa"
           }
          },
          "showlegend": true,
          "sliderdefaults": {
           "bgcolor": "#C8D4E3",
           "bordercolor": "rgb(17,17,17)",
           "borderwidth": 1,
           "tickwidth": 0
          },
          "ternary": {
           "aaxis": {
            "gridcolor": "#506784",
            "linecolor": "#506784",
            "ticks": ""
           },
           "baxis": {
            "gridcolor": "#506784",
            "linecolor": "#506784",
            "ticks": ""
           },
           "bgcolor": "rgb(17,17,17)",
           "caxis": {
            "gridcolor": "#506784",
            "linecolor": "#506784",
            "ticks": ""
           }
          },
          "title": {
           "x": 0.05
          },
          "updatemenudefaults": {
           "bgcolor": "#506784",
           "borderwidth": 0
          },
          "width": 1000,
          "xaxis": {
           "automargin": true,
           "gridcolor": "#283442",
           "linecolor": "#506784",
           "ticks": "",
           "title": {
            "standoff": 15
           },
           "zerolinecolor": "#283442",
           "zerolinewidth": 2
          },
          "yaxis": {
           "automargin": true,
           "gridcolor": "#283442",
           "linecolor": "#506784",
           "ticks": "",
           "title": {
            "standoff": 15
           },
           "zerolinecolor": "#283442",
           "zerolinewidth": 2
          }
         }
        },
        "xaxis": {
         "anchor": "y",
         "domain": [
          0,
          1
         ],
         "title": {
          "text": "index"
         }
        },
        "yaxis": {
         "anchor": "x",
         "domain": [
          0,
          1
         ],
         "title": {
          "text": "value"
         }
        }
       }
      }
     },
     "metadata": {},
     "output_type": "display_data"
    }
   ],
   "source": [
    "df_forecast.plot()"
   ]
  },
  {
   "cell_type": "markdown",
   "id": "c15e4714",
   "metadata": {},
   "source": [
    "## Configuration\n",
    "\n",
    "1. **Does the series have a trend?**\n",
    "   → Yes → Include trend\n",
    "   → No  → No trend component\n",
    "\n",
    "2. **Is the trend linear or growing multiplicatively?**\n",
    "   → Linear → Use *additive* trend\n",
    "   → Multiplicative → Use *multiplicative* trend\n",
    "\n",
    "3. **Is there seasonality?**\n",
    "   → Yes → Include seasonality\n",
    "   → No  → No seasonal component\n",
    "\n",
    "4. **Does seasonal pattern have constant amplitude or scale with the level?**\n",
    "   → Constant → *Additive* seasonality\n",
    "   → Scales with level → *Multiplicative* seasonality\n",
    "\n",
    "5. **What is the seasonal period?**\n",
    "   → Based on data frequency (e.g., 12 for monthly, 7 for daily with weekly pattern)\n",
    "\n",
    "Let me know if you want this pasted directly into the outline.\n",
    "\n",
    "3. Seasonal Component\n",
    "\t•\tAdditive seasonality if seasonal effects have constant magnitude.\n",
    "\t•\tMultiplicative seasonality if seasonal effects grow/shrink with the level of the series.\n",
    "\t•\tNone if no periodic pattern is observed.\n",
    "\n",
    "📌 Rule of Thumb Summary (to include in lesson):\n",
    "\n",
    "“ETS model configuration is empirical: you inspect the data, identify visual patterns, and match them with additive/multiplicative trend and seasonality. No statistical test decides the config — you do.”"
   ]
  },
  {
   "cell_type": "code",
   "execution_count": 8,
   "id": "dd37553b",
   "metadata": {},
   "outputs": [
    {
     "data": {
      "image/png": "[encoded data removed]",
      "text/plain": [
       "<Figure size 640x480 with 4 Axes>"
      ]
     },
     "metadata": {},
     "output_type": "display_data"
    }
   ],
   "source": [
    "from statsmodels.tsa.seasonal import seasonal_decompose\n",
    "seasonal_decompose(series, model=\"additive\", period=12).plot();"
   ]
  },
  {
   "cell_type": "code",
   "execution_count": 9,
   "id": "0f804b40",
   "metadata": {},
   "outputs": [
    {
     "data": {
      "image/png": "[encoded data removed]",
      "text/plain": [
       "<Figure size 640x480 with 4 Axes>"
      ]
     },
     "metadata": {},
     "output_type": "display_data"
    }
   ],
   "source": [
    "seasonal_decompose(series, model=\"multiplicative\", period=12).plot();"
   ]
  },
  {
   "cell_type": "markdown",
   "id": "24708b1b",
   "metadata": {},
   "source": [
    "## Variation playground: ETS"
   ]
  },
  {
   "cell_type": "code",
   "execution_count": 10,
   "id": "b053b727",
   "metadata": {},
   "outputs": [
    {
     "name": "stderr",
     "output_type": "stream",
     "text": [
      "/Users/sota/miniforge3/envs/time-series/lib/python3.12/site-packages/statsmodels/tsa/holtwinters/model.py:84: RuntimeWarning:\n",
      "\n",
      "overflow encountered in matmul\n",
      "\n"
     ]
    },
    {
     "data": {
      "application/vnd.plotly.v1+json": {
       "config": {
        "plotlyServerURL": "https://plot.ly"
       },
       "data": [
        {
         "hovertemplate": "variable=values<br>index=%{x}<br>value=%{y}<extra></extra>",
         "legendgroup": "values",
         "line": {
          "color": "#636efa",
          "dash": "solid"
         },
         "marker": {
          "symbol": "circle"
         },
         "mode": "lines",
         "name": "values",
         "showlegend": true,
         "type": "scattergl",
         "x": [
          "1949-01-31T00:00:00.000000000",
          "1949-02-28T00:00:00.000000000",
          "1949-03-31T00:00:00.000000000",
          "1949-04-30T00:00:00.000000000",
          "1949-05-31T00:00:00.000000000",
          "1949-06-30T00:00:00.000000000",
          "1949-07-31T00:00:00.000000000",
          "1949-08-31T00:00:00.000000000",
          "1949-09-30T00:00:00.000000000",
          "1949-10-31T00:00:00.000000000",
          "1949-11-30T00:00:00.000000000",
          "1949-12-31T00:00:00.000000000",
          "1950-01-31T00:00:00.000000000",
          "1950-02-28T00:00:00.000000000",
          "1950-03-31T00:00:00.000000000",
          "1950-04-30T00:00:00.000000000",
          "1950-05-31T00:00:00.000000000",
          "1950-06-30T00:00:00.000000000",
          "1950-07-31T00:00:00.000000000",
          "1950-08-31T00:00:00.000000000",
          "1950-09-30T00:00:00.000000000",
          "1950-10-31T00:00:00.000000000",
          "1950-11-30T00:00:00.000000000",
          "1950-12-31T00:00:00.000000000",
          "1951-01-31T00:00:00.000000000",
          "1951-02-28T00:00:00.000000000",
          "1951-03-31T00:00:00.000000000",
          "1951-04-30T00:00:00.000000000",
          "1951-05-31T00:00:00.000000000",
          "1951-06-30T00:00:00.000000000",
          "1951-07-31T00:00:00.000000000",
          "1951-08-31T00:00:00.000000000",
          "1951-09-30T00:00:00.000000000",
          "1951-10-31T00:00:00.000000000",
          "1951-11-30T00:00:00.000000000",
          "1951-12-31T00:00:00.000000000",
          "1952-01-31T00:00:00.000000000",
          "1952-02-29T00:00:00.000000000",
          "1952-03-31T00:00:00.000000000",
          "1952-04-30T00:00:00.000000000",
          "1952-05-31T00:00:00.000000000",
          "1952-06-30T00:00:00.000000000",
          "1952-07-31T00:00:00.000000000",
          "1952-08-31T00:00:00.000000000",
          "1952-09-30T00:00:00.000000000",
          "1952-10-31T00:00:00.000000000",
          "1952-11-30T00:00:00.000000000",
          "1952-12-31T00:00:00.000000000",
          "1953-01-31T00:00:00.000000000",
          "1953-02-28T00:00:00.000000000",
          "1953-03-31T00:00:00.000000000",
          "1953-04-30T00:00:00.000000000",
          "1953-05-31T00:00:00.000000000",
          "1953-06-30T00:00:00.000000000",
          "1953-07-31T00:00:00.000000000",
          "1953-08-31T00:00:00.000000000",
          "1953-09-30T00:00:00.000000000",
          "1953-10-31T00:00:00.000000000",
          "1953-11-30T00:00:00.000000000",
          "1953-12-31T00:00:00.000000000",
          "1954-01-31T00:00:00.000000000",
          "1954-02-28T00:00:00.000000000",
          "1954-03-31T00:00:00.000000000",
          "1954-04-30T00:00:00.000000000",
          "1954-05-31T00:00:00.000000000",
          "1954-06-30T00:00:00.000000000",
          "1954-07-31T00:00:00.000000000",
          "1954-08-31T00:00:00.000000000",
          "1954-09-30T00:00:00.000000000",
          "1954-10-31T00:00:00.000000000",
          "1954-11-30T00:00:00.000000000",
          "1954-12-31T00:00:00.000000000",
          "1955-01-31T00:00:00.000000000",
          "1955-02-28T00:00:00.000000000",
          "1955-03-31T00:00:00.000000000",
          "1955-04-30T00:00:00.000000000",
          "1955-05-31T00:00:00.000000000",
          "1955-06-30T00:00:00.000000000",
          "1955-07-31T00:00:00.000000000",
          "1955-08-31T00:00:00.000000000",
          "1955-09-30T00:00:00.000000000",
          "1955-10-31T00:00:00.000000000",
          "1955-11-30T00:00:00.000000000",
          "1955-12-31T00:00:00.000000000",
          "1956-01-31T00:00:00.000000000",
          "1956-02-29T00:00:00.000000000",
          "1956-03-31T00:00:00.000000000",
          "1956-04-30T00:00:00.000000000",
          "1956-05-31T00:00:00.000000000",
          "1956-06-30T00:00:00.000000000",
          "1956-07-31T00:00:00.000000000",
          "1956-08-31T00:00:00.000000000",
          "1956-09-30T00:00:00.000000000",
          "1956-10-31T00:00:00.000000000",
          "1956-11-30T00:00:00.000000000",
          "1956-12-31T00:00:00.000000000",
          "1957-01-31T00:00:00.000000000",
          "1957-02-28T00:00:00.000000000",
          "1957-03-31T00:00:00.000000000",
          "1957-04-30T00:00:00.000000000",
          "1957-05-31T00:00:00.000000000",
          "1957-06-30T00:00:00.000000000",
          "1957-07-31T00:00:00.000000000",
          "1957-08-31T00:00:00.000000000",
          "1957-09-30T00:00:00.000000000",
          "1957-10-31T00:00:00.000000000",
          "1957-11-30T00:00:00.000000000",
          "1957-12-31T00:00:00.000000000",
          "1958-01-31T00:00:00.000000000",
          "1958-02-28T00:00:00.000000000",
          "1958-03-31T00:00:00.000000000",
          "1958-04-30T00:00:00.000000000",
          "1958-05-31T00:00:00.000000000",
          "1958-06-30T00:00:00.000000000",
          "1958-07-31T00:00:00.000000000",
          "1958-08-31T00:00:00.000000000",
          "1958-09-30T00:00:00.000000000",
          "1958-10-31T00:00:00.000000000",
          "1958-11-30T00:00:00.000000000",
          "1958-12-31T00:00:00.000000000",
          "1959-01-31T00:00:00.000000000",
          "1959-02-28T00:00:00.000000000",
          "1959-03-31T00:00:00.000000000",
          "1959-04-30T00:00:00.000000000",
          "1959-05-31T00:00:00.000000000",
          "1959-06-30T00:00:00.000000000",
          "1959-07-31T00:00:00.000000000",
          "1959-08-31T00:00:00.000000000",
          "1959-09-30T00:00:00.000000000",
          "1959-10-31T00:00:00.000000000",
          "1959-11-30T00:00:00.000000000",
          "1959-12-31T00:00:00.000000000",
          "1960-01-31T00:00:00.000000000",
          "1960-02-29T00:00:00.000000000",
          "1960-03-31T00:00:00.000000000",
          "1960-04-30T00:00:00.000000000",
          "1960-05-31T00:00:00.000000000",
          "1960-06-30T00:00:00.000000000",
          "1960-07-31T00:00:00.000000000",
          "1960-08-31T00:00:00.000000000",
          "1960-09-30T00:00:00.000000000",
          "1960-10-31T00:00:00.000000000",
          "1960-11-30T00:00:00.000000000",
          "1960-12-31T00:00:00.000000000",
          "1961-01-31T00:00:00.000000000",
          "1961-02-28T00:00:00.000000000",
          "1961-03-31T00:00:00.000000000",
          "1961-04-30T00:00:00.000000000",
          "1961-05-31T00:00:00.000000000",
          "1961-06-30T00:00:00.000000000",
          "1961-07-31T00:00:00.000000000",
          "1961-08-31T00:00:00.000000000",
          "1961-09-30T00:00:00.000000000",
          "1961-10-31T00:00:00.000000000",
          "1961-11-30T00:00:00.000000000",
          "1961-12-31T00:00:00.000000000",
          "1962-01-31T00:00:00.000000000",
          "1962-02-28T00:00:00.000000000",
          "1962-03-31T00:00:00.000000000",
          "1962-04-30T00:00:00.000000000",
          "1962-05-31T00:00:00.000000000",
          "1962-06-30T00:00:00.000000000",
          "1962-07-31T00:00:00.000000000",
          "1962-08-31T00:00:00.000000000",
          "1962-09-30T00:00:00.000000000",
          "1962-10-31T00:00:00.000000000",
          "1962-11-30T00:00:00.000000000",
          "1962-12-31T00:00:00.000000000",
          "1963-01-31T00:00:00.000000000",
          "1963-02-28T00:00:00.000000000",
          "1963-03-31T00:00:00.000000000",
          "1963-04-30T00:00:00.000000000",
          "1963-05-31T00:00:00.000000000",
          "1963-06-30T00:00:00.000000000",
          "1963-07-31T00:00:00.000000000",
          "1963-08-31T00:00:00.000000000",
          "1963-09-30T00:00:00.000000000",
          "1963-10-31T00:00:00.000000000",
          "1963-11-30T00:00:00.000000000",
          "1963-12-31T00:00:00.000000000",
          "1964-01-31T00:00:00.000000000",
          "1964-02-29T00:00:00.000000000",
          "1964-03-31T00:00:00.000000000",
          "1964-04-30T00:00:00.000000000",
          "1964-05-31T00:00:00.000000000",
          "1964-06-30T00:00:00.000000000",
          "1964-07-31T00:00:00.000000000",
          "1964-08-31T00:00:00.000000000",
          "1964-09-30T00:00:00.000000000",
          "1964-10-31T00:00:00.000000000",
          "1964-11-30T00:00:00.000000000",
          "1964-12-31T00:00:00.000000000",
          "1965-01-31T00:00:00.000000000",
          "1965-02-28T00:00:00.000000000",
          "1965-03-31T00:00:00.000000000",
          "1965-04-30T00:00:00.000000000",
          "1965-05-31T00:00:00.000000000",
          "1965-06-30T00:00:00.000000000",
          "1965-07-31T00:00:00.000000000",
          "1965-08-31T00:00:00.000000000",
          "1965-09-30T00:00:00.000000000",
          "1965-10-31T00:00:00.000000000",
          "1965-11-30T00:00:00.000000000",
          "1965-12-31T00:00:00.000000000",
          "1966-01-31T00:00:00.000000000",
          "1966-02-28T00:00:00.000000000",
          "1966-03-31T00:00:00.000000000",
          "1966-04-30T00:00:00.000000000",
          "1966-05-31T00:00:00.000000000",
          "1966-06-30T00:00:00.000000000",
          "1966-07-31T00:00:00.000000000",
          "1966-08-31T00:00:00.000000000",
          "1966-09-30T00:00:00.000000000",
          "1966-10-31T00:00:00.000000000",
          "1966-11-30T00:00:00.000000000",
          "1966-12-31T00:00:00.000000000",
          "1967-01-31T00:00:00.000000000",
          "1967-02-28T00:00:00.000000000",
          "1967-03-31T00:00:00.000000000",
          "1967-04-30T00:00:00.000000000",
          "1967-05-31T00:00:00.000000000",
          "1967-06-30T00:00:00.000000000",
          "1967-07-31T00:00:00.000000000",
          "1967-08-31T00:00:00.000000000",
          "1967-09-30T00:00:00.000000000",
          "1967-10-31T00:00:00.000000000",
          "1967-11-30T00:00:00.000000000",
          "1967-12-31T00:00:00.000000000",
          "1968-01-31T00:00:00.000000000",
          "1968-02-29T00:00:00.000000000",
          "1968-03-31T00:00:00.000000000",
          "1968-04-30T00:00:00.000000000",
          "1968-05-31T00:00:00.000000000",
          "1968-06-30T00:00:00.000000000",
          "1968-07-31T00:00:00.000000000",
          "1968-08-31T00:00:00.000000000",
          "1968-09-30T00:00:00.000000000",
          "1968-10-31T00:00:00.000000000",
          "1968-11-30T00:00:00.000000000",
          "1968-12-31T00:00:00.000000000"
         ],
         "xaxis": "x",
         "y": {
          "bdata": "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",
          "dtype": "f8"
         },
         "yaxis": "y"
        },
        {
         "hovertemplate": "variable=trend_add_seasonal_mul_12<br>index=%{x}<br>value=%{y}<extra></extra>",
         "legendgroup": "trend_add_seasonal_mul_12",
         "line": {
          "color": "#EF553B",
          "dash": "solid"
         },
         "marker": {
          "symbol": "circle"
         },
         "mode": "lines",
         "name": "trend_add_seasonal_mul_12",
         "showlegend": true,
         "type": "scattergl",
         "x": [
          "1949-01-31T00:00:00.000000000",
          "1949-02-28T00:00:00.000000000",
          "1949-03-31T00:00:00.000000000",
          "1949-04-30T00:00:00.000000000",
          "1949-05-31T00:00:00.000000000",
          "1949-06-30T00:00:00.000000000",
          "1949-07-31T00:00:00.000000000",
          "1949-08-31T00:00:00.000000000",
          "1949-09-30T00:00:00.000000000",
          "1949-10-31T00:00:00.000000000",
          "1949-11-30T00:00:00.000000000",
          "1949-12-31T00:00:00.000000000",
          "1950-01-31T00:00:00.000000000",
          "1950-02-28T00:00:00.000000000",
          "1950-03-31T00:00:00.000000000",
          "1950-04-30T00:00:00.000000000",
          "1950-05-31T00:00:00.000000000",
          "1950-06-30T00:00:00.000000000",
          "1950-07-31T00:00:00.000000000",
          "1950-08-31T00:00:00.000000000",
          "1950-09-30T00:00:00.000000000",
          "1950-10-31T00:00:00.000000000",
          "1950-11-30T00:00:00.000000000",
          "1950-12-31T00:00:00.000000000",
          "1951-01-31T00:00:00.000000000",
          "1951-02-28T00:00:00.000000000",
          "1951-03-31T00:00:00.000000000",
          "1951-04-30T00:00:00.000000000",
          "1951-05-31T00:00:00.000000000",
          "1951-06-30T00:00:00.000000000",
          "1951-07-31T00:00:00.000000000",
          "1951-08-31T00:00:00.000000000",
          "1951-09-30T00:00:00.000000000",
          "1951-10-31T00:00:00.000000000",
          "1951-11-30T00:00:00.000000000",
          "1951-12-31T00:00:00.000000000",
          "1952-01-31T00:00:00.000000000",
          "1952-02-29T00:00:00.000000000",
          "1952-03-31T00:00:00.000000000",
          "1952-04-30T00:00:00.000000000",
          "1952-05-31T00:00:00.000000000",
          "1952-06-30T00:00:00.000000000",
          "1952-07-31T00:00:00.000000000",
          "1952-08-31T00:00:00.000000000",
          "1952-09-30T00:00:00.000000000",
          "1952-10-31T00:00:00.000000000",
          "1952-11-30T00:00:00.000000000",
          "1952-12-31T00:00:00.000000000",
          "1953-01-31T00:00:00.000000000",
          "1953-02-28T00:00:00.000000000",
          "1953-03-31T00:00:00.000000000",
          "1953-04-30T00:00:00.000000000",
          "1953-05-31T00:00:00.000000000",
          "1953-06-30T00:00:00.000000000",
          "1953-07-31T00:00:00.000000000",
          "1953-08-31T00:00:00.000000000",
          "1953-09-30T00:00:00.000000000",
          "1953-10-31T00:00:00.000000000",
          "1953-11-30T00:00:00.000000000",
          "1953-12-31T00:00:00.000000000",
          "1954-01-31T00:00:00.000000000",
          "1954-02-28T00:00:00.000000000",
          "1954-03-31T00:00:00.000000000",
          "1954-04-30T00:00:00.000000000",
          "1954-05-31T00:00:00.000000000",
          "1954-06-30T00:00:00.000000000",
          "1954-07-31T00:00:00.000000000",
          "1954-08-31T00:00:00.000000000",
          "1954-09-30T00:00:00.000000000",
          "1954-10-31T00:00:00.000000000",
          "1954-11-30T00:00:00.000000000",
          "1954-12-31T00:00:00.000000000",
          "1955-01-31T00:00:00.000000000",
          "1955-02-28T00:00:00.000000000",
          "1955-03-31T00:00:00.000000000",
          "1955-04-30T00:00:00.000000000",
          "1955-05-31T00:00:00.000000000",
          "1955-06-30T00:00:00.000000000",
          "1955-07-31T00:00:00.000000000",
          "1955-08-31T00:00:00.000000000",
          "1955-09-30T00:00:00.000000000",
          "1955-10-31T00:00:00.000000000",
          "1955-11-30T00:00:00.000000000",
          "1955-12-31T00:00:00.000000000",
          "1956-01-31T00:00:00.000000000",
          "1956-02-29T00:00:00.000000000",
          "1956-03-31T00:00:00.000000000",
          "1956-04-30T00:00:00.000000000",
          "1956-05-31T00:00:00.000000000",
          "1956-06-30T00:00:00.000000000",
          "1956-07-31T00:00:00.000000000",
          "1956-08-31T00:00:00.000000000",
          "1956-09-30T00:00:00.000000000",
          "1956-10-31T00:00:00.000000000",
          "1956-11-30T00:00:00.000000000",
          "1956-12-31T00:00:00.000000000",
          "1957-01-31T00:00:00.000000000",
          "1957-02-28T00:00:00.000000000",
          "1957-03-31T00:00:00.000000000",
          "1957-04-30T00:00:00.000000000",
          "1957-05-31T00:00:00.000000000",
          "1957-06-30T00:00:00.000000000",
          "1957-07-31T00:00:00.000000000",
          "1957-08-31T00:00:00.000000000",
          "1957-09-30T00:00:00.000000000",
          "1957-10-31T00:00:00.000000000",
          "1957-11-30T00:00:00.000000000",
          "1957-12-31T00:00:00.000000000",
          "1958-01-31T00:00:00.000000000",
          "1958-02-28T00:00:00.000000000",
          "1958-03-31T00:00:00.000000000",
          "1958-04-30T00:00:00.000000000",
          "1958-05-31T00:00:00.000000000",
          "1958-06-30T00:00:00.000000000",
          "1958-07-31T00:00:00.000000000",
          "1958-08-31T00:00:00.000000000",
          "1958-09-30T00:00:00.000000000",
          "1958-10-31T00:00:00.000000000",
          "1958-11-30T00:00:00.000000000",
          "1958-12-31T00:00:00.000000000",
          "1959-01-31T00:00:00.000000000",
          "1959-02-28T00:00:00.000000000",
          "1959-03-31T00:00:00.000000000",
          "1959-04-30T00:00:00.000000000",
          "1959-05-31T00:00:00.000000000",
          "1959-06-30T00:00:00.000000000",
          "1959-07-31T00:00:00.000000000",
          "1959-08-31T00:00:00.000000000",
          "1959-09-30T00:00:00.000000000",
          "1959-10-31T00:00:00.000000000",
          "1959-11-30T00:00:00.000000000",
          "1959-12-31T00:00:00.000000000",
          "1960-01-31T00:00:00.000000000",
          "1960-02-29T00:00:00.000000000",
          "1960-03-31T00:00:00.000000000",
          "1960-04-30T00:00:00.000000000",
          "1960-05-31T00:00:00.000000000",
          "1960-06-30T00:00:00.000000000",
          "1960-07-31T00:00:00.000000000",
          "1960-08-31T00:00:00.000000000",
          "1960-09-30T00:00:00.000000000",
          "1960-10-31T00:00:00.000000000",
          "1960-11-30T00:00:00.000000000",
          "1960-12-31T00:00:00.000000000",
          "1961-01-31T00:00:00.000000000",
          "1961-02-28T00:00:00.000000000",
          "1961-03-31T00:00:00.000000000",
          "1961-04-30T00:00:00.000000000",
          "1961-05-31T00:00:00.000000000",
          "1961-06-30T00:00:00.000000000",
          "1961-07-31T00:00:00.000000000",
          "1961-08-31T00:00:00.000000000",
          "1961-09-30T00:00:00.000000000",
          "1961-10-31T00:00:00.000000000",
          "1961-11-30T00:00:00.000000000",
          "1961-12-31T00:00:00.000000000",
          "1962-01-31T00:00:00.000000000",
          "1962-02-28T00:00:00.000000000",
          "1962-03-31T00:00:00.000000000",
          "1962-04-30T00:00:00.000000000",
          "1962-05-31T00:00:00.000000000",
          "1962-06-30T00:00:00.000000000",
          "1962-07-31T00:00:00.000000000",
          "1962-08-31T00:00:00.000000000",
          "1962-09-30T00:00:00.000000000",
          "1962-10-31T00:00:00.000000000",
          "1962-11-30T00:00:00.000000000",
          "1962-12-31T00:00:00.000000000",
          "1963-01-31T00:00:00.000000000",
          "1963-02-28T00:00:00.000000000",
          "1963-03-31T00:00:00.000000000",
          "1963-04-30T00:00:00.000000000",
          "1963-05-31T00:00:00.000000000",
          "1963-06-30T00:00:00.000000000",
          "1963-07-31T00:00:00.000000000",
          "1963-08-31T00:00:00.000000000",
          "1963-09-30T00:00:00.000000000",
          "1963-10-31T00:00:00.000000000",
          "1963-11-30T00:00:00.000000000",
          "1963-12-31T00:00:00.000000000",
          "1964-01-31T00:00:00.000000000",
          "1964-02-29T00:00:00.000000000",
          "1964-03-31T00:00:00.000000000",
          "1964-04-30T00:00:00.000000000",
          "1964-05-31T00:00:00.000000000",
          "1964-06-30T00:00:00.000000000",
          "1964-07-31T00:00:00.000000000",
          "1964-08-31T00:00:00.000000000",
          "1964-09-30T00:00:00.000000000",
          "1964-10-31T00:00:00.000000000",
          "1964-11-30T00:00:00.000000000",
          "1964-12-31T00:00:00.000000000",
          "1965-01-31T00:00:00.000000000",
          "1965-02-28T00:00:00.000000000",
          "1965-03-31T00:00:00.000000000",
          "1965-04-30T00:00:00.000000000",
          "1965-05-31T00:00:00.000000000",
          "1965-06-30T00:00:00.000000000",
          "1965-07-31T00:00:00.000000000",
          "1965-08-31T00:00:00.000000000",
          "1965-09-30T00:00:00.000000000",
          "1965-10-31T00:00:00.000000000",
          "1965-11-30T00:00:00.000000000",
          "1965-12-31T00:00:00.000000000",
          "1966-01-31T00:00:00.000000000",
          "1966-02-28T00:00:00.000000000",
          "1966-03-31T00:00:00.000000000",
          "1966-04-30T00:00:00.000000000",
          "1966-05-31T00:00:00.000000000",
          "1966-06-30T00:00:00.000000000",
          "1966-07-31T00:00:00.000000000",
          "1966-08-31T00:00:00.000000000",
          "1966-09-30T00:00:00.000000000",
          "1966-10-31T00:00:00.000000000",
          "1966-11-30T00:00:00.000000000",
          "1966-12-31T00:00:00.000000000",
          "1967-01-31T00:00:00.000000000",
          "1967-02-28T00:00:00.000000000",
          "1967-03-31T00:00:00.000000000",
          "1967-04-30T00:00:00.000000000",
          "1967-05-31T00:00:00.000000000",
          "1967-06-30T00:00:00.000000000",
          "1967-07-31T00:00:00.000000000",
          "1967-08-31T00:00:00.000000000",
          "1967-09-30T00:00:00.000000000",
          "1967-10-31T00:00:00.000000000",
          "1967-11-30T00:00:00.000000000",
          "1967-12-31T00:00:00.000000000",
          "1968-01-31T00:00:00.000000000",
          "1968-02-29T00:00:00.000000000",
          "1968-03-31T00:00:00.000000000",
          "1968-04-30T00:00:00.000000000",
          "1968-05-31T00:00:00.000000000",
          "1968-06-30T00:00:00.000000000",
          "1968-07-31T00:00:00.000000000",
          "1968-08-31T00:00:00.000000000",
          "1968-09-30T00:00:00.000000000",
          "1968-10-31T00:00:00.000000000",
          "1968-11-30T00:00:00.000000000",
          "1968-12-31T00:00:00.000000000"
         ],
         "xaxis": "x",
         "y": {
          "bdata": "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",
          "dtype": "f8"
         },
         "yaxis": "y"
        },
        {
         "hovertemplate": "variable=trend_mul_seasonal_mul_12<br>index=%{x}<br>value=%{y}<extra></extra>",
         "legendgroup": "trend_mul_seasonal_mul_12",
         "line": {
          "color": "#00cc96",
          "dash": "solid"
         },
         "marker": {
          "symbol": "circle"
         },
         "mode": "lines",
         "name": "trend_mul_seasonal_mul_12",
         "showlegend": true,
         "type": "scattergl",
         "x": [
          "1949-01-31T00:00:00.000000000",
          "1949-02-28T00:00:00.000000000",
          "1949-03-31T00:00:00.000000000",
          "1949-04-30T00:00:00.000000000",
          "1949-05-31T00:00:00.000000000",
          "1949-06-30T00:00:00.000000000",
          "1949-07-31T00:00:00.000000000",
          "1949-08-31T00:00:00.000000000",
          "1949-09-30T00:00:00.000000000",
          "1949-10-31T00:00:00.000000000",
          "1949-11-30T00:00:00.000000000",
          "1949-12-31T00:00:00.000000000",
          "1950-01-31T00:00:00.000000000",
          "1950-02-28T00:00:00.000000000",
          "1950-03-31T00:00:00.000000000",
          "1950-04-30T00:00:00.000000000",
          "1950-05-31T00:00:00.000000000",
          "1950-06-30T00:00:00.000000000",
          "1950-07-31T00:00:00.000000000",
          "1950-08-31T00:00:00.000000000",
          "1950-09-30T00:00:00.000000000",
          "1950-10-31T00:00:00.000000000",
          "1950-11-30T00:00:00.000000000",
          "1950-12-31T00:00:00.000000000",
          "1951-01-31T00:00:00.000000000",
          "1951-02-28T00:00:00.000000000",
          "1951-03-31T00:00:00.000000000",
          "1951-04-30T00:00:00.000000000",
          "1951-05-31T00:00:00.000000000",
          "1951-06-30T00:00:00.000000000",
          "1951-07-31T00:00:00.000000000",
          "1951-08-31T00:00:00.000000000",
          "1951-09-30T00:00:00.000000000",
          "1951-10-31T00:00:00.000000000",
          "1951-11-30T00:00:00.000000000",
          "1951-12-31T00:00:00.000000000",
          "1952-01-31T00:00:00.000000000",
          "1952-02-29T00:00:00.000000000",
          "1952-03-31T00:00:00.000000000",
          "1952-04-30T00:00:00.000000000",
          "1952-05-31T00:00:00.000000000",
          "1952-06-30T00:00:00.000000000",
          "1952-07-31T00:00:00.000000000",
          "1952-08-31T00:00:00.000000000",
          "1952-09-30T00:00:00.000000000",
          "1952-10-31T00:00:00.000000000",
          "1952-11-30T00:00:00.000000000",
          "1952-12-31T00:00:00.000000000",
          "1953-01-31T00:00:00.000000000",
          "1953-02-28T00:00:00.000000000",
          "1953-03-31T00:00:00.000000000",
          "1953-04-30T00:00:00.000000000",
          "1953-05-31T00:00:00.000000000",
          "1953-06-30T00:00:00.000000000",
          "1953-07-31T00:00:00.000000000",
          "1953-08-31T00:00:00.000000000",
          "1953-09-30T00:00:00.000000000",
          "1953-10-31T00:00:00.000000000",
          "1953-11-30T00:00:00.000000000",
          "1953-12-31T00:00:00.000000000",
          "1954-01-31T00:00:00.000000000",
          "1954-02-28T00:00:00.000000000",
          "1954-03-31T00:00:00.000000000",
          "1954-04-30T00:00:00.000000000",
          "1954-05-31T00:00:00.000000000",
          "1954-06-30T00:00:00.000000000",
          "1954-07-31T00:00:00.000000000",
          "1954-08-31T00:00:00.000000000",
          "1954-09-30T00:00:00.000000000",
          "1954-10-31T00:00:00.000000000",
          "1954-11-30T00:00:00.000000000",
          "1954-12-31T00:00:00.000000000",
          "1955-01-31T00:00:00.000000000",
          "1955-02-28T00:00:00.000000000",
          "1955-03-31T00:00:00.000000000",
          "1955-04-30T00:00:00.000000000",
          "1955-05-31T00:00:00.000000000",
          "1955-06-30T00:00:00.000000000",
          "1955-07-31T00:00:00.000000000",
          "1955-08-31T00:00:00.000000000",
          "1955-09-30T00:00:00.000000000",
          "1955-10-31T00:00:00.000000000",
          "1955-11-30T00:00:00.000000000",
          "1955-12-31T00:00:00.000000000",
          "1956-01-31T00:00:00.000000000",
          "1956-02-29T00:00:00.000000000",
          "1956-03-31T00:00:00.000000000",
          "1956-04-30T00:00:00.000000000",
          "1956-05-31T00:00:00.000000000",
          "1956-06-30T00:00:00.000000000",
          "1956-07-31T00:00:00.000000000",
          "1956-08-31T00:00:00.000000000",
          "1956-09-30T00:00:00.000000000",
          "1956-10-31T00:00:00.000000000",
          "1956-11-30T00:00:00.000000000",
          "1956-12-31T00:00:00.000000000",
          "1957-01-31T00:00:00.000000000",
          "1957-02-28T00:00:00.000000000",
          "1957-03-31T00:00:00.000000000",
          "1957-04-30T00:00:00.000000000",
          "1957-05-31T00:00:00.000000000",
          "1957-06-30T00:00:00.000000000",
          "1957-07-31T00:00:00.000000000",
          "1957-08-31T00:00:00.000000000",
          "1957-09-30T00:00:00.000000000",
          "1957-10-31T00:00:00.000000000",
          "1957-11-30T00:00:00.000000000",
          "1957-12-31T00:00:00.000000000",
          "1958-01-31T00:00:00.000000000",
          "1958-02-28T00:00:00.000000000",
          "1958-03-31T00:00:00.000000000",
          "1958-04-30T00:00:00.000000000",
          "1958-05-31T00:00:00.000000000",
          "1958-06-30T00:00:00.000000000",
          "1958-07-31T00:00:00.000000000",
          "1958-08-31T00:00:00.000000000",
          "1958-09-30T00:00:00.000000000",
          "1958-10-31T00:00:00.000000000",
          "1958-11-30T00:00:00.000000000",
          "1958-12-31T00:00:00.000000000",
          "1959-01-31T00:00:00.000000000",
          "1959-02-28T00:00:00.000000000",
          "1959-03-31T00:00:00.000000000",
          "1959-04-30T00:00:00.000000000",
          "1959-05-31T00:00:00.000000000",
          "1959-06-30T00:00:00.000000000",
          "1959-07-31T00:00:00.000000000",
          "1959-08-31T00:00:00.000000000",
          "1959-09-30T00:00:00.000000000",
          "1959-10-31T00:00:00.000000000",
          "1959-11-30T00:00:00.000000000",
          "1959-12-31T00:00:00.000000000",
          "1960-01-31T00:00:00.000000000",
          "1960-02-29T00:00:00.000000000",
          "1960-03-31T00:00:00.000000000",
          "1960-04-30T00:00:00.000000000",
          "1960-05-31T00:00:00.000000000",
          "1960-06-30T00:00:00.000000000",
          "1960-07-31T00:00:00.000000000",
          "1960-08-31T00:00:00.000000000",
          "1960-09-30T00:00:00.000000000",
          "1960-10-31T00:00:00.000000000",
          "1960-11-30T00:00:00.000000000",
          "1960-12-31T00:00:00.000000000",
          "1961-01-31T00:00:00.000000000",
          "1961-02-28T00:00:00.000000000",
          "1961-03-31T00:00:00.000000000",
          "1961-04-30T00:00:00.000000000",
          "1961-05-31T00:00:00.000000000",
          "1961-06-30T00:00:00.000000000",
          "1961-07-31T00:00:00.000000000",
          "1961-08-31T00:00:00.000000000",
          "1961-09-30T00:00:00.000000000",
          "1961-10-31T00:00:00.000000000",
          "1961-11-30T00:00:00.000000000",
          "1961-12-31T00:00:00.000000000",
          "1962-01-31T00:00:00.000000000",
          "1962-02-28T00:00:00.000000000",
          "1962-03-31T00:00:00.000000000",
          "1962-04-30T00:00:00.000000000",
          "1962-05-31T00:00:00.000000000",
          "1962-06-30T00:00:00.000000000",
          "1962-07-31T00:00:00.000000000",
          "1962-08-31T00:00:00.000000000",
          "1962-09-30T00:00:00.000000000",
          "1962-10-31T00:00:00.000000000",
          "1962-11-30T00:00:00.000000000",
          "1962-12-31T00:00:00.000000000",
          "1963-01-31T00:00:00.000000000",
          "1963-02-28T00:00:00.000000000",
          "1963-03-31T00:00:00.000000000",
          "1963-04-30T00:00:00.000000000",
          "1963-05-31T00:00:00.000000000",
          "1963-06-30T00:00:00.000000000",
          "1963-07-31T00:00:00.000000000",
          "1963-08-31T00:00:00.000000000",
          "1963-09-30T00:00:00.000000000",
          "1963-10-31T00:00:00.000000000",
          "1963-11-30T00:00:00.000000000",
          "1963-12-31T00:00:00.000000000",
          "1964-01-31T00:00:00.000000000",
          "1964-02-29T00:00:00.000000000",
          "1964-03-31T00:00:00.000000000",
          "1964-04-30T00:00:00.000000000",
          "1964-05-31T00:00:00.000000000",
          "1964-06-30T00:00:00.000000000",
          "1964-07-31T00:00:00.000000000",
          "1964-08-31T00:00:00.000000000",
          "1964-09-30T00:00:00.000000000",
          "1964-10-31T00:00:00.000000000",
          "1964-11-30T00:00:00.000000000",
          "1964-12-31T00:00:00.000000000",
          "1965-01-31T00:00:00.000000000",
          "1965-02-28T00:00:00.000000000",
          "1965-03-31T00:00:00.000000000",
          "1965-04-30T00:00:00.000000000",
          "1965-05-31T00:00:00.000000000",
          "1965-06-30T00:00:00.000000000",
          "1965-07-31T00:00:00.000000000",
          "1965-08-31T00:00:00.000000000",
          "1965-09-30T00:00:00.000000000",
          "1965-10-31T00:00:00.000000000",
          "1965-11-30T00:00:00.000000000",
          "1965-12-31T00:00:00.000000000",
          "1966-01-31T00:00:00.000000000",
          "1966-02-28T00:00:00.000000000",
          "1966-03-31T00:00:00.000000000",
          "1966-04-30T00:00:00.000000000",
          "1966-05-31T00:00:00.000000000",
          "1966-06-30T00:00:00.000000000",
          "1966-07-31T00:00:00.000000000",
          "1966-08-31T00:00:00.000000000",
          "1966-09-30T00:00:00.000000000",
          "1966-10-31T00:00:00.000000000",
          "1966-11-30T00:00:00.000000000",
          "1966-12-31T00:00:00.000000000",
          "1967-01-31T00:00:00.000000000",
          "1967-02-28T00:00:00.000000000",
          "1967-03-31T00:00:00.000000000",
          "1967-04-30T00:00:00.000000000",
          "1967-05-31T00:00:00.000000000",
          "1967-06-30T00:00:00.000000000",
          "1967-07-31T00:00:00.000000000",
          "1967-08-31T00:00:00.000000000",
          "1967-09-30T00:00:00.000000000",
          "1967-10-31T00:00:00.000000000",
          "1967-11-30T00:00:00.000000000",
          "1967-12-31T00:00:00.000000000",
          "1968-01-31T00:00:00.000000000",
          "1968-02-29T00:00:00.000000000",
          "1968-03-31T00:00:00.000000000",
          "1968-04-30T00:00:00.000000000",
          "1968-05-31T00:00:00.000000000",
          "1968-06-30T00:00:00.000000000",
          "1968-07-31T00:00:00.000000000",
          "1968-08-31T00:00:00.000000000",
          "1968-09-30T00:00:00.000000000",
          "1968-10-31T00:00:00.000000000",
          "1968-11-30T00:00:00.000000000",
          "1968-12-31T00:00:00.000000000"
         ],
         "xaxis": "x",
         "y": {
          "bdata": "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",
          "dtype": "f8"
         },
         "yaxis": "y"
        },
        {
         "hovertemplate": "variable=trend_add_seasonal_add_12<br>index=%{x}<br>value=%{y}<extra></extra>",
         "legendgroup": "trend_add_seasonal_add_12",
         "line": {
          "color": "#ab63fa",
          "dash": "solid"
         },
         "marker": {
          "symbol": "circle"
         },
         "mode": "lines",
         "name": "trend_add_seasonal_add_12",
         "showlegend": true,
         "type": "scattergl",
         "x": [
          "1949-01-31T00:00:00.000000000",
          "1949-02-28T00:00:00.000000000",
          "1949-03-31T00:00:00.000000000",
          "1949-04-30T00:00:00.000000000",
          "1949-05-31T00:00:00.000000000",
          "1949-06-30T00:00:00.000000000",
          "1949-07-31T00:00:00.000000000",
          "1949-08-31T00:00:00.000000000",
          "1949-09-30T00:00:00.000000000",
          "1949-10-31T00:00:00.000000000",
          "1949-11-30T00:00:00.000000000",
          "1949-12-31T00:00:00.000000000",
          "1950-01-31T00:00:00.000000000",
          "1950-02-28T00:00:00.000000000",
          "1950-03-31T00:00:00.000000000",
          "1950-04-30T00:00:00.000000000",
          "1950-05-31T00:00:00.000000000",
          "1950-06-30T00:00:00.000000000",
          "1950-07-31T00:00:00.000000000",
          "1950-08-31T00:00:00.000000000",
          "1950-09-30T00:00:00.000000000",
          "1950-10-31T00:00:00.000000000",
          "1950-11-30T00:00:00.000000000",
          "1950-12-31T00:00:00.000000000",
          "1951-01-31T00:00:00.000000000",
          "1951-02-28T00:00:00.000000000",
          "1951-03-31T00:00:00.000000000",
          "1951-04-30T00:00:00.000000000",
          "1951-05-31T00:00:00.000000000",
          "1951-06-30T00:00:00.000000000",
          "1951-07-31T00:00:00.000000000",
          "1951-08-31T00:00:00.000000000",
          "1951-09-30T00:00:00.000000000",
          "1951-10-31T00:00:00.000000000",
          "1951-11-30T00:00:00.000000000",
          "1951-12-31T00:00:00.000000000",
          "1952-01-31T00:00:00.000000000",
          "1952-02-29T00:00:00.000000000",
          "1952-03-31T00:00:00.000000000",
          "1952-04-30T00:00:00.000000000",
          "1952-05-31T00:00:00.000000000",
          "1952-06-30T00:00:00.000000000",
          "1952-07-31T00:00:00.000000000",
          "1952-08-31T00:00:00.000000000",
          "1952-09-30T00:00:00.000000000",
          "1952-10-31T00:00:00.000000000",
          "1952-11-30T00:00:00.000000000",
          "1952-12-31T00:00:00.000000000",
          "1953-01-31T00:00:00.000000000",
          "1953-02-28T00:00:00.000000000",
          "1953-03-31T00:00:00.000000000",
          "1953-04-30T00:00:00.000000000",
          "1953-05-31T00:00:00.000000000",
          "1953-06-30T00:00:00.000000000",
          "1953-07-31T00:00:00.000000000",
          "1953-08-31T00:00:00.000000000",
          "1953-09-30T00:00:00.000000000",
          "1953-10-31T00:00:00.000000000",
          "1953-11-30T00:00:00.000000000",
          "1953-12-31T00:00:00.000000000",
          "1954-01-31T00:00:00.000000000",
          "1954-02-28T00:00:00.000000000",
          "1954-03-31T00:00:00.000000000",
          "1954-04-30T00:00:00.000000000",
          "1954-05-31T00:00:00.000000000",
          "1954-06-30T00:00:00.000000000",
          "1954-07-31T00:00:00.000000000",
          "1954-08-31T00:00:00.000000000",
          "1954-09-30T00:00:00.000000000",
          "1954-10-31T00:00:00.000000000",
          "1954-11-30T00:00:00.000000000",
          "1954-12-31T00:00:00.000000000",
          "1955-01-31T00:00:00.000000000",
          "1955-02-28T00:00:00.000000000",
          "1955-03-31T00:00:00.000000000",
          "1955-04-30T00:00:00.000000000",
          "1955-05-31T00:00:00.000000000",
          "1955-06-30T00:00:00.000000000",
          "1955-07-31T00:00:00.000000000",
          "1955-08-31T00:00:00.000000000",
          "1955-09-30T00:00:00.000000000",
          "1955-10-31T00:00:00.000000000",
          "1955-11-30T00:00:00.000000000",
          "1955-12-31T00:00:00.000000000",
          "1956-01-31T00:00:00.000000000",
          "1956-02-29T00:00:00.000000000",
          "1956-03-31T00:00:00.000000000",
          "1956-04-30T00:00:00.000000000",
          "1956-05-31T00:00:00.000000000",
          "1956-06-30T00:00:00.000000000",
          "1956-07-31T00:00:00.000000000",
          "1956-08-31T00:00:00.000000000",
          "1956-09-30T00:00:00.000000000",
          "1956-10-31T00:00:00.000000000",
          "1956-11-30T00:00:00.000000000",
          "1956-12-31T00:00:00.000000000",
          "1957-01-31T00:00:00.000000000",
          "1957-02-28T00:00:00.000000000",
          "1957-03-31T00:00:00.000000000",
          "1957-04-30T00:00:00.000000000",
          "1957-05-31T00:00:00.000000000",
          "1957-06-30T00:00:00.000000000",
          "1957-07-31T00:00:00.000000000",
          "1957-08-31T00:00:00.000000000",
          "1957-09-30T00:00:00.000000000",
          "1957-10-31T00:00:00.000000000",
          "1957-11-30T00:00:00.000000000",
          "1957-12-31T00:00:00.000000000",
          "1958-01-31T00:00:00.000000000",
          "1958-02-28T00:00:00.000000000",
          "1958-03-31T00:00:00.000000000",
          "1958-04-30T00:00:00.000000000",
          "1958-05-31T00:00:00.000000000",
          "1958-06-30T00:00:00.000000000",
          "1958-07-31T00:00:00.000000000",
          "1958-08-31T00:00:00.000000000",
          "1958-09-30T00:00:00.000000000",
          "1958-10-31T00:00:00.000000000",
          "1958-11-30T00:00:00.000000000",
          "1958-12-31T00:00:00.000000000",
          "1959-01-31T00:00:00.000000000",
          "1959-02-28T00:00:00.000000000",
          "1959-03-31T00:00:00.000000000",
          "1959-04-30T00:00:00.000000000",
          "1959-05-31T00:00:00.000000000",
          "1959-06-30T00:00:00.000000000",
          "1959-07-31T00:00:00.000000000",
          "1959-08-31T00:00:00.000000000",
          "1959-09-30T00:00:00.000000000",
          "1959-10-31T00:00:00.000000000",
          "1959-11-30T00:00:00.000000000",
          "1959-12-31T00:00:00.000000000",
          "1960-01-31T00:00:00.000000000",
          "1960-02-29T00:00:00.000000000",
          "1960-03-31T00:00:00.000000000",
          "1960-04-30T00:00:00.000000000",
          "1960-05-31T00:00:00.000000000",
          "1960-06-30T00:00:00.000000000",
          "1960-07-31T00:00:00.000000000",
          "1960-08-31T00:00:00.000000000",
          "1960-09-30T00:00:00.000000000",
          "1960-10-31T00:00:00.000000000",
          "1960-11-30T00:00:00.000000000",
          "1960-12-31T00:00:00.000000000",
          "1961-01-31T00:00:00.000000000",
          "1961-02-28T00:00:00.000000000",
          "1961-03-31T00:00:00.000000000",
          "1961-04-30T00:00:00.000000000",
          "1961-05-31T00:00:00.000000000",
          "1961-06-30T00:00:00.000000000",
          "1961-07-31T00:00:00.000000000",
          "1961-08-31T00:00:00.000000000",
          "1961-09-30T00:00:00.000000000",
          "1961-10-31T00:00:00.000000000",
          "1961-11-30T00:00:00.000000000",
          "1961-12-31T00:00:00.000000000",
          "1962-01-31T00:00:00.000000000",
          "1962-02-28T00:00:00.000000000",
          "1962-03-31T00:00:00.000000000",
          "1962-04-30T00:00:00.000000000",
          "1962-05-31T00:00:00.000000000",
          "1962-06-30T00:00:00.000000000",
          "1962-07-31T00:00:00.000000000",
          "1962-08-31T00:00:00.000000000",
          "1962-09-30T00:00:00.000000000",
          "1962-10-31T00:00:00.000000000",
          "1962-11-30T00:00:00.000000000",
          "1962-12-31T00:00:00.000000000",
          "1963-01-31T00:00:00.000000000",
          "1963-02-28T00:00:00.000000000",
          "1963-03-31T00:00:00.000000000",
          "1963-04-30T00:00:00.000000000",
          "1963-05-31T00:00:00.000000000",
          "1963-06-30T00:00:00.000000000",
          "1963-07-31T00:00:00.000000000",
          "1963-08-31T00:00:00.000000000",
          "1963-09-30T00:00:00.000000000",
          "1963-10-31T00:00:00.000000000",
          "1963-11-30T00:00:00.000000000",
          "1963-12-31T00:00:00.000000000",
          "1964-01-31T00:00:00.000000000",
          "1964-02-29T00:00:00.000000000",
          "1964-03-31T00:00:00.000000000",
          "1964-04-30T00:00:00.000000000",
          "1964-05-31T00:00:00.000000000",
          "1964-06-30T00:00:00.000000000",
          "1964-07-31T00:00:00.000000000",
          "1964-08-31T00:00:00.000000000",
          "1964-09-30T00:00:00.000000000",
          "1964-10-31T00:00:00.000000000",
          "1964-11-30T00:00:00.000000000",
          "1964-12-31T00:00:00.000000000",
          "1965-01-31T00:00:00.000000000",
          "1965-02-28T00:00:00.000000000",
          "1965-03-31T00:00:00.000000000",
          "1965-04-30T00:00:00.000000000",
          "1965-05-31T00:00:00.000000000",
          "1965-06-30T00:00:00.000000000",
          "1965-07-31T00:00:00.000000000",
          "1965-08-31T00:00:00.000000000",
          "1965-09-30T00:00:00.000000000",
          "1965-10-31T00:00:00.000000000",
          "1965-11-30T00:00:00.000000000",
          "1965-12-31T00:00:00.000000000",
          "1966-01-31T00:00:00.000000000",
          "1966-02-28T00:00:00.000000000",
          "1966-03-31T00:00:00.000000000",
          "1966-04-30T00:00:00.000000000",
          "1966-05-31T00:00:00.000000000",
          "1966-06-30T00:00:00.000000000",
          "1966-07-31T00:00:00.000000000",
          "1966-08-31T00:00:00.000000000",
          "1966-09-30T00:00:00.000000000",
          "1966-10-31T00:00:00.000000000",
          "1966-11-30T00:00:00.000000000",
          "1966-12-31T00:00:00.000000000",
          "1967-01-31T00:00:00.000000000",
          "1967-02-28T00:00:00.000000000",
          "1967-03-31T00:00:00.000000000",
          "1967-04-30T00:00:00.000000000",
          "1967-05-31T00:00:00.000000000",
          "1967-06-30T00:00:00.000000000",
          "1967-07-31T00:00:00.000000000",
          "1967-08-31T00:00:00.000000000",
          "1967-09-30T00:00:00.000000000",
          "1967-10-31T00:00:00.000000000",
          "1967-11-30T00:00:00.000000000",
          "1967-12-31T00:00:00.000000000",
          "1968-01-31T00:00:00.000000000",
          "1968-02-29T00:00:00.000000000",
          "1968-03-31T00:00:00.000000000",
          "1968-04-30T00:00:00.000000000",
          "1968-05-31T00:00:00.000000000",
          "1968-06-30T00:00:00.000000000",
          "1968-07-31T00:00:00.000000000",
          "1968-08-31T00:00:00.000000000",
          "1968-09-30T00:00:00.000000000",
          "1968-10-31T00:00:00.000000000",
          "1968-11-30T00:00:00.000000000",
          "1968-12-31T00:00:00.000000000"
         ],
         "xaxis": "x",
         "y": {
          "bdata": "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",
          "dtype": "f8"
         },
         "yaxis": "y"
        },
        {
         "hovertemplate": "variable=baseline<br>index=%{x}<br>value=%{y}<extra></extra>",
         "legendgroup": "baseline",
         "line": {
          "color": "#FFA15A",
          "dash": "solid"
         },
         "marker": {
          "symbol": "circle"
         },
         "mode": "lines",
         "name": "baseline",
         "showlegend": true,
         "type": "scattergl",
         "x": [
          "1949-01-31T00:00:00.000000000",
          "1949-02-28T00:00:00.000000000",
          "1949-03-31T00:00:00.000000000",
          "1949-04-30T00:00:00.000000000",
          "1949-05-31T00:00:00.000000000",
          "1949-06-30T00:00:00.000000000",
          "1949-07-31T00:00:00.000000000",
          "1949-08-31T00:00:00.000000000",
          "1949-09-30T00:00:00.000000000",
          "1949-10-31T00:00:00.000000000",
          "1949-11-30T00:00:00.000000000",
          "1949-12-31T00:00:00.000000000",
          "1950-01-31T00:00:00.000000000",
          "1950-02-28T00:00:00.000000000",
          "1950-03-31T00:00:00.000000000",
          "1950-04-30T00:00:00.000000000",
          "1950-05-31T00:00:00.000000000",
          "1950-06-30T00:00:00.000000000",
          "1950-07-31T00:00:00.000000000",
          "1950-08-31T00:00:00.000000000",
          "1950-09-30T00:00:00.000000000",
          "1950-10-31T00:00:00.000000000",
          "1950-11-30T00:00:00.000000000",
          "1950-12-31T00:00:00.000000000",
          "1951-01-31T00:00:00.000000000",
          "1951-02-28T00:00:00.000000000",
          "1951-03-31T00:00:00.000000000",
          "1951-04-30T00:00:00.000000000",
          "1951-05-31T00:00:00.000000000",
          "1951-06-30T00:00:00.000000000",
          "1951-07-31T00:00:00.000000000",
          "1951-08-31T00:00:00.000000000",
          "1951-09-30T00:00:00.000000000",
          "1951-10-31T00:00:00.000000000",
          "1951-11-30T00:00:00.000000000",
          "1951-12-31T00:00:00.000000000",
          "1952-01-31T00:00:00.000000000",
          "1952-02-29T00:00:00.000000000",
          "1952-03-31T00:00:00.000000000",
          "1952-04-30T00:00:00.000000000",
          "1952-05-31T00:00:00.000000000",
          "1952-06-30T00:00:00.000000000",
          "1952-07-31T00:00:00.000000000",
          "1952-08-31T00:00:00.000000000",
          "1952-09-30T00:00:00.000000000",
          "1952-10-31T00:00:00.000000000",
          "1952-11-30T00:00:00.000000000",
          "1952-12-31T00:00:00.000000000",
          "1953-01-31T00:00:00.000000000",
          "1953-02-28T00:00:00.000000000",
          "1953-03-31T00:00:00.000000000",
          "1953-04-30T00:00:00.000000000",
          "1953-05-31T00:00:00.000000000",
          "1953-06-30T00:00:00.000000000",
          "1953-07-31T00:00:00.000000000",
          "1953-08-31T00:00:00.000000000",
          "1953-09-30T00:00:00.000000000",
          "1953-10-31T00:00:00.000000000",
          "1953-11-30T00:00:00.000000000",
          "1953-12-31T00:00:00.000000000",
          "1954-01-31T00:00:00.000000000",
          "1954-02-28T00:00:00.000000000",
          "1954-03-31T00:00:00.000000000",
          "1954-04-30T00:00:00.000000000",
          "1954-05-31T00:00:00.000000000",
          "1954-06-30T00:00:00.000000000",
          "1954-07-31T00:00:00.000000000",
          "1954-08-31T00:00:00.000000000",
          "1954-09-30T00:00:00.000000000",
          "1954-10-31T00:00:00.000000000",
          "1954-11-30T00:00:00.000000000",
          "1954-12-31T00:00:00.000000000",
          "1955-01-31T00:00:00.000000000",
          "1955-02-28T00:00:00.000000000",
          "1955-03-31T00:00:00.000000000",
          "1955-04-30T00:00:00.000000000",
          "1955-05-31T00:00:00.000000000",
          "1955-06-30T00:00:00.000000000",
          "1955-07-31T00:00:00.000000000",
          "1955-08-31T00:00:00.000000000",
          "1955-09-30T00:00:00.000000000",
          "1955-10-31T00:00:00.000000000",
          "1955-11-30T00:00:00.000000000",
          "1955-12-31T00:00:00.000000000",
          "1956-01-31T00:00:00.000000000",
          "1956-02-29T00:00:00.000000000",
          "1956-03-31T00:00:00.000000000",
          "1956-04-30T00:00:00.000000000",
          "1956-05-31T00:00:00.000000000",
          "1956-06-30T00:00:00.000000000",
          "1956-07-31T00:00:00.000000000",
          "1956-08-31T00:00:00.000000000",
          "1956-09-30T00:00:00.000000000",
          "1956-10-31T00:00:00.000000000",
          "1956-11-30T00:00:00.000000000",
          "1956-12-31T00:00:00.000000000",
          "1957-01-31T00:00:00.000000000",
          "1957-02-28T00:00:00.000000000",
          "1957-03-31T00:00:00.000000000",
          "1957-04-30T00:00:00.000000000",
          "1957-05-31T00:00:00.000000000",
          "1957-06-30T00:00:00.000000000",
          "1957-07-31T00:00:00.000000000",
          "1957-08-31T00:00:00.000000000",
          "1957-09-30T00:00:00.000000000",
          "1957-10-31T00:00:00.000000000",
          "1957-11-30T00:00:00.000000000",
          "1957-12-31T00:00:00.000000000",
          "1958-01-31T00:00:00.000000000",
          "1958-02-28T00:00:00.000000000",
          "1958-03-31T00:00:00.000000000",
          "1958-04-30T00:00:00.000000000",
          "1958-05-31T00:00:00.000000000",
          "1958-06-30T00:00:00.000000000",
          "1958-07-31T00:00:00.000000000",
          "1958-08-31T00:00:00.000000000",
          "1958-09-30T00:00:00.000000000",
          "1958-10-31T00:00:00.000000000",
          "1958-11-30T00:00:00.000000000",
          "1958-12-31T00:00:00.000000000",
          "1959-01-31T00:00:00.000000000",
          "1959-02-28T00:00:00.000000000",
          "1959-03-31T00:00:00.000000000",
          "1959-04-30T00:00:00.000000000",
          "1959-05-31T00:00:00.000000000",
          "1959-06-30T00:00:00.000000000",
          "1959-07-31T00:00:00.000000000",
          "1959-08-31T00:00:00.000000000",
          "1959-09-30T00:00:00.000000000",
          "1959-10-31T00:00:00.000000000",
          "1959-11-30T00:00:00.000000000",
          "1959-12-31T00:00:00.000000000",
          "1960-01-31T00:00:00.000000000",
          "1960-02-29T00:00:00.000000000",
          "1960-03-31T00:00:00.000000000",
          "1960-04-30T00:00:00.000000000",
          "1960-05-31T00:00:00.000000000",
          "1960-06-30T00:00:00.000000000",
          "1960-07-31T00:00:00.000000000",
          "1960-08-31T00:00:00.000000000",
          "1960-09-30T00:00:00.000000000",
          "1960-10-31T00:00:00.000000000",
          "1960-11-30T00:00:00.000000000",
          "1960-12-31T00:00:00.000000000",
          "1961-01-31T00:00:00.000000000",
          "1961-02-28T00:00:00.000000000",
          "1961-03-31T00:00:00.000000000",
          "1961-04-30T00:00:00.000000000",
          "1961-05-31T00:00:00.000000000",
          "1961-06-30T00:00:00.000000000",
          "1961-07-31T00:00:00.000000000",
          "1961-08-31T00:00:00.000000000",
          "1961-09-30T00:00:00.000000000",
          "1961-10-31T00:00:00.000000000",
          "1961-11-30T00:00:00.000000000",
          "1961-12-31T00:00:00.000000000",
          "1962-01-31T00:00:00.000000000",
          "1962-02-28T00:00:00.000000000",
          "1962-03-31T00:00:00.000000000",
          "1962-04-30T00:00:00.000000000",
          "1962-05-31T00:00:00.000000000",
          "1962-06-30T00:00:00.000000000",
          "1962-07-31T00:00:00.000000000",
          "1962-08-31T00:00:00.000000000",
          "1962-09-30T00:00:00.000000000",
          "1962-10-31T00:00:00.000000000",
          "1962-11-30T00:00:00.000000000",
          "1962-12-31T00:00:00.000000000",
          "1963-01-31T00:00:00.000000000",
          "1963-02-28T00:00:00.000000000",
          "1963-03-31T00:00:00.000000000",
          "1963-04-30T00:00:00.000000000",
          "1963-05-31T00:00:00.000000000",
          "1963-06-30T00:00:00.000000000",
          "1963-07-31T00:00:00.000000000",
          "1963-08-31T00:00:00.000000000",
          "1963-09-30T00:00:00.000000000",
          "1963-10-31T00:00:00.000000000",
          "1963-11-30T00:00:00.000000000",
          "1963-12-31T00:00:00.000000000",
          "1964-01-31T00:00:00.000000000",
          "1964-02-29T00:00:00.000000000",
          "1964-03-31T00:00:00.000000000",
          "1964-04-30T00:00:00.000000000",
          "1964-05-31T00:00:00.000000000",
          "1964-06-30T00:00:00.000000000",
          "1964-07-31T00:00:00.000000000",
          "1964-08-31T00:00:00.000000000",
          "1964-09-30T00:00:00.000000000",
          "1964-10-31T00:00:00.000000000",
          "1964-11-30T00:00:00.000000000",
          "1964-12-31T00:00:00.000000000",
          "1965-01-31T00:00:00.000000000",
          "1965-02-28T00:00:00.000000000",
          "1965-03-31T00:00:00.000000000",
          "1965-04-30T00:00:00.000000000",
          "1965-05-31T00:00:00.000000000",
          "1965-06-30T00:00:00.000000000",
          "1965-07-31T00:00:00.000000000",
          "1965-08-31T00:00:00.000000000",
          "1965-09-30T00:00:00.000000000",
          "1965-10-31T00:00:00.000000000",
          "1965-11-30T00:00:00.000000000",
          "1965-12-31T00:00:00.000000000",
          "1966-01-31T00:00:00.000000000",
          "1966-02-28T00:00:00.000000000",
          "1966-03-31T00:00:00.000000000",
          "1966-04-30T00:00:00.000000000",
          "1966-05-31T00:00:00.000000000",
          "1966-06-30T00:00:00.000000000",
          "1966-07-31T00:00:00.000000000",
          "1966-08-31T00:00:00.000000000",
          "1966-09-30T00:00:00.000000000",
          "1966-10-31T00:00:00.000000000",
          "1966-11-30T00:00:00.000000000",
          "1966-12-31T00:00:00.000000000",
          "1967-01-31T00:00:00.000000000",
          "1967-02-28T00:00:00.000000000",
          "1967-03-31T00:00:00.000000000",
          "1967-04-30T00:00:00.000000000",
          "1967-05-31T00:00:00.000000000",
          "1967-06-30T00:00:00.000000000",
          "1967-07-31T00:00:00.000000000",
          "1967-08-31T00:00:00.000000000",
          "1967-09-30T00:00:00.000000000",
          "1967-10-31T00:00:00.000000000",
          "1967-11-30T00:00:00.000000000",
          "1967-12-31T00:00:00.000000000",
          "1968-01-31T00:00:00.000000000",
          "1968-02-29T00:00:00.000000000",
          "1968-03-31T00:00:00.000000000",
          "1968-04-30T00:00:00.000000000",
          "1968-05-31T00:00:00.000000000",
          "1968-06-30T00:00:00.000000000",
          "1968-07-31T00:00:00.000000000",
          "1968-08-31T00:00:00.000000000",
          "1968-09-30T00:00:00.000000000",
          "1968-10-31T00:00:00.000000000",
          "1968-11-30T00:00:00.000000000",
          "1968-12-31T00:00:00.000000000"
         ],
         "xaxis": "x",
         "y": {
          "bdata": "AAAAAAAA+H8AAAAAAAD4fwAAAAAAAPh/AAAAAAAA+H8AAAAAAAD4fwAAAAAAAPh/AAAAAAAA+H8AAAAAAAD4fwAAAAAAAPh/AAAAAAAA+H8AAAAAAAD4fwAAAAAAAPh/AAAAAAAA+H8AAAAAAAD4fwAAAAAAAPh/AAAAAAAA+H8AAAAAAAD4fwAAAAAAAPh/AAAAAAAA+H8AAAAAAAD4fwAAAAAAAPh/AAAAAAAA+H8AAAAAAAD4fwAAAAAAAPh/AAAAAAAA+H8AAAAAAAD4fwAAAAAAAPh/AAAAAAAA+H8AAAAAAAD4fwAAAAAAAPh/AAAAAAAA+H8AAAAAAAD4fwAAAAAAAPh/AAAAAAAA+H8AAAAAAAD4fwAAAAAAAPh/AAAAAAAA+H8AAAAAAAD4fwAAAAAAAPh/AAAAAAAA+H8AAAAAAAD4fwAAAAAAAPh/AAAAAAAA+H8AAAAAAAD4fwAAAAAAAPh/AAAAAAAA+H8AAAAAAAD4fwAAAAAAAPh/AAAAAAAA+H8AAAAAAAD4fwAAAAAAAPh/AAAAAAAA+H8AAAAAAAD4fwAAAAAAAPh/AAAAAAAA+H8AAAAAAAD4fwAAAAAAAPh/AAAAAAAA+H8AAAAAAAD4fwAAAAAAAPh/AAAAAAAA+H8AAAAAAAD4fwAAAAAAAPh/AAAAAAAA+H8AAAAAAAD4fwAAAAAAAPh/AAAAAAAA+H8AAAAAAAD4fwAAAAAAAPh/AAAAAAAA+H8AAAAAAAD4fwAAAAAAAPh/AAAAAAAA+H8AAAAAAAD4fwAAAAAAAPh/AAAAAAAA+H8AAAAAAAD4fwAAAAAAAPh/AAAAAAAA+H8AAAAAAAD4fwAAAAAAAPh/AAAAAAAA+H8AAAAAAAD4fwAAAAAAAPh/AAAAAAAA+H8AAAAAAAD4fwAAAAAAAPh/AAAAAAAA+H8AAAAAAAD4fwAAAAAAAPh/AAAAAAAA+H8AAAAAAAD4fwAAAAAAAPh/AAAAAAAA+H8AAAAAAAD4fwAAAAAAAPh/AAAAAAAA+H8AAAAAAAD4fwAAAAAAAPh/AAAAAAAA+H8AAAAAAAD4fwAAAAAAAPh/AAAAAAAA+H8AAAAAAAD4fwAAAAAAAPh/AAAAAAAA+H8AAAAAAAD4fwAAAAAAAPh/AAAAAAAA+H8AAAAAAAD4fwAAAAAAAPh/AAAAAAAA+H8AAAAAAAD4fwAAAAAAAPh/AAAAAAAA+H8AAAAAAAD4fwAAAAAAAPh/AAAAAAAA+H8AAAAAAAD4fwAAAAAAAPh/AAAAAAAA+H8AAAAAAAD4fwAAAAAAAPh/AAAAAAAA+H8AAAAAAAD4fwAAAAAAAPh/AAAAAAAA+H8AAAAAAAD4fwAAAAAAAPh/AAAAAAAA+H8AAAAAAAD4fwAAAAAAAPh/AAAAAAAA+H8AAAAAAAD4fwAAAAAAAPh/AAAAAAAA+H8AAAAAAAD4fwAAAAAAAPh/AAAAAAAA+H8AAAAAAAD4fwAAAAAAAPh/AAAAAAAA+H8AAAAAAAD4fwAAAAAAAPh/+698Iqv8ekD7r3wiq/x6QPuvfCKr/HpA+698Iqv8ekD7r3wiq/x6QPuvfCKr/HpA+698Iqv8ekD7r3wiq/x6QPuvfCKr/HpA+698Iqv8ekD7r3wiq/x6QPuvfCKr/HpA+698Iqv8ekD7r3wiq/x6QPuvfCKr/HpA+698Iqv8ekD7r3wiq/x6QPuvfCKr/HpA+698Iqv8ekD7r3wiq/x6QPuvfCKr/HpA+698Iqv8ekD7r3wiq/x6QPuvfCKr/HpA+698Iqv8ekD7r3wiq/x6QPuvfCKr/HpA+698Iqv8ekD7r3wiq/x6QPuvfCKr/HpA+698Iqv8ekD7r3wiq/x6QPuvfCKr/HpA+698Iqv8ekD7r3wiq/x6QPuvfCKr/HpA+698Iqv8ekD7r3wiq/x6QPuvfCKr/HpA+698Iqv8ekD7r3wiq/x6QPuvfCKr/HpA+698Iqv8ekD7r3wiq/x6QPuvfCKr/HpA+698Iqv8ekD7r3wiq/x6QPuvfCKr/HpA+698Iqv8ekD7r3wiq/x6QPuvfCKr/HpA+698Iqv8ekD7r3wiq/x6QPuvfCKr/HpA+698Iqv8ekD7r3wiq/x6QPuvfCKr/HpA+698Iqv8ekD7r3wiq/x6QPuvfCKr/HpA+698Iqv8ekD7r3wiq/x6QPuvfCKr/HpA+698Iqv8ekD7r3wiq/x6QPuvfCKr/HpA+698Iqv8ekD7r3wiq/x6QPuvfCKr/HpA+698Iqv8ekD7r3wiq/x6QPuvfCKr/HpA+698Iqv8ekD7r3wiq/x6QPuvfCKr/HpA+698Iqv8ekD7r3wiq/x6QPuvfCKr/HpA+698Iqv8ekD7r3wiq/x6QPuvfCKr/HpA+698Iqv8ekD7r3wiq/x6QPuvfCKr/HpA+698Iqv8ekD7r3wiq/x6QPuvfCKr/HpA+698Iqv8ekD7r3wiq/x6QPuvfCKr/HpA+698Iqv8ekD7r3wiq/x6QPuvfCKr/HpA+698Iqv8ekD7r3wiq/x6QPuvfCKr/HpA",
          "dtype": "f8"
         },
         "yaxis": "y"
        }
       ],
       "layout": {
        "legend": {
         "title": {
          "text": "variable"
         },
         "tracegroupgap": 0
        },
        "margin": {
         "t": 60
        },
        "template": {
         "data": {
          "bar": [
           {
            "error_x": {
             "color": "#f2f5fa"
            },
            "error_y": {
             "color": "#f2f5fa"
            },
            "marker": {
             "line": {
              "color": "rgb(17,17,17)",
              "width": 0.5
             },
             "pattern": {
              "fillmode": "overlay",
              "size": 10,
              "solidity": 0.2
             }
            },
            "type": "bar"
           }
          ],
          "barpolar": [
           {
            "marker": {
             "line": {
              "color": "rgb(17,17,17)",
              "width": 0.5
             },
             "pattern": {
              "fillmode": "overlay",
              "size": 10,
              "solidity": 0.2
             }
            },
            "type": "barpolar"
           }
          ],
          "carpet": [
           {
            "aaxis": {
             "endlinecolor": "#A2B1C6",
             "gridcolor": "#506784",
             "linecolor": "#506784",
             "minorgridcolor": "#506784",
             "startlinecolor": "#A2B1C6"
            },
            "baxis": {
             "endlinecolor": "#A2B1C6",
             "gridcolor": "#506784",
             "linecolor": "#506784",
             "minorgridcolor": "#506784",
             "startlinecolor": "#A2B1C6"
            },
            "type": "carpet"
           }
          ],
          "choropleth": [
           {
            "colorbar": {
             "outlinewidth": 0,
             "ticks": ""
            },
            "type": "choropleth"
           }
          ],
          "contour": [
           {
            "colorbar": {
             "outlinewidth": 0,
             "ticks": ""
            },
            "colorscale": [
             [
              0,
              "#0d0887"
             ],
             [
              0.1111111111111111,
              "#46039f"
             ],
             [
              0.2222222222222222,
              "#7201a8"
             ],
             [
              0.3333333333333333,
              "#9c179e"
             ],
             [
              0.4444444444444444,
              "#bd3786"
             ],
             [
              0.5555555555555556,
              "#d8576b"
             ],
             [
              0.6666666666666666,
              "#ed7953"
             ],
             [
              0.7777777777777778,
              "#fb9f3a"
             ],
             [
              0.8888888888888888,
              "#fdca26"
             ],
             [
              1,
              "#f0f921"
             ]
            ],
            "type": "contour"
           }
          ],
          "contourcarpet": [
           {
            "colorbar": {
             "outlinewidth": 0,
             "ticks": ""
            },
            "type": "contourcarpet"
           }
          ],
          "heatmap": [
           {
            "colorbar": {
             "outlinewidth": 0,
             "ticks": ""
            },
            "colorscale": [
             [
              0,
              "#0d0887"
             ],
             [
              0.1111111111111111,
              "#46039f"
             ],
             [
              0.2222222222222222,
              "#7201a8"
             ],
             [
              0.3333333333333333,
              "#9c179e"
             ],
             [
              0.4444444444444444,
              "#bd3786"
             ],
             [
              0.5555555555555556,
              "#d8576b"
             ],
             [
              0.6666666666666666,
              "#ed7953"
             ],
             [
              0.7777777777777778,
              "#fb9f3a"
             ],
             [
              0.8888888888888888,
              "#fdca26"
             ],
             [
              1,
              "#f0f921"
             ]
            ],
            "type": "heatmap"
           }
          ],
          "histogram": [
           {
            "marker": {
             "pattern": {
              "fillmode": "overlay",
              "size": 10,
              "solidity": 0.2
             }
            },
            "type": "histogram"
           }
          ],
          "histogram2d": [
           {
            "colorbar": {
             "outlinewidth": 0,
             "ticks": ""
            },
            "colorscale": [
             [
              0,
              "#0d0887"
             ],
             [
              0.1111111111111111,
              "#46039f"
             ],
             [
              0.2222222222222222,
              "#7201a8"
             ],
             [
              0.3333333333333333,
              "#9c179e"
             ],
             [
              0.4444444444444444,
              "#bd3786"
             ],
             [
              0.5555555555555556,
              "#d8576b"
             ],
             [
              0.6666666666666666,
              "#ed7953"
             ],
             [
              0.7777777777777778,
              "#fb9f3a"
             ],
             [
              0.8888888888888888,
              "#fdca26"
             ],
             [
              1,
              "#f0f921"
             ]
            ],
            "type": "histogram2d"
           }
          ],
          "histogram2dcontour": [
           {
            "colorbar": {
             "outlinewidth": 0,
             "ticks": ""
            },
            "colorscale": [
             [
              0,
              "#0d0887"
             ],
             [
              0.1111111111111111,
              "#46039f"
             ],
             [
              0.2222222222222222,
              "#7201a8"
             ],
             [
              0.3333333333333333,
              "#9c179e"
             ],
             [
              0.4444444444444444,
              "#bd3786"
             ],
             [
              0.5555555555555556,
              "#d8576b"
             ],
             [
              0.6666666666666666,
              "#ed7953"
             ],
             [
              0.7777777777777778,
              "#fb9f3a"
             ],
             [
              0.8888888888888888,
              "#fdca26"
             ],
             [
              1,
              "#f0f921"
             ]
            ],
            "type": "histogram2dcontour"
           }
          ],
          "mesh3d": [
           {
            "colorbar": {
             "outlinewidth": 0,
             "ticks": ""
            },
            "type": "mesh3d"
           }
          ],
          "parcoords": [
           {
            "line": {
             "colorbar": {
              "outlinewidth": 0,
              "ticks": ""
             }
            },
            "type": "parcoords"
           }
          ],
          "pie": [
           {
            "automargin": true,
            "type": "pie"
           }
          ],
          "scatter": [
           {
            "marker": {
             "line": {
              "color": "#283442"
             }
            },
            "type": "scatter"
           }
          ],
          "scatter3d": [
           {
            "line": {
             "colorbar": {
              "outlinewidth": 0,
              "ticks": ""
             }
            },
            "marker": {
             "colorbar": {
              "outlinewidth": 0,
              "ticks": ""
             }
            },
            "type": "scatter3d"
           }
          ],
          "scattercarpet": [
           {
            "marker": {
             "colorbar": {
              "outlinewidth": 0,
              "ticks": ""
             }
            },
            "type": "scattercarpet"
           }
          ],
          "scattergeo": [
           {
            "marker": {
             "colorbar": {
              "outlinewidth": 0,
              "ticks": ""
             }
            },
            "type": "scattergeo"
           }
          ],
          "scattergl": [
           {
            "marker": {
             "line": {
              "color": "#283442"
             }
            },
            "type": "scattergl"
           }
          ],
          "scattermap": [
           {
            "marker": {
             "colorbar": {
              "outlinewidth": 0,
              "ticks": ""
             }
            },
            "type": "scattermap"
           }
          ],
          "scattermapbox": [
           {
            "marker": {
             "colorbar": {
              "outlinewidth": 0,
              "ticks": ""
             }
            },
            "type": "scattermapbox"
           }
          ],
          "scatterpolar": [
           {
            "marker": {
             "colorbar": {
              "outlinewidth": 0,
              "ticks": ""
             }
            },
            "type": "scatterpolar"
           }
          ],
          "scatterpolargl": [
           {
            "marker": {
             "colorbar": {
              "outlinewidth": 0,
              "ticks": ""
             }
            },
            "type": "scatterpolargl"
           }
          ],
          "scatterternary": [
           {
            "marker": {
             "colorbar": {
              "outlinewidth": 0,
              "ticks": ""
             }
            },
            "type": "scatterternary"
           }
          ],
          "surface": [
           {
            "colorbar": {
             "outlinewidth": 0,
             "ticks": ""
            },
            "colorscale": [
             [
              0,
              "#0d0887"
             ],
             [
              0.1111111111111111,
              "#46039f"
             ],
             [
              0.2222222222222222,
              "#7201a8"
             ],
             [
              0.3333333333333333,
              "#9c179e"
             ],
             [
              0.4444444444444444,
              "#bd3786"
             ],
             [
              0.5555555555555556,
              "#d8576b"
             ],
             [
              0.6666666666666666,
              "#ed7953"
             ],
             [
              0.7777777777777778,
              "#fb9f3a"
             ],
             [
              0.8888888888888888,
              "#fdca26"
             ],
             [
              1,
              "#f0f921"
             ]
            ],
            "type": "surface"
           }
          ],
          "table": [
           {
            "cells": {
             "fill": {
              "color": "#506784"
             },
             "line": {
              "color": "rgb(17,17,17)"
             }
            },
            "header": {
             "fill": {
              "color": "#2a3f5f"
             },
             "line": {
              "color": "rgb(17,17,17)"
             }
            },
            "type": "table"
           }
          ]
         },
         "layout": {
          "annotationdefaults": {
           "arrowcolor": "#f2f5fa",
           "arrowhead": 0,
           "arrowwidth": 1
          },
          "autosize": false,
          "autotypenumbers": "strict",
          "coloraxis": {
           "colorbar": {
            "outlinewidth": 0,
            "ticks": ""
           }
          },
          "colorscale": {
           "diverging": [
            [
             0,
             "#8e0152"
            ],
            [
             0.1,
             "#c51b7d"
            ],
            [
             0.2,
             "#de77ae"
            ],
            [
             0.3,
             "#f1b6da"
            ],
            [
             0.4,
             "#fde0ef"
            ],
            [
             0.5,
             "#f7f7f7"
            ],
            [
             0.6,
             "#e6f5d0"
            ],
            [
             0.7,
             "#b8e186"
            ],
            [
             0.8,
             "#7fbc41"
            ],
            [
             0.9,
             "#4d9221"
            ],
            [
             1,
             "#276419"
            ]
           ],
           "sequential": [
            [
             0,
             "#0d0887"
            ],
            [
             0.1111111111111111,
             "#46039f"
            ],
            [
             0.2222222222222222,
             "#7201a8"
            ],
            [
             0.3333333333333333,
             "#9c179e"
            ],
            [
             0.4444444444444444,
             "#bd3786"
            ],
            [
             0.5555555555555556,
             "#d8576b"
            ],
            [
             0.6666666666666666,
             "#ed7953"
            ],
            [
             0.7777777777777778,
             "#fb9f3a"
            ],
            [
             0.8888888888888888,
             "#fdca26"
            ],
            [
             1,
             "#f0f921"
            ]
           ],
           "sequentialminus": [
            [
             0,
             "#0d0887"
            ],
            [
             0.1111111111111111,
             "#46039f"
            ],
            [
             0.2222222222222222,
             "#7201a8"
            ],
            [
             0.3333333333333333,
             "#9c179e"
            ],
            [
             0.4444444444444444,
             "#bd3786"
            ],
            [
             0.5555555555555556,
             "#d8576b"
            ],
            [
             0.6666666666666666,
             "#ed7953"
            ],
            [
             0.7777777777777778,
             "#fb9f3a"
            ],
            [
             0.8888888888888888,
             "#fdca26"
            ],
            [
             1,
             "#f0f921"
            ]
           ]
          },
          "colorway": [
           "#636efa",
           "#EF553B",
           "#00cc96",
           "#ab63fa",
           "#FFA15A",
           "#19d3f3",
           "#FF6692",
           "#B6E880",
           "#FF97FF",
           "#FECB52"
          ],
          "font": {
           "color": "#f2f5fa"
          },
          "geo": {
           "bgcolor": "rgb(17,17,17)",
           "lakecolor": "rgb(17,17,17)",
           "landcolor": "rgb(17,17,17)",
           "showlakes": true,
           "showland": true,
           "subunitcolor": "#506784"
          },
          "height": 500,
          "hoverlabel": {
           "align": "left"
          },
          "hovermode": "closest",
          "mapbox": {
           "style": "dark"
          },
          "paper_bgcolor": "rgb(17,17,17)",
          "plot_bgcolor": "rgb(17,17,17)",
          "polar": {
           "angularaxis": {
            "gridcolor": "#506784",
            "linecolor": "#506784",
            "ticks": ""
           },
           "bgcolor": "rgb(17,17,17)",
           "radialaxis": {
            "gridcolor": "#506784",
            "linecolor": "#506784",
            "ticks": ""
           }
          },
          "scene": {
           "xaxis": {
            "backgroundcolor": "rgb(17,17,17)",
            "gridcolor": "#506784",
            "gridwidth": 2,
            "linecolor": "#506784",
            "showbackground": true,
            "ticks": "",
            "zerolinecolor": "#C8D4E3"
           },
           "yaxis": {
            "backgroundcolor": "rgb(17,17,17)",
            "gridcolor": "#506784",
            "gridwidth": 2,
            "linecolor": "#506784",
            "showbackground": true,
            "ticks": "",
            "zerolinecolor": "#C8D4E3"
           },
           "zaxis": {
            "backgroundcolor": "rgb(17,17,17)",
            "gridcolor": "#506784",
            "gridwidth": 2,
            "linecolor": "#506784",
            "showbackground": true,
            "ticks": "",
            "zerolinecolor": "#C8D4E3"
           }
          },
          "shapedefaults": {
           "line": {
            "color": "#f2f5fa"
           }
          },
          "showlegend": true,
          "sliderdefaults": {
           "bgcolor": "#C8D4E3",
           "bordercolor": "rgb(17,17,17)",
           "borderwidth": 1,
           "tickwidth": 0
          },
          "ternary": {
           "aaxis": {
            "gridcolor": "#506784",
            "linecolor": "#506784",
            "ticks": ""
           },
           "baxis": {
            "gridcolor": "#506784",
            "linecolor": "#506784",
            "ticks": ""
           },
           "bgcolor": "rgb(17,17,17)",
           "caxis": {
            "gridcolor": "#506784",
            "linecolor": "#506784",
            "ticks": ""
           }
          },
          "title": {
           "x": 0.05
          },
          "updatemenudefaults": {
           "bgcolor": "#506784",
           "borderwidth": 0
          },
          "width": 1000,
          "xaxis": {
           "automargin": true,
           "gridcolor": "#283442",
           "linecolor": "#506784",
           "ticks": "",
           "title": {
            "standoff": 15
           },
           "zerolinecolor": "#283442",
           "zerolinewidth": 2
          },
          "yaxis": {
           "automargin": true,
           "gridcolor": "#283442",
           "linecolor": "#506784",
           "ticks": "",
           "title": {
            "standoff": 15
           },
           "zerolinecolor": "#283442",
           "zerolinewidth": 2
          }
         }
        },
        "xaxis": {
         "anchor": "y",
         "domain": [
          0,
          1
         ],
         "title": {
          "text": "index"
         }
        },
        "yaxis": {
         "anchor": "x",
         "domain": [
          0,
          1
         ],
         "title": {
          "text": "value"
         }
        }
       }
      }
     },
     "metadata": {},
     "output_type": "display_data"
    }
   ],
   "source": [
    "from modules import utils\n",
    "\n",
    "df = df[['values']]\n",
    "\n",
    "df_forecast = utils.get_model_forecast_exponential_smoothing(\n",
    "    df, \"values\", horizon=96,\n",
    "    class_config={\"trend\": \"add\", \"seasonal\": \"mul\", \"seasonal_periods\": 12},\n",
    "    column_name='trend_add_seasonal_mul_12'\n",
    ")\n",
    "df_forecast = utils.get_model_forecast_exponential_smoothing(\n",
    "    df_forecast, \"values\", horizon=96,\n",
    "    class_config={\"trend\": \"mul\", \"seasonal\": \"mul\", \"seasonal_periods\": 12},\n",
    "    column_name='trend_mul_seasonal_mul_12'\n",
    ")\n",
    "df_forecast = utils.get_model_forecast_exponential_smoothing(\n",
    "    df_forecast, \"values\", horizon=96,\n",
    "    class_config={\"trend\": \"add\", \"seasonal\": \"add\", \"seasonal_periods\": 12},\n",
    "    column_name='trend_add_seasonal_add_12'\n",
    ")\n",
    "df_forecast = utils.get_model_forecast_exponential_smoothing(\n",
    "    df_forecast, \"values\", horizon=96,\n",
    "    column_name='baseline'\n",
    ")\n",
    "\n",
    "df_forecast.plot(color=\"variable\")"
   ]
  },
  {
   "cell_type": "markdown",
   "id": "cdd4c762",
   "metadata": {},
   "source": [
    "## Variation playground: SARIMA vs Exponential Smoothing"
   ]
  },
  {
   "cell_type": "code",
   "execution_count": 11,
   "id": "76b0746c",
   "metadata": {},
   "outputs": [
    {
     "name": "stderr",
     "output_type": "stream",
     "text": [
      "/Users/sota/miniforge3/envs/time-series/lib/python3.12/site-packages/statsmodels/base/model.py:607: ConvergenceWarning:\n",
      "\n",
      "Maximum Likelihood optimization failed to converge. Check mle_retvals\n",
      "\n"
     ]
    },
    {
     "data": {
      "application/vnd.plotly.v1+json": {
       "config": {
        "plotlyServerURL": "https://plot.ly"
       },
       "data": [
        {
         "hovertemplate": "variable=values<br>index=%{x}<br>value=%{y}<extra></extra>",
         "legendgroup": "values",
         "line": {
          "color": "#636efa",
          "dash": "solid"
         },
         "marker": {
          "symbol": "circle"
         },
         "mode": "lines",
         "name": "values",
         "orientation": "v",
         "showlegend": true,
         "type": "scatter",
         "x": [
          "1949-01-31T00:00:00.000000000",
          "1949-02-28T00:00:00.000000000",
          "1949-03-31T00:00:00.000000000",
          "1949-04-30T00:00:00.000000000",
          "1949-05-31T00:00:00.000000000",
          "1949-06-30T00:00:00.000000000",
          "1949-07-31T00:00:00.000000000",
          "1949-08-31T00:00:00.000000000",
          "1949-09-30T00:00:00.000000000",
          "1949-10-31T00:00:00.000000000",
          "1949-11-30T00:00:00.000000000",
          "1949-12-31T00:00:00.000000000",
          "1950-01-31T00:00:00.000000000",
          "1950-02-28T00:00:00.000000000",
          "1950-03-31T00:00:00.000000000",
          "1950-04-30T00:00:00.000000000",
          "1950-05-31T00:00:00.000000000",
          "1950-06-30T00:00:00.000000000",
          "1950-07-31T00:00:00.000000000",
          "1950-08-31T00:00:00.000000000",
          "1950-09-30T00:00:00.000000000",
          "1950-10-31T00:00:00.000000000",
          "1950-11-30T00:00:00.000000000",
          "1950-12-31T00:00:00.000000000",
          "1951-01-31T00:00:00.000000000",
          "1951-02-28T00:00:00.000000000",
          "1951-03-31T00:00:00.000000000",
          "1951-04-30T00:00:00.000000000",
          "1951-05-31T00:00:00.000000000",
          "1951-06-30T00:00:00.000000000",
          "1951-07-31T00:00:00.000000000",
          "1951-08-31T00:00:00.000000000",
          "1951-09-30T00:00:00.000000000",
          "1951-10-31T00:00:00.000000000",
          "1951-11-30T00:00:00.000000000",
          "1951-12-31T00:00:00.000000000",
          "1952-01-31T00:00:00.000000000",
          "1952-02-29T00:00:00.000000000",
          "1952-03-31T00:00:00.000000000",
          "1952-04-30T00:00:00.000000000",
          "1952-05-31T00:00:00.000000000",
          "1952-06-30T00:00:00.000000000",
          "1952-07-31T00:00:00.000000000",
          "1952-08-31T00:00:00.000000000",
          "1952-09-30T00:00:00.000000000",
          "1952-10-31T00:00:00.000000000",
          "1952-11-30T00:00:00.000000000",
          "1952-12-31T00:00:00.000000000",
          "1953-01-31T00:00:00.000000000",
          "1953-02-28T00:00:00.000000000",
          "1953-03-31T00:00:00.000000000",
          "1953-04-30T00:00:00.000000000",
          "1953-05-31T00:00:00.000000000",
          "1953-06-30T00:00:00.000000000",
          "1953-07-31T00:00:00.000000000",
          "1953-08-31T00:00:00.000000000",
          "1953-09-30T00:00:00.000000000",
          "1953-10-31T00:00:00.000000000",
          "1953-11-30T00:00:00.000000000",
          "1953-12-31T00:00:00.000000000",
          "1954-01-31T00:00:00.000000000",
          "1954-02-28T00:00:00.000000000",
          "1954-03-31T00:00:00.000000000",
          "1954-04-30T00:00:00.000000000",
          "1954-05-31T00:00:00.000000000",
          "1954-06-30T00:00:00.000000000",
          "1954-07-31T00:00:00.000000000",
          "1954-08-31T00:00:00.000000000",
          "1954-09-30T00:00:00.000000000",
          "1954-10-31T00:00:00.000000000",
          "1954-11-30T00:00:00.000000000",
          "1954-12-31T00:00:00.000000000",
          "1955-01-31T00:00:00.000000000",
          "1955-02-28T00:00:00.000000000",
          "1955-03-31T00:00:00.000000000",
          "1955-04-30T00:00:00.000000000",
          "1955-05-31T00:00:00.000000000",
          "1955-06-30T00:00:00.000000000",
          "1955-07-31T00:00:00.000000000",
          "1955-08-31T00:00:00.000000000",
          "1955-09-30T00:00:00.000000000",
          "1955-10-31T00:00:00.000000000",
          "1955-11-30T00:00:00.000000000",
          "1955-12-31T00:00:00.000000000",
          "1956-01-31T00:00:00.000000000",
          "1956-02-29T00:00:00.000000000",
          "1956-03-31T00:00:00.000000000",
          "1956-04-30T00:00:00.000000000",
          "1956-05-31T00:00:00.000000000",
          "1956-06-30T00:00:00.000000000",
          "1956-07-31T00:00:00.000000000",
          "1956-08-31T00:00:00.000000000",
          "1956-09-30T00:00:00.000000000",
          "1956-10-31T00:00:00.000000000",
          "1956-11-30T00:00:00.000000000",
          "1956-12-31T00:00:00.000000000",
          "1957-01-31T00:00:00.000000000",
          "1957-02-28T00:00:00.000000000",
          "1957-03-31T00:00:00.000000000",
          "1957-04-30T00:00:00.000000000",
          "1957-05-31T00:00:00.000000000",
          "1957-06-30T00:00:00.000000000",
          "1957-07-31T00:00:00.000000000",
          "1957-08-31T00:00:00.000000000",
          "1957-09-30T00:00:00.000000000",
          "1957-10-31T00:00:00.000000000",
          "1957-11-30T00:00:00.000000000",
          "1957-12-31T00:00:00.000000000",
          "1958-01-31T00:00:00.000000000",
          "1958-02-28T00:00:00.000000000",
          "1958-03-31T00:00:00.000000000",
          "1958-04-30T00:00:00.000000000",
          "1958-05-31T00:00:00.000000000",
          "1958-06-30T00:00:00.000000000",
          "1958-07-31T00:00:00.000000000",
          "1958-08-31T00:00:00.000000000",
          "1958-09-30T00:00:00.000000000",
          "1958-10-31T00:00:00.000000000",
          "1958-11-30T00:00:00.000000000",
          "1958-12-31T00:00:00.000000000",
          "1959-01-31T00:00:00.000000000",
          "1959-02-28T00:00:00.000000000",
          "1959-03-31T00:00:00.000000000",
          "1959-04-30T00:00:00.000000000",
          "1959-05-31T00:00:00.000000000",
          "1959-06-30T00:00:00.000000000",
          "1959-07-31T00:00:00.000000000",
          "1959-08-31T00:00:00.000000000",
          "1959-09-30T00:00:00.000000000",
          "1959-10-31T00:00:00.000000000",
          "1959-11-30T00:00:00.000000000",
          "1959-12-31T00:00:00.000000000",
          "1960-01-31T00:00:00.000000000",
          "1960-02-29T00:00:00.000000000",
          "1960-03-31T00:00:00.000000000",
          "1960-04-30T00:00:00.000000000",
          "1960-05-31T00:00:00.000000000",
          "1960-06-30T00:00:00.000000000",
          "1960-07-31T00:00:00.000000000",
          "1960-08-31T00:00:00.000000000",
          "1960-09-30T00:00:00.000000000",
          "1960-10-31T00:00:00.000000000",
          "1960-11-30T00:00:00.000000000",
          "1960-12-31T00:00:00.000000000",
          "1961-01-31T00:00:00.000000000",
          "1961-02-28T00:00:00.000000000",
          "1961-03-31T00:00:00.000000000",
          "1961-04-30T00:00:00.000000000",
          "1961-05-31T00:00:00.000000000",
          "1961-06-30T00:00:00.000000000",
          "1961-07-31T00:00:00.000000000",
          "1961-08-31T00:00:00.000000000",
          "1961-09-30T00:00:00.000000000",
          "1961-10-31T00:00:00.000000000",
          "1961-11-30T00:00:00.000000000",
          "1961-12-31T00:00:00.000000000",
          "1962-01-31T00:00:00.000000000",
          "1962-02-28T00:00:00.000000000",
          "1962-03-31T00:00:00.000000000",
          "1962-04-30T00:00:00.000000000",
          "1962-05-31T00:00:00.000000000",
          "1962-06-30T00:00:00.000000000",
          "1962-07-31T00:00:00.000000000",
          "1962-08-31T00:00:00.000000000",
          "1962-09-30T00:00:00.000000000",
          "1962-10-31T00:00:00.000000000",
          "1962-11-30T00:00:00.000000000",
          "1962-12-31T00:00:00.000000000",
          "1963-01-31T00:00:00.000000000",
          "1963-02-28T00:00:00.000000000",
          "1963-03-31T00:00:00.000000000",
          "1963-04-30T00:00:00.000000000",
          "1963-05-31T00:00:00.000000000",
          "1963-06-30T00:00:00.000000000",
          "1963-07-31T00:00:00.000000000",
          "1963-08-31T00:00:00.000000000",
          "1963-09-30T00:00:00.000000000",
          "1963-10-31T00:00:00.000000000",
          "1963-11-30T00:00:00.000000000",
          "1963-12-31T00:00:00.000000000",
          "1964-01-31T00:00:00.000000000",
          "1964-02-29T00:00:00.000000000",
          "1964-03-31T00:00:00.000000000",
          "1964-04-30T00:00:00.000000000",
          "1964-05-31T00:00:00.000000000",
          "1964-06-30T00:00:00.000000000",
          "1964-07-31T00:00:00.000000000",
          "1964-08-31T00:00:00.000000000",
          "1964-09-30T00:00:00.000000000",
          "1964-10-31T00:00:00.000000000",
          "1964-11-30T00:00:00.000000000",
          "1964-12-31T00:00:00.000000000",
          "1965-01-31T00:00:00.000000000",
          "1965-02-28T00:00:00.000000000",
          "1965-03-31T00:00:00.000000000",
          "1965-04-30T00:00:00.000000000",
          "1965-05-31T00:00:00.000000000",
          "1965-06-30T00:00:00.000000000",
          "1965-07-31T00:00:00.000000000",
          "1965-08-31T00:00:00.000000000",
          "1965-09-30T00:00:00.000000000",
          "1965-10-31T00:00:00.000000000",
          "1965-11-30T00:00:00.000000000",
          "1965-12-31T00:00:00.000000000",
          "1966-01-31T00:00:00.000000000",
          "1966-02-28T00:00:00.000000000",
          "1966-03-31T00:00:00.000000000",
          "1966-04-30T00:00:00.000000000",
          "1966-05-31T00:00:00.000000000",
          "1966-06-30T00:00:00.000000000",
          "1966-07-31T00:00:00.000000000",
          "1966-08-31T00:00:00.000000000",
          "1966-09-30T00:00:00.000000000",
          "1966-10-31T00:00:00.000000000",
          "1966-11-30T00:00:00.000000000",
          "1966-12-31T00:00:00.000000000",
          "1967-01-31T00:00:00.000000000",
          "1967-02-28T00:00:00.000000000",
          "1967-03-31T00:00:00.000000000",
          "1967-04-30T00:00:00.000000000",
          "1967-05-31T00:00:00.000000000",
          "1967-06-30T00:00:00.000000000",
          "1967-07-31T00:00:00.000000000",
          "1967-08-31T00:00:00.000000000",
          "1967-09-30T00:00:00.000000000",
          "1967-10-31T00:00:00.000000000",
          "1967-11-30T00:00:00.000000000",
          "1967-12-31T00:00:00.000000000",
          "1968-01-31T00:00:00.000000000",
          "1968-02-29T00:00:00.000000000",
          "1968-03-31T00:00:00.000000000",
          "1968-04-30T00:00:00.000000000",
          "1968-05-31T00:00:00.000000000",
          "1968-06-30T00:00:00.000000000",
          "1968-07-31T00:00:00.000000000",
          "1968-08-31T00:00:00.000000000",
          "1968-09-30T00:00:00.000000000",
          "1968-10-31T00:00:00.000000000",
          "1968-11-30T00:00:00.000000000",
          "1968-12-31T00:00:00.000000000"
         ],
         "xaxis": "x",
         "y": {
          "bdata": "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",
          "dtype": "f8"
         },
         "yaxis": "y"
        },
        {
         "hovertemplate": "variable=ARIMA(12,1,1)<br>index=%{x}<br>value=%{y}<extra></extra>",
         "legendgroup": "ARIMA(12,1,1)",
         "line": {
          "color": "#EF553B",
          "dash": "solid"
         },
         "marker": {
          "symbol": "circle"
         },
         "mode": "lines",
         "name": "ARIMA(12,1,1)",
         "orientation": "v",
         "showlegend": true,
         "type": "scatter",
         "x": [
          "1949-01-31T00:00:00.000000000",
          "1949-02-28T00:00:00.000000000",
          "1949-03-31T00:00:00.000000000",
          "1949-04-30T00:00:00.000000000",
          "1949-05-31T00:00:00.000000000",
          "1949-06-30T00:00:00.000000000",
          "1949-07-31T00:00:00.000000000",
          "1949-08-31T00:00:00.000000000",
          "1949-09-30T00:00:00.000000000",
          "1949-10-31T00:00:00.000000000",
          "1949-11-30T00:00:00.000000000",
          "1949-12-31T00:00:00.000000000",
          "1950-01-31T00:00:00.000000000",
          "1950-02-28T00:00:00.000000000",
          "1950-03-31T00:00:00.000000000",
          "1950-04-30T00:00:00.000000000",
          "1950-05-31T00:00:00.000000000",
          "1950-06-30T00:00:00.000000000",
          "1950-07-31T00:00:00.000000000",
          "1950-08-31T00:00:00.000000000",
          "1950-09-30T00:00:00.000000000",
          "1950-10-31T00:00:00.000000000",
          "1950-11-30T00:00:00.000000000",
          "1950-12-31T00:00:00.000000000",
          "1951-01-31T00:00:00.000000000",
          "1951-02-28T00:00:00.000000000",
          "1951-03-31T00:00:00.000000000",
          "1951-04-30T00:00:00.000000000",
          "1951-05-31T00:00:00.000000000",
          "1951-06-30T00:00:00.000000000",
          "1951-07-31T00:00:00.000000000",
          "1951-08-31T00:00:00.000000000",
          "1951-09-30T00:00:00.000000000",
          "1951-10-31T00:00:00.000000000",
          "1951-11-30T00:00:00.000000000",
          "1951-12-31T00:00:00.000000000",
          "1952-01-31T00:00:00.000000000",
          "1952-02-29T00:00:00.000000000",
          "1952-03-31T00:00:00.000000000",
          "1952-04-30T00:00:00.000000000",
          "1952-05-31T00:00:00.000000000",
          "1952-06-30T00:00:00.000000000",
          "1952-07-31T00:00:00.000000000",
          "1952-08-31T00:00:00.000000000",
          "1952-09-30T00:00:00.000000000",
          "1952-10-31T00:00:00.000000000",
          "1952-11-30T00:00:00.000000000",
          "1952-12-31T00:00:00.000000000",
          "1953-01-31T00:00:00.000000000",
          "1953-02-28T00:00:00.000000000",
          "1953-03-31T00:00:00.000000000",
          "1953-04-30T00:00:00.000000000",
          "1953-05-31T00:00:00.000000000",
          "1953-06-30T00:00:00.000000000",
          "1953-07-31T00:00:00.000000000",
          "1953-08-31T00:00:00.000000000",
          "1953-09-30T00:00:00.000000000",
          "1953-10-31T00:00:00.000000000",
          "1953-11-30T00:00:00.000000000",
          "1953-12-31T00:00:00.000000000",
          "1954-01-31T00:00:00.000000000",
          "1954-02-28T00:00:00.000000000",
          "1954-03-31T00:00:00.000000000",
          "1954-04-30T00:00:00.000000000",
          "1954-05-31T00:00:00.000000000",
          "1954-06-30T00:00:00.000000000",
          "1954-07-31T00:00:00.000000000",
          "1954-08-31T00:00:00.000000000",
          "1954-09-30T00:00:00.000000000",
          "1954-10-31T00:00:00.000000000",
          "1954-11-30T00:00:00.000000000",
          "1954-12-31T00:00:00.000000000",
          "1955-01-31T00:00:00.000000000",
          "1955-02-28T00:00:00.000000000",
          "1955-03-31T00:00:00.000000000",
          "1955-04-30T00:00:00.000000000",
          "1955-05-31T00:00:00.000000000",
          "1955-06-30T00:00:00.000000000",
          "1955-07-31T00:00:00.000000000",
          "1955-08-31T00:00:00.000000000",
          "1955-09-30T00:00:00.000000000",
          "1955-10-31T00:00:00.000000000",
          "1955-11-30T00:00:00.000000000",
          "1955-12-31T00:00:00.000000000",
          "1956-01-31T00:00:00.000000000",
          "1956-02-29T00:00:00.000000000",
          "1956-03-31T00:00:00.000000000",
          "1956-04-30T00:00:00.000000000",
          "1956-05-31T00:00:00.000000000",
          "1956-06-30T00:00:00.000000000",
          "1956-07-31T00:00:00.000000000",
          "1956-08-31T00:00:00.000000000",
          "1956-09-30T00:00:00.000000000",
          "1956-10-31T00:00:00.000000000",
          "1956-11-30T00:00:00.000000000",
          "1956-12-31T00:00:00.000000000",
          "1957-01-31T00:00:00.000000000",
          "1957-02-28T00:00:00.000000000",
          "1957-03-31T00:00:00.000000000",
          "1957-04-30T00:00:00.000000000",
          "1957-05-31T00:00:00.000000000",
          "1957-06-30T00:00:00.000000000",
          "1957-07-31T00:00:00.000000000",
          "1957-08-31T00:00:00.000000000",
          "1957-09-30T00:00:00.000000000",
          "1957-10-31T00:00:00.000000000",
          "1957-11-30T00:00:00.000000000",
          "1957-12-31T00:00:00.000000000",
          "1958-01-31T00:00:00.000000000",
          "1958-02-28T00:00:00.000000000",
          "1958-03-31T00:00:00.000000000",
          "1958-04-30T00:00:00.000000000",
          "1958-05-31T00:00:00.000000000",
          "1958-06-30T00:00:00.000000000",
          "1958-07-31T00:00:00.000000000",
          "1958-08-31T00:00:00.000000000",
          "1958-09-30T00:00:00.000000000",
          "1958-10-31T00:00:00.000000000",
          "1958-11-30T00:00:00.000000000",
          "1958-12-31T00:00:00.000000000",
          "1959-01-31T00:00:00.000000000",
          "1959-02-28T00:00:00.000000000",
          "1959-03-31T00:00:00.000000000",
          "1959-04-30T00:00:00.000000000",
          "1959-05-31T00:00:00.000000000",
          "1959-06-30T00:00:00.000000000",
          "1959-07-31T00:00:00.000000000",
          "1959-08-31T00:00:00.000000000",
          "1959-09-30T00:00:00.000000000",
          "1959-10-31T00:00:00.000000000",
          "1959-11-30T00:00:00.000000000",
          "1959-12-31T00:00:00.000000000",
          "1960-01-31T00:00:00.000000000",
          "1960-02-29T00:00:00.000000000",
          "1960-03-31T00:00:00.000000000",
          "1960-04-30T00:00:00.000000000",
          "1960-05-31T00:00:00.000000000",
          "1960-06-30T00:00:00.000000000",
          "1960-07-31T00:00:00.000000000",
          "1960-08-31T00:00:00.000000000",
          "1960-09-30T00:00:00.000000000",
          "1960-10-31T00:00:00.000000000",
          "1960-11-30T00:00:00.000000000",
          "1960-12-31T00:00:00.000000000",
          "1961-01-31T00:00:00.000000000",
          "1961-02-28T00:00:00.000000000",
          "1961-03-31T00:00:00.000000000",
          "1961-04-30T00:00:00.000000000",
          "1961-05-31T00:00:00.000000000",
          "1961-06-30T00:00:00.000000000",
          "1961-07-31T00:00:00.000000000",
          "1961-08-31T00:00:00.000000000",
          "1961-09-30T00:00:00.000000000",
          "1961-10-31T00:00:00.000000000",
          "1961-11-30T00:00:00.000000000",
          "1961-12-31T00:00:00.000000000",
          "1962-01-31T00:00:00.000000000",
          "1962-02-28T00:00:00.000000000",
          "1962-03-31T00:00:00.000000000",
          "1962-04-30T00:00:00.000000000",
          "1962-05-31T00:00:00.000000000",
          "1962-06-30T00:00:00.000000000",
          "1962-07-31T00:00:00.000000000",
          "1962-08-31T00:00:00.000000000",
          "1962-09-30T00:00:00.000000000",
          "1962-10-31T00:00:00.000000000",
          "1962-11-30T00:00:00.000000000",
          "1962-12-31T00:00:00.000000000",
          "1963-01-31T00:00:00.000000000",
          "1963-02-28T00:00:00.000000000",
          "1963-03-31T00:00:00.000000000",
          "1963-04-30T00:00:00.000000000",
          "1963-05-31T00:00:00.000000000",
          "1963-06-30T00:00:00.000000000",
          "1963-07-31T00:00:00.000000000",
          "1963-08-31T00:00:00.000000000",
          "1963-09-30T00:00:00.000000000",
          "1963-10-31T00:00:00.000000000",
          "1963-11-30T00:00:00.000000000",
          "1963-12-31T00:00:00.000000000",
          "1964-01-31T00:00:00.000000000",
          "1964-02-29T00:00:00.000000000",
          "1964-03-31T00:00:00.000000000",
          "1964-04-30T00:00:00.000000000",
          "1964-05-31T00:00:00.000000000",
          "1964-06-30T00:00:00.000000000",
          "1964-07-31T00:00:00.000000000",
          "1964-08-31T00:00:00.000000000",
          "1964-09-30T00:00:00.000000000",
          "1964-10-31T00:00:00.000000000",
          "1964-11-30T00:00:00.000000000",
          "1964-12-31T00:00:00.000000000",
          "1965-01-31T00:00:00.000000000",
          "1965-02-28T00:00:00.000000000",
          "1965-03-31T00:00:00.000000000",
          "1965-04-30T00:00:00.000000000",
          "1965-05-31T00:00:00.000000000",
          "1965-06-30T00:00:00.000000000",
          "1965-07-31T00:00:00.000000000",
          "1965-08-31T00:00:00.000000000",
          "1965-09-30T00:00:00.000000000",
          "1965-10-31T00:00:00.000000000",
          "1965-11-30T00:00:00.000000000",
          "1965-12-31T00:00:00.000000000",
          "1966-01-31T00:00:00.000000000",
          "1966-02-28T00:00:00.000000000",
          "1966-03-31T00:00:00.000000000",
          "1966-04-30T00:00:00.000000000",
          "1966-05-31T00:00:00.000000000",
          "1966-06-30T00:00:00.000000000",
          "1966-07-31T00:00:00.000000000",
          "1966-08-31T00:00:00.000000000",
          "1966-09-30T00:00:00.000000000",
          "1966-10-31T00:00:00.000000000",
          "1966-11-30T00:00:00.000000000",
          "1966-12-31T00:00:00.000000000",
          "1967-01-31T00:00:00.000000000",
          "1967-02-28T00:00:00.000000000",
          "1967-03-31T00:00:00.000000000",
          "1967-04-30T00:00:00.000000000",
          "1967-05-31T00:00:00.000000000",
          "1967-06-30T00:00:00.000000000",
          "1967-07-31T00:00:00.000000000",
          "1967-08-31T00:00:00.000000000",
          "1967-09-30T00:00:00.000000000",
          "1967-10-31T00:00:00.000000000",
          "1967-11-30T00:00:00.000000000",
          "1967-12-31T00:00:00.000000000",
          "1968-01-31T00:00:00.000000000",
          "1968-02-29T00:00:00.000000000",
          "1968-03-31T00:00:00.000000000",
          "1968-04-30T00:00:00.000000000",
          "1968-05-31T00:00:00.000000000",
          "1968-06-30T00:00:00.000000000",
          "1968-07-31T00:00:00.000000000",
          "1968-08-31T00:00:00.000000000",
          "1968-09-30T00:00:00.000000000",
          "1968-10-31T00:00:00.000000000",
          "1968-11-30T00:00:00.000000000",
          "1968-12-31T00:00:00.000000000"
         ],
         "xaxis": "x",
         "y": {
          "bdata": "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",
          "dtype": "f8"
         },
         "yaxis": "y"
        },
        {
         "hovertemplate": "variable=SARIMA(0,1,1)(0,1,1,12)<br>index=%{x}<br>value=%{y}<extra></extra>",
         "legendgroup": "SARIMA(0,1,1)(0,1,1,12)",
         "line": {
          "color": "#00cc96",
          "dash": "solid"
         },
         "marker": {
          "symbol": "circle"
         },
         "mode": "lines",
         "name": "SARIMA(0,1,1)(0,1,1,12)",
         "orientation": "v",
         "showlegend": true,
         "type": "scatter",
         "x": [
          "1949-01-31T00:00:00.000000000",
          "1949-02-28T00:00:00.000000000",
          "1949-03-31T00:00:00.000000000",
          "1949-04-30T00:00:00.000000000",
          "1949-05-31T00:00:00.000000000",
          "1949-06-30T00:00:00.000000000",
          "1949-07-31T00:00:00.000000000",
          "1949-08-31T00:00:00.000000000",
          "1949-09-30T00:00:00.000000000",
          "1949-10-31T00:00:00.000000000",
          "1949-11-30T00:00:00.000000000",
          "1949-12-31T00:00:00.000000000",
          "1950-01-31T00:00:00.000000000",
          "1950-02-28T00:00:00.000000000",
          "1950-03-31T00:00:00.000000000",
          "1950-04-30T00:00:00.000000000",
          "1950-05-31T00:00:00.000000000",
          "1950-06-30T00:00:00.000000000",
          "1950-07-31T00:00:00.000000000",
          "1950-08-31T00:00:00.000000000",
          "1950-09-30T00:00:00.000000000",
          "1950-10-31T00:00:00.000000000",
          "1950-11-30T00:00:00.000000000",
          "1950-12-31T00:00:00.000000000",
          "1951-01-31T00:00:00.000000000",
          "1951-02-28T00:00:00.000000000",
          "1951-03-31T00:00:00.000000000",
          "1951-04-30T00:00:00.000000000",
          "1951-05-31T00:00:00.000000000",
          "1951-06-30T00:00:00.000000000",
          "1951-07-31T00:00:00.000000000",
          "1951-08-31T00:00:00.000000000",
          "1951-09-30T00:00:00.000000000",
          "1951-10-31T00:00:00.000000000",
          "1951-11-30T00:00:00.000000000",
          "1951-12-31T00:00:00.000000000",
          "1952-01-31T00:00:00.000000000",
          "1952-02-29T00:00:00.000000000",
          "1952-03-31T00:00:00.000000000",
          "1952-04-30T00:00:00.000000000",
          "1952-05-31T00:00:00.000000000",
          "1952-06-30T00:00:00.000000000",
          "1952-07-31T00:00:00.000000000",
          "1952-08-31T00:00:00.000000000",
          "1952-09-30T00:00:00.000000000",
          "1952-10-31T00:00:00.000000000",
          "1952-11-30T00:00:00.000000000",
          "1952-12-31T00:00:00.000000000",
          "1953-01-31T00:00:00.000000000",
          "1953-02-28T00:00:00.000000000",
          "1953-03-31T00:00:00.000000000",
          "1953-04-30T00:00:00.000000000",
          "1953-05-31T00:00:00.000000000",
          "1953-06-30T00:00:00.000000000",
          "1953-07-31T00:00:00.000000000",
          "1953-08-31T00:00:00.000000000",
          "1953-09-30T00:00:00.000000000",
          "1953-10-31T00:00:00.000000000",
          "1953-11-30T00:00:00.000000000",
          "1953-12-31T00:00:00.000000000",
          "1954-01-31T00:00:00.000000000",
          "1954-02-28T00:00:00.000000000",
          "1954-03-31T00:00:00.000000000",
          "1954-04-30T00:00:00.000000000",
          "1954-05-31T00:00:00.000000000",
          "1954-06-30T00:00:00.000000000",
          "1954-07-31T00:00:00.000000000",
          "1954-08-31T00:00:00.000000000",
          "1954-09-30T00:00:00.000000000",
          "1954-10-31T00:00:00.000000000",
          "1954-11-30T00:00:00.000000000",
          "1954-12-31T00:00:00.000000000",
          "1955-01-31T00:00:00.000000000",
          "1955-02-28T00:00:00.000000000",
          "1955-03-31T00:00:00.000000000",
          "1955-04-30T00:00:00.000000000",
          "1955-05-31T00:00:00.000000000",
          "1955-06-30T00:00:00.000000000",
          "1955-07-31T00:00:00.000000000",
          "1955-08-31T00:00:00.000000000",
          "1955-09-30T00:00:00.000000000",
          "1955-10-31T00:00:00.000000000",
          "1955-11-30T00:00:00.000000000",
          "1955-12-31T00:00:00.000000000",
          "1956-01-31T00:00:00.000000000",
          "1956-02-29T00:00:00.000000000",
          "1956-03-31T00:00:00.000000000",
          "1956-04-30T00:00:00.000000000",
          "1956-05-31T00:00:00.000000000",
          "1956-06-30T00:00:00.000000000",
          "1956-07-31T00:00:00.000000000",
          "1956-08-31T00:00:00.000000000",
          "1956-09-30T00:00:00.000000000",
          "1956-10-31T00:00:00.000000000",
          "1956-11-30T00:00:00.000000000",
          "1956-12-31T00:00:00.000000000",
          "1957-01-31T00:00:00.000000000",
          "1957-02-28T00:00:00.000000000",
          "1957-03-31T00:00:00.000000000",
          "1957-04-30T00:00:00.000000000",
          "1957-05-31T00:00:00.000000000",
          "1957-06-30T00:00:00.000000000",
          "1957-07-31T00:00:00.000000000",
          "1957-08-31T00:00:00.000000000",
          "1957-09-30T00:00:00.000000000",
          "1957-10-31T00:00:00.000000000",
          "1957-11-30T00:00:00.000000000",
          "1957-12-31T00:00:00.000000000",
          "1958-01-31T00:00:00.000000000",
          "1958-02-28T00:00:00.000000000",
          "1958-03-31T00:00:00.000000000",
          "1958-04-30T00:00:00.000000000",
          "1958-05-31T00:00:00.000000000",
          "1958-06-30T00:00:00.000000000",
          "1958-07-31T00:00:00.000000000",
          "1958-08-31T00:00:00.000000000",
          "1958-09-30T00:00:00.000000000",
          "1958-10-31T00:00:00.000000000",
          "1958-11-30T00:00:00.000000000",
          "1958-12-31T00:00:00.000000000",
          "1959-01-31T00:00:00.000000000",
          "1959-02-28T00:00:00.000000000",
          "1959-03-31T00:00:00.000000000",
          "1959-04-30T00:00:00.000000000",
          "1959-05-31T00:00:00.000000000",
          "1959-06-30T00:00:00.000000000",
          "1959-07-31T00:00:00.000000000",
          "1959-08-31T00:00:00.000000000",
          "1959-09-30T00:00:00.000000000",
          "1959-10-31T00:00:00.000000000",
          "1959-11-30T00:00:00.000000000",
          "1959-12-31T00:00:00.000000000",
          "1960-01-31T00:00:00.000000000",
          "1960-02-29T00:00:00.000000000",
          "1960-03-31T00:00:00.000000000",
          "1960-04-30T00:00:00.000000000",
          "1960-05-31T00:00:00.000000000",
          "1960-06-30T00:00:00.000000000",
          "1960-07-31T00:00:00.000000000",
          "1960-08-31T00:00:00.000000000",
          "1960-09-30T00:00:00.000000000",
          "1960-10-31T00:00:00.000000000",
          "1960-11-30T00:00:00.000000000",
          "1960-12-31T00:00:00.000000000",
          "1961-01-31T00:00:00.000000000",
          "1961-02-28T00:00:00.000000000",
          "1961-03-31T00:00:00.000000000",
          "1961-04-30T00:00:00.000000000",
          "1961-05-31T00:00:00.000000000",
          "1961-06-30T00:00:00.000000000",
          "1961-07-31T00:00:00.000000000",
          "1961-08-31T00:00:00.000000000",
          "1961-09-30T00:00:00.000000000",
          "1961-10-31T00:00:00.000000000",
          "1961-11-30T00:00:00.000000000",
          "1961-12-31T00:00:00.000000000",
          "1962-01-31T00:00:00.000000000",
          "1962-02-28T00:00:00.000000000",
          "1962-03-31T00:00:00.000000000",
          "1962-04-30T00:00:00.000000000",
          "1962-05-31T00:00:00.000000000",
          "1962-06-30T00:00:00.000000000",
          "1962-07-31T00:00:00.000000000",
          "1962-08-31T00:00:00.000000000",
          "1962-09-30T00:00:00.000000000",
          "1962-10-31T00:00:00.000000000",
          "1962-11-30T00:00:00.000000000",
          "1962-12-31T00:00:00.000000000",
          "1963-01-31T00:00:00.000000000",
          "1963-02-28T00:00:00.000000000",
          "1963-03-31T00:00:00.000000000",
          "1963-04-30T00:00:00.000000000",
          "1963-05-31T00:00:00.000000000",
          "1963-06-30T00:00:00.000000000",
          "1963-07-31T00:00:00.000000000",
          "1963-08-31T00:00:00.000000000",
          "1963-09-30T00:00:00.000000000",
          "1963-10-31T00:00:00.000000000",
          "1963-11-30T00:00:00.000000000",
          "1963-12-31T00:00:00.000000000",
          "1964-01-31T00:00:00.000000000",
          "1964-02-29T00:00:00.000000000",
          "1964-03-31T00:00:00.000000000",
          "1964-04-30T00:00:00.000000000",
          "1964-05-31T00:00:00.000000000",
          "1964-06-30T00:00:00.000000000",
          "1964-07-31T00:00:00.000000000",
          "1964-08-31T00:00:00.000000000",
          "1964-09-30T00:00:00.000000000",
          "1964-10-31T00:00:00.000000000",
          "1964-11-30T00:00:00.000000000",
          "1964-12-31T00:00:00.000000000",
          "1965-01-31T00:00:00.000000000",
          "1965-02-28T00:00:00.000000000",
          "1965-03-31T00:00:00.000000000",
          "1965-04-30T00:00:00.000000000",
          "1965-05-31T00:00:00.000000000",
          "1965-06-30T00:00:00.000000000",
          "1965-07-31T00:00:00.000000000",
          "1965-08-31T00:00:00.000000000",
          "1965-09-30T00:00:00.000000000",
          "1965-10-31T00:00:00.000000000",
          "1965-11-30T00:00:00.000000000",
          "1965-12-31T00:00:00.000000000",
          "1966-01-31T00:00:00.000000000",
          "1966-02-28T00:00:00.000000000",
          "1966-03-31T00:00:00.000000000",
          "1966-04-30T00:00:00.000000000",
          "1966-05-31T00:00:00.000000000",
          "1966-06-30T00:00:00.000000000",
          "1966-07-31T00:00:00.000000000",
          "1966-08-31T00:00:00.000000000",
          "1966-09-30T00:00:00.000000000",
          "1966-10-31T00:00:00.000000000",
          "1966-11-30T00:00:00.000000000",
          "1966-12-31T00:00:00.000000000",
          "1967-01-31T00:00:00.000000000",
          "1967-02-28T00:00:00.000000000",
          "1967-03-31T00:00:00.000000000",
          "1967-04-30T00:00:00.000000000",
          "1967-05-31T00:00:00.000000000",
          "1967-06-30T00:00:00.000000000",
          "1967-07-31T00:00:00.000000000",
          "1967-08-31T00:00:00.000000000",
          "1967-09-30T00:00:00.000000000",
          "1967-10-31T00:00:00.000000000",
          "1967-11-30T00:00:00.000000000",
          "1967-12-31T00:00:00.000000000",
          "1968-01-31T00:00:00.000000000",
          "1968-02-29T00:00:00.000000000",
          "1968-03-31T00:00:00.000000000",
          "1968-04-30T00:00:00.000000000",
          "1968-05-31T00:00:00.000000000",
          "1968-06-30T00:00:00.000000000",
          "1968-07-31T00:00:00.000000000",
          "1968-08-31T00:00:00.000000000",
          "1968-09-30T00:00:00.000000000",
          "1968-10-31T00:00:00.000000000",
          "1968-11-30T00:00:00.000000000",
          "1968-12-31T00:00:00.000000000"
         ],
         "xaxis": "x",
         "y": {
          "bdata": "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",
          "dtype": "f8"
         },
         "yaxis": "y"
        },
        {
         "hovertemplate": "variable=ExponentialSmoothing<br>index=%{x}<br>value=%{y}<extra></extra>",
         "legendgroup": "ExponentialSmoothing",
         "line": {
          "color": "#ab63fa",
          "dash": "solid"
         },
         "marker": {
          "symbol": "circle"
         },
         "mode": "lines",
         "name": "ExponentialSmoothing",
         "orientation": "v",
         "showlegend": true,
         "type": "scatter",
         "x": [
          "1949-01-31T00:00:00.000000000",
          "1949-02-28T00:00:00.000000000",
          "1949-03-31T00:00:00.000000000",
          "1949-04-30T00:00:00.000000000",
          "1949-05-31T00:00:00.000000000",
          "1949-06-30T00:00:00.000000000",
          "1949-07-31T00:00:00.000000000",
          "1949-08-31T00:00:00.000000000",
          "1949-09-30T00:00:00.000000000",
          "1949-10-31T00:00:00.000000000",
          "1949-11-30T00:00:00.000000000",
          "1949-12-31T00:00:00.000000000",
          "1950-01-31T00:00:00.000000000",
          "1950-02-28T00:00:00.000000000",
          "1950-03-31T00:00:00.000000000",
          "1950-04-30T00:00:00.000000000",
          "1950-05-31T00:00:00.000000000",
          "1950-06-30T00:00:00.000000000",
          "1950-07-31T00:00:00.000000000",
          "1950-08-31T00:00:00.000000000",
          "1950-09-30T00:00:00.000000000",
          "1950-10-31T00:00:00.000000000",
          "1950-11-30T00:00:00.000000000",
          "1950-12-31T00:00:00.000000000",
          "1951-01-31T00:00:00.000000000",
          "1951-02-28T00:00:00.000000000",
          "1951-03-31T00:00:00.000000000",
          "1951-04-30T00:00:00.000000000",
          "1951-05-31T00:00:00.000000000",
          "1951-06-30T00:00:00.000000000",
          "1951-07-31T00:00:00.000000000",
          "1951-08-31T00:00:00.000000000",
          "1951-09-30T00:00:00.000000000",
          "1951-10-31T00:00:00.000000000",
          "1951-11-30T00:00:00.000000000",
          "1951-12-31T00:00:00.000000000",
          "1952-01-31T00:00:00.000000000",
          "1952-02-29T00:00:00.000000000",
          "1952-03-31T00:00:00.000000000",
          "1952-04-30T00:00:00.000000000",
          "1952-05-31T00:00:00.000000000",
          "1952-06-30T00:00:00.000000000",
          "1952-07-31T00:00:00.000000000",
          "1952-08-31T00:00:00.000000000",
          "1952-09-30T00:00:00.000000000",
          "1952-10-31T00:00:00.000000000",
          "1952-11-30T00:00:00.000000000",
          "1952-12-31T00:00:00.000000000",
          "1953-01-31T00:00:00.000000000",
          "1953-02-28T00:00:00.000000000",
          "1953-03-31T00:00:00.000000000",
          "1953-04-30T00:00:00.000000000",
          "1953-05-31T00:00:00.000000000",
          "1953-06-30T00:00:00.000000000",
          "1953-07-31T00:00:00.000000000",
          "1953-08-31T00:00:00.000000000",
          "1953-09-30T00:00:00.000000000",
          "1953-10-31T00:00:00.000000000",
          "1953-11-30T00:00:00.000000000",
          "1953-12-31T00:00:00.000000000",
          "1954-01-31T00:00:00.000000000",
          "1954-02-28T00:00:00.000000000",
          "1954-03-31T00:00:00.000000000",
          "1954-04-30T00:00:00.000000000",
          "1954-05-31T00:00:00.000000000",
          "1954-06-30T00:00:00.000000000",
          "1954-07-31T00:00:00.000000000",
          "1954-08-31T00:00:00.000000000",
          "1954-09-30T00:00:00.000000000",
          "1954-10-31T00:00:00.000000000",
          "1954-11-30T00:00:00.000000000",
          "1954-12-31T00:00:00.000000000",
          "1955-01-31T00:00:00.000000000",
          "1955-02-28T00:00:00.000000000",
          "1955-03-31T00:00:00.000000000",
          "1955-04-30T00:00:00.000000000",
          "1955-05-31T00:00:00.000000000",
          "1955-06-30T00:00:00.000000000",
          "1955-07-31T00:00:00.000000000",
          "1955-08-31T00:00:00.000000000",
          "1955-09-30T00:00:00.000000000",
          "1955-10-31T00:00:00.000000000",
          "1955-11-30T00:00:00.000000000",
          "1955-12-31T00:00:00.000000000",
          "1956-01-31T00:00:00.000000000",
          "1956-02-29T00:00:00.000000000",
          "1956-03-31T00:00:00.000000000",
          "1956-04-30T00:00:00.000000000",
          "1956-05-31T00:00:00.000000000",
          "1956-06-30T00:00:00.000000000",
          "1956-07-31T00:00:00.000000000",
          "1956-08-31T00:00:00.000000000",
          "1956-09-30T00:00:00.000000000",
          "1956-10-31T00:00:00.000000000",
          "1956-11-30T00:00:00.000000000",
          "1956-12-31T00:00:00.000000000",
          "1957-01-31T00:00:00.000000000",
          "1957-02-28T00:00:00.000000000",
          "1957-03-31T00:00:00.000000000",
          "1957-04-30T00:00:00.000000000",
          "1957-05-31T00:00:00.000000000",
          "1957-06-30T00:00:00.000000000",
          "1957-07-31T00:00:00.000000000",
          "1957-08-31T00:00:00.000000000",
          "1957-09-30T00:00:00.000000000",
          "1957-10-31T00:00:00.000000000",
          "1957-11-30T00:00:00.000000000",
          "1957-12-31T00:00:00.000000000",
          "1958-01-31T00:00:00.000000000",
          "1958-02-28T00:00:00.000000000",
          "1958-03-31T00:00:00.000000000",
          "1958-04-30T00:00:00.000000000",
          "1958-05-31T00:00:00.000000000",
          "1958-06-30T00:00:00.000000000",
          "1958-07-31T00:00:00.000000000",
          "1958-08-31T00:00:00.000000000",
          "1958-09-30T00:00:00.000000000",
          "1958-10-31T00:00:00.000000000",
          "1958-11-30T00:00:00.000000000",
          "1958-12-31T00:00:00.000000000",
          "1959-01-31T00:00:00.000000000",
          "1959-02-28T00:00:00.000000000",
          "1959-03-31T00:00:00.000000000",
          "1959-04-30T00:00:00.000000000",
          "1959-05-31T00:00:00.000000000",
          "1959-06-30T00:00:00.000000000",
          "1959-07-31T00:00:00.000000000",
          "1959-08-31T00:00:00.000000000",
          "1959-09-30T00:00:00.000000000",
          "1959-10-31T00:00:00.000000000",
          "1959-11-30T00:00:00.000000000",
          "1959-12-31T00:00:00.000000000",
          "1960-01-31T00:00:00.000000000",
          "1960-02-29T00:00:00.000000000",
          "1960-03-31T00:00:00.000000000",
          "1960-04-30T00:00:00.000000000",
          "1960-05-31T00:00:00.000000000",
          "1960-06-30T00:00:00.000000000",
          "1960-07-31T00:00:00.000000000",
          "1960-08-31T00:00:00.000000000",
          "1960-09-30T00:00:00.000000000",
          "1960-10-31T00:00:00.000000000",
          "1960-11-30T00:00:00.000000000",
          "1960-12-31T00:00:00.000000000",
          "1961-01-31T00:00:00.000000000",
          "1961-02-28T00:00:00.000000000",
          "1961-03-31T00:00:00.000000000",
          "1961-04-30T00:00:00.000000000",
          "1961-05-31T00:00:00.000000000",
          "1961-06-30T00:00:00.000000000",
          "1961-07-31T00:00:00.000000000",
          "1961-08-31T00:00:00.000000000",
          "1961-09-30T00:00:00.000000000",
          "1961-10-31T00:00:00.000000000",
          "1961-11-30T00:00:00.000000000",
          "1961-12-31T00:00:00.000000000",
          "1962-01-31T00:00:00.000000000",
          "1962-02-28T00:00:00.000000000",
          "1962-03-31T00:00:00.000000000",
          "1962-04-30T00:00:00.000000000",
          "1962-05-31T00:00:00.000000000",
          "1962-06-30T00:00:00.000000000",
          "1962-07-31T00:00:00.000000000",
          "1962-08-31T00:00:00.000000000",
          "1962-09-30T00:00:00.000000000",
          "1962-10-31T00:00:00.000000000",
          "1962-11-30T00:00:00.000000000",
          "1962-12-31T00:00:00.000000000",
          "1963-01-31T00:00:00.000000000",
          "1963-02-28T00:00:00.000000000",
          "1963-03-31T00:00:00.000000000",
          "1963-04-30T00:00:00.000000000",
          "1963-05-31T00:00:00.000000000",
          "1963-06-30T00:00:00.000000000",
          "1963-07-31T00:00:00.000000000",
          "1963-08-31T00:00:00.000000000",
          "1963-09-30T00:00:00.000000000",
          "1963-10-31T00:00:00.000000000",
          "1963-11-30T00:00:00.000000000",
          "1963-12-31T00:00:00.000000000",
          "1964-01-31T00:00:00.000000000",
          "1964-02-29T00:00:00.000000000",
          "1964-03-31T00:00:00.000000000",
          "1964-04-30T00:00:00.000000000",
          "1964-05-31T00:00:00.000000000",
          "1964-06-30T00:00:00.000000000",
          "1964-07-31T00:00:00.000000000",
          "1964-08-31T00:00:00.000000000",
          "1964-09-30T00:00:00.000000000",
          "1964-10-31T00:00:00.000000000",
          "1964-11-30T00:00:00.000000000",
          "1964-12-31T00:00:00.000000000",
          "1965-01-31T00:00:00.000000000",
          "1965-02-28T00:00:00.000000000",
          "1965-03-31T00:00:00.000000000",
          "1965-04-30T00:00:00.000000000",
          "1965-05-31T00:00:00.000000000",
          "1965-06-30T00:00:00.000000000",
          "1965-07-31T00:00:00.000000000",
          "1965-08-31T00:00:00.000000000",
          "1965-09-30T00:00:00.000000000",
          "1965-10-31T00:00:00.000000000",
          "1965-11-30T00:00:00.000000000",
          "1965-12-31T00:00:00.000000000",
          "1966-01-31T00:00:00.000000000",
          "1966-02-28T00:00:00.000000000",
          "1966-03-31T00:00:00.000000000",
          "1966-04-30T00:00:00.000000000",
          "1966-05-31T00:00:00.000000000",
          "1966-06-30T00:00:00.000000000",
          "1966-07-31T00:00:00.000000000",
          "1966-08-31T00:00:00.000000000",
          "1966-09-30T00:00:00.000000000",
          "1966-10-31T00:00:00.000000000",
          "1966-11-30T00:00:00.000000000",
          "1966-12-31T00:00:00.000000000",
          "1967-01-31T00:00:00.000000000",
          "1967-02-28T00:00:00.000000000",
          "1967-03-31T00:00:00.000000000",
          "1967-04-30T00:00:00.000000000",
          "1967-05-31T00:00:00.000000000",
          "1967-06-30T00:00:00.000000000",
          "1967-07-31T00:00:00.000000000",
          "1967-08-31T00:00:00.000000000",
          "1967-09-30T00:00:00.000000000",
          "1967-10-31T00:00:00.000000000",
          "1967-11-30T00:00:00.000000000",
          "1967-12-31T00:00:00.000000000",
          "1968-01-31T00:00:00.000000000",
          "1968-02-29T00:00:00.000000000",
          "1968-03-31T00:00:00.000000000",
          "1968-04-30T00:00:00.000000000",
          "1968-05-31T00:00:00.000000000",
          "1968-06-30T00:00:00.000000000",
          "1968-07-31T00:00:00.000000000",
          "1968-08-31T00:00:00.000000000",
          "1968-09-30T00:00:00.000000000",
          "1968-10-31T00:00:00.000000000",
          "1968-11-30T00:00:00.000000000",
          "1968-12-31T00:00:00.000000000"
         ],
         "xaxis": "x",
         "y": {
          "bdata": "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",
          "dtype": "f8"
         },
         "yaxis": "y"
        }
       ],
       "layout": {
        "legend": {
         "title": {
          "text": "variable"
         },
         "tracegroupgap": 0
        },
        "margin": {
         "t": 60
        },
        "template": {
         "data": {
          "bar": [
           {
            "error_x": {
             "color": "#f2f5fa"
            },
            "error_y": {
             "color": "#f2f5fa"
            },
            "marker": {
             "line": {
              "color": "rgb(17,17,17)",
              "width": 0.5
             },
             "pattern": {
              "fillmode": "overlay",
              "size": 10,
              "solidity": 0.2
             }
            },
            "type": "bar"
           }
          ],
          "barpolar": [
           {
            "marker": {
             "line": {
              "color": "rgb(17,17,17)",
              "width": 0.5
             },
             "pattern": {
              "fillmode": "overlay",
              "size": 10,
              "solidity": 0.2
             }
            },
            "type": "barpolar"
           }
          ],
          "carpet": [
           {
            "aaxis": {
             "endlinecolor": "#A2B1C6",
             "gridcolor": "#506784",
             "linecolor": "#506784",
             "minorgridcolor": "#506784",
             "startlinecolor": "#A2B1C6"
            },
            "baxis": {
             "endlinecolor": "#A2B1C6",
             "gridcolor": "#506784",
             "linecolor": "#506784",
             "minorgridcolor": "#506784",
             "startlinecolor": "#A2B1C6"
            },
            "type": "carpet"
           }
          ],
          "choropleth": [
           {
            "colorbar": {
             "outlinewidth": 0,
             "ticks": ""
            },
            "type": "choropleth"
           }
          ],
          "contour": [
           {
            "colorbar": {
             "outlinewidth": 0,
             "ticks": ""
            },
            "colorscale": [
             [
              0,
              "#0d0887"
             ],
             [
              0.1111111111111111,
              "#46039f"
             ],
             [
              0.2222222222222222,
              "#7201a8"
             ],
             [
              0.3333333333333333,
              "#9c179e"
             ],
             [
              0.4444444444444444,
              "#bd3786"
             ],
             [
              0.5555555555555556,
              "#d8576b"
             ],
             [
              0.6666666666666666,
              "#ed7953"
             ],
             [
              0.7777777777777778,
              "#fb9f3a"
             ],
             [
              0.8888888888888888,
              "#fdca26"
             ],
             [
              1,
              "#f0f921"
             ]
            ],
            "type": "contour"
           }
          ],
          "contourcarpet": [
           {
            "colorbar": {
             "outlinewidth": 0,
             "ticks": ""
            },
            "type": "contourcarpet"
           }
          ],
          "heatmap": [
           {
            "colorbar": {
             "outlinewidth": 0,
             "ticks": ""
            },
            "colorscale": [
             [
              0,
              "#0d0887"
             ],
             [
              0.1111111111111111,
              "#46039f"
             ],
             [
              0.2222222222222222,
              "#7201a8"
             ],
             [
              0.3333333333333333,
              "#9c179e"
             ],
             [
              0.4444444444444444,
              "#bd3786"
             ],
             [
              0.5555555555555556,
              "#d8576b"
             ],
             [
              0.6666666666666666,
              "#ed7953"
             ],
             [
              0.7777777777777778,
              "#fb9f3a"
             ],
             [
              0.8888888888888888,
              "#fdca26"
             ],
             [
              1,
              "#f0f921"
             ]
            ],
            "type": "heatmap"
           }
          ],
          "histogram": [
           {
            "marker": {
             "pattern": {
              "fillmode": "overlay",
              "size": 10,
              "solidity": 0.2
             }
            },
            "type": "histogram"
           }
          ],
          "histogram2d": [
           {
            "colorbar": {
             "outlinewidth": 0,
             "ticks": ""
            },
            "colorscale": [
             [
              0,
              "#0d0887"
             ],
             [
              0.1111111111111111,
              "#46039f"
             ],
             [
              0.2222222222222222,
              "#7201a8"
             ],
             [
              0.3333333333333333,
              "#9c179e"
             ],
             [
              0.4444444444444444,
              "#bd3786"
             ],
             [
              0.5555555555555556,
              "#d8576b"
             ],
             [
              0.6666666666666666,
              "#ed7953"
             ],
             [
              0.7777777777777778,
              "#fb9f3a"
             ],
             [
              0.8888888888888888,
              "#fdca26"
             ],
             [
              1,
              "#f0f921"
             ]
            ],
            "type": "histogram2d"
           }
          ],
          "histogram2dcontour": [
           {
            "colorbar": {
             "outlinewidth": 0,
             "ticks": ""
            },
            "colorscale": [
             [
              0,
              "#0d0887"
             ],
             [
              0.1111111111111111,
              "#46039f"
             ],
             [
              0.2222222222222222,
              "#7201a8"
             ],
             [
              0.3333333333333333,
              "#9c179e"
             ],
             [
              0.4444444444444444,
              "#bd3786"
             ],
             [
              0.5555555555555556,
              "#d8576b"
             ],
             [
              0.6666666666666666,
              "#ed7953"
             ],
             [
              0.7777777777777778,
              "#fb9f3a"
             ],
             [
              0.8888888888888888,
              "#fdca26"
             ],
             [
              1,
              "#f0f921"
             ]
            ],
            "type": "histogram2dcontour"
           }
          ],
          "mesh3d": [
           {
            "colorbar": {
             "outlinewidth": 0,
             "ticks": ""
            },
            "type": "mesh3d"
           }
          ],
          "parcoords": [
           {
            "line": {
             "colorbar": {
              "outlinewidth": 0,
              "ticks": ""
             }
            },
            "type": "parcoords"
           }
          ],
          "pie": [
           {
            "automargin": true,
            "type": "pie"
           }
          ],
          "scatter": [
           {
            "marker": {
             "line": {
              "color": "#283442"
             }
            },
            "type": "scatter"
           }
          ],
          "scatter3d": [
           {
            "line": {
             "colorbar": {
              "outlinewidth": 0,
              "ticks": ""
             }
            },
            "marker": {
             "colorbar": {
              "outlinewidth": 0,
              "ticks": ""
             }
            },
            "type": "scatter3d"
           }
          ],
          "scattercarpet": [
           {
            "marker": {
             "colorbar": {
              "outlinewidth": 0,
              "ticks": ""
             }
            },
            "type": "scattercarpet"
           }
          ],
          "scattergeo": [
           {
            "marker": {
             "colorbar": {
              "outlinewidth": 0,
              "ticks": ""
             }
            },
            "type": "scattergeo"
           }
          ],
          "scattergl": [
           {
            "marker": {
             "line": {
              "color": "#283442"
             }
            },
            "type": "scattergl"
           }
          ],
          "scattermap": [
           {
            "marker": {
             "colorbar": {
              "outlinewidth": 0,
              "ticks": ""
             }
            },
            "type": "scattermap"
           }
          ],
          "scattermapbox": [
           {
            "marker": {
             "colorbar": {
              "outlinewidth": 0,
              "ticks": ""
             }
            },
            "type": "scattermapbox"
           }
          ],
          "scatterpolar": [
           {
            "marker": {
             "colorbar": {
              "outlinewidth": 0,
              "ticks": ""
             }
            },
            "type": "scatterpolar"
           }
          ],
          "scatterpolargl": [
           {
            "marker": {
             "colorbar": {
              "outlinewidth": 0,
              "ticks": ""
             }
            },
            "type": "scatterpolargl"
           }
          ],
          "scatterternary": [
           {
            "marker": {
             "colorbar": {
              "outlinewidth": 0,
              "ticks": ""
             }
            },
            "type": "scatterternary"
           }
          ],
          "surface": [
           {
            "colorbar": {
             "outlinewidth": 0,
             "ticks": ""
            },
            "colorscale": [
             [
              0,
              "#0d0887"
             ],
             [
              0.1111111111111111,
              "#46039f"
             ],
             [
              0.2222222222222222,
              "#7201a8"
             ],
             [
              0.3333333333333333,
              "#9c179e"
             ],
             [
              0.4444444444444444,
              "#bd3786"
             ],
             [
              0.5555555555555556,
              "#d8576b"
             ],
             [
              0.6666666666666666,
              "#ed7953"
             ],
             [
              0.7777777777777778,
              "#fb9f3a"
             ],
             [
              0.8888888888888888,
              "#fdca26"
             ],
             [
              1,
              "#f0f921"
             ]
            ],
            "type": "surface"
           }
          ],
          "table": [
           {
            "cells": {
             "fill": {
              "color": "#506784"
             },
             "line": {
              "color": "rgb(17,17,17)"
             }
            },
            "header": {
             "fill": {
              "color": "#2a3f5f"
             },
             "line": {
              "color": "rgb(17,17,17)"
             }
            },
            "type": "table"
           }
          ]
         },
         "layout": {
          "annotationdefaults": {
           "arrowcolor": "#f2f5fa",
           "arrowhead": 0,
           "arrowwidth": 1
          },
          "autosize": false,
          "autotypenumbers": "strict",
          "coloraxis": {
           "colorbar": {
            "outlinewidth": 0,
            "ticks": ""
           }
          },
          "colorscale": {
           "diverging": [
            [
             0,
             "#8e0152"
            ],
            [
             0.1,
             "#c51b7d"
            ],
            [
             0.2,
             "#de77ae"
            ],
            [
             0.3,
             "#f1b6da"
            ],
            [
             0.4,
             "#fde0ef"
            ],
            [
             0.5,
             "#f7f7f7"
            ],
            [
             0.6,
             "#e6f5d0"
            ],
            [
             0.7,
             "#b8e186"
            ],
            [
             0.8,
             "#7fbc41"
            ],
            [
             0.9,
             "#4d9221"
            ],
            [
             1,
             "#276419"
            ]
           ],
           "sequential": [
            [
             0,
             "#0d0887"
            ],
            [
             0.1111111111111111,
             "#46039f"
            ],
            [
             0.2222222222222222,
             "#7201a8"
            ],
            [
             0.3333333333333333,
             "#9c179e"
            ],
            [
             0.4444444444444444,
             "#bd3786"
            ],
            [
             0.5555555555555556,
             "#d8576b"
            ],
            [
             0.6666666666666666,
             "#ed7953"
            ],
            [
             0.7777777777777778,
             "#fb9f3a"
            ],
            [
             0.8888888888888888,
             "#fdca26"
            ],
            [
             1,
             "#f0f921"
            ]
           ],
           "sequentialminus": [
            [
             0,
             "#0d0887"
            ],
            [
             0.1111111111111111,
             "#46039f"
            ],
            [
             0.2222222222222222,
             "#7201a8"
            ],
            [
             0.3333333333333333,
             "#9c179e"
            ],
            [
             0.4444444444444444,
             "#bd3786"
            ],
            [
             0.5555555555555556,
             "#d8576b"
            ],
            [
             0.6666666666666666,
             "#ed7953"
            ],
            [
             0.7777777777777778,
             "#fb9f3a"
            ],
            [
             0.8888888888888888,
             "#fdca26"
            ],
            [
             1,
             "#f0f921"
            ]
           ]
          },
          "colorway": [
           "#636efa",
           "#EF553B",
           "#00cc96",
           "#ab63fa",
           "#FFA15A",
           "#19d3f3",
           "#FF6692",
           "#B6E880",
           "#FF97FF",
           "#FECB52"
          ],
          "font": {
           "color": "#f2f5fa"
          },
          "geo": {
           "bgcolor": "rgb(17,17,17)",
           "lakecolor": "rgb(17,17,17)",
           "landcolor": "rgb(17,17,17)",
           "showlakes": true,
           "showland": true,
           "subunitcolor": "#506784"
          },
          "height": 500,
          "hoverlabel": {
           "align": "left"
          },
          "hovermode": "closest",
          "mapbox": {
           "style": "dark"
          },
          "paper_bgcolor": "rgb(17,17,17)",
          "plot_bgcolor": "rgb(17,17,17)",
          "polar": {
           "angularaxis": {
            "gridcolor": "#506784",
            "linecolor": "#506784",
            "ticks": ""
           },
           "bgcolor": "rgb(17,17,17)",
           "radialaxis": {
            "gridcolor": "#506784",
            "linecolor": "#506784",
            "ticks": ""
           }
          },
          "scene": {
           "xaxis": {
            "backgroundcolor": "rgb(17,17,17)",
            "gridcolor": "#506784",
            "gridwidth": 2,
            "linecolor": "#506784",
            "showbackground": true,
            "ticks": "",
            "zerolinecolor": "#C8D4E3"
           },
           "yaxis": {
            "backgroundcolor": "rgb(17,17,17)",
            "gridcolor": "#506784",
            "gridwidth": 2,
            "linecolor": "#506784",
            "showbackground": true,
            "ticks": "",
            "zerolinecolor": "#C8D4E3"
           },
           "zaxis": {
            "backgroundcolor": "rgb(17,17,17)",
            "gridcolor": "#506784",
            "gridwidth": 2,
            "linecolor": "#506784",
            "showbackground": true,
            "ticks": "",
            "zerolinecolor": "#C8D4E3"
           }
          },
          "shapedefaults": {
           "line": {
            "color": "#f2f5fa"
           }
          },
          "showlegend": true,
          "sliderdefaults": {
           "bgcolor": "#C8D4E3",
           "bordercolor": "rgb(17,17,17)",
           "borderwidth": 1,
           "tickwidth": 0
          },
          "ternary": {
           "aaxis": {
            "gridcolor": "#506784",
            "linecolor": "#506784",
            "ticks": ""
           },
           "baxis": {
            "gridcolor": "#506784",
            "linecolor": "#506784",
            "ticks": ""
           },
           "bgcolor": "rgb(17,17,17)",
           "caxis": {
            "gridcolor": "#506784",
            "linecolor": "#506784",
            "ticks": ""
           }
          },
          "title": {
           "x": 0.05
          },
          "updatemenudefaults": {
           "bgcolor": "#506784",
           "borderwidth": 0
          },
          "width": 1000,
          "xaxis": {
           "automargin": true,
           "gridcolor": "#283442",
           "linecolor": "#506784",
           "ticks": "",
           "title": {
            "standoff": 15
           },
           "zerolinecolor": "#283442",
           "zerolinewidth": 2
          },
          "yaxis": {
           "automargin": true,
           "gridcolor": "#283442",
           "linecolor": "#506784",
           "ticks": "",
           "title": {
            "standoff": 15
           },
           "zerolinecolor": "#283442",
           "zerolinewidth": 2
          }
         }
        },
        "xaxis": {
         "anchor": "y",
         "domain": [
          0,
          1
         ],
         "title": {
          "text": "index"
         }
        },
        "yaxis": {
         "anchor": "x",
         "domain": [
          0,
          1
         ],
         "title": {
          "text": "value"
         }
        }
       }
      }
     },
     "metadata": {},
     "output_type": "display_data"
    }
   ],
   "source": [
    "import numpy as np\n",
    "\n",
    "df = df[['values']].copy()\n",
    "\n",
    "df_forecast = utils.get_model_forecast(df, \"values\", order=(12, 1, 1), horizon=96, forecast_exp=True)\n",
    "df_forecast = utils.get_model_forecast(df_forecast, \"values\", order=(0, 1, 1), seasonal_order=(0, 1, 1, 12), horizon=96, forecast_exp=True)\n",
    "df_forecast = utils.get_model_forecast_exponential_smoothing(\n",
    "df_forecast, \"values\", horizon=96,\n",
    "    class_config={\"trend\": \"add\", \"seasonal\": \"mul\", \"seasonal_periods\": 12},\n",
    ")\n",
    "\n",
    "df_forecast.plot(color=\"variable\")"
   ]
  },
  {
   "cell_type": "markdown",
   "id": "d1763746",
   "metadata": {},
   "source": [
    "## Diagnostics and assumptions"
   ]
  },
  {
   "cell_type": "code",
   "execution_count": 12,
   "id": "24e1afef",
   "metadata": {},
   "outputs": [],
   "source": [
    "model = ExponentialSmoothing(\n",
    "    df[\"values\"],\n",
    "    trend=\"add\",\n",
    "    seasonal=\"mul\",\n",
    "    seasonal_periods=12,\n",
    ").fit()"
   ]
  },
  {
   "cell_type": "code",
   "execution_count": 13,
   "id": "6e5809f6",
   "metadata": {},
   "outputs": [
    {
     "data": {
      "text/plain": [
       "1949-01-31    0.587559\n",
       "1949-02-28   -2.060598\n",
       "                ...   \n",
       "1960-11-30   -3.492447\n",
       "1960-12-31   -0.349611\n",
       "Freq: ME, Length: 144, dtype: float64"
      ]
     },
     "execution_count": 13,
     "metadata": {},
     "output_type": "execute_result"
    }
   ],
   "source": [
    "residuals = model.resid\n",
    "residuals"
   ]
  },
  {
   "cell_type": "markdown",
   "id": "c2a917c5",
   "metadata": {},
   "source": [
    "### Autocorrelation"
   ]
  },
  {
   "cell_type": "markdown",
   "id": "0a8b0465",
   "metadata": {},
   "source": [
    "#### Plot"
   ]
  },
  {
   "cell_type": "code",
   "execution_count": 14,
   "id": "72d25e61",
   "metadata": {},
   "outputs": [
    {
     "data": {
      "image/png": "[encoded data removed]",
      "text/plain": [
       "<Figure size 640x480 with 1 Axes>"
      ]
     },
     "metadata": {},
     "output_type": "display_data"
    }
   ],
   "source": [
    "from statsmodels.graphics.tsaplots import plot_acf\n",
    "plot_acf(residuals);"
   ]
  },
  {
   "cell_type": "markdown",
   "id": "923ed552",
   "metadata": {},
   "source": [
    "#### Test"
   ]
  },
  {
   "cell_type": "code",
   "execution_count": 15,
   "id": "c436d7a5",
   "metadata": {},
   "outputs": [
    {
     "data": {
      "text/html": [
       "<style type=\"text/css\">\n",
       "</style>\n",
       "<table id=\"T_82b7f\">\n",
       "  <thead>\n",
       "    <tr>\n",
       "      <th class=\"blank level0\" >&nbsp;</th>\n",
       "      <th id=\"T_82b7f_level0_col0\" class=\"col_heading level0 col0\" >lb_stat</th>\n",
       "      <th id=\"T_82b7f_level0_col1\" class=\"col_heading level0 col1\" >lb_pvalue</th>\n",
       "    </tr>\n",
       "  </thead>\n",
       "  <tbody>\n",
       "    <tr>\n",
       "      <th id=\"T_82b7f_level0_row0\" class=\"row_heading level0 row0\" >10</th>\n",
       "      <td id=\"T_82b7f_row0_col0\" class=\"data row0 col0\" >17.347130</td>\n",
       "      <td id=\"T_82b7f_row0_col1\" class=\"data row0 col1\" >0.067027</td>\n",
       "    </tr>\n",
       "    <tr>\n",
       "      <th id=\"T_82b7f_level0_row1\" class=\"row_heading level0 row1\" >20</th>\n",
       "      <td id=\"T_82b7f_row1_col0\" class=\"data row1 col0\" >31.854039</td>\n",
       "      <td id=\"T_82b7f_row1_col1\" class=\"data row1 col1\" >0.044879</td>\n",
       "    </tr>\n",
       "    <tr>\n",
       "      <th id=\"T_82b7f_level0_row2\" class=\"row_heading level0 row2\" >30</th>\n",
       "      <td id=\"T_82b7f_row2_col0\" class=\"data row2 col0\" >43.886400</td>\n",
       "      <td id=\"T_82b7f_row2_col1\" class=\"data row2 col1\" >0.048836</td>\n",
       "    </tr>\n",
       "  </tbody>\n",
       "</table>\n"
      ],
      "text/plain": [
       "<pandas.io.formats.style.Styler at 0x32d7d56d0>"
      ]
     },
     "execution_count": 15,
     "metadata": {},
     "output_type": "execute_result"
    }
   ],
   "source": [
    "from statsmodels.stats.diagnostic import acorr_ljungbox\n",
    "acorr_ljungbox(residuals, lags=[10, 20, 30]).style"
   ]
  },
  {
   "cell_type": "markdown",
   "id": "7a53acb1",
   "metadata": {},
   "source": [
    "### Normality"
   ]
  },
  {
   "cell_type": "markdown",
   "id": "8508f4d7",
   "metadata": {},
   "source": [
    "#### Plot"
   ]
  },
  {
   "cell_type": "code",
   "execution_count": 16,
   "id": "b0e28009",
   "metadata": {},
   "outputs": [
    {
     "data": {
      "image/png": "[encoded data removed]",
      "text/plain": [
       "<Figure size 640x480 with 1 Axes>"
      ]
     },
     "metadata": {},
     "output_type": "display_data"
    }
   ],
   "source": [
    "import matplotlib.pyplot as plt\n",
    "from scipy import stats\n",
    "\n",
    "fig, ax = plt.subplots()\n",
    "stats.probplot(residuals, dist='norm', plot=ax);"
   ]
  },
  {
   "cell_type": "markdown",
   "id": "18a1a6e4",
   "metadata": {},
   "source": [
    "#### Test"
   ]
  },
  {
   "cell_type": "code",
   "execution_count": 17,
   "id": "bd462dab",
   "metadata": {},
   "outputs": [
    {
     "data": {
      "text/plain": [
       "SignificanceResult(statistic=np.float64(12.952211293727537), pvalue=np.float64(0.0015397955257427465))"
      ]
     },
     "execution_count": 17,
     "metadata": {},
     "output_type": "execute_result"
    }
   ],
   "source": [
    "from scipy.stats import jarque_bera\n",
    "jarque_bera(residuals)"
   ]
  },
  {
   "cell_type": "markdown",
   "id": "be557d73",
   "metadata": {},
   "source": [
    "### Homoscedasticity"
   ]
  },
  {
   "cell_type": "markdown",
   "id": "1c8e1f0c",
   "metadata": {},
   "source": [
    "#### Plot"
   ]
  },
  {
   "cell_type": "code",
   "execution_count": 18,
   "id": "53ea8b12",
   "metadata": {},
   "outputs": [
    {
     "data": {
      "application/vnd.plotly.v1+json": {
       "config": {
        "plotlyServerURL": "https://plot.ly"
       },
       "data": [
        {
         "hovertemplate": "variable=0<br>index=%{x}<br>value=%{y}<extra></extra>",
         "legendgroup": "0",
         "line": {
          "color": "#636efa",
          "dash": "solid"
         },
         "marker": {
          "symbol": "circle"
         },
         "mode": "lines",
         "name": "0",
         "orientation": "v",
         "showlegend": true,
         "type": "scatter",
         "x": [
          "1949-01-31T00:00:00.000000000",
          "1949-02-28T00:00:00.000000000",
          "1949-03-31T00:00:00.000000000",
          "1949-04-30T00:00:00.000000000",
          "1949-05-31T00:00:00.000000000",
          "1949-06-30T00:00:00.000000000",
          "1949-07-31T00:00:00.000000000",
          "1949-08-31T00:00:00.000000000",
          "1949-09-30T00:00:00.000000000",
          "1949-10-31T00:00:00.000000000",
          "1949-11-30T00:00:00.000000000",
          "1949-12-31T00:00:00.000000000",
          "1950-01-31T00:00:00.000000000",
          "1950-02-28T00:00:00.000000000",
          "1950-03-31T00:00:00.000000000",
          "1950-04-30T00:00:00.000000000",
          "1950-05-31T00:00:00.000000000",
          "1950-06-30T00:00:00.000000000",
          "1950-07-31T00:00:00.000000000",
          "1950-08-31T00:00:00.000000000",
          "1950-09-30T00:00:00.000000000",
          "1950-10-31T00:00:00.000000000",
          "1950-11-30T00:00:00.000000000",
          "1950-12-31T00:00:00.000000000",
          "1951-01-31T00:00:00.000000000",
          "1951-02-28T00:00:00.000000000",
          "1951-03-31T00:00:00.000000000",
          "1951-04-30T00:00:00.000000000",
          "1951-05-31T00:00:00.000000000",
          "1951-06-30T00:00:00.000000000",
          "1951-07-31T00:00:00.000000000",
          "1951-08-31T00:00:00.000000000",
          "1951-09-30T00:00:00.000000000",
          "1951-10-31T00:00:00.000000000",
          "1951-11-30T00:00:00.000000000",
          "1951-12-31T00:00:00.000000000",
          "1952-01-31T00:00:00.000000000",
          "1952-02-29T00:00:00.000000000",
          "1952-03-31T00:00:00.000000000",
          "1952-04-30T00:00:00.000000000",
          "1952-05-31T00:00:00.000000000",
          "1952-06-30T00:00:00.000000000",
          "1952-07-31T00:00:00.000000000",
          "1952-08-31T00:00:00.000000000",
          "1952-09-30T00:00:00.000000000",
          "1952-10-31T00:00:00.000000000",
          "1952-11-30T00:00:00.000000000",
          "1952-12-31T00:00:00.000000000",
          "1953-01-31T00:00:00.000000000",
          "1953-02-28T00:00:00.000000000",
          "1953-03-31T00:00:00.000000000",
          "1953-04-30T00:00:00.000000000",
          "1953-05-31T00:00:00.000000000",
          "1953-06-30T00:00:00.000000000",
          "1953-07-31T00:00:00.000000000",
          "1953-08-31T00:00:00.000000000",
          "1953-09-30T00:00:00.000000000",
          "1953-10-31T00:00:00.000000000",
          "1953-11-30T00:00:00.000000000",
          "1953-12-31T00:00:00.000000000",
          "1954-01-31T00:00:00.000000000",
          "1954-02-28T00:00:00.000000000",
          "1954-03-31T00:00:00.000000000",
          "1954-04-30T00:00:00.000000000",
          "1954-05-31T00:00:00.000000000",
          "1954-06-30T00:00:00.000000000",
          "1954-07-31T00:00:00.000000000",
          "1954-08-31T00:00:00.000000000",
          "1954-09-30T00:00:00.000000000",
          "1954-10-31T00:00:00.000000000",
          "1954-11-30T00:00:00.000000000",
          "1954-12-31T00:00:00.000000000",
          "1955-01-31T00:00:00.000000000",
          "1955-02-28T00:00:00.000000000",
          "1955-03-31T00:00:00.000000000",
          "1955-04-30T00:00:00.000000000",
          "1955-05-31T00:00:00.000000000",
          "1955-06-30T00:00:00.000000000",
          "1955-07-31T00:00:00.000000000",
          "1955-08-31T00:00:00.000000000",
          "1955-09-30T00:00:00.000000000",
          "1955-10-31T00:00:00.000000000",
          "1955-11-30T00:00:00.000000000",
          "1955-12-31T00:00:00.000000000",
          "1956-01-31T00:00:00.000000000",
          "1956-02-29T00:00:00.000000000",
          "1956-03-31T00:00:00.000000000",
          "1956-04-30T00:00:00.000000000",
          "1956-05-31T00:00:00.000000000",
          "1956-06-30T00:00:00.000000000",
          "1956-07-31T00:00:00.000000000",
          "1956-08-31T00:00:00.000000000",
          "1956-09-30T00:00:00.000000000",
          "1956-10-31T00:00:00.000000000",
          "1956-11-30T00:00:00.000000000",
          "1956-12-31T00:00:00.000000000",
          "1957-01-31T00:00:00.000000000",
          "1957-02-28T00:00:00.000000000",
          "1957-03-31T00:00:00.000000000",
          "1957-04-30T00:00:00.000000000",
          "1957-05-31T00:00:00.000000000",
          "1957-06-30T00:00:00.000000000",
          "1957-07-31T00:00:00.000000000",
          "1957-08-31T00:00:00.000000000",
          "1957-09-30T00:00:00.000000000",
          "1957-10-31T00:00:00.000000000",
          "1957-11-30T00:00:00.000000000",
          "1957-12-31T00:00:00.000000000",
          "1958-01-31T00:00:00.000000000",
          "1958-02-28T00:00:00.000000000",
          "1958-03-31T00:00:00.000000000",
          "1958-04-30T00:00:00.000000000",
          "1958-05-31T00:00:00.000000000",
          "1958-06-30T00:00:00.000000000",
          "1958-07-31T00:00:00.000000000",
          "1958-08-31T00:00:00.000000000",
          "1958-09-30T00:00:00.000000000",
          "1958-10-31T00:00:00.000000000",
          "1958-11-30T00:00:00.000000000",
          "1958-12-31T00:00:00.000000000",
          "1959-01-31T00:00:00.000000000",
          "1959-02-28T00:00:00.000000000",
          "1959-03-31T00:00:00.000000000",
          "1959-04-30T00:00:00.000000000",
          "1959-05-31T00:00:00.000000000",
          "1959-06-30T00:00:00.000000000",
          "1959-07-31T00:00:00.000000000",
          "1959-08-31T00:00:00.000000000",
          "1959-09-30T00:00:00.000000000",
          "1959-10-31T00:00:00.000000000",
          "1959-11-30T00:00:00.000000000",
          "1959-12-31T00:00:00.000000000",
          "1960-01-31T00:00:00.000000000",
          "1960-02-29T00:00:00.000000000",
          "1960-03-31T00:00:00.000000000",
          "1960-04-30T00:00:00.000000000",
          "1960-05-31T00:00:00.000000000",
          "1960-06-30T00:00:00.000000000",
          "1960-07-31T00:00:00.000000000",
          "1960-08-31T00:00:00.000000000",
          "1960-09-30T00:00:00.000000000",
          "1960-10-31T00:00:00.000000000",
          "1960-11-30T00:00:00.000000000",
          "1960-12-31T00:00:00.000000000"
         ],
         "xaxis": "x",
         "y": {
          "bdata": "gCZeXUnN4j9AMFzSGnwAwAAIj6b1ngbAAM/5jQhv+b9g+bxhE6IIwABT/5rFxQLAQAVNghI9DcAAa7larvwNwCA+ERKDWRDAQIbcsAgpEsDwBDHBEjcZwFg1/GD+EyHAsEsivAMFLcAAxkrQFfYYwGDrWR3rvhXAAG3Bw51bGsCguSYeYEsbwADVgv0t3w5AAL11j93jIEDA9pQBIxUTQACXkomz5gxAgExXmf7iEcDQGidiXkscwAD7ksVoEgNAQJHHUvrMEkCA40pZenIXwCAyawsSqRFAgIkeDGBXGsDw+PI3w6UtQHCfn/67bybAIPsLcKxyIMBAnrvPG/8KwIA915Rf8/O/YOqZo9TJEUDAZS5Z8accQOBRNeWnYxLAgNQdx/H4+b8ASP2iCY3ov8DGciHdzDHA0JfCfamfI8DA+O0QvLQcwPCt+6b23zFAwP5/9p2yAMCQiuB0tK8kQCBIa24ECiDAwKU17nD6EkCAZSfHoVgYQADPsKNx5ec/gKtLgL6nCcCQn9YYkNEowJAXilhFVyJAyOzRkopHMUAAJ0LCJ7z3P2AVwvoCGzLAgGIeBH7gHMCAJp3Fz44VwKAPXqbPSRTAQDvDF73yFcCA4hYiE3glwHAPHUcUjSTAQC9HdK2gHcCAfoVKv985wGCNJ72i7xzAgFWqE4sJFsDgU3hcrDchQLC3ZDymLi1AIBPiE3cFOUAAs2ASOKP/vwA+2Z3Kke8/AMqTkiLyBcDAwyWy5AMAQAAe3OjuIOg/ADfN0stAIEBAhYsx2MsQQNB0Xgd5jDPAANymHCRcCcAAMsGMKl8RwCAKi+GUCitAsDqRCd/7OEAgdq+0SVogQOBWdAYlhiZAgAWwixvPD0AAjphm+Mv+v8BuOZ4CcCNAACumAuHW9j9AC4FCb7kYQEA19g530BLA4HyN4znVIMAAqAfGxl8JwMBy18DMqB9AAHGIcQOy/7+gV7UH8cUoQIDQsG4yxgpAgNyZcyGrA8AALlgH2r8PQIAzacXtcQ7AACACIWjvw7+Ahw5g5MYLwED3mrtjwRlAALFGBh57AcAAmDg1MaLXv6AYd7f1zyBAABPxWkpWEEBwYIkwrtEzQMADjrYAtx1AgI+2VfSNAEAAHQYVnxrzPwAOQB5XjCLAYLWBzRKgJ8AgXKUjBLYvwMD57dw/eDfAMKdoVHXFNsDA/PZjs7QewAD+L833yew/QA88LAnQKkAAbOWbegs9QCBLQE/xpivAwEHCfvJAEUAAPIOWRYkEwACoqTw+iiTAwEHtOivbH0AA1yxcVYQTQCAtexT8zihAAMzC57OeGUBgKsFJBZ4lQHDr9peoxzTAAIRaoIgrFkAAgh6M97UmQGDLAC2C8ixAwPI4xDDuHkDAfDYqVMMrQCDIwqqhqzFAABOPFKYuA0AAr8nOVZX6v/jR/6s/e0TAgDLCiuYvO0DAJ6LeuAgdQABgJ3cP8cs/gIkpNc13GUBAwYyy5QEzwABKtN53H/Q/gCDSNvXJMUAAVxMFiPALwACw3p0FYNa/",
          "dtype": "f8"
         },
         "yaxis": "y"
        }
       ],
       "layout": {
        "legend": {
         "title": {
          "text": "variable"
         },
         "tracegroupgap": 0
        },
        "margin": {
         "t": 60
        },
        "template": {
         "data": {
          "bar": [
           {
            "error_x": {
             "color": "#f2f5fa"
            },
            "error_y": {
             "color": "#f2f5fa"
            },
            "marker": {
             "line": {
              "color": "rgb(17,17,17)",
              "width": 0.5
             },
             "pattern": {
              "fillmode": "overlay",
              "size": 10,
              "solidity": 0.2
             }
            },
            "type": "bar"
           }
          ],
          "barpolar": [
           {
            "marker": {
             "line": {
              "color": "rgb(17,17,17)",
              "width": 0.5
             },
             "pattern": {
              "fillmode": "overlay",
              "size": 10,
              "solidity": 0.2
             }
            },
            "type": "barpolar"
           }
          ],
          "carpet": [
           {
            "aaxis": {
             "endlinecolor": "#A2B1C6",
             "gridcolor": "#506784",
             "linecolor": "#506784",
             "minorgridcolor": "#506784",
             "startlinecolor": "#A2B1C6"
            },
            "baxis": {
             "endlinecolor": "#A2B1C6",
             "gridcolor": "#506784",
             "linecolor": "#506784",
             "minorgridcolor": "#506784",
             "startlinecolor": "#A2B1C6"
            },
            "type": "carpet"
           }
          ],
          "choropleth": [
           {
            "colorbar": {
             "outlinewidth": 0,
             "ticks": ""
            },
            "type": "choropleth"
           }
          ],
          "contour": [
           {
            "colorbar": {
             "outlinewidth": 0,
             "ticks": ""
            },
            "colorscale": [
             [
              0,
              "#0d0887"
             ],
             [
              0.1111111111111111,
              "#46039f"
             ],
             [
              0.2222222222222222,
              "#7201a8"
             ],
             [
              0.3333333333333333,
              "#9c179e"
             ],
             [
              0.4444444444444444,
              "#bd3786"
             ],
             [
              0.5555555555555556,
              "#d8576b"
             ],
             [
              0.6666666666666666,
              "#ed7953"
             ],
             [
              0.7777777777777778,
              "#fb9f3a"
             ],
             [
              0.8888888888888888,
              "#fdca26"
             ],
             [
              1,
              "#f0f921"
             ]
            ],
            "type": "contour"
           }
          ],
          "contourcarpet": [
           {
            "colorbar": {
             "outlinewidth": 0,
             "ticks": ""
            },
            "type": "contourcarpet"
           }
          ],
          "heatmap": [
           {
            "colorbar": {
             "outlinewidth": 0,
             "ticks": ""
            },
            "colorscale": [
             [
              0,
              "#0d0887"
             ],
             [
              0.1111111111111111,
              "#46039f"
             ],
             [
              0.2222222222222222,
              "#7201a8"
             ],
             [
              0.3333333333333333,
              "#9c179e"
             ],
             [
              0.4444444444444444,
              "#bd3786"
             ],
             [
              0.5555555555555556,
              "#d8576b"
             ],
             [
              0.6666666666666666,
              "#ed7953"
             ],
             [
              0.7777777777777778,
              "#fb9f3a"
             ],
             [
              0.8888888888888888,
              "#fdca26"
             ],
             [
              1,
              "#f0f921"
             ]
            ],
            "type": "heatmap"
           }
          ],
          "histogram": [
           {
            "marker": {
             "pattern": {
              "fillmode": "overlay",
              "size": 10,
              "solidity": 0.2
             }
            },
            "type": "histogram"
           }
          ],
          "histogram2d": [
           {
            "colorbar": {
             "outlinewidth": 0,
             "ticks": ""
            },
            "colorscale": [
             [
              0,
              "#0d0887"
             ],
             [
              0.1111111111111111,
              "#46039f"
             ],
             [
              0.2222222222222222,
              "#7201a8"
             ],
             [
              0.3333333333333333,
              "#9c179e"
             ],
             [
              0.4444444444444444,
              "#bd3786"
             ],
             [
              0.5555555555555556,
              "#d8576b"
             ],
             [
              0.6666666666666666,
              "#ed7953"
             ],
             [
              0.7777777777777778,
              "#fb9f3a"
             ],
             [
              0.8888888888888888,
              "#fdca26"
             ],
             [
              1,
              "#f0f921"
             ]
            ],
            "type": "histogram2d"
           }
          ],
          "histogram2dcontour": [
           {
            "colorbar": {
             "outlinewidth": 0,
             "ticks": ""
            },
            "colorscale": [
             [
              0,
              "#0d0887"
             ],
             [
              0.1111111111111111,
              "#46039f"
             ],
             [
              0.2222222222222222,
              "#7201a8"
             ],
             [
              0.3333333333333333,
              "#9c179e"
             ],
             [
              0.4444444444444444,
              "#bd3786"
             ],
             [
              0.5555555555555556,
              "#d8576b"
             ],
             [
              0.6666666666666666,
              "#ed7953"
             ],
             [
              0.7777777777777778,
              "#fb9f3a"
             ],
             [
              0.8888888888888888,
              "#fdca26"
             ],
             [
              1,
              "#f0f921"
             ]
            ],
            "type": "histogram2dcontour"
           }
          ],
          "mesh3d": [
           {
            "colorbar": {
             "outlinewidth": 0,
             "ticks": ""
            },
            "type": "mesh3d"
           }
          ],
          "parcoords": [
           {
            "line": {
             "colorbar": {
              "outlinewidth": 0,
              "ticks": ""
             }
            },
            "type": "parcoords"
           }
          ],
          "pie": [
           {
            "automargin": true,
            "type": "pie"
           }
          ],
          "scatter": [
           {
            "marker": {
             "line": {
              "color": "#283442"
             }
            },
            "type": "scatter"
           }
          ],
          "scatter3d": [
           {
            "line": {
             "colorbar": {
              "outlinewidth": 0,
              "ticks": ""
             }
            },
            "marker": {
             "colorbar": {
              "outlinewidth": 0,
              "ticks": ""
             }
            },
            "type": "scatter3d"
           }
          ],
          "scattercarpet": [
           {
            "marker": {
             "colorbar": {
              "outlinewidth": 0,
              "ticks": ""
             }
            },
            "type": "scattercarpet"
           }
          ],
          "scattergeo": [
           {
            "marker": {
             "colorbar": {
              "outlinewidth": 0,
              "ticks": ""
             }
            },
            "type": "scattergeo"
           }
          ],
          "scattergl": [
           {
            "marker": {
             "line": {
              "color": "#283442"
             }
            },
            "type": "scattergl"
           }
          ],
          "scattermap": [
           {
            "marker": {
             "colorbar": {
              "outlinewidth": 0,
              "ticks": ""
             }
            },
            "type": "scattermap"
           }
          ],
          "scattermapbox": [
           {
            "marker": {
             "colorbar": {
              "outlinewidth": 0,
              "ticks": ""
             }
            },
            "type": "scattermapbox"
           }
          ],
          "scatterpolar": [
           {
            "marker": {
             "colorbar": {
              "outlinewidth": 0,
              "ticks": ""
             }
            },
            "type": "scatterpolar"
           }
          ],
          "scatterpolargl": [
           {
            "marker": {
             "colorbar": {
              "outlinewidth": 0,
              "ticks": ""
             }
            },
            "type": "scatterpolargl"
           }
          ],
          "scatterternary": [
           {
            "marker": {
             "colorbar": {
              "outlinewidth": 0,
              "ticks": ""
             }
            },
            "type": "scatterternary"
           }
          ],
          "surface": [
           {
            "colorbar": {
             "outlinewidth": 0,
             "ticks": ""
            },
            "colorscale": [
             [
              0,
              "#0d0887"
             ],
             [
              0.1111111111111111,
              "#46039f"
             ],
             [
              0.2222222222222222,
              "#7201a8"
             ],
             [
              0.3333333333333333,
              "#9c179e"
             ],
             [
              0.4444444444444444,
              "#bd3786"
             ],
             [
              0.5555555555555556,
              "#d8576b"
             ],
             [
              0.6666666666666666,
              "#ed7953"
             ],
             [
              0.7777777777777778,
              "#fb9f3a"
             ],
             [
              0.8888888888888888,
              "#fdca26"
             ],
             [
              1,
              "#f0f921"
             ]
            ],
            "type": "surface"
           }
          ],
          "table": [
           {
            "cells": {
             "fill": {
              "color": "#506784"
             },
             "line": {
              "color": "rgb(17,17,17)"
             }
            },
            "header": {
             "fill": {
              "color": "#2a3f5f"
             },
             "line": {
              "color": "rgb(17,17,17)"
             }
            },
            "type": "table"
           }
          ]
         },
         "layout": {
          "annotationdefaults": {
           "arrowcolor": "#f2f5fa",
           "arrowhead": 0,
           "arrowwidth": 1
          },
          "autosize": false,
          "autotypenumbers": "strict",
          "coloraxis": {
           "colorbar": {
            "outlinewidth": 0,
            "ticks": ""
           }
          },
          "colorscale": {
           "diverging": [
            [
             0,
             "#8e0152"
            ],
            [
             0.1,
             "#c51b7d"
            ],
            [
             0.2,
             "#de77ae"
            ],
            [
             0.3,
             "#f1b6da"
            ],
            [
             0.4,
             "#fde0ef"
            ],
            [
             0.5,
             "#f7f7f7"
            ],
            [
             0.6,
             "#e6f5d0"
            ],
            [
             0.7,
             "#b8e186"
            ],
            [
             0.8,
             "#7fbc41"
            ],
            [
             0.9,
             "#4d9221"
            ],
            [
             1,
             "#276419"
            ]
           ],
           "sequential": [
            [
             0,
             "#0d0887"
            ],
            [
             0.1111111111111111,
             "#46039f"
            ],
            [
             0.2222222222222222,
             "#7201a8"
            ],
            [
             0.3333333333333333,
             "#9c179e"
            ],
            [
             0.4444444444444444,
             "#bd3786"
            ],
            [
             0.5555555555555556,
             "#d8576b"
            ],
            [
             0.6666666666666666,
             "#ed7953"
            ],
            [
             0.7777777777777778,
             "#fb9f3a"
            ],
            [
             0.8888888888888888,
             "#fdca26"
            ],
            [
             1,
             "#f0f921"
            ]
           ],
           "sequentialminus": [
            [
             0,
             "#0d0887"
            ],
            [
             0.1111111111111111,
             "#46039f"
            ],
            [
             0.2222222222222222,
             "#7201a8"
            ],
            [
             0.3333333333333333,
             "#9c179e"
            ],
            [
             0.4444444444444444,
             "#bd3786"
            ],
            [
             0.5555555555555556,
             "#d8576b"
            ],
            [
             0.6666666666666666,
             "#ed7953"
            ],
            [
             0.7777777777777778,
             "#fb9f3a"
            ],
            [
             0.8888888888888888,
             "#fdca26"
            ],
            [
             1,
             "#f0f921"
            ]
           ]
          },
          "colorway": [
           "#636efa",
           "#EF553B",
           "#00cc96",
           "#ab63fa",
           "#FFA15A",
           "#19d3f3",
           "#FF6692",
           "#B6E880",
           "#FF97FF",
           "#FECB52"
          ],
          "font": {
           "color": "#f2f5fa"
          },
          "geo": {
           "bgcolor": "rgb(17,17,17)",
           "lakecolor": "rgb(17,17,17)",
           "landcolor": "rgb(17,17,17)",
           "showlakes": true,
           "showland": true,
           "subunitcolor": "#506784"
          },
          "height": 500,
          "hoverlabel": {
           "align": "left"
          },
          "hovermode": "closest",
          "mapbox": {
           "style": "dark"
          },
          "paper_bgcolor": "rgb(17,17,17)",
          "plot_bgcolor": "rgb(17,17,17)",
          "polar": {
           "angularaxis": {
            "gridcolor": "#506784",
            "linecolor": "#506784",
            "ticks": ""
           },
           "bgcolor": "rgb(17,17,17)",
           "radialaxis": {
            "gridcolor": "#506784",
            "linecolor": "#506784",
            "ticks": ""
           }
          },
          "scene": {
           "xaxis": {
            "backgroundcolor": "rgb(17,17,17)",
            "gridcolor": "#506784",
            "gridwidth": 2,
            "linecolor": "#506784",
            "showbackground": true,
            "ticks": "",
            "zerolinecolor": "#C8D4E3"
           },
           "yaxis": {
            "backgroundcolor": "rgb(17,17,17)",
            "gridcolor": "#506784",
            "gridwidth": 2,
            "linecolor": "#506784",
            "showbackground": true,
            "ticks": "",
            "zerolinecolor": "#C8D4E3"
           },
           "zaxis": {
            "backgroundcolor": "rgb(17,17,17)",
            "gridcolor": "#506784",
            "gridwidth": 2,
            "linecolor": "#506784",
            "showbackground": true,
            "ticks": "",
            "zerolinecolor": "#C8D4E3"
           }
          },
          "shapedefaults": {
           "line": {
            "color": "#f2f5fa"
           }
          },
          "showlegend": true,
          "sliderdefaults": {
           "bgcolor": "#C8D4E3",
           "bordercolor": "rgb(17,17,17)",
           "borderwidth": 1,
           "tickwidth": 0
          },
          "ternary": {
           "aaxis": {
            "gridcolor": "#506784",
            "linecolor": "#506784",
            "ticks": ""
           },
           "baxis": {
            "gridcolor": "#506784",
            "linecolor": "#506784",
            "ticks": ""
           },
           "bgcolor": "rgb(17,17,17)",
           "caxis": {
            "gridcolor": "#506784",
            "linecolor": "#506784",
            "ticks": ""
           }
          },
          "title": {
           "x": 0.05
          },
          "updatemenudefaults": {
           "bgcolor": "#506784",
           "borderwidth": 0
          },
          "width": 1000,
          "xaxis": {
           "automargin": true,
           "gridcolor": "#283442",
           "linecolor": "#506784",
           "ticks": "",
           "title": {
            "standoff": 15
           },
           "zerolinecolor": "#283442",
           "zerolinewidth": 2
          },
          "yaxis": {
           "automargin": true,
           "gridcolor": "#283442",
           "linecolor": "#506784",
           "ticks": "",
           "title": {
            "standoff": 15
           },
           "zerolinecolor": "#283442",
           "zerolinewidth": 2
          }
         }
        },
        "xaxis": {
         "anchor": "y",
         "domain": [
          0,
          1
         ],
         "title": {
          "text": "index"
         }
        },
        "yaxis": {
         "anchor": "x",
         "domain": [
          0,
          1
         ],
         "title": {
          "text": "value"
         }
        }
       }
      }
     },
     "metadata": {},
     "output_type": "display_data"
    }
   ],
   "source": [
    "residuals.plot()"
   ]
  },
  {
   "cell_type": "markdown",
   "id": "5f2201a0",
   "metadata": {},
   "source": [
    "#### Test"
   ]
  },
  {
   "cell_type": "code",
   "execution_count": 19,
   "id": "bedc2327",
   "metadata": {},
   "outputs": [
    {
     "data": {
      "text/plain": [
       "(np.float64(10.685439095940257),\n",
       " np.float64(0.38254447409756054),\n",
       " 1.06581818007948,\n",
       " 0.3937205252485133)"
      ]
     },
     "execution_count": 19,
     "metadata": {},
     "output_type": "execute_result"
    }
   ],
   "source": [
    "from statsmodels.stats.diagnostic import het_arch\n",
    "het_arch(residuals)"
   ]
  }
 ],
 "metadata": {
  "kernelspec": {
   "display_name": "time-series",
   "language": "python",
   "name": "python3"
  },
  "language_info": {
   "codemirror_mode": {
    "name": "ipython",
    "version": 3
   },
   "file_extension": ".py",
   "mimetype": "text/x-python",
   "name": "python",
   "nbconvert_exporter": "python",
   "pygments_lexer": "ipython3",
   "version": "3.12.10"
  },
  "papermill": {
   "default_parameters": {},
   "duration": 26.372159,
   "end_time": "2024-05-29T23:02:26.184807",
   "environment_variables": {},
   "exception": null,
   "input_path": "/Users/sota/Library/CloudStorage/Dropbox/2 Business/1 Datons/2 Areas/Courses/22 TS/solutions-new/notebooks/40_Forecasting I Stats/2_Statistical/1.ipynb",
   "output_path": "/Users/sota/Library/CloudStorage/Dropbox/2 Business/1 Datons/2 Areas/Courses/22 TS/solutions-new/notebooks/40_Forecasting I Stats/2_Statistical/1.ipynb",
   "parameters": {},
   "start_time": "2024-05-29T23:01:59.812648",
   "version": "2.5.0"
  }
 },
 "nbformat": 4,
 "nbformat_minor": 5
}
