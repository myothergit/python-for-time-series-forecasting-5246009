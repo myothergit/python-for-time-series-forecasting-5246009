{
 "cells": [
  {
   "cell_type": "markdown",
   "id": "05c0fa00",
   "metadata": {},
   "source": [
    "# Time Series Forecasting with Prophet"
   ]
  },
  {
   "cell_type": "markdown",
   "id": "ee52d6f2",
   "metadata": {},
   "source": [
    "## 📦 Overview"
   ]
  },
  {
   "cell_type": "markdown",
   "id": "19e3599a",
   "metadata": {},
   "source": [
    "This notebook applies Facebook Prophet to the classic AirPassengers dataset and walks through model configuration, forecast, and diagnostics.\n",
    "\n",
    "---"
   ]
  },
  {
   "cell_type": "markdown",
   "id": "a525b6b0",
   "metadata": {},
   "source": [
    "## 📂 Load Data"
   ]
  },
  {
   "cell_type": "code",
   "execution_count": 1,
   "id": "6083bccf",
   "metadata": {},
   "outputs": [
    {
     "data": {
      "text/html": [
       "<div>\n",
       "<style scoped>\n",
       "    .dataframe tbody tr th:only-of-type {\n",
       "        vertical-align: middle;\n",
       "    }\n",
       "\n",
       "    .dataframe tbody tr th {\n",
       "        vertical-align: top;\n",
       "    }\n",
       "\n",
       "    .dataframe thead th {\n",
       "        text-align: right;\n",
       "    }\n",
       "</style>\n",
       "<table border=\"1\" class=\"dataframe\">\n",
       "  <thead>\n",
       "    <tr style=\"text-align: right;\">\n",
       "      <th></th>\n",
       "      <th>ds</th>\n",
       "      <th>y</th>\n",
       "    </tr>\n",
       "  </thead>\n",
       "  <tbody>\n",
       "    <tr>\n",
       "      <th>1949-01-31</th>\n",
       "      <td>1949-01-31</td>\n",
       "      <td>112</td>\n",
       "    </tr>\n",
       "    <tr>\n",
       "      <th>1949-02-28</th>\n",
       "      <td>1949-02-28</td>\n",
       "      <td>118</td>\n",
       "    </tr>\n",
       "    <tr>\n",
       "      <th>...</th>\n",
       "      <td>...</td>\n",
       "      <td>...</td>\n",
       "    </tr>\n",
       "    <tr>\n",
       "      <th>1960-11-30</th>\n",
       "      <td>1960-11-30</td>\n",
       "      <td>390</td>\n",
       "    </tr>\n",
       "    <tr>\n",
       "      <th>1960-12-31</th>\n",
       "      <td>1960-12-31</td>\n",
       "      <td>432</td>\n",
       "    </tr>\n",
       "  </tbody>\n",
       "</table>\n",
       "<p>144 rows × 2 columns</p>\n",
       "</div>"
      ],
      "text/plain": [
       "                   ds    y\n",
       "1949-01-31 1949-01-31  112\n",
       "1949-02-28 1949-02-28  118\n",
       "...               ...  ...\n",
       "1960-11-30 1960-11-30  390\n",
       "1960-12-31 1960-12-31  432\n",
       "\n",
       "[144 rows x 2 columns]"
      ]
     },
     "execution_count": 1,
     "metadata": {},
     "output_type": "execute_result"
    }
   ],
   "source": [
    "from modules import utils\n",
    "utils.configure_plotly_template(showlegend=True)\n",
    "\n",
    "import pandas as pd\n",
    "\n",
    "path = '../../../data/statsmodels/AirPassengers.parquet'\n",
    "df = pd.read_parquet(path).asfreq('ME')\n",
    "df.columns = ['y']\n",
    "df['ds'] = df.index\n",
    "df = df[['ds', 'y']]\n",
    "df"
   ]
  },
  {
   "cell_type": "markdown",
   "id": "b6c37c46",
   "metadata": {},
   "source": [
    "---"
   ]
  },
  {
   "cell_type": "markdown",
   "id": "e3077129",
   "metadata": {},
   "source": [
    "## 🔧 Model Fit"
   ]
  },
  {
   "cell_type": "code",
   "execution_count": 2,
   "id": "47959e32",
   "metadata": {},
   "outputs": [
    {
     "name": "stderr",
     "output_type": "stream",
     "text": [
      "/Users/sota/miniforge3/envs/time-series/lib/python3.12/site-packages/tqdm/auto.py:21: TqdmWarning: IProgress not found. Please update jupyter and ipywidgets. See https://ipywidgets.readthedocs.io/en/stable/user_install.html\n",
      "  from .autonotebook import tqdm as notebook_tqdm\n",
      "09:16:48 - cmdstanpy - INFO - Chain [1] start processing\n",
      "09:16:48 - cmdstanpy - INFO - Chain [1] done processing\n"
     ]
    },
    {
     "data": {
      "text/plain": [
       "<prophet.forecaster.Prophet at 0x31d2978c0>"
      ]
     },
     "execution_count": 2,
     "metadata": {},
     "output_type": "execute_result"
    }
   ],
   "source": [
    "from prophet import Prophet\n",
    "\n",
    "model = Prophet(\n",
    "    seasonality_mode=\"multiplicative\",\n",
    "    changepoint_range=1.0,  # use full history\n",
    "    n_changepoints=30,  # more flexibility in trend\n",
    ")\n",
    "\n",
    "model.fit(df)"
   ]
  },
  {
   "cell_type": "markdown",
   "id": "68eb5082",
   "metadata": {},
   "source": [
    "---"
   ]
  },
  {
   "cell_type": "markdown",
   "id": "06272680",
   "metadata": {},
   "source": [
    "## 📈 Forecast"
   ]
  },
  {
   "cell_type": "code",
   "execution_count": 3,
   "id": "42c81845",
   "metadata": {},
   "outputs": [
    {
     "name": "stderr",
     "output_type": "stream",
     "text": [
      "/Users/sota/miniforge3/envs/time-series/lib/python3.12/site-packages/prophet/forecaster.py:1854: FutureWarning: 'M' is deprecated and will be removed in a future version, please use 'ME' instead.\n",
      "  dates = pd.date_range(\n"
     ]
    },
    {
     "data": {
      "text/html": [
       "<div>\n",
       "<style scoped>\n",
       "    .dataframe tbody tr th:only-of-type {\n",
       "        vertical-align: middle;\n",
       "    }\n",
       "\n",
       "    .dataframe tbody tr th {\n",
       "        vertical-align: top;\n",
       "    }\n",
       "\n",
       "    .dataframe thead th {\n",
       "        text-align: right;\n",
       "    }\n",
       "</style>\n",
       "<table border=\"1\" class=\"dataframe\">\n",
       "  <thead>\n",
       "    <tr style=\"text-align: right;\">\n",
       "      <th></th>\n",
       "      <th>ds</th>\n",
       "      <th>yhat</th>\n",
       "      <th>yhat_lower</th>\n",
       "      <th>yhat_upper</th>\n",
       "    </tr>\n",
       "  </thead>\n",
       "  <tbody>\n",
       "    <tr>\n",
       "      <th>187</th>\n",
       "      <td>1964-08-31</td>\n",
       "      <td>827.215030</td>\n",
       "      <td>805.080311</td>\n",
       "      <td>854.242529</td>\n",
       "    </tr>\n",
       "    <tr>\n",
       "      <th>188</th>\n",
       "      <td>1964-09-30</td>\n",
       "      <td>705.416880</td>\n",
       "      <td>683.474064</td>\n",
       "      <td>730.185743</td>\n",
       "    </tr>\n",
       "    <tr>\n",
       "      <th>...</th>\n",
       "      <td>...</td>\n",
       "      <td>...</td>\n",
       "      <td>...</td>\n",
       "      <td>...</td>\n",
       "    </tr>\n",
       "    <tr>\n",
       "      <th>190</th>\n",
       "      <td>1964-11-30</td>\n",
       "      <td>541.109761</td>\n",
       "      <td>522.248393</td>\n",
       "      <td>561.453890</td>\n",
       "    </tr>\n",
       "    <tr>\n",
       "      <th>191</th>\n",
       "      <td>1964-12-31</td>\n",
       "      <td>600.479301</td>\n",
       "      <td>579.907170</td>\n",
       "      <td>622.267288</td>\n",
       "    </tr>\n",
       "  </tbody>\n",
       "</table>\n",
       "<p>5 rows × 4 columns</p>\n",
       "</div>"
      ],
      "text/plain": [
       "            ds        yhat  yhat_lower  yhat_upper\n",
       "187 1964-08-31  827.215030  805.080311  854.242529\n",
       "188 1964-09-30  705.416880  683.474064  730.185743\n",
       "..         ...         ...         ...         ...\n",
       "190 1964-11-30  541.109761  522.248393  561.453890\n",
       "191 1964-12-31  600.479301  579.907170  622.267288\n",
       "\n",
       "[5 rows x 4 columns]"
      ]
     },
     "execution_count": 3,
     "metadata": {},
     "output_type": "execute_result"
    }
   ],
   "source": [
    "future = model.make_future_dataframe(periods=48, freq='M')\n",
    "forecast = model.predict(future)\n",
    "forecast[['ds', 'yhat', 'yhat_lower', 'yhat_upper']].tail()"
   ]
  },
  {
   "cell_type": "markdown",
   "id": "b174ec41",
   "metadata": {},
   "source": [
    "---"
   ]
  },
  {
   "cell_type": "markdown",
   "id": "916d999a",
   "metadata": {},
   "source": [
    "## 🖼️ Plot Forecast"
   ]
  },
  {
   "cell_type": "code",
   "execution_count": 4,
   "id": "48c4d9f9",
   "metadata": {},
   "outputs": [
    {
     "data": {
      "image/png": "[encoded data removed]",
      "text/plain": [
       "<Figure size 1000x600 with 1 Axes>"
      ]
     },
     "metadata": {},
     "output_type": "display_data"
    }
   ],
   "source": [
    "model.plot(forecast);"
   ]
  },
  {
   "cell_type": "markdown",
   "id": "3adb2f6b",
   "metadata": {},
   "source": [
    "---"
   ]
  },
  {
   "cell_type": "markdown",
   "id": "80547070",
   "metadata": {},
   "source": [
    "## ⚙️ Prophet Configuration"
   ]
  },
  {
   "cell_type": "markdown",
   "id": "31c4a35c",
   "metadata": {},
   "source": [
    "1. Prophet automatically detects trend and seasonality using changepoints.\n",
    "2. You configure:\n",
    "\n",
    "   * **Trend flexibility** (with or without change points)\n",
    "   * **Additive vs. multiplicative** seasonality (`seasonality_mode`)\n",
    "   * **Custom seasonalities** (optional)\n",
    "   * **Holiday effects** (optional)\n",
    "\n",
    "---"
   ]
  },
  {
   "cell_type": "markdown",
   "id": "97441ec5",
   "metadata": {},
   "source": [
    "### 📌 Rule of Thumb"
   ]
  },
  {
   "cell_type": "markdown",
   "id": "4ba97d98",
   "metadata": {},
   "source": [
    "> “Prophet config is semi-automatic: trend and seasonal components are learned with flexible change points. You choose seasonal mode and horizon — minimal tuning required.”\n",
    "\n",
    "---"
   ]
  },
  {
   "cell_type": "markdown",
   "id": "8eb065fc",
   "metadata": {},
   "source": [
    "## 🧪 Seasonal Decomposition (For Visual Insight Only)"
   ]
  },
  {
   "cell_type": "code",
   "execution_count": 5,
   "id": "eb085a23",
   "metadata": {},
   "outputs": [
    {
     "data": {
      "image/png": "[encoded data removed]",
      "text/plain": [
       "<Figure size 640x480 with 4 Axes>"
      ]
     },
     "metadata": {},
     "output_type": "display_data"
    },
    {
     "data": {
      "image/png": "[encoded data removed]",
      "text/plain": [
       "<Figure size 640x480 with 4 Axes>"
      ]
     },
     "metadata": {},
     "output_type": "display_data"
    }
   ],
   "source": [
    "from statsmodels.tsa.seasonal import seasonal_decompose\n",
    "\n",
    "seasonal_decompose(df['y'], model=\"additive\", period=12).plot();\n",
    "seasonal_decompose(df['y'], model=\"multiplicative\", period=12).plot();"
   ]
  },
  {
   "cell_type": "markdown",
   "id": "e71f4325",
   "metadata": {},
   "source": [
    "---"
   ]
  },
  {
   "cell_type": "markdown",
   "id": "0509c0df",
   "metadata": {},
   "source": [
    "## 🎛️ Variation Playground"
   ]
  },
  {
   "cell_type": "code",
   "execution_count": 6,
   "id": "d7514ead",
   "metadata": {},
   "outputs": [
    {
     "name": "stderr",
     "output_type": "stream",
     "text": [
      "09:16:49 - cmdstanpy - INFO - Chain [1] start processing\n",
      "09:16:49 - cmdstanpy - INFO - Chain [1] done processing\n",
      "/Users/sota/miniforge3/envs/time-series/lib/python3.12/site-packages/prophet/forecaster.py:1854: FutureWarning: 'M' is deprecated and will be removed in a future version, please use 'ME' instead.\n",
      "  dates = pd.date_range(\n",
      "09:16:49 - cmdstanpy - INFO - Chain [1] start processing\n",
      "09:16:49 - cmdstanpy - INFO - Chain [1] done processing\n",
      "/Users/sota/miniforge3/envs/time-series/lib/python3.12/site-packages/prophet/forecaster.py:1854: FutureWarning: 'M' is deprecated and will be removed in a future version, please use 'ME' instead.\n",
      "  dates = pd.date_range(\n"
     ]
    },
    {
     "data": {
      "application/vnd.plotly.v1+json": {
       "config": {
        "plotlyServerURL": "https://plot.ly"
       },
       "data": [
        {
         "hovertemplate": "variable=y<br>ds=%{x}<br>value=%{y}<extra></extra>",
         "legendgroup": "y",
         "line": {
          "color": "#636efa",
          "dash": "solid"
         },
         "marker": {
          "symbol": "circle"
         },
         "mode": "lines",
         "name": "y",
         "orientation": "v",
         "showlegend": true,
         "type": "scatter",
         "x": [
          "1949-01-31T00:00:00.000000000",
          "1949-02-28T00:00:00.000000000",
          "1949-03-31T00:00:00.000000000",
          "1949-04-30T00:00:00.000000000",
          "1949-05-31T00:00:00.000000000",
          "1949-06-30T00:00:00.000000000",
          "1949-07-31T00:00:00.000000000",
          "1949-08-31T00:00:00.000000000",
          "1949-09-30T00:00:00.000000000",
          "1949-10-31T00:00:00.000000000",
          "1949-11-30T00:00:00.000000000",
          "1949-12-31T00:00:00.000000000",
          "1950-01-31T00:00:00.000000000",
          "1950-02-28T00:00:00.000000000",
          "1950-03-31T00:00:00.000000000",
          "1950-04-30T00:00:00.000000000",
          "1950-05-31T00:00:00.000000000",
          "1950-06-30T00:00:00.000000000",
          "1950-07-31T00:00:00.000000000",
          "1950-08-31T00:00:00.000000000",
          "1950-09-30T00:00:00.000000000",
          "1950-10-31T00:00:00.000000000",
          "1950-11-30T00:00:00.000000000",
          "1950-12-31T00:00:00.000000000",
          "1951-01-31T00:00:00.000000000",
          "1951-02-28T00:00:00.000000000",
          "1951-03-31T00:00:00.000000000",
          "1951-04-30T00:00:00.000000000",
          "1951-05-31T00:00:00.000000000",
          "1951-06-30T00:00:00.000000000",
          "1951-07-31T00:00:00.000000000",
          "1951-08-31T00:00:00.000000000",
          "1951-09-30T00:00:00.000000000",
          "1951-10-31T00:00:00.000000000",
          "1951-11-30T00:00:00.000000000",
          "1951-12-31T00:00:00.000000000",
          "1952-01-31T00:00:00.000000000",
          "1952-02-29T00:00:00.000000000",
          "1952-03-31T00:00:00.000000000",
          "1952-04-30T00:00:00.000000000",
          "1952-05-31T00:00:00.000000000",
          "1952-06-30T00:00:00.000000000",
          "1952-07-31T00:00:00.000000000",
          "1952-08-31T00:00:00.000000000",
          "1952-09-30T00:00:00.000000000",
          "1952-10-31T00:00:00.000000000",
          "1952-11-30T00:00:00.000000000",
          "1952-12-31T00:00:00.000000000",
          "1953-01-31T00:00:00.000000000",
          "1953-02-28T00:00:00.000000000",
          "1953-03-31T00:00:00.000000000",
          "1953-04-30T00:00:00.000000000",
          "1953-05-31T00:00:00.000000000",
          "1953-06-30T00:00:00.000000000",
          "1953-07-31T00:00:00.000000000",
          "1953-08-31T00:00:00.000000000",
          "1953-09-30T00:00:00.000000000",
          "1953-10-31T00:00:00.000000000",
          "1953-11-30T00:00:00.000000000",
          "1953-12-31T00:00:00.000000000",
          "1954-01-31T00:00:00.000000000",
          "1954-02-28T00:00:00.000000000",
          "1954-03-31T00:00:00.000000000",
          "1954-04-30T00:00:00.000000000",
          "1954-05-31T00:00:00.000000000",
          "1954-06-30T00:00:00.000000000",
          "1954-07-31T00:00:00.000000000",
          "1954-08-31T00:00:00.000000000",
          "1954-09-30T00:00:00.000000000",
          "1954-10-31T00:00:00.000000000",
          "1954-11-30T00:00:00.000000000",
          "1954-12-31T00:00:00.000000000",
          "1955-01-31T00:00:00.000000000",
          "1955-02-28T00:00:00.000000000",
          "1955-03-31T00:00:00.000000000",
          "1955-04-30T00:00:00.000000000",
          "1955-05-31T00:00:00.000000000",
          "1955-06-30T00:00:00.000000000",
          "1955-07-31T00:00:00.000000000",
          "1955-08-31T00:00:00.000000000",
          "1955-09-30T00:00:00.000000000",
          "1955-10-31T00:00:00.000000000",
          "1955-11-30T00:00:00.000000000",
          "1955-12-31T00:00:00.000000000",
          "1956-01-31T00:00:00.000000000",
          "1956-02-29T00:00:00.000000000",
          "1956-03-31T00:00:00.000000000",
          "1956-04-30T00:00:00.000000000",
          "1956-05-31T00:00:00.000000000",
          "1956-06-30T00:00:00.000000000",
          "1956-07-31T00:00:00.000000000",
          "1956-08-31T00:00:00.000000000",
          "1956-09-30T00:00:00.000000000",
          "1956-10-31T00:00:00.000000000",
          "1956-11-30T00:00:00.000000000",
          "1956-12-31T00:00:00.000000000",
          "1957-01-31T00:00:00.000000000",
          "1957-02-28T00:00:00.000000000",
          "1957-03-31T00:00:00.000000000",
          "1957-04-30T00:00:00.000000000",
          "1957-05-31T00:00:00.000000000",
          "1957-06-30T00:00:00.000000000",
          "1957-07-31T00:00:00.000000000",
          "1957-08-31T00:00:00.000000000",
          "1957-09-30T00:00:00.000000000",
          "1957-10-31T00:00:00.000000000",
          "1957-11-30T00:00:00.000000000",
          "1957-12-31T00:00:00.000000000",
          "1958-01-31T00:00:00.000000000",
          "1958-02-28T00:00:00.000000000",
          "1958-03-31T00:00:00.000000000",
          "1958-04-30T00:00:00.000000000",
          "1958-05-31T00:00:00.000000000",
          "1958-06-30T00:00:00.000000000",
          "1958-07-31T00:00:00.000000000",
          "1958-08-31T00:00:00.000000000",
          "1958-09-30T00:00:00.000000000",
          "1958-10-31T00:00:00.000000000",
          "1958-11-30T00:00:00.000000000",
          "1958-12-31T00:00:00.000000000",
          "1959-01-31T00:00:00.000000000",
          "1959-02-28T00:00:00.000000000",
          "1959-03-31T00:00:00.000000000",
          "1959-04-30T00:00:00.000000000",
          "1959-05-31T00:00:00.000000000",
          "1959-06-30T00:00:00.000000000",
          "1959-07-31T00:00:00.000000000",
          "1959-08-31T00:00:00.000000000",
          "1959-09-30T00:00:00.000000000",
          "1959-10-31T00:00:00.000000000",
          "1959-11-30T00:00:00.000000000",
          "1959-12-31T00:00:00.000000000",
          "1960-01-31T00:00:00.000000000",
          "1960-02-29T00:00:00.000000000",
          "1960-03-31T00:00:00.000000000",
          "1960-04-30T00:00:00.000000000",
          "1960-05-31T00:00:00.000000000",
          "1960-06-30T00:00:00.000000000",
          "1960-07-31T00:00:00.000000000",
          "1960-08-31T00:00:00.000000000",
          "1960-09-30T00:00:00.000000000",
          "1960-10-31T00:00:00.000000000",
          "1960-11-30T00:00:00.000000000",
          "1960-12-31T00:00:00.000000000"
         ],
         "xaxis": "x",
         "y": {
          "bdata": "AAAAAAAAXEAAAAAAAIBdQAAAAAAAgGBAAAAAAAAgYEAAAAAAAEBeQAAAAAAA4GBAAAAAAACAYkAAAAAAAIBiQAAAAAAAAGFAAAAAAADAXUAAAAAAAABaQAAAAAAAgF1AAAAAAADAXEAAAAAAAIBfQAAAAAAAoGFAAAAAAADgYEAAAAAAAEBfQAAAAAAAoGJAAAAAAABAZUAAAAAAAEBlQAAAAAAAwGNAAAAAAACgYEAAAAAAAIBcQAAAAAAAgGFAAAAAAAAgYkAAAAAAAMBiQAAAAAAAQGZAAAAAAABgZEAAAAAAAIBlQAAAAAAAQGZAAAAAAADgaEAAAAAAAOBoQAAAAAAAAGdAAAAAAABAZEAAAAAAAEBiQAAAAAAAwGRAAAAAAABgZUAAAAAAAIBmQAAAAAAAIGhAAAAAAACgZkAAAAAAAOBmQAAAAAAAQGtAAAAAAADAbEAAAAAAAEBuQAAAAAAAIGpAAAAAAADgZ0AAAAAAAIBlQAAAAAAAQGhAAAAAAACAaEAAAAAAAIBoQAAAAAAAgG1AAAAAAABgbUAAAAAAAKBsQAAAAAAAYG5AAAAAAACAcEAAAAAAAABxQAAAAAAAoG1AAAAAAABgakAAAAAAAIBmQAAAAAAAIGlAAAAAAACAaUAAAAAAAIBnQAAAAAAAYG1AAAAAAABgbEAAAAAAAEBtQAAAAAAAgHBAAAAAAADgckAAAAAAAFByQAAAAAAAMHBAAAAAAACgbEAAAAAAAGBpQAAAAAAAoGxAAAAAAABAbkAAAAAAACBtQAAAAAAAsHBAAAAAAADQcEAAAAAAAOBwQAAAAAAAsHNAAAAAAADAdkAAAAAAALB1QAAAAAAAgHNAAAAAAAAgcUAAAAAAAKBtQAAAAAAAYHFAAAAAAADAcUAAAAAAAFBxQAAAAAAA0HNAAAAAAACQc0AAAAAAAOBzQAAAAAAAYHdAAAAAAADQeUAAAAAAAFB5QAAAAAAAMHZAAAAAAAAgc0AAAAAAAPBwQAAAAAAAIHNAAAAAAACwc0AAAAAAANByQAAAAAAAQHZAAAAAAADAdUAAAAAAADB2QAAAAAAAYHpAAAAAAAAQfUAAAAAAADB9QAAAAAAAQHlAAAAAAACwdUAAAAAAABBzQAAAAAAAAHVAAAAAAABAdUAAAAAAAOBzQAAAAAAAoHZAAAAAAADAdUAAAAAAALB2QAAAAAAAMHtAAAAAAACwfkAAAAAAAJB/QAAAAAAAQHlAAAAAAABwdkAAAAAAAGBzQAAAAAAAEHVAAAAAAACAdkAAAAAAAGB1QAAAAAAAYHlAAAAAAADAeEAAAAAAAEB6QAAAAAAAgH1AAAAAAAAggUAAAAAAAHiBQAAAAAAA8HxAAAAAAABweUAAAAAAAKB2QAAAAAAAUHlAAAAAAAAQekAAAAAAAHB4QAAAAAAAMHpAAAAAAADQfEAAAAAAAIB9QAAAAAAAuIBAAAAAAABwg0AAAAAAAPCCQAAAAAAAwH9AAAAAAADQfEAAAAAAAGB4QAAAAAAAAHtA",
          "dtype": "f8"
         },
         "yaxis": "y"
        },
        {
         "hovertemplate": "variable=forecast_additive<br>ds=%{x}<br>value=%{y}<extra></extra>",
         "legendgroup": "forecast_additive",
         "line": {
          "color": "#EF553B",
          "dash": "solid"
         },
         "marker": {
          "symbol": "circle"
         },
         "mode": "lines",
         "name": "forecast_additive",
         "orientation": "v",
         "showlegend": true,
         "type": "scatter",
         "x": [
          "1949-01-31T00:00:00.000000000",
          "1949-02-28T00:00:00.000000000",
          "1949-03-31T00:00:00.000000000",
          "1949-04-30T00:00:00.000000000",
          "1949-05-31T00:00:00.000000000",
          "1949-06-30T00:00:00.000000000",
          "1949-07-31T00:00:00.000000000",
          "1949-08-31T00:00:00.000000000",
          "1949-09-30T00:00:00.000000000",
          "1949-10-31T00:00:00.000000000",
          "1949-11-30T00:00:00.000000000",
          "1949-12-31T00:00:00.000000000",
          "1950-01-31T00:00:00.000000000",
          "1950-02-28T00:00:00.000000000",
          "1950-03-31T00:00:00.000000000",
          "1950-04-30T00:00:00.000000000",
          "1950-05-31T00:00:00.000000000",
          "1950-06-30T00:00:00.000000000",
          "1950-07-31T00:00:00.000000000",
          "1950-08-31T00:00:00.000000000",
          "1950-09-30T00:00:00.000000000",
          "1950-10-31T00:00:00.000000000",
          "1950-11-30T00:00:00.000000000",
          "1950-12-31T00:00:00.000000000",
          "1951-01-31T00:00:00.000000000",
          "1951-02-28T00:00:00.000000000",
          "1951-03-31T00:00:00.000000000",
          "1951-04-30T00:00:00.000000000",
          "1951-05-31T00:00:00.000000000",
          "1951-06-30T00:00:00.000000000",
          "1951-07-31T00:00:00.000000000",
          "1951-08-31T00:00:00.000000000",
          "1951-09-30T00:00:00.000000000",
          "1951-10-31T00:00:00.000000000",
          "1951-11-30T00:00:00.000000000",
          "1951-12-31T00:00:00.000000000",
          "1952-01-31T00:00:00.000000000",
          "1952-02-29T00:00:00.000000000",
          "1952-03-31T00:00:00.000000000",
          "1952-04-30T00:00:00.000000000",
          "1952-05-31T00:00:00.000000000",
          "1952-06-30T00:00:00.000000000",
          "1952-07-31T00:00:00.000000000",
          "1952-08-31T00:00:00.000000000",
          "1952-09-30T00:00:00.000000000",
          "1952-10-31T00:00:00.000000000",
          "1952-11-30T00:00:00.000000000",
          "1952-12-31T00:00:00.000000000",
          "1953-01-31T00:00:00.000000000",
          "1953-02-28T00:00:00.000000000",
          "1953-03-31T00:00:00.000000000",
          "1953-04-30T00:00:00.000000000",
          "1953-05-31T00:00:00.000000000",
          "1953-06-30T00:00:00.000000000",
          "1953-07-31T00:00:00.000000000",
          "1953-08-31T00:00:00.000000000",
          "1953-09-30T00:00:00.000000000",
          "1953-10-31T00:00:00.000000000",
          "1953-11-30T00:00:00.000000000",
          "1953-12-31T00:00:00.000000000",
          "1954-01-31T00:00:00.000000000",
          "1954-02-28T00:00:00.000000000",
          "1954-03-31T00:00:00.000000000",
          "1954-04-30T00:00:00.000000000",
          "1954-05-31T00:00:00.000000000",
          "1954-06-30T00:00:00.000000000",
          "1954-07-31T00:00:00.000000000",
          "1954-08-31T00:00:00.000000000",
          "1954-09-30T00:00:00.000000000",
          "1954-10-31T00:00:00.000000000",
          "1954-11-30T00:00:00.000000000",
          "1954-12-31T00:00:00.000000000",
          "1955-01-31T00:00:00.000000000",
          "1955-02-28T00:00:00.000000000",
          "1955-03-31T00:00:00.000000000",
          "1955-04-30T00:00:00.000000000",
          "1955-05-31T00:00:00.000000000",
          "1955-06-30T00:00:00.000000000",
          "1955-07-31T00:00:00.000000000",
          "1955-08-31T00:00:00.000000000",
          "1955-09-30T00:00:00.000000000",
          "1955-10-31T00:00:00.000000000",
          "1955-11-30T00:00:00.000000000",
          "1955-12-31T00:00:00.000000000",
          "1956-01-31T00:00:00.000000000",
          "1956-02-29T00:00:00.000000000",
          "1956-03-31T00:00:00.000000000",
          "1956-04-30T00:00:00.000000000",
          "1956-05-31T00:00:00.000000000",
          "1956-06-30T00:00:00.000000000",
          "1956-07-31T00:00:00.000000000",
          "1956-08-31T00:00:00.000000000",
          "1956-09-30T00:00:00.000000000",
          "1956-10-31T00:00:00.000000000",
          "1956-11-30T00:00:00.000000000",
          "1956-12-31T00:00:00.000000000",
          "1957-01-31T00:00:00.000000000",
          "1957-02-28T00:00:00.000000000",
          "1957-03-31T00:00:00.000000000",
          "1957-04-30T00:00:00.000000000",
          "1957-05-31T00:00:00.000000000",
          "1957-06-30T00:00:00.000000000",
          "1957-07-31T00:00:00.000000000",
          "1957-08-31T00:00:00.000000000",
          "1957-09-30T00:00:00.000000000",
          "1957-10-31T00:00:00.000000000",
          "1957-11-30T00:00:00.000000000",
          "1957-12-31T00:00:00.000000000",
          "1958-01-31T00:00:00.000000000",
          "1958-02-28T00:00:00.000000000",
          "1958-03-31T00:00:00.000000000",
          "1958-04-30T00:00:00.000000000",
          "1958-05-31T00:00:00.000000000",
          "1958-06-30T00:00:00.000000000",
          "1958-07-31T00:00:00.000000000",
          "1958-08-31T00:00:00.000000000",
          "1958-09-30T00:00:00.000000000",
          "1958-10-31T00:00:00.000000000",
          "1958-11-30T00:00:00.000000000",
          "1958-12-31T00:00:00.000000000",
          "1959-01-31T00:00:00.000000000",
          "1959-02-28T00:00:00.000000000",
          "1959-03-31T00:00:00.000000000",
          "1959-04-30T00:00:00.000000000",
          "1959-05-31T00:00:00.000000000",
          "1959-06-30T00:00:00.000000000",
          "1959-07-31T00:00:00.000000000",
          "1959-08-31T00:00:00.000000000",
          "1959-09-30T00:00:00.000000000",
          "1959-10-31T00:00:00.000000000",
          "1959-11-30T00:00:00.000000000",
          "1959-12-31T00:00:00.000000000",
          "1960-01-31T00:00:00.000000000",
          "1960-02-29T00:00:00.000000000",
          "1960-03-31T00:00:00.000000000",
          "1960-04-30T00:00:00.000000000",
          "1960-05-31T00:00:00.000000000",
          "1960-06-30T00:00:00.000000000",
          "1960-07-31T00:00:00.000000000",
          "1960-08-31T00:00:00.000000000",
          "1960-09-30T00:00:00.000000000",
          "1960-10-31T00:00:00.000000000",
          "1960-11-30T00:00:00.000000000",
          "1960-12-31T00:00:00.000000000"
         ],
         "xaxis": "x",
         "y": {
          "bdata": "/MaWai4fVUBXDZ+fqEFTQGdpmubXqFtAdjq0S5wFW0CV5V9ON+BbQJBwX8cK8WJAnN3C3lHKZ0DgiKggxbZnQIQAAWgMiWFAykwppfgIWkAIIyzhO1lRQMnLQW5IbVhA7+uPttlfW0AqcKObzFlZQCkBaxn1JWFATqBStPiVYEBXwxvDgjlhQFv4ImHmD2ZABqhFHW3+akBG3hAYVOBqQC1P/KmhwmRAtOSmuz0tYECWhxHV1+JXQIq9+SlXCl9Aa8yoxynPYEDkGX2gpHNfQIyEzliWd2RAPbXFx0qpY0DLC0NGT4NkQMdMuHduLmlASHIqqxwybkC6uopJeAluQKhqjLFj/GdAGh1qmHdWY0BcrjsINm5eQAxMIHf60mJA3iF3ylLtY0Du5McJnFhjQCyDI0MKRmdASwwWV88yZ0A6CgPoKWpnQEgdZGnllGxA9SmQjWqscEDhJefY56dwQFZeyTipEmtAdHDIwDefZkACCoiNwStiQAJdCU94qmVAQ+hOEKBSZ0DsCwcs3WNmQD+52dB0l2pA+UT+BNdFakCHU/mHJLNqQFp0wKkTtG9AbOdtYa1GckDwszwD5zxyQAAGeYL1T25AdDKGtGbPaUBqwxSHaHtlQNw+/hRwCWlA31hSXL+MakAC8qkPx5JpQJBFcH7cFW5A+6AL8ZOPbUDSbf2iJD1uQLlsyDhfknFACfLdHocSdEAOQUMkXwx0QCjAegUhBnFAyEYbYfiPbUAOPfCHcWxpQJiI33ZLGW1AXYHz7WN8bkD32FrVuH1tQKA7uFGOLHFAhXdTGr7TcED2Vko8kE9xQApTGmZ1s3NA8pmLYhxEdkBUXlhmBT92QH7REYc4R3NA9rEer30DcUClCmWjGQVuQKwd7L+333BAruZPHh98cUBd29tiA0BxQBVQNrT1RXNAHrH3qhVLc0AxNh0o/nVzQJIomFUZGnZAwoPKYkyLeEBgv3XiBJZ4QFuHfRIvhnVA3cjpirFbc0BR1NPdszBxQO2+2nJK/3JA7MXDh5nic0DluELy+XhzQNKt8vgAonVAMIFDf++HdUCtid900c11QC7kK3IGXXhA67cDM+XYekDBqhwJWt56QH6PBho71ndAi392RC6jdUAmmLiA/IVzQL/5J9k6WnVAG3llYBomdkA0lBr3WLJ1QLENG5Mb/ndA9GvPztrEd0DyoWUM2yV4QEzLqUnKn3pAmsfs3UgmfUBfkL2RdyZ9QGCFK8lbJnpAgv1rCOXqd0CvKVWOudt1QNFk+pnUtHdA5fWx6Q5peEAvi4YMJex3QPUhMEdCWnpA0LIa7dkBekBuWbBiF356QO+qz2lk4nxARrnfuXZzf0Cj2Ga/X25/QMFhzOGSdnxALp2TC9gyekBwhtMv5zF4QMEirR8SD3pA6e+wf3mrekCeEcLFXW96QL+KvBhQdXxATYQQEXB6fEBerdOPWKV8QAHs3r5zSX9AmXXXZlPdgEB35Xunr+KAQJ8weICJtX5At51p+guLfEDaRsxODmB6QDxdWOWkLnxA",
          "dtype": "f8"
         },
         "yaxis": "y"
        },
        {
         "hovertemplate": "variable=forecast_multiplicative<br>ds=%{x}<br>value=%{y}<extra></extra>",
         "legendgroup": "forecast_multiplicative",
         "line": {
          "color": "#00cc96",
          "dash": "solid"
         },
         "marker": {
          "symbol": "circle"
         },
         "mode": "lines",
         "name": "forecast_multiplicative",
         "orientation": "v",
         "showlegend": true,
         "type": "scatter",
         "x": [
          "1949-01-31T00:00:00.000000000",
          "1949-02-28T00:00:00.000000000",
          "1949-03-31T00:00:00.000000000",
          "1949-04-30T00:00:00.000000000",
          "1949-05-31T00:00:00.000000000",
          "1949-06-30T00:00:00.000000000",
          "1949-07-31T00:00:00.000000000",
          "1949-08-31T00:00:00.000000000",
          "1949-09-30T00:00:00.000000000",
          "1949-10-31T00:00:00.000000000",
          "1949-11-30T00:00:00.000000000",
          "1949-12-31T00:00:00.000000000",
          "1950-01-31T00:00:00.000000000",
          "1950-02-28T00:00:00.000000000",
          "1950-03-31T00:00:00.000000000",
          "1950-04-30T00:00:00.000000000",
          "1950-05-31T00:00:00.000000000",
          "1950-06-30T00:00:00.000000000",
          "1950-07-31T00:00:00.000000000",
          "1950-08-31T00:00:00.000000000",
          "1950-09-30T00:00:00.000000000",
          "1950-10-31T00:00:00.000000000",
          "1950-11-30T00:00:00.000000000",
          "1950-12-31T00:00:00.000000000",
          "1951-01-31T00:00:00.000000000",
          "1951-02-28T00:00:00.000000000",
          "1951-03-31T00:00:00.000000000",
          "1951-04-30T00:00:00.000000000",
          "1951-05-31T00:00:00.000000000",
          "1951-06-30T00:00:00.000000000",
          "1951-07-31T00:00:00.000000000",
          "1951-08-31T00:00:00.000000000",
          "1951-09-30T00:00:00.000000000",
          "1951-10-31T00:00:00.000000000",
          "1951-11-30T00:00:00.000000000",
          "1951-12-31T00:00:00.000000000",
          "1952-01-31T00:00:00.000000000",
          "1952-02-29T00:00:00.000000000",
          "1952-03-31T00:00:00.000000000",
          "1952-04-30T00:00:00.000000000",
          "1952-05-31T00:00:00.000000000",
          "1952-06-30T00:00:00.000000000",
          "1952-07-31T00:00:00.000000000",
          "1952-08-31T00:00:00.000000000",
          "1952-09-30T00:00:00.000000000",
          "1952-10-31T00:00:00.000000000",
          "1952-11-30T00:00:00.000000000",
          "1952-12-31T00:00:00.000000000",
          "1953-01-31T00:00:00.000000000",
          "1953-02-28T00:00:00.000000000",
          "1953-03-31T00:00:00.000000000",
          "1953-04-30T00:00:00.000000000",
          "1953-05-31T00:00:00.000000000",
          "1953-06-30T00:00:00.000000000",
          "1953-07-31T00:00:00.000000000",
          "1953-08-31T00:00:00.000000000",
          "1953-09-30T00:00:00.000000000",
          "1953-10-31T00:00:00.000000000",
          "1953-11-30T00:00:00.000000000",
          "1953-12-31T00:00:00.000000000",
          "1954-01-31T00:00:00.000000000",
          "1954-02-28T00:00:00.000000000",
          "1954-03-31T00:00:00.000000000",
          "1954-04-30T00:00:00.000000000",
          "1954-05-31T00:00:00.000000000",
          "1954-06-30T00:00:00.000000000",
          "1954-07-31T00:00:00.000000000",
          "1954-08-31T00:00:00.000000000",
          "1954-09-30T00:00:00.000000000",
          "1954-10-31T00:00:00.000000000",
          "1954-11-30T00:00:00.000000000",
          "1954-12-31T00:00:00.000000000",
          "1955-01-31T00:00:00.000000000",
          "1955-02-28T00:00:00.000000000",
          "1955-03-31T00:00:00.000000000",
          "1955-04-30T00:00:00.000000000",
          "1955-05-31T00:00:00.000000000",
          "1955-06-30T00:00:00.000000000",
          "1955-07-31T00:00:00.000000000",
          "1955-08-31T00:00:00.000000000",
          "1955-09-30T00:00:00.000000000",
          "1955-10-31T00:00:00.000000000",
          "1955-11-30T00:00:00.000000000",
          "1955-12-31T00:00:00.000000000",
          "1956-01-31T00:00:00.000000000",
          "1956-02-29T00:00:00.000000000",
          "1956-03-31T00:00:00.000000000",
          "1956-04-30T00:00:00.000000000",
          "1956-05-31T00:00:00.000000000",
          "1956-06-30T00:00:00.000000000",
          "1956-07-31T00:00:00.000000000",
          "1956-08-31T00:00:00.000000000",
          "1956-09-30T00:00:00.000000000",
          "1956-10-31T00:00:00.000000000",
          "1956-11-30T00:00:00.000000000",
          "1956-12-31T00:00:00.000000000",
          "1957-01-31T00:00:00.000000000",
          "1957-02-28T00:00:00.000000000",
          "1957-03-31T00:00:00.000000000",
          "1957-04-30T00:00:00.000000000",
          "1957-05-31T00:00:00.000000000",
          "1957-06-30T00:00:00.000000000",
          "1957-07-31T00:00:00.000000000",
          "1957-08-31T00:00:00.000000000",
          "1957-09-30T00:00:00.000000000",
          "1957-10-31T00:00:00.000000000",
          "1957-11-30T00:00:00.000000000",
          "1957-12-31T00:00:00.000000000",
          "1958-01-31T00:00:00.000000000",
          "1958-02-28T00:00:00.000000000",
          "1958-03-31T00:00:00.000000000",
          "1958-04-30T00:00:00.000000000",
          "1958-05-31T00:00:00.000000000",
          "1958-06-30T00:00:00.000000000",
          "1958-07-31T00:00:00.000000000",
          "1958-08-31T00:00:00.000000000",
          "1958-09-30T00:00:00.000000000",
          "1958-10-31T00:00:00.000000000",
          "1958-11-30T00:00:00.000000000",
          "1958-12-31T00:00:00.000000000",
          "1959-01-31T00:00:00.000000000",
          "1959-02-28T00:00:00.000000000",
          "1959-03-31T00:00:00.000000000",
          "1959-04-30T00:00:00.000000000",
          "1959-05-31T00:00:00.000000000",
          "1959-06-30T00:00:00.000000000",
          "1959-07-31T00:00:00.000000000",
          "1959-08-31T00:00:00.000000000",
          "1959-09-30T00:00:00.000000000",
          "1959-10-31T00:00:00.000000000",
          "1959-11-30T00:00:00.000000000",
          "1959-12-31T00:00:00.000000000",
          "1960-01-31T00:00:00.000000000",
          "1960-02-29T00:00:00.000000000",
          "1960-03-31T00:00:00.000000000",
          "1960-04-30T00:00:00.000000000",
          "1960-05-31T00:00:00.000000000",
          "1960-06-30T00:00:00.000000000",
          "1960-07-31T00:00:00.000000000",
          "1960-08-31T00:00:00.000000000",
          "1960-09-30T00:00:00.000000000",
          "1960-10-31T00:00:00.000000000",
          "1960-11-30T00:00:00.000000000",
          "1960-12-31T00:00:00.000000000"
         ],
         "xaxis": "x",
         "y": {
          "bdata": "cF1Np2y5WUB2aqpG5h1ZQA9WliN5q1xAtSXpr00MXUDXFlifTs5dQC1oY3PkQ2FAwMsL/BOhY0CDVI74yKZjQAqSYP0n1mBAIHo8zwX2XUAJ/8yFiihaQOnKRKyKW11AZFVjQBVzXkDQH4Fx4DldQJ6CoMSrCmFANDMSzIHbYEDMz/r2QnBhQMbePW5SDmRANq+ZtmfcZkBbb/TgdQJnQJWJ9FoprGNAxIsnnexiYUDxHX/GZIheQGrpsLWtMWFAWQ6G8gXhYUAgTFTt+epgQJoTAFv+NWRAPjxSjzSSY0DD0Vuf3XhkQFe19mjfbmdAkO0GpqnZakBqvPc02BVrQFuh1fu8CmdA1ne8qxksZEA4kcG+ZcVhQKp6cMaBB2RA5b/rlFvSZEBAlDhPUD1kQOxKJJSJe2ZAMlAa/bw1Z0BQqHKMToFnQJ7gFFIvS2tAHuj5IH7MbkAjuv/yp5luQAHbzU1iN2pAhTaW2hRwZ0DHEUBFN1BkQEelu9Kfq2ZAADaYdbBnZ0BPXmdovcBmQDvZPaZz2WlAYqkAdfwSakATrlTsc6JqQCY40hDPuW5AjSKsBk9kcUA4kaKCxFZxQMTVEPjdl21A8SmHMtg5akDTfTufm89mQAwlQAXRgGlA9RA2JWhaakC1Mwb/+TVpQOmLPkmwS21A5tgJL1zhbEDk80QR3sVtQM3S2mvyG3FA/5TgzxZ9c0BniTo0Z4xzQMgOH8DWqHBALSJPtcFrbUAaflpW0c9pQCy64RjlC21ApA2b1rctbkCln/hKFYlsQMiJHB0SCHFAJk+xKep6cECi0fI72DlxQBFr/NEXtHNAMSArDYmPdkDlWDW2Db52QCbNYXuqVXNAZvzbuVrqcEDIvZc8AsltQF9ESglBxnBA+8bZAWFtcUC6MceTLe5wQNaKT7+qy3JAdnWxTIxkc0AXrcGQz6BzQKgx0b2Nx3ZAFntbHdiweUBkTeNP7oJ5QK3SO87F03VAHi+LRcF8c0BCk8dbH95wQDjzpuXdzHJA+3zJJXJic0BgHEryNs9yQKnaD357U3VAxkw78l54dUAXokmajuN1QJbSVqEmMHlAdOY/6zRxfEC2rH8L8kh8QK2VoaWPFHhAWf/eAu5JdUCQl7TRXnlyQEw0gf8tm3RAzuhbKHI+dUAcpmFdD0h0QHuHnHXXg3dAxkGzPd8hd0BvDD1IsMt3QI3SlgW+OHtALSb1lYTcfkCgJDx2K+R+QI+ZY18WRnpA80crPEIZd0AeH7CNbS50QIZfUn+UnXZAPXqV7aNmd0CvyiPZ+At2QM0N2nDONnpAK4GAOmBFeUAGgyq/q1B6QHigh6oJ/n1AESQwls0bgUC1H2nTai+BQIegPKI3H31ABxbraSdkeUDgmTFESkh2QBUMAiL9A3lAIEG21cnneUBxXvBGpBd5QCotDtEsxXtAHtlDa2iRfEDDuUfgDtR8QLfmcaRNroBAFqYiJizCgkCjnZwFJJOCQJDeb1+6uX9AA8f1oFtFfEC3pyBBLG14QBSTv57eLHtA",
          "dtype": "f8"
         },
         "yaxis": "y"
        }
       ],
       "layout": {
        "legend": {
         "title": {
          "text": "variable"
         },
         "tracegroupgap": 0
        },
        "margin": {
         "t": 60
        },
        "template": {
         "data": {
          "bar": [
           {
            "error_x": {
             "color": "#f2f5fa"
            },
            "error_y": {
             "color": "#f2f5fa"
            },
            "marker": {
             "line": {
              "color": "rgb(17,17,17)",
              "width": 0.5
             },
             "pattern": {
              "fillmode": "overlay",
              "size": 10,
              "solidity": 0.2
             }
            },
            "type": "bar"
           }
          ],
          "barpolar": [
           {
            "marker": {
             "line": {
              "color": "rgb(17,17,17)",
              "width": 0.5
             },
             "pattern": {
              "fillmode": "overlay",
              "size": 10,
              "solidity": 0.2
             }
            },
            "type": "barpolar"
           }
          ],
          "carpet": [
           {
            "aaxis": {
             "endlinecolor": "#A2B1C6",
             "gridcolor": "#506784",
             "linecolor": "#506784",
             "minorgridcolor": "#506784",
             "startlinecolor": "#A2B1C6"
            },
            "baxis": {
             "endlinecolor": "#A2B1C6",
             "gridcolor": "#506784",
             "linecolor": "#506784",
             "minorgridcolor": "#506784",
             "startlinecolor": "#A2B1C6"
            },
            "type": "carpet"
           }
          ],
          "choropleth": [
           {
            "colorbar": {
             "outlinewidth": 0,
             "ticks": ""
            },
            "type": "choropleth"
           }
          ],
          "contour": [
           {
            "colorbar": {
             "outlinewidth": 0,
             "ticks": ""
            },
            "colorscale": [
             [
              0,
              "#0d0887"
             ],
             [
              0.1111111111111111,
              "#46039f"
             ],
             [
              0.2222222222222222,
              "#7201a8"
             ],
             [
              0.3333333333333333,
              "#9c179e"
             ],
             [
              0.4444444444444444,
              "#bd3786"
             ],
             [
              0.5555555555555556,
              "#d8576b"
             ],
             [
              0.6666666666666666,
              "#ed7953"
             ],
             [
              0.7777777777777778,
              "#fb9f3a"
             ],
             [
              0.8888888888888888,
              "#fdca26"
             ],
             [
              1,
              "#f0f921"
             ]
            ],
            "type": "contour"
           }
          ],
          "contourcarpet": [
           {
            "colorbar": {
             "outlinewidth": 0,
             "ticks": ""
            },
            "type": "contourcarpet"
           }
          ],
          "heatmap": [
           {
            "colorbar": {
             "outlinewidth": 0,
             "ticks": ""
            },
            "colorscale": [
             [
              0,
              "#0d0887"
             ],
             [
              0.1111111111111111,
              "#46039f"
             ],
             [
              0.2222222222222222,
              "#7201a8"
             ],
             [
              0.3333333333333333,
              "#9c179e"
             ],
             [
              0.4444444444444444,
              "#bd3786"
             ],
             [
              0.5555555555555556,
              "#d8576b"
             ],
             [
              0.6666666666666666,
              "#ed7953"
             ],
             [
              0.7777777777777778,
              "#fb9f3a"
             ],
             [
              0.8888888888888888,
              "#fdca26"
             ],
             [
              1,
              "#f0f921"
             ]
            ],
            "type": "heatmap"
           }
          ],
          "histogram": [
           {
            "marker": {
             "pattern": {
              "fillmode": "overlay",
              "size": 10,
              "solidity": 0.2
             }
            },
            "type": "histogram"
           }
          ],
          "histogram2d": [
           {
            "colorbar": {
             "outlinewidth": 0,
             "ticks": ""
            },
            "colorscale": [
             [
              0,
              "#0d0887"
             ],
             [
              0.1111111111111111,
              "#46039f"
             ],
             [
              0.2222222222222222,
              "#7201a8"
             ],
             [
              0.3333333333333333,
              "#9c179e"
             ],
             [
              0.4444444444444444,
              "#bd3786"
             ],
             [
              0.5555555555555556,
              "#d8576b"
             ],
             [
              0.6666666666666666,
              "#ed7953"
             ],
             [
              0.7777777777777778,
              "#fb9f3a"
             ],
             [
              0.8888888888888888,
              "#fdca26"
             ],
             [
              1,
              "#f0f921"
             ]
            ],
            "type": "histogram2d"
           }
          ],
          "histogram2dcontour": [
           {
            "colorbar": {
             "outlinewidth": 0,
             "ticks": ""
            },
            "colorscale": [
             [
              0,
              "#0d0887"
             ],
             [
              0.1111111111111111,
              "#46039f"
             ],
             [
              0.2222222222222222,
              "#7201a8"
             ],
             [
              0.3333333333333333,
              "#9c179e"
             ],
             [
              0.4444444444444444,
              "#bd3786"
             ],
             [
              0.5555555555555556,
              "#d8576b"
             ],
             [
              0.6666666666666666,
              "#ed7953"
             ],
             [
              0.7777777777777778,
              "#fb9f3a"
             ],
             [
              0.8888888888888888,
              "#fdca26"
             ],
             [
              1,
              "#f0f921"
             ]
            ],
            "type": "histogram2dcontour"
           }
          ],
          "mesh3d": [
           {
            "colorbar": {
             "outlinewidth": 0,
             "ticks": ""
            },
            "type": "mesh3d"
           }
          ],
          "parcoords": [
           {
            "line": {
             "colorbar": {
              "outlinewidth": 0,
              "ticks": ""
             }
            },
            "type": "parcoords"
           }
          ],
          "pie": [
           {
            "automargin": true,
            "type": "pie"
           }
          ],
          "scatter": [
           {
            "marker": {
             "line": {
              "color": "#283442"
             }
            },
            "type": "scatter"
           }
          ],
          "scatter3d": [
           {
            "line": {
             "colorbar": {
              "outlinewidth": 0,
              "ticks": ""
             }
            },
            "marker": {
             "colorbar": {
              "outlinewidth": 0,
              "ticks": ""
             }
            },
            "type": "scatter3d"
           }
          ],
          "scattercarpet": [
           {
            "marker": {
             "colorbar": {
              "outlinewidth": 0,
              "ticks": ""
             }
            },
            "type": "scattercarpet"
           }
          ],
          "scattergeo": [
           {
            "marker": {
             "colorbar": {
              "outlinewidth": 0,
              "ticks": ""
             }
            },
            "type": "scattergeo"
           }
          ],
          "scattergl": [
           {
            "marker": {
             "line": {
              "color": "#283442"
             }
            },
            "type": "scattergl"
           }
          ],
          "scattermap": [
           {
            "marker": {
             "colorbar": {
              "outlinewidth": 0,
              "ticks": ""
             }
            },
            "type": "scattermap"
           }
          ],
          "scattermapbox": [
           {
            "marker": {
             "colorbar": {
              "outlinewidth": 0,
              "ticks": ""
             }
            },
            "type": "scattermapbox"
           }
          ],
          "scatterpolar": [
           {
            "marker": {
             "colorbar": {
              "outlinewidth": 0,
              "ticks": ""
             }
            },
            "type": "scatterpolar"
           }
          ],
          "scatterpolargl": [
           {
            "marker": {
             "colorbar": {
              "outlinewidth": 0,
              "ticks": ""
             }
            },
            "type": "scatterpolargl"
           }
          ],
          "scatterternary": [
           {
            "marker": {
             "colorbar": {
              "outlinewidth": 0,
              "ticks": ""
             }
            },
            "type": "scatterternary"
           }
          ],
          "surface": [
           {
            "colorbar": {
             "outlinewidth": 0,
             "ticks": ""
            },
            "colorscale": [
             [
              0,
              "#0d0887"
             ],
             [
              0.1111111111111111,
              "#46039f"
             ],
             [
              0.2222222222222222,
              "#7201a8"
             ],
             [
              0.3333333333333333,
              "#9c179e"
             ],
             [
              0.4444444444444444,
              "#bd3786"
             ],
             [
              0.5555555555555556,
              "#d8576b"
             ],
             [
              0.6666666666666666,
              "#ed7953"
             ],
             [
              0.7777777777777778,
              "#fb9f3a"
             ],
             [
              0.8888888888888888,
              "#fdca26"
             ],
             [
              1,
              "#f0f921"
             ]
            ],
            "type": "surface"
           }
          ],
          "table": [
           {
            "cells": {
             "fill": {
              "color": "#506784"
             },
             "line": {
              "color": "rgb(17,17,17)"
             }
            },
            "header": {
             "fill": {
              "color": "#2a3f5f"
             },
             "line": {
              "color": "rgb(17,17,17)"
             }
            },
            "type": "table"
           }
          ]
         },
         "layout": {
          "annotationdefaults": {
           "arrowcolor": "#f2f5fa",
           "arrowhead": 0,
           "arrowwidth": 1
          },
          "autosize": false,
          "autotypenumbers": "strict",
          "coloraxis": {
           "colorbar": {
            "outlinewidth": 0,
            "ticks": ""
           }
          },
          "colorscale": {
           "diverging": [
            [
             0,
             "#8e0152"
            ],
            [
             0.1,
             "#c51b7d"
            ],
            [
             0.2,
             "#de77ae"
            ],
            [
             0.3,
             "#f1b6da"
            ],
            [
             0.4,
             "#fde0ef"
            ],
            [
             0.5,
             "#f7f7f7"
            ],
            [
             0.6,
             "#e6f5d0"
            ],
            [
             0.7,
             "#b8e186"
            ],
            [
             0.8,
             "#7fbc41"
            ],
            [
             0.9,
             "#4d9221"
            ],
            [
             1,
             "#276419"
            ]
           ],
           "sequential": [
            [
             0,
             "#0d0887"
            ],
            [
             0.1111111111111111,
             "#46039f"
            ],
            [
             0.2222222222222222,
             "#7201a8"
            ],
            [
             0.3333333333333333,
             "#9c179e"
            ],
            [
             0.4444444444444444,
             "#bd3786"
            ],
            [
             0.5555555555555556,
             "#d8576b"
            ],
            [
             0.6666666666666666,
             "#ed7953"
            ],
            [
             0.7777777777777778,
             "#fb9f3a"
            ],
            [
             0.8888888888888888,
             "#fdca26"
            ],
            [
             1,
             "#f0f921"
            ]
           ],
           "sequentialminus": [
            [
             0,
             "#0d0887"
            ],
            [
             0.1111111111111111,
             "#46039f"
            ],
            [
             0.2222222222222222,
             "#7201a8"
            ],
            [
             0.3333333333333333,
             "#9c179e"
            ],
            [
             0.4444444444444444,
             "#bd3786"
            ],
            [
             0.5555555555555556,
             "#d8576b"
            ],
            [
             0.6666666666666666,
             "#ed7953"
            ],
            [
             0.7777777777777778,
             "#fb9f3a"
            ],
            [
             0.8888888888888888,
             "#fdca26"
            ],
            [
             1,
             "#f0f921"
            ]
           ]
          },
          "colorway": [
           "#636efa",
           "#EF553B",
           "#00cc96",
           "#ab63fa",
           "#FFA15A",
           "#19d3f3",
           "#FF6692",
           "#B6E880",
           "#FF97FF",
           "#FECB52"
          ],
          "font": {
           "color": "#f2f5fa"
          },
          "geo": {
           "bgcolor": "rgb(17,17,17)",
           "lakecolor": "rgb(17,17,17)",
           "landcolor": "rgb(17,17,17)",
           "showlakes": true,
           "showland": true,
           "subunitcolor": "#506784"
          },
          "height": 500,
          "hoverlabel": {
           "align": "left"
          },
          "hovermode": "closest",
          "mapbox": {
           "style": "dark"
          },
          "paper_bgcolor": "rgb(17,17,17)",
          "plot_bgcolor": "rgb(17,17,17)",
          "polar": {
           "angularaxis": {
            "gridcolor": "#506784",
            "linecolor": "#506784",
            "ticks": ""
           },
           "bgcolor": "rgb(17,17,17)",
           "radialaxis": {
            "gridcolor": "#506784",
            "linecolor": "#506784",
            "ticks": ""
           }
          },
          "scene": {
           "xaxis": {
            "backgroundcolor": "rgb(17,17,17)",
            "gridcolor": "#506784",
            "gridwidth": 2,
            "linecolor": "#506784",
            "showbackground": true,
            "ticks": "",
            "zerolinecolor": "#C8D4E3"
           },
           "yaxis": {
            "backgroundcolor": "rgb(17,17,17)",
            "gridcolor": "#506784",
            "gridwidth": 2,
            "linecolor": "#506784",
            "showbackground": true,
            "ticks": "",
            "zerolinecolor": "#C8D4E3"
           },
           "zaxis": {
            "backgroundcolor": "rgb(17,17,17)",
            "gridcolor": "#506784",
            "gridwidth": 2,
            "linecolor": "#506784",
            "showbackground": true,
            "ticks": "",
            "zerolinecolor": "#C8D4E3"
           }
          },
          "shapedefaults": {
           "line": {
            "color": "#f2f5fa"
           }
          },
          "showlegend": true,
          "sliderdefaults": {
           "bgcolor": "#C8D4E3",
           "bordercolor": "rgb(17,17,17)",
           "borderwidth": 1,
           "tickwidth": 0
          },
          "ternary": {
           "aaxis": {
            "gridcolor": "#506784",
            "linecolor": "#506784",
            "ticks": ""
           },
           "baxis": {
            "gridcolor": "#506784",
            "linecolor": "#506784",
            "ticks": ""
           },
           "bgcolor": "rgb(17,17,17)",
           "caxis": {
            "gridcolor": "#506784",
            "linecolor": "#506784",
            "ticks": ""
           }
          },
          "title": {
           "x": 0.05
          },
          "updatemenudefaults": {
           "bgcolor": "#506784",
           "borderwidth": 0
          },
          "width": 1000,
          "xaxis": {
           "automargin": true,
           "gridcolor": "#283442",
           "linecolor": "#506784",
           "ticks": "",
           "title": {
            "standoff": 15
           },
           "zerolinecolor": "#283442",
           "zerolinewidth": 2
          },
          "yaxis": {
           "automargin": true,
           "gridcolor": "#283442",
           "linecolor": "#506784",
           "ticks": "",
           "title": {
            "standoff": 15
           },
           "zerolinecolor": "#283442",
           "zerolinewidth": 2
          }
         }
        },
        "xaxis": {
         "anchor": "y",
         "domain": [
          0,
          1
         ],
         "title": {
          "text": "ds"
         }
        },
        "yaxis": {
         "anchor": "x",
         "domain": [
          0,
          1
         ],
         "title": {
          "text": "value"
         }
        }
       }
      }
     },
     "metadata": {},
     "output_type": "display_data"
    }
   ],
   "source": [
    "from prophet import Prophet\n",
    "\n",
    "def fit_prophet(df, mode=\"multiplicative\"):\n",
    "    m = Prophet(\n",
    "        yearly_seasonality=True,\n",
    "        weekly_seasonality=False,\n",
    "        seasonality_mode=mode\n",
    "    )\n",
    "    m.fit(df)\n",
    "    future = m.make_future_dataframe(periods=48, freq='M')\n",
    "    fc = m.predict(future)\n",
    "    return fc[['ds', 'yhat']].set_index('ds').rename(columns={'yhat': f\"forecast_{mode}\"})\n",
    "\n",
    "df_add = fit_prophet(df, mode=\"additive\")\n",
    "df_mul = fit_prophet(df, mode=\"multiplicative\")\n",
    "\n",
    "combined = df.set_index('ds').join(df_add).join(df_mul)\n",
    "combined.plot()"
   ]
  },
  {
   "cell_type": "markdown",
   "id": "04968abd",
   "metadata": {},
   "source": [
    "---"
   ]
  },
  {
   "cell_type": "markdown",
   "id": "f84b48f6",
   "metadata": {},
   "source": [
    "## 🔍 Diagnostics and Assumptions"
   ]
  },
  {
   "cell_type": "markdown",
   "id": "6a513a00",
   "metadata": {},
   "source": [
    "Although Prophet is robust and doesn’t require stationarity or normal residuals, residual analysis helps confirm quality.\n",
    "\n",
    "---"
   ]
  },
  {
   "cell_type": "markdown",
   "id": "bdf6c76a",
   "metadata": {},
   "source": [
    "### 📉 Residual Calculation"
   ]
  },
  {
   "cell_type": "code",
   "execution_count": 7,
   "id": "76d837ab",
   "metadata": {},
   "outputs": [],
   "source": [
    "df_forecast = forecast.set_index(\"ds\")[['yhat']].join(df.set_index(\"ds\"))\n",
    "df_forecast['residuals'] = df_forecast['y'] - df_forecast['yhat']\n",
    "residuals = df_forecast['residuals'].dropna()"
   ]
  },
  {
   "cell_type": "markdown",
   "id": "599b154b",
   "metadata": {},
   "source": [
    "---"
   ]
  },
  {
   "cell_type": "markdown",
   "id": "597610fe",
   "metadata": {},
   "source": [
    "### 🔁 Autocorrelation"
   ]
  },
  {
   "cell_type": "code",
   "execution_count": 8,
   "id": "fd82727b",
   "metadata": {},
   "outputs": [
    {
     "data": {
      "image/png": "[encoded data removed]",
      "text/plain": [
       "<Figure size 640x480 with 1 Axes>"
      ]
     },
     "metadata": {},
     "output_type": "display_data"
    }
   ],
   "source": [
    "from statsmodels.graphics.tsaplots import plot_acf\n",
    "plot_acf(residuals);"
   ]
  },
  {
   "cell_type": "markdown",
   "id": "4cfa2691",
   "metadata": {},
   "source": [
    "---"
   ]
  },
  {
   "cell_type": "markdown",
   "id": "dbf00de4",
   "metadata": {},
   "source": [
    "### 🧪 Ljung-Box Test"
   ]
  },
  {
   "cell_type": "code",
   "execution_count": 9,
   "id": "d7d049f7",
   "metadata": {},
   "outputs": [
    {
     "data": {
      "text/html": [
       "<style type=\"text/css\">\n",
       "</style>\n",
       "<table id=\"T_8685a\">\n",
       "  <thead>\n",
       "    <tr>\n",
       "      <th class=\"blank level0\" >&nbsp;</th>\n",
       "      <th id=\"T_8685a_level0_col0\" class=\"col_heading level0 col0\" >lb_stat</th>\n",
       "      <th id=\"T_8685a_level0_col1\" class=\"col_heading level0 col1\" >lb_pvalue</th>\n",
       "    </tr>\n",
       "  </thead>\n",
       "  <tbody>\n",
       "    <tr>\n",
       "      <th id=\"T_8685a_level0_row0\" class=\"row_heading level0 row0\" >10</th>\n",
       "      <td id=\"T_8685a_row0_col0\" class=\"data row0 col0\" >78.129313</td>\n",
       "      <td id=\"T_8685a_row0_col1\" class=\"data row0 col1\" >0.000000</td>\n",
       "    </tr>\n",
       "    <tr>\n",
       "      <th id=\"T_8685a_level0_row1\" class=\"row_heading level0 row1\" >20</th>\n",
       "      <td id=\"T_8685a_row1_col0\" class=\"data row1 col0\" >154.912672</td>\n",
       "      <td id=\"T_8685a_row1_col1\" class=\"data row1 col1\" >0.000000</td>\n",
       "    </tr>\n",
       "    <tr>\n",
       "      <th id=\"T_8685a_level0_row2\" class=\"row_heading level0 row2\" >30</th>\n",
       "      <td id=\"T_8685a_row2_col0\" class=\"data row2 col0\" >204.339979</td>\n",
       "      <td id=\"T_8685a_row2_col1\" class=\"data row2 col1\" >0.000000</td>\n",
       "    </tr>\n",
       "  </tbody>\n",
       "</table>\n"
      ],
      "text/plain": [
       "<pandas.io.formats.style.Styler at 0x330249310>"
      ]
     },
     "execution_count": 9,
     "metadata": {},
     "output_type": "execute_result"
    }
   ],
   "source": [
    "from statsmodels.stats.diagnostic import acorr_ljungbox\n",
    "acorr_ljungbox(residuals, lags=[10, 20, 30]).style"
   ]
  },
  {
   "cell_type": "markdown",
   "id": "89d3c9d8",
   "metadata": {},
   "source": [
    "---"
   ]
  },
  {
   "cell_type": "markdown",
   "id": "5c34e9c6",
   "metadata": {},
   "source": [
    "### 📊 Normality Check"
   ]
  },
  {
   "cell_type": "code",
   "execution_count": 10,
   "id": "894c7398",
   "metadata": {},
   "outputs": [
    {
     "data": {
      "image/png": "[encoded data removed]",
      "text/plain": [
       "<Figure size 640x480 with 1 Axes>"
      ]
     },
     "metadata": {},
     "output_type": "display_data"
    }
   ],
   "source": [
    "from scipy import stats\n",
    "import matplotlib.pyplot as plt\n",
    "\n",
    "fig, ax = plt.subplots()\n",
    "stats.probplot(residuals, dist='norm', plot=ax);"
   ]
  },
  {
   "cell_type": "markdown",
   "id": "385b1b0e",
   "metadata": {},
   "source": [
    "---"
   ]
  },
  {
   "cell_type": "markdown",
   "id": "f52c25db",
   "metadata": {},
   "source": [
    "### 📈 Jarque-Bera Test"
   ]
  },
  {
   "cell_type": "code",
   "execution_count": 11,
   "id": "c29d030b",
   "metadata": {},
   "outputs": [
    {
     "data": {
      "text/plain": [
       "SignificanceResult(statistic=np.float64(0.1647689985804243), pvalue=np.float64(0.9209177983736971))"
      ]
     },
     "execution_count": 11,
     "metadata": {},
     "output_type": "execute_result"
    }
   ],
   "source": [
    "from scipy.stats import jarque_bera\n",
    "jarque_bera(residuals)"
   ]
  },
  {
   "cell_type": "markdown",
   "id": "c38649b6",
   "metadata": {},
   "source": [
    "---"
   ]
  },
  {
   "cell_type": "markdown",
   "id": "dcc9bbb1",
   "metadata": {},
   "source": [
    "### 🪟 Homoscedasticity (Constant Variance)"
   ]
  },
  {
   "cell_type": "code",
   "execution_count": 12,
   "id": "057b74c5",
   "metadata": {},
   "outputs": [
    {
     "data": {
      "text/plain": [
       "(np.float64(17.969850358046912),\n",
       " np.float64(0.0554743577296043),\n",
       " 1.9049286766071647,\n",
       " 0.05049430025169186)"
      ]
     },
     "execution_count": 12,
     "metadata": {},
     "output_type": "execute_result"
    }
   ],
   "source": [
    "residuals.plot()\n",
    "\n",
    "from statsmodels.stats.diagnostic import het_arch\n",
    "het_arch(residuals)"
   ]
  },
  {
   "cell_type": "markdown",
   "id": "dc94b05c",
   "metadata": {},
   "source": [
    "---"
   ]
  },
  {
   "cell_type": "markdown",
   "id": "2eba72f7",
   "metadata": {},
   "source": [
    "## ✅ Final Takeaway"
   ]
  },
  {
   "cell_type": "markdown",
   "id": "fda621ab",
   "metadata": {},
   "source": [
    "> “Prophet provides quick and flexible forecasts. Diagnostics help validate performance — even if residuals aren’t perfect, low autocorrelation and reasonable error distribution often indicate a usable model.”"
   ]
  }
 ],
 "metadata": {
  "kernelspec": {
   "display_name": "time-series",
   "language": "python",
   "name": "python3"
  },
  "language_info": {
   "codemirror_mode": {
    "name": "ipython",
    "version": 3
   },
   "file_extension": ".py",
   "mimetype": "text/x-python",
   "name": "python",
   "nbconvert_exporter": "python",
   "pygments_lexer": "ipython3",
   "version": "3.12.10"
  }
 },
 "nbformat": 4,
 "nbformat_minor": 5
}
