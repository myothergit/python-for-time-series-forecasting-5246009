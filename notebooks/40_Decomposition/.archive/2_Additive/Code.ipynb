{
 "cells": [
  {
   "cell_type": "markdown",
   "id": "dc3e960a",
   "metadata": {
    "papermill": {
     "duration": 0.003919,
     "end_time": "2024-05-29T22:25:25.129453",
     "exception": false,
     "start_time": "2024-05-29T22:25:25.125534",
     "status": "completed"
    },
    "tags": []
   },
   "source": [
    "# Additive Decomposition"
   ]
  },
  {
   "cell_type": "markdown",
   "id": "7b586c8c",
   "metadata": {
    "papermill": {
     "duration": 0.002708,
     "end_time": "2024-05-29T22:25:25.136365",
     "exception": false,
     "start_time": "2024-05-29T22:25:25.133657",
     "status": "completed"
    },
    "tags": []
   },
   "source": [
    "## Overview"
   ]
  },
  {
   "cell_type": "markdown",
   "id": "bfaa724a",
   "metadata": {
    "papermill": {
     "duration": 0.002071,
     "end_time": "2024-05-29T22:25:25.140756",
     "exception": false,
     "start_time": "2024-05-29T22:25:25.138685",
     "status": "completed"
    },
    "tags": []
   },
   "source": [
    "<style>\n",
    "    table.custom-table {\n",
    "        max-width: 1000px;\n",
    "        width: 100%;\n",
    "        margin: 0 auto; /* centers the table on the page */\n",
    "    }\n",
    "\n",
    "    table.custom-table td {\n",
    "        background-color: #fff;\n",
    "    }\n",
    "    \n",
    "    table.custom-table th, table.custom-table td {\n",
    "        text-align: center;\n",
    "        vertical-align: middle;\n",
    "        padding: 5px;\n",
    "        width: 500px; /* distribute the total width equally among three columns */\n",
    "    }\n",
    "\n",
    "    table.custom-table img {\n",
    "        width: 100%;\n",
    "        display: block; /* removes any gap under the image */\n",
    "    }\n",
    "</style>\n",
    "\n",
    "\n",
    "<table class=\"custom-table\">\n",
    "    <thead>\n",
    "        <tr>\n",
    "            <th>Output: Time Series Decomposition (Additive)</th>\n",
    "            <th>Input: Original Time Series</th>\n",
    "        </tr>\n",
    "    </thead>\n",
    "    <tbody>\n",
    "        <tr>\n",
    "            <td>\n",
    "                <img src=\"src/02_output.png\">\n",
    "            </td>\n",
    "            <td>\n",
    "                <img src=\"src/02_input.png\">\n",
    "            </td>\n",
    "        </tr>\n",
    "    </tbody>\n",
    "</table>"
   ]
  },
  {
   "cell_type": "markdown",
   "id": "65290f1d",
   "metadata": {
    "papermill": {
     "duration": 0.001579,
     "end_time": "2024-05-29T22:25:25.144119",
     "exception": false,
     "start_time": "2024-05-29T22:25:25.142540",
     "status": "completed"
    },
    "tags": []
   },
   "source": [
    "## Data"
   ]
  },
  {
   "cell_type": "code",
   "execution_count": 1,
   "id": "b283f409",
   "metadata": {
    "execution": {
     "iopub.execute_input": "2024-05-29T22:25:25.148244Z",
     "iopub.status.busy": "2024-05-29T22:25:25.147881Z",
     "iopub.status.idle": "2024-05-29T22:25:25.160552Z",
     "shell.execute_reply": "2024-05-29T22:25:25.160215Z"
    },
    "papermill": {
     "duration": 0.015942,
     "end_time": "2024-05-29T22:25:25.161548",
     "exception": false,
     "start_time": "2024-05-29T22:25:25.145606",
     "status": "completed"
    },
    "tags": [
     "Fixed"
    ]
   },
   "outputs": [
    {
     "data": {
      "text/html": [
       "<div>\n",
       "<style scoped>\n",
       "    .dataframe tbody tr th:only-of-type {\n",
       "        vertical-align: middle;\n",
       "    }\n",
       "\n",
       "    .dataframe tbody tr th {\n",
       "        vertical-align: top;\n",
       "    }\n",
       "\n",
       "    .dataframe thead th {\n",
       "        text-align: right;\n",
       "    }\n",
       "</style>\n",
       "<table border=\"1\" class=\"dataframe\">\n",
       "  <thead>\n",
       "    <tr style=\"text-align: right;\">\n",
       "      <th></th>\n",
       "      <th>Passengers</th>\n",
       "    </tr>\n",
       "    <tr>\n",
       "      <th>Month</th>\n",
       "      <th></th>\n",
       "    </tr>\n",
       "  </thead>\n",
       "  <tbody>\n",
       "    <tr>\n",
       "      <th>1949-01-01</th>\n",
       "      <td>112</td>\n",
       "    </tr>\n",
       "    <tr>\n",
       "      <th>1949-02-01</th>\n",
       "      <td>118</td>\n",
       "    </tr>\n",
       "    <tr>\n",
       "      <th>...</th>\n",
       "      <td>...</td>\n",
       "    </tr>\n",
       "    <tr>\n",
       "      <th>1960-11-01</th>\n",
       "      <td>390</td>\n",
       "    </tr>\n",
       "    <tr>\n",
       "      <th>1960-12-01</th>\n",
       "      <td>432</td>\n",
       "    </tr>\n",
       "  </tbody>\n",
       "</table>\n",
       "<p>144 rows × 1 columns</p>\n",
       "</div>"
      ],
      "text/plain": [
       "            Passengers\n",
       "Month                 \n",
       "1949-01-01         112\n",
       "1949-02-01         118\n",
       "...                ...\n",
       "1960-11-01         390\n",
       "1960-12-01         432\n",
       "\n",
       "[144 rows x 1 columns]"
      ]
     },
     "execution_count": 1,
     "metadata": {},
     "output_type": "execute_result"
    }
   ],
   "source": [
    "import pandas as pd\n",
    "\n",
    "df_passenger = pd.read_csv('../data/airline-passengers.csv', parse_dates=['Month'], index_col='Month')\n",
    "df_passenger = df_passenger.asfreq('MS')\n",
    "df_passenger"
   ]
  },
  {
   "cell_type": "markdown",
   "id": "a72644b3",
   "metadata": {
    "papermill": {
     "duration": 0.001399,
     "end_time": "2024-05-29T22:25:25.164376",
     "exception": false,
     "start_time": "2024-05-29T22:25:25.162977",
     "status": "completed"
    },
    "tags": []
   },
   "source": [
    "## Individual Components\n",
    "\n",
    "- Trend (S)\n",
    "- Seasonality (S)\n",
    "- Residual or Irregular Component (I)"
   ]
  },
  {
   "cell_type": "code",
   "execution_count": 2,
   "id": "315e1c56",
   "metadata": {
    "execution": {
     "iopub.execute_input": "2024-05-29T22:25:25.167715Z",
     "iopub.status.busy": "2024-05-29T22:25:25.167577Z",
     "iopub.status.idle": "2024-05-29T22:25:25.505069Z",
     "shell.execute_reply": "2024-05-29T22:25:25.504809Z"
    },
    "papermill": {
     "duration": 0.340143,
     "end_time": "2024-05-29T22:25:25.505933",
     "exception": false,
     "start_time": "2024-05-29T22:25:25.165790",
     "status": "completed"
    },
    "tags": [
     "Fixed"
    ]
   },
   "outputs": [
    {
     "data": {
      "text/html": [
       "<div>\n",
       "<style scoped>\n",
       "    .dataframe tbody tr th:only-of-type {\n",
       "        vertical-align: middle;\n",
       "    }\n",
       "\n",
       "    .dataframe tbody tr th {\n",
       "        vertical-align: top;\n",
       "    }\n",
       "\n",
       "    .dataframe thead th {\n",
       "        text-align: right;\n",
       "    }\n",
       "</style>\n",
       "<table border=\"1\" class=\"dataframe\">\n",
       "  <thead>\n",
       "    <tr style=\"text-align: right;\">\n",
       "      <th></th>\n",
       "      <th>Passengers</th>\n",
       "      <th>trend</th>\n",
       "      <th>seasonal</th>\n",
       "      <th>residual</th>\n",
       "    </tr>\n",
       "    <tr>\n",
       "      <th>Month</th>\n",
       "      <th></th>\n",
       "      <th></th>\n",
       "      <th></th>\n",
       "      <th></th>\n",
       "    </tr>\n",
       "  </thead>\n",
       "  <tbody>\n",
       "    <tr>\n",
       "      <th>1949-07-01</th>\n",
       "      <td>148</td>\n",
       "      <td>126.791667</td>\n",
       "      <td>63.830808</td>\n",
       "      <td>-42.622475</td>\n",
       "    </tr>\n",
       "    <tr>\n",
       "      <th>1949-08-01</th>\n",
       "      <td>148</td>\n",
       "      <td>127.250000</td>\n",
       "      <td>62.823232</td>\n",
       "      <td>-42.073232</td>\n",
       "    </tr>\n",
       "    <tr>\n",
       "      <th>...</th>\n",
       "      <td>...</td>\n",
       "      <td>...</td>\n",
       "      <td>...</td>\n",
       "      <td>...</td>\n",
       "    </tr>\n",
       "    <tr>\n",
       "      <th>1960-05-01</th>\n",
       "      <td>472</td>\n",
       "      <td>472.750000</td>\n",
       "      <td>-4.506313</td>\n",
       "      <td>3.756313</td>\n",
       "    </tr>\n",
       "    <tr>\n",
       "      <th>1960-06-01</th>\n",
       "      <td>535</td>\n",
       "      <td>475.041667</td>\n",
       "      <td>35.402778</td>\n",
       "      <td>24.555556</td>\n",
       "    </tr>\n",
       "  </tbody>\n",
       "</table>\n",
       "<p>132 rows × 4 columns</p>\n",
       "</div>"
      ],
      "text/plain": [
       "            Passengers       trend   seasonal   residual\n",
       "Month                                                   \n",
       "1949-07-01         148  126.791667  63.830808 -42.622475\n",
       "1949-08-01         148  127.250000  62.823232 -42.073232\n",
       "...                ...         ...        ...        ...\n",
       "1960-05-01         472  472.750000  -4.506313   3.756313\n",
       "1960-06-01         535  475.041667  35.402778  24.555556\n",
       "\n",
       "[132 rows x 4 columns]"
      ]
     },
     "execution_count": 2,
     "metadata": {},
     "output_type": "execute_result"
    }
   ],
   "source": [
    "import statsmodels.api as sm \n",
    "\n",
    "data = df_passenger['Passengers'].values\n",
    "result = sm.tsa.seasonal_decompose(data, model='additive', period=12)\n",
    "\n",
    "df_component = (df_passenger\n",
    " .assign(\n",
    "    trend = result.trend,\n",
    "    seasonal = result.seasonal,\n",
    "    residual = result.resid)\n",
    " .dropna())\n",
    "\n",
    "df_component"
   ]
  },
  {
   "cell_type": "code",
   "execution_count": 3,
   "id": "0049b2b7",
   "metadata": {
    "execution": {
     "iopub.execute_input": "2024-05-29T22:25:25.509268Z",
     "iopub.status.busy": "2024-05-29T22:25:25.509096Z",
     "iopub.status.idle": "2024-05-29T22:25:25.513143Z",
     "shell.execute_reply": "2024-05-29T22:25:25.512946Z"
    },
    "papermill": {
     "duration": 0.006447,
     "end_time": "2024-05-29T22:25:25.513806",
     "exception": false,
     "start_time": "2024-05-29T22:25:25.507359",
     "status": "completed"
    },
    "tags": [
     "Fixed"
    ]
   },
   "outputs": [
    {
     "data": {
      "text/html": [
       "<div>\n",
       "<style scoped>\n",
       "    .dataframe tbody tr th:only-of-type {\n",
       "        vertical-align: middle;\n",
       "    }\n",
       "\n",
       "    .dataframe tbody tr th {\n",
       "        vertical-align: top;\n",
       "    }\n",
       "\n",
       "    .dataframe thead th {\n",
       "        text-align: right;\n",
       "    }\n",
       "</style>\n",
       "<table border=\"1\" class=\"dataframe\">\n",
       "  <thead>\n",
       "    <tr style=\"text-align: right;\">\n",
       "      <th></th>\n",
       "      <th>Passengers</th>\n",
       "      <th>trend</th>\n",
       "      <th>seasonal</th>\n",
       "      <th>residual</th>\n",
       "      <th>component_sum</th>\n",
       "    </tr>\n",
       "    <tr>\n",
       "      <th>Month</th>\n",
       "      <th></th>\n",
       "      <th></th>\n",
       "      <th></th>\n",
       "      <th></th>\n",
       "      <th></th>\n",
       "    </tr>\n",
       "  </thead>\n",
       "  <tbody>\n",
       "    <tr>\n",
       "      <th>1949-07-01</th>\n",
       "      <td>148</td>\n",
       "      <td>126.791667</td>\n",
       "      <td>63.830808</td>\n",
       "      <td>-42.622475</td>\n",
       "      <td>148.0</td>\n",
       "    </tr>\n",
       "    <tr>\n",
       "      <th>1949-08-01</th>\n",
       "      <td>148</td>\n",
       "      <td>127.250000</td>\n",
       "      <td>62.823232</td>\n",
       "      <td>-42.073232</td>\n",
       "      <td>148.0</td>\n",
       "    </tr>\n",
       "    <tr>\n",
       "      <th>...</th>\n",
       "      <td>...</td>\n",
       "      <td>...</td>\n",
       "      <td>...</td>\n",
       "      <td>...</td>\n",
       "      <td>...</td>\n",
       "    </tr>\n",
       "    <tr>\n",
       "      <th>1960-05-01</th>\n",
       "      <td>472</td>\n",
       "      <td>472.750000</td>\n",
       "      <td>-4.506313</td>\n",
       "      <td>3.756313</td>\n",
       "      <td>472.0</td>\n",
       "    </tr>\n",
       "    <tr>\n",
       "      <th>1960-06-01</th>\n",
       "      <td>535</td>\n",
       "      <td>475.041667</td>\n",
       "      <td>35.402778</td>\n",
       "      <td>24.555556</td>\n",
       "      <td>535.0</td>\n",
       "    </tr>\n",
       "  </tbody>\n",
       "</table>\n",
       "<p>132 rows × 5 columns</p>\n",
       "</div>"
      ],
      "text/plain": [
       "            Passengers       trend   seasonal   residual  component_sum\n",
       "Month                                                                  \n",
       "1949-07-01         148  126.791667  63.830808 -42.622475          148.0\n",
       "1949-08-01         148  127.250000  62.823232 -42.073232          148.0\n",
       "...                ...         ...        ...        ...            ...\n",
       "1960-05-01         472  472.750000  -4.506313   3.756313          472.0\n",
       "1960-06-01         535  475.041667  35.402778  24.555556          535.0\n",
       "\n",
       "[132 rows x 5 columns]"
      ]
     },
     "execution_count": 3,
     "metadata": {},
     "output_type": "execute_result"
    }
   ],
   "source": [
    "df_component['component_sum'] = df_component.trend + df_component.seasonal + df_component.residual\n",
    "df_component"
   ]
  },
  {
   "cell_type": "markdown",
   "id": "31dfb28f",
   "metadata": {
    "papermill": {
     "duration": 0.001183,
     "end_time": "2024-05-29T22:25:26.281394",
     "exception": false,
     "start_time": "2024-05-29T22:25:26.280211",
     "status": "completed"
    },
    "tags": []
   },
   "source": [
    "## Additive Model\n",
    "\n",
    "$y_t = T_t + S_t + e_t$"
   ]
  },
  {
   "cell_type": "code",
   "execution_count": 5,
   "id": "d1c16270",
   "metadata": {
    "execution": {
     "iopub.execute_input": "2024-05-29T22:25:26.284984Z",
     "iopub.status.busy": "2024-05-29T22:25:26.284641Z",
     "iopub.status.idle": "2024-05-29T22:25:26.761125Z",
     "shell.execute_reply": "2024-05-29T22:25:26.760581Z"
    },
    "papermill": {
     "duration": 0.479688,
     "end_time": "2024-05-29T22:25:26.762290",
     "exception": false,
     "start_time": "2024-05-29T22:25:26.282602",
     "status": "completed"
    },
    "tags": []
   },
   "outputs": [
    {
     "data": {
      "image/svg+xml": [
       "<svg class=\"main-svg\" xmlns=\"http://www.w3.org/2000/svg\" xmlns:xlink=\"http://www.w3.org/1999/xlink\" width=\"700\" height=\"500\" style=\"\" viewBox=\"0 0 700 500\"><rect x=\"0\" y=\"0\" width=\"700\" height=\"500\" style=\"fill: rgb(255, 255, 255); fill-opacity: 1;\"/><defs id=\"defs-e1067d\"><g class=\"clips\"><clipPath id=\"clipe1067dxyplot\" class=\"plotclip\"><rect width=\"540\" height=\"320\"/></clipPath><clipPath class=\"axesclip\" id=\"clipe1067dx\"><rect x=\"80\" y=\"0\" width=\"540\" height=\"500\"/></clipPath><clipPath class=\"axesclip\" id=\"clipe1067dy\"><rect x=\"0\" y=\"100\" width=\"700\" height=\"320\"/></clipPath><clipPath class=\"axesclip\" id=\"clipe1067dxy\"><rect x=\"80\" y=\"100\" width=\"540\" height=\"320\"/></clipPath></g><g class=\"gradients\"/><g class=\"patterns\"/></defs><g class=\"bglayer\"><rect class=\"bg\" x=\"80\" y=\"100\" width=\"540\" height=\"320\" style=\"fill: rgb(229, 236, 246); fill-opacity: 1; stroke-width: 0;\"/></g><g class=\"layer-below\"><g class=\"imagelayer\"/><g class=\"shapelayer\"/></g><g class=\"cartesianlayer\"><g class=\"subplot xy\"><g class=\"layer-subplot\"><g class=\"shapelayer\"/><g class=\"imagelayer\"/></g><g class=\"minor-gridlayer\"><g class=\"x\"/><g class=\"y\"/></g><g class=\"gridlayer\"><g class=\"x\"><path class=\"xgrid crisp\" transform=\"translate(125.28999999999999,0)\" d=\"M0,100v320\" style=\"stroke: rgb(255, 255, 255); stroke-opacity: 1; stroke-width: 1px;\"/><path class=\"xgrid crisp\" transform=\"translate(215.87,0)\" d=\"M0,100v320\" style=\"stroke: rgb(255, 255, 255); stroke-opacity: 1; stroke-width: 1px;\"/><path class=\"xgrid crisp\" transform=\"translate(306.57,0)\" d=\"M0,100v320\" style=\"stroke: rgb(255, 255, 255); stroke-opacity: 1; stroke-width: 1px;\"/><path class=\"xgrid crisp\" transform=\"translate(397.15,0)\" d=\"M0,100v320\" style=\"stroke: rgb(255, 255, 255); stroke-opacity: 1; stroke-width: 1px;\"/><path class=\"xgrid crisp\" transform=\"translate(487.85,0)\" d=\"M0,100v320\" style=\"stroke: rgb(255, 255, 255); stroke-opacity: 1; stroke-width: 1px;\"/><path class=\"xgrid crisp\" transform=\"translate(578.4300000000001,0)\" d=\"M0,100v320\" style=\"stroke: rgb(255, 255, 255); stroke-opacity: 1; stroke-width: 1px;\"/></g><g class=\"y\"><path class=\"ygrid crisp\" transform=\"translate(0,371.13)\" d=\"M80,0h540\" style=\"stroke: rgb(255, 255, 255); stroke-opacity: 1; stroke-width: 1px;\"/><path class=\"ygrid crisp\" transform=\"translate(0,322.25)\" d=\"M80,0h540\" style=\"stroke: rgb(255, 255, 255); stroke-opacity: 1; stroke-width: 1px;\"/><path class=\"ygrid crisp\" transform=\"translate(0,273.38)\" d=\"M80,0h540\" style=\"stroke: rgb(255, 255, 255); stroke-opacity: 1; stroke-width: 1px;\"/><path class=\"ygrid crisp\" transform=\"translate(0,224.5)\" d=\"M80,0h540\" style=\"stroke: rgb(255, 255, 255); stroke-opacity: 1; stroke-width: 1px;\"/><path class=\"ygrid crisp\" transform=\"translate(0,175.63)\" d=\"M80,0h540\" style=\"stroke: rgb(255, 255, 255); stroke-opacity: 1; stroke-width: 1px;\"/><path class=\"ygrid crisp\" transform=\"translate(0,126.75)\" d=\"M80,0h540\" style=\"stroke: rgb(255, 255, 255); stroke-opacity: 1; stroke-width: 1px;\"/></g></g><g class=\"zerolinelayer\"><path class=\"yzl zl crisp\" transform=\"translate(0,420)\" d=\"M80,0h540\" style=\"stroke: rgb(255, 255, 255); stroke-opacity: 1; stroke-width: 2px;\"/></g><path class=\"xlines-below\"/><path class=\"ylines-below\"/><g class=\"overlines-below\"/><g class=\"xaxislayer-below\"/><g class=\"yaxislayer-below\"/><g class=\"overaxes-below\"/><g class=\"plot\" transform=\"translate(80,100)\" clip-path=\"url(#clipe1067dxyplot)\"><g class=\"scatterlayer mlayer\"><g class=\"trace scatter tracec7c3a9\" style=\"stroke-miterlimit: 2;\"><g class=\"fills\"><g><path class=\"js-fill\" d=\"M540,320L0,320L0,265.26L3.85,262.33L7.32,255.49L11.17,256.95L14.89,260.86L22.46,247.67L26.31,247.67L30.15,253.53L33.87,261.84L37.72,269.17L41.44,262.33L45.29,263.79L49.14,258.42L52.61,251.09L56.46,254.02L60.18,258.91L64.03,247.18L67.75,236.91L71.59,236.91L75.44,242.78L79.16,255L83.01,264.28L86.73,251.58L94.43,246.69L97.9,233L101.75,240.33L105.47,235.94L109.32,233L113.04,222.74L116.88,222.74L120.73,230.07L124.45,240.82L128.3,248.64L132.02,238.87L135.87,236.42L139.72,232.03L143.31,225.67L147.16,231.54L150.88,230.56L154.73,213.45L158.45,207.59L162.3,201.72L166.14,217.85L173.71,235.94L177.44,225.18L181.28,224.21L185.13,224.21L188.6,204.66L192.45,205.14L196.17,208.08L200.02,201.23L203.74,190.97L207.59,187.06L211.43,204.17L215.16,216.87L219,232.03L222.73,221.76L226.57,220.3L230.42,228.12L233.89,205.14L237.74,209.05L241.46,205.63L245.31,190.97L249.03,172.4L252.88,176.8L260.45,208.08L264.29,220.78L268.01,208.08L271.86,201.72L275.71,206.12L279.18,189.5L286.75,188.04L290.6,166.05L294.32,142.1L298.17,150.41L309.58,204.17L313.3,184.13L317.15,181.2L321,184.62L324.6,165.07L328.44,167.02L332.16,164.58L336.01,137.21L339.73,118.15L343.58,122.06L351.15,170.44L355,187.55L358.72,170.44L362.56,166.05L366.41,172.89L369.89,146.01L373.73,149.92L377.45,146.5L381.3,113.75L385.02,92.73L388.87,91.76L392.72,122.55L396.44,150.41L400.28,170.93L404.01,155.78L407.85,153.83L411.7,164.58L415.17,143.07L419.02,149.92L422.74,142.59L430.31,80.03L434.16,73.18L438.01,122.55L441.73,144.54L445.57,168.49L449.3,155.29L453.14,144.05L456.99,152.85L460.46,121.57L464.31,126.46L468.03,114.73L471.88,89.31L475.6,52.17L479.45,46.79L483.3,93.71L487.02,121.08L490.86,143.07L494.59,122.06L498.43,116.19L502.28,128.9L505.88,115.22L509.72,94.69L513.45,89.31L517.29,58.52L521.02,16L524.86,23.82L528.71,71.72L532.43,94.69L536.28,129.39L540,108.86\" style=\"fill: rgb(99, 110, 250); fill-opacity: 0.5; stroke-width: 0;\"/></g></g><g class=\"errorbars\"/><g class=\"lines\"><path class=\"js-line\" d=\"M0,265.26L3.85,262.33L7.32,255.49L11.17,256.95L14.89,260.86L22.46,247.67L26.31,247.67L30.15,253.53L33.87,261.84L37.72,269.17L41.44,262.33L45.29,263.79L49.14,258.42L52.61,251.09L56.46,254.02L60.18,258.91L64.03,247.18L67.75,236.91L71.59,236.91L75.44,242.78L79.16,255L83.01,264.28L86.73,251.58L94.43,246.69L97.9,233L101.75,240.33L105.47,235.94L109.32,233L113.04,222.74L116.88,222.74L120.73,230.07L124.45,240.82L128.3,248.64L132.02,238.87L135.87,236.42L139.72,232.03L143.31,225.67L147.16,231.54L150.88,230.56L154.73,213.45L158.45,207.59L162.3,201.72L166.14,217.85L173.71,235.94L177.44,225.18L181.28,224.21L185.13,224.21L188.6,204.66L192.45,205.14L196.17,208.08L200.02,201.23L203.74,190.97L207.59,187.06L211.43,204.17L215.16,216.87L219,232.03L222.73,221.76L226.57,220.3L230.42,228.12L233.89,205.14L237.74,209.05L241.46,205.63L245.31,190.97L249.03,172.4L252.88,176.8L260.45,208.08L264.29,220.78L268.01,208.08L271.86,201.72L275.71,206.12L279.18,189.5L286.75,188.04L290.6,166.05L294.32,142.1L298.17,150.41L309.58,204.17L313.3,184.13L317.15,181.2L321,184.62L324.6,165.07L328.44,167.02L332.16,164.58L336.01,137.21L339.73,118.15L343.58,122.06L351.15,170.44L355,187.55L358.72,170.44L362.56,166.05L366.41,172.89L369.89,146.01L373.73,149.92L377.45,146.5L381.3,113.75L385.02,92.73L388.87,91.76L392.72,122.55L396.44,150.41L400.28,170.93L404.01,155.78L407.85,153.83L411.7,164.58L415.17,143.07L419.02,149.92L422.74,142.59L430.31,80.03L434.16,73.18L438.01,122.55L441.73,144.54L445.57,168.49L449.3,155.29L453.14,144.05L456.99,152.85L460.46,121.57L464.31,126.46L468.03,114.73L471.88,89.31L475.6,52.17L479.45,46.79L483.3,93.71L487.02,121.08L490.86,143.07L494.59,122.06L498.43,116.19L502.28,128.9L505.88,115.22L509.72,94.69L513.45,89.31L517.29,58.52L521.02,16L524.86,23.82L528.71,71.72L532.43,94.69L536.28,129.39L540,108.86\" style=\"vector-effect: none; fill: none; stroke: rgb(99, 110, 250); stroke-opacity: 1; stroke-width: 2px; opacity: 1;\"/></g><g class=\"points\"/><g class=\"text\"/></g></g></g><g class=\"overplot\"/><path class=\"xlines-above crisp\" d=\"M0,0\" style=\"fill: none;\"/><path class=\"ylines-above crisp\" d=\"M0,0\" style=\"fill: none;\"/><g class=\"overlines-above\"/><g class=\"xaxislayer-above\"><g class=\"xtick\"><text text-anchor=\"middle\" x=\"0\" y=\"433\" transform=\"translate(125.28999999999999,0)\" style=\"font-family: 'Open Sans', verdana, arial, sans-serif; font-size: 12px; fill: rgb(42, 63, 95); fill-opacity: 1; white-space: pre; opacity: 1;\">1950</text></g><g class=\"xtick\"><text text-anchor=\"middle\" x=\"0\" y=\"433\" style=\"font-family: 'Open Sans', verdana, arial, sans-serif; font-size: 12px; fill: rgb(42, 63, 95); fill-opacity: 1; white-space: pre; opacity: 1;\" transform=\"translate(215.87,0)\">1952</text></g><g class=\"xtick\"><text text-anchor=\"middle\" x=\"0\" y=\"433\" style=\"font-family: 'Open Sans', verdana, arial, sans-serif; font-size: 12px; fill: rgb(42, 63, 95); fill-opacity: 1; white-space: pre; opacity: 1;\" transform=\"translate(306.57,0)\">1954</text></g><g class=\"xtick\"><text text-anchor=\"middle\" x=\"0\" y=\"433\" style=\"font-family: 'Open Sans', verdana, arial, sans-serif; font-size: 12px; fill: rgb(42, 63, 95); fill-opacity: 1; white-space: pre; opacity: 1;\" transform=\"translate(397.15,0)\">1956</text></g><g class=\"xtick\"><text text-anchor=\"middle\" x=\"0\" y=\"433\" style=\"font-family: 'Open Sans', verdana, arial, sans-serif; font-size: 12px; fill: rgb(42, 63, 95); fill-opacity: 1; white-space: pre; opacity: 1;\" transform=\"translate(487.85,0)\">1958</text></g><g class=\"xtick\"><text text-anchor=\"middle\" x=\"0\" y=\"433\" style=\"font-family: 'Open Sans', verdana, arial, sans-serif; font-size: 12px; fill: rgb(42, 63, 95); fill-opacity: 1; white-space: pre; opacity: 1;\" transform=\"translate(578.4300000000001,0)\">1960</text></g></g><g class=\"yaxislayer-above\"><g class=\"ytick\"><text text-anchor=\"end\" x=\"79\" y=\"4.199999999999999\" transform=\"translate(0,420)\" style=\"font-family: 'Open Sans', verdana, arial, sans-serif; font-size: 12px; fill: rgb(42, 63, 95); fill-opacity: 1; white-space: pre; opacity: 1;\">0</text></g><g class=\"ytick\"><text text-anchor=\"end\" x=\"79\" y=\"4.199999999999999\" style=\"font-family: 'Open Sans', verdana, arial, sans-serif; font-size: 12px; fill: rgb(42, 63, 95); fill-opacity: 1; white-space: pre; opacity: 1;\" transform=\"translate(0,371.13)\">100</text></g><g class=\"ytick\"><text text-anchor=\"end\" x=\"79\" y=\"4.199999999999999\" style=\"font-family: 'Open Sans', verdana, arial, sans-serif; font-size: 12px; fill: rgb(42, 63, 95); fill-opacity: 1; white-space: pre; opacity: 1;\" transform=\"translate(0,322.25)\">200</text></g><g class=\"ytick\"><text text-anchor=\"end\" x=\"79\" y=\"4.199999999999999\" style=\"font-family: 'Open Sans', verdana, arial, sans-serif; font-size: 12px; fill: rgb(42, 63, 95); fill-opacity: 1; white-space: pre; opacity: 1;\" transform=\"translate(0,273.38)\">300</text></g><g class=\"ytick\"><text text-anchor=\"end\" x=\"79\" y=\"4.199999999999999\" style=\"font-family: 'Open Sans', verdana, arial, sans-serif; font-size: 12px; fill: rgb(42, 63, 95); fill-opacity: 1; white-space: pre; opacity: 1;\" transform=\"translate(0,224.5)\">400</text></g><g class=\"ytick\"><text text-anchor=\"end\" x=\"79\" y=\"4.199999999999999\" style=\"font-family: 'Open Sans', verdana, arial, sans-serif; font-size: 12px; fill: rgb(42, 63, 95); fill-opacity: 1; white-space: pre; opacity: 1;\" transform=\"translate(0,175.63)\">500</text></g><g class=\"ytick\"><text text-anchor=\"end\" x=\"79\" y=\"4.199999999999999\" style=\"font-family: 'Open Sans', verdana, arial, sans-serif; font-size: 12px; fill: rgb(42, 63, 95); fill-opacity: 1; white-space: pre; opacity: 1;\" transform=\"translate(0,126.75)\">600</text></g></g><g class=\"overaxes-above\"/></g></g><g class=\"polarlayer\"/><g class=\"smithlayer\"/><g class=\"ternarylayer\"/><g class=\"geolayer\"/><g class=\"funnelarealayer\"/><g class=\"pielayer\"/><g class=\"iciclelayer\"/><g class=\"treemaplayer\"/><g class=\"sunburstlayer\"/><g class=\"glimages\"/><defs id=\"topdefs-e1067d\"><g class=\"clips\"/></defs><g class=\"layer-above\"><g class=\"imagelayer\"/><g class=\"shapelayer\"/></g><g class=\"infolayer\"><g class=\"g-gtitle\"><text class=\"gtitle\" x=\"35\" y=\"50\" text-anchor=\"start\" dy=\"0em\" style=\"font-family: 'Open Sans', verdana, arial, sans-serif; font-size: 17px; fill: rgb(42, 63, 95); opacity: 1; font-weight: normal; white-space: pre;\">Original Time Series</text></g><g class=\"g-xtitle\"><text class=\"xtitle\" x=\"350\" y=\"460.3\" text-anchor=\"middle\" style=\"font-family: 'Open Sans', verdana, arial, sans-serif; font-size: 14px; fill: rgb(42, 63, 95); opacity: 1; font-weight: normal; white-space: pre;\">x</text></g><g class=\"g-ytitle\"><text class=\"ytitle\" transform=\"rotate(-90,31.809375000000003,260)\" x=\"31.809375000000003\" y=\"260\" text-anchor=\"middle\" style=\"font-family: 'Open Sans', verdana, arial, sans-serif; font-size: 14px; fill: rgb(42, 63, 95); opacity: 1; font-weight: normal; white-space: pre;\">y</text></g></g></svg>"
      ]
     },
     "metadata": {},
     "output_type": "display_data"
    }
   ],
   "source": [
    "import plotly.express as px\n",
    "\n",
    "fig = px.area(x=df_passenger.index, y=df_passenger['Passengers'], title='Original Time Series')\n",
    "fig"
   ]
  },
  {
   "cell_type": "code",
   "execution_count": 7,
   "id": "f9da99ba",
   "metadata": {
    "execution": {
     "iopub.execute_input": "2024-05-29T22:25:26.792674Z",
     "iopub.status.busy": "2024-05-29T22:25:26.792581Z",
     "iopub.status.idle": "2024-05-29T22:25:26.848402Z",
     "shell.execute_reply": "2024-05-29T22:25:26.848123Z"
    },
    "papermill": {
     "duration": 0.058025,
     "end_time": "2024-05-29T22:25:26.849157",
     "exception": false,
     "start_time": "2024-05-29T22:25:26.791132",
     "status": "completed"
    },
    "tags": []
   },
   "outputs": [
    {
     "data": {
      "image/svg+xml": [
       "<svg class=\"main-svg\" xmlns=\"http://www.w3.org/2000/svg\" xmlns:xlink=\"http://www.w3.org/1999/xlink\" width=\"700\" height=\"500\" style=\"\" viewBox=\"0 0 700 500\"><rect x=\"0\" y=\"0\" width=\"700\" height=\"500\" style=\"fill: rgb(255, 255, 255); fill-opacity: 1;\"/><defs id=\"defs-35df72\"><g class=\"clips\"><clipPath id=\"clip35df72xyplot\" class=\"plotclip\"><rect width=\"162\" height=\"320\"/></clipPath><clipPath id=\"clip35df72x2y2plot\" class=\"plotclip\"><rect width=\"161.99999999999997\" height=\"320\"/></clipPath><clipPath id=\"clip35df72x3y3plot\" class=\"plotclip\"><rect width=\"162.00000000000003\" height=\"320\"/></clipPath><clipPath class=\"axesclip\" id=\"clip35df72x\"><rect x=\"80\" y=\"0\" width=\"162\" height=\"500\"/></clipPath><clipPath class=\"axesclip\" id=\"clip35df72y\"><rect x=\"0\" y=\"100\" width=\"700\" height=\"320\"/></clipPath><clipPath class=\"axesclip\" id=\"clip35df72xy\"><rect x=\"80\" y=\"100\" width=\"162\" height=\"320\"/></clipPath><clipPath class=\"axesclip\" id=\"clip35df72y2\"><rect x=\"0\" y=\"100\" width=\"700\" height=\"320\"/></clipPath><clipPath class=\"axesclip\" id=\"clip35df72xy2\"><rect x=\"80\" y=\"100\" width=\"162\" height=\"320\"/></clipPath><clipPath class=\"axesclip\" id=\"clip35df72y3\"><rect x=\"0\" y=\"100\" width=\"700\" height=\"320\"/></clipPath><clipPath class=\"axesclip\" id=\"clip35df72xy3\"><rect x=\"80\" y=\"100\" width=\"162\" height=\"320\"/></clipPath><clipPath class=\"axesclip\" id=\"clip35df72x2\"><rect x=\"269\" y=\"0\" width=\"161.99999999999997\" height=\"500\"/></clipPath><clipPath class=\"axesclip\" id=\"clip35df72x2y\"><rect x=\"269\" y=\"100\" width=\"161.99999999999997\" height=\"320\"/></clipPath><clipPath class=\"axesclip\" id=\"clip35df72x2y2\"><rect x=\"269\" y=\"100\" width=\"161.99999999999997\" height=\"320\"/></clipPath><clipPath class=\"axesclip\" id=\"clip35df72x2y3\"><rect x=\"269\" y=\"100\" width=\"161.99999999999997\" height=\"320\"/></clipPath><clipPath class=\"axesclip\" id=\"clip35df72x3\"><rect x=\"458\" y=\"0\" width=\"162.00000000000003\" height=\"500\"/></clipPath><clipPath class=\"axesclip\" id=\"clip35df72x3y\"><rect x=\"458\" y=\"100\" width=\"162.00000000000003\" height=\"320\"/></clipPath><clipPath class=\"axesclip\" id=\"clip35df72x3y2\"><rect x=\"458\" y=\"100\" width=\"162.00000000000003\" height=\"320\"/></clipPath><clipPath class=\"axesclip\" id=\"clip35df72x3y3\"><rect x=\"458\" y=\"100\" width=\"162.00000000000003\" height=\"320\"/></clipPath></g><g class=\"gradients\"/><g class=\"patterns\"/></defs><g class=\"bglayer\"><rect class=\"bg\" x=\"80\" y=\"100\" width=\"162\" height=\"320\" style=\"fill: rgb(229, 236, 246); fill-opacity: 1; stroke-width: 0;\"/><rect class=\"bg\" x=\"269\" y=\"100\" width=\"161.99999999999997\" height=\"320\" style=\"fill: rgb(229, 236, 246); fill-opacity: 1; stroke-width: 0;\"/><rect class=\"bg\" x=\"458\" y=\"100\" width=\"162.00000000000003\" height=\"320\" style=\"fill: rgb(229, 236, 246); fill-opacity: 1; stroke-width: 0;\"/></g><g class=\"layer-below\"><g class=\"imagelayer\"/><g class=\"shapelayer\"/></g><g class=\"cartesianlayer\"><g class=\"subplot xy\"><g class=\"layer-subplot\"><g class=\"shapelayer\"/><g class=\"imagelayer\"/></g><g class=\"minor-gridlayer\"><g class=\"x\"/><g class=\"y\"/></g><g class=\"gridlayer\"><g class=\"x\"><path class=\"xgrid crisp\" transform=\"translate(87.47,0)\" d=\"M0,100v320\" style=\"stroke: rgb(255, 255, 255); stroke-opacity: 1; stroke-width: 1px;\"/><path class=\"xgrid crisp\" transform=\"translate(161.65,0)\" d=\"M0,100v320\" style=\"stroke: rgb(255, 255, 255); stroke-opacity: 1; stroke-width: 1px;\"/><path class=\"xgrid crisp\" transform=\"translate(235.83,0)\" d=\"M0,100v320\" style=\"stroke: rgb(255, 255, 255); stroke-opacity: 1; stroke-width: 1px;\"/></g><g class=\"y\"><path class=\"ygrid crisp\" transform=\"translate(0,320.32)\" d=\"M80,0h162\" style=\"stroke: rgb(255, 255, 255); stroke-opacity: 1; stroke-width: 1px;\"/><path class=\"ygrid crisp\" transform=\"translate(0,265.84000000000003)\" d=\"M80,0h162\" style=\"stroke: rgb(255, 255, 255); stroke-opacity: 1; stroke-width: 1px;\"/><path class=\"ygrid crisp\" transform=\"translate(0,211.36)\" d=\"M80,0h162\" style=\"stroke: rgb(255, 255, 255); stroke-opacity: 1; stroke-width: 1px;\"/><path class=\"ygrid crisp\" transform=\"translate(0,156.88)\" d=\"M80,0h162\" style=\"stroke: rgb(255, 255, 255); stroke-opacity: 1; stroke-width: 1px;\"/><path class=\"ygrid crisp\" transform=\"translate(0,102.4)\" d=\"M80,0h162\" style=\"stroke: rgb(255, 255, 255); stroke-opacity: 1; stroke-width: 1px;\"/></g></g><g class=\"zerolinelayer\"><path class=\"yzl zl crisp\" transform=\"translate(0,374.8)\" d=\"M80,0h162\" style=\"stroke: rgb(255, 255, 255); stroke-opacity: 1; stroke-width: 2px;\"/></g><path class=\"xlines-below\"/><path class=\"ylines-below\"/><g class=\"overlines-below\"/><g class=\"xaxislayer-below\"/><g class=\"yaxislayer-below\"/><g class=\"overaxes-below\"/><g class=\"plot\" transform=\"translate(80,100)\" clip-path=\"url(#clip35df72xyplot)\"><g class=\"scatterlayer mlayer\"><g class=\"trace scatter traced045d1\" style=\"stroke-miterlimit: 2;\"><g class=\"fills\"><g><path class=\"js-fill\" d=\"M162,274.8L0,274.8L0,205.73L6.22,204.11L7.47,203.3L17.35,195.42L18.56,193.95L24.7,186.64L25.96,185.39L32.17,179.21L33.39,178.46L35.87,176.65L37.13,175.04L42.04,169.34L43.3,168.11L47.04,164.64L48.26,162.44L52,157.22L53.26,155.76L56.87,152.72L58.13,152.38L60.61,152.04L61.87,152.25L64.35,152.52L65.56,151.93L71.7,146.43L72.96,145.28L79.17,136.7L80.39,134.72L87.78,121.19L89,119.13L95.22,108.39L96.48,105.94L101.39,98.01L102.65,96.61L108.87,89.28L110.09,87.35L116.22,76.22L117.48,74.77L119.96,72.57L121.22,72.05L124.91,71.25L126.17,70.37L128.57,68.05L129.83,67.78L134.78,65.78L136.04,64.24L143.4,50.41L144.65,47.98L155.83,26.19L157.08,23.45L162,16\" style=\"fill: rgb(99, 110, 250); fill-opacity: 0.5; stroke-width: 0;\"/></g></g><g class=\"errorbars\"/><g class=\"lines\"><path class=\"js-line\" d=\"M0,205.73L6.22,204.11L7.47,203.3L17.35,195.42L18.56,193.95L24.7,186.64L25.96,185.39L32.17,179.21L33.39,178.46L35.87,176.65L37.13,175.04L42.04,169.34L43.3,168.11L47.04,164.64L48.26,162.44L52,157.22L53.26,155.76L56.87,152.72L58.13,152.38L60.61,152.04L61.87,152.25L64.35,152.52L65.56,151.93L71.7,146.43L72.96,145.28L79.17,136.7L80.39,134.72L87.78,121.19L89,119.13L95.22,108.39L96.48,105.94L101.39,98.01L102.65,96.61L108.87,89.28L110.09,87.35L116.22,76.22L117.48,74.77L119.96,72.57L121.22,72.05L124.91,71.25L126.17,70.37L128.57,68.05L129.83,67.78L134.78,65.78L136.04,64.24L143.4,50.41L144.65,47.98L155.83,26.19L157.08,23.45L162,16\" style=\"vector-effect: none; fill: none; stroke: rgb(99, 110, 250); stroke-opacity: 1; stroke-width: 2px; opacity: 1;\"/></g><g class=\"points\"/><g class=\"text\"/></g></g></g><g class=\"overplot\"/><path class=\"xlines-above crisp\" d=\"M0,0\" style=\"fill: none;\"/><path class=\"ylines-above crisp\" d=\"M0,0\" style=\"fill: none;\"/><g class=\"overlines-above\"/><g class=\"xaxislayer-above\"><g class=\"xtick\"><text text-anchor=\"middle\" x=\"0\" y=\"433\" transform=\"translate(87.47,0)\" style=\"font-family: 'Open Sans', verdana, arial, sans-serif; font-size: 12px; fill: rgb(42, 63, 95); fill-opacity: 1; white-space: pre; opacity: 1;\">1950</text></g><g class=\"xtick\"><text text-anchor=\"middle\" x=\"0\" y=\"433\" style=\"font-family: 'Open Sans', verdana, arial, sans-serif; font-size: 12px; fill: rgb(42, 63, 95); fill-opacity: 1; white-space: pre; opacity: 1;\" transform=\"translate(161.65,0)\">1955</text></g><g class=\"xtick\"><text text-anchor=\"middle\" x=\"0\" y=\"433\" style=\"font-family: 'Open Sans', verdana, arial, sans-serif; font-size: 12px; fill: rgb(42, 63, 95); fill-opacity: 1; white-space: pre; opacity: 1;\" transform=\"translate(235.83,0)\">1960</text></g></g><g class=\"yaxislayer-above\"><g class=\"ytick\"><text text-anchor=\"end\" x=\"79\" y=\"4.199999999999999\" transform=\"translate(0,374.8)\" style=\"font-family: 'Open Sans', verdana, arial, sans-serif; font-size: 12px; fill: rgb(42, 63, 95); fill-opacity: 1; white-space: pre; opacity: 1;\">0</text></g><g class=\"ytick\"><text text-anchor=\"end\" x=\"79\" y=\"4.199999999999999\" style=\"font-family: 'Open Sans', verdana, arial, sans-serif; font-size: 12px; fill: rgb(42, 63, 95); fill-opacity: 1; white-space: pre; opacity: 1;\" transform=\"translate(0,320.32)\">100</text></g><g class=\"ytick\"><text text-anchor=\"end\" x=\"79\" y=\"4.199999999999999\" style=\"font-family: 'Open Sans', verdana, arial, sans-serif; font-size: 12px; fill: rgb(42, 63, 95); fill-opacity: 1; white-space: pre; opacity: 1;\" transform=\"translate(0,265.84000000000003)\">200</text></g><g class=\"ytick\"><text text-anchor=\"end\" x=\"79\" y=\"4.199999999999999\" style=\"font-family: 'Open Sans', verdana, arial, sans-serif; font-size: 12px; fill: rgb(42, 63, 95); fill-opacity: 1; white-space: pre; opacity: 1;\" transform=\"translate(0,211.36)\">300</text></g><g class=\"ytick\"><text text-anchor=\"end\" x=\"79\" y=\"4.199999999999999\" style=\"font-family: 'Open Sans', verdana, arial, sans-serif; font-size: 12px; fill: rgb(42, 63, 95); fill-opacity: 1; white-space: pre; opacity: 1;\" transform=\"translate(0,156.88)\">400</text></g><g class=\"ytick\"><text text-anchor=\"end\" x=\"79\" y=\"4.199999999999999\" style=\"font-family: 'Open Sans', verdana, arial, sans-serif; font-size: 12px; fill: rgb(42, 63, 95); fill-opacity: 1; white-space: pre; opacity: 1;\" transform=\"translate(0,102.4)\">500</text></g></g><g class=\"overaxes-above\"/></g><g class=\"subplot x2y2\"><g class=\"layer-subplot\"><g class=\"shapelayer\"/><g class=\"imagelayer\"/></g><g class=\"minor-gridlayer\"><g class=\"x2\"/><g class=\"y2\"/></g><g class=\"gridlayer\"><g class=\"x2\"><path class=\"x2grid crisp\" transform=\"translate(276.47,0)\" d=\"M0,100v320\" style=\"stroke: rgb(255, 255, 255); stroke-opacity: 1; stroke-width: 1px;\"/><path class=\"x2grid crisp\" transform=\"translate(350.65,0)\" d=\"M0,100v320\" style=\"stroke: rgb(255, 255, 255); stroke-opacity: 1; stroke-width: 1px;\"/><path class=\"x2grid crisp\" transform=\"translate(424.83000000000004,0)\" d=\"M0,100v320\" style=\"stroke: rgb(255, 255, 255); stroke-opacity: 1; stroke-width: 1px;\"/></g><g class=\"y2\"><path class=\"y2grid crisp\" transform=\"translate(0,320.32)\" d=\"M269,0h161.99999999999997\" style=\"stroke: rgb(255, 255, 255); stroke-opacity: 1; stroke-width: 1px;\"/><path class=\"y2grid crisp\" transform=\"translate(0,265.84000000000003)\" d=\"M269,0h161.99999999999997\" style=\"stroke: rgb(255, 255, 255); stroke-opacity: 1; stroke-width: 1px;\"/><path class=\"y2grid crisp\" transform=\"translate(0,211.36)\" d=\"M269,0h161.99999999999997\" style=\"stroke: rgb(255, 255, 255); stroke-opacity: 1; stroke-width: 1px;\"/><path class=\"y2grid crisp\" transform=\"translate(0,156.88)\" d=\"M269,0h161.99999999999997\" style=\"stroke: rgb(255, 255, 255); stroke-opacity: 1; stroke-width: 1px;\"/><path class=\"y2grid crisp\" transform=\"translate(0,102.4)\" d=\"M269,0h161.99999999999997\" style=\"stroke: rgb(255, 255, 255); stroke-opacity: 1; stroke-width: 1px;\"/></g></g><g class=\"zerolinelayer\"><path class=\"y2zl zl crisp\" transform=\"translate(0,374.8)\" d=\"M269,0h161.99999999999997\" style=\"stroke: rgb(255, 255, 255); stroke-opacity: 1; stroke-width: 2px;\"/></g><path class=\"xlines-below\"/><path class=\"ylines-below\"/><g class=\"overlines-below\"/><g class=\"xaxislayer-below\"/><g class=\"yaxislayer-below\"/><g class=\"overaxes-below\"/><g class=\"plot\" transform=\"translate(269,100)\" clip-path=\"url(#clip35df72x2y2plot)\"><g class=\"scatterlayer mlayer\"><g class=\"trace scatter tracea5c69f\" style=\"stroke-miterlimit: 2;\"><g class=\"fills\"><g><path class=\"js-fill\" d=\"M162,274.8L0,274.8L0,240.03L1.26,240.58L2.52,265.8L5,304L6.22,290.39L7.47,288.29L8.73,294.52L9.87,276.02L11.13,279.18L12.35,277.26L13.61,255.51L14.83,240.03L16.09,240.58L19.82,304L21.04,290.39L22.3,288.29L23.56,294.52L24.7,276.02L25.96,279.18L27.18,277.26L28.44,255.51L29.65,240.03L30.91,240.58L34.65,304L35.87,290.39L37.13,288.29L38.39,294.52L39.57,276.02L40.82,279.18L42.04,277.26L43.3,255.51L44.52,240.03L45.78,240.58L49.52,304L50.74,290.39L52,288.29L53.26,294.52L54.39,276.02L55.65,279.18L56.87,277.26L58.13,255.51L59.35,240.03L60.61,240.58L64.35,304L65.56,290.39L66.82,288.29L68.08,294.52L69.22,276.02L70.48,279.18L71.7,277.26L72.96,255.51L74.18,240.03L75.43,240.58L79.17,304L80.39,290.39L81.65,288.29L82.91,294.52L84.05,276.02L85.31,279.18L86.52,277.26L87.78,255.51L89,240.03L90.26,240.58L94,304L95.22,290.39L96.48,288.29L97.74,294.52L98.91,276.02L100.17,279.18L101.39,277.26L102.65,255.51L103.87,240.03L105.13,240.58L108.87,304L110.09,290.39L111.34,288.29L112.6,294.52L113.74,276.02L115,279.18L116.22,277.26L117.48,255.51L118.7,240.03L119.96,240.58L123.69,304L124.91,290.39L126.17,288.29L127.43,294.52L128.57,276.02L129.83,279.18L131.05,277.26L132.31,255.51L133.52,240.03L134.78,240.58L138.52,304L139.74,290.39L141,288.29L142.26,294.52L143.4,276.02L144.65,279.18L145.87,277.26L147.13,255.51L148.35,240.03L149.61,240.58L153.35,304L154.57,290.39L155.83,288.29L157.08,294.52L158.26,276.02L159.52,279.18L160.74,277.26L162,255.51\" style=\"fill: rgb(99, 110, 250); fill-opacity: 0.5; stroke-width: 0;\"/></g></g><g class=\"errorbars\"/><g class=\"lines\"><path class=\"js-line\" d=\"M0,240.03L1.26,240.58L2.52,265.8L5,304L6.22,290.39L7.47,288.29L8.73,294.52L9.87,276.02L11.13,279.18L12.35,277.26L13.61,255.51L14.83,240.03L16.09,240.58L19.82,304L21.04,290.39L22.3,288.29L23.56,294.52L24.7,276.02L25.96,279.18L27.18,277.26L28.44,255.51L29.65,240.03L30.91,240.58L34.65,304L35.87,290.39L37.13,288.29L38.39,294.52L39.57,276.02L40.82,279.18L42.04,277.26L43.3,255.51L44.52,240.03L45.78,240.58L49.52,304L50.74,290.39L52,288.29L53.26,294.52L54.39,276.02L55.65,279.18L56.87,277.26L58.13,255.51L59.35,240.03L60.61,240.58L64.35,304L65.56,290.39L66.82,288.29L68.08,294.52L69.22,276.02L70.48,279.18L71.7,277.26L72.96,255.51L74.18,240.03L75.43,240.58L79.17,304L80.39,290.39L81.65,288.29L82.91,294.52L84.05,276.02L85.31,279.18L86.52,277.26L87.78,255.51L89,240.03L90.26,240.58L94,304L95.22,290.39L96.48,288.29L97.74,294.52L98.91,276.02L100.17,279.18L101.39,277.26L102.65,255.51L103.87,240.03L105.13,240.58L108.87,304L110.09,290.39L111.34,288.29L112.6,294.52L113.74,276.02L115,279.18L116.22,277.26L117.48,255.51L118.7,240.03L119.96,240.58L123.69,304L124.91,290.39L126.17,288.29L127.43,294.52L128.57,276.02L129.83,279.18L131.05,277.26L132.31,255.51L133.52,240.03L134.78,240.58L138.52,304L139.74,290.39L141,288.29L142.26,294.52L143.4,276.02L144.65,279.18L145.87,277.26L147.13,255.51L148.35,240.03L149.61,240.58L153.35,304L154.57,290.39L155.83,288.29L157.08,294.52L158.26,276.02L159.52,279.18L160.74,277.26L162,255.51\" style=\"vector-effect: none; fill: none; stroke: rgb(99, 110, 250); stroke-opacity: 1; stroke-width: 2px; opacity: 1;\"/></g><g class=\"points\"/><g class=\"text\"/></g></g></g><g class=\"overplot\"/><path class=\"xlines-above crisp\" d=\"M0,0\" style=\"fill: none;\"/><path class=\"ylines-above crisp\" d=\"M0,0\" style=\"fill: none;\"/><g class=\"overlines-above\"/><g class=\"xaxislayer-above\"><g class=\"x2tick\"><text text-anchor=\"middle\" x=\"0\" y=\"433\" transform=\"translate(276.47,0)\" style=\"font-family: 'Open Sans', verdana, arial, sans-serif; font-size: 12px; fill: rgb(42, 63, 95); fill-opacity: 1; white-space: pre; opacity: 1;\">1950</text></g><g class=\"x2tick\"><text text-anchor=\"middle\" x=\"0\" y=\"433\" style=\"font-family: 'Open Sans', verdana, arial, sans-serif; font-size: 12px; fill: rgb(42, 63, 95); fill-opacity: 1; white-space: pre; opacity: 1;\" transform=\"translate(350.65,0)\">1955</text></g><g class=\"x2tick\"><text text-anchor=\"middle\" x=\"0\" y=\"433\" style=\"font-family: 'Open Sans', verdana, arial, sans-serif; font-size: 12px; fill: rgb(42, 63, 95); fill-opacity: 1; white-space: pre; opacity: 1;\" transform=\"translate(424.83000000000004,0)\">1960</text></g></g><g class=\"yaxislayer-above\"><g class=\"y2tick\"><text text-anchor=\"end\" x=\"268\" y=\"4.199999999999999\" transform=\"translate(0,374.8)\" style=\"font-family: 'Open Sans', verdana, arial, sans-serif; font-size: 12px; fill: rgb(42, 63, 95); fill-opacity: 1; white-space: pre; opacity: 1;\">0</text></g><g class=\"y2tick\"><text text-anchor=\"end\" x=\"268\" y=\"4.199999999999999\" style=\"font-family: 'Open Sans', verdana, arial, sans-serif; font-size: 12px; fill: rgb(42, 63, 95); fill-opacity: 1; white-space: pre; opacity: 1;\" transform=\"translate(0,320.32)\">100</text></g><g class=\"y2tick\"><text text-anchor=\"end\" x=\"268\" y=\"4.199999999999999\" style=\"font-family: 'Open Sans', verdana, arial, sans-serif; font-size: 12px; fill: rgb(42, 63, 95); fill-opacity: 1; white-space: pre; opacity: 1;\" transform=\"translate(0,265.84000000000003)\">200</text></g><g class=\"y2tick\"><text text-anchor=\"end\" x=\"268\" y=\"4.199999999999999\" style=\"font-family: 'Open Sans', verdana, arial, sans-serif; font-size: 12px; fill: rgb(42, 63, 95); fill-opacity: 1; white-space: pre; opacity: 1;\" transform=\"translate(0,211.36)\">300</text></g><g class=\"y2tick\"><text text-anchor=\"end\" x=\"268\" y=\"4.199999999999999\" style=\"font-family: 'Open Sans', verdana, arial, sans-serif; font-size: 12px; fill: rgb(42, 63, 95); fill-opacity: 1; white-space: pre; opacity: 1;\" transform=\"translate(0,156.88)\">400</text></g><g class=\"y2tick\"><text text-anchor=\"end\" x=\"268\" y=\"4.199999999999999\" style=\"font-family: 'Open Sans', verdana, arial, sans-serif; font-size: 12px; fill: rgb(42, 63, 95); fill-opacity: 1; white-space: pre; opacity: 1;\" transform=\"translate(0,102.4)\">500</text></g></g><g class=\"overaxes-above\"/></g><g class=\"subplot x3y3\"><g class=\"layer-subplot\"><g class=\"shapelayer\"/><g class=\"imagelayer\"/></g><g class=\"minor-gridlayer\"><g class=\"x3\"/><g class=\"y3\"/></g><g class=\"gridlayer\"><g class=\"x3\"><path class=\"x3grid crisp\" transform=\"translate(465.47,0)\" d=\"M0,100v320\" style=\"stroke: rgb(255, 255, 255); stroke-opacity: 1; stroke-width: 1px;\"/><path class=\"x3grid crisp\" transform=\"translate(539.65,0)\" d=\"M0,100v320\" style=\"stroke: rgb(255, 255, 255); stroke-opacity: 1; stroke-width: 1px;\"/><path class=\"x3grid crisp\" transform=\"translate(613.83,0)\" d=\"M0,100v320\" style=\"stroke: rgb(255, 255, 255); stroke-opacity: 1; stroke-width: 1px;\"/></g><g class=\"y3\"><path class=\"y3grid crisp\" transform=\"translate(0,320.32)\" d=\"M458,0h162.00000000000003\" style=\"stroke: rgb(255, 255, 255); stroke-opacity: 1; stroke-width: 1px;\"/><path class=\"y3grid crisp\" transform=\"translate(0,265.84000000000003)\" d=\"M458,0h162.00000000000003\" style=\"stroke: rgb(255, 255, 255); stroke-opacity: 1; stroke-width: 1px;\"/><path class=\"y3grid crisp\" transform=\"translate(0,211.36)\" d=\"M458,0h162.00000000000003\" style=\"stroke: rgb(255, 255, 255); stroke-opacity: 1; stroke-width: 1px;\"/><path class=\"y3grid crisp\" transform=\"translate(0,156.88)\" d=\"M458,0h162.00000000000003\" style=\"stroke: rgb(255, 255, 255); stroke-opacity: 1; stroke-width: 1px;\"/><path class=\"y3grid crisp\" transform=\"translate(0,102.4)\" d=\"M458,0h162.00000000000003\" style=\"stroke: rgb(255, 255, 255); stroke-opacity: 1; stroke-width: 1px;\"/></g></g><g class=\"zerolinelayer\"><path class=\"y3zl zl crisp\" transform=\"translate(0,374.8)\" d=\"M458,0h162.00000000000003\" style=\"stroke: rgb(255, 255, 255); stroke-opacity: 1; stroke-width: 2px;\"/></g><path class=\"xlines-below\"/><path class=\"ylines-below\"/><g class=\"overlines-below\"/><g class=\"xaxislayer-below\"/><g class=\"yaxislayer-below\"/><g class=\"overaxes-below\"/><g class=\"plot\" transform=\"translate(458,100)\" clip-path=\"url(#clip35df72x3y3plot)\"><g class=\"scatterlayer mlayer\"><g class=\"trace scatter trace26726a\" style=\"stroke-miterlimit: 2;\"><g class=\"fills\"><g><path class=\"js-fill\" d=\"M162,274.8L0,274.8L0,298.02L1.26,297.72L2.52,279.42L5,259.22L6.22,265.61L7.47,270.17L8.73,258.95L9.87,270.27L11.13,271.2L14.83,293.73L16.09,294.41L17.35,277.11L18.56,271.96L19.82,266.06L21.04,267.22L22.3,267.92L23.56,260.29L25.96,271.04L27.18,269.44L28.44,289.23L29.65,294.46L30.91,295.18L32.17,279.15L34.65,263.06L35.87,266.93L37.13,267.92L38.39,258.47L39.57,271.42L40.82,276.03L42.04,278.11L43.3,282.01L44.52,292.17L45.78,286.01L49.52,266.53L50.74,269.77L52,272.12L53.26,267.35L55.65,263.84L56.87,269.67L58.13,284.12L59.35,288.51L63.09,270.96L64.35,269.83L68.08,278.22L69.22,272.08L70.48,274.19L71.7,273.23L72.96,279.79L74.18,276.07L75.43,282.31L76.69,277.36L79.17,273.12L80.39,274.53L81.65,272.12L82.91,273.43L84.05,275.83L85.31,273.81L86.52,276.98L87.78,276.09L89,266.95L90.26,277.61L91.52,273.59L92.74,276.18L94,280.47L95.22,274.17L96.48,275.46L97.74,275.47L98.91,274.47L100.17,275.19L101.39,275.89L102.65,268.53L103.87,264.11L105.13,269.17L106.39,272.61L107.61,280.74L108.87,283.49L110.09,279.96L111.34,279.43L112.6,283.42L113.74,274.47L115,277.71L116.22,277.52L117.48,264.22L118.7,257.53L119.96,256.84L123.69,282.51L124.91,279.71L126.17,280.52L127.43,287.73L128.57,283.12L129.83,287.86L131.05,281.99L132.31,264.65L134.78,242.93L136.04,274.27L137.26,280.63L138.52,291.75L139.74,292.78L141,284.5L142.26,290.59L143.4,276.78L144.65,281.5L145.87,272.62L147.13,268.76L148.35,245.68L149.61,241.54L150.87,270.02L153.35,291.28L154.57,284.07L155.83,282.75L157.08,293.43L158.26,298.76L159.52,274.96L160.74,272.76L162,261.42\" style=\"fill: rgb(99, 110, 250); fill-opacity: 0.5; stroke-width: 0;\"/></g></g><g class=\"errorbars\"/><g class=\"lines\"><path class=\"js-line\" d=\"M0,298.02L1.26,297.72L2.52,279.42L5,259.22L6.22,265.61L7.47,270.17L8.73,258.95L9.87,270.27L11.13,271.2L14.83,293.73L16.09,294.41L17.35,277.11L18.56,271.96L19.82,266.06L21.04,267.22L22.3,267.92L23.56,260.29L25.96,271.04L27.18,269.44L28.44,289.23L29.65,294.46L30.91,295.18L32.17,279.15L34.65,263.06L35.87,266.93L37.13,267.92L38.39,258.47L39.57,271.42L40.82,276.03L42.04,278.11L43.3,282.01L44.52,292.17L45.78,286.01L49.52,266.53L50.74,269.77L52,272.12L53.26,267.35L55.65,263.84L56.87,269.67L58.13,284.12L59.35,288.51L63.09,270.96L64.35,269.83L68.08,278.22L69.22,272.08L70.48,274.19L71.7,273.23L72.96,279.79L74.18,276.07L75.43,282.31L76.69,277.36L79.17,273.12L80.39,274.53L81.65,272.12L82.91,273.43L84.05,275.83L85.31,273.81L86.52,276.98L87.78,276.09L89,266.95L90.26,277.61L91.52,273.59L92.74,276.18L94,280.47L95.22,274.17L96.48,275.46L97.74,275.47L98.91,274.47L100.17,275.19L101.39,275.89L102.65,268.53L103.87,264.11L105.13,269.17L106.39,272.61L107.61,280.74L108.87,283.49L110.09,279.96L111.34,279.43L112.6,283.42L113.74,274.47L115,277.71L116.22,277.52L117.48,264.22L118.7,257.53L119.96,256.84L123.69,282.51L124.91,279.71L126.17,280.52L127.43,287.73L128.57,283.12L129.83,287.86L131.05,281.99L132.31,264.65L134.78,242.93L136.04,274.27L137.26,280.63L138.52,291.75L139.74,292.78L141,284.5L142.26,290.59L143.4,276.78L144.65,281.5L145.87,272.62L147.13,268.76L148.35,245.68L149.61,241.54L150.87,270.02L153.35,291.28L154.57,284.07L155.83,282.75L157.08,293.43L158.26,298.76L159.52,274.96L160.74,272.76L162,261.42\" style=\"vector-effect: none; fill: none; stroke: rgb(99, 110, 250); stroke-opacity: 1; stroke-width: 2px; opacity: 1;\"/></g><g class=\"points\"/><g class=\"text\"/></g></g></g><g class=\"overplot\"/><path class=\"xlines-above crisp\" d=\"M0,0\" style=\"fill: none;\"/><path class=\"ylines-above crisp\" d=\"M0,0\" style=\"fill: none;\"/><g class=\"overlines-above\"/><g class=\"xaxislayer-above\"><g class=\"x3tick\"><text text-anchor=\"middle\" x=\"0\" y=\"433\" transform=\"translate(465.47,0)\" style=\"font-family: 'Open Sans', verdana, arial, sans-serif; font-size: 12px; fill: rgb(42, 63, 95); fill-opacity: 1; white-space: pre; opacity: 1;\">1950</text></g><g class=\"x3tick\"><text text-anchor=\"middle\" x=\"0\" y=\"433\" style=\"font-family: 'Open Sans', verdana, arial, sans-serif; font-size: 12px; fill: rgb(42, 63, 95); fill-opacity: 1; white-space: pre; opacity: 1;\" transform=\"translate(539.65,0)\">1955</text></g><g class=\"x3tick\"><text text-anchor=\"middle\" x=\"0\" y=\"433\" style=\"font-family: 'Open Sans', verdana, arial, sans-serif; font-size: 12px; fill: rgb(42, 63, 95); fill-opacity: 1; white-space: pre; opacity: 1;\" transform=\"translate(613.83,0)\">1960</text></g></g><g class=\"yaxislayer-above\"><g class=\"y3tick\"><text text-anchor=\"end\" x=\"457\" y=\"4.199999999999999\" transform=\"translate(0,374.8)\" style=\"font-family: 'Open Sans', verdana, arial, sans-serif; font-size: 12px; fill: rgb(42, 63, 95); fill-opacity: 1; white-space: pre; opacity: 1;\">0</text></g><g class=\"y3tick\"><text text-anchor=\"end\" x=\"457\" y=\"4.199999999999999\" style=\"font-family: 'Open Sans', verdana, arial, sans-serif; font-size: 12px; fill: rgb(42, 63, 95); fill-opacity: 1; white-space: pre; opacity: 1;\" transform=\"translate(0,320.32)\">100</text></g><g class=\"y3tick\"><text text-anchor=\"end\" x=\"457\" y=\"4.199999999999999\" style=\"font-family: 'Open Sans', verdana, arial, sans-serif; font-size: 12px; fill: rgb(42, 63, 95); fill-opacity: 1; white-space: pre; opacity: 1;\" transform=\"translate(0,265.84000000000003)\">200</text></g><g class=\"y3tick\"><text text-anchor=\"end\" x=\"457\" y=\"4.199999999999999\" style=\"font-family: 'Open Sans', verdana, arial, sans-serif; font-size: 12px; fill: rgb(42, 63, 95); fill-opacity: 1; white-space: pre; opacity: 1;\" transform=\"translate(0,211.36)\">300</text></g><g class=\"y3tick\"><text text-anchor=\"end\" x=\"457\" y=\"4.199999999999999\" style=\"font-family: 'Open Sans', verdana, arial, sans-serif; font-size: 12px; fill: rgb(42, 63, 95); fill-opacity: 1; white-space: pre; opacity: 1;\" transform=\"translate(0,156.88)\">400</text></g><g class=\"y3tick\"><text text-anchor=\"end\" x=\"457\" y=\"4.199999999999999\" style=\"font-family: 'Open Sans', verdana, arial, sans-serif; font-size: 12px; fill: rgb(42, 63, 95); fill-opacity: 1; white-space: pre; opacity: 1;\" transform=\"translate(0,102.4)\">500</text></g></g><g class=\"overaxes-above\"/></g></g><g class=\"polarlayer\"/><g class=\"smithlayer\"/><g class=\"ternarylayer\"/><g class=\"geolayer\"/><g class=\"funnelarealayer\"/><g class=\"pielayer\"/><g class=\"iciclelayer\"/><g class=\"treemaplayer\"/><g class=\"sunburstlayer\"/><g class=\"glimages\"/><defs id=\"topdefs-35df72\"><g class=\"clips\"/></defs><g class=\"layer-above\"><g class=\"imagelayer\"/><g class=\"shapelayer\"/></g><g class=\"infolayer\"><g class=\"g-gtitle\"><text class=\"gtitle\" x=\"35\" y=\"50\" text-anchor=\"start\" dy=\"0em\" style=\"font-family: 'Open Sans', verdana, arial, sans-serif; font-size: 17px; fill: rgb(42, 63, 95); opacity: 1; font-weight: normal; white-space: pre;\">Additive Model: Components of Time Series</text></g><g class=\"g-xtitle\"><text class=\"xtitle\" x=\"161\" y=\"460.3\" text-anchor=\"middle\" style=\"font-family: 'Open Sans', verdana, arial, sans-serif; font-size: 14px; fill: rgb(42, 63, 95); opacity: 1; font-weight: normal; white-space: pre;\">Month</text></g><g class=\"g-x2title\"><text class=\"x2title\" x=\"350\" y=\"460.3\" text-anchor=\"middle\" style=\"font-family: 'Open Sans', verdana, arial, sans-serif; font-size: 14px; fill: rgb(42, 63, 95); opacity: 1; font-weight: normal; white-space: pre;\">Month</text></g><g class=\"g-x3title\"><text class=\"x3title\" x=\"539\" y=\"460.3\" text-anchor=\"middle\" style=\"font-family: 'Open Sans', verdana, arial, sans-serif; font-size: 14px; fill: rgb(42, 63, 95); opacity: 1; font-weight: normal; white-space: pre;\">Month</text></g><g class=\"g-ytitle\"><text class=\"ytitle\" transform=\"rotate(-90,31.809375000000003,260)\" x=\"31.809375000000003\" y=\"260\" text-anchor=\"middle\" style=\"font-family: 'Open Sans', verdana, arial, sans-serif; font-size: 14px; fill: rgb(42, 63, 95); opacity: 1; font-weight: normal; white-space: pre;\">value</text></g><g class=\"g-y2title\"/><g class=\"g-y3title\"/><g class=\"annotation\" data-index=\"0\" style=\"opacity: 1;\"><g class=\"annotation-text-g\" transform=\"rotate(0,161,90.5)\"><g class=\"cursor-pointer\" transform=\"translate(114,81)\"><rect class=\"bg\" x=\"0.5\" y=\"0.5\" width=\"93\" height=\"18\" style=\"stroke-width: 1px; stroke: rgb(0, 0, 0); stroke-opacity: 0; fill: rgb(0, 0, 0); fill-opacity: 0;\"/><text class=\"annotation-text\" text-anchor=\"middle\" x=\"46.875\" y=\"14\" style=\"font-family: 'Open Sans', verdana, arial, sans-serif; font-size: 12px; fill: rgb(42, 63, 95); fill-opacity: 1; white-space: pre;\">variable=trend</text></g></g></g><g class=\"annotation\" data-index=\"1\" style=\"opacity: 1;\"><g class=\"annotation-text-g\" transform=\"rotate(0,349.99999999999994,90.5)\"><g class=\"cursor-pointer\" transform=\"translate(293,81)\"><rect class=\"bg\" x=\"0.5\" y=\"0.5\" width=\"113\" height=\"18\" style=\"stroke-width: 1px; stroke: rgb(0, 0, 0); stroke-opacity: 0; fill: rgb(0, 0, 0); fill-opacity: 0;\"/><text class=\"annotation-text\" text-anchor=\"middle\" x=\"56.953125\" y=\"14\" style=\"font-family: 'Open Sans', verdana, arial, sans-serif; font-size: 12px; fill: rgb(42, 63, 95); fill-opacity: 1; white-space: pre;\">variable=seasonal</text></g></g></g><g class=\"annotation\" data-index=\"2\" style=\"opacity: 1;\"><g class=\"annotation-text-g\" transform=\"rotate(0,539,90.5)\"><g class=\"cursor-pointer\" transform=\"translate(485,81)\"><rect class=\"bg\" x=\"0.5\" y=\"0.5\" width=\"108\" height=\"18\" style=\"stroke-width: 1px; stroke: rgb(0, 0, 0); stroke-opacity: 0; fill: rgb(0, 0, 0); fill-opacity: 0;\"/><text class=\"annotation-text\" text-anchor=\"middle\" x=\"54.53125\" y=\"14\" style=\"font-family: 'Open Sans', verdana, arial, sans-serif; font-size: 12px; fill: rgb(42, 63, 95); fill-opacity: 1; white-space: pre;\">variable=residual</text></g></g></g></g></svg>"
      ]
     },
     "metadata": {},
     "output_type": "display_data"
    }
   ],
   "source": [
    "dff = df_component.melt(ignore_index=False)\n",
    "dff = dff.query('~variable.isin([\"Passengers\", \"component_sum\"])')\n",
    "\n",
    "fig = px.area(dff, x=dff.index, y='value', facet_col='variable', title='Additive Model: Components of Time Series', facet_col_spacing=0.05)\n",
    "\n",
    "# Ensure y-axis tick labels are visible for all subplots\n",
    "for axis in fig.layout:\n",
    "    if 'yaxis' in axis:\n",
    "        fig.layout[axis].showticklabels = True\n",
    "\n",
    "fig"
   ]
  }
 ],
 "metadata": {
  "kernelspec": {
   "display_name": "base",
   "language": "python",
   "name": "python3"
  },
  "language_info": {
   "codemirror_mode": {
    "name": "ipython",
    "version": 3
   },
   "file_extension": ".py",
   "mimetype": "text/x-python",
   "name": "python",
   "nbconvert_exporter": "python",
   "pygments_lexer": "ipython3",
   "version": "3.12.2"
  },
  "papermill": {
   "default_parameters": {},
   "duration": 3.112462,
   "end_time": "2024-05-29T22:25:27.306583",
   "environment_variables": {},
   "exception": null,
   "input_path": "/Users/sota/Library/CloudStorage/Dropbox/2 Business/1 Datons/2 Areas/Courses/22 TS/solutions-new/notebooks/20_Components/2_Additive/1.ipynb",
   "output_path": "/Users/sota/Library/CloudStorage/Dropbox/2 Business/1 Datons/2 Areas/Courses/22 TS/solutions-new/notebooks/20_Components/2_Additive/1.ipynb",
   "parameters": {},
   "start_time": "2024-05-29T22:25:24.194121",
   "version": "2.5.0"
  }
 },
 "nbformat": 4,
 "nbformat_minor": 5
}
