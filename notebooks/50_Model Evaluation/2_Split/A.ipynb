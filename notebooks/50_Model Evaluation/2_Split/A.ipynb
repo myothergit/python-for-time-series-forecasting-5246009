{
 "cells": [
  {
   "cell_type": "markdown",
   "id": "416b55df",
   "metadata": {
    "papermill": {
     "duration": 0.002212,
     "end_time": "2024-05-29T22:26:22.490527",
     "exception": false,
     "start_time": "2024-05-29T22:26:22.488315",
     "status": "completed"
    },
    "tags": []
   },
   "source": [
    "# Model Evaluation & Validation: Train Test Split"
   ]
  },
  {
   "cell_type": "markdown",
   "id": "7363fe5e",
   "metadata": {
    "papermill": {
     "duration": 0.001736,
     "end_time": "2024-05-29T22:26:22.494272",
     "exception": false,
     "start_time": "2024-05-29T22:26:22.492536",
     "status": "completed"
    },
    "tags": []
   },
   "source": [
    "## Overview"
   ]
  },
  {
   "cell_type": "markdown",
   "id": "979355d6",
   "metadata": {
    "papermill": {
     "duration": 0.001529,
     "end_time": "2024-05-29T22:26:22.497369",
     "exception": false,
     "start_time": "2024-05-29T22:26:22.495840",
     "status": "completed"
    },
    "tags": []
   },
   "source": [
    "<style>\n",
    "    table.custom-table {\n",
    "        max-width: 600px;\n",
    "        width: 100%;\n",
    "        margin: 0 auto; /* centers the table on the page */\n",
    "    }\n",
    "\n",
    "    table.custom-table td {\n",
    "        background-color: #fff;\n",
    "    }\n",
    "    \n",
    "    table.custom-table th, table.custom-table td {\n",
    "        text-align: center;\n",
    "        vertical-align: middle;\n",
    "        padding: 5px;\n",
    "        width: 600px; /* distribute the total width equally among three columns */\n",
    "    }\n",
    "\n",
    "    table.custom-table img {\n",
    "        width: 100%;\n",
    "        display: block; /* removes any gap under the image */\n",
    "    }\n",
    "</style>\n",
    "\n",
    "\n",
    "<table class=\"custom-table\">\n",
    "    <thead>\n",
    "        <tr>\n",
    "            <th>Why is Train Test Split necessary?</th>\n",
    "        </tr>\n",
    "    </thead>\n",
    "    <tbody>\n",
    "        <tr>\n",
    "            <td>\n",
    "                <img src=\"src/02_input.png\">\n",
    "            </td>\n",
    "        </tr>\n",
    "        <tr>\n",
    "            <td>\n",
    "                <img src=\"src/02_output_1.png\">\n",
    "            </td>\n",
    "        </tr>\n",
    "        <tr>\n",
    "            <td>\n",
    "                <img src=\"src/02_output_2.png\">\n",
    "            </td>\n",
    "        </tr>\n",
    "    </tbody>\n",
    "</table>"
   ]
  },
  {
   "cell_type": "markdown",
   "id": "3a258d5a",
   "metadata": {
    "papermill": {
     "duration": 0.001438,
     "end_time": "2024-05-29T22:26:22.500347",
     "exception": false,
     "start_time": "2024-05-29T22:26:22.498909",
     "status": "completed"
    },
    "tags": []
   },
   "source": [
    "## Data"
   ]
  },
  {
   "cell_type": "code",
   "execution_count": 1,
   "id": "5065c5cc",
   "metadata": {
    "execution": {
     "iopub.execute_input": "2024-05-29T22:26:22.503796Z",
     "iopub.status.busy": "2024-05-29T22:26:22.503672Z",
     "iopub.status.idle": "2024-05-29T22:26:22.511607Z",
     "shell.execute_reply": "2024-05-29T22:26:22.511364Z"
    },
    "papermill": {
     "duration": 0.010598,
     "end_time": "2024-05-29T22:26:22.512311",
     "exception": false,
     "start_time": "2024-05-29T22:26:22.501713",
     "status": "completed"
    },
    "tags": [
     "Fixed"
    ]
   },
   "outputs": [
    {
     "data": {
      "text/plain": [
       "Month\n",
       "1949-01-01    112\n",
       "1949-02-01    118\n",
       "             ... \n",
       "1960-11-01    390\n",
       "1960-12-01    432\n",
       "Freq: MS, Name: Passengers, Length: 144, dtype: int64"
      ]
     },
     "execution_count": 1,
     "metadata": {},
     "output_type": "execute_result"
    }
   ],
   "source": [
    "import pandas as pd\n",
    "\n",
    "df_passengers = pd.read_csv('../../../data/airline-passengers.csv', parse_dates=[\"Month\"], index_col=\"Month\")\n",
    "data = df_passengers.asfreq('MS')['Passengers']\n",
    "data"
   ]
  },
  {
   "cell_type": "markdown",
   "id": "3f81fe26",
   "metadata": {
    "papermill": {
     "duration": 0.001473,
     "end_time": "2024-05-29T22:26:22.515491",
     "exception": false,
     "start_time": "2024-05-29T22:26:22.514018",
     "status": "completed"
    },
    "tags": []
   },
   "source": [
    "## Previous Lesson: Overfitting Problem\n",
    "\n",
    "1. Evaluate the model on the same data used for training.\n",
    "2. Overfitting problem: the model is good to predict historical data, but not for the future.\n",
    "3. Businesses depend on predicting the future, not the past."
   ]
  },
  {
   "cell_type": "code",
   "execution_count": 2,
   "id": "26c36017",
   "metadata": {
    "execution": {
     "iopub.execute_input": "2024-05-29T22:26:22.518768Z",
     "iopub.status.busy": "2024-05-29T22:26:22.518685Z",
     "iopub.status.idle": "2024-05-29T22:26:23.985808Z",
     "shell.execute_reply": "2024-05-29T22:26:23.984891Z"
    },
    "papermill": {
     "duration": 1.471026,
     "end_time": "2024-05-29T22:26:23.987882",
     "exception": false,
     "start_time": "2024-05-29T22:26:22.516856",
     "status": "completed"
    },
    "tags": [
     "Fixed"
    ]
   },
   "outputs": [
    {
     "name": "stderr",
     "output_type": "stream",
     "text": [
      "/Users/sota/miniconda3/envs/work/lib/python3.12/site-packages/sklearn/metrics/_regression.py:483: FutureWarning: 'squared' is deprecated in version 1.4 and will be removed in 1.6. To calculate the root mean squared error, use the function'root_mean_squared_error'.\n",
      "  warnings.warn(\n"
     ]
    },
    {
     "data": {
      "text/plain": [
       "12.487395495743867"
      ]
     },
     "execution_count": 2,
     "metadata": {},
     "output_type": "execute_result"
    }
   ],
   "source": [
    "from statsmodels.tsa.arima.model import ARIMA \n",
    "from sklearn.metrics import mean_squared_error\n",
    "\n",
    "model = ARIMA(data, order=(0, 1, 2), seasonal_order=(1, 1, 1, 12))\n",
    "model_fit = model.fit()\n",
    "y_pred = model_fit.predict()\n",
    "score = mean_squared_error(data[1:], y_pred[1:], squared=False)\n",
    "score"
   ]
  },
  {
   "cell_type": "markdown",
   "id": "037612f4",
   "metadata": {
    "papermill": {
     "duration": 0.005743,
     "end_time": "2024-05-29T22:26:23.998527",
     "exception": false,
     "start_time": "2024-05-29T22:26:23.992784",
     "status": "completed"
    },
    "tags": []
   },
   "source": [
    "## Train Test Split: Detecting Overfitting"
   ]
  },
  {
   "cell_type": "markdown",
   "id": "86093866",
   "metadata": {
    "papermill": {
     "duration": 0.00468,
     "end_time": "2024-05-29T22:26:24.009434",
     "exception": false,
     "start_time": "2024-05-29T22:26:24.004754",
     "status": "completed"
    },
    "tags": []
   },
   "source": [
    "### Split Data"
   ]
  },
  {
   "cell_type": "code",
   "execution_count": null,
   "id": "907a1e7d",
   "metadata": {
    "execution": {
     "iopub.execute_input": "2024-05-29T22:26:24.022640Z",
     "iopub.status.busy": "2024-05-29T22:26:24.022246Z",
     "iopub.status.idle": "2024-05-29T22:26:24.036486Z",
     "shell.execute_reply": "2024-05-29T22:26:24.035906Z"
    },
    "papermill": {
     "duration": 0.024318,
     "end_time": "2024-05-29T22:26:24.037956",
     "exception": false,
     "start_time": "2024-05-29T22:26:24.013638",
     "status": "completed"
    },
    "tags": []
   },
   "outputs": [
    {
     "data": {
      "text/plain": [
       "Month\n",
       "1949-01-01    112\n",
       "1949-02-01    118\n",
       "             ... \n",
       "1957-03-01    356\n",
       "1957-04-01    348\n",
       "Freq: MS, Name: Passengers, Length: 100, dtype: int64"
      ]
     },
     "execution_count": null,
     "metadata": {},
     "output_type": "execute_result"
    }
   ],
   "source": []
  },
  {
   "cell_type": "code",
   "execution_count": null,
   "id": "4f4e5573",
   "metadata": {
    "execution": {
     "iopub.execute_input": "2024-05-29T22:26:24.047727Z",
     "iopub.status.busy": "2024-05-29T22:26:24.047110Z",
     "iopub.status.idle": "2024-05-29T22:26:24.055942Z",
     "shell.execute_reply": "2024-05-29T22:26:24.055502Z"
    },
    "papermill": {
     "duration": 0.017651,
     "end_time": "2024-05-29T22:26:24.059891",
     "exception": false,
     "start_time": "2024-05-29T22:26:24.042240",
     "status": "completed"
    },
    "tags": []
   },
   "outputs": [
    {
     "data": {
      "text/plain": [
       "Month\n",
       "1957-05-01    355\n",
       "1957-06-01    422\n",
       "             ... \n",
       "1960-11-01    390\n",
       "1960-12-01    432\n",
       "Freq: MS, Name: Passengers, Length: 44, dtype: int64"
      ]
     },
     "execution_count": null,
     "metadata": {},
     "output_type": "execute_result"
    }
   ],
   "source": []
  },
  {
   "cell_type": "markdown",
   "id": "79646823",
   "metadata": {
    "papermill": {
     "duration": 0.002561,
     "end_time": "2024-05-29T22:26:24.647655",
     "exception": false,
     "start_time": "2024-05-29T22:26:24.645094",
     "status": "completed"
    },
    "tags": []
   },
   "source": [
    "### Evaluate Model on Test Data"
   ]
  },
  {
   "cell_type": "code",
   "execution_count": 6,
   "id": "f0c30e2f",
   "metadata": {
    "execution": {
     "iopub.execute_input": "2024-05-29T22:26:24.651857Z",
     "iopub.status.busy": "2024-05-29T22:26:24.651711Z",
     "iopub.status.idle": "2024-05-29T22:26:24.991299Z",
     "shell.execute_reply": "2024-05-29T22:26:24.990643Z"
    },
    "papermill": {
     "duration": 0.344916,
     "end_time": "2024-05-29T22:26:24.994434",
     "exception": false,
     "start_time": "2024-05-29T22:26:24.649518",
     "status": "completed"
    },
    "tags": [
     "Fixed"
    ]
   },
   "outputs": [
    {
     "name": "stderr",
     "output_type": "stream",
     "text": [
      "/Users/sota/miniconda3/envs/work/lib/python3.12/site-packages/sklearn/metrics/_regression.py:483: FutureWarning:\n",
      "\n",
      "'squared' is deprecated in version 1.4 and will be removed in 1.6. To calculate the root mean squared error, use the function'root_mean_squared_error'.\n",
      "\n"
     ]
    },
    {
     "data": {
      "text/plain": [
       "12.487395495743867"
      ]
     },
     "execution_count": 6,
     "metadata": {},
     "output_type": "execute_result"
    }
   ],
   "source": [
    "model = ARIMA(data_train, order=(0, 1, 2), seasonal_order=(1, 1, 1, 12)) \n",
    "model_fit = model.fit()\n",
    "y_pred_test = model_fit.forecast(len(data_test))\n",
    "score_test = mean_squared_error(data_test, y_pred_test, squared=False)\n",
    "score"
   ]
  },
  {
   "cell_type": "markdown",
   "id": "577f99c4",
   "metadata": {
    "papermill": {
     "duration": 0.006611,
     "end_time": "2024-05-29T22:26:25.006283",
     "exception": false,
     "start_time": "2024-05-29T22:26:24.999672",
     "status": "completed"
    },
    "tags": []
   },
   "source": [
    "### Evaluate Model on Train Data"
   ]
  },
  {
   "cell_type": "code",
   "execution_count": 7,
   "id": "e0c232af",
   "metadata": {
    "execution": {
     "iopub.execute_input": "2024-05-29T22:26:25.017442Z",
     "iopub.status.busy": "2024-05-29T22:26:25.015838Z",
     "iopub.status.idle": "2024-05-29T22:26:25.024101Z",
     "shell.execute_reply": "2024-05-29T22:26:25.023204Z"
    },
    "papermill": {
     "duration": 0.014541,
     "end_time": "2024-05-29T22:26:25.027176",
     "exception": false,
     "start_time": "2024-05-29T22:26:25.012635",
     "status": "completed"
    },
    "tags": [
     "Fixed"
    ]
   },
   "outputs": [
    {
     "name": "stderr",
     "output_type": "stream",
     "text": [
      "/Users/sota/miniconda3/envs/work/lib/python3.12/site-packages/sklearn/metrics/_regression.py:483: FutureWarning:\n",
      "\n",
      "'squared' is deprecated in version 1.4 and will be removed in 1.6. To calculate the root mean squared error, use the function'root_mean_squared_error'.\n",
      "\n"
     ]
    },
    {
     "data": {
      "text/plain": [
       "11.37028559033624"
      ]
     },
     "execution_count": 7,
     "metadata": {},
     "output_type": "execute_result"
    }
   ],
   "source": [
    "y_pred_train = model_fit.predict() \n",
    "score_train = mean_squared_error(data_train[1:], y_pred_train[1:], squared=False)\n",
    "score_train"
   ]
  },
  {
   "cell_type": "markdown",
   "id": "5bba32b7",
   "metadata": {
    "papermill": {
     "duration": 0.003684,
     "end_time": "2024-05-29T22:26:25.036536",
     "exception": false,
     "start_time": "2024-05-29T22:26:25.032852",
     "status": "completed"
    },
    "tags": []
   },
   "source": [
    "### Visualize Overfitting"
   ]
  },
  {
   "cell_type": "code",
   "execution_count": null,
   "id": "b17d398d",
   "metadata": {
    "execution": {
     "iopub.execute_input": "2024-05-29T22:26:25.049476Z",
     "iopub.status.busy": "2024-05-29T22:26:25.048042Z",
     "iopub.status.idle": "2024-05-29T22:26:25.057084Z",
     "shell.execute_reply": "2024-05-29T22:26:25.055688Z"
    },
    "papermill": {
     "duration": 0.017556,
     "end_time": "2024-05-29T22:26:25.058971",
     "exception": false,
     "start_time": "2024-05-29T22:26:25.041415",
     "status": "completed"
    },
    "tags": []
   },
   "outputs": [],
   "source": []
  },
  {
   "cell_type": "markdown",
   "id": "bb530a03",
   "metadata": {
    "papermill": {
     "duration": 0.006884,
     "end_time": "2024-05-29T22:26:25.231855",
     "exception": false,
     "start_time": "2024-05-29T22:26:25.224971",
     "status": "completed"
    },
    "tags": []
   },
   "source": [
    "## [ ] Model Comparison: SARIMA vs Exponential Smoothing"
   ]
  },
  {
   "cell_type": "markdown",
   "id": "9479793b",
   "metadata": {
    "papermill": {
     "duration": 0.002679,
     "end_time": "2024-05-29T22:26:25.239554",
     "exception": false,
     "start_time": "2024-05-29T22:26:25.236875",
     "status": "completed"
    },
    "tags": []
   },
   "source": [
    "### Fit the Model"
   ]
  },
  {
   "cell_type": "code",
   "execution_count": null,
   "id": "996dd2b2",
   "metadata": {
    "execution": {
     "iopub.execute_input": "2024-05-29T22:26:25.244621Z",
     "iopub.status.busy": "2024-05-29T22:26:25.244498Z",
     "iopub.status.idle": "2024-05-29T22:26:25.287524Z",
     "shell.execute_reply": "2024-05-29T22:26:25.287261Z"
    },
    "papermill": {
     "duration": 0.04637,
     "end_time": "2024-05-29T22:26:25.288424",
     "exception": false,
     "start_time": "2024-05-29T22:26:25.242054",
     "status": "completed"
    },
    "tags": []
   },
   "outputs": [],
   "source": []
  },
  {
   "cell_type": "markdown",
   "id": "6a0171f8",
   "metadata": {
    "papermill": {
     "duration": 0.001965,
     "end_time": "2024-05-29T22:26:25.294417",
     "exception": false,
     "start_time": "2024-05-29T22:26:25.292452",
     "status": "completed"
    },
    "tags": []
   },
   "source": [
    "### Forecast: Calculate Predictions"
   ]
  },
  {
   "cell_type": "code",
   "execution_count": null,
   "id": "0da38cf0",
   "metadata": {
    "execution": {
     "iopub.execute_input": "2024-05-29T22:26:25.301027Z",
     "iopub.status.busy": "2024-05-29T22:26:25.300910Z",
     "iopub.status.idle": "2024-05-29T22:26:25.307527Z",
     "shell.execute_reply": "2024-05-29T22:26:25.307300Z"
    },
    "papermill": {
     "duration": 0.010109,
     "end_time": "2024-05-29T22:26:25.308391",
     "exception": false,
     "start_time": "2024-05-29T22:26:25.298282",
     "status": "completed"
    },
    "tags": []
   },
   "outputs": [
    {
     "data": {
      "text/html": [
       "<div>\n",
       "<style scoped>\n",
       "    .dataframe tbody tr th:only-of-type {\n",
       "        vertical-align: middle;\n",
       "    }\n",
       "\n",
       "    .dataframe tbody tr th {\n",
       "        vertical-align: top;\n",
       "    }\n",
       "\n",
       "    .dataframe thead th {\n",
       "        text-align: right;\n",
       "    }\n",
       "</style>\n",
       "<table border=\"1\" class=\"dataframe\">\n",
       "  <thead>\n",
       "    <tr style=\"text-align: right;\">\n",
       "      <th></th>\n",
       "      <th>train</th>\n",
       "      <th>test</th>\n",
       "      <th>train_forecast_sarima</th>\n",
       "      <th>test_forecast_sarima</th>\n",
       "      <th>test_forecast_exponential</th>\n",
       "    </tr>\n",
       "  </thead>\n",
       "  <tbody>\n",
       "    <tr>\n",
       "      <th>1949-01-01</th>\n",
       "      <td>112.0</td>\n",
       "      <td>NaN</td>\n",
       "      <td>0.00000</td>\n",
       "      <td>NaN</td>\n",
       "      <td>NaN</td>\n",
       "    </tr>\n",
       "    <tr>\n",
       "      <th>1949-02-01</th>\n",
       "      <td>118.0</td>\n",
       "      <td>NaN</td>\n",
       "      <td>111.99867</td>\n",
       "      <td>NaN</td>\n",
       "      <td>NaN</td>\n",
       "    </tr>\n",
       "    <tr>\n",
       "      <th>...</th>\n",
       "      <td>...</td>\n",
       "      <td>...</td>\n",
       "      <td>...</td>\n",
       "      <td>...</td>\n",
       "      <td>...</td>\n",
       "    </tr>\n",
       "    <tr>\n",
       "      <th>1960-11-01</th>\n",
       "      <td>NaN</td>\n",
       "      <td>390.0</td>\n",
       "      <td>NaN</td>\n",
       "      <td>418.207799</td>\n",
       "      <td>379.605076</td>\n",
       "    </tr>\n",
       "    <tr>\n",
       "      <th>1960-12-01</th>\n",
       "      <td>NaN</td>\n",
       "      <td>432.0</td>\n",
       "      <td>NaN</td>\n",
       "      <td>454.311865</td>\n",
       "      <td>417.035511</td>\n",
       "    </tr>\n",
       "  </tbody>\n",
       "</table>\n",
       "<p>144 rows × 5 columns</p>\n",
       "</div>"
      ],
      "text/plain": [
       "            train   test  train_forecast_sarima  test_forecast_sarima  \\\n",
       "1949-01-01  112.0    NaN                0.00000                   NaN   \n",
       "1949-02-01  118.0    NaN              111.99867                   NaN   \n",
       "...           ...    ...                    ...                   ...   \n",
       "1960-11-01    NaN  390.0                    NaN            418.207799   \n",
       "1960-12-01    NaN  432.0                    NaN            454.311865   \n",
       "\n",
       "            test_forecast_exponential  \n",
       "1949-01-01                        NaN  \n",
       "1949-02-01                        NaN  \n",
       "...                               ...  \n",
       "1960-11-01                 379.605076  \n",
       "1960-12-01                 417.035511  \n",
       "\n",
       "[144 rows x 5 columns]"
      ]
     },
     "execution_count": null,
     "metadata": {},
     "output_type": "execute_result"
    }
   ],
   "source": []
  },
  {
   "cell_type": "code",
   "execution_count": null,
   "id": "5bfad67d",
   "metadata": {
    "execution": {
     "iopub.execute_input": "2024-05-29T22:26:25.313212Z",
     "iopub.status.busy": "2024-05-29T22:26:25.313027Z",
     "iopub.status.idle": "2024-05-29T22:26:25.314620Z",
     "shell.execute_reply": "2024-05-29T22:26:25.314432Z"
    },
    "papermill": {
     "duration": 0.004695,
     "end_time": "2024-05-29T22:26:25.315357",
     "exception": false,
     "start_time": "2024-05-29T22:26:25.310662",
     "status": "completed"
    },
    "tags": []
   },
   "outputs": [],
   "source": []
  },
  {
   "cell_type": "code",
   "execution_count": null,
   "id": "f4b96372",
   "metadata": {
    "execution": {
     "iopub.execute_input": "2024-05-29T22:26:25.319669Z",
     "iopub.status.busy": "2024-05-29T22:26:25.319583Z",
     "iopub.status.idle": "2024-05-29T22:26:25.323215Z",
     "shell.execute_reply": "2024-05-29T22:26:25.322972Z"
    },
    "papermill": {
     "duration": 0.006507,
     "end_time": "2024-05-29T22:26:25.323936",
     "exception": false,
     "start_time": "2024-05-29T22:26:25.317429",
     "status": "completed"
    },
    "tags": []
   },
   "outputs": [
    {
     "data": {
      "text/html": [
       "<div>\n",
       "<style scoped>\n",
       "    .dataframe tbody tr th:only-of-type {\n",
       "        vertical-align: middle;\n",
       "    }\n",
       "\n",
       "    .dataframe tbody tr th {\n",
       "        vertical-align: top;\n",
       "    }\n",
       "\n",
       "    .dataframe thead th {\n",
       "        text-align: right;\n",
       "    }\n",
       "</style>\n",
       "<table border=\"1\" class=\"dataframe\">\n",
       "  <thead>\n",
       "    <tr style=\"text-align: right;\">\n",
       "      <th></th>\n",
       "      <th>test</th>\n",
       "      <th>test_forecast_sarima</th>\n",
       "      <th>test_forecast_exponential</th>\n",
       "    </tr>\n",
       "  </thead>\n",
       "  <tbody>\n",
       "    <tr>\n",
       "      <th>1957-05-01</th>\n",
       "      <td>355.0</td>\n",
       "      <td>352.272795</td>\n",
       "      <td>351.239543</td>\n",
       "    </tr>\n",
       "    <tr>\n",
       "      <th>1957-06-01</th>\n",
       "      <td>422.0</td>\n",
       "      <td>406.086678</td>\n",
       "      <td>403.308153</td>\n",
       "    </tr>\n",
       "    <tr>\n",
       "      <th>...</th>\n",
       "      <td>...</td>\n",
       "      <td>...</td>\n",
       "      <td>...</td>\n",
       "    </tr>\n",
       "    <tr>\n",
       "      <th>1960-11-01</th>\n",
       "      <td>390.0</td>\n",
       "      <td>418.207799</td>\n",
       "      <td>379.605076</td>\n",
       "    </tr>\n",
       "    <tr>\n",
       "      <th>1960-12-01</th>\n",
       "      <td>432.0</td>\n",
       "      <td>454.311865</td>\n",
       "      <td>417.035511</td>\n",
       "    </tr>\n",
       "  </tbody>\n",
       "</table>\n",
       "<p>44 rows × 3 columns</p>\n",
       "</div>"
      ],
      "text/plain": [
       "             test  test_forecast_sarima  test_forecast_exponential\n",
       "1957-05-01  355.0            352.272795                 351.239543\n",
       "1957-06-01  422.0            406.086678                 403.308153\n",
       "...           ...                   ...                        ...\n",
       "1960-11-01  390.0            418.207799                 379.605076\n",
       "1960-12-01  432.0            454.311865                 417.035511\n",
       "\n",
       "[44 rows x 3 columns]"
      ]
     },
     "execution_count": null,
     "metadata": {},
     "output_type": "execute_result"
    }
   ],
   "source": []
  },
  {
   "cell_type": "code",
   "execution_count": null,
   "id": "a839ce12",
   "metadata": {
    "execution": {
     "iopub.execute_input": "2024-05-29T22:26:25.328928Z",
     "iopub.status.busy": "2024-05-29T22:26:25.328820Z",
     "iopub.status.idle": "2024-05-29T22:26:25.362489Z",
     "shell.execute_reply": "2024-05-29T22:26:25.362164Z"
    },
    "papermill": {
     "duration": 0.037066,
     "end_time": "2024-05-29T22:26:25.363359",
     "exception": false,
     "start_time": "2024-05-29T22:26:25.326293",
     "status": "completed"
    },
    "tags": []
   },
   "outputs": [
    {
     "data": {
      "image/svg+xml": [
       "<svg class=\"main-svg\" xmlns=\"http://www.w3.org/2000/svg\" xmlns:xlink=\"http://www.w3.org/1999/xlink\" width=\"700\" height=\"500\" style=\"\" viewBox=\"0 0 700 500\"><rect x=\"0\" y=\"0\" width=\"700\" height=\"500\" style=\"fill: rgb(255, 255, 255); fill-opacity: 1;\"/><defs id=\"defs-c4a7c3\"><g class=\"clips\"><clipPath id=\"clipc4a7c3xyplot\" class=\"plotclip\"><rect width=\"398\" height=\"360\"/></clipPath><clipPath class=\"axesclip\" id=\"clipc4a7c3x\"><rect x=\"80\" y=\"0\" width=\"398\" height=\"500\"/></clipPath><clipPath class=\"axesclip\" id=\"clipc4a7c3y\"><rect x=\"0\" y=\"60\" width=\"700\" height=\"360\"/></clipPath><clipPath class=\"axesclip\" id=\"clipc4a7c3xy\"><rect x=\"80\" y=\"60\" width=\"398\" height=\"360\"/></clipPath></g><g class=\"gradients\"/><g class=\"patterns\"/></defs><g class=\"bglayer\"><rect class=\"bg\" x=\"80\" y=\"60\" width=\"398\" height=\"360\" style=\"fill: rgb(229, 236, 246); fill-opacity: 1; stroke-width: 0;\"/></g><g class=\"layer-below\"><g class=\"imagelayer\"/><g class=\"shapelayer\"/></g><g class=\"cartesianlayer\"><g class=\"subplot xy\"><g class=\"layer-subplot\"><g class=\"shapelayer\"/><g class=\"imagelayer\"/></g><g class=\"minor-gridlayer\"><g class=\"x\"/><g class=\"y\"/></g><g class=\"gridlayer\"><g class=\"x\"><path class=\"xgrid crisp\" transform=\"translate(113.38,0)\" d=\"M0,60v360\" style=\"stroke: rgb(255, 255, 255); stroke-opacity: 1; stroke-width: 1px;\"/><path class=\"xgrid crisp\" transform=\"translate(180.14,0)\" d=\"M0,60v360\" style=\"stroke: rgb(255, 255, 255); stroke-opacity: 1; stroke-width: 1px;\"/><path class=\"xgrid crisp\" transform=\"translate(246.99,0)\" d=\"M0,60v360\" style=\"stroke: rgb(255, 255, 255); stroke-opacity: 1; stroke-width: 1px;\"/><path class=\"xgrid crisp\" transform=\"translate(313.75,0)\" d=\"M0,60v360\" style=\"stroke: rgb(255, 255, 255); stroke-opacity: 1; stroke-width: 1px;\"/><path class=\"xgrid crisp\" transform=\"translate(380.6,0)\" d=\"M0,60v360\" style=\"stroke: rgb(255, 255, 255); stroke-opacity: 1; stroke-width: 1px;\"/><path class=\"xgrid crisp\" transform=\"translate(447.36,0)\" d=\"M0,60v360\" style=\"stroke: rgb(255, 255, 255); stroke-opacity: 1; stroke-width: 1px;\"/></g><g class=\"y\"><path class=\"ygrid crisp\" transform=\"translate(0,404.5)\" d=\"M80,0h398\" style=\"stroke: rgb(255, 255, 255); stroke-opacity: 1; stroke-width: 1px;\"/><path class=\"ygrid crisp\" transform=\"translate(0,341.95)\" d=\"M80,0h398\" style=\"stroke: rgb(255, 255, 255); stroke-opacity: 1; stroke-width: 1px;\"/><path class=\"ygrid crisp\" transform=\"translate(0,279.40999999999997)\" d=\"M80,0h398\" style=\"stroke: rgb(255, 255, 255); stroke-opacity: 1; stroke-width: 1px;\"/><path class=\"ygrid crisp\" transform=\"translate(0,216.86)\" d=\"M80,0h398\" style=\"stroke: rgb(255, 255, 255); stroke-opacity: 1; stroke-width: 1px;\"/><path class=\"ygrid crisp\" transform=\"translate(0,154.31)\" d=\"M80,0h398\" style=\"stroke: rgb(255, 255, 255); stroke-opacity: 1; stroke-width: 1px;\"/><path class=\"ygrid crisp\" transform=\"translate(0,91.76)\" d=\"M80,0h398\" style=\"stroke: rgb(255, 255, 255); stroke-opacity: 1; stroke-width: 1px;\"/></g></g><g class=\"zerolinelayer\"/><path class=\"xlines-below\"/><path class=\"ylines-below\"/><g class=\"overlines-below\"/><g class=\"xaxislayer-below\"/><g class=\"yaxislayer-below\"/><g class=\"overaxes-below\"/><g class=\"plot\" transform=\"translate(80,60)\" clip-path=\"url(#clipc4a7c3xyplot)\"><g class=\"scatterlayer mlayer\"><g class=\"trace scatter tracee8d30f\" style=\"stroke-miterlimit: 2; opacity: 1;\"><g class=\"fills\"/><g class=\"errorbars\"/><g class=\"lines\"><path class=\"js-line\" d=\"M278.2,185L281.03,143.1L283.78,116.2L286.61,114.95L289.45,154.36L292.19,190.01L295.02,216.28L297.77,196.89L300.6,194.39L303.44,208.15L306,180.63L308.83,189.38L311.58,180L317.16,99.94L319.99,91.18L322.83,154.36L325.57,182.5L328.4,213.15L331.15,196.26L333.98,181.88L336.82,193.14L339.38,153.1L342.21,159.36L344.96,144.35L347.79,111.82L350.54,64.29L353.37,57.41L356.21,117.45L358.95,152.48L361.78,180.63L364.53,153.73L367.36,146.22L370.2,162.49L372.85,144.97L375.69,118.7L378.43,111.82L381.26,72.42L384.01,18L386.84,28.01L389.68,89.31L392.42,118.7L395.26,163.11L398,136.84\" style=\"vector-effect: none; fill: none; stroke: rgb(99, 110, 250); stroke-opacity: 1; stroke-width: 2px; opacity: 1;\"/></g><g class=\"points\"/><g class=\"text\"/></g><g class=\"trace scatter trace449c58\" style=\"stroke-miterlimit: 2; opacity: 1;\"><g class=\"fills\"/><g class=\"errorbars\"/><g class=\"lines\"><path class=\"js-line\" d=\"M278.2,186.71L283.78,127.28L286.61,133.51L295.02,214.25L297.77,191.49L300.6,186.29L303.44,194.12L306,161.67L308.83,166.17L311.58,163.39L314.41,129.39L317.16,103.96L319.99,109.89L328.4,191.38L331.15,168.84L333.98,163.54L336.82,171.59L339.38,138.66L342.21,143.29L344.96,140.53L347.79,106.61L350.54,81.1L353.37,87.1L361.78,168.41L364.53,145.82L367.36,140.54L370.2,148.54L372.85,115.72L375.69,120.32L378.43,117.56L381.26,83.62L384.01,58.13L386.84,64.11L395.26,145.47L398,122.89\" style=\"vector-effect: none; fill: none; stroke: rgb(239, 85, 59); stroke-opacity: 1; stroke-width: 2px; opacity: 1;\"/></g><g class=\"points\"/><g class=\"text\"/></g><g class=\"trace scatter trace6a3205\" style=\"stroke-miterlimit: 2; opacity: 1;\"><g class=\"fills\"/><g class=\"errorbars\"/><g class=\"lines\"><path class=\"js-line\" d=\"M278.2,187.36L281.03,154.79L283.78,131.88L286.61,140.09L289.45,171.89L292.19,201.2L295.02,221.97L297.77,198.56L300.6,192.26L303.44,199.51L306,166.58L308.83,172.94L311.58,169.9L314.41,137.34L317.16,114.43L319.99,122.64L322.83,154.43L325.57,183.75L328.4,204.52L331.15,181.11L333.98,174.8L336.82,182.06L339.38,149.13L342.21,155.49L344.96,152.45L347.79,119.88L350.54,96.97L353.37,105.19L356.21,136.98L358.95,166.29L361.78,187.07L364.53,163.65L367.36,157.35L370.2,164.61L372.85,131.68L375.69,138.04L378.43,135L381.26,102.43L384.01,79.52L386.84,87.74L389.68,119.53L392.42,148.84L395.26,169.61L398,146.2\" style=\"vector-effect: none; fill: none; stroke: rgb(0, 204, 150); stroke-opacity: 1; stroke-width: 2px; opacity: 1;\"/></g><g class=\"points\"/><g class=\"text\"/></g><g class=\"trace scatter trace52c891\" style=\"stroke-miterlimit: 2; opacity: 1;\"><g class=\"fills\"/><g class=\"errorbars\"/><g class=\"lines\"><path class=\"js-line\" d=\"M0,337L2.84,333.24L5.4,324.49L8.23,326.36L10.97,331.37L16.55,314.48L19.39,314.48L22.22,321.98L24.97,332.62L27.8,342L30.55,333.24L33.38,335.12L36.22,328.24L38.78,318.86L41.61,322.61L44.35,328.86L47.19,313.85L49.93,300.72L52.77,300.72L55.6,308.22L58.35,323.86L61.18,335.75L63.93,319.48L69.6,313.23L72.16,295.71L74.99,305.1L77.73,299.47L80.57,295.71L83.31,282.58L86.15,282.58L88.98,291.96L91.73,305.72L94.56,315.73L97.31,303.22L100.14,300.09L102.98,294.46L105.63,286.33L108.46,293.84L111.21,292.59L114.04,270.69L116.78,263.19L119.62,255.68L122.45,276.32L128.03,299.47L130.78,285.71L133.61,284.46L136.45,284.46L139.01,259.44L141.84,260.06L144.59,263.81L147.42,255.06L150.16,241.92L153,236.92L158.58,275.07L161.41,294.46L164.16,281.33L166.99,279.45L169.83,289.46L172.39,260.06L175.22,265.07L177.97,260.69L180.8,241.92L183.54,218.15L186.38,223.78L189.21,245.05L194.79,280.08L197.54,263.81L200.37,255.68L203.21,261.31L205.77,240.05L208.6,238.8L211.35,238.17L214.18,210.02L216.92,179.37L219.76,190.01L228.17,258.81L230.92,233.17L233.75,229.41L236.59,233.79L239.24,208.77L242.07,211.27L244.82,208.15L247.65,173.12L250.4,148.73L253.23,153.73L258.81,215.65L261.64,237.54L264.39,215.65L267.22,210.02L270.06,218.78L272.62,184.38L275.45,189.38\" style=\"vector-effect: none; fill: none; stroke: rgb(171, 99, 250); stroke-opacity: 1; stroke-width: 2px; opacity: 1;\"/></g><g class=\"points\"/><g class=\"text\"/></g></g></g><g class=\"overplot\"/><path class=\"xlines-above crisp\" d=\"M0,0\" style=\"fill: none;\"/><path class=\"ylines-above crisp\" d=\"M0,0\" style=\"fill: none;\"/><g class=\"overlines-above\"/><g class=\"xaxislayer-above\"><g class=\"xtick\"><text text-anchor=\"middle\" x=\"0\" y=\"433\" transform=\"translate(113.38,0)\" style=\"font-family: 'Open Sans', verdana, arial, sans-serif; font-size: 12px; fill: rgb(42, 63, 95); fill-opacity: 1; white-space: pre; opacity: 1;\">1950</text></g><g class=\"xtick\"><text text-anchor=\"middle\" x=\"0\" y=\"433\" style=\"font-family: 'Open Sans', verdana, arial, sans-serif; font-size: 12px; fill: rgb(42, 63, 95); fill-opacity: 1; white-space: pre; opacity: 1;\" transform=\"translate(180.14,0)\">1952</text></g><g class=\"xtick\"><text text-anchor=\"middle\" x=\"0\" y=\"433\" style=\"font-family: 'Open Sans', verdana, arial, sans-serif; font-size: 12px; fill: rgb(42, 63, 95); fill-opacity: 1; white-space: pre; opacity: 1;\" transform=\"translate(246.99,0)\">1954</text></g><g class=\"xtick\"><text text-anchor=\"middle\" x=\"0\" y=\"433\" style=\"font-family: 'Open Sans', verdana, arial, sans-serif; font-size: 12px; fill: rgb(42, 63, 95); fill-opacity: 1; white-space: pre; opacity: 1;\" transform=\"translate(313.75,0)\">1956</text></g><g class=\"xtick\"><text text-anchor=\"middle\" x=\"0\" y=\"433\" style=\"font-family: 'Open Sans', verdana, arial, sans-serif; font-size: 12px; fill: rgb(42, 63, 95); fill-opacity: 1; white-space: pre; opacity: 1;\" transform=\"translate(380.6,0)\">1958</text></g><g class=\"xtick\"><text text-anchor=\"middle\" x=\"0\" y=\"433\" style=\"font-family: 'Open Sans', verdana, arial, sans-serif; font-size: 12px; fill: rgb(42, 63, 95); fill-opacity: 1; white-space: pre; opacity: 1;\" transform=\"translate(447.36,0)\">1960</text></g></g><g class=\"yaxislayer-above\"><g class=\"ytick\"><text text-anchor=\"end\" x=\"79\" y=\"4.199999999999999\" transform=\"translate(0,404.5)\" style=\"font-family: 'Open Sans', verdana, arial, sans-serif; font-size: 12px; fill: rgb(42, 63, 95); fill-opacity: 1; white-space: pre; opacity: 1;\">100</text></g><g class=\"ytick\"><text text-anchor=\"end\" x=\"79\" y=\"4.199999999999999\" style=\"font-family: 'Open Sans', verdana, arial, sans-serif; font-size: 12px; fill: rgb(42, 63, 95); fill-opacity: 1; white-space: pre; opacity: 1;\" transform=\"translate(0,341.95)\">200</text></g><g class=\"ytick\"><text text-anchor=\"end\" x=\"79\" y=\"4.199999999999999\" style=\"font-family: 'Open Sans', verdana, arial, sans-serif; font-size: 12px; fill: rgb(42, 63, 95); fill-opacity: 1; white-space: pre; opacity: 1;\" transform=\"translate(0,279.40999999999997)\">300</text></g><g class=\"ytick\"><text text-anchor=\"end\" x=\"79\" y=\"4.199999999999999\" style=\"font-family: 'Open Sans', verdana, arial, sans-serif; font-size: 12px; fill: rgb(42, 63, 95); fill-opacity: 1; white-space: pre; opacity: 1;\" transform=\"translate(0,216.86)\">400</text></g><g class=\"ytick\"><text text-anchor=\"end\" x=\"79\" y=\"4.199999999999999\" style=\"font-family: 'Open Sans', verdana, arial, sans-serif; font-size: 12px; fill: rgb(42, 63, 95); fill-opacity: 1; white-space: pre; opacity: 1;\" transform=\"translate(0,154.31)\">500</text></g><g class=\"ytick\"><text text-anchor=\"end\" x=\"79\" y=\"4.199999999999999\" style=\"font-family: 'Open Sans', verdana, arial, sans-serif; font-size: 12px; fill: rgb(42, 63, 95); fill-opacity: 1; white-space: pre; opacity: 1;\" transform=\"translate(0,91.76)\">600</text></g></g><g class=\"overaxes-above\"/></g></g><g class=\"polarlayer\"/><g class=\"smithlayer\"/><g class=\"ternarylayer\"/><g class=\"geolayer\"/><g class=\"funnelarealayer\"/><g class=\"pielayer\"/><g class=\"iciclelayer\"/><g class=\"treemaplayer\"/><g class=\"sunburstlayer\"/><g class=\"glimages\"/><defs id=\"topdefs-c4a7c3\"><g class=\"clips\"/><clipPath id=\"legendc4a7c3\"><rect width=\"202\" height=\"105\" x=\"0\" y=\"0\"/></clipPath></defs><g class=\"layer-above\"><g class=\"imagelayer\"/><g class=\"shapelayer\"/></g><g class=\"infolayer\"><g class=\"legend\" pointer-events=\"all\" transform=\"translate(485.96,60)\"><rect class=\"bg\" shape-rendering=\"crispEdges\" style=\"stroke: rgb(68, 68, 68); stroke-opacity: 1; fill: rgb(255, 255, 255); fill-opacity: 1; stroke-width: 0px;\" width=\"202\" height=\"105\" x=\"0\" y=\"0\"/><g class=\"scrollbox\" transform=\"\" clip-path=\"url(#legendc4a7c3)\"><text class=\"legendtitletext\" text-anchor=\"start\" x=\"2\" y=\"18.2\" style=\"font-family: 'Open Sans', verdana, arial, sans-serif; font-size: 14px; fill: rgb(42, 63, 95); fill-opacity: 1; white-space: pre;\">variable</text><g class=\"groups\" transform=\"\"><g class=\"traces\" transform=\"translate(0,32.7)\" style=\"opacity: 1;\"><text class=\"legendtext\" text-anchor=\"start\" x=\"40\" y=\"4.680000000000001\" style=\"font-family: 'Open Sans', verdana, arial, sans-serif; font-size: 12px; fill: rgb(42, 63, 95); fill-opacity: 1; white-space: pre;\">test</text><g class=\"layers\" style=\"opacity: 1;\"><g class=\"legendfill\"/><g class=\"legendlines\"><path class=\"js-line\" d=\"M5,0h30\" style=\"fill: none; stroke: rgb(99, 110, 250); stroke-opacity: 1; stroke-width: 2px;\"/></g><g class=\"legendsymbols\"><g class=\"legendpoints\"/></g></g><rect class=\"legendtoggle\" x=\"0\" y=\"-9.5\" width=\"196.203125\" height=\"19\" style=\"fill: rgb(0, 0, 0); fill-opacity: 0;\"/></g></g><g class=\"groups\" transform=\"\"><g class=\"traces\" transform=\"translate(0,51.7)\" style=\"opacity: 1;\"><text class=\"legendtext\" text-anchor=\"start\" x=\"40\" y=\"4.680000000000001\" style=\"font-family: 'Open Sans', verdana, arial, sans-serif; font-size: 12px; fill: rgb(42, 63, 95); fill-opacity: 1; white-space: pre;\">test_forecast_sarima</text><g class=\"layers\" style=\"opacity: 1;\"><g class=\"legendfill\"/><g class=\"legendlines\"><path class=\"js-line\" d=\"M5,0h30\" style=\"fill: none; stroke: rgb(239, 85, 59); stroke-opacity: 1; stroke-width: 2px;\"/></g><g class=\"legendsymbols\"><g class=\"legendpoints\"/></g></g><rect class=\"legendtoggle\" x=\"0\" y=\"-9.5\" width=\"196.203125\" height=\"19\" style=\"fill: rgb(0, 0, 0); fill-opacity: 0;\"/></g></g><g class=\"groups\" transform=\"\"><g class=\"traces\" transform=\"translate(0,70.7)\" style=\"opacity: 1;\"><text class=\"legendtext\" text-anchor=\"start\" x=\"40\" y=\"4.680000000000001\" style=\"font-family: 'Open Sans', verdana, arial, sans-serif; font-size: 12px; fill: rgb(42, 63, 95); fill-opacity: 1; white-space: pre;\">test_forecast_exponential</text><g class=\"layers\" style=\"opacity: 1;\"><g class=\"legendfill\"/><g class=\"legendlines\"><path class=\"js-line\" d=\"M5,0h30\" style=\"fill: none; stroke: rgb(0, 204, 150); stroke-opacity: 1; stroke-width: 2px;\"/></g><g class=\"legendsymbols\"><g class=\"legendpoints\"/></g></g><rect class=\"legendtoggle\" x=\"0\" y=\"-9.5\" width=\"196.203125\" height=\"19\" style=\"fill: rgb(0, 0, 0); fill-opacity: 0;\"/></g></g><g class=\"groups\" transform=\"\"><g class=\"traces\" transform=\"translate(0,89.7)\" style=\"opacity: 1;\"><text class=\"legendtext\" text-anchor=\"start\" x=\"40\" y=\"4.680000000000001\" style=\"font-family: 'Open Sans', verdana, arial, sans-serif; font-size: 12px; fill: rgb(42, 63, 95); fill-opacity: 1; white-space: pre;\">train</text><g class=\"layers\" style=\"opacity: 1;\"><g class=\"legendfill\"/><g class=\"legendlines\"><path class=\"js-line\" d=\"M5,0h30\" style=\"fill: none; stroke: rgb(171, 99, 250); stroke-opacity: 1; stroke-width: 2px;\"/></g><g class=\"legendsymbols\"><g class=\"legendpoints\"/></g></g><rect class=\"legendtoggle\" x=\"0\" y=\"-9.5\" width=\"196.203125\" height=\"19\" style=\"fill: rgb(0, 0, 0); fill-opacity: 0;\"/></g></g></g><rect class=\"scrollbar\" rx=\"20\" ry=\"3\" width=\"0\" height=\"0\" style=\"fill: rgb(128, 139, 164); fill-opacity: 1;\" x=\"0\" y=\"0\"/></g><g class=\"g-gtitle\"/><g class=\"g-xtitle\"><text class=\"xtitle\" x=\"279\" y=\"460.3\" text-anchor=\"middle\" style=\"font-family: 'Open Sans', verdana, arial, sans-serif; font-size: 14px; fill: rgb(42, 63, 95); opacity: 1; font-weight: normal; white-space: pre;\">index</text></g><g class=\"g-ytitle\"><text class=\"ytitle\" transform=\"rotate(-90,31.809375000000003,240)\" x=\"31.809375000000003\" y=\"240\" text-anchor=\"middle\" style=\"font-family: 'Open Sans', verdana, arial, sans-serif; font-size: 14px; fill: rgb(42, 63, 95); opacity: 1; font-weight: normal; white-space: pre;\">value</text></g></g></svg>"
      ]
     },
     "execution_count": null,
     "metadata": {},
     "output_type": "display_data"
    }
   ],
   "source": []
  },
  {
   "cell_type": "markdown",
   "id": "3bf2c77a",
   "metadata": {
    "papermill": {
     "duration": 0.001954,
     "end_time": "2024-05-29T22:26:25.399073",
     "exception": false,
     "start_time": "2024-05-29T22:26:25.397119",
     "status": "completed"
    },
    "tags": []
   },
   "source": [
    "### Model's Score: Predictions vs. Reality"
   ]
  },
  {
   "cell_type": "code",
   "execution_count": null,
   "id": "3feb7efd",
   "metadata": {
    "execution": {
     "iopub.execute_input": "2024-05-29T22:26:25.403349Z",
     "iopub.status.busy": "2024-05-29T22:26:25.403244Z",
     "iopub.status.idle": "2024-05-29T22:26:25.405877Z",
     "shell.execute_reply": "2024-05-29T22:26:25.405655Z"
    },
    "papermill": {
     "duration": 0.005652,
     "end_time": "2024-05-29T22:26:25.406561",
     "exception": false,
     "start_time": "2024-05-29T22:26:25.400909",
     "status": "completed"
    },
    "tags": []
   },
   "outputs": [
    {
     "execution_count": null,
     "name": "stderr",
     "output_type": "stream",
     "text": [
      "/Users/sota/miniconda3/envs/work/lib/python3.12/site-packages/sklearn/metrics/_regression.py:483: FutureWarning:\n",
      "\n",
      "'squared' is deprecated in version 1.4 and will be removed in 1.6. To calculate the root mean squared error, use the function'root_mean_squared_error'.\n",
      "\n"
     ]
    },
    {
     "data": {
      "text/plain": [
       "33.6291735577628"
      ]
     },
     "execution_count": null,
     "metadata": {},
     "output_type": "execute_result"
    }
   ],
   "source": []
  },
  {
   "cell_type": "code",
   "execution_count": null,
   "id": "0a4d343c",
   "metadata": {
    "execution": {
     "iopub.execute_input": "2024-05-29T22:26:25.411006Z",
     "iopub.status.busy": "2024-05-29T22:26:25.410926Z",
     "iopub.status.idle": "2024-05-29T22:26:25.413097Z",
     "shell.execute_reply": "2024-05-29T22:26:25.412906Z"
    },
    "papermill": {
     "duration": 0.005245,
     "end_time": "2024-05-29T22:26:25.413786",
     "exception": false,
     "start_time": "2024-05-29T22:26:25.408541",
     "status": "completed"
    },
    "tags": []
   },
   "outputs": [
    {
     "execution_count": null,
     "name": "stderr",
     "output_type": "stream",
     "text": [
      "/Users/sota/miniconda3/envs/work/lib/python3.12/site-packages/sklearn/metrics/_regression.py:483: FutureWarning:\n",
      "\n",
      "'squared' is deprecated in version 1.4 and will be removed in 1.6. To calculate the root mean squared error, use the function'root_mean_squared_error'.\n",
      "\n"
     ]
    },
    {
     "data": {
      "text/plain": [
       "25.911990997475304"
      ]
     },
     "execution_count": null,
     "metadata": {},
     "output_type": "execute_result"
    }
   ],
   "source": []
  }
 ],
 "metadata": {
  "kernelspec": {
   "display_name": "Python 3 (ipykernel)",
   "language": "python",
   "name": "python3"
  },
  "language_info": {
   "codemirror_mode": {
    "name": "ipython",
    "version": 3
   },
   "file_extension": ".py",
   "mimetype": "text/x-python",
   "name": "python",
   "nbconvert_exporter": "python",
   "pygments_lexer": "ipython3",
   "version": "3.12.2"
  },
  "papermill": {
   "default_parameters": {},
   "duration": 4.209925,
   "end_time": "2024-05-29T22:26:25.733318",
   "environment_variables": {},
   "exception": null,
   "input_path": "/Users/sota/Library/CloudStorage/Dropbox/2 Business/1 Datons/2 Areas/Courses/22 TS/solutions-new/notebooks/50_Model Evaluation/2_Split/1.ipynb",
   "output_path": "/Users/sota/Library/CloudStorage/Dropbox/2 Business/1 Datons/2 Areas/Courses/22 TS/solutions-new/notebooks/50_Model Evaluation/2_Split/1.ipynb",
   "parameters": {},
   "start_time": "2024-05-29T22:26:21.523393",
   "version": "2.5.0"
  }
 },
 "nbformat": 4,
 "nbformat_minor": 5
}
