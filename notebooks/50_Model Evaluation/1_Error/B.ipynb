{
 "cells": [
  {
   "cell_type": "markdown",
   "id": "b9abce83",
   "metadata": {
    "papermill": {
     "duration": 0.002814,
     "end_time": "2024-05-29T22:27:40.201893",
     "exception": false,
     "start_time": "2024-05-29T22:27:40.199079",
     "status": "completed"
    },
    "tags": []
   },
   "source": [
    "# Model Evaluation & Validation: The Error"
   ]
  },
  {
   "cell_type": "markdown",
   "id": "a77de711",
   "metadata": {
    "papermill": {
     "duration": 0.001814,
     "end_time": "2024-05-29T22:27:40.206026",
     "exception": false,
     "start_time": "2024-05-29T22:27:40.204212",
     "status": "completed"
    },
    "tags": []
   },
   "source": [
    "## Overview"
   ]
  },
  {
   "cell_type": "markdown",
   "id": "ded69ac2",
   "metadata": {
    "papermill": {
     "duration": 0.005016,
     "end_time": "2024-05-29T22:27:40.212711",
     "exception": false,
     "start_time": "2024-05-29T22:27:40.207695",
     "status": "completed"
    },
    "tags": []
   },
   "source": [
    "<style>\n",
    "    table.custom-table {\n",
    "        max-width: 1000px;\n",
    "        width: 100%;\n",
    "        margin: 0 auto; /* centers the table on the page */\n",
    "    }\n",
    "\n",
    "    table.custom-table td {\n",
    "        background-color: #fff;\n",
    "    }\n",
    "    \n",
    "    table.custom-table th, table.custom-table td {\n",
    "        text-align: center;\n",
    "        vertical-align: middle;\n",
    "        padding: 5px;\n",
    "        width: 500px; /* distribute the total width equally among three columns */\n",
    "    }\n",
    "\n",
    "    table.custom-table img {\n",
    "        width: 100%;\n",
    "        display: block; /* removes any gap under the image */\n",
    "    }\n",
    "</style>\n",
    "\n",
    "\n",
    "<table class=\"custom-table\">\n",
    "    <thead>\n",
    "        <tr>\n",
    "            <th>Output: Prediction vs. Real Data (Error)</th>\n",
    "            <th>Output: The Error Interpretation</th>\n",
    "            <th>Input: Prediction Table</th>\n",
    "        </tr>\n",
    "    </thead>\n",
    "    <tbody>\n",
    "        <tr>\n",
    "            <td>\n",
    "                <img src=\"src/01_output_1.png\">\n",
    "            </td>\n",
    "            <td>\n",
    "                <img src=\"https://upload.wikimedia.org/wikipedia/commons/thumb/8/8c/Standard_deviation_diagram.svg/1280px-Standard_deviation_diagram.svg.png\">\n",
    "            </td>\n",
    "            <td>\n",
    "                <img src=\"src/01_output_2.png\">\n",
    "            </td>\n",
    "        </tr>\n",
    "    </tbody>\n",
    "</table>"
   ]
  },
  {
   "cell_type": "markdown",
   "id": "92ee871b",
   "metadata": {
    "papermill": {
     "duration": 0.001664,
     "end_time": "2024-05-29T22:27:40.216198",
     "exception": false,
     "start_time": "2024-05-29T22:27:40.214534",
     "status": "completed"
    },
    "tags": []
   },
   "source": [
    "## Data"
   ]
  },
  {
   "cell_type": "code",
   "execution_count": 1,
   "id": "edd43112",
   "metadata": {
    "execution": {
     "iopub.execute_input": "2024-05-29T22:27:40.222036Z",
     "iopub.status.busy": "2024-05-29T22:27:40.221849Z",
     "iopub.status.idle": "2024-05-29T22:27:40.231133Z",
     "shell.execute_reply": "2024-05-29T22:27:40.230877Z"
    },
    "papermill": {
     "duration": 0.012363,
     "end_time": "2024-05-29T22:27:40.231874",
     "exception": false,
     "start_time": "2024-05-29T22:27:40.219511",
     "status": "completed"
    },
    "tags": [
     "Fixed"
    ]
   },
   "outputs": [
    {
     "data": {
      "text/plain": [
       "Month\n",
       "1949-01-01    112\n",
       "1949-02-01    118\n",
       "             ... \n",
       "1960-11-01    390\n",
       "1960-12-01    432\n",
       "Freq: MS, Name: Passengers, Length: 144, dtype: int64"
      ]
     },
     "execution_count": 1,
     "metadata": {},
     "output_type": "execute_result"
    }
   ],
   "source": [
    "import pandas as pd\n",
    "\n",
    "df_passengers = pd.read_csv('../../../data/airline-passengers.csv', parse_dates=[\"Month\"], index_col=\"Month\")\n",
    "data = df_passengers.asfreq('MS')['Passengers']\n",
    "data"
   ]
  },
  {
   "cell_type": "markdown",
   "id": "ae731136",
   "metadata": {
    "papermill": {
     "duration": 0.00148,
     "end_time": "2024-05-29T22:27:40.235085",
     "exception": false,
     "start_time": "2024-05-29T22:27:40.233605",
     "status": "completed"
    },
    "tags": []
   },
   "source": [
    "## Modelling"
   ]
  },
  {
   "cell_type": "markdown",
   "id": "0b8cf457",
   "metadata": {
    "papermill": {
     "duration": 0.001417,
     "end_time": "2024-05-29T22:27:40.237834",
     "exception": false,
     "start_time": "2024-05-29T22:27:40.236417",
     "status": "completed"
    },
    "tags": []
   },
   "source": [
    "### Fit the Model"
   ]
  },
  {
   "cell_type": "code",
   "execution_count": 2,
   "id": "28c32052",
   "metadata": {
    "execution": {
     "iopub.execute_input": "2024-05-29T22:27:40.241328Z",
     "iopub.status.busy": "2024-05-29T22:27:40.241155Z",
     "iopub.status.idle": "2024-05-29T22:27:40.922845Z",
     "shell.execute_reply": "2024-05-29T22:27:40.922261Z"
    },
    "papermill": {
     "duration": 0.686484,
     "end_time": "2024-05-29T22:27:40.925724",
     "exception": false,
     "start_time": "2024-05-29T22:27:40.239240",
     "status": "completed"
    },
    "tags": [
     "Fixed"
    ]
   },
   "outputs": [],
   "source": [
    "from statsmodels.tsa.arima.model import ARIMA \n",
    "\n",
    "model = ARIMA(data, order=(0, 1, 2), seasonal_order=(1, 1, 1, 12))\n",
    "model_fit = model.fit()"
   ]
  },
  {
   "cell_type": "markdown",
   "id": "3ea1dcde",
   "metadata": {
    "papermill": {
     "duration": 0.007054,
     "end_time": "2024-05-29T22:27:40.937303",
     "exception": false,
     "start_time": "2024-05-29T22:27:40.930249",
     "status": "completed"
    },
    "tags": []
   },
   "source": [
    "### Forecast: Calculate Predictions"
   ]
  },
  {
   "cell_type": "code",
   "execution_count": 3,
   "id": "c002c3ea",
   "metadata": {
    "execution": {
     "iopub.execute_input": "2024-05-29T22:27:40.952021Z",
     "iopub.status.busy": "2024-05-29T22:27:40.951296Z",
     "iopub.status.idle": "2024-05-29T22:27:40.965216Z",
     "shell.execute_reply": "2024-05-29T22:27:40.964712Z"
    },
    "papermill": {
     "duration": 0.025287,
     "end_time": "2024-05-29T22:27:40.966730",
     "exception": false,
     "start_time": "2024-05-29T22:27:40.941443",
     "status": "completed"
    },
    "tags": []
   },
   "outputs": [
    {
     "data": {
      "text/plain": [
       "Month\n",
       "1949-01-01      0.000000\n",
       "1949-02-01    111.997328\n",
       "                 ...    \n",
       "1960-11-01    414.883634\n",
       "1960-12-01    439.947772\n",
       "Freq: MS, Name: predicted_mean, Length: 144, dtype: float64"
      ]
     },
     "execution_count": 3,
     "metadata": {},
     "output_type": "execute_result"
    }
   ],
   "source": [
    "y_pred = model_fit.predict()\n",
    "y_pred"
   ]
  },
  {
   "cell_type": "markdown",
   "id": "95e39322",
   "metadata": {
    "papermill": {
     "duration": 0.003878,
     "end_time": "2024-05-29T22:27:40.974369",
     "exception": false,
     "start_time": "2024-05-29T22:27:40.970491",
     "status": "completed"
    },
    "tags": []
   },
   "source": [
    "### Model's Score: Predictions vs Reality"
   ]
  },
  {
   "cell_type": "code",
   "execution_count": 4,
   "id": "a1e5ac23",
   "metadata": {
    "execution": {
     "iopub.execute_input": "2024-05-29T22:27:40.983091Z",
     "iopub.status.busy": "2024-05-29T22:27:40.982951Z",
     "iopub.status.idle": "2024-05-29T22:27:40.986551Z",
     "shell.execute_reply": "2024-05-29T22:27:40.986005Z"
    },
    "papermill": {
     "duration": 0.010045,
     "end_time": "2024-05-29T22:27:40.988074",
     "exception": false,
     "start_time": "2024-05-29T22:27:40.978029",
     "status": "completed"
    },
    "tags": [
     "Fixed"
    ]
   },
   "outputs": [
    {
     "data": {
      "text/plain": [
       "12.487395495743867"
      ]
     },
     "execution_count": 4,
     "metadata": {},
     "output_type": "execute_result"
    }
   ],
   "source": [
    "error = data[1:] - y_pred[1:] \n",
    "error2 = error**2\n",
    "MSE = error2.mean()\n",
    "RMSE = MSE**0.5\n",
    "RMSE"
   ]
  },
  {
   "cell_type": "markdown",
   "id": "653afa90",
   "metadata": {
    "papermill": {
     "duration": 0.001942,
     "end_time": "2024-05-29T22:27:40.993683",
     "exception": false,
     "start_time": "2024-05-29T22:27:40.991741",
     "status": "completed"
    },
    "tags": []
   },
   "source": [
    "#### Step by Step"
   ]
  },
  {
   "cell_type": "code",
   "execution_count": 5,
   "id": "29256dca",
   "metadata": {
    "execution": {
     "iopub.execute_input": "2024-05-29T22:27:41.000509Z",
     "iopub.status.busy": "2024-05-29T22:27:41.000264Z",
     "iopub.status.idle": "2024-05-29T22:27:41.008633Z",
     "shell.execute_reply": "2024-05-29T22:27:41.008148Z"
    },
    "papermill": {
     "duration": 0.012507,
     "end_time": "2024-05-29T22:27:41.010175",
     "exception": false,
     "start_time": "2024-05-29T22:27:40.997668",
     "status": "completed"
    },
    "tags": []
   },
   "outputs": [
    {
     "data": {
      "text/html": [
       "<div>\n",
       "<style scoped>\n",
       "    .dataframe tbody tr th:only-of-type {\n",
       "        vertical-align: middle;\n",
       "    }\n",
       "\n",
       "    .dataframe tbody tr th {\n",
       "        vertical-align: top;\n",
       "    }\n",
       "\n",
       "    .dataframe thead th {\n",
       "        text-align: right;\n",
       "    }\n",
       "</style>\n",
       "<table border=\"1\" class=\"dataframe\">\n",
       "  <thead>\n",
       "    <tr style=\"text-align: right;\">\n",
       "      <th></th>\n",
       "      <th>Passengers</th>\n",
       "      <th>Predicted</th>\n",
       "    </tr>\n",
       "    <tr>\n",
       "      <th>Month</th>\n",
       "      <th></th>\n",
       "      <th></th>\n",
       "    </tr>\n",
       "  </thead>\n",
       "  <tbody>\n",
       "    <tr>\n",
       "      <th>1949-02-01</th>\n",
       "      <td>118</td>\n",
       "      <td>111.997328</td>\n",
       "    </tr>\n",
       "    <tr>\n",
       "      <th>1949-03-01</th>\n",
       "      <td>132</td>\n",
       "      <td>117.999752</td>\n",
       "    </tr>\n",
       "    <tr>\n",
       "      <th>...</th>\n",
       "      <td>...</td>\n",
       "      <td>...</td>\n",
       "    </tr>\n",
       "    <tr>\n",
       "      <th>1960-11-01</th>\n",
       "      <td>390</td>\n",
       "      <td>414.883634</td>\n",
       "    </tr>\n",
       "    <tr>\n",
       "      <th>1960-12-01</th>\n",
       "      <td>432</td>\n",
       "      <td>439.947772</td>\n",
       "    </tr>\n",
       "  </tbody>\n",
       "</table>\n",
       "<p>143 rows × 2 columns</p>\n",
       "</div>"
      ],
      "text/plain": [
       "            Passengers   Predicted\n",
       "Month                             \n",
       "1949-02-01         118  111.997328\n",
       "1949-03-01         132  117.999752\n",
       "...                ...         ...\n",
       "1960-11-01         390  414.883634\n",
       "1960-12-01         432  439.947772\n",
       "\n",
       "[143 rows x 2 columns]"
      ]
     },
     "execution_count": 5,
     "metadata": {},
     "output_type": "execute_result"
    }
   ],
   "source": [
    "df_pred = (df_passengers\n",
    ".assign(Predicted=y_pred)\n",
    ".iloc[1:])\n",
    "\n",
    "df_pred"
   ]
  },
  {
   "cell_type": "code",
   "execution_count": 7,
   "id": "21e2565f",
   "metadata": {
    "execution": {
     "iopub.execute_input": "2024-05-29T22:27:41.764873Z",
     "iopub.status.busy": "2024-05-29T22:27:41.764542Z",
     "iopub.status.idle": "2024-05-29T22:27:41.769820Z",
     "shell.execute_reply": "2024-05-29T22:27:41.769623Z"
    },
    "papermill": {
     "duration": 0.00805,
     "end_time": "2024-05-29T22:27:41.770470",
     "exception": false,
     "start_time": "2024-05-29T22:27:41.762420",
     "status": "completed"
    },
    "tags": []
   },
   "outputs": [
    {
     "data": {
      "text/html": [
       "<div>\n",
       "<style scoped>\n",
       "    .dataframe tbody tr th:only-of-type {\n",
       "        vertical-align: middle;\n",
       "    }\n",
       "\n",
       "    .dataframe tbody tr th {\n",
       "        vertical-align: top;\n",
       "    }\n",
       "\n",
       "    .dataframe thead th {\n",
       "        text-align: right;\n",
       "    }\n",
       "</style>\n",
       "<table border=\"1\" class=\"dataframe\">\n",
       "  <thead>\n",
       "    <tr style=\"text-align: right;\">\n",
       "      <th></th>\n",
       "      <th>Passengers</th>\n",
       "      <th>Predicted</th>\n",
       "      <th>error</th>\n",
       "    </tr>\n",
       "    <tr>\n",
       "      <th>Month</th>\n",
       "      <th></th>\n",
       "      <th></th>\n",
       "      <th></th>\n",
       "    </tr>\n",
       "  </thead>\n",
       "  <tbody>\n",
       "    <tr>\n",
       "      <th>1949-02-01</th>\n",
       "      <td>118</td>\n",
       "      <td>111.997328</td>\n",
       "      <td>6.002672</td>\n",
       "    </tr>\n",
       "    <tr>\n",
       "      <th>1949-03-01</th>\n",
       "      <td>132</td>\n",
       "      <td>117.999752</td>\n",
       "      <td>14.000248</td>\n",
       "    </tr>\n",
       "    <tr>\n",
       "      <th>...</th>\n",
       "      <td>...</td>\n",
       "      <td>...</td>\n",
       "      <td>...</td>\n",
       "    </tr>\n",
       "    <tr>\n",
       "      <th>1960-11-01</th>\n",
       "      <td>390</td>\n",
       "      <td>414.883634</td>\n",
       "      <td>-24.883634</td>\n",
       "    </tr>\n",
       "    <tr>\n",
       "      <th>1960-12-01</th>\n",
       "      <td>432</td>\n",
       "      <td>439.947772</td>\n",
       "      <td>-7.947772</td>\n",
       "    </tr>\n",
       "  </tbody>\n",
       "</table>\n",
       "<p>143 rows × 3 columns</p>\n",
       "</div>"
      ],
      "text/plain": [
       "            Passengers   Predicted      error\n",
       "Month                                        \n",
       "1949-02-01         118  111.997328   6.002672\n",
       "1949-03-01         132  117.999752  14.000248\n",
       "...                ...         ...        ...\n",
       "1960-11-01         390  414.883634 -24.883634\n",
       "1960-12-01         432  439.947772  -7.947772\n",
       "\n",
       "[143 rows x 3 columns]"
      ]
     },
     "execution_count": 7,
     "metadata": {},
     "output_type": "execute_result"
    }
   ],
   "source": [
    "df_pred['error'] = df_pred['Passengers'] - df_pred['Predicted']\n",
    "df_pred"
   ]
  },
  {
   "cell_type": "code",
   "execution_count": 8,
   "id": "88c65ec7",
   "metadata": {
    "execution": {
     "iopub.execute_input": "2024-05-29T22:27:41.773968Z",
     "iopub.status.busy": "2024-05-29T22:27:41.773885Z",
     "iopub.status.idle": "2024-05-29T22:27:41.775810Z",
     "shell.execute_reply": "2024-05-29T22:27:41.775630Z"
    },
    "papermill": {
     "duration": 0.004393,
     "end_time": "2024-05-29T22:27:41.776465",
     "exception": false,
     "start_time": "2024-05-29T22:27:41.772072",
     "status": "completed"
    },
    "tags": []
   },
   "outputs": [
    {
     "data": {
      "text/plain": [
       "-0.01577236767447063"
      ]
     },
     "execution_count": 8,
     "metadata": {},
     "output_type": "execute_result"
    }
   ],
   "source": [
    "df_pred.error.mean()"
   ]
  },
  {
   "cell_type": "code",
   "execution_count": 11,
   "id": "9d7285d3",
   "metadata": {
    "execution": {
     "iopub.execute_input": "2024-05-29T22:27:42.395583Z",
     "iopub.status.busy": "2024-05-29T22:27:42.395478Z",
     "iopub.status.idle": "2024-05-29T22:27:42.399583Z",
     "shell.execute_reply": "2024-05-29T22:27:42.399366Z"
    },
    "papermill": {
     "duration": 0.007063,
     "end_time": "2024-05-29T22:27:42.400255",
     "exception": false,
     "start_time": "2024-05-29T22:27:42.393192",
     "status": "completed"
    },
    "tags": []
   },
   "outputs": [
    {
     "data": {
      "text/html": [
       "<div>\n",
       "<style scoped>\n",
       "    .dataframe tbody tr th:only-of-type {\n",
       "        vertical-align: middle;\n",
       "    }\n",
       "\n",
       "    .dataframe tbody tr th {\n",
       "        vertical-align: top;\n",
       "    }\n",
       "\n",
       "    .dataframe thead th {\n",
       "        text-align: right;\n",
       "    }\n",
       "</style>\n",
       "<table border=\"1\" class=\"dataframe\">\n",
       "  <thead>\n",
       "    <tr style=\"text-align: right;\">\n",
       "      <th></th>\n",
       "      <th>Passengers</th>\n",
       "      <th>Predicted</th>\n",
       "      <th>error</th>\n",
       "      <th>error2</th>\n",
       "    </tr>\n",
       "    <tr>\n",
       "      <th>Month</th>\n",
       "      <th></th>\n",
       "      <th></th>\n",
       "      <th></th>\n",
       "      <th></th>\n",
       "    </tr>\n",
       "  </thead>\n",
       "  <tbody>\n",
       "    <tr>\n",
       "      <th>1949-02-01</th>\n",
       "      <td>118</td>\n",
       "      <td>111.997328</td>\n",
       "      <td>6.002672</td>\n",
       "      <td>36.032066</td>\n",
       "    </tr>\n",
       "    <tr>\n",
       "      <th>1949-03-01</th>\n",
       "      <td>132</td>\n",
       "      <td>117.999752</td>\n",
       "      <td>14.000248</td>\n",
       "      <td>196.006936</td>\n",
       "    </tr>\n",
       "    <tr>\n",
       "      <th>...</th>\n",
       "      <td>...</td>\n",
       "      <td>...</td>\n",
       "      <td>...</td>\n",
       "      <td>...</td>\n",
       "    </tr>\n",
       "    <tr>\n",
       "      <th>1960-11-01</th>\n",
       "      <td>390</td>\n",
       "      <td>414.883634</td>\n",
       "      <td>-24.883634</td>\n",
       "      <td>619.195244</td>\n",
       "    </tr>\n",
       "    <tr>\n",
       "      <th>1960-12-01</th>\n",
       "      <td>432</td>\n",
       "      <td>439.947772</td>\n",
       "      <td>-7.947772</td>\n",
       "      <td>63.167075</td>\n",
       "    </tr>\n",
       "  </tbody>\n",
       "</table>\n",
       "<p>143 rows × 4 columns</p>\n",
       "</div>"
      ],
      "text/plain": [
       "            Passengers   Predicted      error      error2\n",
       "Month                                                    \n",
       "1949-02-01         118  111.997328   6.002672   36.032066\n",
       "1949-03-01         132  117.999752  14.000248  196.006936\n",
       "...                ...         ...        ...         ...\n",
       "1960-11-01         390  414.883634 -24.883634  619.195244\n",
       "1960-12-01         432  439.947772  -7.947772   63.167075\n",
       "\n",
       "[143 rows x 4 columns]"
      ]
     },
     "execution_count": 11,
     "metadata": {},
     "output_type": "execute_result"
    }
   ],
   "source": [
    "df_pred['error2'] = df_pred['error']**2\n",
    "df_pred"
   ]
  },
  {
   "cell_type": "code",
   "execution_count": 13,
   "id": "35f50c5e",
   "metadata": {
    "execution": {
     "iopub.execute_input": "2024-05-29T22:27:42.849405Z",
     "iopub.status.busy": "2024-05-29T22:27:42.849278Z",
     "iopub.status.idle": "2024-05-29T22:27:42.851982Z",
     "shell.execute_reply": "2024-05-29T22:27:42.851731Z"
    },
    "papermill": {
     "duration": 0.00602,
     "end_time": "2024-05-29T22:27:42.852703",
     "exception": false,
     "start_time": "2024-05-29T22:27:42.846683",
     "status": "completed"
    },
    "tags": []
   },
   "outputs": [
    {
     "data": {
      "text/plain": [
       "155.9350462671242"
      ]
     },
     "execution_count": 13,
     "metadata": {},
     "output_type": "execute_result"
    }
   ],
   "source": [
    "MSE = df_pred.error2.mean()\n",
    "MSE"
   ]
  },
  {
   "cell_type": "markdown",
   "id": "9248962f",
   "metadata": {
    "papermill": {
     "duration": 0.001975,
     "end_time": "2024-05-29T22:27:42.856648",
     "exception": false,
     "start_time": "2024-05-29T22:27:42.854673",
     "status": "completed"
    },
    "tags": []
   },
   "source": [
    "155k passengers of error?"
   ]
  },
  {
   "cell_type": "code",
   "execution_count": 14,
   "id": "3a639644",
   "metadata": {
    "execution": {
     "iopub.execute_input": "2024-05-29T22:27:42.860535Z",
     "iopub.status.busy": "2024-05-29T22:27:42.860457Z",
     "iopub.status.idle": "2024-05-29T22:27:42.862173Z",
     "shell.execute_reply": "2024-05-29T22:27:42.861996Z"
    },
    "papermill": {
     "duration": 0.004446,
     "end_time": "2024-05-29T22:27:42.862799",
     "exception": false,
     "start_time": "2024-05-29T22:27:42.858353",
     "status": "completed"
    },
    "tags": []
   },
   "outputs": [
    {
     "data": {
      "text/plain": [
       "12.487395495743867"
      ]
     },
     "execution_count": 14,
     "metadata": {},
     "output_type": "execute_result"
    }
   ],
   "source": [
    "RMSE = MSE**0.5\n",
    "RMSE"
   ]
  },
  {
   "cell_type": "code",
   "execution_count": 15,
   "id": "135511e8",
   "metadata": {
    "execution": {
     "iopub.execute_input": "2024-05-29T22:27:42.866841Z",
     "iopub.status.busy": "2024-05-29T22:27:42.866761Z",
     "iopub.status.idle": "2024-05-29T22:27:42.956075Z",
     "shell.execute_reply": "2024-05-29T22:27:42.955512Z"
    },
    "papermill": {
     "duration": 0.093893,
     "end_time": "2024-05-29T22:27:42.958529",
     "exception": false,
     "start_time": "2024-05-29T22:27:42.864636",
     "status": "completed"
    },
    "tags": []
   },
   "outputs": [
    {
     "data": {
      "text/plain": [
       "<Axes: >"
      ]
     },
     "execution_count": 15,
     "metadata": {},
     "output_type": "execute_result"
    },
    {
     "data": {
      "image/png": "[encoded data removed]",
      "text/plain": [
       "<Figure size 640x480 with 1 Axes>"
      ]
     },
     "metadata": {},
     "output_type": "display_data"
    }
   ],
   "source": [
    "df_pred.error.hist(bins=100)"
   ]
  },
  {
   "cell_type": "markdown",
   "id": "1c5927fe",
   "metadata": {
    "papermill": {
     "duration": 0.008225,
     "end_time": "2024-05-29T22:27:42.973894",
     "exception": false,
     "start_time": "2024-05-29T22:27:42.965669",
     "status": "completed"
    },
    "tags": []
   },
   "source": [
    "![](https://upload.wikimedia.org/wikipedia/commons/thumb/8/8c/Standard_deviation_diagram.svg/1280px-Standard_deviation_diagram.svg.png)"
   ]
  },
  {
   "cell_type": "markdown",
   "id": "abe6f1d4",
   "metadata": {
    "papermill": {
     "duration": 0.011779,
     "end_time": "2024-05-29T22:27:42.991652",
     "exception": false,
     "start_time": "2024-05-29T22:27:42.979873",
     "status": "completed"
    },
    "tags": []
   },
   "source": [
    "## Other Error Measures\n",
    "\n",
    "Time series forecasting and analysis often require error measures to evaluate the accuracy of models and predictions.\n",
    "\n",
    "1. **Mean Absolute Error (MAE)**:\n",
    "    $$ MAE = \\frac{1}{n} \\sum_{i=1}^{n} |y_i - \\hat{y}_i| $$\n",
    "   Where $y_i$ is the actual value, $\\hat{y}_i$ is the predicted value, and $n$ is the number of observations. It gives an idea of the magnitude of the error but doesn't consider the direction.\n",
    "\n",
    "2. **Mean Squared Error (MSE)**:\n",
    "    $$ MSE = \\frac{1}{n} \\sum_{i=1}^{n} (y_i - \\hat{y}_i)^2 $$\n",
    "   It gives more weight to larger errors due to the squaring.\n",
    "\n",
    "3. **Root Mean Squared Error (RMSE)**:\n",
    "    $$ RMSE = \\sqrt{\\frac{1}{n} \\sum_{i=1}^{n} (y_i - \\hat{y}_i)^2} $$\n",
    "   RMSE is the square root of MSE, making it more interpretable in the same units as the original data.\n",
    "\n",
    "4. **Mean Absolute Percentage Error (MAPE)**:\n",
    "    $$ MAPE = \\frac{100\\%}{n} \\sum_{i=1}^{n} \\left| \\frac{y_i - \\hat{y}_i}{y_i} \\right| $$\n",
    "   It gives the error as a percentage, which can be useful for comparing accuracy across different datasets or scales. However, it's undefined when $y_i = 0$.\n",
    "\n",
    "5. **Symmetric Mean Absolute Percentage Error (sMAPE)**:\n",
    "    $$ sMAPE = \\frac{100\\%}{n} \\sum_{i=1}^{n} \\frac{|y_i - \\hat{y}_i|}{(|y_i| + |\\hat{y}_i|)/2} $$\n",
    "   An alternative to MAPE that handles zeros and negative values better.\n",
    "\n",
    "6. **Mean Bias Deviation (MBD)**:\n",
    "    $$ MBD = \\frac{100\\%}{n} \\sum_{i=1}^{n} \\frac{y_i - \\hat{y}_i}{y_i} $$\n",
    "   It measures the bias in the predictions.\n",
    "\n",
    "7. **Mean Absolute Scaled Error (MASE)**:\n",
    "    $$ MASE = \\frac{\\sum_{i=1}^{n} |y_i - \\hat{y}_i|}{\\sum_{i=1}^{n} |y_i - y_{i-1}|} $$\n",
    "   It compares the forecast errors to the errors of a naïve benchmark prediction, usually the naïve forecast (where each forecast is equal to the last observed value).\n",
    "\n",
    "8. **R-squared**:\n",
    "   It represents the proportion of variance in the dependent variable that is predictable from the independent variable(s). It's a measure of how well the regression predictions approximate the real data points.\n",
    "\n",
    "9. **AIC (Akaike Information Criterion)** and **BIC (Bayesian Information Criterion)**:\n",
    "   While these are not direct error measures, they are often used in time series modeling to compare the goodness of fit of models, taking into account the number of parameters used.\n",
    "\n",
    "10. **Theil’s U-statistic**:\n",
    "    It's a relative measure comparing the forecast error to the naive forecast's error and the change in the actual series. A value of 1 indicates the forecast is as accurate as a naive forecast; less than 1 indicates it's more accurate.\n",
    "\n",
    "11. **Diebold-Mariano Test**:\n",
    "    A statistical test used to compare the predictive accuracy of two forecasting methods.\n",
    "\n",
    "Choosing the right error measure depends on the specific application, the nature of the data, and the goals of the analysis. Some measures may be more appropriate for certain datasets or problems than others."
   ]
  },
  {
   "cell_type": "markdown",
   "id": "b04b283e",
   "metadata": {
    "papermill": {
     "duration": 0.002561,
     "end_time": "2024-05-29T22:27:42.997870",
     "exception": false,
     "start_time": "2024-05-29T22:27:42.995309",
     "status": "completed"
    },
    "tags": []
   },
   "source": [
    "You can calculate most of these error measures using Python, especially with the help of libraries like `numpy`, `pandas`, and `sklearn`. Here's a brief overview of how to implement or import some of them:\n",
    "\n",
    "1. **Mean Absolute Error (MAE)**:\n",
    "    ```python\n",
    "    from sklearn.metrics import mean_absolute_error\n",
    "    ```\n",
    "\n",
    "2. **Mean Squared Error (MSE)**:\n",
    "    ```python\n",
    "    from sklearn.metrics import mean_squared_error\n",
    "    ```\n",
    "\n",
    "3. **Root Mean Squared Error (RMSE)**:\n",
    "    Using `mean_squared_error` with an additional square root:\n",
    "    ```python\n",
    "    rmse = np.sqrt(mean_squared_error(actual, predicted))\n",
    "    ```\n",
    "\n",
    "4. **Mean Absolute Percentage Error (MAPE)**:\n",
    "    This isn't directly available in `sklearn`, but you can easily define it:\n",
    "    ```python\n",
    "    def mape(actual, predicted):\n",
    "        return np.mean(np.abs((actual - predicted) / actual)) * 100\n",
    "    ```\n",
    "\n",
    "5. **Symmetric Mean Absolute Percentage Error (sMAPE)**:\n",
    "    Similarly, you might have to define it:\n",
    "    ```python\n",
    "    def smape(actual, predicted):\n",
    "        return 100*np.mean(2*np.abs(predicted - actual) / (np.abs(actual) + np.abs(predicted)))\n",
    "    ```\n",
    "\n",
    "6. **Mean Absolute Scaled Error (MASE)**:\n",
    "    Not available in `sklearn`. Here's a custom function:\n",
    "    ```python\n",
    "    def mase(actual, predicted):\n",
    "        n = len(actual)\n",
    "        d = np.abs(np.diff(actual)).sum()/(n-1)\n",
    "        errors = np.abs(actual - predicted)\n",
    "        return errors.mean()/d\n",
    "    ```\n",
    "\n",
    "7. **R-squared**:\n",
    "    ```python\n",
    "    from sklearn.metrics import r2_score\n",
    "    ```\n",
    "\n",
    "8. **AIC (Akaike Information Criterion)** and **BIC (Bayesian Information Criterion)**:\n",
    "    If you're using statsmodels for time series modeling (like ARIMA), these are usually available in the model's summary:\n",
    "    ```python\n",
    "    from statsmodels.tsa.arima.model import ARIMA\n",
    "    model = ARIMA(...)\n",
    "    results = model.fit()\n",
    "    print(results.aic, results.bic)\n",
    "    ```\n",
    "\n",
    "9. **Theil’s U-statistic** and **Diebold-Mariano Test**:\n",
    "    These aren't directly available in common libraries like `sklearn` or `statsmodels`, and you might need to write custom functions or seek specialized packages or scripts.\n",
    "\n",
    "For more complex or less common error measures, it's possible that specialized libraries or manual implementations are necessary. Always ensure you understand the calculations and potential pitfalls of any metric you're using, especially if you're implementing them manually."
   ]
  }
 ],
 "metadata": {
  "kernelspec": {
   "display_name": "Python 3 (ipykernel)",
   "language": "python",
   "name": "python3"
  },
  "language_info": {
   "codemirror_mode": {
    "name": "ipython",
    "version": 3
   },
   "file_extension": ".py",
   "mimetype": "text/x-python",
   "name": "python",
   "nbconvert_exporter": "python",
   "pygments_lexer": "ipython3",
   "version": "3.12.2"
  },
  "papermill": {
   "default_parameters": {},
   "duration": 4.146078,
   "end_time": "2024-05-29T22:27:43.427255",
   "environment_variables": {},
   "exception": null,
   "input_path": "/Users/sota/Library/CloudStorage/Dropbox/2 Business/1 Datons/2 Areas/Courses/22 TS/solutions-new/notebooks/50_Model Evaluation/1_Error/1.ipynb",
   "output_path": "/Users/sota/Library/CloudStorage/Dropbox/2 Business/1 Datons/2 Areas/Courses/22 TS/solutions-new/notebooks/50_Model Evaluation/1_Error/1.ipynb",
   "parameters": {},
   "start_time": "2024-05-29T22:27:39.281177",
   "version": "2.5.0"
  }
 },
 "nbformat": 4,
 "nbformat_minor": 5
}
