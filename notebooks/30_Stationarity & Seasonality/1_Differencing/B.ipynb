{
 "cells": [
  {
   "cell_type": "markdown",
   "id": "d88c4bd6",
   "metadata": {
    "papermill": {
     "duration": 0.004667,
     "end_time": "2024-05-29T22:26:19.552003",
     "exception": false,
     "start_time": "2024-05-29T22:26:19.547336",
     "status": "completed"
    },
    "tags": []
   },
   "source": [
    "# Differencing Stationarity"
   ]
  },
  {
   "cell_type": "markdown",
   "id": "f2b4c5ab",
   "metadata": {
    "papermill": {
     "duration": 0.003185,
     "end_time": "2024-05-29T22:26:19.559195",
     "exception": false,
     "start_time": "2024-05-29T22:26:19.556010",
     "status": "completed"
    },
    "tags": []
   },
   "source": [
    "## Overview"
   ]
  },
  {
   "cell_type": "markdown",
   "id": "8b21b7d5",
   "metadata": {
    "papermill": {
     "duration": 0.002664,
     "end_time": "2024-05-29T22:26:19.564681",
     "exception": false,
     "start_time": "2024-05-29T22:26:19.562017",
     "status": "completed"
    },
    "tags": []
   },
   "source": [
    "<style>\n",
    "    table.custom-table {\n",
    "        max-width: 1000px;\n",
    "        width: 100%;\n",
    "        margin: 0 auto; /* centers the table on the page */\n",
    "    }\n",
    "\n",
    "    table.custom-table td {\n",
    "        background-color: #fff;\n",
    "    }\n",
    "    \n",
    "    table.custom-table th, table.custom-table td {\n",
    "        text-align: center;\n",
    "        vertical-align: middle;\n",
    "        padding: 5px;\n",
    "        width: 500px; /* distribute the total width equally among three columns */\n",
    "    }\n",
    "\n",
    "    table.custom-table img {\n",
    "        width: 100%;\n",
    "        display: block; /* removes any gap under the image */\n",
    "    }\n",
    "</style>\n",
    "\n",
    "\n",
    "<table class=\"custom-table\">\n",
    "    <thead>\n",
    "        <tr>\n",
    "            <th>Output: Trend</th>\n",
    "            <th>Input: Original Time Series</th>\n",
    "        </tr>\n",
    "    </thead>\n",
    "    <tbody>\n",
    "        <tr>\n",
    "            <td>\n",
    "                <img src=\"src/01_output_2.png\">\n",
    "            </td>\n",
    "            <td>\n",
    "                <img src=\"src/01_output_1.png\">\n",
    "            </td>\n",
    "        </tr>\n",
    "    </tbody>\n",
    "</table>"
   ]
  },
  {
   "cell_type": "markdown",
   "id": "0f435762",
   "metadata": {
    "papermill": {
     "duration": 0.002521,
     "end_time": "2024-05-29T22:26:19.569806",
     "exception": false,
     "start_time": "2024-05-29T22:26:19.567285",
     "status": "completed"
    },
    "tags": []
   },
   "source": [
    "In time series analysis, understanding stationarity and seasonality is crucial as they are key characteristics of time series data. This overview discusses their definitions, importance, and methods for testing and achieving stationarity, along with handling seasonality.\n",
    "\n",
    "### **1. Stationarity**\n",
    "\n",
    "- **Definition**: A time series is stationary if its statistical properties like mean, variance, and autocorrelation are constant over time. It shows no trend or seasonal effects, and fluctuations around its mean are consistent.\n",
    "- **Importance**: Stationarity is a prerequisite for many time series models. Non-stationary data can yield unreliable results.\n",
    "- **Testing**: Use tests like the Augmented Dickey-Fuller (ADF) or Kwiatkowski-Phillips-Schmidt-Shin (KPSS) to check stationarity.\n",
    "- **Achieving Stationarity**: Techniques include differencing, log transformation, or a combination of these methods.\n",
    "\n",
    "### **2. Seasonality**\n",
    "\n",
    "- **Definition**: Seasonality implies regular, periodic fluctuations at set intervals, like daily, monthly, or yearly patterns.\n",
    "- **Importance**: Accurate forecasting requires recognizing and adjusting for seasonality.\n",
    "- **Detecting**: Visualization or decomposition methods like STL can help identify seasonal patterns.\n",
    "- **Handling**: Methods vary, but seasonal differencing and models like SARIMA or Facebook's Prophet are effective.\n",
    "\n",
    "\n",
    "### Summary:\n",
    "\n",
    "- Stationarity addresses constant statistical properties over time.\n",
    "- Seasonality involves predictable, recurring patterns."
   ]
  },
  {
   "cell_type": "markdown",
   "id": "4c70c64b",
   "metadata": {
    "papermill": {
     "duration": 0.002213,
     "end_time": "2024-05-29T22:26:19.574270",
     "exception": false,
     "start_time": "2024-05-29T22:26:19.572057",
     "status": "completed"
    },
    "tags": []
   },
   "source": [
    "\n",
    "\n",
    "A time series can exhibit both non-stationarity and seasonality, necessitating handling both for accurate forecasting.\n",
    "\n",
    "#### Stationarity and Differencing:\n",
    "\n",
    "Differencing is used to achieve stationarity in non-stationary data due to trends.\n",
    "The 'I' in ARIMA indicates the differencing order needed for stationarity.\n",
    "\n",
    "#### Seasonality and SARIMA:\n",
    "\n",
    "SARIMA is suitable for data with seasonality, incorporating additional seasonal parameters.\n",
    "\n",
    "The 'D' in SARIMA's seasonal parameters indicates the seasonal differencing order.\n",
    "\n",
    "#### Modelling Choices:\n",
    "\n",
    "- No Trend or Seasonality: Use basic ARIMA (d=0).\n",
    "- Trend, No Seasonality: Use ARIMA with differencing.\n",
    "- Seasonality (with/without Trend): Use SARIMA.\n",
    "\n",
    "Model choice should be guided by data inspection, statistical tests, and tools like ACF and PACF plots."
   ]
  },
  {
   "cell_type": "markdown",
   "id": "85407931",
   "metadata": {
    "papermill": {
     "duration": 0.00197,
     "end_time": "2024-05-29T22:26:19.578199",
     "exception": false,
     "start_time": "2024-05-29T22:26:19.576229",
     "status": "completed"
    },
    "tags": []
   },
   "source": [
    "## Data"
   ]
  },
  {
   "cell_type": "code",
   "execution_count": 1,
   "id": "58ea160e",
   "metadata": {
    "execution": {
     "iopub.execute_input": "2024-05-29T22:26:19.582967Z",
     "iopub.status.busy": "2024-05-29T22:26:19.582801Z",
     "iopub.status.idle": "2024-05-29T22:26:19.896444Z",
     "shell.execute_reply": "2024-05-29T22:26:19.896203Z"
    },
    "papermill": {
     "duration": 0.317064,
     "end_time": "2024-05-29T22:26:19.897195",
     "exception": false,
     "start_time": "2024-05-29T22:26:19.580131",
     "status": "completed"
    },
    "tags": [
     "Fixed"
    ]
   },
   "outputs": [
    {
     "data": {
      "text/html": [
       "<div>\n",
       "<style scoped>\n",
       "    .dataframe tbody tr th:only-of-type {\n",
       "        vertical-align: middle;\n",
       "    }\n",
       "\n",
       "    .dataframe tbody tr th {\n",
       "        vertical-align: top;\n",
       "    }\n",
       "\n",
       "    .dataframe thead th {\n",
       "        text-align: right;\n",
       "    }\n",
       "</style>\n",
       "<table border=\"1\" class=\"dataframe\">\n",
       "  <thead>\n",
       "    <tr style=\"text-align: right;\">\n",
       "      <th></th>\n",
       "      <th>Passengers</th>\n",
       "    </tr>\n",
       "    <tr>\n",
       "      <th>Month</th>\n",
       "      <th></th>\n",
       "    </tr>\n",
       "  </thead>\n",
       "  <tbody>\n",
       "    <tr>\n",
       "      <th>1949-01-01</th>\n",
       "      <td>112</td>\n",
       "    </tr>\n",
       "    <tr>\n",
       "      <th>1949-02-01</th>\n",
       "      <td>118</td>\n",
       "    </tr>\n",
       "    <tr>\n",
       "      <th>...</th>\n",
       "      <td>...</td>\n",
       "    </tr>\n",
       "    <tr>\n",
       "      <th>1960-11-01</th>\n",
       "      <td>390</td>\n",
       "    </tr>\n",
       "    <tr>\n",
       "      <th>1960-12-01</th>\n",
       "      <td>432</td>\n",
       "    </tr>\n",
       "  </tbody>\n",
       "</table>\n",
       "<p>144 rows × 1 columns</p>\n",
       "</div>"
      ],
      "text/plain": [
       "            Passengers\n",
       "Month                 \n",
       "1949-01-01         112\n",
       "1949-02-01         118\n",
       "...                ...\n",
       "1960-11-01         390\n",
       "1960-12-01         432\n",
       "\n",
       "[144 rows x 1 columns]"
      ]
     },
     "execution_count": 1,
     "metadata": {},
     "output_type": "execute_result"
    }
   ],
   "source": [
    "import pandas as pd\n",
    "from statsmodels.tsa.stattools import adfuller, kpss\n",
    "\n",
    "url = \"../data/airline-passengers.csv\"\n",
    "df = pd.read_csv(url, parse_dates=['Month'], index_col='Month')\n",
    "df"
   ]
  },
  {
   "cell_type": "code",
   "execution_count": 2,
   "id": "60a5bfb6",
   "metadata": {
    "execution": {
     "iopub.execute_input": "2024-05-29T22:26:19.901472Z",
     "iopub.status.busy": "2024-05-29T22:26:19.901294Z",
     "iopub.status.idle": "2024-05-29T22:26:20.614323Z",
     "shell.execute_reply": "2024-05-29T22:26:20.614001Z"
    },
    "papermill": {
     "duration": 0.716047,
     "end_time": "2024-05-29T22:26:20.615210",
     "exception": false,
     "start_time": "2024-05-29T22:26:19.899163",
     "status": "completed"
    },
    "tags": []
   },
   "outputs": [
    {
     "data": {
      "image/svg+xml": [
       "<svg class=\"main-svg\" xmlns=\"http://www.w3.org/2000/svg\" xmlns:xlink=\"http://www.w3.org/1999/xlink\" width=\"700\" height=\"500\" style=\"\" viewBox=\"0 0 700 500\"><rect x=\"0\" y=\"0\" width=\"700\" height=\"500\" style=\"fill: rgb(255, 255, 255); fill-opacity: 1;\"/><defs id=\"defs-13d290\"><g class=\"clips\"><clipPath id=\"clip13d290xyplot\" class=\"plotclip\"><rect width=\"485\" height=\"320\"/></clipPath><clipPath class=\"axesclip\" id=\"clip13d290x\"><rect x=\"80\" y=\"0\" width=\"485\" height=\"500\"/></clipPath><clipPath class=\"axesclip\" id=\"clip13d290y\"><rect x=\"0\" y=\"100\" width=\"700\" height=\"320\"/></clipPath><clipPath class=\"axesclip\" id=\"clip13d290xy\"><rect x=\"80\" y=\"100\" width=\"485\" height=\"320\"/></clipPath></g><g class=\"gradients\"/><g class=\"patterns\"/></defs><g class=\"bglayer\"><rect class=\"bg\" x=\"80\" y=\"100\" width=\"485\" height=\"320\" style=\"fill: rgb(229, 236, 246); fill-opacity: 1; stroke-width: 0;\"/></g><g class=\"layer-below\"><g class=\"imagelayer\"/><g class=\"shapelayer\"/></g><g class=\"cartesianlayer\"><g class=\"subplot xy\"><g class=\"layer-subplot\"><g class=\"shapelayer\"/><g class=\"imagelayer\"/></g><g class=\"minor-gridlayer\"><g class=\"x\"/><g class=\"y\"/></g><g class=\"gridlayer\"><g class=\"x\"><path class=\"xgrid crisp\" transform=\"translate(120.68,0)\" d=\"M0,100v320\" style=\"stroke: rgb(255, 255, 255); stroke-opacity: 1; stroke-width: 1px;\"/><path class=\"xgrid crisp\" transform=\"translate(202.03,0)\" d=\"M0,100v320\" style=\"stroke: rgb(255, 255, 255); stroke-opacity: 1; stroke-width: 1px;\"/><path class=\"xgrid crisp\" transform=\"translate(283.49,0)\" d=\"M0,100v320\" style=\"stroke: rgb(255, 255, 255); stroke-opacity: 1; stroke-width: 1px;\"/><path class=\"xgrid crisp\" transform=\"translate(364.85,0)\" d=\"M0,100v320\" style=\"stroke: rgb(255, 255, 255); stroke-opacity: 1; stroke-width: 1px;\"/><path class=\"xgrid crisp\" transform=\"translate(446.31,0)\" d=\"M0,100v320\" style=\"stroke: rgb(255, 255, 255); stroke-opacity: 1; stroke-width: 1px;\"/><path class=\"xgrid crisp\" transform=\"translate(527.6700000000001,0)\" d=\"M0,100v320\" style=\"stroke: rgb(255, 255, 255); stroke-opacity: 1; stroke-width: 1px;\"/></g><g class=\"y\"><path class=\"ygrid crisp\" transform=\"translate(0,406.22)\" d=\"M80,0h485\" style=\"stroke: rgb(255, 255, 255); stroke-opacity: 1; stroke-width: 1px;\"/><path class=\"ygrid crisp\" transform=\"translate(0,350.63)\" d=\"M80,0h485\" style=\"stroke: rgb(255, 255, 255); stroke-opacity: 1; stroke-width: 1px;\"/><path class=\"ygrid crisp\" transform=\"translate(0,295.03)\" d=\"M80,0h485\" style=\"stroke: rgb(255, 255, 255); stroke-opacity: 1; stroke-width: 1px;\"/><path class=\"ygrid crisp\" transform=\"translate(0,239.43)\" d=\"M80,0h485\" style=\"stroke: rgb(255, 255, 255); stroke-opacity: 1; stroke-width: 1px;\"/><path class=\"ygrid crisp\" transform=\"translate(0,183.82999999999998)\" d=\"M80,0h485\" style=\"stroke: rgb(255, 255, 255); stroke-opacity: 1; stroke-width: 1px;\"/><path class=\"ygrid crisp\" transform=\"translate(0,128.23)\" d=\"M80,0h485\" style=\"stroke: rgb(255, 255, 255); stroke-opacity: 1; stroke-width: 1px;\"/></g></g><g class=\"zerolinelayer\"/><path class=\"xlines-below\"/><path class=\"ylines-below\"/><g class=\"overlines-below\"/><g class=\"xaxislayer-below\"/><g class=\"yaxislayer-below\"/><g class=\"overaxes-below\"/><g class=\"plot\" transform=\"translate(80,100)\" clip-path=\"url(#clip13d290xyplot)\"><g class=\"scatterlayer mlayer\"><g class=\"trace scatter traceb4c902\" style=\"stroke-miterlimit: 2; opacity: 1;\"><g class=\"fills\"/><g class=\"errorbars\"/><g class=\"lines\"><path class=\"js-line\" d=\"M0,299.55L3.45,296.22L6.58,288.43L10.03,290.1L13.37,294.55L20.17,279.54L23.63,279.54L27.08,286.21L30.42,295.66L33.88,304L37.22,296.22L40.68,297.88L44.13,291.77L47.25,283.43L50.71,286.76L54.05,292.32L57.5,278.98L60.85,267.31L64.3,267.31L67.76,273.98L71.1,287.88L74.56,298.44L77.9,283.98L84.81,278.42L87.93,262.86L91.38,271.2L94.73,266.19L98.18,262.86L101.52,251.18L104.98,251.18L108.43,259.52L111.78,271.75L115.23,280.65L118.58,269.53L122.03,266.75L125.48,261.75L128.72,254.52L132.17,261.19L135.51,260.08L138.97,240.62L142.31,233.95L145.77,227.27L149.22,245.62L156.02,266.19L159.36,253.96L162.82,252.85L166.27,252.85L169.39,230.61L172.85,231.17L176.19,234.5L179.65,226.72L182.99,215.04L186.44,210.59L189.9,230.05L193.24,244.51L196.7,261.75L200.04,250.07L203.49,248.4L206.95,257.3L210.07,231.17L213.52,235.61L216.87,231.72L220.32,215.04L223.67,193.92L227.12,198.92L233.92,234.5L237.37,248.96L240.72,234.5L244.17,227.27L247.63,232.28L250.75,213.37L257.54,211.71L261,186.69L264.34,159.44L267.8,168.9L278.05,230.05L281.39,207.26L284.85,203.92L288.3,207.81L291.53,185.58L294.99,187.8L298.33,185.02L301.79,153.88L305.13,132.2L308.59,136.65L315.38,191.69L318.84,211.15L322.18,191.69L325.64,186.69L329.09,194.47L332.21,163.89L335.67,168.34L339.01,164.45L342.46,127.2L345.81,103.29L349.26,102.18L352.72,137.2L356.06,168.9L359.52,192.25L362.86,175.01L366.31,172.79L369.77,185.02L372.89,160.56L376.34,168.34L379.69,160L386.48,88.83L389.94,81.05L393.39,137.2L396.74,162.22L400.19,189.47L403.54,174.46L406.99,161.67L410.44,171.68L413.57,136.09L417.02,141.65L420.36,128.31L423.82,99.4L427.16,57.14L430.62,51.03L434.07,104.4L437.41,135.54L440.87,160.56L444.21,136.65L447.67,129.98L451.12,144.43L454.35,128.86L457.81,105.51L461.15,99.4L464.61,64.37L467.95,16L471.4,24.9L474.86,79.38L478.2,105.51L481.66,144.99L485,121.64\" style=\"vector-effect: none; fill: none; stroke: rgb(99, 110, 250); stroke-opacity: 1; stroke-width: 2px; opacity: 1;\"/></g><g class=\"points\"/><g class=\"text\"/></g></g></g><g class=\"overplot\"/><path class=\"xlines-above crisp\" d=\"M0,0\" style=\"fill: none;\"/><path class=\"ylines-above crisp\" d=\"M0,0\" style=\"fill: none;\"/><g class=\"overlines-above\"/><g class=\"xaxislayer-above\"><g class=\"xtick\"><text text-anchor=\"middle\" x=\"0\" y=\"433\" transform=\"translate(120.68,0)\" style=\"font-family: 'Open Sans', verdana, arial, sans-serif; font-size: 12px; fill: rgb(42, 63, 95); fill-opacity: 1; white-space: pre; opacity: 1;\">1950</text></g><g class=\"xtick\"><text text-anchor=\"middle\" x=\"0\" y=\"433\" style=\"font-family: 'Open Sans', verdana, arial, sans-serif; font-size: 12px; fill: rgb(42, 63, 95); fill-opacity: 1; white-space: pre; opacity: 1;\" transform=\"translate(202.03,0)\">1952</text></g><g class=\"xtick\"><text text-anchor=\"middle\" x=\"0\" y=\"433\" style=\"font-family: 'Open Sans', verdana, arial, sans-serif; font-size: 12px; fill: rgb(42, 63, 95); fill-opacity: 1; white-space: pre; opacity: 1;\" transform=\"translate(283.49,0)\">1954</text></g><g class=\"xtick\"><text text-anchor=\"middle\" x=\"0\" y=\"433\" style=\"font-family: 'Open Sans', verdana, arial, sans-serif; font-size: 12px; fill: rgb(42, 63, 95); fill-opacity: 1; white-space: pre; opacity: 1;\" transform=\"translate(364.85,0)\">1956</text></g><g class=\"xtick\"><text text-anchor=\"middle\" x=\"0\" y=\"433\" style=\"font-family: 'Open Sans', verdana, arial, sans-serif; font-size: 12px; fill: rgb(42, 63, 95); fill-opacity: 1; white-space: pre; opacity: 1;\" transform=\"translate(446.31,0)\">1958</text></g><g class=\"xtick\"><text text-anchor=\"middle\" x=\"0\" y=\"433\" style=\"font-family: 'Open Sans', verdana, arial, sans-serif; font-size: 12px; fill: rgb(42, 63, 95); fill-opacity: 1; white-space: pre; opacity: 1;\" transform=\"translate(527.6700000000001,0)\">1960</text></g></g><g class=\"yaxislayer-above\"><g class=\"ytick\"><text text-anchor=\"end\" x=\"79\" y=\"4.199999999999999\" transform=\"translate(0,406.22)\" style=\"font-family: 'Open Sans', verdana, arial, sans-serif; font-size: 12px; fill: rgb(42, 63, 95); fill-opacity: 1; white-space: pre; opacity: 1;\">100</text></g><g class=\"ytick\"><text text-anchor=\"end\" x=\"79\" y=\"4.199999999999999\" style=\"font-family: 'Open Sans', verdana, arial, sans-serif; font-size: 12px; fill: rgb(42, 63, 95); fill-opacity: 1; white-space: pre; opacity: 1;\" transform=\"translate(0,350.63)\">200</text></g><g class=\"ytick\"><text text-anchor=\"end\" x=\"79\" y=\"4.199999999999999\" style=\"font-family: 'Open Sans', verdana, arial, sans-serif; font-size: 12px; fill: rgb(42, 63, 95); fill-opacity: 1; white-space: pre; opacity: 1;\" transform=\"translate(0,295.03)\">300</text></g><g class=\"ytick\"><text text-anchor=\"end\" x=\"79\" y=\"4.199999999999999\" style=\"font-family: 'Open Sans', verdana, arial, sans-serif; font-size: 12px; fill: rgb(42, 63, 95); fill-opacity: 1; white-space: pre; opacity: 1;\" transform=\"translate(0,239.43)\">400</text></g><g class=\"ytick\"><text text-anchor=\"end\" x=\"79\" y=\"4.199999999999999\" style=\"font-family: 'Open Sans', verdana, arial, sans-serif; font-size: 12px; fill: rgb(42, 63, 95); fill-opacity: 1; white-space: pre; opacity: 1;\" transform=\"translate(0,183.82999999999998)\">500</text></g><g class=\"ytick\"><text text-anchor=\"end\" x=\"79\" y=\"4.199999999999999\" style=\"font-family: 'Open Sans', verdana, arial, sans-serif; font-size: 12px; fill: rgb(42, 63, 95); fill-opacity: 1; white-space: pre; opacity: 1;\" transform=\"translate(0,128.23)\">600</text></g></g><g class=\"overaxes-above\"/></g></g><g class=\"polarlayer\"/><g class=\"smithlayer\"/><g class=\"ternarylayer\"/><g class=\"geolayer\"/><g class=\"funnelarealayer\"/><g class=\"pielayer\"/><g class=\"iciclelayer\"/><g class=\"treemaplayer\"/><g class=\"sunburstlayer\"/><g class=\"glimages\"/><defs id=\"topdefs-13d290\"><g class=\"clips\"/><clipPath id=\"legend13d290\"><rect width=\"113\" height=\"48\" x=\"0\" y=\"0\"/></clipPath></defs><g class=\"layer-above\"><g class=\"imagelayer\"/><g class=\"shapelayer\"/></g><g class=\"infolayer\"><g class=\"legend\" pointer-events=\"all\" transform=\"translate(574.7,100)\"><rect class=\"bg\" shape-rendering=\"crispEdges\" style=\"stroke: rgb(68, 68, 68); stroke-opacity: 1; fill: rgb(255, 255, 255); fill-opacity: 1; stroke-width: 0px;\" width=\"113\" height=\"48\" x=\"0\" y=\"0\"/><g class=\"scrollbox\" transform=\"\" clip-path=\"url(#legend13d290)\"><text class=\"legendtitletext\" text-anchor=\"start\" x=\"2\" y=\"18.2\" style=\"font-family: 'Open Sans', verdana, arial, sans-serif; font-size: 14px; fill: rgb(42, 63, 95); fill-opacity: 1; white-space: pre;\">variable</text><g class=\"groups\" transform=\"\"><g class=\"traces\" transform=\"translate(0,32.7)\" style=\"opacity: 1;\"><text class=\"legendtext\" text-anchor=\"start\" x=\"40\" y=\"4.680000000000001\" style=\"font-family: 'Open Sans', verdana, arial, sans-serif; font-size: 12px; fill: rgb(42, 63, 95); fill-opacity: 1; white-space: pre;\">Passengers</text><g class=\"layers\" style=\"opacity: 1;\"><g class=\"legendfill\"/><g class=\"legendlines\"><path class=\"js-line\" d=\"M5,0h30\" style=\"fill: none; stroke: rgb(99, 110, 250); stroke-opacity: 1; stroke-width: 2px;\"/></g><g class=\"legendsymbols\"><g class=\"legendpoints\"/></g></g><rect class=\"legendtoggle\" x=\"0\" y=\"-9.5\" width=\"107.6875\" height=\"19\" style=\"fill: rgb(0, 0, 0); fill-opacity: 0;\"/></g></g></g><rect class=\"scrollbar\" rx=\"20\" ry=\"3\" width=\"0\" height=\"0\" style=\"fill: rgb(128, 139, 164); fill-opacity: 1;\" x=\"0\" y=\"0\"/></g><g class=\"g-gtitle\"><text class=\"gtitle\" x=\"35\" y=\"50\" text-anchor=\"start\" dy=\"0em\" style=\"font-family: 'Open Sans', verdana, arial, sans-serif; font-size: 17px; fill: rgb(42, 63, 95); opacity: 1; font-weight: normal; white-space: pre;\">Monthly Totals of International Airline Passengers (1949-1960)</text></g><g class=\"g-xtitle\"><text class=\"xtitle\" x=\"322.5\" y=\"460.3\" text-anchor=\"middle\" style=\"font-family: 'Open Sans', verdana, arial, sans-serif; font-size: 14px; fill: rgb(42, 63, 95); opacity: 1; font-weight: normal; white-space: pre;\">Month</text></g><g class=\"g-ytitle\"><text class=\"ytitle\" transform=\"rotate(-90,31.809375000000003,260)\" x=\"31.809375000000003\" y=\"260\" text-anchor=\"middle\" style=\"font-family: 'Open Sans', verdana, arial, sans-serif; font-size: 14px; fill: rgb(42, 63, 95); opacity: 1; font-weight: normal; white-space: pre;\">value</text></g></g></svg>"
      ]
     },
     "metadata": {},
     "output_type": "display_data"
    }
   ],
   "source": [
    "pd.options.plotting.backend = \"plotly\"\n",
    "df.plot(title='Monthly Totals of International Airline Passengers (1949-1960)')"
   ]
  },
  {
   "cell_type": "markdown",
   "id": "228a06b0",
   "metadata": {
    "papermill": {
     "duration": 0.002002,
     "end_time": "2024-05-29T22:26:20.620118",
     "exception": false,
     "start_time": "2024-05-29T22:26:20.618116",
     "status": "completed"
    },
    "tags": []
   },
   "source": [
    "## Testing for Stationarity: Raw Data\n",
    "- **Augmented Dickey-Fuller (ADF) Test**: Tests for trend stationarity. Null hypothesis: the series is non-stationary.\n",
    "- **Kwiatkowski-Phillips-Schmidt-Shin (KPSS) Test**: Tests for level stationarity. Null hypothesis: the series is stationary.\n",
    "\n",
    "Use both tests for a comprehensive assessment. The results guide the stationarity assumption and inform whether differencing or detrending is needed."
   ]
  },
  {
   "cell_type": "markdown",
   "id": "6e2e2ce6",
   "metadata": {
    "papermill": {
     "duration": 0.002035,
     "end_time": "2024-05-29T22:26:20.624387",
     "exception": false,
     "start_time": "2024-05-29T22:26:20.622352",
     "status": "completed"
    },
    "tags": []
   },
   "source": [
    "### ADF Test"
   ]
  },
  {
   "cell_type": "code",
   "execution_count": 3,
   "id": "cf57e4ab",
   "metadata": {
    "execution": {
     "iopub.execute_input": "2024-05-29T22:26:20.628795Z",
     "iopub.status.busy": "2024-05-29T22:26:20.628633Z",
     "iopub.status.idle": "2024-05-29T22:26:20.633624Z",
     "shell.execute_reply": "2024-05-29T22:26:20.633437Z"
    },
    "papermill": {
     "duration": 0.008052,
     "end_time": "2024-05-29T22:26:20.634332",
     "exception": false,
     "start_time": "2024-05-29T22:26:20.626280",
     "status": "completed"
    },
    "tags": []
   },
   "outputs": [
    {
     "name": "stdout",
     "output_type": "stream",
     "text": [
      "ADF Statistic: 0.8153688792060371\n",
      "p-value: 0.9918802434376408\n"
     ]
    }
   ],
   "source": [
    "result_adf = adfuller(df['Passengers'])\n",
    "print('ADF Statistic:', result_adf[0])\n",
    "print('p-value:', result_adf[1])"
   ]
  },
  {
   "cell_type": "markdown",
   "id": "11167e18",
   "metadata": {
    "papermill": {
     "duration": 0.001755,
     "end_time": "2024-05-29T22:26:20.637991",
     "exception": false,
     "start_time": "2024-05-29T22:26:20.636236",
     "status": "completed"
    },
    "tags": []
   },
   "source": [
    "### KPSS Test"
   ]
  },
  {
   "cell_type": "code",
   "execution_count": 4,
   "id": "40e9ef51",
   "metadata": {
    "execution": {
     "iopub.execute_input": "2024-05-29T22:26:20.641641Z",
     "iopub.status.busy": "2024-05-29T22:26:20.641548Z",
     "iopub.status.idle": "2024-05-29T22:26:20.643353Z",
     "shell.execute_reply": "2024-05-29T22:26:20.643161Z"
    },
    "papermill": {
     "duration": 0.004732,
     "end_time": "2024-05-29T22:26:20.644286",
     "exception": false,
     "start_time": "2024-05-29T22:26:20.639554",
     "status": "completed"
    },
    "tags": []
   },
   "outputs": [
    {
     "name": "stdout",
     "output_type": "stream",
     "text": [
      "\n",
      "KPSS Statistic: 1.6513122354165206\n",
      "p-value: 0.01\n"
     ]
    },
    {
     "name": "stderr",
     "output_type": "stream",
     "text": [
      "/var/folders/89/hqh4vvhn24q2xc8ph93krqz80000gn/T/ipykernel_34909/3353874632.py:1: InterpolationWarning:\n",
      "\n",
      "The test statistic is outside of the range of p-values available in the\n",
      "look-up table. The actual p-value is smaller than the p-value returned.\n",
      "\n",
      "\n"
     ]
    }
   ],
   "source": [
    "result_kpss = kpss(df['Passengers'], nlags=\"auto\")\n",
    "print('\\nKPSS Statistic:', result_kpss[0])\n",
    "print('p-value:', result_kpss[1])"
   ]
  },
  {
   "cell_type": "markdown",
   "id": "d14c67de",
   "metadata": {
    "papermill": {
     "duration": 0.001586,
     "end_time": "2024-05-29T22:26:20.647550",
     "exception": false,
     "start_time": "2024-05-29T22:26:20.645964",
     "status": "completed"
    },
    "tags": []
   },
   "source": [
    "## Differencing for Stationarity\n",
    "Apply differencing to the dataset and retest for stationarity using ADF and KPSS tests."
   ]
  },
  {
   "cell_type": "code",
   "execution_count": 5,
   "id": "3c645cc4",
   "metadata": {
    "execution": {
     "iopub.execute_input": "2024-05-29T22:26:20.651211Z",
     "iopub.status.busy": "2024-05-29T22:26:20.651129Z",
     "iopub.status.idle": "2024-05-29T22:26:20.655434Z",
     "shell.execute_reply": "2024-05-29T22:26:20.655213Z"
    },
    "papermill": {
     "duration": 0.007192,
     "end_time": "2024-05-29T22:26:20.656319",
     "exception": false,
     "start_time": "2024-05-29T22:26:20.649127",
     "status": "completed"
    },
    "tags": []
   },
   "outputs": [
    {
     "data": {
      "text/html": [
       "<div>\n",
       "<style scoped>\n",
       "    .dataframe tbody tr th:only-of-type {\n",
       "        vertical-align: middle;\n",
       "    }\n",
       "\n",
       "    .dataframe tbody tr th {\n",
       "        vertical-align: top;\n",
       "    }\n",
       "\n",
       "    .dataframe thead th {\n",
       "        text-align: right;\n",
       "    }\n",
       "</style>\n",
       "<table border=\"1\" class=\"dataframe\">\n",
       "  <thead>\n",
       "    <tr style=\"text-align: right;\">\n",
       "      <th></th>\n",
       "      <th>Passengers</th>\n",
       "      <th>diff_stationarity</th>\n",
       "    </tr>\n",
       "    <tr>\n",
       "      <th>Month</th>\n",
       "      <th></th>\n",
       "      <th></th>\n",
       "    </tr>\n",
       "  </thead>\n",
       "  <tbody>\n",
       "    <tr>\n",
       "      <th>1949-01-01</th>\n",
       "      <td>112</td>\n",
       "      <td>NaN</td>\n",
       "    </tr>\n",
       "    <tr>\n",
       "      <th>1949-02-01</th>\n",
       "      <td>118</td>\n",
       "      <td>6.0</td>\n",
       "    </tr>\n",
       "    <tr>\n",
       "      <th>...</th>\n",
       "      <td>...</td>\n",
       "      <td>...</td>\n",
       "    </tr>\n",
       "    <tr>\n",
       "      <th>1960-11-01</th>\n",
       "      <td>390</td>\n",
       "      <td>-71.0</td>\n",
       "    </tr>\n",
       "    <tr>\n",
       "      <th>1960-12-01</th>\n",
       "      <td>432</td>\n",
       "      <td>42.0</td>\n",
       "    </tr>\n",
       "  </tbody>\n",
       "</table>\n",
       "<p>144 rows × 2 columns</p>\n",
       "</div>"
      ],
      "text/plain": [
       "            Passengers  diff_stationarity\n",
       "Month                                    \n",
       "1949-01-01         112                NaN\n",
       "1949-02-01         118                6.0\n",
       "...                ...                ...\n",
       "1960-11-01         390              -71.0\n",
       "1960-12-01         432               42.0\n",
       "\n",
       "[144 rows x 2 columns]"
      ]
     },
     "execution_count": 5,
     "metadata": {},
     "output_type": "execute_result"
    }
   ],
   "source": [
    "# Differencing\n",
    "df['diff_stationarity'] = df['Passengers'].diff().dropna()\n",
    "df"
   ]
  },
  {
   "cell_type": "code",
   "execution_count": 6,
   "id": "3fd91999",
   "metadata": {
    "execution": {
     "iopub.execute_input": "2024-05-29T22:26:20.660536Z",
     "iopub.status.busy": "2024-05-29T22:26:20.660438Z",
     "iopub.status.idle": "2024-05-29T22:26:20.664038Z",
     "shell.execute_reply": "2024-05-29T22:26:20.663787Z"
    },
    "papermill": {
     "duration": 0.006784,
     "end_time": "2024-05-29T22:26:20.665008",
     "exception": false,
     "start_time": "2024-05-29T22:26:20.658224",
     "status": "completed"
    },
    "tags": []
   },
   "outputs": [
    {
     "data": {
      "text/html": [
       "<div>\n",
       "<style scoped>\n",
       "    .dataframe tbody tr th:only-of-type {\n",
       "        vertical-align: middle;\n",
       "    }\n",
       "\n",
       "    .dataframe tbody tr th {\n",
       "        vertical-align: top;\n",
       "    }\n",
       "\n",
       "    .dataframe thead th {\n",
       "        text-align: right;\n",
       "    }\n",
       "</style>\n",
       "<table border=\"1\" class=\"dataframe\">\n",
       "  <thead>\n",
       "    <tr style=\"text-align: right;\">\n",
       "      <th></th>\n",
       "      <th>Passengers (Original)</th>\n",
       "      <th>Diff Stationarity</th>\n",
       "    </tr>\n",
       "    <tr>\n",
       "      <th>Month</th>\n",
       "      <th></th>\n",
       "      <th></th>\n",
       "    </tr>\n",
       "  </thead>\n",
       "  <tbody>\n",
       "    <tr>\n",
       "      <th>1949-01-01</th>\n",
       "      <td>112</td>\n",
       "      <td>NaN</td>\n",
       "    </tr>\n",
       "    <tr>\n",
       "      <th>1949-02-01</th>\n",
       "      <td>118</td>\n",
       "      <td>6.0</td>\n",
       "    </tr>\n",
       "    <tr>\n",
       "      <th>...</th>\n",
       "      <td>...</td>\n",
       "      <td>...</td>\n",
       "    </tr>\n",
       "    <tr>\n",
       "      <th>1960-11-01</th>\n",
       "      <td>390</td>\n",
       "      <td>-71.0</td>\n",
       "    </tr>\n",
       "    <tr>\n",
       "      <th>1960-12-01</th>\n",
       "      <td>432</td>\n",
       "      <td>42.0</td>\n",
       "    </tr>\n",
       "  </tbody>\n",
       "</table>\n",
       "<p>144 rows × 2 columns</p>\n",
       "</div>"
      ],
      "text/plain": [
       "            Passengers (Original)  Diff Stationarity\n",
       "Month                                               \n",
       "1949-01-01                    112                NaN\n",
       "1949-02-01                    118                6.0\n",
       "...                           ...                ...\n",
       "1960-11-01                    390              -71.0\n",
       "1960-12-01                    432               42.0\n",
       "\n",
       "[144 rows x 2 columns]"
      ]
     },
     "execution_count": 6,
     "metadata": {},
     "output_type": "execute_result"
    }
   ],
   "source": [
    "dff = df.rename(columns={'Passengers': 'Passengers (Original)', 'diff_stationarity': 'Diff Stationarity'})\n",
    "dff"
   ]
  },
  {
   "cell_type": "code",
   "execution_count": 7,
   "id": "2c649b2b",
   "metadata": {
    "execution": {
     "iopub.execute_input": "2024-05-29T22:26:20.669382Z",
     "iopub.status.busy": "2024-05-29T22:26:20.669268Z",
     "iopub.status.idle": "2024-05-29T22:26:20.705298Z",
     "shell.execute_reply": "2024-05-29T22:26:20.705034Z"
    },
    "papermill": {
     "duration": 0.039177,
     "end_time": "2024-05-29T22:26:20.706083",
     "exception": false,
     "start_time": "2024-05-29T22:26:20.666906",
     "status": "completed"
    },
    "tags": []
   },
   "outputs": [
    {
     "data": {
      "image/svg+xml": [
       "<svg class=\"main-svg\" xmlns=\"http://www.w3.org/2000/svg\" xmlns:xlink=\"http://www.w3.org/1999/xlink\" width=\"700\" height=\"600\" style=\"\" viewBox=\"0 0 700 600\"><rect x=\"0\" y=\"0\" width=\"700\" height=\"600\" style=\"fill: rgb(255, 255, 255); fill-opacity: 1;\"/><defs id=\"defs-58fc00\"><g class=\"clips\"><clipPath id=\"clip58fc00xyplot\" class=\"plotclip\"><rect width=\"540\" height=\"178.50000000000003\"/></clipPath><clipPath id=\"clip58fc00x2y2plot\" class=\"plotclip\"><rect width=\"540\" height=\"178.5\"/></clipPath><clipPath class=\"axesclip\" id=\"clip58fc00x\"><rect x=\"80\" y=\"0\" width=\"540\" height=\"600\"/></clipPath><clipPath class=\"axesclip\" id=\"clip58fc00y\"><rect x=\"0\" y=\"100\" width=\"700\" height=\"178.50000000000003\"/></clipPath><clipPath class=\"axesclip\" id=\"clip58fc00xy\"><rect x=\"80\" y=\"100\" width=\"540\" height=\"178.50000000000003\"/></clipPath><clipPath class=\"axesclip\" id=\"clip58fc00y2\"><rect x=\"0\" y=\"341.5\" width=\"700\" height=\"178.5\"/></clipPath><clipPath class=\"axesclip\" id=\"clip58fc00xy2\"><rect x=\"80\" y=\"341.5\" width=\"540\" height=\"178.5\"/></clipPath><clipPath class=\"axesclip\" id=\"clip58fc00x2\"><rect x=\"80\" y=\"0\" width=\"540\" height=\"600\"/></clipPath><clipPath class=\"axesclip\" id=\"clip58fc00x2y\"><rect x=\"80\" y=\"100\" width=\"540\" height=\"178.50000000000003\"/></clipPath><clipPath class=\"axesclip\" id=\"clip58fc00x2y2\"><rect x=\"80\" y=\"341.5\" width=\"540\" height=\"178.5\"/></clipPath></g><g class=\"gradients\"/><g class=\"patterns\"/></defs><g class=\"bglayer\"><rect class=\"bg\" x=\"80\" y=\"100\" width=\"540\" height=\"178.50000000000003\" style=\"fill: rgb(229, 236, 246); fill-opacity: 1; stroke-width: 0;\"/><rect class=\"bg\" x=\"80\" y=\"341.5\" width=\"540\" height=\"178.5\" style=\"fill: rgb(229, 236, 246); fill-opacity: 1; stroke-width: 0;\"/></g><g class=\"layer-below\"><g class=\"imagelayer\"/><g class=\"shapelayer\"/></g><g class=\"cartesianlayer\"><g class=\"subplot xy\"><g class=\"layer-subplot\"><g class=\"shapelayer\"/><g class=\"imagelayer\"/></g><g class=\"minor-gridlayer\"><g class=\"x\"/><g class=\"y\"/></g><g class=\"gridlayer\"><g class=\"x\"><path class=\"xgrid crisp\" transform=\"translate(125.28999999999999,0)\" d=\"M0,100v178.50000000000003\" style=\"stroke: rgb(255, 255, 255); stroke-opacity: 1; stroke-width: 1px;\"/><path class=\"xgrid crisp\" transform=\"translate(215.87,0)\" d=\"M0,100v178.50000000000003\" style=\"stroke: rgb(255, 255, 255); stroke-opacity: 1; stroke-width: 1px;\"/><path class=\"xgrid crisp\" transform=\"translate(306.57,0)\" d=\"M0,100v178.50000000000003\" style=\"stroke: rgb(255, 255, 255); stroke-opacity: 1; stroke-width: 1px;\"/><path class=\"xgrid crisp\" transform=\"translate(397.15,0)\" d=\"M0,100v178.50000000000003\" style=\"stroke: rgb(255, 255, 255); stroke-opacity: 1; stroke-width: 1px;\"/><path class=\"xgrid crisp\" transform=\"translate(487.85,0)\" d=\"M0,100v178.50000000000003\" style=\"stroke: rgb(255, 255, 255); stroke-opacity: 1; stroke-width: 1px;\"/><path class=\"xgrid crisp\" transform=\"translate(578.4300000000001,0)\" d=\"M0,100v178.50000000000003\" style=\"stroke: rgb(255, 255, 255); stroke-opacity: 1; stroke-width: 1px;\"/></g><g class=\"y\"><path class=\"ygrid crisp\" transform=\"translate(0,239.8)\" d=\"M80,0h540\" style=\"stroke: rgb(255, 255, 255); stroke-opacity: 1; stroke-width: 1px;\"/><path class=\"ygrid crisp\" transform=\"translate(0,177.78)\" d=\"M80,0h540\" style=\"stroke: rgb(255, 255, 255); stroke-opacity: 1; stroke-width: 1px;\"/><path class=\"ygrid crisp\" transform=\"translate(0,115.75)\" d=\"M80,0h540\" style=\"stroke: rgb(255, 255, 255); stroke-opacity: 1; stroke-width: 1px;\"/></g></g><g class=\"zerolinelayer\"/><path class=\"xlines-below\"/><path class=\"ylines-below\"/><g class=\"overlines-below\"/><g class=\"xaxislayer-below\"/><g class=\"yaxislayer-below\"/><g class=\"overaxes-below\"/><g class=\"plot\" transform=\"translate(80,100)\" clip-path=\"url(#clip58fc00xyplot)\"><g class=\"scatterlayer mlayer\"><g class=\"trace scatter traceec7735\" style=\"stroke-miterlimit: 2; opacity: 1;\"><g class=\"fills\"/><g class=\"errorbars\"/><g class=\"lines\"><path class=\"js-line\" d=\"M0,167.09L3.85,165.23L7.32,160.89L11.17,161.82L14.89,164.3L22.46,155.93L26.31,155.93L30.15,159.65L33.87,164.92L37.72,169.58L41.44,165.23L45.29,166.16L49.14,162.75L52.61,158.1L56.46,159.96L60.18,163.06L64.03,155.62L67.75,149.11L71.59,149.11L75.44,152.83L79.16,160.58L83.01,166.47L86.73,158.41L94.43,155.31L97.9,146.63L101.75,151.28L105.47,148.49L109.32,146.63L113.04,140.11L116.88,140.11L120.73,144.76L124.45,151.59L128.3,156.55L132.02,150.35L135.87,148.8L139.72,146L143.31,141.97L147.16,145.69L150.88,145.07L154.73,134.22L158.45,130.5L162.3,126.78L166.14,137.01L173.71,148.49L177.44,141.66L185.13,141.04L188.6,128.64L192.45,128.95L196.17,130.81L200.02,126.47L203.74,119.95L207.59,117.47L211.43,128.33L219,146L222.73,139.49L226.57,138.56L230.42,143.52L233.89,128.95L237.74,131.43L241.46,129.26L245.31,119.95L249.03,108.17L252.88,110.96L260.45,130.81L264.29,138.87L268.01,130.81L271.86,126.78L275.71,129.57L279.18,119.02L286.75,118.09L290.6,104.14L294.32,88.94L298.17,94.21L309.58,128.33L313.3,115.61L317.15,113.75L321,115.92L324.6,103.52L328.44,104.76L332.16,103.21L336.01,85.84L339.73,73.74L343.58,76.22L351.15,106.93L355,117.78L358.72,106.93L362.56,104.14L366.41,108.48L369.89,91.42L373.73,93.9L377.45,91.73L381.3,70.95L385.02,57.62L388.87,57L392.72,76.53L396.44,94.21L400.28,107.24L404.01,97.62L407.85,96.38L411.7,103.21L415.17,89.56L419.02,93.9L422.74,89.25L430.31,49.55L434.16,45.21L438.01,76.53L441.73,90.49L445.57,105.69L449.3,97.31L453.14,90.18L456.99,95.76L460.46,75.91L464.31,79.02L468.03,71.57L471.88,55.45L475.6,31.88L479.45,28.46L483.3,58.24L487.02,75.6L490.86,89.56L494.59,76.22L498.43,72.5L502.28,80.57L505.88,71.88L509.72,58.86L513.45,55.45L517.29,35.91L521.02,8.93L524.86,13.89L528.71,44.28L532.43,58.86L536.28,80.88L540,67.85\" style=\"vector-effect: none; fill: none; stroke: rgb(99, 110, 250); stroke-opacity: 1; stroke-width: 2px; opacity: 1;\"/></g><g class=\"points\"/><g class=\"text\"/></g></g></g><g class=\"overplot\"/><path class=\"xlines-above crisp\" d=\"M0,0\" style=\"fill: none;\"/><path class=\"ylines-above crisp\" d=\"M0,0\" style=\"fill: none;\"/><g class=\"overlines-above\"/><g class=\"xaxislayer-above\"><g class=\"xtick\"><text text-anchor=\"middle\" x=\"0\" y=\"291.5\" transform=\"translate(125.28999999999999,0)\" style=\"font-family: 'Open Sans', verdana, arial, sans-serif; font-size: 12px; fill: rgb(42, 63, 95); fill-opacity: 1; white-space: pre; opacity: 1;\">1950</text></g><g class=\"xtick\"><text text-anchor=\"middle\" x=\"0\" y=\"291.5\" style=\"font-family: 'Open Sans', verdana, arial, sans-serif; font-size: 12px; fill: rgb(42, 63, 95); fill-opacity: 1; white-space: pre; opacity: 1;\" transform=\"translate(215.87,0)\">1952</text></g><g class=\"xtick\"><text text-anchor=\"middle\" x=\"0\" y=\"291.5\" style=\"font-family: 'Open Sans', verdana, arial, sans-serif; font-size: 12px; fill: rgb(42, 63, 95); fill-opacity: 1; white-space: pre; opacity: 1;\" transform=\"translate(306.57,0)\">1954</text></g><g class=\"xtick\"><text text-anchor=\"middle\" x=\"0\" y=\"291.5\" style=\"font-family: 'Open Sans', verdana, arial, sans-serif; font-size: 12px; fill: rgb(42, 63, 95); fill-opacity: 1; white-space: pre; opacity: 1;\" transform=\"translate(397.15,0)\">1956</text></g><g class=\"xtick\"><text text-anchor=\"middle\" x=\"0\" y=\"291.5\" style=\"font-family: 'Open Sans', verdana, arial, sans-serif; font-size: 12px; fill: rgb(42, 63, 95); fill-opacity: 1; white-space: pre; opacity: 1;\" transform=\"translate(487.85,0)\">1958</text></g><g class=\"xtick\"><text text-anchor=\"middle\" x=\"0\" y=\"291.5\" style=\"font-family: 'Open Sans', verdana, arial, sans-serif; font-size: 12px; fill: rgb(42, 63, 95); fill-opacity: 1; white-space: pre; opacity: 1;\" transform=\"translate(578.4300000000001,0)\">1960</text></g></g><g class=\"yaxislayer-above\"><g class=\"ytick\"><text text-anchor=\"end\" x=\"79\" y=\"4.199999999999999\" transform=\"translate(0,239.8)\" style=\"font-family: 'Open Sans', verdana, arial, sans-serif; font-size: 12px; fill: rgb(42, 63, 95); fill-opacity: 1; white-space: pre; opacity: 1;\">200</text></g><g class=\"ytick\"><text text-anchor=\"end\" x=\"79\" y=\"4.199999999999999\" style=\"font-family: 'Open Sans', verdana, arial, sans-serif; font-size: 12px; fill: rgb(42, 63, 95); fill-opacity: 1; white-space: pre; opacity: 1;\" transform=\"translate(0,177.78)\">400</text></g><g class=\"ytick\"><text text-anchor=\"end\" x=\"79\" y=\"4.199999999999999\" style=\"font-family: 'Open Sans', verdana, arial, sans-serif; font-size: 12px; fill: rgb(42, 63, 95); fill-opacity: 1; white-space: pre; opacity: 1;\" transform=\"translate(0,115.75)\">600</text></g></g><g class=\"overaxes-above\"/></g><g class=\"subplot x2y2\"><g class=\"layer-subplot\"><g class=\"shapelayer\"/><g class=\"imagelayer\"/></g><g class=\"minor-gridlayer\"><g class=\"x2\"/><g class=\"y2\"/></g><g class=\"gridlayer\"><g class=\"x2\"><path class=\"x2grid crisp\" transform=\"translate(125.28999999999999,0)\" d=\"M0,341.5v178.5\" style=\"stroke: rgb(255, 255, 255); stroke-opacity: 1; stroke-width: 1px;\"/><path class=\"x2grid crisp\" transform=\"translate(215.87,0)\" d=\"M0,341.5v178.5\" style=\"stroke: rgb(255, 255, 255); stroke-opacity: 1; stroke-width: 1px;\"/><path class=\"x2grid crisp\" transform=\"translate(306.57,0)\" d=\"M0,341.5v178.5\" style=\"stroke: rgb(255, 255, 255); stroke-opacity: 1; stroke-width: 1px;\"/><path class=\"x2grid crisp\" transform=\"translate(397.15,0)\" d=\"M0,341.5v178.5\" style=\"stroke: rgb(255, 255, 255); stroke-opacity: 1; stroke-width: 1px;\"/><path class=\"x2grid crisp\" transform=\"translate(487.85,0)\" d=\"M0,341.5v178.5\" style=\"stroke: rgb(255, 255, 255); stroke-opacity: 1; stroke-width: 1px;\"/><path class=\"x2grid crisp\" transform=\"translate(578.4300000000001,0)\" d=\"M0,341.5v178.5\" style=\"stroke: rgb(255, 255, 255); stroke-opacity: 1; stroke-width: 1px;\"/></g><g class=\"y2\"><path class=\"y2grid crisp\" transform=\"translate(0,510.22)\" d=\"M80,0h540\" style=\"stroke: rgb(255, 255, 255); stroke-opacity: 1; stroke-width: 1px;\"/><path class=\"y2grid crisp\" transform=\"translate(0,467.49)\" d=\"M80,0h540\" style=\"stroke: rgb(255, 255, 255); stroke-opacity: 1; stroke-width: 1px;\"/><path class=\"y2grid crisp\" transform=\"translate(0,382.04)\" d=\"M80,0h540\" style=\"stroke: rgb(255, 255, 255); stroke-opacity: 1; stroke-width: 1px;\"/></g></g><g class=\"zerolinelayer\"><path class=\"y2zl zl crisp\" transform=\"translate(0,424.77)\" d=\"M80,0h540\" style=\"stroke: rgb(255, 255, 255); stroke-opacity: 1; stroke-width: 2px;\"/></g><path class=\"xlines-below\"/><path class=\"ylines-below\"/><g class=\"overlines-below\"/><g class=\"xaxislayer-below\"/><g class=\"yaxislayer-below\"/><g class=\"overaxes-below\"/><g class=\"plot\" transform=\"translate(80,341.5)\" clip-path=\"url(#clip58fc00x2y2plot)\"><g class=\"scatterlayer mlayer\"><g class=\"trace scatter traceac6f1d\" style=\"stroke-miterlimit: 2; opacity: 1;\"><g class=\"fills\"/><g class=\"errorbars\"/><g class=\"lines\"><path class=\"js-line\" d=\"M3.85,78.14L7.32,71.31L11.17,85.83L14.89,90.1L18.74,71.31L22.46,72.16L26.31,83.27L30.15,93.52L33.87,97.8L37.72,96.09L41.44,71.31L45.29,85.83L49.14,73.87L52.61,70.45L56.46,88.4L60.18,91.81L64.03,62.76L67.75,65.32L71.59,83.27L79.16,104.63L83.01,99.5L86.73,61.05L90.58,79L94.43,79L97.9,59.34L101.75,96.09L105.47,75.58L109.32,78.14L113.04,65.32L116.88,83.27L120.73,96.09L124.45,102.07L128.3,96.94L132.02,66.18L135.87,79L143.31,72.16L147.16,93.52L150.88,81.56L154.73,53.36L158.45,73.01L162.3,73.01L166.14,111.47L169.87,98.65L173.71,99.5L177.44,64.47L181.28,81.56L185.13,83.27L188.6,49.09L192.45,84.12L196.17,88.4L200.02,71.31L203.74,65.32L207.59,76.43L211.43,113.18L215.16,105.49L219,109.76L222.73,65.32L230.42,96.94L233.89,43.11L237.74,90.1L241.46,77.29L245.31,57.63L249.03,50.8L252.88,90.96L256.72,112.32L264.29,105.49L268.01,61.05L271.86,72.16L275.71,90.96L279.18,54.21L283.03,81.56L286.75,82.41L290.6,44.81L294.32,41.4L298.17,97.8L302.01,113.18L305.74,115.74L309.58,114.89L313.3,48.23L317.15,78.14L321,89.25L324.6,49.09L328.44,86.69L332.16,79L336.01,35.42L339.73,49.94L343.58,90.1L347.43,125.99L351.15,125.14L355,113.18L358.72,53.36L366.41,95.23L369.89,36.27L373.73,90.1L377.45,77.29L381.3,26.02L385.02,46.52L388.87,81.56L392.72,137.1L396.44,131.98L400.28,119.16L404.01,56.78L407.85,79.85L411.7,102.07L415.17,45.67L419.02,95.23L422.74,70.45L426.59,21.74L430.31,35.42L434.16,71.31L438.01,169.58L441.73,121.72L445.57,125.14L449.3,60.2L453.14,63.61L456.99,98.65L460.46,28.58L464.31,91.81L468.03,62.76L475.6,18.32L479.45,73.87L483.3,165.3L487.02,131.12L490.86,121.72L494.59,46.52L498.43,73.01L502.28,105.49L505.88,59.34L509.72,47.38L513.45,73.87L517.29,29.43L521.02,8.93L524.86,96.94L528.71,167.01L532.43,123.43L536.28,143.94L540,47.38\" style=\"vector-effect: none; fill: none; stroke: rgb(239, 85, 59); stroke-opacity: 1; stroke-width: 2px; opacity: 1;\"/></g><g class=\"points\"/><g class=\"text\"/></g></g></g><g class=\"overplot\"/><path class=\"xlines-above crisp\" d=\"M0,0\" style=\"fill: none;\"/><path class=\"ylines-above crisp\" d=\"M0,0\" style=\"fill: none;\"/><g class=\"overlines-above\"/><g class=\"xaxislayer-above\"><g class=\"x2tick\"><text text-anchor=\"middle\" x=\"0\" y=\"533\" transform=\"translate(125.28999999999999,0)\" style=\"font-family: 'Open Sans', verdana, arial, sans-serif; font-size: 12px; fill: rgb(42, 63, 95); fill-opacity: 1; white-space: pre; opacity: 1;\">1950</text></g><g class=\"x2tick\"><text text-anchor=\"middle\" x=\"0\" y=\"533\" style=\"font-family: 'Open Sans', verdana, arial, sans-serif; font-size: 12px; fill: rgb(42, 63, 95); fill-opacity: 1; white-space: pre; opacity: 1;\" transform=\"translate(215.87,0)\">1952</text></g><g class=\"x2tick\"><text text-anchor=\"middle\" x=\"0\" y=\"533\" style=\"font-family: 'Open Sans', verdana, arial, sans-serif; font-size: 12px; fill: rgb(42, 63, 95); fill-opacity: 1; white-space: pre; opacity: 1;\" transform=\"translate(306.57,0)\">1954</text></g><g class=\"x2tick\"><text text-anchor=\"middle\" x=\"0\" y=\"533\" style=\"font-family: 'Open Sans', verdana, arial, sans-serif; font-size: 12px; fill: rgb(42, 63, 95); fill-opacity: 1; white-space: pre; opacity: 1;\" transform=\"translate(397.15,0)\">1956</text></g><g class=\"x2tick\"><text text-anchor=\"middle\" x=\"0\" y=\"533\" style=\"font-family: 'Open Sans', verdana, arial, sans-serif; font-size: 12px; fill: rgb(42, 63, 95); fill-opacity: 1; white-space: pre; opacity: 1;\" transform=\"translate(487.85,0)\">1958</text></g><g class=\"x2tick\"><text text-anchor=\"middle\" x=\"0\" y=\"533\" style=\"font-family: 'Open Sans', verdana, arial, sans-serif; font-size: 12px; fill: rgb(42, 63, 95); fill-opacity: 1; white-space: pre; opacity: 1;\" transform=\"translate(578.4300000000001,0)\">1960</text></g></g><g class=\"yaxislayer-above\"><g class=\"y2tick\"><text text-anchor=\"end\" x=\"79\" y=\"4.199999999999999\" transform=\"translate(0,510.22)\" style=\"font-family: 'Open Sans', verdana, arial, sans-serif; font-size: 12px; fill: rgb(42, 63, 95); fill-opacity: 1; white-space: pre; opacity: 1;\">−100</text></g><g class=\"y2tick\"><text text-anchor=\"end\" x=\"79\" y=\"4.199999999999999\" style=\"font-family: 'Open Sans', verdana, arial, sans-serif; font-size: 12px; fill: rgb(42, 63, 95); fill-opacity: 1; white-space: pre; opacity: 1;\" transform=\"translate(0,467.49)\">−50</text></g><g class=\"y2tick\"><text text-anchor=\"end\" x=\"79\" y=\"4.199999999999999\" style=\"font-family: 'Open Sans', verdana, arial, sans-serif; font-size: 12px; fill: rgb(42, 63, 95); fill-opacity: 1; white-space: pre; opacity: 1;\" transform=\"translate(0,424.77)\">0</text></g><g class=\"y2tick\"><text text-anchor=\"end\" x=\"79\" y=\"4.199999999999999\" style=\"font-family: 'Open Sans', verdana, arial, sans-serif; font-size: 12px; fill: rgb(42, 63, 95); fill-opacity: 1; white-space: pre; opacity: 1;\" transform=\"translate(0,382.04)\">50</text></g></g><g class=\"overaxes-above\"/></g></g><g class=\"polarlayer\"/><g class=\"smithlayer\"/><g class=\"ternarylayer\"/><g class=\"geolayer\"/><g class=\"funnelarealayer\"/><g class=\"pielayer\"/><g class=\"iciclelayer\"/><g class=\"treemaplayer\"/><g class=\"sunburstlayer\"/><g class=\"glimages\"/><defs id=\"topdefs-58fc00\"><g class=\"clips\"/></defs><g class=\"layer-above\"><g class=\"imagelayer\"/><g class=\"shapelayer\"/></g><g class=\"infolayer\"><g class=\"g-gtitle\"><text class=\"gtitle\" x=\"35\" y=\"50\" text-anchor=\"start\" dy=\"0em\" style=\"font-family: 'Open Sans', verdana, arial, sans-serif; font-size: 17px; fill: rgb(42, 63, 95); opacity: 1; font-weight: normal; white-space: pre;\">Monthly Totals of International Airline Passengers (1949-1960)</text></g><g class=\"g-xtitle\"/><g class=\"g-x2title\"/><g class=\"g-ytitle\"/><g class=\"g-y2title\"/><g class=\"annotation\" data-index=\"0\" style=\"opacity: 1;\"><g class=\"annotation-text-g\" transform=\"rotate(0,350,88.5)\"><g class=\"cursor-pointer\" transform=\"translate(262,77)\"><rect class=\"bg\" x=\"0.5\" y=\"0.5\" width=\"176\" height=\"22\" style=\"stroke-width: 1px; stroke: rgb(0, 0, 0); stroke-opacity: 0; fill: rgb(0, 0, 0); fill-opacity: 0;\"/><text class=\"annotation-text\" text-anchor=\"middle\" x=\"88.359375\" y=\"18\" style=\"font-family: 'Open Sans', verdana, arial, sans-serif; font-size: 16px; fill: rgb(42, 63, 95); fill-opacity: 1; white-space: pre;\">Passengers (Original)</text></g></g></g><g class=\"annotation\" data-index=\"1\" style=\"opacity: 1;\"><g class=\"annotation-text-g\" transform=\"rotate(0,350,330)\"><g class=\"cursor-pointer\" transform=\"translate(284,319)\"><rect class=\"bg\" x=\"0.5\" y=\"0.5\" width=\"131\" height=\"22\" style=\"stroke-width: 1px; stroke: rgb(0, 0, 0); stroke-opacity: 0; fill: rgb(0, 0, 0); fill-opacity: 0;\"/><text class=\"annotation-text\" text-anchor=\"middle\" x=\"65.796875\" y=\"18\" style=\"font-family: 'Open Sans', verdana, arial, sans-serif; font-size: 16px; fill: rgb(42, 63, 95); fill-opacity: 1; white-space: pre;\">Diff Stationarity</text></g></g></g></g></svg>"
      ]
     },
     "metadata": {},
     "output_type": "display_data"
    }
   ],
   "source": [
    "import plotly.graph_objects as go\n",
    "from plotly.subplots import make_subplots\n",
    "\n",
    "fig = make_subplots(rows=2, cols=1, vertical_spacing=0.15, subplot_titles=dff.columns)\n",
    "\n",
    "for idx, column in enumerate(dff.columns, 1):\n",
    "    fig.add_trace(go\n",
    "        .Scatter(\n",
    "            x=dff.index, y=dff[column].values, name=column,),\n",
    "            row=idx, col=1)\n",
    "\n",
    "fig.update_layout(\n",
    "    showlegend=False, height=600,\n",
    "    title='Monthly Totals of International Airline Passengers (1949-1960)')\n",
    "\n",
    "fig.show()"
   ]
  },
  {
   "cell_type": "code",
   "execution_count": 8,
   "id": "f295761c",
   "metadata": {
    "execution": {
     "iopub.execute_input": "2024-05-29T22:26:20.710393Z",
     "iopub.status.busy": "2024-05-29T22:26:20.710299Z",
     "iopub.status.idle": "2024-05-29T22:26:20.737415Z",
     "shell.execute_reply": "2024-05-29T22:26:20.737134Z"
    },
    "papermill": {
     "duration": 0.03028,
     "end_time": "2024-05-29T22:26:20.738470",
     "exception": false,
     "start_time": "2024-05-29T22:26:20.708190",
     "status": "completed"
    },
    "tags": []
   },
   "outputs": [
    {
     "data": {
      "image/svg+xml": [
       "<svg class=\"main-svg\" xmlns=\"http://www.w3.org/2000/svg\" xmlns:xlink=\"http://www.w3.org/1999/xlink\" width=\"700\" height=\"600\" style=\"\" viewBox=\"0 0 700 600\"><rect x=\"0\" y=\"0\" width=\"700\" height=\"600\" style=\"fill: rgb(255, 255, 255); fill-opacity: 1;\"/><defs id=\"defs-0fcba3\"><g class=\"clips\"><clipPath id=\"clip0fcba3xyplot\" class=\"plotclip\"><rect width=\"540\" height=\"178.50000000000003\"/></clipPath><clipPath id=\"clip0fcba3x2y2plot\" class=\"plotclip\"><rect width=\"540\" height=\"178.5\"/></clipPath><clipPath class=\"axesclip\" id=\"clip0fcba3x\"><rect x=\"80\" y=\"0\" width=\"540\" height=\"600\"/></clipPath><clipPath class=\"axesclip\" id=\"clip0fcba3y\"><rect x=\"0\" y=\"100\" width=\"700\" height=\"178.50000000000003\"/></clipPath><clipPath class=\"axesclip\" id=\"clip0fcba3xy\"><rect x=\"80\" y=\"100\" width=\"540\" height=\"178.50000000000003\"/></clipPath><clipPath class=\"axesclip\" id=\"clip0fcba3y2\"><rect x=\"0\" y=\"341.5\" width=\"700\" height=\"178.5\"/></clipPath><clipPath class=\"axesclip\" id=\"clip0fcba3xy2\"><rect x=\"80\" y=\"341.5\" width=\"540\" height=\"178.5\"/></clipPath><clipPath class=\"axesclip\" id=\"clip0fcba3x2\"><rect x=\"80\" y=\"0\" width=\"540\" height=\"600\"/></clipPath><clipPath class=\"axesclip\" id=\"clip0fcba3x2y\"><rect x=\"80\" y=\"100\" width=\"540\" height=\"178.50000000000003\"/></clipPath><clipPath class=\"axesclip\" id=\"clip0fcba3x2y2\"><rect x=\"80\" y=\"341.5\" width=\"540\" height=\"178.5\"/></clipPath></g><g class=\"gradients\"/><g class=\"patterns\"/></defs><g class=\"bglayer\"><rect class=\"bg\" x=\"80\" y=\"100\" width=\"540\" height=\"178.50000000000003\" style=\"fill: rgb(229, 236, 246); fill-opacity: 1; stroke-width: 0;\"/><rect class=\"bg\" x=\"80\" y=\"341.5\" width=\"540\" height=\"178.5\" style=\"fill: rgb(229, 236, 246); fill-opacity: 1; stroke-width: 0;\"/></g><g class=\"layer-below\"><g class=\"imagelayer\"/><g class=\"shapelayer\"/></g><g class=\"cartesianlayer\"><g class=\"subplot xy\"><g class=\"layer-subplot\"><g class=\"shapelayer\"/><g class=\"imagelayer\"/></g><g class=\"minor-gridlayer\"><g class=\"x\"/><g class=\"y\"/></g><g class=\"gridlayer\"><g class=\"x\"><path class=\"xgrid crisp\" transform=\"translate(125.28999999999999,0)\" d=\"M0,100v178.50000000000003\" style=\"stroke: rgb(255, 255, 255); stroke-opacity: 1; stroke-width: 1px;\"/><path class=\"xgrid crisp\" transform=\"translate(215.87,0)\" d=\"M0,100v178.50000000000003\" style=\"stroke: rgb(255, 255, 255); stroke-opacity: 1; stroke-width: 1px;\"/><path class=\"xgrid crisp\" transform=\"translate(306.57,0)\" d=\"M0,100v178.50000000000003\" style=\"stroke: rgb(255, 255, 255); stroke-opacity: 1; stroke-width: 1px;\"/><path class=\"xgrid crisp\" transform=\"translate(397.15,0)\" d=\"M0,100v178.50000000000003\" style=\"stroke: rgb(255, 255, 255); stroke-opacity: 1; stroke-width: 1px;\"/><path class=\"xgrid crisp\" transform=\"translate(487.85,0)\" d=\"M0,100v178.50000000000003\" style=\"stroke: rgb(255, 255, 255); stroke-opacity: 1; stroke-width: 1px;\"/><path class=\"xgrid crisp\" transform=\"translate(578.4300000000001,0)\" d=\"M0,100v178.50000000000003\" style=\"stroke: rgb(255, 255, 255); stroke-opacity: 1; stroke-width: 1px;\"/></g><g class=\"y\"><path class=\"ygrid crisp\" transform=\"translate(0,235.87)\" d=\"M80,0h540\" style=\"stroke: rgb(255, 255, 255); stroke-opacity: 1; stroke-width: 1px;\"/><path class=\"ygrid crisp\" transform=\"translate(0,189.9)\" d=\"M80,0h540\" style=\"stroke: rgb(255, 255, 255); stroke-opacity: 1; stroke-width: 1px;\"/><path class=\"ygrid crisp\" transform=\"translate(0,143.94)\" d=\"M80,0h540\" style=\"stroke: rgb(255, 255, 255); stroke-opacity: 1; stroke-width: 1px;\"/></g></g><g class=\"zerolinelayer\"/><path class=\"xlines-below\"/><path class=\"ylines-below\"/><g class=\"overlines-below\"/><g class=\"xaxislayer-below\"/><g class=\"yaxislayer-below\"/><g class=\"overaxes-below\"/><g class=\"plot\" transform=\"translate(80,100)\" clip-path=\"url(#clip0fcba3xyplot)\"><g class=\"scatterlayer mlayer\"><g class=\"trace scatter trace94565e\" style=\"stroke-miterlimit: 2; opacity: 1;\"><g class=\"fills\"/><g class=\"errorbars\"/><g class=\"lines\"><path class=\"js-line\" d=\"M41.44,169.58L60.18,168.43L64.03,167.89L79.16,164.83L83.01,164.44L94.43,161.53L97.9,160.11L105.47,157.24L109.32,156.13L139.72,147.43L143.31,146.86L150.88,145.75L154.73,144.22L177.44,137.25L181.28,136.29L185.13,135.68L188.6,134.03L196.17,130.2L200.02,129.24L211.43,125.72L215.16,124.95L230.42,124.38L233.89,124.41L241.46,124.53L245.31,123.72L252.88,121.46L256.72,120.62L268.01,117.98L271.86,116.52L290.6,108.63L294.32,106.26L305.74,100.43L309.58,99.13L347.43,80.52L351.15,79.29L377.45,70.56L381.3,68.72L396.44,60.9L400.28,59.6L411.7,56.84L415.17,56.61L422.74,56.31L426.59,55.81L434.16,53.36L438.01,53.36L456.99,50.98L460.46,49.3L479.45,39.61L483.3,37.35L490.86,33.52L494.59,30.91L502.28,26.85L505.88,26.35L524.86,14.82L528.71,13.1L532.43,11.03L536.28,9.96L540,8.93\" style=\"vector-effect: none; fill: none; stroke: rgb(99, 110, 250); stroke-opacity: 1; stroke-width: 2px; opacity: 1;\"/></g><g class=\"points\"/><g class=\"text\"/></g></g></g><g class=\"overplot\"/><path class=\"xlines-above crisp\" d=\"M0,0\" style=\"fill: none;\"/><path class=\"ylines-above crisp\" d=\"M0,0\" style=\"fill: none;\"/><g class=\"overlines-above\"/><g class=\"xaxislayer-above\"><g class=\"xtick\"><text text-anchor=\"middle\" x=\"0\" y=\"291.5\" transform=\"translate(125.28999999999999,0)\" style=\"font-family: 'Open Sans', verdana, arial, sans-serif; font-size: 12px; fill: rgb(42, 63, 95); fill-opacity: 1; white-space: pre; opacity: 1;\">1950</text></g><g class=\"xtick\"><text text-anchor=\"middle\" x=\"0\" y=\"291.5\" style=\"font-family: 'Open Sans', verdana, arial, sans-serif; font-size: 12px; fill: rgb(42, 63, 95); fill-opacity: 1; white-space: pre; opacity: 1;\" transform=\"translate(215.87,0)\">1952</text></g><g class=\"xtick\"><text text-anchor=\"middle\" x=\"0\" y=\"291.5\" style=\"font-family: 'Open Sans', verdana, arial, sans-serif; font-size: 12px; fill: rgb(42, 63, 95); fill-opacity: 1; white-space: pre; opacity: 1;\" transform=\"translate(306.57,0)\">1954</text></g><g class=\"xtick\"><text text-anchor=\"middle\" x=\"0\" y=\"291.5\" style=\"font-family: 'Open Sans', verdana, arial, sans-serif; font-size: 12px; fill: rgb(42, 63, 95); fill-opacity: 1; white-space: pre; opacity: 1;\" transform=\"translate(397.15,0)\">1956</text></g><g class=\"xtick\"><text text-anchor=\"middle\" x=\"0\" y=\"291.5\" style=\"font-family: 'Open Sans', verdana, arial, sans-serif; font-size: 12px; fill: rgb(42, 63, 95); fill-opacity: 1; white-space: pre; opacity: 1;\" transform=\"translate(487.85,0)\">1958</text></g><g class=\"xtick\"><text text-anchor=\"middle\" x=\"0\" y=\"291.5\" style=\"font-family: 'Open Sans', verdana, arial, sans-serif; font-size: 12px; fill: rgb(42, 63, 95); fill-opacity: 1; white-space: pre; opacity: 1;\" transform=\"translate(578.4300000000001,0)\">1960</text></g></g><g class=\"yaxislayer-above\"><g class=\"ytick\"><text text-anchor=\"end\" x=\"79\" y=\"4.199999999999999\" transform=\"translate(0,235.87)\" style=\"font-family: 'Open Sans', verdana, arial, sans-serif; font-size: 12px; fill: rgb(42, 63, 95); fill-opacity: 1; white-space: pre; opacity: 1;\">200</text></g><g class=\"ytick\"><text text-anchor=\"end\" x=\"79\" y=\"4.199999999999999\" style=\"font-family: 'Open Sans', verdana, arial, sans-serif; font-size: 12px; fill: rgb(42, 63, 95); fill-opacity: 1; white-space: pre; opacity: 1;\" transform=\"translate(0,189.9)\">300</text></g><g class=\"ytick\"><text text-anchor=\"end\" x=\"79\" y=\"4.199999999999999\" style=\"font-family: 'Open Sans', verdana, arial, sans-serif; font-size: 12px; fill: rgb(42, 63, 95); fill-opacity: 1; white-space: pre; opacity: 1;\" transform=\"translate(0,143.94)\">400</text></g></g><g class=\"overaxes-above\"/></g><g class=\"subplot x2y2\"><g class=\"layer-subplot\"><g class=\"shapelayer\"/><g class=\"imagelayer\"/></g><g class=\"minor-gridlayer\"><g class=\"x2\"/><g class=\"y2\"/></g><g class=\"gridlayer\"><g class=\"x2\"><path class=\"x2grid crisp\" transform=\"translate(125.28999999999999,0)\" d=\"M0,341.5v178.5\" style=\"stroke: rgb(255, 255, 255); stroke-opacity: 1; stroke-width: 1px;\"/><path class=\"x2grid crisp\" transform=\"translate(215.87,0)\" d=\"M0,341.5v178.5\" style=\"stroke: rgb(255, 255, 255); stroke-opacity: 1; stroke-width: 1px;\"/><path class=\"x2grid crisp\" transform=\"translate(306.57,0)\" d=\"M0,341.5v178.5\" style=\"stroke: rgb(255, 255, 255); stroke-opacity: 1; stroke-width: 1px;\"/><path class=\"x2grid crisp\" transform=\"translate(397.15,0)\" d=\"M0,341.5v178.5\" style=\"stroke: rgb(255, 255, 255); stroke-opacity: 1; stroke-width: 1px;\"/><path class=\"x2grid crisp\" transform=\"translate(487.85,0)\" d=\"M0,341.5v178.5\" style=\"stroke: rgb(255, 255, 255); stroke-opacity: 1; stroke-width: 1px;\"/><path class=\"x2grid crisp\" transform=\"translate(578.4300000000001,0)\" d=\"M0,341.5v178.5\" style=\"stroke: rgb(255, 255, 255); stroke-opacity: 1; stroke-width: 1px;\"/></g><g class=\"y2\"><path class=\"y2grid crisp\" transform=\"translate(0,448.38)\" d=\"M80,0h540\" style=\"stroke: rgb(255, 255, 255); stroke-opacity: 1; stroke-width: 1px;\"/><path class=\"y2grid crisp\" transform=\"translate(0,401.36)\" d=\"M80,0h540\" style=\"stroke: rgb(255, 255, 255); stroke-opacity: 1; stroke-width: 1px;\"/><path class=\"y2grid crisp\" transform=\"translate(0,354.34)\" d=\"M80,0h540\" style=\"stroke: rgb(255, 255, 255); stroke-opacity: 1; stroke-width: 1px;\"/></g></g><g class=\"zerolinelayer\"><path class=\"y2zl zl crisp\" transform=\"translate(0,495.4)\" d=\"M80,0h540\" style=\"stroke: rgb(255, 255, 255); stroke-opacity: 1; stroke-width: 2px;\"/></g><path class=\"xlines-below\"/><path class=\"ylines-below\"/><g class=\"overlines-below\"/><g class=\"xaxislayer-below\"/><g class=\"yaxislayer-below\"/><g class=\"overaxes-below\"/><g class=\"plot\" transform=\"translate(80,341.5)\" clip-path=\"url(#clip0fcba3x2y2plot)\"><g class=\"scatterlayer mlayer\"><g class=\"trace scatter trace68ac17\" style=\"stroke-miterlimit: 2; opacity: 1;\"><g class=\"fills\"/><g class=\"errorbars\"/><g class=\"lines\"><path class=\"js-line\" d=\"M45.29,148.02L49.14,138.23L52.61,136.27L56.46,142.15L60.18,146.07L67.75,110.8L71.59,110.8L75.44,110.8L79.16,126.47L83.01,134.31L86.73,110.8L90.58,95.13L94.43,106.88L97.9,81.41L101.75,99.05L105.47,61.82L109.32,97.09L116.88,97.09L120.73,102.96L128.3,91.21L132.02,102.96L135.87,102.96L139.72,95.13L143.31,124.51L147.16,118.64L150.88,132.35L154.73,75.54L158.45,93.17L162.3,69.66L166.14,104.92L169.87,97.09L173.71,102.96L177.44,99.05L181.28,104.92L185.13,122.56L188.6,69.66L192.45,48.11L196.17,63.78L200.02,104.92L203.74,87.29L207.59,95.13L211.43,99.05L215.16,114.72L219,138.23L222.73,140.19L226.57,138.23L230.42,169.58L233.89,155.86L237.74,169.58L245.31,112.76L249.03,79.45L252.88,112.76L256.72,110.8L260.45,118.64L264.29,108.84L268.01,99.05L271.86,79.45L275.71,65.74L279.18,91.21L283.03,71.62L286.75,83.37L290.6,53.99L294.32,32.43L298.17,48.11L302.01,50.07L305.74,65.74L309.58,87.29L313.3,57.9L317.15,71.62L321,67.7L324.6,55.94L328.44,67.7L332.16,59.86L336.01,38.31L339.73,57.9L343.58,40.27L347.43,69.66L351.15,91.21L355,87.29L358.72,99.05L362.56,93.17L366.41,106.88L369.89,77.5L373.73,85.33L377.45,81.41L381.3,59.86L385.02,52.03L388.87,32.43L392.72,57.9L400.28,87.29L404.01,95.13L407.85,104.92L411.7,120.6L415.17,142.15L419.02,153.9L422.74,138.23L426.59,128.43L434.16,79.45L438.01,153.9L441.73,130.39L445.57,144.11L449.3,151.94L453.14,114.72L456.99,106.88L460.46,67.7L464.31,59.86L468.03,42.23L471.88,81.41L475.6,42.23L479.45,48.11L483.3,38.31L487.02,59.86L490.86,52.03L494.59,20.68L498.43,42.23L502.28,57.9L505.88,128.43L509.72,26.56L513.45,52.03L521.02,8.93L524.86,61.82L528.71,65.74L532.43,48.11L536.28,99.05L540,101\" style=\"vector-effect: none; fill: none; stroke: rgb(239, 85, 59); stroke-opacity: 1; stroke-width: 2px; opacity: 1;\"/></g><g class=\"points\"/><g class=\"text\"/></g></g></g><g class=\"overplot\"/><path class=\"xlines-above crisp\" d=\"M0,0\" style=\"fill: none;\"/><path class=\"ylines-above crisp\" d=\"M0,0\" style=\"fill: none;\"/><g class=\"overlines-above\"/><g class=\"xaxislayer-above\"><g class=\"x2tick\"><text text-anchor=\"middle\" x=\"0\" y=\"533\" transform=\"translate(125.28999999999999,0)\" style=\"font-family: 'Open Sans', verdana, arial, sans-serif; font-size: 12px; fill: rgb(42, 63, 95); fill-opacity: 1; white-space: pre; opacity: 1;\">1950</text></g><g class=\"x2tick\"><text text-anchor=\"middle\" x=\"0\" y=\"533\" style=\"font-family: 'Open Sans', verdana, arial, sans-serif; font-size: 12px; fill: rgb(42, 63, 95); fill-opacity: 1; white-space: pre; opacity: 1;\" transform=\"translate(215.87,0)\">1952</text></g><g class=\"x2tick\"><text text-anchor=\"middle\" x=\"0\" y=\"533\" style=\"font-family: 'Open Sans', verdana, arial, sans-serif; font-size: 12px; fill: rgb(42, 63, 95); fill-opacity: 1; white-space: pre; opacity: 1;\" transform=\"translate(306.57,0)\">1954</text></g><g class=\"x2tick\"><text text-anchor=\"middle\" x=\"0\" y=\"533\" style=\"font-family: 'Open Sans', verdana, arial, sans-serif; font-size: 12px; fill: rgb(42, 63, 95); fill-opacity: 1; white-space: pre; opacity: 1;\" transform=\"translate(397.15,0)\">1956</text></g><g class=\"x2tick\"><text text-anchor=\"middle\" x=\"0\" y=\"533\" style=\"font-family: 'Open Sans', verdana, arial, sans-serif; font-size: 12px; fill: rgb(42, 63, 95); fill-opacity: 1; white-space: pre; opacity: 1;\" transform=\"translate(487.85,0)\">1958</text></g><g class=\"x2tick\"><text text-anchor=\"middle\" x=\"0\" y=\"533\" style=\"font-family: 'Open Sans', verdana, arial, sans-serif; font-size: 12px; fill: rgb(42, 63, 95); fill-opacity: 1; white-space: pre; opacity: 1;\" transform=\"translate(578.4300000000001,0)\">1960</text></g></g><g class=\"yaxislayer-above\"><g class=\"y2tick\"><text text-anchor=\"end\" x=\"79\" y=\"4.199999999999999\" transform=\"translate(0,495.4)\" style=\"font-family: 'Open Sans', verdana, arial, sans-serif; font-size: 12px; fill: rgb(42, 63, 95); fill-opacity: 1; white-space: pre; opacity: 1;\">0</text></g><g class=\"y2tick\"><text text-anchor=\"end\" x=\"79\" y=\"4.199999999999999\" style=\"font-family: 'Open Sans', verdana, arial, sans-serif; font-size: 12px; fill: rgb(42, 63, 95); fill-opacity: 1; white-space: pre; opacity: 1;\" transform=\"translate(0,448.38)\">2</text></g><g class=\"y2tick\"><text text-anchor=\"end\" x=\"79\" y=\"4.199999999999999\" style=\"font-family: 'Open Sans', verdana, arial, sans-serif; font-size: 12px; fill: rgb(42, 63, 95); fill-opacity: 1; white-space: pre; opacity: 1;\" transform=\"translate(0,401.36)\">4</text></g><g class=\"y2tick\"><text text-anchor=\"end\" x=\"79\" y=\"4.199999999999999\" style=\"font-family: 'Open Sans', verdana, arial, sans-serif; font-size: 12px; fill: rgb(42, 63, 95); fill-opacity: 1; white-space: pre; opacity: 1;\" transform=\"translate(0,354.34)\">6</text></g></g><g class=\"overaxes-above\"/></g></g><g class=\"polarlayer\"/><g class=\"smithlayer\"/><g class=\"ternarylayer\"/><g class=\"geolayer\"/><g class=\"funnelarealayer\"/><g class=\"pielayer\"/><g class=\"iciclelayer\"/><g class=\"treemaplayer\"/><g class=\"sunburstlayer\"/><g class=\"glimages\"/><defs id=\"topdefs-0fcba3\"><g class=\"clips\"/></defs><g class=\"layer-above\"><g class=\"imagelayer\"/><g class=\"shapelayer\"/></g><g class=\"infolayer\"><g class=\"g-gtitle\"><text class=\"gtitle\" x=\"35\" y=\"50\" text-anchor=\"start\" dy=\"0em\" style=\"font-family: 'Open Sans', verdana, arial, sans-serif; font-size: 17px; fill: rgb(42, 63, 95); opacity: 1; font-weight: normal; white-space: pre;\">Trend (S) Moving Average of International Airline Passengers (1949-1960)</text></g><g class=\"g-xtitle\"/><g class=\"g-x2title\"/><g class=\"g-ytitle\"/><g class=\"g-y2title\"/><g class=\"annotation\" data-index=\"0\" style=\"opacity: 1;\"><g class=\"annotation-text-g\" transform=\"rotate(0,350,88.5)\"><g class=\"cursor-pointer\" transform=\"translate(262,77)\"><rect class=\"bg\" x=\"0.5\" y=\"0.5\" width=\"176\" height=\"22\" style=\"stroke-width: 1px; stroke: rgb(0, 0, 0); stroke-opacity: 0; fill: rgb(0, 0, 0); fill-opacity: 0;\"/><text class=\"annotation-text\" text-anchor=\"middle\" x=\"88.359375\" y=\"18\" style=\"font-family: 'Open Sans', verdana, arial, sans-serif; font-size: 16px; fill: rgb(42, 63, 95); fill-opacity: 1; white-space: pre;\">Passengers (Original)</text></g></g></g><g class=\"annotation\" data-index=\"1\" style=\"opacity: 1;\"><g class=\"annotation-text-g\" transform=\"rotate(0,350,330)\"><g class=\"cursor-pointer\" transform=\"translate(284,319)\"><rect class=\"bg\" x=\"0.5\" y=\"0.5\" width=\"131\" height=\"22\" style=\"stroke-width: 1px; stroke: rgb(0, 0, 0); stroke-opacity: 0; fill: rgb(0, 0, 0); fill-opacity: 0;\"/><text class=\"annotation-text\" text-anchor=\"middle\" x=\"65.796875\" y=\"18\" style=\"font-family: 'Open Sans', verdana, arial, sans-serif; font-size: 16px; fill: rgb(42, 63, 95); fill-opacity: 1; white-space: pre;\">Diff Stationarity</text></g></g></g></g></svg>"
      ]
     },
     "metadata": {},
     "output_type": "display_data"
    }
   ],
   "source": [
    "dff = df.rolling(window=12).mean().rename(columns={'Passengers': 'Passengers (Original)', 'diff_stationarity': 'Diff Stationarity'})\n",
    "\n",
    "fig = make_subplots(rows=2, cols=1, vertical_spacing=0.15, subplot_titles=dff.columns)\n",
    "\n",
    "for idx, column in enumerate(dff.columns, 1):\n",
    "    fig.add_trace(go\n",
    "        .Scatter(\n",
    "            x=dff.index, y=dff[column].values, name=column,),\n",
    "            row=idx, col=1)\n",
    "\n",
    "fig.update_layout(\n",
    "    height=600, showlegend=False,\n",
    "    title='Trend (S) Moving Average of International Airline Passengers (1949-1960)')\n",
    "\n",
    "fig.show()"
   ]
  },
  {
   "cell_type": "markdown",
   "id": "96ae9118",
   "metadata": {
    "papermill": {
     "duration": 0.004841,
     "end_time": "2024-05-29T22:26:20.746186",
     "exception": false,
     "start_time": "2024-05-29T22:26:20.741345",
     "status": "completed"
    },
    "tags": []
   },
   "source": [
    "## ADF and KPSS Test Implementation"
   ]
  },
  {
   "cell_type": "markdown",
   "id": "66a45b33",
   "metadata": {
    "papermill": {
     "duration": 0.001818,
     "end_time": "2024-05-29T22:26:20.750053",
     "exception": false,
     "start_time": "2024-05-29T22:26:20.748235",
     "status": "completed"
    },
    "tags": []
   },
   "source": [
    "### ADF Test"
   ]
  },
  {
   "cell_type": "code",
   "execution_count": 9,
   "id": "f9c01e18",
   "metadata": {
    "execution": {
     "iopub.execute_input": "2024-05-29T22:26:20.754379Z",
     "iopub.status.busy": "2024-05-29T22:26:20.754229Z",
     "iopub.status.idle": "2024-05-29T22:26:20.758376Z",
     "shell.execute_reply": "2024-05-29T22:26:20.758170Z"
    },
    "papermill": {
     "duration": 0.007245,
     "end_time": "2024-05-29T22:26:20.759070",
     "exception": false,
     "start_time": "2024-05-29T22:26:20.751825",
     "status": "completed"
    },
    "tags": []
   },
   "outputs": [
    {
     "name": "stdout",
     "output_type": "stream",
     "text": [
      "ADF Statistic: -2.829266824169981\n",
      "p-value: 0.05421329028382792\n"
     ]
    }
   ],
   "source": [
    "result_adf = adfuller(df['diff_stationarity'].dropna())\n",
    "print('ADF Statistic:', result_adf[0])\n",
    "print('p-value:', result_adf[1])"
   ]
  },
  {
   "cell_type": "markdown",
   "id": "6ce1ab11",
   "metadata": {
    "papermill": {
     "duration": 0.002178,
     "end_time": "2024-05-29T22:26:20.763420",
     "exception": false,
     "start_time": "2024-05-29T22:26:20.761242",
     "status": "completed"
    },
    "tags": []
   },
   "source": [
    "### KPSS Test"
   ]
  },
  {
   "cell_type": "code",
   "execution_count": 10,
   "id": "8340c3f1",
   "metadata": {
    "execution": {
     "iopub.execute_input": "2024-05-29T22:26:20.768279Z",
     "iopub.status.busy": "2024-05-29T22:26:20.768162Z",
     "iopub.status.idle": "2024-05-29T22:26:20.770605Z",
     "shell.execute_reply": "2024-05-29T22:26:20.770366Z"
    },
    "papermill": {
     "duration": 0.006131,
     "end_time": "2024-05-29T22:26:20.771566",
     "exception": false,
     "start_time": "2024-05-29T22:26:20.765435",
     "status": "completed"
    },
    "tags": []
   },
   "outputs": [
    {
     "name": "stdout",
     "output_type": "stream",
     "text": [
      "\n",
      "KPSS Statistic: 0.023897614400183967\n",
      "p-value: 0.1\n"
     ]
    },
    {
     "name": "stderr",
     "output_type": "stream",
     "text": [
      "/var/folders/89/hqh4vvhn24q2xc8ph93krqz80000gn/T/ipykernel_34909/3680348055.py:1: InterpolationWarning:\n",
      "\n",
      "The test statistic is outside of the range of p-values available in the\n",
      "look-up table. The actual p-value is greater than the p-value returned.\n",
      "\n",
      "\n"
     ]
    }
   ],
   "source": [
    "result_kpss = kpss(df['diff_stationarity'].dropna())\n",
    "print('\\nKPSS Statistic:', result_kpss[0])\n",
    "print('p-value:', result_kpss[1])"
   ]
  },
  {
   "cell_type": "markdown",
   "id": "f521b1eb",
   "metadata": {
    "papermill": {
     "duration": 0.001916,
     "end_time": "2024-05-29T22:26:20.775599",
     "exception": false,
     "start_time": "2024-05-29T22:26:20.773683",
     "status": "completed"
    },
    "tags": []
   },
   "source": [
    "## Seasonal Differencing\n",
    "Seasonal differencing (e.g., over 12 periods) may be required for data with strong seasonal patterns. After differencing, reapply ADF and KPSS tests."
   ]
  },
  {
   "cell_type": "code",
   "execution_count": 11,
   "id": "2f554a27",
   "metadata": {
    "execution": {
     "iopub.execute_input": "2024-05-29T22:26:20.780352Z",
     "iopub.status.busy": "2024-05-29T22:26:20.780252Z",
     "iopub.status.idle": "2024-05-29T22:26:20.784358Z",
     "shell.execute_reply": "2024-05-29T22:26:20.784145Z"
    },
    "papermill": {
     "duration": 0.007705,
     "end_time": "2024-05-29T22:26:20.785121",
     "exception": false,
     "start_time": "2024-05-29T22:26:20.777416",
     "status": "completed"
    },
    "tags": []
   },
   "outputs": [
    {
     "data": {
      "text/html": [
       "<div>\n",
       "<style scoped>\n",
       "    .dataframe tbody tr th:only-of-type {\n",
       "        vertical-align: middle;\n",
       "    }\n",
       "\n",
       "    .dataframe tbody tr th {\n",
       "        vertical-align: top;\n",
       "    }\n",
       "\n",
       "    .dataframe thead th {\n",
       "        text-align: right;\n",
       "    }\n",
       "</style>\n",
       "<table border=\"1\" class=\"dataframe\">\n",
       "  <thead>\n",
       "    <tr style=\"text-align: right;\">\n",
       "      <th></th>\n",
       "      <th>Passengers</th>\n",
       "      <th>diff_stationarity</th>\n",
       "      <th>diff_seasonality_12</th>\n",
       "    </tr>\n",
       "    <tr>\n",
       "      <th>Month</th>\n",
       "      <th></th>\n",
       "      <th></th>\n",
       "      <th></th>\n",
       "    </tr>\n",
       "  </thead>\n",
       "  <tbody>\n",
       "    <tr>\n",
       "      <th>1949-01-01</th>\n",
       "      <td>112</td>\n",
       "      <td>NaN</td>\n",
       "      <td>NaN</td>\n",
       "    </tr>\n",
       "    <tr>\n",
       "      <th>1949-02-01</th>\n",
       "      <td>118</td>\n",
       "      <td>6.0</td>\n",
       "      <td>NaN</td>\n",
       "    </tr>\n",
       "    <tr>\n",
       "      <th>...</th>\n",
       "      <td>...</td>\n",
       "      <td>...</td>\n",
       "      <td>...</td>\n",
       "    </tr>\n",
       "    <tr>\n",
       "      <th>1960-11-01</th>\n",
       "      <td>390</td>\n",
       "      <td>-71.0</td>\n",
       "      <td>-26.0</td>\n",
       "    </tr>\n",
       "    <tr>\n",
       "      <th>1960-12-01</th>\n",
       "      <td>432</td>\n",
       "      <td>42.0</td>\n",
       "      <td>-1.0</td>\n",
       "    </tr>\n",
       "  </tbody>\n",
       "</table>\n",
       "<p>144 rows × 3 columns</p>\n",
       "</div>"
      ],
      "text/plain": [
       "            Passengers  diff_stationarity  diff_seasonality_12\n",
       "Month                                                         \n",
       "1949-01-01         112                NaN                  NaN\n",
       "1949-02-01         118                6.0                  NaN\n",
       "...                ...                ...                  ...\n",
       "1960-11-01         390              -71.0                -26.0\n",
       "1960-12-01         432               42.0                 -1.0\n",
       "\n",
       "[144 rows x 3 columns]"
      ]
     },
     "execution_count": 11,
     "metadata": {},
     "output_type": "execute_result"
    }
   ],
   "source": [
    "# Differencing\n",
    "df['diff_seasonality_12'] = df['diff_stationarity'].diff(12).dropna()\n",
    "df"
   ]
  },
  {
   "cell_type": "code",
   "execution_count": 12,
   "id": "56a4b824",
   "metadata": {
    "execution": {
     "iopub.execute_input": "2024-05-29T22:26:20.790022Z",
     "iopub.status.busy": "2024-05-29T22:26:20.789824Z",
     "iopub.status.idle": "2024-05-29T22:26:20.822854Z",
     "shell.execute_reply": "2024-05-29T22:26:20.822606Z"
    },
    "papermill": {
     "duration": 0.036405,
     "end_time": "2024-05-29T22:26:20.823628",
     "exception": false,
     "start_time": "2024-05-29T22:26:20.787223",
     "status": "completed"
    },
    "tags": []
   },
   "outputs": [
    {
     "data": {
      "image/svg+xml": [
       "<svg class=\"main-svg\" xmlns=\"http://www.w3.org/2000/svg\" xmlns:xlink=\"http://www.w3.org/1999/xlink\" width=\"700\" height=\"900\" style=\"\" viewBox=\"0 0 700 900\"><rect x=\"0\" y=\"0\" width=\"700\" height=\"900\" style=\"fill: rgb(255, 255, 255); fill-opacity: 1;\"/><defs id=\"defs-80dd86\"><g class=\"clips\"><clipPath id=\"clip80dd86xyplot\" class=\"plotclip\"><rect width=\"540\" height=\"167.99999999999997\"/></clipPath><clipPath id=\"clip80dd86x2y2plot\" class=\"plotclip\"><rect width=\"540\" height=\"167.99999999999997\"/></clipPath><clipPath id=\"clip80dd86x3y3plot\" class=\"plotclip\"><rect width=\"540\" height=\"167.99999999999997\"/></clipPath><clipPath class=\"axesclip\" id=\"clip80dd86x\"><rect x=\"80\" y=\"0\" width=\"540\" height=\"900\"/></clipPath><clipPath class=\"axesclip\" id=\"clip80dd86y\"><rect x=\"0\" y=\"100.00000000000009\" width=\"700\" height=\"167.99999999999997\"/></clipPath><clipPath class=\"axesclip\" id=\"clip80dd86xy\"><rect x=\"80\" y=\"100.00000000000009\" width=\"540\" height=\"167.99999999999997\"/></clipPath><clipPath class=\"axesclip\" id=\"clip80dd86y2\"><rect x=\"0\" y=\"376.00000000000006\" width=\"700\" height=\"167.99999999999997\"/></clipPath><clipPath class=\"axesclip\" id=\"clip80dd86xy2\"><rect x=\"80\" y=\"376.00000000000006\" width=\"540\" height=\"167.99999999999997\"/></clipPath><clipPath class=\"axesclip\" id=\"clip80dd86y3\"><rect x=\"0\" y=\"652\" width=\"700\" height=\"167.99999999999997\"/></clipPath><clipPath class=\"axesclip\" id=\"clip80dd86xy3\"><rect x=\"80\" y=\"652\" width=\"540\" height=\"167.99999999999997\"/></clipPath><clipPath class=\"axesclip\" id=\"clip80dd86x2\"><rect x=\"80\" y=\"0\" width=\"540\" height=\"900\"/></clipPath><clipPath class=\"axesclip\" id=\"clip80dd86x2y\"><rect x=\"80\" y=\"100.00000000000009\" width=\"540\" height=\"167.99999999999997\"/></clipPath><clipPath class=\"axesclip\" id=\"clip80dd86x2y2\"><rect x=\"80\" y=\"376.00000000000006\" width=\"540\" height=\"167.99999999999997\"/></clipPath><clipPath class=\"axesclip\" id=\"clip80dd86x2y3\"><rect x=\"80\" y=\"652\" width=\"540\" height=\"167.99999999999997\"/></clipPath><clipPath class=\"axesclip\" id=\"clip80dd86x3\"><rect x=\"80\" y=\"0\" width=\"540\" height=\"900\"/></clipPath><clipPath class=\"axesclip\" id=\"clip80dd86x3y\"><rect x=\"80\" y=\"100.00000000000009\" width=\"540\" height=\"167.99999999999997\"/></clipPath><clipPath class=\"axesclip\" id=\"clip80dd86x3y2\"><rect x=\"80\" y=\"376.00000000000006\" width=\"540\" height=\"167.99999999999997\"/></clipPath><clipPath class=\"axesclip\" id=\"clip80dd86x3y3\"><rect x=\"80\" y=\"652\" width=\"540\" height=\"167.99999999999997\"/></clipPath></g><g class=\"gradients\"/><g class=\"patterns\"/></defs><g class=\"bglayer\"><rect class=\"bg\" x=\"80\" y=\"100.00000000000009\" width=\"540\" height=\"167.99999999999997\" style=\"fill: rgb(229, 236, 246); fill-opacity: 1; stroke-width: 0;\"/><rect class=\"bg\" x=\"80\" y=\"376.00000000000006\" width=\"540\" height=\"167.99999999999997\" style=\"fill: rgb(229, 236, 246); fill-opacity: 1; stroke-width: 0;\"/><rect class=\"bg\" x=\"80\" y=\"652\" width=\"540\" height=\"167.99999999999997\" style=\"fill: rgb(229, 236, 246); fill-opacity: 1; stroke-width: 0;\"/></g><g class=\"layer-below\"><g class=\"imagelayer\"/><g class=\"shapelayer\"/></g><g class=\"cartesianlayer\"><g class=\"subplot xy\"><g class=\"layer-subplot\"><g class=\"shapelayer\"/><g class=\"imagelayer\"/></g><g class=\"minor-gridlayer\"><g class=\"x\"/><g class=\"y\"/></g><g class=\"gridlayer\"><g class=\"x\"><path class=\"xgrid crisp\" transform=\"translate(125.28999999999999,0)\" d=\"M0,100.00000000000009v167.99999999999997\" style=\"stroke: rgb(255, 255, 255); stroke-opacity: 1; stroke-width: 1px;\"/><path class=\"xgrid crisp\" transform=\"translate(215.87,0)\" d=\"M0,100.00000000000009v167.99999999999997\" style=\"stroke: rgb(255, 255, 255); stroke-opacity: 1; stroke-width: 1px;\"/><path class=\"xgrid crisp\" transform=\"translate(306.57,0)\" d=\"M0,100.00000000000009v167.99999999999997\" style=\"stroke: rgb(255, 255, 255); stroke-opacity: 1; stroke-width: 1px;\"/><path class=\"xgrid crisp\" transform=\"translate(397.15,0)\" d=\"M0,100.00000000000009v167.99999999999997\" style=\"stroke: rgb(255, 255, 255); stroke-opacity: 1; stroke-width: 1px;\"/><path class=\"xgrid crisp\" transform=\"translate(487.85,0)\" d=\"M0,100.00000000000009v167.99999999999997\" style=\"stroke: rgb(255, 255, 255); stroke-opacity: 1; stroke-width: 1px;\"/><path class=\"xgrid crisp\" transform=\"translate(578.4300000000001,0)\" d=\"M0,100.00000000000009v167.99999999999997\" style=\"stroke: rgb(255, 255, 255); stroke-opacity: 1; stroke-width: 1px;\"/></g><g class=\"y\"><path class=\"ygrid crisp\" transform=\"translate(0,231.5800000000001)\" d=\"M80,0h540\" style=\"stroke: rgb(255, 255, 255); stroke-opacity: 1; stroke-width: 1px;\"/><path class=\"ygrid crisp\" transform=\"translate(0,173.2000000000001)\" d=\"M80,0h540\" style=\"stroke: rgb(255, 255, 255); stroke-opacity: 1; stroke-width: 1px;\"/><path class=\"ygrid crisp\" transform=\"translate(0,114.82000000000008)\" d=\"M80,0h540\" style=\"stroke: rgb(255, 255, 255); stroke-opacity: 1; stroke-width: 1px;\"/></g></g><g class=\"zerolinelayer\"/><path class=\"xlines-below\"/><path class=\"ylines-below\"/><g class=\"overlines-below\"/><g class=\"xaxislayer-below\"/><g class=\"yaxislayer-below\"/><g class=\"overaxes-below\"/><g class=\"plot\" transform=\"translate(80,100.00000000000009)\" clip-path=\"url(#clip80dd86xyplot)\"><g class=\"scatterlayer mlayer\"><g class=\"trace scatter traceb47ae1\" style=\"stroke-miterlimit: 2; opacity: 1;\"><g class=\"fills\"/><g class=\"errorbars\"/><g class=\"lines\"><path class=\"js-line\" d=\"M0,157.26L3.85,155.51L7.32,151.43L11.17,152.3L14.89,154.64L22.46,146.76L26.31,146.76L30.15,150.26L33.87,155.22L37.72,159.6L41.44,155.51L45.29,156.39L49.14,153.18L52.61,148.8L56.46,150.55L60.18,153.47L64.03,146.46L67.75,140.34L71.59,140.34L75.44,143.84L79.16,151.14L83.01,156.68L86.73,149.09L94.43,146.17L97.9,138L101.75,142.38L105.47,139.75L109.32,138L113.04,131.87L116.88,131.87L120.73,136.25L124.45,142.67L128.3,147.34L132.02,141.5L135.87,140.04L139.72,137.42L143.31,133.62L147.16,137.12L150.88,136.54L154.73,126.32L158.45,122.82L162.3,119.32L166.14,128.95L173.71,139.75L177.44,133.33L185.13,132.75L188.6,121.07L192.45,121.36L196.17,123.11L200.02,119.03L203.74,112.9L207.59,110.56L211.43,120.78L219,137.42L222.73,131.29L226.57,130.41L230.42,135.08L233.89,121.36L237.74,123.7L241.46,121.65L245.31,112.9L249.03,101.81L252.88,104.43L260.45,123.11L264.29,130.7L268.01,123.11L271.86,119.32L275.71,121.95L279.18,112.02L286.75,111.15L290.6,98.01L294.32,83.71L298.17,88.67L309.58,120.78L313.3,108.81L317.15,107.06L321,109.1L324.6,97.43L328.44,98.59L332.16,97.14L336.01,80.79L339.73,69.41L343.58,71.74L351.15,100.64L355,110.85L358.72,100.64L362.56,98.01L366.41,102.1L369.89,86.04L373.73,88.38L377.45,86.34L381.3,66.78L385.02,54.23L388.87,53.64L392.72,72.03L396.44,88.67L400.28,100.93L404.01,91.88L407.85,90.71L411.7,97.14L415.17,84.29L419.02,88.38L422.74,84L430.31,46.64L434.16,42.55L438.01,72.03L441.73,85.17L445.57,99.47L449.3,91.59L453.14,84.88L456.99,90.13L460.46,71.45L464.31,74.37L468.03,67.36L471.88,52.18L475.6,30L479.45,26.79L483.3,54.81L487.02,71.16L490.86,84.29L494.59,71.74L498.43,68.24L502.28,75.83L505.88,67.65L509.72,55.39L513.45,52.18L517.29,33.79L521.02,8.4L524.86,13.07L528.71,41.68L532.43,55.39L536.28,76.12L540,63.86\" style=\"vector-effect: none; fill: none; stroke: rgb(99, 110, 250); stroke-opacity: 1; stroke-width: 2px; opacity: 1;\"/></g><g class=\"points\"/><g class=\"text\"/></g></g></g><g class=\"overplot\"/><path class=\"xlines-above crisp\" d=\"M0,0\" style=\"fill: none;\"/><path class=\"ylines-above crisp\" d=\"M0,0\" style=\"fill: none;\"/><g class=\"overlines-above\"/><g class=\"xaxislayer-above\"><g class=\"xtick\"><text text-anchor=\"middle\" x=\"0\" y=\"281.00000000000006\" transform=\"translate(125.28999999999999,0)\" style=\"font-family: 'Open Sans', verdana, arial, sans-serif; font-size: 12px; fill: rgb(42, 63, 95); fill-opacity: 1; white-space: pre; opacity: 1;\">1950</text></g><g class=\"xtick\"><text text-anchor=\"middle\" x=\"0\" y=\"281.00000000000006\" style=\"font-family: 'Open Sans', verdana, arial, sans-serif; font-size: 12px; fill: rgb(42, 63, 95); fill-opacity: 1; white-space: pre; opacity: 1;\" transform=\"translate(215.87,0)\">1952</text></g><g class=\"xtick\"><text text-anchor=\"middle\" x=\"0\" y=\"281.00000000000006\" style=\"font-family: 'Open Sans', verdana, arial, sans-serif; font-size: 12px; fill: rgb(42, 63, 95); fill-opacity: 1; white-space: pre; opacity: 1;\" transform=\"translate(306.57,0)\">1954</text></g><g class=\"xtick\"><text text-anchor=\"middle\" x=\"0\" y=\"281.00000000000006\" style=\"font-family: 'Open Sans', verdana, arial, sans-serif; font-size: 12px; fill: rgb(42, 63, 95); fill-opacity: 1; white-space: pre; opacity: 1;\" transform=\"translate(397.15,0)\">1956</text></g><g class=\"xtick\"><text text-anchor=\"middle\" x=\"0\" y=\"281.00000000000006\" style=\"font-family: 'Open Sans', verdana, arial, sans-serif; font-size: 12px; fill: rgb(42, 63, 95); fill-opacity: 1; white-space: pre; opacity: 1;\" transform=\"translate(487.85,0)\">1958</text></g><g class=\"xtick\"><text text-anchor=\"middle\" x=\"0\" y=\"281.00000000000006\" style=\"font-family: 'Open Sans', verdana, arial, sans-serif; font-size: 12px; fill: rgb(42, 63, 95); fill-opacity: 1; white-space: pre; opacity: 1;\" transform=\"translate(578.4300000000001,0)\">1960</text></g></g><g class=\"yaxislayer-above\"><g class=\"ytick\"><text text-anchor=\"end\" x=\"79\" y=\"4.199999999999999\" transform=\"translate(0,231.5800000000001)\" style=\"font-family: 'Open Sans', verdana, arial, sans-serif; font-size: 12px; fill: rgb(42, 63, 95); fill-opacity: 1; white-space: pre; opacity: 1;\">200</text></g><g class=\"ytick\"><text text-anchor=\"end\" x=\"79\" y=\"4.199999999999999\" style=\"font-family: 'Open Sans', verdana, arial, sans-serif; font-size: 12px; fill: rgb(42, 63, 95); fill-opacity: 1; white-space: pre; opacity: 1;\" transform=\"translate(0,173.2000000000001)\">400</text></g><g class=\"ytick\"><text text-anchor=\"end\" x=\"79\" y=\"4.199999999999999\" style=\"font-family: 'Open Sans', verdana, arial, sans-serif; font-size: 12px; fill: rgb(42, 63, 95); fill-opacity: 1; white-space: pre; opacity: 1;\" transform=\"translate(0,114.82000000000008)\">600</text></g></g><g class=\"overaxes-above\"/></g><g class=\"subplot x2y2\"><g class=\"layer-subplot\"><g class=\"shapelayer\"/><g class=\"imagelayer\"/></g><g class=\"minor-gridlayer\"><g class=\"x2\"/><g class=\"y2\"/></g><g class=\"gridlayer\"><g class=\"x2\"><path class=\"x2grid crisp\" transform=\"translate(125.28999999999999,0)\" d=\"M0,376.00000000000006v167.99999999999997\" style=\"stroke: rgb(255, 255, 255); stroke-opacity: 1; stroke-width: 1px;\"/><path class=\"x2grid crisp\" transform=\"translate(215.87,0)\" d=\"M0,376.00000000000006v167.99999999999997\" style=\"stroke: rgb(255, 255, 255); stroke-opacity: 1; stroke-width: 1px;\"/><path class=\"x2grid crisp\" transform=\"translate(306.57,0)\" d=\"M0,376.00000000000006v167.99999999999997\" style=\"stroke: rgb(255, 255, 255); stroke-opacity: 1; stroke-width: 1px;\"/><path class=\"x2grid crisp\" transform=\"translate(397.15,0)\" d=\"M0,376.00000000000006v167.99999999999997\" style=\"stroke: rgb(255, 255, 255); stroke-opacity: 1; stroke-width: 1px;\"/><path class=\"x2grid crisp\" transform=\"translate(487.85,0)\" d=\"M0,376.00000000000006v167.99999999999997\" style=\"stroke: rgb(255, 255, 255); stroke-opacity: 1; stroke-width: 1px;\"/><path class=\"x2grid crisp\" transform=\"translate(578.4300000000001,0)\" d=\"M0,376.00000000000006v167.99999999999997\" style=\"stroke: rgb(255, 255, 255); stroke-opacity: 1; stroke-width: 1px;\"/></g><g class=\"y2\"><path class=\"y2grid crisp\" transform=\"translate(0,534.8000000000001)\" d=\"M80,0h540\" style=\"stroke: rgb(255, 255, 255); stroke-opacity: 1; stroke-width: 1px;\"/><path class=\"y2grid crisp\" transform=\"translate(0,494.58000000000004)\" d=\"M80,0h540\" style=\"stroke: rgb(255, 255, 255); stroke-opacity: 1; stroke-width: 1px;\"/><path class=\"y2grid crisp\" transform=\"translate(0,414.1600000000001)\" d=\"M80,0h540\" style=\"stroke: rgb(255, 255, 255); stroke-opacity: 1; stroke-width: 1px;\"/></g></g><g class=\"zerolinelayer\"><path class=\"y2zl zl crisp\" transform=\"translate(0,454.37000000000006)\" d=\"M80,0h540\" style=\"stroke: rgb(255, 255, 255); stroke-opacity: 1; stroke-width: 2px;\"/></g><path class=\"xlines-below\"/><path class=\"ylines-below\"/><g class=\"overlines-below\"/><g class=\"xaxislayer-below\"/><g class=\"yaxislayer-below\"/><g class=\"overaxes-below\"/><g class=\"plot\" transform=\"translate(80,376.00000000000006)\" clip-path=\"url(#clip80dd86x2y2plot)\"><g class=\"scatterlayer mlayer\"><g class=\"trace scatter trace897938\" style=\"stroke-miterlimit: 2; opacity: 1;\"><g class=\"fills\"/><g class=\"errorbars\"/><g class=\"lines\"><path class=\"js-line\" d=\"M3.85,73.54L7.32,67.11L11.17,80.78L14.89,84.8L18.74,67.11L22.46,67.91L26.31,78.37L30.15,88.02L33.87,92.04L37.72,90.43L41.44,67.11L45.29,80.78L49.14,69.52L52.61,66.31L56.46,83.2L60.18,86.41L64.03,59.07L67.75,61.48L71.59,78.37L79.16,98.48L83.01,93.65L86.73,57.46L90.58,74.35L94.43,74.35L97.9,55.85L101.75,90.43L105.47,71.13L109.32,73.54L113.04,61.48L116.88,78.37L120.73,90.43L124.45,96.06L128.3,91.24L132.02,62.29L135.87,74.35L143.31,67.91L147.16,88.02L150.88,76.76L154.73,50.22L158.45,68.72L162.3,68.72L166.14,104.91L169.87,92.85L173.71,93.65L177.44,60.68L181.28,76.76L185.13,78.37L188.6,46.2L192.45,79.17L196.17,83.2L200.02,67.11L203.74,61.48L207.59,71.94L211.43,106.52L215.16,99.28L219,103.3L222.73,61.48L230.42,91.24L233.89,40.57L237.74,84.8L241.46,72.74L245.31,54.24L249.03,47.81L252.88,85.61L256.72,105.71L264.29,99.28L268.01,57.46L271.86,67.91L275.71,85.61L279.18,51.03L283.03,76.76L286.75,77.57L290.6,42.18L294.32,38.96L298.17,92.04L302.01,106.52L305.74,108.93L309.58,108.13L313.3,45.4L317.15,73.54L321,84L324.6,46.2L328.44,81.59L332.16,74.35L336.01,33.33L339.73,47L343.58,84.8L347.43,118.58L351.15,117.78L355,106.52L358.72,50.22L366.41,89.63L369.89,34.14L373.73,84.8L377.45,72.74L381.3,24.49L385.02,43.79L388.87,76.76L392.72,129.04L396.44,124.21L400.28,112.15L404.01,53.44L407.85,75.15L411.7,96.06L415.17,42.98L419.02,89.63L422.74,66.31L426.59,20.46L430.31,33.33L434.16,67.11L438.01,159.6L441.73,114.56L445.57,117.78L449.3,56.66L453.14,59.87L456.99,92.85L460.46,26.9L464.31,86.41L468.03,59.07L475.6,17.25L479.45,69.52L483.3,155.58L487.02,123.41L490.86,114.56L494.59,43.79L498.43,68.72L502.28,99.28L505.88,55.85L509.72,44.59L513.45,69.52L517.29,27.7L521.02,8.4L524.86,91.24L528.71,157.19L532.43,116.17L536.28,135.47L540,44.59\" style=\"vector-effect: none; fill: none; stroke: rgb(239, 85, 59); stroke-opacity: 1; stroke-width: 2px; opacity: 1;\"/></g><g class=\"points\"/><g class=\"text\"/></g></g></g><g class=\"overplot\"/><path class=\"xlines-above crisp\" d=\"M0,0\" style=\"fill: none;\"/><path class=\"ylines-above crisp\" d=\"M0,0\" style=\"fill: none;\"/><g class=\"overlines-above\"/><g class=\"xaxislayer-above\"><g class=\"x2tick\"><text text-anchor=\"middle\" x=\"0\" y=\"557\" transform=\"translate(125.28999999999999,0)\" style=\"font-family: 'Open Sans', verdana, arial, sans-serif; font-size: 12px; fill: rgb(42, 63, 95); fill-opacity: 1; white-space: pre; opacity: 1;\">1950</text></g><g class=\"x2tick\"><text text-anchor=\"middle\" x=\"0\" y=\"557\" style=\"font-family: 'Open Sans', verdana, arial, sans-serif; font-size: 12px; fill: rgb(42, 63, 95); fill-opacity: 1; white-space: pre; opacity: 1;\" transform=\"translate(215.87,0)\">1952</text></g><g class=\"x2tick\"><text text-anchor=\"middle\" x=\"0\" y=\"557\" style=\"font-family: 'Open Sans', verdana, arial, sans-serif; font-size: 12px; fill: rgb(42, 63, 95); fill-opacity: 1; white-space: pre; opacity: 1;\" transform=\"translate(306.57,0)\">1954</text></g><g class=\"x2tick\"><text text-anchor=\"middle\" x=\"0\" y=\"557\" style=\"font-family: 'Open Sans', verdana, arial, sans-serif; font-size: 12px; fill: rgb(42, 63, 95); fill-opacity: 1; white-space: pre; opacity: 1;\" transform=\"translate(397.15,0)\">1956</text></g><g class=\"x2tick\"><text text-anchor=\"middle\" x=\"0\" y=\"557\" style=\"font-family: 'Open Sans', verdana, arial, sans-serif; font-size: 12px; fill: rgb(42, 63, 95); fill-opacity: 1; white-space: pre; opacity: 1;\" transform=\"translate(487.85,0)\">1958</text></g><g class=\"x2tick\"><text text-anchor=\"middle\" x=\"0\" y=\"557\" style=\"font-family: 'Open Sans', verdana, arial, sans-serif; font-size: 12px; fill: rgb(42, 63, 95); fill-opacity: 1; white-space: pre; opacity: 1;\" transform=\"translate(578.4300000000001,0)\">1960</text></g></g><g class=\"yaxislayer-above\"><g class=\"y2tick\"><text text-anchor=\"end\" x=\"79\" y=\"4.199999999999999\" transform=\"translate(0,534.8000000000001)\" style=\"font-family: 'Open Sans', verdana, arial, sans-serif; font-size: 12px; fill: rgb(42, 63, 95); fill-opacity: 1; white-space: pre; opacity: 1;\">−100</text></g><g class=\"y2tick\"><text text-anchor=\"end\" x=\"79\" y=\"4.199999999999999\" style=\"font-family: 'Open Sans', verdana, arial, sans-serif; font-size: 12px; fill: rgb(42, 63, 95); fill-opacity: 1; white-space: pre; opacity: 1;\" transform=\"translate(0,494.58000000000004)\">−50</text></g><g class=\"y2tick\"><text text-anchor=\"end\" x=\"79\" y=\"4.199999999999999\" style=\"font-family: 'Open Sans', verdana, arial, sans-serif; font-size: 12px; fill: rgb(42, 63, 95); fill-opacity: 1; white-space: pre; opacity: 1;\" transform=\"translate(0,454.37000000000006)\">0</text></g><g class=\"y2tick\"><text text-anchor=\"end\" x=\"79\" y=\"4.199999999999999\" style=\"font-family: 'Open Sans', verdana, arial, sans-serif; font-size: 12px; fill: rgb(42, 63, 95); fill-opacity: 1; white-space: pre; opacity: 1;\" transform=\"translate(0,414.1600000000001)\">50</text></g></g><g class=\"overaxes-above\"/></g><g class=\"subplot x3y3\"><g class=\"layer-subplot\"><g class=\"shapelayer\"/><g class=\"imagelayer\"/></g><g class=\"minor-gridlayer\"><g class=\"x3\"/><g class=\"y3\"/></g><g class=\"gridlayer\"><g class=\"x3\"><path class=\"x3grid crisp\" transform=\"translate(125.28999999999999,0)\" d=\"M0,652v167.99999999999997\" style=\"stroke: rgb(255, 255, 255); stroke-opacity: 1; stroke-width: 1px;\"/><path class=\"x3grid crisp\" transform=\"translate(215.87,0)\" d=\"M0,652v167.99999999999997\" style=\"stroke: rgb(255, 255, 255); stroke-opacity: 1; stroke-width: 1px;\"/><path class=\"x3grid crisp\" transform=\"translate(306.57,0)\" d=\"M0,652v167.99999999999997\" style=\"stroke: rgb(255, 255, 255); stroke-opacity: 1; stroke-width: 1px;\"/><path class=\"x3grid crisp\" transform=\"translate(397.15,0)\" d=\"M0,652v167.99999999999997\" style=\"stroke: rgb(255, 255, 255); stroke-opacity: 1; stroke-width: 1px;\"/><path class=\"x3grid crisp\" transform=\"translate(487.85,0)\" d=\"M0,652v167.99999999999997\" style=\"stroke: rgb(255, 255, 255); stroke-opacity: 1; stroke-width: 1px;\"/><path class=\"x3grid crisp\" transform=\"translate(578.4300000000001,0)\" d=\"M0,652v167.99999999999997\" style=\"stroke: rgb(255, 255, 255); stroke-opacity: 1; stroke-width: 1px;\"/></g><g class=\"y3\"><path class=\"y3grid crisp\" transform=\"translate(0,814.96)\" d=\"M80,0h540\" style=\"stroke: rgb(255, 255, 255); stroke-opacity: 1; stroke-width: 1px;\"/><path class=\"y3grid crisp\" transform=\"translate(0,781.36)\" d=\"M80,0h540\" style=\"stroke: rgb(255, 255, 255); stroke-opacity: 1; stroke-width: 1px;\"/><path class=\"y3grid crisp\" transform=\"translate(0,714.16)\" d=\"M80,0h540\" style=\"stroke: rgb(255, 255, 255); stroke-opacity: 1; stroke-width: 1px;\"/><path class=\"y3grid crisp\" transform=\"translate(0,680.56)\" d=\"M80,0h540\" style=\"stroke: rgb(255, 255, 255); stroke-opacity: 1; stroke-width: 1px;\"/></g></g><g class=\"zerolinelayer\"><path class=\"y3zl zl crisp\" transform=\"translate(0,747.76)\" d=\"M80,0h540\" style=\"stroke: rgb(255, 255, 255); stroke-opacity: 1; stroke-width: 2px;\"/></g><path class=\"xlines-below\"/><path class=\"ylines-below\"/><g class=\"overlines-below\"/><g class=\"xaxislayer-below\"/><g class=\"yaxislayer-below\"/><g class=\"overaxes-below\"/><g class=\"plot\" transform=\"translate(80,652)\" clip-path=\"url(#clip80dd86x3y3plot)\"><g class=\"scatterlayer mlayer\"><g class=\"trace scatter trace9ce060\" style=\"stroke-miterlimit: 2; opacity: 1;\"><g class=\"fills\"/><g class=\"errorbars\"/><g class=\"lines\"><path class=\"js-line\" d=\"M49.14,87.36L56.46,100.8L60.18,99.12L64.03,78.96L67.75,82.32L71.59,95.76L75.44,95.76L79.16,109.2L83.01,102.48L86.73,75.6L90.58,82.32L94.43,105.84L97.9,73.92L101.75,110.88L105.47,63.84L109.32,126L113.04,95.76L116.88,95.76L120.73,100.8L124.45,90.72L128.3,90.72L132.02,105.84L135.87,95.76L139.72,89.04L143.31,120.96L147.16,90.72L150.88,107.52L154.73,47.04L158.45,110.88L162.3,75.6L166.14,126L169.87,89.04L173.71,100.8L177.44,92.4L181.28,100.8L185.13,110.88L188.6,50.4L192.45,77.28L196.17,109.2L200.02,131.04L203.74,80.64L207.59,102.48L211.43,99.12L215.16,109.2L219,115.92L222.73,97.44L226.57,94.08L230.42,122.64L233.89,84L237.74,107.52L241.46,73.92L245.31,68.88L249.03,67.2L252.88,124.32L256.72,94.08L260.45,102.48L264.29,87.36L268.01,87.36L271.86,78.96L275.71,84L279.18,117.6L283.03,78.96L286.75,105.84L290.6,70.56L294.32,77.28L298.17,109.2L302.01,97.44L305.74,109.2L309.58,114.24L313.3,70.56L317.15,107.52L321,92.4L324.6,85.68L328.44,105.84L332.16,89.04L336.01,77.28L339.73,112.56L343.58,80.64L347.43,120.96L351.15,114.24L355,92.4L358.72,105.84L362.56,90.72L366.41,107.52L369.89,70.56L373.73,102.48L377.45,92.4L381.3,77.28L385.02,89.04L388.87,78.96L392.72,117.6L396.44,109.2L400.28,107.52L404.01,102.48L407.85,104.16L415.17,114.24L419.02,105.84L422.74,82.32L426.59,87.36L430.31,73.92L434.16,75.6L438.01,159.6L441.73,75.6L445.57,107.52L449.3,102.48L453.14,63.84L456.99,89.04L460.46,62.16L464.31,89.04L468.03,80.64L471.88,129.36L475.6,62.16L479.45,100.8L483.3,87.36L487.02,114.24L494.59,68.88L498.43,114.24L502.28,109.2L505.88,156.24L509.72,8.4L513.45,117.6L517.29,77.28L521.02,77.28L524.86,141.12L528.71,99.12L532.43,80.64L536.28,139.44L540,97.44\" style=\"vector-effect: none; fill: none; stroke: rgb(0, 204, 150); stroke-opacity: 1; stroke-width: 2px; opacity: 1;\"/></g><g class=\"points\"/><g class=\"text\"/></g></g></g><g class=\"overplot\"/><path class=\"xlines-above crisp\" d=\"M0,0\" style=\"fill: none;\"/><path class=\"ylines-above crisp\" d=\"M0,0\" style=\"fill: none;\"/><g class=\"overlines-above\"/><g class=\"xaxislayer-above\"><g class=\"x3tick\"><text text-anchor=\"middle\" x=\"0\" y=\"833\" transform=\"translate(125.28999999999999,0)\" style=\"font-family: 'Open Sans', verdana, arial, sans-serif; font-size: 12px; fill: rgb(42, 63, 95); fill-opacity: 1; white-space: pre; opacity: 1;\">1950</text></g><g class=\"x3tick\"><text text-anchor=\"middle\" x=\"0\" y=\"833\" style=\"font-family: 'Open Sans', verdana, arial, sans-serif; font-size: 12px; fill: rgb(42, 63, 95); fill-opacity: 1; white-space: pre; opacity: 1;\" transform=\"translate(215.87,0)\">1952</text></g><g class=\"x3tick\"><text text-anchor=\"middle\" x=\"0\" y=\"833\" style=\"font-family: 'Open Sans', verdana, arial, sans-serif; font-size: 12px; fill: rgb(42, 63, 95); fill-opacity: 1; white-space: pre; opacity: 1;\" transform=\"translate(306.57,0)\">1954</text></g><g class=\"x3tick\"><text text-anchor=\"middle\" x=\"0\" y=\"833\" style=\"font-family: 'Open Sans', verdana, arial, sans-serif; font-size: 12px; fill: rgb(42, 63, 95); fill-opacity: 1; white-space: pre; opacity: 1;\" transform=\"translate(397.15,0)\">1956</text></g><g class=\"x3tick\"><text text-anchor=\"middle\" x=\"0\" y=\"833\" style=\"font-family: 'Open Sans', verdana, arial, sans-serif; font-size: 12px; fill: rgb(42, 63, 95); fill-opacity: 1; white-space: pre; opacity: 1;\" transform=\"translate(487.85,0)\">1958</text></g><g class=\"x3tick\"><text text-anchor=\"middle\" x=\"0\" y=\"833\" style=\"font-family: 'Open Sans', verdana, arial, sans-serif; font-size: 12px; fill: rgb(42, 63, 95); fill-opacity: 1; white-space: pre; opacity: 1;\" transform=\"translate(578.4300000000001,0)\">1960</text></g></g><g class=\"yaxislayer-above\"><g class=\"y3tick\"><text text-anchor=\"end\" x=\"79\" y=\"4.199999999999999\" transform=\"translate(0,814.96)\" style=\"font-family: 'Open Sans', verdana, arial, sans-serif; font-size: 12px; fill: rgb(42, 63, 95); fill-opacity: 1; white-space: pre; opacity: 1;\">−40</text></g><g class=\"y3tick\"><text text-anchor=\"end\" x=\"79\" y=\"4.199999999999999\" style=\"font-family: 'Open Sans', verdana, arial, sans-serif; font-size: 12px; fill: rgb(42, 63, 95); fill-opacity: 1; white-space: pre; opacity: 1;\" transform=\"translate(0,781.36)\">−20</text></g><g class=\"y3tick\"><text text-anchor=\"end\" x=\"79\" y=\"4.199999999999999\" style=\"font-family: 'Open Sans', verdana, arial, sans-serif; font-size: 12px; fill: rgb(42, 63, 95); fill-opacity: 1; white-space: pre; opacity: 1;\" transform=\"translate(0,747.76)\">0</text></g><g class=\"y3tick\"><text text-anchor=\"end\" x=\"79\" y=\"4.199999999999999\" style=\"font-family: 'Open Sans', verdana, arial, sans-serif; font-size: 12px; fill: rgb(42, 63, 95); fill-opacity: 1; white-space: pre; opacity: 1;\" transform=\"translate(0,714.16)\">20</text></g><g class=\"y3tick\"><text text-anchor=\"end\" x=\"79\" y=\"4.199999999999999\" style=\"font-family: 'Open Sans', verdana, arial, sans-serif; font-size: 12px; fill: rgb(42, 63, 95); fill-opacity: 1; white-space: pre; opacity: 1;\" transform=\"translate(0,680.56)\">40</text></g></g><g class=\"overaxes-above\"/></g></g><g class=\"polarlayer\"/><g class=\"smithlayer\"/><g class=\"ternarylayer\"/><g class=\"geolayer\"/><g class=\"funnelarealayer\"/><g class=\"pielayer\"/><g class=\"iciclelayer\"/><g class=\"treemaplayer\"/><g class=\"sunburstlayer\"/><g class=\"glimages\"/><defs id=\"topdefs-80dd86\"><g class=\"clips\"/></defs><g class=\"layer-above\"><g class=\"imagelayer\"/><g class=\"shapelayer\"/></g><g class=\"infolayer\"><g class=\"g-gtitle\"><text class=\"gtitle\" x=\"35\" y=\"50\" text-anchor=\"start\" dy=\"0em\" style=\"font-family: 'Open Sans', verdana, arial, sans-serif; font-size: 17px; fill: rgb(42, 63, 95); opacity: 1; font-weight: normal; white-space: pre;\">Monthly Totals of International Airline Passengers (1949-1960)</text></g><g class=\"g-xtitle\"/><g class=\"g-x2title\"/><g class=\"g-x3title\"/><g class=\"g-ytitle\"/><g class=\"g-y2title\"/><g class=\"g-y3title\"/><g class=\"annotation\" data-index=\"0\" style=\"opacity: 1;\"><g class=\"annotation-text-g\" transform=\"rotate(0,350,88.50000000000009)\"><g class=\"cursor-pointer\" transform=\"translate(262,77)\"><rect class=\"bg\" x=\"0.5\" y=\"0.5\" width=\"176\" height=\"22\" style=\"stroke-width: 1px; stroke: rgb(0, 0, 0); stroke-opacity: 0; fill: rgb(0, 0, 0); fill-opacity: 0;\"/><text class=\"annotation-text\" text-anchor=\"middle\" x=\"88.359375\" y=\"18\" style=\"font-family: 'Open Sans', verdana, arial, sans-serif; font-size: 16px; fill: rgb(42, 63, 95); fill-opacity: 1; white-space: pre;\">Passengers (Original)</text></g></g></g><g class=\"annotation\" data-index=\"1\" style=\"opacity: 1;\"><g class=\"annotation-text-g\" transform=\"rotate(0,350,364.50000000000006)\"><g class=\"cursor-pointer\" transform=\"translate(284,353)\"><rect class=\"bg\" x=\"0.5\" y=\"0.5\" width=\"131\" height=\"22\" style=\"stroke-width: 1px; stroke: rgb(0, 0, 0); stroke-opacity: 0; fill: rgb(0, 0, 0); fill-opacity: 0;\"/><text class=\"annotation-text\" text-anchor=\"middle\" x=\"65.796875\" y=\"18\" style=\"font-family: 'Open Sans', verdana, arial, sans-serif; font-size: 16px; fill: rgb(42, 63, 95); fill-opacity: 1; white-space: pre;\">Diff Stationarity</text></g></g></g><g class=\"annotation\" data-index=\"2\" style=\"opacity: 1;\"><g class=\"annotation-text-g\" transform=\"rotate(0,350,640.5)\"><g class=\"cursor-pointer\" transform=\"translate(272,629)\"><rect class=\"bg\" x=\"0.5\" y=\"0.5\" width=\"155\" height=\"22\" style=\"stroke-width: 1px; stroke: rgb(0, 0, 0); stroke-opacity: 0; fill: rgb(0, 0, 0); fill-opacity: 0;\"/><text class=\"annotation-text\" text-anchor=\"middle\" x=\"78\" y=\"18\" style=\"font-family: 'Open Sans', verdana, arial, sans-serif; font-size: 16px; fill: rgb(42, 63, 95); fill-opacity: 1; white-space: pre;\">Diff Seasonality 12</text></g></g></g></g></svg>"
      ]
     },
     "metadata": {},
     "output_type": "display_data"
    }
   ],
   "source": [
    "dff = df.rename(columns={'Passengers': 'Passengers (Original)', 'diff_stationarity': 'Diff Stationarity', 'diff_seasonality_12': 'Diff Seasonality 12'})\n",
    "\n",
    "fig = make_subplots(rows=3, cols=1, vertical_spacing=0.15, subplot_titles=dff.columns)\n",
    "\n",
    "for idx, column in enumerate(dff.columns, 1):\n",
    "    fig.add_trace(go\n",
    "        .Scatter(\n",
    "            x=dff.index, y=dff[column].values, name=column,),\n",
    "            row=idx, col=1)\n",
    "\n",
    "fig.update_layout(\n",
    "    height=900, showlegend=False,\n",
    "    title='Monthly Totals of International Airline Passengers (1949-1960)')\n",
    "\n",
    "fig"
   ]
  },
  {
   "cell_type": "code",
   "execution_count": 14,
   "id": "7f4c1c61",
   "metadata": {
    "execution": {
     "iopub.execute_input": "2024-05-29T22:26:20.889433Z",
     "iopub.status.busy": "2024-05-29T22:26:20.889297Z",
     "iopub.status.idle": "2024-05-29T22:26:20.922152Z",
     "shell.execute_reply": "2024-05-29T22:26:20.921809Z"
    },
    "papermill": {
     "duration": 0.03708,
     "end_time": "2024-05-29T22:26:20.923255",
     "exception": false,
     "start_time": "2024-05-29T22:26:20.886175",
     "status": "completed"
    },
    "tags": []
   },
   "outputs": [
    {
     "data": {
      "image/svg+xml": [
       "<svg class=\"main-svg\" xmlns=\"http://www.w3.org/2000/svg\" xmlns:xlink=\"http://www.w3.org/1999/xlink\" width=\"700\" height=\"900\" style=\"\" viewBox=\"0 0 700 900\"><rect x=\"0\" y=\"0\" width=\"700\" height=\"900\" style=\"fill: rgb(255, 255, 255); fill-opacity: 1;\"/><defs id=\"defs-6ef009\"><g class=\"clips\"><clipPath id=\"clip6ef009xyplot\" class=\"plotclip\"><rect width=\"540\" height=\"167.99999999999997\"/></clipPath><clipPath id=\"clip6ef009x2y2plot\" class=\"plotclip\"><rect width=\"540\" height=\"167.99999999999997\"/></clipPath><clipPath id=\"clip6ef009x3y3plot\" class=\"plotclip\"><rect width=\"540\" height=\"167.99999999999997\"/></clipPath><clipPath class=\"axesclip\" id=\"clip6ef009x\"><rect x=\"80\" y=\"0\" width=\"540\" height=\"900\"/></clipPath><clipPath class=\"axesclip\" id=\"clip6ef009y\"><rect x=\"0\" y=\"100.00000000000009\" width=\"700\" height=\"167.99999999999997\"/></clipPath><clipPath class=\"axesclip\" id=\"clip6ef009xy\"><rect x=\"80\" y=\"100.00000000000009\" width=\"540\" height=\"167.99999999999997\"/></clipPath><clipPath class=\"axesclip\" id=\"clip6ef009y2\"><rect x=\"0\" y=\"376.00000000000006\" width=\"700\" height=\"167.99999999999997\"/></clipPath><clipPath class=\"axesclip\" id=\"clip6ef009xy2\"><rect x=\"80\" y=\"376.00000000000006\" width=\"540\" height=\"167.99999999999997\"/></clipPath><clipPath class=\"axesclip\" id=\"clip6ef009y3\"><rect x=\"0\" y=\"652\" width=\"700\" height=\"167.99999999999997\"/></clipPath><clipPath class=\"axesclip\" id=\"clip6ef009xy3\"><rect x=\"80\" y=\"652\" width=\"540\" height=\"167.99999999999997\"/></clipPath><clipPath class=\"axesclip\" id=\"clip6ef009x2\"><rect x=\"80\" y=\"0\" width=\"540\" height=\"900\"/></clipPath><clipPath class=\"axesclip\" id=\"clip6ef009x2y\"><rect x=\"80\" y=\"100.00000000000009\" width=\"540\" height=\"167.99999999999997\"/></clipPath><clipPath class=\"axesclip\" id=\"clip6ef009x2y2\"><rect x=\"80\" y=\"376.00000000000006\" width=\"540\" height=\"167.99999999999997\"/></clipPath><clipPath class=\"axesclip\" id=\"clip6ef009x2y3\"><rect x=\"80\" y=\"652\" width=\"540\" height=\"167.99999999999997\"/></clipPath><clipPath class=\"axesclip\" id=\"clip6ef009x3\"><rect x=\"80\" y=\"0\" width=\"540\" height=\"900\"/></clipPath><clipPath class=\"axesclip\" id=\"clip6ef009x3y\"><rect x=\"80\" y=\"100.00000000000009\" width=\"540\" height=\"167.99999999999997\"/></clipPath><clipPath class=\"axesclip\" id=\"clip6ef009x3y2\"><rect x=\"80\" y=\"376.00000000000006\" width=\"540\" height=\"167.99999999999997\"/></clipPath><clipPath class=\"axesclip\" id=\"clip6ef009x3y3\"><rect x=\"80\" y=\"652\" width=\"540\" height=\"167.99999999999997\"/></clipPath></g><g class=\"gradients\"/><g class=\"patterns\"/></defs><g class=\"bglayer\"><rect class=\"bg\" x=\"80\" y=\"100.00000000000009\" width=\"540\" height=\"167.99999999999997\" style=\"fill: rgb(229, 236, 246); fill-opacity: 1; stroke-width: 0;\"/><rect class=\"bg\" x=\"80\" y=\"376.00000000000006\" width=\"540\" height=\"167.99999999999997\" style=\"fill: rgb(229, 236, 246); fill-opacity: 1; stroke-width: 0;\"/><rect class=\"bg\" x=\"80\" y=\"652\" width=\"540\" height=\"167.99999999999997\" style=\"fill: rgb(229, 236, 246); fill-opacity: 1; stroke-width: 0;\"/></g><g class=\"layer-below\"><g class=\"imagelayer\"/><g class=\"shapelayer\"/></g><g class=\"cartesianlayer\"><g class=\"subplot xy\"><g class=\"layer-subplot\"><g class=\"shapelayer\"/><g class=\"imagelayer\"/></g><g class=\"minor-gridlayer\"><g class=\"x\"/><g class=\"y\"/></g><g class=\"gridlayer\"><g class=\"x\"><path class=\"xgrid crisp\" transform=\"translate(125.28999999999999,0)\" d=\"M0,100.00000000000009v167.99999999999997\" style=\"stroke: rgb(255, 255, 255); stroke-opacity: 1; stroke-width: 1px;\"/><path class=\"xgrid crisp\" transform=\"translate(215.87,0)\" d=\"M0,100.00000000000009v167.99999999999997\" style=\"stroke: rgb(255, 255, 255); stroke-opacity: 1; stroke-width: 1px;\"/><path class=\"xgrid crisp\" transform=\"translate(306.57,0)\" d=\"M0,100.00000000000009v167.99999999999997\" style=\"stroke: rgb(255, 255, 255); stroke-opacity: 1; stroke-width: 1px;\"/><path class=\"xgrid crisp\" transform=\"translate(397.15,0)\" d=\"M0,100.00000000000009v167.99999999999997\" style=\"stroke: rgb(255, 255, 255); stroke-opacity: 1; stroke-width: 1px;\"/><path class=\"xgrid crisp\" transform=\"translate(487.85,0)\" d=\"M0,100.00000000000009v167.99999999999997\" style=\"stroke: rgb(255, 255, 255); stroke-opacity: 1; stroke-width: 1px;\"/><path class=\"xgrid crisp\" transform=\"translate(578.4300000000001,0)\" d=\"M0,100.00000000000009v167.99999999999997\" style=\"stroke: rgb(255, 255, 255); stroke-opacity: 1; stroke-width: 1px;\"/></g><g class=\"y\"><path class=\"ygrid crisp\" transform=\"translate(0,227.8700000000001)\" d=\"M80,0h540\" style=\"stroke: rgb(255, 255, 255); stroke-opacity: 1; stroke-width: 1px;\"/><path class=\"ygrid crisp\" transform=\"translate(0,184.61000000000007)\" d=\"M80,0h540\" style=\"stroke: rgb(255, 255, 255); stroke-opacity: 1; stroke-width: 1px;\"/><path class=\"ygrid crisp\" transform=\"translate(0,141.35000000000008)\" d=\"M80,0h540\" style=\"stroke: rgb(255, 255, 255); stroke-opacity: 1; stroke-width: 1px;\"/></g></g><g class=\"zerolinelayer\"/><path class=\"xlines-below\"/><path class=\"ylines-below\"/><g class=\"overlines-below\"/><g class=\"xaxislayer-below\"/><g class=\"yaxislayer-below\"/><g class=\"overaxes-below\"/><g class=\"plot\" transform=\"translate(80,100.00000000000009)\" clip-path=\"url(#clip6ef009xyplot)\"><g class=\"scatterlayer mlayer\"><g class=\"trace scatter tracebaab55\" style=\"stroke-miterlimit: 2; opacity: 1;\"><g class=\"fills\"/><g class=\"errorbars\"/><g class=\"lines\"><path class=\"js-line\" d=\"M41.44,159.6L60.18,158.52L64.03,158.01L79.16,155.13L83.01,154.77L94.43,152.03L97.9,150.7L109.32,146.95L113.04,145.9L143.31,138.22L147.16,137.57L150.88,137.18L154.73,135.73L177.44,129.17L181.28,128.27L185.13,127.69L188.6,126.14L196.17,122.54L200.02,121.64L211.43,118.32L215.16,117.6L230.42,117.06L233.89,117.1L241.46,117.2L245.31,116.45L252.88,114.32L256.72,113.53L268.01,111.04L271.86,109.67L290.6,102.24L294.32,100.01L305.74,94.53L309.58,93.3L347.43,75.78L351.15,74.63L377.45,66.41L381.3,64.68L396.44,57.32L400.28,56.1L411.7,53.5L415.17,53.28L426.59,52.53L430.31,51.59L434.16,50.22L438.01,50.22L456.99,47.98L460.46,46.4L479.45,37.28L483.3,35.15L494.59,29.09L498.43,27.04L502.28,25.27L505.88,24.8L524.86,13.95L528.71,12.33L532.43,10.38L536.28,9.37L540,8.4\" style=\"vector-effect: none; fill: none; stroke: rgb(99, 110, 250); stroke-opacity: 1; stroke-width: 2px; opacity: 1;\"/></g><g class=\"points\"/><g class=\"text\"/></g></g></g><g class=\"overplot\"/><path class=\"xlines-above crisp\" d=\"M0,0\" style=\"fill: none;\"/><path class=\"ylines-above crisp\" d=\"M0,0\" style=\"fill: none;\"/><g class=\"overlines-above\"/><g class=\"xaxislayer-above\"><g class=\"xtick\"><text text-anchor=\"middle\" x=\"0\" y=\"281.00000000000006\" transform=\"translate(125.28999999999999,0)\" style=\"font-family: 'Open Sans', verdana, arial, sans-serif; font-size: 12px; fill: rgb(42, 63, 95); fill-opacity: 1; white-space: pre; opacity: 1;\">1950</text></g><g class=\"xtick\"><text text-anchor=\"middle\" x=\"0\" y=\"281.00000000000006\" style=\"font-family: 'Open Sans', verdana, arial, sans-serif; font-size: 12px; fill: rgb(42, 63, 95); fill-opacity: 1; white-space: pre; opacity: 1;\" transform=\"translate(215.87,0)\">1952</text></g><g class=\"xtick\"><text text-anchor=\"middle\" x=\"0\" y=\"281.00000000000006\" style=\"font-family: 'Open Sans', verdana, arial, sans-serif; font-size: 12px; fill: rgb(42, 63, 95); fill-opacity: 1; white-space: pre; opacity: 1;\" transform=\"translate(306.57,0)\">1954</text></g><g class=\"xtick\"><text text-anchor=\"middle\" x=\"0\" y=\"281.00000000000006\" style=\"font-family: 'Open Sans', verdana, arial, sans-serif; font-size: 12px; fill: rgb(42, 63, 95); fill-opacity: 1; white-space: pre; opacity: 1;\" transform=\"translate(397.15,0)\">1956</text></g><g class=\"xtick\"><text text-anchor=\"middle\" x=\"0\" y=\"281.00000000000006\" style=\"font-family: 'Open Sans', verdana, arial, sans-serif; font-size: 12px; fill: rgb(42, 63, 95); fill-opacity: 1; white-space: pre; opacity: 1;\" transform=\"translate(487.85,0)\">1958</text></g><g class=\"xtick\"><text text-anchor=\"middle\" x=\"0\" y=\"281.00000000000006\" style=\"font-family: 'Open Sans', verdana, arial, sans-serif; font-size: 12px; fill: rgb(42, 63, 95); fill-opacity: 1; white-space: pre; opacity: 1;\" transform=\"translate(578.4300000000001,0)\">1960</text></g></g><g class=\"yaxislayer-above\"><g class=\"ytick\"><text text-anchor=\"end\" x=\"79\" y=\"4.199999999999999\" transform=\"translate(0,227.8700000000001)\" style=\"font-family: 'Open Sans', verdana, arial, sans-serif; font-size: 12px; fill: rgb(42, 63, 95); fill-opacity: 1; white-space: pre; opacity: 1;\">200</text></g><g class=\"ytick\"><text text-anchor=\"end\" x=\"79\" y=\"4.199999999999999\" style=\"font-family: 'Open Sans', verdana, arial, sans-serif; font-size: 12px; fill: rgb(42, 63, 95); fill-opacity: 1; white-space: pre; opacity: 1;\" transform=\"translate(0,184.61000000000007)\">300</text></g><g class=\"ytick\"><text text-anchor=\"end\" x=\"79\" y=\"4.199999999999999\" style=\"font-family: 'Open Sans', verdana, arial, sans-serif; font-size: 12px; fill: rgb(42, 63, 95); fill-opacity: 1; white-space: pre; opacity: 1;\" transform=\"translate(0,141.35000000000008)\">400</text></g></g><g class=\"overaxes-above\"/></g><g class=\"subplot x2y2\"><g class=\"layer-subplot\"><g class=\"shapelayer\"/><g class=\"imagelayer\"/></g><g class=\"minor-gridlayer\"><g class=\"x2\"/><g class=\"y2\"/></g><g class=\"gridlayer\"><g class=\"x2\"><path class=\"x2grid crisp\" transform=\"translate(125.28999999999999,0)\" d=\"M0,376.00000000000006v167.99999999999997\" style=\"stroke: rgb(255, 255, 255); stroke-opacity: 1; stroke-width: 1px;\"/><path class=\"x2grid crisp\" transform=\"translate(215.87,0)\" d=\"M0,376.00000000000006v167.99999999999997\" style=\"stroke: rgb(255, 255, 255); stroke-opacity: 1; stroke-width: 1px;\"/><path class=\"x2grid crisp\" transform=\"translate(306.57,0)\" d=\"M0,376.00000000000006v167.99999999999997\" style=\"stroke: rgb(255, 255, 255); stroke-opacity: 1; stroke-width: 1px;\"/><path class=\"x2grid crisp\" transform=\"translate(397.15,0)\" d=\"M0,376.00000000000006v167.99999999999997\" style=\"stroke: rgb(255, 255, 255); stroke-opacity: 1; stroke-width: 1px;\"/><path class=\"x2grid crisp\" transform=\"translate(487.85,0)\" d=\"M0,376.00000000000006v167.99999999999997\" style=\"stroke: rgb(255, 255, 255); stroke-opacity: 1; stroke-width: 1px;\"/><path class=\"x2grid crisp\" transform=\"translate(578.4300000000001,0)\" d=\"M0,376.00000000000006v167.99999999999997\" style=\"stroke: rgb(255, 255, 255); stroke-opacity: 1; stroke-width: 1px;\"/></g><g class=\"y2\"><path class=\"y2grid crisp\" transform=\"translate(0,476.6)\" d=\"M80,0h540\" style=\"stroke: rgb(255, 255, 255); stroke-opacity: 1; stroke-width: 1px;\"/><path class=\"y2grid crisp\" transform=\"translate(0,432.34000000000003)\" d=\"M80,0h540\" style=\"stroke: rgb(255, 255, 255); stroke-opacity: 1; stroke-width: 1px;\"/><path class=\"y2grid crisp\" transform=\"translate(0,388.09000000000003)\" d=\"M80,0h540\" style=\"stroke: rgb(255, 255, 255); stroke-opacity: 1; stroke-width: 1px;\"/></g></g><g class=\"zerolinelayer\"><path class=\"y2zl zl crisp\" transform=\"translate(0,520.85)\" d=\"M80,0h540\" style=\"stroke: rgb(255, 255, 255); stroke-opacity: 1; stroke-width: 2px;\"/></g><path class=\"xlines-below\"/><path class=\"ylines-below\"/><g class=\"overlines-below\"/><g class=\"xaxislayer-below\"/><g class=\"yaxislayer-below\"/><g class=\"overaxes-below\"/><g class=\"plot\" transform=\"translate(80,376.00000000000006)\" clip-path=\"url(#clip6ef009x2y2plot)\"><g class=\"scatterlayer mlayer\"><g class=\"trace scatter trace067954\" style=\"stroke-miterlimit: 2; opacity: 1;\"><g class=\"fills\"/><g class=\"errorbars\"/><g class=\"lines\"><path class=\"js-line\" d=\"M45.29,139.32L49.14,130.1L52.61,128.25L56.46,133.79L60.18,137.47L67.75,104.28L71.59,104.28L75.44,104.28L79.16,119.03L83.01,126.41L86.73,104.28L90.58,89.53L94.43,100.6L97.9,76.62L101.75,93.22L105.47,58.19L109.32,91.38L116.88,91.38L120.73,96.91L128.3,85.84L132.02,96.91L135.87,96.91L139.72,89.53L143.31,117.19L147.16,111.66L150.88,124.57L154.73,71.09L158.45,87.69L162.3,65.56L166.14,98.75L169.87,91.38L173.71,96.91L177.44,93.22L181.28,98.75L185.13,115.35L188.6,65.56L192.45,45.28L196.17,60.03L200.02,98.75L203.74,82.16L207.59,89.53L211.43,93.22L215.16,107.97L219,130.1L222.73,131.94L226.57,130.1L230.42,159.6L233.89,146.69L237.74,159.6L245.31,106.13L249.03,74.78L252.88,106.13L256.72,104.28L260.45,111.66L264.29,102.44L268.01,93.22L271.86,74.78L275.71,61.87L279.18,85.84L283.03,67.4L286.75,78.47L290.6,50.81L294.32,30.53L298.17,45.28L302.01,47.12L305.74,61.87L309.58,82.16L313.3,54.5L317.15,67.4L321,63.72L324.6,52.65L328.44,63.72L332.16,56.34L336.01,36.06L339.73,54.5L343.58,37.9L347.43,65.56L351.15,85.84L355,82.16L358.72,93.22L362.56,87.69L366.41,100.6L369.89,72.94L373.73,80.31L377.45,76.62L381.3,56.34L385.02,48.97L388.87,30.53L392.72,54.5L400.28,82.16L404.01,89.53L407.85,98.75L411.7,113.5L415.17,133.79L419.02,144.85L422.74,130.1L426.59,120.88L434.16,74.78L438.01,144.85L441.73,122.72L445.57,135.63L449.3,143L453.14,107.97L456.99,100.6L460.46,63.72L464.31,56.34L468.03,39.75L471.88,76.62L475.6,39.75L479.45,45.28L483.3,36.06L487.02,56.34L490.86,48.97L494.59,19.46L498.43,39.75L502.28,54.5L505.88,120.88L509.72,25L513.45,48.97L521.02,8.4L524.86,58.19L528.71,61.87L532.43,45.28L536.28,93.22L540,95.06\" style=\"vector-effect: none; fill: none; stroke: rgb(239, 85, 59); stroke-opacity: 1; stroke-width: 2px; opacity: 1;\"/></g><g class=\"points\"/><g class=\"text\"/></g></g></g><g class=\"overplot\"/><path class=\"xlines-above crisp\" d=\"M0,0\" style=\"fill: none;\"/><path class=\"ylines-above crisp\" d=\"M0,0\" style=\"fill: none;\"/><g class=\"overlines-above\"/><g class=\"xaxislayer-above\"><g class=\"x2tick\"><text text-anchor=\"middle\" x=\"0\" y=\"557\" transform=\"translate(125.28999999999999,0)\" style=\"font-family: 'Open Sans', verdana, arial, sans-serif; font-size: 12px; fill: rgb(42, 63, 95); fill-opacity: 1; white-space: pre; opacity: 1;\">1950</text></g><g class=\"x2tick\"><text text-anchor=\"middle\" x=\"0\" y=\"557\" style=\"font-family: 'Open Sans', verdana, arial, sans-serif; font-size: 12px; fill: rgb(42, 63, 95); fill-opacity: 1; white-space: pre; opacity: 1;\" transform=\"translate(215.87,0)\">1952</text></g><g class=\"x2tick\"><text text-anchor=\"middle\" x=\"0\" y=\"557\" style=\"font-family: 'Open Sans', verdana, arial, sans-serif; font-size: 12px; fill: rgb(42, 63, 95); fill-opacity: 1; white-space: pre; opacity: 1;\" transform=\"translate(306.57,0)\">1954</text></g><g class=\"x2tick\"><text text-anchor=\"middle\" x=\"0\" y=\"557\" style=\"font-family: 'Open Sans', verdana, arial, sans-serif; font-size: 12px; fill: rgb(42, 63, 95); fill-opacity: 1; white-space: pre; opacity: 1;\" transform=\"translate(397.15,0)\">1956</text></g><g class=\"x2tick\"><text text-anchor=\"middle\" x=\"0\" y=\"557\" style=\"font-family: 'Open Sans', verdana, arial, sans-serif; font-size: 12px; fill: rgb(42, 63, 95); fill-opacity: 1; white-space: pre; opacity: 1;\" transform=\"translate(487.85,0)\">1958</text></g><g class=\"x2tick\"><text text-anchor=\"middle\" x=\"0\" y=\"557\" style=\"font-family: 'Open Sans', verdana, arial, sans-serif; font-size: 12px; fill: rgb(42, 63, 95); fill-opacity: 1; white-space: pre; opacity: 1;\" transform=\"translate(578.4300000000001,0)\">1960</text></g></g><g class=\"yaxislayer-above\"><g class=\"y2tick\"><text text-anchor=\"end\" x=\"79\" y=\"4.199999999999999\" transform=\"translate(0,520.85)\" style=\"font-family: 'Open Sans', verdana, arial, sans-serif; font-size: 12px; fill: rgb(42, 63, 95); fill-opacity: 1; white-space: pre; opacity: 1;\">0</text></g><g class=\"y2tick\"><text text-anchor=\"end\" x=\"79\" y=\"4.199999999999999\" style=\"font-family: 'Open Sans', verdana, arial, sans-serif; font-size: 12px; fill: rgb(42, 63, 95); fill-opacity: 1; white-space: pre; opacity: 1;\" transform=\"translate(0,476.6)\">2</text></g><g class=\"y2tick\"><text text-anchor=\"end\" x=\"79\" y=\"4.199999999999999\" style=\"font-family: 'Open Sans', verdana, arial, sans-serif; font-size: 12px; fill: rgb(42, 63, 95); fill-opacity: 1; white-space: pre; opacity: 1;\" transform=\"translate(0,432.34000000000003)\">4</text></g><g class=\"y2tick\"><text text-anchor=\"end\" x=\"79\" y=\"4.199999999999999\" style=\"font-family: 'Open Sans', verdana, arial, sans-serif; font-size: 12px; fill: rgb(42, 63, 95); fill-opacity: 1; white-space: pre; opacity: 1;\" transform=\"translate(0,388.09000000000003)\">6</text></g></g><g class=\"overaxes-above\"/></g><g class=\"subplot x3y3\"><g class=\"layer-subplot\"><g class=\"shapelayer\"/><g class=\"imagelayer\"/></g><g class=\"minor-gridlayer\"><g class=\"x3\"/><g class=\"y3\"/></g><g class=\"gridlayer\"><g class=\"x3\"><path class=\"x3grid crisp\" transform=\"translate(125.28999999999999,0)\" d=\"M0,652v167.99999999999997\" style=\"stroke: rgb(255, 255, 255); stroke-opacity: 1; stroke-width: 1px;\"/><path class=\"x3grid crisp\" transform=\"translate(215.87,0)\" d=\"M0,652v167.99999999999997\" style=\"stroke: rgb(255, 255, 255); stroke-opacity: 1; stroke-width: 1px;\"/><path class=\"x3grid crisp\" transform=\"translate(306.57,0)\" d=\"M0,652v167.99999999999997\" style=\"stroke: rgb(255, 255, 255); stroke-opacity: 1; stroke-width: 1px;\"/><path class=\"x3grid crisp\" transform=\"translate(397.15,0)\" d=\"M0,652v167.99999999999997\" style=\"stroke: rgb(255, 255, 255); stroke-opacity: 1; stroke-width: 1px;\"/><path class=\"x3grid crisp\" transform=\"translate(487.85,0)\" d=\"M0,652v167.99999999999997\" style=\"stroke: rgb(255, 255, 255); stroke-opacity: 1; stroke-width: 1px;\"/><path class=\"x3grid crisp\" transform=\"translate(578.4300000000001,0)\" d=\"M0,652v167.99999999999997\" style=\"stroke: rgb(255, 255, 255); stroke-opacity: 1; stroke-width: 1px;\"/></g><g class=\"y3\"><path class=\"y3grid crisp\" transform=\"translate(0,809.26)\" d=\"M80,0h540\" style=\"stroke: rgb(255, 255, 255); stroke-opacity: 1; stroke-width: 1px;\"/><path class=\"y3grid crisp\" transform=\"translate(0,668.6)\" d=\"M80,0h540\" style=\"stroke: rgb(255, 255, 255); stroke-opacity: 1; stroke-width: 1px;\"/></g></g><g class=\"zerolinelayer\"><path class=\"y3zl zl crisp\" transform=\"translate(0,738.9300000000001)\" d=\"M80,0h540\" style=\"stroke: rgb(255, 255, 255); stroke-opacity: 1; stroke-width: 2px;\"/></g><path class=\"xlines-below\"/><path class=\"ylines-below\"/><g class=\"overlines-below\"/><g class=\"xaxislayer-below\"/><g class=\"yaxislayer-below\"/><g class=\"overaxes-below\"/><g class=\"plot\" transform=\"translate(80,652)\" clip-path=\"url(#clip6ef009x3y3plot)\"><g class=\"scatterlayer mlayer\"><g class=\"trace scatter trace332d18\" style=\"stroke-miterlimit: 2; opacity: 1;\"><g class=\"fills\"/><g class=\"errorbars\"/><g class=\"lines\"><path class=\"js-line\" d=\"M90.58,55.28L94.43,68.18L97.9,54.11L101.75,61.14L105.47,36.53L109.32,69.35L113.04,78.73L116.88,78.73L120.73,82.24L124.45,69.35L128.3,61.14L132.02,82.24L135.87,91.62L139.72,79.9L143.31,112.72L147.16,98.65L150.88,129.13L154.73,74.04L158.45,84.59L162.3,70.52L166.14,88.1L169.87,86.93L173.71,93.96L177.44,84.59L181.28,88.1L185.13,103.34L188.6,54.11L192.45,44.73L196.17,45.91L200.02,104.51L203.74,83.41L207.59,102.17L211.43,83.41L215.16,97.48L219,108.03L222.73,111.54L226.57,106.86L230.42,115.06L233.89,138.5L237.74,159.6L241.46,134.99L245.31,91.62L249.03,82.24L252.88,97.48L256.72,93.96L260.45,89.27L264.29,69.35L268.01,62.32L271.86,51.77L275.71,24.81L279.18,48.25L283.03,28.33L286.75,50.6L290.6,51.77L294.32,58.8L298.17,48.25L302.01,50.6L305.74,55.28L309.58,74.04L313.3,62.32L317.15,82.24L321,88.1L324.6,65.83L328.44,84.59L332.16,72.87L336.01,77.55L339.73,102.17L343.58,82.24L347.43,98.65L351.15,102.17L355,86.93L358.72,111.54L362.56,99.82L366.41,110.37L369.89,99.82L373.73,97.48L377.45,99.82L381.3,99.82L385.02,83.41L388.87,82.24L392.72,79.9L396.44,76.38L400.28,86.93L404.01,84.59L407.85,93.96L411.7,95.13L415.17,125.61L419.02,127.95L422.74,120.92L426.59,127.95L430.31,117.4L434.16,115.06L438.01,144.36L441.73,120.92L445.57,120.92L449.3,120.92L453.14,92.79L456.99,78.73L460.46,42.39L464.31,30.67L468.03,29.5L471.88,58.8L475.6,50.6L479.45,68.18L483.3,17.78L487.02,44.73L490.86,31.84L494.59,8.4L498.43,43.56L502.28,57.63L505.88,123.27L509.72,67L513.45,92.79L517.29,56.46L521.02,67L524.86,95.13L528.71,103.34L532.43,79.9L536.28,115.06L540,134.99\" style=\"vector-effect: none; fill: none; stroke: rgb(0, 204, 150); stroke-opacity: 1; stroke-width: 2px; opacity: 1;\"/></g><g class=\"points\"/><g class=\"text\"/></g></g></g><g class=\"overplot\"/><path class=\"xlines-above crisp\" d=\"M0,0\" style=\"fill: none;\"/><path class=\"ylines-above crisp\" d=\"M0,0\" style=\"fill: none;\"/><g class=\"overlines-above\"/><g class=\"xaxislayer-above\"><g class=\"x3tick\"><text text-anchor=\"middle\" x=\"0\" y=\"833\" transform=\"translate(125.28999999999999,0)\" style=\"font-family: 'Open Sans', verdana, arial, sans-serif; font-size: 12px; fill: rgb(42, 63, 95); fill-opacity: 1; white-space: pre; opacity: 1;\">1950</text></g><g class=\"x3tick\"><text text-anchor=\"middle\" x=\"0\" y=\"833\" style=\"font-family: 'Open Sans', verdana, arial, sans-serif; font-size: 12px; fill: rgb(42, 63, 95); fill-opacity: 1; white-space: pre; opacity: 1;\" transform=\"translate(215.87,0)\">1952</text></g><g class=\"x3tick\"><text text-anchor=\"middle\" x=\"0\" y=\"833\" style=\"font-family: 'Open Sans', verdana, arial, sans-serif; font-size: 12px; fill: rgb(42, 63, 95); fill-opacity: 1; white-space: pre; opacity: 1;\" transform=\"translate(306.57,0)\">1954</text></g><g class=\"x3tick\"><text text-anchor=\"middle\" x=\"0\" y=\"833\" style=\"font-family: 'Open Sans', verdana, arial, sans-serif; font-size: 12px; fill: rgb(42, 63, 95); fill-opacity: 1; white-space: pre; opacity: 1;\" transform=\"translate(397.15,0)\">1956</text></g><g class=\"x3tick\"><text text-anchor=\"middle\" x=\"0\" y=\"833\" style=\"font-family: 'Open Sans', verdana, arial, sans-serif; font-size: 12px; fill: rgb(42, 63, 95); fill-opacity: 1; white-space: pre; opacity: 1;\" transform=\"translate(487.85,0)\">1958</text></g><g class=\"x3tick\"><text text-anchor=\"middle\" x=\"0\" y=\"833\" style=\"font-family: 'Open Sans', verdana, arial, sans-serif; font-size: 12px; fill: rgb(42, 63, 95); fill-opacity: 1; white-space: pre; opacity: 1;\" transform=\"translate(578.4300000000001,0)\">1960</text></g></g><g class=\"yaxislayer-above\"><g class=\"y3tick\"><text text-anchor=\"end\" x=\"79\" y=\"4.199999999999999\" transform=\"translate(0,809.26)\" style=\"font-family: 'Open Sans', verdana, arial, sans-serif; font-size: 12px; fill: rgb(42, 63, 95); fill-opacity: 1; white-space: pre; opacity: 1;\">−5</text></g><g class=\"y3tick\"><text text-anchor=\"end\" x=\"79\" y=\"4.199999999999999\" style=\"font-family: 'Open Sans', verdana, arial, sans-serif; font-size: 12px; fill: rgb(42, 63, 95); fill-opacity: 1; white-space: pre; opacity: 1;\" transform=\"translate(0,738.9300000000001)\">0</text></g><g class=\"y3tick\"><text text-anchor=\"end\" x=\"79\" y=\"4.199999999999999\" style=\"font-family: 'Open Sans', verdana, arial, sans-serif; font-size: 12px; fill: rgb(42, 63, 95); fill-opacity: 1; white-space: pre; opacity: 1;\" transform=\"translate(0,668.6)\">5</text></g></g><g class=\"overaxes-above\"/></g></g><g class=\"polarlayer\"/><g class=\"smithlayer\"/><g class=\"ternarylayer\"/><g class=\"geolayer\"/><g class=\"funnelarealayer\"/><g class=\"pielayer\"/><g class=\"iciclelayer\"/><g class=\"treemaplayer\"/><g class=\"sunburstlayer\"/><g class=\"glimages\"/><defs id=\"topdefs-6ef009\"><g class=\"clips\"/></defs><g class=\"layer-above\"><g class=\"imagelayer\"/><g class=\"shapelayer\"/></g><g class=\"infolayer\"><g class=\"g-gtitle\"><text class=\"gtitle\" x=\"35\" y=\"50\" text-anchor=\"start\" dy=\"0em\" style=\"font-family: 'Open Sans', verdana, arial, sans-serif; font-size: 17px; fill: rgb(42, 63, 95); opacity: 1; font-weight: normal; white-space: pre;\">Trend (S) Moving Average of International Airline Passengers (1949-1960)</text></g><g class=\"g-xtitle\"/><g class=\"g-x2title\"/><g class=\"g-x3title\"/><g class=\"g-ytitle\"/><g class=\"g-y2title\"/><g class=\"g-y3title\"/><g class=\"annotation\" data-index=\"0\" style=\"opacity: 1;\"><g class=\"annotation-text-g\" transform=\"rotate(0,350,88.50000000000009)\"><g class=\"cursor-pointer\" transform=\"translate(262,77)\"><rect class=\"bg\" x=\"0.5\" y=\"0.5\" width=\"176\" height=\"22\" style=\"stroke-width: 1px; stroke: rgb(0, 0, 0); stroke-opacity: 0; fill: rgb(0, 0, 0); fill-opacity: 0;\"/><text class=\"annotation-text\" text-anchor=\"middle\" x=\"88.359375\" y=\"18\" style=\"font-family: 'Open Sans', verdana, arial, sans-serif; font-size: 16px; fill: rgb(42, 63, 95); fill-opacity: 1; white-space: pre;\">Passengers (Original)</text></g></g></g><g class=\"annotation\" data-index=\"1\" style=\"opacity: 1;\"><g class=\"annotation-text-g\" transform=\"rotate(0,350,364.50000000000006)\"><g class=\"cursor-pointer\" transform=\"translate(284,353)\"><rect class=\"bg\" x=\"0.5\" y=\"0.5\" width=\"131\" height=\"22\" style=\"stroke-width: 1px; stroke: rgb(0, 0, 0); stroke-opacity: 0; fill: rgb(0, 0, 0); fill-opacity: 0;\"/><text class=\"annotation-text\" text-anchor=\"middle\" x=\"65.796875\" y=\"18\" style=\"font-family: 'Open Sans', verdana, arial, sans-serif; font-size: 16px; fill: rgb(42, 63, 95); fill-opacity: 1; white-space: pre;\">Diff Stationarity</text></g></g></g><g class=\"annotation\" data-index=\"2\" style=\"opacity: 1;\"><g class=\"annotation-text-g\" transform=\"rotate(0,350,640.5)\"><g class=\"cursor-pointer\" transform=\"translate(272,629)\"><rect class=\"bg\" x=\"0.5\" y=\"0.5\" width=\"155\" height=\"22\" style=\"stroke-width: 1px; stroke: rgb(0, 0, 0); stroke-opacity: 0; fill: rgb(0, 0, 0); fill-opacity: 0;\"/><text class=\"annotation-text\" text-anchor=\"middle\" x=\"78\" y=\"18\" style=\"font-family: 'Open Sans', verdana, arial, sans-serif; font-size: 16px; fill: rgb(42, 63, 95); fill-opacity: 1; white-space: pre;\">Diff Seasonality 12</text></g></g></g></g></svg>"
      ]
     },
     "metadata": {},
     "output_type": "display_data"
    }
   ],
   "source": [
    "dff = df.rolling(window=12).mean().rename(columns={'Passengers': 'Passengers (Original)', 'diff_stationarity': 'Diff Stationarity', 'diff_seasonality_12': 'Diff Seasonality 12'})\n",
    "\n",
    "fig = make_subplots(rows=3, cols=1, vertical_spacing=0.15, subplot_titles=dff.columns)\n",
    "\n",
    "for idx, column in enumerate(dff.columns, 1):\n",
    "    fig.add_trace(go\n",
    "        .Scatter(\n",
    "            x=dff.index, y=dff[column].values, name=column,),\n",
    "            row=idx, col=1)\n",
    "\n",
    "fig.update_layout(\n",
    "    height=900, showlegend=False,\n",
    "    title='Trend (S) Moving Average of International Airline Passengers (1949-1960)')\n",
    "\n",
    "\n",
    "fig"
   ]
  },
  {
   "cell_type": "markdown",
   "id": "192bede1",
   "metadata": {
    "papermill": {
     "duration": 0.002611,
     "end_time": "2024-05-29T22:26:20.989914",
     "exception": false,
     "start_time": "2024-05-29T22:26:20.987303",
     "status": "completed"
    },
    "tags": []
   },
   "source": [
    "### ADF Test"
   ]
  },
  {
   "cell_type": "code",
   "execution_count": 16,
   "id": "33de776c",
   "metadata": {
    "execution": {
     "iopub.execute_input": "2024-05-29T22:26:20.996660Z",
     "iopub.status.busy": "2024-05-29T22:26:20.996495Z",
     "iopub.status.idle": "2024-05-29T22:26:21.001120Z",
     "shell.execute_reply": "2024-05-29T22:26:21.000870Z"
    },
    "papermill": {
     "duration": 0.009892,
     "end_time": "2024-05-29T22:26:21.002246",
     "exception": false,
     "start_time": "2024-05-29T22:26:20.992354",
     "status": "completed"
    },
    "tags": []
   },
   "outputs": [
    {
     "name": "stdout",
     "output_type": "stream",
     "text": [
      "ADF Statistic: -15.59561808374634\n",
      "p-value: 1.856511600123444e-28\n"
     ]
    }
   ],
   "source": [
    "result_adf = adfuller(df['diff_seasonality_12'].dropna())\n",
    "print('ADF Statistic:', result_adf[0])\n",
    "print('p-value:', result_adf[1])"
   ]
  },
  {
   "cell_type": "markdown",
   "id": "205f520c",
   "metadata": {
    "papermill": {
     "duration": 0.002415,
     "end_time": "2024-05-29T22:26:21.007320",
     "exception": false,
     "start_time": "2024-05-29T22:26:21.004905",
     "status": "completed"
    },
    "tags": []
   },
   "source": [
    "### KPSS Test"
   ]
  },
  {
   "cell_type": "code",
   "execution_count": 17,
   "id": "6033653f",
   "metadata": {
    "execution": {
     "iopub.execute_input": "2024-05-29T22:26:21.013916Z",
     "iopub.status.busy": "2024-05-29T22:26:21.013730Z",
     "iopub.status.idle": "2024-05-29T22:26:21.016008Z",
     "shell.execute_reply": "2024-05-29T22:26:21.015778Z"
    },
    "papermill": {
     "duration": 0.006434,
     "end_time": "2024-05-29T22:26:21.016947",
     "exception": false,
     "start_time": "2024-05-29T22:26:21.010513",
     "status": "completed"
    },
    "tags": []
   },
   "outputs": [
    {
     "name": "stdout",
     "output_type": "stream",
     "text": [
      "\n",
      "KPSS Statistic: 0.04677372893961298\n",
      "p-value: 0.1\n"
     ]
    },
    {
     "name": "stderr",
     "output_type": "stream",
     "text": [
      "/var/folders/89/hqh4vvhn24q2xc8ph93krqz80000gn/T/ipykernel_34909/1870162030.py:1: InterpolationWarning:\n",
      "\n",
      "The test statistic is outside of the range of p-values available in the\n",
      "look-up table. The actual p-value is greater than the p-value returned.\n",
      "\n",
      "\n"
     ]
    }
   ],
   "source": [
    "result_kpss = kpss(df['diff_seasonality_12'].dropna())\n",
    "print('\\nKPSS Statistic:', result_kpss[0])\n",
    "print('p-value:', result_kpss[1])"
   ]
  }
 ],
 "metadata": {
  "kernelspec": {
   "display_name": "Python 3 (ipykernel)",
   "language": "python",
   "name": "python3"
  },
  "language_info": {
   "codemirror_mode": {
    "name": "ipython",
    "version": 3
   },
   "file_extension": ".py",
   "mimetype": "text/x-python",
   "name": "python",
   "nbconvert_exporter": "python",
   "pygments_lexer": "ipython3",
   "version": "3.12.2"
  },
  "papermill": {
   "default_parameters": {},
   "duration": 3.005458,
   "end_time": "2024-05-29T22:26:21.336602",
   "environment_variables": {},
   "exception": null,
   "input_path": "/Users/sota/Library/CloudStorage/Dropbox/2 Business/1 Datons/2 Areas/Courses/22 TS/solutions-new/notebooks/30_Stationarity & Seasonality/1_Differencing/1.ipynb",
   "output_path": "/Users/sota/Library/CloudStorage/Dropbox/2 Business/1 Datons/2 Areas/Courses/22 TS/solutions-new/notebooks/30_Stationarity & Seasonality/1_Differencing/1.ipynb",
   "parameters": {},
   "start_time": "2024-05-29T22:26:18.331144",
   "version": "2.5.0"
  }
 },
 "nbformat": 4,
 "nbformat_minor": 5
}
