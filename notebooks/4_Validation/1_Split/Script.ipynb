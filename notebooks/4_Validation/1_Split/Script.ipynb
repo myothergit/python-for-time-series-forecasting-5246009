{
 "cells": [
  {
   "cell_type": "markdown",
   "id": "416b55df",
   "metadata": {
    "papermill": {
     "duration": 0.002212,
     "end_time": "2024-05-29T22:26:22.490527",
     "exception": false,
     "start_time": "2024-05-29T22:26:22.488315",
     "status": "completed"
    },
    "tags": []
   },
   "source": [
    "# Model Evaluation & Validation: Train Test Split"
   ]
  },
  {
   "cell_type": "code",
   "execution_count": 1,
   "id": "8524a2c4",
   "metadata": {},
   "outputs": [
    {
     "name": "stderr",
     "output_type": "stream",
     "text": [
      "/Users/sota/miniforge3/envs/time-series/lib/python3.12/site-packages/tqdm/auto.py:21: TqdmWarning: IProgress not found. Please update jupyter and ipywidgets. See https://ipywidgets.readthedocs.io/en/stable/user_install.html\n",
      "  from .autonotebook import tqdm as notebook_tqdm\n"
     ]
    }
   ],
   "source": [
    "\n",
    "from modules import utils\n",
    "utils.configure_plotly_template(showlegend=True)"
   ]
  },
  {
   "cell_type": "markdown",
   "id": "7363fe5e",
   "metadata": {
    "papermill": {
     "duration": 0.001736,
     "end_time": "2024-05-29T22:26:22.494272",
     "exception": false,
     "start_time": "2024-05-29T22:26:22.492536",
     "status": "completed"
    },
    "tags": []
   },
   "source": [
    "## Overview"
   ]
  },
  {
   "cell_type": "markdown",
   "id": "1c3a6c69",
   "metadata": {},
   "source": [
    "## Data"
   ]
  },
  {
   "cell_type": "code",
   "execution_count": 2,
   "id": "98943ff6",
   "metadata": {},
   "outputs": [
    {
     "data": {
      "text/html": [
       "<div>\n",
       "<style scoped>\n",
       "    .dataframe tbody tr th:only-of-type {\n",
       "        vertical-align: middle;\n",
       "    }\n",
       "\n",
       "    .dataframe tbody tr th {\n",
       "        vertical-align: top;\n",
       "    }\n",
       "\n",
       "    .dataframe thead th {\n",
       "        text-align: right;\n",
       "    }\n",
       "</style>\n",
       "<table border=\"1\" class=\"dataframe\">\n",
       "  <thead>\n",
       "    <tr style=\"text-align: right;\">\n",
       "      <th></th>\n",
       "      <th>values</th>\n",
       "    </tr>\n",
       "  </thead>\n",
       "  <tbody>\n",
       "    <tr>\n",
       "      <th>1949-01-31</th>\n",
       "      <td>112</td>\n",
       "    </tr>\n",
       "    <tr>\n",
       "      <th>1949-02-28</th>\n",
       "      <td>118</td>\n",
       "    </tr>\n",
       "    <tr>\n",
       "      <th>...</th>\n",
       "      <td>...</td>\n",
       "    </tr>\n",
       "    <tr>\n",
       "      <th>1960-11-30</th>\n",
       "      <td>390</td>\n",
       "    </tr>\n",
       "    <tr>\n",
       "      <th>1960-12-31</th>\n",
       "      <td>432</td>\n",
       "    </tr>\n",
       "  </tbody>\n",
       "</table>\n",
       "<p>144 rows × 1 columns</p>\n",
       "</div>"
      ],
      "text/plain": [
       "            values\n",
       "1949-01-31     112\n",
       "1949-02-28     118\n",
       "...            ...\n",
       "1960-11-30     390\n",
       "1960-12-31     432\n",
       "\n",
       "[144 rows x 1 columns]"
      ]
     },
     "execution_count": 2,
     "metadata": {},
     "output_type": "execute_result"
    }
   ],
   "source": [
    "import pandas as pd\n",
    "\n",
    "df = pd.read_parquet('../../../data/statsmodels/AirPassengers.parquet').asfreq('ME')\n",
    "df.columns = ['values']\n",
    "\n",
    "df"
   ]
  },
  {
   "cell_type": "code",
   "execution_count": 3,
   "id": "41a65128",
   "metadata": {},
   "outputs": [
    {
     "data": {
      "text/html": [
       "<div>\n",
       "<style scoped>\n",
       "    .dataframe tbody tr th:only-of-type {\n",
       "        vertical-align: middle;\n",
       "    }\n",
       "\n",
       "    .dataframe tbody tr th {\n",
       "        vertical-align: top;\n",
       "    }\n",
       "\n",
       "    .dataframe thead th {\n",
       "        text-align: right;\n",
       "    }\n",
       "</style>\n",
       "<table border=\"1\" class=\"dataframe\">\n",
       "  <thead>\n",
       "    <tr style=\"text-align: right;\">\n",
       "      <th></th>\n",
       "      <th>values</th>\n",
       "      <th>values_log</th>\n",
       "    </tr>\n",
       "  </thead>\n",
       "  <tbody>\n",
       "    <tr>\n",
       "      <th>1949-01-31</th>\n",
       "      <td>112</td>\n",
       "      <td>4.718499</td>\n",
       "    </tr>\n",
       "    <tr>\n",
       "      <th>1949-02-28</th>\n",
       "      <td>118</td>\n",
       "      <td>4.770685</td>\n",
       "    </tr>\n",
       "    <tr>\n",
       "      <th>...</th>\n",
       "      <td>...</td>\n",
       "      <td>...</td>\n",
       "    </tr>\n",
       "    <tr>\n",
       "      <th>1960-11-30</th>\n",
       "      <td>390</td>\n",
       "      <td>5.966147</td>\n",
       "    </tr>\n",
       "    <tr>\n",
       "      <th>1960-12-31</th>\n",
       "      <td>432</td>\n",
       "      <td>6.068426</td>\n",
       "    </tr>\n",
       "  </tbody>\n",
       "</table>\n",
       "<p>144 rows × 2 columns</p>\n",
       "</div>"
      ],
      "text/plain": [
       "            values  values_log\n",
       "1949-01-31     112    4.718499\n",
       "1949-02-28     118    4.770685\n",
       "...            ...         ...\n",
       "1960-11-30     390    5.966147\n",
       "1960-12-31     432    6.068426\n",
       "\n",
       "[144 rows x 2 columns]"
      ]
     },
     "execution_count": 3,
     "metadata": {},
     "output_type": "execute_result"
    }
   ],
   "source": [
    "import numpy as np\n",
    "df['values_log'] = np.log(df['values'])\n",
    "\n",
    "df"
   ]
  },
  {
   "cell_type": "code",
   "execution_count": 4,
   "id": "b57feb99",
   "metadata": {},
   "outputs": [],
   "source": [
    "df_base = df.copy()"
   ]
  },
  {
   "cell_type": "code",
   "execution_count": 5,
   "id": "fda98d54",
   "metadata": {},
   "outputs": [
    {
     "data": {
      "text/plain": [
       "1949-01-31    4.718499\n",
       "1949-02-28    4.770685\n",
       "                ...   \n",
       "1960-11-30    5.966147\n",
       "1960-12-31    6.068426\n",
       "Freq: ME, Name: values_log, Length: 144, dtype: float64"
      ]
     },
     "execution_count": 5,
     "metadata": {},
     "output_type": "execute_result"
    }
   ],
   "source": [
    "series = df[\"values_log\"]\n",
    "series"
   ]
  },
  {
   "cell_type": "markdown",
   "id": "3f81fe26",
   "metadata": {
    "papermill": {
     "duration": 0.001473,
     "end_time": "2024-05-29T22:26:22.515491",
     "exception": false,
     "start_time": "2024-05-29T22:26:22.514018",
     "status": "completed"
    },
    "tags": []
   },
   "source": [
    "## Previous Lesson: Overfitting Problem\n",
    "\n",
    "1. Evaluate the model on the same series used for training.\n",
    "2. Overfitting problem: the model is good to predict historical series, but not for the future.\n",
    "3. Businesses depend on predicting the future, not the past."
   ]
  },
  {
   "cell_type": "code",
   "execution_count": 6,
   "id": "26c36017",
   "metadata": {
    "execution": {
     "iopub.execute_input": "2024-05-29T22:26:22.518768Z",
     "iopub.status.busy": "2024-05-29T22:26:22.518685Z",
     "iopub.status.idle": "2024-05-29T22:26:23.985808Z",
     "shell.execute_reply": "2024-05-29T22:26:23.984891Z"
    },
    "papermill": {
     "duration": 1.471026,
     "end_time": "2024-05-29T22:26:23.987882",
     "exception": false,
     "start_time": "2024-05-29T22:26:22.516856",
     "status": "completed"
    },
    "tags": [
     "Fixed"
    ]
   },
   "outputs": [
    {
     "data": {
      "text/plain": [
       "10.714860511741556"
      ]
     },
     "execution_count": 6,
     "metadata": {},
     "output_type": "execute_result"
    }
   ],
   "source": [
    "from statsmodels.tsa.statespace.sarimax import SARIMAX\n",
    "from sklearn.metrics import root_mean_squared_error\n",
    "\n",
    "model = SARIMAX(series, order=(0, 1, 1), seasonal_order=(0, 1, 1, 12))\n",
    "model_fit = model.fit()\n",
    "\n",
    "df['predictions_log'] = model_fit.predict()\n",
    "df['predictions_log_exp'] = np.exp(df['predictions_log'])\n",
    "\n",
    "idx = 12+1\n",
    "\n",
    "score = root_mean_squared_error(df['values'][idx:], df['predictions_log_exp'][idx:])\n",
    "score"
   ]
  },
  {
   "cell_type": "markdown",
   "id": "037612f4",
   "metadata": {
    "papermill": {
     "duration": 0.005743,
     "end_time": "2024-05-29T22:26:23.998527",
     "exception": false,
     "start_time": "2024-05-29T22:26:23.992784",
     "status": "completed"
    },
    "tags": []
   },
   "source": [
    "## Train Test Split: Detecting Overfitting"
   ]
  },
  {
   "cell_type": "markdown",
   "id": "86093866",
   "metadata": {
    "papermill": {
     "duration": 0.00468,
     "end_time": "2024-05-29T22:26:24.009434",
     "exception": false,
     "start_time": "2024-05-29T22:26:24.004754",
     "status": "completed"
    },
    "tags": []
   },
   "source": [
    "### Split Data"
   ]
  },
  {
   "cell_type": "code",
   "execution_count": 7,
   "id": "907a1e7d",
   "metadata": {
    "execution": {
     "iopub.execute_input": "2024-05-29T22:26:24.022640Z",
     "iopub.status.busy": "2024-05-29T22:26:24.022246Z",
     "iopub.status.idle": "2024-05-29T22:26:24.036486Z",
     "shell.execute_reply": "2024-05-29T22:26:24.035906Z"
    },
    "papermill": {
     "duration": 0.024318,
     "end_time": "2024-05-29T22:26:24.037956",
     "exception": false,
     "start_time": "2024-05-29T22:26:24.013638",
     "status": "completed"
    },
    "tags": []
   },
   "outputs": [],
   "source": [
    "from sklearn.model_selection import train_test_split\n",
    "\n",
    "df = df[['values', 'values_log']]\n",
    "df_train, df_test = train_test_split(df, shuffle=False, test_size=0.3)"
   ]
  },
  {
   "cell_type": "code",
   "execution_count": 8,
   "id": "8f00dc18",
   "metadata": {},
   "outputs": [
    {
     "data": {
      "text/html": [
       "<div>\n",
       "<style scoped>\n",
       "    .dataframe tbody tr th:only-of-type {\n",
       "        vertical-align: middle;\n",
       "    }\n",
       "\n",
       "    .dataframe tbody tr th {\n",
       "        vertical-align: top;\n",
       "    }\n",
       "\n",
       "    .dataframe thead th {\n",
       "        text-align: right;\n",
       "    }\n",
       "</style>\n",
       "<table border=\"1\" class=\"dataframe\">\n",
       "  <thead>\n",
       "    <tr style=\"text-align: right;\">\n",
       "      <th></th>\n",
       "      <th>values</th>\n",
       "      <th>values_log</th>\n",
       "    </tr>\n",
       "  </thead>\n",
       "  <tbody>\n",
       "    <tr>\n",
       "      <th>1949-01-31</th>\n",
       "      <td>112</td>\n",
       "      <td>4.718499</td>\n",
       "    </tr>\n",
       "    <tr>\n",
       "      <th>1949-02-28</th>\n",
       "      <td>118</td>\n",
       "      <td>4.770685</td>\n",
       "    </tr>\n",
       "    <tr>\n",
       "      <th>...</th>\n",
       "      <td>...</td>\n",
       "      <td>...</td>\n",
       "    </tr>\n",
       "    <tr>\n",
       "      <th>1957-03-31</th>\n",
       "      <td>356</td>\n",
       "      <td>5.874931</td>\n",
       "    </tr>\n",
       "    <tr>\n",
       "      <th>1957-04-30</th>\n",
       "      <td>348</td>\n",
       "      <td>5.852202</td>\n",
       "    </tr>\n",
       "  </tbody>\n",
       "</table>\n",
       "<p>100 rows × 2 columns</p>\n",
       "</div>"
      ],
      "text/plain": [
       "            values  values_log\n",
       "1949-01-31     112    4.718499\n",
       "1949-02-28     118    4.770685\n",
       "...            ...         ...\n",
       "1957-03-31     356    5.874931\n",
       "1957-04-30     348    5.852202\n",
       "\n",
       "[100 rows x 2 columns]"
      ]
     },
     "execution_count": 8,
     "metadata": {},
     "output_type": "execute_result"
    }
   ],
   "source": [
    "df_train"
   ]
  },
  {
   "cell_type": "code",
   "execution_count": 9,
   "id": "4f4e5573",
   "metadata": {
    "execution": {
     "iopub.execute_input": "2024-05-29T22:26:24.047727Z",
     "iopub.status.busy": "2024-05-29T22:26:24.047110Z",
     "iopub.status.idle": "2024-05-29T22:26:24.055942Z",
     "shell.execute_reply": "2024-05-29T22:26:24.055502Z"
    },
    "papermill": {
     "duration": 0.017651,
     "end_time": "2024-05-29T22:26:24.059891",
     "exception": false,
     "start_time": "2024-05-29T22:26:24.042240",
     "status": "completed"
    },
    "tags": []
   },
   "outputs": [
    {
     "data": {
      "text/html": [
       "<div>\n",
       "<style scoped>\n",
       "    .dataframe tbody tr th:only-of-type {\n",
       "        vertical-align: middle;\n",
       "    }\n",
       "\n",
       "    .dataframe tbody tr th {\n",
       "        vertical-align: top;\n",
       "    }\n",
       "\n",
       "    .dataframe thead th {\n",
       "        text-align: right;\n",
       "    }\n",
       "</style>\n",
       "<table border=\"1\" class=\"dataframe\">\n",
       "  <thead>\n",
       "    <tr style=\"text-align: right;\">\n",
       "      <th></th>\n",
       "      <th>values</th>\n",
       "      <th>values_log</th>\n",
       "    </tr>\n",
       "  </thead>\n",
       "  <tbody>\n",
       "    <tr>\n",
       "      <th>1957-05-31</th>\n",
       "      <td>355</td>\n",
       "      <td>5.872118</td>\n",
       "    </tr>\n",
       "    <tr>\n",
       "      <th>1957-06-30</th>\n",
       "      <td>422</td>\n",
       "      <td>6.045005</td>\n",
       "    </tr>\n",
       "    <tr>\n",
       "      <th>...</th>\n",
       "      <td>...</td>\n",
       "      <td>...</td>\n",
       "    </tr>\n",
       "    <tr>\n",
       "      <th>1960-11-30</th>\n",
       "      <td>390</td>\n",
       "      <td>5.966147</td>\n",
       "    </tr>\n",
       "    <tr>\n",
       "      <th>1960-12-31</th>\n",
       "      <td>432</td>\n",
       "      <td>6.068426</td>\n",
       "    </tr>\n",
       "  </tbody>\n",
       "</table>\n",
       "<p>44 rows × 2 columns</p>\n",
       "</div>"
      ],
      "text/plain": [
       "            values  values_log\n",
       "1957-05-31     355    5.872118\n",
       "1957-06-30     422    6.045005\n",
       "...            ...         ...\n",
       "1960-11-30     390    5.966147\n",
       "1960-12-31     432    6.068426\n",
       "\n",
       "[44 rows x 2 columns]"
      ]
     },
     "execution_count": 9,
     "metadata": {},
     "output_type": "execute_result"
    }
   ],
   "source": [
    "df_test"
   ]
  },
  {
   "cell_type": "markdown",
   "id": "79646823",
   "metadata": {
    "papermill": {
     "duration": 0.002561,
     "end_time": "2024-05-29T22:26:24.647655",
     "exception": false,
     "start_time": "2024-05-29T22:26:24.645094",
     "status": "completed"
    },
    "tags": []
   },
   "source": [
    "### Evaluate Model on Test Data"
   ]
  },
  {
   "cell_type": "code",
   "execution_count": 10,
   "id": "e2d3c4c8",
   "metadata": {},
   "outputs": [],
   "source": [
    "model = SARIMAX(df_train['values_log'], order=(0, 1, 1), seasonal_order=(0, 1, 1, 12), enforce_invertibility=False, enforce_stationarity=False)\n",
    "model_fit = model.fit()"
   ]
  },
  {
   "cell_type": "code",
   "execution_count": 11,
   "id": "98a08f8e",
   "metadata": {},
   "outputs": [
    {
     "data": {
      "text/plain": [
       "43.43902943845554"
      ]
     },
     "execution_count": 11,
     "metadata": {},
     "output_type": "execute_result"
    }
   ],
   "source": [
    "df = df_test.copy()\n",
    "\n",
    "start, end = df.index[[0,-1]]\n",
    "df[\"predictions_log\"] = model_fit.predict(start=start, end=end)\n",
    "df[\"predictions_log_exp\"] = np.exp(df[\"predictions_log\"])\n",
    "\n",
    "idx = 12 + 1\n",
    "\n",
    "score = root_mean_squared_error(df[\"values\"][idx:], df[\"predictions_log_exp\"][idx:])\n",
    "score"
   ]
  },
  {
   "cell_type": "code",
   "execution_count": 12,
   "id": "afe2029a",
   "metadata": {},
   "outputs": [],
   "source": [
    "df_test = df.copy()"
   ]
  },
  {
   "cell_type": "markdown",
   "id": "577f99c4",
   "metadata": {
    "papermill": {
     "duration": 0.006611,
     "end_time": "2024-05-29T22:26:25.006283",
     "exception": false,
     "start_time": "2024-05-29T22:26:24.999672",
     "status": "completed"
    },
    "tags": []
   },
   "source": [
    "### Evaluate Model on Train Data"
   ]
  },
  {
   "cell_type": "code",
   "execution_count": 13,
   "id": "9e515fd3",
   "metadata": {},
   "outputs": [
    {
     "data": {
      "text/html": [
       "<div>\n",
       "<style scoped>\n",
       "    .dataframe tbody tr th:only-of-type {\n",
       "        vertical-align: middle;\n",
       "    }\n",
       "\n",
       "    .dataframe tbody tr th {\n",
       "        vertical-align: top;\n",
       "    }\n",
       "\n",
       "    .dataframe thead th {\n",
       "        text-align: right;\n",
       "    }\n",
       "</style>\n",
       "<table border=\"1\" class=\"dataframe\">\n",
       "  <thead>\n",
       "    <tr style=\"text-align: right;\">\n",
       "      <th></th>\n",
       "      <th>values</th>\n",
       "      <th>values_log</th>\n",
       "    </tr>\n",
       "  </thead>\n",
       "  <tbody>\n",
       "    <tr>\n",
       "      <th>1949-01-31</th>\n",
       "      <td>112</td>\n",
       "      <td>4.718499</td>\n",
       "    </tr>\n",
       "    <tr>\n",
       "      <th>1949-02-28</th>\n",
       "      <td>118</td>\n",
       "      <td>4.770685</td>\n",
       "    </tr>\n",
       "    <tr>\n",
       "      <th>...</th>\n",
       "      <td>...</td>\n",
       "      <td>...</td>\n",
       "    </tr>\n",
       "    <tr>\n",
       "      <th>1957-03-31</th>\n",
       "      <td>356</td>\n",
       "      <td>5.874931</td>\n",
       "    </tr>\n",
       "    <tr>\n",
       "      <th>1957-04-30</th>\n",
       "      <td>348</td>\n",
       "      <td>5.852202</td>\n",
       "    </tr>\n",
       "  </tbody>\n",
       "</table>\n",
       "<p>100 rows × 2 columns</p>\n",
       "</div>"
      ],
      "text/plain": [
       "            values  values_log\n",
       "1949-01-31     112    4.718499\n",
       "1949-02-28     118    4.770685\n",
       "...            ...         ...\n",
       "1957-03-31     356    5.874931\n",
       "1957-04-30     348    5.852202\n",
       "\n",
       "[100 rows x 2 columns]"
      ]
     },
     "execution_count": 13,
     "metadata": {},
     "output_type": "execute_result"
    }
   ],
   "source": [
    "df = df_train.copy()\n",
    "df"
   ]
  },
  {
   "cell_type": "code",
   "execution_count": 14,
   "id": "8f1bcd6d",
   "metadata": {},
   "outputs": [
    {
     "data": {
      "text/plain": [
       "8.545512270973711"
      ]
     },
     "execution_count": 14,
     "metadata": {},
     "output_type": "execute_result"
    }
   ],
   "source": [
    "start, end = df.index[[0,-1]]\n",
    "df[\"predictions_log\"] = model_fit.predict(start=start, end=end)\n",
    "df[\"predictions_log_exp\"] = np.exp(df[\"predictions_log\"])\n",
    "\n",
    "idx = 12 + 1\n",
    "\n",
    "score = root_mean_squared_error(df[\"values\"][idx:], df[\"predictions_log_exp\"][idx:])\n",
    "score"
   ]
  },
  {
   "cell_type": "code",
   "execution_count": 15,
   "id": "f67f7b23",
   "metadata": {},
   "outputs": [],
   "source": [
    "df_train = df.copy()"
   ]
  },
  {
   "cell_type": "markdown",
   "id": "5bba32b7",
   "metadata": {
    "papermill": {
     "duration": 0.003684,
     "end_time": "2024-05-29T22:26:25.036536",
     "exception": false,
     "start_time": "2024-05-29T22:26:25.032852",
     "status": "completed"
    },
    "tags": []
   },
   "source": [
    "### Visualize Overfitting"
   ]
  },
  {
   "cell_type": "code",
   "execution_count": 18,
   "id": "b17d398d",
   "metadata": {
    "execution": {
     "iopub.execute_input": "2024-05-29T22:26:25.049476Z",
     "iopub.status.busy": "2024-05-29T22:26:25.048042Z",
     "iopub.status.idle": "2024-05-29T22:26:25.057084Z",
     "shell.execute_reply": "2024-05-29T22:26:25.055688Z"
    },
    "papermill": {
     "duration": 0.017556,
     "end_time": "2024-05-29T22:26:25.058971",
     "exception": false,
     "start_time": "2024-05-29T22:26:25.041415",
     "status": "completed"
    },
    "tags": []
   },
   "outputs": [
    {
     "data": {
      "text/html": [
       "<div>\n",
       "<style scoped>\n",
       "    .dataframe tbody tr th:only-of-type {\n",
       "        vertical-align: middle;\n",
       "    }\n",
       "\n",
       "    .dataframe tbody tr th {\n",
       "        vertical-align: top;\n",
       "    }\n",
       "\n",
       "    .dataframe thead th {\n",
       "        text-align: right;\n",
       "    }\n",
       "</style>\n",
       "<table border=\"1\" class=\"dataframe\">\n",
       "  <thead>\n",
       "    <tr style=\"text-align: right;\">\n",
       "      <th></th>\n",
       "      <th>train</th>\n",
       "      <th>test</th>\n",
       "      <th>train_forecast_sarima</th>\n",
       "      <th>test_forecast_sarima</th>\n",
       "    </tr>\n",
       "  </thead>\n",
       "  <tbody>\n",
       "    <tr>\n",
       "      <th>1949-01-31</th>\n",
       "      <td>112.0</td>\n",
       "      <td>NaN</td>\n",
       "      <td>1.0</td>\n",
       "      <td>NaN</td>\n",
       "    </tr>\n",
       "    <tr>\n",
       "      <th>1949-02-28</th>\n",
       "      <td>118.0</td>\n",
       "      <td>NaN</td>\n",
       "      <td>112.0</td>\n",
       "      <td>NaN</td>\n",
       "    </tr>\n",
       "    <tr>\n",
       "      <th>...</th>\n",
       "      <td>...</td>\n",
       "      <td>...</td>\n",
       "      <td>...</td>\n",
       "      <td>...</td>\n",
       "    </tr>\n",
       "    <tr>\n",
       "      <th>1960-11-30</th>\n",
       "      <td>NaN</td>\n",
       "      <td>390.0</td>\n",
       "      <td>NaN</td>\n",
       "      <td>438.001046</td>\n",
       "    </tr>\n",
       "    <tr>\n",
       "      <th>1960-12-31</th>\n",
       "      <td>NaN</td>\n",
       "      <td>432.0</td>\n",
       "      <td>NaN</td>\n",
       "      <td>499.663157</td>\n",
       "    </tr>\n",
       "  </tbody>\n",
       "</table>\n",
       "<p>144 rows × 4 columns</p>\n",
       "</div>"
      ],
      "text/plain": [
       "            train   test  train_forecast_sarima  test_forecast_sarima\n",
       "1949-01-31  112.0    NaN                    1.0                   NaN\n",
       "1949-02-28  118.0    NaN                  112.0                   NaN\n",
       "...           ...    ...                    ...                   ...\n",
       "1960-11-30    NaN  390.0                    NaN            438.001046\n",
       "1960-12-31    NaN  432.0                    NaN            499.663157\n",
       "\n",
       "[144 rows x 4 columns]"
      ]
     },
     "execution_count": 18,
     "metadata": {},
     "output_type": "execute_result"
    }
   ],
   "source": [
    "df_pred = pd.DataFrame({\n",
    "    'train': df_train['values'],\n",
    "    'test': df_test['values'],\n",
    "    'train_forecast_sarima': df_train['predictions_log_exp'],\n",
    "    'test_forecast_sarima': df_test['predictions_log_exp'],\n",
    "})\n",
    "\n",
    "df_pred"
   ]
  },
  {
   "cell_type": "code",
   "execution_count": 19,
   "id": "1ee29b17",
   "metadata": {},
   "outputs": [
    {
     "data": {
      "application/vnd.plotly.v1+json": {
       "config": {
        "plotlyServerURL": "https://plot.ly"
       },
       "data": [
        {
         "hovertemplate": "variable=train<br>index=%{x}<br>value=%{y}<extra></extra>",
         "legendgroup": "train",
         "line": {
          "color": "#636efa",
          "dash": "solid"
         },
         "marker": {
          "symbol": "circle"
         },
         "mode": "lines",
         "name": "train",
         "orientation": "v",
         "showlegend": true,
         "type": "scatter",
         "x": [
          "1950-02-28T00:00:00.000000000",
          "1950-03-31T00:00:00.000000000",
          "1950-04-30T00:00:00.000000000",
          "1950-05-31T00:00:00.000000000",
          "1950-06-30T00:00:00.000000000",
          "1950-07-31T00:00:00.000000000",
          "1950-08-31T00:00:00.000000000",
          "1950-09-30T00:00:00.000000000",
          "1950-10-31T00:00:00.000000000",
          "1950-11-30T00:00:00.000000000",
          "1950-12-31T00:00:00.000000000",
          "1951-01-31T00:00:00.000000000",
          "1951-02-28T00:00:00.000000000",
          "1951-03-31T00:00:00.000000000",
          "1951-04-30T00:00:00.000000000",
          "1951-05-31T00:00:00.000000000",
          "1951-06-30T00:00:00.000000000",
          "1951-07-31T00:00:00.000000000",
          "1951-08-31T00:00:00.000000000",
          "1951-09-30T00:00:00.000000000",
          "1951-10-31T00:00:00.000000000",
          "1951-11-30T00:00:00.000000000",
          "1951-12-31T00:00:00.000000000",
          "1952-01-31T00:00:00.000000000",
          "1952-02-29T00:00:00.000000000",
          "1952-03-31T00:00:00.000000000",
          "1952-04-30T00:00:00.000000000",
          "1952-05-31T00:00:00.000000000",
          "1952-06-30T00:00:00.000000000",
          "1952-07-31T00:00:00.000000000",
          "1952-08-31T00:00:00.000000000",
          "1952-09-30T00:00:00.000000000",
          "1952-10-31T00:00:00.000000000",
          "1952-11-30T00:00:00.000000000",
          "1952-12-31T00:00:00.000000000",
          "1953-01-31T00:00:00.000000000",
          "1953-02-28T00:00:00.000000000",
          "1953-03-31T00:00:00.000000000",
          "1953-04-30T00:00:00.000000000",
          "1953-05-31T00:00:00.000000000",
          "1953-06-30T00:00:00.000000000",
          "1953-07-31T00:00:00.000000000",
          "1953-08-31T00:00:00.000000000",
          "1953-09-30T00:00:00.000000000",
          "1953-10-31T00:00:00.000000000",
          "1953-11-30T00:00:00.000000000",
          "1953-12-31T00:00:00.000000000",
          "1954-01-31T00:00:00.000000000",
          "1954-02-28T00:00:00.000000000",
          "1954-03-31T00:00:00.000000000",
          "1954-04-30T00:00:00.000000000",
          "1954-05-31T00:00:00.000000000",
          "1954-06-30T00:00:00.000000000",
          "1954-07-31T00:00:00.000000000",
          "1954-08-31T00:00:00.000000000",
          "1954-09-30T00:00:00.000000000",
          "1954-10-31T00:00:00.000000000",
          "1954-11-30T00:00:00.000000000",
          "1954-12-31T00:00:00.000000000",
          "1955-01-31T00:00:00.000000000",
          "1955-02-28T00:00:00.000000000",
          "1955-03-31T00:00:00.000000000",
          "1955-04-30T00:00:00.000000000",
          "1955-05-31T00:00:00.000000000",
          "1955-06-30T00:00:00.000000000",
          "1955-07-31T00:00:00.000000000",
          "1955-08-31T00:00:00.000000000",
          "1955-09-30T00:00:00.000000000",
          "1955-10-31T00:00:00.000000000",
          "1955-11-30T00:00:00.000000000",
          "1955-12-31T00:00:00.000000000",
          "1956-01-31T00:00:00.000000000",
          "1956-02-29T00:00:00.000000000",
          "1956-03-31T00:00:00.000000000",
          "1956-04-30T00:00:00.000000000",
          "1956-05-31T00:00:00.000000000",
          "1956-06-30T00:00:00.000000000",
          "1956-07-31T00:00:00.000000000",
          "1956-08-31T00:00:00.000000000",
          "1956-09-30T00:00:00.000000000",
          "1956-10-31T00:00:00.000000000",
          "1956-11-30T00:00:00.000000000",
          "1956-12-31T00:00:00.000000000",
          "1957-01-31T00:00:00.000000000",
          "1957-02-28T00:00:00.000000000",
          "1957-03-31T00:00:00.000000000",
          "1957-04-30T00:00:00.000000000",
          "1957-05-31T00:00:00.000000000",
          "1957-06-30T00:00:00.000000000",
          "1957-07-31T00:00:00.000000000",
          "1957-08-31T00:00:00.000000000",
          "1957-09-30T00:00:00.000000000",
          "1957-10-31T00:00:00.000000000",
          "1957-11-30T00:00:00.000000000",
          "1957-12-31T00:00:00.000000000",
          "1958-01-31T00:00:00.000000000",
          "1958-02-28T00:00:00.000000000",
          "1958-03-31T00:00:00.000000000",
          "1958-04-30T00:00:00.000000000",
          "1958-05-31T00:00:00.000000000",
          "1958-06-30T00:00:00.000000000",
          "1958-07-31T00:00:00.000000000",
          "1958-08-31T00:00:00.000000000",
          "1958-09-30T00:00:00.000000000",
          "1958-10-31T00:00:00.000000000",
          "1958-11-30T00:00:00.000000000",
          "1958-12-31T00:00:00.000000000",
          "1959-01-31T00:00:00.000000000",
          "1959-02-28T00:00:00.000000000",
          "1959-03-31T00:00:00.000000000",
          "1959-04-30T00:00:00.000000000",
          "1959-05-31T00:00:00.000000000",
          "1959-06-30T00:00:00.000000000",
          "1959-07-31T00:00:00.000000000",
          "1959-08-31T00:00:00.000000000",
          "1959-09-30T00:00:00.000000000",
          "1959-10-31T00:00:00.000000000",
          "1959-11-30T00:00:00.000000000",
          "1959-12-31T00:00:00.000000000",
          "1960-01-31T00:00:00.000000000",
          "1960-02-29T00:00:00.000000000",
          "1960-03-31T00:00:00.000000000",
          "1960-04-30T00:00:00.000000000",
          "1960-05-31T00:00:00.000000000",
          "1960-06-30T00:00:00.000000000",
          "1960-07-31T00:00:00.000000000",
          "1960-08-31T00:00:00.000000000",
          "1960-09-30T00:00:00.000000000",
          "1960-10-31T00:00:00.000000000",
          "1960-11-30T00:00:00.000000000",
          "1960-12-31T00:00:00.000000000"
         ],
         "xaxis": "x",
         "y": {
          "bdata": "AAAAAACAX0AAAAAAAKBhQAAAAAAA4GBAAAAAAABAX0AAAAAAAKBiQAAAAAAAQGVAAAAAAABAZUAAAAAAAMBjQAAAAAAAoGBAAAAAAACAXEAAAAAAAIBhQAAAAAAAIGJAAAAAAADAYkAAAAAAAEBmQAAAAAAAYGRAAAAAAACAZUAAAAAAAEBmQAAAAAAA4GhAAAAAAADgaEAAAAAAAABnQAAAAAAAQGRAAAAAAABAYkAAAAAAAMBkQAAAAAAAYGVAAAAAAACAZkAAAAAAACBoQAAAAAAAoGZAAAAAAADgZkAAAAAAAEBrQAAAAAAAwGxAAAAAAABAbkAAAAAAACBqQAAAAAAA4GdAAAAAAACAZUAAAAAAAEBoQAAAAAAAgGhAAAAAAACAaEAAAAAAAIBtQAAAAAAAYG1AAAAAAACgbEAAAAAAAGBuQAAAAAAAgHBAAAAAAAAAcUAAAAAAAKBtQAAAAAAAYGpAAAAAAACAZkAAAAAAACBpQAAAAAAAgGlAAAAAAACAZ0AAAAAAAGBtQAAAAAAAYGxAAAAAAABAbUAAAAAAAIBwQAAAAAAA4HJAAAAAAABQckAAAAAAADBwQAAAAAAAoGxAAAAAAABgaUAAAAAAAKBsQAAAAAAAQG5AAAAAAAAgbUAAAAAAALBwQAAAAAAA0HBAAAAAAADgcEAAAAAAALBzQAAAAAAAwHZAAAAAAACwdUAAAAAAAIBzQAAAAAAAIHFAAAAAAACgbUAAAAAAAGBxQAAAAAAAwHFAAAAAAABQcUAAAAAAANBzQAAAAAAAkHNAAAAAAADgc0AAAAAAAGB3QAAAAAAA0HlAAAAAAABQeUAAAAAAADB2QAAAAAAAIHNAAAAAAADwcEAAAAAAACBzQAAAAAAAsHNAAAAAAADQckAAAAAAAEB2QAAAAAAAwHVAAAAAAAAA+H8AAAAAAAD4fwAAAAAAAPh/AAAAAAAA+H8AAAAAAAD4fwAAAAAAAPh/AAAAAAAA+H8AAAAAAAD4fwAAAAAAAPh/AAAAAAAA+H8AAAAAAAD4fwAAAAAAAPh/AAAAAAAA+H8AAAAAAAD4fwAAAAAAAPh/AAAAAAAA+H8AAAAAAAD4fwAAAAAAAPh/AAAAAAAA+H8AAAAAAAD4fwAAAAAAAPh/AAAAAAAA+H8AAAAAAAD4fwAAAAAAAPh/AAAAAAAA+H8AAAAAAAD4fwAAAAAAAPh/AAAAAAAA+H8AAAAAAAD4fwAAAAAAAPh/AAAAAAAA+H8AAAAAAAD4fwAAAAAAAPh/AAAAAAAA+H8AAAAAAAD4fwAAAAAAAPh/AAAAAAAA+H8AAAAAAAD4fwAAAAAAAPh/AAAAAAAA+H8AAAAAAAD4fwAAAAAAAPh/AAAAAAAA+H8AAAAAAAD4fw==",
          "dtype": "f8"
         },
         "yaxis": "y"
        },
        {
         "hovertemplate": "variable=test<br>index=%{x}<br>value=%{y}<extra></extra>",
         "legendgroup": "test",
         "line": {
          "color": "#EF553B",
          "dash": "solid"
         },
         "marker": {
          "symbol": "circle"
         },
         "mode": "lines",
         "name": "test",
         "orientation": "v",
         "showlegend": true,
         "type": "scatter",
         "x": [
          "1950-02-28T00:00:00.000000000",
          "1950-03-31T00:00:00.000000000",
          "1950-04-30T00:00:00.000000000",
          "1950-05-31T00:00:00.000000000",
          "1950-06-30T00:00:00.000000000",
          "1950-07-31T00:00:00.000000000",
          "1950-08-31T00:00:00.000000000",
          "1950-09-30T00:00:00.000000000",
          "1950-10-31T00:00:00.000000000",
          "1950-11-30T00:00:00.000000000",
          "1950-12-31T00:00:00.000000000",
          "1951-01-31T00:00:00.000000000",
          "1951-02-28T00:00:00.000000000",
          "1951-03-31T00:00:00.000000000",
          "1951-04-30T00:00:00.000000000",
          "1951-05-31T00:00:00.000000000",
          "1951-06-30T00:00:00.000000000",
          "1951-07-31T00:00:00.000000000",
          "1951-08-31T00:00:00.000000000",
          "1951-09-30T00:00:00.000000000",
          "1951-10-31T00:00:00.000000000",
          "1951-11-30T00:00:00.000000000",
          "1951-12-31T00:00:00.000000000",
          "1952-01-31T00:00:00.000000000",
          "1952-02-29T00:00:00.000000000",
          "1952-03-31T00:00:00.000000000",
          "1952-04-30T00:00:00.000000000",
          "1952-05-31T00:00:00.000000000",
          "1952-06-30T00:00:00.000000000",
          "1952-07-31T00:00:00.000000000",
          "1952-08-31T00:00:00.000000000",
          "1952-09-30T00:00:00.000000000",
          "1952-10-31T00:00:00.000000000",
          "1952-11-30T00:00:00.000000000",
          "1952-12-31T00:00:00.000000000",
          "1953-01-31T00:00:00.000000000",
          "1953-02-28T00:00:00.000000000",
          "1953-03-31T00:00:00.000000000",
          "1953-04-30T00:00:00.000000000",
          "1953-05-31T00:00:00.000000000",
          "1953-06-30T00:00:00.000000000",
          "1953-07-31T00:00:00.000000000",
          "1953-08-31T00:00:00.000000000",
          "1953-09-30T00:00:00.000000000",
          "1953-10-31T00:00:00.000000000",
          "1953-11-30T00:00:00.000000000",
          "1953-12-31T00:00:00.000000000",
          "1954-01-31T00:00:00.000000000",
          "1954-02-28T00:00:00.000000000",
          "1954-03-31T00:00:00.000000000",
          "1954-04-30T00:00:00.000000000",
          "1954-05-31T00:00:00.000000000",
          "1954-06-30T00:00:00.000000000",
          "1954-07-31T00:00:00.000000000",
          "1954-08-31T00:00:00.000000000",
          "1954-09-30T00:00:00.000000000",
          "1954-10-31T00:00:00.000000000",
          "1954-11-30T00:00:00.000000000",
          "1954-12-31T00:00:00.000000000",
          "1955-01-31T00:00:00.000000000",
          "1955-02-28T00:00:00.000000000",
          "1955-03-31T00:00:00.000000000",
          "1955-04-30T00:00:00.000000000",
          "1955-05-31T00:00:00.000000000",
          "1955-06-30T00:00:00.000000000",
          "1955-07-31T00:00:00.000000000",
          "1955-08-31T00:00:00.000000000",
          "1955-09-30T00:00:00.000000000",
          "1955-10-31T00:00:00.000000000",
          "1955-11-30T00:00:00.000000000",
          "1955-12-31T00:00:00.000000000",
          "1956-01-31T00:00:00.000000000",
          "1956-02-29T00:00:00.000000000",
          "1956-03-31T00:00:00.000000000",
          "1956-04-30T00:00:00.000000000",
          "1956-05-31T00:00:00.000000000",
          "1956-06-30T00:00:00.000000000",
          "1956-07-31T00:00:00.000000000",
          "1956-08-31T00:00:00.000000000",
          "1956-09-30T00:00:00.000000000",
          "1956-10-31T00:00:00.000000000",
          "1956-11-30T00:00:00.000000000",
          "1956-12-31T00:00:00.000000000",
          "1957-01-31T00:00:00.000000000",
          "1957-02-28T00:00:00.000000000",
          "1957-03-31T00:00:00.000000000",
          "1957-04-30T00:00:00.000000000",
          "1957-05-31T00:00:00.000000000",
          "1957-06-30T00:00:00.000000000",
          "1957-07-31T00:00:00.000000000",
          "1957-08-31T00:00:00.000000000",
          "1957-09-30T00:00:00.000000000",
          "1957-10-31T00:00:00.000000000",
          "1957-11-30T00:00:00.000000000",
          "1957-12-31T00:00:00.000000000",
          "1958-01-31T00:00:00.000000000",
          "1958-02-28T00:00:00.000000000",
          "1958-03-31T00:00:00.000000000",
          "1958-04-30T00:00:00.000000000",
          "1958-05-31T00:00:00.000000000",
          "1958-06-30T00:00:00.000000000",
          "1958-07-31T00:00:00.000000000",
          "1958-08-31T00:00:00.000000000",
          "1958-09-30T00:00:00.000000000",
          "1958-10-31T00:00:00.000000000",
          "1958-11-30T00:00:00.000000000",
          "1958-12-31T00:00:00.000000000",
          "1959-01-31T00:00:00.000000000",
          "1959-02-28T00:00:00.000000000",
          "1959-03-31T00:00:00.000000000",
          "1959-04-30T00:00:00.000000000",
          "1959-05-31T00:00:00.000000000",
          "1959-06-30T00:00:00.000000000",
          "1959-07-31T00:00:00.000000000",
          "1959-08-31T00:00:00.000000000",
          "1959-09-30T00:00:00.000000000",
          "1959-10-31T00:00:00.000000000",
          "1959-11-30T00:00:00.000000000",
          "1959-12-31T00:00:00.000000000",
          "1960-01-31T00:00:00.000000000",
          "1960-02-29T00:00:00.000000000",
          "1960-03-31T00:00:00.000000000",
          "1960-04-30T00:00:00.000000000",
          "1960-05-31T00:00:00.000000000",
          "1960-06-30T00:00:00.000000000",
          "1960-07-31T00:00:00.000000000",
          "1960-08-31T00:00:00.000000000",
          "1960-09-30T00:00:00.000000000",
          "1960-10-31T00:00:00.000000000",
          "1960-11-30T00:00:00.000000000",
          "1960-12-31T00:00:00.000000000"
         ],
         "xaxis": "x",
         "y": {
          "bdata": "AAAAAAAA+H8AAAAAAAD4fwAAAAAAAPh/AAAAAAAA+H8AAAAAAAD4fwAAAAAAAPh/AAAAAAAA+H8AAAAAAAD4fwAAAAAAAPh/AAAAAAAA+H8AAAAAAAD4fwAAAAAAAPh/AAAAAAAA+H8AAAAAAAD4fwAAAAAAAPh/AAAAAAAA+H8AAAAAAAD4fwAAAAAAAPh/AAAAAAAA+H8AAAAAAAD4fwAAAAAAAPh/AAAAAAAA+H8AAAAAAAD4fwAAAAAAAPh/AAAAAAAA+H8AAAAAAAD4fwAAAAAAAPh/AAAAAAAA+H8AAAAAAAD4fwAAAAAAAPh/AAAAAAAA+H8AAAAAAAD4fwAAAAAAAPh/AAAAAAAA+H8AAAAAAAD4fwAAAAAAAPh/AAAAAAAA+H8AAAAAAAD4fwAAAAAAAPh/AAAAAAAA+H8AAAAAAAD4fwAAAAAAAPh/AAAAAAAA+H8AAAAAAAD4fwAAAAAAAPh/AAAAAAAA+H8AAAAAAAD4fwAAAAAAAPh/AAAAAAAA+H8AAAAAAAD4fwAAAAAAAPh/AAAAAAAA+H8AAAAAAAD4fwAAAAAAAPh/AAAAAAAA+H8AAAAAAAD4fwAAAAAAAPh/AAAAAAAA+H8AAAAAAAD4fwAAAAAAAPh/AAAAAAAA+H8AAAAAAAD4fwAAAAAAAPh/AAAAAAAA+H8AAAAAAAD4fwAAAAAAAPh/AAAAAAAA+H8AAAAAAAD4fwAAAAAAAPh/AAAAAAAA+H8AAAAAAAD4fwAAAAAAAPh/AAAAAAAA+H8AAAAAAAD4fwAAAAAAAPh/AAAAAAAA+H8AAAAAAAD4fwAAAAAAAPh/AAAAAAAA+H8AAAAAAAD4fwAAAAAAAPh/AAAAAAAA+H8AAAAAAAD4fwAAAAAAAPh/AAAAAAAA+H8AAAAAAAD4fwAAAAAAAPh/AAAAAAAwdkAAAAAAAGB6QAAAAAAAEH1AAAAAAAAwfUAAAAAAAEB5QAAAAAAAsHVAAAAAAAAQc0AAAAAAAAB1QAAAAAAAQHVAAAAAAADgc0AAAAAAAKB2QAAAAAAAwHVAAAAAAACwdkAAAAAAADB7QAAAAAAAsH5AAAAAAACQf0AAAAAAAEB5QAAAAAAAcHZAAAAAAABgc0AAAAAAABB1QAAAAAAAgHZAAAAAAABgdUAAAAAAAGB5QAAAAAAAwHhAAAAAAABAekAAAAAAAIB9QAAAAAAAIIFAAAAAAAB4gUAAAAAAAPB8QAAAAAAAcHlAAAAAAACgdkAAAAAAAFB5QAAAAAAAEHpAAAAAAABweEAAAAAAADB6QAAAAAAA0HxAAAAAAACAfUAAAAAAALiAQAAAAAAAcINAAAAAAADwgkAAAAAAAMB/QAAAAAAA0HxAAAAAAABgeEAAAAAAAAB7QA==",
          "dtype": "f8"
         },
         "yaxis": "y"
        },
        {
         "hovertemplate": "variable=train_forecast_sarima<br>index=%{x}<br>value=%{y}<extra></extra>",
         "legendgroup": "train_forecast_sarima",
         "line": {
          "color": "#00cc96",
          "dash": "solid"
         },
         "marker": {
          "symbol": "circle"
         },
         "mode": "lines",
         "name": "train_forecast_sarima",
         "orientation": "v",
         "showlegend": true,
         "type": "scatter",
         "x": [
          "1950-02-28T00:00:00.000000000",
          "1950-03-31T00:00:00.000000000",
          "1950-04-30T00:00:00.000000000",
          "1950-05-31T00:00:00.000000000",
          "1950-06-30T00:00:00.000000000",
          "1950-07-31T00:00:00.000000000",
          "1950-08-31T00:00:00.000000000",
          "1950-09-30T00:00:00.000000000",
          "1950-10-31T00:00:00.000000000",
          "1950-11-30T00:00:00.000000000",
          "1950-12-31T00:00:00.000000000",
          "1951-01-31T00:00:00.000000000",
          "1951-02-28T00:00:00.000000000",
          "1951-03-31T00:00:00.000000000",
          "1951-04-30T00:00:00.000000000",
          "1951-05-31T00:00:00.000000000",
          "1951-06-30T00:00:00.000000000",
          "1951-07-31T00:00:00.000000000",
          "1951-08-31T00:00:00.000000000",
          "1951-09-30T00:00:00.000000000",
          "1951-10-31T00:00:00.000000000",
          "1951-11-30T00:00:00.000000000",
          "1951-12-31T00:00:00.000000000",
          "1952-01-31T00:00:00.000000000",
          "1952-02-29T00:00:00.000000000",
          "1952-03-31T00:00:00.000000000",
          "1952-04-30T00:00:00.000000000",
          "1952-05-31T00:00:00.000000000",
          "1952-06-30T00:00:00.000000000",
          "1952-07-31T00:00:00.000000000",
          "1952-08-31T00:00:00.000000000",
          "1952-09-30T00:00:00.000000000",
          "1952-10-31T00:00:00.000000000",
          "1952-11-30T00:00:00.000000000",
          "1952-12-31T00:00:00.000000000",
          "1953-01-31T00:00:00.000000000",
          "1953-02-28T00:00:00.000000000",
          "1953-03-31T00:00:00.000000000",
          "1953-04-30T00:00:00.000000000",
          "1953-05-31T00:00:00.000000000",
          "1953-06-30T00:00:00.000000000",
          "1953-07-31T00:00:00.000000000",
          "1953-08-31T00:00:00.000000000",
          "1953-09-30T00:00:00.000000000",
          "1953-10-31T00:00:00.000000000",
          "1953-11-30T00:00:00.000000000",
          "1953-12-31T00:00:00.000000000",
          "1954-01-31T00:00:00.000000000",
          "1954-02-28T00:00:00.000000000",
          "1954-03-31T00:00:00.000000000",
          "1954-04-30T00:00:00.000000000",
          "1954-05-31T00:00:00.000000000",
          "1954-06-30T00:00:00.000000000",
          "1954-07-31T00:00:00.000000000",
          "1954-08-31T00:00:00.000000000",
          "1954-09-30T00:00:00.000000000",
          "1954-10-31T00:00:00.000000000",
          "1954-11-30T00:00:00.000000000",
          "1954-12-31T00:00:00.000000000",
          "1955-01-31T00:00:00.000000000",
          "1955-02-28T00:00:00.000000000",
          "1955-03-31T00:00:00.000000000",
          "1955-04-30T00:00:00.000000000",
          "1955-05-31T00:00:00.000000000",
          "1955-06-30T00:00:00.000000000",
          "1955-07-31T00:00:00.000000000",
          "1955-08-31T00:00:00.000000000",
          "1955-09-30T00:00:00.000000000",
          "1955-10-31T00:00:00.000000000",
          "1955-11-30T00:00:00.000000000",
          "1955-12-31T00:00:00.000000000",
          "1956-01-31T00:00:00.000000000",
          "1956-02-29T00:00:00.000000000",
          "1956-03-31T00:00:00.000000000",
          "1956-04-30T00:00:00.000000000",
          "1956-05-31T00:00:00.000000000",
          "1956-06-30T00:00:00.000000000",
          "1956-07-31T00:00:00.000000000",
          "1956-08-31T00:00:00.000000000",
          "1956-09-30T00:00:00.000000000",
          "1956-10-31T00:00:00.000000000",
          "1956-11-30T00:00:00.000000000",
          "1956-12-31T00:00:00.000000000",
          "1957-01-31T00:00:00.000000000",
          "1957-02-28T00:00:00.000000000",
          "1957-03-31T00:00:00.000000000",
          "1957-04-30T00:00:00.000000000",
          "1957-05-31T00:00:00.000000000",
          "1957-06-30T00:00:00.000000000",
          "1957-07-31T00:00:00.000000000",
          "1957-08-31T00:00:00.000000000",
          "1957-09-30T00:00:00.000000000",
          "1957-10-31T00:00:00.000000000",
          "1957-11-30T00:00:00.000000000",
          "1957-12-31T00:00:00.000000000",
          "1958-01-31T00:00:00.000000000",
          "1958-02-28T00:00:00.000000000",
          "1958-03-31T00:00:00.000000000",
          "1958-04-30T00:00:00.000000000",
          "1958-05-31T00:00:00.000000000",
          "1958-06-30T00:00:00.000000000",
          "1958-07-31T00:00:00.000000000",
          "1958-08-31T00:00:00.000000000",
          "1958-09-30T00:00:00.000000000",
          "1958-10-31T00:00:00.000000000",
          "1958-11-30T00:00:00.000000000",
          "1958-12-31T00:00:00.000000000",
          "1959-01-31T00:00:00.000000000",
          "1959-02-28T00:00:00.000000000",
          "1959-03-31T00:00:00.000000000",
          "1959-04-30T00:00:00.000000000",
          "1959-05-31T00:00:00.000000000",
          "1959-06-30T00:00:00.000000000",
          "1959-07-31T00:00:00.000000000",
          "1959-08-31T00:00:00.000000000",
          "1959-09-30T00:00:00.000000000",
          "1959-10-31T00:00:00.000000000",
          "1959-11-30T00:00:00.000000000",
          "1959-12-31T00:00:00.000000000",
          "1960-01-31T00:00:00.000000000",
          "1960-02-29T00:00:00.000000000",
          "1960-03-31T00:00:00.000000000",
          "1960-04-30T00:00:00.000000000",
          "1960-05-31T00:00:00.000000000",
          "1960-06-30T00:00:00.000000000",
          "1960-07-31T00:00:00.000000000",
          "1960-08-31T00:00:00.000000000",
          "1960-09-30T00:00:00.000000000",
          "1960-10-31T00:00:00.000000000",
          "1960-11-30T00:00:00.000000000",
          "1960-12-31T00:00:00.000000000"
         ],
         "xaxis": "x",
         "y": {
          "bdata": "bM4vJUlKXkCRcCB1X55hQF79oGDfOGFAZlGq0jfuX0BSSvbJn5hhQEB6CcmR62NAnTBh+iKpZEDc+IrgGEpjQK+v7GPLGmFAIUDkXLxrXUBeL+GKxGRgQBamRtq6k2BAwooraiwWY0C7PBNxbB1lQBLavskAB2VAI/ur8RE8Y0Cx3jONZrZnQD2XK/1ipGlA9Bhmtb80aUA/X7j40SJnQLslwobzvmNAwC4m+9xQYUAIEaGzzSZlQHNqDClwGGVAqBJoXMKYZkAe9m7TP+VpQNt0V92PdWdAycRvUhykZkB3QbUY/hBpQAm9XMyda21AL2+8PTcKbUCTWKy6tXprQDFx0owIKGdAAoXSjaPAZEC1C4K+haJoQEQo/nk322hA5v9Pcz0SakDN7HSs9RZsQOK4hVp7LGtAAvaMIMpGbEAWYpfhYDFwQNaWq/g4D3FA7ooDajEZcUC9f4yGNqNuQOKDQZcJpGpAWIx66I2MZ0D508S8vlxqQATuQNs4CWpA8pAqonWZakA/DblnbIlsQAM/w3Sg7GtAkK7RmcfQa0Ap8mmfw6ZvQOLngeAcqXFAHoQpDzPLckBDKCUHj3BwQB7DsYQz8GxAwFAxsH8laUDTXwgyMLRsQO/wJAe+FW1ALJN7EdxabUAHCJ5ZdGFxQNFbRwKpX3BAKYw1VCqxcEBTrDCSQLlyQN2aNmU5Z3VAbMUc5Pg2dkA7DzM+xGtzQP86DHABQXFA1xb2jow1bkCrwcgulOtwQHHBMGLStnFAj3rCOjlVcUASY0bt2kx0QF5vlFuupHNAr5/CZn+tc0D/XzAAgnZ2QNNqxd1v7XlA1pTxdAtreUBODrw6Gpp2QHiXSqu7wHNAVJyQbSXxcEBKd21BaHRzQMGo3gEKzHNAfrkWBsJFc0B8riasSxJ2QCDW/R2fznVAAAAAAAAA+H8AAAAAAAD4fwAAAAAAAPh/AAAAAAAA+H8AAAAAAAD4fwAAAAAAAPh/AAAAAAAA+H8AAAAAAAD4fwAAAAAAAPh/AAAAAAAA+H8AAAAAAAD4fwAAAAAAAPh/AAAAAAAA+H8AAAAAAAD4fwAAAAAAAPh/AAAAAAAA+H8AAAAAAAD4fwAAAAAAAPh/AAAAAAAA+H8AAAAAAAD4fwAAAAAAAPh/AAAAAAAA+H8AAAAAAAD4fwAAAAAAAPh/AAAAAAAA+H8AAAAAAAD4fwAAAAAAAPh/AAAAAAAA+H8AAAAAAAD4fwAAAAAAAPh/AAAAAAAA+H8AAAAAAAD4fwAAAAAAAPh/AAAAAAAA+H8AAAAAAAD4fwAAAAAAAPh/AAAAAAAA+H8AAAAAAAD4fwAAAAAAAPh/AAAAAAAA+H8AAAAAAAD4fwAAAAAAAPh/AAAAAAAA+H8AAAAAAAD4fw==",
          "dtype": "f8"
         },
         "yaxis": "y"
        },
        {
         "hovertemplate": "variable=test_forecast_sarima<br>index=%{x}<br>value=%{y}<extra></extra>",
         "legendgroup": "test_forecast_sarima",
         "line": {
          "color": "#ab63fa",
          "dash": "solid"
         },
         "marker": {
          "symbol": "circle"
         },
         "mode": "lines",
         "name": "test_forecast_sarima",
         "orientation": "v",
         "showlegend": true,
         "type": "scatter",
         "x": [
          "1950-02-28T00:00:00.000000000",
          "1950-03-31T00:00:00.000000000",
          "1950-04-30T00:00:00.000000000",
          "1950-05-31T00:00:00.000000000",
          "1950-06-30T00:00:00.000000000",
          "1950-07-31T00:00:00.000000000",
          "1950-08-31T00:00:00.000000000",
          "1950-09-30T00:00:00.000000000",
          "1950-10-31T00:00:00.000000000",
          "1950-11-30T00:00:00.000000000",
          "1950-12-31T00:00:00.000000000",
          "1951-01-31T00:00:00.000000000",
          "1951-02-28T00:00:00.000000000",
          "1951-03-31T00:00:00.000000000",
          "1951-04-30T00:00:00.000000000",
          "1951-05-31T00:00:00.000000000",
          "1951-06-30T00:00:00.000000000",
          "1951-07-31T00:00:00.000000000",
          "1951-08-31T00:00:00.000000000",
          "1951-09-30T00:00:00.000000000",
          "1951-10-31T00:00:00.000000000",
          "1951-11-30T00:00:00.000000000",
          "1951-12-31T00:00:00.000000000",
          "1952-01-31T00:00:00.000000000",
          "1952-02-29T00:00:00.000000000",
          "1952-03-31T00:00:00.000000000",
          "1952-04-30T00:00:00.000000000",
          "1952-05-31T00:00:00.000000000",
          "1952-06-30T00:00:00.000000000",
          "1952-07-31T00:00:00.000000000",
          "1952-08-31T00:00:00.000000000",
          "1952-09-30T00:00:00.000000000",
          "1952-10-31T00:00:00.000000000",
          "1952-11-30T00:00:00.000000000",
          "1952-12-31T00:00:00.000000000",
          "1953-01-31T00:00:00.000000000",
          "1953-02-28T00:00:00.000000000",
          "1953-03-31T00:00:00.000000000",
          "1953-04-30T00:00:00.000000000",
          "1953-05-31T00:00:00.000000000",
          "1953-06-30T00:00:00.000000000",
          "1953-07-31T00:00:00.000000000",
          "1953-08-31T00:00:00.000000000",
          "1953-09-30T00:00:00.000000000",
          "1953-10-31T00:00:00.000000000",
          "1953-11-30T00:00:00.000000000",
          "1953-12-31T00:00:00.000000000",
          "1954-01-31T00:00:00.000000000",
          "1954-02-28T00:00:00.000000000",
          "1954-03-31T00:00:00.000000000",
          "1954-04-30T00:00:00.000000000",
          "1954-05-31T00:00:00.000000000",
          "1954-06-30T00:00:00.000000000",
          "1954-07-31T00:00:00.000000000",
          "1954-08-31T00:00:00.000000000",
          "1954-09-30T00:00:00.000000000",
          "1954-10-31T00:00:00.000000000",
          "1954-11-30T00:00:00.000000000",
          "1954-12-31T00:00:00.000000000",
          "1955-01-31T00:00:00.000000000",
          "1955-02-28T00:00:00.000000000",
          "1955-03-31T00:00:00.000000000",
          "1955-04-30T00:00:00.000000000",
          "1955-05-31T00:00:00.000000000",
          "1955-06-30T00:00:00.000000000",
          "1955-07-31T00:00:00.000000000",
          "1955-08-31T00:00:00.000000000",
          "1955-09-30T00:00:00.000000000",
          "1955-10-31T00:00:00.000000000",
          "1955-11-30T00:00:00.000000000",
          "1955-12-31T00:00:00.000000000",
          "1956-01-31T00:00:00.000000000",
          "1956-02-29T00:00:00.000000000",
          "1956-03-31T00:00:00.000000000",
          "1956-04-30T00:00:00.000000000",
          "1956-05-31T00:00:00.000000000",
          "1956-06-30T00:00:00.000000000",
          "1956-07-31T00:00:00.000000000",
          "1956-08-31T00:00:00.000000000",
          "1956-09-30T00:00:00.000000000",
          "1956-10-31T00:00:00.000000000",
          "1956-11-30T00:00:00.000000000",
          "1956-12-31T00:00:00.000000000",
          "1957-01-31T00:00:00.000000000",
          "1957-02-28T00:00:00.000000000",
          "1957-03-31T00:00:00.000000000",
          "1957-04-30T00:00:00.000000000",
          "1957-05-31T00:00:00.000000000",
          "1957-06-30T00:00:00.000000000",
          "1957-07-31T00:00:00.000000000",
          "1957-08-31T00:00:00.000000000",
          "1957-09-30T00:00:00.000000000",
          "1957-10-31T00:00:00.000000000",
          "1957-11-30T00:00:00.000000000",
          "1957-12-31T00:00:00.000000000",
          "1958-01-31T00:00:00.000000000",
          "1958-02-28T00:00:00.000000000",
          "1958-03-31T00:00:00.000000000",
          "1958-04-30T00:00:00.000000000",
          "1958-05-31T00:00:00.000000000",
          "1958-06-30T00:00:00.000000000",
          "1958-07-31T00:00:00.000000000",
          "1958-08-31T00:00:00.000000000",
          "1958-09-30T00:00:00.000000000",
          "1958-10-31T00:00:00.000000000",
          "1958-11-30T00:00:00.000000000",
          "1958-12-31T00:00:00.000000000",
          "1959-01-31T00:00:00.000000000",
          "1959-02-28T00:00:00.000000000",
          "1959-03-31T00:00:00.000000000",
          "1959-04-30T00:00:00.000000000",
          "1959-05-31T00:00:00.000000000",
          "1959-06-30T00:00:00.000000000",
          "1959-07-31T00:00:00.000000000",
          "1959-08-31T00:00:00.000000000",
          "1959-09-30T00:00:00.000000000",
          "1959-10-31T00:00:00.000000000",
          "1959-11-30T00:00:00.000000000",
          "1959-12-31T00:00:00.000000000",
          "1960-01-31T00:00:00.000000000",
          "1960-02-29T00:00:00.000000000",
          "1960-03-31T00:00:00.000000000",
          "1960-04-30T00:00:00.000000000",
          "1960-05-31T00:00:00.000000000",
          "1960-06-30T00:00:00.000000000",
          "1960-07-31T00:00:00.000000000",
          "1960-08-31T00:00:00.000000000",
          "1960-09-30T00:00:00.000000000",
          "1960-10-31T00:00:00.000000000",
          "1960-11-30T00:00:00.000000000",
          "1960-12-31T00:00:00.000000000"
         ],
         "xaxis": "x",
         "y": {
          "bdata": "AAAAAAAA+H8AAAAAAAD4fwAAAAAAAPh/AAAAAAAA+H8AAAAAAAD4fwAAAAAAAPh/AAAAAAAA+H8AAAAAAAD4fwAAAAAAAPh/AAAAAAAA+H8AAAAAAAD4fwAAAAAAAPh/AAAAAAAA+H8AAAAAAAD4fwAAAAAAAPh/AAAAAAAA+H8AAAAAAAD4fwAAAAAAAPh/AAAAAAAA+H8AAAAAAAD4fwAAAAAAAPh/AAAAAAAA+H8AAAAAAAD4fwAAAAAAAPh/AAAAAAAA+H8AAAAAAAD4fwAAAAAAAPh/AAAAAAAA+H8AAAAAAAD4fwAAAAAAAPh/AAAAAAAA+H8AAAAAAAD4fwAAAAAAAPh/AAAAAAAA+H8AAAAAAAD4fwAAAAAAAPh/AAAAAAAA+H8AAAAAAAD4fwAAAAAAAPh/AAAAAAAA+H8AAAAAAAD4fwAAAAAAAPh/AAAAAAAA+H8AAAAAAAD4fwAAAAAAAPh/AAAAAAAA+H8AAAAAAAD4fwAAAAAAAPh/AAAAAAAA+H8AAAAAAAD4fwAAAAAAAPh/AAAAAAAA+H8AAAAAAAD4fwAAAAAAAPh/AAAAAAAA+H8AAAAAAAD4fwAAAAAAAPh/AAAAAAAA+H8AAAAAAAD4fwAAAAAAAPh/AAAAAAAA+H8AAAAAAAD4fwAAAAAAAPh/AAAAAAAA+H8AAAAAAAD4fwAAAAAAAPh/AAAAAAAA+H8AAAAAAAD4fwAAAAAAAPh/AAAAAAAA+H8AAAAAAAD4fwAAAAAAAPh/AAAAAAAA+H8AAAAAAAD4fwAAAAAAAPh/AAAAAAAA+H8AAAAAAAD4fwAAAAAAAPh/AAAAAAAA+H8AAAAAAAD4fwAAAAAAAPh/AAAAAAAA+H8AAAAAAAD4fwAAAAAAAPh/AAAAAAAA+H8AAAAAAAD4fwAAAAAAAPh/neDroVL3dUAj/EyjkEl5QIFLE14oS3xAqcsQrWvIe0DdBmT1eZl4QCviHCRDhHVAENYwYcjlckAJzD5w2Y51QCKKoeeuKnZAF7Ea9hp2dUBKB5+Tkhl5QGbR2KF2oHhAnd1kibfaeECVxEFHwZx8QIDeWQPFAYBATZKRopxvf0AqFBBWg9V7QOs1hweHWHhAUjZ1d+NhdUCGhiGygWR4QD8a+aLUFHlAzJUkUYJIeEAw5VLCc2Z8QCZ8gDJr3XtAxgem9FQffEDs0HrH7i+AQK9P4r+SHIJAlif4YuLIgUBPIL/+bH5/QBKaWi4GjHtAveLKT6IxeECLjw0TlJl7QLP9njMWYXxAU2ssR+Z5e0BVbqwVNhGAQPYrvfdeh39AGGMsaPPRf0DWkyFmzlCCQEyLpvw4foRAsLb5mIcfhEACmMfjQ9GBQPo2UydGK39Ac6SqSARge0D4DwRLnDp/QA==",
          "dtype": "f8"
         },
         "yaxis": "y"
        }
       ],
       "layout": {
        "legend": {
         "title": {
          "text": "variable"
         },
         "tracegroupgap": 0
        },
        "margin": {
         "t": 60
        },
        "template": {
         "data": {
          "bar": [
           {
            "error_x": {
             "color": "#f2f5fa"
            },
            "error_y": {
             "color": "#f2f5fa"
            },
            "marker": {
             "line": {
              "color": "rgb(17,17,17)",
              "width": 0.5
             },
             "pattern": {
              "fillmode": "overlay",
              "size": 10,
              "solidity": 0.2
             }
            },
            "type": "bar"
           }
          ],
          "barpolar": [
           {
            "marker": {
             "line": {
              "color": "rgb(17,17,17)",
              "width": 0.5
             },
             "pattern": {
              "fillmode": "overlay",
              "size": 10,
              "solidity": 0.2
             }
            },
            "type": "barpolar"
           }
          ],
          "carpet": [
           {
            "aaxis": {
             "endlinecolor": "#A2B1C6",
             "gridcolor": "#506784",
             "linecolor": "#506784",
             "minorgridcolor": "#506784",
             "startlinecolor": "#A2B1C6"
            },
            "baxis": {
             "endlinecolor": "#A2B1C6",
             "gridcolor": "#506784",
             "linecolor": "#506784",
             "minorgridcolor": "#506784",
             "startlinecolor": "#A2B1C6"
            },
            "type": "carpet"
           }
          ],
          "choropleth": [
           {
            "colorbar": {
             "outlinewidth": 0,
             "ticks": ""
            },
            "type": "choropleth"
           }
          ],
          "contour": [
           {
            "colorbar": {
             "outlinewidth": 0,
             "ticks": ""
            },
            "colorscale": [
             [
              0,
              "#0d0887"
             ],
             [
              0.1111111111111111,
              "#46039f"
             ],
             [
              0.2222222222222222,
              "#7201a8"
             ],
             [
              0.3333333333333333,
              "#9c179e"
             ],
             [
              0.4444444444444444,
              "#bd3786"
             ],
             [
              0.5555555555555556,
              "#d8576b"
             ],
             [
              0.6666666666666666,
              "#ed7953"
             ],
             [
              0.7777777777777778,
              "#fb9f3a"
             ],
             [
              0.8888888888888888,
              "#fdca26"
             ],
             [
              1,
              "#f0f921"
             ]
            ],
            "type": "contour"
           }
          ],
          "contourcarpet": [
           {
            "colorbar": {
             "outlinewidth": 0,
             "ticks": ""
            },
            "type": "contourcarpet"
           }
          ],
          "heatmap": [
           {
            "colorbar": {
             "outlinewidth": 0,
             "ticks": ""
            },
            "colorscale": [
             [
              0,
              "#0d0887"
             ],
             [
              0.1111111111111111,
              "#46039f"
             ],
             [
              0.2222222222222222,
              "#7201a8"
             ],
             [
              0.3333333333333333,
              "#9c179e"
             ],
             [
              0.4444444444444444,
              "#bd3786"
             ],
             [
              0.5555555555555556,
              "#d8576b"
             ],
             [
              0.6666666666666666,
              "#ed7953"
             ],
             [
              0.7777777777777778,
              "#fb9f3a"
             ],
             [
              0.8888888888888888,
              "#fdca26"
             ],
             [
              1,
              "#f0f921"
             ]
            ],
            "type": "heatmap"
           }
          ],
          "histogram": [
           {
            "marker": {
             "pattern": {
              "fillmode": "overlay",
              "size": 10,
              "solidity": 0.2
             }
            },
            "type": "histogram"
           }
          ],
          "histogram2d": [
           {
            "colorbar": {
             "outlinewidth": 0,
             "ticks": ""
            },
            "colorscale": [
             [
              0,
              "#0d0887"
             ],
             [
              0.1111111111111111,
              "#46039f"
             ],
             [
              0.2222222222222222,
              "#7201a8"
             ],
             [
              0.3333333333333333,
              "#9c179e"
             ],
             [
              0.4444444444444444,
              "#bd3786"
             ],
             [
              0.5555555555555556,
              "#d8576b"
             ],
             [
              0.6666666666666666,
              "#ed7953"
             ],
             [
              0.7777777777777778,
              "#fb9f3a"
             ],
             [
              0.8888888888888888,
              "#fdca26"
             ],
             [
              1,
              "#f0f921"
             ]
            ],
            "type": "histogram2d"
           }
          ],
          "histogram2dcontour": [
           {
            "colorbar": {
             "outlinewidth": 0,
             "ticks": ""
            },
            "colorscale": [
             [
              0,
              "#0d0887"
             ],
             [
              0.1111111111111111,
              "#46039f"
             ],
             [
              0.2222222222222222,
              "#7201a8"
             ],
             [
              0.3333333333333333,
              "#9c179e"
             ],
             [
              0.4444444444444444,
              "#bd3786"
             ],
             [
              0.5555555555555556,
              "#d8576b"
             ],
             [
              0.6666666666666666,
              "#ed7953"
             ],
             [
              0.7777777777777778,
              "#fb9f3a"
             ],
             [
              0.8888888888888888,
              "#fdca26"
             ],
             [
              1,
              "#f0f921"
             ]
            ],
            "type": "histogram2dcontour"
           }
          ],
          "mesh3d": [
           {
            "colorbar": {
             "outlinewidth": 0,
             "ticks": ""
            },
            "type": "mesh3d"
           }
          ],
          "parcoords": [
           {
            "line": {
             "colorbar": {
              "outlinewidth": 0,
              "ticks": ""
             }
            },
            "type": "parcoords"
           }
          ],
          "pie": [
           {
            "automargin": true,
            "type": "pie"
           }
          ],
          "scatter": [
           {
            "marker": {
             "line": {
              "color": "#283442"
             }
            },
            "type": "scatter"
           }
          ],
          "scatter3d": [
           {
            "line": {
             "colorbar": {
              "outlinewidth": 0,
              "ticks": ""
             }
            },
            "marker": {
             "colorbar": {
              "outlinewidth": 0,
              "ticks": ""
             }
            },
            "type": "scatter3d"
           }
          ],
          "scattercarpet": [
           {
            "marker": {
             "colorbar": {
              "outlinewidth": 0,
              "ticks": ""
             }
            },
            "type": "scattercarpet"
           }
          ],
          "scattergeo": [
           {
            "marker": {
             "colorbar": {
              "outlinewidth": 0,
              "ticks": ""
             }
            },
            "type": "scattergeo"
           }
          ],
          "scattergl": [
           {
            "marker": {
             "line": {
              "color": "#283442"
             }
            },
            "type": "scattergl"
           }
          ],
          "scattermap": [
           {
            "marker": {
             "colorbar": {
              "outlinewidth": 0,
              "ticks": ""
             }
            },
            "type": "scattermap"
           }
          ],
          "scattermapbox": [
           {
            "marker": {
             "colorbar": {
              "outlinewidth": 0,
              "ticks": ""
             }
            },
            "type": "scattermapbox"
           }
          ],
          "scatterpolar": [
           {
            "marker": {
             "colorbar": {
              "outlinewidth": 0,
              "ticks": ""
             }
            },
            "type": "scatterpolar"
           }
          ],
          "scatterpolargl": [
           {
            "marker": {
             "colorbar": {
              "outlinewidth": 0,
              "ticks": ""
             }
            },
            "type": "scatterpolargl"
           }
          ],
          "scatterternary": [
           {
            "marker": {
             "colorbar": {
              "outlinewidth": 0,
              "ticks": ""
             }
            },
            "type": "scatterternary"
           }
          ],
          "surface": [
           {
            "colorbar": {
             "outlinewidth": 0,
             "ticks": ""
            },
            "colorscale": [
             [
              0,
              "#0d0887"
             ],
             [
              0.1111111111111111,
              "#46039f"
             ],
             [
              0.2222222222222222,
              "#7201a8"
             ],
             [
              0.3333333333333333,
              "#9c179e"
             ],
             [
              0.4444444444444444,
              "#bd3786"
             ],
             [
              0.5555555555555556,
              "#d8576b"
             ],
             [
              0.6666666666666666,
              "#ed7953"
             ],
             [
              0.7777777777777778,
              "#fb9f3a"
             ],
             [
              0.8888888888888888,
              "#fdca26"
             ],
             [
              1,
              "#f0f921"
             ]
            ],
            "type": "surface"
           }
          ],
          "table": [
           {
            "cells": {
             "fill": {
              "color": "#506784"
             },
             "line": {
              "color": "rgb(17,17,17)"
             }
            },
            "header": {
             "fill": {
              "color": "#2a3f5f"
             },
             "line": {
              "color": "rgb(17,17,17)"
             }
            },
            "type": "table"
           }
          ]
         },
         "layout": {
          "annotationdefaults": {
           "arrowcolor": "#f2f5fa",
           "arrowhead": 0,
           "arrowwidth": 1
          },
          "autosize": false,
          "autotypenumbers": "strict",
          "coloraxis": {
           "colorbar": {
            "outlinewidth": 0,
            "ticks": ""
           }
          },
          "colorscale": {
           "diverging": [
            [
             0,
             "#8e0152"
            ],
            [
             0.1,
             "#c51b7d"
            ],
            [
             0.2,
             "#de77ae"
            ],
            [
             0.3,
             "#f1b6da"
            ],
            [
             0.4,
             "#fde0ef"
            ],
            [
             0.5,
             "#f7f7f7"
            ],
            [
             0.6,
             "#e6f5d0"
            ],
            [
             0.7,
             "#b8e186"
            ],
            [
             0.8,
             "#7fbc41"
            ],
            [
             0.9,
             "#4d9221"
            ],
            [
             1,
             "#276419"
            ]
           ],
           "sequential": [
            [
             0,
             "#0d0887"
            ],
            [
             0.1111111111111111,
             "#46039f"
            ],
            [
             0.2222222222222222,
             "#7201a8"
            ],
            [
             0.3333333333333333,
             "#9c179e"
            ],
            [
             0.4444444444444444,
             "#bd3786"
            ],
            [
             0.5555555555555556,
             "#d8576b"
            ],
            [
             0.6666666666666666,
             "#ed7953"
            ],
            [
             0.7777777777777778,
             "#fb9f3a"
            ],
            [
             0.8888888888888888,
             "#fdca26"
            ],
            [
             1,
             "#f0f921"
            ]
           ],
           "sequentialminus": [
            [
             0,
             "#0d0887"
            ],
            [
             0.1111111111111111,
             "#46039f"
            ],
            [
             0.2222222222222222,
             "#7201a8"
            ],
            [
             0.3333333333333333,
             "#9c179e"
            ],
            [
             0.4444444444444444,
             "#bd3786"
            ],
            [
             0.5555555555555556,
             "#d8576b"
            ],
            [
             0.6666666666666666,
             "#ed7953"
            ],
            [
             0.7777777777777778,
             "#fb9f3a"
            ],
            [
             0.8888888888888888,
             "#fdca26"
            ],
            [
             1,
             "#f0f921"
            ]
           ]
          },
          "colorway": [
           "#636efa",
           "#EF553B",
           "#00cc96",
           "#ab63fa",
           "#FFA15A",
           "#19d3f3",
           "#FF6692",
           "#B6E880",
           "#FF97FF",
           "#FECB52"
          ],
          "font": {
           "color": "#f2f5fa"
          },
          "geo": {
           "bgcolor": "rgb(17,17,17)",
           "lakecolor": "rgb(17,17,17)",
           "landcolor": "rgb(17,17,17)",
           "showlakes": true,
           "showland": true,
           "subunitcolor": "#506784"
          },
          "height": 500,
          "hoverlabel": {
           "align": "left"
          },
          "hovermode": "closest",
          "mapbox": {
           "style": "dark"
          },
          "paper_bgcolor": "rgb(17,17,17)",
          "plot_bgcolor": "rgb(17,17,17)",
          "polar": {
           "angularaxis": {
            "gridcolor": "#506784",
            "linecolor": "#506784",
            "ticks": ""
           },
           "bgcolor": "rgb(17,17,17)",
           "radialaxis": {
            "gridcolor": "#506784",
            "linecolor": "#506784",
            "ticks": ""
           }
          },
          "scene": {
           "xaxis": {
            "backgroundcolor": "rgb(17,17,17)",
            "gridcolor": "#506784",
            "gridwidth": 2,
            "linecolor": "#506784",
            "showbackground": true,
            "ticks": "",
            "zerolinecolor": "#C8D4E3"
           },
           "yaxis": {
            "backgroundcolor": "rgb(17,17,17)",
            "gridcolor": "#506784",
            "gridwidth": 2,
            "linecolor": "#506784",
            "showbackground": true,
            "ticks": "",
            "zerolinecolor": "#C8D4E3"
           },
           "zaxis": {
            "backgroundcolor": "rgb(17,17,17)",
            "gridcolor": "#506784",
            "gridwidth": 2,
            "linecolor": "#506784",
            "showbackground": true,
            "ticks": "",
            "zerolinecolor": "#C8D4E3"
           }
          },
          "shapedefaults": {
           "line": {
            "color": "#f2f5fa"
           }
          },
          "showlegend": true,
          "sliderdefaults": {
           "bgcolor": "#C8D4E3",
           "bordercolor": "rgb(17,17,17)",
           "borderwidth": 1,
           "tickwidth": 0
          },
          "ternary": {
           "aaxis": {
            "gridcolor": "#506784",
            "linecolor": "#506784",
            "ticks": ""
           },
           "baxis": {
            "gridcolor": "#506784",
            "linecolor": "#506784",
            "ticks": ""
           },
           "bgcolor": "rgb(17,17,17)",
           "caxis": {
            "gridcolor": "#506784",
            "linecolor": "#506784",
            "ticks": ""
           }
          },
          "title": {
           "x": 0.05
          },
          "updatemenudefaults": {
           "bgcolor": "#506784",
           "borderwidth": 0
          },
          "width": 1000,
          "xaxis": {
           "automargin": true,
           "gridcolor": "#283442",
           "linecolor": "#506784",
           "ticks": "",
           "title": {
            "standoff": 15
           },
           "zerolinecolor": "#283442",
           "zerolinewidth": 2
          },
          "yaxis": {
           "automargin": true,
           "gridcolor": "#283442",
           "linecolor": "#506784",
           "ticks": "",
           "title": {
            "standoff": 15
           },
           "zerolinecolor": "#283442",
           "zerolinewidth": 2
          }
         }
        },
        "xaxis": {
         "anchor": "y",
         "domain": [
          0,
          1
         ],
         "title": {
          "text": "index"
         }
        },
        "yaxis": {
         "anchor": "x",
         "domain": [
          0,
          1
         ],
         "title": {
          "text": "value"
         }
        }
       }
      }
     },
     "metadata": {},
     "output_type": "display_data"
    }
   ],
   "source": [
    "df_pred[12+1:].plot()"
   ]
  },
  {
   "cell_type": "markdown",
   "id": "c3a3e01a",
   "metadata": {},
   "source": [
    "## [ ] Model Comparison: SARIMA vs ETS vs Prophet"
   ]
  },
  {
   "cell_type": "code",
   "execution_count": 20,
   "id": "a928d12f",
   "metadata": {},
   "outputs": [],
   "source": [
    "from modules import utils"
   ]
  },
  {
   "cell_type": "code",
   "execution_count": 21,
   "id": "ec80dba5",
   "metadata": {},
   "outputs": [],
   "source": [
    "from sklearn.model_selection import train_test_split\n",
    "train, test = train_test_split(df_base['values'], test_size=0.3, shuffle=False)"
   ]
  },
  {
   "cell_type": "code",
   "execution_count": 22,
   "id": "b5dd0ed1",
   "metadata": {},
   "outputs": [
    {
     "name": "stderr",
     "output_type": "stream",
     "text": [
      "15:47:19 - cmdstanpy - INFO - Chain [1] start processing\n",
      "15:47:19 - cmdstanpy - INFO - Chain [1] done processing\n"
     ]
    },
    {
     "data": {
      "text/html": [
       "<style type=\"text/css\">\n",
       "</style>\n",
       "<table id=\"T_13c8b\">\n",
       "  <thead>\n",
       "    <tr>\n",
       "      <th class=\"blank level0\" >&nbsp;</th>\n",
       "      <th id=\"T_13c8b_level0_col0\" class=\"col_heading level0 col0\" >model</th>\n",
       "      <th id=\"T_13c8b_level0_col1\" class=\"col_heading level0 col1\" >split</th>\n",
       "      <th id=\"T_13c8b_level0_col2\" class=\"col_heading level0 col2\" >rmse</th>\n",
       "    </tr>\n",
       "  </thead>\n",
       "  <tbody>\n",
       "    <tr>\n",
       "      <th id=\"T_13c8b_level0_row0\" class=\"row_heading level0 row0\" >0</th>\n",
       "      <td id=\"T_13c8b_row0_col0\" class=\"data row0 col0\" >sarima</td>\n",
       "      <td id=\"T_13c8b_row0_col1\" class=\"data row0 col1\" >train</td>\n",
       "      <td id=\"T_13c8b_row0_col2\" class=\"data row0 col2\" >263.058878</td>\n",
       "    </tr>\n",
       "    <tr>\n",
       "      <th id=\"T_13c8b_level0_row1\" class=\"row_heading level0 row1\" >1</th>\n",
       "      <td id=\"T_13c8b_row1_col0\" class=\"data row1 col0\" >sarima</td>\n",
       "      <td id=\"T_13c8b_row1_col1\" class=\"data row1 col1\" >test</td>\n",
       "      <td id=\"T_13c8b_row1_col2\" class=\"data row1 col2\" >38.558619</td>\n",
       "    </tr>\n",
       "    <tr>\n",
       "      <th id=\"T_13c8b_level0_row2\" class=\"row_heading level0 row2\" >2</th>\n",
       "      <td id=\"T_13c8b_row2_col0\" class=\"data row2 col0\" >ets</td>\n",
       "      <td id=\"T_13c8b_row2_col1\" class=\"data row2 col1\" >train</td>\n",
       "      <td id=\"T_13c8b_row2_col2\" class=\"data row2 col2\" >6.722249</td>\n",
       "    </tr>\n",
       "    <tr>\n",
       "      <th id=\"T_13c8b_level0_row3\" class=\"row_heading level0 row3\" >3</th>\n",
       "      <td id=\"T_13c8b_row3_col0\" class=\"data row3 col0\" >ets</td>\n",
       "      <td id=\"T_13c8b_row3_col1\" class=\"data row3 col1\" >test</td>\n",
       "      <td id=\"T_13c8b_row3_col2\" class=\"data row3 col2\" >31.860423</td>\n",
       "    </tr>\n",
       "    <tr>\n",
       "      <th id=\"T_13c8b_level0_row4\" class=\"row_heading level0 row4\" >4</th>\n",
       "      <td id=\"T_13c8b_row4_col0\" class=\"data row4 col0\" >prophet</td>\n",
       "      <td id=\"T_13c8b_row4_col1\" class=\"data row4 col1\" >train</td>\n",
       "      <td id=\"T_13c8b_row4_col2\" class=\"data row4 col2\" >5.751788</td>\n",
       "    </tr>\n",
       "    <tr>\n",
       "      <th id=\"T_13c8b_level0_row5\" class=\"row_heading level0 row5\" >5</th>\n",
       "      <td id=\"T_13c8b_row5_col0\" class=\"data row5 col0\" >prophet</td>\n",
       "      <td id=\"T_13c8b_row5_col1\" class=\"data row5 col1\" >test</td>\n",
       "      <td id=\"T_13c8b_row5_col2\" class=\"data row5 col2\" >46.292891</td>\n",
       "    </tr>\n",
       "  </tbody>\n",
       "</table>\n"
      ],
      "text/plain": [
       "<pandas.io.formats.style.Styler at 0x33539df40>"
      ]
     },
     "execution_count": 22,
     "metadata": {},
     "output_type": "execute_result"
    }
   ],
   "source": [
    "configs = {\n",
    "    'sarima': {\n",
    "        'model_params': {\n",
    "            'order': (0, 1, 1),\n",
    "            'seasonal_order': (0, 1, 1, 12),\n",
    "            'enforce_invertibility': False,\n",
    "            'enforce_stationarity': False,\n",
    "        },\n",
    "        'log_transform': True,\n",
    "    },\n",
    "    'ets': {\n",
    "        'model_params': {\n",
    "            'trend': 'add',\n",
    "            'seasonal': 'mul',\n",
    "            'damped_trend': False,\n",
    "        },\n",
    "        'log_transform': False,\n",
    "    },\n",
    "    'prophet': {\n",
    "        'model_params': {\n",
    "            'seasonality_mode': 'multiplicative',\n",
    "            'yearly_seasonality': True,\n",
    "        },\n",
    "        'log_transform': True,\n",
    "    },\n",
    "}\n",
    "\n",
    "\n",
    "data = {\n",
    "    'train': train,\n",
    "    'test': test,\n",
    "}\n",
    "tf = utils.TimeSeriesForecaster(**data, freq='ME')\n",
    "\n",
    "d = []\n",
    "for model_name, config in configs.items():\n",
    "\n",
    "    forecaster = getattr(tf, model_name)\n",
    "    f_train, f_test = forecaster(**config)\n",
    "    forecast = {\n",
    "        'train': f_train,\n",
    "        'test': f_test,\n",
    "    }\n",
    "    \n",
    "    for split in ['train', 'test']:\n",
    "        data_real = data[split]\n",
    "        data_forecast = forecast[split]\n",
    "        d.append({\n",
    "            'model': model_name,\n",
    "            'split': split,\n",
    "            'rmse': root_mean_squared_error(data_real, data_forecast),\n",
    "        })\n",
    "\n",
    "df = pd.DataFrame(d)\n",
    "df.style"
   ]
  },
  {
   "cell_type": "code",
   "execution_count": 23,
   "id": "cddae995",
   "metadata": {},
   "outputs": [
    {
     "data": {
      "text/html": [
       "<style type=\"text/css\">\n",
       "#T_47a05_row0_col0 {\n",
       "  background-color: #006428;\n",
       "  color: #f1f1f1;\n",
       "}\n",
       "#T_47a05_row0_col1 {\n",
       "  background-color: #097532;\n",
       "  color: #f1f1f1;\n",
       "}\n",
       "#T_47a05_row0_col2 {\n",
       "  background-color: #006d2c;\n",
       "  color: #f1f1f1;\n",
       "}\n",
       "#T_47a05_row1_col0, #T_47a05_row1_col1 {\n",
       "  background-color: #00441b;\n",
       "  color: #f1f1f1;\n",
       "}\n",
       "#T_47a05_row1_col2 {\n",
       "  background-color: #f7fcf5;\n",
       "  color: #000000;\n",
       "}\n",
       "</style>\n",
       "<table id=\"T_47a05\">\n",
       "  <thead>\n",
       "    <tr>\n",
       "      <th class=\"index_name level0\" >model</th>\n",
       "      <th id=\"T_47a05_level0_col0\" class=\"col_heading level0 col0\" >ets</th>\n",
       "      <th id=\"T_47a05_level0_col1\" class=\"col_heading level0 col1\" >prophet</th>\n",
       "      <th id=\"T_47a05_level0_col2\" class=\"col_heading level0 col2\" >sarima</th>\n",
       "    </tr>\n",
       "    <tr>\n",
       "      <th class=\"index_name level0\" >split</th>\n",
       "      <th class=\"blank col0\" >&nbsp;</th>\n",
       "      <th class=\"blank col1\" >&nbsp;</th>\n",
       "      <th class=\"blank col2\" >&nbsp;</th>\n",
       "    </tr>\n",
       "  </thead>\n",
       "  <tbody>\n",
       "    <tr>\n",
       "      <th id=\"T_47a05_level0_row0\" class=\"row_heading level0 row0\" >test</th>\n",
       "      <td id=\"T_47a05_row0_col0\" class=\"data row0 col0\" >31.86</td>\n",
       "      <td id=\"T_47a05_row0_col1\" class=\"data row0 col1\" >46.29</td>\n",
       "      <td id=\"T_47a05_row0_col2\" class=\"data row0 col2\" >38.56</td>\n",
       "    </tr>\n",
       "    <tr>\n",
       "      <th id=\"T_47a05_level0_row1\" class=\"row_heading level0 row1\" >train</th>\n",
       "      <td id=\"T_47a05_row1_col0\" class=\"data row1 col0\" >6.72</td>\n",
       "      <td id=\"T_47a05_row1_col1\" class=\"data row1 col1\" >5.75</td>\n",
       "      <td id=\"T_47a05_row1_col2\" class=\"data row1 col2\" >263.06</td>\n",
       "    </tr>\n",
       "  </tbody>\n",
       "</table>\n"
      ],
      "text/plain": [
       "<pandas.io.formats.style.Styler at 0x3352e2cc0>"
      ]
     },
     "execution_count": 23,
     "metadata": {},
     "output_type": "execute_result"
    }
   ],
   "source": [
    "dfp = df.pivot(index=[\"split\"], columns=\"model\", values=\"rmse\")\n",
    "dfp.style.background_gradient(cmap=\"Greens_r\", axis=None).format(precision=2)"
   ]
  },
  {
   "cell_type": "markdown",
   "id": "92247751",
   "metadata": {},
   "source": [
    "| Objetivo                                    | Confía más en... | Justificación                                                   |\n",
    "| ------------------------------------------- | ---------------- | --------------------------------------------------------------- |\n",
    "| **Forecast inmediato (pocos pasos)**        | Test split       | Optimizas el rendimiento empírico                               |\n",
    "| **Modelo estable, reusable, interpretable** | Diagnostics      | Te aseguras que el modelo captura bien la estructura subyacente |\n",
    "| **Forecast multistep largo**                | Diagnostics      | Modelos mal especificados se degradan con el horizonte          |\n"
   ]
  },
  {
   "cell_type": "markdown",
   "id": "4d146bc9",
   "metadata": {},
   "source": [
    "Buena pregunta. **No, no tiene sentido asegurar la calidad predictiva de un modelo basándote solo en los errores in-sample (residuos sobre el train)**. Pero **sí tiene sentido analizarlos para validar la estructura del modelo**.\n",
    "\n",
    "---\n",
    "\n",
    "### 🔍 Diferenciemos:\n",
    "\n",
    "#### ✅ **Usar los residuos in-sample tiene sentido para:**\n",
    "\n",
    "* Verificar que el modelo esté bien especificado (sin autocorrelación, varianza constante).\n",
    "* Asegurarte de que no hay patrones no explicados.\n",
    "* Validar que los supuestos del modelo se cumplen.\n",
    "\n",
    "#### ❌ **Usar los residuos in-sample para reportar error de predicción es engañoso:**\n",
    "\n",
    "* Estás midiendo el ajuste, no la capacidad de generalización.\n",
    "* Es un error común que da modelos con bajo error in-sample pero que fallan fuera de muestra (overfitting).\n",
    "\n",
    "---\n",
    "\n",
    "### 📌 Ejemplo concreto:\n",
    "\n",
    "* Un `ARIMA(12,1,1)` puede tener residuos in-sample muy pequeños.\n",
    "* Pero si el modelo está sobreajustado o no generaliza, su error out-of-sample será alto.\n",
    "* Solo evaluando el RMSE en el test set puedes confirmar su poder predictivo.\n",
    "\n",
    "---\n",
    "\n",
    "### ✅ Conclusión clara:\n",
    "\n",
    "> **Diagnósticos in-sample te dicen si el modelo tiene sentido. Error out-of-sample te dice si sirve.**\n",
    "\n",
    "¿Quieres una visualización clara que muestre ambos lados en una notebook o clase?"
   ]
  }
 ],
 "metadata": {
  "kernelspec": {
   "display_name": "time-series",
   "language": "python",
   "name": "python3"
  },
  "language_info": {
   "codemirror_mode": {
    "name": "ipython",
    "version": 3
   },
   "file_extension": ".py",
   "mimetype": "text/x-python",
   "name": "python",
   "nbconvert_exporter": "python",
   "pygments_lexer": "ipython3",
   "version": "3.12.10"
  },
  "papermill": {
   "default_parameters": {},
   "duration": 4.209925,
   "end_time": "2024-05-29T22:26:25.733318",
   "environment_variables": {},
   "exception": null,
   "input_path": "/Users/sota/Library/CloudStorage/Dropbox/2 Business/1 Datons/2 Areas/Courses/22 TS/solutions-new/notebooks/50_Model Evaluation/2_Split/1.ipynb",
   "output_path": "/Users/sota/Library/CloudStorage/Dropbox/2 Business/1 Datons/2 Areas/Courses/22 TS/solutions-new/notebooks/50_Model Evaluation/2_Split/1.ipynb",
   "parameters": {},
   "start_time": "2024-05-29T22:26:21.523393",
   "version": "2.5.0"
  }
 },
 "nbformat": 4,
 "nbformat_minor": 5
}
