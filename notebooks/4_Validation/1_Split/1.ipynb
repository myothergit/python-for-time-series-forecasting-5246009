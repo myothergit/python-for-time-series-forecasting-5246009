{
 "cells": [
  {
   "cell_type": "markdown",
   "id": "416b55df",
   "metadata": {
    "papermill": {
     "duration": 0.002212,
     "end_time": "2024-05-29T22:26:22.490527",
     "exception": false,
     "start_time": "2024-05-29T22:26:22.488315",
     "status": "completed"
    },
    "tags": []
   },
   "source": [
    "# Model Evaluation & Validation: Train Test Split"
   ]
  },
  {
   "cell_type": "markdown",
   "id": "7363fe5e",
   "metadata": {
    "papermill": {
     "duration": 0.001736,
     "end_time": "2024-05-29T22:26:22.494272",
     "exception": false,
     "start_time": "2024-05-29T22:26:22.492536",
     "status": "completed"
    },
    "tags": []
   },
   "source": [
    "## Overview"
   ]
  },
  {
   "cell_type": "markdown",
   "id": "979355d6",
   "metadata": {
    "papermill": {
     "duration": 0.001529,
     "end_time": "2024-05-29T22:26:22.497369",
     "exception": false,
     "start_time": "2024-05-29T22:26:22.495840",
     "status": "completed"
    },
    "tags": []
   },
   "source": [
    "<style>\n",
    "    table.custom-table {\n",
    "        max-width: 600px;\n",
    "        width: 100%;\n",
    "        margin: 0 auto; /* centers the table on the page */\n",
    "    }\n",
    "\n",
    "    table.custom-table td {\n",
    "        background-color: #fff;\n",
    "    }\n",
    "    \n",
    "    table.custom-table th, table.custom-table td {\n",
    "        text-align: center;\n",
    "        vertical-align: middle;\n",
    "        padding: 5px;\n",
    "        width: 600px; /* distribute the total width equally among three columns */\n",
    "    }\n",
    "\n",
    "    table.custom-table img {\n",
    "        width: 100%;\n",
    "        display: block; /* removes any gap under the image */\n",
    "    }\n",
    "</style>\n",
    "\n",
    "\n",
    "<table class=\"custom-table\">\n",
    "    <thead>\n",
    "        <tr>\n",
    "            <th>Why is Train Test Split necessary?</th>\n",
    "        </tr>\n",
    "    </thead>\n",
    "    <tbody>\n",
    "        <tr>\n",
    "            <td>\n",
    "                <img src=\"src/02_input.png\">\n",
    "            </td>\n",
    "        </tr>\n",
    "        <tr>\n",
    "            <td>\n",
    "                <img src=\"src/02_output_1.png\">\n",
    "            </td>\n",
    "        </tr>\n",
    "        <tr>\n",
    "            <td>\n",
    "                <img src=\"src/02_output_2.png\">\n",
    "            </td>\n",
    "        </tr>\n",
    "    </tbody>\n",
    "</table>"
   ]
  },
  {
   "cell_type": "markdown",
   "id": "3a258d5a",
   "metadata": {
    "papermill": {
     "duration": 0.001438,
     "end_time": "2024-05-29T22:26:22.500347",
     "exception": false,
     "start_time": "2024-05-29T22:26:22.498909",
     "status": "completed"
    },
    "tags": []
   },
   "source": [
    "## Data"
   ]
  },
  {
   "cell_type": "code",
   "execution_count": 1,
   "id": "5065c5cc",
   "metadata": {
    "execution": {
     "iopub.execute_input": "2024-05-29T22:26:22.503796Z",
     "iopub.status.busy": "2024-05-29T22:26:22.503672Z",
     "iopub.status.idle": "2024-05-29T22:26:22.511607Z",
     "shell.execute_reply": "2024-05-29T22:26:22.511364Z"
    },
    "papermill": {
     "duration": 0.010598,
     "end_time": "2024-05-29T22:26:22.512311",
     "exception": false,
     "start_time": "2024-05-29T22:26:22.501713",
     "status": "completed"
    },
    "tags": []
   },
   "outputs": [
    {
     "data": {
      "text/plain": [
       "Month\n",
       "1949-01-01    112\n",
       "1949-02-01    118\n",
       "             ... \n",
       "1960-11-01    390\n",
       "1960-12-01    432\n",
       "Freq: MS, Name: Passengers, Length: 144, dtype: int64"
      ]
     },
     "execution_count": 1,
     "metadata": {},
     "output_type": "execute_result"
    }
   ],
   "source": [
    "#!\n",
    "\n",
    "import pandas as pd\n",
    "\n",
    "df_passengers = pd.read_csv('../../../data/airline-passengers.csv', parse_dates=[\"Month\"], index_col=\"Month\")\n",
    "data = df_passengers.asfreq('MS')['Passengers']\n",
    "data"
   ]
  },
  {
   "cell_type": "markdown",
   "id": "3f81fe26",
   "metadata": {
    "papermill": {
     "duration": 0.001473,
     "end_time": "2024-05-29T22:26:22.515491",
     "exception": false,
     "start_time": "2024-05-29T22:26:22.514018",
     "status": "completed"
    },
    "tags": []
   },
   "source": [
    "## Previous Lesson: Overfitting Problem\n",
    "\n",
    "1. Evaluate the model on the same data used for training.\n",
    "2. Overfitting problem: the model is good to predict historical data, but not for the future.\n",
    "3. Businesses depend on predicting the future, not the past."
   ]
  },
  {
   "cell_type": "code",
   "execution_count": 2,
   "id": "26c36017",
   "metadata": {
    "execution": {
     "iopub.execute_input": "2024-05-29T22:26:22.518768Z",
     "iopub.status.busy": "2024-05-29T22:26:22.518685Z",
     "iopub.status.idle": "2024-05-29T22:26:23.985808Z",
     "shell.execute_reply": "2024-05-29T22:26:23.984891Z"
    },
    "papermill": {
     "duration": 1.471026,
     "end_time": "2024-05-29T22:26:23.987882",
     "exception": false,
     "start_time": "2024-05-29T22:26:22.516856",
     "status": "completed"
    },
    "tags": []
   },
   "outputs": [
    {
     "name": "stderr",
     "output_type": "stream",
     "text": [
      "/Users/sota/miniconda3/envs/work/lib/python3.12/site-packages/sklearn/metrics/_regression.py:483: FutureWarning: 'squared' is deprecated in version 1.4 and will be removed in 1.6. To calculate the root mean squared error, use the function'root_mean_squared_error'.\n",
      "  warnings.warn(\n"
     ]
    },
    {
     "data": {
      "text/plain": [
       "12.487395495743867"
      ]
     },
     "execution_count": 2,
     "metadata": {},
     "output_type": "execute_result"
    }
   ],
   "source": [
    "from statsmodels.tsa.arima.model import ARIMA #!\n",
    "from sklearn.metrics import mean_squared_error\n",
    "\n",
    "model = ARIMA(data, order=(0, 1, 2), seasonal_order=(1, 1, 1, 12))\n",
    "model_fit = model.fit()\n",
    "y_pred = model_fit.predict()\n",
    "score = mean_squared_error(data[1:], y_pred[1:], squared=False)\n",
    "score"
   ]
  },
  {
   "cell_type": "markdown",
   "id": "037612f4",
   "metadata": {
    "papermill": {
     "duration": 0.005743,
     "end_time": "2024-05-29T22:26:23.998527",
     "exception": false,
     "start_time": "2024-05-29T22:26:23.992784",
     "status": "completed"
    },
    "tags": []
   },
   "source": [
    "## Train Test Split: Detecting Overfitting"
   ]
  },
  {
   "cell_type": "markdown",
   "id": "86093866",
   "metadata": {
    "papermill": {
     "duration": 0.00468,
     "end_time": "2024-05-29T22:26:24.009434",
     "exception": false,
     "start_time": "2024-05-29T22:26:24.004754",
     "status": "completed"
    },
    "tags": []
   },
   "source": [
    "### Split Data"
   ]
  },
  {
   "cell_type": "code",
   "execution_count": 3,
   "id": "907a1e7d",
   "metadata": {
    "execution": {
     "iopub.execute_input": "2024-05-29T22:26:24.022640Z",
     "iopub.status.busy": "2024-05-29T22:26:24.022246Z",
     "iopub.status.idle": "2024-05-29T22:26:24.036486Z",
     "shell.execute_reply": "2024-05-29T22:26:24.035906Z"
    },
    "papermill": {
     "duration": 0.024318,
     "end_time": "2024-05-29T22:26:24.037956",
     "exception": false,
     "start_time": "2024-05-29T22:26:24.013638",
     "status": "completed"
    },
    "tags": []
   },
   "outputs": [
    {
     "data": {
      "text/plain": [
       "Month\n",
       "1949-01-01    112\n",
       "1949-02-01    118\n",
       "             ... \n",
       "1957-03-01    356\n",
       "1957-04-01    348\n",
       "Freq: MS, Name: Passengers, Length: 100, dtype: int64"
      ]
     },
     "execution_count": 3,
     "metadata": {},
     "output_type": "execute_result"
    }
   ],
   "source": [
    "from sklearn.model_selection import train_test_split\n",
    "\n",
    "data_train, data_test = train_test_split(data, shuffle=False, test_size=0.3)\n",
    "data_train"
   ]
  },
  {
   "cell_type": "code",
   "execution_count": 4,
   "id": "4f4e5573",
   "metadata": {
    "execution": {
     "iopub.execute_input": "2024-05-29T22:26:24.047727Z",
     "iopub.status.busy": "2024-05-29T22:26:24.047110Z",
     "iopub.status.idle": "2024-05-29T22:26:24.055942Z",
     "shell.execute_reply": "2024-05-29T22:26:24.055502Z"
    },
    "papermill": {
     "duration": 0.017651,
     "end_time": "2024-05-29T22:26:24.059891",
     "exception": false,
     "start_time": "2024-05-29T22:26:24.042240",
     "status": "completed"
    },
    "tags": []
   },
   "outputs": [
    {
     "data": {
      "text/plain": [
       "Month\n",
       "1957-05-01    355\n",
       "1957-06-01    422\n",
       "             ... \n",
       "1960-11-01    390\n",
       "1960-12-01    432\n",
       "Freq: MS, Name: Passengers, Length: 44, dtype: int64"
      ]
     },
     "execution_count": 4,
     "metadata": {},
     "output_type": "execute_result"
    }
   ],
   "source": [
    "data_test"
   ]
  },
  {
   "cell_type": "code",
   "execution_count": 5,
   "id": "9b6fe806",
   "metadata": {
    "execution": {
     "iopub.execute_input": "2024-05-29T22:26:24.069726Z",
     "iopub.status.busy": "2024-05-29T22:26:24.069423Z",
     "iopub.status.idle": "2024-05-29T22:26:24.641686Z",
     "shell.execute_reply": "2024-05-29T22:26:24.641373Z"
    },
    "papermill": {
     "duration": 0.578848,
     "end_time": "2024-05-29T22:26:24.642757",
     "exception": false,
     "start_time": "2024-05-29T22:26:24.063909",
     "status": "completed"
    },
    "tags": []
   },
   "outputs": [
    {
     "data": {
      "image/svg+xml": [
       "<svg class=\"main-svg\" xmlns=\"http://www.w3.org/2000/svg\" xmlns:xlink=\"http://www.w3.org/1999/xlink\" width=\"700\" height=\"500\" style=\"\" viewBox=\"0 0 700 500\"><rect x=\"0\" y=\"0\" width=\"700\" height=\"500\" style=\"fill: rgb(255, 255, 255); fill-opacity: 1;\"/><defs id=\"defs-6cdeb1\"><g class=\"clips\"><clipPath id=\"clip6cdeb1xyplot\" class=\"plotclip\"><rect width=\"525\" height=\"360\"/></clipPath><clipPath class=\"axesclip\" id=\"clip6cdeb1x\"><rect x=\"80\" y=\"0\" width=\"525\" height=\"500\"/></clipPath><clipPath class=\"axesclip\" id=\"clip6cdeb1y\"><rect x=\"0\" y=\"60\" width=\"700\" height=\"360\"/></clipPath><clipPath class=\"axesclip\" id=\"clip6cdeb1xy\"><rect x=\"80\" y=\"60\" width=\"525\" height=\"360\"/></clipPath></g><g class=\"gradients\"/><g class=\"patterns\"/></defs><g class=\"bglayer\"><rect class=\"bg\" x=\"80\" y=\"60\" width=\"525\" height=\"360\" style=\"fill: rgb(229, 236, 246); fill-opacity: 1; stroke-width: 0;\"/></g><g class=\"layer-below\"><g class=\"imagelayer\"/><g class=\"shapelayer\"/></g><g class=\"cartesianlayer\"><g class=\"subplot xy\"><g class=\"layer-subplot\"><g class=\"shapelayer\"/><g class=\"imagelayer\"/></g><g class=\"minor-gridlayer\"><g class=\"x\"/><g class=\"y\"/></g><g class=\"gridlayer\"><g class=\"x\"><path class=\"xgrid crisp\" transform=\"translate(124.03,0)\" d=\"M0,60v360\" style=\"stroke: rgb(255, 255, 255); stroke-opacity: 1; stroke-width: 1px;\"/><path class=\"xgrid crisp\" transform=\"translate(212.09,0)\" d=\"M0,60v360\" style=\"stroke: rgb(255, 255, 255); stroke-opacity: 1; stroke-width: 1px;\"/><path class=\"xgrid crisp\" transform=\"translate(300.28,0)\" d=\"M0,60v360\" style=\"stroke: rgb(255, 255, 255); stroke-opacity: 1; stroke-width: 1px;\"/><path class=\"xgrid crisp\" transform=\"translate(388.34,0)\" d=\"M0,60v360\" style=\"stroke: rgb(255, 255, 255); stroke-opacity: 1; stroke-width: 1px;\"/><path class=\"xgrid crisp\" transform=\"translate(476.52,0)\" d=\"M0,60v360\" style=\"stroke: rgb(255, 255, 255); stroke-opacity: 1; stroke-width: 1px;\"/><path class=\"xgrid crisp\" transform=\"translate(564.5899999999999,0)\" d=\"M0,60v360\" style=\"stroke: rgb(255, 255, 255); stroke-opacity: 1; stroke-width: 1px;\"/></g><g class=\"y\"><path class=\"ygrid crisp\" transform=\"translate(0,404.5)\" d=\"M80,0h525\" style=\"stroke: rgb(255, 255, 255); stroke-opacity: 1; stroke-width: 1px;\"/><path class=\"ygrid crisp\" transform=\"translate(0,341.95)\" d=\"M80,0h525\" style=\"stroke: rgb(255, 255, 255); stroke-opacity: 1; stroke-width: 1px;\"/><path class=\"ygrid crisp\" transform=\"translate(0,279.40999999999997)\" d=\"M80,0h525\" style=\"stroke: rgb(255, 255, 255); stroke-opacity: 1; stroke-width: 1px;\"/><path class=\"ygrid crisp\" transform=\"translate(0,216.86)\" d=\"M80,0h525\" style=\"stroke: rgb(255, 255, 255); stroke-opacity: 1; stroke-width: 1px;\"/><path class=\"ygrid crisp\" transform=\"translate(0,154.31)\" d=\"M80,0h525\" style=\"stroke: rgb(255, 255, 255); stroke-opacity: 1; stroke-width: 1px;\"/><path class=\"ygrid crisp\" transform=\"translate(0,91.76)\" d=\"M80,0h525\" style=\"stroke: rgb(255, 255, 255); stroke-opacity: 1; stroke-width: 1px;\"/></g></g><g class=\"zerolinelayer\"/><path class=\"xlines-below\"/><path class=\"ylines-below\"/><g class=\"overlines-below\"/><g class=\"xaxislayer-below\"/><g class=\"yaxislayer-below\"/><g class=\"overaxes-below\"/><g class=\"plot\" transform=\"translate(80,60)\" clip-path=\"url(#clip6cdeb1xyplot)\"><g class=\"scatterlayer mlayer\"><g class=\"trace scatter trace4ef378\" style=\"stroke-miterlimit: 2; opacity: 1;\"><g class=\"fills\"/><g class=\"errorbars\"/><g class=\"lines\"><path class=\"js-line\" d=\"M0,337L3.74,333.24L7.12,324.49L10.86,326.36L14.48,331.37L21.83,314.48L25.57,314.48L29.31,321.98L32.93,332.62L36.67,342L40.29,333.24L44.03,335.12L47.77,328.24L51.15,318.86L54.89,322.61L58.51,328.86L62.25,313.85L65.87,300.72L69.61,300.72L73.35,308.22L76.96,323.86L80.7,335.75L84.32,319.48L91.8,313.23L95.18,295.71L98.92,305.1L102.54,299.47L106.28,295.71L109.9,282.58L113.64,282.58L117.38,291.96L121,305.72L124.74,315.73L128.35,303.22L132.09,300.09L135.83,294.46L139.33,286.33L143.07,293.84L146.69,292.59L150.43,270.69L154.05,263.19L157.79,255.68L161.53,276.32L168.89,299.47L172.51,285.71L176.25,284.46L179.99,284.46L183.36,259.44L187.1,260.06L190.72,263.81L194.46,255.06L198.08,241.92L201.82,236.92L205.56,258.81L209.18,275.07L212.92,294.46L216.54,281.33L220.28,279.45L224.02,289.46L227.4,260.06L231.14,265.07L234.75,260.69L238.49,241.92L242.11,218.15L245.85,223.78L253.21,263.81L256.95,280.08L260.57,263.81L264.31,255.68L268.05,261.31L271.43,240.05L278.79,238.17L282.53,210.02L286.14,179.37L289.88,190.01L300.98,258.81L304.6,233.17L308.34,229.41L312.08,233.79L315.58,208.77L319.32,211.27L322.94,208.15L326.68,173.12L330.3,148.73L334.04,153.73L341.39,215.65L345.13,237.54L348.75,215.65L352.49,210.02L356.23,218.78L359.61,184.38L363.35,189.38\" style=\"vector-effect: none; fill: none; stroke: rgb(99, 110, 250); stroke-opacity: 1; stroke-width: 2px; opacity: 1;\"/></g><g class=\"points\"/><g class=\"text\"/></g><g class=\"trace scatter trace6348c1\" style=\"stroke-miterlimit: 2; opacity: 1;\"><g class=\"fills\"/><g class=\"errorbars\"/><g class=\"lines\"><path class=\"js-line\" d=\"M366.97,185L370.71,143.1L374.33,116.2L378.07,114.95L381.81,154.36L385.43,190.01L389.17,216.28L392.78,196.89L396.52,194.39L400.26,208.15L403.64,180.63L407.38,189.38L411,180L418.36,99.94L422.1,91.18L425.84,154.36L429.46,182.5L433.2,213.15L436.82,196.26L440.56,181.88L444.3,193.14L447.67,153.1L451.41,159.36L455.03,144.35L458.77,111.82L462.39,64.29L466.13,57.41L469.87,117.45L473.49,152.48L477.23,180.63L480.85,153.73L484.59,146.22L488.33,162.49L491.83,144.97L495.57,118.7L499.18,111.82L502.92,72.42L506.54,18L510.28,28.01L514.02,89.31L517.64,118.7L521.38,163.11L525,136.84\" style=\"vector-effect: none; fill: none; stroke: rgb(239, 85, 59); stroke-opacity: 1; stroke-width: 2px; opacity: 1;\"/></g><g class=\"points\"/><g class=\"text\"/></g></g></g><g class=\"overplot\"/><path class=\"xlines-above crisp\" d=\"M0,0\" style=\"fill: none;\"/><path class=\"ylines-above crisp\" d=\"M0,0\" style=\"fill: none;\"/><g class=\"overlines-above\"/><g class=\"xaxislayer-above\"><g class=\"xtick\"><text text-anchor=\"middle\" x=\"0\" y=\"433\" transform=\"translate(124.03,0)\" style=\"font-family: 'Open Sans', verdana, arial, sans-serif; font-size: 12px; fill: rgb(42, 63, 95); fill-opacity: 1; white-space: pre; opacity: 1;\">1950</text></g><g class=\"xtick\"><text text-anchor=\"middle\" x=\"0\" y=\"433\" style=\"font-family: 'Open Sans', verdana, arial, sans-serif; font-size: 12px; fill: rgb(42, 63, 95); fill-opacity: 1; white-space: pre; opacity: 1;\" transform=\"translate(212.09,0)\">1952</text></g><g class=\"xtick\"><text text-anchor=\"middle\" x=\"0\" y=\"433\" style=\"font-family: 'Open Sans', verdana, arial, sans-serif; font-size: 12px; fill: rgb(42, 63, 95); fill-opacity: 1; white-space: pre; opacity: 1;\" transform=\"translate(300.28,0)\">1954</text></g><g class=\"xtick\"><text text-anchor=\"middle\" x=\"0\" y=\"433\" style=\"font-family: 'Open Sans', verdana, arial, sans-serif; font-size: 12px; fill: rgb(42, 63, 95); fill-opacity: 1; white-space: pre; opacity: 1;\" transform=\"translate(388.34,0)\">1956</text></g><g class=\"xtick\"><text text-anchor=\"middle\" x=\"0\" y=\"433\" style=\"font-family: 'Open Sans', verdana, arial, sans-serif; font-size: 12px; fill: rgb(42, 63, 95); fill-opacity: 1; white-space: pre; opacity: 1;\" transform=\"translate(476.52,0)\">1958</text></g><g class=\"xtick\"><text text-anchor=\"middle\" x=\"0\" y=\"433\" style=\"font-family: 'Open Sans', verdana, arial, sans-serif; font-size: 12px; fill: rgb(42, 63, 95); fill-opacity: 1; white-space: pre; opacity: 1;\" transform=\"translate(564.5899999999999,0)\">1960</text></g></g><g class=\"yaxislayer-above\"><g class=\"ytick\"><text text-anchor=\"end\" x=\"79\" y=\"4.199999999999999\" transform=\"translate(0,404.5)\" style=\"font-family: 'Open Sans', verdana, arial, sans-serif; font-size: 12px; fill: rgb(42, 63, 95); fill-opacity: 1; white-space: pre; opacity: 1;\">100</text></g><g class=\"ytick\"><text text-anchor=\"end\" x=\"79\" y=\"4.199999999999999\" style=\"font-family: 'Open Sans', verdana, arial, sans-serif; font-size: 12px; fill: rgb(42, 63, 95); fill-opacity: 1; white-space: pre; opacity: 1;\" transform=\"translate(0,341.95)\">200</text></g><g class=\"ytick\"><text text-anchor=\"end\" x=\"79\" y=\"4.199999999999999\" style=\"font-family: 'Open Sans', verdana, arial, sans-serif; font-size: 12px; fill: rgb(42, 63, 95); fill-opacity: 1; white-space: pre; opacity: 1;\" transform=\"translate(0,279.40999999999997)\">300</text></g><g class=\"ytick\"><text text-anchor=\"end\" x=\"79\" y=\"4.199999999999999\" style=\"font-family: 'Open Sans', verdana, arial, sans-serif; font-size: 12px; fill: rgb(42, 63, 95); fill-opacity: 1; white-space: pre; opacity: 1;\" transform=\"translate(0,216.86)\">400</text></g><g class=\"ytick\"><text text-anchor=\"end\" x=\"79\" y=\"4.199999999999999\" style=\"font-family: 'Open Sans', verdana, arial, sans-serif; font-size: 12px; fill: rgb(42, 63, 95); fill-opacity: 1; white-space: pre; opacity: 1;\" transform=\"translate(0,154.31)\">500</text></g><g class=\"ytick\"><text text-anchor=\"end\" x=\"79\" y=\"4.199999999999999\" style=\"font-family: 'Open Sans', verdana, arial, sans-serif; font-size: 12px; fill: rgb(42, 63, 95); fill-opacity: 1; white-space: pre; opacity: 1;\" transform=\"translate(0,91.76)\">600</text></g></g><g class=\"overaxes-above\"/></g></g><g class=\"polarlayer\"/><g class=\"smithlayer\"/><g class=\"ternarylayer\"/><g class=\"geolayer\"/><g class=\"funnelarealayer\"/><g class=\"pielayer\"/><g class=\"iciclelayer\"/><g class=\"treemaplayer\"/><g class=\"sunburstlayer\"/><g class=\"glimages\"/><defs id=\"topdefs-6cdeb1\"><g class=\"clips\"/><clipPath id=\"legend6cdeb1\"><rect width=\"73\" height=\"67\" x=\"0\" y=\"0\"/></clipPath></defs><g class=\"layer-above\"><g class=\"imagelayer\"/><g class=\"shapelayer\"/></g><g class=\"infolayer\"><g class=\"legend\" pointer-events=\"all\" transform=\"translate(615.5,60)\"><rect class=\"bg\" shape-rendering=\"crispEdges\" width=\"73\" height=\"67\" x=\"0\" y=\"0\" style=\"stroke: rgb(68, 68, 68); stroke-opacity: 1; fill: rgb(255, 255, 255); fill-opacity: 1; stroke-width: 0px;\"/><g class=\"scrollbox\" transform=\"\" clip-path=\"url(#legend6cdeb1)\"><text class=\"legendtitletext\" text-anchor=\"start\" x=\"2\" y=\"18.2\" style=\"font-family: 'Open Sans', verdana, arial, sans-serif; font-size: 14px; fill: rgb(42, 63, 95); fill-opacity: 1; white-space: pre;\">variable</text><g class=\"groups\" transform=\"\"><g class=\"traces\" transform=\"translate(0,32.7)\" style=\"opacity: 1;\"><text class=\"legendtext\" text-anchor=\"start\" x=\"40\" y=\"4.680000000000001\" style=\"font-family: 'Open Sans', verdana, arial, sans-serif; font-size: 12px; fill: rgb(42, 63, 95); fill-opacity: 1; white-space: pre;\">train</text><g class=\"layers\" style=\"opacity: 1;\"><g class=\"legendfill\"/><g class=\"legendlines\"><path class=\"js-line\" d=\"M5,0h30\" style=\"fill: none; stroke: rgb(99, 110, 250); stroke-opacity: 1; stroke-width: 2px;\"/></g><g class=\"legendsymbols\"><g class=\"legendpoints\"/></g></g><rect class=\"legendtoggle\" x=\"0\" y=\"-9.5\" width=\"67.953125\" height=\"19\" style=\"fill: rgb(0, 0, 0); fill-opacity: 0;\"/></g></g><g class=\"groups\" transform=\"\"><g class=\"traces\" transform=\"translate(0,51.7)\" style=\"opacity: 1;\"><text class=\"legendtext\" text-anchor=\"start\" x=\"40\" y=\"4.680000000000001\" style=\"font-family: 'Open Sans', verdana, arial, sans-serif; font-size: 12px; fill: rgb(42, 63, 95); fill-opacity: 1; white-space: pre;\">test</text><g class=\"layers\" style=\"opacity: 1;\"><g class=\"legendfill\"/><g class=\"legendlines\"><path class=\"js-line\" d=\"M5,0h30\" style=\"fill: none; stroke: rgb(239, 85, 59); stroke-opacity: 1; stroke-width: 2px;\"/></g><g class=\"legendsymbols\"><g class=\"legendpoints\"/></g></g><rect class=\"legendtoggle\" x=\"0\" y=\"-9.5\" width=\"67.953125\" height=\"19\" style=\"fill: rgb(0, 0, 0); fill-opacity: 0;\"/></g></g></g><rect class=\"scrollbar\" rx=\"20\" ry=\"3\" width=\"0\" height=\"0\" x=\"0\" y=\"0\" style=\"fill: rgb(128, 139, 164); fill-opacity: 1;\"/></g><g class=\"g-gtitle\"/><g class=\"g-xtitle\"><text class=\"xtitle\" x=\"342.5\" y=\"460.3\" text-anchor=\"middle\" style=\"font-family: 'Open Sans', verdana, arial, sans-serif; font-size: 14px; fill: rgb(42, 63, 95); opacity: 1; font-weight: normal; white-space: pre;\">Month</text></g><g class=\"g-ytitle\"><text class=\"ytitle\" transform=\"rotate(-90,31.809375000000003,240)\" x=\"31.809375000000003\" y=\"240\" text-anchor=\"middle\" style=\"font-family: 'Open Sans', verdana, arial, sans-serif; font-size: 14px; fill: rgb(42, 63, 95); opacity: 1; font-weight: normal; white-space: pre;\">value</text></g></g></svg>"
      ]
     },
     "metadata": {},
     "output_type": "display_data"
    }
   ],
   "source": [
    "#r\n",
    "pd.options.plotting.backend = \"plotly\"\n",
    "fig = pd.DataFrame({'train': data_train, 'test': data_test}).plot()\n",
    "fig.write_image('src/02_input.png', width=800*1.2, height=450*1.2)\n",
    "fig"
   ]
  },
  {
   "cell_type": "markdown",
   "id": "79646823",
   "metadata": {
    "papermill": {
     "duration": 0.002561,
     "end_time": "2024-05-29T22:26:24.647655",
     "exception": false,
     "start_time": "2024-05-29T22:26:24.645094",
     "status": "completed"
    },
    "tags": []
   },
   "source": [
    "### Evaluate Model on Test Data"
   ]
  },
  {
   "cell_type": "code",
   "execution_count": 6,
   "id": "f0c30e2f",
   "metadata": {
    "execution": {
     "iopub.execute_input": "2024-05-29T22:26:24.651857Z",
     "iopub.status.busy": "2024-05-29T22:26:24.651711Z",
     "iopub.status.idle": "2024-05-29T22:26:24.991299Z",
     "shell.execute_reply": "2024-05-29T22:26:24.990643Z"
    },
    "papermill": {
     "duration": 0.344916,
     "end_time": "2024-05-29T22:26:24.994434",
     "exception": false,
     "start_time": "2024-05-29T22:26:24.649518",
     "status": "completed"
    },
    "tags": []
   },
   "outputs": [
    {
     "name": "stderr",
     "output_type": "stream",
     "text": [
      "/Users/sota/miniconda3/envs/work/lib/python3.12/site-packages/sklearn/metrics/_regression.py:483: FutureWarning:\n",
      "\n",
      "'squared' is deprecated in version 1.4 and will be removed in 1.6. To calculate the root mean squared error, use the function'root_mean_squared_error'.\n",
      "\n"
     ]
    },
    {
     "data": {
      "text/plain": [
       "12.487395495743867"
      ]
     },
     "execution_count": 6,
     "metadata": {},
     "output_type": "execute_result"
    }
   ],
   "source": [
    "model = ARIMA(data_train, order=(0, 1, 2), seasonal_order=(1, 1, 1, 12)) #!\n",
    "model_fit = model.fit()\n",
    "y_pred_test = model_fit.forecast(len(data_test))\n",
    "score_test = mean_squared_error(data_test, y_pred_test, squared=False)\n",
    "score"
   ]
  },
  {
   "cell_type": "markdown",
   "id": "577f99c4",
   "metadata": {
    "papermill": {
     "duration": 0.006611,
     "end_time": "2024-05-29T22:26:25.006283",
     "exception": false,
     "start_time": "2024-05-29T22:26:24.999672",
     "status": "completed"
    },
    "tags": []
   },
   "source": [
    "### Evaluate Model on Train Data"
   ]
  },
  {
   "cell_type": "code",
   "execution_count": 7,
   "id": "e0c232af",
   "metadata": {
    "execution": {
     "iopub.execute_input": "2024-05-29T22:26:25.017442Z",
     "iopub.status.busy": "2024-05-29T22:26:25.015838Z",
     "iopub.status.idle": "2024-05-29T22:26:25.024101Z",
     "shell.execute_reply": "2024-05-29T22:26:25.023204Z"
    },
    "papermill": {
     "duration": 0.014541,
     "end_time": "2024-05-29T22:26:25.027176",
     "exception": false,
     "start_time": "2024-05-29T22:26:25.012635",
     "status": "completed"
    },
    "tags": []
   },
   "outputs": [
    {
     "name": "stderr",
     "output_type": "stream",
     "text": [
      "/Users/sota/miniconda3/envs/work/lib/python3.12/site-packages/sklearn/metrics/_regression.py:483: FutureWarning:\n",
      "\n",
      "'squared' is deprecated in version 1.4 and will be removed in 1.6. To calculate the root mean squared error, use the function'root_mean_squared_error'.\n",
      "\n"
     ]
    },
    {
     "data": {
      "text/plain": [
       "11.37028559033624"
      ]
     },
     "execution_count": 7,
     "metadata": {},
     "output_type": "execute_result"
    }
   ],
   "source": [
    "y_pred_train = model_fit.predict() #!\n",
    "score_train = mean_squared_error(data_train[1:], y_pred_train[1:], squared=False)\n",
    "score_train"
   ]
  },
  {
   "cell_type": "markdown",
   "id": "5bba32b7",
   "metadata": {
    "papermill": {
     "duration": 0.003684,
     "end_time": "2024-05-29T22:26:25.036536",
     "exception": false,
     "start_time": "2024-05-29T22:26:25.032852",
     "status": "completed"
    },
    "tags": []
   },
   "source": [
    "### Visualize Overfitting"
   ]
  },
  {
   "cell_type": "code",
   "execution_count": 8,
   "id": "b17d398d",
   "metadata": {
    "execution": {
     "iopub.execute_input": "2024-05-29T22:26:25.049476Z",
     "iopub.status.busy": "2024-05-29T22:26:25.048042Z",
     "iopub.status.idle": "2024-05-29T22:26:25.057084Z",
     "shell.execute_reply": "2024-05-29T22:26:25.055688Z"
    },
    "papermill": {
     "duration": 0.017556,
     "end_time": "2024-05-29T22:26:25.058971",
     "exception": false,
     "start_time": "2024-05-29T22:26:25.041415",
     "status": "completed"
    },
    "tags": []
   },
   "outputs": [],
   "source": [
    "pd.options.plotting.backend = \"plotly\"\n",
    "\n",
    "data_train = data_train.rename('train')\n",
    "data_test = data_test.rename('test')\n",
    "y_pred_train = y_pred_train.rename('train_forecast_sarima')\n",
    "y_pred_test = y_pred_test.rename('test_forecast_sarima')\n",
    "\n",
    "df_pred = pd.concat([data_train, data_test, y_pred_train, y_pred_test], axis=1)"
   ]
  },
  {
   "cell_type": "code",
   "execution_count": 9,
   "id": "4aa9ad88",
   "metadata": {
    "execution": {
     "iopub.execute_input": "2024-05-29T22:26:25.072518Z",
     "iopub.status.busy": "2024-05-29T22:26:25.072253Z",
     "iopub.status.idle": "2024-05-29T22:26:25.217109Z",
     "shell.execute_reply": "2024-05-29T22:26:25.215492Z"
    },
    "papermill": {
     "duration": 0.155266,
     "end_time": "2024-05-29T22:26:25.219354",
     "exception": false,
     "start_time": "2024-05-29T22:26:25.064088",
     "status": "completed"
    },
    "tags": []
   },
   "outputs": [
    {
     "data": {
      "image/svg+xml": [
       "<svg class=\"main-svg\" xmlns=\"http://www.w3.org/2000/svg\" xmlns:xlink=\"http://www.w3.org/1999/xlink\" width=\"700\" height=\"500\" style=\"\" viewBox=\"0 0 700 500\"><rect x=\"0\" y=\"0\" width=\"700\" height=\"500\" style=\"fill: rgb(255, 255, 255); fill-opacity: 1;\"/><defs id=\"defs-2a8406\"><g class=\"clips\"><clipPath id=\"clip2a8406xyplot\" class=\"plotclip\"><rect width=\"422\" height=\"320\"/></clipPath><clipPath class=\"axesclip\" id=\"clip2a8406x\"><rect x=\"80\" y=\"0\" width=\"422\" height=\"500\"/></clipPath><clipPath class=\"axesclip\" id=\"clip2a8406y\"><rect x=\"0\" y=\"100\" width=\"700\" height=\"320\"/></clipPath><clipPath class=\"axesclip\" id=\"clip2a8406xy\"><rect x=\"80\" y=\"100\" width=\"422\" height=\"320\"/></clipPath></g><g class=\"gradients\"/><g class=\"patterns\"/></defs><g class=\"bglayer\"/><g class=\"layer-below\"><g class=\"imagelayer\"/><g class=\"shapelayer\"/></g><g class=\"cartesianlayer\"><g class=\"subplot xy\"><g class=\"layer-subplot\"><g class=\"shapelayer\"/><g class=\"imagelayer\"/></g><g class=\"minor-gridlayer\"><g class=\"x\"/><g class=\"y\"/></g><g class=\"gridlayer\"><g class=\"x\"><path class=\"xgrid crisp\" transform=\"translate(115.39,0)\" d=\"M0,100v320\" style=\"stroke: rgb(235, 240, 248); stroke-opacity: 1; stroke-width: 1px;\"/><path class=\"xgrid crisp\" transform=\"translate(186.18,0)\" d=\"M0,100v320\" style=\"stroke: rgb(235, 240, 248); stroke-opacity: 1; stroke-width: 1px;\"/><path class=\"xgrid crisp\" transform=\"translate(257.06,0)\" d=\"M0,100v320\" style=\"stroke: rgb(235, 240, 248); stroke-opacity: 1; stroke-width: 1px;\"/><path class=\"xgrid crisp\" transform=\"translate(327.85,0)\" d=\"M0,100v320\" style=\"stroke: rgb(235, 240, 248); stroke-opacity: 1; stroke-width: 1px;\"/><path class=\"xgrid crisp\" transform=\"translate(398.73,0)\" d=\"M0,100v320\" style=\"stroke: rgb(235, 240, 248); stroke-opacity: 1; stroke-width: 1px;\"/><path class=\"xgrid crisp\" transform=\"translate(469.52,0)\" d=\"M0,100v320\" style=\"stroke: rgb(235, 240, 248); stroke-opacity: 1; stroke-width: 1px;\"/></g><g class=\"y\"><path class=\"ygrid crisp\" transform=\"translate(0,357.7)\" d=\"M80,0h422\" style=\"stroke: rgb(235, 240, 248); stroke-opacity: 1; stroke-width: 1px;\"/><path class=\"ygrid crisp\" transform=\"translate(0,311.4)\" d=\"M80,0h422\" style=\"stroke: rgb(235, 240, 248); stroke-opacity: 1; stroke-width: 1px;\"/><path class=\"ygrid crisp\" transform=\"translate(0,265.09000000000003)\" d=\"M80,0h422\" style=\"stroke: rgb(235, 240, 248); stroke-opacity: 1; stroke-width: 1px;\"/><path class=\"ygrid crisp\" transform=\"translate(0,218.79000000000002)\" d=\"M80,0h422\" style=\"stroke: rgb(235, 240, 248); stroke-opacity: 1; stroke-width: 1px;\"/><path class=\"ygrid crisp\" transform=\"translate(0,172.49)\" d=\"M80,0h422\" style=\"stroke: rgb(235, 240, 248); stroke-opacity: 1; stroke-width: 1px;\"/><path class=\"ygrid crisp\" transform=\"translate(0,126.19)\" d=\"M80,0h422\" style=\"stroke: rgb(235, 240, 248); stroke-opacity: 1; stroke-width: 1px;\"/></g></g><g class=\"zerolinelayer\"><path class=\"yzl zl crisp\" transform=\"translate(0,404)\" d=\"M80,0h422\" style=\"stroke: rgb(235, 240, 248); stroke-opacity: 1; stroke-width: 2px;\"/></g><path class=\"xlines-below\"/><path class=\"ylines-below\"/><g class=\"overlines-below\"/><g class=\"xaxislayer-below\"/><g class=\"yaxislayer-below\"/><g class=\"overaxes-below\"/><g class=\"plot\" transform=\"translate(80,100)\" clip-path=\"url(#clip2a8406xyplot)\"><g class=\"scatterlayer mlayer\"><g class=\"trace scatter trace220a25\" style=\"stroke-miterlimit: 2; opacity: 1;\"><g class=\"fills\"/><g class=\"errorbars\"/><g class=\"lines\"><path class=\"js-line\" d=\"M0,252.14L3.01,249.36L5.72,242.88L8.73,244.27L11.64,247.97L17.55,235.47L20.56,235.47L23.56,241.03L26.47,248.9L29.48,255.85L32.39,249.36L35.39,250.75L38.4,245.66L41.11,238.71L44.12,241.49L47.03,246.12L50.03,235.01L52.94,225.29L55.95,225.29L58.96,230.84L61.86,242.42L64.87,251.22L67.78,239.18L73.79,234.55L76.51,221.58L79.51,228.53L82.42,224.36L85.43,221.58L88.34,211.86L91.34,211.86L94.35,218.8L97.26,228.99L100.26,236.4L103.17,227.14L106.18,224.82L109.18,220.66L112,214.64L115,220.19L117.91,219.27L120.92,203.06L123.83,197.5L126.83,191.95L129.84,207.23L135.75,224.36L138.66,214.17L141.67,213.25L144.67,213.25L147.39,194.73L150.4,195.19L153.3,197.97L156.31,191.49L159.22,181.76L162.23,178.06L168.14,206.3L171.15,220.66L174.06,210.93L177.06,209.54L180.07,216.95L182.78,195.19L185.79,198.89L188.7,195.65L191.7,181.76L194.61,164.17L197.62,168.33L200.62,184.08L206.54,210.01L209.45,197.97L212.45,191.95L215.46,196.12L218.18,180.37L221.18,179.45L224.09,178.98L227.1,158.15L230.01,135.46L233.01,143.33L241.93,194.26L244.84,175.28L247.85,172.5L250.85,175.74L253.67,157.22L256.67,159.07L259.58,156.76L262.59,130.83L265.5,112.77L268.5,116.48L274.42,162.32L277.42,178.52L280.33,162.32L283.34,158.15L286.34,164.63L289.06,139.16L292.06,142.87\" style=\"vector-effect: none; fill: none; stroke: rgb(0, 128, 0); stroke-opacity: 1; stroke-width: 2px; opacity: 1;\"/></g><g class=\"points\"/><g class=\"text\"/></g><g class=\"trace scatter trace15742e\" style=\"stroke-miterlimit: 2; opacity: 1;\"><g class=\"fills\"/><g class=\"errorbars\"/><g class=\"lines\"><path class=\"js-line\" d=\"M0,304L3.01,252.14L5.72,249.36L8.73,242.88L11.64,244.27L14.64,247.97L17.55,241.49L20.56,235.47L23.56,235.47L26.47,241.03L29.48,248.9L32.39,255.85L35.39,223.43L38.4,247.97L41.11,239.73L44.12,240.4L47.03,244.93L50.03,239.31L52.94,230.08L55.95,226.6L58.96,231.27L64.87,248.45L67.78,243.94L70.79,241.62L73.79,233.52L76.51,227.52L79.51,225.58L82.42,232.31L85.43,216.24L88.34,211.41L91.34,211.65L94.35,217.35L97.26,229.21L100.26,237.42L103.17,225.81L106.18,225.29L109.18,222L112,209.32L115,219.36L117.91,217.58L120.92,214.24L123.83,196.17L126.83,197.36L129.84,199.98L132.75,215.96L135.75,223.25L138.66,214.19L144.67,209.12L147.39,204.62L150.4,203.09L153.3,195.73L156.31,184.23L159.22,183.13L162.23,177.6L165.23,191.49L171.15,213.7L174.06,208.81L177.06,209.04L180.07,208.48L182.78,198.93L185.79,197.53L188.7,200.63L191.7,188.27L197.62,162.88L200.62,183.19L203.53,194.99L206.54,210.37L209.45,200.22L212.45,197.28L215.46,199.24L218.18,175.85L221.18,182.24L224.09,178.15L227.1,166.57L230.01,144.35L233.01,140.43L236.02,158.59L241.93,188.56L244.84,181.16L247.85,171.65L250.85,177.3L253.67,159.09L256.67,157.81L259.58,157.68L262.59,137.55L265.5,110.91L268.5,119.56L271.51,133.34L274.42,154.88L277.42,176.31L280.33,160.28L283.34,158.25L286.34,161.55L289.06,145.95L292.06,142.09\" style=\"vector-effect: none; fill: none; stroke: rgb(255, 165, 0); stroke-opacity: 1; stroke-width: 2px; opacity: 1;\"/></g><g class=\"points\"/><g class=\"text\"/></g><g class=\"trace scatter trace1e75b2\" style=\"stroke-miterlimit: 2; opacity: 1;\"><g class=\"fills\"/><g class=\"errorbars\"/><g class=\"lines\"><path class=\"js-line\" d=\"M294.97,139.63L297.98,108.6L300.89,88.69L303.89,87.77L306.9,116.94L309.81,143.33L312.82,162.78L315.72,148.42L318.73,146.57L321.74,156.76L324.45,136.39L327.46,142.87L330.37,135.92L336.28,76.66L339.29,70.17L342.29,116.94L345.2,137.77L348.21,160.46L351.12,147.96L354.12,137.31L357.13,145.65L359.84,116.01L362.85,120.64L365.76,109.53L368.77,85.45L371.67,50.26L374.68,45.17L377.69,89.62L380.6,115.55L383.6,136.39L386.51,116.48L389.52,110.92L392.52,122.96L395.33,109.99L398.34,90.55L401.25,85.45L404.26,56.28L407.16,16L410.17,23.41L413.18,68.78L416.09,90.55L419.09,123.42L422,103.97\" style=\"vector-effect: none; fill: none; stroke: rgb(0, 128, 0); stroke-opacity: 1; stroke-width: 2px; opacity: 1;\"/></g><g class=\"points\"/><g class=\"text\"/></g><g class=\"trace scatter traceec6e10\" style=\"stroke-miterlimit: 2; opacity: 1;\"><g class=\"fills\"/><g class=\"errorbars\"/><g class=\"lines\"><path class=\"js-line\" d=\"M294.97,140.89L300.89,96.9L303.89,101.51L312.82,161.28L315.72,144.43L318.73,140.58L321.74,146.37L324.45,122.35L327.46,125.69L330.37,123.62L333.37,98.46L336.28,79.63L339.29,84.02L345.2,127.97L348.21,144.35L351.12,127.66L354.12,123.74L357.13,129.7L359.84,105.32L362.85,108.75L365.76,106.7L371.67,62.71L374.68,67.16L383.6,127.35L386.51,110.62L389.52,106.71L392.52,112.63L395.33,88.34L398.34,91.75L401.25,89.7L404.26,64.58L407.16,45.71L410.17,50.14L419.09,110.36L422,93.64\" style=\"vector-effect: none; fill: none; stroke: rgb(255, 165, 0); stroke-opacity: 1; stroke-width: 2px; opacity: 1;\"/></g><g class=\"points\"/><g class=\"text\"/></g></g></g><g class=\"overplot\"/><path class=\"xlines-above crisp\" d=\"M0,0\" style=\"fill: none;\"/><path class=\"ylines-above crisp\" d=\"M0,0\" style=\"fill: none;\"/><g class=\"overlines-above\"/><g class=\"xaxislayer-above\"><g class=\"xtick\"><text text-anchor=\"middle\" x=\"0\" y=\"433\" transform=\"translate(115.39,0)\" style=\"font-family: 'Open Sans', verdana, arial, sans-serif; font-size: 12px; fill: rgb(42, 63, 95); fill-opacity: 1; white-space: pre; opacity: 1;\">1950</text></g><g class=\"xtick\"><text text-anchor=\"middle\" x=\"0\" y=\"433\" style=\"font-family: 'Open Sans', verdana, arial, sans-serif; font-size: 12px; fill: rgb(42, 63, 95); fill-opacity: 1; white-space: pre; opacity: 1;\" transform=\"translate(186.18,0)\">1952</text></g><g class=\"xtick\"><text text-anchor=\"middle\" x=\"0\" y=\"433\" style=\"font-family: 'Open Sans', verdana, arial, sans-serif; font-size: 12px; fill: rgb(42, 63, 95); fill-opacity: 1; white-space: pre; opacity: 1;\" transform=\"translate(257.06,0)\">1954</text></g><g class=\"xtick\"><text text-anchor=\"middle\" x=\"0\" y=\"433\" style=\"font-family: 'Open Sans', verdana, arial, sans-serif; font-size: 12px; fill: rgb(42, 63, 95); fill-opacity: 1; white-space: pre; opacity: 1;\" transform=\"translate(327.85,0)\">1956</text></g><g class=\"xtick\"><text text-anchor=\"middle\" x=\"0\" y=\"433\" style=\"font-family: 'Open Sans', verdana, arial, sans-serif; font-size: 12px; fill: rgb(42, 63, 95); fill-opacity: 1; white-space: pre; opacity: 1;\" transform=\"translate(398.73,0)\">1958</text></g><g class=\"xtick\"><text text-anchor=\"middle\" x=\"0\" y=\"433\" style=\"font-family: 'Open Sans', verdana, arial, sans-serif; font-size: 12px; fill: rgb(42, 63, 95); fill-opacity: 1; white-space: pre; opacity: 1;\" transform=\"translate(469.52,0)\">1960</text></g></g><g class=\"yaxislayer-above\"><g class=\"ytick\"><text text-anchor=\"end\" x=\"79\" y=\"4.199999999999999\" transform=\"translate(0,404)\" style=\"font-family: 'Open Sans', verdana, arial, sans-serif; font-size: 12px; fill: rgb(42, 63, 95); fill-opacity: 1; white-space: pre; opacity: 1;\">0</text></g><g class=\"ytick\"><text text-anchor=\"end\" x=\"79\" y=\"4.199999999999999\" style=\"font-family: 'Open Sans', verdana, arial, sans-serif; font-size: 12px; fill: rgb(42, 63, 95); fill-opacity: 1; white-space: pre; opacity: 1;\" transform=\"translate(0,357.7)\">100</text></g><g class=\"ytick\"><text text-anchor=\"end\" x=\"79\" y=\"4.199999999999999\" style=\"font-family: 'Open Sans', verdana, arial, sans-serif; font-size: 12px; fill: rgb(42, 63, 95); fill-opacity: 1; white-space: pre; opacity: 1;\" transform=\"translate(0,311.4)\">200</text></g><g class=\"ytick\"><text text-anchor=\"end\" x=\"79\" y=\"4.199999999999999\" style=\"font-family: 'Open Sans', verdana, arial, sans-serif; font-size: 12px; fill: rgb(42, 63, 95); fill-opacity: 1; white-space: pre; opacity: 1;\" transform=\"translate(0,265.09000000000003)\">300</text></g><g class=\"ytick\"><text text-anchor=\"end\" x=\"79\" y=\"4.199999999999999\" style=\"font-family: 'Open Sans', verdana, arial, sans-serif; font-size: 12px; fill: rgb(42, 63, 95); fill-opacity: 1; white-space: pre; opacity: 1;\" transform=\"translate(0,218.79000000000002)\">400</text></g><g class=\"ytick\"><text text-anchor=\"end\" x=\"79\" y=\"4.199999999999999\" style=\"font-family: 'Open Sans', verdana, arial, sans-serif; font-size: 12px; fill: rgb(42, 63, 95); fill-opacity: 1; white-space: pre; opacity: 1;\" transform=\"translate(0,172.49)\">500</text></g><g class=\"ytick\"><text text-anchor=\"end\" x=\"79\" y=\"4.199999999999999\" style=\"font-family: 'Open Sans', verdana, arial, sans-serif; font-size: 12px; fill: rgb(42, 63, 95); fill-opacity: 1; white-space: pre; opacity: 1;\" transform=\"translate(0,126.19)\">600</text></g></g><g class=\"overaxes-above\"/></g></g><g class=\"polarlayer\"/><g class=\"smithlayer\"/><g class=\"ternarylayer\"/><g class=\"geolayer\"/><g class=\"funnelarealayer\"/><g class=\"pielayer\"/><g class=\"iciclelayer\"/><g class=\"treemaplayer\"/><g class=\"sunburstlayer\"/><g class=\"glimages\"/><defs id=\"topdefs-2a8406\"><g class=\"clips\"/><clipPath id=\"legend2a8406\"><rect width=\"178\" height=\"86\" x=\"0\" y=\"0\"/></clipPath></defs><g class=\"layer-above\"><g class=\"imagelayer\"/><g class=\"shapelayer\"><g class=\"shape-group\" data-index=\"0\" clip-path=\"url(#clip2a8406x)\"><path data-index=\"0\" fill-rule=\"evenodd\" d=\"M80,420H372.06V100H80Z\" style=\"opacity: 0.2; stroke: rgb(0, 0, 0); stroke-opacity: 0; fill: rgb(0, 0, 255); fill-opacity: 1; stroke-width: 0px;\"/></g><g class=\"shape-group\" data-index=\"1\" clip-path=\"url(#clip2a8406x)\"><path data-index=\"1\" fill-rule=\"evenodd\" d=\"M374.97,420H502V100H374.97Z\" style=\"opacity: 0.2; stroke: rgb(0, 0, 0); stroke-opacity: 0; fill: rgb(255, 165, 0); fill-opacity: 1; stroke-width: 0px;\"/></g></g></g><g class=\"infolayer\"><g class=\"legend\" pointer-events=\"all\" transform=\"translate(510.44,100)\"><rect class=\"bg\" shape-rendering=\"crispEdges\" width=\"178\" height=\"86\" x=\"0\" y=\"0\" style=\"stroke: rgb(68, 68, 68); stroke-opacity: 1; fill: rgb(255, 255, 255); fill-opacity: 1; stroke-width: 0px;\"/><g class=\"scrollbox\" transform=\"\" clip-path=\"url(#legend2a8406)\"><g class=\"groups\"><g class=\"traces\" transform=\"translate(0,14.5)\" style=\"opacity: 1;\"><text class=\"legendtext\" text-anchor=\"start\" x=\"40\" y=\"4.680000000000001\" style=\"font-family: 'Open Sans', verdana, arial, sans-serif; font-size: 12px; fill: rgb(42, 63, 95); fill-opacity: 1; white-space: pre;\">train</text><g class=\"layers\" style=\"opacity: 1;\"><g class=\"legendfill\"/><g class=\"legendlines\"><path class=\"js-line\" d=\"M5,0h30\" style=\"fill: none; stroke: rgb(0, 128, 0); stroke-opacity: 1; stroke-width: 2px;\"/></g><g class=\"legendsymbols\"><g class=\"legendpoints\"/></g></g><rect class=\"legendtoggle\" x=\"0\" y=\"-9.5\" width=\"172.171875\" height=\"19\" style=\"fill: rgb(0, 0, 0); fill-opacity: 0;\"/></g><g class=\"traces\" transform=\"translate(0,33.5)\" style=\"opacity: 1;\"><text class=\"legendtext\" text-anchor=\"start\" x=\"40\" y=\"4.680000000000001\" style=\"font-family: 'Open Sans', verdana, arial, sans-serif; font-size: 12px; fill: rgb(42, 63, 95); fill-opacity: 1; white-space: pre;\">train_forecast_sarima</text><g class=\"layers\" style=\"opacity: 1;\"><g class=\"legendfill\"/><g class=\"legendlines\"><path class=\"js-line\" d=\"M5,0h30\" style=\"fill: none; stroke: rgb(255, 165, 0); stroke-opacity: 1; stroke-width: 2px;\"/></g><g class=\"legendsymbols\"><g class=\"legendpoints\"/></g></g><rect class=\"legendtoggle\" x=\"0\" y=\"-9.5\" width=\"172.171875\" height=\"19\" style=\"fill: rgb(0, 0, 0); fill-opacity: 0;\"/></g><g class=\"traces\" transform=\"translate(0,52.5)\" style=\"opacity: 1;\"><text class=\"legendtext\" text-anchor=\"start\" x=\"40\" y=\"4.680000000000001\" style=\"font-family: 'Open Sans', verdana, arial, sans-serif; font-size: 12px; fill: rgb(42, 63, 95); fill-opacity: 1; white-space: pre;\">test</text><g class=\"layers\" style=\"opacity: 1;\"><g class=\"legendfill\"/><g class=\"legendlines\"><path class=\"js-line\" d=\"M5,0h30\" style=\"fill: none; stroke: rgb(0, 128, 0); stroke-opacity: 1; stroke-width: 2px;\"/></g><g class=\"legendsymbols\"><g class=\"legendpoints\"/></g></g><rect class=\"legendtoggle\" x=\"0\" y=\"-9.5\" width=\"172.171875\" height=\"19\" style=\"fill: rgb(0, 0, 0); fill-opacity: 0;\"/></g><g class=\"traces\" transform=\"translate(0,71.5)\" style=\"opacity: 1;\"><text class=\"legendtext\" text-anchor=\"start\" x=\"40\" y=\"4.680000000000001\" style=\"font-family: 'Open Sans', verdana, arial, sans-serif; font-size: 12px; fill: rgb(42, 63, 95); fill-opacity: 1; white-space: pre;\">test_forecast_sarima</text><g class=\"layers\" style=\"opacity: 1;\"><g class=\"legendfill\"/><g class=\"legendlines\"><path class=\"js-line\" d=\"M5,0h30\" style=\"fill: none; stroke: rgb(255, 165, 0); stroke-opacity: 1; stroke-width: 2px;\"/></g><g class=\"legendsymbols\"><g class=\"legendpoints\"/></g></g><rect class=\"legendtoggle\" x=\"0\" y=\"-9.5\" width=\"172.171875\" height=\"19\" style=\"fill: rgb(0, 0, 0); fill-opacity: 0;\"/></g></g></g><rect class=\"scrollbar\" rx=\"20\" ry=\"3\" width=\"0\" height=\"0\" x=\"0\" y=\"0\" style=\"fill: rgb(128, 139, 164); fill-opacity: 1;\"/></g><g class=\"g-gtitle\"/><g class=\"g-xtitle\"/><g class=\"g-ytitle\"/><g class=\"annotation\" data-index=\"0\" style=\"opacity: 1;\"><g class=\"annotation-text-g\" transform=\"rotate(0,97.5,109.5)\"><g class=\"cursor-pointer\" transform=\"translate(80,100)\"><rect class=\"bg\" x=\"0.5\" y=\"0.5\" width=\"34\" height=\"18\" style=\"stroke-width: 1px; stroke: rgb(0, 0, 0); stroke-opacity: 0; fill: rgb(0, 0, 0); fill-opacity: 0;\"/><text class=\"annotation-text\" text-anchor=\"middle\" x=\"17.3125\" y=\"14\" style=\"font-family: 'Open Sans', verdana, arial, sans-serif; font-size: 12px; fill: rgb(42, 63, 95); fill-opacity: 1; white-space: pre;\">Train</text></g></g></g><g class=\"annotation\" data-index=\"1\" style=\"opacity: 1;\"><g class=\"annotation-text-g\" transform=\"rotate(0,389.97,109.5)\"><g class=\"cursor-pointer\" transform=\"translate(375,100)\"><rect class=\"bg\" x=\"0.5\" y=\"0.5\" width=\"29\" height=\"18\" style=\"stroke-width: 1px; stroke: rgb(0, 0, 0); stroke-opacity: 0; fill: rgb(0, 0, 0); fill-opacity: 0;\"/><text class=\"annotation-text\" text-anchor=\"middle\" x=\"14.765625\" y=\"14\" style=\"font-family: 'Open Sans', verdana, arial, sans-serif; font-size: 12px; fill: rgb(42, 63, 95); fill-opacity: 1; white-space: pre;\">Test</text></g></g></g></g></svg>"
      ]
     },
     "metadata": {},
     "output_type": "display_data"
    }
   ],
   "source": [
    "#r\n",
    "\n",
    "import plotly.graph_objs as go\n",
    "\n",
    "fig = go.Figure()\n",
    "fig.add_trace(go.Scatter(x=data_train.index, y=data_train, name='train', marker=dict(color='green')))\n",
    "fig.add_trace(go.Scatter(x=y_pred_train.index, y=y_pred_train, name='train_forecast_sarima', marker=dict(color='orange')))\n",
    "fig.add_trace(go.Scatter(x=data_test.index, y=data_test, name='test', marker=dict(color='green')))\n",
    "fig.add_trace(go.Scatter(x=y_pred_test.index, y=y_pred_test, name='test_forecast_sarima', marker=dict(color='orange')))\n",
    "\n",
    "fig.add_vrect(\n",
    "    x0=data_train.index.min(), x1=data_train.index.max(),\n",
    "    line_width=0, fillcolor='blue', opacity=0.2,\n",
    "    annotation_text='Train', annotation_position=\"top left\")\n",
    "\n",
    "fig.add_vrect(\n",
    "    x0=data_test.index.min(), x1=data_test.index.max(),\n",
    "    line_width=0, fillcolor='orange', opacity=0.2,\n",
    "    annotation_text='Test', annotation_position=\"top left\")\n",
    "\n",
    "fig.update_layout(template=\"plotly_white\")\n",
    "fig.write_image('src/02_output_1.png', width=800*1.2, height=450*1.2)\n",
    "fig"
   ]
  },
  {
   "cell_type": "markdown",
   "id": "bb530a03",
   "metadata": {
    "papermill": {
     "duration": 0.006884,
     "end_time": "2024-05-29T22:26:25.231855",
     "exception": false,
     "start_time": "2024-05-29T22:26:25.224971",
     "status": "completed"
    },
    "tags": []
   },
   "source": [
    "## [ ] Model Comparison: SARIMA vs Exponential Smoothing"
   ]
  },
  {
   "cell_type": "markdown",
   "id": "9479793b",
   "metadata": {
    "papermill": {
     "duration": 0.002679,
     "end_time": "2024-05-29T22:26:25.239554",
     "exception": false,
     "start_time": "2024-05-29T22:26:25.236875",
     "status": "completed"
    },
    "tags": []
   },
   "source": [
    "### Fit the Model"
   ]
  },
  {
   "cell_type": "code",
   "execution_count": 10,
   "id": "996dd2b2",
   "metadata": {
    "execution": {
     "iopub.execute_input": "2024-05-29T22:26:25.244621Z",
     "iopub.status.busy": "2024-05-29T22:26:25.244498Z",
     "iopub.status.idle": "2024-05-29T22:26:25.287524Z",
     "shell.execute_reply": "2024-05-29T22:26:25.287261Z"
    },
    "papermill": {
     "duration": 0.04637,
     "end_time": "2024-05-29T22:26:25.288424",
     "exception": false,
     "start_time": "2024-05-29T22:26:25.242054",
     "status": "completed"
    },
    "tags": []
   },
   "outputs": [],
   "source": [
    "from statsmodels.tsa.holtwinters import ExponentialSmoothing\n",
    "\n",
    "model = ExponentialSmoothing(data_train, trend=\"add\", seasonal=\"add\", seasonal_periods=12)\n",
    "model_fit = model.fit()"
   ]
  },
  {
   "cell_type": "markdown",
   "id": "6a0171f8",
   "metadata": {
    "papermill": {
     "duration": 0.001965,
     "end_time": "2024-05-29T22:26:25.294417",
     "exception": false,
     "start_time": "2024-05-29T22:26:25.292452",
     "status": "completed"
    },
    "tags": []
   },
   "source": [
    "### Forecast: Calculate Predictions"
   ]
  },
  {
   "cell_type": "code",
   "execution_count": 11,
   "id": "0da38cf0",
   "metadata": {
    "execution": {
     "iopub.execute_input": "2024-05-29T22:26:25.301027Z",
     "iopub.status.busy": "2024-05-29T22:26:25.300910Z",
     "iopub.status.idle": "2024-05-29T22:26:25.307527Z",
     "shell.execute_reply": "2024-05-29T22:26:25.307300Z"
    },
    "papermill": {
     "duration": 0.010109,
     "end_time": "2024-05-29T22:26:25.308391",
     "exception": false,
     "start_time": "2024-05-29T22:26:25.298282",
     "status": "completed"
    },
    "tags": []
   },
   "outputs": [
    {
     "data": {
      "text/html": [
       "<div>\n",
       "<style scoped>\n",
       "    .dataframe tbody tr th:only-of-type {\n",
       "        vertical-align: middle;\n",
       "    }\n",
       "\n",
       "    .dataframe tbody tr th {\n",
       "        vertical-align: top;\n",
       "    }\n",
       "\n",
       "    .dataframe thead th {\n",
       "        text-align: right;\n",
       "    }\n",
       "</style>\n",
       "<table border=\"1\" class=\"dataframe\">\n",
       "  <thead>\n",
       "    <tr style=\"text-align: right;\">\n",
       "      <th></th>\n",
       "      <th>train</th>\n",
       "      <th>test</th>\n",
       "      <th>train_forecast_sarima</th>\n",
       "      <th>test_forecast_sarima</th>\n",
       "      <th>test_forecast_exponential</th>\n",
       "    </tr>\n",
       "  </thead>\n",
       "  <tbody>\n",
       "    <tr>\n",
       "      <th>1949-01-01</th>\n",
       "      <td>112.0</td>\n",
       "      <td>NaN</td>\n",
       "      <td>0.00000</td>\n",
       "      <td>NaN</td>\n",
       "      <td>NaN</td>\n",
       "    </tr>\n",
       "    <tr>\n",
       "      <th>1949-02-01</th>\n",
       "      <td>118.0</td>\n",
       "      <td>NaN</td>\n",
       "      <td>111.99867</td>\n",
       "      <td>NaN</td>\n",
       "      <td>NaN</td>\n",
       "    </tr>\n",
       "    <tr>\n",
       "      <th>...</th>\n",
       "      <td>...</td>\n",
       "      <td>...</td>\n",
       "      <td>...</td>\n",
       "      <td>...</td>\n",
       "      <td>...</td>\n",
       "    </tr>\n",
       "    <tr>\n",
       "      <th>1960-11-01</th>\n",
       "      <td>NaN</td>\n",
       "      <td>390.0</td>\n",
       "      <td>NaN</td>\n",
       "      <td>418.207799</td>\n",
       "      <td>379.605076</td>\n",
       "    </tr>\n",
       "    <tr>\n",
       "      <th>1960-12-01</th>\n",
       "      <td>NaN</td>\n",
       "      <td>432.0</td>\n",
       "      <td>NaN</td>\n",
       "      <td>454.311865</td>\n",
       "      <td>417.035511</td>\n",
       "    </tr>\n",
       "  </tbody>\n",
       "</table>\n",
       "<p>144 rows × 5 columns</p>\n",
       "</div>"
      ],
      "text/plain": [
       "            train   test  train_forecast_sarima  test_forecast_sarima  \\\n",
       "1949-01-01  112.0    NaN                0.00000                   NaN   \n",
       "1949-02-01  118.0    NaN              111.99867                   NaN   \n",
       "...           ...    ...                    ...                   ...   \n",
       "1960-11-01    NaN  390.0                    NaN            418.207799   \n",
       "1960-12-01    NaN  432.0                    NaN            454.311865   \n",
       "\n",
       "            test_forecast_exponential  \n",
       "1949-01-01                        NaN  \n",
       "1949-02-01                        NaN  \n",
       "...                               ...  \n",
       "1960-11-01                 379.605076  \n",
       "1960-12-01                 417.035511  \n",
       "\n",
       "[144 rows x 5 columns]"
      ]
     },
     "execution_count": 11,
     "metadata": {},
     "output_type": "execute_result"
    }
   ],
   "source": [
    "data_forecast = model_fit.forecast(len(data_test))\n",
    "\n",
    "df_pred['test_forecast_exponential'] = data_forecast\n",
    "df_pred"
   ]
  },
  {
   "cell_type": "code",
   "execution_count": 12,
   "id": "5bfad67d",
   "metadata": {
    "execution": {
     "iopub.execute_input": "2024-05-29T22:26:25.313212Z",
     "iopub.status.busy": "2024-05-29T22:26:25.313027Z",
     "iopub.status.idle": "2024-05-29T22:26:25.314620Z",
     "shell.execute_reply": "2024-05-29T22:26:25.314432Z"
    },
    "papermill": {
     "duration": 0.004695,
     "end_time": "2024-05-29T22:26:25.315357",
     "exception": false,
     "start_time": "2024-05-29T22:26:25.310662",
     "status": "completed"
    },
    "tags": []
   },
   "outputs": [],
   "source": [
    "import plotly.graph_objects as go"
   ]
  },
  {
   "cell_type": "code",
   "execution_count": 13,
   "id": "f4b96372",
   "metadata": {
    "execution": {
     "iopub.execute_input": "2024-05-29T22:26:25.319669Z",
     "iopub.status.busy": "2024-05-29T22:26:25.319583Z",
     "iopub.status.idle": "2024-05-29T22:26:25.323215Z",
     "shell.execute_reply": "2024-05-29T22:26:25.322972Z"
    },
    "papermill": {
     "duration": 0.006507,
     "end_time": "2024-05-29T22:26:25.323936",
     "exception": false,
     "start_time": "2024-05-29T22:26:25.317429",
     "status": "completed"
    },
    "tags": []
   },
   "outputs": [
    {
     "data": {
      "text/html": [
       "<div>\n",
       "<style scoped>\n",
       "    .dataframe tbody tr th:only-of-type {\n",
       "        vertical-align: middle;\n",
       "    }\n",
       "\n",
       "    .dataframe tbody tr th {\n",
       "        vertical-align: top;\n",
       "    }\n",
       "\n",
       "    .dataframe thead th {\n",
       "        text-align: right;\n",
       "    }\n",
       "</style>\n",
       "<table border=\"1\" class=\"dataframe\">\n",
       "  <thead>\n",
       "    <tr style=\"text-align: right;\">\n",
       "      <th></th>\n",
       "      <th>test</th>\n",
       "      <th>test_forecast_sarima</th>\n",
       "      <th>test_forecast_exponential</th>\n",
       "    </tr>\n",
       "  </thead>\n",
       "  <tbody>\n",
       "    <tr>\n",
       "      <th>1957-05-01</th>\n",
       "      <td>355.0</td>\n",
       "      <td>352.272795</td>\n",
       "      <td>351.239543</td>\n",
       "    </tr>\n",
       "    <tr>\n",
       "      <th>1957-06-01</th>\n",
       "      <td>422.0</td>\n",
       "      <td>406.086678</td>\n",
       "      <td>403.308153</td>\n",
       "    </tr>\n",
       "    <tr>\n",
       "      <th>...</th>\n",
       "      <td>...</td>\n",
       "      <td>...</td>\n",
       "      <td>...</td>\n",
       "    </tr>\n",
       "    <tr>\n",
       "      <th>1960-11-01</th>\n",
       "      <td>390.0</td>\n",
       "      <td>418.207799</td>\n",
       "      <td>379.605076</td>\n",
       "    </tr>\n",
       "    <tr>\n",
       "      <th>1960-12-01</th>\n",
       "      <td>432.0</td>\n",
       "      <td>454.311865</td>\n",
       "      <td>417.035511</td>\n",
       "    </tr>\n",
       "  </tbody>\n",
       "</table>\n",
       "<p>44 rows × 3 columns</p>\n",
       "</div>"
      ],
      "text/plain": [
       "             test  test_forecast_sarima  test_forecast_exponential\n",
       "1957-05-01  355.0            352.272795                 351.239543\n",
       "1957-06-01  422.0            406.086678                 403.308153\n",
       "...           ...                   ...                        ...\n",
       "1960-11-01  390.0            418.207799                 379.605076\n",
       "1960-12-01  432.0            454.311865                 417.035511\n",
       "\n",
       "[44 rows x 3 columns]"
      ]
     },
     "execution_count": 13,
     "metadata": {},
     "output_type": "execute_result"
    }
   ],
   "source": [
    "df_pred_test = df_pred.filter(like='test').dropna()\n",
    "df_pred_test"
   ]
  },
  {
   "cell_type": "code",
   "execution_count": 14,
   "id": "a839ce12",
   "metadata": {
    "execution": {
     "iopub.execute_input": "2024-05-29T22:26:25.328928Z",
     "iopub.status.busy": "2024-05-29T22:26:25.328820Z",
     "iopub.status.idle": "2024-05-29T22:26:25.362489Z",
     "shell.execute_reply": "2024-05-29T22:26:25.362164Z"
    },
    "papermill": {
     "duration": 0.037066,
     "end_time": "2024-05-29T22:26:25.363359",
     "exception": false,
     "start_time": "2024-05-29T22:26:25.326293",
     "status": "completed"
    },
    "tags": []
   },
   "outputs": [
    {
     "data": {
      "image/svg+xml": [
       "<svg class=\"main-svg\" xmlns=\"http://www.w3.org/2000/svg\" xmlns:xlink=\"http://www.w3.org/1999/xlink\" width=\"700\" height=\"500\" style=\"\" viewBox=\"0 0 700 500\"><rect x=\"0\" y=\"0\" width=\"700\" height=\"500\" style=\"fill: rgb(255, 255, 255); fill-opacity: 1;\"/><defs id=\"defs-c4a7c3\"><g class=\"clips\"><clipPath id=\"clipc4a7c3xyplot\" class=\"plotclip\"><rect width=\"398\" height=\"360\"/></clipPath><clipPath class=\"axesclip\" id=\"clipc4a7c3x\"><rect x=\"80\" y=\"0\" width=\"398\" height=\"500\"/></clipPath><clipPath class=\"axesclip\" id=\"clipc4a7c3y\"><rect x=\"0\" y=\"60\" width=\"700\" height=\"360\"/></clipPath><clipPath class=\"axesclip\" id=\"clipc4a7c3xy\"><rect x=\"80\" y=\"60\" width=\"398\" height=\"360\"/></clipPath></g><g class=\"gradients\"/><g class=\"patterns\"/></defs><g class=\"bglayer\"><rect class=\"bg\" x=\"80\" y=\"60\" width=\"398\" height=\"360\" style=\"fill: rgb(229, 236, 246); fill-opacity: 1; stroke-width: 0;\"/></g><g class=\"layer-below\"><g class=\"imagelayer\"/><g class=\"shapelayer\"/></g><g class=\"cartesianlayer\"><g class=\"subplot xy\"><g class=\"layer-subplot\"><g class=\"shapelayer\"/><g class=\"imagelayer\"/></g><g class=\"minor-gridlayer\"><g class=\"x\"/><g class=\"y\"/></g><g class=\"gridlayer\"><g class=\"x\"><path class=\"xgrid crisp\" transform=\"translate(113.38,0)\" d=\"M0,60v360\" style=\"stroke: rgb(255, 255, 255); stroke-opacity: 1; stroke-width: 1px;\"/><path class=\"xgrid crisp\" transform=\"translate(180.14,0)\" d=\"M0,60v360\" style=\"stroke: rgb(255, 255, 255); stroke-opacity: 1; stroke-width: 1px;\"/><path class=\"xgrid crisp\" transform=\"translate(246.99,0)\" d=\"M0,60v360\" style=\"stroke: rgb(255, 255, 255); stroke-opacity: 1; stroke-width: 1px;\"/><path class=\"xgrid crisp\" transform=\"translate(313.75,0)\" d=\"M0,60v360\" style=\"stroke: rgb(255, 255, 255); stroke-opacity: 1; stroke-width: 1px;\"/><path class=\"xgrid crisp\" transform=\"translate(380.6,0)\" d=\"M0,60v360\" style=\"stroke: rgb(255, 255, 255); stroke-opacity: 1; stroke-width: 1px;\"/><path class=\"xgrid crisp\" transform=\"translate(447.36,0)\" d=\"M0,60v360\" style=\"stroke: rgb(255, 255, 255); stroke-opacity: 1; stroke-width: 1px;\"/></g><g class=\"y\"><path class=\"ygrid crisp\" transform=\"translate(0,404.5)\" d=\"M80,0h398\" style=\"stroke: rgb(255, 255, 255); stroke-opacity: 1; stroke-width: 1px;\"/><path class=\"ygrid crisp\" transform=\"translate(0,341.95)\" d=\"M80,0h398\" style=\"stroke: rgb(255, 255, 255); stroke-opacity: 1; stroke-width: 1px;\"/><path class=\"ygrid crisp\" transform=\"translate(0,279.40999999999997)\" d=\"M80,0h398\" style=\"stroke: rgb(255, 255, 255); stroke-opacity: 1; stroke-width: 1px;\"/><path class=\"ygrid crisp\" transform=\"translate(0,216.86)\" d=\"M80,0h398\" style=\"stroke: rgb(255, 255, 255); stroke-opacity: 1; stroke-width: 1px;\"/><path class=\"ygrid crisp\" transform=\"translate(0,154.31)\" d=\"M80,0h398\" style=\"stroke: rgb(255, 255, 255); stroke-opacity: 1; stroke-width: 1px;\"/><path class=\"ygrid crisp\" transform=\"translate(0,91.76)\" d=\"M80,0h398\" style=\"stroke: rgb(255, 255, 255); stroke-opacity: 1; stroke-width: 1px;\"/></g></g><g class=\"zerolinelayer\"/><path class=\"xlines-below\"/><path class=\"ylines-below\"/><g class=\"overlines-below\"/><g class=\"xaxislayer-below\"/><g class=\"yaxislayer-below\"/><g class=\"overaxes-below\"/><g class=\"plot\" transform=\"translate(80,60)\" clip-path=\"url(#clipc4a7c3xyplot)\"><g class=\"scatterlayer mlayer\"><g class=\"trace scatter tracee8d30f\" style=\"stroke-miterlimit: 2; opacity: 1;\"><g class=\"fills\"/><g class=\"errorbars\"/><g class=\"lines\"><path class=\"js-line\" d=\"M278.2,185L281.03,143.1L283.78,116.2L286.61,114.95L289.45,154.36L292.19,190.01L295.02,216.28L297.77,196.89L300.6,194.39L303.44,208.15L306,180.63L308.83,189.38L311.58,180L317.16,99.94L319.99,91.18L322.83,154.36L325.57,182.5L328.4,213.15L331.15,196.26L333.98,181.88L336.82,193.14L339.38,153.1L342.21,159.36L344.96,144.35L347.79,111.82L350.54,64.29L353.37,57.41L356.21,117.45L358.95,152.48L361.78,180.63L364.53,153.73L367.36,146.22L370.2,162.49L372.85,144.97L375.69,118.7L378.43,111.82L381.26,72.42L384.01,18L386.84,28.01L389.68,89.31L392.42,118.7L395.26,163.11L398,136.84\" style=\"vector-effect: none; fill: none; stroke: rgb(99, 110, 250); stroke-opacity: 1; stroke-width: 2px; opacity: 1;\"/></g><g class=\"points\"/><g class=\"text\"/></g><g class=\"trace scatter trace449c58\" style=\"stroke-miterlimit: 2; opacity: 1;\"><g class=\"fills\"/><g class=\"errorbars\"/><g class=\"lines\"><path class=\"js-line\" d=\"M278.2,186.71L283.78,127.28L286.61,133.51L295.02,214.25L297.77,191.49L300.6,186.29L303.44,194.12L306,161.67L308.83,166.17L311.58,163.39L314.41,129.39L317.16,103.96L319.99,109.89L328.4,191.38L331.15,168.84L333.98,163.54L336.82,171.59L339.38,138.66L342.21,143.29L344.96,140.53L347.79,106.61L350.54,81.1L353.37,87.1L361.78,168.41L364.53,145.82L367.36,140.54L370.2,148.54L372.85,115.72L375.69,120.32L378.43,117.56L381.26,83.62L384.01,58.13L386.84,64.11L395.26,145.47L398,122.89\" style=\"vector-effect: none; fill: none; stroke: rgb(239, 85, 59); stroke-opacity: 1; stroke-width: 2px; opacity: 1;\"/></g><g class=\"points\"/><g class=\"text\"/></g><g class=\"trace scatter trace6a3205\" style=\"stroke-miterlimit: 2; opacity: 1;\"><g class=\"fills\"/><g class=\"errorbars\"/><g class=\"lines\"><path class=\"js-line\" d=\"M278.2,187.36L281.03,154.79L283.78,131.88L286.61,140.09L289.45,171.89L292.19,201.2L295.02,221.97L297.77,198.56L300.6,192.26L303.44,199.51L306,166.58L308.83,172.94L311.58,169.9L314.41,137.34L317.16,114.43L319.99,122.64L322.83,154.43L325.57,183.75L328.4,204.52L331.15,181.11L333.98,174.8L336.82,182.06L339.38,149.13L342.21,155.49L344.96,152.45L347.79,119.88L350.54,96.97L353.37,105.19L356.21,136.98L358.95,166.29L361.78,187.07L364.53,163.65L367.36,157.35L370.2,164.61L372.85,131.68L375.69,138.04L378.43,135L381.26,102.43L384.01,79.52L386.84,87.74L389.68,119.53L392.42,148.84L395.26,169.61L398,146.2\" style=\"vector-effect: none; fill: none; stroke: rgb(0, 204, 150); stroke-opacity: 1; stroke-width: 2px; opacity: 1;\"/></g><g class=\"points\"/><g class=\"text\"/></g><g class=\"trace scatter trace52c891\" style=\"stroke-miterlimit: 2; opacity: 1;\"><g class=\"fills\"/><g class=\"errorbars\"/><g class=\"lines\"><path class=\"js-line\" d=\"M0,337L2.84,333.24L5.4,324.49L8.23,326.36L10.97,331.37L16.55,314.48L19.39,314.48L22.22,321.98L24.97,332.62L27.8,342L30.55,333.24L33.38,335.12L36.22,328.24L38.78,318.86L41.61,322.61L44.35,328.86L47.19,313.85L49.93,300.72L52.77,300.72L55.6,308.22L58.35,323.86L61.18,335.75L63.93,319.48L69.6,313.23L72.16,295.71L74.99,305.1L77.73,299.47L80.57,295.71L83.31,282.58L86.15,282.58L88.98,291.96L91.73,305.72L94.56,315.73L97.31,303.22L100.14,300.09L102.98,294.46L105.63,286.33L108.46,293.84L111.21,292.59L114.04,270.69L116.78,263.19L119.62,255.68L122.45,276.32L128.03,299.47L130.78,285.71L133.61,284.46L136.45,284.46L139.01,259.44L141.84,260.06L144.59,263.81L147.42,255.06L150.16,241.92L153,236.92L158.58,275.07L161.41,294.46L164.16,281.33L166.99,279.45L169.83,289.46L172.39,260.06L175.22,265.07L177.97,260.69L180.8,241.92L183.54,218.15L186.38,223.78L189.21,245.05L194.79,280.08L197.54,263.81L200.37,255.68L203.21,261.31L205.77,240.05L208.6,238.8L211.35,238.17L214.18,210.02L216.92,179.37L219.76,190.01L228.17,258.81L230.92,233.17L233.75,229.41L236.59,233.79L239.24,208.77L242.07,211.27L244.82,208.15L247.65,173.12L250.4,148.73L253.23,153.73L258.81,215.65L261.64,237.54L264.39,215.65L267.22,210.02L270.06,218.78L272.62,184.38L275.45,189.38\" style=\"vector-effect: none; fill: none; stroke: rgb(171, 99, 250); stroke-opacity: 1; stroke-width: 2px; opacity: 1;\"/></g><g class=\"points\"/><g class=\"text\"/></g></g></g><g class=\"overplot\"/><path class=\"xlines-above crisp\" d=\"M0,0\" style=\"fill: none;\"/><path class=\"ylines-above crisp\" d=\"M0,0\" style=\"fill: none;\"/><g class=\"overlines-above\"/><g class=\"xaxislayer-above\"><g class=\"xtick\"><text text-anchor=\"middle\" x=\"0\" y=\"433\" transform=\"translate(113.38,0)\" style=\"font-family: 'Open Sans', verdana, arial, sans-serif; font-size: 12px; fill: rgb(42, 63, 95); fill-opacity: 1; white-space: pre; opacity: 1;\">1950</text></g><g class=\"xtick\"><text text-anchor=\"middle\" x=\"0\" y=\"433\" style=\"font-family: 'Open Sans', verdana, arial, sans-serif; font-size: 12px; fill: rgb(42, 63, 95); fill-opacity: 1; white-space: pre; opacity: 1;\" transform=\"translate(180.14,0)\">1952</text></g><g class=\"xtick\"><text text-anchor=\"middle\" x=\"0\" y=\"433\" style=\"font-family: 'Open Sans', verdana, arial, sans-serif; font-size: 12px; fill: rgb(42, 63, 95); fill-opacity: 1; white-space: pre; opacity: 1;\" transform=\"translate(246.99,0)\">1954</text></g><g class=\"xtick\"><text text-anchor=\"middle\" x=\"0\" y=\"433\" style=\"font-family: 'Open Sans', verdana, arial, sans-serif; font-size: 12px; fill: rgb(42, 63, 95); fill-opacity: 1; white-space: pre; opacity: 1;\" transform=\"translate(313.75,0)\">1956</text></g><g class=\"xtick\"><text text-anchor=\"middle\" x=\"0\" y=\"433\" style=\"font-family: 'Open Sans', verdana, arial, sans-serif; font-size: 12px; fill: rgb(42, 63, 95); fill-opacity: 1; white-space: pre; opacity: 1;\" transform=\"translate(380.6,0)\">1958</text></g><g class=\"xtick\"><text text-anchor=\"middle\" x=\"0\" y=\"433\" style=\"font-family: 'Open Sans', verdana, arial, sans-serif; font-size: 12px; fill: rgb(42, 63, 95); fill-opacity: 1; white-space: pre; opacity: 1;\" transform=\"translate(447.36,0)\">1960</text></g></g><g class=\"yaxislayer-above\"><g class=\"ytick\"><text text-anchor=\"end\" x=\"79\" y=\"4.199999999999999\" transform=\"translate(0,404.5)\" style=\"font-family: 'Open Sans', verdana, arial, sans-serif; font-size: 12px; fill: rgb(42, 63, 95); fill-opacity: 1; white-space: pre; opacity: 1;\">100</text></g><g class=\"ytick\"><text text-anchor=\"end\" x=\"79\" y=\"4.199999999999999\" style=\"font-family: 'Open Sans', verdana, arial, sans-serif; font-size: 12px; fill: rgb(42, 63, 95); fill-opacity: 1; white-space: pre; opacity: 1;\" transform=\"translate(0,341.95)\">200</text></g><g class=\"ytick\"><text text-anchor=\"end\" x=\"79\" y=\"4.199999999999999\" style=\"font-family: 'Open Sans', verdana, arial, sans-serif; font-size: 12px; fill: rgb(42, 63, 95); fill-opacity: 1; white-space: pre; opacity: 1;\" transform=\"translate(0,279.40999999999997)\">300</text></g><g class=\"ytick\"><text text-anchor=\"end\" x=\"79\" y=\"4.199999999999999\" style=\"font-family: 'Open Sans', verdana, arial, sans-serif; font-size: 12px; fill: rgb(42, 63, 95); fill-opacity: 1; white-space: pre; opacity: 1;\" transform=\"translate(0,216.86)\">400</text></g><g class=\"ytick\"><text text-anchor=\"end\" x=\"79\" y=\"4.199999999999999\" style=\"font-family: 'Open Sans', verdana, arial, sans-serif; font-size: 12px; fill: rgb(42, 63, 95); fill-opacity: 1; white-space: pre; opacity: 1;\" transform=\"translate(0,154.31)\">500</text></g><g class=\"ytick\"><text text-anchor=\"end\" x=\"79\" y=\"4.199999999999999\" style=\"font-family: 'Open Sans', verdana, arial, sans-serif; font-size: 12px; fill: rgb(42, 63, 95); fill-opacity: 1; white-space: pre; opacity: 1;\" transform=\"translate(0,91.76)\">600</text></g></g><g class=\"overaxes-above\"/></g></g><g class=\"polarlayer\"/><g class=\"smithlayer\"/><g class=\"ternarylayer\"/><g class=\"geolayer\"/><g class=\"funnelarealayer\"/><g class=\"pielayer\"/><g class=\"iciclelayer\"/><g class=\"treemaplayer\"/><g class=\"sunburstlayer\"/><g class=\"glimages\"/><defs id=\"topdefs-c4a7c3\"><g class=\"clips\"/><clipPath id=\"legendc4a7c3\"><rect width=\"202\" height=\"105\" x=\"0\" y=\"0\"/></clipPath></defs><g class=\"layer-above\"><g class=\"imagelayer\"/><g class=\"shapelayer\"/></g><g class=\"infolayer\"><g class=\"legend\" pointer-events=\"all\" transform=\"translate(485.96,60)\"><rect class=\"bg\" shape-rendering=\"crispEdges\" style=\"stroke: rgb(68, 68, 68); stroke-opacity: 1; fill: rgb(255, 255, 255); fill-opacity: 1; stroke-width: 0px;\" width=\"202\" height=\"105\" x=\"0\" y=\"0\"/><g class=\"scrollbox\" transform=\"\" clip-path=\"url(#legendc4a7c3)\"><text class=\"legendtitletext\" text-anchor=\"start\" x=\"2\" y=\"18.2\" style=\"font-family: 'Open Sans', verdana, arial, sans-serif; font-size: 14px; fill: rgb(42, 63, 95); fill-opacity: 1; white-space: pre;\">variable</text><g class=\"groups\" transform=\"\"><g class=\"traces\" transform=\"translate(0,32.7)\" style=\"opacity: 1;\"><text class=\"legendtext\" text-anchor=\"start\" x=\"40\" y=\"4.680000000000001\" style=\"font-family: 'Open Sans', verdana, arial, sans-serif; font-size: 12px; fill: rgb(42, 63, 95); fill-opacity: 1; white-space: pre;\">test</text><g class=\"layers\" style=\"opacity: 1;\"><g class=\"legendfill\"/><g class=\"legendlines\"><path class=\"js-line\" d=\"M5,0h30\" style=\"fill: none; stroke: rgb(99, 110, 250); stroke-opacity: 1; stroke-width: 2px;\"/></g><g class=\"legendsymbols\"><g class=\"legendpoints\"/></g></g><rect class=\"legendtoggle\" x=\"0\" y=\"-9.5\" width=\"196.203125\" height=\"19\" style=\"fill: rgb(0, 0, 0); fill-opacity: 0;\"/></g></g><g class=\"groups\" transform=\"\"><g class=\"traces\" transform=\"translate(0,51.7)\" style=\"opacity: 1;\"><text class=\"legendtext\" text-anchor=\"start\" x=\"40\" y=\"4.680000000000001\" style=\"font-family: 'Open Sans', verdana, arial, sans-serif; font-size: 12px; fill: rgb(42, 63, 95); fill-opacity: 1; white-space: pre;\">test_forecast_sarima</text><g class=\"layers\" style=\"opacity: 1;\"><g class=\"legendfill\"/><g class=\"legendlines\"><path class=\"js-line\" d=\"M5,0h30\" style=\"fill: none; stroke: rgb(239, 85, 59); stroke-opacity: 1; stroke-width: 2px;\"/></g><g class=\"legendsymbols\"><g class=\"legendpoints\"/></g></g><rect class=\"legendtoggle\" x=\"0\" y=\"-9.5\" width=\"196.203125\" height=\"19\" style=\"fill: rgb(0, 0, 0); fill-opacity: 0;\"/></g></g><g class=\"groups\" transform=\"\"><g class=\"traces\" transform=\"translate(0,70.7)\" style=\"opacity: 1;\"><text class=\"legendtext\" text-anchor=\"start\" x=\"40\" y=\"4.680000000000001\" style=\"font-family: 'Open Sans', verdana, arial, sans-serif; font-size: 12px; fill: rgb(42, 63, 95); fill-opacity: 1; white-space: pre;\">test_forecast_exponential</text><g class=\"layers\" style=\"opacity: 1;\"><g class=\"legendfill\"/><g class=\"legendlines\"><path class=\"js-line\" d=\"M5,0h30\" style=\"fill: none; stroke: rgb(0, 204, 150); stroke-opacity: 1; stroke-width: 2px;\"/></g><g class=\"legendsymbols\"><g class=\"legendpoints\"/></g></g><rect class=\"legendtoggle\" x=\"0\" y=\"-9.5\" width=\"196.203125\" height=\"19\" style=\"fill: rgb(0, 0, 0); fill-opacity: 0;\"/></g></g><g class=\"groups\" transform=\"\"><g class=\"traces\" transform=\"translate(0,89.7)\" style=\"opacity: 1;\"><text class=\"legendtext\" text-anchor=\"start\" x=\"40\" y=\"4.680000000000001\" style=\"font-family: 'Open Sans', verdana, arial, sans-serif; font-size: 12px; fill: rgb(42, 63, 95); fill-opacity: 1; white-space: pre;\">train</text><g class=\"layers\" style=\"opacity: 1;\"><g class=\"legendfill\"/><g class=\"legendlines\"><path class=\"js-line\" d=\"M5,0h30\" style=\"fill: none; stroke: rgb(171, 99, 250); stroke-opacity: 1; stroke-width: 2px;\"/></g><g class=\"legendsymbols\"><g class=\"legendpoints\"/></g></g><rect class=\"legendtoggle\" x=\"0\" y=\"-9.5\" width=\"196.203125\" height=\"19\" style=\"fill: rgb(0, 0, 0); fill-opacity: 0;\"/></g></g></g><rect class=\"scrollbar\" rx=\"20\" ry=\"3\" width=\"0\" height=\"0\" style=\"fill: rgb(128, 139, 164); fill-opacity: 1;\" x=\"0\" y=\"0\"/></g><g class=\"g-gtitle\"/><g class=\"g-xtitle\"><text class=\"xtitle\" x=\"279\" y=\"460.3\" text-anchor=\"middle\" style=\"font-family: 'Open Sans', verdana, arial, sans-serif; font-size: 14px; fill: rgb(42, 63, 95); opacity: 1; font-weight: normal; white-space: pre;\">index</text></g><g class=\"g-ytitle\"><text class=\"ytitle\" transform=\"rotate(-90,31.809375000000003,240)\" x=\"31.809375000000003\" y=\"240\" text-anchor=\"middle\" style=\"font-family: 'Open Sans', verdana, arial, sans-serif; font-size: 14px; fill: rgb(42, 63, 95); opacity: 1; font-weight: normal; white-space: pre;\">value</text></g></g></svg>"
      ]
     },
     "metadata": {},
     "output_type": "display_data"
    }
   ],
   "source": [
    "import plotly.graph_objects as go\n",
    "\n",
    "fig = df_pred_test.plot()\n",
    "\n",
    "fig.add_traces(\n",
    "    go.Scatter(x=data_train.index, y=data_train, name=\"train\")\n",
    ")"
   ]
  },
  {
   "cell_type": "code",
   "execution_count": 15,
   "id": "2f7559c9",
   "metadata": {
    "execution": {
     "iopub.execute_input": "2024-05-29T22:26:25.368240Z",
     "iopub.status.busy": "2024-05-29T22:26:25.368127Z",
     "iopub.status.idle": "2024-05-29T22:26:25.393932Z",
     "shell.execute_reply": "2024-05-29T22:26:25.393660Z"
    },
    "papermill": {
     "duration": 0.029304,
     "end_time": "2024-05-29T22:26:25.394855",
     "exception": false,
     "start_time": "2024-05-29T22:26:25.365551",
     "status": "completed"
    },
    "tags": []
   },
   "outputs": [],
   "source": [
    "#r\n",
    "\n",
    "fig.write_image('src/02_output_2.png', width=800*1.2, height=450*1.2)"
   ]
  },
  {
   "cell_type": "markdown",
   "id": "3bf2c77a",
   "metadata": {
    "papermill": {
     "duration": 0.001954,
     "end_time": "2024-05-29T22:26:25.399073",
     "exception": false,
     "start_time": "2024-05-29T22:26:25.397119",
     "status": "completed"
    },
    "tags": []
   },
   "source": [
    "### Model's Score: Predictions vs. Reality"
   ]
  },
  {
   "cell_type": "code",
   "execution_count": 16,
   "id": "3feb7efd",
   "metadata": {
    "execution": {
     "iopub.execute_input": "2024-05-29T22:26:25.403349Z",
     "iopub.status.busy": "2024-05-29T22:26:25.403244Z",
     "iopub.status.idle": "2024-05-29T22:26:25.405877Z",
     "shell.execute_reply": "2024-05-29T22:26:25.405655Z"
    },
    "papermill": {
     "duration": 0.005652,
     "end_time": "2024-05-29T22:26:25.406561",
     "exception": false,
     "start_time": "2024-05-29T22:26:25.400909",
     "status": "completed"
    },
    "tags": []
   },
   "outputs": [
    {
     "name": "stderr",
     "output_type": "stream",
     "text": [
      "/Users/sota/miniconda3/envs/work/lib/python3.12/site-packages/sklearn/metrics/_regression.py:483: FutureWarning:\n",
      "\n",
      "'squared' is deprecated in version 1.4 and will be removed in 1.6. To calculate the root mean squared error, use the function'root_mean_squared_error'.\n",
      "\n"
     ]
    },
    {
     "data": {
      "text/plain": [
       "33.6291735577628"
      ]
     },
     "execution_count": 16,
     "metadata": {},
     "output_type": "execute_result"
    }
   ],
   "source": [
    "from sklearn.metrics import mean_squared_error\n",
    "\n",
    "rmse_exponential = mean_squared_error(df_pred_test.test, df_pred_test.test_forecast_exponential, squared=False)\n",
    "rmse_exponential"
   ]
  },
  {
   "cell_type": "code",
   "execution_count": 17,
   "id": "0a4d343c",
   "metadata": {
    "execution": {
     "iopub.execute_input": "2024-05-29T22:26:25.411006Z",
     "iopub.status.busy": "2024-05-29T22:26:25.410926Z",
     "iopub.status.idle": "2024-05-29T22:26:25.413097Z",
     "shell.execute_reply": "2024-05-29T22:26:25.412906Z"
    },
    "papermill": {
     "duration": 0.005245,
     "end_time": "2024-05-29T22:26:25.413786",
     "exception": false,
     "start_time": "2024-05-29T22:26:25.408541",
     "status": "completed"
    },
    "tags": []
   },
   "outputs": [
    {
     "name": "stderr",
     "output_type": "stream",
     "text": [
      "/Users/sota/miniconda3/envs/work/lib/python3.12/site-packages/sklearn/metrics/_regression.py:483: FutureWarning:\n",
      "\n",
      "'squared' is deprecated in version 1.4 and will be removed in 1.6. To calculate the root mean squared error, use the function'root_mean_squared_error'.\n",
      "\n"
     ]
    },
    {
     "data": {
      "text/plain": [
       "25.911990997475304"
      ]
     },
     "execution_count": 17,
     "metadata": {},
     "output_type": "execute_result"
    }
   ],
   "source": [
    "rmse_sarima = mean_squared_error(df_pred_test.test, df_pred_test.test_forecast_sarima, squared=False)\n",
    "rmse_sarima"
   ]
  }
 ],
 "metadata": {
  "kernelspec": {
   "display_name": "Python 3 (ipykernel)",
   "language": "python",
   "name": "python3"
  },
  "language_info": {
   "codemirror_mode": {
    "name": "ipython",
    "version": 3
   },
   "file_extension": ".py",
   "mimetype": "text/x-python",
   "name": "python",
   "nbconvert_exporter": "python",
   "pygments_lexer": "ipython3",
   "version": "3.12.2"
  },
  "papermill": {
   "default_parameters": {},
   "duration": 4.209925,
   "end_time": "2024-05-29T22:26:25.733318",
   "environment_variables": {},
   "exception": null,
   "input_path": "/Users/sota/Library/CloudStorage/Dropbox/2 Business/1 Datons/2 Areas/Courses/22 TS/solutions-new/notebooks/50_Model Evaluation/2_Split/1.ipynb",
   "output_path": "/Users/sota/Library/CloudStorage/Dropbox/2 Business/1 Datons/2 Areas/Courses/22 TS/solutions-new/notebooks/50_Model Evaluation/2_Split/1.ipynb",
   "parameters": {},
   "start_time": "2024-05-29T22:26:21.523393",
   "version": "2.5.0"
  }
 },
 "nbformat": 4,
 "nbformat_minor": 5
}