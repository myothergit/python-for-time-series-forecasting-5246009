{
  "cells": [
    {
      "cell_type": "markdown",
      "id": "416b55df",
      "metadata": {
        "papermill": {
          "duration": 0.002212,
          "end_time": "2024-05-29T22:26:22.490527",
          "exception": false,
          "start_time": "2024-05-29T22:26:22.488315",
          "status": "completed"
        },
        "tags": []
      },
      "source": [
        "# Train test split to evaluate model"
      ]
    },
    {
      "cell_type": "code",
      "execution_count": 1,
      "id": "8524a2c4",
      "metadata": {},
      "outputs": [],
      "source": [
        "\n",
        "from modules import utils\n",
        "utils.configure_plotly_template(showlegend=True)"
      ]
    },
    {
      "cell_type": "markdown",
      "id": "1c3a6c69",
      "metadata": {},
      "source": [
        "## Data"
      ]
    },
    {
      "cell_type": "code",
      "execution_count": 2,
      "id": "98943ff6",
      "metadata": {},
      "outputs": [
        {
          "data": {
            "text/html": [
              "<div>\n",
              "<style scoped>\n",
              "    .dataframe tbody tr th:only-of-type {\n",
              "        vertical-align: middle;\n",
              "    }\n",
              "\n",
              "    .dataframe tbody tr th {\n",
              "        vertical-align: top;\n",
              "    }\n",
              "\n",
              "    .dataframe thead th {\n",
              "        text-align: right;\n",
              "    }\n",
              "</style>\n",
              "<table border=\"1\" class=\"dataframe\">\n",
              "  <thead>\n",
              "    <tr style=\"text-align: right;\">\n",
              "      <th></th>\n",
              "      <th>values</th>\n",
              "    </tr>\n",
              "    <tr>\n",
              "      <th>datetime</th>\n",
              "      <th></th>\n",
              "    </tr>\n",
              "  </thead>\n",
              "  <tbody>\n",
              "    <tr>\n",
              "      <th>1949-01-31</th>\n",
              "      <td>112</td>\n",
              "    </tr>\n",
              "    <tr>\n",
              "      <th>1949-02-28</th>\n",
              "      <td>118</td>\n",
              "    </tr>\n",
              "    <tr>\n",
              "      <th>...</th>\n",
              "      <td>...</td>\n",
              "    </tr>\n",
              "    <tr>\n",
              "      <th>1960-11-30</th>\n",
              "      <td>390</td>\n",
              "    </tr>\n",
              "    <tr>\n",
              "      <th>1960-12-31</th>\n",
              "      <td>432</td>\n",
              "    </tr>\n",
              "  </tbody>\n",
              "</table>\n",
              "<p>144 rows × 1 columns</p>\n",
              "</div>"
            ],
            "text/plain": [
              "            values\n",
              "datetime          \n",
              "1949-01-31     112\n",
              "1949-02-28     118\n",
              "...            ...\n",
              "1960-11-30     390\n",
              "1960-12-31     432\n",
              "\n",
              "[144 rows x 1 columns]"
            ]
          },
          "execution_count": 2,
          "metadata": {},
          "output_type": "execute_result"
        }
      ],
      "source": [
        "import pandas as pd\n",
        "\n",
        "df = pd.read_parquet('../../../data/statsmodels/AirPassengers.parquet').asfreq('ME')\n",
        "df.columns = ['values']\n",
        "df.index.name = 'datetime'\n",
        "\n",
        "df"
      ]
    },
    {
      "cell_type": "code",
      "execution_count": 3,
      "id": "41a65128",
      "metadata": {},
      "outputs": [
        {
          "data": {
            "text/html": [
              "<div>\n",
              "<style scoped>\n",
              "    .dataframe tbody tr th:only-of-type {\n",
              "        vertical-align: middle;\n",
              "    }\n",
              "\n",
              "    .dataframe tbody tr th {\n",
              "        vertical-align: top;\n",
              "    }\n",
              "\n",
              "    .dataframe thead th {\n",
              "        text-align: right;\n",
              "    }\n",
              "</style>\n",
              "<table border=\"1\" class=\"dataframe\">\n",
              "  <thead>\n",
              "    <tr style=\"text-align: right;\">\n",
              "      <th></th>\n",
              "      <th>values</th>\n",
              "      <th>values_log</th>\n",
              "    </tr>\n",
              "    <tr>\n",
              "      <th>datetime</th>\n",
              "      <th></th>\n",
              "      <th></th>\n",
              "    </tr>\n",
              "  </thead>\n",
              "  <tbody>\n",
              "    <tr>\n",
              "      <th>1949-01-31</th>\n",
              "      <td>112</td>\n",
              "      <td>4.718499</td>\n",
              "    </tr>\n",
              "    <tr>\n",
              "      <th>1949-02-28</th>\n",
              "      <td>118</td>\n",
              "      <td>4.770685</td>\n",
              "    </tr>\n",
              "    <tr>\n",
              "      <th>...</th>\n",
              "      <td>...</td>\n",
              "      <td>...</td>\n",
              "    </tr>\n",
              "    <tr>\n",
              "      <th>1960-11-30</th>\n",
              "      <td>390</td>\n",
              "      <td>5.966147</td>\n",
              "    </tr>\n",
              "    <tr>\n",
              "      <th>1960-12-31</th>\n",
              "      <td>432</td>\n",
              "      <td>6.068426</td>\n",
              "    </tr>\n",
              "  </tbody>\n",
              "</table>\n",
              "<p>144 rows × 2 columns</p>\n",
              "</div>"
            ],
            "text/plain": [
              "            values  values_log\n",
              "datetime                      \n",
              "1949-01-31     112    4.718499\n",
              "1949-02-28     118    4.770685\n",
              "...            ...         ...\n",
              "1960-11-30     390    5.966147\n",
              "1960-12-31     432    6.068426\n",
              "\n",
              "[144 rows x 2 columns]"
            ]
          },
          "execution_count": 3,
          "metadata": {},
          "output_type": "execute_result"
        }
      ],
      "source": [
        "import numpy as np\n",
        "df['values_log'] = np.log(df['values'])\n",
        "\n",
        "df"
      ]
    },
    {
      "cell_type": "code",
      "execution_count": 4,
      "id": "fda98d54",
      "metadata": {},
      "outputs": [
        {
          "data": {
            "text/plain": [
              "datetime\n",
              "1949-01-31    4.718499\n",
              "1949-02-28    4.770685\n",
              "                ...   \n",
              "1960-11-30    5.966147\n",
              "1960-12-31    6.068426\n",
              "Freq: ME, Name: values_log, Length: 144, dtype: float64"
            ]
          },
          "execution_count": 4,
          "metadata": {},
          "output_type": "execute_result"
        }
      ],
      "source": [
        "series = df[\"values_log\"]\n",
        "series"
      ]
    },
    {
      "cell_type": "code",
      "execution_count": 5,
      "id": "b57feb99",
      "metadata": {},
      "outputs": [],
      "source": [
        "df_base = df.copy()"
      ]
    },
    {
      "cell_type": "markdown",
      "id": "3f81fe26",
      "metadata": {
        "papermill": {
          "duration": 0.001473,
          "end_time": "2024-05-29T22:26:22.515491",
          "exception": false,
          "start_time": "2024-05-29T22:26:22.514018",
          "status": "completed"
        },
        "tags": []
      },
      "source": [
        "## Previous lessons: overfitting\n",
        "\n",
        "1. Evaluate the model on the same series used for training.\n",
        "2. Overfitting problem: the model is good to predict historical series, but not for the future.\n",
        "3. Businesses depend on predicting the future, not the past."
      ]
    },
    {
      "cell_type": "code",
      "execution_count": 6,
      "id": "26c36017",
      "metadata": {
        "execution": {
          "iopub.execute_input": "2024-05-29T22:26:22.518768Z",
          "iopub.status.busy": "2024-05-29T22:26:22.518685Z",
          "iopub.status.idle": "2024-05-29T22:26:23.985808Z",
          "shell.execute_reply": "2024-05-29T22:26:23.984891Z"
        },
        "papermill": {
          "duration": 1.471026,
          "end_time": "2024-05-29T22:26:23.987882",
          "exception": false,
          "start_time": "2024-05-29T22:26:22.516856",
          "status": "completed"
        },
        "tags": [
          "Fixed"
        ]
      },
      "outputs": [
        {
          "data": {
            "text/html": [
              "<div>\n",
              "<style scoped>\n",
              "    .dataframe tbody tr th:only-of-type {\n",
              "        vertical-align: middle;\n",
              "    }\n",
              "\n",
              "    .dataframe tbody tr th {\n",
              "        vertical-align: top;\n",
              "    }\n",
              "\n",
              "    .dataframe thead th {\n",
              "        text-align: right;\n",
              "    }\n",
              "</style>\n",
              "<table border=\"1\" class=\"dataframe\">\n",
              "  <thead>\n",
              "    <tr style=\"text-align: right;\">\n",
              "      <th></th>\n",
              "      <th>values</th>\n",
              "      <th>values_log</th>\n",
              "      <th>predictions_log</th>\n",
              "      <th>predictions_log_exp</th>\n",
              "    </tr>\n",
              "    <tr>\n",
              "      <th>datetime</th>\n",
              "      <th></th>\n",
              "      <th></th>\n",
              "      <th></th>\n",
              "      <th></th>\n",
              "    </tr>\n",
              "  </thead>\n",
              "  <tbody>\n",
              "    <tr>\n",
              "      <th>1949-01-31</th>\n",
              "      <td>112</td>\n",
              "      <td>4.718499</td>\n",
              "      <td>0.000000</td>\n",
              "      <td>1.000000</td>\n",
              "    </tr>\n",
              "    <tr>\n",
              "      <th>1949-02-28</th>\n",
              "      <td>118</td>\n",
              "      <td>4.770685</td>\n",
              "      <td>4.718499</td>\n",
              "      <td>112.000000</td>\n",
              "    </tr>\n",
              "    <tr>\n",
              "      <th>...</th>\n",
              "      <td>...</td>\n",
              "      <td>...</td>\n",
              "      <td>...</td>\n",
              "      <td>...</td>\n",
              "    </tr>\n",
              "    <tr>\n",
              "      <th>1960-11-30</th>\n",
              "      <td>390</td>\n",
              "      <td>5.966147</td>\n",
              "      <td>5.993307</td>\n",
              "      <td>400.737585</td>\n",
              "    </tr>\n",
              "    <tr>\n",
              "      <th>1960-12-31</th>\n",
              "      <td>432</td>\n",
              "      <td>6.068426</td>\n",
              "      <td>6.083396</td>\n",
              "      <td>438.515902</td>\n",
              "    </tr>\n",
              "  </tbody>\n",
              "</table>\n",
              "<p>144 rows × 4 columns</p>\n",
              "</div>"
            ],
            "text/plain": [
              "            values  values_log  predictions_log  predictions_log_exp\n",
              "datetime                                                            \n",
              "1949-01-31     112    4.718499         0.000000             1.000000\n",
              "1949-02-28     118    4.770685         4.718499           112.000000\n",
              "...            ...         ...              ...                  ...\n",
              "1960-11-30     390    5.966147         5.993307           400.737585\n",
              "1960-12-31     432    6.068426         6.083396           438.515902\n",
              "\n",
              "[144 rows x 4 columns]"
            ]
          },
          "execution_count": 6,
          "metadata": {},
          "output_type": "execute_result"
        }
      ],
      "source": [
        "from statsmodels.tsa.statespace.sarimax import SARIMAX\n",
        "\n",
        "model = SARIMAX(series, order=(0, 1, 1), seasonal_order=(0, 1, 1, 12))\n",
        "model_fit = model.fit()\n",
        "\n",
        "df['predictions_log'] = model_fit.predict()\n",
        "df['predictions_log_exp'] = np.exp(df['predictions_log'])\n",
        "\n",
        "df"
      ]
    },
    {
      "cell_type": "code",
      "execution_count": 7,
      "id": "d1accb01",
      "metadata": {},
      "outputs": [
        {
          "data": {
            "text/plain": [
              "10.714860511741556"
            ]
          },
          "execution_count": 7,
          "metadata": {},
          "output_type": "execute_result"
        }
      ],
      "source": [
        "from sklearn.metrics import root_mean_squared_error\n",
        "\n",
        "idx = 12 + 1\n",
        "\n",
        "real = df[\"values\"][idx:]\n",
        "pred = df[\"predictions_log_exp\"][idx:]\n",
        "\n",
        "score = root_mean_squared_error(real, pred)\n",
        "\n",
        "score"
      ]
    },
    {
      "cell_type": "markdown",
      "id": "037612f4",
      "metadata": {
        "papermill": {
          "duration": 0.005743,
          "end_time": "2024-05-29T22:26:23.998527",
          "exception": false,
          "start_time": "2024-05-29T22:26:23.992784",
          "status": "completed"
        },
        "tags": []
      },
      "source": [
        "## Train test slpit to detect overfitting"
      ]
    },
    {
      "cell_type": "markdown",
      "id": "86093866",
      "metadata": {
        "papermill": {
          "duration": 0.00468,
          "end_time": "2024-05-29T22:26:24.009434",
          "exception": false,
          "start_time": "2024-05-29T22:26:24.004754",
          "status": "completed"
        },
        "tags": []
      },
      "source": [
        "### Split"
      ]
    },
    {
      "cell_type": "code",
      "execution_count": 8,
      "id": "907a1e7d",
      "metadata": {
        "execution": {
          "iopub.execute_input": "2024-05-29T22:26:24.022640Z",
          "iopub.status.busy": "2024-05-29T22:26:24.022246Z",
          "iopub.status.idle": "2024-05-29T22:26:24.036486Z",
          "shell.execute_reply": "2024-05-29T22:26:24.035906Z"
        },
        "papermill": {
          "duration": 0.024318,
          "end_time": "2024-05-29T22:26:24.037956",
          "exception": false,
          "start_time": "2024-05-29T22:26:24.013638",
          "status": "completed"
        },
        "tags": []
      },
      "outputs": [],
      "source": [
        "from sklearn.model_selection import train_test_split\n",
        "\n",
        "df = df[['values', 'values_log']]\n",
        "df_train, df_test = train_test_split(df, shuffle=False, test_size=0.3)"
      ]
    },
    {
      "cell_type": "code",
      "execution_count": 9,
      "id": "8f00dc18",
      "metadata": {},
      "outputs": [
        {
          "data": {
            "text/html": [
              "<div>\n",
              "<style scoped>\n",
              "    .dataframe tbody tr th:only-of-type {\n",
              "        vertical-align: middle;\n",
              "    }\n",
              "\n",
              "    .dataframe tbody tr th {\n",
              "        vertical-align: top;\n",
              "    }\n",
              "\n",
              "    .dataframe thead th {\n",
              "        text-align: right;\n",
              "    }\n",
              "</style>\n",
              "<table border=\"1\" class=\"dataframe\">\n",
              "  <thead>\n",
              "    <tr style=\"text-align: right;\">\n",
              "      <th></th>\n",
              "      <th>values</th>\n",
              "      <th>values_log</th>\n",
              "    </tr>\n",
              "    <tr>\n",
              "      <th>datetime</th>\n",
              "      <th></th>\n",
              "      <th></th>\n",
              "    </tr>\n",
              "  </thead>\n",
              "  <tbody>\n",
              "    <tr>\n",
              "      <th>1949-01-31</th>\n",
              "      <td>112</td>\n",
              "      <td>4.718499</td>\n",
              "    </tr>\n",
              "    <tr>\n",
              "      <th>1949-02-28</th>\n",
              "      <td>118</td>\n",
              "      <td>4.770685</td>\n",
              "    </tr>\n",
              "    <tr>\n",
              "      <th>...</th>\n",
              "      <td>...</td>\n",
              "      <td>...</td>\n",
              "    </tr>\n",
              "    <tr>\n",
              "      <th>1957-03-31</th>\n",
              "      <td>356</td>\n",
              "      <td>5.874931</td>\n",
              "    </tr>\n",
              "    <tr>\n",
              "      <th>1957-04-30</th>\n",
              "      <td>348</td>\n",
              "      <td>5.852202</td>\n",
              "    </tr>\n",
              "  </tbody>\n",
              "</table>\n",
              "<p>100 rows × 2 columns</p>\n",
              "</div>"
            ],
            "text/plain": [
              "            values  values_log\n",
              "datetime                      \n",
              "1949-01-31     112    4.718499\n",
              "1949-02-28     118    4.770685\n",
              "...            ...         ...\n",
              "1957-03-31     356    5.874931\n",
              "1957-04-30     348    5.852202\n",
              "\n",
              "[100 rows x 2 columns]"
            ]
          },
          "execution_count": 9,
          "metadata": {},
          "output_type": "execute_result"
        }
      ],
      "source": [
        "df_train"
      ]
    },
    {
      "cell_type": "code",
      "execution_count": 10,
      "id": "4f4e5573",
      "metadata": {
        "execution": {
          "iopub.execute_input": "2024-05-29T22:26:24.047727Z",
          "iopub.status.busy": "2024-05-29T22:26:24.047110Z",
          "iopub.status.idle": "2024-05-29T22:26:24.055942Z",
          "shell.execute_reply": "2024-05-29T22:26:24.055502Z"
        },
        "papermill": {
          "duration": 0.017651,
          "end_time": "2024-05-29T22:26:24.059891",
          "exception": false,
          "start_time": "2024-05-29T22:26:24.042240",
          "status": "completed"
        },
        "tags": []
      },
      "outputs": [
        {
          "data": {
            "text/html": [
              "<div>\n",
              "<style scoped>\n",
              "    .dataframe tbody tr th:only-of-type {\n",
              "        vertical-align: middle;\n",
              "    }\n",
              "\n",
              "    .dataframe tbody tr th {\n",
              "        vertical-align: top;\n",
              "    }\n",
              "\n",
              "    .dataframe thead th {\n",
              "        text-align: right;\n",
              "    }\n",
              "</style>\n",
              "<table border=\"1\" class=\"dataframe\">\n",
              "  <thead>\n",
              "    <tr style=\"text-align: right;\">\n",
              "      <th></th>\n",
              "      <th>values</th>\n",
              "      <th>values_log</th>\n",
              "    </tr>\n",
              "    <tr>\n",
              "      <th>datetime</th>\n",
              "      <th></th>\n",
              "      <th></th>\n",
              "    </tr>\n",
              "  </thead>\n",
              "  <tbody>\n",
              "    <tr>\n",
              "      <th>1957-05-31</th>\n",
              "      <td>355</td>\n",
              "      <td>5.872118</td>\n",
              "    </tr>\n",
              "    <tr>\n",
              "      <th>1957-06-30</th>\n",
              "      <td>422</td>\n",
              "      <td>6.045005</td>\n",
              "    </tr>\n",
              "    <tr>\n",
              "      <th>...</th>\n",
              "      <td>...</td>\n",
              "      <td>...</td>\n",
              "    </tr>\n",
              "    <tr>\n",
              "      <th>1960-11-30</th>\n",
              "      <td>390</td>\n",
              "      <td>5.966147</td>\n",
              "    </tr>\n",
              "    <tr>\n",
              "      <th>1960-12-31</th>\n",
              "      <td>432</td>\n",
              "      <td>6.068426</td>\n",
              "    </tr>\n",
              "  </tbody>\n",
              "</table>\n",
              "<p>44 rows × 2 columns</p>\n",
              "</div>"
            ],
            "text/plain": [
              "            values  values_log\n",
              "datetime                      \n",
              "1957-05-31     355    5.872118\n",
              "1957-06-30     422    6.045005\n",
              "...            ...         ...\n",
              "1960-11-30     390    5.966147\n",
              "1960-12-31     432    6.068426\n",
              "\n",
              "[44 rows x 2 columns]"
            ]
          },
          "execution_count": 10,
          "metadata": {},
          "output_type": "execute_result"
        }
      ],
      "source": [
        "df_test"
      ]
    },
    {
      "cell_type": "markdown",
      "id": "79646823",
      "metadata": {
        "papermill": {
          "duration": 0.002561,
          "end_time": "2024-05-29T22:26:24.647655",
          "exception": false,
          "start_time": "2024-05-29T22:26:24.645094",
          "status": "completed"
        },
        "tags": []
      },
      "source": [
        "### Evaluate model"
      ]
    },
    {
      "cell_type": "code",
      "execution_count": 11,
      "id": "e2d3c4c8",
      "metadata": {},
      "outputs": [],
      "source": [
        "model = SARIMAX(df_train['values_log'], order=(0, 1, 1), seasonal_order=(0, 1, 1, 12), enforce_invertibility=False, enforce_stationarity=False)\n",
        "model_fit = model.fit()"
      ]
    },
    {
      "cell_type": "markdown",
      "id": "e782175c",
      "metadata": {},
      "source": [
        "#### Test data"
      ]
    },
    {
      "cell_type": "code",
      "execution_count": 12,
      "id": "98a08f8e",
      "metadata": {},
      "outputs": [
        {
          "data": {
            "text/plain": [
              "43.43902943845554"
            ]
          },
          "execution_count": 12,
          "metadata": {},
          "output_type": "execute_result"
        }
      ],
      "source": [
        "df = df_test.copy()\n",
        "\n",
        "start, end = df.index[[0,-1]]\n",
        "df[\"predictions_log\"] = model_fit.predict(start=start, end=end)\n",
        "df[\"predictions_log_exp\"] = np.exp(df[\"predictions_log\"])\n",
        "\n",
        "idx = 12 + 1\n",
        "\n",
        "score = root_mean_squared_error(df[\"values\"][idx:], df[\"predictions_log_exp\"][idx:])\n",
        "score"
      ]
    },
    {
      "cell_type": "code",
      "execution_count": 13,
      "id": "afe2029a",
      "metadata": {},
      "outputs": [],
      "source": [
        "df_test = df.copy()"
      ]
    },
    {
      "cell_type": "markdown",
      "id": "577f99c4",
      "metadata": {
        "papermill": {
          "duration": 0.006611,
          "end_time": "2024-05-29T22:26:25.006283",
          "exception": false,
          "start_time": "2024-05-29T22:26:24.999672",
          "status": "completed"
        },
        "tags": []
      },
      "source": [
        "#### Train data"
      ]
    },
    {
      "cell_type": "code",
      "execution_count": 14,
      "id": "9e515fd3",
      "metadata": {},
      "outputs": [
        {
          "data": {
            "text/html": [
              "<div>\n",
              "<style scoped>\n",
              "    .dataframe tbody tr th:only-of-type {\n",
              "        vertical-align: middle;\n",
              "    }\n",
              "\n",
              "    .dataframe tbody tr th {\n",
              "        vertical-align: top;\n",
              "    }\n",
              "\n",
              "    .dataframe thead th {\n",
              "        text-align: right;\n",
              "    }\n",
              "</style>\n",
              "<table border=\"1\" class=\"dataframe\">\n",
              "  <thead>\n",
              "    <tr style=\"text-align: right;\">\n",
              "      <th></th>\n",
              "      <th>values</th>\n",
              "      <th>values_log</th>\n",
              "    </tr>\n",
              "    <tr>\n",
              "      <th>datetime</th>\n",
              "      <th></th>\n",
              "      <th></th>\n",
              "    </tr>\n",
              "  </thead>\n",
              "  <tbody>\n",
              "    <tr>\n",
              "      <th>1949-01-31</th>\n",
              "      <td>112</td>\n",
              "      <td>4.718499</td>\n",
              "    </tr>\n",
              "    <tr>\n",
              "      <th>1949-02-28</th>\n",
              "      <td>118</td>\n",
              "      <td>4.770685</td>\n",
              "    </tr>\n",
              "    <tr>\n",
              "      <th>...</th>\n",
              "      <td>...</td>\n",
              "      <td>...</td>\n",
              "    </tr>\n",
              "    <tr>\n",
              "      <th>1957-03-31</th>\n",
              "      <td>356</td>\n",
              "      <td>5.874931</td>\n",
              "    </tr>\n",
              "    <tr>\n",
              "      <th>1957-04-30</th>\n",
              "      <td>348</td>\n",
              "      <td>5.852202</td>\n",
              "    </tr>\n",
              "  </tbody>\n",
              "</table>\n",
              "<p>100 rows × 2 columns</p>\n",
              "</div>"
            ],
            "text/plain": [
              "            values  values_log\n",
              "datetime                      \n",
              "1949-01-31     112    4.718499\n",
              "1949-02-28     118    4.770685\n",
              "...            ...         ...\n",
              "1957-03-31     356    5.874931\n",
              "1957-04-30     348    5.852202\n",
              "\n",
              "[100 rows x 2 columns]"
            ]
          },
          "execution_count": 14,
          "metadata": {},
          "output_type": "execute_result"
        }
      ],
      "source": [
        "df = df_train.copy()\n",
        "df"
      ]
    },
    {
      "cell_type": "code",
      "execution_count": 15,
      "id": "8f1bcd6d",
      "metadata": {},
      "outputs": [
        {
          "data": {
            "text/plain": [
              "8.545512270973711"
            ]
          },
          "execution_count": 15,
          "metadata": {},
          "output_type": "execute_result"
        }
      ],
      "source": [
        "start, end = df.index[[0,-1]]\n",
        "df[\"predictions_log\"] = model_fit.predict(start=start, end=end)\n",
        "df[\"predictions_log_exp\"] = np.exp(df[\"predictions_log\"])\n",
        "\n",
        "idx = 12 + 1\n",
        "\n",
        "score = root_mean_squared_error(df[\"values\"][idx:], df[\"predictions_log_exp\"][idx:])\n",
        "score"
      ]
    },
    {
      "cell_type": "code",
      "execution_count": 16,
      "id": "f67f7b23",
      "metadata": {},
      "outputs": [],
      "source": [
        "df_train = df.copy()"
      ]
    },
    {
      "cell_type": "markdown",
      "id": "5bba32b7",
      "metadata": {
        "papermill": {
          "duration": 0.003684,
          "end_time": "2024-05-29T22:26:25.036536",
          "exception": false,
          "start_time": "2024-05-29T22:26:25.032852",
          "status": "completed"
        },
        "tags": []
      },
      "source": [
        "### Interpret overfitting"
      ]
    },
    {
      "cell_type": "code",
      "execution_count": 17,
      "id": "b17d398d",
      "metadata": {
        "execution": {
          "iopub.execute_input": "2024-05-29T22:26:25.049476Z",
          "iopub.status.busy": "2024-05-29T22:26:25.048042Z",
          "iopub.status.idle": "2024-05-29T22:26:25.057084Z",
          "shell.execute_reply": "2024-05-29T22:26:25.055688Z"
        },
        "papermill": {
          "duration": 0.017556,
          "end_time": "2024-05-29T22:26:25.058971",
          "exception": false,
          "start_time": "2024-05-29T22:26:25.041415",
          "status": "completed"
        },
        "tags": []
      },
      "outputs": [
        {
          "data": {
            "text/html": [
              "<div>\n",
              "<style scoped>\n",
              "    .dataframe tbody tr th:only-of-type {\n",
              "        vertical-align: middle;\n",
              "    }\n",
              "\n",
              "    .dataframe tbody tr th {\n",
              "        vertical-align: top;\n",
              "    }\n",
              "\n",
              "    .dataframe thead th {\n",
              "        text-align: right;\n",
              "    }\n",
              "</style>\n",
              "<table border=\"1\" class=\"dataframe\">\n",
              "  <thead>\n",
              "    <tr style=\"text-align: right;\">\n",
              "      <th></th>\n",
              "      <th>train</th>\n",
              "      <th>test</th>\n",
              "      <th>train_forecast_sarima</th>\n",
              "      <th>test_forecast_sarima</th>\n",
              "    </tr>\n",
              "    <tr>\n",
              "      <th>datetime</th>\n",
              "      <th></th>\n",
              "      <th></th>\n",
              "      <th></th>\n",
              "      <th></th>\n",
              "    </tr>\n",
              "  </thead>\n",
              "  <tbody>\n",
              "    <tr>\n",
              "      <th>1949-01-31</th>\n",
              "      <td>112.0</td>\n",
              "      <td>NaN</td>\n",
              "      <td>1.0</td>\n",
              "      <td>NaN</td>\n",
              "    </tr>\n",
              "    <tr>\n",
              "      <th>1949-02-28</th>\n",
              "      <td>118.0</td>\n",
              "      <td>NaN</td>\n",
              "      <td>112.0</td>\n",
              "      <td>NaN</td>\n",
              "    </tr>\n",
              "    <tr>\n",
              "      <th>...</th>\n",
              "      <td>...</td>\n",
              "      <td>...</td>\n",
              "      <td>...</td>\n",
              "      <td>...</td>\n",
              "    </tr>\n",
              "    <tr>\n",
              "      <th>1960-11-30</th>\n",
              "      <td>NaN</td>\n",
              "      <td>390.0</td>\n",
              "      <td>NaN</td>\n",
              "      <td>438.001046</td>\n",
              "    </tr>\n",
              "    <tr>\n",
              "      <th>1960-12-31</th>\n",
              "      <td>NaN</td>\n",
              "      <td>432.0</td>\n",
              "      <td>NaN</td>\n",
              "      <td>499.663157</td>\n",
              "    </tr>\n",
              "  </tbody>\n",
              "</table>\n",
              "<p>144 rows × 4 columns</p>\n",
              "</div>"
            ],
            "text/plain": [
              "            train   test  train_forecast_sarima  test_forecast_sarima\n",
              "datetime                                                             \n",
              "1949-01-31  112.0    NaN                    1.0                   NaN\n",
              "1949-02-28  118.0    NaN                  112.0                   NaN\n",
              "...           ...    ...                    ...                   ...\n",
              "1960-11-30    NaN  390.0                    NaN            438.001046\n",
              "1960-12-31    NaN  432.0                    NaN            499.663157\n",
              "\n",
              "[144 rows x 4 columns]"
            ]
          },
          "execution_count": 17,
          "metadata": {},
          "output_type": "execute_result"
        }
      ],
      "source": [
        "df_pred = pd.DataFrame({\n",
        "    'train': df_train['values'],\n",
        "    'test': df_test['values'],\n",
        "    'train_forecast_sarima': df_train['predictions_log_exp'],\n",
        "    'test_forecast_sarima': df_test['predictions_log_exp'],\n",
        "})\n",
        "\n",
        "df_pred"
      ]
    },
    {
      "cell_type": "code",
      "execution_count": 18,
      "id": "1ee29b17",
      "metadata": {},
      "outputs": [
        {
          "data": {
            "application/vnd.plotly.v1+json": {
              "config": {
                "plotlyServerURL": "https://plot.ly"
              },
              "data": [
                {
                  "hovertemplate": "variable=train<br>datetime=%{x}<br>value=%{y}<extra></extra>",
                  "legendgroup": "train",
                  "line": {
                    "color": "#636efa",
                    "dash": "solid"
                  },
                  "marker": {
                    "symbol": "circle"
                  },
                  "mode": "lines",
                  "name": "train",
                  "orientation": "v",
                  "showlegend": true,
                  "type": "scatter",
                  "x": [
                    "1950-02-28T00:00:00.000000000",
                    "1950-03-31T00:00:00.000000000",
                    "1950-04-30T00:00:00.000000000",
                    "1950-05-31T00:00:00.000000000",
                    "1950-06-30T00:00:00.000000000",
                    "1950-07-31T00:00:00.000000000",
                    "1950-08-31T00:00:00.000000000",
                    "1950-09-30T00:00:00.000000000",
                    "1950-10-31T00:00:00.000000000",
                    "1950-11-30T00:00:00.000000000",
                    "1950-12-31T00:00:00.000000000",
                    "1951-01-31T00:00:00.000000000",
                    "1951-02-28T00:00:00.000000000",
                    "1951-03-31T00:00:00.000000000",
                    "1951-04-30T00:00:00.000000000",
                    "1951-05-31T00:00:00.000000000",
                    "1951-06-30T00:00:00.000000000",
                    "1951-07-31T00:00:00.000000000",
                    "1951-08-31T00:00:00.000000000",
                    "1951-09-30T00:00:00.000000000",
                    "1951-10-31T00:00:00.000000000",
                    "1951-11-30T00:00:00.000000000",
                    "1951-12-31T00:00:00.000000000",
                    "1952-01-31T00:00:00.000000000",
                    "1952-02-29T00:00:00.000000000",
                    "1952-03-31T00:00:00.000000000",
                    "1952-04-30T00:00:00.000000000",
                    "1952-05-31T00:00:00.000000000",
                    "1952-06-30T00:00:00.000000000",
                    "1952-07-31T00:00:00.000000000",
                    "1952-08-31T00:00:00.000000000",
                    "1952-09-30T00:00:00.000000000",
                    "1952-10-31T00:00:00.000000000",
                    "1952-11-30T00:00:00.000000000",
                    "1952-12-31T00:00:00.000000000",
                    "1953-01-31T00:00:00.000000000",
                    "1953-02-28T00:00:00.000000000",
                    "1953-03-31T00:00:00.000000000",
                    "1953-04-30T00:00:00.000000000",
                    "1953-05-31T00:00:00.000000000",
                    "1953-06-30T00:00:00.000000000",
                    "1953-07-31T00:00:00.000000000",
                    "1953-08-31T00:00:00.000000000",
                    "1953-09-30T00:00:00.000000000",
                    "1953-10-31T00:00:00.000000000",
                    "1953-11-30T00:00:00.000000000",
                    "1953-12-31T00:00:00.000000000",
                    "1954-01-31T00:00:00.000000000",
                    "1954-02-28T00:00:00.000000000",
                    "1954-03-31T00:00:00.000000000",
                    "1954-04-30T00:00:00.000000000",
                    "1954-05-31T00:00:00.000000000",
                    "1954-06-30T00:00:00.000000000",
                    "1954-07-31T00:00:00.000000000",
                    "1954-08-31T00:00:00.000000000",
                    "1954-09-30T00:00:00.000000000",
                    "1954-10-31T00:00:00.000000000",
                    "1954-11-30T00:00:00.000000000",
                    "1954-12-31T00:00:00.000000000",
                    "1955-01-31T00:00:00.000000000",
                    "1955-02-28T00:00:00.000000000",
                    "1955-03-31T00:00:00.000000000",
                    "1955-04-30T00:00:00.000000000",
                    "1955-05-31T00:00:00.000000000",
                    "1955-06-30T00:00:00.000000000",
                    "1955-07-31T00:00:00.000000000",
                    "1955-08-31T00:00:00.000000000",
                    "1955-09-30T00:00:00.000000000",
                    "1955-10-31T00:00:00.000000000",
                    "1955-11-30T00:00:00.000000000",
                    "1955-12-31T00:00:00.000000000",
                    "1956-01-31T00:00:00.000000000",
                    "1956-02-29T00:00:00.000000000",
                    "1956-03-31T00:00:00.000000000",
                    "1956-04-30T00:00:00.000000000",
                    "1956-05-31T00:00:00.000000000",
                    "1956-06-30T00:00:00.000000000",
                    "1956-07-31T00:00:00.000000000",
                    "1956-08-31T00:00:00.000000000",
                    "1956-09-30T00:00:00.000000000",
                    "1956-10-31T00:00:00.000000000",
                    "1956-11-30T00:00:00.000000000",
                    "1956-12-31T00:00:00.000000000",
                    "1957-01-31T00:00:00.000000000",
                    "1957-02-28T00:00:00.000000000",
                    "1957-03-31T00:00:00.000000000",
                    "1957-04-30T00:00:00.000000000",
                    "1957-05-31T00:00:00.000000000",
                    "1957-06-30T00:00:00.000000000",
                    "1957-07-31T00:00:00.000000000",
                    "1957-08-31T00:00:00.000000000",
                    "1957-09-30T00:00:00.000000000",
                    "1957-10-31T00:00:00.000000000",
                    "1957-11-30T00:00:00.000000000",
                    "1957-12-31T00:00:00.000000000",
                    "1958-01-31T00:00:00.000000000",
                    "1958-02-28T00:00:00.000000000",
                    "1958-03-31T00:00:00.000000000",
                    "1958-04-30T00:00:00.000000000",
                    "1958-05-31T00:00:00.000000000",
                    "1958-06-30T00:00:00.000000000",
                    "1958-07-31T00:00:00.000000000",
                    "1958-08-31T00:00:00.000000000",
                    "1958-09-30T00:00:00.000000000",
                    "1958-10-31T00:00:00.000000000",
                    "1958-11-30T00:00:00.000000000",
                    "1958-12-31T00:00:00.000000000",
                    "1959-01-31T00:00:00.000000000",
                    "1959-02-28T00:00:00.000000000",
                    "1959-03-31T00:00:00.000000000",
                    "1959-04-30T00:00:00.000000000",
                    "1959-05-31T00:00:00.000000000",
                    "1959-06-30T00:00:00.000000000",
                    "1959-07-31T00:00:00.000000000",
                    "1959-08-31T00:00:00.000000000",
                    "1959-09-30T00:00:00.000000000",
                    "1959-10-31T00:00:00.000000000",
                    "1959-11-30T00:00:00.000000000",
                    "1959-12-31T00:00:00.000000000",
                    "1960-01-31T00:00:00.000000000",
                    "1960-02-29T00:00:00.000000000",
                    "1960-03-31T00:00:00.000000000",
                    "1960-04-30T00:00:00.000000000",
                    "1960-05-31T00:00:00.000000000",
                    "1960-06-30T00:00:00.000000000",
                    "1960-07-31T00:00:00.000000000",
                    "1960-08-31T00:00:00.000000000",
                    "1960-09-30T00:00:00.000000000",
                    "1960-10-31T00:00:00.000000000",
                    "1960-11-30T00:00:00.000000000",
                    "1960-12-31T00:00:00.000000000"
                  ],
                  "xaxis": "x",
                  "y": {
                    "bdata": "AAAAAACAX0AAAAAAAKBhQAAAAAAA4GBAAAAAAABAX0AAAAAAAKBiQAAAAAAAQGVAAAAAAABAZUAAAAAAAMBjQAAAAAAAoGBAAAAAAACAXEAAAAAAAIBhQAAAAAAAIGJAAAAAAADAYkAAAAAAAEBmQAAAAAAAYGRAAAAAAACAZUAAAAAAAEBmQAAAAAAA4GhAAAAAAADgaEAAAAAAAABnQAAAAAAAQGRAAAAAAABAYkAAAAAAAMBkQAAAAAAAYGVAAAAAAACAZkAAAAAAACBoQAAAAAAAoGZAAAAAAADgZkAAAAAAAEBrQAAAAAAAwGxAAAAAAABAbkAAAAAAACBqQAAAAAAA4GdAAAAAAACAZUAAAAAAAEBoQAAAAAAAgGhAAAAAAACAaEAAAAAAAIBtQAAAAAAAYG1AAAAAAACgbEAAAAAAAGBuQAAAAAAAgHBAAAAAAAAAcUAAAAAAAKBtQAAAAAAAYGpAAAAAAACAZkAAAAAAACBpQAAAAAAAgGlAAAAAAACAZ0AAAAAAAGBtQAAAAAAAYGxAAAAAAABAbUAAAAAAAIBwQAAAAAAA4HJAAAAAAABQckAAAAAAADBwQAAAAAAAoGxAAAAAAABgaUAAAAAAAKBsQAAAAAAAQG5AAAAAAAAgbUAAAAAAALBwQAAAAAAA0HBAAAAAAADgcEAAAAAAALBzQAAAAAAAwHZAAAAAAACwdUAAAAAAAIBzQAAAAAAAIHFAAAAAAACgbUAAAAAAAGBxQAAAAAAAwHFAAAAAAABQcUAAAAAAANBzQAAAAAAAkHNAAAAAAADgc0AAAAAAAGB3QAAAAAAA0HlAAAAAAABQeUAAAAAAADB2QAAAAAAAIHNAAAAAAADwcEAAAAAAACBzQAAAAAAAsHNAAAAAAADQckAAAAAAAEB2QAAAAAAAwHVAAAAAAAAA+H8AAAAAAAD4fwAAAAAAAPh/AAAAAAAA+H8AAAAAAAD4fwAAAAAAAPh/AAAAAAAA+H8AAAAAAAD4fwAAAAAAAPh/AAAAAAAA+H8AAAAAAAD4fwAAAAAAAPh/AAAAAAAA+H8AAAAAAAD4fwAAAAAAAPh/AAAAAAAA+H8AAAAAAAD4fwAAAAAAAPh/AAAAAAAA+H8AAAAAAAD4fwAAAAAAAPh/AAAAAAAA+H8AAAAAAAD4fwAAAAAAAPh/AAAAAAAA+H8AAAAAAAD4fwAAAAAAAPh/AAAAAAAA+H8AAAAAAAD4fwAAAAAAAPh/AAAAAAAA+H8AAAAAAAD4fwAAAAAAAPh/AAAAAAAA+H8AAAAAAAD4fwAAAAAAAPh/AAAAAAAA+H8AAAAAAAD4fwAAAAAAAPh/AAAAAAAA+H8AAAAAAAD4fwAAAAAAAPh/AAAAAAAA+H8AAAAAAAD4fw==",
                    "dtype": "f8"
                  },
                  "yaxis": "y"
                },
                {
                  "hovertemplate": "variable=test<br>datetime=%{x}<br>value=%{y}<extra></extra>",
                  "legendgroup": "test",
                  "line": {
                    "color": "#EF553B",
                    "dash": "solid"
                  },
                  "marker": {
                    "symbol": "circle"
                  },
                  "mode": "lines",
                  "name": "test",
                  "orientation": "v",
                  "showlegend": true,
                  "type": "scatter",
                  "x": [
                    "1950-02-28T00:00:00.000000000",
                    "1950-03-31T00:00:00.000000000",
                    "1950-04-30T00:00:00.000000000",
                    "1950-05-31T00:00:00.000000000",
                    "1950-06-30T00:00:00.000000000",
                    "1950-07-31T00:00:00.000000000",
                    "1950-08-31T00:00:00.000000000",
                    "1950-09-30T00:00:00.000000000",
                    "1950-10-31T00:00:00.000000000",
                    "1950-11-30T00:00:00.000000000",
                    "1950-12-31T00:00:00.000000000",
                    "1951-01-31T00:00:00.000000000",
                    "1951-02-28T00:00:00.000000000",
                    "1951-03-31T00:00:00.000000000",
                    "1951-04-30T00:00:00.000000000",
                    "1951-05-31T00:00:00.000000000",
                    "1951-06-30T00:00:00.000000000",
                    "1951-07-31T00:00:00.000000000",
                    "1951-08-31T00:00:00.000000000",
                    "1951-09-30T00:00:00.000000000",
                    "1951-10-31T00:00:00.000000000",
                    "1951-11-30T00:00:00.000000000",
                    "1951-12-31T00:00:00.000000000",
                    "1952-01-31T00:00:00.000000000",
                    "1952-02-29T00:00:00.000000000",
                    "1952-03-31T00:00:00.000000000",
                    "1952-04-30T00:00:00.000000000",
                    "1952-05-31T00:00:00.000000000",
                    "1952-06-30T00:00:00.000000000",
                    "1952-07-31T00:00:00.000000000",
                    "1952-08-31T00:00:00.000000000",
                    "1952-09-30T00:00:00.000000000",
                    "1952-10-31T00:00:00.000000000",
                    "1952-11-30T00:00:00.000000000",
                    "1952-12-31T00:00:00.000000000",
                    "1953-01-31T00:00:00.000000000",
                    "1953-02-28T00:00:00.000000000",
                    "1953-03-31T00:00:00.000000000",
                    "1953-04-30T00:00:00.000000000",
                    "1953-05-31T00:00:00.000000000",
                    "1953-06-30T00:00:00.000000000",
                    "1953-07-31T00:00:00.000000000",
                    "1953-08-31T00:00:00.000000000",
                    "1953-09-30T00:00:00.000000000",
                    "1953-10-31T00:00:00.000000000",
                    "1953-11-30T00:00:00.000000000",
                    "1953-12-31T00:00:00.000000000",
                    "1954-01-31T00:00:00.000000000",
                    "1954-02-28T00:00:00.000000000",
                    "1954-03-31T00:00:00.000000000",
                    "1954-04-30T00:00:00.000000000",
                    "1954-05-31T00:00:00.000000000",
                    "1954-06-30T00:00:00.000000000",
                    "1954-07-31T00:00:00.000000000",
                    "1954-08-31T00:00:00.000000000",
                    "1954-09-30T00:00:00.000000000",
                    "1954-10-31T00:00:00.000000000",
                    "1954-11-30T00:00:00.000000000",
                    "1954-12-31T00:00:00.000000000",
                    "1955-01-31T00:00:00.000000000",
                    "1955-02-28T00:00:00.000000000",
                    "1955-03-31T00:00:00.000000000",
                    "1955-04-30T00:00:00.000000000",
                    "1955-05-31T00:00:00.000000000",
                    "1955-06-30T00:00:00.000000000",
                    "1955-07-31T00:00:00.000000000",
                    "1955-08-31T00:00:00.000000000",
                    "1955-09-30T00:00:00.000000000",
                    "1955-10-31T00:00:00.000000000",
                    "1955-11-30T00:00:00.000000000",
                    "1955-12-31T00:00:00.000000000",
                    "1956-01-31T00:00:00.000000000",
                    "1956-02-29T00:00:00.000000000",
                    "1956-03-31T00:00:00.000000000",
                    "1956-04-30T00:00:00.000000000",
                    "1956-05-31T00:00:00.000000000",
                    "1956-06-30T00:00:00.000000000",
                    "1956-07-31T00:00:00.000000000",
                    "1956-08-31T00:00:00.000000000",
                    "1956-09-30T00:00:00.000000000",
                    "1956-10-31T00:00:00.000000000",
                    "1956-11-30T00:00:00.000000000",
                    "1956-12-31T00:00:00.000000000",
                    "1957-01-31T00:00:00.000000000",
                    "1957-02-28T00:00:00.000000000",
                    "1957-03-31T00:00:00.000000000",
                    "1957-04-30T00:00:00.000000000",
                    "1957-05-31T00:00:00.000000000",
                    "1957-06-30T00:00:00.000000000",
                    "1957-07-31T00:00:00.000000000",
                    "1957-08-31T00:00:00.000000000",
                    "1957-09-30T00:00:00.000000000",
                    "1957-10-31T00:00:00.000000000",
                    "1957-11-30T00:00:00.000000000",
                    "1957-12-31T00:00:00.000000000",
                    "1958-01-31T00:00:00.000000000",
                    "1958-02-28T00:00:00.000000000",
                    "1958-03-31T00:00:00.000000000",
                    "1958-04-30T00:00:00.000000000",
                    "1958-05-31T00:00:00.000000000",
                    "1958-06-30T00:00:00.000000000",
                    "1958-07-31T00:00:00.000000000",
                    "1958-08-31T00:00:00.000000000",
                    "1958-09-30T00:00:00.000000000",
                    "1958-10-31T00:00:00.000000000",
                    "1958-11-30T00:00:00.000000000",
                    "1958-12-31T00:00:00.000000000",
                    "1959-01-31T00:00:00.000000000",
                    "1959-02-28T00:00:00.000000000",
                    "1959-03-31T00:00:00.000000000",
                    "1959-04-30T00:00:00.000000000",
                    "1959-05-31T00:00:00.000000000",
                    "1959-06-30T00:00:00.000000000",
                    "1959-07-31T00:00:00.000000000",
                    "1959-08-31T00:00:00.000000000",
                    "1959-09-30T00:00:00.000000000",
                    "1959-10-31T00:00:00.000000000",
                    "1959-11-30T00:00:00.000000000",
                    "1959-12-31T00:00:00.000000000",
                    "1960-01-31T00:00:00.000000000",
                    "1960-02-29T00:00:00.000000000",
                    "1960-03-31T00:00:00.000000000",
                    "1960-04-30T00:00:00.000000000",
                    "1960-05-31T00:00:00.000000000",
                    "1960-06-30T00:00:00.000000000",
                    "1960-07-31T00:00:00.000000000",
                    "1960-08-31T00:00:00.000000000",
                    "1960-09-30T00:00:00.000000000",
                    "1960-10-31T00:00:00.000000000",
                    "1960-11-30T00:00:00.000000000",
                    "1960-12-31T00:00:00.000000000"
                  ],
                  "xaxis": "x",
                  "y": {
                    "bdata": "AAAAAAAA+H8AAAAAAAD4fwAAAAAAAPh/AAAAAAAA+H8AAAAAAAD4fwAAAAAAAPh/AAAAAAAA+H8AAAAAAAD4fwAAAAAAAPh/AAAAAAAA+H8AAAAAAAD4fwAAAAAAAPh/AAAAAAAA+H8AAAAAAAD4fwAAAAAAAPh/AAAAAAAA+H8AAAAAAAD4fwAAAAAAAPh/AAAAAAAA+H8AAAAAAAD4fwAAAAAAAPh/AAAAAAAA+H8AAAAAAAD4fwAAAAAAAPh/AAAAAAAA+H8AAAAAAAD4fwAAAAAAAPh/AAAAAAAA+H8AAAAAAAD4fwAAAAAAAPh/AAAAAAAA+H8AAAAAAAD4fwAAAAAAAPh/AAAAAAAA+H8AAAAAAAD4fwAAAAAAAPh/AAAAAAAA+H8AAAAAAAD4fwAAAAAAAPh/AAAAAAAA+H8AAAAAAAD4fwAAAAAAAPh/AAAAAAAA+H8AAAAAAAD4fwAAAAAAAPh/AAAAAAAA+H8AAAAAAAD4fwAAAAAAAPh/AAAAAAAA+H8AAAAAAAD4fwAAAAAAAPh/AAAAAAAA+H8AAAAAAAD4fwAAAAAAAPh/AAAAAAAA+H8AAAAAAAD4fwAAAAAAAPh/AAAAAAAA+H8AAAAAAAD4fwAAAAAAAPh/AAAAAAAA+H8AAAAAAAD4fwAAAAAAAPh/AAAAAAAA+H8AAAAAAAD4fwAAAAAAAPh/AAAAAAAA+H8AAAAAAAD4fwAAAAAAAPh/AAAAAAAA+H8AAAAAAAD4fwAAAAAAAPh/AAAAAAAA+H8AAAAAAAD4fwAAAAAAAPh/AAAAAAAA+H8AAAAAAAD4fwAAAAAAAPh/AAAAAAAA+H8AAAAAAAD4fwAAAAAAAPh/AAAAAAAA+H8AAAAAAAD4fwAAAAAAAPh/AAAAAAAA+H8AAAAAAAD4fwAAAAAAAPh/AAAAAAAwdkAAAAAAAGB6QAAAAAAAEH1AAAAAAAAwfUAAAAAAAEB5QAAAAAAAsHVAAAAAAAAQc0AAAAAAAAB1QAAAAAAAQHVAAAAAAADgc0AAAAAAAKB2QAAAAAAAwHVAAAAAAACwdkAAAAAAADB7QAAAAAAAsH5AAAAAAACQf0AAAAAAAEB5QAAAAAAAcHZAAAAAAABgc0AAAAAAABB1QAAAAAAAgHZAAAAAAABgdUAAAAAAAGB5QAAAAAAAwHhAAAAAAABAekAAAAAAAIB9QAAAAAAAIIFAAAAAAAB4gUAAAAAAAPB8QAAAAAAAcHlAAAAAAACgdkAAAAAAAFB5QAAAAAAAEHpAAAAAAABweEAAAAAAADB6QAAAAAAA0HxAAAAAAACAfUAAAAAAALiAQAAAAAAAcINAAAAAAADwgkAAAAAAAMB/QAAAAAAA0HxAAAAAAABgeEAAAAAAAAB7QA==",
                    "dtype": "f8"
                  },
                  "yaxis": "y"
                },
                {
                  "hovertemplate": "variable=train_forecast_sarima<br>datetime=%{x}<br>value=%{y}<extra></extra>",
                  "legendgroup": "train_forecast_sarima",
                  "line": {
                    "color": "#00cc96",
                    "dash": "solid"
                  },
                  "marker": {
                    "symbol": "circle"
                  },
                  "mode": "lines",
                  "name": "train_forecast_sarima",
                  "orientation": "v",
                  "showlegend": true,
                  "type": "scatter",
                  "x": [
                    "1950-02-28T00:00:00.000000000",
                    "1950-03-31T00:00:00.000000000",
                    "1950-04-30T00:00:00.000000000",
                    "1950-05-31T00:00:00.000000000",
                    "1950-06-30T00:00:00.000000000",
                    "1950-07-31T00:00:00.000000000",
                    "1950-08-31T00:00:00.000000000",
                    "1950-09-30T00:00:00.000000000",
                    "1950-10-31T00:00:00.000000000",
                    "1950-11-30T00:00:00.000000000",
                    "1950-12-31T00:00:00.000000000",
                    "1951-01-31T00:00:00.000000000",
                    "1951-02-28T00:00:00.000000000",
                    "1951-03-31T00:00:00.000000000",
                    "1951-04-30T00:00:00.000000000",
                    "1951-05-31T00:00:00.000000000",
                    "1951-06-30T00:00:00.000000000",
                    "1951-07-31T00:00:00.000000000",
                    "1951-08-31T00:00:00.000000000",
                    "1951-09-30T00:00:00.000000000",
                    "1951-10-31T00:00:00.000000000",
                    "1951-11-30T00:00:00.000000000",
                    "1951-12-31T00:00:00.000000000",
                    "1952-01-31T00:00:00.000000000",
                    "1952-02-29T00:00:00.000000000",
                    "1952-03-31T00:00:00.000000000",
                    "1952-04-30T00:00:00.000000000",
                    "1952-05-31T00:00:00.000000000",
                    "1952-06-30T00:00:00.000000000",
                    "1952-07-31T00:00:00.000000000",
                    "1952-08-31T00:00:00.000000000",
                    "1952-09-30T00:00:00.000000000",
                    "1952-10-31T00:00:00.000000000",
                    "1952-11-30T00:00:00.000000000",
                    "1952-12-31T00:00:00.000000000",
                    "1953-01-31T00:00:00.000000000",
                    "1953-02-28T00:00:00.000000000",
                    "1953-03-31T00:00:00.000000000",
                    "1953-04-30T00:00:00.000000000",
                    "1953-05-31T00:00:00.000000000",
                    "1953-06-30T00:00:00.000000000",
                    "1953-07-31T00:00:00.000000000",
                    "1953-08-31T00:00:00.000000000",
                    "1953-09-30T00:00:00.000000000",
                    "1953-10-31T00:00:00.000000000",
                    "1953-11-30T00:00:00.000000000",
                    "1953-12-31T00:00:00.000000000",
                    "1954-01-31T00:00:00.000000000",
                    "1954-02-28T00:00:00.000000000",
                    "1954-03-31T00:00:00.000000000",
                    "1954-04-30T00:00:00.000000000",
                    "1954-05-31T00:00:00.000000000",
                    "1954-06-30T00:00:00.000000000",
                    "1954-07-31T00:00:00.000000000",
                    "1954-08-31T00:00:00.000000000",
                    "1954-09-30T00:00:00.000000000",
                    "1954-10-31T00:00:00.000000000",
                    "1954-11-30T00:00:00.000000000",
                    "1954-12-31T00:00:00.000000000",
                    "1955-01-31T00:00:00.000000000",
                    "1955-02-28T00:00:00.000000000",
                    "1955-03-31T00:00:00.000000000",
                    "1955-04-30T00:00:00.000000000",
                    "1955-05-31T00:00:00.000000000",
                    "1955-06-30T00:00:00.000000000",
                    "1955-07-31T00:00:00.000000000",
                    "1955-08-31T00:00:00.000000000",
                    "1955-09-30T00:00:00.000000000",
                    "1955-10-31T00:00:00.000000000",
                    "1955-11-30T00:00:00.000000000",
                    "1955-12-31T00:00:00.000000000",
                    "1956-01-31T00:00:00.000000000",
                    "1956-02-29T00:00:00.000000000",
                    "1956-03-31T00:00:00.000000000",
                    "1956-04-30T00:00:00.000000000",
                    "1956-05-31T00:00:00.000000000",
                    "1956-06-30T00:00:00.000000000",
                    "1956-07-31T00:00:00.000000000",
                    "1956-08-31T00:00:00.000000000",
                    "1956-09-30T00:00:00.000000000",
                    "1956-10-31T00:00:00.000000000",
                    "1956-11-30T00:00:00.000000000",
                    "1956-12-31T00:00:00.000000000",
                    "1957-01-31T00:00:00.000000000",
                    "1957-02-28T00:00:00.000000000",
                    "1957-03-31T00:00:00.000000000",
                    "1957-04-30T00:00:00.000000000",
                    "1957-05-31T00:00:00.000000000",
                    "1957-06-30T00:00:00.000000000",
                    "1957-07-31T00:00:00.000000000",
                    "1957-08-31T00:00:00.000000000",
                    "1957-09-30T00:00:00.000000000",
                    "1957-10-31T00:00:00.000000000",
                    "1957-11-30T00:00:00.000000000",
                    "1957-12-31T00:00:00.000000000",
                    "1958-01-31T00:00:00.000000000",
                    "1958-02-28T00:00:00.000000000",
                    "1958-03-31T00:00:00.000000000",
                    "1958-04-30T00:00:00.000000000",
                    "1958-05-31T00:00:00.000000000",
                    "1958-06-30T00:00:00.000000000",
                    "1958-07-31T00:00:00.000000000",
                    "1958-08-31T00:00:00.000000000",
                    "1958-09-30T00:00:00.000000000",
                    "1958-10-31T00:00:00.000000000",
                    "1958-11-30T00:00:00.000000000",
                    "1958-12-31T00:00:00.000000000",
                    "1959-01-31T00:00:00.000000000",
                    "1959-02-28T00:00:00.000000000",
                    "1959-03-31T00:00:00.000000000",
                    "1959-04-30T00:00:00.000000000",
                    "1959-05-31T00:00:00.000000000",
                    "1959-06-30T00:00:00.000000000",
                    "1959-07-31T00:00:00.000000000",
                    "1959-08-31T00:00:00.000000000",
                    "1959-09-30T00:00:00.000000000",
                    "1959-10-31T00:00:00.000000000",
                    "1959-11-30T00:00:00.000000000",
                    "1959-12-31T00:00:00.000000000",
                    "1960-01-31T00:00:00.000000000",
                    "1960-02-29T00:00:00.000000000",
                    "1960-03-31T00:00:00.000000000",
                    "1960-04-30T00:00:00.000000000",
                    "1960-05-31T00:00:00.000000000",
                    "1960-06-30T00:00:00.000000000",
                    "1960-07-31T00:00:00.000000000",
                    "1960-08-31T00:00:00.000000000",
                    "1960-09-30T00:00:00.000000000",
                    "1960-10-31T00:00:00.000000000",
                    "1960-11-30T00:00:00.000000000",
                    "1960-12-31T00:00:00.000000000"
                  ],
                  "xaxis": "x",
                  "y": {
                    "bdata": "bM4vJUlKXkCRcCB1X55hQF79oGDfOGFAZlGq0jfuX0BSSvbJn5hhQEB6CcmR62NAnTBh+iKpZEDc+IrgGEpjQK+v7GPLGmFAIUDkXLxrXUBeL+GKxGRgQBamRtq6k2BAwooraiwWY0C7PBNxbB1lQBLavskAB2VAI/ur8RE8Y0Cx3jONZrZnQD2XK/1ipGlA9Bhmtb80aUA/X7j40SJnQLslwobzvmNAwC4m+9xQYUAIEaGzzSZlQHNqDClwGGVAqBJoXMKYZkAe9m7TP+VpQNt0V92PdWdAycRvUhykZkB3QbUY/hBpQAm9XMyda21AL2+8PTcKbUCTWKy6tXprQDFx0owIKGdAAoXSjaPAZEC1C4K+haJoQEQo/nk322hA5v9Pcz0SakDN7HSs9RZsQOK4hVp7LGtAAvaMIMpGbEAWYpfhYDFwQNaWq/g4D3FA7ooDajEZcUC9f4yGNqNuQOKDQZcJpGpAWIx66I2MZ0D508S8vlxqQATuQNs4CWpA8pAqonWZakA/DblnbIlsQAM/w3Sg7GtAkK7RmcfQa0Ap8mmfw6ZvQOLngeAcqXFAHoQpDzPLckBDKCUHj3BwQB7DsYQz8GxAwFAxsH8laUDTXwgyMLRsQO/wJAe+FW1ALJN7EdxabUAHCJ5ZdGFxQNFbRwKpX3BAKYw1VCqxcEBTrDCSQLlyQN2aNmU5Z3VAbMUc5Pg2dkA7DzM+xGtzQP86DHABQXFA1xb2jow1bkCrwcgulOtwQHHBMGLStnFAj3rCOjlVcUASY0bt2kx0QF5vlFuupHNAr5/CZn+tc0D/XzAAgnZ2QNNqxd1v7XlA1pTxdAtreUBODrw6Gpp2QHiXSqu7wHNAVJyQbSXxcEBKd21BaHRzQMGo3gEKzHNAfrkWBsJFc0B8riasSxJ2QCDW/R2fznVAAAAAAAAA+H8AAAAAAAD4fwAAAAAAAPh/AAAAAAAA+H8AAAAAAAD4fwAAAAAAAPh/AAAAAAAA+H8AAAAAAAD4fwAAAAAAAPh/AAAAAAAA+H8AAAAAAAD4fwAAAAAAAPh/AAAAAAAA+H8AAAAAAAD4fwAAAAAAAPh/AAAAAAAA+H8AAAAAAAD4fwAAAAAAAPh/AAAAAAAA+H8AAAAAAAD4fwAAAAAAAPh/AAAAAAAA+H8AAAAAAAD4fwAAAAAAAPh/AAAAAAAA+H8AAAAAAAD4fwAAAAAAAPh/AAAAAAAA+H8AAAAAAAD4fwAAAAAAAPh/AAAAAAAA+H8AAAAAAAD4fwAAAAAAAPh/AAAAAAAA+H8AAAAAAAD4fwAAAAAAAPh/AAAAAAAA+H8AAAAAAAD4fwAAAAAAAPh/AAAAAAAA+H8AAAAAAAD4fwAAAAAAAPh/AAAAAAAA+H8AAAAAAAD4fw==",
                    "dtype": "f8"
                  },
                  "yaxis": "y"
                },
                {
                  "hovertemplate": "variable=test_forecast_sarima<br>datetime=%{x}<br>value=%{y}<extra></extra>",
                  "legendgroup": "test_forecast_sarima",
                  "line": {
                    "color": "#ab63fa",
                    "dash": "solid"
                  },
                  "marker": {
                    "symbol": "circle"
                  },
                  "mode": "lines",
                  "name": "test_forecast_sarima",
                  "orientation": "v",
                  "showlegend": true,
                  "type": "scatter",
                  "x": [
                    "1950-02-28T00:00:00.000000000",
                    "1950-03-31T00:00:00.000000000",
                    "1950-04-30T00:00:00.000000000",
                    "1950-05-31T00:00:00.000000000",
                    "1950-06-30T00:00:00.000000000",
                    "1950-07-31T00:00:00.000000000",
                    "1950-08-31T00:00:00.000000000",
                    "1950-09-30T00:00:00.000000000",
                    "1950-10-31T00:00:00.000000000",
                    "1950-11-30T00:00:00.000000000",
                    "1950-12-31T00:00:00.000000000",
                    "1951-01-31T00:00:00.000000000",
                    "1951-02-28T00:00:00.000000000",
                    "1951-03-31T00:00:00.000000000",
                    "1951-04-30T00:00:00.000000000",
                    "1951-05-31T00:00:00.000000000",
                    "1951-06-30T00:00:00.000000000",
                    "1951-07-31T00:00:00.000000000",
                    "1951-08-31T00:00:00.000000000",
                    "1951-09-30T00:00:00.000000000",
                    "1951-10-31T00:00:00.000000000",
                    "1951-11-30T00:00:00.000000000",
                    "1951-12-31T00:00:00.000000000",
                    "1952-01-31T00:00:00.000000000",
                    "1952-02-29T00:00:00.000000000",
                    "1952-03-31T00:00:00.000000000",
                    "1952-04-30T00:00:00.000000000",
                    "1952-05-31T00:00:00.000000000",
                    "1952-06-30T00:00:00.000000000",
                    "1952-07-31T00:00:00.000000000",
                    "1952-08-31T00:00:00.000000000",
                    "1952-09-30T00:00:00.000000000",
                    "1952-10-31T00:00:00.000000000",
                    "1952-11-30T00:00:00.000000000",
                    "1952-12-31T00:00:00.000000000",
                    "1953-01-31T00:00:00.000000000",
                    "1953-02-28T00:00:00.000000000",
                    "1953-03-31T00:00:00.000000000",
                    "1953-04-30T00:00:00.000000000",
                    "1953-05-31T00:00:00.000000000",
                    "1953-06-30T00:00:00.000000000",
                    "1953-07-31T00:00:00.000000000",
                    "1953-08-31T00:00:00.000000000",
                    "1953-09-30T00:00:00.000000000",
                    "1953-10-31T00:00:00.000000000",
                    "1953-11-30T00:00:00.000000000",
                    "1953-12-31T00:00:00.000000000",
                    "1954-01-31T00:00:00.000000000",
                    "1954-02-28T00:00:00.000000000",
                    "1954-03-31T00:00:00.000000000",
                    "1954-04-30T00:00:00.000000000",
                    "1954-05-31T00:00:00.000000000",
                    "1954-06-30T00:00:00.000000000",
                    "1954-07-31T00:00:00.000000000",
                    "1954-08-31T00:00:00.000000000",
                    "1954-09-30T00:00:00.000000000",
                    "1954-10-31T00:00:00.000000000",
                    "1954-11-30T00:00:00.000000000",
                    "1954-12-31T00:00:00.000000000",
                    "1955-01-31T00:00:00.000000000",
                    "1955-02-28T00:00:00.000000000",
                    "1955-03-31T00:00:00.000000000",
                    "1955-04-30T00:00:00.000000000",
                    "1955-05-31T00:00:00.000000000",
                    "1955-06-30T00:00:00.000000000",
                    "1955-07-31T00:00:00.000000000",
                    "1955-08-31T00:00:00.000000000",
                    "1955-09-30T00:00:00.000000000",
                    "1955-10-31T00:00:00.000000000",
                    "1955-11-30T00:00:00.000000000",
                    "1955-12-31T00:00:00.000000000",
                    "1956-01-31T00:00:00.000000000",
                    "1956-02-29T00:00:00.000000000",
                    "1956-03-31T00:00:00.000000000",
                    "1956-04-30T00:00:00.000000000",
                    "1956-05-31T00:00:00.000000000",
                    "1956-06-30T00:00:00.000000000",
                    "1956-07-31T00:00:00.000000000",
                    "1956-08-31T00:00:00.000000000",
                    "1956-09-30T00:00:00.000000000",
                    "1956-10-31T00:00:00.000000000",
                    "1956-11-30T00:00:00.000000000",
                    "1956-12-31T00:00:00.000000000",
                    "1957-01-31T00:00:00.000000000",
                    "1957-02-28T00:00:00.000000000",
                    "1957-03-31T00:00:00.000000000",
                    "1957-04-30T00:00:00.000000000",
                    "1957-05-31T00:00:00.000000000",
                    "1957-06-30T00:00:00.000000000",
                    "1957-07-31T00:00:00.000000000",
                    "1957-08-31T00:00:00.000000000",
                    "1957-09-30T00:00:00.000000000",
                    "1957-10-31T00:00:00.000000000",
                    "1957-11-30T00:00:00.000000000",
                    "1957-12-31T00:00:00.000000000",
                    "1958-01-31T00:00:00.000000000",
                    "1958-02-28T00:00:00.000000000",
                    "1958-03-31T00:00:00.000000000",
                    "1958-04-30T00:00:00.000000000",
                    "1958-05-31T00:00:00.000000000",
                    "1958-06-30T00:00:00.000000000",
                    "1958-07-31T00:00:00.000000000",
                    "1958-08-31T00:00:00.000000000",
                    "1958-09-30T00:00:00.000000000",
                    "1958-10-31T00:00:00.000000000",
                    "1958-11-30T00:00:00.000000000",
                    "1958-12-31T00:00:00.000000000",
                    "1959-01-31T00:00:00.000000000",
                    "1959-02-28T00:00:00.000000000",
                    "1959-03-31T00:00:00.000000000",
                    "1959-04-30T00:00:00.000000000",
                    "1959-05-31T00:00:00.000000000",
                    "1959-06-30T00:00:00.000000000",
                    "1959-07-31T00:00:00.000000000",
                    "1959-08-31T00:00:00.000000000",
                    "1959-09-30T00:00:00.000000000",
                    "1959-10-31T00:00:00.000000000",
                    "1959-11-30T00:00:00.000000000",
                    "1959-12-31T00:00:00.000000000",
                    "1960-01-31T00:00:00.000000000",
                    "1960-02-29T00:00:00.000000000",
                    "1960-03-31T00:00:00.000000000",
                    "1960-04-30T00:00:00.000000000",
                    "1960-05-31T00:00:00.000000000",
                    "1960-06-30T00:00:00.000000000",
                    "1960-07-31T00:00:00.000000000",
                    "1960-08-31T00:00:00.000000000",
                    "1960-09-30T00:00:00.000000000",
                    "1960-10-31T00:00:00.000000000",
                    "1960-11-30T00:00:00.000000000",
                    "1960-12-31T00:00:00.000000000"
                  ],
                  "xaxis": "x",
                  "y": {
                    "bdata": "AAAAAAAA+H8AAAAAAAD4fwAAAAAAAPh/AAAAAAAA+H8AAAAAAAD4fwAAAAAAAPh/AAAAAAAA+H8AAAAAAAD4fwAAAAAAAPh/AAAAAAAA+H8AAAAAAAD4fwAAAAAAAPh/AAAAAAAA+H8AAAAAAAD4fwAAAAAAAPh/AAAAAAAA+H8AAAAAAAD4fwAAAAAAAPh/AAAAAAAA+H8AAAAAAAD4fwAAAAAAAPh/AAAAAAAA+H8AAAAAAAD4fwAAAAAAAPh/AAAAAAAA+H8AAAAAAAD4fwAAAAAAAPh/AAAAAAAA+H8AAAAAAAD4fwAAAAAAAPh/AAAAAAAA+H8AAAAAAAD4fwAAAAAAAPh/AAAAAAAA+H8AAAAAAAD4fwAAAAAAAPh/AAAAAAAA+H8AAAAAAAD4fwAAAAAAAPh/AAAAAAAA+H8AAAAAAAD4fwAAAAAAAPh/AAAAAAAA+H8AAAAAAAD4fwAAAAAAAPh/AAAAAAAA+H8AAAAAAAD4fwAAAAAAAPh/AAAAAAAA+H8AAAAAAAD4fwAAAAAAAPh/AAAAAAAA+H8AAAAAAAD4fwAAAAAAAPh/AAAAAAAA+H8AAAAAAAD4fwAAAAAAAPh/AAAAAAAA+H8AAAAAAAD4fwAAAAAAAPh/AAAAAAAA+H8AAAAAAAD4fwAAAAAAAPh/AAAAAAAA+H8AAAAAAAD4fwAAAAAAAPh/AAAAAAAA+H8AAAAAAAD4fwAAAAAAAPh/AAAAAAAA+H8AAAAAAAD4fwAAAAAAAPh/AAAAAAAA+H8AAAAAAAD4fwAAAAAAAPh/AAAAAAAA+H8AAAAAAAD4fwAAAAAAAPh/AAAAAAAA+H8AAAAAAAD4fwAAAAAAAPh/AAAAAAAA+H8AAAAAAAD4fwAAAAAAAPh/AAAAAAAA+H8AAAAAAAD4fwAAAAAAAPh/neDroVL3dUAj/EyjkEl5QIFLE14oS3xAqcsQrWvIe0DdBmT1eZl4QCviHCRDhHVAENYwYcjlckAJzD5w2Y51QCKKoeeuKnZAF7Ea9hp2dUBKB5+Tkhl5QGbR2KF2oHhAnd1kibfaeECVxEFHwZx8QIDeWQPFAYBATZKRopxvf0AqFBBWg9V7QOs1hweHWHhAUjZ1d+NhdUCGhiGygWR4QD8a+aLUFHlAzJUkUYJIeEAw5VLCc2Z8QCZ8gDJr3XtAxgem9FQffEDs0HrH7i+AQK9P4r+SHIJAlif4YuLIgUBPIL/+bH5/QBKaWi4GjHtAveLKT6IxeECLjw0TlJl7QLP9njMWYXxAU2ssR+Z5e0BVbqwVNhGAQPYrvfdeh39AGGMsaPPRf0DWkyFmzlCCQEyLpvw4foRAsLb5mIcfhEACmMfjQ9GBQPo2UydGK39Ac6SqSARge0D4DwRLnDp/QA==",
                    "dtype": "f8"
                  },
                  "yaxis": "y"
                }
              ],
              "layout": {
                "legend": {
                  "title": {
                    "text": "variable"
                  },
                  "tracegroupgap": 0
                },
                "margin": {
                  "t": 60
                },
                "template": {
                  "data": {
                    "bar": [
                      {
                        "error_x": {
                          "color": "#f2f5fa"
                        },
                        "error_y": {
                          "color": "#f2f5fa"
                        },
                        "marker": {
                          "line": {
                            "color": "rgb(17,17,17)",
                            "width": 0.5
                          },
                          "pattern": {
                            "fillmode": "overlay",
                            "size": 10,
                            "solidity": 0.2
                          }
                        },
                        "type": "bar"
                      }
                    ],
                    "barpolar": [
                      {
                        "marker": {
                          "line": {
                            "color": "rgb(17,17,17)",
                            "width": 0.5
                          },
                          "pattern": {
                            "fillmode": "overlay",
                            "size": 10,
                            "solidity": 0.2
                          }
                        },
                        "type": "barpolar"
                      }
                    ],
                    "carpet": [
                      {
                        "aaxis": {
                          "endlinecolor": "#A2B1C6",
                          "gridcolor": "#506784",
                          "linecolor": "#506784",
                          "minorgridcolor": "#506784",
                          "startlinecolor": "#A2B1C6"
                        },
                        "baxis": {
                          "endlinecolor": "#A2B1C6",
                          "gridcolor": "#506784",
                          "linecolor": "#506784",
                          "minorgridcolor": "#506784",
                          "startlinecolor": "#A2B1C6"
                        },
                        "type": "carpet"
                      }
                    ],
                    "choropleth": [
                      {
                        "colorbar": {
                          "outlinewidth": 0,
                          "ticks": ""
                        },
                        "type": "choropleth"
                      }
                    ],
                    "contour": [
                      {
                        "colorbar": {
                          "outlinewidth": 0,
                          "ticks": ""
                        },
                        "colorscale": [
                          [
                            0,
                            "#0d0887"
                          ],
                          [
                            0.1111111111111111,
                            "#46039f"
                          ],
                          [
                            0.2222222222222222,
                            "#7201a8"
                          ],
                          [
                            0.3333333333333333,
                            "#9c179e"
                          ],
                          [
                            0.4444444444444444,
                            "#bd3786"
                          ],
                          [
                            0.5555555555555556,
                            "#d8576b"
                          ],
                          [
                            0.6666666666666666,
                            "#ed7953"
                          ],
                          [
                            0.7777777777777778,
                            "#fb9f3a"
                          ],
                          [
                            0.8888888888888888,
                            "#fdca26"
                          ],
                          [
                            1,
                            "#f0f921"
                          ]
                        ],
                        "type": "contour"
                      }
                    ],
                    "contourcarpet": [
                      {
                        "colorbar": {
                          "outlinewidth": 0,
                          "ticks": ""
                        },
                        "type": "contourcarpet"
                      }
                    ],
                    "heatmap": [
                      {
                        "colorbar": {
                          "outlinewidth": 0,
                          "ticks": ""
                        },
                        "colorscale": [
                          [
                            0,
                            "#0d0887"
                          ],
                          [
                            0.1111111111111111,
                            "#46039f"
                          ],
                          [
                            0.2222222222222222,
                            "#7201a8"
                          ],
                          [
                            0.3333333333333333,
                            "#9c179e"
                          ],
                          [
                            0.4444444444444444,
                            "#bd3786"
                          ],
                          [
                            0.5555555555555556,
                            "#d8576b"
                          ],
                          [
                            0.6666666666666666,
                            "#ed7953"
                          ],
                          [
                            0.7777777777777778,
                            "#fb9f3a"
                          ],
                          [
                            0.8888888888888888,
                            "#fdca26"
                          ],
                          [
                            1,
                            "#f0f921"
                          ]
                        ],
                        "type": "heatmap"
                      }
                    ],
                    "histogram": [
                      {
                        "marker": {
                          "pattern": {
                            "fillmode": "overlay",
                            "size": 10,
                            "solidity": 0.2
                          }
                        },
                        "type": "histogram"
                      }
                    ],
                    "histogram2d": [
                      {
                        "colorbar": {
                          "outlinewidth": 0,
                          "ticks": ""
                        },
                        "colorscale": [
                          [
                            0,
                            "#0d0887"
                          ],
                          [
                            0.1111111111111111,
                            "#46039f"
                          ],
                          [
                            0.2222222222222222,
                            "#7201a8"
                          ],
                          [
                            0.3333333333333333,
                            "#9c179e"
                          ],
                          [
                            0.4444444444444444,
                            "#bd3786"
                          ],
                          [
                            0.5555555555555556,
                            "#d8576b"
                          ],
                          [
                            0.6666666666666666,
                            "#ed7953"
                          ],
                          [
                            0.7777777777777778,
                            "#fb9f3a"
                          ],
                          [
                            0.8888888888888888,
                            "#fdca26"
                          ],
                          [
                            1,
                            "#f0f921"
                          ]
                        ],
                        "type": "histogram2d"
                      }
                    ],
                    "histogram2dcontour": [
                      {
                        "colorbar": {
                          "outlinewidth": 0,
                          "ticks": ""
                        },
                        "colorscale": [
                          [
                            0,
                            "#0d0887"
                          ],
                          [
                            0.1111111111111111,
                            "#46039f"
                          ],
                          [
                            0.2222222222222222,
                            "#7201a8"
                          ],
                          [
                            0.3333333333333333,
                            "#9c179e"
                          ],
                          [
                            0.4444444444444444,
                            "#bd3786"
                          ],
                          [
                            0.5555555555555556,
                            "#d8576b"
                          ],
                          [
                            0.6666666666666666,
                            "#ed7953"
                          ],
                          [
                            0.7777777777777778,
                            "#fb9f3a"
                          ],
                          [
                            0.8888888888888888,
                            "#fdca26"
                          ],
                          [
                            1,
                            "#f0f921"
                          ]
                        ],
                        "type": "histogram2dcontour"
                      }
                    ],
                    "mesh3d": [
                      {
                        "colorbar": {
                          "outlinewidth": 0,
                          "ticks": ""
                        },
                        "type": "mesh3d"
                      }
                    ],
                    "parcoords": [
                      {
                        "line": {
                          "colorbar": {
                            "outlinewidth": 0,
                            "ticks": ""
                          }
                        },
                        "type": "parcoords"
                      }
                    ],
                    "pie": [
                      {
                        "automargin": true,
                        "type": "pie"
                      }
                    ],
                    "scatter": [
                      {
                        "marker": {
                          "line": {
                            "color": "#283442"
                          }
                        },
                        "type": "scatter"
                      }
                    ],
                    "scatter3d": [
                      {
                        "line": {
                          "colorbar": {
                            "outlinewidth": 0,
                            "ticks": ""
                          }
                        },
                        "marker": {
                          "colorbar": {
                            "outlinewidth": 0,
                            "ticks": ""
                          }
                        },
                        "type": "scatter3d"
                      }
                    ],
                    "scattercarpet": [
                      {
                        "marker": {
                          "colorbar": {
                            "outlinewidth": 0,
                            "ticks": ""
                          }
                        },
                        "type": "scattercarpet"
                      }
                    ],
                    "scattergeo": [
                      {
                        "marker": {
                          "colorbar": {
                            "outlinewidth": 0,
                            "ticks": ""
                          }
                        },
                        "type": "scattergeo"
                      }
                    ],
                    "scattergl": [
                      {
                        "marker": {
                          "line": {
                            "color": "#283442"
                          }
                        },
                        "type": "scattergl"
                      }
                    ],
                    "scattermap": [
                      {
                        "marker": {
                          "colorbar": {
                            "outlinewidth": 0,
                            "ticks": ""
                          }
                        },
                        "type": "scattermap"
                      }
                    ],
                    "scattermapbox": [
                      {
                        "marker": {
                          "colorbar": {
                            "outlinewidth": 0,
                            "ticks": ""
                          }
                        },
                        "type": "scattermapbox"
                      }
                    ],
                    "scatterpolar": [
                      {
                        "marker": {
                          "colorbar": {
                            "outlinewidth": 0,
                            "ticks": ""
                          }
                        },
                        "type": "scatterpolar"
                      }
                    ],
                    "scatterpolargl": [
                      {
                        "marker": {
                          "colorbar": {
                            "outlinewidth": 0,
                            "ticks": ""
                          }
                        },
                        "type": "scatterpolargl"
                      }
                    ],
                    "scatterternary": [
                      {
                        "marker": {
                          "colorbar": {
                            "outlinewidth": 0,
                            "ticks": ""
                          }
                        },
                        "type": "scatterternary"
                      }
                    ],
                    "surface": [
                      {
                        "colorbar": {
                          "outlinewidth": 0,
                          "ticks": ""
                        },
                        "colorscale": [
                          [
                            0,
                            "#0d0887"
                          ],
                          [
                            0.1111111111111111,
                            "#46039f"
                          ],
                          [
                            0.2222222222222222,
                            "#7201a8"
                          ],
                          [
                            0.3333333333333333,
                            "#9c179e"
                          ],
                          [
                            0.4444444444444444,
                            "#bd3786"
                          ],
                          [
                            0.5555555555555556,
                            "#d8576b"
                          ],
                          [
                            0.6666666666666666,
                            "#ed7953"
                          ],
                          [
                            0.7777777777777778,
                            "#fb9f3a"
                          ],
                          [
                            0.8888888888888888,
                            "#fdca26"
                          ],
                          [
                            1,
                            "#f0f921"
                          ]
                        ],
                        "type": "surface"
                      }
                    ],
                    "table": [
                      {
                        "cells": {
                          "fill": {
                            "color": "#506784"
                          },
                          "line": {
                            "color": "rgb(17,17,17)"
                          }
                        },
                        "header": {
                          "fill": {
                            "color": "#2a3f5f"
                          },
                          "line": {
                            "color": "rgb(17,17,17)"
                          }
                        },
                        "type": "table"
                      }
                    ]
                  },
                  "layout": {
                    "annotationdefaults": {
                      "arrowcolor": "#f2f5fa",
                      "arrowhead": 0,
                      "arrowwidth": 1
                    },
                    "autosize": false,
                    "autotypenumbers": "strict",
                    "coloraxis": {
                      "colorbar": {
                        "outlinewidth": 0,
                        "ticks": ""
                      }
                    },
                    "colorscale": {
                      "diverging": [
                        [
                          0,
                          "#8e0152"
                        ],
                        [
                          0.1,
                          "#c51b7d"
                        ],
                        [
                          0.2,
                          "#de77ae"
                        ],
                        [
                          0.3,
                          "#f1b6da"
                        ],
                        [
                          0.4,
                          "#fde0ef"
                        ],
                        [
                          0.5,
                          "#f7f7f7"
                        ],
                        [
                          0.6,
                          "#e6f5d0"
                        ],
                        [
                          0.7,
                          "#b8e186"
                        ],
                        [
                          0.8,
                          "#7fbc41"
                        ],
                        [
                          0.9,
                          "#4d9221"
                        ],
                        [
                          1,
                          "#276419"
                        ]
                      ],
                      "sequential": [
                        [
                          0,
                          "#0d0887"
                        ],
                        [
                          0.1111111111111111,
                          "#46039f"
                        ],
                        [
                          0.2222222222222222,
                          "#7201a8"
                        ],
                        [
                          0.3333333333333333,
                          "#9c179e"
                        ],
                        [
                          0.4444444444444444,
                          "#bd3786"
                        ],
                        [
                          0.5555555555555556,
                          "#d8576b"
                        ],
                        [
                          0.6666666666666666,
                          "#ed7953"
                        ],
                        [
                          0.7777777777777778,
                          "#fb9f3a"
                        ],
                        [
                          0.8888888888888888,
                          "#fdca26"
                        ],
                        [
                          1,
                          "#f0f921"
                        ]
                      ],
                      "sequentialminus": [
                        [
                          0,
                          "#0d0887"
                        ],
                        [
                          0.1111111111111111,
                          "#46039f"
                        ],
                        [
                          0.2222222222222222,
                          "#7201a8"
                        ],
                        [
                          0.3333333333333333,
                          "#9c179e"
                        ],
                        [
                          0.4444444444444444,
                          "#bd3786"
                        ],
                        [
                          0.5555555555555556,
                          "#d8576b"
                        ],
                        [
                          0.6666666666666666,
                          "#ed7953"
                        ],
                        [
                          0.7777777777777778,
                          "#fb9f3a"
                        ],
                        [
                          0.8888888888888888,
                          "#fdca26"
                        ],
                        [
                          1,
                          "#f0f921"
                        ]
                      ]
                    },
                    "colorway": [
                      "#636efa",
                      "#EF553B",
                      "#00cc96",
                      "#ab63fa",
                      "#FFA15A",
                      "#19d3f3",
                      "#FF6692",
                      "#B6E880",
                      "#FF97FF",
                      "#FECB52"
                    ],
                    "font": {
                      "color": "#f2f5fa"
                    },
                    "geo": {
                      "bgcolor": "rgb(17,17,17)",
                      "lakecolor": "rgb(17,17,17)",
                      "landcolor": "rgb(17,17,17)",
                      "showlakes": true,
                      "showland": true,
                      "subunitcolor": "#506784"
                    },
                    "height": 500,
                    "hoverlabel": {
                      "align": "left"
                    },
                    "hovermode": "closest",
                    "mapbox": {
                      "style": "dark"
                    },
                    "paper_bgcolor": "rgb(17,17,17)",
                    "plot_bgcolor": "rgb(17,17,17)",
                    "polar": {
                      "angularaxis": {
                        "gridcolor": "#506784",
                        "linecolor": "#506784",
                        "ticks": ""
                      },
                      "bgcolor": "rgb(17,17,17)",
                      "radialaxis": {
                        "gridcolor": "#506784",
                        "linecolor": "#506784",
                        "ticks": ""
                      }
                    },
                    "scene": {
                      "xaxis": {
                        "backgroundcolor": "rgb(17,17,17)",
                        "gridcolor": "#506784",
                        "gridwidth": 2,
                        "linecolor": "#506784",
                        "showbackground": true,
                        "ticks": "",
                        "zerolinecolor": "#C8D4E3"
                      },
                      "yaxis": {
                        "backgroundcolor": "rgb(17,17,17)",
                        "gridcolor": "#506784",
                        "gridwidth": 2,
                        "linecolor": "#506784",
                        "showbackground": true,
                        "ticks": "",
                        "zerolinecolor": "#C8D4E3"
                      },
                      "zaxis": {
                        "backgroundcolor": "rgb(17,17,17)",
                        "gridcolor": "#506784",
                        "gridwidth": 2,
                        "linecolor": "#506784",
                        "showbackground": true,
                        "ticks": "",
                        "zerolinecolor": "#C8D4E3"
                      }
                    },
                    "shapedefaults": {
                      "line": {
                        "color": "#f2f5fa"
                      }
                    },
                    "showlegend": true,
                    "sliderdefaults": {
                      "bgcolor": "#C8D4E3",
                      "bordercolor": "rgb(17,17,17)",
                      "borderwidth": 1,
                      "tickwidth": 0
                    },
                    "ternary": {
                      "aaxis": {
                        "gridcolor": "#506784",
                        "linecolor": "#506784",
                        "ticks": ""
                      },
                      "baxis": {
                        "gridcolor": "#506784",
                        "linecolor": "#506784",
                        "ticks": ""
                      },
                      "bgcolor": "rgb(17,17,17)",
                      "caxis": {
                        "gridcolor": "#506784",
                        "linecolor": "#506784",
                        "ticks": ""
                      }
                    },
                    "title": {
                      "x": 0.05
                    },
                    "updatemenudefaults": {
                      "bgcolor": "#506784",
                      "borderwidth": 0
                    },
                    "width": 1000,
                    "xaxis": {
                      "automargin": true,
                      "gridcolor": "#283442",
                      "linecolor": "#506784",
                      "ticks": "",
                      "title": {
                        "standoff": 15
                      },
                      "zerolinecolor": "#283442",
                      "zerolinewidth": 2
                    },
                    "yaxis": {
                      "automargin": true,
                      "gridcolor": "#283442",
                      "linecolor": "#506784",
                      "ticks": "",
                      "title": {
                        "standoff": 15
                      },
                      "zerolinecolor": "#283442",
                      "zerolinewidth": 2
                    }
                  }
                },
                "xaxis": {
                  "anchor": "y",
                  "domain": [
                    0,
                    1
                  ],
                  "title": {
                    "text": "datetime"
                  }
                },
                "yaxis": {
                  "anchor": "x",
                  "domain": [
                    0,
                    1
                  ],
                  "title": {
                    "text": "value"
                  }
                }
              }
            }
          },
          "metadata": {},
          "output_type": "display_data"
        }
      ],
      "source": [
        "df_pred[12+1:].plot()"
      ]
    },
    {
      "cell_type": "markdown",
      "id": "c3a3e01a",
      "metadata": {},
      "source": [
        "## Model comparison: SARIMA vs ETS vs Prophet"
      ]
    },
    {
      "cell_type": "code",
      "execution_count": 21,
      "id": "2ca1eb11",
      "metadata": {},
      "outputs": [],
      "source": [
        "configs = {\n",
        "    'sarima': {\n",
        "        'model_params': {\n",
        "            'order': (0, 1, 1),\n",
        "            'seasonal_order': (0, 1, 1, 12),\n",
        "            'enforce_invertibility': False,\n",
        "            'enforce_stationarity': False,\n",
        "        },\n",
        "        'log_transform': True,\n",
        "    },\n",
        "    'ets': {\n",
        "        'model_params': {\n",
        "            'trend': 'add',\n",
        "            'seasonal': 'mul',\n",
        "            'damped_trend': False,\n",
        "        },\n",
        "        'log_transform': False,\n",
        "    },\n",
        "    'prophet': {\n",
        "        'model_params': {\n",
        "            'seasonality_mode': 'multiplicative',\n",
        "            'yearly_seasonality': True,\n",
        "        },\n",
        "        'log_transform': True,\n",
        "    },\n",
        "}"
      ]
    },
    {
      "cell_type": "code",
      "execution_count": 20,
      "id": "ec80dba5",
      "metadata": {},
      "outputs": [],
      "source": [
        "train, test = train_test_split(df_base['values'], test_size=0.3, shuffle=False)"
      ]
    },
    {
      "cell_type": "code",
      "execution_count": 22,
      "id": "4b34b02e",
      "metadata": {},
      "outputs": [],
      "source": [
        "tf = utils.TimeSeriesForecaster(train=train, test=test, freq=\"ME\", idx_offset=13)\n",
        "\n",
        "from sklearn.metrics import root_mean_squared_error, mean_absolute_error\n",
        "\n",
        "metrics = {\n",
        "    'rmse': root_mean_squared_error,\n",
        "    'mae': mean_absolute_error \n",
        "}"
      ]
    },
    {
      "cell_type": "code",
      "execution_count": 23,
      "id": "c9398afe",
      "metadata": {},
      "outputs": [
        {
          "name": "stderr",
          "output_type": "stream",
          "text": [
            "10:56:27 - cmdstanpy - INFO - Chain [1] start processing\n",
            "10:56:27 - cmdstanpy - INFO - Chain [1] done processing\n"
          ]
        },
        {
          "data": {
            "text/html": [
              "<div>\n",
              "<style scoped>\n",
              "    .dataframe tbody tr th:only-of-type {\n",
              "        vertical-align: middle;\n",
              "    }\n",
              "\n",
              "    .dataframe tbody tr th {\n",
              "        vertical-align: top;\n",
              "    }\n",
              "\n",
              "    .dataframe thead th {\n",
              "        text-align: right;\n",
              "    }\n",
              "</style>\n",
              "<table border=\"1\" class=\"dataframe\">\n",
              "  <thead>\n",
              "    <tr style=\"text-align: right;\">\n",
              "      <th></th>\n",
              "      <th>model</th>\n",
              "      <th>split</th>\n",
              "      <th>values</th>\n",
              "      <th>datetime</th>\n",
              "      <th>rmse</th>\n",
              "      <th>mae</th>\n",
              "    </tr>\n",
              "  </thead>\n",
              "  <tbody>\n",
              "    <tr>\n",
              "      <th>0</th>\n",
              "      <td>sarima</td>\n",
              "      <td>train</td>\n",
              "      <td>[121.1607144324168, 140.94915253005868, 137.77...</td>\n",
              "      <td>DatetimeIndex(['1950-02-28', '1950-03-31', '19...</td>\n",
              "      <td>8.545512</td>\n",
              "      <td>6.675626</td>\n",
              "    </tr>\n",
              "    <tr>\n",
              "      <th>1</th>\n",
              "      <td>sarima</td>\n",
              "      <td>test</td>\n",
              "      <td>[351.4576739515267, 404.5978119857047, 452.697...</td>\n",
              "      <td>DatetimeIndex(['1957-05-31', '1957-06-30', '19...</td>\n",
              "      <td>38.558619</td>\n",
              "      <td>33.725548</td>\n",
              "    </tr>\n",
              "    <tr>\n",
              "      <th>...</th>\n",
              "      <td>...</td>\n",
              "      <td>...</td>\n",
              "      <td>...</td>\n",
              "      <td>...</td>\n",
              "      <td>...</td>\n",
              "      <td>...</td>\n",
              "    </tr>\n",
              "    <tr>\n",
              "      <th>4</th>\n",
              "      <td>prophet</td>\n",
              "      <td>train</td>\n",
              "      <td>[119.74588031063298, 138.14157103814293, 134.0...</td>\n",
              "      <td>DatetimeIndex(['1950-02-28', '1950-03-31', '19...</td>\n",
              "      <td>6.065670</td>\n",
              "      <td>4.589269</td>\n",
              "    </tr>\n",
              "    <tr>\n",
              "      <th>5</th>\n",
              "      <td>prophet</td>\n",
              "      <td>test</td>\n",
              "      <td>[353.3604620080639, 408.01507923894104, 453.50...</td>\n",
              "      <td>DatetimeIndex(['1957-05-31', '1957-06-30', '19...</td>\n",
              "      <td>46.292891</td>\n",
              "      <td>39.641206</td>\n",
              "    </tr>\n",
              "  </tbody>\n",
              "</table>\n",
              "<p>6 rows × 6 columns</p>\n",
              "</div>"
            ],
            "text/plain": [
              "      model  split                                             values  \\\n",
              "0    sarima  train  [121.1607144324168, 140.94915253005868, 137.77...   \n",
              "1    sarima   test  [351.4576739515267, 404.5978119857047, 452.697...   \n",
              "..      ...    ...                                                ...   \n",
              "4   prophet  train  [119.74588031063298, 138.14157103814293, 134.0...   \n",
              "5   prophet   test  [353.3604620080639, 408.01507923894104, 453.50...   \n",
              "\n",
              "                                             datetime       rmse        mae  \n",
              "0   DatetimeIndex(['1950-02-28', '1950-03-31', '19...   8.545512   6.675626  \n",
              "1   DatetimeIndex(['1957-05-31', '1957-06-30', '19...  38.558619  33.725548  \n",
              "..                                                ...        ...        ...  \n",
              "4   DatetimeIndex(['1950-02-28', '1950-03-31', '19...   6.065670   4.589269  \n",
              "5   DatetimeIndex(['1957-05-31', '1957-06-30', '19...  46.292891  39.641206  \n",
              "\n",
              "[6 rows x 6 columns]"
            ]
          },
          "execution_count": 23,
          "metadata": {},
          "output_type": "execute_result"
        }
      ],
      "source": [
        "from modules.utils import TimeSeriesForecaster\n",
        "\n",
        "tf = TimeSeriesForecaster(train=train, test=test, freq=\"ME\")\n",
        "df_forecast = tf.bulk_forecast(configs, metrics=metrics)\n",
        "df_forecast"
      ]
    },
    {
      "cell_type": "code",
      "execution_count": 25,
      "id": "38c4ce77",
      "metadata": {},
      "outputs": [
        {
          "data": {
            "text/html": [
              "<style type=\"text/css\">\n",
              "#T_3ad10_row0_col0 {\n",
              "  background-color: #a7dba0;\n",
              "  color: #000000;\n",
              "}\n",
              "#T_3ad10_row0_col1 {\n",
              "  background-color: #f7fcf5;\n",
              "  color: #000000;\n",
              "}\n",
              "#T_3ad10_row0_col2 {\n",
              "  background-color: #d5efcf;\n",
              "  color: #000000;\n",
              "}\n",
              "#T_3ad10_row1_col0 {\n",
              "  background-color: #004a1e;\n",
              "  color: #f1f1f1;\n",
              "}\n",
              "#T_3ad10_row1_col1 {\n",
              "  background-color: #00441b;\n",
              "  color: #f1f1f1;\n",
              "}\n",
              "#T_3ad10_row1_col2 {\n",
              "  background-color: #005723;\n",
              "  color: #f1f1f1;\n",
              "}\n",
              "</style>\n",
              "<table id=\"T_3ad10\">\n",
              "  <thead>\n",
              "    <tr>\n",
              "      <th class=\"index_name level0\" >model</th>\n",
              "      <th id=\"T_3ad10_level0_col0\" class=\"col_heading level0 col0\" >ets</th>\n",
              "      <th id=\"T_3ad10_level0_col1\" class=\"col_heading level0 col1\" >prophet</th>\n",
              "      <th id=\"T_3ad10_level0_col2\" class=\"col_heading level0 col2\" >sarima</th>\n",
              "    </tr>\n",
              "    <tr>\n",
              "      <th class=\"index_name level0\" >split</th>\n",
              "      <th class=\"blank col0\" >&nbsp;</th>\n",
              "      <th class=\"blank col1\" >&nbsp;</th>\n",
              "      <th class=\"blank col2\" >&nbsp;</th>\n",
              "    </tr>\n",
              "  </thead>\n",
              "  <tbody>\n",
              "    <tr>\n",
              "      <th id=\"T_3ad10_level0_row0\" class=\"row_heading level0 row0\" >test</th>\n",
              "      <td id=\"T_3ad10_row0_col0\" class=\"data row0 col0\" >31.86</td>\n",
              "      <td id=\"T_3ad10_row0_col1\" class=\"data row0 col1\" >46.29</td>\n",
              "      <td id=\"T_3ad10_row0_col2\" class=\"data row0 col2\" >38.56</td>\n",
              "    </tr>\n",
              "    <tr>\n",
              "      <th id=\"T_3ad10_level0_row1\" class=\"row_heading level0 row1\" >train</th>\n",
              "      <td id=\"T_3ad10_row1_col0\" class=\"data row1 col0\" >6.94</td>\n",
              "      <td id=\"T_3ad10_row1_col1\" class=\"data row1 col1\" >6.07</td>\n",
              "      <td id=\"T_3ad10_row1_col2\" class=\"data row1 col2\" >8.55</td>\n",
              "    </tr>\n",
              "  </tbody>\n",
              "</table>\n"
            ],
            "text/plain": [
              "<pandas.io.formats.style.Styler at 0x332d7e750>"
            ]
          },
          "execution_count": 25,
          "metadata": {},
          "output_type": "execute_result"
        }
      ],
      "source": [
        "dfp = df_forecast.pivot(index=[\"split\"], columns=\"model\", values=\"rmse\")\n",
        "dfp.style.background_gradient(cmap=\"Greens_r\", axis=None).format(precision=2)"
      ]
    },
    {
      "cell_type": "code",
      "execution_count": 23,
      "id": "e80688a2",
      "metadata": {},
      "outputs": [
        {
          "name": "stderr",
          "output_type": "stream",
          "text": [
            "10:55:37 - cmdstanpy - INFO - Chain [1] start processing\n",
            "10:55:37 - cmdstanpy - INFO - Chain [1] done processing\n"
          ]
        },
        {
          "data": {
            "text/html": [
              "<div>\n",
              "<style scoped>\n",
              "    .dataframe tbody tr th:only-of-type {\n",
              "        vertical-align: middle;\n",
              "    }\n",
              "\n",
              "    .dataframe tbody tr th {\n",
              "        vertical-align: top;\n",
              "    }\n",
              "\n",
              "    .dataframe thead th {\n",
              "        text-align: right;\n",
              "    }\n",
              "</style>\n",
              "<table border=\"1\" class=\"dataframe\">\n",
              "  <thead>\n",
              "    <tr style=\"text-align: right;\">\n",
              "      <th></th>\n",
              "      <th>model</th>\n",
              "      <th>split</th>\n",
              "      <th>datetime</th>\n",
              "      <th>values</th>\n",
              "    </tr>\n",
              "  </thead>\n",
              "  <tbody>\n",
              "    <tr>\n",
              "      <th>0</th>\n",
              "      <td>ets</td>\n",
              "      <td>test</td>\n",
              "      <td>1957-05-31</td>\n",
              "      <td>346.973505</td>\n",
              "    </tr>\n",
              "    <tr>\n",
              "      <th>1</th>\n",
              "      <td>ets</td>\n",
              "      <td>test</td>\n",
              "      <td>1957-06-30</td>\n",
              "      <td>393.889927</td>\n",
              "    </tr>\n",
              "    <tr>\n",
              "      <th>...</th>\n",
              "      <td>...</td>\n",
              "      <td>...</td>\n",
              "      <td>...</td>\n",
              "      <td>...</td>\n",
              "    </tr>\n",
              "    <tr>\n",
              "      <th>522</th>\n",
              "      <td>historical</td>\n",
              "      <td>test</td>\n",
              "      <td>1960-11-30</td>\n",
              "      <td>390</td>\n",
              "    </tr>\n",
              "    <tr>\n",
              "      <th>523</th>\n",
              "      <td>historical</td>\n",
              "      <td>test</td>\n",
              "      <td>1960-12-31</td>\n",
              "      <td>432</td>\n",
              "    </tr>\n",
              "  </tbody>\n",
              "</table>\n",
              "<p>524 rows × 4 columns</p>\n",
              "</div>"
            ],
            "text/plain": [
              "          model split   datetime      values\n",
              "0           ets  test 1957-05-31  346.973505\n",
              "1           ets  test 1957-06-30  393.889927\n",
              "..          ...   ...        ...         ...\n",
              "522  historical  test 1960-11-30         390\n",
              "523  historical  test 1960-12-31         432\n",
              "\n",
              "[524 rows x 4 columns]"
            ]
          },
          "execution_count": 23,
          "metadata": {},
          "output_type": "execute_result"
        }
      ],
      "source": [
        "df_combined = tf.combine_with_historical(df_forecast)\n",
        "df_combined"
      ]
    },
    {
      "cell_type": "code",
      "execution_count": 24,
      "id": "12514f3a",
      "metadata": {},
      "outputs": [
        {
          "data": {
            "application/vnd.plotly.v1+json": {
              "config": {
                "plotlyServerURL": "https://plot.ly"
              },
              "data": [
                {
                  "hovertemplate": "model=ets<br>split=train<br>datetime=%{x}<br>values=%{y}<extra></extra>",
                  "legendgroup": "ets",
                  "line": {
                    "color": "#636efa",
                    "dash": "solid"
                  },
                  "marker": {
                    "symbol": "circle"
                  },
                  "mode": "lines",
                  "name": "ets",
                  "orientation": "v",
                  "showlegend": true,
                  "type": "scatter",
                  "x": [
                    "1950-02-28T00:00:00.000000000",
                    "1950-03-31T00:00:00.000000000",
                    "1950-04-30T00:00:00.000000000",
                    "1950-05-31T00:00:00.000000000",
                    "1950-06-30T00:00:00.000000000",
                    "1950-07-31T00:00:00.000000000",
                    "1950-08-31T00:00:00.000000000",
                    "1950-09-30T00:00:00.000000000",
                    "1950-10-31T00:00:00.000000000",
                    "1950-11-30T00:00:00.000000000",
                    "1950-12-31T00:00:00.000000000",
                    "1951-01-31T00:00:00.000000000",
                    "1951-02-28T00:00:00.000000000",
                    "1951-03-31T00:00:00.000000000",
                    "1951-04-30T00:00:00.000000000",
                    "1951-05-31T00:00:00.000000000",
                    "1951-06-30T00:00:00.000000000",
                    "1951-07-31T00:00:00.000000000",
                    "1951-08-31T00:00:00.000000000",
                    "1951-09-30T00:00:00.000000000",
                    "1951-10-31T00:00:00.000000000",
                    "1951-11-30T00:00:00.000000000",
                    "1951-12-31T00:00:00.000000000",
                    "1952-01-31T00:00:00.000000000",
                    "1952-02-29T00:00:00.000000000",
                    "1952-03-31T00:00:00.000000000",
                    "1952-04-30T00:00:00.000000000",
                    "1952-05-31T00:00:00.000000000",
                    "1952-06-30T00:00:00.000000000",
                    "1952-07-31T00:00:00.000000000",
                    "1952-08-31T00:00:00.000000000",
                    "1952-09-30T00:00:00.000000000",
                    "1952-10-31T00:00:00.000000000",
                    "1952-11-30T00:00:00.000000000",
                    "1952-12-31T00:00:00.000000000",
                    "1953-01-31T00:00:00.000000000",
                    "1953-02-28T00:00:00.000000000",
                    "1953-03-31T00:00:00.000000000",
                    "1953-04-30T00:00:00.000000000",
                    "1953-05-31T00:00:00.000000000",
                    "1953-06-30T00:00:00.000000000",
                    "1953-07-31T00:00:00.000000000",
                    "1953-08-31T00:00:00.000000000",
                    "1953-09-30T00:00:00.000000000",
                    "1953-10-31T00:00:00.000000000",
                    "1953-11-30T00:00:00.000000000",
                    "1953-12-31T00:00:00.000000000",
                    "1954-01-31T00:00:00.000000000",
                    "1954-02-28T00:00:00.000000000",
                    "1954-03-31T00:00:00.000000000",
                    "1954-04-30T00:00:00.000000000",
                    "1954-05-31T00:00:00.000000000",
                    "1954-06-30T00:00:00.000000000",
                    "1954-07-31T00:00:00.000000000",
                    "1954-08-31T00:00:00.000000000",
                    "1954-09-30T00:00:00.000000000",
                    "1954-10-31T00:00:00.000000000",
                    "1954-11-30T00:00:00.000000000",
                    "1954-12-31T00:00:00.000000000",
                    "1955-01-31T00:00:00.000000000",
                    "1955-02-28T00:00:00.000000000",
                    "1955-03-31T00:00:00.000000000",
                    "1955-04-30T00:00:00.000000000",
                    "1955-05-31T00:00:00.000000000",
                    "1955-06-30T00:00:00.000000000",
                    "1955-07-31T00:00:00.000000000",
                    "1955-08-31T00:00:00.000000000",
                    "1955-09-30T00:00:00.000000000",
                    "1955-10-31T00:00:00.000000000",
                    "1955-11-30T00:00:00.000000000",
                    "1955-12-31T00:00:00.000000000",
                    "1956-01-31T00:00:00.000000000",
                    "1956-02-29T00:00:00.000000000",
                    "1956-03-31T00:00:00.000000000",
                    "1956-04-30T00:00:00.000000000",
                    "1956-05-31T00:00:00.000000000",
                    "1956-06-30T00:00:00.000000000",
                    "1956-07-31T00:00:00.000000000",
                    "1956-08-31T00:00:00.000000000",
                    "1956-09-30T00:00:00.000000000",
                    "1956-10-31T00:00:00.000000000",
                    "1956-11-30T00:00:00.000000000",
                    "1956-12-31T00:00:00.000000000",
                    "1957-01-31T00:00:00.000000000",
                    "1957-02-28T00:00:00.000000000",
                    "1957-03-31T00:00:00.000000000",
                    "1957-04-30T00:00:00.000000000"
                  ],
                  "xaxis": "x",
                  "y": [
                    115.63208583887987,
                    144.35458504192516,
                    139.50798232581732,
                    137.42518893546398,
                    147.28055905613837,
                    166.89789729315876,
                    168.2246613810944,
                    151.34288994599305,
                    137.7314406916183,
                    118.48013964277773,
                    132.26107903199502,
                    142.15337639682087,
                    142.05566350662872,
                    172.78655784211637,
                    173.0624672453886,
                    166.71253426281623,
                    194.89477612617907,
                    204.5125185517625,
                    198.88460332003,
                    177.22457553572954,
                    160.28864808115046,
                    142.1688502283824,
                    165.8958746195465,
                    170.66675341116405,
                    167.96601732164027,
                    206.10583720048717,
                    192.36891610449493,
                    184.93208635214293,
                    209.5065039363952,
                    241.12947104913914,
                    230.70823017605565,
                    212.35873262174573,
                    184.38624561776365,
                    166.21968703094436,
                    194.69316135168296,
                    199.33297792576917,
                    193.2080660104279,
                    227.43938843746673,
                    228.30036539359537,
                    233.686362979553,
                    262.2380031485324,
                    277.04902404724714,
                    264.4889181591567,
                    239.62345557490892,
                    208.5357923339046,
                    184.57679949601183,
                    206.90452978293936,
                    207.87694840769493,
                    201.1202255765917,
                    223.1775867915252,
                    226.47925607373685,
                    227.40391275272205,
                    264.435569750628,
                    294.6365959844549,
                    296.2724411984661,
                    260.64321207882017,
                    227.41585386386245,
                    200.42713673873158,
                    230.71993542248177,
                    235.1740487164872,
                    235.21256104571972,
                    271.66758957059835,
                    261.75414289103236,
                    267.291738177319,
                    306.2323008325902,
                    348.2489113082275,
                    354.7255896018499,
                    309.160541920623,
                    272.40122173559075,
                    239.53231171489088,
                    270.718584553746,
                    282.4827396723787,
                    277.3957596864867,
                    321.84016513268836,
                    310.1733309750032,
                    312.1575422023228,
                    359.4231042614994,
                    411.7172371366075,
                    406.5071795158567,
                    358.65633746662996,
                    311.2796807314246,
                    268.9599208473343,
                    307.757782321728,
                    313.41401220631366,
                    307.483583263101,
                    351.41513649454674,
                    345.43849555660165
                  ],
                  "yaxis": "y"
                },
                {
                  "hovertemplate": "model=prophet<br>split=train<br>datetime=%{x}<br>values=%{y}<extra></extra>",
                  "legendgroup": "prophet",
                  "line": {
                    "color": "#EF553B",
                    "dash": "solid"
                  },
                  "marker": {
                    "symbol": "circle"
                  },
                  "mode": "lines",
                  "name": "prophet",
                  "orientation": "v",
                  "showlegend": true,
                  "type": "scatter",
                  "x": [
                    "1950-02-28T00:00:00.000000000",
                    "1950-03-31T00:00:00.000000000",
                    "1950-04-30T00:00:00.000000000",
                    "1950-05-31T00:00:00.000000000",
                    "1950-06-30T00:00:00.000000000",
                    "1950-07-31T00:00:00.000000000",
                    "1950-08-31T00:00:00.000000000",
                    "1950-09-30T00:00:00.000000000",
                    "1950-10-31T00:00:00.000000000",
                    "1950-11-30T00:00:00.000000000",
                    "1950-12-31T00:00:00.000000000",
                    "1951-01-31T00:00:00.000000000",
                    "1951-02-28T00:00:00.000000000",
                    "1951-03-31T00:00:00.000000000",
                    "1951-04-30T00:00:00.000000000",
                    "1951-05-31T00:00:00.000000000",
                    "1951-06-30T00:00:00.000000000",
                    "1951-07-31T00:00:00.000000000",
                    "1951-08-31T00:00:00.000000000",
                    "1951-09-30T00:00:00.000000000",
                    "1951-10-31T00:00:00.000000000",
                    "1951-11-30T00:00:00.000000000",
                    "1951-12-31T00:00:00.000000000",
                    "1952-01-31T00:00:00.000000000",
                    "1952-02-29T00:00:00.000000000",
                    "1952-03-31T00:00:00.000000000",
                    "1952-04-30T00:00:00.000000000",
                    "1952-05-31T00:00:00.000000000",
                    "1952-06-30T00:00:00.000000000",
                    "1952-07-31T00:00:00.000000000",
                    "1952-08-31T00:00:00.000000000",
                    "1952-09-30T00:00:00.000000000",
                    "1952-10-31T00:00:00.000000000",
                    "1952-11-30T00:00:00.000000000",
                    "1952-12-31T00:00:00.000000000",
                    "1953-01-31T00:00:00.000000000",
                    "1953-02-28T00:00:00.000000000",
                    "1953-03-31T00:00:00.000000000",
                    "1953-04-30T00:00:00.000000000",
                    "1953-05-31T00:00:00.000000000",
                    "1953-06-30T00:00:00.000000000",
                    "1953-07-31T00:00:00.000000000",
                    "1953-08-31T00:00:00.000000000",
                    "1953-09-30T00:00:00.000000000",
                    "1953-10-31T00:00:00.000000000",
                    "1953-11-30T00:00:00.000000000",
                    "1953-12-31T00:00:00.000000000",
                    "1954-01-31T00:00:00.000000000",
                    "1954-02-28T00:00:00.000000000",
                    "1954-03-31T00:00:00.000000000",
                    "1954-04-30T00:00:00.000000000",
                    "1954-05-31T00:00:00.000000000",
                    "1954-06-30T00:00:00.000000000",
                    "1954-07-31T00:00:00.000000000",
                    "1954-08-31T00:00:00.000000000",
                    "1954-09-30T00:00:00.000000000",
                    "1954-10-31T00:00:00.000000000",
                    "1954-11-30T00:00:00.000000000",
                    "1954-12-31T00:00:00.000000000",
                    "1955-01-31T00:00:00.000000000",
                    "1955-02-28T00:00:00.000000000",
                    "1955-03-31T00:00:00.000000000",
                    "1955-04-30T00:00:00.000000000",
                    "1955-05-31T00:00:00.000000000",
                    "1955-06-30T00:00:00.000000000",
                    "1955-07-31T00:00:00.000000000",
                    "1955-08-31T00:00:00.000000000",
                    "1955-09-30T00:00:00.000000000",
                    "1955-10-31T00:00:00.000000000",
                    "1955-11-30T00:00:00.000000000",
                    "1955-12-31T00:00:00.000000000",
                    "1956-01-31T00:00:00.000000000",
                    "1956-02-29T00:00:00.000000000",
                    "1956-03-31T00:00:00.000000000",
                    "1956-04-30T00:00:00.000000000",
                    "1956-05-31T00:00:00.000000000",
                    "1956-06-30T00:00:00.000000000",
                    "1956-07-31T00:00:00.000000000",
                    "1956-08-31T00:00:00.000000000",
                    "1956-09-30T00:00:00.000000000",
                    "1956-10-31T00:00:00.000000000",
                    "1956-11-30T00:00:00.000000000",
                    "1956-12-31T00:00:00.000000000",
                    "1957-01-31T00:00:00.000000000",
                    "1957-02-28T00:00:00.000000000",
                    "1957-03-31T00:00:00.000000000",
                    "1957-04-30T00:00:00.000000000"
                  ],
                  "xaxis": "x",
                  "y": [
                    119.74588031063298,
                    138.14157103814293,
                    134.08059793943534,
                    134.16547859689587,
                    150.4739092721768,
                    168.83166165329672,
                    168.338934529194,
                    153.8764662638309,
                    136.9099353199411,
                    121.72733156956454,
                    139.76568143087417,
                    143.818460534471,
                    141.5684077467943,
                    167.3710197188081,
                    162.24164226185437,
                    163.58539362197922,
                    180.94296682910428,
                    206.81922060508197,
                    202.15581942418575,
                    185.70461666141856,
                    162.67737161824127,
                    142.73743778171254,
                    165.42851506981472,
                    170.32734416084125,
                    171.7398003060116,
                    194.36627645713153,
                    190.07573789871935,
                    189.0535034238657,
                    218.99675938603514,
                    237.03663519827322,
                    242.44451656653519,
                    213.5582662622952,
                    190.1996289937113,
                    168.8436571257052,
                    191.10285309894502,
                    194.25535969832168,
                    198.0837895573613,
                    228.5899011023832,
                    222.46399134561304,
                    219.39829118470948,
                    248.25430872646243,
                    271.08468930335465,
                    269.5337293571559,
                    237.01587204711112,
                    206.61410229623021,
                    179.93204282253458,
                    203.4102639231038,
                    205.26790815116317,
                    203.8957234016661,
                    237.88586783901823,
                    229.1181277929427,
                    230.00820271125122,
                    260.1033942741494,
                    294.17226153899816,
                    291.8905531006546,
                    263.11994718465746,
                    230.21958196841615,
                    201.34845496484115,
                    233.55987005564884,
                    240.02280431704963,
                    234.9866802605044,
                    282.2543923933221,
                    272.40249206279634,
                    274.54306354418355,
                    306.79361487633213,
                    355.4520557238511,
                    346.6249308821877,
                    314.41528989923063,
                    270.68289925164026,
                    233.53335283368952,
                    273.5518284667066,
                    281.33274935413675,
                    282.83544677307134,
                    322.6460908868417,
                    313.6204731787009,
                    310.5256953129605,
                    363.3049062985235,
                    394.5288760817059,
                    402.70854837436656,
                    349.2303925815643,
                    306.5429993864,
                    268.2015665284432,
                    305.7808024595359,
                    310.0766210209198,
                    315.63032922051525,
                    367.40765223405026,
                    355.3640510615259
                  ],
                  "yaxis": "y"
                },
                {
                  "hovertemplate": "model=sarima<br>split=train<br>datetime=%{x}<br>values=%{y}<extra></extra>",
                  "legendgroup": "sarima",
                  "line": {
                    "color": "#00cc96",
                    "dash": "solid"
                  },
                  "marker": {
                    "symbol": "circle"
                  },
                  "mode": "lines",
                  "name": "sarima",
                  "orientation": "v",
                  "showlegend": true,
                  "type": "scatter",
                  "x": [
                    "1950-02-28T00:00:00.000000000",
                    "1950-03-31T00:00:00.000000000",
                    "1950-04-30T00:00:00.000000000",
                    "1950-05-31T00:00:00.000000000",
                    "1950-06-30T00:00:00.000000000",
                    "1950-07-31T00:00:00.000000000",
                    "1950-08-31T00:00:00.000000000",
                    "1950-09-30T00:00:00.000000000",
                    "1950-10-31T00:00:00.000000000",
                    "1950-11-30T00:00:00.000000000",
                    "1950-12-31T00:00:00.000000000",
                    "1951-01-31T00:00:00.000000000",
                    "1951-02-28T00:00:00.000000000",
                    "1951-03-31T00:00:00.000000000",
                    "1951-04-30T00:00:00.000000000",
                    "1951-05-31T00:00:00.000000000",
                    "1951-06-30T00:00:00.000000000",
                    "1951-07-31T00:00:00.000000000",
                    "1951-08-31T00:00:00.000000000",
                    "1951-09-30T00:00:00.000000000",
                    "1951-10-31T00:00:00.000000000",
                    "1951-11-30T00:00:00.000000000",
                    "1951-12-31T00:00:00.000000000",
                    "1952-01-31T00:00:00.000000000",
                    "1952-02-29T00:00:00.000000000",
                    "1952-03-31T00:00:00.000000000",
                    "1952-04-30T00:00:00.000000000",
                    "1952-05-31T00:00:00.000000000",
                    "1952-06-30T00:00:00.000000000",
                    "1952-07-31T00:00:00.000000000",
                    "1952-08-31T00:00:00.000000000",
                    "1952-09-30T00:00:00.000000000",
                    "1952-10-31T00:00:00.000000000",
                    "1952-11-30T00:00:00.000000000",
                    "1952-12-31T00:00:00.000000000",
                    "1953-01-31T00:00:00.000000000",
                    "1953-02-28T00:00:00.000000000",
                    "1953-03-31T00:00:00.000000000",
                    "1953-04-30T00:00:00.000000000",
                    "1953-05-31T00:00:00.000000000",
                    "1953-06-30T00:00:00.000000000",
                    "1953-07-31T00:00:00.000000000",
                    "1953-08-31T00:00:00.000000000",
                    "1953-09-30T00:00:00.000000000",
                    "1953-10-31T00:00:00.000000000",
                    "1953-11-30T00:00:00.000000000",
                    "1953-12-31T00:00:00.000000000",
                    "1954-01-31T00:00:00.000000000",
                    "1954-02-28T00:00:00.000000000",
                    "1954-03-31T00:00:00.000000000",
                    "1954-04-30T00:00:00.000000000",
                    "1954-05-31T00:00:00.000000000",
                    "1954-06-30T00:00:00.000000000",
                    "1954-07-31T00:00:00.000000000",
                    "1954-08-31T00:00:00.000000000",
                    "1954-09-30T00:00:00.000000000",
                    "1954-10-31T00:00:00.000000000",
                    "1954-11-30T00:00:00.000000000",
                    "1954-12-31T00:00:00.000000000",
                    "1955-01-31T00:00:00.000000000",
                    "1955-02-28T00:00:00.000000000",
                    "1955-03-31T00:00:00.000000000",
                    "1955-04-30T00:00:00.000000000",
                    "1955-05-31T00:00:00.000000000",
                    "1955-06-30T00:00:00.000000000",
                    "1955-07-31T00:00:00.000000000",
                    "1955-08-31T00:00:00.000000000",
                    "1955-09-30T00:00:00.000000000",
                    "1955-10-31T00:00:00.000000000",
                    "1955-11-30T00:00:00.000000000",
                    "1955-12-31T00:00:00.000000000",
                    "1956-01-31T00:00:00.000000000",
                    "1956-02-29T00:00:00.000000000",
                    "1956-03-31T00:00:00.000000000",
                    "1956-04-30T00:00:00.000000000",
                    "1956-05-31T00:00:00.000000000",
                    "1956-06-30T00:00:00.000000000",
                    "1956-07-31T00:00:00.000000000",
                    "1956-08-31T00:00:00.000000000",
                    "1956-09-30T00:00:00.000000000",
                    "1956-10-31T00:00:00.000000000",
                    "1956-11-30T00:00:00.000000000",
                    "1956-12-31T00:00:00.000000000",
                    "1957-01-31T00:00:00.000000000",
                    "1957-02-28T00:00:00.000000000",
                    "1957-03-31T00:00:00.000000000",
                    "1957-04-30T00:00:00.000000000"
                  ],
                  "xaxis": "x",
                  "y": [
                    121.1607144324168,
                    140.94915253005868,
                    137.7772677559214,
                    127.72215716011632,
                    140.76950548270776,
                    159.3615460572346,
                    165.28551978094484,
                    154.31553675787916,
                    136.83732792117868,
                    117.68337175645912,
                    131.14899200421763,
                    132.61655916021908,
                    152.6929217195921,
                    168.919487512181,
                    168.21884619975805,
                    153.8771904334072,
                    189.7000185025295,
                    205.13708361162017,
                    201.6484019273845,
                    185.08813129434745,
                    157.96722734374438,
                    138.52697522599738,
                    169.2126100679236,
                    168.76369144844975,
                    180.7737257034944,
                    207.16404124900959,
                    187.67381159859983,
                    181.12845727758238,
                    200.5310176410819,
                    235.36301248658154,
                    232.3192433052404,
                    219.83468373929335,
                    185.2510437116812,
                    166.01996508710005,
                    197.0788261928516,
                    198.85052203788848,
                    208.57000127434657,
                    224.7174894603435,
                    217.39005781285874,
                    226.21217372447433,
                    259.08615264066736,
                    272.95140902545006,
                    273.5745639933001,
                    245.10040595475394,
                    213.1261707572549,
                    188.39232276854705,
                    210.8982833713815,
                    208.28819048577873,
                    212.79560955346784,
                    228.29448305266303,
                    223.39458692678463,
                    222.52436533883565,
                    253.21137972538534,
                    282.56955004448366,
                    300.6999656316492,
                    263.03491892351684,
                    231.50628885955024,
                    201.1718369448845,
                    229.63088323245628,
                    232.67944676604336,
                    234.83936380515786,
                    278.09090577822684,
                    261.97876193880535,
                    267.07283421437256,
                    299.5782644177718,
                    342.4515125401502,
                    355.43576441992514,
                    310.73541088051905,
                    276.0628509977104,
                    241.67340801300335,
                    270.72367742939485,
                    283.4263631729619,
                    277.32647205322513,
                    324.803448939275,
                    314.29256780607636,
                    314.8436038591853,
                    359.40673846146086,
                    414.8398111068356,
                    406.6902970730565,
                    361.6314036699231,
                    316.04581765305875,
                    271.07163769234216,
                    311.2754530216231,
                    316.75244318939446,
                    308.35986908795155,
                    353.14347472295754,
                    348.91384696154455
                  ],
                  "yaxis": "y"
                },
                {
                  "hovertemplate": "model=historical<br>split=train<br>datetime=%{x}<br>values=%{y}<extra></extra>",
                  "legendgroup": "historical",
                  "line": {
                    "color": "#ab63fa",
                    "dash": "solid"
                  },
                  "marker": {
                    "symbol": "circle"
                  },
                  "mode": "lines",
                  "name": "historical",
                  "orientation": "v",
                  "showlegend": true,
                  "type": "scatter",
                  "x": [
                    "1950-02-28T00:00:00.000000000",
                    "1950-03-31T00:00:00.000000000",
                    "1950-04-30T00:00:00.000000000",
                    "1950-05-31T00:00:00.000000000",
                    "1950-06-30T00:00:00.000000000",
                    "1950-07-31T00:00:00.000000000",
                    "1950-08-31T00:00:00.000000000",
                    "1950-09-30T00:00:00.000000000",
                    "1950-10-31T00:00:00.000000000",
                    "1950-11-30T00:00:00.000000000",
                    "1950-12-31T00:00:00.000000000",
                    "1951-01-31T00:00:00.000000000",
                    "1951-02-28T00:00:00.000000000",
                    "1951-03-31T00:00:00.000000000",
                    "1951-04-30T00:00:00.000000000",
                    "1951-05-31T00:00:00.000000000",
                    "1951-06-30T00:00:00.000000000",
                    "1951-07-31T00:00:00.000000000",
                    "1951-08-31T00:00:00.000000000",
                    "1951-09-30T00:00:00.000000000",
                    "1951-10-31T00:00:00.000000000",
                    "1951-11-30T00:00:00.000000000",
                    "1951-12-31T00:00:00.000000000",
                    "1952-01-31T00:00:00.000000000",
                    "1952-02-29T00:00:00.000000000",
                    "1952-03-31T00:00:00.000000000",
                    "1952-04-30T00:00:00.000000000",
                    "1952-05-31T00:00:00.000000000",
                    "1952-06-30T00:00:00.000000000",
                    "1952-07-31T00:00:00.000000000",
                    "1952-08-31T00:00:00.000000000",
                    "1952-09-30T00:00:00.000000000",
                    "1952-10-31T00:00:00.000000000",
                    "1952-11-30T00:00:00.000000000",
                    "1952-12-31T00:00:00.000000000",
                    "1953-01-31T00:00:00.000000000",
                    "1953-02-28T00:00:00.000000000",
                    "1953-03-31T00:00:00.000000000",
                    "1953-04-30T00:00:00.000000000",
                    "1953-05-31T00:00:00.000000000",
                    "1953-06-30T00:00:00.000000000",
                    "1953-07-31T00:00:00.000000000",
                    "1953-08-31T00:00:00.000000000",
                    "1953-09-30T00:00:00.000000000",
                    "1953-10-31T00:00:00.000000000",
                    "1953-11-30T00:00:00.000000000",
                    "1953-12-31T00:00:00.000000000",
                    "1954-01-31T00:00:00.000000000",
                    "1954-02-28T00:00:00.000000000",
                    "1954-03-31T00:00:00.000000000",
                    "1954-04-30T00:00:00.000000000",
                    "1954-05-31T00:00:00.000000000",
                    "1954-06-30T00:00:00.000000000",
                    "1954-07-31T00:00:00.000000000",
                    "1954-08-31T00:00:00.000000000",
                    "1954-09-30T00:00:00.000000000",
                    "1954-10-31T00:00:00.000000000",
                    "1954-11-30T00:00:00.000000000",
                    "1954-12-31T00:00:00.000000000",
                    "1955-01-31T00:00:00.000000000",
                    "1955-02-28T00:00:00.000000000",
                    "1955-03-31T00:00:00.000000000",
                    "1955-04-30T00:00:00.000000000",
                    "1955-05-31T00:00:00.000000000",
                    "1955-06-30T00:00:00.000000000",
                    "1955-07-31T00:00:00.000000000",
                    "1955-08-31T00:00:00.000000000",
                    "1955-09-30T00:00:00.000000000",
                    "1955-10-31T00:00:00.000000000",
                    "1955-11-30T00:00:00.000000000",
                    "1955-12-31T00:00:00.000000000",
                    "1956-01-31T00:00:00.000000000",
                    "1956-02-29T00:00:00.000000000",
                    "1956-03-31T00:00:00.000000000",
                    "1956-04-30T00:00:00.000000000",
                    "1956-05-31T00:00:00.000000000",
                    "1956-06-30T00:00:00.000000000",
                    "1956-07-31T00:00:00.000000000",
                    "1956-08-31T00:00:00.000000000",
                    "1956-09-30T00:00:00.000000000",
                    "1956-10-31T00:00:00.000000000",
                    "1956-11-30T00:00:00.000000000",
                    "1956-12-31T00:00:00.000000000",
                    "1957-01-31T00:00:00.000000000",
                    "1957-02-28T00:00:00.000000000",
                    "1957-03-31T00:00:00.000000000",
                    "1957-04-30T00:00:00.000000000"
                  ],
                  "xaxis": "x",
                  "y": [
                    126,
                    141,
                    135,
                    125,
                    149,
                    170,
                    170,
                    158,
                    133,
                    114,
                    140,
                    145,
                    150,
                    178,
                    163,
                    172,
                    178,
                    199,
                    199,
                    184,
                    162,
                    146,
                    166,
                    171,
                    180,
                    193,
                    181,
                    183,
                    218,
                    230,
                    242,
                    209,
                    191,
                    172,
                    194,
                    196,
                    196,
                    236,
                    235,
                    229,
                    243,
                    264,
                    272,
                    237,
                    211,
                    180,
                    201,
                    204,
                    188,
                    235,
                    227,
                    234,
                    264,
                    302,
                    293,
                    259,
                    229,
                    203,
                    229,
                    242,
                    233,
                    267,
                    269,
                    270,
                    315,
                    364,
                    347,
                    312,
                    274,
                    237,
                    278,
                    284,
                    277,
                    317,
                    313,
                    318,
                    374,
                    413,
                    405,
                    355,
                    306,
                    271,
                    306,
                    315,
                    301,
                    356,
                    348
                  ],
                  "yaxis": "y"
                },
                {
                  "hovertemplate": "model=ets<br>split=test<br>datetime=%{x}<br>values=%{y}<extra></extra>",
                  "legendgroup": "ets",
                  "line": {
                    "color": "#636efa",
                    "dash": "solid"
                  },
                  "marker": {
                    "symbol": "circle"
                  },
                  "mode": "lines",
                  "name": "ets",
                  "orientation": "v",
                  "showlegend": false,
                  "type": "scatter",
                  "x": [
                    "1957-05-31T00:00:00.000000000",
                    "1957-06-30T00:00:00.000000000",
                    "1957-07-31T00:00:00.000000000",
                    "1957-08-31T00:00:00.000000000",
                    "1957-09-30T00:00:00.000000000",
                    "1957-10-31T00:00:00.000000000",
                    "1957-11-30T00:00:00.000000000",
                    "1957-12-31T00:00:00.000000000",
                    "1958-01-31T00:00:00.000000000",
                    "1958-02-28T00:00:00.000000000",
                    "1958-03-31T00:00:00.000000000",
                    "1958-04-30T00:00:00.000000000",
                    "1958-05-31T00:00:00.000000000",
                    "1958-06-30T00:00:00.000000000",
                    "1958-07-31T00:00:00.000000000",
                    "1958-08-31T00:00:00.000000000",
                    "1958-09-30T00:00:00.000000000",
                    "1958-10-31T00:00:00.000000000",
                    "1958-11-30T00:00:00.000000000",
                    "1958-12-31T00:00:00.000000000",
                    "1959-01-31T00:00:00.000000000",
                    "1959-02-28T00:00:00.000000000",
                    "1959-03-31T00:00:00.000000000",
                    "1959-04-30T00:00:00.000000000",
                    "1959-05-31T00:00:00.000000000",
                    "1959-06-30T00:00:00.000000000",
                    "1959-07-31T00:00:00.000000000",
                    "1959-08-31T00:00:00.000000000",
                    "1959-09-30T00:00:00.000000000",
                    "1959-10-31T00:00:00.000000000",
                    "1959-11-30T00:00:00.000000000",
                    "1959-12-31T00:00:00.000000000",
                    "1960-01-31T00:00:00.000000000",
                    "1960-02-29T00:00:00.000000000",
                    "1960-03-31T00:00:00.000000000",
                    "1960-04-30T00:00:00.000000000",
                    "1960-05-31T00:00:00.000000000",
                    "1960-06-30T00:00:00.000000000",
                    "1960-07-31T00:00:00.000000000",
                    "1960-08-31T00:00:00.000000000",
                    "1960-09-30T00:00:00.000000000",
                    "1960-10-31T00:00:00.000000000",
                    "1960-11-30T00:00:00.000000000",
                    "1960-12-31T00:00:00.000000000"
                  ],
                  "xaxis": "x2",
                  "y": [
                    346.9735054505976,
                    393.8899267264978,
                    438.0567300123076,
                    431.3673753692179,
                    381.4713715029499,
                    333.4150103850786,
                    291.544581010748,
                    331.60757581837106,
                    338.94742354413745,
                    331.1569378381249,
                    384.1686436567089,
                    373.890988929261,
                    373.3635189763763,
                    423.65961172903565,
                    470.95726921295875,
                    463.5639938311715,
                    409.76782611063084,
                    357.9948431861923,
                    312.9064301878372,
                    355.7574349087877,
                    363.4829158572984,
                    354.98476183792394,
                    411.6460755627943,
                    400.4748680749087,
                    399.753532502155,
                    453.4292967315735,
                    503.85780841361,
                    495.7606122931251,
                    438.06428071831175,
                    382.57467598730614,
                    334.26827936492634,
                    379.90729399920417,
                    388.01840817045934,
                    378.81258583772285,
                    439.12350746887967,
                    427.0587472205565,
                    426.14354602793367,
                    483.1989817341113,
                    536.7583476142611,
                    527.9572307550787,
                    466.36073532599266,
                    407.15450878841995,
                    355.63012854201554,
                    404.0571530896207
                  ],
                  "yaxis": "y2"
                },
                {
                  "hovertemplate": "model=prophet<br>split=test<br>datetime=%{x}<br>values=%{y}<extra></extra>",
                  "legendgroup": "prophet",
                  "line": {
                    "color": "#EF553B",
                    "dash": "solid"
                  },
                  "marker": {
                    "symbol": "circle"
                  },
                  "mode": "lines",
                  "name": "prophet",
                  "orientation": "v",
                  "showlegend": false,
                  "type": "scatter",
                  "x": [
                    "1957-05-31T00:00:00.000000000",
                    "1957-06-30T00:00:00.000000000",
                    "1957-07-31T00:00:00.000000000",
                    "1957-08-31T00:00:00.000000000",
                    "1957-09-30T00:00:00.000000000",
                    "1957-10-31T00:00:00.000000000",
                    "1957-11-30T00:00:00.000000000",
                    "1957-12-31T00:00:00.000000000",
                    "1958-01-31T00:00:00.000000000",
                    "1958-02-28T00:00:00.000000000",
                    "1958-03-31T00:00:00.000000000",
                    "1958-04-30T00:00:00.000000000",
                    "1958-05-31T00:00:00.000000000",
                    "1958-06-30T00:00:00.000000000",
                    "1958-07-31T00:00:00.000000000",
                    "1958-08-31T00:00:00.000000000",
                    "1958-09-30T00:00:00.000000000",
                    "1958-10-31T00:00:00.000000000",
                    "1958-11-30T00:00:00.000000000",
                    "1958-12-31T00:00:00.000000000",
                    "1959-01-31T00:00:00.000000000",
                    "1959-02-28T00:00:00.000000000",
                    "1959-03-31T00:00:00.000000000",
                    "1959-04-30T00:00:00.000000000",
                    "1959-05-31T00:00:00.000000000",
                    "1959-06-30T00:00:00.000000000",
                    "1959-07-31T00:00:00.000000000",
                    "1959-08-31T00:00:00.000000000",
                    "1959-09-30T00:00:00.000000000",
                    "1959-10-31T00:00:00.000000000",
                    "1959-11-30T00:00:00.000000000",
                    "1959-12-31T00:00:00.000000000",
                    "1960-01-31T00:00:00.000000000",
                    "1960-02-29T00:00:00.000000000",
                    "1960-03-31T00:00:00.000000000",
                    "1960-04-30T00:00:00.000000000",
                    "1960-05-31T00:00:00.000000000",
                    "1960-06-30T00:00:00.000000000",
                    "1960-07-31T00:00:00.000000000",
                    "1960-08-31T00:00:00.000000000",
                    "1960-09-30T00:00:00.000000000",
                    "1960-10-31T00:00:00.000000000",
                    "1960-11-30T00:00:00.000000000",
                    "1960-12-31T00:00:00.000000000"
                  ],
                  "xaxis": "x2",
                  "y": [
                    353.3604620080639,
                    408.01507923894104,
                    453.5002173049517,
                    455.0941893215017,
                    399.0722041899491,
                    346.571885870039,
                    300.4151802179042,
                    346.95175223745883,
                    353.70734329332345,
                    352.025014137216,
                    418.51041784662726,
                    402.67574931528935,
                    402.1504535745942,
                    458.02605544197104,
                    521.5266487813053,
                    514.1121856373995,
                    456.18223580158065,
                    391.77025532948704,
                    336.4548868461018,
                    393.7909480762679,
                    403.55957801272945,
                    392.3950047875929,
                    476.87359796835256,
                    456.29959317682307,
                    457.7256474006552,
                    513.9466255835936,
                    600.030346439917,
                    580.5788730872277,
                    521.640545531474,
                    442.79549745709204,
                    376.7757158385351,
                    447.09679735078845,
                    460.5227023423508,
                    462.80261430289715,
                    533.5477323045193,
                    516.8807677800861,
                    510.8700022545061,
                    605.3461913161028,
                    661.4546309368238,
                    675.725374238397,
                    578.3142470222742,
                    501.50527020470577,
                    433.39920920656215,
                    499.27175272428667
                  ],
                  "yaxis": "y2"
                },
                {
                  "hovertemplate": "model=sarima<br>split=test<br>datetime=%{x}<br>values=%{y}<extra></extra>",
                  "legendgroup": "sarima",
                  "line": {
                    "color": "#00cc96",
                    "dash": "solid"
                  },
                  "marker": {
                    "symbol": "circle"
                  },
                  "mode": "lines",
                  "name": "sarima",
                  "orientation": "v",
                  "showlegend": false,
                  "type": "scatter",
                  "x": [
                    "1957-05-31T00:00:00.000000000",
                    "1957-06-30T00:00:00.000000000",
                    "1957-07-31T00:00:00.000000000",
                    "1957-08-31T00:00:00.000000000",
                    "1957-09-30T00:00:00.000000000",
                    "1957-10-31T00:00:00.000000000",
                    "1957-11-30T00:00:00.000000000",
                    "1957-12-31T00:00:00.000000000",
                    "1958-01-31T00:00:00.000000000",
                    "1958-02-28T00:00:00.000000000",
                    "1958-03-31T00:00:00.000000000",
                    "1958-04-30T00:00:00.000000000",
                    "1958-05-31T00:00:00.000000000",
                    "1958-06-30T00:00:00.000000000",
                    "1958-07-31T00:00:00.000000000",
                    "1958-08-31T00:00:00.000000000",
                    "1958-09-30T00:00:00.000000000",
                    "1958-10-31T00:00:00.000000000",
                    "1958-11-30T00:00:00.000000000",
                    "1958-12-31T00:00:00.000000000",
                    "1959-01-31T00:00:00.000000000",
                    "1959-02-28T00:00:00.000000000",
                    "1959-03-31T00:00:00.000000000",
                    "1959-04-30T00:00:00.000000000",
                    "1959-05-31T00:00:00.000000000",
                    "1959-06-30T00:00:00.000000000",
                    "1959-07-31T00:00:00.000000000",
                    "1959-08-31T00:00:00.000000000",
                    "1959-09-30T00:00:00.000000000",
                    "1959-10-31T00:00:00.000000000",
                    "1959-11-30T00:00:00.000000000",
                    "1959-12-31T00:00:00.000000000",
                    "1960-01-31T00:00:00.000000000",
                    "1960-02-29T00:00:00.000000000",
                    "1960-03-31T00:00:00.000000000",
                    "1960-04-30T00:00:00.000000000",
                    "1960-05-31T00:00:00.000000000",
                    "1960-06-30T00:00:00.000000000",
                    "1960-07-31T00:00:00.000000000",
                    "1960-08-31T00:00:00.000000000",
                    "1960-09-30T00:00:00.000000000",
                    "1960-10-31T00:00:00.000000000",
                    "1960-11-30T00:00:00.000000000",
                    "1960-12-31T00:00:00.000000000"
                  ],
                  "xaxis": "x2",
                  "y": [
                    351.4576739515267,
                    404.5978119857047,
                    452.697355342265,
                    444.5262880951,
                    393.5922750384614,
                    344.2663918617497,
                    302.36142081333765,
                    344.92808556108554,
                    354.6677013692989,
                    343.3815823595664,
                    401.59828531380174,
                    394.0289629430248,
                    397.6698087635103,
                    457.797187096506,
                    512.2211977978732,
                    502.9757409750353,
                    445.3445644977643,
                    389.532966163794,
                    342.1180338457681,
                    390.2816640195455,
                    401.3019132357185,
                    388.5318156651599,
                    454.4032614935013,
                    445.8386712092346,
                    449.9582411275445,
                    517.9915914149292,
                    579.5716550522392,
                    569.1105403315621,
                    503.90161013277697,
                    440.7515090502867,
                    387.1021268773291,
                    441.5986509828296,
                    454.0679203234278,
                    439.618720220101,
                    514.1514085265322,
                    504.46068548102573,
                    509.1219255193587,
                    586.1007807372323,
                    655.7778256427059,
                    643.9412097462537,
                    570.1581492989792,
                    498.70462734704745,
                    438.0010458627432,
                    499.66315747820727
                  ],
                  "yaxis": "y2"
                },
                {
                  "hovertemplate": "model=historical<br>split=test<br>datetime=%{x}<br>values=%{y}<extra></extra>",
                  "legendgroup": "historical",
                  "line": {
                    "color": "#ab63fa",
                    "dash": "solid"
                  },
                  "marker": {
                    "symbol": "circle"
                  },
                  "mode": "lines",
                  "name": "historical",
                  "orientation": "v",
                  "showlegend": false,
                  "type": "scatter",
                  "x": [
                    "1957-05-31T00:00:00.000000000",
                    "1957-06-30T00:00:00.000000000",
                    "1957-07-31T00:00:00.000000000",
                    "1957-08-31T00:00:00.000000000",
                    "1957-09-30T00:00:00.000000000",
                    "1957-10-31T00:00:00.000000000",
                    "1957-11-30T00:00:00.000000000",
                    "1957-12-31T00:00:00.000000000",
                    "1958-01-31T00:00:00.000000000",
                    "1958-02-28T00:00:00.000000000",
                    "1958-03-31T00:00:00.000000000",
                    "1958-04-30T00:00:00.000000000",
                    "1958-05-31T00:00:00.000000000",
                    "1958-06-30T00:00:00.000000000",
                    "1958-07-31T00:00:00.000000000",
                    "1958-08-31T00:00:00.000000000",
                    "1958-09-30T00:00:00.000000000",
                    "1958-10-31T00:00:00.000000000",
                    "1958-11-30T00:00:00.000000000",
                    "1958-12-31T00:00:00.000000000",
                    "1959-01-31T00:00:00.000000000",
                    "1959-02-28T00:00:00.000000000",
                    "1959-03-31T00:00:00.000000000",
                    "1959-04-30T00:00:00.000000000",
                    "1959-05-31T00:00:00.000000000",
                    "1959-06-30T00:00:00.000000000",
                    "1959-07-31T00:00:00.000000000",
                    "1959-08-31T00:00:00.000000000",
                    "1959-09-30T00:00:00.000000000",
                    "1959-10-31T00:00:00.000000000",
                    "1959-11-30T00:00:00.000000000",
                    "1959-12-31T00:00:00.000000000",
                    "1960-01-31T00:00:00.000000000",
                    "1960-02-29T00:00:00.000000000",
                    "1960-03-31T00:00:00.000000000",
                    "1960-04-30T00:00:00.000000000",
                    "1960-05-31T00:00:00.000000000",
                    "1960-06-30T00:00:00.000000000",
                    "1960-07-31T00:00:00.000000000",
                    "1960-08-31T00:00:00.000000000",
                    "1960-09-30T00:00:00.000000000",
                    "1960-10-31T00:00:00.000000000",
                    "1960-11-30T00:00:00.000000000",
                    "1960-12-31T00:00:00.000000000"
                  ],
                  "xaxis": "x2",
                  "y": [
                    355,
                    422,
                    465,
                    467,
                    404,
                    347,
                    305,
                    336,
                    340,
                    318,
                    362,
                    348,
                    363,
                    435,
                    491,
                    505,
                    404,
                    359,
                    310,
                    337,
                    360,
                    342,
                    406,
                    396,
                    420,
                    472,
                    548,
                    559,
                    463,
                    407,
                    362,
                    405,
                    417,
                    391,
                    419,
                    461,
                    472,
                    535,
                    622,
                    606,
                    508,
                    461,
                    390,
                    432
                  ],
                  "yaxis": "y2"
                }
              ],
              "layout": {
                "annotations": [
                  {
                    "font": {},
                    "showarrow": false,
                    "text": "split=train",
                    "x": 0.245,
                    "xanchor": "center",
                    "xref": "paper",
                    "y": 1,
                    "yanchor": "bottom",
                    "yref": "paper"
                  },
                  {
                    "font": {},
                    "showarrow": false,
                    "text": "split=test",
                    "x": 0.755,
                    "xanchor": "center",
                    "xref": "paper",
                    "y": 1,
                    "yanchor": "bottom",
                    "yref": "paper"
                  }
                ],
                "legend": {
                  "title": {
                    "text": "model"
                  },
                  "tracegroupgap": 0
                },
                "margin": {
                  "t": 60
                },
                "template": {
                  "data": {
                    "bar": [
                      {
                        "error_x": {
                          "color": "#f2f5fa"
                        },
                        "error_y": {
                          "color": "#f2f5fa"
                        },
                        "marker": {
                          "line": {
                            "color": "rgb(17,17,17)",
                            "width": 0.5
                          },
                          "pattern": {
                            "fillmode": "overlay",
                            "size": 10,
                            "solidity": 0.2
                          }
                        },
                        "type": "bar"
                      }
                    ],
                    "barpolar": [
                      {
                        "marker": {
                          "line": {
                            "color": "rgb(17,17,17)",
                            "width": 0.5
                          },
                          "pattern": {
                            "fillmode": "overlay",
                            "size": 10,
                            "solidity": 0.2
                          }
                        },
                        "type": "barpolar"
                      }
                    ],
                    "carpet": [
                      {
                        "aaxis": {
                          "endlinecolor": "#A2B1C6",
                          "gridcolor": "#506784",
                          "linecolor": "#506784",
                          "minorgridcolor": "#506784",
                          "startlinecolor": "#A2B1C6"
                        },
                        "baxis": {
                          "endlinecolor": "#A2B1C6",
                          "gridcolor": "#506784",
                          "linecolor": "#506784",
                          "minorgridcolor": "#506784",
                          "startlinecolor": "#A2B1C6"
                        },
                        "type": "carpet"
                      }
                    ],
                    "choropleth": [
                      {
                        "colorbar": {
                          "outlinewidth": 0,
                          "ticks": ""
                        },
                        "type": "choropleth"
                      }
                    ],
                    "contour": [
                      {
                        "colorbar": {
                          "outlinewidth": 0,
                          "ticks": ""
                        },
                        "colorscale": [
                          [
                            0,
                            "#0d0887"
                          ],
                          [
                            0.1111111111111111,
                            "#46039f"
                          ],
                          [
                            0.2222222222222222,
                            "#7201a8"
                          ],
                          [
                            0.3333333333333333,
                            "#9c179e"
                          ],
                          [
                            0.4444444444444444,
                            "#bd3786"
                          ],
                          [
                            0.5555555555555556,
                            "#d8576b"
                          ],
                          [
                            0.6666666666666666,
                            "#ed7953"
                          ],
                          [
                            0.7777777777777778,
                            "#fb9f3a"
                          ],
                          [
                            0.8888888888888888,
                            "#fdca26"
                          ],
                          [
                            1,
                            "#f0f921"
                          ]
                        ],
                        "type": "contour"
                      }
                    ],
                    "contourcarpet": [
                      {
                        "colorbar": {
                          "outlinewidth": 0,
                          "ticks": ""
                        },
                        "type": "contourcarpet"
                      }
                    ],
                    "heatmap": [
                      {
                        "colorbar": {
                          "outlinewidth": 0,
                          "ticks": ""
                        },
                        "colorscale": [
                          [
                            0,
                            "#0d0887"
                          ],
                          [
                            0.1111111111111111,
                            "#46039f"
                          ],
                          [
                            0.2222222222222222,
                            "#7201a8"
                          ],
                          [
                            0.3333333333333333,
                            "#9c179e"
                          ],
                          [
                            0.4444444444444444,
                            "#bd3786"
                          ],
                          [
                            0.5555555555555556,
                            "#d8576b"
                          ],
                          [
                            0.6666666666666666,
                            "#ed7953"
                          ],
                          [
                            0.7777777777777778,
                            "#fb9f3a"
                          ],
                          [
                            0.8888888888888888,
                            "#fdca26"
                          ],
                          [
                            1,
                            "#f0f921"
                          ]
                        ],
                        "type": "heatmap"
                      }
                    ],
                    "histogram": [
                      {
                        "marker": {
                          "pattern": {
                            "fillmode": "overlay",
                            "size": 10,
                            "solidity": 0.2
                          }
                        },
                        "type": "histogram"
                      }
                    ],
                    "histogram2d": [
                      {
                        "colorbar": {
                          "outlinewidth": 0,
                          "ticks": ""
                        },
                        "colorscale": [
                          [
                            0,
                            "#0d0887"
                          ],
                          [
                            0.1111111111111111,
                            "#46039f"
                          ],
                          [
                            0.2222222222222222,
                            "#7201a8"
                          ],
                          [
                            0.3333333333333333,
                            "#9c179e"
                          ],
                          [
                            0.4444444444444444,
                            "#bd3786"
                          ],
                          [
                            0.5555555555555556,
                            "#d8576b"
                          ],
                          [
                            0.6666666666666666,
                            "#ed7953"
                          ],
                          [
                            0.7777777777777778,
                            "#fb9f3a"
                          ],
                          [
                            0.8888888888888888,
                            "#fdca26"
                          ],
                          [
                            1,
                            "#f0f921"
                          ]
                        ],
                        "type": "histogram2d"
                      }
                    ],
                    "histogram2dcontour": [
                      {
                        "colorbar": {
                          "outlinewidth": 0,
                          "ticks": ""
                        },
                        "colorscale": [
                          [
                            0,
                            "#0d0887"
                          ],
                          [
                            0.1111111111111111,
                            "#46039f"
                          ],
                          [
                            0.2222222222222222,
                            "#7201a8"
                          ],
                          [
                            0.3333333333333333,
                            "#9c179e"
                          ],
                          [
                            0.4444444444444444,
                            "#bd3786"
                          ],
                          [
                            0.5555555555555556,
                            "#d8576b"
                          ],
                          [
                            0.6666666666666666,
                            "#ed7953"
                          ],
                          [
                            0.7777777777777778,
                            "#fb9f3a"
                          ],
                          [
                            0.8888888888888888,
                            "#fdca26"
                          ],
                          [
                            1,
                            "#f0f921"
                          ]
                        ],
                        "type": "histogram2dcontour"
                      }
                    ],
                    "mesh3d": [
                      {
                        "colorbar": {
                          "outlinewidth": 0,
                          "ticks": ""
                        },
                        "type": "mesh3d"
                      }
                    ],
                    "parcoords": [
                      {
                        "line": {
                          "colorbar": {
                            "outlinewidth": 0,
                            "ticks": ""
                          }
                        },
                        "type": "parcoords"
                      }
                    ],
                    "pie": [
                      {
                        "automargin": true,
                        "type": "pie"
                      }
                    ],
                    "scatter": [
                      {
                        "marker": {
                          "line": {
                            "color": "#283442"
                          }
                        },
                        "type": "scatter"
                      }
                    ],
                    "scatter3d": [
                      {
                        "line": {
                          "colorbar": {
                            "outlinewidth": 0,
                            "ticks": ""
                          }
                        },
                        "marker": {
                          "colorbar": {
                            "outlinewidth": 0,
                            "ticks": ""
                          }
                        },
                        "type": "scatter3d"
                      }
                    ],
                    "scattercarpet": [
                      {
                        "marker": {
                          "colorbar": {
                            "outlinewidth": 0,
                            "ticks": ""
                          }
                        },
                        "type": "scattercarpet"
                      }
                    ],
                    "scattergeo": [
                      {
                        "marker": {
                          "colorbar": {
                            "outlinewidth": 0,
                            "ticks": ""
                          }
                        },
                        "type": "scattergeo"
                      }
                    ],
                    "scattergl": [
                      {
                        "marker": {
                          "line": {
                            "color": "#283442"
                          }
                        },
                        "type": "scattergl"
                      }
                    ],
                    "scattermap": [
                      {
                        "marker": {
                          "colorbar": {
                            "outlinewidth": 0,
                            "ticks": ""
                          }
                        },
                        "type": "scattermap"
                      }
                    ],
                    "scattermapbox": [
                      {
                        "marker": {
                          "colorbar": {
                            "outlinewidth": 0,
                            "ticks": ""
                          }
                        },
                        "type": "scattermapbox"
                      }
                    ],
                    "scatterpolar": [
                      {
                        "marker": {
                          "colorbar": {
                            "outlinewidth": 0,
                            "ticks": ""
                          }
                        },
                        "type": "scatterpolar"
                      }
                    ],
                    "scatterpolargl": [
                      {
                        "marker": {
                          "colorbar": {
                            "outlinewidth": 0,
                            "ticks": ""
                          }
                        },
                        "type": "scatterpolargl"
                      }
                    ],
                    "scatterternary": [
                      {
                        "marker": {
                          "colorbar": {
                            "outlinewidth": 0,
                            "ticks": ""
                          }
                        },
                        "type": "scatterternary"
                      }
                    ],
                    "surface": [
                      {
                        "colorbar": {
                          "outlinewidth": 0,
                          "ticks": ""
                        },
                        "colorscale": [
                          [
                            0,
                            "#0d0887"
                          ],
                          [
                            0.1111111111111111,
                            "#46039f"
                          ],
                          [
                            0.2222222222222222,
                            "#7201a8"
                          ],
                          [
                            0.3333333333333333,
                            "#9c179e"
                          ],
                          [
                            0.4444444444444444,
                            "#bd3786"
                          ],
                          [
                            0.5555555555555556,
                            "#d8576b"
                          ],
                          [
                            0.6666666666666666,
                            "#ed7953"
                          ],
                          [
                            0.7777777777777778,
                            "#fb9f3a"
                          ],
                          [
                            0.8888888888888888,
                            "#fdca26"
                          ],
                          [
                            1,
                            "#f0f921"
                          ]
                        ],
                        "type": "surface"
                      }
                    ],
                    "table": [
                      {
                        "cells": {
                          "fill": {
                            "color": "#506784"
                          },
                          "line": {
                            "color": "rgb(17,17,17)"
                          }
                        },
                        "header": {
                          "fill": {
                            "color": "#2a3f5f"
                          },
                          "line": {
                            "color": "rgb(17,17,17)"
                          }
                        },
                        "type": "table"
                      }
                    ]
                  },
                  "layout": {
                    "annotationdefaults": {
                      "arrowcolor": "#f2f5fa",
                      "arrowhead": 0,
                      "arrowwidth": 1
                    },
                    "autosize": false,
                    "autotypenumbers": "strict",
                    "coloraxis": {
                      "colorbar": {
                        "outlinewidth": 0,
                        "ticks": ""
                      }
                    },
                    "colorscale": {
                      "diverging": [
                        [
                          0,
                          "#8e0152"
                        ],
                        [
                          0.1,
                          "#c51b7d"
                        ],
                        [
                          0.2,
                          "#de77ae"
                        ],
                        [
                          0.3,
                          "#f1b6da"
                        ],
                        [
                          0.4,
                          "#fde0ef"
                        ],
                        [
                          0.5,
                          "#f7f7f7"
                        ],
                        [
                          0.6,
                          "#e6f5d0"
                        ],
                        [
                          0.7,
                          "#b8e186"
                        ],
                        [
                          0.8,
                          "#7fbc41"
                        ],
                        [
                          0.9,
                          "#4d9221"
                        ],
                        [
                          1,
                          "#276419"
                        ]
                      ],
                      "sequential": [
                        [
                          0,
                          "#0d0887"
                        ],
                        [
                          0.1111111111111111,
                          "#46039f"
                        ],
                        [
                          0.2222222222222222,
                          "#7201a8"
                        ],
                        [
                          0.3333333333333333,
                          "#9c179e"
                        ],
                        [
                          0.4444444444444444,
                          "#bd3786"
                        ],
                        [
                          0.5555555555555556,
                          "#d8576b"
                        ],
                        [
                          0.6666666666666666,
                          "#ed7953"
                        ],
                        [
                          0.7777777777777778,
                          "#fb9f3a"
                        ],
                        [
                          0.8888888888888888,
                          "#fdca26"
                        ],
                        [
                          1,
                          "#f0f921"
                        ]
                      ],
                      "sequentialminus": [
                        [
                          0,
                          "#0d0887"
                        ],
                        [
                          0.1111111111111111,
                          "#46039f"
                        ],
                        [
                          0.2222222222222222,
                          "#7201a8"
                        ],
                        [
                          0.3333333333333333,
                          "#9c179e"
                        ],
                        [
                          0.4444444444444444,
                          "#bd3786"
                        ],
                        [
                          0.5555555555555556,
                          "#d8576b"
                        ],
                        [
                          0.6666666666666666,
                          "#ed7953"
                        ],
                        [
                          0.7777777777777778,
                          "#fb9f3a"
                        ],
                        [
                          0.8888888888888888,
                          "#fdca26"
                        ],
                        [
                          1,
                          "#f0f921"
                        ]
                      ]
                    },
                    "colorway": [
                      "#636efa",
                      "#EF553B",
                      "#00cc96",
                      "#ab63fa",
                      "#FFA15A",
                      "#19d3f3",
                      "#FF6692",
                      "#B6E880",
                      "#FF97FF",
                      "#FECB52"
                    ],
                    "font": {
                      "color": "#f2f5fa"
                    },
                    "geo": {
                      "bgcolor": "rgb(17,17,17)",
                      "lakecolor": "rgb(17,17,17)",
                      "landcolor": "rgb(17,17,17)",
                      "showlakes": true,
                      "showland": true,
                      "subunitcolor": "#506784"
                    },
                    "height": 500,
                    "hoverlabel": {
                      "align": "left"
                    },
                    "hovermode": "closest",
                    "mapbox": {
                      "style": "dark"
                    },
                    "paper_bgcolor": "rgb(17,17,17)",
                    "plot_bgcolor": "rgb(17,17,17)",
                    "polar": {
                      "angularaxis": {
                        "gridcolor": "#506784",
                        "linecolor": "#506784",
                        "ticks": ""
                      },
                      "bgcolor": "rgb(17,17,17)",
                      "radialaxis": {
                        "gridcolor": "#506784",
                        "linecolor": "#506784",
                        "ticks": ""
                      }
                    },
                    "scene": {
                      "xaxis": {
                        "backgroundcolor": "rgb(17,17,17)",
                        "gridcolor": "#506784",
                        "gridwidth": 2,
                        "linecolor": "#506784",
                        "showbackground": true,
                        "ticks": "",
                        "zerolinecolor": "#C8D4E3"
                      },
                      "yaxis": {
                        "backgroundcolor": "rgb(17,17,17)",
                        "gridcolor": "#506784",
                        "gridwidth": 2,
                        "linecolor": "#506784",
                        "showbackground": true,
                        "ticks": "",
                        "zerolinecolor": "#C8D4E3"
                      },
                      "zaxis": {
                        "backgroundcolor": "rgb(17,17,17)",
                        "gridcolor": "#506784",
                        "gridwidth": 2,
                        "linecolor": "#506784",
                        "showbackground": true,
                        "ticks": "",
                        "zerolinecolor": "#C8D4E3"
                      }
                    },
                    "shapedefaults": {
                      "line": {
                        "color": "#f2f5fa"
                      }
                    },
                    "showlegend": true,
                    "sliderdefaults": {
                      "bgcolor": "#C8D4E3",
                      "bordercolor": "rgb(17,17,17)",
                      "borderwidth": 1,
                      "tickwidth": 0
                    },
                    "ternary": {
                      "aaxis": {
                        "gridcolor": "#506784",
                        "linecolor": "#506784",
                        "ticks": ""
                      },
                      "baxis": {
                        "gridcolor": "#506784",
                        "linecolor": "#506784",
                        "ticks": ""
                      },
                      "bgcolor": "rgb(17,17,17)",
                      "caxis": {
                        "gridcolor": "#506784",
                        "linecolor": "#506784",
                        "ticks": ""
                      }
                    },
                    "title": {
                      "x": 0.05
                    },
                    "updatemenudefaults": {
                      "bgcolor": "#506784",
                      "borderwidth": 0
                    },
                    "width": 1000,
                    "xaxis": {
                      "automargin": true,
                      "gridcolor": "#283442",
                      "linecolor": "#506784",
                      "ticks": "",
                      "title": {
                        "standoff": 15
                      },
                      "zerolinecolor": "#283442",
                      "zerolinewidth": 2
                    },
                    "yaxis": {
                      "automargin": true,
                      "gridcolor": "#283442",
                      "linecolor": "#506784",
                      "ticks": "",
                      "title": {
                        "standoff": 15
                      },
                      "zerolinecolor": "#283442",
                      "zerolinewidth": 2
                    }
                  }
                },
                "xaxis": {
                  "anchor": "y",
                  "domain": [
                    0,
                    0.49
                  ],
                  "title": {
                    "text": "datetime"
                  }
                },
                "xaxis2": {
                  "anchor": "y2",
                  "domain": [
                    0.51,
                    1
                  ],
                  "title": {
                    "text": "datetime"
                  }
                },
                "yaxis": {
                  "anchor": "x",
                  "domain": [
                    0,
                    1
                  ],
                  "title": {
                    "text": "values"
                  }
                },
                "yaxis2": {
                  "anchor": "x2",
                  "domain": [
                    0,
                    1
                  ],
                  "matches": "y",
                  "showticklabels": false
                }
              }
            }
          },
          "metadata": {},
          "output_type": "display_data"
        }
      ],
      "source": [
        "import plotly.express as px\n",
        "\n",
        "fig = px.line(\n",
        "    data_frame=df_combined,\n",
        "    x='datetime',\n",
        "    y='values',\n",
        "    color='model',\n",
        "    facet_col='split',\n",
        "    category_orders={'split': ['train', 'test']}\n",
        ")\n",
        "\n",
        "fig.update_xaxes(matches=None)"
      ]
    },
    {
      "cell_type": "markdown",
      "id": "92247751",
      "metadata": {},
      "source": [
        "| Objetivo                                    | Confía más en... | Justificación                                                   |\n",
        "| ------------------------------------------- | ---------------- | --------------------------------------------------------------- |\n",
        "| **Forecast inmediato (pocos pasos)**        | Test split       | Optimizas el rendimiento empírico                               |\n",
        "| **Modelo estable, reusable, interpretable** | Diagnostics      | Te aseguras que el modelo captura bien la estructura subyacente |\n",
        "| **Forecast multistep largo**                | Diagnostics      | Modelos mal especificados se degradan con el horizonte          |\n"
      ]
    },
    {
      "cell_type": "markdown",
      "id": "4d146bc9",
      "metadata": {},
      "source": [
        "Buena pregunta. **No, no tiene sentido asegurar la calidad predictiva de un modelo basándote solo en los errores in-sample (residuos sobre el train)**. Pero **sí tiene sentido analizarlos para validar la estructura del modelo**.\n",
        "\n",
        "---\n",
        "\n",
        "### 🔍 Diferenciemos:\n",
        "\n",
        "#### ✅ **Usar los residuos in-sample tiene sentido para:**\n",
        "\n",
        "* Verificar que el modelo esté bien especificado (sin autocorrelación, varianza constante).\n",
        "* Asegurarte de que no hay patrones no explicados.\n",
        "* Validar que los supuestos del modelo se cumplen.\n",
        "\n",
        "#### ❌ **Usar los residuos in-sample para reportar error de predicción es engañoso:**\n",
        "\n",
        "* Estás midiendo el ajuste, no la capacidad de generalización.\n",
        "* Es un error común que da modelos con bajo error in-sample pero que fallan fuera de muestra (overfitting).\n",
        "\n",
        "---\n",
        "\n",
        "### 📌 Ejemplo concreto:\n",
        "\n",
        "* Un `ARIMA(12,1,1)` puede tener residuos in-sample muy pequeños.\n",
        "* Pero si el modelo está sobreajustado o no generaliza, su error out-of-sample será alto.\n",
        "* Solo evaluando el RMSE en el test set puedes confirmar su poder predictivo.\n",
        "\n",
        "---\n",
        "\n",
        "### ✅ Conclusión clara:\n",
        "\n",
        "> **Diagnósticos in-sample te dicen si el modelo tiene sentido. Error out-of-sample te dice si sirve.**\n",
        "\n",
        "¿Quieres una visualización clara que muestre ambos lados en una notebook o clase?"
      ]
    }
  ],
  "metadata": {
    "kernelspec": {
      "display_name": "time-series",
      "language": "python",
      "name": "python3"
    },
    "language_info": {
      "codemirror_mode": {
        "name": "ipython",
        "version": 3
      },
      "file_extension": ".py",
      "mimetype": "text/x-python",
      "name": "python",
      "nbconvert_exporter": "python",
      "pygments_lexer": "ipython3",
      "version": "3.12.10"
    },
    "papermill": {
      "default_parameters": {},
      "duration": 4.209925,
      "end_time": "2024-05-29T22:26:25.733318",
      "environment_variables": {},
      "exception": null,
      "input_path": "/Users/sota/Library/CloudStorage/Dropbox/2 Business/1 Datons/2 Areas/Courses/22 TS/solutions-new/notebooks/50_Model Evaluation/2_Split/1.ipynb",
      "output_path": "/Users/sota/Library/CloudStorage/Dropbox/2 Business/1 Datons/2 Areas/Courses/22 TS/solutions-new/notebooks/50_Model Evaluation/2_Split/1.ipynb",
      "parameters": {},
      "start_time": "2024-05-29T22:26:21.523393",
      "version": "2.5.0"
    }
  },
  "nbformat": 4,
  "nbformat_minor": 5
}
